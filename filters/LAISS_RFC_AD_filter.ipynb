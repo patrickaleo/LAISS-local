{
 "cells": [
  {
   "cell_type": "code",
   "execution_count": 12,
   "id": "599bcfa4-6e99-45c8-99c9-0af75b6c0962",
   "metadata": {},
   "outputs": [
    {
     "data": {
      "text/plain": [
       "'3.9.16'"
      ]
     },
     "execution_count": 12,
     "metadata": {},
     "output_type": "execute_result"
    }
   ],
   "source": [
    "from platform import python_version\n",
    "python_version()"
   ]
  },
  {
   "cell_type": "code",
   "execution_count": 13,
   "id": "3f5ce9a4-0f8a-4e31-ba50-772e584f9585",
   "metadata": {},
   "outputs": [
    {
     "name": "stdout",
     "output_type": "stream",
     "text": [
      "/bin/bash: pip: command not found\n"
     ]
    }
   ],
   "source": [
    "!pip list"
   ]
  },
  {
   "cell_type": "code",
   "execution_count": 11,
   "id": "e6ed1018-8cbf-4dd9-b8a5-0b976849eeba",
   "metadata": {},
   "outputs": [
    {
     "data": {
      "text/plain": [
       "'5.2.1'"
      ]
     },
     "execution_count": 11,
     "metadata": {},
     "output_type": "execute_result"
    }
   ],
   "source": [
    "import astropy\n",
    "astropy.__version__"
   ]
  },
  {
   "cell_type": "code",
   "execution_count": 10,
   "id": "c7b76a8f-d4df-4087-b98b-94d2c7dc4d7a",
   "metadata": {},
   "outputs": [
    {
     "data": {
      "text/html": [
       "<div><i>Table length=867</i>\n",
       "<table id=\"table140131206435936\" class=\"table-striped table-bordered table-condensed\">\n",
       "<thead><tr><th>No.</th><th>Object Name</th><th>RA</th><th>DEC</th><th>Type</th><th>Velocity</th><th>Redshift</th><th>Redshift Flag</th><th>Magnitude and Filter</th><th>Separation</th><th>References</th><th>Notes</th><th>Photometry Points</th><th>Positions</th><th>Redshift Points</th><th>Diameter Points</th><th>Associations</th></tr></thead>\n",
       "<thead><tr><th></th><th></th><th>degrees</th><th>degrees</th><th></th><th>km / s</th><th></th><th></th><th></th><th>arcmin</th><th></th><th></th><th></th><th></th><th></th><th></th><th></th></tr></thead>\n",
       "<thead><tr><th>int32</th><th>str30</th><th>float64</th><th>float64</th><th>object</th><th>float64</th><th>float64</th><th>object</th><th>object</th><th>float64</th><th>int32</th><th>int32</th><th>int32</th><th>int32</th><th>int32</th><th>int32</th><th>int32</th></tr></thead>\n",
       "<tr><td>1</td><td>WISEA J122855.03+020309.1</td><td>187.22917</td><td>2.05222</td><td>*</td><td>--</td><td>--</td><td></td><td>24.0R</td><td>2.923</td><td>1</td><td>0</td><td>24</td><td>3</td><td>0</td><td>0</td><td>0</td></tr>\n",
       "<tr><td>2</td><td>SSTSL2 J122855.02+020313.7</td><td>187.22925</td><td>2.05381</td><td>IrS</td><td>--</td><td>--</td><td></td><td></td><td>2.919</td><td>0</td><td>0</td><td>8</td><td>1</td><td>0</td><td>0</td><td>0</td></tr>\n",
       "<tr><td>3</td><td>SSTSL2 J122855.23+020341.5</td><td>187.23013</td><td>2.06154</td><td>IrS</td><td>--</td><td>--</td><td></td><td></td><td>2.917</td><td>0</td><td>0</td><td>7</td><td>1</td><td>0</td><td>0</td><td>0</td></tr>\n",
       "<tr><td>4</td><td>SSTSL2 J122855.36+020346.9</td><td>187.23068</td><td>2.06304</td><td>IrS</td><td>--</td><td>--</td><td></td><td></td><td>2.904</td><td>0</td><td>0</td><td>7</td><td>1</td><td>0</td><td>0</td><td>0</td></tr>\n",
       "<tr><td>5</td><td>SSTSL2 J122855.64+020239.1</td><td>187.23187</td><td>2.04421</td><td>IrS</td><td>--</td><td>--</td><td></td><td></td><td>2.804</td><td>0</td><td>0</td><td>8</td><td>1</td><td>0</td><td>0</td><td>0</td></tr>\n",
       "<tr><td>6</td><td>SSTSL2 J122855.66+020407.1</td><td>187.23194</td><td>2.06864</td><td>IrS</td><td>--</td><td>--</td><td></td><td></td><td>2.924</td><td>0</td><td>0</td><td>8</td><td>1</td><td>0</td><td>0</td><td>0</td></tr>\n",
       "<tr><td>7</td><td>SSTSL2 J122855.73+020232.2</td><td>187.23208</td><td>2.04222</td><td>*</td><td>--</td><td>--</td><td></td><td>23.2R</td><td>2.815</td><td>1</td><td>0</td><td>10</td><td>2</td><td>0</td><td>0</td><td>0</td></tr>\n",
       "<tr><td>8</td><td>SSTSL2 J122855.75+020245.2</td><td>187.23233</td><td>2.0459</td><td>IrS</td><td>--</td><td>--</td><td></td><td></td><td>2.761</td><td>0</td><td>0</td><td>8</td><td>1</td><td>0</td><td>0</td><td>0</td></tr>\n",
       "<tr><td>9</td><td>SSTSL2 J122855.86+020333.4</td><td>187.2325</td><td>2.05917</td><td>*</td><td>--</td><td>--</td><td></td><td>23.6R</td><td>2.753</td><td>1</td><td>0</td><td>10</td><td>2</td><td>0</td><td>0</td><td>0</td></tr>\n",
       "<tr><td>...</td><td>...</td><td>...</td><td>...</td><td>...</td><td>...</td><td>...</td><td>...</td><td>...</td><td>...</td><td>...</td><td>...</td><td>...</td><td>...</td><td>...</td><td>...</td><td>...</td></tr>\n",
       "<tr><td>858</td><td>SSTSL2 J122917.56+020216.7</td><td>187.32321</td><td>2.03799</td><td>IrS</td><td>--</td><td>--</td><td></td><td></td><td>2.85</td><td>0</td><td>0</td><td>8</td><td>1</td><td>0</td><td>0</td><td>0</td></tr>\n",
       "<tr><td>859</td><td>SSTSL2 J122917.69+020335.2</td><td>187.32373</td><td>2.05981</td><td>IrS</td><td>--</td><td>--</td><td></td><td></td><td>2.783</td><td>0</td><td>0</td><td>8</td><td>1</td><td>0</td><td>0</td><td>0</td></tr>\n",
       "<tr><td>860</td><td>WISEA J122917.76+020415.3</td><td>187.32375</td><td>2.07083</td><td>*</td><td>--</td><td>--</td><td></td><td>22.8R</td><td>2.963</td><td>1</td><td>0</td><td>24</td><td>3</td><td>0</td><td>0</td><td>0</td></tr>\n",
       "<tr><td>861</td><td>SDSS J122917.72+020356.8</td><td>187.32385</td><td>2.06579</td><td>G</td><td>--</td><td>--</td><td></td><td>21.9g</td><td>2.869</td><td>1</td><td>0</td><td>25</td><td>2</td><td>0</td><td>3</td><td>0</td></tr>\n",
       "<tr><td>862</td><td>SSTSL2 J122917.87+020349.7</td><td>187.3245</td><td>2.06381</td><td>IrS</td><td>--</td><td>--</td><td></td><td></td><td>2.876</td><td>0</td><td>0</td><td>8</td><td>1</td><td>0</td><td>0</td><td>0</td></tr>\n",
       "<tr><td>863</td><td>SSTSL2 J122918.04+020334.2</td><td>187.32519</td><td>2.0595</td><td>IrS</td><td>--</td><td>--</td><td></td><td></td><td>2.866</td><td>0</td><td>0</td><td>8</td><td>1</td><td>0</td><td>0</td><td>0</td></tr>\n",
       "<tr><td>864</td><td>SSTSL2 J122918.24+020330.7</td><td>187.326</td><td>2.05854</td><td>IrS</td><td>--</td><td>--</td><td></td><td></td><td>2.907</td><td>0</td><td>0</td><td>8</td><td>1</td><td>0</td><td>0</td><td>0</td></tr>\n",
       "<tr><td>865</td><td>SDSS J122918.38+020323.4</td><td>187.3266</td><td>2.05652</td><td>G</td><td>--</td><td>--</td><td></td><td>21.8g</td><td>2.93</td><td>1</td><td>0</td><td>25</td><td>2</td><td>0</td><td>4</td><td>0</td></tr>\n",
       "<tr><td>866</td><td>SSTSL2 J122918.52+020338.9</td><td>187.32718</td><td>2.06083</td><td>IrS</td><td>--</td><td>--</td><td></td><td></td><td>2.997</td><td>0</td><td>0</td><td>8</td><td>1</td><td>0</td><td>0</td><td>0</td></tr>\n",
       "<tr><td>867</td><td>SSTSL2 J122918.64+020326.7</td><td>187.32767</td><td>2.05742</td><td>IrS</td><td>--</td><td>--</td><td></td><td></td><td>2.999</td><td>0</td><td>0</td><td>8</td><td>1</td><td>0</td><td>0</td><td>0</td></tr>\n",
       "</table></div>"
      ],
      "text/plain": [
       "<Table length=867>\n",
       " No.         Object Name             RA     ... Diameter Points Associations\n",
       "                                  degrees   ...                             \n",
       "int32           str30             float64   ...      int32         int32    \n",
       "----- -------------------------- ---------- ... --------------- ------------\n",
       "    1  WISEA J122855.03+020309.1  187.22917 ...               0            0\n",
       "    2 SSTSL2 J122855.02+020313.7  187.22925 ...               0            0\n",
       "    3 SSTSL2 J122855.23+020341.5  187.23013 ...               0            0\n",
       "    4 SSTSL2 J122855.36+020346.9  187.23068 ...               0            0\n",
       "    5 SSTSL2 J122855.64+020239.1  187.23187 ...               0            0\n",
       "    6 SSTSL2 J122855.66+020407.1  187.23194 ...               0            0\n",
       "    7 SSTSL2 J122855.73+020232.2  187.23208 ...               0            0\n",
       "    8 SSTSL2 J122855.75+020245.2  187.23233 ...               0            0\n",
       "    9 SSTSL2 J122855.86+020333.4   187.2325 ...               0            0\n",
       "  ...                        ...        ... ...             ...          ...\n",
       "  858 SSTSL2 J122917.56+020216.7  187.32321 ...               0            0\n",
       "  859 SSTSL2 J122917.69+020335.2  187.32373 ...               0            0\n",
       "  860  WISEA J122917.76+020415.3  187.32375 ...               0            0\n",
       "  861   SDSS J122917.72+020356.8  187.32385 ...               3            0\n",
       "  862 SSTSL2 J122917.87+020349.7   187.3245 ...               0            0\n",
       "  863 SSTSL2 J122918.04+020334.2  187.32519 ...               0            0\n",
       "  864 SSTSL2 J122918.24+020330.7    187.326 ...               0            0\n",
       "  865   SDSS J122918.38+020323.4   187.3266 ...               4            0\n",
       "  866 SSTSL2 J122918.52+020338.9  187.32718 ...               0            0\n",
       "  867 SSTSL2 J122918.64+020326.7  187.32767 ...               0            0"
      ]
     },
     "execution_count": 10,
     "metadata": {},
     "output_type": "execute_result"
    }
   ],
   "source": [
    "from astroquery.ipac.ned import Ned\n",
    "result_table = Ned.query_region(\"3c 273\", radius=0.05 * u.deg)\n",
    "result_table"
   ]
  },
  {
   "cell_type": "code",
   "execution_count": 14,
   "id": "d9d98c33-58dc-4253-9416-f79da1b75c07",
   "metadata": {},
   "outputs": [
    {
     "name": "stdout",
     "output_type": "stream",
     "text": [
      "Requirement already satisfied: pip in /home/jail/dlusers/paleo2/.local/lib/python3.9/site-packages (23.1.2)\n"
     ]
    },
    {
     "data": {
      "text/plain": [
       "0"
      ]
     },
     "execution_count": 14,
     "metadata": {},
     "output_type": "execute_result"
    }
   ],
   "source": [
    "import os\n",
    "import sys\n",
    "from subprocess import check_call\n",
    "\n",
    "check_call([sys.executable, '-m' 'pip', 'install', '--user', '-U', 'pip'])"
   ]
  },
  {
   "cell_type": "code",
   "execution_count": 15,
   "id": "d682f466-8585-4aff-b249-5e79aa4e3034",
   "metadata": {},
   "outputs": [
    {
     "name": "stdout",
     "output_type": "stream",
     "text": [
      "Collecting astro-ghost==2.0.10\n",
      "  Downloading astro_ghost-2.0.10-py3-none-any.whl (3.1 MB)\n",
      "\u001b[2K     ━━━━━━━━━━━━━━━━━━━━━━━━━━━━━━━━━━━━━━━━ 3.1/3.1 MB 9.5 MB/s eta 0:00:001\n",
      "\u001b[?25hRequirement already satisfied: pandas in /data0/sw.tmpfs/antares-kernel/lib/python3.9/site-packages (from astro-ghost==2.0.10) (2.0.3)\n",
      "Requirement already satisfied: scikit-learn<1.3.0 in /home/jail/dlusers/paleo2/.local/lib/python3.9/site-packages (from astro-ghost==2.0.10) (1.2.2)\n",
      "Requirement already satisfied: numpy in /home/jail/dlusers/paleo2/.local/lib/python3.9/site-packages (from astro-ghost==2.0.10) (1.23.5)\n",
      "Requirement already satisfied: seaborn in /home/jail/dlusers/paleo2/.local/lib/python3.9/site-packages (from astro-ghost==2.0.10) (0.12.2)\n",
      "Requirement already satisfied: matplotlib in /data0/sw.tmpfs/antares-kernel/lib/python3.9/site-packages (from astro-ghost==2.0.10) (3.7.1)\n",
      "Requirement already satisfied: joypy in /home/jail/dlusers/paleo2/.local/lib/python3.9/site-packages (from astro-ghost==2.0.10) (0.2.6)\n",
      "Requirement already satisfied: astropy in /home/jail/dlusers/paleo2/.local/lib/python3.9/site-packages (from astro-ghost==2.0.10) (5.2.1)\n",
      "Requirement already satisfied: photutils in /home/jail/dlusers/paleo2/.local/lib/python3.9/site-packages (from astro-ghost==2.0.10) (1.8.0)\n",
      "Requirement already satisfied: scipy in /data0/sw.tmpfs/antares-kernel/lib/python3.9/site-packages (from astro-ghost==2.0.10) (1.11.1)\n",
      "Requirement already satisfied: datetime in /home/jail/dlusers/paleo2/.local/lib/python3.9/site-packages (from astro-ghost==2.0.10) (5.1)\n",
      "Requirement already satisfied: requests<2.29.0 in /home/jail/dlusers/paleo2/.local/lib/python3.9/site-packages (from astro-ghost==2.0.10) (2.28.2)\n",
      "Requirement already satisfied: imblearn in /home/jail/dlusers/paleo2/.local/lib/python3.9/site-packages (from astro-ghost==2.0.10) (0.0)\n",
      "Requirement already satisfied: rfpimp in /home/jail/dlusers/paleo2/.local/lib/python3.9/site-packages (from astro-ghost==2.0.10) (1.3.7)\n",
      "Requirement already satisfied: Pillow in /data0/sw.tmpfs/antares-kernel/lib/python3.9/site-packages (from astro-ghost==2.0.10) (10.0.0)\n",
      "Requirement already satisfied: pyvo in /data0/sw.tmpfs/antares-kernel/lib/python3.9/site-packages (from astro-ghost==2.0.10) (1.4.1)\n",
      "Requirement already satisfied: astroquery in /data0/sw.tmpfs/antares-kernel/lib/python3.9/site-packages (from astro-ghost==2.0.10) (0.4.6)\n",
      "Requirement already satisfied: mastcasjobs in /home/jail/dlusers/paleo2/.local/lib/python3.9/site-packages (from astro-ghost==2.0.10) (0.0.5)\n",
      "Requirement already satisfied: opencv-python in /home/jail/dlusers/paleo2/.local/lib/python3.9/site-packages (from astro-ghost==2.0.10) (4.7.0.72)\n",
      "Requirement already satisfied: tensorflow in /home/jail/dlusers/paleo2/.local/lib/python3.9/site-packages (from astro-ghost==2.0.10) (2.12.0)\n",
      "Requirement already satisfied: sfdmap in /home/jail/dlusers/paleo2/.local/lib/python3.9/site-packages (from astro-ghost==2.0.10) (0.1.1)\n",
      "Requirement already satisfied: importlib-resources in /data0/sw.tmpfs/antares-kernel/lib/python3.9/site-packages (from astro-ghost==2.0.10) (5.12.0)\n",
      "Requirement already satisfied: charset-normalizer<4,>=2 in /data0/sw.tmpfs/antares-kernel/lib/python3.9/site-packages (from requests<2.29.0->astro-ghost==2.0.10) (3.1.0)\n",
      "Requirement already satisfied: idna<4,>=2.5 in /data0/sw.tmpfs/antares-kernel/lib/python3.9/site-packages (from requests<2.29.0->astro-ghost==2.0.10) (3.4)\n",
      "Requirement already satisfied: urllib3<1.27,>=1.21.1 in /data0/sw.tmpfs/antares-kernel/lib/python3.9/site-packages (from requests<2.29.0->astro-ghost==2.0.10) (1.26.16)\n",
      "Requirement already satisfied: certifi>=2017.4.17 in /data0/sw.tmpfs/antares-kernel/lib/python3.9/site-packages (from requests<2.29.0->astro-ghost==2.0.10) (2023.5.7)\n",
      "Requirement already satisfied: joblib>=1.1.1 in /data0/sw.tmpfs/antares-kernel/lib/python3.9/site-packages (from scikit-learn<1.3.0->astro-ghost==2.0.10) (1.3.1)\n",
      "Requirement already satisfied: threadpoolctl>=2.0.0 in /data0/sw.tmpfs/antares-kernel/lib/python3.9/site-packages (from scikit-learn<1.3.0->astro-ghost==2.0.10) (3.1.0)\n",
      "Requirement already satisfied: pyerfa>=2.0 in /data0/sw.tmpfs/antares-kernel/lib/python3.9/site-packages (from astropy->astro-ghost==2.0.10) (2.0.0.3)\n",
      "Requirement already satisfied: PyYAML>=3.13 in /data0/sw.tmpfs/antares-kernel/lib/python3.9/site-packages (from astropy->astro-ghost==2.0.10) (5.4.1)\n",
      "Requirement already satisfied: packaging>=19.0 in /data0/sw.tmpfs/antares-kernel/lib/python3.9/site-packages (from astropy->astro-ghost==2.0.10) (23.0)\n",
      "Requirement already satisfied: beautifulsoup4>=4.3.2 in /data0/sw.tmpfs/antares-kernel/lib/python3.9/site-packages (from astroquery->astro-ghost==2.0.10) (4.12.2)\n",
      "Requirement already satisfied: html5lib>=0.999 in /data0/sw.tmpfs/antares-kernel/lib/python3.9/site-packages (from astroquery->astro-ghost==2.0.10) (1.1)\n",
      "Requirement already satisfied: keyring>=4.0 in /data0/sw.tmpfs/antares-kernel/lib/python3.9/site-packages (from astroquery->astro-ghost==2.0.10) (24.2.0)\n",
      "Requirement already satisfied: zope.interface in /home/jail/dlusers/paleo2/.local/lib/python3.9/site-packages (from datetime->astro-ghost==2.0.10) (6.0)\n",
      "Requirement already satisfied: pytz in /data0/sw.tmpfs/antares-kernel/lib/python3.9/site-packages (from datetime->astro-ghost==2.0.10) (2023.3)\n",
      "Requirement already satisfied: imbalanced-learn in /home/jail/dlusers/paleo2/.local/lib/python3.9/site-packages (from imblearn->astro-ghost==2.0.10) (0.10.1)\n",
      "Requirement already satisfied: zipp>=3.1.0 in /data0/sw.tmpfs/antares-kernel/lib/python3.9/site-packages (from importlib-resources->astro-ghost==2.0.10) (3.11.0)\n",
      "Requirement already satisfied: python-dateutil>=2.8.2 in /data0/sw.tmpfs/antares-kernel/lib/python3.9/site-packages (from pandas->astro-ghost==2.0.10) (2.8.2)\n",
      "Requirement already satisfied: tzdata>=2022.1 in /data0/sw.tmpfs/antares-kernel/lib/python3.9/site-packages (from pandas->astro-ghost==2.0.10) (2023.3)\n",
      "Requirement already satisfied: casjobs>=0.0.2 in /home/jail/dlusers/paleo2/.local/lib/python3.9/site-packages (from mastcasjobs->astro-ghost==2.0.10) (0.0.2)\n",
      "Requirement already satisfied: contourpy>=1.0.1 in /data0/sw.tmpfs/antares-kernel/lib/python3.9/site-packages (from matplotlib->astro-ghost==2.0.10) (1.1.0)\n",
      "Requirement already satisfied: cycler>=0.10 in /data0/sw.tmpfs/antares-kernel/lib/python3.9/site-packages (from matplotlib->astro-ghost==2.0.10) (0.11.0)\n",
      "Requirement already satisfied: fonttools>=4.22.0 in /data0/sw.tmpfs/antares-kernel/lib/python3.9/site-packages (from matplotlib->astro-ghost==2.0.10) (4.40.0)\n",
      "Requirement already satisfied: kiwisolver>=1.0.1 in /data0/sw.tmpfs/antares-kernel/lib/python3.9/site-packages (from matplotlib->astro-ghost==2.0.10) (1.4.4)\n",
      "Requirement already satisfied: pyparsing>=2.3.1 in /data0/sw.tmpfs/antares-kernel/lib/python3.9/site-packages (from matplotlib->astro-ghost==2.0.10) (3.1.0)\n",
      "Requirement already satisfied: absl-py>=1.0.0 in /data0/sw.tmpfs/antares-kernel/lib/python3.9/site-packages (from tensorflow->astro-ghost==2.0.10) (1.4.0)\n",
      "Requirement already satisfied: astunparse>=1.6.0 in /data0/sw.tmpfs/antares-kernel/lib/python3.9/site-packages (from tensorflow->astro-ghost==2.0.10) (1.6.3)\n",
      "Requirement already satisfied: flatbuffers>=2.0 in /data0/sw.tmpfs/antares-kernel/lib/python3.9/site-packages (from tensorflow->astro-ghost==2.0.10) (23.5.26)\n",
      "Requirement already satisfied: gast<=0.4.0,>=0.2.1 in /data0/sw.tmpfs/antares-kernel/lib/python3.9/site-packages (from tensorflow->astro-ghost==2.0.10) (0.4.0)\n",
      "Requirement already satisfied: google-pasta>=0.1.1 in /data0/sw.tmpfs/antares-kernel/lib/python3.9/site-packages (from tensorflow->astro-ghost==2.0.10) (0.2.0)\n",
      "Requirement already satisfied: grpcio<2.0,>=1.24.3 in /data0/sw.tmpfs/antares-kernel/lib/python3.9/site-packages (from tensorflow->astro-ghost==2.0.10) (1.56.0)\n",
      "Requirement already satisfied: h5py>=2.9.0 in /data0/sw.tmpfs/antares-kernel/lib/python3.9/site-packages (from tensorflow->astro-ghost==2.0.10) (3.9.0)\n",
      "Requirement already satisfied: jax>=0.3.15 in /home/jail/dlusers/paleo2/.local/lib/python3.9/site-packages (from tensorflow->astro-ghost==2.0.10) (0.4.13)\n",
      "Requirement already satisfied: keras<2.13,>=2.12.0 in /home/jail/dlusers/paleo2/.local/lib/python3.9/site-packages (from tensorflow->astro-ghost==2.0.10) (2.12.0)\n",
      "Requirement already satisfied: libclang>=13.0.0 in /data0/sw.tmpfs/antares-kernel/lib/python3.9/site-packages (from tensorflow->astro-ghost==2.0.10) (16.0.0)\n",
      "Requirement already satisfied: opt-einsum>=2.3.2 in /data0/sw.tmpfs/antares-kernel/lib/python3.9/site-packages (from tensorflow->astro-ghost==2.0.10) (3.3.0)\n",
      "Requirement already satisfied: protobuf!=4.21.0,!=4.21.1,!=4.21.2,!=4.21.3,!=4.21.4,!=4.21.5,<5.0.0dev,>=3.20.3 in /home/jail/dlusers/paleo2/.local/lib/python3.9/site-packages (from tensorflow->astro-ghost==2.0.10) (4.23.3)\n",
      "Requirement already satisfied: setuptools in /data0/sw.tmpfs/antares-kernel/lib/python3.9/site-packages (from tensorflow->astro-ghost==2.0.10) (67.8.0)\n",
      "Requirement already satisfied: six>=1.12.0 in /data0/sw.tmpfs/antares-kernel/lib/python3.9/site-packages (from tensorflow->astro-ghost==2.0.10) (1.16.0)\n",
      "Requirement already satisfied: tensorboard<2.13,>=2.12 in /home/jail/dlusers/paleo2/.local/lib/python3.9/site-packages (from tensorflow->astro-ghost==2.0.10) (2.12.3)\n",
      "Requirement already satisfied: tensorflow-estimator<2.13,>=2.12.0 in /home/jail/dlusers/paleo2/.local/lib/python3.9/site-packages (from tensorflow->astro-ghost==2.0.10) (2.12.0)\n",
      "Requirement already satisfied: termcolor>=1.1.0 in /data0/sw.tmpfs/antares-kernel/lib/python3.9/site-packages (from tensorflow->astro-ghost==2.0.10) (2.3.0)\n",
      "Requirement already satisfied: typing-extensions>=3.6.6 in /data0/sw.tmpfs/antares-kernel/lib/python3.9/site-packages (from tensorflow->astro-ghost==2.0.10) (4.6.3)\n",
      "Requirement already satisfied: wrapt<1.15,>=1.11.0 in /home/jail/dlusers/paleo2/.local/lib/python3.9/site-packages (from tensorflow->astro-ghost==2.0.10) (1.14.1)\n",
      "Requirement already satisfied: tensorflow-io-gcs-filesystem>=0.23.1 in /data0/sw.tmpfs/antares-kernel/lib/python3.9/site-packages (from tensorflow->astro-ghost==2.0.10) (0.32.0)\n",
      "Requirement already satisfied: wheel<1.0,>=0.23.0 in /data0/sw.tmpfs/antares-kernel/lib/python3.9/site-packages (from astunparse>=1.6.0->tensorflow->astro-ghost==2.0.10) (0.38.4)\n",
      "Requirement already satisfied: soupsieve>1.2 in /data0/sw.tmpfs/antares-kernel/lib/python3.9/site-packages (from beautifulsoup4>=4.3.2->astroquery->astro-ghost==2.0.10) (2.4.1)\n",
      "Requirement already satisfied: webencodings in /data0/sw.tmpfs/antares-kernel/lib/python3.9/site-packages (from html5lib>=0.999->astroquery->astro-ghost==2.0.10) (0.5.1)\n",
      "Requirement already satisfied: ml-dtypes>=0.1.0 in /home/jail/dlusers/paleo2/.local/lib/python3.9/site-packages (from jax>=0.3.15->tensorflow->astro-ghost==2.0.10) (0.2.0)\n",
      "Requirement already satisfied: importlib-metadata>=4.6 in /data0/sw.tmpfs/antares-kernel/lib/python3.9/site-packages (from jax>=0.3.15->tensorflow->astro-ghost==2.0.10) (6.0.0)\n",
      "Requirement already satisfied: jaraco.classes in /data0/sw.tmpfs/antares-kernel/lib/python3.9/site-packages (from keyring>=4.0->astroquery->astro-ghost==2.0.10) (3.2.3)\n",
      "Requirement already satisfied: SecretStorage>=3.2 in /data0/sw.tmpfs/antares-kernel/lib/python3.9/site-packages (from keyring>=4.0->astroquery->astro-ghost==2.0.10) (3.3.3)\n",
      "Requirement already satisfied: jeepney>=0.4.2 in /data0/sw.tmpfs/antares-kernel/lib/python3.9/site-packages (from keyring>=4.0->astroquery->astro-ghost==2.0.10) (0.8.0)\n",
      "Requirement already satisfied: google-auth<3,>=1.6.3 in /data0/sw.tmpfs/antares-kernel/lib/python3.9/site-packages (from tensorboard<2.13,>=2.12->tensorflow->astro-ghost==2.0.10) (2.21.0)\n",
      "Requirement already satisfied: google-auth-oauthlib<1.1,>=0.5 in /home/jail/dlusers/paleo2/.local/lib/python3.9/site-packages (from tensorboard<2.13,>=2.12->tensorflow->astro-ghost==2.0.10) (1.0.0)\n",
      "Requirement already satisfied: markdown>=2.6.8 in /data0/sw.tmpfs/antares-kernel/lib/python3.9/site-packages (from tensorboard<2.13,>=2.12->tensorflow->astro-ghost==2.0.10) (3.4.3)\n",
      "Requirement already satisfied: tensorboard-data-server<0.8.0,>=0.7.0 in /home/jail/dlusers/paleo2/.local/lib/python3.9/site-packages (from tensorboard<2.13,>=2.12->tensorflow->astro-ghost==2.0.10) (0.7.1)\n",
      "Requirement already satisfied: werkzeug>=1.0.1 in /data0/sw.tmpfs/antares-kernel/lib/python3.9/site-packages (from tensorboard<2.13,>=2.12->tensorflow->astro-ghost==2.0.10) (2.0.3)\n",
      "Requirement already satisfied: cachetools<6.0,>=2.0.0 in /data0/sw.tmpfs/antares-kernel/lib/python3.9/site-packages (from google-auth<3,>=1.6.3->tensorboard<2.13,>=2.12->tensorflow->astro-ghost==2.0.10) (5.3.1)\n",
      "Requirement already satisfied: pyasn1-modules>=0.2.1 in /data0/sw.tmpfs/antares-kernel/lib/python3.9/site-packages (from google-auth<3,>=1.6.3->tensorboard<2.13,>=2.12->tensorflow->astro-ghost==2.0.10) (0.3.0)\n",
      "Requirement already satisfied: rsa<5,>=3.1.4 in /data0/sw.tmpfs/antares-kernel/lib/python3.9/site-packages (from google-auth<3,>=1.6.3->tensorboard<2.13,>=2.12->tensorflow->astro-ghost==2.0.10) (4.9)\n",
      "Requirement already satisfied: requests-oauthlib>=0.7.0 in /data0/sw.tmpfs/antares-kernel/lib/python3.9/site-packages (from google-auth-oauthlib<1.1,>=0.5->tensorboard<2.13,>=2.12->tensorflow->astro-ghost==2.0.10) (1.3.1)\n",
      "Requirement already satisfied: cryptography>=2.0 in /data0/sw.tmpfs/antares-kernel/lib/python3.9/site-packages (from SecretStorage>=3.2->keyring>=4.0->astroquery->astro-ghost==2.0.10) (41.0.1)\n",
      "Requirement already satisfied: more-itertools in /data0/sw.tmpfs/antares-kernel/lib/python3.9/site-packages (from jaraco.classes->keyring>=4.0->astroquery->astro-ghost==2.0.10) (9.1.0)\n",
      "Requirement already satisfied: cffi>=1.12 in /data0/sw.tmpfs/antares-kernel/lib/python3.9/site-packages (from cryptography>=2.0->SecretStorage>=3.2->keyring>=4.0->astroquery->astro-ghost==2.0.10) (1.15.1)\n",
      "Requirement already satisfied: pyasn1<0.6.0,>=0.4.6 in /data0/sw.tmpfs/antares-kernel/lib/python3.9/site-packages (from pyasn1-modules>=0.2.1->google-auth<3,>=1.6.3->tensorboard<2.13,>=2.12->tensorflow->astro-ghost==2.0.10) (0.5.0)\n",
      "Requirement already satisfied: oauthlib>=3.0.0 in /data0/sw.tmpfs/antares-kernel/lib/python3.9/site-packages (from requests-oauthlib>=0.7.0->google-auth-oauthlib<1.1,>=0.5->tensorboard<2.13,>=2.12->tensorflow->astro-ghost==2.0.10) (3.2.2)\n",
      "Requirement already satisfied: pycparser in /data0/sw.tmpfs/antares-kernel/lib/python3.9/site-packages (from cffi>=1.12->cryptography>=2.0->SecretStorage>=3.2->keyring>=4.0->astroquery->astro-ghost==2.0.10) (2.21)\n",
      "Installing collected packages: astro-ghost\n",
      "  Attempting uninstall: astro-ghost\n",
      "    Found existing installation: astro-ghost 2.0.8\n",
      "    Uninstalling astro-ghost-2.0.8:\n",
      "      Successfully uninstalled astro-ghost-2.0.8\n",
      "Successfully installed astro-ghost-2.0.10\n"
     ]
    },
    {
     "data": {
      "text/plain": [
       "0"
      ]
     },
     "execution_count": 15,
     "metadata": {},
     "output_type": "execute_result"
    }
   ],
   "source": [
    "#check_call([sys.executable, '-mpip', 'install', '--user', '-U', 'alerce==1.2.0'])\n",
    "#check_call([sys.executable, '-mpip', 'install', '--user', '-U', 'astro-ghost==0.2.3'])\n",
    "#check_call([sys.executable, '-mpip', 'install', '--user', '-U', 'astro-ghost==0.2.7'])\n",
    "#check_call([sys.executable, '-mpip', 'install', '--user', '-U', 'astro-ghost==2.0.8'])\n",
    "check_call([sys.executable, '-mpip', 'install', '--user', '-U', 'astro-ghost==2.0.10'])\n",
    "#check_call([sys.executable, '-mpip', 'install', '--user', '-U', 'opencv-python==4.7.0.72'])\n",
    "#check_call([sys.executable, '-mpip', 'uninstall', '--user', '-U', 'astropy==5.3'])\n",
    "#check_call([sys.executable, '-mpip', 'install', '--user', '-U', 'astropy==5.2.1'])"
   ]
  },
  {
   "cell_type": "code",
   "execution_count": 1,
   "id": "7dfb17c8-7e09-4cf5-b8a8-5db71e5d450e",
   "metadata": {},
   "outputs": [
    {
     "data": {
      "text/plain": [
       "'2.0.10'"
      ]
     },
     "execution_count": 1,
     "metadata": {},
     "output_type": "execute_result"
    }
   ],
   "source": [
    "import astro_ghost\n",
    "astro_ghost.__version__"
   ]
  },
  {
   "cell_type": "code",
   "execution_count": 1,
   "id": "64f2bfa8-b7d4-4a0c-ac81-cfead8ae60b0",
   "metadata": {},
   "outputs": [
    {
     "name": "stdout",
     "output_type": "stream",
     "text": [
      "Loading ANTARES from /data0/sw/antares-kernel/lib/python3.9/site-packages/antares/__init__.py\n",
      "\n",
      "        _    _   _ _____  _    ____  _____ ____\n",
      "       / \\  | \\ | |_   _|/ \\  |  _ \\| ____/ ___|\n",
      "      / _ \\ |  \\| | | | / _ \\ | |_| |  _| \\___ \\\\\n",
      "     / ___ \\| |\\  | | |/ ___ \\|  _ /| |___ ___| |\n",
      "    /_/   \\_\\_| \\_| |_/_/   \\_\\_| \\_\\_____|____/   v2.4.2\n",
      "    \n",
      "2023-07-04 07:59:27,199 - WARNING MainThread settings.py:setup_prometheus:124 - Prometheus failed to start with [Errno 98] Address already in use\n"
     ]
    },
    {
     "name": "stderr",
     "output_type": "stream",
     "text": [
      "Jaeger tracer already initialized, skipping\n"
     ]
    },
    {
     "name": "stdout",
     "output_type": "stream",
     "text": [
      "2023-07-04 07:59:27,377 - WARNING MainThread settings.py:setup_prometheus:124 - Prometheus failed to start with [Errno 98] Address already in use\n",
      "Testing loading a random Locus with `dk.get_locus()`...\n",
      "2023-07-04 07:59:30,714 - INFO MainThread settings.py:cassandra_session_factory:84 - Establishing connection to Cassandra\n",
      "2023-07-04 07:59:31,922 - INFO MainThread settings.py:cassandra_session_factory:88 - Connection to Cassandra established\n",
      "2023-07-04 07:59:31,923 - INFO MainThread settings.py:cassandra_session_factory:84 - Establishing connection to Cassandra\n",
      "2023-07-04 07:59:33,181 - INFO MainThread settings.py:cassandra_session_factory:88 - Connection to Cassandra established\n",
      "2023-07-04 07:59:33,183 - INFO MainThread settings.py:cassandra_session_factory:84 - Establishing connection to Cassandra\n",
      "2023-07-04 07:59:34,289 - INFO MainThread settings.py:cassandra_session_factory:88 - Connection to Cassandra established\n"
     ]
    },
    {
     "name": "stderr",
     "output_type": "stream",
     "text": [
      "/data0/sw/antares-kernel/lib/python3.9/site-packages/pandas/core/arraylike.py:396: RuntimeWarning: invalid value encountered in log10\n",
      "  result = getattr(ufunc, method)(*inputs, **kwargs)\n"
     ]
    },
    {
     "name": "stdout",
     "output_type": "stream",
     "text": [
      "\n",
      "ANTARES v2.4.2 DevKit is ready!\n",
      "Website: https://antares.noirlab.edu\n",
      "Documentation: https://nsf-noirlab.gitlab.io/csdc/antares/antares/\n",
      "\n"
     ]
    }
   ],
   "source": [
    "# LAISS Random Forest Classifier for Transient (Supernova) Anomaly Detection\n",
    "# Written by Patrick Aleo\n",
    "\n",
    "# Import all necessary packages\n",
    "import antares.devkit as dk; dk.init()\n",
    "\n",
    "from astropy.coordinates import SkyCoord  # High-level coordinates\n",
    "from astropy.coordinates import ICRS, Galactic, FK4, FK5  # Low-level frames\n",
    "\n",
    "import os\n",
    "import sys\n",
    "import time\n",
    "\n",
    "from alerce.core import Alerce\n",
    "alerce = Alerce()\n",
    "\n",
    "import pickle\n",
    "import numpy as np\n",
    "import pandas as pd\n",
    "import matplotlib.pyplot as plt\n",
    "from itertools import chain\n",
    "from datetime import datetime\n",
    "import tempfile\n",
    "\n",
    "import astro_ghost\n",
    "# from astro_ghost.PS1QueryFunctions import getAllPostageStamps\n",
    "# from astro_ghost.TNSQueryFunctions import getTNSSpectra\n",
    "# from astro_ghost.NEDQueryFunctions import getNEDSpectra\n",
    "from astro_ghost.ghostHelperFunctions import getTransientHosts, getGHOST\n",
    "# Throw RA/DEC into ghost with just DLR method, gentle starcut\n",
    "# Sets environ var to find ghost.csv\n",
    "# os.environ['GHOST_PATH'] = './host_info'\n",
    "# Then don't use getGHOST(real=True, verbose=verbose)\n",
    "#getGHOST(real=True,verbose=False)\n",
    "\n",
    "from astropy import units as u\n",
    "from astropy.coordinates import SkyCoord  # High-level coordinates\n",
    "from astropy.coordinates import ICRS, Galactic, FK4, FK5  # Low-level frames\n",
    "\n",
    "import sklearn.ensemble\n",
    "from sklearn.ensemble import IsolationForest\n",
    "\n",
    "from collections import Counter\n",
    "\n",
    "from sklearn import preprocessing\n",
    "from sklearn.metrics import confusion_matrix, ConfusionMatrixDisplay\n",
    "from sklearn.metrics import classification_report\n",
    "from sklearn.impute import SimpleImputer\n",
    "from sklearn.preprocessing import StandardScaler\n",
    "from sklearn.preprocessing import MinMaxScaler\n",
    "from scipy.spatial import cKDTree\n",
    "from sklearn.decomposition import PCA\n",
    "from sklearn.decomposition import SparsePCA\n",
    "from sklearn.ensemble import RandomForestClassifier\n",
    "\n",
    "# # set random seed for consistent results\n",
    "# import random\n",
    "# random.seed(0)\n",
    "\n",
    "import warnings\n",
    "warnings.filterwarnings(\"ignore\")\n",
    "\n",
    "def get_alerce_class(output):\n",
    "    \"\"\"\n",
    "    Given the top 'output' probabilities from Alerce's classifiers (lc_classifier, hierarchical_rf, stamp_classifier),\n",
    "    return the best class (the one displayed on the webpage at https://alerce.online/object/, typically lc_classifier). \n",
    "    If not classified, return 'Not_classified'.\n",
    "    \"\"\"\n",
    "    top_class = None\n",
    "    for item in output:\n",
    "        if item['ranking'] == 1:\n",
    "            if top_class is None or \\\n",
    "               (item['classifier_name'] == 'lc_classifier' and \\\n",
    "                item['classifier_version'] == 'hierarchical_rf_1.1.0') or \\\n",
    "               (item['classifier_name'] == 'stamp_classifier' and \\\n",
    "                item['classifier_version'] == 'stamp_classifier_1.0.4' and \\\n",
    "                top_class['classifier_version'] != 'hierarchical_rf_1.1.0') or \\\n",
    "               (item['classifier_name'] == 'stamp_classifier' and \\\n",
    "                item['classifier_version'] == 'stamp_classifier_1.0.0' and \\\n",
    "                top_class['classifier_version'] not in ['hierarchical_rf_1.1.0', 'stamp_classifier_1.0.4']):\n",
    "                top_class = item\n",
    "    return top_class['class_name'] if top_class is not None else \"Not_classified\""
   ]
  },
  {
   "cell_type": "code",
   "execution_count": 22,
   "id": "e4d22a40-d525-481b-9ef5-e2ae9a21ac75",
   "metadata": {},
   "outputs": [
    {
     "name": "stdout",
     "output_type": "stream",
     "text": [
      "CPU times: user 9 µs, sys: 0 ns, total: 9 µs\n",
      "Wall time: 20.3 µs\n"
     ]
    }
   ],
   "source": [
    "%time\n",
    "class LAISS_RFC_AD_filter(dk.Filter):\n",
    "    NAME = 'LAISS_RFC_AD_filter'\n",
    "    ERROR_SLACK_CHANNEL = 'U0135TMN9UK'  # Patrick Aleo Slack member ID\n",
    "    REQUIRES_FILES = [\n",
    "    #    './paleo2_106IFmodel_472727objs_nest=1000_cont=0.001_transf.pkl', #106 feature Isolation Forest model\n",
    "    #    './antares_norm.py' #py file for transforming ZTF alert feature values\n",
    "        './data/database/',\n",
    "    ]\n",
    "    REQUIRED_LOCUS_PROPERTIES = [\n",
    "        'ztf_object_id',\n",
    "    ]\n",
    "    REQUIRED_ALERT_PROPERTIES = [\n",
    "    ]\n",
    "    INPUT_TAGS = [\n",
    "        'lc_feature_extractor'\n",
    "    ]\n",
    "    OUTPUT_LOCUS_PROPERTIES = [\n",
    "          {\n",
    "          'name': 'LAISS_RFC_anomaly_score',\n",
    "          'type': 'float',\n",
    "          'description': 'Calculated anomaly score. From RFC model, objects are tagged as anomalous if \"Other\" (anomaly) classification is >0.5 at any point during light curve evolution. If none calculated, set to TBD',\n",
    "          },\n",
    "    ]\n",
    "    OUTPUT_ALERT_PROPERTIES = [\n",
    "    ]\n",
    "    OUTPUT_TAGS = [\n",
    "        {\n",
    "          'name': 'LAISS_RFC_AD_filter', \n",
    "          'description': 'The Light Curve AI Similarity Search (LAISS; Aleo et al in prep) random forest classifier anomaly detection filter aims to tag rare, exotic, and unusual transients (supernovae). It is an random forest classifier algorithm trained on upsampled (balanced classes) spectroscopic SNe using extracted light curve and host galaxy features.',\n",
    "        },\n",
    "    ]\n",
    "\n",
    "    \n",
    "    def setup(self):\n",
    "        \"\"\"\n",
    "    #    ANTARES will call this function once at the beginning of each night\n",
    "    #    when filters are loaded.\n",
    "    #    \"\"\"\n",
    "        # Sets environ var to find ghost.csv\n",
    "        #os.environ['GHOST_PATH'] = './data'\n",
    "        #print(os.environ['GHOST_PATH'])\n",
    "        # Then don't use getGHOST(real=True, verbose=verbose)\n",
    "        #getGHOST(real=False,verbose=False)\n",
    "        #print(os.environ['GHOST_PATH'])\n",
    "        \n",
    "        # Sets environ var to find ghost.csv\n",
    "        os.environ['GHOST_PATH'] = './host_info'\n",
    "        # Then don't use getGHOST(real=True, verbose=verbose)\n",
    "        getGHOST(real=True,verbose=True)\n",
    "        \n",
    "        # From 106 available features from Kostya's lc_feature_extractor, use the 82 from SNAD Miner paper \n",
    "        # R and g bands\n",
    "        self.feature_names_r_g = ['feature_amplitude_magn_r', \n",
    "                         'feature_anderson_darling_normal_magn_r',\n",
    "                         'feature_beyond_1_std_magn_r', \n",
    "                         'feature_beyond_2_std_magn_r',\n",
    "                         'feature_cusum_magn_r', \n",
    "                         #'feature_eta_e_magn_r',\n",
    "                         'feature_inter_percentile_range_2_magn_r',\n",
    "                         'feature_inter_percentile_range_10_magn_r',\n",
    "                         'feature_inter_percentile_range_25_magn_r', \n",
    "                         'feature_kurtosis_magn_r',\n",
    "                         'feature_linear_fit_slope_magn_r',\n",
    "                         'feature_linear_fit_slope_sigma_magn_r',\n",
    "                         #'feature_linear_fit_reduced_chi2_magn_r', \n",
    "                         #'feature_linear_trend_magn_r', # cadence removal\n",
    "                         #'feature_linear_trend_sigma_magn_r',  # cadence removal\n",
    "                         'feature_magnitude_percentage_ratio_40_5_magn_r',\n",
    "                         'feature_magnitude_percentage_ratio_20_5_magn_r',\n",
    "                         #'feature_maximum_slope_magn_r',\n",
    "                         'feature_mean_magn_r',\n",
    "                         'feature_median_absolute_deviation_magn_r',\n",
    "                         'feature_percent_amplitude_magn_r',\n",
    "                         'feature_median_buffer_range_percentage_10_magn_r',\n",
    "                         'feature_median_buffer_range_percentage_20_magn_r',\n",
    "                         'feature_percent_difference_magnitude_percentile_5_magn_r',\n",
    "                         'feature_percent_difference_magnitude_percentile_10_magn_r',\n",
    "                         #'feature_period_0_magn_r',  # should be negated\n",
    "                         #'feature_period_s_to_n_0_magn_r', # cadence removal\n",
    "                         #'feature_period_1_magn_r', \n",
    "                         #'feature_period_s_to_n_1_magn_r', # cadence removal\n",
    "                         #'feature_period_2_magn_r', \n",
    "                         #'feature_period_s_to_n_2_magn_r', # cadence removal\n",
    "                         #'feature_period_3_magn_r', \n",
    "                         #'feature_period_s_to_n_3_magn_r', # cadence removal\n",
    "                         #'feature_period_4_magn_r', \n",
    "                         #'feature_period_s_to_n_4_magn_r', # cadence removal\n",
    "                         #'feature_periodogram_amplitude_magn_r',\n",
    "                         #'feature_periodogram_beyond_2_std_magn_r',  # cadence removal\n",
    "                         #'feature_periodogram_beyond_3_std_magn_r',  # cadence removal\n",
    "                         #'feature_periodogram_standard_deviation_magn_r',   # cadence removal\n",
    "                         #'feature_chi2_magn_r',\n",
    "                         'feature_skew_magn_r', \n",
    "                         'feature_standard_deviation_magn_r',\n",
    "                         'feature_stetson_k_magn_r',\n",
    "                         'feature_weighted_mean_magn_r',\n",
    "                         'feature_anderson_darling_normal_flux_r', \n",
    "                         'feature_cusum_flux_r',\n",
    "                         #'feature_eta_e_flux_r', \n",
    "                         'feature_excess_variance_flux_r',\n",
    "                         'feature_kurtosis_flux_r', \n",
    "                         'feature_mean_variance_flux_r',\n",
    "                         #'feature_chi2_flux_r', \n",
    "                         'feature_skew_flux_r',\n",
    "                         'feature_stetson_k_flux_r',\n",
    "\n",
    "                         'feature_amplitude_magn_g', \n",
    "                         'feature_anderson_darling_normal_magn_g',\n",
    "                         'feature_beyond_1_std_magn_g', \n",
    "                         'feature_beyond_2_std_magn_g',\n",
    "                         'feature_cusum_magn_g', \n",
    "                         #'feature_eta_e_magn_g',\n",
    "                         'feature_inter_percentile_range_2_magn_g',\n",
    "                         'feature_inter_percentile_range_10_magn_g',\n",
    "                         'feature_inter_percentile_range_25_magn_g', \n",
    "                         'feature_kurtosis_magn_g',\n",
    "                         'feature_linear_fit_slope_magn_g',\n",
    "                         'feature_linear_fit_slope_sigma_magn_g',\n",
    "                         #'feature_linear_fit_reduced_chi2_magn_g', \n",
    "                         #'feature_linear_trend_magn_g', # cadence removal\n",
    "                         #'feature_linear_trend_sigma_magn_g',  # cadence removal\n",
    "                         'feature_magnitude_percentage_ratio_40_5_magn_g',\n",
    "                         'feature_magnitude_percentage_ratio_20_5_magn_g',\n",
    "                         #'feature_maximum_slope_magn_g', \n",
    "                         'feature_mean_magn_g',\n",
    "                         'feature_median_absolute_deviation_magn_g',\n",
    "                         'feature_median_buffer_range_percentage_10_magn_g',\n",
    "                         'feature_median_buffer_range_percentage_20_magn_g',\n",
    "                         'feature_percent_amplitude_magn_g',\n",
    "                         'feature_percent_difference_magnitude_percentile_5_magn_g',\n",
    "                         'feature_percent_difference_magnitude_percentile_10_magn_g',\n",
    "                         #'feature_period_0_magn_g',  # should be negated\n",
    "                         #'feature_period_s_to_n_0_magn_g', # cadence removal\n",
    "                         #'feature_period_1_magn_g', \n",
    "                         #'feature_period_s_to_n_1_magn_g', # cadence removal\n",
    "                         #'feature_period_2_magn_g', \n",
    "                         #'feature_period_s_to_n_2_magn_g', # cadence removal\n",
    "                         #'feature_period_3_magn_g', \n",
    "                         #'feature_period_s_to_n_3_magn_g', # cadence removal\n",
    "                         #'feature_period_4_magn_g', \n",
    "                         #'feature_period_s_to_n_4_magn_g', # cadence removal\n",
    "                         #'feature_periodogram_amplitude_magn_g',\n",
    "                         #'feature_periodogram_beyond_2_std_magn_g',  # cadence removal\n",
    "                         #'feature_periodogram_beyond_3_std_magn_g', # cadence removal\n",
    "                         #'feature_periodogram_standard_deviation_magn_g',  # cadence removal\n",
    "                         #'feature_chi2_magn_g',\n",
    "                         'feature_skew_magn_g', \n",
    "                         'feature_standard_deviation_magn_g',\n",
    "                         'feature_stetson_k_magn_g', \n",
    "                         'feature_weighted_mean_magn_g',\n",
    "                         'feature_anderson_darling_normal_flux_g', \n",
    "                         'feature_cusum_flux_g',\n",
    "                         #'feature_eta_e_flux_g', \n",
    "                         'feature_excess_variance_flux_g',\n",
    "                         'feature_kurtosis_flux_g', \n",
    "                         'feature_mean_variance_flux_g',\n",
    "                         #'feature_chi2_flux_g', \n",
    "                         'feature_skew_flux_g',\n",
    "                         'feature_stetson_k_flux_g']   \n",
    "        \n",
    "        self.feature_names_hostgal = [\n",
    "            #  'Unnamed: 0',\n",
    "            #  'level_0',\n",
    "            #  'index',\n",
    "            #  'objName',\n",
    "            #  'objAltName1',\n",
    "            #  'objAltName2',\n",
    "            #  'objAltName3',\n",
    "            #  'objID',\n",
    "            #  'uniquePspsOBid',\n",
    "            #  'ippObjID',\n",
    "            #  'surveyID',\n",
    "            #  'htmID',\n",
    "            #  'zoneID',\n",
    "            #  'tessID',\n",
    "            #  'projectionID',\n",
    "            #  'skyCellID',\n",
    "            #  'randomID',\n",
    "            #  'batchID',\n",
    "            #  'dvoRegionID',\n",
    "            #  'processingVersion',\n",
    "            #  'objInfoFlag',\n",
    "            #  'qualityFlag',\n",
    "            #  'raStack',\n",
    "            #  'decStack',\n",
    "            #  'raStackErr',\n",
    "            #  'decStackErr',\n",
    "            #  'raMean',\n",
    "            #  'decMean',\n",
    "            #  'raMeanErr',\n",
    "            #  'decMeanErr',\n",
    "            #  'epochMean',\n",
    "            #  'posMeanChisq',\n",
    "            #  'cx',\n",
    "            #  'cy',\n",
    "            #  'cz',\n",
    "            #  'lambda',\n",
    "            #  'beta',\n",
    "            #  'l',\n",
    "            #  'b',\n",
    "            #  'nStackObjectRows',\n",
    "            #  'nStackDetections',\n",
    "            #  'nDetections',\n",
    "            #  'ng',\n",
    "            #  'nr',\n",
    "            #  'ni',\n",
    "            #  'nz',\n",
    "            #  'ny',\n",
    "            #  'uniquePspsSTid',\n",
    "            #  'primaryDetection',\n",
    "            #  'bestDetection',\n",
    "            #  'gippDetectID',\n",
    "            #  'gstackDetectID',\n",
    "            #  'gstackImageID',\n",
    "            #  'gra',\n",
    "            #  'gdec',\n",
    "            #  'graErr',\n",
    "            #  'gdecErr',\n",
    "            #  'gEpoch',\n",
    "            #  'gPSFMag',\n",
    "            #  'gPSFMagErr',\n",
    "            #  'gApMag',\n",
    "            #  'gApMagErr',\n",
    "            #  'gKronMag',\n",
    "            #  'gKronMagErr',\n",
    "            #  'ginfoFlag',\n",
    "            #  'ginfoFlag2',\n",
    "            #  'ginfoFlag3',\n",
    "            #  'gnFrames',\n",
    "            #  'gxPos',\n",
    "            #  'gyPos',\n",
    "            #  'gxPosErr',\n",
    "            #  'gyPosErr',\n",
    "            #  'gpsfMajorFWHM',\n",
    "            #  'gpsfMinorFWHM',\n",
    "            #  'gpsfTheta',\n",
    "            #  'gpsfCore',\n",
    "            #  'gpsfLikelihood',\n",
    "            #  'gpsfQf',\n",
    "            #  'gpsfQfPerfect',\n",
    "            #  'gpsfChiSq',\n",
    "             'gmomentXX',\n",
    "             'gmomentXY',\n",
    "             'gmomentYY',\n",
    "             'gmomentR1',\n",
    "             'gmomentRH',\n",
    "             'gPSFFlux',\n",
    "            #  'gPSFFluxErr',\n",
    "             'gApFlux',\n",
    "            #  'gApFluxErr',\n",
    "            #  'gApFillFac',\n",
    "            #  'gApRadius',\n",
    "             'gKronFlux',\n",
    "            #  'gKronFluxErr',\n",
    "             'gKronRad',\n",
    "            #  'gexpTime',\n",
    "             'gExtNSigma',\n",
    "            #  'gsky',\n",
    "            #  'gskyErr',\n",
    "            #  'gzp',\n",
    "            #  'gPlateScale',\n",
    "            #  'rippDetectID',\n",
    "            #  'rstackDetectID',\n",
    "            #  'rstackImageID',\n",
    "            #  'rra',\n",
    "            #  'rdec',\n",
    "            #  'rraErr',\n",
    "            #  'rdecErr',\n",
    "            #  'rEpoch',\n",
    "            # 'rPSFMag',\n",
    "            #  'rPSFMagErr',\n",
    "            # 'rApMag',\n",
    "            #  'rApMagErr',\n",
    "            # 'rKronMag',\n",
    "            #  'rKronMagErr',\n",
    "            #  'rinfoFlag',\n",
    "            #  'rinfoFlag2',\n",
    "            #  'rinfoFlag3',\n",
    "            #  'rnFrames',\n",
    "            #  'rxPos',\n",
    "            #  'ryPos',\n",
    "            #  'rxPosErr',\n",
    "            #  'ryPosErr',\n",
    "            #  'rpsfMajorFWHM',\n",
    "            #  'rpsfMinorFWHM',\n",
    "            #  'rpsfTheta',\n",
    "            #  'rpsfCore',\n",
    "            #  'rpsfLikelihood',\n",
    "            #  'rpsfQf',\n",
    "            #  'rpsfQfPerfect',\n",
    "            #  'rpsfChiSq',\n",
    "             'rmomentXX',\n",
    "             'rmomentXY',\n",
    "             'rmomentYY',\n",
    "             'rmomentR1',\n",
    "             'rmomentRH',\n",
    "            'rPSFFlux',\n",
    "            #  'rPSFFluxErr',\n",
    "            'rApFlux',\n",
    "            #  'rApFluxErr',\n",
    "            #  'rApFillFac',\n",
    "            # 'rApRadius',\n",
    "            'rKronFlux',\n",
    "            #  'rKronFluxErr',\n",
    "            'rKronRad',\n",
    "            #  'rexpTime',\n",
    "             'rExtNSigma',\n",
    "            #  'rsky',\n",
    "            #  'rskyErr',\n",
    "            #  'rzp',\n",
    "            #  'rPlateScale',\n",
    "            #  'iippDetectID',\n",
    "            #  'istackDetectID',\n",
    "            #  'istackImageID',\n",
    "            #  'ira',\n",
    "            #  'idec',\n",
    "            #  'iraErr',\n",
    "            #  'idecErr',\n",
    "            #  'iEpoch',\n",
    "            #  'iPSFMag',\n",
    "            #  'iPSFMagErr',\n",
    "            #  'iApMag',\n",
    "            #  'iApMagErr',\n",
    "            #  'iKronMag',\n",
    "            #  'iKronMagErr',\n",
    "            #  'iinfoFlag',\n",
    "            #  'iinfoFlag2',\n",
    "            #  'iinfoFlag3',\n",
    "            #  'inFrames',\n",
    "            #  'ixPos',\n",
    "            #  'iyPos',\n",
    "            #  'ixPosErr',\n",
    "            #  'iyPosErr',\n",
    "            #  'ipsfMajorFWHM',\n",
    "            #  'ipsfMinorFWHM',\n",
    "            #  'ipsfTheta',\n",
    "            #  'ipsfCore',\n",
    "            #  'ipsfLikelihood',\n",
    "            #  'ipsfQf',\n",
    "            #  'ipsfQfPerfect',\n",
    "            #  'ipsfChiSq',\n",
    "              'imomentXX',\n",
    "             'imomentXY',\n",
    "             'imomentYY',\n",
    "             'imomentR1',\n",
    "             'imomentRH',\n",
    "             'iPSFFlux',\n",
    "            #  'iPSFFluxErr',\n",
    "             'iApFlux',\n",
    "            #  'iApFluxErr',\n",
    "            #  'iApFillFac',\n",
    "            #  'iApRadius',\n",
    "             'iKronFlux',\n",
    "            #  'iKronFluxErr',\n",
    "             'iKronRad',\n",
    "            #  'iexpTime',\n",
    "              'iExtNSigma',\n",
    "            #  'isky',\n",
    "            #  'iskyErr',\n",
    "            #  'izp',\n",
    "            #  'iPlateScale',\n",
    "            #  'zippDetectID',\n",
    "            #  'zstackDetectID',\n",
    "            #  'zstackImageID',\n",
    "            #  'zra',\n",
    "            #  'zdec',\n",
    "            #  'zraErr',\n",
    "            #  'zdecErr',\n",
    "            #  'zEpoch',\n",
    "            #  'zPSFMag',\n",
    "            #  'zPSFMagErr',\n",
    "            #  'zApMag',\n",
    "            #  'zApMagErr',\n",
    "            #  'zKronMag',\n",
    "            #  'zKronMagErr',\n",
    "            #  'zinfoFlag',\n",
    "            #  'zinfoFlag2',\n",
    "            #  'zinfoFlag3',\n",
    "            #  'znFrames',\n",
    "            #  'zxPos',\n",
    "            #  'zyPos',\n",
    "            #  'zxPosErr',\n",
    "            #  'zyPosErr',\n",
    "            #  'zpsfMajorFWHM',\n",
    "            #  'zpsfMinorFWHM',\n",
    "            #  'zpsfTheta',\n",
    "            #  'zpsfCore',\n",
    "            #  'zpsfLikelihood',\n",
    "            #  'zpsfQf',\n",
    "            #  'zpsfQfPerfect',\n",
    "            #  'zpsfChiSq',\n",
    "              'zmomentXX',\n",
    "             'zmomentXY',\n",
    "             'zmomentYY',\n",
    "             'zmomentR1',\n",
    "             'zmomentRH',\n",
    "             'zPSFFlux',\n",
    "            # #  'zPSFFluxErr',\n",
    "             'zApFlux',\n",
    "            # #  'zApFluxErr',\n",
    "            # #  'zApFillFac',\n",
    "            # #  'zApRadius',\n",
    "             'zKronFlux',\n",
    "            # #  'zKronFluxErr',\n",
    "             'zKronRad',\n",
    "            # #  'zexpTime',\n",
    "              'zExtNSigma',\n",
    "            #  'zsky',\n",
    "            #  'zskyErr',\n",
    "            #  'zzp',\n",
    "            #  'zPlateScale',\n",
    "            #  'yippDetectID',\n",
    "            #  'ystackDetectID',\n",
    "            #  'ystackImageID',\n",
    "            #  'yra',\n",
    "            #  'ydec',\n",
    "            #  'yraErr',\n",
    "            #  'ydecErr',\n",
    "            #  'yEpoch',\n",
    "            #  'yPSFMag',\n",
    "            #  'yPSFMagErr',\n",
    "            #  'yApMag',\n",
    "            #  'yApMagErr',\n",
    "            #  'yKronMag',\n",
    "            #  'yKronMagErr',\n",
    "            #  'yinfoFlag',\n",
    "            #  'yinfoFlag2',\n",
    "            #  'yinfoFlag3',\n",
    "            #  'ynFrames',\n",
    "            #  'yxPos',\n",
    "            #  'yyPos',\n",
    "            #  'yxPosErr',\n",
    "            #  'yyPosErr',\n",
    "            #  'ypsfMajorFWHM',\n",
    "            #  'ypsfMinorFWHM',\n",
    "            #  'ypsfTheta',\n",
    "            #  'ypsfCore',\n",
    "            #  'ypsfLikelihood',\n",
    "            #  'ypsfQf',\n",
    "            #  'ypsfQfPerfect',\n",
    "            #  'ypsfChiSq',\n",
    "              'ymomentXX',\n",
    "              'ymomentXY',\n",
    "              'ymomentYY',\n",
    "              'ymomentR1',\n",
    "              'ymomentRH',\n",
    "              'yPSFFlux',\n",
    "            # #   'yPSFFluxErr',\n",
    "              'yApFlux',\n",
    "            # #   'yApFluxErr',\n",
    "            # #   'yApFillFac',\n",
    "            # #  'yApRadius',\n",
    "             'yKronFlux',\n",
    "            # #  'yKronFluxErr',\n",
    "             'yKronRad',\n",
    "            # #  'yexpTime',\n",
    "              'yExtNSigma',\n",
    "            #  'ysky',\n",
    "            #  'yskyErr',\n",
    "            #  'yzp',\n",
    "            #  'yPlateScale',\n",
    "            #  'distance',\n",
    "            #  'SkyMapper_StarClass',\n",
    "            #  'gelong',\n",
    "            #  'g_a',\n",
    "            #  'g_b',\n",
    "            #  'g_pa',\n",
    "            #  'relong',\n",
    "            #  'r_a',\n",
    "            #  'r_b',\n",
    "            #  'r_pa',\n",
    "            #  'ielong',\n",
    "            #  'i_a',\n",
    "            #  'i_b',\n",
    "            #  'i_pa',\n",
    "            #  'zelong',\n",
    "            #  'z_a',\n",
    "            #  'z_b',\n",
    "            #  'z_pa',\n",
    "               'i-z', # try throwing in\n",
    "            #    'g-r',\n",
    "            #    'r-i',\n",
    "            #    'g-i',\n",
    "            #    'z-y',\n",
    "            #   'g-rErr',\n",
    "            #   'r-iErr',\n",
    "            #   'i-zErr',\n",
    "            #   'z-yErr',\n",
    "             'gApMag_gKronMag',\n",
    "             'rApMag_rKronMag',\n",
    "             'iApMag_iKronMag',\n",
    "             'zApMag_zKronMag',\n",
    "             'yApMag_yKronMag',\n",
    "             '7DCD', \n",
    "            #  'NED_name',\n",
    "            #  'NED_type',\n",
    "            #  'NED_vel',\n",
    "            #  'NED_redshift',\n",
    "            #  'NED_mag',\n",
    "            #  'class',\n",
    "               'dist/DLR',\n",
    "            #   'dist',\n",
    "            #  'TransientClass',\n",
    "            #  'TransientRA',\n",
    "            #  'TransientDEC'\n",
    "               ]\n",
    "        \n",
    "#         # Load 106 feature IF model at beginning of the night and store it. \n",
    "#         #self.IF_model = self.files['./paleo2_106IFmodel_472727objs_nest=1000_cont=0.001_transf.pkl']\n",
    "#         with open('./paleo2_106IFmodel_472727objs_nest=1000_cont=0.001_transf.pkl', 'rb') as f: #not imported right way\n",
    "#             self.clf = pickle.load(f)\n",
    "        \n",
    "#         # Return the model to use in run(self, locus)\n",
    "#         return self.clf\n",
    "\n",
    "\n",
    "        n_estimators=100 \n",
    "        max_depth=35 \n",
    "        random_state=11\n",
    "        max_features=35\n",
    "        with open(f'./model/cls=binary_n_estimators={n_estimators}_max_depth={max_depth}_rs={random_state}_max_feats={max_features}_cw=balanced.pkl', 'rb') as f:\n",
    "            self.clf = pickle.load(f)\n",
    "\n",
    "        return self\n",
    "\n",
    "    def run(self, locus):\n",
    "        \"\"\"\n",
    "        Send alerts to stream 'LAISS_RFC_AD_filter' if alert was received from 'lc_feature_extractor' filter,\n",
    "        assigned an anomaly score from trained RFC model (requires both R, g bands),\n",
    "        and passes strict masking requirement to filter out unwanted periodic objects to maximise anomalous,\n",
    "        transient events. \n",
    "        \"\"\"\n",
    "        print(\"##############\")\n",
    "        # Required: if the loci has passed through the 'lc_feature_extractor' filter\n",
    "        if 'lc_feature_extractor' in locus.tags:\n",
    "            \n",
    "            # from locus info, get ra,dec and cut on objs in galactic plane\n",
    "            loci_coord = SkyCoord(locus.ra*u.deg, \n",
    "                                     locus.dec*u.deg, \n",
    "                                     frame=\"icrs\", \n",
    "                                     unit='deg')\n",
    "            loci_galcoord = loci_coord.galactic\n",
    "            # cut on anything in galactic plane\n",
    "            if np.abs(loci_galcoord.b.degree) < 15:\n",
    "                print(f\"In galactic plane at b={loci_galcoord.b.degree}. Don't use. Skip!\")\n",
    "                return\n",
    "\n",
    "            # Make dictionary. Make keys ZTF IDs\n",
    "            locus_dict = {}\n",
    "            ztf_id = locus.properties['ztf_object_id']\n",
    "            print(f\"Processing https://alerce.online/object/{ztf_id}\")\n",
    "            # Get extracted LC feature values from ANTARES db\n",
    "            try:\n",
    "                locus_dict[ztf_id] = [locus.properties[feature] for feature in self.feature_names_r_g]\n",
    "            except:\n",
    "                print(f\"Only one passband of LC feature data for {ztf_id}. Skip!\")\n",
    "                return\n",
    "            loci_df = pd.DataFrame.from_dict(locus_dict).T\n",
    "            loci_df.columns = self.feature_names_r_g\n",
    "\n",
    "            # Drop row if any feature values are nan\n",
    "            loci_df = loci_df[~loci_df[self.feature_names_r_g].isnull().any(axis=1)]\n",
    "            loci_df['TransientName'] = ztf_id\n",
    "            loci_df = loci_df.set_index('TransientName')\n",
    "            \n",
    "            if len(loci_df) < 1:\n",
    "                print(f\"Had NaN features. Must drop {ztf_id}. Skip!\")\n",
    "                return\n",
    "            \n",
    "            #print(loci_df)\n",
    "            \n",
    "            # Query for Alerce best classifier result (i.e. what is displayed on the object page)\n",
    "            try:\n",
    "                probabilities = alerce.query_probabilities(ztf_id)\n",
    "                alerce_cls = get_alerce_class(probabilities)\n",
    "                print(\"alerce_cls\", alerce_cls)\n",
    "            except:\n",
    "                print(f\"Error getting best alerce classifier result for {ztf_id}. Skip!\")\n",
    "                alerce_cls = 'Error'\n",
    "                return\n",
    "            \n",
    "            # If Alerce's classifier does not say SN, don't consider this object\n",
    "            # Cuts many stars, AGN, etc. that are outside of galactic plane\n",
    "            if not alerce_cls.startswith('S'): \n",
    "                # Alerce LC classifier possible classes: \n",
    "                #   ['AGN', 'Blazar', 'CEP', 'CV/Nova', 'DSCT', 'E', 'Error', 'LPV',\n",
    "                #  'Not_classified', 'Periodic-Other', 'QSO', 'RRL', 'SLSN', 'SN',\n",
    "                #   'SNII', 'SNIa', 'SNIbc', 'VS', 'YSO', 'asteroid', 'bogus']\n",
    "                \n",
    "                # Alerce Stamp classifier possible classes:\n",
    "                #   ['AGN', 'asteroid', 'bogus, 'SN', 'VS']\n",
    "                print(f\"Alerce class={alerce_cls} is not SN ('SLSN', 'SN', 'SNII', 'SNIa', 'SNIbc') for {ztf_id}. Skip!\")\n",
    "                return\n",
    "            \n",
    "            # Passed first round of cuts.\n",
    "            # Now, get GHOST host association for host galaxy features.\n",
    "            with tempfile.TemporaryDirectory() as tmp:\n",
    "                \n",
    "                #TODO: in future, save GHOST events. And then if obj has GHOST host features,\n",
    "                # then don't run again b/c host won't change...\n",
    "                \n",
    "                try: \n",
    "                    # in new version, snName -> transientName\n",
    "                    hosts_df = getTransientHosts(transientName=[ztf_id], snCoord=[loci_coord], GLADE=True, verbose=1, starcut='gentle', \n",
    "                                              ascentMatch=False, savepath=tmp, redo_search=True)\n",
    "                    print(f'http://ps1images.stsci.edu/cgi-bin/ps1cutouts?pos={hosts_df.raMean.values[0]}+{hosts_df.decMean.values[0]}&filter=color')\n",
    "                    hosts_df = hosts_df.set_index('TransientName')\n",
    "                    #print(list(hosts_df.columns))\n",
    "                    #print(set(list(self.feature_names_hostgal)) - set(list(hosts_df.columns)))\n",
    "                    hosts_df = hosts_df[self.feature_names_hostgal]\n",
    "                    #print(hosts_df)\n",
    "                    \n",
    "                except:\n",
    "                    print(f\"GHOST host association fails for {ztf_id}. Skip!\")\n",
    "                    return\n",
    "            # Got a GHOST host association. \n",
    "            # Match PS1 objIDs from GHOST into PS1 PSC, \n",
    "            # and cut to only retain extended sources (galaxies) at location of the host (not transient).\n",
    "            \n",
    "            # TODO, but ps1-psc is ~18GBs, so make sure it's ok w/ ANTARES before downloading\n",
    "            # For now, move on...    \n",
    "                \n",
    "            # Combine LC and host galaxy features into one dataframe.\n",
    "            # We will use this as input into RFC!\n",
    "            lc_and_hosts_df = pd.concat([loci_df, hosts_df], axis=1)\n",
    "            #lc_and_hosts_df['dist/DLR'] = np.nan # To test NaN features        \n",
    "            lc_and_hosts_df = lc_and_hosts_df[~lc_and_hosts_df.isnull().any(axis=1)]\n",
    "\n",
    "            if len(lc_and_hosts_df) < 1:\n",
    "                # if any features are nan, we can't use as input\n",
    "                print(f\"Some features are NaN for {ztf_id}. Skip!\")\n",
    "                return\n",
    "\n",
    "            \n",
    "            #print(lc_and_hosts_df) \n",
    "            anom_thresh = 50 # 50% thresh for 'Anomaly' or 'Other' class\n",
    "            try:\n",
    "                pred_prob_anom = 100 * self.clf.predict_proba(lc_and_hosts_df)\n",
    "                num_anom_epochs = len(np.where(pred_prob_anom[:, 1]>=anom_thresh)[0])\n",
    "                #print(\"pred_prob_anom\", pred_prob_anom)\n",
    "                #print(\"Len\", len(pred_prob_anom))\n",
    "            except:\n",
    "                print(f\"Something wrong when fitting the model for {ztf_id}. Skip!\")\n",
    "                return\n",
    "\n",
    "            if round(pred_prob_anom[:, 1][0], 2) < anom_thresh:\n",
    "                print(f\"{ztf_id} is NOT anomalous according to RFC model (anom score={round(pred_prob_anom[:, 1][0], 2)}%). Skip!\")\n",
    "                return\n",
    "            \n",
    "            else: \n",
    "                # Assign locus property saving anomaly score\n",
    "                locus.properties['LAISS_RFC_anomaly_score'] = round(pred_prob_anom[:, 1][0], 2)\n",
    "                print(f\"{ztf_id} is ANOMALOUS! LAISS_RFC_anomaly_score={round(pred_prob_anom[:, 1][0], 2)}%\")\n",
    "\n",
    "                # Plot since passed anomaly threshold\n",
    "                df_ref = locus.timeseries.to_pandas()\n",
    "\n",
    "                df_ref_g = df_ref[(df_ref.ant_passband == 'g') & (~df_ref.ant_mag.isna())]\n",
    "                df_ref_r = df_ref[(df_ref.ant_passband == 'R') & (~df_ref.ant_mag.isna())]\n",
    "\n",
    "                mjd_idx_at_min_mag_r_ref = df_ref_r[['ant_mag']].reset_index().idxmin().ant_mag\n",
    "                mjd_idx_at_min_mag_g_ref = df_ref_g[['ant_mag']].reset_index().idxmin().ant_mag\n",
    "\n",
    "                fig, (ax1, ax2) = plt.subplots(2, 1, sharex=True, figsize=(5,7))\n",
    "                ax1.invert_yaxis()\n",
    "                ax1.errorbar(x=df_ref_r.ant_mjd, y=df_ref_r.ant_mag, yerr=df_ref_r.ant_magerr, fmt='o', c='r', \n",
    "                            label=f'REF: {ztf_id}')\n",
    "                ax1.errorbar(x=df_ref_g.ant_mjd, y=df_ref_g.ant_mag, yerr=df_ref_g.ant_magerr, fmt='o', c='g')\n",
    "                if df_ref_g.ant_mjd[-1] < df_ref_r.ant_mjd[-1]:\n",
    "                    ax1.axvline(x=df_ref_r.ant_mjd[-1], c='#ff7f0e')\n",
    "                else: ax1.axvline(x=df_ref_g.ant_mjd[-1], c='#ff7f0e')\n",
    "                #ax1.set_xlim(min(df_ref_r.ant_mjd), max(df_ref_r.ant_mjd))\n",
    "\n",
    "                print(f'https://alerce.online/object/{ztf_id}')\n",
    "                ax2.scatter(df_ref_r.ant_mjd[-1], pred_prob_anom[:, 0], label='p(Normal)')\n",
    "                ax2.scatter(df_ref_r.ant_mjd[-1], pred_prob_anom[:, 1], label='p(Other)')\n",
    "                ax2.axhline(y=anom_thresh, c='k', ls='--')\n",
    "\n",
    "\n",
    "\n",
    "                ax2.set_ylim(0,100)\n",
    "                plt.xlabel('ant_mjd')\n",
    "                plt.ylabel('Probability (%)')\n",
    "                plt.legend()\n",
    "                plt.show()\n",
    "\n",
    "\n",
    "                # TAG Locus if passed anomaly threshold!\n",
    "                locus.tag('LAISS_RFC_AD_filter')\n",
    "                    \n",
    "\n",
    "        else:\n",
    "            locus.properties['anomaly_type'] = 'TBD'\n",
    "            pass"
   ]
  },
  {
   "cell_type": "code",
   "execution_count": 31,
   "id": "88e65ead-59e8-47f2-977c-50b01f3178db",
   "metadata": {},
   "outputs": [
    {
     "name": "stderr",
     "output_type": "stream",
     "text": [
      "Span has already been finished; will not be reported again.\n"
     ]
    },
    {
     "name": "stdout",
     "output_type": "stream",
     "text": [
      "GHOST database already exists in the install path!\n",
      "##############\n",
      "Processing https://alerce.online/object/ZTF21aarqkes\n",
      "alerce_cls SNIa\n",
      "1 transients not found in GHOST by name, trying a coordinate search...\n",
      "1 transients not found in GHOST by name or coordinates, manually associating...\n",
      "Found 1 hosts in GLADE! See gladeDLR.txt for details.\n",
      "Warning! Host of ZTF21aarqkes is the hierarchical child of another object in Simbad, choosing parent as host instead...\n",
      "Found matches for 100.0% of events.\n",
      "Saving table of hosts to /tmp/tmp40s7zsuutransients_20230704092156177320/tables/FinalAssociationTable.csv.\n",
      "0 transients found by name, 0 transients found by coordinates, 1 transients manually associated.\n",
      "http://ps1images.stsci.edu/cgi-bin/ps1cutouts?pos=154.10708956+73.36285704&filter=color\n",
      "Some features are NaN for ZTF21aarqkes. Skip!\n",
      "{'locus_id': 'ANT2021i7jbu', 'locus_data': FilterContext(locus_id=\"ANT2021i7jbu\"), 't': 3.462991503000012, 'new_locus_properties': {}, 'new_alert_properties': {}, 'new_tags': set(), 'raised_halt': False}\n",
      "CPU times: user 3.54 s, sys: 325 ms, total: 3.86 s\n",
      "Wall time: 11.9 s\n"
     ]
    }
   ],
   "source": [
    "%%time\n",
    "#report = dk.run_filter(LAISS_RFC_AD_filter, locus='ANT2020aes3osq') # SLSN - yes anom\n",
    "#report = dk.run_filter(LAISS_RFC_AD_filter, locus='ANT2022a6ub4') # Faint SN - no anom\n",
    "#report = dk.run_filter(LAISS_RFC_AD_filter, locus='ANT2022azfzi') # SN - no anom\n",
    "#report = dk.run_filter(LAISS_RFC_AD_filter, locus='ANT20235wlqblnn7mgp') # Bright Ia - no anom\n",
    "#report = dk.run_filter(LAISS_RFC_AD_filter, locus='ANT2020ae6pkcy') # Ic that's anom - ghost features don't return the right ones from SIMBAD hierarchical stuff\n",
    "# - now wrong host assoc\n",
    "#report = dk.run_filter(LAISS_RFC_AD_filter, locus='ANT20202oqw4') # Ic that's anom - is GLADE but doesn't return right PS1 features - 0.2.10 updates fixes it!\n",
    "#report = dk.run_filter(LAISS_RFC_AD_filter, locus='ANT2021cydny') # IIn that's anom\n",
    "#report = dk.run_filter(LAISS_RFC_AD_filter, locus='ANT2023wo615uyufi6e') # 2023kqw - has enough obs but not lc_feature_extractor???\n",
    "#report = dk.run_filter(LAISS_RFC_AD_filter, locus='ANT2023gw31ziyqzwdw') # 2023gpw - some host features NaN\n",
    "#report = dk.run_filter(LAISS_RFC_AD_filter, locus='ANT2018dl52m') # Star - galactic plane\n",
    "#report = dk.run_filter(LAISS_RFC_AD_filter, locus='ANT2019nogmu') # Star - not in galactic plane\n",
    "\n",
    "report = dk.run_filter(LAISS_RFC_AD_filter, locus='ANT2021i7jbu') # 2021hpr\n",
    "\n",
    "#report = dk.run_filter(LAISS_RFC_AD_filter)\n",
    "print(report)"
   ]
  },
  {
   "cell_type": "code",
   "execution_count": 24,
   "id": "8979595f-1b57-4434-8544-ca50e9a5eb1e",
   "metadata": {},
   "outputs": [
    {
     "name": "stderr",
     "output_type": "stream",
     "text": [
      "Span has already been finished; will not be reported again.\n"
     ]
    },
    {
     "name": "stdout",
     "output_type": "stream",
     "text": [
      "GHOST database already exists in the install path!\n",
      "##############\n",
      "In galactic plane at b=12.453769591179459. Don't use. Skip!\n"
     ]
    },
    {
     "name": "stderr",
     "output_type": "stream",
     "text": [
      "Span has already been finished; will not be reported again.\n"
     ]
    },
    {
     "name": "stdout",
     "output_type": "stream",
     "text": [
      "GHOST database already exists in the install path!\n",
      "2023-07-04 09:11:40,931 - WARNING MainThread cassandra.py:list_by_location:1187 - Catalog object not found (catalog_id=19, object_id=767849552)\n",
      "##############\n",
      "Processing https://alerce.online/object/ZTF22aarpwpj\n",
      "alerce_cls Blazar\n",
      "Alerce class=Blazar is not SN ('SLSN', 'SN', 'SNII', 'SNIa', 'SNIbc') for ZTF22aarpwpj. Skip!\n"
     ]
    },
    {
     "name": "stderr",
     "output_type": "stream",
     "text": [
      "Span has already been finished; will not be reported again.\n"
     ]
    },
    {
     "name": "stdout",
     "output_type": "stream",
     "text": [
      "GHOST database already exists in the install path!\n",
      "##############\n",
      "Processing https://alerce.online/object/ZTF23aakhjuz\n",
      "alerce_cls SNIbc\n",
      "1 transients not found in GHOST by name, trying a coordinate search...\n",
      "1 transients not found in GHOST by name or coordinates, manually associating...\n",
      "Found no hosts in GLADE.\n",
      "Finding northern sources with Pan-starrs...\n",
      "Associated fraction after quality cuts: 100.00%.\n",
      "Loading model Star_Galaxy_RealisticModel_GHOST_PS1ClassLabels.sav.\n",
      "Removed 7 stars. We now have 13 candidate host galaxies.\n",
      "Found matches for 100.0% of events.\n",
      "Saving table of hosts to /tmp/tmpdgvpfhzvtransients_20230704091155538398/tables/FinalAssociationTable.csv.\n",
      "0 transients found by name, 0 transients found by coordinates, 1 transients manually associated.\n",
      "http://ps1images.stsci.edu/cgi-bin/ps1cutouts?pos=263.34870468+51.16505455&filter=color\n",
      "ZTF23aakhjuz is NOT anomalous according to RFC model (anom score=37.0%). Skip!\n"
     ]
    },
    {
     "name": "stderr",
     "output_type": "stream",
     "text": [
      "[Parallel(n_jobs=40)]: Using backend ThreadingBackend with 40 concurrent workers.\n",
      "[Parallel(n_jobs=40)]: Done 100 out of 100 | elapsed:    0.0s finished\n",
      "Span has already been finished; will not be reported again.\n"
     ]
    },
    {
     "name": "stdout",
     "output_type": "stream",
     "text": [
      "GHOST database already exists in the install path!\n",
      "##############\n",
      "Processing https://alerce.online/object/ZTF23aagdbbv\n",
      "alerce_cls QSO\n",
      "Alerce class=QSO is not SN ('SLSN', 'SN', 'SNII', 'SNIa', 'SNIbc') for ZTF23aagdbbv. Skip!\n"
     ]
    },
    {
     "name": "stderr",
     "output_type": "stream",
     "text": [
      "Span has already been finished; will not be reported again.\n"
     ]
    },
    {
     "name": "stdout",
     "output_type": "stream",
     "text": [
      "GHOST database already exists in the install path!\n",
      "##############\n",
      "Processing https://alerce.online/object/ZTF23aahjfab\n",
      "alerce_cls SNIa\n",
      "1 transients not found in GHOST by name, trying a coordinate search...\n",
      "1 transients not found in GHOST by name or coordinates, manually associating...\n",
      "Found no hosts in GLADE.\n",
      "Finding northern sources with Pan-starrs...\n",
      "Associated fraction after quality cuts: 100.00%.\n",
      "Loading model Star_Galaxy_RealisticModel_GHOST_PS1ClassLabels.sav.\n",
      "Removed 14 stars. We now have 9 candidate host galaxies.\n",
      "Found matches for 100.0% of events.\n",
      "Saving table of hosts to /tmp/tmp9561qfhvtransients_20230704091206925847/tables/FinalAssociationTable.csv.\n",
      "0 transients found by name, 0 transients found by coordinates, 1 transients manually associated.\n",
      "http://ps1images.stsci.edu/cgi-bin/ps1cutouts?pos=262.79435469+29.62719334&filter=color\n",
      "ZTF23aahjfab is NOT anomalous according to RFC model (anom score=29.0%). Skip!\n"
     ]
    },
    {
     "name": "stderr",
     "output_type": "stream",
     "text": [
      "[Parallel(n_jobs=40)]: Using backend ThreadingBackend with 40 concurrent workers.\n",
      "[Parallel(n_jobs=40)]: Done 100 out of 100 | elapsed:    0.0s finished\n",
      "Span has already been finished; will not be reported again.\n"
     ]
    },
    {
     "name": "stdout",
     "output_type": "stream",
     "text": [
      "GHOST database already exists in the install path!\n",
      "##############\n",
      "Processing https://alerce.online/object/ZTF22abmubfr\n",
      "alerce_cls SLSN\n",
      "1 transients not found in GHOST by name, trying a coordinate search...\n",
      "1 transients not found in GHOST by name or coordinates, manually associating...\n",
      "Found no hosts in GLADE.\n",
      "Finding northern sources with Pan-starrs...\n",
      "Associated fraction after quality cuts: 100.00%.\n",
      "Loading model Star_Galaxy_RealisticModel_GHOST_PS1ClassLabels.sav.\n",
      "Removed 18 stars. We now have 12 candidate host galaxies.\n",
      "Found matches for 100.0% of events.\n",
      "Saving table of hosts to /tmp/tmpjb4g7r2htransients_20230704091215027321/tables/FinalAssociationTable.csv.\n",
      "0 transients found by name, 0 transients found by coordinates, 1 transients manually associated.\n",
      "http://ps1images.stsci.edu/cgi-bin/ps1cutouts?pos=326.50542262+30.84118273&filter=color\n",
      "ZTF22abmubfr is NOT anomalous according to RFC model (anom score=43.99%). Skip!\n"
     ]
    },
    {
     "name": "stderr",
     "output_type": "stream",
     "text": [
      "[Parallel(n_jobs=40)]: Using backend ThreadingBackend with 40 concurrent workers.\n",
      "[Parallel(n_jobs=40)]: Done 100 out of 100 | elapsed:    0.0s finished\n",
      "Span has already been finished; will not be reported again.\n"
     ]
    },
    {
     "name": "stdout",
     "output_type": "stream",
     "text": [
      "GHOST database already exists in the install path!\n",
      "##############\n",
      "Processing https://alerce.online/object/ZTF17aabtvsy\n",
      "alerce_cls SNIa\n",
      "1 transients not found in GHOST by name, trying a coordinate search...\n",
      "1 transients not found in GHOST by name or coordinates, manually associating...\n",
      "Found 1 hosts in GLADE! See gladeDLR.txt for details.\n",
      "GHOST host association fails for ZTF17aabtvsy. Skip!\n"
     ]
    },
    {
     "name": "stderr",
     "output_type": "stream",
     "text": [
      "Span has already been finished; will not be reported again.\n"
     ]
    },
    {
     "name": "stdout",
     "output_type": "stream",
     "text": [
      "GHOST database already exists in the install path!\n",
      "##############\n",
      "Processing https://alerce.online/object/ZTF22abfdzrv\n",
      "alerce_cls SLSN\n",
      "1 transients not found in GHOST by name, trying a coordinate search...\n",
      "1 transients not found in GHOST by name or coordinates, manually associating...\n",
      "Found no hosts in GLADE.\n",
      "Finding northern sources with Pan-starrs...\n",
      "Associated fraction after quality cuts: 100.00%.\n",
      "Loading model Star_Galaxy_RealisticModel_GHOST_PS1ClassLabels.sav.\n",
      "Removed 9 stars. We now have 7 candidate host galaxies.\n",
      "Found matches for 0.0% of events.\n",
      "Saving table of hosts to /tmp/tmp7x7qal4atransients_20230704091230567064/tables/FinalAssociationTable.csv.\n",
      "Couldn't find any hosts! Trying again with a search radius of 150''.\n",
      "Found no hosts in GLADE.\n",
      "Finding northern sources with Pan-starrs...\n",
      "Associated fraction after quality cuts: 100.00%.\n",
      "Loading model Star_Galaxy_RealisticModel_GHOST_PS1ClassLabels.sav.\n",
      "Removed 50 stars. We now have 48 candidate host galaxies.\n",
      "Desperate match found for ZTF22abfdzrv, 132.52 arcsec away.\n",
      "Found matches for 100.0% of events.\n",
      "Saving table of hosts to /tmp/tmp7x7qal4atransients_20230704091233781795/tables/FinalAssociationTable.csv.\n",
      "0 transients found by name, 0 transients found by coordinates, 1 transients manually associated.\n",
      "http://ps1images.stsci.edu/cgi-bin/ps1cutouts?pos=324.41048667+16.33348846&filter=color\n",
      "ZTF22abfdzrv is ANOMALOUS! LAISS_RFC_anomaly_score=69.0%\n"
     ]
    },
    {
     "name": "stderr",
     "output_type": "stream",
     "text": [
      "[Parallel(n_jobs=40)]: Using backend ThreadingBackend with 40 concurrent workers.\n",
      "[Parallel(n_jobs=40)]: Done 100 out of 100 | elapsed:    0.0s finished\n"
     ]
    },
    {
     "name": "stdout",
     "output_type": "stream",
     "text": [
      "https://alerce.online/object/ZTF22abfdzrv\n"
     ]
    },
    {
     "data": {
      "image/png": "[encoded data removed]",
      "text/plain": [
       "<Figure size 500x700 with 2 Axes>"
      ]
     },
     "metadata": {},
     "output_type": "display_data"
    },
    {
     "name": "stderr",
     "output_type": "stream",
     "text": [
      "Span has already been finished; will not be reported again.\n"
     ]
    },
    {
     "name": "stdout",
     "output_type": "stream",
     "text": [
      "GHOST database already exists in the install path!\n",
      "##############\n",
      "Processing https://alerce.online/object/ZTF22aapjqpn\n",
      "alerce_cls SLSN\n",
      "1 transients not found in GHOST by name, trying a coordinate search...\n",
      "1 transients not found in GHOST by name or coordinates, manually associating...\n",
      "Found no hosts in GLADE.\n",
      "Finding northern sources with Pan-starrs...\n",
      "Associated fraction after quality cuts: 100.00%.\n",
      "Loading model Star_Galaxy_RealisticModel_GHOST_PS1ClassLabels.sav.\n",
      "Removed 7 stars. We now have 5 candidate host galaxies.\n",
      "Found matches for 0.0% of events.\n",
      "Saving table of hosts to /tmp/tmpgqysvf3rtransients_20230704091251748297/tables/FinalAssociationTable.csv.\n",
      "Couldn't find any hosts! Trying again with a search radius of 150''.\n",
      "Found no hosts in GLADE.\n",
      "Finding northern sources with Pan-starrs...\n",
      "Associated fraction after quality cuts: 100.00%.\n",
      "Loading model Star_Galaxy_RealisticModel_GHOST_PS1ClassLabels.sav.\n",
      "Removed 63 stars. We now have 26 candidate host galaxies.\n",
      "Found matches for 0.0% of events.\n",
      "Saving table of hosts to /tmp/tmpgqysvf3rtransients_20230704091254110399/tables/FinalAssociationTable.csv.\n",
      "0 transients found by name, 0 transients found by coordinates, 0 transients manually associated.\n",
      "GHOST host association fails for ZTF22aapjqpn. Skip!\n"
     ]
    },
    {
     "name": "stderr",
     "output_type": "stream",
     "text": [
      "Span has already been finished; will not be reported again.\n"
     ]
    },
    {
     "name": "stdout",
     "output_type": "stream",
     "text": [
      "GHOST database already exists in the install path!\n",
      "##############\n",
      "Processing https://alerce.online/object/ZTF22aapkbkl\n",
      "alerce_cls SLSN\n",
      "1 transients not found in GHOST by name, trying a coordinate search...\n",
      "1 transients not found in GHOST by name or coordinates, manually associating...\n",
      "Found no hosts in GLADE.\n",
      "Finding northern sources with Pan-starrs...\n",
      "Associated fraction after quality cuts: 100.00%.\n",
      "Loading model Star_Galaxy_RealisticModel_GHOST_PS1ClassLabels.sav.\n",
      "Removed 2 stars. We now have 7 candidate host galaxies.\n",
      "Desperate match found for ZTF22aapkbkl, 49.33 arcsec away.\n",
      "Found matches for 100.0% of events.\n",
      "Saving table of hosts to /tmp/tmp01umhn0_transients_20230704091307815664/tables/FinalAssociationTable.csv.\n",
      "0 transients found by name, 0 transients found by coordinates, 1 transients manually associated.\n",
      "http://ps1images.stsci.edu/cgi-bin/ps1cutouts?pos=356.4045722+29.63976879&filter=color\n",
      "Some features are NaN for ZTF22aapkbkl. Skip!\n",
      "CPU times: user 52.9 s, sys: 2.61 s, total: 55.5 s\n",
      "Wall time: 1min 35s\n"
     ]
    }
   ],
   "source": [
    "%%time\n",
    "locus_l = ['ANT2023qm4kk6rumag1','ANT2023aq21pb8wwx9h','ANT2023lwkizc214v3c','ANT2023qqx12rcysbiu','ANT2023hprgweyn8fyx',\n",
    "           'ANT2022y495anna579h','ANT20223vl41wbwvauh','ANT2022kru0dw8kijis','ANT202297goejtz3so3','ANT20225fx7wc8r3nvv']\n",
    "for loc in locus_l:\n",
    "    report = dk.run_filter(LAISS_RFC_AD_filter, locus=loc)"
   ]
  },
  {
   "cell_type": "code",
   "execution_count": 4,
   "id": "71e6d31f-e61f-4dfd-984a-e731f2c47b4d",
   "metadata": {},
   "outputs": [
    {
     "name": "stderr",
     "output_type": "stream",
     "text": [
      "Span has already been finished; will not be reported again.\n"
     ]
    },
    {
     "name": "stdout",
     "output_type": "stream",
     "text": [
      "GHOST database already exists in the install path!\n",
      "In galactic plane at b=-2.9069279443027964. Don't use. Skip!\n",
      "In galactic plane at b=-4.016961770457901. Don't use. Skip!\n",
      "In galactic plane at b=-1.904470200438129. Don't use. Skip!\n",
      "In galactic plane at b=-6.483210251323878. Don't use. Skip!\n",
      "Locus ANT2019pry2y skipped because it doesn't satisfy the filter constraints: a property is not in the Locus's input_properties or alert properties or an input_tag is not in the Locus's input_tags.\n",
      "In galactic plane at b=-1.1728040497514767. Don't use. Skip!\n",
      "In galactic plane at b=-0.3491050903378238. Don't use. Skip!\n",
      "In galactic plane at b=-1.461311185741395. Don't use. Skip!\n",
      "In galactic plane at b=-2.752541426153285. Don't use. Skip!\n"
     ]
    },
    {
     "name": "stderr",
     "output_type": "stream",
     "text": [
      "\n",
      "KeyboardInterrupt\n",
      "\n"
     ]
    }
   ],
   "source": [
    "%%time\n",
    "\n",
    "# run LAISS_RFC_AD_filter on n random Locus Ids\n",
    "report = dk.run_many(LAISS_RFC_AD_filter, n=100)\n",
    "\n",
    "print(report)"
   ]
  },
  {
   "cell_type": "code",
   "execution_count": 20,
   "id": "e4cf0e22-fa9b-43b6-a6de-98bd0a5b7d36",
   "metadata": {},
   "outputs": [
    {
     "data": {
      "text/plain": [
       "'2.0.10'"
      ]
     },
     "execution_count": 20,
     "metadata": {},
     "output_type": "execute_result"
    }
   ],
   "source": [
    "astro_ghost.__version__"
   ]
  },
  {
   "cell_type": "code",
   "execution_count": 21,
   "id": "d44ae923-e0b3-45c5-bbe0-f4dc669ef0d3",
   "metadata": {},
   "outputs": [
    {
     "data": {
      "text/plain": [
       "'5.2.1'"
      ]
     },
     "execution_count": 21,
     "metadata": {},
     "output_type": "execute_result"
    }
   ],
   "source": [
    "import astropy\n",
    "astropy.__version__"
   ]
  },
  {
   "cell_type": "code",
   "execution_count": 5,
   "id": "14855f08-fd94-4fdd-b337-784e00d6b194",
   "metadata": {},
   "outputs": [
    {
     "name": "stdout",
     "output_type": "stream",
     "text": [
      "CPU times: user 1min 44s, sys: 2.72 s, total: 1min 47s\n",
      "Wall time: 5min 55s\n"
     ]
    },
    {
     "data": {
      "text/plain": [
       "['ANT2019zm34o',\n",
       " 'ANT2020vn226',\n",
       " 'ANT2019f4h3k',\n",
       " 'ANT2020nbolq',\n",
       " 'ANT2019zm3wm',\n",
       " 'ANT2019oyskg',\n",
       " 'ANT2020ywskc',\n",
       " 'ANT2019t2t56',\n",
       " 'ANT2020bd7ck',\n",
       " 'ANT2020a5224',\n",
       " 'ANT2019vca4y',\n",
       " 'ANT2019ymwmo',\n",
       " 'ANT2020aertkyq',\n",
       " 'ANT2020djdng',\n",
       " 'ANT2020jos4c',\n",
       " 'ANT2020dlmie',\n",
       " 'ANT2020runso',\n",
       " 'ANT20234hadr3mv1nfu',\n",
       " 'ANT2023kgeeduds81mi',\n",
       " 'ANT2021r5crq',\n",
       " 'ANT2021nwkkm',\n",
       " 'ANT2020fbg56',\n",
       " 'ANT2020aeocu',\n",
       " 'ANT2020bu6y6',\n",
       " 'ANT2022baf2q',\n",
       " 'ANT2021n6vqe',\n",
       " 'ANT2020mtiyy',\n",
       " 'ANT2020bkguy',\n",
       " 'ANT2022lwpa',\n",
       " 'ANT2020vtja',\n",
       " 'ANT2021comuk',\n",
       " 'ANT2020apqjq',\n",
       " 'ANT2022bjoz6',\n",
       " 'ANT2021coeua',\n",
       " 'ANT2020bh2jy',\n",
       " 'ANT2020a6pum',\n",
       " 'ANT2020a7szm',\n",
       " 'ANT2021pvdf2',\n",
       " 'ANT2020batk6',\n",
       " 'ANT2019kvaa4',\n",
       " 'ANT2022hj3ipo2puuz0',\n",
       " 'ANT2022xwz1lpmrmd9d',\n",
       " 'ANT20232ayv46d65eit',\n",
       " 'ANT2022ch7uy',\n",
       " 'ANT2021p7nki',\n",
       " 'ANT2023zw1b5a1q2spa',\n",
       " 'ANT2021ly5nu',\n",
       " 'ANT2021hv4ku',\n",
       " 'ANT2020bfaj6',\n",
       " 'ANT2019fpoog',\n",
       " 'ANT2020and4y',\n",
       " 'ANT2023mdw73nvg43y9',\n",
       " 'ANT2022ggua',\n",
       " 'ANT2021mkgei',\n",
       " 'ANT2021inye6',\n",
       " 'ANT2023x11t0uhbwbqy',\n",
       " 'ANT20224r6yjy3ycrzn',\n",
       " 'ANT20227uqs663aj6q0',\n",
       " 'ANT2021rms6g',\n",
       " 'ANT2023rzpv1i044sfh',\n",
       " 'ANT2019tdxp6',\n",
       " 'ANT2021jawf6',\n",
       " 'ANT2023ri6m31of744e',\n",
       " 'ANT2020wkajq',\n",
       " 'ANT2022apqsy',\n",
       " 'ANT2020af5u2',\n",
       " 'ANT2018b7xye',\n",
       " 'ANT2018fihym',\n",
       " 'ANT2021hkkn2',\n",
       " 'ANT20204tbq',\n",
       " 'ANT2021j3luc',\n",
       " 'ANT20236z2hviokizw1',\n",
       " 'ANT2023naq5mq7wwvyx',\n",
       " 'ANT2020c2bo2',\n",
       " 'ANT2018akdqs',\n",
       " 'ANT2022oerpuybknbc6',\n",
       " 'ANT2021o6rca',\n",
       " 'ANT202323rln15267ld',\n",
       " 'ANT2021mwnuw',\n",
       " 'ANT2020byxa',\n",
       " 'ANT2021tlpkq',\n",
       " 'ANT2020balfg',\n",
       " 'ANT2020ajhag',\n",
       " 'ANT2021mr6la',\n",
       " 'ANT2020joqfk',\n",
       " 'ANT2019l5v2g',\n",
       " 'ANT2020a7t4a',\n",
       " 'ANT2020cnuwq',\n",
       " 'ANT2021iwttg',\n",
       " 'ANT2022cfru4',\n",
       " 'ANT2019r4wj2',\n",
       " 'ANT2019xod3s',\n",
       " 'ANT2020b4fw4',\n",
       " 'ANT2022ahcsc',\n",
       " 'ANT2022ahefa',\n",
       " 'ANT2022z2d0w79kxzdc',\n",
       " 'ANT2020cqv32',\n",
       " 'ANT2020ecsgw',\n",
       " 'ANT2020crbm2',\n",
       " 'ANT2021mr5po',\n",
       " 'ANT2023c4i571vzvisp',\n",
       " 'ANT2021l2pfs',\n",
       " 'ANT2019sab4c',\n",
       " 'ANT2021qscoi',\n",
       " 'ANT2022aevf2',\n",
       " 'ANT2020iw76i',\n",
       " 'ANT2021lsavc',\n",
       " 'ANT2021huvnk',\n",
       " 'ANT2020bfrsu',\n",
       " 'ANT2019zbzby',\n",
       " 'ANT2020am7xy',\n",
       " 'ANT2020bfys4',\n",
       " 'ANT2020bmup2',\n",
       " 'ANT2020am6ug',\n",
       " 'ANT2020bgxjw',\n",
       " 'ANT2021jwpqu',\n",
       " 'ANT2019nbs4i',\n",
       " 'ANT2020a7ijc',\n",
       " 'ANT2019nc5ys',\n",
       " 'ANT2020p6ga',\n",
       " 'ANT2022ccxps',\n",
       " 'ANT2022m0v8cl4g0bsc',\n",
       " 'ANT2020assj6',\n",
       " 'ANT2020asytm',\n",
       " 'ANT2021qp3yi',\n",
       " 'ANT2021p4hgu',\n",
       " 'ANT2020vhgsw',\n",
       " 'ANT2020u26hs',\n",
       " 'ANT2020ocgng',\n",
       " 'ANT2020afcipei',\n",
       " 'ANT2020aetcxai',\n",
       " 'ANT2020bsenw',\n",
       " 'ANT2021oaunk',\n",
       " 'ANT2020afido',\n",
       " 'ANT2022m8ybmvgfvzlb',\n",
       " 'ANT2020aef3rny',\n",
       " 'ANT2020bcl4a',\n",
       " 'ANT2022tom316dud0vq',\n",
       " 'ANT2022axqhn04r1eb9',\n",
       " 'ANT2022qyx187pv4ty4',\n",
       " 'ANT2021opjb4',\n",
       " 'ANT2021kaqsw',\n",
       " 'ANT2021pybpa',\n",
       " 'ANT2018fmyqi',\n",
       " 'ANT2020axwke',\n",
       " 'ANT2021tqxqs',\n",
       " 'ANT20216e5hq',\n",
       " 'ANT2023lehfxritbiui',\n",
       " 'ANT2020bur4a',\n",
       " 'ANT2021ryt5i',\n",
       " 'ANT2020enkg6',\n",
       " 'ANT2018esoaq',\n",
       " 'ANT2020bdbq4',\n",
       " 'ANT2020mnoty',\n",
       " 'ANT2020bcqqa',\n",
       " 'ANT2020bblju',\n",
       " 'ANT2020beeow',\n",
       " 'ANT2022e6h48b8rufq9',\n",
       " 'ANT2022tzabw6onsfmn',\n",
       " 'ANT2022952loqn2hjva',\n",
       " 'ANT2021qecmg',\n",
       " 'ANT2020rxlvq',\n",
       " 'ANT2021tzjre',\n",
       " 'ANT2021ypjd4',\n",
       " 'ANT2020buae6',\n",
       " 'ANT2020axxsa',\n",
       " 'ANT2022ntnh8ckqkuiw',\n",
       " 'ANT2021lvamc',\n",
       " 'ANT2020enkpw',\n",
       " 'ANT2021nwogy',\n",
       " 'ANT2021nwph4',\n",
       " 'ANT2021n4hiw',\n",
       " 'ANT2019u5v3s',\n",
       " 'ANT2021lno5w',\n",
       " 'ANT20230j0xoih9n378',\n",
       " 'ANT2021nzuh6',\n",
       " 'ANT2020b5fly',\n",
       " 'ANT2023jh088qozz9oc',\n",
       " 'ANT2021j7u5u',\n",
       " 'ANT2021m7nfs',\n",
       " 'ANT2021uwx3s',\n",
       " 'ANT2018agulo',\n",
       " 'ANT2020owbms',\n",
       " 'ANT2021j65f6',\n",
       " 'ANT2023htyy1ctjl4aq',\n",
       " 'ANT2020cs3p6',\n",
       " 'ANT2021ndxva',\n",
       " 'ANT20224fwu8fgu785q',\n",
       " 'ANT2023rtyev7mkhqe3',\n",
       " 'ANT2020d5pei',\n",
       " 'ANT2023u64yx3zj9k76',\n",
       " 'ANT2020o2rzs',\n",
       " 'ANT2022cfb6u',\n",
       " 'ANT2022ahixo',\n",
       " 'ANT20193isvw',\n",
       " 'ANT2020amwfi',\n",
       " 'ANT2020akg5a',\n",
       " 'ANT2019tzu4a',\n",
       " 'ANT2021niyhk',\n",
       " 'ANT2023qa02l3co8kdr',\n",
       " 'ANT2020cbjww',\n",
       " 'ANT2022bxeo4',\n",
       " 'ANT2020ahnbk',\n",
       " 'ANT2020aej6u',\n",
       " 'ANT2022lyoq',\n",
       " 'ANT2019wmb74',\n",
       " 'ANT2019zghty',\n",
       " 'ANT2020nhma',\n",
       " 'ANT2020d6mw6',\n",
       " 'ANT2021ki2be',\n",
       " 'ANT2019ufxfi',\n",
       " 'ANT2021glkgq',\n",
       " 'ANT2020bbcyo',\n",
       " 'ANT2022ahmr2',\n",
       " 'ANT2020o5na',\n",
       " 'ANT2023gw31ziyqzwdw',\n",
       " 'ANT2022ahgly',\n",
       " 'ANT2020atkbk',\n",
       " 'ANT2022eudq',\n",
       " 'ANT2023n6to4ryzq4d7',\n",
       " 'ANT2019fdoqk',\n",
       " 'ANT2022buj8djwlzyof',\n",
       " 'ANT20192uhkk',\n",
       " 'ANT2022vcfa',\n",
       " 'ANT2022zwnzmqzxzegu',\n",
       " 'ANT2021p4mda',\n",
       " 'ANT2022axunfnifphmt',\n",
       " 'ANT2019rvahi',\n",
       " 'ANT2022paw5vmfw8w7o',\n",
       " 'ANT2021qpgve',\n",
       " 'ANT2022t24an5nb4xwu',\n",
       " 'ANT2022zcoxhmonsbu2',\n",
       " 'ANT2021pagiy',\n",
       " 'ANT2022zemqnnxla83a',\n",
       " 'ANT2021pajva',\n",
       " 'ANT2022aag4ht57rg1z',\n",
       " 'ANT2022grd58j8mm54e',\n",
       " 'ANT20228h42jzzng86f',\n",
       " 'ANT2020ob7zs',\n",
       " 'ANT2022vs87532xk6ua',\n",
       " 'ANT2022wahncof5xspg',\n",
       " 'ANT2021slntm',\n",
       " 'ANT2022tlc7um3nss07',\n",
       " 'ANT2021sxqke',\n",
       " 'ANT2022v1uqljrxsfjv',\n",
       " 'ANT2021rzniw',\n",
       " 'ANT2022zemhv9fha3bc',\n",
       " 'ANT2022a9hw8ri2burw',\n",
       " 'ANT2022ugncpok38p3a',\n",
       " 'ANT2021yzaog',\n",
       " 'ANT2022u0wvy05e6dw1',\n",
       " 'ANT2021ndr6q',\n",
       " 'ANT2020nasfq',\n",
       " 'ANT2021nhwgm',\n",
       " 'ANT2021mk5uw',\n",
       " 'ANT20233rzd3vwlg65d',\n",
       " 'ANT2021k5hp6',\n",
       " 'ANT2022nck83qa6h6do',\n",
       " 'ANT2021k5zua',\n",
       " 'ANT2018b3wss',\n",
       " 'ANT20224yd4eei8s2rv',\n",
       " 'ANT2021idxyk',\n",
       " 'ANT2020exeek',\n",
       " 'ANT2022fq8h793v67cs',\n",
       " 'ANT2022nfpz5a5bvaja',\n",
       " 'ANT2023ldzvu5hw17ku',\n",
       " 'ANT2022azl3i',\n",
       " 'ANT20213jfuc',\n",
       " 'ANT2022fz62kmtw926i',\n",
       " 'ANT20212xt74',\n",
       " 'ANT2022vofqyyrhs2tw',\n",
       " 'ANT2020bp54u',\n",
       " 'ANT2020b2ubg',\n",
       " 'ANT2021kfavy',\n",
       " 'ANT2021mgjqi',\n",
       " 'ANT2022brrfo',\n",
       " 'ANT20237qg59m8i16jf',\n",
       " 'ANT2022vo30hyivzwws',\n",
       " 'ANT2021tnqr2',\n",
       " 'ANT2022qzpi7p0kdpcg',\n",
       " 'ANT2021mkhfc',\n",
       " 'ANT2020ars5q',\n",
       " 'ANT2022j5aamjqd8zez',\n",
       " 'ANT2022nrcjlhs8lnun',\n",
       " 'ANT2022dl5cj7wv22vs',\n",
       " 'ANT2020buryi',\n",
       " 'ANT2020aefzrey',\n",
       " 'ANT2022cg2hm',\n",
       " 'ANT2022aeyhg',\n",
       " 'ANT2019jemrq',\n",
       " 'ANT2023wraa0vgj5dg1',\n",
       " 'ANT2020bczny',\n",
       " 'ANT2021aegwf7a',\n",
       " 'ANT2019dx3ee',\n",
       " 'ANT2022ciqmi',\n",
       " 'ANT2022ljhq',\n",
       " 'ANT2023inozqbqg632u',\n",
       " 'ANT2022x7jymyf2xgol',\n",
       " 'ANT2019rn2ek',\n",
       " 'ANT2022cid2c',\n",
       " 'ANT2018agicg',\n",
       " 'ANT20202zs4a',\n",
       " 'ANT2020a45so',\n",
       " 'ANT2020oyb3m',\n",
       " 'ANT20220rn2020vw8yb',\n",
       " 'ANT2022kr4oybkblw2a',\n",
       " 'ANT2020aetlc',\n",
       " 'ANT2022bbgsc',\n",
       " 'ANT2020ak57a',\n",
       " 'ANT2023x3j0l1kga65f',\n",
       " 'ANT2020bvc3g',\n",
       " 'ANT2021ly67y',\n",
       " 'ANT2020aol3k',\n",
       " 'ANT2022n83msk37s3db',\n",
       " 'ANT2021nieng',\n",
       " 'ANT2020bbefs',\n",
       " 'ANT2020bbcpa',\n",
       " 'ANT2021n2pg2',\n",
       " 'ANT2020cru7o',\n",
       " 'ANT2021eianu',\n",
       " 'ANT2020bcnak',\n",
       " 'ANT2022qhqyve8uzboa',\n",
       " 'ANT2022t27wlcotzja8',\n",
       " 'ANT2020zeha',\n",
       " 'ANT2019kgh2y',\n",
       " 'ANT2022chok4',\n",
       " 'ANT2020vpkq',\n",
       " 'ANT2020aqexs',\n",
       " 'ANT2021ykjwm',\n",
       " 'ANT2018bwfeo',\n",
       " 'ANT2021nwp2y',\n",
       " 'ANT2020bbfwi',\n",
       " 'ANT2021n35rg',\n",
       " 'ANT2021n367w',\n",
       " 'ANT2020dzbvk',\n",
       " 'ANT2019mzzb6',\n",
       " 'ANT2020dzg2k',\n",
       " 'ANT2019f4cdk',\n",
       " 'ANT2020dzb3g',\n",
       " 'ANT2020eneea',\n",
       " 'ANT2023jmp3bok3elds',\n",
       " 'ANT2023fwr4syw1znem',\n",
       " 'ANT2020bchtu',\n",
       " 'ANT2021ouvmc',\n",
       " 'ANT2021ogksq',\n",
       " 'ANT2019v43rs',\n",
       " 'ANT2020w33o4',\n",
       " 'ANT20220d2ecjlegjdi',\n",
       " 'ANT2023wdbbnz1tp4dl',\n",
       " 'ANT202135zm2',\n",
       " 'ANT2021otbbw',\n",
       " 'ANT2023c302tlmqz2l5',\n",
       " 'ANT2022axc6cgxats67',\n",
       " 'ANT2023lj0qn15k45re',\n",
       " 'ANT2023y59cfr60y16g',\n",
       " 'ANT2022ahk56',\n",
       " 'ANT2018a3r6g',\n",
       " 'ANT2020slxmi',\n",
       " 'ANT2020anh2u',\n",
       " 'ANT2022aevfk',\n",
       " 'ANT2023qbgb9qvxyexz',\n",
       " 'ANT2020dw2go',\n",
       " 'ANT2021o5jms',\n",
       " 'ANT2022asd42',\n",
       " 'ANT2020bh6y2',\n",
       " 'ANT2022ubiwhs1h9qbg',\n",
       " 'ANT2022ccwye',\n",
       " 'ANT20221qymzww2zsb0',\n",
       " 'ANT2021xnyp4',\n",
       " 'ANT2019aque4',\n",
       " 'ANT20234i04e3izgltx',\n",
       " 'ANT2022wndiwd71k8xl',\n",
       " 'ANT20227d25wcbeffd9',\n",
       " 'ANT2018ocuvm',\n",
       " 'ANT2021sit2a',\n",
       " 'ANT2022nitpfn5foisj',\n",
       " 'ANT202236dso4jtomk3',\n",
       " 'ANT2021p4fa2',\n",
       " 'ANT2021oyut6',\n",
       " 'ANT2022fw5rkmllztpx',\n",
       " 'ANT2022aueliwn05830',\n",
       " 'ANT2022xsrkral1wjuo',\n",
       " 'ANT2021u4iuy',\n",
       " 'ANT2021mggk2',\n",
       " 'ANT2022otb0g5awlh4s',\n",
       " 'ANT2022x5lr4kfask70',\n",
       " 'ANT2022ewhimnaxyax5',\n",
       " 'ANT2021mxzi6',\n",
       " 'ANT20225btqlefs5xzv',\n",
       " 'ANT20225as6tbyxxli7',\n",
       " 'ANT2022aqrh4goqo29j',\n",
       " 'ANT202284agh4abt4lz',\n",
       " 'ANT2020a2nzc',\n",
       " 'ANT202257en95csmjna',\n",
       " 'ANT2022tk0vbom0j87h',\n",
       " 'ANT20222vvw98jdahyk',\n",
       " 'ANT20225po0i3zqrsr6',\n",
       " 'ANT2022fqvwslhm0h2c',\n",
       " 'ANT202297n1t84wh214',\n",
       " 'ANT2022h9ctkg996x98',\n",
       " 'ANT2021nihge',\n",
       " 'ANT2021tzjyu',\n",
       " 'ANT20228wqyj2xfb96w',\n",
       " 'ANT202259l51onm6a1i',\n",
       " 'ANT20225lfbg5u0dgma',\n",
       " 'ANT202257phplkbzde8',\n",
       " 'ANT2022yx2c6j6p94pw',\n",
       " 'ANT2021ox3cy',\n",
       " 'ANT2021oilfi',\n",
       " 'ANT20229lbgl8br09j6',\n",
       " 'ANT2021shjpe',\n",
       " 'ANT2022cb4l3werwofz',\n",
       " 'ANT2021stha4',\n",
       " 'ANT2022vb77k8j65iyq',\n",
       " 'ANT2021nhs7q',\n",
       " 'ANT2021nhicy',\n",
       " 'ANT20228z97ls99ee5k',\n",
       " 'ANT2022vau4mlmmga3n',\n",
       " 'ANT2021ox3uw',\n",
       " 'ANT2022h0lgcbitt011',\n",
       " 'ANT2021papl2',\n",
       " 'ANT2022rmlqwwzfb9ls',\n",
       " 'ANT2022xvqwhuvfrvbn',\n",
       " 'ANT2021pkgps',\n",
       " 'ANT2019u2vh2',\n",
       " 'ANT2022385ga4iuvxq3',\n",
       " 'ANT2021y4fr4',\n",
       " 'ANT2022do66csl6zlb2',\n",
       " 'ANT2022gci3e1jkoltb',\n",
       " 'ANT2019qpya',\n",
       " 'ANT2022z3pu8regv1hj',\n",
       " 'ANT20226n9h42kyqocv',\n",
       " 'ANT2021pkt26',\n",
       " 'ANT2021p4pou',\n",
       " 'ANT2022hsr8a537zkid',\n",
       " 'ANT2022evzw5pzclle6',\n",
       " 'ANT202293glax9sm0iv',\n",
       " 'ANT2021lqpoe',\n",
       " 'ANT2021kaum4',\n",
       " 'ANT2022mz59tdnqg5fq',\n",
       " 'ANT2021sjbs2',\n",
       " 'ANT2022djqv2nwoo35n',\n",
       " 'ANT2022o6q8n5ed9ugw',\n",
       " 'ANT2020tn27s',\n",
       " 'ANT2022f1ypz93l9v50',\n",
       " 'ANT2021py2ks',\n",
       " 'ANT20216uy7m',\n",
       " 'ANT2022jv36l36cf00v',\n",
       " 'ANT20226dkzksiadi7v',\n",
       " 'ANT2021sjeq2',\n",
       " 'ANT2022qogpz0wxwdpr',\n",
       " 'ANT2022a6cmemnid3yd',\n",
       " 'ANT2021yy7oa',\n",
       " 'ANT2021jqpfm',\n",
       " 'ANT2022hnbs5kvljgte',\n",
       " 'ANT2021mksnm',\n",
       " 'ANT2022ofjzqhrudx36',\n",
       " 'ANT2023yvvsbtlp3k5b',\n",
       " 'ANT20238avfxmv8osms',\n",
       " 'ANT2022taywbyfcyzog',\n",
       " 'ANT2021nelvc',\n",
       " 'ANT2022llnlaeys9yln',\n",
       " 'ANT2020bo33a',\n",
       " 'ANT2021mxn42',\n",
       " 'ANT2021o4gfa',\n",
       " 'ANT20229q5spv6elcdk',\n",
       " 'ANT2021ocpha',\n",
       " 'ANT2021mlqto',\n",
       " 'ANT2021onscu',\n",
       " 'ANT2021nee24',\n",
       " 'ANT20213yu5g',\n",
       " 'ANT2021mkh7u',\n",
       " 'ANT20239w5yvp73c72w',\n",
       " 'ANT2022u8su6jjpdous',\n",
       " 'ANT2021mpuqo',\n",
       " 'ANT2020akttq',\n",
       " 'ANT2023cl801t0wck2t',\n",
       " 'ANT2020eimb6',\n",
       " 'ANT2020eiesg',\n",
       " 'ANT2022rfvyvsp44d5v',\n",
       " 'ANT2019zhiqy',\n",
       " 'ANT2023mw3xm9o1cen9',\n",
       " 'ANT2022e0f8ym0zyomc',\n",
       " 'ANT2020fcrh2',\n",
       " 'ANT2019a6kfq',\n",
       " 'ANT2020ex4va',\n",
       " 'ANT2020mtp6s',\n",
       " 'ANT2019ucjza',\n",
       " 'ANT2020vixrq',\n",
       " 'ANT2020aetiy',\n",
       " 'ANT2018do5dc',\n",
       " 'ANT2022tvn38u3uogsn',\n",
       " 'ANT2021hvvlm',\n",
       " 'ANT2021m74ma',\n",
       " 'ANT2022cigyi',\n",
       " 'ANT2021nzfmg',\n",
       " 'ANT20227n3lxogtt7mn',\n",
       " 'ANT2021o7wos',\n",
       " 'ANT2022fifpv8r9igqq',\n",
       " 'ANT2021qprhy',\n",
       " 'ANT2021t2ehi',\n",
       " 'ANT2021hchd4',\n",
       " 'ANT2022xc74ookmnm6c',\n",
       " 'ANT2022am0vfq8665qd',\n",
       " 'ANT2022bw7lw',\n",
       " 'ANT2018cduzo',\n",
       " 'ANT2018hzuvq',\n",
       " 'ANT2021oi2fc',\n",
       " 'ANT2022c9c8ar3qwb3p',\n",
       " 'ANT2022xwbx7qh8ic0r',\n",
       " 'ANT2020aeo4uky',\n",
       " 'ANT2020dykqs',\n",
       " 'ANT2023p16t8jy7vs14',\n",
       " 'ANT2020fbdxa',\n",
       " 'ANT2021j6j72',\n",
       " 'ANT2023mqp63k8dz201',\n",
       " 'ANT2021uxvtg',\n",
       " 'ANT2023g8u21u2uv1o0',\n",
       " 'ANT2020llesu',\n",
       " 'ANT202067qq',\n",
       " 'ANT2021otkue',\n",
       " 'ANT20207v5a',\n",
       " 'ANT2020a4v44',\n",
       " 'ANT20235h22gjdkv0nj',\n",
       " 'ANT2022p8goba4m2li9',\n",
       " 'ANT2020ak6mi',\n",
       " 'ANT2020cu4a',\n",
       " 'ANT2022wo5w1ldm1u98',\n",
       " 'ANT2023hawxtjwi5o3w',\n",
       " 'ANT20235wlqblnn7mgp',\n",
       " 'ANT2023anr64klz2dyr',\n",
       " 'ANT2022v694utbqrz6t',\n",
       " 'ANT2022brhbc',\n",
       " 'ANT2022s1g6tditf2hl',\n",
       " 'ANT2022brhjc',\n",
       " 'ANT2020d272u',\n",
       " 'ANT2021lm572',\n",
       " 'ANT2023yvp1jcvfvosm',\n",
       " 'ANT2023bg4o4e37xu53',\n",
       " 'ANT2019z5ila',\n",
       " 'ANT2022byw1g5gmujo0',\n",
       " 'ANT2019fwqfq',\n",
       " 'ANT2020kehxg',\n",
       " 'ANT2021i3wyc',\n",
       " 'ANT2021o4h3a',\n",
       " 'ANT2021pvbu6',\n",
       " 'ANT2022lhpswwbeaiar',\n",
       " 'ANT2021si27m',\n",
       " 'ANT2021ny6r4',\n",
       " 'ANT2021t5hzi',\n",
       " 'ANT2021rzfca',\n",
       " 'ANT2021srhxg',\n",
       " 'ANT2021srg6o',\n",
       " 'ANT2021p4oc2',\n",
       " 'ANT2022bx2muipel7j7',\n",
       " 'ANT2021pkeok',\n",
       " 'ANT20227gc19d9aazfh',\n",
       " 'ANT2021qd62e',\n",
       " 'ANT202267mvo4gv09co',\n",
       " 'ANT2022aye914k5n3er',\n",
       " 'ANT2021lxuji',\n",
       " 'ANT2022k4zlmc5j114v',\n",
       " 'ANT2022wb9j5msxncsw',\n",
       " 'ANT20212ijk2',\n",
       " 'ANT2022ramd6r07avu9',\n",
       " 'ANT202243bnh5ytmzv3',\n",
       " 'ANT2021tn2za',\n",
       " 'ANT2020aexijlq',\n",
       " 'ANT2022aj204els3zw2',\n",
       " 'ANT2021n4jau',\n",
       " 'ANT2022t0xqvj47bmwi',\n",
       " 'ANT2019tlrlc',\n",
       " 'ANT2020eaabm',\n",
       " 'ANT20227wj284v660mq',\n",
       " 'ANT20221j0g1dvne1nb',\n",
       " 'ANT2021nahu2',\n",
       " 'ANT2023pazovxjiq178',\n",
       " 'ANT2019b4ou2',\n",
       " 'ANT2021o64ti',\n",
       " 'ANT202358qrlu5c4ctf',\n",
       " 'ANT2023vuk2jhor63dq',\n",
       " 'ANT2021wq63y',\n",
       " 'ANT2021ms54s',\n",
       " 'ANT2021k4v4c',\n",
       " 'ANT2022swhpq6o0zy7h',\n",
       " 'ANT2022buigm',\n",
       " 'ANT2022fofx6hrsiqmf',\n",
       " 'ANT2022uk5yxcelrp33',\n",
       " 'ANT2020ae4gq6i',\n",
       " 'ANT2021lvpn2',\n",
       " 'ANT2019q4hfo',\n",
       " 'ANT2021sgvmg',\n",
       " 'ANT2023155worizdzry',\n",
       " 'ANT2022cfqhc',\n",
       " 'ANT2022chkge',\n",
       " 'ANT2020oqq4e',\n",
       " 'ANT2023855qzwdnbijy',\n",
       " 'ANT2023ntsdxn3d1brl',\n",
       " 'ANT2022mecq',\n",
       " 'ANT2021idlhk',\n",
       " 'ANT2023baa63ne9aoij',\n",
       " 'ANT20225lz828no3buc',\n",
       " 'ANT2022bvxei',\n",
       " 'ANT2020b5ibu',\n",
       " 'ANT2023lb5mmy8j10b2',\n",
       " 'ANT2022amgyi',\n",
       " 'ANT2022rxf419unknj7',\n",
       " 'ANT20232utdhp54x7mo',\n",
       " 'ANT20214rmt6',\n",
       " 'ANT2022r00wdvjexuin',\n",
       " 'ANT2021kyapa',\n",
       " 'ANT20220erxd5fmvsps',\n",
       " 'ANT2021mjjcy',\n",
       " 'ANT2020chfnq',\n",
       " 'ANT2023ko735n733lj8',\n",
       " 'ANT2023r25h5ry1vn7n',\n",
       " 'ANT2022i4sf5y7bfg0y',\n",
       " 'ANT2022vcf8g36b6aic',\n",
       " 'ANT2022tp7dgwd8xmjz',\n",
       " 'ANT2021ruqsm',\n",
       " 'ANT2022oci9y70kwf7w',\n",
       " 'ANT2021inx4m',\n",
       " 'ANT2023lyww64lob7l6',\n",
       " 'ANT2021ifjuk',\n",
       " 'ANT2021jxoby',\n",
       " 'ANT2022gt1texmkeo8e',\n",
       " 'ANT2022cgjh2',\n",
       " 'ANT2022guekalbjiwgt',\n",
       " 'ANT2020bcxbg',\n",
       " 'ANT2023a129xanh2vf3',\n",
       " 'ANT2022gpik5q48jzcb',\n",
       " 'ANT2023hnzg5w9csai0',\n",
       " 'ANT2023ntulso2pk8jv',\n",
       " 'ANT2022fm41im3w7x3j',\n",
       " 'ANT2021kjlny',\n",
       " 'ANT2023i7p09kximylv',\n",
       " 'ANT2022ch75o',\n",
       " 'ANT2023s2jeoylua3n3',\n",
       " 'ANT2018arwxa',\n",
       " 'ANT20232fx9spamyusm',\n",
       " 'ANT2022jcqdyw2sfbaq',\n",
       " 'ANT2020aoici',\n",
       " 'ANT2020aeskuea',\n",
       " 'ANT2021mxf4m',\n",
       " 'ANT20224mzksknjksa9',\n",
       " 'ANT2020aqgbi',\n",
       " 'ANT2023yshskzf27b9k',\n",
       " 'ANT2021outpk',\n",
       " 'ANT2022bbrhu2ecpkkg',\n",
       " 'ANT2022vtfwyz9wywdf',\n",
       " 'ANT2022q443jw7cgmss',\n",
       " 'ANT2019hdkui',\n",
       " 'ANT2020etxbc',\n",
       " 'ANT2022oyg0relxirh5',\n",
       " 'ANT2022ev8s4zatfu7y',\n",
       " 'ANT2020bcuic',\n",
       " 'ANT2021aebizoq',\n",
       " 'ANT201922nbw',\n",
       " 'ANT2021n5wge',\n",
       " 'ANT2018b7ece',\n",
       " 'ANT2019g2fvm',\n",
       " 'ANT2020bgwcs',\n",
       " 'ANT2019wcqnw',\n",
       " 'ANT2022296abstrvi32',\n",
       " 'ANT202396d07dycuofv',\n",
       " 'ANT2022ahl7o',\n",
       " 'ANT2023uvuf0a5m3v8n',\n",
       " 'ANT2022ahmri',\n",
       " 'ANT2023t30p9t96kyhe',\n",
       " 'ANT2022hb4shymrnb1z',\n",
       " 'ANT20231soj1qro44fu',\n",
       " 'ANT2023ezilvt74651b',\n",
       " 'ANT2022scu7r0mlbd5i',\n",
       " 'ANT2022chs6u',\n",
       " 'ANT2020b7ecc',\n",
       " 'ANT2020cbc2g',\n",
       " 'ANT2020buwkm',\n",
       " 'ANT2020dze2c',\n",
       " 'ANT2020mruxy',\n",
       " 'ANT2020hehy2',\n",
       " 'ANT2020emrss',\n",
       " 'ANT2018cl4wm',\n",
       " 'ANT2020aonbg',\n",
       " 'ANT2020aomny',\n",
       " 'ANT2022qrij4ul9aac6',\n",
       " 'ANT2021oyji6',\n",
       " 'ANT2020emona',\n",
       " 'ANT2018cedxw',\n",
       " 'ANT2020bdkmq',\n",
       " 'ANT2021oixkk',\n",
       " 'ANT2020emsp2',\n",
       " 'ANT2021n6pdc',\n",
       " 'ANT2022hzrzfi3rq9hw',\n",
       " 'ANT2023bpnokfp60718',\n",
       " 'ANT2023c4ejl5q5iv97',\n",
       " 'ANT2022cf4hi',\n",
       " 'ANT2021jddyo',\n",
       " 'ANT2021k5rpg',\n",
       " 'ANT202385nbbpq3fk2y',\n",
       " 'ANT2018ae7b2',\n",
       " 'ANT2021mjmm4',\n",
       " 'ANT2023nm3c4zikpf2h',\n",
       " 'ANT2023pueg4l2iibo6',\n",
       " 'ANT2020b5wcu',\n",
       " 'ANT20239ngbg8bj86ct',\n",
       " 'ANT2020ak4iy',\n",
       " 'ANT2022g13qni5jjk27',\n",
       " 'ANT2022cepki',\n",
       " 'ANT2023cn6ltb39o495',\n",
       " 'ANT2023gvfr0qrhh4uh',\n",
       " 'ANT202214tkrfuax3z8',\n",
       " 'ANT2022487vz3aetdi1',\n",
       " 'ANT2023u1zlww2k8heg',\n",
       " 'ANT20228qkvyix4yst8',\n",
       " 'ANT2018fh3ju',\n",
       " 'ANT2023pfufc8724s0z',\n",
       " 'ANT2023e2tvrmvvo06m',\n",
       " 'ANT2023pp3ddiuvq2t1',\n",
       " 'ANT2019n3jxo',\n",
       " 'ANT20228so12c1hhnpp',\n",
       " 'ANT2023k51escvenu5m',\n",
       " 'ANT202291t46vmjg925',\n",
       " 'ANT2023k4z1k72cwsw8',\n",
       " 'ANT2022eoef4yl5b9l5',\n",
       " 'ANT20238ghm7rqj61r5',\n",
       " 'ANT2023ui8cnmtafm3y',\n",
       " 'ANT2021kjsq6',\n",
       " 'ANT2021opwhu',\n",
       " 'ANT2023aah948utow9g',\n",
       " 'ANT2021kaazq',\n",
       " 'ANT2021pjur6',\n",
       " 'ANT2023x5d4hmlqlki2',\n",
       " 'ANT2021is46i',\n",
       " 'ANT2022lvnu9ev84gq2',\n",
       " 'ANT2022x7nguc89qieo',\n",
       " 'ANT20213xdbm',\n",
       " 'ANT2020basz2',\n",
       " 'ANT2022neb3thrwgcgm',\n",
       " 'ANT2020aeqls',\n",
       " 'ANT2022e68hl9ezppn7',\n",
       " 'ANT2021ledmc',\n",
       " 'ANT2023d5x2kjhw4mnl',\n",
       " 'ANT2022grai3xpfr46r',\n",
       " 'ANT2022kxa291g5pcte',\n",
       " 'ANT2020ee7fo',\n",
       " 'ANT2021mxi6o',\n",
       " 'ANT2021lvofm',\n",
       " 'ANT2019eqgfw',\n",
       " 'ANT2022cagc9gpssi7b',\n",
       " 'ANT2022cf5jg',\n",
       " 'ANT2020cdmhs',\n",
       " 'ANT2018gkotm',\n",
       " 'ANT2020bschu',\n",
       " 'ANT2020qvz5q',\n",
       " 'ANT2020bkyey',\n",
       " 'ANT2021g725o',\n",
       " 'ANT2020bfyxg',\n",
       " 'ANT2020gtidc',\n",
       " 'ANT2022zgh3t115a4c6',\n",
       " 'ANT202370ol4vatfw6z',\n",
       " 'ANT202314ob5pnwuemw',\n",
       " 'ANT2022ba7du',\n",
       " 'ANT20226c8u1d835isc',\n",
       " 'ANT2018ek32s',\n",
       " 'ANT2019wifew',\n",
       " 'ANT2023n6xlrp45j3l4',\n",
       " 'ANT2021mbzro',\n",
       " 'ANT2020a62f4',\n",
       " 'ANT2020cdiqw',\n",
       " 'ANT2020a4kqm',\n",
       " 'ANT2022ms6mcn9mhm8n',\n",
       " 'ANT2021migyu',\n",
       " 'ANT2022j79redhqwfnp',\n",
       " 'ANT20229jvdpnwx4vp7',\n",
       " 'ANT2021msfbk',\n",
       " 'ANT2022hz8ylpymv2q3',\n",
       " 'ANT20237kdpodax29lz',\n",
       " 'ANT2023updrizbahfu5',\n",
       " 'ANT20230015csn5jniz',\n",
       " 'ANT202263t3pm83skrr',\n",
       " 'ANT2018arnbu',\n",
       " 'ANT2022bbwmo',\n",
       " 'ANT2022xcvmk47r810j',\n",
       " 'ANT2023b5e68nmkk1b9',\n",
       " 'ANT2020cnnky',\n",
       " 'ANT2020mtcua',\n",
       " 'ANT2019ruvdc',\n",
       " 'ANT2022vm3n539r5cjc',\n",
       " 'ANT2022sqw1ykns5gmg',\n",
       " 'ANT2022hiybtksn2rxg',\n",
       " 'ANT202245k6pvh2t5j9',\n",
       " 'ANT2020d6qkg',\n",
       " 'ANT2022qzt6djvo1q5g',\n",
       " 'ANT2021z6fxs',\n",
       " 'ANT2021oyx2s',\n",
       " 'ANT2022w5ld4gvphjci',\n",
       " 'ANT2021mxm5w',\n",
       " 'ANT2022h4trltickc50',\n",
       " 'ANT2022ltrkibkiy11r',\n",
       " 'ANT2021p4du2',\n",
       " 'ANT2021t5eu4',\n",
       " 'ANT2022uq0g1q7yqlbf',\n",
       " 'ANT2022bdnbtsaar0lr',\n",
       " 'ANT2022u06gsfrx7wo0',\n",
       " 'ANT20214qvce',\n",
       " 'ANT20214w57m',\n",
       " 'ANT2022xownphtyx20o',\n",
       " 'ANT2022nvb5amb5c12e',\n",
       " 'ANT2021vtjo2',\n",
       " 'ANT20228er7lnsjq91t',\n",
       " 'ANT2022o64c22bucqio',\n",
       " 'ANT2021t5kro',\n",
       " 'ANT2020c3lsq',\n",
       " 'ANT2021lqqfw',\n",
       " 'ANT2021yq2da',\n",
       " 'ANT2021shm3o',\n",
       " 'ANT202255mli5xpu2ws',\n",
       " 'ANT2021cmcha',\n",
       " 'ANT2022sw1hqxo8fuq1',\n",
       " 'ANT2022byguq',\n",
       " 'ANT2021qemfw',\n",
       " 'ANT2019lwybc',\n",
       " 'ANT2020ulf7u',\n",
       " 'ANT2022c3a06icv9kjh',\n",
       " 'ANT2022udcelm1lff2n',\n",
       " 'ANT2020m6a42',\n",
       " 'ANT2021siwvi',\n",
       " 'ANT2023qq770iidk4y8',\n",
       " 'ANT20228de1dlv5jlun',\n",
       " 'ANT2021oymam',\n",
       " 'ANT20220e23nafb0arj',\n",
       " 'ANT2022absyvrfdmg82',\n",
       " 'ANT20229fm3jlzbb4ss',\n",
       " 'ANT202203mddccx54zv',\n",
       " 'ANT2021thhoo',\n",
       " 'ANT20226bfr20ti0a6f',\n",
       " 'ANT2022y8p2o5kuj4wb',\n",
       " 'ANT2022ae4f409x0txm',\n",
       " 'ANT2022t58zkdzdz5lc',\n",
       " 'ANT2022plju6xz4vyl9',\n",
       " 'ANT20226cdsrzmny1q2',\n",
       " 'ANT20228ipf2858b67t',\n",
       " 'ANT20220m4p9wyczwd2',\n",
       " 'ANT20227jj46iori25z',\n",
       " 'ANT2019duety',\n",
       " 'ANT2022p7vyfsejbi3e',\n",
       " 'ANT2023yapbgxndq7tm',\n",
       " 'ANT2021nr5ii',\n",
       " 'ANT2022v669u6wb0mb9',\n",
       " 'ANT2019vtgyc',\n",
       " 'ANT2021o4ece',\n",
       " 'ANT2022a81rof5z9ljn',\n",
       " 'ANT2022gh5eas77f83z',\n",
       " 'ANT2022b7hvi6uzoohq',\n",
       " 'ANT2020bz7w4',\n",
       " 'ANT2021mlruo',\n",
       " 'ANT2022onpw9ielageu',\n",
       " 'ANT2023z9x3ulwunb4k',\n",
       " 'ANT2020aeofm',\n",
       " 'ANT2022kwjsml5uq0cx',\n",
       " 'ANT2020gaaci',\n",
       " 'ANT2022w5f0c16odw29',\n",
       " 'ANT2022jr7cr2oc8w2c',\n",
       " 'ANT20224j6p5f8bk72x',\n",
       " 'ANT2020agmnw',\n",
       " 'ANT20224phyftmbtl0l',\n",
       " 'ANT2022fwimokgx20q2',\n",
       " 'ANT2022vpjq5eqykxs9',\n",
       " 'ANT2022w9lqj985md7c',\n",
       " 'ANT20203k7ps',\n",
       " 'ANT2023wtuhq1d2iess',\n",
       " 'ANT2023z2i9ymp4sdw2',\n",
       " 'ANT2022cyi762d8qkce',\n",
       " 'ANT202262wzmyd05lw9',\n",
       " 'ANT2022tli17swbalyp',\n",
       " 'ANT2022h98ukoqp4w0s',\n",
       " 'ANT20228hnquwq50sao',\n",
       " 'ANT2020ax3p4',\n",
       " 'ANT20221t8sxnqkr62g',\n",
       " 'ANT2023r5lts8l2fnsw',\n",
       " 'ANT2022239bh4dpcg3d',\n",
       " 'ANT2020aqafw',\n",
       " 'ANT2020mne7q',\n",
       " 'ANT2020aejeuzi',\n",
       " 'ANT2020cr2m4',\n",
       " 'ANT2020cvlky',\n",
       " 'ANT20227eb22xe8iq6a',\n",
       " 'ANT2018fcike',\n",
       " 'ANT2021oxp44',\n",
       " 'ANT2022wga3lcvnzhxn',\n",
       " 'ANT2021pyvxy',\n",
       " 'ANT2018ezg4c',\n",
       " 'ANT2020yhhuk',\n",
       " 'ANT2019264s4',\n",
       " 'ANT2022drzg1jdg6nqc',\n",
       " 'ANT2022og8dji1cgcxi',\n",
       " 'ANT2021n4tfo',\n",
       " 'ANT2021n4teu',\n",
       " 'ANT2022y5zsojnnlhb9',\n",
       " 'ANT2022yj31kpk72oeb',\n",
       " 'ANT2022fjkoz5shuzn2',\n",
       " 'ANT2022f3fcrd1vuozp',\n",
       " 'ANT2022987atcwtwbyd',\n",
       " 'ANT2022scoaecb2yh67',\n",
       " 'ANT2022wl41kypqjikh',\n",
       " 'ANT2022kojondnktwnz',\n",
       " 'ANT2021mxx6q',\n",
       " 'ANT202296tz87zb67tl',\n",
       " 'ANT2021lvoza',\n",
       " 'ANT2022qa0qz8zm0l4u',\n",
       " 'ANT2022ph4ort0x98o4',\n",
       " 'ANT2020aflzq',\n",
       " 'ANT2020axepi',\n",
       " 'ANT2021o7voy',\n",
       " 'ANT2020agkvi',\n",
       " 'ANT2020agcnk',\n",
       " 'ANT2022g6egwnzuxivb',\n",
       " 'ANT2022zyoyb7adlq4v',\n",
       " 'ANT2020gwjw4',\n",
       " 'ANT2021nefzg',\n",
       " 'ANT2022wigymr8y3ag8',\n",
       " 'ANT2022mdhaxmymcbur',\n",
       " 'ANT2022bw2ya',\n",
       " 'ANT2022pyjpjfc39aob',\n",
       " 'ANT2022l9qqmt7fr116',\n",
       " 'ANT2022xvta3wpz3c9y',\n",
       " 'ANT2023e85dqbctda4b',\n",
       " 'ANT2020c4ilw',\n",
       " 'ANT20221if1wzaee9d5',\n",
       " 'ANT2021mcfdg',\n",
       " 'ANT2023dta04inrnm8m',\n",
       " 'ANT2022r7itjaf1wpb0',\n",
       " 'ANT2022vg2bjcj6nwii',\n",
       " 'ANT2023a0lro9qyhtx5',\n",
       " 'ANT2021j7sbs',\n",
       " 'ANT2020apyyk',\n",
       " 'ANT2022cfffk',\n",
       " 'ANT2021otjzk',\n",
       " 'ANT2020cifhw',\n",
       " 'ANT2020bsw4y',\n",
       " 'ANT2020hqlry',\n",
       " 'ANT20238m49002cp9pv',\n",
       " 'ANT2023j38tddqqr8cq',\n",
       " 'ANT2022aewek',\n",
       " 'ANT2020atbko',\n",
       " 'ANT2021myssm',\n",
       " 'ANT2020na5q',\n",
       " 'ANT2021m2who',\n",
       " 'ANT2023trqt1egyohwd',\n",
       " 'ANT2022ahfqi',\n",
       " 'ANT2022to18gjxnantr',\n",
       " 'ANT2023q3xvlhkyvjja',\n",
       " 'ANT2023xakid3nru1rl',\n",
       " 'ANT2021j4rjs',\n",
       " 'ANT2022bv3me',\n",
       " 'ANT2023l82iwgmbp39v',\n",
       " 'ANT2023s1fpb1c8r80z',\n",
       " 'ANT2021trpqe',\n",
       " 'ANT2022vdbog7btuhh2',\n",
       " 'ANT2021qp4lu',\n",
       " 'ANT2022yvwmkgub7um5',\n",
       " 'ANT2022vdk81agtmjac',\n",
       " 'ANT2020n5lli',\n",
       " 'ANT2022w10idskpmlbz',\n",
       " 'ANT2022sybf6oy0ym4o',\n",
       " 'ANT2022aphm81f2mkj6',\n",
       " 'ANT2022fm4kjwq9icog',\n",
       " 'ANT2021tzhmy',\n",
       " 'ANT2021siz64',\n",
       " 'ANT2019fkyo4',\n",
       " 'ANT20222yprujw8aopg',\n",
       " 'ANT2022dk3dtl0wdn83',\n",
       " 'ANT2022yidzb39d85ct',\n",
       " 'ANT2022yurarvq74xoo',\n",
       " 'ANT2021rcjqq',\n",
       " 'ANT2021idzo6',\n",
       " 'ANT2022cirkw',\n",
       " 'ANT2022auc8raapcrzl',\n",
       " 'ANT2021leees',\n",
       " 'ANT2020eg6ec',\n",
       " 'ANT2021lqj2e',\n",
       " 'ANT2021n33y2',\n",
       " 'ANT2020dy4os',\n",
       " 'ANT2021ojcq4',\n",
       " 'ANT2021oxoj6',\n",
       " 'ANT2019tcar6',\n",
       " 'ANT2020emrko',\n",
       " 'ANT2020fzamu',\n",
       " 'ANT2021lvovg',\n",
       " 'ANT2021p76fs',\n",
       " 'ANT2021k5cay',\n",
       " 'ANT20228nu7a92upzli',\n",
       " 'ANT2021nekno',\n",
       " 'ANT2022e4jib4p9j539',\n",
       " 'ANT20220hnfoay5jeqr',\n",
       " 'ANT2021ioemq',\n",
       " 'ANT2022w8j18zgxg37r',\n",
       " 'ANT2023sld1dsn50p4p',\n",
       " 'ANT2023b08wpna08x0y',\n",
       " 'ANT2020cdlze',\n",
       " ...]"
      ]
     },
     "execution_count": 5,
     "metadata": {},
     "output_type": "execute_result"
    }
   ],
   "source": [
    "%%time\n",
    "import antares_client\n",
    "# Get all IF AD objects, use that as input and see what would be anomalous\n",
    "tags = \"iso_forest_anomaly_detection\"\n",
    "\n",
    "query = {\n",
    "    \"query\": {\n",
    "        \"term\": {\n",
    "            \"tags\": tags\n",
    "        }\n",
    "    }\n",
    "}\n",
    "#loci = antares_client.search.search(query)\n",
    "#locus_ids = [l.locus_id for l in loci]\n",
    "\n",
    "loci = antares_client.search.search(query)\n",
    "loci = list(loci)\n",
    "locus_ids = [l.locus_id for l in loci]\n",
    "locus_ids"
   ]
  },
  {
   "cell_type": "code",
   "execution_count": 6,
   "id": "9f7f4844-e9f5-47f9-a101-b02028982270",
   "metadata": {},
   "outputs": [
    {
     "data": {
      "text/plain": [
       "10000"
      ]
     },
     "execution_count": 6,
     "metadata": {},
     "output_type": "execute_result"
    }
   ],
   "source": [
    "len(locus_ids)"
   ]
  },
  {
   "cell_type": "code",
   "execution_count": 12,
   "id": "e4dab90c-92f5-4fbc-b173-0ec52733ff5a",
   "metadata": {
    "tags": []
   },
   "outputs": [
    {
     "name": "stderr",
     "output_type": "stream",
     "text": [
      "Span has already been finished; will not be reported again.\n"
     ]
    },
    {
     "name": "stdout",
     "output_type": "stream",
     "text": [
      "GHOST database already exists in the install path!\n",
      "##############\n",
      "Processing https://alerce.online/object/ZTF18aaaatyb\n",
      "alerce_cls RRL\n",
      "Alerce class=RRL is not SN ('SLSN', 'SN', 'SNII', 'SNIa', 'SNIbc') for ZTF18aaaatyb. Skip!\n"
     ]
    },
    {
     "name": "stderr",
     "output_type": "stream",
     "text": [
      "Span has already been finished; will not be reported again.\n"
     ]
    },
    {
     "name": "stdout",
     "output_type": "stream",
     "text": [
      "GHOST database already exists in the install path!\n",
      "##############\n",
      "Processing https://alerce.online/object/ZTF18acmyftf\n",
      "alerce_cls CEP\n",
      "Alerce class=CEP is not SN ('SLSN', 'SN', 'SNII', 'SNIa', 'SNIbc') for ZTF18acmyftf. Skip!\n"
     ]
    },
    {
     "name": "stderr",
     "output_type": "stream",
     "text": [
      "Span has already been finished; will not be reported again.\n"
     ]
    },
    {
     "name": "stdout",
     "output_type": "stream",
     "text": [
      "GHOST database already exists in the install path!\n",
      "##############\n",
      "In galactic plane at b=-11.915105900611811. Don't use. Skip!\n"
     ]
    },
    {
     "name": "stderr",
     "output_type": "stream",
     "text": [
      "Span has already been finished; will not be reported again.\n"
     ]
    },
    {
     "name": "stdout",
     "output_type": "stream",
     "text": [
      "GHOST database already exists in the install path!\n",
      "##############\n",
      "Processing https://alerce.online/object/ZTF20abjgexp\n",
      "alerce_cls VS\n",
      "Alerce class=VS is not SN ('SLSN', 'SN', 'SNII', 'SNIa', 'SNIbc') for ZTF20abjgexp. Skip!\n"
     ]
    },
    {
     "name": "stderr",
     "output_type": "stream",
     "text": [
      "Span has already been finished; will not be reported again.\n"
     ]
    },
    {
     "name": "stdout",
     "output_type": "stream",
     "text": [
      "GHOST database already exists in the install path!\n",
      "##############\n",
      "In galactic plane at b=-12.904354757068349. Don't use. Skip!\n"
     ]
    },
    {
     "name": "stderr",
     "output_type": "stream",
     "text": [
      "Span has already been finished; will not be reported again.\n"
     ]
    },
    {
     "name": "stdout",
     "output_type": "stream",
     "text": [
      "GHOST database already exists in the install path!\n",
      "##############\n",
      "Processing https://alerce.online/object/ZTF18abynqqi\n",
      "alerce_cls E\n",
      "Alerce class=E is not SN ('SLSN', 'SN', 'SNII', 'SNIa', 'SNIbc') for ZTF18abynqqi. Skip!\n"
     ]
    },
    {
     "name": "stderr",
     "output_type": "stream",
     "text": [
      "Span has already been finished; will not be reported again.\n"
     ]
    },
    {
     "name": "stdout",
     "output_type": "stream",
     "text": [
      "GHOST database already exists in the install path!\n",
      "2023-07-04 08:37:38,133 - WARNING MainThread cassandra.py:list_by_location:1187 - Catalog object not found (catalog_id=19, object_id=975903156)\n",
      "##############\n",
      "Processing https://alerce.online/object/ZTF19accfzym\n",
      "alerce_cls Periodic-Other\n",
      "Alerce class=Periodic-Other is not SN ('SLSN', 'SN', 'SNII', 'SNIa', 'SNIbc') for ZTF19accfzym. Skip!\n"
     ]
    },
    {
     "name": "stderr",
     "output_type": "stream",
     "text": [
      "Span has already been finished; will not be reported again.\n"
     ]
    },
    {
     "name": "stdout",
     "output_type": "stream",
     "text": [
      "GHOST database already exists in the install path!\n",
      "##############\n",
      "Processing https://alerce.online/object/ZTF18aayeocn\n",
      "alerce_cls E\n",
      "Alerce class=E is not SN ('SLSN', 'SN', 'SNII', 'SNIa', 'SNIbc') for ZTF18aayeocn. Skip!\n"
     ]
    },
    {
     "name": "stderr",
     "output_type": "stream",
     "text": [
      "Span has already been finished; will not be reported again.\n"
     ]
    },
    {
     "name": "stdout",
     "output_type": "stream",
     "text": [
      "GHOST database already exists in the install path!\n",
      "##############\n",
      "Processing https://alerce.online/object/ZTF18aazrdpr\n",
      "alerce_cls CV/Nova\n",
      "Alerce class=CV/Nova is not SN ('SLSN', 'SN', 'SNII', 'SNIa', 'SNIbc') for ZTF18aazrdpr. Skip!\n"
     ]
    },
    {
     "name": "stderr",
     "output_type": "stream",
     "text": [
      "Span has already been finished; will not be reported again.\n"
     ]
    },
    {
     "name": "stdout",
     "output_type": "stream",
     "text": [
      "GHOST database already exists in the install path!\n",
      "##############\n",
      "Processing https://alerce.online/object/ZTF18abaeanl\n",
      "alerce_cls E\n",
      "Alerce class=E is not SN ('SLSN', 'SN', 'SNII', 'SNIa', 'SNIbc') for ZTF18abaeanl. Skip!\n"
     ]
    },
    {
     "name": "stderr",
     "output_type": "stream",
     "text": [
      "Span has already been finished; will not be reported again.\n"
     ]
    },
    {
     "name": "stdout",
     "output_type": "stream",
     "text": [
      "GHOST database already exists in the install path!\n",
      "##############\n",
      "Processing https://alerce.online/object/ZTF18aaoechc\n",
      "alerce_cls E\n",
      "Alerce class=E is not SN ('SLSN', 'SN', 'SNII', 'SNIa', 'SNIbc') for ZTF18aaoechc. Skip!\n"
     ]
    },
    {
     "name": "stderr",
     "output_type": "stream",
     "text": [
      "Span has already been finished; will not be reported again.\n"
     ]
    },
    {
     "name": "stdout",
     "output_type": "stream",
     "text": [
      "GHOST database already exists in the install path!\n",
      "##############\n",
      "Processing https://alerce.online/object/ZTF18aaoebrc\n",
      "alerce_cls CV/Nova\n",
      "Alerce class=CV/Nova is not SN ('SLSN', 'SN', 'SNII', 'SNIa', 'SNIbc') for ZTF18aaoebrc. Skip!\n"
     ]
    },
    {
     "name": "stderr",
     "output_type": "stream",
     "text": [
      "Span has already been finished; will not be reported again.\n"
     ]
    },
    {
     "name": "stdout",
     "output_type": "stream",
     "text": [
      "GHOST database already exists in the install path!\n",
      "##############\n",
      "Processing https://alerce.online/object/ZTF18aavqaey\n",
      "alerce_cls Periodic-Other\n",
      "Alerce class=Periodic-Other is not SN ('SLSN', 'SN', 'SNII', 'SNIa', 'SNIbc') for ZTF18aavqaey. Skip!\n"
     ]
    },
    {
     "name": "stderr",
     "output_type": "stream",
     "text": [
      "Span has already been finished; will not be reported again.\n"
     ]
    },
    {
     "name": "stdout",
     "output_type": "stream",
     "text": [
      "GHOST database already exists in the install path!\n",
      "##############\n",
      "Processing https://alerce.online/object/ZTF18adjjftt\n",
      "alerce_cls Periodic-Other\n",
      "Alerce class=Periodic-Other is not SN ('SLSN', 'SN', 'SNII', 'SNIa', 'SNIbc') for ZTF18adjjftt. Skip!\n"
     ]
    },
    {
     "name": "stderr",
     "output_type": "stream",
     "text": [
      "Span has already been finished; will not be reported again.\n"
     ]
    },
    {
     "name": "stdout",
     "output_type": "stream",
     "text": [
      "GHOST database already exists in the install path!\n",
      "##############\n",
      "Processing https://alerce.online/object/ZTF18aamgnkt\n",
      "alerce_cls CV/Nova\n",
      "Alerce class=CV/Nova is not SN ('SLSN', 'SN', 'SNII', 'SNIa', 'SNIbc') for ZTF18aamgnkt. Skip!\n"
     ]
    },
    {
     "name": "stderr",
     "output_type": "stream",
     "text": [
      "Span has already been finished; will not be reported again.\n"
     ]
    },
    {
     "name": "stdout",
     "output_type": "stream",
     "text": [
      "GHOST database already exists in the install path!\n",
      "##############\n",
      "Processing https://alerce.online/object/ZTF18aarwlve\n",
      "alerce_cls E\n",
      "Alerce class=E is not SN ('SLSN', 'SN', 'SNII', 'SNIa', 'SNIbc') for ZTF18aarwlve. Skip!\n"
     ]
    },
    {
     "name": "stderr",
     "output_type": "stream",
     "text": [
      "Span has already been finished; will not be reported again.\n"
     ]
    },
    {
     "name": "stdout",
     "output_type": "stream",
     "text": [
      "GHOST database already exists in the install path!\n",
      "##############\n",
      "Processing https://alerce.online/object/ZTF19abraqix\n",
      "alerce_cls SNII\n",
      "Finding northern sources with Pan-starrs...\n",
      "Found matches for 0.0% of events.\n",
      "Found no hosts in GLADE.\n",
      "Finding northern sources with Pan-starrs...\n",
      "Found matches for 100.0% of events.\n",
      "http://ps1images.stsci.edu/cgi-bin/ps1cutouts?pos=266.99729816+64.76273163&filter=color\n",
      "Some features are NaN for ZTF19abraqix. Skip!\n"
     ]
    },
    {
     "name": "stderr",
     "output_type": "stream",
     "text": [
      "Span has already been finished; will not be reported again.\n"
     ]
    },
    {
     "name": "stdout",
     "output_type": "stream",
     "text": [
      "GHOST database already exists in the install path!\n",
      "##############\n",
      "Processing https://alerce.online/object/ZTF23aagpjyp\n",
      "alerce_cls SLSN\n",
      "Finding northern sources with Pan-starrs...\n",
      "Found matches for 100.0% of events.\n",
      "http://ps1images.stsci.edu/cgi-bin/ps1cutouts?pos=272.9856314+52.84142229&filter=color\n",
      "ZTF23aagpjyp is NOT anomalous according to RFC model (anom score=23.0%). Skip!\n"
     ]
    },
    {
     "name": "stderr",
     "output_type": "stream",
     "text": [
      "[Parallel(n_jobs=40)]: Using backend ThreadingBackend with 40 concurrent workers.\n",
      "[Parallel(n_jobs=40)]: Done 100 out of 100 | elapsed:    0.0s finished\n",
      "Span has already been finished; will not be reported again.\n"
     ]
    },
    {
     "name": "stdout",
     "output_type": "stream",
     "text": [
      "GHOST database already exists in the install path!\n",
      "##############\n",
      "In galactic plane at b=14.294633134653125. Don't use. Skip!\n"
     ]
    },
    {
     "name": "stderr",
     "output_type": "stream",
     "text": [
      "Span has already been finished; will not be reported again.\n"
     ]
    },
    {
     "name": "stdout",
     "output_type": "stream",
     "text": [
      "GHOST database already exists in the install path!\n",
      "##############\n",
      "In galactic plane at b=12.848595662924344. Don't use. Skip!\n"
     ]
    },
    {
     "name": "stderr",
     "output_type": "stream",
     "text": [
      "Span has already been finished; will not be reported again.\n"
     ]
    },
    {
     "name": "stdout",
     "output_type": "stream",
     "text": [
      "GHOST database already exists in the install path!\n",
      "##############\n",
      "In galactic plane at b=10.381790750351751. Don't use. Skip!\n"
     ]
    },
    {
     "name": "stderr",
     "output_type": "stream",
     "text": [
      "Span has already been finished; will not be reported again.\n"
     ]
    },
    {
     "name": "stdout",
     "output_type": "stream",
     "text": [
      "GHOST database already exists in the install path!\n",
      "2023-07-04 08:38:46,724 - WARNING MainThread cassandra.py:list_by_location:1187 - Catalog object not found (catalog_id=19, object_id=861212779)\n",
      "##############\n",
      "Processing https://alerce.online/object/ZTF18ablvxfm\n",
      "alerce_cls CV/Nova\n",
      "Alerce class=CV/Nova is not SN ('SLSN', 'SN', 'SNII', 'SNIa', 'SNIbc') for ZTF18ablvxfm. Skip!\n"
     ]
    },
    {
     "name": "stderr",
     "output_type": "stream",
     "text": [
      "Span has already been finished; will not be reported again.\n"
     ]
    },
    {
     "name": "stdout",
     "output_type": "stream",
     "text": [
      "GHOST database already exists in the install path!\n",
      "2023-07-04 08:38:54,426 - WARNING MainThread cassandra.py:list_by_location:1187 - Catalog object not found (catalog_id=19, object_id=878527307)\n",
      "##############\n",
      "In galactic plane at b=-14.973976317653504. Don't use. Skip!\n"
     ]
    },
    {
     "name": "stderr",
     "output_type": "stream",
     "text": [
      "Span has already been finished; will not be reported again.\n"
     ]
    },
    {
     "name": "stdout",
     "output_type": "stream",
     "text": [
      "GHOST database already exists in the install path!\n",
      "2023-07-04 08:38:57,234 - WARNING MainThread cassandra.py:list_by_location:1187 - Catalog object not found (catalog_id=19, object_id=815343256)\n",
      "##############\n",
      "In galactic plane at b=-13.612888047197147. Don't use. Skip!\n"
     ]
    },
    {
     "name": "stderr",
     "output_type": "stream",
     "text": [
      "Span has already been finished; will not be reported again.\n"
     ]
    },
    {
     "name": "stdout",
     "output_type": "stream",
     "text": [
      "GHOST database already exists in the install path!\n",
      "2023-07-04 08:38:59,828 - WARNING MainThread cassandra.py:list_by_location:1187 - Catalog object not found (catalog_id=19, object_id=534630551)\n",
      "##############\n",
      "Processing https://alerce.online/object/ZTF20abbhbvu\n",
      "alerce_cls Periodic-Other\n",
      "Alerce class=Periodic-Other is not SN ('SLSN', 'SN', 'SNII', 'SNIa', 'SNIbc') for ZTF20abbhbvu. Skip!\n",
      "CPU times: user 36.9 s, sys: 921 ms, total: 37.8 s\n",
      "Wall time: 1min 53s\n"
     ]
    }
   ],
   "source": [
    "%%time\n",
    "\n",
    "for loc in locus_ids[0:25]:\n",
    "    report = dk.run_filter(LAISS_RFC_AD_filter, locus=loc)"
   ]
  },
  {
   "cell_type": "code",
   "execution_count": 13,
   "id": "73d84693-09d6-4732-9aa9-01e33db1fe07",
   "metadata": {},
   "outputs": [
    {
     "name": "stderr",
     "output_type": "stream",
     "text": [
      "Span has already been finished; will not be reported again.\n"
     ]
    },
    {
     "name": "stdout",
     "output_type": "stream",
     "text": [
      "GHOST database already exists in the install path!\n",
      "2023-07-04 08:40:09,064 - WARNING MainThread cassandra.py:list_by_location:1187 - Catalog object not found (catalog_id=19, object_id=750265595)\n",
      "##############\n",
      "Processing https://alerce.online/object/ZTF18abastzj\n",
      "alerce_cls RRL\n",
      "Alerce class=RRL is not SN ('SLSN', 'SN', 'SNII', 'SNIa', 'SNIbc') for ZTF18abastzj. Skip!\n"
     ]
    },
    {
     "name": "stderr",
     "output_type": "stream",
     "text": [
      "Span has already been finished; will not be reported again.\n"
     ]
    },
    {
     "name": "stdout",
     "output_type": "stream",
     "text": [
      "GHOST database already exists in the install path!\n",
      "2023-07-04 08:40:11,557 - WARNING MainThread cassandra.py:list_by_location:1187 - Catalog object not found (catalog_id=19, object_id=712615473)\n",
      "##############\n",
      "Processing https://alerce.online/object/ZTF20ablxmdq\n",
      "alerce_cls SNII\n",
      "Finding northern sources with Pan-starrs...\n",
      "Found matches for 100.0% of events.\n",
      "http://ps1images.stsci.edu/cgi-bin/ps1cutouts?pos=324.59467763+8.80418091&filter=color\n",
      "ZTF20ablxmdq is NOT anomalous according to RFC model (anom score=25.0%). Skip!\n"
     ]
    },
    {
     "name": "stderr",
     "output_type": "stream",
     "text": [
      "[Parallel(n_jobs=40)]: Using backend ThreadingBackend with 40 concurrent workers.\n",
      "[Parallel(n_jobs=40)]: Done 100 out of 100 | elapsed:    0.0s finished\n",
      "Span has already been finished; will not be reported again.\n"
     ]
    },
    {
     "name": "stdout",
     "output_type": "stream",
     "text": [
      "GHOST database already exists in the install path!\n",
      "##############\n",
      "In galactic plane at b=13.583212331855544. Don't use. Skip!\n"
     ]
    },
    {
     "name": "stderr",
     "output_type": "stream",
     "text": [
      "Span has already been finished; will not be reported again.\n"
     ]
    },
    {
     "name": "stdout",
     "output_type": "stream",
     "text": [
      "GHOST database already exists in the install path!\n",
      "##############\n",
      "Processing https://alerce.online/object/ZTF18adixgbp\n",
      "alerce_cls CEP\n",
      "Alerce class=CEP is not SN ('SLSN', 'SN', 'SNII', 'SNIa', 'SNIbc') for ZTF18adixgbp. Skip!\n"
     ]
    },
    {
     "name": "stderr",
     "output_type": "stream",
     "text": [
      "Span has already been finished; will not be reported again.\n"
     ]
    },
    {
     "name": "stdout",
     "output_type": "stream",
     "text": [
      "GHOST database already exists in the install path!\n",
      "2023-07-04 08:40:26,540 - WARNING MainThread cassandra.py:list_by_location:1187 - Catalog object not found (catalog_id=19, object_id=873413975)\n",
      "##############\n",
      "Processing https://alerce.online/object/ZTF18aakzrci\n",
      "alerce_cls E\n",
      "Alerce class=E is not SN ('SLSN', 'SN', 'SNII', 'SNIa', 'SNIbc') for ZTF18aakzrci. Skip!\n"
     ]
    },
    {
     "name": "stderr",
     "output_type": "stream",
     "text": [
      "Span has already been finished; will not be reported again.\n"
     ]
    },
    {
     "name": "stdout",
     "output_type": "stream",
     "text": [
      "GHOST database already exists in the install path!\n",
      "2023-07-04 08:40:29,510 - WARNING MainThread cassandra.py:list_by_location:1187 - Catalog object not found (catalog_id=19, object_id=835532086)\n",
      "##############\n",
      "In galactic plane at b=12.797722014437658. Don't use. Skip!\n"
     ]
    },
    {
     "name": "stderr",
     "output_type": "stream",
     "text": [
      "Span has already been finished; will not be reported again.\n"
     ]
    },
    {
     "name": "stdout",
     "output_type": "stream",
     "text": [
      "GHOST database already exists in the install path!\n",
      "##############\n",
      "In galactic plane at b=14.66795195729818. Don't use. Skip!\n"
     ]
    },
    {
     "name": "stderr",
     "output_type": "stream",
     "text": [
      "Span has already been finished; will not be reported again.\n"
     ]
    },
    {
     "name": "stdout",
     "output_type": "stream",
     "text": [
      "GHOST database already exists in the install path!\n",
      "##############\n",
      "Processing https://alerce.online/object/ZTF18abcvvlc\n",
      "alerce_cls LPV\n",
      "Alerce class=LPV is not SN ('SLSN', 'SN', 'SNII', 'SNIa', 'SNIbc') for ZTF18abcvvlc. Skip!\n"
     ]
    },
    {
     "name": "stderr",
     "output_type": "stream",
     "text": [
      "Span has already been finished; will not be reported again.\n"
     ]
    },
    {
     "name": "stdout",
     "output_type": "stream",
     "text": [
      "GHOST database already exists in the install path!\n",
      "2023-07-04 08:40:37,707 - WARNING MainThread cassandra.py:list_by_location:1187 - Catalog object not found (catalog_id=19, object_id=750594052)\n",
      "##############\n",
      "Processing https://alerce.online/object/ZTF18abcvvol\n",
      "alerce_cls E\n",
      "Alerce class=E is not SN ('SLSN', 'SN', 'SNII', 'SNIa', 'SNIbc') for ZTF18abcvvol. Skip!\n"
     ]
    },
    {
     "name": "stderr",
     "output_type": "stream",
     "text": [
      "Span has already been finished; will not be reported again.\n"
     ]
    },
    {
     "name": "stdout",
     "output_type": "stream",
     "text": [
      "GHOST database already exists in the install path!\n",
      "2023-07-04 08:40:40,416 - WARNING MainThread cassandra.py:list_by_location:1187 - Catalog object not found (catalog_id=19, object_id=521332688)\n",
      "##############\n",
      "In galactic plane at b=10.274522217291123. Don't use. Skip!\n"
     ]
    },
    {
     "name": "stderr",
     "output_type": "stream",
     "text": [
      "Span has already been finished; will not be reported again.\n"
     ]
    },
    {
     "name": "stdout",
     "output_type": "stream",
     "text": [
      "GHOST database already exists in the install path!\n",
      "2023-07-04 08:40:43,580 - WARNING MainThread cassandra.py:list_by_location:1187 - Catalog object not found (catalog_id=19, object_id=745191455)\n",
      "##############\n",
      "In galactic plane at b=10.850129574826967. Don't use. Skip!\n"
     ]
    },
    {
     "name": "stderr",
     "output_type": "stream",
     "text": [
      "Span has already been finished; will not be reported again.\n"
     ]
    },
    {
     "name": "stdout",
     "output_type": "stream",
     "text": [
      "GHOST database already exists in the install path!\n",
      "2023-07-04 08:40:46,792 - WARNING MainThread cassandra.py:list_by_location:1187 - Catalog object not found (catalog_id=19, object_id=766289058)\n",
      "##############\n",
      "In galactic plane at b=11.834696926569078. Don't use. Skip!\n"
     ]
    },
    {
     "name": "stderr",
     "output_type": "stream",
     "text": [
      "Span has already been finished; will not be reported again.\n"
     ]
    },
    {
     "name": "stdout",
     "output_type": "stream",
     "text": [
      "GHOST database already exists in the install path!\n",
      "2023-07-04 08:40:49,417 - WARNING MainThread cassandra.py:list_by_location:1187 - Catalog object not found (catalog_id=19, object_id=73119362)\n",
      "##############\n",
      "Processing https://alerce.online/object/ZTF21abflnwh\n",
      "alerce_cls Blazar\n",
      "Alerce class=Blazar is not SN ('SLSN', 'SN', 'SNII', 'SNIa', 'SNIbc') for ZTF21abflnwh. Skip!\n"
     ]
    },
    {
     "name": "stderr",
     "output_type": "stream",
     "text": [
      "Span has already been finished; will not be reported again.\n"
     ]
    },
    {
     "name": "stdout",
     "output_type": "stream",
     "text": [
      "GHOST database already exists in the install path!\n",
      "2023-07-04 08:40:54,240 - WARNING MainThread cassandra.py:list_by_location:1187 - Catalog object not found (catalog_id=19, object_id=221979239)\n",
      "##############\n",
      "Processing https://alerce.online/object/ZTF18abwvgbb\n",
      "alerce_cls RRL\n",
      "Alerce class=RRL is not SN ('SLSN', 'SN', 'SNII', 'SNIa', 'SNIbc') for ZTF18abwvgbb. Skip!\n"
     ]
    },
    {
     "name": "stderr",
     "output_type": "stream",
     "text": [
      "Span has already been finished; will not be reported again.\n"
     ]
    },
    {
     "name": "stdout",
     "output_type": "stream",
     "text": [
      "GHOST database already exists in the install path!\n",
      "2023-07-04 08:40:56,558 - WARNING MainThread cassandra.py:list_by_location:1187 - Catalog object not found (catalog_id=19, object_id=140801407)\n",
      "##############\n",
      "Processing https://alerce.online/object/ZTF19abdlcso\n",
      "alerce_cls Periodic-Other\n",
      "Alerce class=Periodic-Other is not SN ('SLSN', 'SN', 'SNII', 'SNIa', 'SNIbc') for ZTF19abdlcso. Skip!\n"
     ]
    },
    {
     "name": "stderr",
     "output_type": "stream",
     "text": [
      "Span has already been finished; will not be reported again.\n"
     ]
    },
    {
     "name": "stdout",
     "output_type": "stream",
     "text": [
      "GHOST database already exists in the install path!\n",
      "##############\n",
      "Processing https://alerce.online/object/ZTF22abztcly\n",
      "alerce_cls SLSN\n",
      "Finding northern sources with Pan-starrs...\n",
      "Found matches for 0.0% of events.\n",
      "Found no hosts in GLADE.\n",
      "Finding northern sources with Pan-starrs...\n",
      "Found matches for 0.0% of events.\n",
      "GHOST host association fails for ZTF22abztcly. Skip!\n"
     ]
    },
    {
     "name": "stderr",
     "output_type": "stream",
     "text": [
      "Span has already been finished; will not be reported again.\n"
     ]
    },
    {
     "name": "stdout",
     "output_type": "stream",
     "text": [
      "GHOST database already exists in the install path!\n",
      "##############\n",
      "Processing https://alerce.online/object/ZTF22aazaypq\n",
      "alerce_cls SNII\n",
      "Finding northern sources with Pan-starrs...\n",
      "Found matches for 100.0% of events.\n",
      "http://ps1images.stsci.edu/cgi-bin/ps1cutouts?pos=290.7824474+81.08441561&filter=color\n",
      "ZTF22aazaypq is NOT anomalous according to RFC model (anom score=28.0%). Skip!\n"
     ]
    },
    {
     "name": "stderr",
     "output_type": "stream",
     "text": [
      "[Parallel(n_jobs=40)]: Using backend ThreadingBackend with 40 concurrent workers.\n",
      "[Parallel(n_jobs=40)]: Done 100 out of 100 | elapsed:    0.0s finished\n",
      "Span has already been finished; will not be reported again.\n"
     ]
    },
    {
     "name": "stdout",
     "output_type": "stream",
     "text": [
      "GHOST database already exists in the install path!\n",
      "##############\n",
      "In galactic plane at b=12.991041387251927. Don't use. Skip!\n"
     ]
    },
    {
     "name": "stderr",
     "output_type": "stream",
     "text": [
      "Span has already been finished; will not be reported again.\n"
     ]
    },
    {
     "name": "stdout",
     "output_type": "stream",
     "text": [
      "GHOST database already exists in the install path!\n",
      "##############\n",
      "In galactic plane at b=13.635829023563165. Don't use. Skip!\n"
     ]
    },
    {
     "name": "stderr",
     "output_type": "stream",
     "text": [
      "Span has already been finished; will not be reported again.\n"
     ]
    },
    {
     "name": "stdout",
     "output_type": "stream",
     "text": [
      "GHOST database already exists in the install path!\n",
      "##############\n",
      "Processing https://alerce.online/object/ZTF21aawqhga\n",
      "alerce_cls QSO\n",
      "Alerce class=QSO is not SN ('SLSN', 'SN', 'SNII', 'SNIa', 'SNIbc') for ZTF21aawqhga. Skip!\n"
     ]
    },
    {
     "name": "stderr",
     "output_type": "stream",
     "text": [
      "Span has already been finished; will not be reported again.\n"
     ]
    },
    {
     "name": "stdout",
     "output_type": "stream",
     "text": [
      "GHOST database already exists in the install path!\n",
      "##############\n",
      "In galactic plane at b=11.213558833159848. Don't use. Skip!\n"
     ]
    },
    {
     "name": "stderr",
     "output_type": "stream",
     "text": [
      "Span has already been finished; will not be reported again.\n"
     ]
    },
    {
     "name": "stdout",
     "output_type": "stream",
     "text": [
      "GHOST database already exists in the install path!\n",
      "2023-07-04 08:41:33,021 - WARNING MainThread cassandra.py:list_by_location:1187 - Catalog object not found (catalog_id=19, object_id=734013873)\n",
      "##############\n",
      "Processing https://alerce.online/object/ZTF18abcuvwm\n",
      "alerce_cls E\n",
      "Alerce class=E is not SN ('SLSN', 'SN', 'SNII', 'SNIa', 'SNIbc') for ZTF18abcuvwm. Skip!\n"
     ]
    },
    {
     "name": "stderr",
     "output_type": "stream",
     "text": [
      "Span has already been finished; will not be reported again.\n"
     ]
    },
    {
     "name": "stdout",
     "output_type": "stream",
     "text": [
      "GHOST database already exists in the install path!\n",
      "2023-07-04 08:41:36,580 - WARNING MainThread cassandra.py:list_by_location:1187 - Catalog object not found (catalog_id=19, object_id=948450544)\n",
      "##############\n",
      "Processing https://alerce.online/object/ZTF17aabvflc\n",
      "alerce_cls RRL\n",
      "Alerce class=RRL is not SN ('SLSN', 'SN', 'SNII', 'SNIa', 'SNIbc') for ZTF17aabvflc. Skip!\n"
     ]
    },
    {
     "name": "stderr",
     "output_type": "stream",
     "text": [
      "Span has already been finished; will not be reported again.\n"
     ]
    },
    {
     "name": "stdout",
     "output_type": "stream",
     "text": [
      "GHOST database already exists in the install path!\n",
      "##############\n",
      "In galactic plane at b=10.752016518123757. Don't use. Skip!\n"
     ]
    },
    {
     "name": "stderr",
     "output_type": "stream",
     "text": [
      "Span has already been finished; will not be reported again.\n"
     ]
    },
    {
     "name": "stdout",
     "output_type": "stream",
     "text": [
      "GHOST database already exists in the install path!\n",
      "2023-07-04 08:41:42,025 - WARNING MainThread cassandra.py:list_by_location:1187 - Catalog object not found (catalog_id=19, object_id=213970404)\n",
      "##############\n",
      "Processing https://alerce.online/object/ZTF19abhuchu\n",
      "alerce_cls VS\n",
      "Alerce class=VS is not SN ('SLSN', 'SN', 'SNII', 'SNIa', 'SNIbc') for ZTF19abhuchu. Skip!\n",
      "CPU times: user 39.2 s, sys: 1.16 s, total: 40.3 s\n",
      "Wall time: 1min 47s\n"
     ]
    }
   ],
   "source": [
    "%%time\n",
    "\n",
    "for loc in locus_ids[25:50]:\n",
    "    report = dk.run_filter(LAISS_RFC_AD_filter, locus=loc)"
   ]
  },
  {
   "cell_type": "code",
   "execution_count": 14,
   "id": "833a3243-ae18-4111-b969-2a719db2f2a7",
   "metadata": {},
   "outputs": [
    {
     "name": "stderr",
     "output_type": "stream",
     "text": [
      "Span has already been finished; will not be reported again.\n"
     ]
    },
    {
     "name": "stdout",
     "output_type": "stream",
     "text": [
      "GHOST database already exists in the install path!\n",
      "2023-07-04 08:43:53,152 - WARNING MainThread cassandra.py:list_by_location:1187 - Catalog object not found (catalog_id=19, object_id=584373732)\n",
      "##############\n",
      "In galactic plane at b=10.95774433756741. Don't use. Skip!\n"
     ]
    },
    {
     "name": "stderr",
     "output_type": "stream",
     "text": [
      "Span has already been finished; will not be reported again.\n"
     ]
    },
    {
     "name": "stdout",
     "output_type": "stream",
     "text": [
      "GHOST database already exists in the install path!\n",
      "2023-07-04 08:43:55,191 - WARNING MainThread cassandra.py:list_by_location:1187 - Catalog object not found (catalog_id=19, object_id=565099187)\n",
      "##############\n",
      "In galactic plane at b=13.140684770887509. Don't use. Skip!\n"
     ]
    },
    {
     "name": "stderr",
     "output_type": "stream",
     "text": [
      "Span has already been finished; will not be reported again.\n"
     ]
    },
    {
     "name": "stdout",
     "output_type": "stream",
     "text": [
      "GHOST database already exists in the install path!\n",
      "2023-07-04 08:43:57,243 - WARNING MainThread cassandra.py:list_by_location:1187 - Catalog object not found (catalog_id=19, object_id=657521240)\n",
      "##############\n",
      "Processing https://alerce.online/object/ZTF18abiycou\n",
      "alerce_cls Periodic-Other\n",
      "Alerce class=Periodic-Other is not SN ('SLSN', 'SN', 'SNII', 'SNIa', 'SNIbc') for ZTF18abiycou. Skip!\n"
     ]
    },
    {
     "name": "stderr",
     "output_type": "stream",
     "text": [
      "Span has already been finished; will not be reported again.\n"
     ]
    },
    {
     "name": "stdout",
     "output_type": "stream",
     "text": [
      "GHOST database already exists in the install path!\n",
      "2023-07-04 08:44:00,190 - WARNING MainThread cassandra.py:list_by_location:1187 - Catalog object not found (catalog_id=19, object_id=243175711)\n",
      "##############\n",
      "Processing https://alerce.online/object/ZTF21aaxwpyx\n",
      "alerce_cls Blazar\n",
      "Alerce class=Blazar is not SN ('SLSN', 'SN', 'SNII', 'SNIa', 'SNIbc') for ZTF21aaxwpyx. Skip!\n"
     ]
    },
    {
     "name": "stderr",
     "output_type": "stream",
     "text": [
      "Span has already been finished; will not be reported again.\n"
     ]
    },
    {
     "name": "stdout",
     "output_type": "stream",
     "text": [
      "GHOST database already exists in the install path!\n",
      "##############\n",
      "Processing https://alerce.online/object/ZTF20abjyage\n",
      "alerce_cls Periodic-Other\n",
      "Alerce class=Periodic-Other is not SN ('SLSN', 'SN', 'SNII', 'SNIa', 'SNIbc') for ZTF20abjyage. Skip!\n"
     ]
    },
    {
     "name": "stderr",
     "output_type": "stream",
     "text": [
      "Span has already been finished; will not be reported again.\n"
     ]
    },
    {
     "name": "stdout",
     "output_type": "stream",
     "text": [
      "GHOST database already exists in the install path!\n",
      "##############\n",
      "Processing https://alerce.online/object/ZTF23aaiwvdh\n",
      "alerce_cls SNII\n",
      "Finding northern sources with Pan-starrs...\n",
      "Found matches for 100.0% of events.\n",
      "http://ps1images.stsci.edu/cgi-bin/ps1cutouts?pos=258.44839188+70.57965072&filter=color\n",
      "ZTF23aaiwvdh is NOT anomalous according to RFC model (anom score=19.0%). Skip!\n"
     ]
    },
    {
     "name": "stderr",
     "output_type": "stream",
     "text": [
      "[Parallel(n_jobs=40)]: Using backend ThreadingBackend with 40 concurrent workers.\n",
      "[Parallel(n_jobs=40)]: Done 100 out of 100 | elapsed:    0.0s finished\n",
      "Span has already been finished; will not be reported again.\n"
     ]
    },
    {
     "name": "stdout",
     "output_type": "stream",
     "text": [
      "GHOST database already exists in the install path!\n",
      "##############\n",
      "Processing https://alerce.online/object/ZTF18abkalak\n",
      "alerce_cls VS\n",
      "Alerce class=VS is not SN ('SLSN', 'SN', 'SNII', 'SNIa', 'SNIbc') for ZTF18abkalak. Skip!\n"
     ]
    },
    {
     "name": "stderr",
     "output_type": "stream",
     "text": [
      "Span has already been finished; will not be reported again.\n"
     ]
    },
    {
     "name": "stdout",
     "output_type": "stream",
     "text": [
      "GHOST database already exists in the install path!\n",
      "##############\n",
      "Processing https://alerce.online/object/ZTF22aaceaor\n",
      "alerce_cls QSO\n",
      "Alerce class=QSO is not SN ('SLSN', 'SN', 'SNII', 'SNIa', 'SNIbc') for ZTF22aaceaor. Skip!\n"
     ]
    },
    {
     "name": "stderr",
     "output_type": "stream",
     "text": [
      "Span has already been finished; will not be reported again.\n"
     ]
    },
    {
     "name": "stdout",
     "output_type": "stream",
     "text": [
      "GHOST database already exists in the install path!\n",
      "##############\n",
      "Processing https://alerce.online/object/ZTF21abiggqx\n",
      "alerce_cls SLSN\n",
      "Finding northern sources with Pan-starrs...\n",
      "Found matches for 100.0% of events.\n",
      "http://ps1images.stsci.edu/cgi-bin/ps1cutouts?pos=267.26346254+60.80672554&filter=color\n",
      "ZTF21abiggqx is ANOMALOUS! LAISS_RFC_anomaly_score=68.98%\n"
     ]
    },
    {
     "name": "stderr",
     "output_type": "stream",
     "text": [
      "[Parallel(n_jobs=40)]: Using backend ThreadingBackend with 40 concurrent workers.\n",
      "[Parallel(n_jobs=40)]: Done 100 out of 100 | elapsed:    0.0s finished\n"
     ]
    },
    {
     "name": "stdout",
     "output_type": "stream",
     "text": [
      "https://alerce.online/object/ZTF21abiggqx\n"
     ]
    },
    {
     "data": {
      "image/png": "[encoded data removed]",
      "text/plain": [
       "<Figure size 500x700 with 2 Axes>"
      ]
     },
     "metadata": {},
     "output_type": "display_data"
    },
    {
     "name": "stderr",
     "output_type": "stream",
     "text": [
      "Span has already been finished; will not be reported again.\n"
     ]
    },
    {
     "name": "stdout",
     "output_type": "stream",
     "text": [
      "GHOST database already exists in the install path!\n",
      "##############\n",
      "Processing https://alerce.online/object/ZTF23aaejwfe\n",
      "alerce_cls SNIa\n",
      "Finding northern sources with Pan-starrs...\n",
      "Found matches for 100.0% of events.\n",
      "http://ps1images.stsci.edu/cgi-bin/ps1cutouts?pos=242.87702741+52.46274091&filter=color\n",
      "Some features are NaN for ZTF23aaejwfe. Skip!\n"
     ]
    },
    {
     "name": "stderr",
     "output_type": "stream",
     "text": [
      "Span has already been finished; will not be reported again.\n"
     ]
    },
    {
     "name": "stdout",
     "output_type": "stream",
     "text": [
      "GHOST database already exists in the install path!\n",
      "##############\n",
      "In galactic plane at b=13.451553443027969. Don't use. Skip!\n"
     ]
    },
    {
     "name": "stderr",
     "output_type": "stream",
     "text": [
      "Span has already been finished; will not be reported again.\n"
     ]
    },
    {
     "name": "stdout",
     "output_type": "stream",
     "text": [
      "GHOST database already exists in the install path!\n",
      "##############\n",
      "Processing https://alerce.online/object/ZTF21aasbcjn\n",
      "alerce_cls Blazar\n",
      "Alerce class=Blazar is not SN ('SLSN', 'SN', 'SNII', 'SNIa', 'SNIbc') for ZTF21aasbcjn. Skip!\n"
     ]
    },
    {
     "name": "stderr",
     "output_type": "stream",
     "text": [
      "Span has already been finished; will not be reported again.\n"
     ]
    },
    {
     "name": "stdout",
     "output_type": "stream",
     "text": [
      "GHOST database already exists in the install path!\n",
      "##############\n",
      "Processing https://alerce.online/object/ZTF23aaekebt\n",
      "alerce_cls SNII\n",
      "Finding northern sources with Pan-starrs...\n",
      "Found matches for 100.0% of events.\n",
      "http://ps1images.stsci.edu/cgi-bin/ps1cutouts?pos=270.85806339+21.15141586&filter=color\n",
      "ZTF23aaekebt is NOT anomalous according to RFC model (anom score=44.0%). Skip!\n"
     ]
    },
    {
     "name": "stderr",
     "output_type": "stream",
     "text": [
      "[Parallel(n_jobs=40)]: Using backend ThreadingBackend with 40 concurrent workers.\n",
      "[Parallel(n_jobs=40)]: Done 100 out of 100 | elapsed:    0.0s finished\n",
      "Span has already been finished; will not be reported again.\n"
     ]
    },
    {
     "name": "stdout",
     "output_type": "stream",
     "text": [
      "GHOST database already exists in the install path!\n",
      "2023-07-04 08:45:04,900 - WARNING MainThread cassandra.py:list_by_location:1187 - Catalog object not found (catalog_id=19, object_id=959574397)\n",
      "##############\n",
      "In galactic plane at b=10.068984140497271. Don't use. Skip!\n"
     ]
    },
    {
     "name": "stderr",
     "output_type": "stream",
     "text": [
      "Span has already been finished; will not be reported again.\n"
     ]
    },
    {
     "name": "stdout",
     "output_type": "stream",
     "text": [
      "GHOST database already exists in the install path!\n",
      "2023-07-04 08:45:07,439 - WARNING MainThread cassandra.py:list_by_location:1187 - Catalog object not found (catalog_id=19, object_id=344360732)\n",
      "##############\n",
      "In galactic plane at b=-12.028927900188883. Don't use. Skip!\n"
     ]
    },
    {
     "name": "stderr",
     "output_type": "stream",
     "text": [
      "Span has already been finished; will not be reported again.\n"
     ]
    },
    {
     "name": "stdout",
     "output_type": "stream",
     "text": [
      "GHOST database already exists in the install path!\n",
      "2023-07-04 08:45:09,420 - WARNING MainThread cassandra.py:list_by_location:1187 - Catalog object not found (catalog_id=19, object_id=444722407)\n",
      "##############\n",
      "In galactic plane at b=-10.516074530039566. Don't use. Skip!\n"
     ]
    },
    {
     "name": "stderr",
     "output_type": "stream",
     "text": [
      "Span has already been finished; will not be reported again.\n"
     ]
    },
    {
     "name": "stdout",
     "output_type": "stream",
     "text": [
      "GHOST database already exists in the install path!\n",
      "2023-07-04 08:45:11,730 - WARNING MainThread cassandra.py:list_by_location:1187 - Catalog object not found (catalog_id=19, object_id=437427715)\n",
      "##############\n",
      "In galactic plane at b=-10.12234993904309. Don't use. Skip!\n"
     ]
    },
    {
     "name": "stderr",
     "output_type": "stream",
     "text": [
      "Span has already been finished; will not be reported again.\n"
     ]
    },
    {
     "name": "stdout",
     "output_type": "stream",
     "text": [
      "GHOST database already exists in the install path!\n",
      "##############\n",
      "In galactic plane at b=-13.187797461631904. Don't use. Skip!\n"
     ]
    },
    {
     "name": "stderr",
     "output_type": "stream",
     "text": [
      "Span has already been finished; will not be reported again.\n"
     ]
    },
    {
     "name": "stdout",
     "output_type": "stream",
     "text": [
      "GHOST database already exists in the install path!\n",
      "2023-07-04 08:45:16,150 - WARNING MainThread cassandra.py:list_by_location:1187 - Catalog object not found (catalog_id=19, object_id=771508875)\n",
      "##############\n",
      "In galactic plane at b=14.301459687983611. Don't use. Skip!\n"
     ]
    },
    {
     "name": "stderr",
     "output_type": "stream",
     "text": [
      "Span has already been finished; will not be reported again.\n"
     ]
    },
    {
     "name": "stdout",
     "output_type": "stream",
     "text": [
      "GHOST database already exists in the install path!\n",
      "##############\n",
      "Processing https://alerce.online/object/ZTF18adixhgm\n",
      "alerce_cls VS\n",
      "Alerce class=VS is not SN ('SLSN', 'SN', 'SNII', 'SNIa', 'SNIbc') for ZTF18adixhgm. Skip!\n"
     ]
    },
    {
     "name": "stderr",
     "output_type": "stream",
     "text": [
      "Span has already been finished; will not be reported again.\n"
     ]
    },
    {
     "name": "stdout",
     "output_type": "stream",
     "text": [
      "GHOST database already exists in the install path!\n",
      "##############\n",
      "Processing https://alerce.online/object/ZTF18adqjwlg\n",
      "alerce_cls QSO\n",
      "Alerce class=QSO is not SN ('SLSN', 'SN', 'SNII', 'SNIa', 'SNIbc') for ZTF18adqjwlg. Skip!\n"
     ]
    },
    {
     "name": "stderr",
     "output_type": "stream",
     "text": [
      "Span has already been finished; will not be reported again.\n"
     ]
    },
    {
     "name": "stdout",
     "output_type": "stream",
     "text": [
      "GHOST database already exists in the install path!\n",
      "##############\n",
      "Processing https://alerce.online/object/ZTF23aafwtbq\n",
      "alerce_cls SNIa\n",
      "Finding northern sources with Pan-starrs...\n",
      "Found matches for 100.0% of events.\n",
      "http://ps1images.stsci.edu/cgi-bin/ps1cutouts?pos=277.92965137+77.7597334&filter=color\n",
      "ZTF23aafwtbq is NOT anomalous according to RFC model (anom score=18.0%). Skip!\n"
     ]
    },
    {
     "name": "stderr",
     "output_type": "stream",
     "text": [
      "[Parallel(n_jobs=40)]: Using backend ThreadingBackend with 40 concurrent workers.\n",
      "[Parallel(n_jobs=40)]: Done 100 out of 100 | elapsed:    0.0s finished\n",
      "Span has already been finished; will not be reported again.\n"
     ]
    },
    {
     "name": "stdout",
     "output_type": "stream",
     "text": [
      "GHOST database already exists in the install path!\n",
      "##############\n",
      "Processing https://alerce.online/object/ZTF23aahfxpr\n",
      "alerce_cls SNIa\n",
      "Finding northern sources with Pan-starrs...\n",
      "Found matches for 100.0% of events.\n",
      "http://ps1images.stsci.edu/cgi-bin/ps1cutouts?pos=231.24954742+68.75579722&filter=color\n",
      "Some features are NaN for ZTF23aahfxpr. Skip!\n"
     ]
    },
    {
     "name": "stderr",
     "output_type": "stream",
     "text": [
      "Span has already been finished; will not be reported again.\n"
     ]
    },
    {
     "name": "stdout",
     "output_type": "stream",
     "text": [
      "GHOST database already exists in the install path!\n",
      "##############\n",
      "Processing https://alerce.online/object/ZTF18aarfwbx\n",
      "alerce_cls Periodic-Other\n",
      "Alerce class=Periodic-Other is not SN ('SLSN', 'SN', 'SNII', 'SNIa', 'SNIbc') for ZTF18aarfwbx. Skip!\n"
     ]
    },
    {
     "name": "stderr",
     "output_type": "stream",
     "text": [
      "Span has already been finished; will not be reported again.\n"
     ]
    },
    {
     "name": "stdout",
     "output_type": "stream",
     "text": [
      "GHOST database already exists in the install path!\n",
      "##############\n",
      "Processing https://alerce.online/object/ZTF18aaiufkw\n",
      "alerce_cls CV/Nova\n",
      "Alerce class=CV/Nova is not SN ('SLSN', 'SN', 'SNII', 'SNIa', 'SNIbc') for ZTF18aaiufkw. Skip!\n",
      "CPU times: user 39.4 s, sys: 2.11 s, total: 41.5 s\n",
      "Wall time: 1min 50s\n"
     ]
    }
   ],
   "source": [
    "%%time\n",
    "\n",
    "for loc in locus_ids[50:75]:\n",
    "    report = dk.run_filter(LAISS_RFC_AD_filter, locus=loc)"
   ]
  },
  {
   "cell_type": "code",
   "execution_count": 15,
   "id": "560f3b10-b79a-4d8b-a3b0-778493d28c3a",
   "metadata": {},
   "outputs": [
    {
     "name": "stderr",
     "output_type": "stream",
     "text": [
      "Span has already been finished; will not be reported again.\n"
     ]
    },
    {
     "name": "stdout",
     "output_type": "stream",
     "text": [
      "GHOST database already exists in the install path!\n",
      "##############\n",
      "Processing https://alerce.online/object/ZTF22aaausxq\n",
      "alerce_cls QSO\n",
      "Alerce class=QSO is not SN ('SLSN', 'SN', 'SNII', 'SNIa', 'SNIbc') for ZTF22aaausxq. Skip!\n"
     ]
    },
    {
     "name": "stderr",
     "output_type": "stream",
     "text": [
      "Span has already been finished; will not be reported again.\n"
     ]
    },
    {
     "name": "stdout",
     "output_type": "stream",
     "text": [
      "GHOST database already exists in the install path!\n",
      "##############\n",
      "Processing https://alerce.online/object/ZTF18aajatec\n",
      "alerce_cls QSO\n",
      "Alerce class=QSO is not SN ('SLSN', 'SN', 'SNII', 'SNIa', 'SNIbc') for ZTF18aajatec. Skip!\n"
     ]
    },
    {
     "name": "stderr",
     "output_type": "stream",
     "text": [
      "Span has already been finished; will not be reported again.\n"
     ]
    },
    {
     "name": "stdout",
     "output_type": "stream",
     "text": [
      "GHOST database already exists in the install path!\n",
      "##############\n",
      "Processing https://alerce.online/object/ZTF23aahnmag\n",
      "alerce_cls SLSN\n",
      "Finding northern sources with Pan-starrs...\n",
      "Found matches for 100.0% of events.\n",
      "http://ps1images.stsci.edu/cgi-bin/ps1cutouts?pos=238.7534058+39.6697419&filter=color\n",
      "ZTF23aahnmag is NOT anomalous according to RFC model (anom score=48.0%). Skip!\n"
     ]
    },
    {
     "name": "stderr",
     "output_type": "stream",
     "text": [
      "[Parallel(n_jobs=40)]: Using backend ThreadingBackend with 40 concurrent workers.\n",
      "[Parallel(n_jobs=40)]: Done 100 out of 100 | elapsed:    0.0s finished\n",
      "Span has already been finished; will not be reported again.\n"
     ]
    },
    {
     "name": "stdout",
     "output_type": "stream",
     "text": [
      "GHOST database already exists in the install path!\n",
      "2023-07-04 08:46:04,373 - WARNING MainThread cassandra.py:list_by_location:1187 - Catalog object not found (catalog_id=19, object_id=931748531)\n",
      "##############\n",
      "Processing https://alerce.online/object/ZTF21aazjruy\n",
      "alerce_cls QSO\n",
      "Alerce class=QSO is not SN ('SLSN', 'SN', 'SNII', 'SNIa', 'SNIbc') for ZTF21aazjruy. Skip!\n"
     ]
    },
    {
     "name": "stderr",
     "output_type": "stream",
     "text": [
      "Span has already been finished; will not be reported again.\n"
     ]
    },
    {
     "name": "stdout",
     "output_type": "stream",
     "text": [
      "GHOST database already exists in the install path!\n",
      "2023-07-04 08:46:07,885 - WARNING MainThread cassandra.py:list_by_location:1187 - Catalog object not found (catalog_id=19, object_id=684584918)\n",
      "##############\n",
      "Processing https://alerce.online/object/ZTF18aavskkv\n",
      "alerce_cls RRL\n",
      "Alerce class=RRL is not SN ('SLSN', 'SN', 'SNII', 'SNIa', 'SNIbc') for ZTF18aavskkv. Skip!\n"
     ]
    },
    {
     "name": "stderr",
     "output_type": "stream",
     "text": [
      "Span has already been finished; will not be reported again.\n"
     ]
    },
    {
     "name": "stdout",
     "output_type": "stream",
     "text": [
      "GHOST database already exists in the install path!\n",
      "2023-07-04 08:46:11,050 - WARNING MainThread cassandra.py:list_by_location:1187 - Catalog object not found (catalog_id=19, object_id=668276055)\n",
      "##############\n",
      "Processing https://alerce.online/object/ZTF18aaqnqvg\n",
      "alerce_cls RRL\n",
      "Alerce class=RRL is not SN ('SLSN', 'SN', 'SNII', 'SNIa', 'SNIbc') for ZTF18aaqnqvg. Skip!\n"
     ]
    },
    {
     "name": "stderr",
     "output_type": "stream",
     "text": [
      "Span has already been finished; will not be reported again.\n"
     ]
    },
    {
     "name": "stdout",
     "output_type": "stream",
     "text": [
      "GHOST database already exists in the install path!\n",
      "2023-07-04 08:46:14,240 - WARNING MainThread cassandra.py:list_by_location:1187 - Catalog object not found (catalog_id=19, object_id=591885562)\n",
      "##############\n",
      "Processing https://alerce.online/object/ZTF18abcpokm\n",
      "alerce_cls RRL\n",
      "Alerce class=RRL is not SN ('SLSN', 'SN', 'SNII', 'SNIa', 'SNIbc') for ZTF18abcpokm. Skip!\n"
     ]
    },
    {
     "name": "stderr",
     "output_type": "stream",
     "text": [
      "Span has already been finished; will not be reported again.\n"
     ]
    },
    {
     "name": "stdout",
     "output_type": "stream",
     "text": [
      "GHOST database already exists in the install path!\n",
      "2023-07-04 08:46:17,676 - WARNING MainThread cassandra.py:list_by_location:1187 - Catalog object not found (catalog_id=19, object_id=366459067)\n",
      "##############\n",
      "Processing https://alerce.online/object/ZTF18abedgrj\n",
      "alerce_cls E\n",
      "Alerce class=E is not SN ('SLSN', 'SN', 'SNII', 'SNIa', 'SNIbc') for ZTF18abedgrj. Skip!\n"
     ]
    },
    {
     "name": "stderr",
     "output_type": "stream",
     "text": [
      "Span has already been finished; will not be reported again.\n"
     ]
    },
    {
     "name": "stdout",
     "output_type": "stream",
     "text": [
      "GHOST database already exists in the install path!\n",
      "2023-07-04 08:46:20,492 - WARNING MainThread cassandra.py:list_by_location:1187 - Catalog object not found (catalog_id=19, object_id=511301158)\n",
      "##############\n",
      "Processing https://alerce.online/object/ZTF21aazrvcr\n",
      "alerce_cls QSO\n",
      "Alerce class=QSO is not SN ('SLSN', 'SN', 'SNII', 'SNIa', 'SNIbc') for ZTF21aazrvcr. Skip!\n"
     ]
    },
    {
     "name": "stderr",
     "output_type": "stream",
     "text": [
      "Span has already been finished; will not be reported again.\n"
     ]
    },
    {
     "name": "stdout",
     "output_type": "stream",
     "text": [
      "GHOST database already exists in the install path!\n",
      "2023-07-04 08:46:22,449 - WARNING MainThread cassandra.py:list_by_location:1187 - Catalog object not found (catalog_id=19, object_id=501216546)\n",
      "##############\n",
      "Processing https://alerce.online/object/ZTF19acekpoy\n",
      "alerce_cls CV/Nova\n",
      "Alerce class=CV/Nova is not SN ('SLSN', 'SN', 'SNII', 'SNIa', 'SNIbc') for ZTF19acekpoy. Skip!\n"
     ]
    },
    {
     "name": "stderr",
     "output_type": "stream",
     "text": [
      "Span has already been finished; will not be reported again.\n"
     ]
    },
    {
     "name": "stdout",
     "output_type": "stream",
     "text": [
      "GHOST database already exists in the install path!\n",
      "2023-07-04 08:46:26,271 - WARNING MainThread cassandra.py:list_by_location:1187 - Catalog object not found (catalog_id=19, object_id=592029677)\n",
      "##############\n",
      "Processing https://alerce.online/object/ZTF18ablrmqo\n",
      "alerce_cls RRL\n",
      "Alerce class=RRL is not SN ('SLSN', 'SN', 'SNII', 'SNIa', 'SNIbc') for ZTF18ablrmqo. Skip!\n"
     ]
    },
    {
     "name": "stderr",
     "output_type": "stream",
     "text": [
      "Span has already been finished; will not be reported again.\n"
     ]
    },
    {
     "name": "stdout",
     "output_type": "stream",
     "text": [
      "GHOST database already exists in the install path!\n",
      "2023-07-04 08:46:30,089 - WARNING MainThread cassandra.py:list_by_location:1187 - Catalog object not found (catalog_id=19, object_id=598963612)\n",
      "##############\n",
      "Processing https://alerce.online/object/ZTF18adlzzsh\n",
      "alerce_cls CV/Nova\n",
      "Alerce class=CV/Nova is not SN ('SLSN', 'SN', 'SNII', 'SNIa', 'SNIbc') for ZTF18adlzzsh. Skip!\n"
     ]
    },
    {
     "name": "stderr",
     "output_type": "stream",
     "text": [
      "Span has already been finished; will not be reported again.\n"
     ]
    },
    {
     "name": "stdout",
     "output_type": "stream",
     "text": [
      "GHOST database already exists in the install path!\n",
      "2023-07-04 08:46:33,378 - WARNING MainThread cassandra.py:list_by_location:1187 - Catalog object not found (catalog_id=19, object_id=496726798)\n",
      "##############\n",
      "Processing https://alerce.online/object/ZTF19aaafqao\n",
      "alerce_cls CV/Nova\n",
      "Alerce class=CV/Nova is not SN ('SLSN', 'SN', 'SNII', 'SNIa', 'SNIbc') for ZTF19aaafqao. Skip!\n"
     ]
    },
    {
     "name": "stderr",
     "output_type": "stream",
     "text": [
      "Span has already been finished; will not be reported again.\n"
     ]
    },
    {
     "name": "stdout",
     "output_type": "stream",
     "text": [
      "GHOST database already exists in the install path!\n",
      "##############\n",
      "In galactic plane at b=14.15395911281555. Don't use. Skip!\n"
     ]
    },
    {
     "name": "stderr",
     "output_type": "stream",
     "text": [
      "Span has already been finished; will not be reported again.\n"
     ]
    },
    {
     "name": "stdout",
     "output_type": "stream",
     "text": [
      "GHOST database already exists in the install path!\n",
      "2023-07-04 08:46:38,812 - WARNING MainThread cassandra.py:list_by_location:1187 - Catalog object not found (catalog_id=19, object_id=217220170)\n",
      "##############\n",
      "In galactic plane at b=10.607189237448482. Don't use. Skip!\n"
     ]
    },
    {
     "name": "stderr",
     "output_type": "stream",
     "text": [
      "Span has already been finished; will not be reported again.\n"
     ]
    },
    {
     "name": "stdout",
     "output_type": "stream",
     "text": [
      "GHOST database already exists in the install path!\n",
      "##############\n",
      "In galactic plane at b=10.487832175269142. Don't use. Skip!\n"
     ]
    },
    {
     "name": "stderr",
     "output_type": "stream",
     "text": [
      "Span has already been finished; will not be reported again.\n"
     ]
    },
    {
     "name": "stdout",
     "output_type": "stream",
     "text": [
      "GHOST database already exists in the install path!\n",
      "2023-07-04 08:46:44,449 - WARNING MainThread cassandra.py:list_by_location:1187 - Catalog object not found (catalog_id=19, object_id=193690614)\n",
      "##############\n",
      "In galactic plane at b=11.800392331897362. Don't use. Skip!\n"
     ]
    },
    {
     "name": "stderr",
     "output_type": "stream",
     "text": [
      "Span has already been finished; will not be reported again.\n"
     ]
    },
    {
     "name": "stdout",
     "output_type": "stream",
     "text": [
      "GHOST database already exists in the install path!\n",
      "2023-07-04 08:46:47,392 - WARNING MainThread cassandra.py:list_by_location:1187 - Catalog object not found (catalog_id=19, object_id=349542991)\n",
      "##############\n",
      "In galactic plane at b=13.013438557457754. Don't use. Skip!\n"
     ]
    },
    {
     "name": "stderr",
     "output_type": "stream",
     "text": [
      "Span has already been finished; will not be reported again.\n"
     ]
    },
    {
     "name": "stdout",
     "output_type": "stream",
     "text": [
      "GHOST database already exists in the install path!\n",
      "##############\n",
      "Processing https://alerce.online/object/ZTF21aazywsl\n",
      "alerce_cls Blazar\n",
      "Alerce class=Blazar is not SN ('SLSN', 'SN', 'SNII', 'SNIa', 'SNIbc') for ZTF21aazywsl. Skip!\n"
     ]
    },
    {
     "name": "stderr",
     "output_type": "stream",
     "text": [
      "Span has already been finished; will not be reported again.\n"
     ]
    },
    {
     "name": "stdout",
     "output_type": "stream",
     "text": [
      "GHOST database already exists in the install path!\n",
      "2023-07-04 08:46:52,947 - WARNING MainThread cassandra.py:list_by_location:1187 - Catalog object not found (catalog_id=19, object_id=749525667)\n",
      "##############\n",
      "Processing https://alerce.online/object/ZTF21acdowtu\n",
      "alerce_cls AGN\n",
      "Alerce class=AGN is not SN ('SLSN', 'SN', 'SNII', 'SNIa', 'SNIbc') for ZTF21acdowtu. Skip!\n"
     ]
    },
    {
     "name": "stderr",
     "output_type": "stream",
     "text": [
      "Span has already been finished; will not be reported again.\n"
     ]
    },
    {
     "name": "stdout",
     "output_type": "stream",
     "text": [
      "GHOST database already exists in the install path!\n",
      "2023-07-04 08:46:55,251 - WARNING MainThread cassandra.py:list_by_location:1187 - Catalog object not found (catalog_id=19, object_id=824798858)\n",
      "##############\n",
      "Processing https://alerce.online/object/ZTF22aanwibf\n",
      "alerce_cls SLSN\n",
      "Finding northern sources with Pan-starrs...\n",
      "Found matches for 100.0% of events.\n",
      "http://ps1images.stsci.edu/cgi-bin/ps1cutouts?pos=219.75813572+15.98978812&filter=color\n",
      "ZTF22aanwibf is NOT anomalous according to RFC model (anom score=30.0%). Skip!\n"
     ]
    },
    {
     "name": "stderr",
     "output_type": "stream",
     "text": [
      "[Parallel(n_jobs=40)]: Using backend ThreadingBackend with 40 concurrent workers.\n",
      "[Parallel(n_jobs=40)]: Done 100 out of 100 | elapsed:    0.0s finished\n",
      "Span has already been finished; will not be reported again.\n"
     ]
    },
    {
     "name": "stdout",
     "output_type": "stream",
     "text": [
      "GHOST database already exists in the install path!\n",
      "2023-07-04 08:47:05,106 - WARNING MainThread cassandra.py:list_by_location:1187 - Catalog object not found (catalog_id=19, object_id=104464337)\n",
      "##############\n",
      "Processing https://alerce.online/object/ZTF19aaxligy\n",
      "alerce_cls YSO\n",
      "Alerce class=YSO is not SN ('SLSN', 'SN', 'SNII', 'SNIa', 'SNIbc') for ZTF19aaxligy. Skip!\n"
     ]
    },
    {
     "name": "stderr",
     "output_type": "stream",
     "text": [
      "Span has already been finished; will not be reported again.\n"
     ]
    },
    {
     "name": "stdout",
     "output_type": "stream",
     "text": [
      "GHOST database already exists in the install path!\n",
      "##############\n",
      "Processing https://alerce.online/object/ZTF19aaxlnbk\n",
      "alerce_cls RRL\n",
      "Alerce class=RRL is not SN ('SLSN', 'SN', 'SNII', 'SNIa', 'SNIbc') for ZTF19aaxlnbk. Skip!\n"
     ]
    },
    {
     "name": "stderr",
     "output_type": "stream",
     "text": [
      "Span has already been finished; will not be reported again.\n"
     ]
    },
    {
     "name": "stdout",
     "output_type": "stream",
     "text": [
      "GHOST database already exists in the install path!\n",
      "##############\n",
      "Processing https://alerce.online/object/ZTF19aayyedn\n",
      "alerce_cls RRL\n",
      "Alerce class=RRL is not SN ('SLSN', 'SN', 'SNII', 'SNIa', 'SNIbc') for ZTF19aayyedn. Skip!\n"
     ]
    },
    {
     "name": "stderr",
     "output_type": "stream",
     "text": [
      "Span has already been finished; will not be reported again.\n"
     ]
    },
    {
     "name": "stdout",
     "output_type": "stream",
     "text": [
      "GHOST database already exists in the install path!\n",
      "2023-07-04 08:47:18,130 - WARNING MainThread cassandra.py:list_by_location:1187 - Catalog object not found (catalog_id=19, object_id=198340902)\n",
      "##############\n",
      "Processing https://alerce.online/object/ZTF21aazruji\n",
      "alerce_cls Periodic-Other\n",
      "Alerce class=Periodic-Other is not SN ('SLSN', 'SN', 'SNII', 'SNIa', 'SNIbc') for ZTF21aazruji. Skip!\n",
      "CPU times: user 27.8 s, sys: 886 ms, total: 28.7 s\n",
      "Wall time: 1min 37s\n"
     ]
    }
   ],
   "source": [
    "%%time\n",
    "\n",
    "for loc in locus_ids[75:100]:\n",
    "    report = dk.run_filter(LAISS_RFC_AD_filter, locus=loc)"
   ]
  },
  {
   "cell_type": "code",
   "execution_count": 16,
   "id": "8ad5bbd3-9915-439e-9040-2ace601a5912",
   "metadata": {},
   "outputs": [
    {
     "name": "stderr",
     "output_type": "stream",
     "text": [
      "Span has already been finished; will not be reported again.\n"
     ]
    },
    {
     "name": "stdout",
     "output_type": "stream",
     "text": [
      "GHOST database already exists in the install path!\n",
      "##############\n",
      "Processing https://alerce.online/object/ZTF23aafpygk\n",
      "alerce_cls CV/Nova\n",
      "Alerce class=CV/Nova is not SN ('SLSN', 'SN', 'SNII', 'SNIa', 'SNIbc') for ZTF23aafpygk. Skip!\n"
     ]
    },
    {
     "name": "stderr",
     "output_type": "stream",
     "text": [
      "Span has already been finished; will not be reported again.\n"
     ]
    },
    {
     "name": "stdout",
     "output_type": "stream",
     "text": [
      "GHOST database already exists in the install path!\n",
      "##############\n",
      "Processing https://alerce.online/object/ZTF18aakggiv\n",
      "alerce_cls RRL\n",
      "Alerce class=RRL is not SN ('SLSN', 'SN', 'SNII', 'SNIa', 'SNIbc') for ZTF18aakggiv. Skip!\n"
     ]
    },
    {
     "name": "stderr",
     "output_type": "stream",
     "text": [
      "Span has already been finished; will not be reported again.\n"
     ]
    },
    {
     "name": "stdout",
     "output_type": "stream",
     "text": [
      "GHOST database already exists in the install path!\n",
      "##############\n",
      "Processing https://alerce.online/object/ZTF18aagrtrn\n",
      "Error getting best alerce classifier result for ZTF18aagrtrn. Skip!\n"
     ]
    },
    {
     "name": "stderr",
     "output_type": "stream",
     "text": [
      "Span has already been finished; will not be reported again.\n"
     ]
    },
    {
     "name": "stdout",
     "output_type": "stream",
     "text": [
      "GHOST database already exists in the install path!\n",
      "##############\n",
      "Processing https://alerce.online/object/ZTF18aajljgf\n",
      "alerce_cls DSCT\n",
      "Alerce class=DSCT is not SN ('SLSN', 'SN', 'SNII', 'SNIa', 'SNIbc') for ZTF18aajljgf. Skip!\n"
     ]
    },
    {
     "name": "stderr",
     "output_type": "stream",
     "text": [
      "Span has already been finished; will not be reported again.\n"
     ]
    },
    {
     "name": "stdout",
     "output_type": "stream",
     "text": [
      "GHOST database already exists in the install path!\n",
      "##############\n",
      "Processing https://alerce.online/object/ZTF18aaaaalp\n",
      "alerce_cls RRL\n",
      "Alerce class=RRL is not SN ('SLSN', 'SN', 'SNII', 'SNIa', 'SNIbc') for ZTF18aaaaalp. Skip!\n"
     ]
    },
    {
     "name": "stderr",
     "output_type": "stream",
     "text": [
      "Span has already been finished; will not be reported again.\n"
     ]
    },
    {
     "name": "stdout",
     "output_type": "stream",
     "text": [
      "GHOST database already exists in the install path!\n",
      "##############\n",
      "Processing https://alerce.online/object/ZTF18aagrhwr\n",
      "alerce_cls RRL\n",
      "Alerce class=RRL is not SN ('SLSN', 'SN', 'SNII', 'SNIa', 'SNIbc') for ZTF18aagrhwr. Skip!\n"
     ]
    },
    {
     "name": "stderr",
     "output_type": "stream",
     "text": [
      "Span has already been finished; will not be reported again.\n"
     ]
    },
    {
     "name": "stdout",
     "output_type": "stream",
     "text": [
      "GHOST database already exists in the install path!\n",
      "2023-07-04 08:58:37,880 - WARNING MainThread cassandra.py:list_by_location:1187 - Catalog object not found (catalog_id=19, object_id=819910432)\n",
      "##############\n",
      "Processing https://alerce.online/object/ZTF18abdfgzc\n",
      "alerce_cls RRL\n",
      "Alerce class=RRL is not SN ('SLSN', 'SN', 'SNII', 'SNIa', 'SNIbc') for ZTF18abdfgzc. Skip!\n"
     ]
    },
    {
     "name": "stderr",
     "output_type": "stream",
     "text": [
      "Span has already been finished; will not be reported again.\n"
     ]
    },
    {
     "name": "stdout",
     "output_type": "stream",
     "text": [
      "GHOST database already exists in the install path!\n",
      "2023-07-04 08:58:40,437 - WARNING MainThread cassandra.py:list_by_location:1187 - Catalog object not found (catalog_id=19, object_id=335682340)\n",
      "##############\n",
      "Processing https://alerce.online/object/ZTF18adbagop\n",
      "alerce_cls Periodic-Other\n",
      "Alerce class=Periodic-Other is not SN ('SLSN', 'SN', 'SNII', 'SNIa', 'SNIbc') for ZTF18adbagop. Skip!\n"
     ]
    },
    {
     "name": "stderr",
     "output_type": "stream",
     "text": [
      "Span has already been finished; will not be reported again.\n"
     ]
    },
    {
     "name": "stdout",
     "output_type": "stream",
     "text": [
      "GHOST database already exists in the install path!\n",
      "2023-07-04 08:58:42,797 - WARNING MainThread cassandra.py:list_by_location:1187 - Catalog object not found (catalog_id=19, object_id=366767592)\n",
      "##############\n",
      "Processing https://alerce.online/object/ZTF19aapwcjj\n",
      "alerce_cls Periodic-Other\n",
      "Alerce class=Periodic-Other is not SN ('SLSN', 'SN', 'SNII', 'SNIa', 'SNIbc') for ZTF19aapwcjj. Skip!\n"
     ]
    },
    {
     "name": "stderr",
     "output_type": "stream",
     "text": [
      "Span has already been finished; will not be reported again.\n"
     ]
    },
    {
     "name": "stdout",
     "output_type": "stream",
     "text": [
      "GHOST database already exists in the install path!\n",
      "2023-07-04 08:58:55,299 - WARNING MainThread cassandra.py:list_by_location:1187 - Catalog object not found (catalog_id=19, object_id=339656795)\n",
      "##############\n",
      "Processing https://alerce.online/object/ZTF18adbafbx\n",
      "alerce_cls RRL\n",
      "Alerce class=RRL is not SN ('SLSN', 'SN', 'SNII', 'SNIa', 'SNIbc') for ZTF18adbafbx. Skip!\n"
     ]
    },
    {
     "name": "stderr",
     "output_type": "stream",
     "text": [
      "Span has already been finished; will not be reported again.\n"
     ]
    },
    {
     "name": "stdout",
     "output_type": "stream",
     "text": [
      "GHOST database already exists in the install path!\n",
      "2023-07-04 08:58:58,464 - WARNING MainThread cassandra.py:list_by_location:1187 - Catalog object not found (catalog_id=19, object_id=800249103)\n",
      "##############\n",
      "Processing https://alerce.online/object/ZTF18abetddu\n",
      "alerce_cls RRL\n",
      "Alerce class=RRL is not SN ('SLSN', 'SN', 'SNII', 'SNIa', 'SNIbc') for ZTF18abetddu. Skip!\n"
     ]
    },
    {
     "name": "stderr",
     "output_type": "stream",
     "text": [
      "Span has already been finished; will not be reported again.\n"
     ]
    },
    {
     "name": "stdout",
     "output_type": "stream",
     "text": [
      "GHOST database already exists in the install path!\n",
      "2023-07-04 08:59:01,079 - WARNING MainThread cassandra.py:list_by_location:1187 - Catalog object not found (catalog_id=19, object_id=427587360)\n",
      "##############\n",
      "Processing https://alerce.online/object/ZTF19aadoqnh\n",
      "alerce_cls E\n",
      "Alerce class=E is not SN ('SLSN', 'SN', 'SNII', 'SNIa', 'SNIbc') for ZTF19aadoqnh. Skip!\n"
     ]
    },
    {
     "name": "stderr",
     "output_type": "stream",
     "text": [
      "Span has already been finished; will not be reported again.\n"
     ]
    },
    {
     "name": "stdout",
     "output_type": "stream",
     "text": [
      "GHOST database already exists in the install path!\n",
      "2023-07-04 08:59:03,920 - WARNING MainThread cassandra.py:list_by_location:1187 - Catalog object not found (catalog_id=19, object_id=271045461)\n",
      "##############\n",
      "In galactic plane at b=14.090780358779652. Don't use. Skip!\n"
     ]
    },
    {
     "name": "stderr",
     "output_type": "stream",
     "text": [
      "Span has already been finished; will not be reported again.\n"
     ]
    },
    {
     "name": "stdout",
     "output_type": "stream",
     "text": [
      "GHOST database already exists in the install path!\n",
      "2023-07-04 08:59:06,983 - WARNING MainThread cassandra.py:list_by_location:1187 - Catalog object not found (catalog_id=19, object_id=263846113)\n",
      "##############\n",
      "In galactic plane at b=12.083092112006137. Don't use. Skip!\n"
     ]
    },
    {
     "name": "stderr",
     "output_type": "stream",
     "text": [
      "Span has already been finished; will not be reported again.\n"
     ]
    },
    {
     "name": "stdout",
     "output_type": "stream",
     "text": [
      "GHOST database already exists in the install path!\n",
      "2023-07-04 08:59:09,959 - WARNING MainThread cassandra.py:list_by_location:1187 - Catalog object not found (catalog_id=19, object_id=199037789)\n",
      "##############\n",
      "In galactic plane at b=11.126108446635236. Don't use. Skip!\n"
     ]
    },
    {
     "name": "stderr",
     "output_type": "stream",
     "text": [
      "Span has already been finished; will not be reported again.\n"
     ]
    },
    {
     "name": "stdout",
     "output_type": "stream",
     "text": [
      "GHOST database already exists in the install path!\n",
      "2023-07-04 08:59:13,008 - WARNING MainThread cassandra.py:list_by_location:1187 - Catalog object not found (catalog_id=19, object_id=194378281)\n",
      "##############\n",
      "In galactic plane at b=13.874114681859513. Don't use. Skip!\n"
     ]
    },
    {
     "name": "stderr",
     "output_type": "stream",
     "text": [
      "Span has already been finished; will not be reported again.\n"
     ]
    },
    {
     "name": "stdout",
     "output_type": "stream",
     "text": [
      "GHOST database already exists in the install path!\n",
      "##############\n",
      "In galactic plane at b=13.160743469838206. Don't use. Skip!\n"
     ]
    },
    {
     "name": "stderr",
     "output_type": "stream",
     "text": [
      "Span has already been finished; will not be reported again.\n"
     ]
    },
    {
     "name": "stdout",
     "output_type": "stream",
     "text": [
      "GHOST database already exists in the install path!\n",
      "2023-07-04 08:59:18,235 - WARNING MainThread cassandra.py:list_by_location:1187 - Catalog object not found (catalog_id=19, object_id=66118783)\n",
      "##############\n",
      "In galactic plane at b=10.201170546016964. Don't use. Skip!\n"
     ]
    },
    {
     "name": "stderr",
     "output_type": "stream",
     "text": [
      "Span has already been finished; will not be reported again.\n"
     ]
    },
    {
     "name": "stdout",
     "output_type": "stream",
     "text": [
      "GHOST database already exists in the install path!\n",
      "2023-07-04 08:59:20,830 - WARNING MainThread cassandra.py:list_by_location:1187 - Catalog object not found (catalog_id=19, object_id=91697292)\n",
      "##############\n",
      "In galactic plane at b=11.136233536407751. Don't use. Skip!\n"
     ]
    },
    {
     "name": "stderr",
     "output_type": "stream",
     "text": [
      "Span has already been finished; will not be reported again.\n"
     ]
    },
    {
     "name": "stdout",
     "output_type": "stream",
     "text": [
      "GHOST database already exists in the install path!\n",
      "##############\n",
      "Processing https://alerce.online/object/ZTF18adqwkdt\n",
      "alerce_cls bogus\n",
      "Alerce class=bogus is not SN ('SLSN', 'SN', 'SNII', 'SNIa', 'SNIbc') for ZTF18adqwkdt. Skip!\n"
     ]
    },
    {
     "name": "stderr",
     "output_type": "stream",
     "text": [
      "Span has already been finished; will not be reported again.\n"
     ]
    },
    {
     "name": "stdout",
     "output_type": "stream",
     "text": [
      "GHOST database already exists in the install path!\n",
      "##############\n",
      "Processing https://alerce.online/object/ZTF22aagdxmo\n",
      "alerce_cls QSO\n",
      "Alerce class=QSO is not SN ('SLSN', 'SN', 'SNII', 'SNIa', 'SNIbc') for ZTF22aagdxmo. Skip!\n"
     ]
    },
    {
     "name": "stderr",
     "output_type": "stream",
     "text": [
      "Span has already been finished; will not be reported again.\n"
     ]
    },
    {
     "name": "stdout",
     "output_type": "stream",
     "text": [
      "GHOST database already exists in the install path!\n",
      "##############\n",
      "Processing https://alerce.online/object/ZTF22abvmgtl\n",
      "alerce_cls SNII\n",
      "Finding northern sources with Pan-starrs...\n",
      "Found matches for 100.0% of events.\n",
      "http://ps1images.stsci.edu/cgi-bin/ps1cutouts?pos=216.42112539+57.94721967&filter=color\n",
      "Some features are NaN for ZTF22abvmgtl. Skip!\n"
     ]
    },
    {
     "name": "stderr",
     "output_type": "stream",
     "text": [
      "Span has already been finished; will not be reported again.\n"
     ]
    },
    {
     "name": "stdout",
     "output_type": "stream",
     "text": [
      "GHOST database already exists in the install path!\n",
      "##############\n",
      "Processing https://alerce.online/object/ZTF19aauynhv\n",
      "alerce_cls LPV\n",
      "Alerce class=LPV is not SN ('SLSN', 'SN', 'SNII', 'SNIa', 'SNIbc') for ZTF19aauynhv. Skip!\n"
     ]
    },
    {
     "name": "stderr",
     "output_type": "stream",
     "text": [
      "Span has already been finished; will not be reported again.\n"
     ]
    },
    {
     "name": "stdout",
     "output_type": "stream",
     "text": [
      "GHOST database already exists in the install path!\n",
      "2023-07-04 08:59:39,042 - WARNING MainThread cassandra.py:list_by_location:1187 - Catalog object not found (catalog_id=19, object_id=87309832)\n",
      "##############\n",
      "Processing https://alerce.online/object/ZTF19aauynbg\n",
      "alerce_cls CEP\n",
      "Alerce class=CEP is not SN ('SLSN', 'SN', 'SNII', 'SNIa', 'SNIbc') for ZTF19aauynbg. Skip!\n"
     ]
    },
    {
     "name": "stderr",
     "output_type": "stream",
     "text": [
      "Span has already been finished; will not be reported again.\n"
     ]
    },
    {
     "name": "stdout",
     "output_type": "stream",
     "text": [
      "GHOST database already exists in the install path!\n",
      "2023-07-04 08:59:52,615 - WARNING MainThread cassandra.py:list_by_location:1187 - Catalog object not found (catalog_id=19, object_id=961972270)\n",
      "##############\n",
      "Processing https://alerce.online/object/ZTF21abgzhrd\n",
      "alerce_cls QSO\n",
      "Alerce class=QSO is not SN ('SLSN', 'SN', 'SNII', 'SNIa', 'SNIbc') for ZTF21abgzhrd. Skip!\n",
      "CPU times: user 21.1 s, sys: 665 ms, total: 21.8 s\n",
      "Wall time: 1min 34s\n"
     ]
    }
   ],
   "source": [
    "%%time\n",
    "\n",
    "for loc in locus_ids[100:125]:\n",
    "    report = dk.run_filter(LAISS_RFC_AD_filter, locus=loc)"
   ]
  },
  {
   "cell_type": "code",
   "execution_count": 17,
   "id": "d2818bf7-9fbd-481c-9c08-b561c92c518f",
   "metadata": {},
   "outputs": [
    {
     "name": "stderr",
     "output_type": "stream",
     "text": [
      "Span has already been finished; will not be reported again.\n"
     ]
    },
    {
     "name": "stdout",
     "output_type": "stream",
     "text": [
      "GHOST database already exists in the install path!\n",
      "2023-07-04 08:59:55,122 - WARNING MainThread cassandra.py:list_by_location:1187 - Catalog object not found (catalog_id=19, object_id=667036453)\n",
      "##############\n",
      "Processing https://alerce.online/object/ZTF21abfxjdk\n",
      "alerce_cls AGN\n",
      "Alerce class=AGN is not SN ('SLSN', 'SN', 'SNII', 'SNIa', 'SNIbc') for ZTF21abfxjdk. Skip!\n"
     ]
    },
    {
     "name": "stderr",
     "output_type": "stream",
     "text": [
      "Span has already been finished; will not be reported again.\n"
     ]
    },
    {
     "name": "stdout",
     "output_type": "stream",
     "text": [
      "GHOST database already exists in the install path!\n",
      "2023-07-04 08:59:57,893 - WARNING MainThread cassandra.py:list_by_location:1187 - Catalog object not found (catalog_id=19, object_id=343424406)\n",
      "##############\n",
      "Processing https://alerce.online/object/ZTF18abuvcue\n",
      "alerce_cls E\n",
      "Alerce class=E is not SN ('SLSN', 'SN', 'SNII', 'SNIa', 'SNIbc') for ZTF18abuvcue. Skip!\n"
     ]
    },
    {
     "name": "stderr",
     "output_type": "stream",
     "text": [
      "Span has already been finished; will not be reported again.\n"
     ]
    },
    {
     "name": "stdout",
     "output_type": "stream",
     "text": [
      "GHOST database already exists in the install path!\n",
      "2023-07-04 09:00:00,758 - WARNING MainThread cassandra.py:list_by_location:1187 - Catalog object not found (catalog_id=19, object_id=850040064)\n",
      "##############\n",
      "Processing https://alerce.online/object/ZTF17aaaegrd\n",
      "alerce_cls RRL\n",
      "Alerce class=RRL is not SN ('SLSN', 'SN', 'SNII', 'SNIa', 'SNIbc') for ZTF17aaaegrd. Skip!\n"
     ]
    },
    {
     "name": "stderr",
     "output_type": "stream",
     "text": [
      "Span has already been finished; will not be reported again.\n"
     ]
    },
    {
     "name": "stdout",
     "output_type": "stream",
     "text": [
      "GHOST database already exists in the install path!\n",
      "##############\n",
      "Processing https://alerce.online/object/ZTF18abxmbfq\n",
      "alerce_cls CV/Nova\n",
      "Alerce class=CV/Nova is not SN ('SLSN', 'SN', 'SNII', 'SNIa', 'SNIbc') for ZTF18abxmbfq. Skip!\n"
     ]
    },
    {
     "name": "stderr",
     "output_type": "stream",
     "text": [
      "Span has already been finished; will not be reported again.\n"
     ]
    },
    {
     "name": "stdout",
     "output_type": "stream",
     "text": [
      "GHOST database already exists in the install path!\n",
      "##############\n",
      "Processing https://alerce.online/object/ZTF18admgsrz\n",
      "alerce_cls E\n",
      "Alerce class=E is not SN ('SLSN', 'SN', 'SNII', 'SNIa', 'SNIbc') for ZTF18admgsrz. Skip!\n"
     ]
    },
    {
     "name": "stderr",
     "output_type": "stream",
     "text": [
      "Span has already been finished; will not be reported again.\n"
     ]
    },
    {
     "name": "stdout",
     "output_type": "stream",
     "text": [
      "GHOST database already exists in the install path!\n",
      "##############\n",
      "In galactic plane at b=-10.285091546538617. Don't use. Skip!\n"
     ]
    },
    {
     "name": "stderr",
     "output_type": "stream",
     "text": [
      "Span has already been finished; will not be reported again.\n"
     ]
    },
    {
     "name": "stdout",
     "output_type": "stream",
     "text": [
      "GHOST database already exists in the install path!\n",
      "##############\n",
      "In galactic plane at b=12.510085554738627. Don't use. Skip!\n"
     ]
    },
    {
     "name": "stderr",
     "output_type": "stream",
     "text": [
      "Span has already been finished; will not be reported again.\n"
     ]
    },
    {
     "name": "stdout",
     "output_type": "stream",
     "text": [
      "GHOST database already exists in the install path!\n",
      "##############\n",
      "In galactic plane at b=10.925776913679254. Don't use. Skip!\n"
     ]
    },
    {
     "name": "stderr",
     "output_type": "stream",
     "text": [
      "Span has already been finished; will not be reported again.\n"
     ]
    },
    {
     "name": "stdout",
     "output_type": "stream",
     "text": [
      "GHOST database already exists in the install path!\n",
      "##############\n",
      "In galactic plane at b=-11.284401112419333. Don't use. Skip!\n"
     ]
    },
    {
     "name": "stderr",
     "output_type": "stream",
     "text": [
      "Span has already been finished; will not be reported again.\n"
     ]
    },
    {
     "name": "stdout",
     "output_type": "stream",
     "text": [
      "GHOST database already exists in the install path!\n",
      "2023-07-04 09:00:29,605 - WARNING MainThread cassandra.py:list_by_location:1187 - Catalog object not found (catalog_id=19, object_id=567318317)\n",
      "##############\n",
      "Processing https://alerce.online/object/ZTF22aaijqzb\n",
      "alerce_cls QSO\n",
      "Alerce class=QSO is not SN ('SLSN', 'SN', 'SNII', 'SNIa', 'SNIbc') for ZTF22aaijqzb. Skip!\n"
     ]
    },
    {
     "name": "stderr",
     "output_type": "stream",
     "text": [
      "Span has already been finished; will not be reported again.\n"
     ]
    },
    {
     "name": "stdout",
     "output_type": "stream",
     "text": [
      "GHOST database already exists in the install path!\n",
      "2023-07-04 09:00:32,079 - WARNING MainThread cassandra.py:list_by_location:1187 - Catalog object not found (catalog_id=19, object_id=493523741)\n",
      "##############\n",
      "Processing https://alerce.online/object/ZTF20acafykp\n",
      "alerce_cls Periodic-Other\n",
      "Alerce class=Periodic-Other is not SN ('SLSN', 'SN', 'SNII', 'SNIa', 'SNIbc') for ZTF20acafykp. Skip!\n"
     ]
    },
    {
     "name": "stderr",
     "output_type": "stream",
     "text": [
      "Span has already been finished; will not be reported again.\n"
     ]
    },
    {
     "name": "stdout",
     "output_type": "stream",
     "text": [
      "GHOST database already exists in the install path!\n",
      "##############\n",
      "Processing https://alerce.online/object/ZTF18absuttp\n",
      "alerce_cls E\n",
      "Alerce class=E is not SN ('SLSN', 'SN', 'SNII', 'SNIa', 'SNIbc') for ZTF18absuttp. Skip!\n"
     ]
    },
    {
     "name": "stderr",
     "output_type": "stream",
     "text": [
      "Span has already been finished; will not be reported again.\n"
     ]
    },
    {
     "name": "stdout",
     "output_type": "stream",
     "text": [
      "GHOST database already exists in the install path!\n",
      "2023-07-04 09:00:40,370 - WARNING MainThread cassandra.py:list_by_location:1187 - Catalog object not found (catalog_id=19, object_id=965757455)\n",
      "##############\n",
      "Processing https://alerce.online/object/ZTF22aallblq\n",
      "alerce_cls QSO\n",
      "Alerce class=QSO is not SN ('SLSN', 'SN', 'SNII', 'SNIa', 'SNIbc') for ZTF22aallblq. Skip!\n"
     ]
    },
    {
     "name": "stderr",
     "output_type": "stream",
     "text": [
      "Span has already been finished; will not be reported again.\n"
     ]
    },
    {
     "name": "stdout",
     "output_type": "stream",
     "text": [
      "GHOST database already exists in the install path!\n",
      "##############\n",
      "Processing https://alerce.online/object/ZTF22aarxwcb\n",
      "alerce_cls VS\n",
      "Alerce class=VS is not SN ('SLSN', 'SN', 'SNII', 'SNIa', 'SNIbc') for ZTF22aarxwcb. Skip!\n"
     ]
    },
    {
     "name": "stderr",
     "output_type": "stream",
     "text": [
      "Span has already been finished; will not be reported again.\n"
     ]
    },
    {
     "name": "stdout",
     "output_type": "stream",
     "text": [
      "GHOST database already exists in the install path!\n",
      "##############\n",
      "Processing https://alerce.online/object/ZTF22aajbpni\n",
      "alerce_cls QSO\n",
      "Alerce class=QSO is not SN ('SLSN', 'SN', 'SNII', 'SNIa', 'SNIbc') for ZTF22aajbpni. Skip!\n"
     ]
    },
    {
     "name": "stderr",
     "output_type": "stream",
     "text": [
      "Span has already been finished; will not be reported again.\n"
     ]
    },
    {
     "name": "stdout",
     "output_type": "stream",
     "text": [
      "GHOST database already exists in the install path!\n",
      "##############\n",
      "Processing https://alerce.online/object/ZTF20acxazal\n",
      "alerce_cls QSO\n",
      "Alerce class=QSO is not SN ('SLSN', 'SN', 'SNII', 'SNIa', 'SNIbc') for ZTF20acxazal. Skip!\n"
     ]
    },
    {
     "name": "stderr",
     "output_type": "stream",
     "text": [
      "Span has already been finished; will not be reported again.\n"
     ]
    },
    {
     "name": "stdout",
     "output_type": "stream",
     "text": [
      "GHOST database already exists in the install path!\n",
      "##############\n",
      "In galactic plane at b=-13.992340706325338. Don't use. Skip!\n"
     ]
    },
    {
     "name": "stderr",
     "output_type": "stream",
     "text": [
      "Span has already been finished; will not be reported again.\n"
     ]
    },
    {
     "name": "stdout",
     "output_type": "stream",
     "text": [
      "GHOST database already exists in the install path!\n",
      "##############\n",
      "Processing https://alerce.online/object/ZTF21abfqkfs\n",
      "alerce_cls QSO\n",
      "Alerce class=QSO is not SN ('SLSN', 'SN', 'SNII', 'SNIa', 'SNIbc') for ZTF21abfqkfs. Skip!\n"
     ]
    },
    {
     "name": "stderr",
     "output_type": "stream",
     "text": [
      "Span has already been finished; will not be reported again.\n"
     ]
    },
    {
     "name": "stdout",
     "output_type": "stream",
     "text": [
      "GHOST database already exists in the install path!\n",
      "2023-07-04 09:01:02,684 - WARNING MainThread cassandra.py:list_by_location:1187 - Catalog object not found (catalog_id=19, object_id=781041674)\n",
      "##############\n",
      "In galactic plane at b=-10.541674514390241. Don't use. Skip!\n"
     ]
    },
    {
     "name": "stderr",
     "output_type": "stream",
     "text": [
      "Span has already been finished; will not be reported again.\n"
     ]
    },
    {
     "name": "stdout",
     "output_type": "stream",
     "text": [
      "GHOST database already exists in the install path!\n",
      "2023-07-04 09:01:05,149 - WARNING MainThread cassandra.py:list_by_location:1187 - Catalog object not found (catalog_id=19, object_id=704596015)\n",
      "##############\n",
      "In galactic plane at b=-12.625178713283324. Don't use. Skip!\n"
     ]
    },
    {
     "name": "stderr",
     "output_type": "stream",
     "text": [
      "Span has already been finished; will not be reported again.\n"
     ]
    },
    {
     "name": "stdout",
     "output_type": "stream",
     "text": [
      "GHOST database already exists in the install path!\n",
      "2023-07-04 09:01:08,443 - WARNING MainThread cassandra.py:list_by_location:1187 - Catalog object not found (catalog_id=19, object_id=976332082)\n",
      "2023-07-04 09:01:08,444 - WARNING MainThread cassandra.py:list_by_location:1187 - Catalog object not found (catalog_id=19, object_id=976332083)\n",
      "##############\n",
      "In galactic plane at b=-12.479768007076856. Don't use. Skip!\n"
     ]
    },
    {
     "name": "stderr",
     "output_type": "stream",
     "text": [
      "Span has already been finished; will not be reported again.\n"
     ]
    },
    {
     "name": "stdout",
     "output_type": "stream",
     "text": [
      "GHOST database already exists in the install path!\n",
      "2023-07-04 09:01:11,648 - WARNING MainThread cassandra.py:list_by_location:1187 - Catalog object not found (catalog_id=19, object_id=815471099)\n",
      "##############\n",
      "Processing https://alerce.online/object/ZTF18aazmwtv\n",
      "alerce_cls RRL\n",
      "Alerce class=RRL is not SN ('SLSN', 'SN', 'SNII', 'SNIa', 'SNIbc') for ZTF18aazmwtv. Skip!\n"
     ]
    },
    {
     "name": "stderr",
     "output_type": "stream",
     "text": [
      "Span has already been finished; will not be reported again.\n"
     ]
    },
    {
     "name": "stdout",
     "output_type": "stream",
     "text": [
      "GHOST database already exists in the install path!\n",
      "##############\n",
      "Processing https://alerce.online/object/ZTF23aaekiqe\n",
      "alerce_cls SNIbc\n",
      "Finding northern sources with Pan-starrs...\n",
      "Found matches for 100.0% of events.\n",
      "http://ps1images.stsci.edu/cgi-bin/ps1cutouts?pos=306.16073496+6.63188821&filter=color\n",
      "Some features are NaN for ZTF23aaekiqe. Skip!\n"
     ]
    },
    {
     "name": "stderr",
     "output_type": "stream",
     "text": [
      "Span has already been finished; will not be reported again.\n"
     ]
    },
    {
     "name": "stdout",
     "output_type": "stream",
     "text": [
      "GHOST database already exists in the install path!\n",
      "2023-07-04 09:01:23,910 - WARNING MainThread cassandra.py:list_by_location:1187 - Catalog object not found (catalog_id=19, object_id=450197388)\n",
      "##############\n",
      "Processing https://alerce.online/object/ZTF18abmqumy\n",
      "alerce_cls E\n",
      "Alerce class=E is not SN ('SLSN', 'SN', 'SNII', 'SNIa', 'SNIbc') for ZTF18abmqumy. Skip!\n"
     ]
    },
    {
     "name": "stderr",
     "output_type": "stream",
     "text": [
      "Span has already been finished; will not be reported again.\n"
     ]
    },
    {
     "name": "stdout",
     "output_type": "stream",
     "text": [
      "GHOST database already exists in the install path!\n",
      "2023-07-04 09:01:26,821 - WARNING MainThread cassandra.py:list_by_location:1187 - Catalog object not found (catalog_id=19, object_id=417790765)\n",
      "##############\n",
      "Processing https://alerce.online/object/ZTF18abobpku\n",
      "alerce_cls RRL\n",
      "Alerce class=RRL is not SN ('SLSN', 'SN', 'SNII', 'SNIa', 'SNIbc') for ZTF18abobpku. Skip!\n",
      "CPU times: user 22.1 s, sys: 646 ms, total: 22.7 s\n",
      "Wall time: 1min 34s\n"
     ]
    }
   ],
   "source": [
    "%%time\n",
    "\n",
    "for loc in locus_ids[125:150]:\n",
    "    report = dk.run_filter(LAISS_RFC_AD_filter, locus=loc)"
   ]
  },
  {
   "cell_type": "code",
   "execution_count": 18,
   "id": "1fa25500-df28-4b3b-8e90-67a8f6070d8b",
   "metadata": {},
   "outputs": [
    {
     "name": "stderr",
     "output_type": "stream",
     "text": [
      "Span has already been finished; will not be reported again.\n"
     ]
    },
    {
     "name": "stdout",
     "output_type": "stream",
     "text": [
      "GHOST database already exists in the install path!\n",
      "2023-07-04 09:01:29,544 - WARNING MainThread cassandra.py:list_by_location:1187 - Catalog object not found (catalog_id=19, object_id=182861756)\n",
      "##############\n",
      "In galactic plane at b=-14.46528457012404. Don't use. Skip!\n"
     ]
    },
    {
     "name": "stderr",
     "output_type": "stream",
     "text": [
      "Span has already been finished; will not be reported again.\n"
     ]
    },
    {
     "name": "stdout",
     "output_type": "stream",
     "text": [
      "GHOST database already exists in the install path!\n",
      "##############\n",
      "In galactic plane at b=-14.528304104662743. Don't use. Skip!\n"
     ]
    },
    {
     "name": "stderr",
     "output_type": "stream",
     "text": [
      "Span has already been finished; will not be reported again.\n"
     ]
    },
    {
     "name": "stdout",
     "output_type": "stream",
     "text": [
      "GHOST database already exists in the install path!\n",
      "##############\n",
      "Processing https://alerce.online/object/ZTF18abdlfnj\n",
      "alerce_cls LPV\n",
      "Alerce class=LPV is not SN ('SLSN', 'SN', 'SNII', 'SNIa', 'SNIbc') for ZTF18abdlfnj. Skip!\n"
     ]
    },
    {
     "name": "stderr",
     "output_type": "stream",
     "text": [
      "Span has already been finished; will not be reported again.\n"
     ]
    },
    {
     "name": "stdout",
     "output_type": "stream",
     "text": [
      "GHOST database already exists in the install path!\n",
      "2023-07-04 09:01:37,727 - WARNING MainThread cassandra.py:list_by_location:1187 - Catalog object not found (catalog_id=19, object_id=188248513)\n",
      "##############\n",
      "Processing https://alerce.online/object/ZTF19adddktb\n",
      "alerce_cls LPV\n",
      "Alerce class=LPV is not SN ('SLSN', 'SN', 'SNII', 'SNIa', 'SNIbc') for ZTF19adddktb. Skip!\n"
     ]
    },
    {
     "name": "stderr",
     "output_type": "stream",
     "text": [
      "Span has already been finished; will not be reported again.\n"
     ]
    },
    {
     "name": "stdout",
     "output_type": "stream",
     "text": [
      "GHOST database already exists in the install path!\n",
      "##############\n",
      "Processing https://alerce.online/object/ZTF19aayhtfx\n",
      "alerce_cls LPV\n",
      "Alerce class=LPV is not SN ('SLSN', 'SN', 'SNII', 'SNIa', 'SNIbc') for ZTF19aayhtfx. Skip!\n"
     ]
    },
    {
     "name": "stderr",
     "output_type": "stream",
     "text": [
      "Span has already been finished; will not be reported again.\n"
     ]
    },
    {
     "name": "stdout",
     "output_type": "stream",
     "text": [
      "GHOST database already exists in the install path!\n",
      "##############\n",
      "Processing https://alerce.online/object/ZTF19aawsbte\n",
      "alerce_cls LPV\n",
      "Alerce class=LPV is not SN ('SLSN', 'SN', 'SNII', 'SNIa', 'SNIbc') for ZTF19aawsbte. Skip!\n"
     ]
    },
    {
     "name": "stderr",
     "output_type": "stream",
     "text": [
      "Span has already been finished; will not be reported again.\n"
     ]
    },
    {
     "name": "stdout",
     "output_type": "stream",
     "text": [
      "GHOST database already exists in the install path!\n",
      "2023-07-04 09:01:45,935 - WARNING MainThread cassandra.py:list_by_location:1187 - Catalog object not found (catalog_id=19, object_id=154283136)\n",
      "##############\n",
      "Processing https://alerce.online/object/ZTF19aayhseh\n",
      "alerce_cls RRL\n",
      "Alerce class=RRL is not SN ('SLSN', 'SN', 'SNII', 'SNIa', 'SNIbc') for ZTF19aayhseh. Skip!\n"
     ]
    },
    {
     "name": "stderr",
     "output_type": "stream",
     "text": [
      "Span has already been finished; will not be reported again.\n"
     ]
    },
    {
     "name": "stdout",
     "output_type": "stream",
     "text": [
      "GHOST database already exists in the install path!\n",
      "2023-07-04 09:01:53,668 - WARNING MainThread cassandra.py:list_by_location:1187 - Catalog object not found (catalog_id=19, object_id=423440458)\n",
      "##############\n",
      "Processing https://alerce.online/object/ZTF22aapjskk\n",
      "alerce_cls QSO\n",
      "Alerce class=QSO is not SN ('SLSN', 'SN', 'SNII', 'SNIa', 'SNIbc') for ZTF22aapjskk. Skip!\n"
     ]
    },
    {
     "name": "stderr",
     "output_type": "stream",
     "text": [
      "Span has already been finished; will not be reported again.\n"
     ]
    },
    {
     "name": "stdout",
     "output_type": "stream",
     "text": [
      "GHOST database already exists in the install path!\n",
      "2023-07-04 09:01:56,085 - WARNING MainThread cassandra.py:list_by_location:1187 - Catalog object not found (catalog_id=19, object_id=584165519)\n",
      "##############\n",
      "Processing https://alerce.online/object/ZTF22aanvqhn\n",
      "alerce_cls SLSN\n",
      "Finding northern sources with Pan-starrs...\n",
      "Found matches for 100.0% of events.\n",
      "http://ps1images.stsci.edu/cgi-bin/ps1cutouts?pos=344.74966873+0.54472805&filter=color\n",
      "ZTF22aanvqhn is NOT anomalous according to RFC model (anom score=41.0%). Skip!\n"
     ]
    },
    {
     "name": "stderr",
     "output_type": "stream",
     "text": [
      "[Parallel(n_jobs=40)]: Using backend ThreadingBackend with 40 concurrent workers.\n",
      "[Parallel(n_jobs=40)]: Done 100 out of 100 | elapsed:    0.0s finished\n",
      "Span has already been finished; will not be reported again.\n"
     ]
    },
    {
     "name": "stdout",
     "output_type": "stream",
     "text": [
      "GHOST database already exists in the install path!\n",
      "2023-07-04 09:02:05,112 - WARNING MainThread cassandra.py:list_by_location:1187 - Catalog object not found (catalog_id=19, object_id=935040322)\n",
      "##############\n",
      "Processing https://alerce.online/object/ZTF22aalwwww\n",
      "alerce_cls QSO\n",
      "Alerce class=QSO is not SN ('SLSN', 'SN', 'SNII', 'SNIa', 'SNIbc') for ZTF22aalwwww. Skip!\n"
     ]
    },
    {
     "name": "stderr",
     "output_type": "stream",
     "text": [
      "Span has already been finished; will not be reported again.\n"
     ]
    },
    {
     "name": "stdout",
     "output_type": "stream",
     "text": [
      "GHOST database already exists in the install path!\n",
      "##############\n",
      "Processing https://alerce.online/object/ZTF20abnfrlo\n",
      "alerce_cls QSO\n",
      "Alerce class=QSO is not SN ('SLSN', 'SN', 'SNII', 'SNIa', 'SNIbc') for ZTF20abnfrlo. Skip!\n"
     ]
    },
    {
     "name": "stderr",
     "output_type": "stream",
     "text": [
      "Span has already been finished; will not be reported again.\n"
     ]
    },
    {
     "name": "stdout",
     "output_type": "stream",
     "text": [
      "GHOST database already exists in the install path!\n",
      "##############\n",
      "Processing https://alerce.online/object/ZTF18abbnydk\n",
      "alerce_cls E\n",
      "Alerce class=E is not SN ('SLSN', 'SN', 'SNII', 'SNIa', 'SNIbc') for ZTF18abbnydk. Skip!\n"
     ]
    },
    {
     "name": "stderr",
     "output_type": "stream",
     "text": [
      "Span has already been finished; will not be reported again.\n"
     ]
    },
    {
     "name": "stdout",
     "output_type": "stream",
     "text": [
      "GHOST database already exists in the install path!\n",
      "2023-07-04 09:02:18,566 - WARNING MainThread cassandra.py:list_by_location:1187 - Catalog object not found (catalog_id=19, object_id=654381287)\n",
      "##############\n",
      "Processing https://alerce.online/object/ZTF19abffrle\n",
      "alerce_cls QSO\n",
      "Alerce class=QSO is not SN ('SLSN', 'SN', 'SNII', 'SNIa', 'SNIbc') for ZTF19abffrle. Skip!\n"
     ]
    },
    {
     "name": "stderr",
     "output_type": "stream",
     "text": [
      "Span has already been finished; will not be reported again.\n"
     ]
    },
    {
     "name": "stdout",
     "output_type": "stream",
     "text": [
      "GHOST database already exists in the install path!\n",
      "2023-07-04 09:02:20,844 - WARNING MainThread cassandra.py:list_by_location:1187 - Catalog object not found (catalog_id=19, object_id=384062244)\n",
      "##############\n",
      "Processing https://alerce.online/object/ZTF21abwxlnx\n",
      "alerce_cls Periodic-Other\n",
      "Alerce class=Periodic-Other is not SN ('SLSN', 'SN', 'SNII', 'SNIa', 'SNIbc') for ZTF21abwxlnx. Skip!\n"
     ]
    },
    {
     "name": "stderr",
     "output_type": "stream",
     "text": [
      "Span has already been finished; will not be reported again.\n"
     ]
    },
    {
     "name": "stdout",
     "output_type": "stream",
     "text": [
      "GHOST database already exists in the install path!\n",
      "2023-07-04 09:02:23,579 - WARNING MainThread cassandra.py:list_by_location:1187 - Catalog object not found (catalog_id=19, object_id=981808996)\n",
      "##############\n",
      "In galactic plane at b=-14.002971238883113. Don't use. Skip!\n"
     ]
    },
    {
     "name": "stderr",
     "output_type": "stream",
     "text": [
      "Span has already been finished; will not be reported again.\n"
     ]
    },
    {
     "name": "stdout",
     "output_type": "stream",
     "text": [
      "GHOST database already exists in the install path!\n",
      "2023-07-04 09:02:27,136 - WARNING MainThread cassandra.py:list_by_location:1187 - Catalog object not found (catalog_id=19, object_id=932617730)\n",
      "2023-07-04 09:02:27,137 - WARNING MainThread cassandra.py:list_by_location:1187 - Catalog object not found (catalog_id=19, object_id=932617732)\n",
      "##############\n",
      "In galactic plane at b=-12.544774903373677. Don't use. Skip!\n"
     ]
    },
    {
     "name": "stderr",
     "output_type": "stream",
     "text": [
      "Span has already been finished; will not be reported again.\n"
     ]
    },
    {
     "name": "stdout",
     "output_type": "stream",
     "text": [
      "GHOST database already exists in the install path!\n",
      "2023-07-04 09:02:30,253 - WARNING MainThread cassandra.py:list_by_location:1187 - Catalog object not found (catalog_id=19, object_id=586651225)\n",
      "##############\n",
      "Processing https://alerce.online/object/ZTF22aajfwnu\n",
      "alerce_cls QSO\n",
      "Alerce class=QSO is not SN ('SLSN', 'SN', 'SNII', 'SNIa', 'SNIbc') for ZTF22aajfwnu. Skip!\n"
     ]
    },
    {
     "name": "stderr",
     "output_type": "stream",
     "text": [
      "Span has already been finished; will not be reported again.\n"
     ]
    },
    {
     "name": "stdout",
     "output_type": "stream",
     "text": [
      "GHOST database already exists in the install path!\n",
      "2023-07-04 09:02:32,696 - WARNING MainThread cassandra.py:list_by_location:1187 - Catalog object not found (catalog_id=19, object_id=505374784)\n",
      "##############\n",
      "Processing https://alerce.online/object/ZTF21aaxbguz\n",
      "alerce_cls CV/Nova\n",
      "Alerce class=CV/Nova is not SN ('SLSN', 'SN', 'SNII', 'SNIa', 'SNIbc') for ZTF21aaxbguz. Skip!\n"
     ]
    },
    {
     "name": "stderr",
     "output_type": "stream",
     "text": [
      "Span has already been finished; will not be reported again.\n"
     ]
    },
    {
     "name": "stdout",
     "output_type": "stream",
     "text": [
      "GHOST database already exists in the install path!\n",
      "2023-07-04 09:02:35,411 - WARNING MainThread cassandra.py:list_by_location:1187 - Catalog object not found (catalog_id=19, object_id=170634960)\n",
      "##############\n",
      "In galactic plane at b=-13.612421785822933. Don't use. Skip!\n"
     ]
    },
    {
     "name": "stderr",
     "output_type": "stream",
     "text": [
      "Span has already been finished; will not be reported again.\n"
     ]
    },
    {
     "name": "stdout",
     "output_type": "stream",
     "text": [
      "GHOST database already exists in the install path!\n",
      "2023-07-04 09:02:38,030 - WARNING MainThread cassandra.py:list_by_location:1187 - Catalog object not found (catalog_id=19, object_id=44476507)\n",
      "##############\n",
      "Processing https://alerce.online/object/ZTF18abbyovx\n",
      "alerce_cls RRL\n",
      "Alerce class=RRL is not SN ('SLSN', 'SN', 'SNII', 'SNIa', 'SNIbc') for ZTF18abbyovx. Skip!\n"
     ]
    },
    {
     "name": "stderr",
     "output_type": "stream",
     "text": [
      "Span has already been finished; will not be reported again.\n"
     ]
    },
    {
     "name": "stdout",
     "output_type": "stream",
     "text": [
      "GHOST database already exists in the install path!\n",
      "2023-07-04 09:02:40,332 - WARNING MainThread cassandra.py:list_by_location:1187 - Catalog object not found (catalog_id=19, object_id=194987562)\n",
      "##############\n",
      "Processing https://alerce.online/object/ZTF18aboptcw\n",
      "alerce_cls E\n",
      "Alerce class=E is not SN ('SLSN', 'SN', 'SNII', 'SNIa', 'SNIbc') for ZTF18aboptcw. Skip!\n"
     ]
    },
    {
     "name": "stderr",
     "output_type": "stream",
     "text": [
      "Span has already been finished; will not be reported again.\n"
     ]
    },
    {
     "name": "stdout",
     "output_type": "stream",
     "text": [
      "GHOST database already exists in the install path!\n",
      "2023-07-04 09:02:54,963 - WARNING MainThread cassandra.py:list_by_location:1187 - Catalog object not found (catalog_id=19, object_id=427058891)\n",
      "##############\n",
      "Processing https://alerce.online/object/ZTF18abtilug\n",
      "alerce_cls E\n",
      "Alerce class=E is not SN ('SLSN', 'SN', 'SNII', 'SNIa', 'SNIbc') for ZTF18abtilug. Skip!\n"
     ]
    },
    {
     "name": "stderr",
     "output_type": "stream",
     "text": [
      "Span has already been finished; will not be reported again.\n"
     ]
    },
    {
     "name": "stdout",
     "output_type": "stream",
     "text": [
      "GHOST database already exists in the install path!\n",
      "2023-07-04 09:02:57,926 - WARNING MainThread cassandra.py:list_by_location:1187 - Catalog object not found (catalog_id=19, object_id=470454917)\n",
      "##############\n",
      "In galactic plane at b=-14.245745322099754. Don't use. Skip!\n"
     ]
    },
    {
     "name": "stderr",
     "output_type": "stream",
     "text": [
      "Span has already been finished; will not be reported again.\n"
     ]
    },
    {
     "name": "stdout",
     "output_type": "stream",
     "text": [
      "GHOST database already exists in the install path!\n",
      "##############\n",
      "In galactic plane at b=-11.231219579259667. Don't use. Skip!\n"
     ]
    },
    {
     "name": "stderr",
     "output_type": "stream",
     "text": [
      "Span has already been finished; will not be reported again.\n"
     ]
    },
    {
     "name": "stdout",
     "output_type": "stream",
     "text": [
      "GHOST database already exists in the install path!\n",
      "2023-07-04 09:03:02,907 - WARNING MainThread cassandra.py:list_by_location:1187 - Catalog object not found (catalog_id=19, object_id=970719633)\n",
      "##############\n",
      "In galactic plane at b=13.914993043559921. Don't use. Skip!\n",
      "CPU times: user 21.2 s, sys: 593 ms, total: 21.8 s\n",
      "Wall time: 1min 35s\n"
     ]
    }
   ],
   "source": [
    "%%time\n",
    "\n",
    "for loc in locus_ids[150:175]:\n",
    "    report = dk.run_filter(LAISS_RFC_AD_filter, locus=loc)"
   ]
  },
  {
   "cell_type": "code",
   "execution_count": 25,
   "id": "f4020445-2bc4-4d6c-b6bc-fba9d7c5d5d0",
   "metadata": {},
   "outputs": [
    {
     "name": "stderr",
     "output_type": "stream",
     "text": [
      "Span has already been finished; will not be reported again.\n"
     ]
    },
    {
     "name": "stdout",
     "output_type": "stream",
     "text": [
      "GHOST database already exists in the install path!\n",
      "##############\n",
      "Processing https://alerce.online/object/ZTF21abcdurz\n",
      "alerce_cls Periodic-Other\n",
      "Alerce class=Periodic-Other is not SN ('SLSN', 'SN', 'SNII', 'SNIa', 'SNIbc') for ZTF21abcdurz. Skip!\n"
     ]
    },
    {
     "name": "stderr",
     "output_type": "stream",
     "text": [
      "Span has already been finished; will not be reported again.\n"
     ]
    },
    {
     "name": "stdout",
     "output_type": "stream",
     "text": [
      "GHOST database already exists in the install path!\n",
      "##############\n",
      "In galactic plane at b=14.642374865616894. Don't use. Skip!\n"
     ]
    },
    {
     "name": "stderr",
     "output_type": "stream",
     "text": [
      "Span has already been finished; will not be reported again.\n"
     ]
    },
    {
     "name": "stdout",
     "output_type": "stream",
     "text": [
      "GHOST database already exists in the install path!\n",
      "##############\n",
      "Processing https://alerce.online/object/ZTF23aaizygy\n",
      "alerce_cls SNIa\n",
      "1 transients not found in GHOST by name, trying a coordinate search...\n",
      "1 transients not found in GHOST by name or coordinates, manually associating...\n",
      "Found 1 hosts in GLADE! See gladeDLR.txt for details.\n",
      "GHOST host association fails for ZTF23aaizygy. Skip!\n"
     ]
    },
    {
     "name": "stderr",
     "output_type": "stream",
     "text": [
      "Span has already been finished; will not be reported again.\n"
     ]
    },
    {
     "name": "stdout",
     "output_type": "stream",
     "text": [
      "GHOST database already exists in the install path!\n",
      "##############\n",
      "In galactic plane at b=14.47000194733687. Don't use. Skip!\n"
     ]
    },
    {
     "name": "stderr",
     "output_type": "stream",
     "text": [
      "Span has already been finished; will not be reported again.\n"
     ]
    },
    {
     "name": "stdout",
     "output_type": "stream",
     "text": [
      "GHOST database already exists in the install path!\n",
      "##############\n",
      "Processing https://alerce.online/object/ZTF21abaphim\n",
      "alerce_cls QSO\n",
      "Alerce class=QSO is not SN ('SLSN', 'SN', 'SNII', 'SNIa', 'SNIbc') for ZTF21abaphim. Skip!\n"
     ]
    },
    {
     "name": "stderr",
     "output_type": "stream",
     "text": [
      "Span has already been finished; will not be reported again.\n"
     ]
    },
    {
     "name": "stdout",
     "output_type": "stream",
     "text": [
      "GHOST database already exists in the install path!\n",
      "##############\n",
      "Processing https://alerce.online/object/ZTF18aagrimx\n",
      "alerce_cls RRL\n",
      "Alerce class=RRL is not SN ('SLSN', 'SN', 'SNII', 'SNIa', 'SNIbc') for ZTF18aagrimx. Skip!\n"
     ]
    },
    {
     "name": "stderr",
     "output_type": "stream",
     "text": [
      "Span has already been finished; will not be reported again.\n"
     ]
    },
    {
     "name": "stdout",
     "output_type": "stream",
     "text": [
      "GHOST database already exists in the install path!\n",
      "##############\n",
      "Processing https://alerce.online/object/ZTF18aammjth\n",
      "alerce_cls RRL\n",
      "Alerce class=RRL is not SN ('SLSN', 'SN', 'SNII', 'SNIa', 'SNIbc') for ZTF18aammjth. Skip!\n"
     ]
    },
    {
     "name": "stderr",
     "output_type": "stream",
     "text": [
      "Span has already been finished; will not be reported again.\n"
     ]
    },
    {
     "name": "stdout",
     "output_type": "stream",
     "text": [
      "GHOST database already exists in the install path!\n",
      "##############\n",
      "Processing https://alerce.online/object/ZTF18adivvst\n",
      "alerce_cls E\n",
      "Alerce class=E is not SN ('SLSN', 'SN', 'SNII', 'SNIa', 'SNIbc') for ZTF18adivvst. Skip!\n"
     ]
    },
    {
     "name": "stderr",
     "output_type": "stream",
     "text": [
      "Span has already been finished; will not be reported again.\n"
     ]
    },
    {
     "name": "stdout",
     "output_type": "stream",
     "text": [
      "GHOST database already exists in the install path!\n",
      "##############\n",
      "Processing https://alerce.online/object/ZTF21aaskxcz\n",
      "alerce_cls QSO\n",
      "Alerce class=QSO is not SN ('SLSN', 'SN', 'SNII', 'SNIa', 'SNIbc') for ZTF21aaskxcz. Skip!\n"
     ]
    },
    {
     "name": "stderr",
     "output_type": "stream",
     "text": [
      "Span has already been finished; will not be reported again.\n"
     ]
    },
    {
     "name": "stdout",
     "output_type": "stream",
     "text": [
      "GHOST database already exists in the install path!\n",
      "##############\n",
      "Processing https://alerce.online/object/ZTF23aalbnwv\n",
      "alerce_cls QSO\n",
      "Alerce class=QSO is not SN ('SLSN', 'SN', 'SNII', 'SNIa', 'SNIbc') for ZTF23aalbnwv. Skip!\n"
     ]
    },
    {
     "name": "stderr",
     "output_type": "stream",
     "text": [
      "Span has already been finished; will not be reported again.\n"
     ]
    },
    {
     "name": "stdout",
     "output_type": "stream",
     "text": [
      "GHOST database already exists in the install path!\n",
      "##############\n",
      "Processing https://alerce.online/object/ZTF20aapplju\n",
      "alerce_cls QSO\n",
      "Alerce class=QSO is not SN ('SLSN', 'SN', 'SNII', 'SNIa', 'SNIbc') for ZTF20aapplju. Skip!\n"
     ]
    },
    {
     "name": "stderr",
     "output_type": "stream",
     "text": [
      "Span has already been finished; will not be reported again.\n"
     ]
    },
    {
     "name": "stdout",
     "output_type": "stream",
     "text": [
      "GHOST database already exists in the install path!\n",
      "##############\n",
      "Processing https://alerce.online/object/ZTF18aapnlye\n",
      "alerce_cls RRL\n",
      "Alerce class=RRL is not SN ('SLSN', 'SN', 'SNII', 'SNIa', 'SNIbc') for ZTF18aapnlye. Skip!\n"
     ]
    },
    {
     "name": "stderr",
     "output_type": "stream",
     "text": [
      "Span has already been finished; will not be reported again.\n"
     ]
    },
    {
     "name": "stdout",
     "output_type": "stream",
     "text": [
      "GHOST database already exists in the install path!\n",
      "##############\n",
      "Processing https://alerce.online/object/ZTF22aapqaqe\n",
      "alerce_cls SLSN\n",
      "1 transients not found in GHOST by name, trying a coordinate search...\n",
      "1 transients not found in GHOST by name or coordinates, manually associating...\n",
      "Found 1 hosts in GLADE! See gladeDLR.txt for details.\n",
      "GHOST host association fails for ZTF22aapqaqe. Skip!\n"
     ]
    },
    {
     "name": "stderr",
     "output_type": "stream",
     "text": [
      "Span has already been finished; will not be reported again.\n"
     ]
    },
    {
     "name": "stdout",
     "output_type": "stream",
     "text": [
      "GHOST database already exists in the install path!\n",
      "##############\n",
      "Processing https://alerce.online/object/ZTF23aaejumk\n",
      "alerce_cls SNII\n",
      "1 transients not found in GHOST by name, trying a coordinate search...\n",
      "1 transients not found in GHOST by name or coordinates, manually associating...\n",
      "Found 1 hosts in GLADE! See gladeDLR.txt for details.\n",
      "GHOST host association fails for ZTF23aaejumk. Skip!\n"
     ]
    },
    {
     "name": "stderr",
     "output_type": "stream",
     "text": [
      "Span has already been finished; will not be reported again.\n"
     ]
    },
    {
     "name": "stdout",
     "output_type": "stream",
     "text": [
      "GHOST database already exists in the install path!\n",
      "##############\n",
      "Processing https://alerce.online/object/ZTF18aajrusl\n",
      "alerce_cls LPV\n",
      "Alerce class=LPV is not SN ('SLSN', 'SN', 'SNII', 'SNIa', 'SNIbc') for ZTF18aajrusl. Skip!\n"
     ]
    },
    {
     "name": "stderr",
     "output_type": "stream",
     "text": [
      "Span has already been finished; will not be reported again.\n"
     ]
    },
    {
     "name": "stdout",
     "output_type": "stream",
     "text": [
      "GHOST database already exists in the install path!\n",
      "##############\n",
      "Processing https://alerce.online/object/ZTF23aakhjkk\n",
      "alerce_cls SLSN\n",
      "1 transients not found in GHOST by name, trying a coordinate search...\n",
      "1 transients not found in GHOST by name or coordinates, manually associating...\n",
      "Found no hosts in GLADE.\n",
      "Finding northern sources with Pan-starrs...\n",
      "Associated fraction after quality cuts: 100.00%.\n",
      "Loading model Star_Galaxy_RealisticModel_GHOST_PS1ClassLabels.sav.\n",
      "Removed 4 stars. We now have 3 candidate host galaxies.\n",
      "Found matches for 100.0% of events.\n",
      "Saving table of hosts to /tmp/tmpp83g078etransients_20230704091556117728/tables/FinalAssociationTable.csv.\n",
      "0 transients found by name, 0 transients found by coordinates, 1 transients manually associated.\n",
      "http://ps1images.stsci.edu/cgi-bin/ps1cutouts?pos=261.14409922+72.70802935&filter=color\n",
      "ZTF23aakhjkk is NOT anomalous according to RFC model (anom score=38.0%). Skip!\n"
     ]
    },
    {
     "name": "stderr",
     "output_type": "stream",
     "text": [
      "[Parallel(n_jobs=40)]: Using backend ThreadingBackend with 40 concurrent workers.\n",
      "[Parallel(n_jobs=40)]: Done 100 out of 100 | elapsed:    0.0s finished\n",
      "Span has already been finished; will not be reported again.\n"
     ]
    },
    {
     "name": "stdout",
     "output_type": "stream",
     "text": [
      "GHOST database already exists in the install path!\n",
      "##############\n",
      "Processing https://alerce.online/object/ZTF19abijdfs\n",
      "alerce_cls LPV\n",
      "Alerce class=LPV is not SN ('SLSN', 'SN', 'SNII', 'SNIa', 'SNIbc') for ZTF19abijdfs. Skip!\n"
     ]
    },
    {
     "name": "stderr",
     "output_type": "stream",
     "text": [
      "Span has already been finished; will not be reported again.\n"
     ]
    },
    {
     "name": "stdout",
     "output_type": "stream",
     "text": [
      "GHOST database already exists in the install path!\n",
      "2023-07-04 09:16:09,104 - WARNING MainThread cassandra.py:list_by_location:1187 - Catalog object not found (catalog_id=19, object_id=774357060)\n",
      "##############\n",
      "Processing https://alerce.online/object/ZTF22aaaurfm\n",
      "alerce_cls QSO\n",
      "Alerce class=QSO is not SN ('SLSN', 'SN', 'SNII', 'SNIa', 'SNIbc') for ZTF22aaaurfm. Skip!\n"
     ]
    },
    {
     "name": "stderr",
     "output_type": "stream",
     "text": [
      "Span has already been finished; will not be reported again.\n"
     ]
    },
    {
     "name": "stdout",
     "output_type": "stream",
     "text": [
      "GHOST database already exists in the install path!\n",
      "2023-07-04 09:16:15,126 - WARNING MainThread cassandra.py:list_by_location:1187 - Catalog object not found (catalog_id=19, object_id=617853678)\n",
      "##############\n",
      "Processing https://alerce.online/object/ZTF22aaafdra\n",
      "alerce_cls QSO\n",
      "Alerce class=QSO is not SN ('SLSN', 'SN', 'SNII', 'SNIa', 'SNIbc') for ZTF22aaafdra. Skip!\n"
     ]
    },
    {
     "name": "stderr",
     "output_type": "stream",
     "text": [
      "Span has already been finished; will not be reported again.\n"
     ]
    },
    {
     "name": "stdout",
     "output_type": "stream",
     "text": [
      "GHOST database already exists in the install path!\n",
      "2023-07-04 09:16:17,980 - WARNING MainThread cassandra.py:list_by_location:1187 - Catalog object not found (catalog_id=19, object_id=911692169)\n",
      "2023-07-04 09:16:17,981 - WARNING MainThread cassandra.py:list_by_location:1187 - Catalog object not found (catalog_id=19, object_id=911692170)\n",
      "##############\n",
      "Processing https://alerce.online/object/ZTF18ablrmdb\n",
      "alerce_cls Periodic-Other\n",
      "Alerce class=Periodic-Other is not SN ('SLSN', 'SN', 'SNII', 'SNIa', 'SNIbc') for ZTF18ablrmdb. Skip!\n"
     ]
    },
    {
     "name": "stderr",
     "output_type": "stream",
     "text": [
      "Span has already been finished; will not be reported again.\n"
     ]
    },
    {
     "name": "stdout",
     "output_type": "stream",
     "text": [
      "GHOST database already exists in the install path!\n",
      "2023-07-04 09:16:21,388 - WARNING MainThread cassandra.py:list_by_location:1187 - Catalog object not found (catalog_id=19, object_id=538741692)\n",
      "##############\n",
      "In galactic plane at b=14.913852128926262. Don't use. Skip!\n"
     ]
    },
    {
     "name": "stderr",
     "output_type": "stream",
     "text": [
      "Span has already been finished; will not be reported again.\n"
     ]
    },
    {
     "name": "stdout",
     "output_type": "stream",
     "text": [
      "GHOST database already exists in the install path!\n",
      "2023-07-04 09:16:24,284 - WARNING MainThread cassandra.py:list_by_location:1187 - Catalog object not found (catalog_id=19, object_id=245392551)\n",
      "##############\n",
      "Processing https://alerce.online/object/ZTF19aabzunx\n",
      "alerce_cls CV/Nova\n",
      "Alerce class=CV/Nova is not SN ('SLSN', 'SN', 'SNII', 'SNIa', 'SNIbc') for ZTF19aabzunx. Skip!\n"
     ]
    },
    {
     "name": "stderr",
     "output_type": "stream",
     "text": [
      "Span has already been finished; will not be reported again.\n"
     ]
    },
    {
     "name": "stdout",
     "output_type": "stream",
     "text": [
      "GHOST database already exists in the install path!\n",
      "2023-07-04 09:16:26,147 - WARNING MainThread cassandra.py:list_by_location:1187 - Catalog object not found (catalog_id=19, object_id=977052982)\n",
      "##############\n",
      "Processing https://alerce.online/object/ZTF18acyxoli\n",
      "alerce_cls RRL\n",
      "Alerce class=RRL is not SN ('SLSN', 'SN', 'SNII', 'SNIa', 'SNIbc') for ZTF18acyxoli. Skip!\n"
     ]
    },
    {
     "name": "stderr",
     "output_type": "stream",
     "text": [
      "Span has already been finished; will not be reported again.\n"
     ]
    },
    {
     "name": "stdout",
     "output_type": "stream",
     "text": [
      "GHOST database already exists in the install path!\n",
      "2023-07-04 09:16:28,358 - WARNING MainThread cassandra.py:list_by_location:1187 - Catalog object not found (catalog_id=19, object_id=542063970)\n",
      "##############\n",
      "Processing https://alerce.online/object/ZTF20aavydse\n",
      "alerce_cls QSO\n",
      "Alerce class=QSO is not SN ('SLSN', 'SN', 'SNII', 'SNIa', 'SNIbc') for ZTF20aavydse. Skip!\n"
     ]
    },
    {
     "name": "stderr",
     "output_type": "stream",
     "text": [
      "Span has already been finished; will not be reported again.\n"
     ]
    },
    {
     "name": "stdout",
     "output_type": "stream",
     "text": [
      "GHOST database already exists in the install path!\n",
      "##############\n",
      "Processing https://alerce.online/object/ZTF23aajfere\n",
      "alerce_cls SNIbc\n",
      "1 transients not found in GHOST by name, trying a coordinate search...\n",
      "1 transients not found in GHOST by name or coordinates, manually associating...\n",
      "Found no hosts in GLADE.\n",
      "Finding northern sources with Pan-starrs...\n",
      "Associated fraction after quality cuts: 100.00%.\n",
      "Loading model Star_Galaxy_RealisticModel_GHOST_PS1ClassLabels.sav.\n",
      "No sources in field with feature values, skipping star/galaxy separation...\n",
      "Removed 0 stars. We now have 16 candidate host galaxies.\n",
      "Found matches for 100.0% of events.\n",
      "Saving table of hosts to /tmp/tmpwltknmzbtransients_20230704091632540875/tables/FinalAssociationTable.csv.\n",
      "0 transients found by name, 0 transients found by coordinates, 1 transients manually associated.\n",
      "http://ps1images.stsci.edu/cgi-bin/ps1cutouts?pos=238.89084173+6.80238247&filter=color\n",
      "ZTF23aajfere is NOT anomalous according to RFC model (anom score=24.0%). Skip!\n",
      "CPU times: user 36.8 s, sys: 1.78 s, total: 38.6 s\n",
      "Wall time: 2min 14s\n"
     ]
    },
    {
     "name": "stderr",
     "output_type": "stream",
     "text": [
      "[Parallel(n_jobs=40)]: Using backend ThreadingBackend with 40 concurrent workers.\n",
      "[Parallel(n_jobs=40)]: Done 100 out of 100 | elapsed:    0.0s finished\n"
     ]
    }
   ],
   "source": [
    "%%time\n",
    "\n",
    "for loc in locus_ids[175:200]:\n",
    "    report = dk.run_filter(LAISS_RFC_AD_filter, locus=loc)"
   ]
  },
  {
   "cell_type": "code",
   "execution_count": null,
   "id": "bf6e7a8f-852d-4fc7-9e96-4e30524dda88",
   "metadata": {},
   "outputs": [],
   "source": []
  },
  {
   "cell_type": "code",
   "execution_count": null,
   "id": "d08e4010-2953-4fe9-a54b-dd4627508138",
   "metadata": {},
   "outputs": [],
   "source": []
  },
  {
   "cell_type": "code",
   "execution_count": null,
   "id": "f8781d05-321b-4d24-95cd-807a12272022",
   "metadata": {},
   "outputs": [],
   "source": []
  },
  {
   "cell_type": "code",
   "execution_count": null,
   "id": "8ab5a036-4d2d-4460-8776-b5a330f56c35",
   "metadata": {},
   "outputs": [],
   "source": []
  },
  {
   "cell_type": "code",
   "execution_count": 32,
   "id": "7b4e9550-9c37-4a70-9497-f61c58ae40ea",
   "metadata": {},
   "outputs": [
    {
     "name": "stderr",
     "output_type": "stream",
     "text": [
      "Span has already been finished; will not be reported again.\n"
     ]
    },
    {
     "name": "stdout",
     "output_type": "stream",
     "text": [
      "GHOST database already exists in the install path!\n",
      "2023-07-04 09:26:39,431 - WARNING MainThread cassandra.py:list_by_location:1187 - Catalog object not found (catalog_id=19, object_id=687764824)\n",
      "##############\n",
      "Processing https://alerce.online/object/ZTF19abmbwnc\n",
      "alerce_cls Blazar\n",
      "Alerce class=Blazar is not SN ('SLSN', 'SN', 'SNII', 'SNIa', 'SNIbc') for ZTF19abmbwnc. Skip!\n"
     ]
    },
    {
     "name": "stderr",
     "output_type": "stream",
     "text": [
      "Span has already been finished; will not be reported again.\n"
     ]
    },
    {
     "name": "stdout",
     "output_type": "stream",
     "text": [
      "GHOST database already exists in the install path!\n",
      "##############\n",
      "Processing https://alerce.online/object/ZTF22aadgras\n",
      "alerce_cls QSO\n",
      "Alerce class=QSO is not SN ('SLSN', 'SN', 'SNII', 'SNIa', 'SNIbc') for ZTF22aadgras. Skip!\n"
     ]
    },
    {
     "name": "stderr",
     "output_type": "stream",
     "text": [
      "Span has already been finished; will not be reported again.\n"
     ]
    },
    {
     "name": "stdout",
     "output_type": "stream",
     "text": [
      "GHOST database already exists in the install path!\n",
      "##############\n",
      "Processing https://alerce.online/object/ZTF18aakhglk\n",
      "alerce_cls RRL\n",
      "Alerce class=RRL is not SN ('SLSN', 'SN', 'SNII', 'SNIa', 'SNIbc') for ZTF18aakhglk. Skip!\n"
     ]
    },
    {
     "name": "stderr",
     "output_type": "stream",
     "text": [
      "Span has already been finished; will not be reported again.\n"
     ]
    },
    {
     "name": "stdout",
     "output_type": "stream",
     "text": [
      "GHOST database already exists in the install path!\n",
      "##############\n",
      "Processing https://alerce.online/object/ZTF18adjccrf\n",
      "alerce_cls RRL\n",
      "Alerce class=RRL is not SN ('SLSN', 'SN', 'SNII', 'SNIa', 'SNIbc') for ZTF18adjccrf. Skip!\n"
     ]
    },
    {
     "name": "stderr",
     "output_type": "stream",
     "text": [
      "Span has already been finished; will not be reported again.\n"
     ]
    },
    {
     "name": "stdout",
     "output_type": "stream",
     "text": [
      "GHOST database already exists in the install path!\n",
      "##############\n",
      "Processing https://alerce.online/object/ZTF18adjzprg\n",
      "alerce_cls E\n",
      "Alerce class=E is not SN ('SLSN', 'SN', 'SNII', 'SNIa', 'SNIbc') for ZTF18adjzprg. Skip!\n"
     ]
    },
    {
     "name": "stderr",
     "output_type": "stream",
     "text": [
      "Span has already been finished; will not be reported again.\n"
     ]
    },
    {
     "name": "stdout",
     "output_type": "stream",
     "text": [
      "GHOST database already exists in the install path!\n",
      "##############\n",
      "Processing https://alerce.online/object/ZTF18aamigoo\n",
      "alerce_cls E\n",
      "Alerce class=E is not SN ('SLSN', 'SN', 'SNII', 'SNIa', 'SNIbc') for ZTF18aamigoo. Skip!\n"
     ]
    },
    {
     "name": "stderr",
     "output_type": "stream",
     "text": [
      "Span has already been finished; will not be reported again.\n"
     ]
    },
    {
     "name": "stdout",
     "output_type": "stream",
     "text": [
      "GHOST database already exists in the install path!\n",
      "##############\n",
      "Processing https://alerce.online/object/ZTF18aabtvcv\n",
      "alerce_cls RRL\n",
      "Alerce class=RRL is not SN ('SLSN', 'SN', 'SNII', 'SNIa', 'SNIbc') for ZTF18aabtvcv. Skip!\n"
     ]
    },
    {
     "name": "stderr",
     "output_type": "stream",
     "text": [
      "Span has already been finished; will not be reported again.\n"
     ]
    },
    {
     "name": "stdout",
     "output_type": "stream",
     "text": [
      "GHOST database already exists in the install path!\n",
      "##############\n",
      "Processing https://alerce.online/object/ZTF18aajrtmo\n",
      "alerce_cls CV/Nova\n",
      "Alerce class=CV/Nova is not SN ('SLSN', 'SN', 'SNII', 'SNIa', 'SNIbc') for ZTF18aajrtmo. Skip!\n"
     ]
    },
    {
     "name": "stderr",
     "output_type": "stream",
     "text": [
      "Span has already been finished; will not be reported again.\n"
     ]
    },
    {
     "name": "stdout",
     "output_type": "stream",
     "text": [
      "GHOST database already exists in the install path!\n",
      "##############\n",
      "Processing https://alerce.online/object/ZTF18aaxcmlj\n",
      "alerce_cls DSCT\n",
      "Alerce class=DSCT is not SN ('SLSN', 'SN', 'SNII', 'SNIa', 'SNIbc') for ZTF18aaxcmlj. Skip!\n"
     ]
    },
    {
     "name": "stderr",
     "output_type": "stream",
     "text": [
      "Span has already been finished; will not be reported again.\n"
     ]
    },
    {
     "name": "stdout",
     "output_type": "stream",
     "text": [
      "GHOST database already exists in the install path!\n",
      "##############\n",
      "Processing https://alerce.online/object/ZTF21aauadnw\n",
      "alerce_cls QSO\n",
      "Alerce class=QSO is not SN ('SLSN', 'SN', 'SNII', 'SNIa', 'SNIbc') for ZTF21aauadnw. Skip!\n"
     ]
    },
    {
     "name": "stderr",
     "output_type": "stream",
     "text": [
      "Span has already been finished; will not be reported again.\n"
     ]
    },
    {
     "name": "stdout",
     "output_type": "stream",
     "text": [
      "GHOST database already exists in the install path!\n",
      "2023-07-04 09:27:28,669 - WARNING MainThread cassandra.py:list_by_location:1187 - Catalog object not found (catalog_id=19, object_id=273955480)\n",
      "##############\n",
      "Processing https://alerce.online/object/ZTF19aamqtml\n",
      "alerce_cls E\n",
      "Alerce class=E is not SN ('SLSN', 'SN', 'SNII', 'SNIa', 'SNIbc') for ZTF19aamqtml. Skip!\n"
     ]
    },
    {
     "name": "stderr",
     "output_type": "stream",
     "text": [
      "Span has already been finished; will not be reported again.\n"
     ]
    },
    {
     "name": "stdout",
     "output_type": "stream",
     "text": [
      "GHOST database already exists in the install path!\n",
      "2023-07-04 09:27:31,739 - WARNING MainThread cassandra.py:list_by_location:1187 - Catalog object not found (catalog_id=19, object_id=302287645)\n",
      "2023-07-04 09:27:31,740 - WARNING MainThread cassandra.py:list_by_location:1187 - Catalog object not found (catalog_id=19, object_id=302287646)\n",
      "##############\n",
      "Processing https://alerce.online/object/ZTF21aawkccc\n",
      "alerce_cls RRL\n",
      "Alerce class=RRL is not SN ('SLSN', 'SN', 'SNII', 'SNIa', 'SNIbc') for ZTF21aawkccc. Skip!\n"
     ]
    },
    {
     "name": "stderr",
     "output_type": "stream",
     "text": [
      "Span has already been finished; will not be reported again.\n"
     ]
    },
    {
     "name": "stdout",
     "output_type": "stream",
     "text": [
      "GHOST database already exists in the install path!\n",
      "2023-07-04 09:27:34,876 - WARNING MainThread cassandra.py:list_by_location:1187 - Catalog object not found (catalog_id=19, object_id=969151681)\n",
      "##############\n",
      "Processing https://alerce.online/object/ZTF18aabejwa\n",
      "alerce_cls RRL\n",
      "Alerce class=RRL is not SN ('SLSN', 'SN', 'SNII', 'SNIa', 'SNIbc') for ZTF18aabejwa. Skip!\n"
     ]
    },
    {
     "name": "stderr",
     "output_type": "stream",
     "text": [
      "Span has already been finished; will not be reported again.\n"
     ]
    },
    {
     "name": "stdout",
     "output_type": "stream",
     "text": [
      "GHOST database already exists in the install path!\n",
      "2023-07-04 09:27:37,949 - WARNING MainThread cassandra.py:list_by_location:1187 - Catalog object not found (catalog_id=19, object_id=932098524)\n",
      "##############\n",
      "Processing https://alerce.online/object/ZTF19aalznbl\n",
      "alerce_cls QSO\n",
      "Alerce class=QSO is not SN ('SLSN', 'SN', 'SNII', 'SNIa', 'SNIbc') for ZTF19aalznbl. Skip!\n"
     ]
    },
    {
     "name": "stderr",
     "output_type": "stream",
     "text": [
      "Span has already been finished; will not be reported again.\n"
     ]
    },
    {
     "name": "stdout",
     "output_type": "stream",
     "text": [
      "GHOST database already exists in the install path!\n",
      "##############\n",
      "Processing https://alerce.online/object/ZTF18aahhbkj\n",
      "alerce_cls AGN\n",
      "Alerce class=AGN is not SN ('SLSN', 'SN', 'SNII', 'SNIa', 'SNIbc') for ZTF18aahhbkj. Skip!\n"
     ]
    },
    {
     "name": "stderr",
     "output_type": "stream",
     "text": [
      "Span has already been finished; will not be reported again.\n"
     ]
    },
    {
     "name": "stdout",
     "output_type": "stream",
     "text": [
      "GHOST database already exists in the install path!\n",
      "2023-07-04 09:27:42,521 - WARNING MainThread cassandra.py:list_by_location:1187 - Catalog object not found (catalog_id=19, object_id=476108771)\n",
      "##############\n",
      "Processing https://alerce.online/object/ZTF23aagklwb\n",
      "alerce_cls SLSN\n",
      "1 transients not found in GHOST by name, trying a coordinate search...\n",
      "1 transients not found in GHOST by name or coordinates, manually associating...\n",
      "Found no hosts in GLADE.\n",
      "Finding northern sources with Pan-starrs...\n",
      "Associated fraction after quality cuts: 100.00%.\n",
      "Loading model Star_Galaxy_RealisticModel_GHOST_PS1ClassLabels.sav.\n",
      "Removed 1 stars. We now have 6 candidate host galaxies.\n",
      "Found matches for 100.0% of events.\n",
      "Saving table of hosts to /tmp/tmpiy9dc441transients_20230704092745119214/tables/FinalAssociationTable.csv.\n",
      "0 transients found by name, 0 transients found by coordinates, 1 transients manually associated.\n",
      "http://ps1images.stsci.edu/cgi-bin/ps1cutouts?pos=195.57808947+-5.85310608&filter=color\n",
      "Some features are NaN for ZTF23aagklwb. Skip!\n"
     ]
    },
    {
     "name": "stderr",
     "output_type": "stream",
     "text": [
      "Span has already been finished; will not be reported again.\n"
     ]
    },
    {
     "name": "stdout",
     "output_type": "stream",
     "text": [
      "GHOST database already exists in the install path!\n",
      "2023-07-04 09:27:52,660 - WARNING MainThread cassandra.py:list_by_location:1187 - Catalog object not found (catalog_id=19, object_id=543172563)\n",
      "##############\n",
      "Processing https://alerce.online/object/ZTF22aaaoweb\n",
      "alerce_cls QSO\n",
      "Alerce class=QSO is not SN ('SLSN', 'SN', 'SNII', 'SNIa', 'SNIbc') for ZTF22aaaoweb. Skip!\n"
     ]
    },
    {
     "name": "stderr",
     "output_type": "stream",
     "text": [
      "Span has already been finished; will not be reported again.\n"
     ]
    },
    {
     "name": "stdout",
     "output_type": "stream",
     "text": [
      "GHOST database already exists in the install path!\n",
      "2023-07-04 09:27:56,154 - WARNING MainThread cassandra.py:list_by_location:1187 - Catalog object not found (catalog_id=19, object_id=534270556)\n",
      "##############\n",
      "Processing https://alerce.online/object/ZTF18acaxrxx\n",
      "alerce_cls RRL\n",
      "Alerce class=RRL is not SN ('SLSN', 'SN', 'SNII', 'SNIa', 'SNIbc') for ZTF18acaxrxx. Skip!\n"
     ]
    },
    {
     "name": "stderr",
     "output_type": "stream",
     "text": [
      "Span has already been finished; will not be reported again.\n"
     ]
    },
    {
     "name": "stdout",
     "output_type": "stream",
     "text": [
      "GHOST database already exists in the install path!\n",
      "2023-07-04 09:27:59,247 - WARNING MainThread cassandra.py:list_by_location:1187 - Catalog object not found (catalog_id=19, object_id=573083140)\n",
      "##############\n",
      "Processing https://alerce.online/object/ZTF22aaaelic\n",
      "alerce_cls QSO\n",
      "Alerce class=QSO is not SN ('SLSN', 'SN', 'SNII', 'SNIa', 'SNIbc') for ZTF22aaaelic. Skip!\n"
     ]
    },
    {
     "name": "stderr",
     "output_type": "stream",
     "text": [
      "Span has already been finished; will not be reported again.\n"
     ]
    },
    {
     "name": "stdout",
     "output_type": "stream",
     "text": [
      "GHOST database already exists in the install path!\n",
      "##############\n",
      "Processing https://alerce.online/object/ZTF23aaiuadl\n",
      "alerce_cls SNIa\n",
      "1 transients not found in GHOST by name, trying a coordinate search...\n",
      "1 transients not found in GHOST by name or coordinates, manually associating...\n",
      "Found 1 hosts in GLADE! See gladeDLR.txt for details.\n",
      "GHOST host association fails for ZTF23aaiuadl. Skip!\n"
     ]
    },
    {
     "name": "stderr",
     "output_type": "stream",
     "text": [
      "Span has already been finished; will not be reported again.\n"
     ]
    },
    {
     "name": "stdout",
     "output_type": "stream",
     "text": [
      "GHOST database already exists in the install path!\n",
      "##############\n",
      "In galactic plane at b=-10.99369061949159. Don't use. Skip!\n"
     ]
    },
    {
     "name": "stderr",
     "output_type": "stream",
     "text": [
      "Span has already been finished; will not be reported again.\n"
     ]
    },
    {
     "name": "stdout",
     "output_type": "stream",
     "text": [
      "GHOST database already exists in the install path!\n",
      "##############\n",
      "Processing https://alerce.online/object/ZTF22abduxuq\n",
      "alerce_cls AGN\n",
      "Alerce class=AGN is not SN ('SLSN', 'SN', 'SNII', 'SNIa', 'SNIbc') for ZTF22abduxuq. Skip!\n"
     ]
    },
    {
     "name": "stderr",
     "output_type": "stream",
     "text": [
      "Span has already been finished; will not be reported again.\n"
     ]
    },
    {
     "name": "stdout",
     "output_type": "stream",
     "text": [
      "GHOST database already exists in the install path!\n",
      "##############\n",
      "In galactic plane at b=-11.13426241867078. Don't use. Skip!\n"
     ]
    },
    {
     "name": "stderr",
     "output_type": "stream",
     "text": [
      "Span has already been finished; will not be reported again.\n"
     ]
    },
    {
     "name": "stdout",
     "output_type": "stream",
     "text": [
      "GHOST database already exists in the install path!\n",
      "2023-07-04 09:28:18,128 - WARNING MainThread cassandra.py:list_by_location:1187 - Catalog object not found (catalog_id=19, object_id=871636321)\n",
      "##############\n",
      "Processing https://alerce.online/object/ZTF22aaagvdj\n",
      "alerce_cls SLSN\n",
      "1 transients not found in GHOST by name, trying a coordinate search...\n",
      "1 transients not found in GHOST by name or coordinates, manually associating...\n",
      "Found no hosts in GLADE.\n",
      "Finding northern sources with Pan-starrs...\n",
      "Associated fraction after quality cuts: 100.00%.\n",
      "Loading model Star_Galaxy_RealisticModel_GHOST_PS1ClassLabels.sav.\n",
      "Removed 4 stars. We now have 2 candidate host galaxies.\n",
      "Found matches for 0.0% of events.\n",
      "Saving table of hosts to /tmp/tmpl7t7h7wltransients_20230704092820696012/tables/FinalAssociationTable.csv.\n",
      "Couldn't find any hosts! Trying again with a search radius of 150''.\n",
      "Found no hosts in GLADE.\n",
      "Finding northern sources with Pan-starrs...\n",
      "Associated fraction after quality cuts: 100.00%.\n",
      "Loading model Star_Galaxy_RealisticModel_GHOST_PS1ClassLabels.sav.\n",
      "Removed 17 stars. We now have 19 candidate host galaxies.\n",
      "Found matches for 0.0% of events.\n",
      "Saving table of hosts to /tmp/tmpl7t7h7wltransients_20230704092838235716/tables/FinalAssociationTable.csv.\n",
      "0 transients found by name, 0 transients found by coordinates, 0 transients manually associated.\n",
      "GHOST host association fails for ZTF22aaagvdj. Skip!\n"
     ]
    },
    {
     "name": "stderr",
     "output_type": "stream",
     "text": [
      "Span has already been finished; will not be reported again.\n"
     ]
    },
    {
     "name": "stdout",
     "output_type": "stream",
     "text": [
      "GHOST database already exists in the install path!\n",
      "2023-07-04 09:29:30,560 - WARNING MainThread cassandra.py:list_by_location:1187 - Catalog object not found (catalog_id=19, object_id=463921197)\n",
      "##############\n",
      "Processing https://alerce.online/object/ZTF22aanvlpl\n",
      "alerce_cls QSO\n",
      "Alerce class=QSO is not SN ('SLSN', 'SN', 'SNII', 'SNIa', 'SNIbc') for ZTF22aanvlpl. Skip!\n",
      "CPU times: user 41.4 s, sys: 1.57 s, total: 43 s\n",
      "Wall time: 2min 54s\n"
     ]
    }
   ],
   "source": [
    "%%time\n",
    "\n",
    "for loc in locus_ids[200:225]:\n",
    "    report = dk.run_filter(LAISS_RFC_AD_filter, locus=loc)"
   ]
  },
  {
   "cell_type": "code",
   "execution_count": 33,
   "id": "83d5feac-8e82-40e8-b6cf-f4b6a3c81111",
   "metadata": {},
   "outputs": [
    {
     "name": "stderr",
     "output_type": "stream",
     "text": [
      "Span has already been finished; will not be reported again.\n"
     ]
    },
    {
     "name": "stdout",
     "output_type": "stream",
     "text": [
      "GHOST database already exists in the install path!\n",
      "2023-07-04 09:29:33,079 - WARNING MainThread cassandra.py:list_by_location:1187 - Catalog object not found (catalog_id=19, object_id=426169211)\n",
      "##############\n",
      "Processing https://alerce.online/object/ZTF21abfxjrw\n",
      "alerce_cls QSO\n",
      "Alerce class=QSO is not SN ('SLSN', 'SN', 'SNII', 'SNIa', 'SNIbc') for ZTF21abfxjrw. Skip!\n"
     ]
    },
    {
     "name": "stderr",
     "output_type": "stream",
     "text": [
      "Span has already been finished; will not be reported again.\n"
     ]
    },
    {
     "name": "stdout",
     "output_type": "stream",
     "text": [
      "GHOST database already exists in the install path!\n",
      "2023-07-04 09:29:35,009 - WARNING MainThread cassandra.py:list_by_location:1187 - Catalog object not found (catalog_id=19, object_id=277454786)\n",
      "##############\n",
      "Processing https://alerce.online/object/ZTF22aasdzms\n",
      "alerce_cls AGN\n",
      "Alerce class=AGN is not SN ('SLSN', 'SN', 'SNII', 'SNIa', 'SNIbc') for ZTF22aasdzms. Skip!\n"
     ]
    },
    {
     "name": "stderr",
     "output_type": "stream",
     "text": [
      "Span has already been finished; will not be reported again.\n"
     ]
    },
    {
     "name": "stdout",
     "output_type": "stream",
     "text": [
      "GHOST database already exists in the install path!\n",
      "2023-07-04 09:29:37,313 - WARNING MainThread cassandra.py:list_by_location:1187 - Catalog object not found (catalog_id=19, object_id=271954801)\n",
      "##############\n",
      "Processing https://alerce.online/object/ZTF19abkepkq\n",
      "alerce_cls QSO\n",
      "Alerce class=QSO is not SN ('SLSN', 'SN', 'SNII', 'SNIa', 'SNIbc') for ZTF19abkepkq. Skip!\n"
     ]
    },
    {
     "name": "stderr",
     "output_type": "stream",
     "text": [
      "Span has already been finished; will not be reported again.\n"
     ]
    },
    {
     "name": "stdout",
     "output_type": "stream",
     "text": [
      "GHOST database already exists in the install path!\n",
      "2023-07-04 09:29:39,592 - WARNING MainThread cassandra.py:list_by_location:1187 - Catalog object not found (catalog_id=19, object_id=319605711)\n",
      "##############\n",
      "Processing https://alerce.online/object/ZTF22aayrqxh\n",
      "alerce_cls QSO\n",
      "Alerce class=QSO is not SN ('SLSN', 'SN', 'SNII', 'SNIa', 'SNIbc') for ZTF22aayrqxh. Skip!\n"
     ]
    },
    {
     "name": "stderr",
     "output_type": "stream",
     "text": [
      "Span has already been finished; will not be reported again.\n"
     ]
    },
    {
     "name": "stdout",
     "output_type": "stream",
     "text": [
      "GHOST database already exists in the install path!\n",
      "2023-07-04 09:29:41,889 - WARNING MainThread cassandra.py:list_by_location:1187 - Catalog object not found (catalog_id=19, object_id=209136402)\n",
      "##############\n",
      "Processing https://alerce.online/object/ZTF21abgyxma\n",
      "alerce_cls QSO\n",
      "Alerce class=QSO is not SN ('SLSN', 'SN', 'SNII', 'SNIa', 'SNIbc') for ZTF21abgyxma. Skip!\n"
     ]
    },
    {
     "name": "stderr",
     "output_type": "stream",
     "text": [
      "Span has already been finished; will not be reported again.\n"
     ]
    },
    {
     "name": "stdout",
     "output_type": "stream",
     "text": [
      "GHOST database already exists in the install path!\n",
      "2023-07-04 09:29:44,478 - WARNING MainThread cassandra.py:list_by_location:1187 - Catalog object not found (catalog_id=19, object_id=672905395)\n",
      "##############\n",
      "Processing https://alerce.online/object/ZTF22aaqksgj\n",
      "alerce_cls QSO\n",
      "Alerce class=QSO is not SN ('SLSN', 'SN', 'SNII', 'SNIa', 'SNIbc') for ZTF22aaqksgj. Skip!\n"
     ]
    },
    {
     "name": "stderr",
     "output_type": "stream",
     "text": [
      "Span has already been finished; will not be reported again.\n"
     ]
    },
    {
     "name": "stdout",
     "output_type": "stream",
     "text": [
      "GHOST database already exists in the install path!\n",
      "2023-07-04 09:29:46,528 - WARNING MainThread cassandra.py:list_by_location:1187 - Catalog object not found (catalog_id=19, object_id=770796337)\n",
      "##############\n",
      "Processing https://alerce.online/object/ZTF22aamnfrl\n",
      "alerce_cls QSO\n",
      "Alerce class=QSO is not SN ('SLSN', 'SN', 'SNII', 'SNIa', 'SNIbc') for ZTF22aamnfrl. Skip!\n"
     ]
    },
    {
     "name": "stderr",
     "output_type": "stream",
     "text": [
      "Span has already been finished; will not be reported again.\n"
     ]
    },
    {
     "name": "stdout",
     "output_type": "stream",
     "text": [
      "GHOST database already exists in the install path!\n",
      "2023-07-04 09:29:56,416 - WARNING MainThread cassandra.py:list_by_location:1187 - Catalog object not found (catalog_id=19, object_id=736004624)\n",
      "##############\n",
      "Processing https://alerce.online/object/ZTF21abeqgjd\n",
      "alerce_cls QSO\n",
      "Alerce class=QSO is not SN ('SLSN', 'SN', 'SNII', 'SNIa', 'SNIbc') for ZTF21abeqgjd. Skip!\n"
     ]
    },
    {
     "name": "stderr",
     "output_type": "stream",
     "text": [
      "Span has already been finished; will not be reported again.\n"
     ]
    },
    {
     "name": "stdout",
     "output_type": "stream",
     "text": [
      "GHOST database already exists in the install path!\n",
      "2023-07-04 09:29:58,690 - WARNING MainThread cassandra.py:list_by_location:1187 - Catalog object not found (catalog_id=19, object_id=725096513)\n",
      "##############\n",
      "Processing https://alerce.online/object/ZTF22aanlsax\n",
      "alerce_cls QSO\n",
      "Alerce class=QSO is not SN ('SLSN', 'SN', 'SNII', 'SNIa', 'SNIbc') for ZTF22aanlsax. Skip!\n"
     ]
    },
    {
     "name": "stderr",
     "output_type": "stream",
     "text": [
      "Span has already been finished; will not be reported again.\n"
     ]
    },
    {
     "name": "stdout",
     "output_type": "stream",
     "text": [
      "GHOST database already exists in the install path!\n",
      "2023-07-04 09:30:01,159 - WARNING MainThread cassandra.py:list_by_location:1187 - Catalog object not found (catalog_id=19, object_id=775088796)\n",
      "##############\n",
      "Processing https://alerce.online/object/ZTF19ablejtd\n",
      "alerce_cls QSO\n",
      "Alerce class=QSO is not SN ('SLSN', 'SN', 'SNII', 'SNIa', 'SNIbc') for ZTF19ablejtd. Skip!\n"
     ]
    },
    {
     "name": "stderr",
     "output_type": "stream",
     "text": [
      "Span has already been finished; will not be reported again.\n"
     ]
    },
    {
     "name": "stdout",
     "output_type": "stream",
     "text": [
      "GHOST database already exists in the install path!\n",
      "2023-07-04 09:30:03,230 - WARNING MainThread cassandra.py:list_by_location:1187 - Catalog object not found (catalog_id=19, object_id=715001740)\n",
      "##############\n",
      "Processing https://alerce.online/object/ZTF22aavtzwn\n",
      "alerce_cls YSO\n",
      "Alerce class=YSO is not SN ('SLSN', 'SN', 'SNII', 'SNIa', 'SNIbc') for ZTF22aavtzwn. Skip!\n"
     ]
    },
    {
     "name": "stderr",
     "output_type": "stream",
     "text": [
      "Span has already been finished; will not be reported again.\n"
     ]
    },
    {
     "name": "stdout",
     "output_type": "stream",
     "text": [
      "GHOST database already exists in the install path!\n",
      "2023-07-04 09:30:05,379 - WARNING MainThread cassandra.py:list_by_location:1187 - Catalog object not found (catalog_id=19, object_id=770016712)\n",
      "##############\n",
      "Processing https://alerce.online/object/ZTF22aammrxv\n",
      "alerce_cls QSO\n",
      "Alerce class=QSO is not SN ('SLSN', 'SN', 'SNII', 'SNIa', 'SNIbc') for ZTF22aammrxv. Skip!\n"
     ]
    },
    {
     "name": "stderr",
     "output_type": "stream",
     "text": [
      "Span has already been finished; will not be reported again.\n"
     ]
    },
    {
     "name": "stdout",
     "output_type": "stream",
     "text": [
      "GHOST database already exists in the install path!\n",
      "2023-07-04 09:30:16,539 - WARNING MainThread cassandra.py:list_by_location:1187 - Catalog object not found (catalog_id=19, object_id=805194405)\n",
      "##############\n",
      "Processing https://alerce.online/object/ZTF21abyxdqz\n",
      "alerce_cls QSO\n",
      "Alerce class=QSO is not SN ('SLSN', 'SN', 'SNII', 'SNIa', 'SNIbc') for ZTF21abyxdqz. Skip!\n"
     ]
    },
    {
     "name": "stderr",
     "output_type": "stream",
     "text": [
      "Span has already been finished; will not be reported again.\n"
     ]
    },
    {
     "name": "stdout",
     "output_type": "stream",
     "text": [
      "GHOST database already exists in the install path!\n",
      "2023-07-04 09:30:18,920 - WARNING MainThread cassandra.py:list_by_location:1187 - Catalog object not found (catalog_id=19, object_id=538123531)\n",
      "##############\n",
      "Processing https://alerce.online/object/ZTF20abojkmi\n",
      "alerce_cls QSO\n",
      "Alerce class=QSO is not SN ('SLSN', 'SN', 'SNII', 'SNIa', 'SNIbc') for ZTF20abojkmi. Skip!\n"
     ]
    },
    {
     "name": "stderr",
     "output_type": "stream",
     "text": [
      "Span has already been finished; will not be reported again.\n"
     ]
    },
    {
     "name": "stdout",
     "output_type": "stream",
     "text": [
      "GHOST database already exists in the install path!\n",
      "2023-07-04 09:30:21,159 - WARNING MainThread cassandra.py:list_by_location:1187 - Catalog object not found (catalog_id=19, object_id=580657297)\n",
      "##############\n",
      "Processing https://alerce.online/object/ZTF22aanygxe\n",
      "alerce_cls CV/Nova\n",
      "Alerce class=CV/Nova is not SN ('SLSN', 'SN', 'SNII', 'SNIa', 'SNIbc') for ZTF22aanygxe. Skip!\n"
     ]
    },
    {
     "name": "stderr",
     "output_type": "stream",
     "text": [
      "Span has already been finished; will not be reported again.\n"
     ]
    },
    {
     "name": "stdout",
     "output_type": "stream",
     "text": [
      "GHOST database already exists in the install path!\n",
      "2023-07-04 09:30:23,990 - WARNING MainThread cassandra.py:list_by_location:1187 - Catalog object not found (catalog_id=19, object_id=588034131)\n",
      "##############\n",
      "Processing https://alerce.online/object/ZTF20absgwuw\n",
      "alerce_cls CV/Nova\n",
      "Alerce class=CV/Nova is not SN ('SLSN', 'SN', 'SNII', 'SNIa', 'SNIbc') for ZTF20absgwuw. Skip!\n"
     ]
    },
    {
     "name": "stderr",
     "output_type": "stream",
     "text": [
      "Span has already been finished; will not be reported again.\n"
     ]
    },
    {
     "name": "stdout",
     "output_type": "stream",
     "text": [
      "GHOST database already exists in the install path!\n",
      "2023-07-04 09:30:26,404 - WARNING MainThread cassandra.py:list_by_location:1187 - Catalog object not found (catalog_id=19, object_id=582910235)\n",
      "##############\n",
      "Processing https://alerce.online/object/ZTF21abjzmza\n",
      "alerce_cls QSO\n",
      "Alerce class=QSO is not SN ('SLSN', 'SN', 'SNII', 'SNIa', 'SNIbc') for ZTF21abjzmza. Skip!\n"
     ]
    },
    {
     "name": "stderr",
     "output_type": "stream",
     "text": [
      "Span has already been finished; will not be reported again.\n"
     ]
    },
    {
     "name": "stdout",
     "output_type": "stream",
     "text": [
      "GHOST database already exists in the install path!\n",
      "2023-07-04 09:30:29,095 - WARNING MainThread cassandra.py:list_by_location:1187 - Catalog object not found (catalog_id=19, object_id=813591123)\n",
      "##############\n",
      "Processing https://alerce.online/object/ZTF22aapjqtz\n",
      "alerce_cls QSO\n",
      "Alerce class=QSO is not SN ('SLSN', 'SN', 'SNII', 'SNIa', 'SNIbc') for ZTF22aapjqtz. Skip!\n"
     ]
    },
    {
     "name": "stderr",
     "output_type": "stream",
     "text": [
      "Span has already been finished; will not be reported again.\n"
     ]
    },
    {
     "name": "stdout",
     "output_type": "stream",
     "text": [
      "GHOST database already exists in the install path!\n",
      "2023-07-04 09:30:31,358 - WARNING MainThread cassandra.py:list_by_location:1187 - Catalog object not found (catalog_id=19, object_id=770798676)\n",
      "##############\n",
      "Processing https://alerce.online/object/ZTF21abkqrio\n",
      "alerce_cls QSO\n",
      "Alerce class=QSO is not SN ('SLSN', 'SN', 'SNII', 'SNIa', 'SNIbc') for ZTF21abkqrio. Skip!\n"
     ]
    },
    {
     "name": "stderr",
     "output_type": "stream",
     "text": [
      "Span has already been finished; will not be reported again.\n"
     ]
    },
    {
     "name": "stdout",
     "output_type": "stream",
     "text": [
      "GHOST database already exists in the install path!\n",
      "##############\n",
      "Processing https://alerce.online/object/ZTF22aakpkwp\n",
      "alerce_cls QSO\n",
      "Alerce class=QSO is not SN ('SLSN', 'SN', 'SNII', 'SNIa', 'SNIbc') for ZTF22aakpkwp. Skip!\n"
     ]
    },
    {
     "name": "stderr",
     "output_type": "stream",
     "text": [
      "Span has already been finished; will not be reported again.\n"
     ]
    },
    {
     "name": "stdout",
     "output_type": "stream",
     "text": [
      "GHOST database already exists in the install path!\n",
      "##############\n",
      "Processing https://alerce.online/object/ZTF21abjakus\n",
      "alerce_cls QSO\n",
      "Alerce class=QSO is not SN ('SLSN', 'SN', 'SNII', 'SNIa', 'SNIbc') for ZTF21abjakus. Skip!\n"
     ]
    },
    {
     "name": "stderr",
     "output_type": "stream",
     "text": [
      "Span has already been finished; will not be reported again.\n"
     ]
    },
    {
     "name": "stdout",
     "output_type": "stream",
     "text": [
      "GHOST database already exists in the install path!\n",
      "##############\n",
      "Processing https://alerce.online/object/ZTF21aclmddc\n",
      "alerce_cls QSO\n",
      "Alerce class=QSO is not SN ('SLSN', 'SN', 'SNII', 'SNIa', 'SNIbc') for ZTF21aclmddc. Skip!\n"
     ]
    },
    {
     "name": "stderr",
     "output_type": "stream",
     "text": [
      "Span has already been finished; will not be reported again.\n"
     ]
    },
    {
     "name": "stdout",
     "output_type": "stream",
     "text": [
      "GHOST database already exists in the install path!\n",
      "##############\n",
      "Processing https://alerce.online/object/ZTF22aapoarn\n",
      "alerce_cls QSO\n",
      "Alerce class=QSO is not SN ('SLSN', 'SN', 'SNII', 'SNIa', 'SNIbc') for ZTF22aapoarn. Skip!\n"
     ]
    },
    {
     "name": "stderr",
     "output_type": "stream",
     "text": [
      "Span has already been finished; will not be reported again.\n"
     ]
    },
    {
     "name": "stdout",
     "output_type": "stream",
     "text": [
      "GHOST database already exists in the install path!\n",
      "##############\n",
      "Processing https://alerce.online/object/ZTF22aahofcd\n",
      "alerce_cls SNII\n",
      "1 transients not found in GHOST by name, trying a coordinate search...\n",
      "1 transients not found in GHOST by name or coordinates, manually associating...\n",
      "Found no hosts in GLADE.\n",
      "Finding northern sources with Pan-starrs...\n",
      "Associated fraction after quality cuts: 100.00%.\n",
      "Loading model Star_Galaxy_RealisticModel_GHOST_PS1ClassLabels.sav.\n",
      "Removed 16 stars. We now have 8 candidate host galaxies.\n",
      "Found matches for 0.0% of events.\n",
      "Saving table of hosts to /tmp/tmpts48tkl4transients_20230704093046002459/tables/FinalAssociationTable.csv.\n",
      "Couldn't find any hosts! Trying again with a search radius of 150''.\n",
      "Found no hosts in GLADE.\n",
      "Finding northern sources with Pan-starrs...\n",
      "Associated fraction after quality cuts: 100.00%.\n",
      "Loading model Star_Galaxy_RealisticModel_GHOST_PS1ClassLabels.sav.\n",
      "Removed 72 stars. We now have 51 candidate host galaxies.\n",
      "Desperate match found for ZTF22aahofcd, 61.94 arcsec away.\n",
      "Found matches for 100.0% of events.\n",
      "Saving table of hosts to /tmp/tmpts48tkl4transients_20230704093116134655/tables/FinalAssociationTable.csv.\n",
      "0 transients found by name, 0 transients found by coordinates, 1 transients manually associated.\n",
      "http://ps1images.stsci.edu/cgi-bin/ps1cutouts?pos=8.0204498+41.96482773&filter=color\n",
      "ZTF22aahofcd is NOT anomalous according to RFC model (anom score=21.0%). Skip!\n"
     ]
    },
    {
     "name": "stderr",
     "output_type": "stream",
     "text": [
      "[Parallel(n_jobs=40)]: Using backend ThreadingBackend with 40 concurrent workers.\n",
      "[Parallel(n_jobs=40)]: Done 100 out of 100 | elapsed:    0.0s finished\n",
      "Span has already been finished; will not be reported again.\n"
     ]
    },
    {
     "name": "stdout",
     "output_type": "stream",
     "text": [
      "GHOST database already exists in the install path!\n",
      "##############\n",
      "In galactic plane at b=-10.772059109325532. Don't use. Skip!\n",
      "CPU times: user 52.3 s, sys: 1.12 s, total: 53.4 s\n",
      "Wall time: 3min 53s\n"
     ]
    }
   ],
   "source": [
    "%%time\n",
    "\n",
    "for loc in locus_ids[225:250]:\n",
    "    report = dk.run_filter(LAISS_RFC_AD_filter, locus=loc)"
   ]
  },
  {
   "cell_type": "code",
   "execution_count": 34,
   "id": "4a604317-f87b-403e-8fc8-70d313f1033d",
   "metadata": {},
   "outputs": [
    {
     "name": "stderr",
     "output_type": "stream",
     "text": [
      "Span has already been finished; will not be reported again.\n"
     ]
    },
    {
     "name": "stdout",
     "output_type": "stream",
     "text": [
      "GHOST database already exists in the install path!\n",
      "##############\n",
      "In galactic plane at b=12.020675148940601. Don't use. Skip!\n"
     ]
    },
    {
     "name": "stderr",
     "output_type": "stream",
     "text": [
      "Span has already been finished; will not be reported again.\n"
     ]
    },
    {
     "name": "stdout",
     "output_type": "stream",
     "text": [
      "GHOST database already exists in the install path!\n",
      "##############\n",
      "Processing https://alerce.online/object/ZTF21abhtxpv\n",
      "alerce_cls QSO\n",
      "Alerce class=QSO is not SN ('SLSN', 'SN', 'SNII', 'SNIa', 'SNIbc') for ZTF21abhtxpv. Skip!\n"
     ]
    },
    {
     "name": "stderr",
     "output_type": "stream",
     "text": [
      "Span has already been finished; will not be reported again.\n"
     ]
    },
    {
     "name": "stdout",
     "output_type": "stream",
     "text": [
      "GHOST database already exists in the install path!\n",
      "##############\n",
      "In galactic plane at b=11.769144666968588. Don't use. Skip!\n"
     ]
    },
    {
     "name": "stderr",
     "output_type": "stream",
     "text": [
      "Span has already been finished; will not be reported again.\n"
     ]
    },
    {
     "name": "stdout",
     "output_type": "stream",
     "text": [
      "GHOST database already exists in the install path!\n",
      "##############\n",
      "In galactic plane at b=11.23915494120793. Don't use. Skip!\n"
     ]
    },
    {
     "name": "stderr",
     "output_type": "stream",
     "text": [
      "Span has already been finished; will not be reported again.\n"
     ]
    },
    {
     "name": "stdout",
     "output_type": "stream",
     "text": [
      "GHOST database already exists in the install path!\n",
      "##############\n",
      "Processing https://alerce.online/object/ZTF19aasrgpy\n",
      "alerce_cls SNIa\n",
      "1 transients not found in GHOST by name, trying a coordinate search...\n",
      "1 transients not found in GHOST by name or coordinates, manually associating...\n",
      "Found no hosts in GLADE.\n",
      "Finding northern sources with Pan-starrs...\n",
      "Associated fraction after quality cuts: 100.00%.\n",
      "Loading model Star_Galaxy_RealisticModel_GHOST_PS1ClassLabels.sav.\n",
      "Removed 15 stars. We now have 5 candidate host galaxies.\n",
      "Found matches for 0.0% of events.\n",
      "Saving table of hosts to /tmp/tmp26uo2zwatransients_20230704093339204597/tables/FinalAssociationTable.csv.\n",
      "Couldn't find any hosts! Trying again with a search radius of 150''.\n",
      "Found no hosts in GLADE.\n",
      "Finding northern sources with Pan-starrs...\n",
      "Associated fraction after quality cuts: 100.00%.\n",
      "Loading model Star_Galaxy_RealisticModel_GHOST_PS1ClassLabels.sav.\n",
      "Removed 100 stars. We now have 49 candidate host galaxies.\n",
      "Found matches for 0.0% of events.\n",
      "Saving table of hosts to /tmp/tmp26uo2zwatransients_20230704093408404231/tables/FinalAssociationTable.csv.\n",
      "0 transients found by name, 0 transients found by coordinates, 0 transients manually associated.\n",
      "GHOST host association fails for ZTF19aasrgpy. Skip!\n"
     ]
    },
    {
     "name": "stderr",
     "output_type": "stream",
     "text": [
      "Span has already been finished; will not be reported again.\n"
     ]
    },
    {
     "name": "stdout",
     "output_type": "stream",
     "text": [
      "GHOST database already exists in the install path!\n",
      "##############\n",
      "Processing https://alerce.online/object/ZTF23aagfbsv\n",
      "alerce_cls QSO\n",
      "Alerce class=QSO is not SN ('SLSN', 'SN', 'SNII', 'SNIa', 'SNIbc') for ZTF23aagfbsv. Skip!\n"
     ]
    },
    {
     "name": "stderr",
     "output_type": "stream",
     "text": [
      "Span has already been finished; will not be reported again.\n"
     ]
    },
    {
     "name": "stdout",
     "output_type": "stream",
     "text": [
      "GHOST database already exists in the install path!\n",
      "##############\n",
      "In galactic plane at b=14.015044594146355. Don't use. Skip!\n"
     ]
    },
    {
     "name": "stderr",
     "output_type": "stream",
     "text": [
      "Span has already been finished; will not be reported again.\n"
     ]
    },
    {
     "name": "stdout",
     "output_type": "stream",
     "text": [
      "GHOST database already exists in the install path!\n",
      "##############\n",
      "In galactic plane at b=11.99421680552852. Don't use. Skip!\n"
     ]
    },
    {
     "name": "stderr",
     "output_type": "stream",
     "text": [
      "Span has already been finished; will not be reported again.\n"
     ]
    },
    {
     "name": "stdout",
     "output_type": "stream",
     "text": [
      "GHOST database already exists in the install path!\n",
      "##############\n",
      "In galactic plane at b=11.65461096384865. Don't use. Skip!\n"
     ]
    },
    {
     "name": "stderr",
     "output_type": "stream",
     "text": [
      "Span has already been finished; will not be reported again.\n"
     ]
    },
    {
     "name": "stdout",
     "output_type": "stream",
     "text": [
      "GHOST database already exists in the install path!\n",
      "##############\n",
      "In galactic plane at b=11.62937909135862. Don't use. Skip!\n"
     ]
    },
    {
     "name": "stderr",
     "output_type": "stream",
     "text": [
      "Span has already been finished; will not be reported again.\n"
     ]
    },
    {
     "name": "stdout",
     "output_type": "stream",
     "text": [
      "GHOST database already exists in the install path!\n",
      "##############\n",
      "In galactic plane at b=12.30521573714663. Don't use. Skip!\n"
     ]
    },
    {
     "name": "stderr",
     "output_type": "stream",
     "text": [
      "Span has already been finished; will not be reported again.\n"
     ]
    },
    {
     "name": "stdout",
     "output_type": "stream",
     "text": [
      "GHOST database already exists in the install path!\n",
      "##############\n",
      "In galactic plane at b=10.281516056602158. Don't use. Skip!\n"
     ]
    },
    {
     "name": "stderr",
     "output_type": "stream",
     "text": [
      "Span has already been finished; will not be reported again.\n"
     ]
    },
    {
     "name": "stdout",
     "output_type": "stream",
     "text": [
      "GHOST database already exists in the install path!\n",
      "##############\n",
      "In galactic plane at b=10.180854373336228. Don't use. Skip!\n"
     ]
    },
    {
     "name": "stderr",
     "output_type": "stream",
     "text": [
      "Span has already been finished; will not be reported again.\n"
     ]
    },
    {
     "name": "stdout",
     "output_type": "stream",
     "text": [
      "GHOST database already exists in the install path!\n",
      "##############\n",
      "In galactic plane at b=14.450418244100094. Don't use. Skip!\n"
     ]
    },
    {
     "name": "stderr",
     "output_type": "stream",
     "text": [
      "Span has already been finished; will not be reported again.\n"
     ]
    },
    {
     "name": "stdout",
     "output_type": "stream",
     "text": [
      "GHOST database already exists in the install path!\n",
      "##############\n",
      "In galactic plane at b=13.995842226920287. Don't use. Skip!\n"
     ]
    },
    {
     "name": "stderr",
     "output_type": "stream",
     "text": [
      "Span has already been finished; will not be reported again.\n"
     ]
    },
    {
     "name": "stdout",
     "output_type": "stream",
     "text": [
      "GHOST database already exists in the install path!\n",
      "##############\n",
      "In galactic plane at b=12.441541958477039. Don't use. Skip!\n"
     ]
    },
    {
     "name": "stderr",
     "output_type": "stream",
     "text": [
      "Span has already been finished; will not be reported again.\n"
     ]
    },
    {
     "name": "stdout",
     "output_type": "stream",
     "text": [
      "GHOST database already exists in the install path!\n",
      "##############\n",
      "In galactic plane at b=13.198543208250657. Don't use. Skip!\n"
     ]
    },
    {
     "name": "stderr",
     "output_type": "stream",
     "text": [
      "Span has already been finished; will not be reported again.\n"
     ]
    },
    {
     "name": "stdout",
     "output_type": "stream",
     "text": [
      "GHOST database already exists in the install path!\n",
      "2023-07-04 09:36:40,469 - WARNING MainThread cassandra.py:list_by_location:1187 - Catalog object not found (catalog_id=19, object_id=484236731)\n",
      "##############\n",
      "In galactic plane at b=-12.528029943174046. Don't use. Skip!\n"
     ]
    },
    {
     "name": "stderr",
     "output_type": "stream",
     "text": [
      "Span has already been finished; will not be reported again.\n"
     ]
    },
    {
     "name": "stdout",
     "output_type": "stream",
     "text": [
      "GHOST database already exists in the install path!\n",
      "2023-07-04 09:36:42,566 - WARNING MainThread cassandra.py:list_by_location:1187 - Catalog object not found (catalog_id=19, object_id=592771138)\n",
      "##############\n",
      "Processing https://alerce.online/object/ZTF22aafivjc\n",
      "alerce_cls Periodic-Other\n",
      "Alerce class=Periodic-Other is not SN ('SLSN', 'SN', 'SNII', 'SNIa', 'SNIbc') for ZTF22aafivjc. Skip!\n"
     ]
    },
    {
     "name": "stderr",
     "output_type": "stream",
     "text": [
      "Span has already been finished; will not be reported again.\n"
     ]
    },
    {
     "name": "stdout",
     "output_type": "stream",
     "text": [
      "GHOST database already exists in the install path!\n",
      "2023-07-04 09:36:54,162 - WARNING MainThread cassandra.py:list_by_location:1187 - Catalog object not found (catalog_id=19, object_id=665029001)\n",
      "##############\n",
      "In galactic plane at b=-11.629790652067165. Don't use. Skip!\n"
     ]
    },
    {
     "name": "stderr",
     "output_type": "stream",
     "text": [
      "Span has already been finished; will not be reported again.\n"
     ]
    },
    {
     "name": "stdout",
     "output_type": "stream",
     "text": [
      "GHOST database already exists in the install path!\n",
      "2023-07-04 09:36:56,182 - WARNING MainThread cassandra.py:list_by_location:1187 - Catalog object not found (catalog_id=19, object_id=768048695)\n",
      "##############\n",
      "In galactic plane at b=-12.79663425352584. Don't use. Skip!\n"
     ]
    },
    {
     "name": "stderr",
     "output_type": "stream",
     "text": [
      "Span has already been finished; will not be reported again.\n"
     ]
    },
    {
     "name": "stdout",
     "output_type": "stream",
     "text": [
      "GHOST database already exists in the install path!\n",
      "2023-07-04 09:36:59,035 - WARNING MainThread cassandra.py:list_by_location:1187 - Catalog object not found (catalog_id=19, object_id=771306975)\n",
      "2023-07-04 09:36:59,036 - WARNING MainThread cassandra.py:list_by_location:1187 - Catalog object not found (catalog_id=19, object_id=771437325)\n",
      "##############\n",
      "Processing https://alerce.online/object/ZTF18absungv\n",
      "alerce_cls CV/Nova\n",
      "Alerce class=CV/Nova is not SN ('SLSN', 'SN', 'SNII', 'SNIa', 'SNIbc') for ZTF18absungv. Skip!\n"
     ]
    },
    {
     "name": "stderr",
     "output_type": "stream",
     "text": [
      "Span has already been finished; will not be reported again.\n"
     ]
    },
    {
     "name": "stdout",
     "output_type": "stream",
     "text": [
      "GHOST database already exists in the install path!\n",
      "2023-07-04 09:37:01,885 - WARNING MainThread cassandra.py:list_by_location:1187 - Catalog object not found (catalog_id=19, object_id=721214839)\n",
      "2023-07-04 09:37:01,886 - WARNING MainThread cassandra.py:list_by_location:1187 - Catalog object not found (catalog_id=19, object_id=721214840)\n",
      "##############\n",
      "Processing https://alerce.online/object/ZTF19aaqsdht\n",
      "alerce_cls CV/Nova\n",
      "Alerce class=CV/Nova is not SN ('SLSN', 'SN', 'SNII', 'SNIa', 'SNIbc') for ZTF19aaqsdht. Skip!\n"
     ]
    },
    {
     "name": "stderr",
     "output_type": "stream",
     "text": [
      "Span has already been finished; will not be reported again.\n"
     ]
    },
    {
     "name": "stdout",
     "output_type": "stream",
     "text": [
      "GHOST database already exists in the install path!\n",
      "##############\n",
      "Processing https://alerce.online/object/ZTF18abtvjmf\n",
      "alerce_cls LPV\n",
      "Alerce class=LPV is not SN ('SLSN', 'SN', 'SNII', 'SNIa', 'SNIbc') for ZTF18abtvjmf. Skip!\n"
     ]
    },
    {
     "name": "stderr",
     "output_type": "stream",
     "text": [
      "Span has already been finished; will not be reported again.\n"
     ]
    },
    {
     "name": "stdout",
     "output_type": "stream",
     "text": [
      "GHOST database already exists in the install path!\n",
      "2023-07-04 09:37:07,420 - WARNING MainThread cassandra.py:list_by_location:1187 - Catalog object not found (catalog_id=19, object_id=802364135)\n",
      "##############\n",
      "In galactic plane at b=-13.047820327368537. Don't use. Skip!\n",
      "CPU times: user 43.4 s, sys: 945 ms, total: 44.4 s\n",
      "Wall time: 3min 43s\n"
     ]
    }
   ],
   "source": [
    "%%time\n",
    "\n",
    "for loc in locus_ids[250:275]:\n",
    "    report = dk.run_filter(LAISS_RFC_AD_filter, locus=loc)"
   ]
  },
  {
   "cell_type": "code",
   "execution_count": 35,
   "id": "da64f468-5bc6-48c2-9e19-1571a741e98a",
   "metadata": {},
   "outputs": [
    {
     "name": "stderr",
     "output_type": "stream",
     "text": [
      "Span has already been finished; will not be reported again.\n"
     ]
    },
    {
     "name": "stdout",
     "output_type": "stream",
     "text": [
      "GHOST database already exists in the install path!\n",
      "2023-07-04 09:37:09,635 - WARNING MainThread cassandra.py:list_by_location:1187 - Catalog object not found (catalog_id=19, object_id=800440861)\n",
      "##############\n",
      "In galactic plane at b=-12.652952838227232. Don't use. Skip!\n"
     ]
    },
    {
     "name": "stderr",
     "output_type": "stream",
     "text": [
      "Span has already been finished; will not be reported again.\n"
     ]
    },
    {
     "name": "stdout",
     "output_type": "stream",
     "text": [
      "GHOST database already exists in the install path!\n",
      "2023-07-04 09:37:11,469 - WARNING MainThread cassandra.py:list_by_location:1187 - Catalog object not found (catalog_id=19, object_id=881947866)\n",
      "##############\n",
      "In galactic plane at b=-13.954232431831569. Don't use. Skip!\n"
     ]
    },
    {
     "name": "stderr",
     "output_type": "stream",
     "text": [
      "Span has already been finished; will not be reported again.\n"
     ]
    },
    {
     "name": "stdout",
     "output_type": "stream",
     "text": [
      "GHOST database already exists in the install path!\n",
      "2023-07-04 09:37:13,597 - WARNING MainThread cassandra.py:list_by_location:1187 - Catalog object not found (catalog_id=19, object_id=919855441)\n",
      "##############\n",
      "In galactic plane at b=-11.159617540501598. Don't use. Skip!\n"
     ]
    },
    {
     "name": "stderr",
     "output_type": "stream",
     "text": [
      "Span has already been finished; will not be reported again.\n"
     ]
    },
    {
     "name": "stdout",
     "output_type": "stream",
     "text": [
      "GHOST database already exists in the install path!\n",
      "2023-07-04 09:37:16,138 - WARNING MainThread cassandra.py:list_by_location:1187 - Catalog object not found (catalog_id=19, object_id=449319408)\n",
      "##############\n",
      "Processing https://alerce.online/object/ZTF21ablvsbv\n",
      "alerce_cls QSO\n",
      "Alerce class=QSO is not SN ('SLSN', 'SN', 'SNII', 'SNIa', 'SNIbc') for ZTF21ablvsbv. Skip!\n"
     ]
    },
    {
     "name": "stderr",
     "output_type": "stream",
     "text": [
      "Span has already been finished; will not be reported again.\n"
     ]
    },
    {
     "name": "stdout",
     "output_type": "stream",
     "text": [
      "GHOST database already exists in the install path!\n",
      "2023-07-04 09:37:18,553 - WARNING MainThread cassandra.py:list_by_location:1187 - Catalog object not found (catalog_id=19, object_id=458988534)\n",
      "##############\n",
      "Processing https://alerce.online/object/ZTF21abthydr\n",
      "alerce_cls QSO\n",
      "Alerce class=QSO is not SN ('SLSN', 'SN', 'SNII', 'SNIa', 'SNIbc') for ZTF21abthydr. Skip!\n"
     ]
    },
    {
     "name": "stderr",
     "output_type": "stream",
     "text": [
      "Span has already been finished; will not be reported again.\n"
     ]
    },
    {
     "name": "stdout",
     "output_type": "stream",
     "text": [
      "GHOST database already exists in the install path!\n",
      "2023-07-04 09:37:21,521 - WARNING MainThread cassandra.py:list_by_location:1187 - Catalog object not found (catalog_id=19, object_id=471058740)\n",
      "##############\n",
      "Processing https://alerce.online/object/ZTF21aazfljy\n",
      "alerce_cls QSO\n",
      "Alerce class=QSO is not SN ('SLSN', 'SN', 'SNII', 'SNIa', 'SNIbc') for ZTF21aazfljy. Skip!\n"
     ]
    },
    {
     "name": "stderr",
     "output_type": "stream",
     "text": [
      "Span has already been finished; will not be reported again.\n"
     ]
    },
    {
     "name": "stdout",
     "output_type": "stream",
     "text": [
      "GHOST database already exists in the install path!\n",
      "2023-07-04 09:37:24,948 - WARNING MainThread cassandra.py:list_by_location:1187 - Catalog object not found (catalog_id=19, object_id=455707092)\n",
      "##############\n",
      "Processing https://alerce.online/object/ZTF18abvbcla\n",
      "alerce_cls RRL\n",
      "Alerce class=RRL is not SN ('SLSN', 'SN', 'SNII', 'SNIa', 'SNIbc') for ZTF18abvbcla. Skip!\n"
     ]
    },
    {
     "name": "stderr",
     "output_type": "stream",
     "text": [
      "Span has already been finished; will not be reported again.\n"
     ]
    },
    {
     "name": "stdout",
     "output_type": "stream",
     "text": [
      "GHOST database already exists in the install path!\n",
      "2023-07-04 09:37:27,065 - WARNING MainThread cassandra.py:list_by_location:1187 - Catalog object not found (catalog_id=19, object_id=381002143)\n",
      "##############\n",
      "Processing https://alerce.online/object/ZTF22aalleor\n",
      "alerce_cls QSO\n",
      "Alerce class=QSO is not SN ('SLSN', 'SN', 'SNII', 'SNIa', 'SNIbc') for ZTF22aalleor. Skip!\n"
     ]
    },
    {
     "name": "stderr",
     "output_type": "stream",
     "text": [
      "Span has already been finished; will not be reported again.\n"
     ]
    },
    {
     "name": "stdout",
     "output_type": "stream",
     "text": [
      "GHOST database already exists in the install path!\n",
      "2023-07-04 09:37:29,349 - WARNING MainThread cassandra.py:list_by_location:1187 - Catalog object not found (catalog_id=19, object_id=430231310)\n",
      "##############\n",
      "Processing https://alerce.online/object/ZTF21abtgrzn\n",
      "alerce_cls QSO\n",
      "Alerce class=QSO is not SN ('SLSN', 'SN', 'SNII', 'SNIa', 'SNIbc') for ZTF21abtgrzn. Skip!\n"
     ]
    },
    {
     "name": "stderr",
     "output_type": "stream",
     "text": [
      "Span has already been finished; will not be reported again.\n"
     ]
    },
    {
     "name": "stdout",
     "output_type": "stream",
     "text": [
      "GHOST database already exists in the install path!\n",
      "2023-07-04 09:37:32,494 - WARNING MainThread cassandra.py:list_by_location:1187 - Catalog object not found (catalog_id=19, object_id=332128911)\n",
      "2023-07-04 09:37:32,496 - WARNING MainThread cassandra.py:list_by_location:1187 - Catalog object not found (catalog_id=19, object_id=332128912)\n",
      "##############\n",
      "Processing https://alerce.online/object/ZTF22aanujgq\n",
      "alerce_cls QSO\n",
      "Alerce class=QSO is not SN ('SLSN', 'SN', 'SNII', 'SNIa', 'SNIbc') for ZTF22aanujgq. Skip!\n"
     ]
    },
    {
     "name": "stderr",
     "output_type": "stream",
     "text": [
      "Span has already been finished; will not be reported again.\n"
     ]
    },
    {
     "name": "stdout",
     "output_type": "stream",
     "text": [
      "GHOST database already exists in the install path!\n",
      "2023-07-04 09:37:34,969 - WARNING MainThread cassandra.py:list_by_location:1187 - Catalog object not found (catalog_id=19, object_id=581765262)\n",
      "##############\n",
      "Processing https://alerce.online/object/ZTF18abmagua\n",
      "alerce_cls CV/Nova\n",
      "Alerce class=CV/Nova is not SN ('SLSN', 'SN', 'SNII', 'SNIa', 'SNIbc') for ZTF18abmagua. Skip!\n"
     ]
    },
    {
     "name": "stderr",
     "output_type": "stream",
     "text": [
      "Span has already been finished; will not be reported again.\n"
     ]
    },
    {
     "name": "stdout",
     "output_type": "stream",
     "text": [
      "GHOST database already exists in the install path!\n",
      "2023-07-04 09:37:37,263 - WARNING MainThread cassandra.py:list_by_location:1187 - Catalog object not found (catalog_id=19, object_id=477079966)\n",
      "##############\n",
      "Processing https://alerce.online/object/ZTF19addjhid\n",
      "alerce_cls VS\n",
      "Alerce class=VS is not SN ('SLSN', 'SN', 'SNII', 'SNIa', 'SNIbc') for ZTF19addjhid. Skip!\n"
     ]
    },
    {
     "name": "stderr",
     "output_type": "stream",
     "text": [
      "Span has already been finished; will not be reported again.\n"
     ]
    },
    {
     "name": "stdout",
     "output_type": "stream",
     "text": [
      "GHOST database already exists in the install path!\n",
      "##############\n",
      "In galactic plane at b=10.39225475216018. Don't use. Skip!\n"
     ]
    },
    {
     "name": "stderr",
     "output_type": "stream",
     "text": [
      "Span has already been finished; will not be reported again.\n"
     ]
    },
    {
     "name": "stdout",
     "output_type": "stream",
     "text": [
      "GHOST database already exists in the install path!\n",
      "##############\n",
      "In galactic plane at b=11.992543265511522. Don't use. Skip!\n"
     ]
    },
    {
     "name": "stderr",
     "output_type": "stream",
     "text": [
      "Span has already been finished; will not be reported again.\n"
     ]
    },
    {
     "name": "stdout",
     "output_type": "stream",
     "text": [
      "GHOST database already exists in the install path!\n",
      "2023-07-04 09:37:44,518 - WARNING MainThread cassandra.py:list_by_location:1187 - Catalog object not found (catalog_id=19, object_id=897671054)\n",
      "##############\n",
      "Processing https://alerce.online/object/ZTF18abjkrzn\n",
      "alerce_cls E\n",
      "Alerce class=E is not SN ('SLSN', 'SN', 'SNII', 'SNIa', 'SNIbc') for ZTF18abjkrzn. Skip!\n"
     ]
    },
    {
     "name": "stderr",
     "output_type": "stream",
     "text": [
      "Span has already been finished; will not be reported again.\n"
     ]
    },
    {
     "name": "stdout",
     "output_type": "stream",
     "text": [
      "GHOST database already exists in the install path!\n",
      "2023-07-04 09:37:46,773 - WARNING MainThread cassandra.py:list_by_location:1187 - Catalog object not found (catalog_id=19, object_id=984432240)\n",
      "##############\n",
      "In galactic plane at b=12.612547532388687. Don't use. Skip!\n"
     ]
    },
    {
     "name": "stderr",
     "output_type": "stream",
     "text": [
      "Span has already been finished; will not be reported again.\n"
     ]
    },
    {
     "name": "stdout",
     "output_type": "stream",
     "text": [
      "GHOST database already exists in the install path!\n",
      "##############\n",
      "In galactic plane at b=10.875067264408399. Don't use. Skip!\n"
     ]
    },
    {
     "name": "stderr",
     "output_type": "stream",
     "text": [
      "Span has already been finished; will not be reported again.\n"
     ]
    },
    {
     "name": "stdout",
     "output_type": "stream",
     "text": [
      "GHOST database already exists in the install path!\n",
      "##############\n",
      "In galactic plane at b=11.738460394771678. Don't use. Skip!\n"
     ]
    },
    {
     "name": "stderr",
     "output_type": "stream",
     "text": [
      "Span has already been finished; will not be reported again.\n"
     ]
    },
    {
     "name": "stdout",
     "output_type": "stream",
     "text": [
      "GHOST database already exists in the install path!\n",
      "##############\n",
      "In galactic plane at b=11.46533078770755. Don't use. Skip!\n"
     ]
    },
    {
     "name": "stderr",
     "output_type": "stream",
     "text": [
      "Span has already been finished; will not be reported again.\n"
     ]
    },
    {
     "name": "stdout",
     "output_type": "stream",
     "text": [
      "GHOST database already exists in the install path!\n",
      "##############\n",
      "Processing https://alerce.online/object/ZTF22aaeglvf\n",
      "alerce_cls QSO\n",
      "Alerce class=QSO is not SN ('SLSN', 'SN', 'SNII', 'SNIa', 'SNIbc') for ZTF22aaeglvf. Skip!\n"
     ]
    },
    {
     "name": "stderr",
     "output_type": "stream",
     "text": [
      "Span has already been finished; will not be reported again.\n"
     ]
    },
    {
     "name": "stdout",
     "output_type": "stream",
     "text": [
      "GHOST database already exists in the install path!\n",
      "##############\n",
      "In galactic plane at b=11.514436276204139. Don't use. Skip!\n"
     ]
    },
    {
     "name": "stderr",
     "output_type": "stream",
     "text": [
      "Span has already been finished; will not be reported again.\n"
     ]
    },
    {
     "name": "stdout",
     "output_type": "stream",
     "text": [
      "GHOST database already exists in the install path!\n",
      "##############\n",
      "Processing https://alerce.online/object/ZTF23aagdamr\n",
      "alerce_cls SNIa\n",
      "1 transients not found in GHOST by name, trying a coordinate search...\n",
      "1 transients not found in GHOST by name or coordinates, manually associating...\n",
      "Found 1 hosts in GLADE! See gladeDLR.txt for details.\n",
      "GHOST host association fails for ZTF23aagdamr. Skip!\n"
     ]
    },
    {
     "name": "stderr",
     "output_type": "stream",
     "text": [
      "Span has already been finished; will not be reported again.\n"
     ]
    },
    {
     "name": "stdout",
     "output_type": "stream",
     "text": [
      "GHOST database already exists in the install path!\n",
      "##############\n",
      "Processing https://alerce.online/object/ZTF18abedzhe\n",
      "alerce_cls QSO\n",
      "Alerce class=QSO is not SN ('SLSN', 'SN', 'SNII', 'SNIa', 'SNIbc') for ZTF18abedzhe. Skip!\n"
     ]
    },
    {
     "name": "stderr",
     "output_type": "stream",
     "text": [
      "Span has already been finished; will not be reported again.\n"
     ]
    },
    {
     "name": "stdout",
     "output_type": "stream",
     "text": [
      "GHOST database already exists in the install path!\n",
      "##############\n",
      "Processing https://alerce.online/object/ZTF18adivvrf\n",
      "alerce_cls RRL\n",
      "Alerce class=RRL is not SN ('SLSN', 'SN', 'SNII', 'SNIa', 'SNIbc') for ZTF18adivvrf. Skip!\n"
     ]
    },
    {
     "name": "stderr",
     "output_type": "stream",
     "text": [
      "Span has already been finished; will not be reported again.\n"
     ]
    },
    {
     "name": "stdout",
     "output_type": "stream",
     "text": [
      "GHOST database already exists in the install path!\n",
      "##############\n",
      "In galactic plane at b=12.875403020830039. Don't use. Skip!\n",
      "CPU times: user 18.4 s, sys: 587 ms, total: 19 s\n",
      "Wall time: 1min 9s\n"
     ]
    }
   ],
   "source": [
    "%%time\n",
    "\n",
    "for loc in locus_ids[275:300]:\n",
    "    report = dk.run_filter(LAISS_RFC_AD_filter, locus=loc)"
   ]
  },
  {
   "cell_type": "code",
   "execution_count": null,
   "id": "c4e4e53c-086f-4d4b-b33c-a523d93655d1",
   "metadata": {},
   "outputs": [],
   "source": []
  }
 ],
 "metadata": {
  "kernelspec": {
   "display_name": "Python 3 (ANTARES)",
   "language": "python",
   "name": "antares_py3.7"
  },
  "language_info": {
   "codemirror_mode": {
    "name": "ipython",
    "version": 3
   },
   "file_extension": ".py",
   "mimetype": "text/x-python",
   "name": "python",
   "nbconvert_exporter": "python",
   "pygments_lexer": "ipython3",
   "version": "3.9.16"
  }
 },
 "nbformat": 4,
 "nbformat_minor": 5
}
