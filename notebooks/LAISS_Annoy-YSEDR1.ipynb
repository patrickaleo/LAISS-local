{
 "cells": [
  {
   "cell_type": "code",
   "execution_count": 1,
   "id": "29728950",
   "metadata": {},
   "outputs": [],
   "source": [
    "import time\n",
    "import numpy as np\n",
    "import matplotlib.pyplot as plt\n",
    "import pandas as pd\n",
    "import pickle\n",
    "\n",
    "import os\n",
    "import sys\n",
    "import annoy\n",
    "from annoy import AnnoyIndex\n",
    "import random\n",
    "\n",
    "\n",
    "\n",
    "from IPython.display import display_markdown\n",
    "\n",
    "from collections import Counter\n",
    "\n",
    "from sklearn.decomposition import PCA\n",
    "from sklearn import preprocessing\n",
    "from sklearn.metrics import confusion_matrix, ConfusionMatrixDisplay\n",
    "from sklearn.metrics import classification_report\n",
    "from sklearn.impute import SimpleImputer\n",
    "from scipy.spatial import cKDTree\n",
    "\n",
    "\n",
    "\n"
   ]
  },
  {
   "cell_type": "code",
   "execution_count": 2,
   "id": "37b800f4",
   "metadata": {},
   "outputs": [],
   "source": [
    "class AnnoyIndex():\n",
    "    def __init__(self, vectors, labels, metric):\n",
    "        self.dimension = vectors.shape[1]\n",
    "        self.vectors = vectors.astype('float32')\n",
    "        self.labels = labels    \n",
    "        self.metric= metric\n",
    "   \n",
    "    def build(self, number_of_trees=100):\n",
    "        self.index = annoy.AnnoyIndex(self.dimension, self.metric)\n",
    "        for i, vec in enumerate(self.vectors):\n",
    "            self.index.add_item(i, vec.tolist())\n",
    "        self.index.build(number_of_trees)\n",
    "        \n",
    "    def query(self, vector, k=1000):\n",
    "        indices = self.index.get_nns_by_vector(\n",
    "              vector.tolist(), \n",
    "              k, \n",
    "              search_k=-1)                                           \n",
    "        return [self.labels[i] for i in indices]"
   ]
  },
  {
   "cell_type": "code",
   "execution_count": 3,
   "id": "8b0d522e",
   "metadata": {},
   "outputs": [
    {
     "data": {
      "text/html": [
       "<div>\n",
       "<style scoped>\n",
       "    .dataframe tbody tr th:only-of-type {\n",
       "        vertical-align: middle;\n",
       "    }\n",
       "\n",
       "    .dataframe tbody tr th {\n",
       "        vertical-align: top;\n",
       "    }\n",
       "\n",
       "    .dataframe thead th {\n",
       "        text-align: right;\n",
       "    }\n",
       "</style>\n",
       "<table border=\"1\" class=\"dataframe\">\n",
       "  <thead>\n",
       "    <tr style=\"text-align: right;\">\n",
       "      <th></th>\n",
       "      <th>Unnamed: 0</th>\n",
       "      <th>level_0</th>\n",
       "      <th>index</th>\n",
       "      <th>objName</th>\n",
       "      <th>objAltName1</th>\n",
       "      <th>objAltName2</th>\n",
       "      <th>objAltName3</th>\n",
       "      <th>objID</th>\n",
       "      <th>uniquePspsOBid</th>\n",
       "      <th>ippObjID</th>\n",
       "      <th>...</th>\n",
       "      <th>NED_type</th>\n",
       "      <th>NED_vel</th>\n",
       "      <th>NED_redshift</th>\n",
       "      <th>NED_mag</th>\n",
       "      <th>class</th>\n",
       "      <th>dist/DLR</th>\n",
       "      <th>dist</th>\n",
       "      <th>TransientClass</th>\n",
       "      <th>TransientRA</th>\n",
       "      <th>TransientDEC</th>\n",
       "    </tr>\n",
       "    <tr>\n",
       "      <th>TransientName</th>\n",
       "      <th></th>\n",
       "      <th></th>\n",
       "      <th></th>\n",
       "      <th></th>\n",
       "      <th></th>\n",
       "      <th></th>\n",
       "      <th></th>\n",
       "      <th></th>\n",
       "      <th></th>\n",
       "      <th></th>\n",
       "      <th></th>\n",
       "      <th></th>\n",
       "      <th></th>\n",
       "      <th></th>\n",
       "      <th></th>\n",
       "      <th></th>\n",
       "      <th></th>\n",
       "      <th></th>\n",
       "      <th></th>\n",
       "      <th></th>\n",
       "      <th></th>\n",
       "    </tr>\n",
       "  </thead>\n",
       "  <tbody>\n",
       "    <tr>\n",
       "      <th>2017fgc</th>\n",
       "      <td>438</td>\n",
       "      <td>1083.0</td>\n",
       "      <td>1.0</td>\n",
       "      <td>PSO J012014.639+032412.408</td>\n",
       "      <td>NaN</td>\n",
       "      <td>NaN</td>\n",
       "      <td>NaN</td>\n",
       "      <td>112080200610004597</td>\n",
       "      <td>920640000012027</td>\n",
       "      <td>44345537343227</td>\n",
       "      <td>...</td>\n",
       "      <td>NaN</td>\n",
       "      <td>NaN</td>\n",
       "      <td>NaN</td>\n",
       "      <td>NaN</td>\n",
       "      <td>NaN</td>\n",
       "      <td>2.043633</td>\n",
       "      <td>3.864276</td>\n",
       "      <td>NaN</td>\n",
       "      <td>20.060167</td>\n",
       "      <td>3.402767</td>\n",
       "    </tr>\n",
       "    <tr>\n",
       "      <th>2019aaag</th>\n",
       "      <td>242</td>\n",
       "      <td>1587.0</td>\n",
       "      <td>13.0</td>\n",
       "      <td>PSO J122902.877+124305.856</td>\n",
       "      <td>NaN</td>\n",
       "      <td>NaN</td>\n",
       "      <td>NaN</td>\n",
       "      <td>123261872619862441</td>\n",
       "      <td>1075711000039539</td>\n",
       "      <td>102744207694452</td>\n",
       "      <td>...</td>\n",
       "      <td>G</td>\n",
       "      <td>NaN</td>\n",
       "      <td>NaN</td>\n",
       "      <td>19.8</td>\n",
       "      <td>False</td>\n",
       "      <td>0.042838</td>\n",
       "      <td>0.201594</td>\n",
       "      <td>NaN</td>\n",
       "      <td>187.262053</td>\n",
       "      <td>12.718327</td>\n",
       "    </tr>\n",
       "    <tr>\n",
       "      <th>2019aaax</th>\n",
       "      <td>96</td>\n",
       "      <td>632.0</td>\n",
       "      <td>20.0</td>\n",
       "      <td>PSO J101958.736-030625.511</td>\n",
       "      <td>NaN</td>\n",
       "      <td>NaN</td>\n",
       "      <td>NaN</td>\n",
       "      <td>104271549947461885</td>\n",
       "      <td>1044689000082043</td>\n",
       "      <td>378506877943937</td>\n",
       "      <td>...</td>\n",
       "      <td>G</td>\n",
       "      <td>NaN</td>\n",
       "      <td>NaN</td>\n",
       "      <td>21.8</td>\n",
       "      <td>False</td>\n",
       "      <td>0.015769</td>\n",
       "      <td>0.060278</td>\n",
       "      <td>NaN</td>\n",
       "      <td>154.994731</td>\n",
       "      <td>-3.107074</td>\n",
       "    </tr>\n",
       "    <tr>\n",
       "      <th>2019aabv</th>\n",
       "      <td>338</td>\n",
       "      <td>2275.0</td>\n",
       "      <td>39.0</td>\n",
       "      <td>PSO J095020.993+320144.032</td>\n",
       "      <td>NaN</td>\n",
       "      <td>NaN</td>\n",
       "      <td>NaN</td>\n",
       "      <td>146431475874425238</td>\n",
       "      <td>1055533000070586</td>\n",
       "      <td>214804199445433</td>\n",
       "      <td>...</td>\n",
       "      <td>*</td>\n",
       "      <td>NaN</td>\n",
       "      <td>NaN</td>\n",
       "      <td>20.1</td>\n",
       "      <td>False</td>\n",
       "      <td>0.058378</td>\n",
       "      <td>0.192407</td>\n",
       "      <td>NaN</td>\n",
       "      <td>147.587449</td>\n",
       "      <td>32.028943</td>\n",
       "    </tr>\n",
       "    <tr>\n",
       "      <th>2019aacg</th>\n",
       "      <td>66</td>\n",
       "      <td>431.0</td>\n",
       "      <td>43.0</td>\n",
       "      <td>PSO J104738.560-043456.602</td>\n",
       "      <td>NaN</td>\n",
       "      <td>NaN</td>\n",
       "      <td>NaN</td>\n",
       "      <td>102501619106751538</td>\n",
       "      <td>1050657000004462</td>\n",
       "      <td>379005094072685</td>\n",
       "      <td>...</td>\n",
       "      <td>IrS</td>\n",
       "      <td>NaN</td>\n",
       "      <td>NaN</td>\n",
       "      <td>NaN</td>\n",
       "      <td>False</td>\n",
       "      <td>0.111747</td>\n",
       "      <td>0.244734</td>\n",
       "      <td>NaN</td>\n",
       "      <td>161.910702</td>\n",
       "      <td>-4.582341</td>\n",
       "    </tr>\n",
       "    <tr>\n",
       "      <th>...</th>\n",
       "      <td>...</td>\n",
       "      <td>...</td>\n",
       "      <td>...</td>\n",
       "      <td>...</td>\n",
       "      <td>...</td>\n",
       "      <td>...</td>\n",
       "      <td>...</td>\n",
       "      <td>...</td>\n",
       "      <td>...</td>\n",
       "      <td>...</td>\n",
       "      <td>...</td>\n",
       "      <td>...</td>\n",
       "      <td>...</td>\n",
       "      <td>...</td>\n",
       "      <td>...</td>\n",
       "      <td>...</td>\n",
       "      <td>...</td>\n",
       "      <td>...</td>\n",
       "      <td>...</td>\n",
       "      <td>...</td>\n",
       "      <td>...</td>\n",
       "    </tr>\n",
       "    <tr>\n",
       "      <th>2022cpk</th>\n",
       "      <td>462</td>\n",
       "      <td>2825.0</td>\n",
       "      <td>8244.0</td>\n",
       "      <td>PSO J091328.597+310703.441</td>\n",
       "      <td>NaN</td>\n",
       "      <td>NaN</td>\n",
       "      <td>NaN</td>\n",
       "      <td>145341383690751801</td>\n",
       "      <td>1048059000053667</td>\n",
       "      <td>214151364399522</td>\n",
       "      <td>...</td>\n",
       "      <td>NaN</td>\n",
       "      <td>NaN</td>\n",
       "      <td>NaN</td>\n",
       "      <td>NaN</td>\n",
       "      <td>NaN</td>\n",
       "      <td>1.665415</td>\n",
       "      <td>4.059217</td>\n",
       "      <td>NaN</td>\n",
       "      <td>138.370342</td>\n",
       "      <td>31.117122</td>\n",
       "    </tr>\n",
       "    <tr>\n",
       "      <th>2022gy</th>\n",
       "      <td>210</td>\n",
       "      <td>1680.0</td>\n",
       "      <td>8252.0</td>\n",
       "      <td>PSO J122727.536+081137.071</td>\n",
       "      <td>NaN</td>\n",
       "      <td>NaN</td>\n",
       "      <td>NaN</td>\n",
       "      <td>117831868647142827</td>\n",
       "      <td>1038671000072790</td>\n",
       "      <td>102894531583061</td>\n",
       "      <td>...</td>\n",
       "      <td>G</td>\n",
       "      <td>35795.0</td>\n",
       "      <td>0.119398</td>\n",
       "      <td>17.6</td>\n",
       "      <td>False</td>\n",
       "      <td>0.218665</td>\n",
       "      <td>2.091249</td>\n",
       "      <td>NaN</td>\n",
       "      <td>186.864439</td>\n",
       "      <td>8.194126</td>\n",
       "    </tr>\n",
       "    <tr>\n",
       "      <th>2022jq</th>\n",
       "      <td>130</td>\n",
       "      <td>1096.0</td>\n",
       "      <td>8270.0</td>\n",
       "      <td>PSO J091327.581+010010.966</td>\n",
       "      <td>NaN</td>\n",
       "      <td>NaN</td>\n",
       "      <td>NaN</td>\n",
       "      <td>109201383649304082</td>\n",
       "      <td>1011152000032043</td>\n",
       "      <td>58437325061418</td>\n",
       "      <td>...</td>\n",
       "      <td>G</td>\n",
       "      <td>NaN</td>\n",
       "      <td>NaN</td>\n",
       "      <td>18.8</td>\n",
       "      <td>False</td>\n",
       "      <td>0.343289</td>\n",
       "      <td>1.654076</td>\n",
       "      <td>NaN</td>\n",
       "      <td>138.365050</td>\n",
       "      <td>1.003510</td>\n",
       "    </tr>\n",
       "    <tr>\n",
       "      <th>2022km</th>\n",
       "      <td>135</td>\n",
       "      <td>1129.0</td>\n",
       "      <td>8277.0</td>\n",
       "      <td>PSO J100351.342+011009.027</td>\n",
       "      <td>NaN</td>\n",
       "      <td>NaN</td>\n",
       "      <td>NaN</td>\n",
       "      <td>109401509639963451</td>\n",
       "      <td>1018984000006514</td>\n",
       "      <td>59468117186930</td>\n",
       "      <td>...</td>\n",
       "      <td>G</td>\n",
       "      <td>NaN</td>\n",
       "      <td>NaN</td>\n",
       "      <td>20.0</td>\n",
       "      <td>False</td>\n",
       "      <td>0.354672</td>\n",
       "      <td>1.248986</td>\n",
       "      <td>NaN</td>\n",
       "      <td>150.964005</td>\n",
       "      <td>1.168831</td>\n",
       "    </tr>\n",
       "    <tr>\n",
       "      <th>2022ls</th>\n",
       "      <td>467</td>\n",
       "      <td>3117.0</td>\n",
       "      <td>8301.0</td>\n",
       "      <td>PSO J071604.346+372509.089</td>\n",
       "      <td>NaN</td>\n",
       "      <td>NaN</td>\n",
       "      <td>NaN</td>\n",
       "      <td>152901090181193638</td>\n",
       "      <td>1017224000056740</td>\n",
       "      <td>211028923178404</td>\n",
       "      <td>...</td>\n",
       "      <td>G</td>\n",
       "      <td>NaN</td>\n",
       "      <td>NaN</td>\n",
       "      <td>15.7</td>\n",
       "      <td>NaN</td>\n",
       "      <td>0.514619</td>\n",
       "      <td>12.870502</td>\n",
       "      <td>NaN</td>\n",
       "      <td>109.022567</td>\n",
       "      <td>37.419705</td>\n",
       "    </tr>\n",
       "  </tbody>\n",
       "</table>\n",
       "<p>2422 rows × 344 columns</p>\n",
       "</div>"
      ],
      "text/plain": [
       "               Unnamed: 0  level_0   index                     objName  \\\n",
       "TransientName                                                            \n",
       "2017fgc               438   1083.0     1.0  PSO J012014.639+032412.408   \n",
       "2019aaag              242   1587.0    13.0  PSO J122902.877+124305.856   \n",
       "2019aaax               96    632.0    20.0  PSO J101958.736-030625.511   \n",
       "2019aabv              338   2275.0    39.0  PSO J095020.993+320144.032   \n",
       "2019aacg               66    431.0    43.0  PSO J104738.560-043456.602   \n",
       "...                   ...      ...     ...                         ...   \n",
       "2022cpk               462   2825.0  8244.0  PSO J091328.597+310703.441   \n",
       "2022gy                210   1680.0  8252.0  PSO J122727.536+081137.071   \n",
       "2022jq                130   1096.0  8270.0  PSO J091327.581+010010.966   \n",
       "2022km                135   1129.0  8277.0  PSO J100351.342+011009.027   \n",
       "2022ls                467   3117.0  8301.0  PSO J071604.346+372509.089   \n",
       "\n",
       "               objAltName1  objAltName2  objAltName3               objID  \\\n",
       "TransientName                                                              \n",
       "2017fgc                NaN          NaN          NaN  112080200610004597   \n",
       "2019aaag               NaN          NaN          NaN  123261872619862441   \n",
       "2019aaax               NaN          NaN          NaN  104271549947461885   \n",
       "2019aabv               NaN          NaN          NaN  146431475874425238   \n",
       "2019aacg               NaN          NaN          NaN  102501619106751538   \n",
       "...                    ...          ...          ...                 ...   \n",
       "2022cpk                NaN          NaN          NaN  145341383690751801   \n",
       "2022gy                 NaN          NaN          NaN  117831868647142827   \n",
       "2022jq                 NaN          NaN          NaN  109201383649304082   \n",
       "2022km                 NaN          NaN          NaN  109401509639963451   \n",
       "2022ls                 NaN          NaN          NaN  152901090181193638   \n",
       "\n",
       "                 uniquePspsOBid         ippObjID  ...  NED_type  NED_vel  \\\n",
       "TransientName                                     ...                      \n",
       "2017fgc         920640000012027   44345537343227  ...       NaN      NaN   \n",
       "2019aaag       1075711000039539  102744207694452  ...         G      NaN   \n",
       "2019aaax       1044689000082043  378506877943937  ...         G      NaN   \n",
       "2019aabv       1055533000070586  214804199445433  ...         *      NaN   \n",
       "2019aacg       1050657000004462  379005094072685  ...       IrS      NaN   \n",
       "...                         ...              ...  ...       ...      ...   \n",
       "2022cpk        1048059000053667  214151364399522  ...       NaN      NaN   \n",
       "2022gy         1038671000072790  102894531583061  ...         G  35795.0   \n",
       "2022jq         1011152000032043   58437325061418  ...         G      NaN   \n",
       "2022km         1018984000006514   59468117186930  ...         G      NaN   \n",
       "2022ls         1017224000056740  211028923178404  ...         G      NaN   \n",
       "\n",
       "               NED_redshift  NED_mag  class  dist/DLR       dist  \\\n",
       "TransientName                                                      \n",
       "2017fgc                 NaN      NaN    NaN  2.043633   3.864276   \n",
       "2019aaag                NaN     19.8  False  0.042838   0.201594   \n",
       "2019aaax                NaN     21.8  False  0.015769   0.060278   \n",
       "2019aabv                NaN     20.1  False  0.058378   0.192407   \n",
       "2019aacg                NaN      NaN  False  0.111747   0.244734   \n",
       "...                     ...      ...    ...       ...        ...   \n",
       "2022cpk                 NaN      NaN    NaN  1.665415   4.059217   \n",
       "2022gy             0.119398     17.6  False  0.218665   2.091249   \n",
       "2022jq                  NaN     18.8  False  0.343289   1.654076   \n",
       "2022km                  NaN     20.0  False  0.354672   1.248986   \n",
       "2022ls                  NaN     15.7    NaN  0.514619  12.870502   \n",
       "\n",
       "               TransientClass  TransientRA  TransientDEC  \n",
       "TransientName                                             \n",
       "2017fgc                   NaN    20.060167      3.402767  \n",
       "2019aaag                  NaN   187.262053     12.718327  \n",
       "2019aaax                  NaN   154.994731     -3.107074  \n",
       "2019aabv                  NaN   147.587449     32.028943  \n",
       "2019aacg                  NaN   161.910702     -4.582341  \n",
       "...                       ...          ...           ...  \n",
       "2022cpk                   NaN   138.370342     31.117122  \n",
       "2022gy                    NaN   186.864439      8.194126  \n",
       "2022jq                    NaN   138.365050      1.003510  \n",
       "2022km                    NaN   150.964005      1.168831  \n",
       "2022ls                    NaN   109.022567     37.419705  \n",
       "\n",
       "[2422 rows x 344 columns]"
      ]
     },
     "execution_count": 3,
     "metadata": {},
     "output_type": "execute_result"
    }
   ],
   "source": [
    "# Visually vetted GHOST results split up over 6 files\n",
    "# So merge them, and take subset of just YSE DR1 objects\n",
    "\n",
    "dfs = []\n",
    "for idx in range(1, 7):\n",
    "    df = pd.read_csv(f'../yse_ghost_hosts_before_vetting/{idx}_of_5/ghost_hosts.csv')\n",
    "    dfs.append(df)\n",
    "    \n",
    "g_hosts_df = pd.concat(dfs, axis=0).reset_index(drop=True)\n",
    "g_hosts_df = g_hosts_df.set_index('TransientName')\n",
    "g_hosts_df.sort_values('TransientName', inplace=True)\n",
    "ps1_hosts_df = g_hosts_df.reset_index(drop=False)\n",
    "ps1_hosts_df = ps1_hosts_df.set_index('TransientName')\n",
    "ps1_hosts_df"
   ]
  },
  {
   "cell_type": "markdown",
   "id": "2af5b33a",
   "metadata": {},
   "source": [
    "explanation of PS1 features (not custom GHOST ones): \n",
    "\n",
    "https://outerspace.stsci.edu/display/PANSTARRS/PS1+Database+object+and+detection+tables "
   ]
  },
  {
   "cell_type": "code",
   "execution_count": 4,
   "id": "7591d745",
   "metadata": {},
   "outputs": [],
   "source": [
    "# explanation of PS1 features (not custom GHOST ones): \n",
    "# https://outerspace.stsci.edu/display/PANSTARRS/PS1+Database+object+and+detection+tables \n",
    "\n",
    "feature_names_hostgal = [\n",
    "#  'Unnamed: 0',\n",
    "#  'level_0',\n",
    "#  'index',\n",
    "#  'objName',\n",
    "#  'objAltName1',\n",
    "#  'objAltName2',\n",
    "#  'objAltName3',\n",
    "#  'objID',\n",
    "#  'uniquePspsOBid',\n",
    "#  'ippObjID',\n",
    "#  'surveyID',\n",
    "#  'htmID',\n",
    "#  'zoneID',\n",
    "#  'tessID',\n",
    "#  'projectionID',\n",
    "#  'skyCellID',\n",
    "#  'randomID',\n",
    "#  'batchID',\n",
    "#  'dvoRegionID',\n",
    "#  'processingVersion',\n",
    "#  'objInfoFlag',\n",
    "#  'qualityFlag',\n",
    "#  'raStack',\n",
    "#  'decStack',\n",
    "#  'raStackErr',\n",
    "#  'decStackErr',\n",
    "#  'raMean',\n",
    "#  'decMean',\n",
    "#  'raMeanErr',\n",
    "#  'decMeanErr',\n",
    "#  'epochMean',\n",
    "#  'posMeanChisq',\n",
    "#  'cx',\n",
    "#  'cy',\n",
    "#  'cz',\n",
    "#  'lambda',\n",
    "#  'beta',\n",
    "#  'l',\n",
    "#  'b',\n",
    "#  'nStackObjectRows',\n",
    "#  'nStackDetections',\n",
    "#  'nDetections',\n",
    "#  'ng',\n",
    "#  'nr',\n",
    "#  'ni',\n",
    "#  'nz',\n",
    "#  'ny',\n",
    "#  'uniquePspsSTid',\n",
    "#  'primaryDetection',\n",
    "#  'bestDetection',\n",
    "#  'gippDetectID',\n",
    "#  'gstackDetectID',\n",
    "#  'gstackImageID',\n",
    "#  'gra',\n",
    "#  'gdec',\n",
    "#  'graErr',\n",
    "#  'gdecErr',\n",
    "#  'gEpoch',\n",
    "#  'gPSFMag',\n",
    "#  'gPSFMagErr',\n",
    "#  'gApMag',\n",
    "#  'gApMagErr',\n",
    "#  'gKronMag',\n",
    "#  'gKronMagErr',\n",
    "#  'ginfoFlag',\n",
    "#  'ginfoFlag2',\n",
    "#  'ginfoFlag3',\n",
    "#  'gnFrames',\n",
    "#  'gxPos',\n",
    "#  'gyPos',\n",
    "#  'gxPosErr',\n",
    "#  'gyPosErr',\n",
    "#  'gpsfMajorFWHM',\n",
    "#  'gpsfMinorFWHM',\n",
    "#  'gpsfTheta',\n",
    "#  'gpsfCore',\n",
    "#  'gpsfLikelihood',\n",
    "#  'gpsfQf',\n",
    "#  'gpsfQfPerfect',\n",
    "#  'gpsfChiSq',\n",
    " 'gmomentXX',\n",
    " 'gmomentXY',\n",
    " 'gmomentYY',\n",
    " 'gmomentR1',\n",
    " 'gmomentRH',\n",
    " 'gPSFFlux',\n",
    "#  'gPSFFluxErr',\n",
    " 'gApFlux',\n",
    "#  'gApFluxErr',\n",
    "#  'gApFillFac',\n",
    "#  'gApRadius',\n",
    " 'gKronFlux',\n",
    "#  'gKronFluxErr',\n",
    " 'gKronRad',\n",
    "#  'gexpTime',\n",
    " 'gExtNSigma',\n",
    "#  'gsky',\n",
    "#  'gskyErr',\n",
    "#  'gzp',\n",
    "#  'gPlateScale',\n",
    "#  'rippDetectID',\n",
    "#  'rstackDetectID',\n",
    "#  'rstackImageID',\n",
    "#  'rra',\n",
    "#  'rdec',\n",
    "#  'rraErr',\n",
    "#  'rdecErr',\n",
    "#  'rEpoch',\n",
    "# 'rPSFMag',\n",
    "#  'rPSFMagErr',\n",
    "# 'rApMag',\n",
    "#  'rApMagErr',\n",
    "# 'rKronMag',\n",
    "#  'rKronMagErr',\n",
    "#  'rinfoFlag',\n",
    "#  'rinfoFlag2',\n",
    "#  'rinfoFlag3',\n",
    "#  'rnFrames',\n",
    "#  'rxPos',\n",
    "#  'ryPos',\n",
    "#  'rxPosErr',\n",
    "#  'ryPosErr',\n",
    "#  'rpsfMajorFWHM',\n",
    "#  'rpsfMinorFWHM',\n",
    "#  'rpsfTheta',\n",
    "#  'rpsfCore',\n",
    "#  'rpsfLikelihood',\n",
    "#  'rpsfQf',\n",
    "#  'rpsfQfPerfect',\n",
    "#  'rpsfChiSq',\n",
    " 'rmomentXX',\n",
    " 'rmomentXY',\n",
    " 'rmomentYY',\n",
    " 'rmomentR1',\n",
    " 'rmomentRH',\n",
    "'rPSFFlux',\n",
    "#  'rPSFFluxErr',\n",
    "'rApFlux',\n",
    "#  'rApFluxErr',\n",
    "#  'rApFillFac',\n",
    "# 'rApRadius',\n",
    "'rKronFlux',\n",
    "#  'rKronFluxErr',\n",
    "'rKronRad',\n",
    "#  'rexpTime',\n",
    " 'rExtNSigma',\n",
    "#  'rsky',\n",
    "#  'rskyErr',\n",
    "#  'rzp',\n",
    "#  'rPlateScale',\n",
    "#  'iippDetectID',\n",
    "#  'istackDetectID',\n",
    "#  'istackImageID',\n",
    "#  'ira',\n",
    "#  'idec',\n",
    "#  'iraErr',\n",
    "#  'idecErr',\n",
    "#  'iEpoch',\n",
    "#  'iPSFMag',\n",
    "#  'iPSFMagErr',\n",
    "#  'iApMag',\n",
    "#  'iApMagErr',\n",
    "#  'iKronMag',\n",
    "#  'iKronMagErr',\n",
    "#  'iinfoFlag',\n",
    "#  'iinfoFlag2',\n",
    "#  'iinfoFlag3',\n",
    "#  'inFrames',\n",
    "#  'ixPos',\n",
    "#  'iyPos',\n",
    "#  'ixPosErr',\n",
    "#  'iyPosErr',\n",
    "#  'ipsfMajorFWHM',\n",
    "#  'ipsfMinorFWHM',\n",
    "#  'ipsfTheta',\n",
    "#  'ipsfCore',\n",
    "#  'ipsfLikelihood',\n",
    "#  'ipsfQf',\n",
    "#  'ipsfQfPerfect',\n",
    "#  'ipsfChiSq',\n",
    "  'imomentXX',\n",
    " 'imomentXY',\n",
    " 'imomentYY',\n",
    " 'imomentR1',\n",
    " 'imomentRH',\n",
    " 'iPSFFlux',\n",
    "#  'iPSFFluxErr',\n",
    " 'iApFlux',\n",
    "#  'iApFluxErr',\n",
    "#  'iApFillFac',\n",
    "#  'iApRadius',\n",
    " 'iKronFlux',\n",
    "#  'iKronFluxErr',\n",
    " 'iKronRad',\n",
    "#  'iexpTime',\n",
    "  'iExtNSigma',\n",
    "#  'isky',\n",
    "#  'iskyErr',\n",
    "#  'izp',\n",
    "#  'iPlateScale',\n",
    "#  'zippDetectID',\n",
    "#  'zstackDetectID',\n",
    "#  'zstackImageID',\n",
    "#  'zra',\n",
    "#  'zdec',\n",
    "#  'zraErr',\n",
    "#  'zdecErr',\n",
    "#  'zEpoch',\n",
    "#  'zPSFMag',\n",
    "#  'zPSFMagErr',\n",
    "#  'zApMag',\n",
    "#  'zApMagErr',\n",
    "#  'zKronMag',\n",
    "#  'zKronMagErr',\n",
    "#  'zinfoFlag',\n",
    "#  'zinfoFlag2',\n",
    "#  'zinfoFlag3',\n",
    "#  'znFrames',\n",
    "#  'zxPos',\n",
    "#  'zyPos',\n",
    "#  'zxPosErr',\n",
    "#  'zyPosErr',\n",
    "#  'zpsfMajorFWHM',\n",
    "#  'zpsfMinorFWHM',\n",
    "#  'zpsfTheta',\n",
    "#  'zpsfCore',\n",
    "#  'zpsfLikelihood',\n",
    "#  'zpsfQf',\n",
    "#  'zpsfQfPerfect',\n",
    "#  'zpsfChiSq',\n",
    "  'zmomentXX',\n",
    " 'zmomentXY',\n",
    " 'zmomentYY',\n",
    " 'zmomentR1',\n",
    " 'zmomentRH',\n",
    " 'zPSFFlux',\n",
    "#  'zPSFFluxErr',\n",
    " 'zApFlux',\n",
    "#  'zApFluxErr',\n",
    "#  'zApFillFac',\n",
    "#  'zApRadius',\n",
    " 'zKronFlux',\n",
    "#  'zKronFluxErr',\n",
    " 'zKronRad',\n",
    "#  'zexpTime',\n",
    "  'zExtNSigma',\n",
    "#  'zsky',\n",
    "#  'zskyErr',\n",
    "#  'zzp',\n",
    "#  'zPlateScale',\n",
    "#  'yippDetectID',\n",
    "#  'ystackDetectID',\n",
    "#  'ystackImageID',\n",
    "#  'yra',\n",
    "#  'ydec',\n",
    "#  'yraErr',\n",
    "#  'ydecErr',\n",
    "#  'yEpoch',\n",
    "#  'yPSFMag',\n",
    "#  'yPSFMagErr',\n",
    "#  'yApMag',\n",
    "#  'yApMagErr',\n",
    "#  'yKronMag',\n",
    "#  'yKronMagErr',\n",
    "#  'yinfoFlag',\n",
    "#  'yinfoFlag2',\n",
    "#  'yinfoFlag3',\n",
    "#  'ynFrames',\n",
    "#  'yxPos',\n",
    "#  'yyPos',\n",
    "#  'yxPosErr',\n",
    "#  'yyPosErr',\n",
    "#  'ypsfMajorFWHM',\n",
    "#  'ypsfMinorFWHM',\n",
    "#  'ypsfTheta',\n",
    "#  'ypsfCore',\n",
    "#  'ypsfLikelihood',\n",
    "#  'ypsfQf',\n",
    "#  'ypsfQfPerfect',\n",
    "#  'ypsfChiSq',\n",
    "  'ymomentXX',\n",
    "  'ymomentXY',\n",
    "  'ymomentYY',\n",
    "  'ymomentR1',\n",
    "  'ymomentRH',\n",
    "  'yPSFFlux',\n",
    "#   'yPSFFluxErr',\n",
    "  'yApFlux',\n",
    "#   'yApFluxErr',\n",
    "#   'yApFillFac',\n",
    "#  'yApRadius',\n",
    " 'yKronFlux',\n",
    "#  'yKronFluxErr',\n",
    " 'yKronRad',\n",
    "#  'yexpTime',\n",
    "  'yExtNSigma',\n",
    "#  'ysky',\n",
    "#  'yskyErr',\n",
    "#  'yzp',\n",
    "#  'yPlateScale',\n",
    "#  'distance',\n",
    "#  'SkyMapper_StarClass',\n",
    "#  'gelong',\n",
    "#  'g_a',\n",
    "#  'g_b',\n",
    "#  'g_pa',\n",
    "#  'relong',\n",
    "#  'r_a',\n",
    "#  'r_b',\n",
    "#  'r_pa',\n",
    "#  'ielong',\n",
    "#  'i_a',\n",
    "#  'i_b',\n",
    "#  'i_pa',\n",
    "#  'zelong',\n",
    "#  'z_a',\n",
    "#  'z_b',\n",
    "#  'z_pa',\n",
    "   'i-z', # try throwing in\n",
    "#    'g-r',\n",
    "#    'r-i',\n",
    "#    'g-i',\n",
    "#    'z-y',\n",
    "#   'g-rErr',\n",
    "#   'r-iErr',\n",
    "#   'i-zErr',\n",
    "#   'z-yErr',\n",
    " 'gApMag_gKronMag',\n",
    " 'rApMag_rKronMag',\n",
    " 'iApMag_iKronMag',\n",
    " 'zApMag_zKronMag',\n",
    " 'yApMag_yKronMag',\n",
    " '7DCD', \n",
    "#  'NED_name',\n",
    "#  'NED_type',\n",
    "#  'NED_vel',\n",
    "#  'NED_redshift',\n",
    "#  'NED_mag',\n",
    "#  'class',\n",
    "   'dist/DLR',\n",
    "#   'dist',\n",
    "#  'TransientClass',\n",
    "#  'TransientRA',\n",
    "#  'TransientDEC'\n",
    "   ]"
   ]
  },
  {
   "cell_type": "code",
   "execution_count": 5,
   "id": "039204c5",
   "metadata": {},
   "outputs": [
    {
     "data": {
      "text/html": [
       "<div>\n",
       "<style scoped>\n",
       "    .dataframe tbody tr th:only-of-type {\n",
       "        vertical-align: middle;\n",
       "    }\n",
       "\n",
       "    .dataframe tbody tr th {\n",
       "        vertical-align: top;\n",
       "    }\n",
       "\n",
       "    .dataframe thead th {\n",
       "        text-align: right;\n",
       "    }\n",
       "</style>\n",
       "<table border=\"1\" class=\"dataframe\">\n",
       "  <thead>\n",
       "    <tr style=\"text-align: right;\">\n",
       "      <th></th>\n",
       "      <th>gmomentXX</th>\n",
       "      <th>gmomentXY</th>\n",
       "      <th>gmomentYY</th>\n",
       "      <th>gmomentR1</th>\n",
       "      <th>gmomentRH</th>\n",
       "      <th>gPSFFlux</th>\n",
       "      <th>gApFlux</th>\n",
       "      <th>gKronFlux</th>\n",
       "      <th>gKronRad</th>\n",
       "      <th>gExtNSigma</th>\n",
       "      <th>...</th>\n",
       "      <th>yKronRad</th>\n",
       "      <th>yExtNSigma</th>\n",
       "      <th>i-z</th>\n",
       "      <th>gApMag_gKronMag</th>\n",
       "      <th>rApMag_rKronMag</th>\n",
       "      <th>iApMag_iKronMag</th>\n",
       "      <th>zApMag_zKronMag</th>\n",
       "      <th>yApMag_yKronMag</th>\n",
       "      <th>7DCD</th>\n",
       "      <th>dist/DLR</th>\n",
       "    </tr>\n",
       "    <tr>\n",
       "      <th>TransientName</th>\n",
       "      <th></th>\n",
       "      <th></th>\n",
       "      <th></th>\n",
       "      <th></th>\n",
       "      <th></th>\n",
       "      <th></th>\n",
       "      <th></th>\n",
       "      <th></th>\n",
       "      <th></th>\n",
       "      <th></th>\n",
       "      <th></th>\n",
       "      <th></th>\n",
       "      <th></th>\n",
       "      <th></th>\n",
       "      <th></th>\n",
       "      <th></th>\n",
       "      <th></th>\n",
       "      <th></th>\n",
       "      <th></th>\n",
       "      <th></th>\n",
       "      <th></th>\n",
       "    </tr>\n",
       "  </thead>\n",
       "  <tbody>\n",
       "    <tr>\n",
       "      <th>2019aaag</th>\n",
       "      <td>0.322234</td>\n",
       "      <td>0.003140</td>\n",
       "      <td>0.299576</td>\n",
       "      <td>1.616320</td>\n",
       "      <td>1.034360</td>\n",
       "      <td>0.000024</td>\n",
       "      <td>0.000042</td>\n",
       "      <td>0.000045</td>\n",
       "      <td>4.04080</td>\n",
       "      <td>12.911300</td>\n",
       "      <td>...</td>\n",
       "      <td>4.27831</td>\n",
       "      <td>13.846000</td>\n",
       "      <td>0.277901</td>\n",
       "      <td>0.080601</td>\n",
       "      <td>0.140699</td>\n",
       "      <td>0.269800</td>\n",
       "      <td>0.248400</td>\n",
       "      <td>0.201000</td>\n",
       "      <td>25.881954</td>\n",
       "      <td>0.042838</td>\n",
       "    </tr>\n",
       "    <tr>\n",
       "      <th>2019aaax</th>\n",
       "      <td>0.189772</td>\n",
       "      <td>-0.004596</td>\n",
       "      <td>0.198261</td>\n",
       "      <td>1.141030</td>\n",
       "      <td>0.849408</td>\n",
       "      <td>0.000030</td>\n",
       "      <td>0.000035</td>\n",
       "      <td>0.000033</td>\n",
       "      <td>2.85257</td>\n",
       "      <td>2.607320</td>\n",
       "      <td>...</td>\n",
       "      <td>2.78548</td>\n",
       "      <td>8.117690</td>\n",
       "      <td>0.336901</td>\n",
       "      <td>-0.051600</td>\n",
       "      <td>0.044199</td>\n",
       "      <td>0.081400</td>\n",
       "      <td>0.188400</td>\n",
       "      <td>-0.030800</td>\n",
       "      <td>45.987305</td>\n",
       "      <td>0.015769</td>\n",
       "    </tr>\n",
       "    <tr>\n",
       "      <th>2019aabv</th>\n",
       "      <td>0.283302</td>\n",
       "      <td>-0.002636</td>\n",
       "      <td>0.257574</td>\n",
       "      <td>1.130610</td>\n",
       "      <td>0.885985</td>\n",
       "      <td>0.000026</td>\n",
       "      <td>0.000028</td>\n",
       "      <td>0.000027</td>\n",
       "      <td>2.82652</td>\n",
       "      <td>2.351040</td>\n",
       "      <td>...</td>\n",
       "      <td>2.71481</td>\n",
       "      <td>3.608620</td>\n",
       "      <td>0.445200</td>\n",
       "      <td>-0.066900</td>\n",
       "      <td>-0.054901</td>\n",
       "      <td>-0.008900</td>\n",
       "      <td>-0.004499</td>\n",
       "      <td>-0.130301</td>\n",
       "      <td>70.602938</td>\n",
       "      <td>0.058378</td>\n",
       "    </tr>\n",
       "    <tr>\n",
       "      <th>2019aacg</th>\n",
       "      <td>0.193669</td>\n",
       "      <td>0.035234</td>\n",
       "      <td>0.161559</td>\n",
       "      <td>0.843921</td>\n",
       "      <td>0.666147</td>\n",
       "      <td>0.000005</td>\n",
       "      <td>0.000004</td>\n",
       "      <td>0.000004</td>\n",
       "      <td>2.10980</td>\n",
       "      <td>-1.447330</td>\n",
       "      <td>...</td>\n",
       "      <td>2.23357</td>\n",
       "      <td>2.534030</td>\n",
       "      <td>-0.267500</td>\n",
       "      <td>0.147301</td>\n",
       "      <td>-0.125401</td>\n",
       "      <td>-0.035101</td>\n",
       "      <td>-0.128801</td>\n",
       "      <td>-0.098099</td>\n",
       "      <td>42.370442</td>\n",
       "      <td>0.111747</td>\n",
       "    </tr>\n",
       "    <tr>\n",
       "      <th>2019aacp</th>\n",
       "      <td>0.327138</td>\n",
       "      <td>0.013750</td>\n",
       "      <td>0.297035</td>\n",
       "      <td>1.360040</td>\n",
       "      <td>0.904056</td>\n",
       "      <td>0.000010</td>\n",
       "      <td>0.000015</td>\n",
       "      <td>0.000015</td>\n",
       "      <td>3.40009</td>\n",
       "      <td>7.569170</td>\n",
       "      <td>...</td>\n",
       "      <td>2.95051</td>\n",
       "      <td>9.019760</td>\n",
       "      <td>0.431900</td>\n",
       "      <td>0.000399</td>\n",
       "      <td>0.025101</td>\n",
       "      <td>0.081900</td>\n",
       "      <td>0.022999</td>\n",
       "      <td>0.049299</td>\n",
       "      <td>9.815558</td>\n",
       "      <td>0.060816</td>\n",
       "    </tr>\n",
       "    <tr>\n",
       "      <th>...</th>\n",
       "      <td>...</td>\n",
       "      <td>...</td>\n",
       "      <td>...</td>\n",
       "      <td>...</td>\n",
       "      <td>...</td>\n",
       "      <td>...</td>\n",
       "      <td>...</td>\n",
       "      <td>...</td>\n",
       "      <td>...</td>\n",
       "      <td>...</td>\n",
       "      <td>...</td>\n",
       "      <td>...</td>\n",
       "      <td>...</td>\n",
       "      <td>...</td>\n",
       "      <td>...</td>\n",
       "      <td>...</td>\n",
       "      <td>...</td>\n",
       "      <td>...</td>\n",
       "      <td>...</td>\n",
       "      <td>...</td>\n",
       "      <td>...</td>\n",
       "    </tr>\n",
       "    <tr>\n",
       "      <th>2022cnt</th>\n",
       "      <td>0.326595</td>\n",
       "      <td>0.010935</td>\n",
       "      <td>0.345536</td>\n",
       "      <td>2.178740</td>\n",
       "      <td>1.169140</td>\n",
       "      <td>0.000067</td>\n",
       "      <td>0.000183</td>\n",
       "      <td>0.000242</td>\n",
       "      <td>5.44686</td>\n",
       "      <td>34.122898</td>\n",
       "      <td>...</td>\n",
       "      <td>4.98550</td>\n",
       "      <td>21.261999</td>\n",
       "      <td>0.067699</td>\n",
       "      <td>0.299900</td>\n",
       "      <td>0.225000</td>\n",
       "      <td>0.287399</td>\n",
       "      <td>0.394600</td>\n",
       "      <td>0.274000</td>\n",
       "      <td>23.342873</td>\n",
       "      <td>0.337622</td>\n",
       "    </tr>\n",
       "    <tr>\n",
       "      <th>2022cpj</th>\n",
       "      <td>0.249317</td>\n",
       "      <td>0.004646</td>\n",
       "      <td>0.267804</td>\n",
       "      <td>1.386830</td>\n",
       "      <td>0.984514</td>\n",
       "      <td>0.000037</td>\n",
       "      <td>0.000062</td>\n",
       "      <td>0.000061</td>\n",
       "      <td>3.46707</td>\n",
       "      <td>13.196400</td>\n",
       "      <td>...</td>\n",
       "      <td>3.01631</td>\n",
       "      <td>13.647900</td>\n",
       "      <td>0.105900</td>\n",
       "      <td>-0.007299</td>\n",
       "      <td>-0.013500</td>\n",
       "      <td>0.022099</td>\n",
       "      <td>0.037600</td>\n",
       "      <td>-0.051899</td>\n",
       "      <td>16.364097</td>\n",
       "      <td>0.063465</td>\n",
       "    </tr>\n",
       "    <tr>\n",
       "      <th>2022gy</th>\n",
       "      <td>0.382634</td>\n",
       "      <td>0.011327</td>\n",
       "      <td>0.331931</td>\n",
       "      <td>3.645380</td>\n",
       "      <td>1.195170</td>\n",
       "      <td>0.000055</td>\n",
       "      <td>0.000124</td>\n",
       "      <td>0.000284</td>\n",
       "      <td>9.11345</td>\n",
       "      <td>27.451300</td>\n",
       "      <td>...</td>\n",
       "      <td>7.61617</td>\n",
       "      <td>20.641300</td>\n",
       "      <td>0.190599</td>\n",
       "      <td>0.900299</td>\n",
       "      <td>0.815701</td>\n",
       "      <td>0.880999</td>\n",
       "      <td>0.775600</td>\n",
       "      <td>0.697001</td>\n",
       "      <td>28.305594</td>\n",
       "      <td>0.218665</td>\n",
       "    </tr>\n",
       "    <tr>\n",
       "      <th>2022jq</th>\n",
       "      <td>0.282136</td>\n",
       "      <td>0.015385</td>\n",
       "      <td>0.320016</td>\n",
       "      <td>1.901300</td>\n",
       "      <td>1.108720</td>\n",
       "      <td>0.000036</td>\n",
       "      <td>0.000089</td>\n",
       "      <td>0.000110</td>\n",
       "      <td>4.75325</td>\n",
       "      <td>22.964701</td>\n",
       "      <td>...</td>\n",
       "      <td>4.38128</td>\n",
       "      <td>18.240101</td>\n",
       "      <td>0.157000</td>\n",
       "      <td>0.238401</td>\n",
       "      <td>0.191101</td>\n",
       "      <td>0.235600</td>\n",
       "      <td>0.283699</td>\n",
       "      <td>0.195000</td>\n",
       "      <td>5.658350</td>\n",
       "      <td>0.343289</td>\n",
       "    </tr>\n",
       "    <tr>\n",
       "      <th>2022km</th>\n",
       "      <td>0.311987</td>\n",
       "      <td>-0.015288</td>\n",
       "      <td>0.244392</td>\n",
       "      <td>1.403950</td>\n",
       "      <td>1.060630</td>\n",
       "      <td>0.000012</td>\n",
       "      <td>0.000027</td>\n",
       "      <td>0.000026</td>\n",
       "      <td>3.50989</td>\n",
       "      <td>28.461700</td>\n",
       "      <td>...</td>\n",
       "      <td>3.07385</td>\n",
       "      <td>13.390600</td>\n",
       "      <td>0.103100</td>\n",
       "      <td>-0.047300</td>\n",
       "      <td>0.522799</td>\n",
       "      <td>0.132999</td>\n",
       "      <td>0.506100</td>\n",
       "      <td>0.220200</td>\n",
       "      <td>1.351092</td>\n",
       "      <td>0.354672</td>\n",
       "    </tr>\n",
       "  </tbody>\n",
       "</table>\n",
       "<p>1947 rows × 58 columns</p>\n",
       "</div>"
      ],
      "text/plain": [
       "               gmomentXX  gmomentXY  gmomentYY  gmomentR1  gmomentRH  \\\n",
       "TransientName                                                          \n",
       "2019aaag        0.322234   0.003140   0.299576   1.616320   1.034360   \n",
       "2019aaax        0.189772  -0.004596   0.198261   1.141030   0.849408   \n",
       "2019aabv        0.283302  -0.002636   0.257574   1.130610   0.885985   \n",
       "2019aacg        0.193669   0.035234   0.161559   0.843921   0.666147   \n",
       "2019aacp        0.327138   0.013750   0.297035   1.360040   0.904056   \n",
       "...                  ...        ...        ...        ...        ...   \n",
       "2022cnt         0.326595   0.010935   0.345536   2.178740   1.169140   \n",
       "2022cpj         0.249317   0.004646   0.267804   1.386830   0.984514   \n",
       "2022gy          0.382634   0.011327   0.331931   3.645380   1.195170   \n",
       "2022jq          0.282136   0.015385   0.320016   1.901300   1.108720   \n",
       "2022km          0.311987  -0.015288   0.244392   1.403950   1.060630   \n",
       "\n",
       "               gPSFFlux   gApFlux  gKronFlux  gKronRad  gExtNSigma  ...  \\\n",
       "TransientName                                                       ...   \n",
       "2019aaag       0.000024  0.000042   0.000045   4.04080   12.911300  ...   \n",
       "2019aaax       0.000030  0.000035   0.000033   2.85257    2.607320  ...   \n",
       "2019aabv       0.000026  0.000028   0.000027   2.82652    2.351040  ...   \n",
       "2019aacg       0.000005  0.000004   0.000004   2.10980   -1.447330  ...   \n",
       "2019aacp       0.000010  0.000015   0.000015   3.40009    7.569170  ...   \n",
       "...                 ...       ...        ...       ...         ...  ...   \n",
       "2022cnt        0.000067  0.000183   0.000242   5.44686   34.122898  ...   \n",
       "2022cpj        0.000037  0.000062   0.000061   3.46707   13.196400  ...   \n",
       "2022gy         0.000055  0.000124   0.000284   9.11345   27.451300  ...   \n",
       "2022jq         0.000036  0.000089   0.000110   4.75325   22.964701  ...   \n",
       "2022km         0.000012  0.000027   0.000026   3.50989   28.461700  ...   \n",
       "\n",
       "               yKronRad  yExtNSigma       i-z  gApMag_gKronMag  \\\n",
       "TransientName                                                    \n",
       "2019aaag        4.27831   13.846000  0.277901         0.080601   \n",
       "2019aaax        2.78548    8.117690  0.336901        -0.051600   \n",
       "2019aabv        2.71481    3.608620  0.445200        -0.066900   \n",
       "2019aacg        2.23357    2.534030 -0.267500         0.147301   \n",
       "2019aacp        2.95051    9.019760  0.431900         0.000399   \n",
       "...                 ...         ...       ...              ...   \n",
       "2022cnt         4.98550   21.261999  0.067699         0.299900   \n",
       "2022cpj         3.01631   13.647900  0.105900        -0.007299   \n",
       "2022gy          7.61617   20.641300  0.190599         0.900299   \n",
       "2022jq          4.38128   18.240101  0.157000         0.238401   \n",
       "2022km          3.07385   13.390600  0.103100        -0.047300   \n",
       "\n",
       "               rApMag_rKronMag  iApMag_iKronMag  zApMag_zKronMag  \\\n",
       "TransientName                                                      \n",
       "2019aaag              0.140699         0.269800         0.248400   \n",
       "2019aaax              0.044199         0.081400         0.188400   \n",
       "2019aabv             -0.054901        -0.008900        -0.004499   \n",
       "2019aacg             -0.125401        -0.035101        -0.128801   \n",
       "2019aacp              0.025101         0.081900         0.022999   \n",
       "...                        ...              ...              ...   \n",
       "2022cnt               0.225000         0.287399         0.394600   \n",
       "2022cpj              -0.013500         0.022099         0.037600   \n",
       "2022gy                0.815701         0.880999         0.775600   \n",
       "2022jq                0.191101         0.235600         0.283699   \n",
       "2022km                0.522799         0.132999         0.506100   \n",
       "\n",
       "               yApMag_yKronMag       7DCD  dist/DLR  \n",
       "TransientName                                        \n",
       "2019aaag              0.201000  25.881954  0.042838  \n",
       "2019aaax             -0.030800  45.987305  0.015769  \n",
       "2019aabv             -0.130301  70.602938  0.058378  \n",
       "2019aacg             -0.098099  42.370442  0.111747  \n",
       "2019aacp              0.049299   9.815558  0.060816  \n",
       "...                        ...        ...       ...  \n",
       "2022cnt               0.274000  23.342873  0.337622  \n",
       "2022cpj              -0.051899  16.364097  0.063465  \n",
       "2022gy                0.697001  28.305594  0.218665  \n",
       "2022jq                0.195000   5.658350  0.343289  \n",
       "2022km                0.220200   1.351092  0.354672  \n",
       "\n",
       "[1947 rows x 58 columns]"
      ]
     },
     "execution_count": 5,
     "metadata": {},
     "output_type": "execute_result"
    }
   ],
   "source": [
    "# only keep features of bank\n",
    "host_dataset_bank = ps1_hosts_df[feature_names_hostgal]\n",
    "        \n",
    "# drop row if any feature values are nan\n",
    "host_dataset_bank = host_dataset_bank[~host_dataset_bank[feature_names_hostgal].isnull().any(axis=1)]\n",
    "\n",
    "#mask = (dataset_bank['num_mag_values'] >= 40) #& (dataset_bank['num_mag_values'] <= 40)\n",
    "#dataset_bank = dataset_bank[mask]\n",
    "host_dataset_bank"
   ]
  },
  {
   "cell_type": "code",
   "execution_count": 6,
   "id": "2e9b86be",
   "metadata": {},
   "outputs": [
    {
     "data": {
      "text/plain": [
       "['gmomentXX',\n",
       " 'gmomentXY',\n",
       " 'gmomentYY',\n",
       " 'gmomentR1',\n",
       " 'gmomentRH',\n",
       " 'gPSFFlux',\n",
       " 'gApFlux',\n",
       " 'gKronFlux',\n",
       " 'gKronRad',\n",
       " 'gExtNSigma',\n",
       " 'rmomentXX',\n",
       " 'rmomentXY',\n",
       " 'rmomentYY',\n",
       " 'rmomentR1',\n",
       " 'rmomentRH',\n",
       " 'rPSFFlux',\n",
       " 'rApFlux',\n",
       " 'rKronFlux',\n",
       " 'rKronRad',\n",
       " 'rExtNSigma',\n",
       " 'imomentXX',\n",
       " 'imomentXY',\n",
       " 'imomentYY',\n",
       " 'imomentR1',\n",
       " 'imomentRH',\n",
       " 'iPSFFlux',\n",
       " 'iApFlux',\n",
       " 'iKronFlux',\n",
       " 'iKronRad',\n",
       " 'iExtNSigma',\n",
       " 'zmomentXX',\n",
       " 'zmomentXY',\n",
       " 'zmomentYY',\n",
       " 'zmomentR1',\n",
       " 'zmomentRH',\n",
       " 'zPSFFlux',\n",
       " 'zApFlux',\n",
       " 'zKronFlux',\n",
       " 'zKronRad',\n",
       " 'zExtNSigma',\n",
       " 'ymomentXX',\n",
       " 'ymomentXY',\n",
       " 'ymomentYY',\n",
       " 'ymomentR1',\n",
       " 'ymomentRH',\n",
       " 'yPSFFlux',\n",
       " 'yApFlux',\n",
       " 'yKronFlux',\n",
       " 'yKronRad',\n",
       " 'yExtNSigma',\n",
       " 'i-z',\n",
       " 'gApMag_gKronMag',\n",
       " 'rApMag_rKronMag',\n",
       " 'iApMag_iKronMag',\n",
       " 'zApMag_zKronMag',\n",
       " 'yApMag_yKronMag',\n",
       " '7DCD',\n",
       " 'dist/DLR']"
      ]
     },
     "execution_count": 6,
     "metadata": {},
     "output_type": "execute_result"
    }
   ],
   "source": [
    "host_dataset_bank.columns.to_list()"
   ]
  },
  {
   "cell_type": "code",
   "execution_count": 7,
   "id": "9126a59c",
   "metadata": {},
   "outputs": [],
   "source": [
    "# https://github.com/uiucsn/laiss/blob/main/LAISS/notebooks/LAISS_tests.ipynb\n",
    "idx_arr = np.hstack(np.array(host_dataset_bank.index, dtype='object'))\n",
    "feat_arr = np.vstack(np.array(host_dataset_bank, dtype='object'))\n",
    "\n",
    "scaler = preprocessing.StandardScaler() # Create a scalar\n",
    "#scaler = preprocessing.MinMaxScaler() # Create a scalar\n",
    "scaler.fit(feat_arr) # Fit only to training data\n",
    "feat_arr_scaled = scaler.transform(feat_arr) # What your model learns on\n",
    "\n",
    "# Build ANNOY index of scaled features of dataset_bank\n",
    "index = AnnoyIndex(feat_arr_scaled, idx_arr, metric='euclidean')\n",
    "index.build()\n"
   ]
  },
  {
   "cell_type": "code",
   "execution_count": 8,
   "id": "b7665a8b",
   "metadata": {},
   "outputs": [
    {
     "data": {
      "text/html": [
       "<div>\n",
       "<style scoped>\n",
       "    .dataframe tbody tr th:only-of-type {\n",
       "        vertical-align: middle;\n",
       "    }\n",
       "\n",
       "    .dataframe tbody tr th {\n",
       "        vertical-align: top;\n",
       "    }\n",
       "\n",
       "    .dataframe thead th {\n",
       "        text-align: right;\n",
       "    }\n",
       "</style>\n",
       "<table border=\"1\" class=\"dataframe\">\n",
       "  <thead>\n",
       "    <tr style=\"text-align: right;\">\n",
       "      <th></th>\n",
       "      <th>gmomentXX</th>\n",
       "      <th>gmomentXY</th>\n",
       "      <th>gmomentYY</th>\n",
       "      <th>gmomentR1</th>\n",
       "      <th>gmomentRH</th>\n",
       "      <th>gPSFFlux</th>\n",
       "      <th>gApFlux</th>\n",
       "      <th>gKronFlux</th>\n",
       "      <th>gKronRad</th>\n",
       "      <th>gExtNSigma</th>\n",
       "      <th>...</th>\n",
       "      <th>yKronRad</th>\n",
       "      <th>yExtNSigma</th>\n",
       "      <th>i-z</th>\n",
       "      <th>gApMag_gKronMag</th>\n",
       "      <th>rApMag_rKronMag</th>\n",
       "      <th>iApMag_iKronMag</th>\n",
       "      <th>zApMag_zKronMag</th>\n",
       "      <th>yApMag_yKronMag</th>\n",
       "      <th>7DCD</th>\n",
       "      <th>dist/DLR</th>\n",
       "    </tr>\n",
       "    <tr>\n",
       "      <th>TransientName</th>\n",
       "      <th></th>\n",
       "      <th></th>\n",
       "      <th></th>\n",
       "      <th></th>\n",
       "      <th></th>\n",
       "      <th></th>\n",
       "      <th></th>\n",
       "      <th></th>\n",
       "      <th></th>\n",
       "      <th></th>\n",
       "      <th></th>\n",
       "      <th></th>\n",
       "      <th></th>\n",
       "      <th></th>\n",
       "      <th></th>\n",
       "      <th></th>\n",
       "      <th></th>\n",
       "      <th></th>\n",
       "      <th></th>\n",
       "      <th></th>\n",
       "      <th></th>\n",
       "    </tr>\n",
       "  </thead>\n",
       "  <tbody>\n",
       "    <tr>\n",
       "      <th>2020nvb</th>\n",
       "      <td>0.465099</td>\n",
       "      <td>-0.018149</td>\n",
       "      <td>0.440623</td>\n",
       "      <td>7.60057</td>\n",
       "      <td>1.27996</td>\n",
       "      <td>0.007361</td>\n",
       "      <td>0.018106</td>\n",
       "      <td>0.052791</td>\n",
       "      <td>19.0014</td>\n",
       "      <td>22.6656</td>\n",
       "      <td>...</td>\n",
       "      <td>26.6637</td>\n",
       "      <td>31.365499</td>\n",
       "      <td>0.2549</td>\n",
       "      <td>1.161799</td>\n",
       "      <td>1.4029</td>\n",
       "      <td>1.7577</td>\n",
       "      <td>1.784699</td>\n",
       "      <td>1.7463</td>\n",
       "      <td>831.67671</td>\n",
       "      <td>0.586238</td>\n",
       "    </tr>\n",
       "  </tbody>\n",
       "</table>\n",
       "<p>1 rows × 58 columns</p>\n",
       "</div>"
      ],
      "text/plain": [
       "               gmomentXX  gmomentXY  gmomentYY  gmomentR1  gmomentRH  \\\n",
       "TransientName                                                          \n",
       "2020nvb         0.465099  -0.018149   0.440623    7.60057    1.27996   \n",
       "\n",
       "               gPSFFlux   gApFlux  gKronFlux  gKronRad  gExtNSigma  ...  \\\n",
       "TransientName                                                       ...   \n",
       "2020nvb        0.007361  0.018106   0.052791   19.0014     22.6656  ...   \n",
       "\n",
       "               yKronRad  yExtNSigma     i-z  gApMag_gKronMag  rApMag_rKronMag  \\\n",
       "TransientName                                                                   \n",
       "2020nvb         26.6637   31.365499  0.2549         1.161799           1.4029   \n",
       "\n",
       "               iApMag_iKronMag  zApMag_zKronMag  yApMag_yKronMag       7DCD  \\\n",
       "TransientName                                                                 \n",
       "2020nvb                 1.7577         1.784699           1.7463  831.67671   \n",
       "\n",
       "               dist/DLR  \n",
       "TransientName            \n",
       "2020nvb        0.586238  \n",
       "\n",
       "[1 rows x 58 columns]"
      ]
     },
     "execution_count": 8,
     "metadata": {},
     "output_type": "execute_result"
    }
   ],
   "source": [
    "# Reference\n",
    "\n",
    "#dataset_ref = host_dataset_bank[host_dataset_bank.index == '2019pmd'] # SN Ia, in spiral (medium size), matches all Ia in z=0.02 to z=0.06. Most spiral\n",
    "#dataset_ref = host_dataset_bank[host_dataset_bank.index == '2021qxr'] # SN Ia, bright elliptical\n",
    "#dataset_ref = host_dataset_bank[host_dataset_bank.index == '2021smj'] # SN Ia, bright spiral\n",
    "#dataset_ref = host_dataset_bank[host_dataset_bank.index == '2021dbg'] # SN II, bright spiral\n",
    "#dataset_ref = host_dataset_bank[host_dataset_bank.index == '2021qht'] # no spec class, bright spiral, edge on\n",
    "#dataset_ref = host_dataset_bank[host_dataset_bank.index == '2021sev'] # SN II, smudgy top down gal (good matches)\n",
    "#dataset_ref = host_dataset_bank[host_dataset_bank.index == '2021xbg'] # SN Ibc, spiral on edge pointing down (first match is good, rest not as much)\n",
    "#dataset_ref = host_dataset_bank[host_dataset_bank.index == '2021aadc'] # SLSN-II, small smudgy host (good matches)\n",
    "\n",
    "dataset_ref = host_dataset_bank[host_dataset_bank.index == '2020nvb'] # SN Ia, in bright spiral, near core ish, z=0.002939\n",
    "\n",
    "dataset_ref "
   ]
  },
  {
   "cell_type": "code",
   "execution_count": 9,
   "id": "20c9d365",
   "metadata": {},
   "outputs": [],
   "source": [
    "#dataset_ref.columns.to_list()"
   ]
  },
  {
   "cell_type": "code",
   "execution_count": 10,
   "id": "0c97284d",
   "metadata": {
    "scrolled": false
   },
   "outputs": [
    {
     "name": "stdout",
     "output_type": "stream",
     "text": [
      "ZTF ID name (ref) 2020nvb\n"
     ]
    },
    {
     "data": {
      "text/markdown": [
       "https://ziggy.ucolick.org/yse/transient_detail/2020nvb"
      ]
     },
     "metadata": {},
     "output_type": "display_data"
    },
    {
     "name": "stdout",
     "output_type": "stream",
     "text": [
      "None\n",
      "%%%%%%\n",
      "ANN\t\tIDX\t\t\t\tZTF_id\t\t\t\tDIST\n"
     ]
    },
    {
     "data": {
      "text/markdown": [
       "https://ziggy.ucolick.org/yse/transient_detail/2020nvb"
      ]
     },
     "metadata": {},
     "output_type": "display_data"
    },
    {
     "name": "stdout",
     "output_type": "stream",
     "text": [
      "0\t\t603\t\t\t\tNone\t\t\t0.0\n"
     ]
    },
    {
     "data": {
      "text/markdown": [
       "https://ziggy.ucolick.org/yse/transient_detail/2020mza"
      ]
     },
     "metadata": {},
     "output_type": "display_data"
    },
    {
     "name": "stdout",
     "output_type": "stream",
     "text": [
      "1\t\t565\t\t\t\tNone\t\t\t114.0616\n"
     ]
    },
    {
     "data": {
      "text/markdown": [
       "https://ziggy.ucolick.org/yse/transient_detail/2021pkz"
      ]
     },
     "metadata": {},
     "output_type": "display_data"
    },
    {
     "name": "stdout",
     "output_type": "stream",
     "text": [
      "2\t\t1627\t\t\t\tNone\t\t\t126.6436\n"
     ]
    },
    {
     "data": {
      "text/markdown": [
       "https://ziggy.ucolick.org/yse/transient_detail/2020abim"
      ]
     },
     "metadata": {},
     "output_type": "display_data"
    },
    {
     "name": "stdout",
     "output_type": "stream",
     "text": [
      "3\t\t93\t\t\t\tNone\t\t\t127.7518\n"
     ]
    },
    {
     "data": {
      "text/markdown": [
       "https://ziggy.ucolick.org/yse/transient_detail/2021bbz"
      ]
     },
     "metadata": {},
     "output_type": "display_data"
    },
    {
     "name": "stdout",
     "output_type": "stream",
     "text": [
      "4\t\t1259\t\t\t\tNone\t\t\t128.2801\n"
     ]
    },
    {
     "data": {
      "text/markdown": [
       "https://ziggy.ucolick.org/yse/transient_detail/2020ghq"
      ]
     },
     "metadata": {},
     "output_type": "display_data"
    },
    {
     "name": "stdout",
     "output_type": "stream",
     "text": [
      "5\t\t317\t\t\t\tNone\t\t\t129.7536\n"
     ]
    },
    {
     "data": {
      "text/markdown": [
       "https://ziggy.ucolick.org/yse/transient_detail/2020dxa"
      ]
     },
     "metadata": {},
     "output_type": "display_data"
    },
    {
     "name": "stdout",
     "output_type": "stream",
     "text": [
      "6\t\t278\t\t\t\tNone\t\t\t130.8306\n"
     ]
    },
    {
     "data": {
      "text/markdown": [
       "https://ziggy.ucolick.org/yse/transient_detail/2020nrg"
      ]
     },
     "metadata": {},
     "output_type": "display_data"
    },
    {
     "name": "stdout",
     "output_type": "stream",
     "text": [
      "7\t\t595\t\t\t\tNone\t\t\t131.0658\n"
     ]
    },
    {
     "data": {
      "text/markdown": [
       "https://ziggy.ucolick.org/yse/transient_detail/2020ulf"
      ]
     },
     "metadata": {},
     "output_type": "display_data"
    },
    {
     "name": "stdout",
     "output_type": "stream",
     "text": [
      "8\t\t862\t\t\t\tNone\t\t\t131.2581\n"
     ]
    },
    {
     "data": {
      "text/markdown": [
       "https://ziggy.ucolick.org/yse/transient_detail/2021lxb"
      ]
     },
     "metadata": {},
     "output_type": "display_data"
    },
    {
     "name": "stdout",
     "output_type": "stream",
     "text": [
      "9\t\t1537\t\t\t\tNone\t\t\t132.4831\n"
     ]
    }
   ],
   "source": [
    "feat_arr_ref = np.vstack(np.array(dataset_ref, dtype='object'))\n",
    "\n",
    "#scaler.fit(feat_arr_ref) # Fit only to training data\n",
    "scaled_feat_arr_ref = scaler.transform(feat_arr_ref) #scaler.transform(feat_arr) # What your model learns on\n",
    "\n",
    "snid = dataset_ref.index.values[0]\n",
    "lcdata = {'name': snid, 'vector': scaled_feat_arr_ref[0]}\n",
    "#lcdata = {'name': ztf_id, 'vector': feat_arr_scaled[-5:-4][0]}\n",
    "\n",
    "#result_id, result_dist = index.index.get_nns_by_item(, n=10, include_distances=True)\n",
    "result_id, result_dist = index.index.get_nns_by_vector(lcdata['vector'], n=10, include_distances=True)\n",
    "#result_name = index.query(lcdata['vector'])\n",
    "\n",
    "print(f\"ZTF ID name (ref) {snid}\") \n",
    "link_ref = display_markdown(f'https://ziggy.ucolick.org/yse/transient_detail/{snid}', raw=True)\n",
    "print(link_ref)\n",
    "print(\"%%%%%%\")\n",
    "print(\"ANN\\t\\tIDX\\t\\t\\t\\tZTF_id\\t\\t\\t\\tDIST\")#\\tFEAT\")\n",
    "for n, (i, d) in enumerate(zip(result_id, result_dist)):#, feat_arr):\n",
    "    print(f\"{n}\\t\\t{i}\\t\\t\\t\\t{display_markdown(f'https://ziggy.ucolick.org/yse/transient_detail/{idx_arr[i]}', raw=True)}\\t\\t\\t{round(d, 4)}\")#\\t{f}\")"
   ]
  },
  {
   "cell_type": "markdown",
   "id": "9debd1b5",
   "metadata": {},
   "source": [
    "# TODO: do ANN for all matches, find the 1st ANN with largest d from its reference."
   ]
  },
  {
   "cell_type": "code",
   "execution_count": 11,
   "id": "bbe66f1c",
   "metadata": {},
   "outputs": [
    {
     "data": {
      "text/html": [
       "<div>\n",
       "<style scoped>\n",
       "    .dataframe tbody tr th:only-of-type {\n",
       "        vertical-align: middle;\n",
       "    }\n",
       "\n",
       "    .dataframe tbody tr th {\n",
       "        vertical-align: top;\n",
       "    }\n",
       "\n",
       "    .dataframe thead th {\n",
       "        text-align: right;\n",
       "    }\n",
       "</style>\n",
       "<table border=\"1\" class=\"dataframe\">\n",
       "  <thead>\n",
       "    <tr style=\"text-align: right;\">\n",
       "      <th></th>\n",
       "      <th>ann=0</th>\n",
       "      <th>ann=1</th>\n",
       "      <th>ann=2</th>\n",
       "      <th>ann=3</th>\n",
       "      <th>ann=4</th>\n",
       "      <th>ann=5</th>\n",
       "      <th>ann=6</th>\n",
       "      <th>ann=7</th>\n",
       "      <th>ann=8</th>\n",
       "      <th>ann=9</th>\n",
       "      <th>dist=0</th>\n",
       "      <th>dist=1</th>\n",
       "      <th>dist=2</th>\n",
       "      <th>dist=3</th>\n",
       "      <th>dist=4</th>\n",
       "      <th>dist=5</th>\n",
       "      <th>dist=6</th>\n",
       "      <th>dist=7</th>\n",
       "      <th>dist=8</th>\n",
       "      <th>dist=9</th>\n",
       "    </tr>\n",
       "    <tr>\n",
       "      <th>key_0</th>\n",
       "      <th></th>\n",
       "      <th></th>\n",
       "      <th></th>\n",
       "      <th></th>\n",
       "      <th></th>\n",
       "      <th></th>\n",
       "      <th></th>\n",
       "      <th></th>\n",
       "      <th></th>\n",
       "      <th></th>\n",
       "      <th></th>\n",
       "      <th></th>\n",
       "      <th></th>\n",
       "      <th></th>\n",
       "      <th></th>\n",
       "      <th></th>\n",
       "      <th></th>\n",
       "      <th></th>\n",
       "      <th></th>\n",
       "      <th></th>\n",
       "    </tr>\n",
       "  </thead>\n",
       "  <tbody>\n",
       "    <tr>\n",
       "      <th>2019aaag</th>\n",
       "      <td>0</td>\n",
       "      <td>257</td>\n",
       "      <td>1617</td>\n",
       "      <td>289</td>\n",
       "      <td>1184</td>\n",
       "      <td>894</td>\n",
       "      <td>292</td>\n",
       "      <td>471</td>\n",
       "      <td>258</td>\n",
       "      <td>1167</td>\n",
       "      <td>0.0</td>\n",
       "      <td>1.623055</td>\n",
       "      <td>2.018886</td>\n",
       "      <td>2.275835</td>\n",
       "      <td>2.347722</td>\n",
       "      <td>2.498713</td>\n",
       "      <td>2.659881</td>\n",
       "      <td>2.675755</td>\n",
       "      <td>2.682098</td>\n",
       "      <td>2.703773</td>\n",
       "    </tr>\n",
       "    <tr>\n",
       "      <th>2019aaax</th>\n",
       "      <td>1</td>\n",
       "      <td>1241</td>\n",
       "      <td>50</td>\n",
       "      <td>1717</td>\n",
       "      <td>1483</td>\n",
       "      <td>616</td>\n",
       "      <td>1658</td>\n",
       "      <td>49</td>\n",
       "      <td>1263</td>\n",
       "      <td>2</td>\n",
       "      <td>0.0</td>\n",
       "      <td>1.935321</td>\n",
       "      <td>2.137677</td>\n",
       "      <td>2.189499</td>\n",
       "      <td>2.263004</td>\n",
       "      <td>2.274283</td>\n",
       "      <td>2.356216</td>\n",
       "      <td>2.470910</td>\n",
       "      <td>2.481375</td>\n",
       "      <td>2.500894</td>\n",
       "    </tr>\n",
       "    <tr>\n",
       "      <th>2019aabv</th>\n",
       "      <td>2</td>\n",
       "      <td>962</td>\n",
       "      <td>676</td>\n",
       "      <td>49</td>\n",
       "      <td>4</td>\n",
       "      <td>828</td>\n",
       "      <td>1</td>\n",
       "      <td>1717</td>\n",
       "      <td>744</td>\n",
       "      <td>1231</td>\n",
       "      <td>0.0</td>\n",
       "      <td>2.020136</td>\n",
       "      <td>2.267684</td>\n",
       "      <td>2.308610</td>\n",
       "      <td>2.323211</td>\n",
       "      <td>2.384822</td>\n",
       "      <td>2.500894</td>\n",
       "      <td>2.500916</td>\n",
       "      <td>2.520159</td>\n",
       "      <td>2.528947</td>\n",
       "    </tr>\n",
       "    <tr>\n",
       "      <th>2019aacg</th>\n",
       "      <td>3</td>\n",
       "      <td>153</td>\n",
       "      <td>444</td>\n",
       "      <td>1787</td>\n",
       "      <td>67</td>\n",
       "      <td>739</td>\n",
       "      <td>1421</td>\n",
       "      <td>1821</td>\n",
       "      <td>1732</td>\n",
       "      <td>1190</td>\n",
       "      <td>0.0</td>\n",
       "      <td>4.106795</td>\n",
       "      <td>4.165354</td>\n",
       "      <td>4.287402</td>\n",
       "      <td>4.297078</td>\n",
       "      <td>4.299583</td>\n",
       "      <td>4.378145</td>\n",
       "      <td>4.410028</td>\n",
       "      <td>4.423481</td>\n",
       "      <td>4.491932</td>\n",
       "    </tr>\n",
       "    <tr>\n",
       "      <th>2019aacp</th>\n",
       "      <td>4</td>\n",
       "      <td>828</td>\n",
       "      <td>937</td>\n",
       "      <td>2</td>\n",
       "      <td>901</td>\n",
       "      <td>49</td>\n",
       "      <td>988</td>\n",
       "      <td>1231</td>\n",
       "      <td>50</td>\n",
       "      <td>1156</td>\n",
       "      <td>0.0</td>\n",
       "      <td>2.299376</td>\n",
       "      <td>2.318427</td>\n",
       "      <td>2.323211</td>\n",
       "      <td>2.373232</td>\n",
       "      <td>2.374547</td>\n",
       "      <td>2.379968</td>\n",
       "      <td>2.381772</td>\n",
       "      <td>2.415555</td>\n",
       "      <td>2.488260</td>\n",
       "    </tr>\n",
       "    <tr>\n",
       "      <th>...</th>\n",
       "      <td>...</td>\n",
       "      <td>...</td>\n",
       "      <td>...</td>\n",
       "      <td>...</td>\n",
       "      <td>...</td>\n",
       "      <td>...</td>\n",
       "      <td>...</td>\n",
       "      <td>...</td>\n",
       "      <td>...</td>\n",
       "      <td>...</td>\n",
       "      <td>...</td>\n",
       "      <td>...</td>\n",
       "      <td>...</td>\n",
       "      <td>...</td>\n",
       "      <td>...</td>\n",
       "      <td>...</td>\n",
       "      <td>...</td>\n",
       "      <td>...</td>\n",
       "      <td>...</td>\n",
       "      <td>...</td>\n",
       "    </tr>\n",
       "    <tr>\n",
       "      <th>2022cnt</th>\n",
       "      <td>1942</td>\n",
       "      <td>1945</td>\n",
       "      <td>1510</td>\n",
       "      <td>538</td>\n",
       "      <td>41</td>\n",
       "      <td>47</td>\n",
       "      <td>1381</td>\n",
       "      <td>171</td>\n",
       "      <td>159</td>\n",
       "      <td>1547</td>\n",
       "      <td>0.0</td>\n",
       "      <td>2.549641</td>\n",
       "      <td>2.619030</td>\n",
       "      <td>2.644939</td>\n",
       "      <td>2.738010</td>\n",
       "      <td>2.903155</td>\n",
       "      <td>2.906580</td>\n",
       "      <td>2.944473</td>\n",
       "      <td>2.982031</td>\n",
       "      <td>3.048135</td>\n",
       "    </tr>\n",
       "    <tr>\n",
       "      <th>2022cpj</th>\n",
       "      <td>1943</td>\n",
       "      <td>442</td>\n",
       "      <td>405</td>\n",
       "      <td>833</td>\n",
       "      <td>411</td>\n",
       "      <td>1057</td>\n",
       "      <td>392</td>\n",
       "      <td>367</td>\n",
       "      <td>1131</td>\n",
       "      <td>1594</td>\n",
       "      <td>0.0</td>\n",
       "      <td>1.626839</td>\n",
       "      <td>1.724802</td>\n",
       "      <td>1.931214</td>\n",
       "      <td>1.988296</td>\n",
       "      <td>2.080904</td>\n",
       "      <td>2.089209</td>\n",
       "      <td>2.098497</td>\n",
       "      <td>2.114715</td>\n",
       "      <td>2.125731</td>\n",
       "    </tr>\n",
       "    <tr>\n",
       "      <th>2022gy</th>\n",
       "      <td>1944</td>\n",
       "      <td>1304</td>\n",
       "      <td>1608</td>\n",
       "      <td>228</td>\n",
       "      <td>963</td>\n",
       "      <td>1901</td>\n",
       "      <td>171</td>\n",
       "      <td>1670</td>\n",
       "      <td>1628</td>\n",
       "      <td>1726</td>\n",
       "      <td>0.0</td>\n",
       "      <td>3.253908</td>\n",
       "      <td>3.302190</td>\n",
       "      <td>3.309568</td>\n",
       "      <td>3.343692</td>\n",
       "      <td>3.369853</td>\n",
       "      <td>3.399214</td>\n",
       "      <td>3.589022</td>\n",
       "      <td>3.647241</td>\n",
       "      <td>3.665174</td>\n",
       "    </tr>\n",
       "    <tr>\n",
       "      <th>2022jq</th>\n",
       "      <td>1945</td>\n",
       "      <td>538</td>\n",
       "      <td>1942</td>\n",
       "      <td>1657</td>\n",
       "      <td>1238</td>\n",
       "      <td>328</td>\n",
       "      <td>1429</td>\n",
       "      <td>159</td>\n",
       "      <td>226</td>\n",
       "      <td>47</td>\n",
       "      <td>0.0</td>\n",
       "      <td>2.283894</td>\n",
       "      <td>2.549641</td>\n",
       "      <td>2.566258</td>\n",
       "      <td>2.641453</td>\n",
       "      <td>2.721081</td>\n",
       "      <td>2.801918</td>\n",
       "      <td>2.833030</td>\n",
       "      <td>2.936724</td>\n",
       "      <td>3.111696</td>\n",
       "    </tr>\n",
       "    <tr>\n",
       "      <th>2022km</th>\n",
       "      <td>1946</td>\n",
       "      <td>216</td>\n",
       "      <td>1857</td>\n",
       "      <td>295</td>\n",
       "      <td>212</td>\n",
       "      <td>54</td>\n",
       "      <td>1859</td>\n",
       "      <td>1197</td>\n",
       "      <td>320</td>\n",
       "      <td>1578</td>\n",
       "      <td>0.0</td>\n",
       "      <td>3.188969</td>\n",
       "      <td>3.297822</td>\n",
       "      <td>3.342872</td>\n",
       "      <td>3.415597</td>\n",
       "      <td>3.475400</td>\n",
       "      <td>3.489146</td>\n",
       "      <td>3.539758</td>\n",
       "      <td>3.552721</td>\n",
       "      <td>3.558470</td>\n",
       "    </tr>\n",
       "  </tbody>\n",
       "</table>\n",
       "<p>1947 rows × 20 columns</p>\n",
       "</div>"
      ],
      "text/plain": [
       "          ann=0  ann=1  ann=2  ann=3  ann=4  ann=5  ann=6  ann=7  ann=8  \\\n",
       "key_0                                                                     \n",
       "2019aaag      0    257   1617    289   1184    894    292    471    258   \n",
       "2019aaax      1   1241     50   1717   1483    616   1658     49   1263   \n",
       "2019aabv      2    962    676     49      4    828      1   1717    744   \n",
       "2019aacg      3    153    444   1787     67    739   1421   1821   1732   \n",
       "2019aacp      4    828    937      2    901     49    988   1231     50   \n",
       "...         ...    ...    ...    ...    ...    ...    ...    ...    ...   \n",
       "2022cnt    1942   1945   1510    538     41     47   1381    171    159   \n",
       "2022cpj    1943    442    405    833    411   1057    392    367   1131   \n",
       "2022gy     1944   1304   1608    228    963   1901    171   1670   1628   \n",
       "2022jq     1945    538   1942   1657   1238    328   1429    159    226   \n",
       "2022km     1946    216   1857    295    212     54   1859   1197    320   \n",
       "\n",
       "          ann=9  dist=0    dist=1    dist=2    dist=3    dist=4    dist=5  \\\n",
       "key_0                                                                       \n",
       "2019aaag   1167     0.0  1.623055  2.018886  2.275835  2.347722  2.498713   \n",
       "2019aaax      2     0.0  1.935321  2.137677  2.189499  2.263004  2.274283   \n",
       "2019aabv   1231     0.0  2.020136  2.267684  2.308610  2.323211  2.384822   \n",
       "2019aacg   1190     0.0  4.106795  4.165354  4.287402  4.297078  4.299583   \n",
       "2019aacp   1156     0.0  2.299376  2.318427  2.323211  2.373232  2.374547   \n",
       "...         ...     ...       ...       ...       ...       ...       ...   \n",
       "2022cnt    1547     0.0  2.549641  2.619030  2.644939  2.738010  2.903155   \n",
       "2022cpj    1594     0.0  1.626839  1.724802  1.931214  1.988296  2.080904   \n",
       "2022gy     1726     0.0  3.253908  3.302190  3.309568  3.343692  3.369853   \n",
       "2022jq       47     0.0  2.283894  2.549641  2.566258  2.641453  2.721081   \n",
       "2022km     1578     0.0  3.188969  3.297822  3.342872  3.415597  3.475400   \n",
       "\n",
       "            dist=6    dist=7    dist=8    dist=9  \n",
       "key_0                                             \n",
       "2019aaag  2.659881  2.675755  2.682098  2.703773  \n",
       "2019aaax  2.356216  2.470910  2.481375  2.500894  \n",
       "2019aabv  2.500894  2.500916  2.520159  2.528947  \n",
       "2019aacg  4.378145  4.410028  4.423481  4.491932  \n",
       "2019aacp  2.379968  2.381772  2.415555  2.488260  \n",
       "...            ...       ...       ...       ...  \n",
       "2022cnt   2.906580  2.944473  2.982031  3.048135  \n",
       "2022cpj   2.089209  2.098497  2.114715  2.125731  \n",
       "2022gy    3.399214  3.589022  3.647241  3.665174  \n",
       "2022jq    2.801918  2.833030  2.936724  3.111696  \n",
       "2022km    3.489146  3.539758  3.552721  3.558470  \n",
       "\n",
       "[1947 rows x 20 columns]"
      ]
     },
     "execution_count": 11,
     "metadata": {},
     "output_type": "execute_result"
    }
   ],
   "source": [
    "ref_name_l, id_l, dist_l = [], [], []\n",
    "for ref in list(host_dataset_bank.index):\n",
    "    dataset_ref = host_dataset_bank[host_dataset_bank.index == ref] \n",
    "    feat_arr_ref = np.vstack(np.array(dataset_ref, dtype='object'))\n",
    "\n",
    "    #scaler.fit(feat_arr_ref) # Fit only to training data\n",
    "    scaled_feat_arr_ref = scaler.transform(feat_arr_ref) #scaler.transform(feat_arr) # What your model learns on\n",
    "\n",
    "    snid = dataset_ref.index.values[0]\n",
    "    lcdata = {'name': snid, 'vector': scaled_feat_arr_ref[0]}\n",
    "    #lcdata = {'name': ztf_id, 'vector': feat_arr_scaled[-5:-4][0]}\n",
    "\n",
    "    #result_id, result_dist = index.index.get_nns_by_item(, n=10, include_distances=True)\n",
    "    result_id, result_dist = index.index.get_nns_by_vector(lcdata['vector'], n=10, include_distances=True)\n",
    "    \n",
    "    ref_name_l.append(snid), id_l.append(result_id), dist_l.append(result_dist)\n",
    "    \n",
    "temp_df = pd.DataFrame(zip(ref_name_l, id_l, dist_l), columns=['Reference', 'ids', 'dists'])\n",
    "temp_df = temp_df.set_index('Reference')\n",
    "ann_split_df = temp_df.merge(pd.DataFrame(temp_df['ids'].values.tolist()).add_prefix('ann='), on=temp_df.index)\n",
    "ann_split_df = ann_split_df.set_index('key_0')\n",
    "ann_dist_all_df = ann_split_df.merge(pd.DataFrame(ann_split_df['dists'].values.tolist()).add_prefix('dist='), on=ann_split_df.index)\n",
    "ann_dist_all_df = ann_dist_all_df.drop(columns=['ids', 'dists'])\n",
    "ann_dist_all_df = ann_dist_all_df.set_index('key_0')\n",
    "ann_dist_all_df"
   ]
  },
  {
   "cell_type": "code",
   "execution_count": 12,
   "id": "aa94169f",
   "metadata": {},
   "outputs": [
    {
     "name": "stdout",
     "output_type": "stream",
     "text": [
      "summary stats\n",
      "Scatter mean: 2.9190279502224543\n",
      "Scatter median: 2.656944990158081\n",
      "Scatter std: 2.8230442537951506\n",
      "Scatter max: 114.06158447265625\n",
      "Scatter min: 0.0\n",
      "\n",
      "\n",
      "Most anomalous (max distance of ref to ANN=1): 2020nvb\n"
     ]
    }
   ],
   "source": [
    "print(\"summary stats\")\n",
    "print(\"Scatter mean:\", np.mean(ann_dist_all_df['dist=1']))\n",
    "print(\"Scatter median:\", np.median(ann_dist_all_df['dist=1']))\n",
    "print(\"Scatter std:\", np.std(ann_dist_all_df['dist=1']))\n",
    "print(\"Scatter max:\", np.max(ann_dist_all_df['dist=1']))\n",
    "print(\"Scatter min:\", np.min(ann_dist_all_df['dist=1']))\n",
    "print(\"\\n\")\n",
    "\n",
    "\n",
    "# Returns index of max distance\n",
    "print(\"Most anomalous (max distance of ref to ANN=1):\", ann_dist_all_df[['dist=1']].idxmax().values[0])"
   ]
  },
  {
   "cell_type": "code",
   "execution_count": 13,
   "id": "74840880",
   "metadata": {},
   "outputs": [
    {
     "name": "stdout",
     "output_type": "stream",
     "text": [
      "Dist=1: 114.06158447265625\n"
     ]
    }
   ],
   "source": [
    "ref_obj = '2020nvb'\n",
    "print(\"Dist=1:\", ann_dist_all_df.loc[ref_obj]['dist=1']) # Kron, Ap, and PSF fluxes are too high"
   ]
  },
  {
   "cell_type": "code",
   "execution_count": 14,
   "id": "1da8b96b",
   "metadata": {},
   "outputs": [
    {
     "data": {
      "text/html": [
       "<div>\n",
       "<style scoped>\n",
       "    .dataframe tbody tr th:only-of-type {\n",
       "        vertical-align: middle;\n",
       "    }\n",
       "\n",
       "    .dataframe tbody tr th {\n",
       "        vertical-align: top;\n",
       "    }\n",
       "\n",
       "    .dataframe thead th {\n",
       "        text-align: right;\n",
       "    }\n",
       "</style>\n",
       "<table border=\"1\" class=\"dataframe\">\n",
       "  <thead>\n",
       "    <tr style=\"text-align: right;\">\n",
       "      <th></th>\n",
       "      <th>gmomentXX</th>\n",
       "      <th>gmomentXY</th>\n",
       "      <th>gmomentYY</th>\n",
       "      <th>gmomentR1</th>\n",
       "      <th>gmomentRH</th>\n",
       "      <th>gPSFFlux</th>\n",
       "      <th>gApFlux</th>\n",
       "      <th>gKronFlux</th>\n",
       "      <th>gKronRad</th>\n",
       "      <th>gExtNSigma</th>\n",
       "      <th>...</th>\n",
       "      <th>yKronRad</th>\n",
       "      <th>yExtNSigma</th>\n",
       "      <th>i-z</th>\n",
       "      <th>gApMag_gKronMag</th>\n",
       "      <th>rApMag_rKronMag</th>\n",
       "      <th>iApMag_iKronMag</th>\n",
       "      <th>zApMag_zKronMag</th>\n",
       "      <th>yApMag_yKronMag</th>\n",
       "      <th>7DCD</th>\n",
       "      <th>dist/DLR</th>\n",
       "    </tr>\n",
       "    <tr>\n",
       "      <th>TransientName</th>\n",
       "      <th></th>\n",
       "      <th></th>\n",
       "      <th></th>\n",
       "      <th></th>\n",
       "      <th></th>\n",
       "      <th></th>\n",
       "      <th></th>\n",
       "      <th></th>\n",
       "      <th></th>\n",
       "      <th></th>\n",
       "      <th></th>\n",
       "      <th></th>\n",
       "      <th></th>\n",
       "      <th></th>\n",
       "      <th></th>\n",
       "      <th></th>\n",
       "      <th></th>\n",
       "      <th></th>\n",
       "      <th></th>\n",
       "      <th></th>\n",
       "      <th></th>\n",
       "    </tr>\n",
       "  </thead>\n",
       "  <tbody>\n",
       "    <tr>\n",
       "      <th>2020nvb</th>\n",
       "      <td>0.465099</td>\n",
       "      <td>-0.018149</td>\n",
       "      <td>0.440623</td>\n",
       "      <td>7.60057</td>\n",
       "      <td>1.27996</td>\n",
       "      <td>0.007361</td>\n",
       "      <td>0.018106</td>\n",
       "      <td>0.052791</td>\n",
       "      <td>19.0014</td>\n",
       "      <td>22.6656</td>\n",
       "      <td>...</td>\n",
       "      <td>26.6637</td>\n",
       "      <td>31.365499</td>\n",
       "      <td>0.2549</td>\n",
       "      <td>1.161799</td>\n",
       "      <td>1.4029</td>\n",
       "      <td>1.7577</td>\n",
       "      <td>1.784699</td>\n",
       "      <td>1.7463</td>\n",
       "      <td>831.67671</td>\n",
       "      <td>0.586238</td>\n",
       "    </tr>\n",
       "  </tbody>\n",
       "</table>\n",
       "<p>1 rows × 58 columns</p>\n",
       "</div>"
      ],
      "text/plain": [
       "               gmomentXX  gmomentXY  gmomentYY  gmomentR1  gmomentRH  \\\n",
       "TransientName                                                          \n",
       "2020nvb         0.465099  -0.018149   0.440623    7.60057    1.27996   \n",
       "\n",
       "               gPSFFlux   gApFlux  gKronFlux  gKronRad  gExtNSigma  ...  \\\n",
       "TransientName                                                       ...   \n",
       "2020nvb        0.007361  0.018106   0.052791   19.0014     22.6656  ...   \n",
       "\n",
       "               yKronRad  yExtNSigma     i-z  gApMag_gKronMag  rApMag_rKronMag  \\\n",
       "TransientName                                                                   \n",
       "2020nvb         26.6637   31.365499  0.2549         1.161799           1.4029   \n",
       "\n",
       "               iApMag_iKronMag  zApMag_zKronMag  yApMag_yKronMag       7DCD  \\\n",
       "TransientName                                                                 \n",
       "2020nvb                 1.7577         1.784699           1.7463  831.67671   \n",
       "\n",
       "               dist/DLR  \n",
       "TransientName            \n",
       "2020nvb        0.586238  \n",
       "\n",
       "[1 rows x 58 columns]"
      ]
     },
     "execution_count": 14,
     "metadata": {},
     "output_type": "execute_result"
    }
   ],
   "source": [
    "host_dataset_bank[host_dataset_bank.index == ref_obj]"
   ]
  },
  {
   "cell_type": "code",
   "execution_count": 15,
   "id": "e8d0b556",
   "metadata": {},
   "outputs": [
    {
     "data": {
      "image/png": "[encoded data removed]",
      "text/plain": [
       "<Figure size 432x288 with 1 Axes>"
      ]
     },
     "metadata": {
      "needs_background": "light"
     },
     "output_type": "display_data"
    },
    {
     "data": {
      "image/png": "[encoded data removed]",
      "text/plain": [
       "<Figure size 432x288 with 1 Axes>"
      ]
     },
     "metadata": {
      "needs_background": "light"
     },
     "output_type": "display_data"
    },
    {
     "data": {
      "image/png": "[encoded data removed]",
      "text/plain": [
       "<Figure size 432x288 with 1 Axes>"
      ]
     },
     "metadata": {
      "needs_background": "light"
     },
     "output_type": "display_data"
    },
    {
     "data": {
      "image/png": "[encoded data removed]",
      "text/plain": [
       "<Figure size 432x288 with 1 Axes>"
      ]
     },
     "metadata": {
      "needs_background": "light"
     },
     "output_type": "display_data"
    },
    {
     "data": {
      "image/png": "[encoded data removed]",
      "text/plain": [
       "<Figure size 432x288 with 1 Axes>"
      ]
     },
     "metadata": {
      "needs_background": "light"
     },
     "output_type": "display_data"
    },
    {
     "data": {
      "image/png": "[encoded data removed]",
      "text/plain": [
       "<Figure size 432x288 with 1 Axes>"
      ]
     },
     "metadata": {
      "needs_background": "light"
     },
     "output_type": "display_data"
    },
    {
     "data": {
      "image/png": "[encoded data removed]",
      "text/plain": [
       "<Figure size 432x288 with 1 Axes>"
      ]
     },
     "metadata": {
      "needs_background": "light"
     },
     "output_type": "display_data"
    },
    {
     "data": {
      "image/png": "[encoded data removed]",
      "text/plain": [
       "<Figure size 432x288 with 1 Axes>"
      ]
     },
     "metadata": {
      "needs_background": "light"
     },
     "output_type": "display_data"
    },
    {
     "data": {
      "image/png": "[encoded data removed]",
      "text/plain": [
       "<Figure size 432x288 with 1 Axes>"
      ]
     },
     "metadata": {
      "needs_background": "light"
     },
     "output_type": "display_data"
    },
    {
     "data": {
      "image/png": "[encoded data removed]",
      "text/plain": [
       "<Figure size 432x288 with 1 Axes>"
      ]
     },
     "metadata": {
      "needs_background": "light"
     },
     "output_type": "display_data"
    },
    {
     "data": {
      "image/png": "[encoded data removed]",
      "text/plain": [
       "<Figure size 432x288 with 1 Axes>"
      ]
     },
     "metadata": {
      "needs_background": "light"
     },
     "output_type": "display_data"
    },
    {
     "data": {
      "image/png": "[encoded data removed]",
      "text/plain": [
       "<Figure size 432x288 with 1 Axes>"
      ]
     },
     "metadata": {
      "needs_background": "light"
     },
     "output_type": "display_data"
    },
    {
     "data": {
      "image/png": "[encoded data removed]",
      "text/plain": [
       "<Figure size 432x288 with 1 Axes>"
      ]
     },
     "metadata": {
      "needs_background": "light"
     },
     "output_type": "display_data"
    },
    {
     "data": {
      "image/png": "[encoded data removed]",
      "text/plain": [
       "<Figure size 432x288 with 1 Axes>"
      ]
     },
     "metadata": {
      "needs_background": "light"
     },
     "output_type": "display_data"
    },
    {
     "data": {
      "image/png": "[encoded data removed]",
      "text/plain": [
       "<Figure size 432x288 with 1 Axes>"
      ]
     },
     "metadata": {
      "needs_background": "light"
     },
     "output_type": "display_data"
    },
    {
     "data": {
      "image/png": "[encoded data removed]",
      "text/plain": [
       "<Figure size 432x288 with 1 Axes>"
      ]
     },
     "metadata": {
      "needs_background": "light"
     },
     "output_type": "display_data"
    },
    {
     "data": {
      "image/png": "[encoded data removed]",
      "text/plain": [
       "<Figure size 432x288 with 1 Axes>"
      ]
     },
     "metadata": {
      "needs_background": "light"
     },
     "output_type": "display_data"
    },
    {
     "data": {
      "image/png": "[encoded data removed]",
      "text/plain": [
       "<Figure size 432x288 with 1 Axes>"
      ]
     },
     "metadata": {
      "needs_background": "light"
     },
     "output_type": "display_data"
    },
    {
     "data": {
      "image/png": "[encoded data removed]",
      "text/plain": [
       "<Figure size 432x288 with 1 Axes>"
      ]
     },
     "metadata": {
      "needs_background": "light"
     },
     "output_type": "display_data"
    },
    {
     "data": {
      "image/png": "[encoded data removed]",
      "text/plain": [
       "<Figure size 432x288 with 1 Axes>"
      ]
     },
     "metadata": {
      "needs_background": "light"
     },
     "output_type": "display_data"
    },
    {
     "data": {
      "image/png": "[encoded data removed]",
      "text/plain": [
       "<Figure size 432x288 with 1 Axes>"
      ]
     },
     "metadata": {
      "needs_background": "light"
     },
     "output_type": "display_data"
    },
    {
     "data": {
      "image/png": "[encoded data removed]",
      "text/plain": [
       "<Figure size 432x288 with 1 Axes>"
      ]
     },
     "metadata": {
      "needs_background": "light"
     },
     "output_type": "display_data"
    },
    {
     "data": {
      "image/png": "[encoded data removed]",
      "text/plain": [
       "<Figure size 432x288 with 1 Axes>"
      ]
     },
     "metadata": {
      "needs_background": "light"
     },
     "output_type": "display_data"
    },
    {
     "data": {
      "image/png": "[encoded data removed]",
      "text/plain": [
       "<Figure size 432x288 with 1 Axes>"
      ]
     },
     "metadata": {
      "needs_background": "light"
     },
     "output_type": "display_data"
    },
    {
     "data": {
      "image/png": "[encoded data removed]",
      "text/plain": [
       "<Figure size 432x288 with 1 Axes>"
      ]
     },
     "metadata": {
      "needs_background": "light"
     },
     "output_type": "display_data"
    },
    {
     "data": {
      "image/png": "[encoded data removed]",
      "text/plain": [
       "<Figure size 432x288 with 1 Axes>"
      ]
     },
     "metadata": {
      "needs_background": "light"
     },
     "output_type": "display_data"
    },
    {
     "data": {
      "image/png": "[encoded data removed]",
      "text/plain": [
       "<Figure size 432x288 with 1 Axes>"
      ]
     },
     "metadata": {
      "needs_background": "light"
     },
     "output_type": "display_data"
    },
    {
     "data": {
      "image/png": "[encoded data removed]",
      "text/plain": [
       "<Figure size 432x288 with 1 Axes>"
      ]
     },
     "metadata": {
      "needs_background": "light"
     },
     "output_type": "display_data"
    },
    {
     "data": {
      "image/png": "[encoded data removed]",
      "text/plain": [
       "<Figure size 432x288 with 1 Axes>"
      ]
     },
     "metadata": {
      "needs_background": "light"
     },
     "output_type": "display_data"
    },
    {
     "data": {
      "image/png": "[encoded data removed]",
      "text/plain": [
       "<Figure size 432x288 with 1 Axes>"
      ]
     },
     "metadata": {
      "needs_background": "light"
     },
     "output_type": "display_data"
    },
    {
     "data": {
      "image/png": "[encoded data removed]",
      "text/plain": [
       "<Figure size 432x288 with 1 Axes>"
      ]
     },
     "metadata": {
      "needs_background": "light"
     },
     "output_type": "display_data"
    },
    {
     "data": {
      "image/png": "[encoded data removed]",
      "text/plain": [
       "<Figure size 432x288 with 1 Axes>"
      ]
     },
     "metadata": {
      "needs_background": "light"
     },
     "output_type": "display_data"
    },
    {
     "data": {
      "image/png": "[encoded data removed]",
      "text/plain": [
       "<Figure size 432x288 with 1 Axes>"
      ]
     },
     "metadata": {
      "needs_background": "light"
     },
     "output_type": "display_data"
    },
    {
     "data": {
      "image/png": "[encoded data removed]",
      "text/plain": [
       "<Figure size 432x288 with 1 Axes>"
      ]
     },
     "metadata": {
      "needs_background": "light"
     },
     "output_type": "display_data"
    },
    {
     "data": {
      "image/png": "[encoded data removed]",
      "text/plain": [
       "<Figure size 432x288 with 1 Axes>"
      ]
     },
     "metadata": {
      "needs_background": "light"
     },
     "output_type": "display_data"
    },
    {
     "data": {
      "image/png": "[encoded data removed]",
      "text/plain": [
       "<Figure size 432x288 with 1 Axes>"
      ]
     },
     "metadata": {
      "needs_background": "light"
     },
     "output_type": "display_data"
    },
    {
     "data": {
      "image/png": "[encoded data removed]",
      "text/plain": [
       "<Figure size 432x288 with 1 Axes>"
      ]
     },
     "metadata": {
      "needs_background": "light"
     },
     "output_type": "display_data"
    },
    {
     "data": {
      "image/png": "[encoded data removed]",
      "text/plain": [
       "<Figure size 432x288 with 1 Axes>"
      ]
     },
     "metadata": {
      "needs_background": "light"
     },
     "output_type": "display_data"
    },
    {
     "data": {
      "image/png": "[encoded data removed]",
      "text/plain": [
       "<Figure size 432x288 with 1 Axes>"
      ]
     },
     "metadata": {
      "needs_background": "light"
     },
     "output_type": "display_data"
    },
    {
     "data": {
      "image/png": "[encoded data removed]",
      "text/plain": [
       "<Figure size 432x288 with 1 Axes>"
      ]
     },
     "metadata": {
      "needs_background": "light"
     },
     "output_type": "display_data"
    },
    {
     "data": {
      "image/png": "[encoded data removed]",
      "text/plain": [
       "<Figure size 432x288 with 1 Axes>"
      ]
     },
     "metadata": {
      "needs_background": "light"
     },
     "output_type": "display_data"
    },
    {
     "data": {
      "image/png": "[encoded data removed]",
      "text/plain": [
       "<Figure size 432x288 with 1 Axes>"
      ]
     },
     "metadata": {
      "needs_background": "light"
     },
     "output_type": "display_data"
    },
    {
     "data": {
      "image/png": "[encoded data removed]",
      "text/plain": [
       "<Figure size 432x288 with 1 Axes>"
      ]
     },
     "metadata": {
      "needs_background": "light"
     },
     "output_type": "display_data"
    },
    {
     "data": {
      "image/png": "[encoded data removed]",
      "text/plain": [
       "<Figure size 432x288 with 1 Axes>"
      ]
     },
     "metadata": {
      "needs_background": "light"
     },
     "output_type": "display_data"
    },
    {
     "data": {
      "image/png": "[encoded data removed]",
      "text/plain": [
       "<Figure size 432x288 with 1 Axes>"
      ]
     },
     "metadata": {
      "needs_background": "light"
     },
     "output_type": "display_data"
    },
    {
     "data": {
      "image/png": "[encoded data removed]",
      "text/plain": [
       "<Figure size 432x288 with 1 Axes>"
      ]
     },
     "metadata": {
      "needs_background": "light"
     },
     "output_type": "display_data"
    },
    {
     "data": {
      "image/png": "[encoded data removed]",
      "text/plain": [
       "<Figure size 432x288 with 1 Axes>"
      ]
     },
     "metadata": {
      "needs_background": "light"
     },
     "output_type": "display_data"
    },
    {
     "data": {
      "image/png": "[encoded data removed]",
      "text/plain": [
       "<Figure size 432x288 with 1 Axes>"
      ]
     },
     "metadata": {
      "needs_background": "light"
     },
     "output_type": "display_data"
    },
    {
     "data": {
      "image/png": "[encoded data removed]",
      "text/plain": [
       "<Figure size 432x288 with 1 Axes>"
      ]
     },
     "metadata": {
      "needs_background": "light"
     },
     "output_type": "display_data"
    },
    {
     "data": {
      "image/png": "[encoded data removed]",
      "text/plain": [
       "<Figure size 432x288 with 1 Axes>"
      ]
     },
     "metadata": {
      "needs_background": "light"
     },
     "output_type": "display_data"
    },
    {
     "data": {
      "image/png": "[encoded data removed]",
      "text/plain": [
       "<Figure size 432x288 with 1 Axes>"
      ]
     },
     "metadata": {
      "needs_background": "light"
     },
     "output_type": "display_data"
    },
    {
     "data": {
      "image/png": "[encoded data removed]",
      "text/plain": [
       "<Figure size 432x288 with 1 Axes>"
      ]
     },
     "metadata": {
      "needs_background": "light"
     },
     "output_type": "display_data"
    },
    {
     "data": {
      "image/png": "[encoded data removed]",
      "text/plain": [
       "<Figure size 432x288 with 1 Axes>"
      ]
     },
     "metadata": {
      "needs_background": "light"
     },
     "output_type": "display_data"
    },
    {
     "data": {
      "image/png": "[encoded data removed]",
      "text/plain": [
       "<Figure size 432x288 with 1 Axes>"
      ]
     },
     "metadata": {
      "needs_background": "light"
     },
     "output_type": "display_data"
    },
    {
     "data": {
      "image/png": "[encoded data removed]",
      "text/plain": [
       "<Figure size 432x288 with 1 Axes>"
      ]
     },
     "metadata": {
      "needs_background": "light"
     },
     "output_type": "display_data"
    },
    {
     "data": {
      "image/png": "[encoded data removed]",
      "text/plain": [
       "<Figure size 432x288 with 1 Axes>"
      ]
     },
     "metadata": {
      "needs_background": "light"
     },
     "output_type": "display_data"
    },
    {
     "data": {
      "image/png": "[encoded data removed]",
      "text/plain": [
       "<Figure size 432x288 with 1 Axes>"
      ]
     },
     "metadata": {
      "needs_background": "light"
     },
     "output_type": "display_data"
    },
    {
     "data": {
      "image/png": "[encoded data removed]",
      "text/plain": [
       "<Figure size 432x288 with 1 Axes>"
      ]
     },
     "metadata": {
      "needs_background": "light"
     },
     "output_type": "display_data"
    }
   ],
   "source": [
    "feat_scatter_l = []\n",
    "for feat in host_dataset_bank.columns:\n",
    "    fig, ax = plt.subplots()\n",
    "    min_feat, max_feat = np.min(host_dataset_bank[feat]), np.max(host_dataset_bank[feat])\n",
    "    \n",
    "    ax.hist(host_dataset_bank[feat], bins=np.linspace(min_feat, max_feat, 100))\n",
    "    \n",
    "    ref = host_dataset_bank[host_dataset_bank.index == ref_obj]\n",
    "    \n",
    "    ax.axvline(ref[feat].values[0], color='m', label=ref_obj)\n",
    "    ax.set_title(feat)\n",
    "    ax.set_xlim(min_feat, max_feat)\n",
    "    \n",
    "    plt.legend()\n",
    "    plt.show()\n",
    "    \n",
    "    feat_scatter = np.std(host_dataset_bank[feat])\n",
    "    feat_scatter_l.append(feat_scatter)   "
   ]
  },
  {
   "cell_type": "code",
   "execution_count": 16,
   "id": "af67a544",
   "metadata": {},
   "outputs": [
    {
     "data": {
      "text/plain": [
       "key_0\n",
       "2020nvb    114.061584\n",
       "2021kni     27.051531\n",
       "2021ukf     17.728050\n",
       "2020mza     16.747040\n",
       "2020bcq     15.331490\n",
       "Name: dist=1, dtype: float64"
      ]
     },
     "execution_count": 16,
     "metadata": {},
     "output_type": "execute_result"
    }
   ],
   "source": [
    "# Five largest ANN=1 distances\n",
    "ann_dist_all_df['dist=1'].nlargest(5)"
   ]
  },
  {
   "cell_type": "code",
   "execution_count": 17,
   "id": "e1849a83",
   "metadata": {},
   "outputs": [
    {
     "name": "stdout",
     "output_type": "stream",
     "text": [
      "ZTF ID name (ref) 2021kni\n"
     ]
    },
    {
     "data": {
      "text/markdown": [
       "https://ziggy.ucolick.org/yse/transient_detail/2021kni"
      ]
     },
     "metadata": {},
     "output_type": "display_data"
    },
    {
     "name": "stdout",
     "output_type": "stream",
     "text": [
      "None\n",
      "%%%%%%\n",
      "ANN\t\tIDX\t\t\t\tZTF_id\t\t\t\tDIST\n"
     ]
    },
    {
     "data": {
      "text/markdown": [
       "https://ziggy.ucolick.org/yse/transient_detail/2021kni"
      ]
     },
     "metadata": {},
     "output_type": "display_data"
    },
    {
     "name": "stdout",
     "output_type": "stream",
     "text": [
      "0\t\t1489\t\t\t\tNone\t\t\t0.0\n"
     ]
    },
    {
     "data": {
      "text/markdown": [
       "https://ziggy.ucolick.org/yse/transient_detail/2021ukf"
      ]
     },
     "metadata": {},
     "output_type": "display_data"
    },
    {
     "name": "stdout",
     "output_type": "stream",
     "text": [
      "1\t\t1788\t\t\t\tNone\t\t\t27.0515\n"
     ]
    },
    {
     "data": {
      "text/markdown": [
       "https://ziggy.ucolick.org/yse/transient_detail/2021qzi"
      ]
     },
     "metadata": {},
     "output_type": "display_data"
    },
    {
     "name": "stdout",
     "output_type": "stream",
     "text": [
      "2\t\t1692\t\t\t\tNone\t\t\t32.7691\n"
     ]
    },
    {
     "data": {
      "text/markdown": [
       "https://ziggy.ucolick.org/yse/transient_detail/2020aeqm"
      ]
     },
     "metadata": {},
     "output_type": "display_data"
    },
    {
     "name": "stdout",
     "output_type": "stream",
     "text": [
      "3\t\t209\t\t\t\tNone\t\t\t33.2193\n"
     ]
    },
    {
     "data": {
      "text/markdown": [
       "https://ziggy.ucolick.org/yse/transient_detail/2021sve"
      ]
     },
     "metadata": {},
     "output_type": "display_data"
    },
    {
     "name": "stdout",
     "output_type": "stream",
     "text": [
      "4\t\t1756\t\t\t\tNone\t\t\t33.7023\n"
     ]
    },
    {
     "data": {
      "text/markdown": [
       "https://ziggy.ucolick.org/yse/transient_detail/2021gyh"
      ]
     },
     "metadata": {},
     "output_type": "display_data"
    },
    {
     "name": "stdout",
     "output_type": "stream",
     "text": [
      "5\t\t1387\t\t\t\tNone\t\t\t34.0573\n"
     ]
    },
    {
     "data": {
      "text/markdown": [
       "https://ziggy.ucolick.org/yse/transient_detail/2020onu"
      ]
     },
     "metadata": {},
     "output_type": "display_data"
    },
    {
     "name": "stdout",
     "output_type": "stream",
     "text": [
      "6\t\t626\t\t\t\tNone\t\t\t34.0686\n"
     ]
    },
    {
     "data": {
      "text/markdown": [
       "https://ziggy.ucolick.org/yse/transient_detail/2020igy"
      ]
     },
     "metadata": {},
     "output_type": "display_data"
    },
    {
     "name": "stdout",
     "output_type": "stream",
     "text": [
      "7\t\t353\t\t\t\tNone\t\t\t34.2438\n"
     ]
    },
    {
     "data": {
      "text/markdown": [
       "https://ziggy.ucolick.org/yse/transient_detail/2021sje"
      ]
     },
     "metadata": {},
     "output_type": "display_data"
    },
    {
     "name": "stdout",
     "output_type": "stream",
     "text": [
      "8\t\t1736\t\t\t\tNone\t\t\t34.3779\n"
     ]
    },
    {
     "data": {
      "text/markdown": [
       "https://ziggy.ucolick.org/yse/transient_detail/2020azh"
      ]
     },
     "metadata": {},
     "output_type": "display_data"
    },
    {
     "name": "stdout",
     "output_type": "stream",
     "text": [
      "9\t\t246\t\t\t\tNone\t\t\t34.479\n"
     ]
    }
   ],
   "source": [
    "dataset_ref = host_dataset_bank[host_dataset_bank.index == '2021kni']\n",
    "feat_arr_ref = np.vstack(np.array(dataset_ref, dtype='object'))\n",
    "\n",
    "#scaler.fit(feat_arr_ref) # Fit only to training data\n",
    "scaled_feat_arr_ref = scaler.transform(feat_arr_ref) #scaler.transform(feat_arr) # What your model learns on\n",
    "\n",
    "snid = dataset_ref.index.values[0]\n",
    "lcdata = {'name': snid, 'vector': scaled_feat_arr_ref[0]}\n",
    "#lcdata = {'name': ztf_id, 'vector': feat_arr_scaled[-5:-4][0]}\n",
    "\n",
    "#result_id, result_dist = index.index.get_nns_by_item(, n=10, include_distances=True)\n",
    "result_id, result_dist = index.index.get_nns_by_vector(lcdata['vector'], n=10, include_distances=True)\n",
    "#result_name = index.query(lcdata['vector'])\n",
    "\n",
    "print(f\"ZTF ID name (ref) {snid}\") \n",
    "link_ref = display_markdown(f'https://ziggy.ucolick.org/yse/transient_detail/{snid}', raw=True)\n",
    "print(link_ref)\n",
    "print(\"%%%%%%\")\n",
    "print(\"ANN\\t\\tIDX\\t\\t\\t\\tZTF_id\\t\\t\\t\\tDIST\")#\\tFEAT\")\n",
    "for n, (i, d) in enumerate(zip(result_id, result_dist)):#, feat_arr):\n",
    "    print(f\"{n}\\t\\t{i}\\t\\t\\t\\t{display_markdown(f'https://ziggy.ucolick.org/yse/transient_detail/{idx_arr[i]}', raw=True)}\\t\\t\\t{round(d, 4)}\")#\\t{f}\")"
   ]
  },
  {
   "cell_type": "markdown",
   "id": "03849195",
   "metadata": {},
   "source": [
    "# YSE DR1 lc features and host info"
   ]
  },
  {
   "cell_type": "code",
   "execution_count": 18,
   "id": "fb7b00e4",
   "metadata": {},
   "outputs": [],
   "source": [
    "class AnnoyIndex():\n",
    "    def __init__(self, vectors, labels, metric):\n",
    "        self.dimension = vectors.shape[1]\n",
    "        self.vectors = vectors.astype('float32')\n",
    "        self.labels = labels    \n",
    "        self.metric= metric\n",
    "   \n",
    "    def build(self, number_of_trees=100):\n",
    "        self.index = annoy.AnnoyIndex(self.dimension, self.metric)\n",
    "        for i, vec in enumerate(self.vectors):\n",
    "            self.index.add_item(i, vec.tolist())\n",
    "        self.index.build(number_of_trees)\n",
    "        \n",
    "    def query(self, vector, k=1000):\n",
    "        indices = self.index.get_nns_by_vector(\n",
    "              vector.tolist(), \n",
    "              k, \n",
    "              search_k=-1)                                           \n",
    "        return [self.labels[i] for i in indices]"
   ]
  },
  {
   "cell_type": "code",
   "execution_count": 19,
   "id": "b7c35559",
   "metadata": {},
   "outputs": [],
   "source": [
    "archive = np.load(\"../features/yse_dr1_zenodo.npz\")\n",
    "ids = archive[\"ids\"]  # object names\n",
    "features = archive[\"features\"]  # 2d array, objects x features \n",
    "# Convert to record arrays with feature names:\n",
    "with open(\"../features/names.txt\") as fh:\n",
    "    names = fh.read().split()\n",
    "features = np.rec.array(features, names=names, formats=[\"f\"] * len(names)).squeeze()"
   ]
  },
  {
   "cell_type": "code",
   "execution_count": 20,
   "id": "1720e77e",
   "metadata": {},
   "outputs": [
    {
     "data": {
      "text/html": [
       "<div>\n",
       "<style scoped>\n",
       "    .dataframe tbody tr th:only-of-type {\n",
       "        vertical-align: middle;\n",
       "    }\n",
       "\n",
       "    .dataframe tbody tr th {\n",
       "        vertical-align: top;\n",
       "    }\n",
       "\n",
       "    .dataframe thead th {\n",
       "        text-align: right;\n",
       "    }\n",
       "</style>\n",
       "<table border=\"1\" class=\"dataframe\">\n",
       "  <thead>\n",
       "    <tr style=\"text-align: right;\">\n",
       "      <th></th>\n",
       "      <th>mag_anderson_darling_normal_g</th>\n",
       "      <th>mag_bins_window1.0_offset0.0_beyond_1_std_g</th>\n",
       "      <th>mag_bins_window1.0_offset0.0_beyond_2_std_g</th>\n",
       "      <th>mag_bins_window1.0_offset0.0_eta_e_g</th>\n",
       "      <th>mag_bins_window1.0_offset0.0_kurtosis_g</th>\n",
       "      <th>mag_bins_window1.0_offset0.0_linear_trend_g</th>\n",
       "      <th>mag_bins_window1.0_offset0.0_linear_trend_sigma_g</th>\n",
       "      <th>mag_bins_window1.0_offset0.0_linear_trend_noise_g</th>\n",
       "      <th>mag_bins_window1.0_offset0.0_maximum_slope_g</th>\n",
       "      <th>mag_bins_window1.0_offset0.0_minimum_time_interval_g</th>\n",
       "      <th>...</th>\n",
       "      <th>fullflux_bazin_fit_fall_time_Y</th>\n",
       "      <th>fullflux_bazin_fit_reduced_chi2_Y</th>\n",
       "      <th>fullflux_villar_fit_amplitude_Y</th>\n",
       "      <th>fullflux_villar_fit_baseline_Y</th>\n",
       "      <th>fullflux_villar_fit_reference_time_Y</th>\n",
       "      <th>fullflux_villar_fit_rise_time_Y</th>\n",
       "      <th>fullflux_villar_fit_fall_time_Y</th>\n",
       "      <th>fullflux_villar_fit_plateau_rel_amplitude_Y</th>\n",
       "      <th>fullflux_villar_fit_plateau_duration_Y</th>\n",
       "      <th>fullflux_villar_fit_reduced_chi2_Y</th>\n",
       "    </tr>\n",
       "  </thead>\n",
       "  <tbody>\n",
       "    <tr>\n",
       "      <th>2019lbi</th>\n",
       "      <td>0.216406</td>\n",
       "      <td>0.444444</td>\n",
       "      <td>0.0</td>\n",
       "      <td>10.290580</td>\n",
       "      <td>-1.233801</td>\n",
       "      <td>0.007288</td>\n",
       "      <td>0.001786</td>\n",
       "      <td>0.242701</td>\n",
       "      <td>0.209614</td>\n",
       "      <td>3.0</td>\n",
       "      <td>...</td>\n",
       "      <td>85.686859</td>\n",
       "      <td>2.423075</td>\n",
       "      <td>9208.376953</td>\n",
       "      <td>-92.017288</td>\n",
       "      <td>-1195.647583</td>\n",
       "      <td>83.931435</td>\n",
       "      <td>94.492111</td>\n",
       "      <td>0.288869</td>\n",
       "      <td>4.881969</td>\n",
       "      <td>1.047435</td>\n",
       "    </tr>\n",
       "    <tr>\n",
       "      <th>2019pmd</th>\n",
       "      <td>0.391645</td>\n",
       "      <td>0.285714</td>\n",
       "      <td>0.0</td>\n",
       "      <td>1.806227</td>\n",
       "      <td>-0.705101</td>\n",
       "      <td>0.011165</td>\n",
       "      <td>0.002437</td>\n",
       "      <td>0.129676</td>\n",
       "      <td>0.078864</td>\n",
       "      <td>3.0</td>\n",
       "      <td>...</td>\n",
       "      <td>23.487520</td>\n",
       "      <td>6.380569</td>\n",
       "      <td>32643.027344</td>\n",
       "      <td>305.142731</td>\n",
       "      <td>-1265.290039</td>\n",
       "      <td>3.740786</td>\n",
       "      <td>27.303635</td>\n",
       "      <td>0.766776</td>\n",
       "      <td>38.719402</td>\n",
       "      <td>5.219153</td>\n",
       "    </tr>\n",
       "    <tr>\n",
       "      <th>2019ppi</th>\n",
       "      <td>NaN</td>\n",
       "      <td>0.000000</td>\n",
       "      <td>0.0</td>\n",
       "      <td>2.000000</td>\n",
       "      <td>NaN</td>\n",
       "      <td>NaN</td>\n",
       "      <td>NaN</td>\n",
       "      <td>NaN</td>\n",
       "      <td>0.082812</td>\n",
       "      <td>9.0</td>\n",
       "      <td>...</td>\n",
       "      <td>21.816778</td>\n",
       "      <td>3.437780</td>\n",
       "      <td>4157.710449</td>\n",
       "      <td>230.103683</td>\n",
       "      <td>-1201.411377</td>\n",
       "      <td>49.079441</td>\n",
       "      <td>56.896420</td>\n",
       "      <td>0.799803</td>\n",
       "      <td>28.853926</td>\n",
       "      <td>2.696669</td>\n",
       "    </tr>\n",
       "    <tr>\n",
       "      <th>2019szh</th>\n",
       "      <td>NaN</td>\n",
       "      <td>0.000000</td>\n",
       "      <td>0.0</td>\n",
       "      <td>2.000000</td>\n",
       "      <td>NaN</td>\n",
       "      <td>NaN</td>\n",
       "      <td>NaN</td>\n",
       "      <td>NaN</td>\n",
       "      <td>0.092147</td>\n",
       "      <td>6.0</td>\n",
       "      <td>...</td>\n",
       "      <td>24.085527</td>\n",
       "      <td>3.861329</td>\n",
       "      <td>4443.414062</td>\n",
       "      <td>179.280121</td>\n",
       "      <td>-1264.499390</td>\n",
       "      <td>13.052733</td>\n",
       "      <td>23.961723</td>\n",
       "      <td>0.004652</td>\n",
       "      <td>41.019459</td>\n",
       "      <td>13.561466</td>\n",
       "    </tr>\n",
       "    <tr>\n",
       "      <th>2019tvv</th>\n",
       "      <td>NaN</td>\n",
       "      <td>0.333333</td>\n",
       "      <td>0.0</td>\n",
       "      <td>27.854954</td>\n",
       "      <td>NaN</td>\n",
       "      <td>0.003921</td>\n",
       "      <td>0.004322</td>\n",
       "      <td>0.219535</td>\n",
       "      <td>0.047642</td>\n",
       "      <td>6.0</td>\n",
       "      <td>...</td>\n",
       "      <td>22.693514</td>\n",
       "      <td>4.903403</td>\n",
       "      <td>48788.632812</td>\n",
       "      <td>167.568161</td>\n",
       "      <td>-1209.337646</td>\n",
       "      <td>8.856142</td>\n",
       "      <td>30.131523</td>\n",
       "      <td>0.790199</td>\n",
       "      <td>11.299833</td>\n",
       "      <td>2.127344</td>\n",
       "    </tr>\n",
       "    <tr>\n",
       "      <th>...</th>\n",
       "      <td>...</td>\n",
       "      <td>...</td>\n",
       "      <td>...</td>\n",
       "      <td>...</td>\n",
       "      <td>...</td>\n",
       "      <td>...</td>\n",
       "      <td>...</td>\n",
       "      <td>...</td>\n",
       "      <td>...</td>\n",
       "      <td>...</td>\n",
       "      <td>...</td>\n",
       "      <td>...</td>\n",
       "      <td>...</td>\n",
       "      <td>...</td>\n",
       "      <td>...</td>\n",
       "      <td>...</td>\n",
       "      <td>...</td>\n",
       "      <td>...</td>\n",
       "      <td>...</td>\n",
       "      <td>...</td>\n",
       "      <td>...</td>\n",
       "    </tr>\n",
       "    <tr>\n",
       "      <th>2021ztz</th>\n",
       "      <td>0.253991</td>\n",
       "      <td>0.250000</td>\n",
       "      <td>0.0</td>\n",
       "      <td>0.422869</td>\n",
       "      <td>3.625412</td>\n",
       "      <td>0.062985</td>\n",
       "      <td>0.011643</td>\n",
       "      <td>0.130696</td>\n",
       "      <td>0.086599</td>\n",
       "      <td>3.0</td>\n",
       "      <td>...</td>\n",
       "      <td>17.565086</td>\n",
       "      <td>1.424005</td>\n",
       "      <td>1643.183716</td>\n",
       "      <td>115.727654</td>\n",
       "      <td>-523.097534</td>\n",
       "      <td>3.430753</td>\n",
       "      <td>19.209139</td>\n",
       "      <td>0.029427</td>\n",
       "      <td>11.852758</td>\n",
       "      <td>1.670255</td>\n",
       "    </tr>\n",
       "    <tr>\n",
       "      <th>2021zuf</th>\n",
       "      <td>NaN</td>\n",
       "      <td>0.000000</td>\n",
       "      <td>0.0</td>\n",
       "      <td>2.000000</td>\n",
       "      <td>NaN</td>\n",
       "      <td>NaN</td>\n",
       "      <td>NaN</td>\n",
       "      <td>NaN</td>\n",
       "      <td>0.001574</td>\n",
       "      <td>3.0</td>\n",
       "      <td>...</td>\n",
       "      <td>NaN</td>\n",
       "      <td>NaN</td>\n",
       "      <td>NaN</td>\n",
       "      <td>NaN</td>\n",
       "      <td>NaN</td>\n",
       "      <td>NaN</td>\n",
       "      <td>NaN</td>\n",
       "      <td>NaN</td>\n",
       "      <td>NaN</td>\n",
       "      <td>NaN</td>\n",
       "    </tr>\n",
       "    <tr>\n",
       "      <th>2021zvo</th>\n",
       "      <td>NaN</td>\n",
       "      <td>0.333333</td>\n",
       "      <td>0.0</td>\n",
       "      <td>5.862638</td>\n",
       "      <td>NaN</td>\n",
       "      <td>-0.029232</td>\n",
       "      <td>0.009775</td>\n",
       "      <td>0.200013</td>\n",
       "      <td>0.111863</td>\n",
       "      <td>2.0</td>\n",
       "      <td>...</td>\n",
       "      <td>21.983507</td>\n",
       "      <td>0.461530</td>\n",
       "      <td>1485.035889</td>\n",
       "      <td>-240.269516</td>\n",
       "      <td>-553.913696</td>\n",
       "      <td>5.401869</td>\n",
       "      <td>86654.609375</td>\n",
       "      <td>0.595883</td>\n",
       "      <td>35.150803</td>\n",
       "      <td>0.548194</td>\n",
       "    </tr>\n",
       "    <tr>\n",
       "      <th>2021zvx</th>\n",
       "      <td>NaN</td>\n",
       "      <td>0.333333</td>\n",
       "      <td>0.0</td>\n",
       "      <td>1.354845</td>\n",
       "      <td>NaN</td>\n",
       "      <td>0.008765</td>\n",
       "      <td>0.006001</td>\n",
       "      <td>0.064070</td>\n",
       "      <td>0.016849</td>\n",
       "      <td>6.0</td>\n",
       "      <td>...</td>\n",
       "      <td>30.308945</td>\n",
       "      <td>4.260723</td>\n",
       "      <td>492.952515</td>\n",
       "      <td>220.026062</td>\n",
       "      <td>-523.277039</td>\n",
       "      <td>3.950231</td>\n",
       "      <td>17.788208</td>\n",
       "      <td>0.000314</td>\n",
       "      <td>13.657744</td>\n",
       "      <td>0.278923</td>\n",
       "    </tr>\n",
       "    <tr>\n",
       "      <th>2021zzv</th>\n",
       "      <td>0.315101</td>\n",
       "      <td>0.333333</td>\n",
       "      <td>0.0</td>\n",
       "      <td>0.986226</td>\n",
       "      <td>-2.073123</td>\n",
       "      <td>0.017652</td>\n",
       "      <td>0.002710</td>\n",
       "      <td>0.087773</td>\n",
       "      <td>0.066250</td>\n",
       "      <td>2.0</td>\n",
       "      <td>...</td>\n",
       "      <td>NaN</td>\n",
       "      <td>NaN</td>\n",
       "      <td>NaN</td>\n",
       "      <td>NaN</td>\n",
       "      <td>NaN</td>\n",
       "      <td>NaN</td>\n",
       "      <td>NaN</td>\n",
       "      <td>NaN</td>\n",
       "      <td>NaN</td>\n",
       "      <td>NaN</td>\n",
       "    </tr>\n",
       "  </tbody>\n",
       "</table>\n",
       "<p>2003 rows × 252 columns</p>\n",
       "</div>"
      ],
      "text/plain": [
       "         mag_anderson_darling_normal_g  \\\n",
       "2019lbi                       0.216406   \n",
       "2019pmd                       0.391645   \n",
       "2019ppi                            NaN   \n",
       "2019szh                            NaN   \n",
       "2019tvv                            NaN   \n",
       "...                                ...   \n",
       "2021ztz                       0.253991   \n",
       "2021zuf                            NaN   \n",
       "2021zvo                            NaN   \n",
       "2021zvx                            NaN   \n",
       "2021zzv                       0.315101   \n",
       "\n",
       "         mag_bins_window1.0_offset0.0_beyond_1_std_g  \\\n",
       "2019lbi                                     0.444444   \n",
       "2019pmd                                     0.285714   \n",
       "2019ppi                                     0.000000   \n",
       "2019szh                                     0.000000   \n",
       "2019tvv                                     0.333333   \n",
       "...                                              ...   \n",
       "2021ztz                                     0.250000   \n",
       "2021zuf                                     0.000000   \n",
       "2021zvo                                     0.333333   \n",
       "2021zvx                                     0.333333   \n",
       "2021zzv                                     0.333333   \n",
       "\n",
       "         mag_bins_window1.0_offset0.0_beyond_2_std_g  \\\n",
       "2019lbi                                          0.0   \n",
       "2019pmd                                          0.0   \n",
       "2019ppi                                          0.0   \n",
       "2019szh                                          0.0   \n",
       "2019tvv                                          0.0   \n",
       "...                                              ...   \n",
       "2021ztz                                          0.0   \n",
       "2021zuf                                          0.0   \n",
       "2021zvo                                          0.0   \n",
       "2021zvx                                          0.0   \n",
       "2021zzv                                          0.0   \n",
       "\n",
       "         mag_bins_window1.0_offset0.0_eta_e_g  \\\n",
       "2019lbi                             10.290580   \n",
       "2019pmd                              1.806227   \n",
       "2019ppi                              2.000000   \n",
       "2019szh                              2.000000   \n",
       "2019tvv                             27.854954   \n",
       "...                                       ...   \n",
       "2021ztz                              0.422869   \n",
       "2021zuf                              2.000000   \n",
       "2021zvo                              5.862638   \n",
       "2021zvx                              1.354845   \n",
       "2021zzv                              0.986226   \n",
       "\n",
       "         mag_bins_window1.0_offset0.0_kurtosis_g  \\\n",
       "2019lbi                                -1.233801   \n",
       "2019pmd                                -0.705101   \n",
       "2019ppi                                      NaN   \n",
       "2019szh                                      NaN   \n",
       "2019tvv                                      NaN   \n",
       "...                                          ...   \n",
       "2021ztz                                 3.625412   \n",
       "2021zuf                                      NaN   \n",
       "2021zvo                                      NaN   \n",
       "2021zvx                                      NaN   \n",
       "2021zzv                                -2.073123   \n",
       "\n",
       "         mag_bins_window1.0_offset0.0_linear_trend_g  \\\n",
       "2019lbi                                     0.007288   \n",
       "2019pmd                                     0.011165   \n",
       "2019ppi                                          NaN   \n",
       "2019szh                                          NaN   \n",
       "2019tvv                                     0.003921   \n",
       "...                                              ...   \n",
       "2021ztz                                     0.062985   \n",
       "2021zuf                                          NaN   \n",
       "2021zvo                                    -0.029232   \n",
       "2021zvx                                     0.008765   \n",
       "2021zzv                                     0.017652   \n",
       "\n",
       "         mag_bins_window1.0_offset0.0_linear_trend_sigma_g  \\\n",
       "2019lbi                                           0.001786   \n",
       "2019pmd                                           0.002437   \n",
       "2019ppi                                                NaN   \n",
       "2019szh                                                NaN   \n",
       "2019tvv                                           0.004322   \n",
       "...                                                    ...   \n",
       "2021ztz                                           0.011643   \n",
       "2021zuf                                                NaN   \n",
       "2021zvo                                           0.009775   \n",
       "2021zvx                                           0.006001   \n",
       "2021zzv                                           0.002710   \n",
       "\n",
       "         mag_bins_window1.0_offset0.0_linear_trend_noise_g  \\\n",
       "2019lbi                                           0.242701   \n",
       "2019pmd                                           0.129676   \n",
       "2019ppi                                                NaN   \n",
       "2019szh                                                NaN   \n",
       "2019tvv                                           0.219535   \n",
       "...                                                    ...   \n",
       "2021ztz                                           0.130696   \n",
       "2021zuf                                                NaN   \n",
       "2021zvo                                           0.200013   \n",
       "2021zvx                                           0.064070   \n",
       "2021zzv                                           0.087773   \n",
       "\n",
       "         mag_bins_window1.0_offset0.0_maximum_slope_g  \\\n",
       "2019lbi                                      0.209614   \n",
       "2019pmd                                      0.078864   \n",
       "2019ppi                                      0.082812   \n",
       "2019szh                                      0.092147   \n",
       "2019tvv                                      0.047642   \n",
       "...                                               ...   \n",
       "2021ztz                                      0.086599   \n",
       "2021zuf                                      0.001574   \n",
       "2021zvo                                      0.111863   \n",
       "2021zvx                                      0.016849   \n",
       "2021zzv                                      0.066250   \n",
       "\n",
       "         mag_bins_window1.0_offset0.0_minimum_time_interval_g  ...  \\\n",
       "2019lbi                                                3.0     ...   \n",
       "2019pmd                                                3.0     ...   \n",
       "2019ppi                                                9.0     ...   \n",
       "2019szh                                                6.0     ...   \n",
       "2019tvv                                                6.0     ...   \n",
       "...                                                    ...     ...   \n",
       "2021ztz                                                3.0     ...   \n",
       "2021zuf                                                3.0     ...   \n",
       "2021zvo                                                2.0     ...   \n",
       "2021zvx                                                6.0     ...   \n",
       "2021zzv                                                2.0     ...   \n",
       "\n",
       "         fullflux_bazin_fit_fall_time_Y  fullflux_bazin_fit_reduced_chi2_Y  \\\n",
       "2019lbi                       85.686859                           2.423075   \n",
       "2019pmd                       23.487520                           6.380569   \n",
       "2019ppi                       21.816778                           3.437780   \n",
       "2019szh                       24.085527                           3.861329   \n",
       "2019tvv                       22.693514                           4.903403   \n",
       "...                                 ...                                ...   \n",
       "2021ztz                       17.565086                           1.424005   \n",
       "2021zuf                             NaN                                NaN   \n",
       "2021zvo                       21.983507                           0.461530   \n",
       "2021zvx                       30.308945                           4.260723   \n",
       "2021zzv                             NaN                                NaN   \n",
       "\n",
       "         fullflux_villar_fit_amplitude_Y  fullflux_villar_fit_baseline_Y  \\\n",
       "2019lbi                      9208.376953                      -92.017288   \n",
       "2019pmd                     32643.027344                      305.142731   \n",
       "2019ppi                      4157.710449                      230.103683   \n",
       "2019szh                      4443.414062                      179.280121   \n",
       "2019tvv                     48788.632812                      167.568161   \n",
       "...                                  ...                             ...   \n",
       "2021ztz                      1643.183716                      115.727654   \n",
       "2021zuf                              NaN                             NaN   \n",
       "2021zvo                      1485.035889                     -240.269516   \n",
       "2021zvx                       492.952515                      220.026062   \n",
       "2021zzv                              NaN                             NaN   \n",
       "\n",
       "         fullflux_villar_fit_reference_time_Y  \\\n",
       "2019lbi                          -1195.647583   \n",
       "2019pmd                          -1265.290039   \n",
       "2019ppi                          -1201.411377   \n",
       "2019szh                          -1264.499390   \n",
       "2019tvv                          -1209.337646   \n",
       "...                                       ...   \n",
       "2021ztz                           -523.097534   \n",
       "2021zuf                                   NaN   \n",
       "2021zvo                           -553.913696   \n",
       "2021zvx                           -523.277039   \n",
       "2021zzv                                   NaN   \n",
       "\n",
       "         fullflux_villar_fit_rise_time_Y  fullflux_villar_fit_fall_time_Y  \\\n",
       "2019lbi                        83.931435                        94.492111   \n",
       "2019pmd                         3.740786                        27.303635   \n",
       "2019ppi                        49.079441                        56.896420   \n",
       "2019szh                        13.052733                        23.961723   \n",
       "2019tvv                         8.856142                        30.131523   \n",
       "...                                  ...                              ...   \n",
       "2021ztz                         3.430753                        19.209139   \n",
       "2021zuf                              NaN                              NaN   \n",
       "2021zvo                         5.401869                     86654.609375   \n",
       "2021zvx                         3.950231                        17.788208   \n",
       "2021zzv                              NaN                              NaN   \n",
       "\n",
       "         fullflux_villar_fit_plateau_rel_amplitude_Y  \\\n",
       "2019lbi                                     0.288869   \n",
       "2019pmd                                     0.766776   \n",
       "2019ppi                                     0.799803   \n",
       "2019szh                                     0.004652   \n",
       "2019tvv                                     0.790199   \n",
       "...                                              ...   \n",
       "2021ztz                                     0.029427   \n",
       "2021zuf                                          NaN   \n",
       "2021zvo                                     0.595883   \n",
       "2021zvx                                     0.000314   \n",
       "2021zzv                                          NaN   \n",
       "\n",
       "         fullflux_villar_fit_plateau_duration_Y  \\\n",
       "2019lbi                                4.881969   \n",
       "2019pmd                               38.719402   \n",
       "2019ppi                               28.853926   \n",
       "2019szh                               41.019459   \n",
       "2019tvv                               11.299833   \n",
       "...                                         ...   \n",
       "2021ztz                               11.852758   \n",
       "2021zuf                                     NaN   \n",
       "2021zvo                               35.150803   \n",
       "2021zvx                               13.657744   \n",
       "2021zzv                                     NaN   \n",
       "\n",
       "         fullflux_villar_fit_reduced_chi2_Y  \n",
       "2019lbi                            1.047435  \n",
       "2019pmd                            5.219153  \n",
       "2019ppi                            2.696669  \n",
       "2019szh                           13.561466  \n",
       "2019tvv                            2.127344  \n",
       "...                                     ...  \n",
       "2021ztz                            1.670255  \n",
       "2021zuf                                 NaN  \n",
       "2021zvo                            0.548194  \n",
       "2021zvx                            0.278923  \n",
       "2021zzv                                 NaN  \n",
       "\n",
       "[2003 rows x 252 columns]"
      ]
     },
     "execution_count": 20,
     "metadata": {},
     "output_type": "execute_result"
    }
   ],
   "source": [
    "dr1_lc_allfeat_df = pd.DataFrame(features, columns=names)\n",
    "dr1_lc_allfeat_df = dr1_lc_allfeat_df.set_index(ids)\n",
    "dr1_lc_allfeat_df.sort_index(inplace=True)\n",
    "dr1_lc_allfeat_df"
   ]
  },
  {
   "cell_type": "code",
   "execution_count": 21,
   "id": "415fab0b",
   "metadata": {},
   "outputs": [
    {
     "data": {
      "text/plain": [
       "['mag_anderson_darling_normal_g',\n",
       " 'mag_bins_window1.0_offset0.0_beyond_1_std_g',\n",
       " 'mag_bins_window1.0_offset0.0_beyond_2_std_g',\n",
       " 'mag_bins_window1.0_offset0.0_eta_e_g',\n",
       " 'mag_bins_window1.0_offset0.0_kurtosis_g',\n",
       " 'mag_bins_window1.0_offset0.0_linear_trend_g',\n",
       " 'mag_bins_window1.0_offset0.0_linear_trend_sigma_g',\n",
       " 'mag_bins_window1.0_offset0.0_linear_trend_noise_g',\n",
       " 'mag_bins_window1.0_offset0.0_maximum_slope_g',\n",
       " 'mag_bins_window1.0_offset0.0_minimum_time_interval_g',\n",
       " 'mag_bins_window1.0_offset0.0_observation_count_g',\n",
       " 'mag_bins_window1.0_offset0.0_skew_g',\n",
       " 'mag_duration_g',\n",
       " 'mag_inter_percentile_range_1_g',\n",
       " 'mag_linear_fit_slope_g',\n",
       " 'mag_linear_fit_slope_sigma_g',\n",
       " 'mag_linear_fit_reduced_chi2_g',\n",
       " 'mag_maximum_time_interval_g',\n",
       " 'mag_observation_count_g',\n",
       " 'mag_period_0_g',\n",
       " 'mag_period_s_to_n_0_g',\n",
       " 'mag_periodogram_median_g',\n",
       " 'mag_periodogram_percent_difference_magnitude_percentile_25_g',\n",
       " 'mag_chi2_g',\n",
       " 'mag_stetson_K_g',\n",
       " 'mag_weighted_mean_g',\n",
       " 'mag_anderson_darling_normal_r',\n",
       " 'mag_bins_window1.0_offset0.0_beyond_1_std_r',\n",
       " 'mag_bins_window1.0_offset0.0_beyond_2_std_r',\n",
       " 'mag_bins_window1.0_offset0.0_eta_e_r',\n",
       " 'mag_bins_window1.0_offset0.0_kurtosis_r',\n",
       " 'mag_bins_window1.0_offset0.0_linear_trend_r',\n",
       " 'mag_bins_window1.0_offset0.0_linear_trend_sigma_r',\n",
       " 'mag_bins_window1.0_offset0.0_linear_trend_noise_r',\n",
       " 'mag_bins_window1.0_offset0.0_maximum_slope_r',\n",
       " 'mag_bins_window1.0_offset0.0_minimum_time_interval_r',\n",
       " 'mag_bins_window1.0_offset0.0_observation_count_r',\n",
       " 'mag_bins_window1.0_offset0.0_skew_r',\n",
       " 'mag_duration_r',\n",
       " 'mag_inter_percentile_range_1_r',\n",
       " 'mag_linear_fit_slope_r',\n",
       " 'mag_linear_fit_slope_sigma_r',\n",
       " 'mag_linear_fit_reduced_chi2_r',\n",
       " 'mag_maximum_time_interval_r',\n",
       " 'mag_observation_count_r',\n",
       " 'mag_period_0_r',\n",
       " 'mag_period_s_to_n_0_r',\n",
       " 'mag_periodogram_median_r',\n",
       " 'mag_periodogram_percent_difference_magnitude_percentile_25_r',\n",
       " 'mag_chi2_r',\n",
       " 'mag_stetson_K_r',\n",
       " 'mag_weighted_mean_r',\n",
       " 'mag_anderson_darling_normal_i',\n",
       " 'mag_bins_window1.0_offset0.0_beyond_1_std_i',\n",
       " 'mag_bins_window1.0_offset0.0_beyond_2_std_i',\n",
       " 'mag_bins_window1.0_offset0.0_eta_e_i',\n",
       " 'mag_bins_window1.0_offset0.0_kurtosis_i',\n",
       " 'mag_bins_window1.0_offset0.0_linear_trend_i',\n",
       " 'mag_bins_window1.0_offset0.0_linear_trend_sigma_i',\n",
       " 'mag_bins_window1.0_offset0.0_linear_trend_noise_i',\n",
       " 'mag_bins_window1.0_offset0.0_maximum_slope_i',\n",
       " 'mag_bins_window1.0_offset0.0_minimum_time_interval_i',\n",
       " 'mag_bins_window1.0_offset0.0_observation_count_i',\n",
       " 'mag_bins_window1.0_offset0.0_skew_i',\n",
       " 'mag_duration_i',\n",
       " 'mag_inter_percentile_range_1_i',\n",
       " 'mag_linear_fit_slope_i',\n",
       " 'mag_linear_fit_slope_sigma_i',\n",
       " 'mag_linear_fit_reduced_chi2_i',\n",
       " 'mag_maximum_time_interval_i',\n",
       " 'mag_observation_count_i',\n",
       " 'mag_period_0_i',\n",
       " 'mag_period_s_to_n_0_i',\n",
       " 'mag_periodogram_median_i',\n",
       " 'mag_periodogram_percent_difference_magnitude_percentile_25_i',\n",
       " 'mag_chi2_i',\n",
       " 'mag_stetson_K_i',\n",
       " 'mag_weighted_mean_i',\n",
       " 'mag_anderson_darling_normal_z',\n",
       " 'mag_bins_window1.0_offset0.0_beyond_1_std_z',\n",
       " 'mag_bins_window1.0_offset0.0_beyond_2_std_z',\n",
       " 'mag_bins_window1.0_offset0.0_eta_e_z',\n",
       " 'mag_bins_window1.0_offset0.0_kurtosis_z',\n",
       " 'mag_bins_window1.0_offset0.0_linear_trend_z',\n",
       " 'mag_bins_window1.0_offset0.0_linear_trend_sigma_z',\n",
       " 'mag_bins_window1.0_offset0.0_linear_trend_noise_z',\n",
       " 'mag_bins_window1.0_offset0.0_maximum_slope_z',\n",
       " 'mag_bins_window1.0_offset0.0_minimum_time_interval_z',\n",
       " 'mag_bins_window1.0_offset0.0_observation_count_z',\n",
       " 'mag_bins_window1.0_offset0.0_skew_z',\n",
       " 'mag_duration_z',\n",
       " 'mag_inter_percentile_range_1_z',\n",
       " 'mag_linear_fit_slope_z',\n",
       " 'mag_linear_fit_slope_sigma_z',\n",
       " 'mag_linear_fit_reduced_chi2_z',\n",
       " 'mag_maximum_time_interval_z',\n",
       " 'mag_observation_count_z',\n",
       " 'mag_period_0_z',\n",
       " 'mag_period_s_to_n_0_z',\n",
       " 'mag_periodogram_median_z',\n",
       " 'mag_periodogram_percent_difference_magnitude_percentile_25_z',\n",
       " 'mag_chi2_z',\n",
       " 'mag_stetson_K_z',\n",
       " 'mag_weighted_mean_z',\n",
       " 'mag_anderson_darling_normal_X',\n",
       " 'mag_bins_window1.0_offset0.0_beyond_1_std_X',\n",
       " 'mag_bins_window1.0_offset0.0_beyond_2_std_X',\n",
       " 'mag_bins_window1.0_offset0.0_eta_e_X',\n",
       " 'mag_bins_window1.0_offset0.0_kurtosis_X',\n",
       " 'mag_bins_window1.0_offset0.0_linear_trend_X',\n",
       " 'mag_bins_window1.0_offset0.0_linear_trend_sigma_X',\n",
       " 'mag_bins_window1.0_offset0.0_linear_trend_noise_X',\n",
       " 'mag_bins_window1.0_offset0.0_maximum_slope_X',\n",
       " 'mag_bins_window1.0_offset0.0_minimum_time_interval_X',\n",
       " 'mag_bins_window1.0_offset0.0_observation_count_X',\n",
       " 'mag_bins_window1.0_offset0.0_skew_X',\n",
       " 'mag_duration_X',\n",
       " 'mag_inter_percentile_range_1_X',\n",
       " 'mag_linear_fit_slope_X',\n",
       " 'mag_linear_fit_slope_sigma_X',\n",
       " 'mag_linear_fit_reduced_chi2_X',\n",
       " 'mag_maximum_time_interval_X',\n",
       " 'mag_observation_count_X',\n",
       " 'mag_period_0_X',\n",
       " 'mag_period_s_to_n_0_X',\n",
       " 'mag_periodogram_median_X',\n",
       " 'mag_periodogram_percent_difference_magnitude_percentile_25_X',\n",
       " 'mag_chi2_X',\n",
       " 'mag_stetson_K_X',\n",
       " 'mag_weighted_mean_X',\n",
       " 'mag_anderson_darling_normal_Y',\n",
       " 'mag_bins_window1.0_offset0.0_beyond_1_std_Y',\n",
       " 'mag_bins_window1.0_offset0.0_beyond_2_std_Y',\n",
       " 'mag_bins_window1.0_offset0.0_eta_e_Y',\n",
       " 'mag_bins_window1.0_offset0.0_kurtosis_Y',\n",
       " 'mag_bins_window1.0_offset0.0_linear_trend_Y',\n",
       " 'mag_bins_window1.0_offset0.0_linear_trend_sigma_Y',\n",
       " 'mag_bins_window1.0_offset0.0_linear_trend_noise_Y',\n",
       " 'mag_bins_window1.0_offset0.0_maximum_slope_Y',\n",
       " 'mag_bins_window1.0_offset0.0_minimum_time_interval_Y',\n",
       " 'mag_bins_window1.0_offset0.0_observation_count_Y',\n",
       " 'mag_bins_window1.0_offset0.0_skew_Y',\n",
       " 'mag_duration_Y',\n",
       " 'mag_inter_percentile_range_1_Y',\n",
       " 'mag_linear_fit_slope_Y',\n",
       " 'mag_linear_fit_slope_sigma_Y',\n",
       " 'mag_linear_fit_reduced_chi2_Y',\n",
       " 'mag_maximum_time_interval_Y',\n",
       " 'mag_observation_count_Y',\n",
       " 'mag_period_0_Y',\n",
       " 'mag_period_s_to_n_0_Y',\n",
       " 'mag_periodogram_median_Y',\n",
       " 'mag_periodogram_percent_difference_magnitude_percentile_25_Y',\n",
       " 'mag_chi2_Y',\n",
       " 'mag_stetson_K_Y',\n",
       " 'mag_weighted_mean_Y',\n",
       " 'flux_kurtosis_g',\n",
       " 'flux_skew_g',\n",
       " 'flux_kurtosis_r',\n",
       " 'flux_skew_r',\n",
       " 'flux_kurtosis_i',\n",
       " 'flux_skew_i',\n",
       " 'flux_kurtosis_z',\n",
       " 'flux_skew_z',\n",
       " 'flux_kurtosis_X',\n",
       " 'flux_skew_X',\n",
       " 'flux_kurtosis_Y',\n",
       " 'flux_skew_Y',\n",
       " 'fullflux_bazin_fit_amplitude_g',\n",
       " 'fullflux_bazin_fit_baseline_g',\n",
       " 'fullflux_bazin_fit_reference_time_g',\n",
       " 'fullflux_bazin_fit_rise_time_g',\n",
       " 'fullflux_bazin_fit_fall_time_g',\n",
       " 'fullflux_bazin_fit_reduced_chi2_g',\n",
       " 'fullflux_villar_fit_amplitude_g',\n",
       " 'fullflux_villar_fit_baseline_g',\n",
       " 'fullflux_villar_fit_reference_time_g',\n",
       " 'fullflux_villar_fit_rise_time_g',\n",
       " 'fullflux_villar_fit_fall_time_g',\n",
       " 'fullflux_villar_fit_plateau_rel_amplitude_g',\n",
       " 'fullflux_villar_fit_plateau_duration_g',\n",
       " 'fullflux_villar_fit_reduced_chi2_g',\n",
       " 'fullflux_bazin_fit_amplitude_r',\n",
       " 'fullflux_bazin_fit_baseline_r',\n",
       " 'fullflux_bazin_fit_reference_time_r',\n",
       " 'fullflux_bazin_fit_rise_time_r',\n",
       " 'fullflux_bazin_fit_fall_time_r',\n",
       " 'fullflux_bazin_fit_reduced_chi2_r',\n",
       " 'fullflux_villar_fit_amplitude_r',\n",
       " 'fullflux_villar_fit_baseline_r',\n",
       " 'fullflux_villar_fit_reference_time_r',\n",
       " 'fullflux_villar_fit_rise_time_r',\n",
       " 'fullflux_villar_fit_fall_time_r',\n",
       " 'fullflux_villar_fit_plateau_rel_amplitude_r',\n",
       " 'fullflux_villar_fit_plateau_duration_r',\n",
       " 'fullflux_villar_fit_reduced_chi2_r',\n",
       " 'fullflux_bazin_fit_amplitude_i',\n",
       " 'fullflux_bazin_fit_baseline_i',\n",
       " 'fullflux_bazin_fit_reference_time_i',\n",
       " 'fullflux_bazin_fit_rise_time_i',\n",
       " 'fullflux_bazin_fit_fall_time_i',\n",
       " 'fullflux_bazin_fit_reduced_chi2_i',\n",
       " 'fullflux_villar_fit_amplitude_i',\n",
       " 'fullflux_villar_fit_baseline_i',\n",
       " 'fullflux_villar_fit_reference_time_i',\n",
       " 'fullflux_villar_fit_rise_time_i',\n",
       " 'fullflux_villar_fit_fall_time_i',\n",
       " 'fullflux_villar_fit_plateau_rel_amplitude_i',\n",
       " 'fullflux_villar_fit_plateau_duration_i',\n",
       " 'fullflux_villar_fit_reduced_chi2_i',\n",
       " 'fullflux_bazin_fit_amplitude_z',\n",
       " 'fullflux_bazin_fit_baseline_z',\n",
       " 'fullflux_bazin_fit_reference_time_z',\n",
       " 'fullflux_bazin_fit_rise_time_z',\n",
       " 'fullflux_bazin_fit_fall_time_z',\n",
       " 'fullflux_bazin_fit_reduced_chi2_z',\n",
       " 'fullflux_villar_fit_amplitude_z',\n",
       " 'fullflux_villar_fit_baseline_z',\n",
       " 'fullflux_villar_fit_reference_time_z',\n",
       " 'fullflux_villar_fit_rise_time_z',\n",
       " 'fullflux_villar_fit_fall_time_z',\n",
       " 'fullflux_villar_fit_plateau_rel_amplitude_z',\n",
       " 'fullflux_villar_fit_plateau_duration_z',\n",
       " 'fullflux_villar_fit_reduced_chi2_z',\n",
       " 'fullflux_bazin_fit_amplitude_X',\n",
       " 'fullflux_bazin_fit_baseline_X',\n",
       " 'fullflux_bazin_fit_reference_time_X',\n",
       " 'fullflux_bazin_fit_rise_time_X',\n",
       " 'fullflux_bazin_fit_fall_time_X',\n",
       " 'fullflux_bazin_fit_reduced_chi2_X',\n",
       " 'fullflux_villar_fit_amplitude_X',\n",
       " 'fullflux_villar_fit_baseline_X',\n",
       " 'fullflux_villar_fit_reference_time_X',\n",
       " 'fullflux_villar_fit_rise_time_X',\n",
       " 'fullflux_villar_fit_fall_time_X',\n",
       " 'fullflux_villar_fit_plateau_rel_amplitude_X',\n",
       " 'fullflux_villar_fit_plateau_duration_X',\n",
       " 'fullflux_villar_fit_reduced_chi2_X',\n",
       " 'fullflux_bazin_fit_amplitude_Y',\n",
       " 'fullflux_bazin_fit_baseline_Y',\n",
       " 'fullflux_bazin_fit_reference_time_Y',\n",
       " 'fullflux_bazin_fit_rise_time_Y',\n",
       " 'fullflux_bazin_fit_fall_time_Y',\n",
       " 'fullflux_bazin_fit_reduced_chi2_Y',\n",
       " 'fullflux_villar_fit_amplitude_Y',\n",
       " 'fullflux_villar_fit_baseline_Y',\n",
       " 'fullflux_villar_fit_reference_time_Y',\n",
       " 'fullflux_villar_fit_rise_time_Y',\n",
       " 'fullflux_villar_fit_fall_time_Y',\n",
       " 'fullflux_villar_fit_plateau_rel_amplitude_Y',\n",
       " 'fullflux_villar_fit_plateau_duration_Y',\n",
       " 'fullflux_villar_fit_reduced_chi2_Y']"
      ]
     },
     "execution_count": 21,
     "metadata": {},
     "output_type": "execute_result"
    }
   ],
   "source": [
    "dr1_lc_allfeat_df.columns.to_list()"
   ]
  },
  {
   "cell_type": "code",
   "execution_count": 22,
   "id": "d258ec1d",
   "metadata": {},
   "outputs": [],
   "source": [
    "lc_feature_names = [\n",
    "#  'mag_anderson_darling_normal_g',\n",
    "#  'mag_bins_window1.0_offset0.0_beyond_1_std_g',\n",
    "#  'mag_bins_window1.0_offset0.0_beyond_2_std_g',\n",
    "# #  'mag_bins_window1.0_offset0.0_eta_e_g',\n",
    "#  'mag_bins_window1.0_offset0.0_kurtosis_g',\n",
    "#  'mag_bins_window1.0_offset0.0_linear_trend_g',\n",
    "#  'mag_bins_window1.0_offset0.0_linear_trend_sigma_g',\n",
    "# #  'mag_bins_window1.0_offset0.0_linear_trend_noise_g',\n",
    "#  'mag_bins_window1.0_offset0.0_maximum_slope_g',\n",
    "#  'mag_bins_window1.0_offset0.0_minimum_time_interval_g',\n",
    "#  'mag_bins_window1.0_offset0.0_observation_count_g',\n",
    "#  'mag_bins_window1.0_offset0.0_skew_g',\n",
    "#  'mag_duration_g',\n",
    "#  'mag_inter_percentile_range_1_g',\n",
    "# #  'mag_linear_fit_slope_g',\n",
    "# #  'mag_linear_fit_slope_sigma_g',\n",
    "# #  'mag_linear_fit_reduced_chi2_g',\n",
    "# #  'mag_maximum_time_interval_g',\n",
    "# #  'mag_observation_count_g',\n",
    "# #  'mag_period_0_g',\n",
    "#  'mag_period_s_to_n_0_g',\n",
    "# #  'mag_periodogram_median_g',\n",
    "# #  'mag_periodogram_percent_difference_magnitude_percentile_25_g',\n",
    "# #  'mag_chi2_g',\n",
    "#  'mag_stetson_K_g',\n",
    "#  'mag_weighted_mean_g',\n",
    "#  'mag_anderson_darling_normal_r',\n",
    "#  'mag_bins_window1.0_offset0.0_beyond_1_std_r',\n",
    "#  'mag_bins_window1.0_offset0.0_beyond_2_std_r',\n",
    "# #  'mag_bins_window1.0_offset0.0_eta_e_r',\n",
    "#  'mag_bins_window1.0_offset0.0_kurtosis_r',\n",
    "#  'mag_bins_window1.0_offset0.0_linear_trend_r',\n",
    "#  'mag_bins_window1.0_offset0.0_linear_trend_sigma_r',\n",
    "# #  'mag_bins_window1.0_offset0.0_linear_trend_noise_r',\n",
    "#  'mag_bins_window1.0_offset0.0_maximum_slope_r',\n",
    "#  'mag_bins_window1.0_offset0.0_minimum_time_interval_r',\n",
    "#  'mag_bins_window1.0_offset0.0_observation_count_r',\n",
    "#  'mag_bins_window1.0_offset0.0_skew_r',\n",
    "#  'mag_duration_r',\n",
    "#  'mag_inter_percentile_range_1_r',\n",
    "# #  'mag_linear_fit_slope_r',\n",
    "# #  'mag_linear_fit_slope_sigma_r',\n",
    "# #  'mag_linear_fit_reduced_chi2_r',\n",
    "# #  'mag_maximum_time_interval_r',\n",
    "# #  'mag_observation_count_r',\n",
    "# #  'mag_period_0_r',\n",
    "#  'mag_period_s_to_n_0_r',\n",
    "#  'mag_periodogram_median_r',\n",
    "#  'mag_periodogram_percent_difference_magnitude_percentile_25_r',\n",
    "#  'mag_chi2_r',\n",
    "#  'mag_stetson_K_r',\n",
    "#  'mag_weighted_mean_r',\n",
    "#  'mag_anderson_darling_normal_i',\n",
    "#  'mag_bins_window1.0_offset0.0_beyond_1_std_i',\n",
    "#  'mag_bins_window1.0_offset0.0_beyond_2_std_i',\n",
    "#  'mag_bins_window1.0_offset0.0_eta_e_i',\n",
    "#  'mag_bins_window1.0_offset0.0_kurtosis_i',\n",
    "#  'mag_bins_window1.0_offset0.0_linear_trend_i',\n",
    "#  'mag_bins_window1.0_offset0.0_linear_trend_sigma_i',\n",
    "#  'mag_bins_window1.0_offset0.0_linear_trend_noise_i',\n",
    "#  'mag_bins_window1.0_offset0.0_maximum_slope_i',\n",
    "#  'mag_bins_window1.0_offset0.0_minimum_time_interval_i',\n",
    "#  'mag_bins_window1.0_offset0.0_observation_count_i',\n",
    "#  'mag_bins_window1.0_offset0.0_skew_i',\n",
    "#  'mag_duration_i',\n",
    "#  'mag_inter_percentile_range_1_i',\n",
    "#  'mag_linear_fit_slope_i',\n",
    "#  'mag_linear_fit_slope_sigma_i',\n",
    "#  'mag_linear_fit_reduced_chi2_i',\n",
    "#  'mag_maximum_time_interval_i',\n",
    "#  'mag_observation_count_i',\n",
    "#  'mag_period_0_i',\n",
    "#  'mag_period_s_to_n_0_i',\n",
    "#  'mag_periodogram_median_i',\n",
    "#  'mag_periodogram_percent_difference_magnitude_percentile_25_i',\n",
    "#  'mag_chi2_i',\n",
    "#  'mag_stetson_K_i',\n",
    "#  'mag_weighted_mean_i',\n",
    "#  'mag_anderson_darling_normal_z',\n",
    "#  'mag_bins_window1.0_offset0.0_beyond_1_std_z',\n",
    "#  'mag_bins_window1.0_offset0.0_beyond_2_std_z',\n",
    "#  'mag_bins_window1.0_offset0.0_eta_e_z',\n",
    "#  'mag_bins_window1.0_offset0.0_kurtosis_z',\n",
    "#  'mag_bins_window1.0_offset0.0_linear_trend_z',\n",
    "#  'mag_bins_window1.0_offset0.0_linear_trend_sigma_z',\n",
    "#  'mag_bins_window1.0_offset0.0_linear_trend_noise_z',\n",
    "#  'mag_bins_window1.0_offset0.0_maximum_slope_z',\n",
    "#  'mag_bins_window1.0_offset0.0_minimum_time_interval_z',\n",
    "#  'mag_bins_window1.0_offset0.0_observation_count_z',\n",
    "#  'mag_bins_window1.0_offset0.0_skew_z',\n",
    "#  'mag_duration_z',\n",
    "#  'mag_inter_percentile_range_1_z',\n",
    "#  'mag_linear_fit_slope_z',\n",
    "#  'mag_linear_fit_slope_sigma_z',\n",
    "#  'mag_linear_fit_reduced_chi2_z',\n",
    "#  'mag_maximum_time_interval_z',\n",
    "#  'mag_observation_count_z',\n",
    "#  'mag_period_0_z',\n",
    "#  'mag_period_s_to_n_0_z',\n",
    "#  'mag_periodogram_median_z',\n",
    "#  'mag_periodogram_percent_difference_magnitude_percentile_25_z',\n",
    "#  'mag_chi2_z',\n",
    "#  'mag_stetson_K_z',\n",
    "#  'mag_weighted_mean_z',\n",
    " 'mag_anderson_darling_normal_X',\n",
    " 'mag_bins_window1.0_offset0.0_beyond_1_std_X',\n",
    " 'mag_bins_window1.0_offset0.0_beyond_2_std_X',\n",
    "#  'mag_bins_window1.0_offset0.0_eta_e_X',\n",
    " 'mag_bins_window1.0_offset0.0_kurtosis_X',\n",
    " 'mag_bins_window1.0_offset0.0_linear_trend_X',\n",
    " 'mag_bins_window1.0_offset0.0_linear_trend_sigma_X',\n",
    "#  'mag_bins_window1.0_offset0.0_linear_trend_noise_X',\n",
    " 'mag_bins_window1.0_offset0.0_maximum_slope_X',\n",
    " 'mag_bins_window1.0_offset0.0_minimum_time_interval_X',\n",
    " 'mag_bins_window1.0_offset0.0_observation_count_X',\n",
    " 'mag_bins_window1.0_offset0.0_skew_X',\n",
    " 'mag_duration_X',\n",
    " 'mag_inter_percentile_range_1_X',\n",
    "#  'mag_linear_fit_slope_X',\n",
    "#  'mag_linear_fit_slope_sigma_X',\n",
    "#  'mag_linear_fit_reduced_chi2_X',\n",
    "#  'mag_maximum_time_interval_X',\n",
    "#  'mag_observation_count_X',\n",
    "#  'mag_period_0_X',\n",
    " 'mag_period_s_to_n_0_X',\n",
    "#  'mag_periodogram_median_X',\n",
    "#  'mag_periodogram_percent_difference_magnitude_percentile_25_X',\n",
    "#  'mag_chi2_X',\n",
    " 'mag_stetson_K_X',\n",
    " 'mag_weighted_mean_X',\n",
    " 'mag_anderson_darling_normal_Y',\n",
    " 'mag_bins_window1.0_offset0.0_beyond_1_std_Y',\n",
    " 'mag_bins_window1.0_offset0.0_beyond_2_std_Y',\n",
    "#  'mag_bins_window1.0_offset0.0_eta_e_Y',\n",
    " 'mag_bins_window1.0_offset0.0_kurtosis_Y',\n",
    " 'mag_bins_window1.0_offset0.0_linear_trend_Y',\n",
    " 'mag_bins_window1.0_offset0.0_linear_trend_sigma_Y',\n",
    "#  'mag_bins_window1.0_offset0.0_linear_trend_noise_Y',\n",
    " 'mag_bins_window1.0_offset0.0_maximum_slope_Y',\n",
    " 'mag_bins_window1.0_offset0.0_minimum_time_interval_Y',\n",
    " 'mag_bins_window1.0_offset0.0_observation_count_Y',\n",
    " 'mag_bins_window1.0_offset0.0_skew_Y',\n",
    " 'mag_duration_Y',\n",
    " 'mag_inter_percentile_range_1_Y',\n",
    "#  'mag_linear_fit_slope_Y',\n",
    "#  'mag_linear_fit_slope_sigma_Y',\n",
    "#  'mag_linear_fit_reduced_chi2_Y',\n",
    "#  'mag_maximum_time_interval_Y',\n",
    "#  'mag_observation_count_Y',\n",
    "#  'mag_period_0_Y',\n",
    " 'mag_period_s_to_n_0_Y',\n",
    "#  'mag_periodogram_median_Y',\n",
    "#  'mag_periodogram_percent_difference_magnitude_percentile_25_Y',\n",
    "#  'mag_chi2_Y',\n",
    " 'mag_stetson_K_Y',\n",
    " 'mag_weighted_mean_Y',\n",
    "#  'flux_kurtosis_g',\n",
    "#  'flux_skew_g',\n",
    "#  'flux_kurtosis_r',\n",
    "#  'flux_skew_r',\n",
    "#  'flux_kurtosis_i',\n",
    "#  'flux_skew_i',\n",
    "#  'flux_kurtosis_z',\n",
    "#  'flux_skew_z',\n",
    "#  'flux_kurtosis_X',\n",
    "#  'flux_skew_X',\n",
    "#  'flux_kurtosis_Y',\n",
    "#  'flux_skew_Y',\n",
    "#  'fullflux_bazin_fit_amplitude_g',\n",
    "#  'fullflux_bazin_fit_baseline_g',\n",
    "#  'fullflux_bazin_fit_reference_time_g',\n",
    "#  'fullflux_bazin_fit_rise_time_g',\n",
    "#  'fullflux_bazin_fit_fall_time_g',\n",
    "#  'fullflux_bazin_fit_reduced_chi2_g',\n",
    "#  'fullflux_villar_fit_amplitude_g',\n",
    "#  'fullflux_villar_fit_baseline_g',\n",
    "#  'fullflux_villar_fit_reference_time_g',\n",
    "#  'fullflux_villar_fit_rise_time_g',\n",
    "#  'fullflux_villar_fit_fall_time_g',\n",
    "#  'fullflux_villar_fit_plateau_rel_amplitude_g',\n",
    "#  'fullflux_villar_fit_plateau_duration_g',\n",
    "#  'fullflux_villar_fit_reduced_chi2_g',\n",
    "#  'fullflux_bazin_fit_amplitude_r',\n",
    "#  'fullflux_bazin_fit_baseline_r',\n",
    "#  'fullflux_bazin_fit_reference_time_r',\n",
    "#  'fullflux_bazin_fit_rise_time_r',\n",
    "#  'fullflux_bazin_fit_fall_time_r',\n",
    "#  'fullflux_bazin_fit_reduced_chi2_r',\n",
    "#  'fullflux_villar_fit_amplitude_r',\n",
    "#  'fullflux_villar_fit_baseline_r',\n",
    "#  'fullflux_villar_fit_reference_time_r',\n",
    "#  'fullflux_villar_fit_rise_time_r',\n",
    "#  'fullflux_villar_fit_fall_time_r',\n",
    "#  'fullflux_villar_fit_plateau_rel_amplitude_r',\n",
    "#  'fullflux_villar_fit_plateau_duration_r',\n",
    "#  'fullflux_villar_fit_reduced_chi2_r',\n",
    "#  'fullflux_bazin_fit_amplitude_i',\n",
    "#  'fullflux_bazin_fit_baseline_i',\n",
    "#  'fullflux_bazin_fit_reference_time_i',\n",
    "#  'fullflux_bazin_fit_rise_time_i',\n",
    "#  'fullflux_bazin_fit_fall_time_i',\n",
    "#  'fullflux_bazin_fit_reduced_chi2_i',\n",
    "#  'fullflux_villar_fit_amplitude_i',\n",
    "#  'fullflux_villar_fit_baseline_i',\n",
    "#  'fullflux_villar_fit_reference_time_i',\n",
    "#  'fullflux_villar_fit_rise_time_i',\n",
    "#  'fullflux_villar_fit_fall_time_i',\n",
    "#  'fullflux_villar_fit_plateau_rel_amplitude_i',\n",
    "#  'fullflux_villar_fit_plateau_duration_i',\n",
    "#  'fullflux_villar_fit_reduced_chi2_i',\n",
    "#  'fullflux_bazin_fit_amplitude_z',\n",
    "#  'fullflux_bazin_fit_baseline_z',\n",
    "#  'fullflux_bazin_fit_reference_time_z',\n",
    "#  'fullflux_bazin_fit_rise_time_z',\n",
    "#  'fullflux_bazin_fit_fall_time_z',\n",
    "#  'fullflux_bazin_fit_reduced_chi2_z',\n",
    "#  'fullflux_villar_fit_amplitude_z',\n",
    "#  'fullflux_villar_fit_baseline_z',\n",
    "#  'fullflux_villar_fit_reference_time_z',\n",
    "#  'fullflux_villar_fit_rise_time_z',\n",
    "#  'fullflux_villar_fit_fall_time_z',\n",
    "#  'fullflux_villar_fit_plateau_rel_amplitude_z',\n",
    "#  'fullflux_villar_fit_plateau_duration_z',\n",
    "#  'fullflux_villar_fit_reduced_chi2_z',\n",
    "#  'fullflux_bazin_fit_amplitude_X',\n",
    "#  'fullflux_bazin_fit_baseline_X',\n",
    "#  'fullflux_bazin_fit_reference_time_X',\n",
    "#  'fullflux_bazin_fit_rise_time_X',\n",
    "#  'fullflux_bazin_fit_fall_time_X',\n",
    "#  'fullflux_bazin_fit_reduced_chi2_X',\n",
    "#  'fullflux_villar_fit_amplitude_X',\n",
    "#  'fullflux_villar_fit_baseline_X',\n",
    "#  'fullflux_villar_fit_reference_time_X',\n",
    "#  'fullflux_villar_fit_rise_time_X',\n",
    "#  'fullflux_villar_fit_fall_time_X',\n",
    "#  'fullflux_villar_fit_plateau_rel_amplitude_X',\n",
    "#  'fullflux_villar_fit_plateau_duration_X',\n",
    "#  'fullflux_villar_fit_reduced_chi2_X',\n",
    "#  'fullflux_bazin_fit_amplitude_Y',\n",
    "#  'fullflux_bazin_fit_baseline_Y',\n",
    "#  'fullflux_bazin_fit_reference_time_Y',\n",
    "#  'fullflux_bazin_fit_rise_time_Y',\n",
    "#  'fullflux_bazin_fit_fall_time_Y',\n",
    "#  'fullflux_bazin_fit_reduced_chi2_Y',\n",
    "#  'fullflux_villar_fit_amplitude_Y',\n",
    "#  'fullflux_villar_fit_baseline_Y',\n",
    "#  'fullflux_villar_fit_reference_time_Y',\n",
    "#  'fullflux_villar_fit_rise_time_Y',\n",
    "#  'fullflux_villar_fit_fall_time_Y',\n",
    "#  'fullflux_villar_fit_plateau_rel_amplitude_Y',\n",
    "#  'fullflux_villar_fit_plateau_duration_Y',\n",
    "#  'fullflux_villar_fit_reduced_chi2_Y'\n",
    "                    ]\n",
    "\n",
    "\n",
    "# lc_feature_names = [\n",
    "#      'fullflux_bazin_fit_amplitude_X',\n",
    "#  'fullflux_bazin_fit_baseline_X',\n",
    "#  'fullflux_bazin_fit_reference_time_X',\n",
    "#  'fullflux_bazin_fit_rise_time_X',\n",
    "#  'fullflux_bazin_fit_fall_time_X',\n",
    "#  'fullflux_bazin_fit_reduced_chi2_X',\n",
    "#  'fullflux_villar_fit_amplitude_X',\n",
    "#  'fullflux_villar_fit_baseline_X',\n",
    "#  'fullflux_villar_fit_reference_time_X',\n",
    "#  'fullflux_villar_fit_rise_time_X',\n",
    "#  'fullflux_villar_fit_fall_time_X',\n",
    "#  'fullflux_villar_fit_plateau_rel_amplitude_X',\n",
    "#  'fullflux_villar_fit_plateau_duration_X',\n",
    "#  'fullflux_villar_fit_reduced_chi2_X',\n",
    "#  'fullflux_bazin_fit_amplitude_Y',\n",
    "#  'fullflux_bazin_fit_baseline_Y',\n",
    "#  'fullflux_bazin_fit_reference_time_Y',\n",
    "#  'fullflux_bazin_fit_rise_time_Y',\n",
    "#  'fullflux_bazin_fit_fall_time_Y',\n",
    "#  'fullflux_bazin_fit_reduced_chi2_Y',\n",
    "#  'fullflux_villar_fit_amplitude_Y',\n",
    "#  'fullflux_villar_fit_baseline_Y',\n",
    "#  'fullflux_villar_fit_reference_time_Y',\n",
    "#  'fullflux_villar_fit_rise_time_Y',\n",
    "#  'fullflux_villar_fit_fall_time_Y',\n",
    "#  'fullflux_villar_fit_plateau_rel_amplitude_Y',\n",
    "#  'fullflux_villar_fit_plateau_duration_Y',\n",
    "#  'fullflux_villar_fit_reduced_chi2_Y'\n",
    "#                     ]"
   ]
  },
  {
   "cell_type": "code",
   "execution_count": 23,
   "id": "1762fcb7",
   "metadata": {},
   "outputs": [
    {
     "data": {
      "text/html": [
       "<div>\n",
       "<style scoped>\n",
       "    .dataframe tbody tr th:only-of-type {\n",
       "        vertical-align: middle;\n",
       "    }\n",
       "\n",
       "    .dataframe tbody tr th {\n",
       "        vertical-align: top;\n",
       "    }\n",
       "\n",
       "    .dataframe thead th {\n",
       "        text-align: right;\n",
       "    }\n",
       "</style>\n",
       "<table border=\"1\" class=\"dataframe\">\n",
       "  <thead>\n",
       "    <tr style=\"text-align: right;\">\n",
       "      <th></th>\n",
       "      <th>mag_anderson_darling_normal_X</th>\n",
       "      <th>mag_bins_window1.0_offset0.0_beyond_1_std_X</th>\n",
       "      <th>mag_bins_window1.0_offset0.0_beyond_2_std_X</th>\n",
       "      <th>mag_bins_window1.0_offset0.0_kurtosis_X</th>\n",
       "      <th>mag_bins_window1.0_offset0.0_linear_trend_X</th>\n",
       "      <th>mag_bins_window1.0_offset0.0_linear_trend_sigma_X</th>\n",
       "      <th>mag_bins_window1.0_offset0.0_maximum_slope_X</th>\n",
       "      <th>mag_bins_window1.0_offset0.0_minimum_time_interval_X</th>\n",
       "      <th>mag_bins_window1.0_offset0.0_observation_count_X</th>\n",
       "      <th>mag_bins_window1.0_offset0.0_skew_X</th>\n",
       "      <th>...</th>\n",
       "      <th>mag_bins_window1.0_offset0.0_linear_trend_sigma_Y</th>\n",
       "      <th>mag_bins_window1.0_offset0.0_maximum_slope_Y</th>\n",
       "      <th>mag_bins_window1.0_offset0.0_minimum_time_interval_Y</th>\n",
       "      <th>mag_bins_window1.0_offset0.0_observation_count_Y</th>\n",
       "      <th>mag_bins_window1.0_offset0.0_skew_Y</th>\n",
       "      <th>mag_duration_Y</th>\n",
       "      <th>mag_inter_percentile_range_1_Y</th>\n",
       "      <th>mag_period_s_to_n_0_Y</th>\n",
       "      <th>mag_stetson_K_Y</th>\n",
       "      <th>mag_weighted_mean_Y</th>\n",
       "    </tr>\n",
       "    <tr>\n",
       "      <th>TransientName</th>\n",
       "      <th></th>\n",
       "      <th></th>\n",
       "      <th></th>\n",
       "      <th></th>\n",
       "      <th></th>\n",
       "      <th></th>\n",
       "      <th></th>\n",
       "      <th></th>\n",
       "      <th></th>\n",
       "      <th></th>\n",
       "      <th></th>\n",
       "      <th></th>\n",
       "      <th></th>\n",
       "      <th></th>\n",
       "      <th></th>\n",
       "      <th></th>\n",
       "      <th></th>\n",
       "      <th></th>\n",
       "      <th></th>\n",
       "      <th></th>\n",
       "      <th></th>\n",
       "    </tr>\n",
       "  </thead>\n",
       "  <tbody>\n",
       "    <tr>\n",
       "      <th>2019lbi</th>\n",
       "      <td>1.085429</td>\n",
       "      <td>0.222222</td>\n",
       "      <td>0.000000</td>\n",
       "      <td>0.128628</td>\n",
       "      <td>0.018062</td>\n",
       "      <td>0.000526</td>\n",
       "      <td>0.121042</td>\n",
       "      <td>3.0</td>\n",
       "      <td>9.0</td>\n",
       "      <td>-1.286109</td>\n",
       "      <td>...</td>\n",
       "      <td>0.000262</td>\n",
       "      <td>0.101480</td>\n",
       "      <td>1.0</td>\n",
       "      <td>32.0</td>\n",
       "      <td>-0.872049</td>\n",
       "      <td>344.044006</td>\n",
       "      <td>3.648268</td>\n",
       "      <td>12.382952</td>\n",
       "      <td>0.831432</td>\n",
       "      <td>18.198195</td>\n",
       "    </tr>\n",
       "    <tr>\n",
       "      <th>2019pmd</th>\n",
       "      <td>0.726459</td>\n",
       "      <td>0.428571</td>\n",
       "      <td>0.000000</td>\n",
       "      <td>-1.441692</td>\n",
       "      <td>0.022316</td>\n",
       "      <td>0.004344</td>\n",
       "      <td>0.338969</td>\n",
       "      <td>2.0</td>\n",
       "      <td>21.0</td>\n",
       "      <td>-0.249814</td>\n",
       "      <td>...</td>\n",
       "      <td>0.002092</td>\n",
       "      <td>0.826923</td>\n",
       "      <td>1.0</td>\n",
       "      <td>21.0</td>\n",
       "      <td>0.295671</td>\n",
       "      <td>145.619019</td>\n",
       "      <td>4.427258</td>\n",
       "      <td>6.954203</td>\n",
       "      <td>0.933364</td>\n",
       "      <td>16.962160</td>\n",
       "    </tr>\n",
       "    <tr>\n",
       "      <th>2019ppi</th>\n",
       "      <td>1.309915</td>\n",
       "      <td>0.160000</td>\n",
       "      <td>0.080000</td>\n",
       "      <td>1.636233</td>\n",
       "      <td>0.011189</td>\n",
       "      <td>0.001569</td>\n",
       "      <td>0.376831</td>\n",
       "      <td>1.0</td>\n",
       "      <td>25.0</td>\n",
       "      <td>1.374264</td>\n",
       "      <td>...</td>\n",
       "      <td>0.000814</td>\n",
       "      <td>0.340778</td>\n",
       "      <td>1.0</td>\n",
       "      <td>43.0</td>\n",
       "      <td>0.206909</td>\n",
       "      <td>147.801025</td>\n",
       "      <td>1.946657</td>\n",
       "      <td>12.733513</td>\n",
       "      <td>0.831187</td>\n",
       "      <td>19.062292</td>\n",
       "    </tr>\n",
       "    <tr>\n",
       "      <th>2019tvv</th>\n",
       "      <td>4.366697</td>\n",
       "      <td>0.177778</td>\n",
       "      <td>0.066667</td>\n",
       "      <td>3.655688</td>\n",
       "      <td>0.023404</td>\n",
       "      <td>0.001816</td>\n",
       "      <td>0.296412</td>\n",
       "      <td>1.0</td>\n",
       "      <td>45.0</td>\n",
       "      <td>-1.953969</td>\n",
       "      <td>...</td>\n",
       "      <td>0.000712</td>\n",
       "      <td>0.202045</td>\n",
       "      <td>1.0</td>\n",
       "      <td>36.0</td>\n",
       "      <td>-0.788632</td>\n",
       "      <td>128.914917</td>\n",
       "      <td>4.447578</td>\n",
       "      <td>11.143915</td>\n",
       "      <td>0.920395</td>\n",
       "      <td>16.863365</td>\n",
       "    </tr>\n",
       "    <tr>\n",
       "      <th>2019ucc</th>\n",
       "      <td>0.130168</td>\n",
       "      <td>0.250000</td>\n",
       "      <td>0.000000</td>\n",
       "      <td>-4.296865</td>\n",
       "      <td>-0.012319</td>\n",
       "      <td>0.024869</td>\n",
       "      <td>0.061535</td>\n",
       "      <td>3.0</td>\n",
       "      <td>4.0</td>\n",
       "      <td>0.191147</td>\n",
       "      <td>...</td>\n",
       "      <td>0.004494</td>\n",
       "      <td>0.187197</td>\n",
       "      <td>2.0</td>\n",
       "      <td>11.0</td>\n",
       "      <td>0.686212</td>\n",
       "      <td>84.753052</td>\n",
       "      <td>2.013756</td>\n",
       "      <td>4.932055</td>\n",
       "      <td>0.842247</td>\n",
       "      <td>18.999735</td>\n",
       "    </tr>\n",
       "    <tr>\n",
       "      <th>...</th>\n",
       "      <td>...</td>\n",
       "      <td>...</td>\n",
       "      <td>...</td>\n",
       "      <td>...</td>\n",
       "      <td>...</td>\n",
       "      <td>...</td>\n",
       "      <td>...</td>\n",
       "      <td>...</td>\n",
       "      <td>...</td>\n",
       "      <td>...</td>\n",
       "      <td>...</td>\n",
       "      <td>...</td>\n",
       "      <td>...</td>\n",
       "      <td>...</td>\n",
       "      <td>...</td>\n",
       "      <td>...</td>\n",
       "      <td>...</td>\n",
       "      <td>...</td>\n",
       "      <td>...</td>\n",
       "      <td>...</td>\n",
       "      <td>...</td>\n",
       "    </tr>\n",
       "    <tr>\n",
       "      <th>2021zep</th>\n",
       "      <td>0.509108</td>\n",
       "      <td>0.454545</td>\n",
       "      <td>0.000000</td>\n",
       "      <td>-1.627568</td>\n",
       "      <td>0.012449</td>\n",
       "      <td>0.013671</td>\n",
       "      <td>0.287601</td>\n",
       "      <td>2.0</td>\n",
       "      <td>11.0</td>\n",
       "      <td>0.150971</td>\n",
       "      <td>...</td>\n",
       "      <td>0.005810</td>\n",
       "      <td>0.150899</td>\n",
       "      <td>2.0</td>\n",
       "      <td>12.0</td>\n",
       "      <td>0.523085</td>\n",
       "      <td>75.838989</td>\n",
       "      <td>1.926023</td>\n",
       "      <td>4.859226</td>\n",
       "      <td>0.846542</td>\n",
       "      <td>19.030943</td>\n",
       "    </tr>\n",
       "    <tr>\n",
       "      <th>2021zqa</th>\n",
       "      <td>0.400820</td>\n",
       "      <td>0.142857</td>\n",
       "      <td>0.000000</td>\n",
       "      <td>1.401948</td>\n",
       "      <td>-0.032981</td>\n",
       "      <td>0.023129</td>\n",
       "      <td>0.217682</td>\n",
       "      <td>2.0</td>\n",
       "      <td>7.0</td>\n",
       "      <td>1.237870</td>\n",
       "      <td>...</td>\n",
       "      <td>0.010014</td>\n",
       "      <td>0.142833</td>\n",
       "      <td>2.0</td>\n",
       "      <td>7.0</td>\n",
       "      <td>0.229846</td>\n",
       "      <td>39.899994</td>\n",
       "      <td>1.112675</td>\n",
       "      <td>3.395781</td>\n",
       "      <td>0.838068</td>\n",
       "      <td>19.922844</td>\n",
       "    </tr>\n",
       "    <tr>\n",
       "      <th>2021zri</th>\n",
       "      <td>0.470219</td>\n",
       "      <td>0.357143</td>\n",
       "      <td>0.000000</td>\n",
       "      <td>-1.397271</td>\n",
       "      <td>0.053136</td>\n",
       "      <td>0.007138</td>\n",
       "      <td>0.347882</td>\n",
       "      <td>2.0</td>\n",
       "      <td>14.0</td>\n",
       "      <td>-0.203854</td>\n",
       "      <td>...</td>\n",
       "      <td>0.006439</td>\n",
       "      <td>0.157699</td>\n",
       "      <td>2.0</td>\n",
       "      <td>14.0</td>\n",
       "      <td>0.598503</td>\n",
       "      <td>65.880981</td>\n",
       "      <td>1.896738</td>\n",
       "      <td>5.734282</td>\n",
       "      <td>0.860473</td>\n",
       "      <td>17.555134</td>\n",
       "    </tr>\n",
       "    <tr>\n",
       "      <th>2021ztz</th>\n",
       "      <td>0.712603</td>\n",
       "      <td>0.285714</td>\n",
       "      <td>0.000000</td>\n",
       "      <td>-0.986181</td>\n",
       "      <td>0.001336</td>\n",
       "      <td>0.022291</td>\n",
       "      <td>0.165399</td>\n",
       "      <td>2.0</td>\n",
       "      <td>7.0</td>\n",
       "      <td>0.930388</td>\n",
       "      <td>...</td>\n",
       "      <td>0.008504</td>\n",
       "      <td>0.135857</td>\n",
       "      <td>2.0</td>\n",
       "      <td>9.0</td>\n",
       "      <td>0.722285</td>\n",
       "      <td>52.910980</td>\n",
       "      <td>1.722006</td>\n",
       "      <td>3.969246</td>\n",
       "      <td>0.842078</td>\n",
       "      <td>19.646832</td>\n",
       "    </tr>\n",
       "    <tr>\n",
       "      <th>2021zvo</th>\n",
       "      <td>0.199878</td>\n",
       "      <td>0.333333</td>\n",
       "      <td>0.000000</td>\n",
       "      <td>-1.046019</td>\n",
       "      <td>0.006593</td>\n",
       "      <td>0.011183</td>\n",
       "      <td>0.113324</td>\n",
       "      <td>2.0</td>\n",
       "      <td>9.0</td>\n",
       "      <td>0.173905</td>\n",
       "      <td>...</td>\n",
       "      <td>0.006296</td>\n",
       "      <td>0.117534</td>\n",
       "      <td>2.0</td>\n",
       "      <td>8.0</td>\n",
       "      <td>0.059670</td>\n",
       "      <td>17.960022</td>\n",
       "      <td>0.415115</td>\n",
       "      <td>3.465942</td>\n",
       "      <td>0.940232</td>\n",
       "      <td>20.342684</td>\n",
       "    </tr>\n",
       "  </tbody>\n",
       "</table>\n",
       "<p>911 rows × 30 columns</p>\n",
       "</div>"
      ],
      "text/plain": [
       "               mag_anderson_darling_normal_X  \\\n",
       "TransientName                                  \n",
       "2019lbi                             1.085429   \n",
       "2019pmd                             0.726459   \n",
       "2019ppi                             1.309915   \n",
       "2019tvv                             4.366697   \n",
       "2019ucc                             0.130168   \n",
       "...                                      ...   \n",
       "2021zep                             0.509108   \n",
       "2021zqa                             0.400820   \n",
       "2021zri                             0.470219   \n",
       "2021ztz                             0.712603   \n",
       "2021zvo                             0.199878   \n",
       "\n",
       "               mag_bins_window1.0_offset0.0_beyond_1_std_X  \\\n",
       "TransientName                                                \n",
       "2019lbi                                           0.222222   \n",
       "2019pmd                                           0.428571   \n",
       "2019ppi                                           0.160000   \n",
       "2019tvv                                           0.177778   \n",
       "2019ucc                                           0.250000   \n",
       "...                                                    ...   \n",
       "2021zep                                           0.454545   \n",
       "2021zqa                                           0.142857   \n",
       "2021zri                                           0.357143   \n",
       "2021ztz                                           0.285714   \n",
       "2021zvo                                           0.333333   \n",
       "\n",
       "               mag_bins_window1.0_offset0.0_beyond_2_std_X  \\\n",
       "TransientName                                                \n",
       "2019lbi                                           0.000000   \n",
       "2019pmd                                           0.000000   \n",
       "2019ppi                                           0.080000   \n",
       "2019tvv                                           0.066667   \n",
       "2019ucc                                           0.000000   \n",
       "...                                                    ...   \n",
       "2021zep                                           0.000000   \n",
       "2021zqa                                           0.000000   \n",
       "2021zri                                           0.000000   \n",
       "2021ztz                                           0.000000   \n",
       "2021zvo                                           0.000000   \n",
       "\n",
       "               mag_bins_window1.0_offset0.0_kurtosis_X  \\\n",
       "TransientName                                            \n",
       "2019lbi                                       0.128628   \n",
       "2019pmd                                      -1.441692   \n",
       "2019ppi                                       1.636233   \n",
       "2019tvv                                       3.655688   \n",
       "2019ucc                                      -4.296865   \n",
       "...                                                ...   \n",
       "2021zep                                      -1.627568   \n",
       "2021zqa                                       1.401948   \n",
       "2021zri                                      -1.397271   \n",
       "2021ztz                                      -0.986181   \n",
       "2021zvo                                      -1.046019   \n",
       "\n",
       "               mag_bins_window1.0_offset0.0_linear_trend_X  \\\n",
       "TransientName                                                \n",
       "2019lbi                                           0.018062   \n",
       "2019pmd                                           0.022316   \n",
       "2019ppi                                           0.011189   \n",
       "2019tvv                                           0.023404   \n",
       "2019ucc                                          -0.012319   \n",
       "...                                                    ...   \n",
       "2021zep                                           0.012449   \n",
       "2021zqa                                          -0.032981   \n",
       "2021zri                                           0.053136   \n",
       "2021ztz                                           0.001336   \n",
       "2021zvo                                           0.006593   \n",
       "\n",
       "               mag_bins_window1.0_offset0.0_linear_trend_sigma_X  \\\n",
       "TransientName                                                      \n",
       "2019lbi                                                 0.000526   \n",
       "2019pmd                                                 0.004344   \n",
       "2019ppi                                                 0.001569   \n",
       "2019tvv                                                 0.001816   \n",
       "2019ucc                                                 0.024869   \n",
       "...                                                          ...   \n",
       "2021zep                                                 0.013671   \n",
       "2021zqa                                                 0.023129   \n",
       "2021zri                                                 0.007138   \n",
       "2021ztz                                                 0.022291   \n",
       "2021zvo                                                 0.011183   \n",
       "\n",
       "               mag_bins_window1.0_offset0.0_maximum_slope_X  \\\n",
       "TransientName                                                 \n",
       "2019lbi                                            0.121042   \n",
       "2019pmd                                            0.338969   \n",
       "2019ppi                                            0.376831   \n",
       "2019tvv                                            0.296412   \n",
       "2019ucc                                            0.061535   \n",
       "...                                                     ...   \n",
       "2021zep                                            0.287601   \n",
       "2021zqa                                            0.217682   \n",
       "2021zri                                            0.347882   \n",
       "2021ztz                                            0.165399   \n",
       "2021zvo                                            0.113324   \n",
       "\n",
       "               mag_bins_window1.0_offset0.0_minimum_time_interval_X  \\\n",
       "TransientName                                                         \n",
       "2019lbi                                                      3.0      \n",
       "2019pmd                                                      2.0      \n",
       "2019ppi                                                      1.0      \n",
       "2019tvv                                                      1.0      \n",
       "2019ucc                                                      3.0      \n",
       "...                                                          ...      \n",
       "2021zep                                                      2.0      \n",
       "2021zqa                                                      2.0      \n",
       "2021zri                                                      2.0      \n",
       "2021ztz                                                      2.0      \n",
       "2021zvo                                                      2.0      \n",
       "\n",
       "               mag_bins_window1.0_offset0.0_observation_count_X  \\\n",
       "TransientName                                                     \n",
       "2019lbi                                                     9.0   \n",
       "2019pmd                                                    21.0   \n",
       "2019ppi                                                    25.0   \n",
       "2019tvv                                                    45.0   \n",
       "2019ucc                                                     4.0   \n",
       "...                                                         ...   \n",
       "2021zep                                                    11.0   \n",
       "2021zqa                                                     7.0   \n",
       "2021zri                                                    14.0   \n",
       "2021ztz                                                     7.0   \n",
       "2021zvo                                                     9.0   \n",
       "\n",
       "               mag_bins_window1.0_offset0.0_skew_X  ...  \\\n",
       "TransientName                                       ...   \n",
       "2019lbi                                  -1.286109  ...   \n",
       "2019pmd                                  -0.249814  ...   \n",
       "2019ppi                                   1.374264  ...   \n",
       "2019tvv                                  -1.953969  ...   \n",
       "2019ucc                                   0.191147  ...   \n",
       "...                                            ...  ...   \n",
       "2021zep                                   0.150971  ...   \n",
       "2021zqa                                   1.237870  ...   \n",
       "2021zri                                  -0.203854  ...   \n",
       "2021ztz                                   0.930388  ...   \n",
       "2021zvo                                   0.173905  ...   \n",
       "\n",
       "               mag_bins_window1.0_offset0.0_linear_trend_sigma_Y  \\\n",
       "TransientName                                                      \n",
       "2019lbi                                                 0.000262   \n",
       "2019pmd                                                 0.002092   \n",
       "2019ppi                                                 0.000814   \n",
       "2019tvv                                                 0.000712   \n",
       "2019ucc                                                 0.004494   \n",
       "...                                                          ...   \n",
       "2021zep                                                 0.005810   \n",
       "2021zqa                                                 0.010014   \n",
       "2021zri                                                 0.006439   \n",
       "2021ztz                                                 0.008504   \n",
       "2021zvo                                                 0.006296   \n",
       "\n",
       "               mag_bins_window1.0_offset0.0_maximum_slope_Y  \\\n",
       "TransientName                                                 \n",
       "2019lbi                                            0.101480   \n",
       "2019pmd                                            0.826923   \n",
       "2019ppi                                            0.340778   \n",
       "2019tvv                                            0.202045   \n",
       "2019ucc                                            0.187197   \n",
       "...                                                     ...   \n",
       "2021zep                                            0.150899   \n",
       "2021zqa                                            0.142833   \n",
       "2021zri                                            0.157699   \n",
       "2021ztz                                            0.135857   \n",
       "2021zvo                                            0.117534   \n",
       "\n",
       "               mag_bins_window1.0_offset0.0_minimum_time_interval_Y  \\\n",
       "TransientName                                                         \n",
       "2019lbi                                                      1.0      \n",
       "2019pmd                                                      1.0      \n",
       "2019ppi                                                      1.0      \n",
       "2019tvv                                                      1.0      \n",
       "2019ucc                                                      2.0      \n",
       "...                                                          ...      \n",
       "2021zep                                                      2.0      \n",
       "2021zqa                                                      2.0      \n",
       "2021zri                                                      2.0      \n",
       "2021ztz                                                      2.0      \n",
       "2021zvo                                                      2.0      \n",
       "\n",
       "               mag_bins_window1.0_offset0.0_observation_count_Y  \\\n",
       "TransientName                                                     \n",
       "2019lbi                                                    32.0   \n",
       "2019pmd                                                    21.0   \n",
       "2019ppi                                                    43.0   \n",
       "2019tvv                                                    36.0   \n",
       "2019ucc                                                    11.0   \n",
       "...                                                         ...   \n",
       "2021zep                                                    12.0   \n",
       "2021zqa                                                     7.0   \n",
       "2021zri                                                    14.0   \n",
       "2021ztz                                                     9.0   \n",
       "2021zvo                                                     8.0   \n",
       "\n",
       "               mag_bins_window1.0_offset0.0_skew_Y  mag_duration_Y  \\\n",
       "TransientName                                                        \n",
       "2019lbi                                  -0.872049      344.044006   \n",
       "2019pmd                                   0.295671      145.619019   \n",
       "2019ppi                                   0.206909      147.801025   \n",
       "2019tvv                                  -0.788632      128.914917   \n",
       "2019ucc                                   0.686212       84.753052   \n",
       "...                                            ...             ...   \n",
       "2021zep                                   0.523085       75.838989   \n",
       "2021zqa                                   0.229846       39.899994   \n",
       "2021zri                                   0.598503       65.880981   \n",
       "2021ztz                                   0.722285       52.910980   \n",
       "2021zvo                                   0.059670       17.960022   \n",
       "\n",
       "               mag_inter_percentile_range_1_Y  mag_period_s_to_n_0_Y  \\\n",
       "TransientName                                                          \n",
       "2019lbi                              3.648268              12.382952   \n",
       "2019pmd                              4.427258               6.954203   \n",
       "2019ppi                              1.946657              12.733513   \n",
       "2019tvv                              4.447578              11.143915   \n",
       "2019ucc                              2.013756               4.932055   \n",
       "...                                       ...                    ...   \n",
       "2021zep                              1.926023               4.859226   \n",
       "2021zqa                              1.112675               3.395781   \n",
       "2021zri                              1.896738               5.734282   \n",
       "2021ztz                              1.722006               3.969246   \n",
       "2021zvo                              0.415115               3.465942   \n",
       "\n",
       "               mag_stetson_K_Y  mag_weighted_mean_Y  \n",
       "TransientName                                        \n",
       "2019lbi               0.831432            18.198195  \n",
       "2019pmd               0.933364            16.962160  \n",
       "2019ppi               0.831187            19.062292  \n",
       "2019tvv               0.920395            16.863365  \n",
       "2019ucc               0.842247            18.999735  \n",
       "...                        ...                  ...  \n",
       "2021zep               0.846542            19.030943  \n",
       "2021zqa               0.838068            19.922844  \n",
       "2021zri               0.860473            17.555134  \n",
       "2021ztz               0.842078            19.646832  \n",
       "2021zvo               0.940232            20.342684  \n",
       "\n",
       "[911 rows x 30 columns]"
      ]
     },
     "execution_count": 23,
     "metadata": {},
     "output_type": "execute_result"
    }
   ],
   "source": [
    "# only keep features of bank\n",
    "lc_dataset_bank = dr1_lc_allfeat_df[lc_feature_names]\n",
    "        \n",
    "# drop row if any feature values are nan\n",
    "lc_dataset_bank = lc_dataset_bank[~lc_dataset_bank[lc_feature_names].isnull().any(axis=1)]\n",
    "\n",
    "#mask = (dataset_bank['num_mag_values'] >= 40) #& (dataset_bank['num_mag_values'] <= 40)\n",
    "#dataset_bank = dataset_bank[mask]\n",
    "lc_dataset_bank.index.name = 'TransientName'\n",
    "lc_dataset_bank"
   ]
  },
  {
   "cell_type": "code",
   "execution_count": 24,
   "id": "86ded476",
   "metadata": {},
   "outputs": [
    {
     "data": {
      "text/html": [
       "<div>\n",
       "<style scoped>\n",
       "    .dataframe tbody tr th:only-of-type {\n",
       "        vertical-align: middle;\n",
       "    }\n",
       "\n",
       "    .dataframe tbody tr th {\n",
       "        vertical-align: top;\n",
       "    }\n",
       "\n",
       "    .dataframe thead th {\n",
       "        text-align: right;\n",
       "    }\n",
       "</style>\n",
       "<table border=\"1\" class=\"dataframe\">\n",
       "  <thead>\n",
       "    <tr style=\"text-align: right;\">\n",
       "      <th></th>\n",
       "      <th>mag_anderson_darling_normal_X</th>\n",
       "      <th>mag_bins_window1.0_offset0.0_beyond_1_std_X</th>\n",
       "      <th>mag_bins_window1.0_offset0.0_beyond_2_std_X</th>\n",
       "      <th>mag_bins_window1.0_offset0.0_kurtosis_X</th>\n",
       "      <th>mag_bins_window1.0_offset0.0_linear_trend_X</th>\n",
       "      <th>mag_bins_window1.0_offset0.0_linear_trend_sigma_X</th>\n",
       "      <th>mag_bins_window1.0_offset0.0_maximum_slope_X</th>\n",
       "      <th>mag_bins_window1.0_offset0.0_minimum_time_interval_X</th>\n",
       "      <th>mag_bins_window1.0_offset0.0_observation_count_X</th>\n",
       "      <th>mag_bins_window1.0_offset0.0_skew_X</th>\n",
       "      <th>...</th>\n",
       "      <th>yKronRad</th>\n",
       "      <th>yExtNSigma</th>\n",
       "      <th>i-z</th>\n",
       "      <th>gApMag_gKronMag</th>\n",
       "      <th>rApMag_rKronMag</th>\n",
       "      <th>iApMag_iKronMag</th>\n",
       "      <th>zApMag_zKronMag</th>\n",
       "      <th>yApMag_yKronMag</th>\n",
       "      <th>7DCD</th>\n",
       "      <th>dist/DLR</th>\n",
       "    </tr>\n",
       "    <tr>\n",
       "      <th>TransientName</th>\n",
       "      <th></th>\n",
       "      <th></th>\n",
       "      <th></th>\n",
       "      <th></th>\n",
       "      <th></th>\n",
       "      <th></th>\n",
       "      <th></th>\n",
       "      <th></th>\n",
       "      <th></th>\n",
       "      <th></th>\n",
       "      <th></th>\n",
       "      <th></th>\n",
       "      <th></th>\n",
       "      <th></th>\n",
       "      <th></th>\n",
       "      <th></th>\n",
       "      <th></th>\n",
       "      <th></th>\n",
       "      <th></th>\n",
       "      <th></th>\n",
       "      <th></th>\n",
       "    </tr>\n",
       "  </thead>\n",
       "  <tbody>\n",
       "    <tr>\n",
       "      <th>2019lbi</th>\n",
       "      <td>1.085429</td>\n",
       "      <td>0.222222</td>\n",
       "      <td>0.000000</td>\n",
       "      <td>0.128628</td>\n",
       "      <td>0.018062</td>\n",
       "      <td>0.000526</td>\n",
       "      <td>0.121042</td>\n",
       "      <td>3.0</td>\n",
       "      <td>9.0</td>\n",
       "      <td>-1.286109</td>\n",
       "      <td>...</td>\n",
       "      <td>8.03673</td>\n",
       "      <td>45.397099</td>\n",
       "      <td>-0.034300</td>\n",
       "      <td>1.111500</td>\n",
       "      <td>1.045700</td>\n",
       "      <td>1.095100</td>\n",
       "      <td>1.185299</td>\n",
       "      <td>1.364901</td>\n",
       "      <td>26.663832</td>\n",
       "      <td>1.456105</td>\n",
       "    </tr>\n",
       "    <tr>\n",
       "      <th>2019pmd</th>\n",
       "      <td>0.726459</td>\n",
       "      <td>0.428571</td>\n",
       "      <td>0.000000</td>\n",
       "      <td>-1.441692</td>\n",
       "      <td>0.022316</td>\n",
       "      <td>0.004344</td>\n",
       "      <td>0.338969</td>\n",
       "      <td>2.0</td>\n",
       "      <td>21.0</td>\n",
       "      <td>-0.249814</td>\n",
       "      <td>...</td>\n",
       "      <td>10.86290</td>\n",
       "      <td>31.184401</td>\n",
       "      <td>0.204000</td>\n",
       "      <td>0.976000</td>\n",
       "      <td>1.221400</td>\n",
       "      <td>1.323200</td>\n",
       "      <td>1.253700</td>\n",
       "      <td>1.546600</td>\n",
       "      <td>65.241111</td>\n",
       "      <td>0.420208</td>\n",
       "    </tr>\n",
       "    <tr>\n",
       "      <th>2019tvv</th>\n",
       "      <td>4.366697</td>\n",
       "      <td>0.177778</td>\n",
       "      <td>0.066667</td>\n",
       "      <td>3.655688</td>\n",
       "      <td>0.023404</td>\n",
       "      <td>0.001816</td>\n",
       "      <td>0.296412</td>\n",
       "      <td>1.0</td>\n",
       "      <td>45.0</td>\n",
       "      <td>-1.953969</td>\n",
       "      <td>...</td>\n",
       "      <td>7.87224</td>\n",
       "      <td>27.926201</td>\n",
       "      <td>0.226601</td>\n",
       "      <td>0.928600</td>\n",
       "      <td>1.125900</td>\n",
       "      <td>1.000999</td>\n",
       "      <td>1.031599</td>\n",
       "      <td>0.950701</td>\n",
       "      <td>60.217580</td>\n",
       "      <td>1.163162</td>\n",
       "    </tr>\n",
       "    <tr>\n",
       "      <th>2019ucc</th>\n",
       "      <td>0.130168</td>\n",
       "      <td>0.250000</td>\n",
       "      <td>0.000000</td>\n",
       "      <td>-4.296865</td>\n",
       "      <td>-0.012319</td>\n",
       "      <td>0.024869</td>\n",
       "      <td>0.061535</td>\n",
       "      <td>3.0</td>\n",
       "      <td>4.0</td>\n",
       "      <td>0.191147</td>\n",
       "      <td>...</td>\n",
       "      <td>10.28090</td>\n",
       "      <td>23.053499</td>\n",
       "      <td>0.320499</td>\n",
       "      <td>1.068901</td>\n",
       "      <td>1.143600</td>\n",
       "      <td>1.316299</td>\n",
       "      <td>1.099200</td>\n",
       "      <td>1.152301</td>\n",
       "      <td>73.291380</td>\n",
       "      <td>0.379586</td>\n",
       "    </tr>\n",
       "    <tr>\n",
       "      <th>2019uev</th>\n",
       "      <td>0.643400</td>\n",
       "      <td>0.294118</td>\n",
       "      <td>0.058824</td>\n",
       "      <td>-0.643401</td>\n",
       "      <td>0.008710</td>\n",
       "      <td>0.003826</td>\n",
       "      <td>0.174856</td>\n",
       "      <td>1.0</td>\n",
       "      <td>17.0</td>\n",
       "      <td>-0.629725</td>\n",
       "      <td>...</td>\n",
       "      <td>6.07050</td>\n",
       "      <td>32.341202</td>\n",
       "      <td>-0.049799</td>\n",
       "      <td>0.619699</td>\n",
       "      <td>0.749001</td>\n",
       "      <td>0.713200</td>\n",
       "      <td>0.764200</td>\n",
       "      <td>0.841801</td>\n",
       "      <td>27.599230</td>\n",
       "      <td>0.612023</td>\n",
       "    </tr>\n",
       "    <tr>\n",
       "      <th>...</th>\n",
       "      <td>...</td>\n",
       "      <td>...</td>\n",
       "      <td>...</td>\n",
       "      <td>...</td>\n",
       "      <td>...</td>\n",
       "      <td>...</td>\n",
       "      <td>...</td>\n",
       "      <td>...</td>\n",
       "      <td>...</td>\n",
       "      <td>...</td>\n",
       "      <td>...</td>\n",
       "      <td>...</td>\n",
       "      <td>...</td>\n",
       "      <td>...</td>\n",
       "      <td>...</td>\n",
       "      <td>...</td>\n",
       "      <td>...</td>\n",
       "      <td>...</td>\n",
       "      <td>...</td>\n",
       "      <td>...</td>\n",
       "      <td>...</td>\n",
       "    </tr>\n",
       "    <tr>\n",
       "      <th>2021zcj</th>\n",
       "      <td>0.546062</td>\n",
       "      <td>0.428571</td>\n",
       "      <td>0.000000</td>\n",
       "      <td>-0.651149</td>\n",
       "      <td>0.000512</td>\n",
       "      <td>0.004607</td>\n",
       "      <td>0.093615</td>\n",
       "      <td>1.0</td>\n",
       "      <td>7.0</td>\n",
       "      <td>-0.953949</td>\n",
       "      <td>...</td>\n",
       "      <td>4.03488</td>\n",
       "      <td>19.229700</td>\n",
       "      <td>0.113899</td>\n",
       "      <td>0.235800</td>\n",
       "      <td>0.318800</td>\n",
       "      <td>0.279600</td>\n",
       "      <td>0.317801</td>\n",
       "      <td>0.263401</td>\n",
       "      <td>20.220405</td>\n",
       "      <td>0.338579</td>\n",
       "    </tr>\n",
       "    <tr>\n",
       "      <th>2021zep</th>\n",
       "      <td>0.509108</td>\n",
       "      <td>0.454545</td>\n",
       "      <td>0.000000</td>\n",
       "      <td>-1.627568</td>\n",
       "      <td>0.012449</td>\n",
       "      <td>0.013671</td>\n",
       "      <td>0.287601</td>\n",
       "      <td>2.0</td>\n",
       "      <td>11.0</td>\n",
       "      <td>0.150971</td>\n",
       "      <td>...</td>\n",
       "      <td>5.89197</td>\n",
       "      <td>20.240700</td>\n",
       "      <td>0.351398</td>\n",
       "      <td>0.361198</td>\n",
       "      <td>0.466999</td>\n",
       "      <td>0.493700</td>\n",
       "      <td>0.393900</td>\n",
       "      <td>0.385300</td>\n",
       "      <td>55.104228</td>\n",
       "      <td>1.273129</td>\n",
       "    </tr>\n",
       "    <tr>\n",
       "      <th>2021zri</th>\n",
       "      <td>0.470219</td>\n",
       "      <td>0.357143</td>\n",
       "      <td>0.000000</td>\n",
       "      <td>-1.397271</td>\n",
       "      <td>0.053136</td>\n",
       "      <td>0.007138</td>\n",
       "      <td>0.347882</td>\n",
       "      <td>2.0</td>\n",
       "      <td>14.0</td>\n",
       "      <td>-0.203854</td>\n",
       "      <td>...</td>\n",
       "      <td>7.89484</td>\n",
       "      <td>49.709301</td>\n",
       "      <td>0.164801</td>\n",
       "      <td>0.693201</td>\n",
       "      <td>0.732700</td>\n",
       "      <td>0.931401</td>\n",
       "      <td>0.949600</td>\n",
       "      <td>1.013801</td>\n",
       "      <td>46.254684</td>\n",
       "      <td>0.129584</td>\n",
       "    </tr>\n",
       "    <tr>\n",
       "      <th>2021ztz</th>\n",
       "      <td>0.712603</td>\n",
       "      <td>0.285714</td>\n",
       "      <td>0.000000</td>\n",
       "      <td>-0.986181</td>\n",
       "      <td>0.001336</td>\n",
       "      <td>0.022291</td>\n",
       "      <td>0.165399</td>\n",
       "      <td>2.0</td>\n",
       "      <td>7.0</td>\n",
       "      <td>0.930388</td>\n",
       "      <td>...</td>\n",
       "      <td>3.12731</td>\n",
       "      <td>16.291100</td>\n",
       "      <td>0.218899</td>\n",
       "      <td>0.176001</td>\n",
       "      <td>0.198000</td>\n",
       "      <td>0.186800</td>\n",
       "      <td>0.065802</td>\n",
       "      <td>0.041300</td>\n",
       "      <td>7.097819</td>\n",
       "      <td>0.125253</td>\n",
       "    </tr>\n",
       "    <tr>\n",
       "      <th>2021zvo</th>\n",
       "      <td>0.199878</td>\n",
       "      <td>0.333333</td>\n",
       "      <td>0.000000</td>\n",
       "      <td>-1.046019</td>\n",
       "      <td>0.006593</td>\n",
       "      <td>0.011183</td>\n",
       "      <td>0.113324</td>\n",
       "      <td>2.0</td>\n",
       "      <td>9.0</td>\n",
       "      <td>0.173905</td>\n",
       "      <td>...</td>\n",
       "      <td>2.74671</td>\n",
       "      <td>7.097710</td>\n",
       "      <td>-0.073299</td>\n",
       "      <td>0.259600</td>\n",
       "      <td>0.320902</td>\n",
       "      <td>0.113699</td>\n",
       "      <td>0.171299</td>\n",
       "      <td>-0.203400</td>\n",
       "      <td>19.367479</td>\n",
       "      <td>0.507676</td>\n",
       "    </tr>\n",
       "  </tbody>\n",
       "</table>\n",
       "<p>704 rows × 88 columns</p>\n",
       "</div>"
      ],
      "text/plain": [
       "               mag_anderson_darling_normal_X  \\\n",
       "TransientName                                  \n",
       "2019lbi                             1.085429   \n",
       "2019pmd                             0.726459   \n",
       "2019tvv                             4.366697   \n",
       "2019ucc                             0.130168   \n",
       "2019uev                             0.643400   \n",
       "...                                      ...   \n",
       "2021zcj                             0.546062   \n",
       "2021zep                             0.509108   \n",
       "2021zri                             0.470219   \n",
       "2021ztz                             0.712603   \n",
       "2021zvo                             0.199878   \n",
       "\n",
       "               mag_bins_window1.0_offset0.0_beyond_1_std_X  \\\n",
       "TransientName                                                \n",
       "2019lbi                                           0.222222   \n",
       "2019pmd                                           0.428571   \n",
       "2019tvv                                           0.177778   \n",
       "2019ucc                                           0.250000   \n",
       "2019uev                                           0.294118   \n",
       "...                                                    ...   \n",
       "2021zcj                                           0.428571   \n",
       "2021zep                                           0.454545   \n",
       "2021zri                                           0.357143   \n",
       "2021ztz                                           0.285714   \n",
       "2021zvo                                           0.333333   \n",
       "\n",
       "               mag_bins_window1.0_offset0.0_beyond_2_std_X  \\\n",
       "TransientName                                                \n",
       "2019lbi                                           0.000000   \n",
       "2019pmd                                           0.000000   \n",
       "2019tvv                                           0.066667   \n",
       "2019ucc                                           0.000000   \n",
       "2019uev                                           0.058824   \n",
       "...                                                    ...   \n",
       "2021zcj                                           0.000000   \n",
       "2021zep                                           0.000000   \n",
       "2021zri                                           0.000000   \n",
       "2021ztz                                           0.000000   \n",
       "2021zvo                                           0.000000   \n",
       "\n",
       "               mag_bins_window1.0_offset0.0_kurtosis_X  \\\n",
       "TransientName                                            \n",
       "2019lbi                                       0.128628   \n",
       "2019pmd                                      -1.441692   \n",
       "2019tvv                                       3.655688   \n",
       "2019ucc                                      -4.296865   \n",
       "2019uev                                      -0.643401   \n",
       "...                                                ...   \n",
       "2021zcj                                      -0.651149   \n",
       "2021zep                                      -1.627568   \n",
       "2021zri                                      -1.397271   \n",
       "2021ztz                                      -0.986181   \n",
       "2021zvo                                      -1.046019   \n",
       "\n",
       "               mag_bins_window1.0_offset0.0_linear_trend_X  \\\n",
       "TransientName                                                \n",
       "2019lbi                                           0.018062   \n",
       "2019pmd                                           0.022316   \n",
       "2019tvv                                           0.023404   \n",
       "2019ucc                                          -0.012319   \n",
       "2019uev                                           0.008710   \n",
       "...                                                    ...   \n",
       "2021zcj                                           0.000512   \n",
       "2021zep                                           0.012449   \n",
       "2021zri                                           0.053136   \n",
       "2021ztz                                           0.001336   \n",
       "2021zvo                                           0.006593   \n",
       "\n",
       "               mag_bins_window1.0_offset0.0_linear_trend_sigma_X  \\\n",
       "TransientName                                                      \n",
       "2019lbi                                                 0.000526   \n",
       "2019pmd                                                 0.004344   \n",
       "2019tvv                                                 0.001816   \n",
       "2019ucc                                                 0.024869   \n",
       "2019uev                                                 0.003826   \n",
       "...                                                          ...   \n",
       "2021zcj                                                 0.004607   \n",
       "2021zep                                                 0.013671   \n",
       "2021zri                                                 0.007138   \n",
       "2021ztz                                                 0.022291   \n",
       "2021zvo                                                 0.011183   \n",
       "\n",
       "               mag_bins_window1.0_offset0.0_maximum_slope_X  \\\n",
       "TransientName                                                 \n",
       "2019lbi                                            0.121042   \n",
       "2019pmd                                            0.338969   \n",
       "2019tvv                                            0.296412   \n",
       "2019ucc                                            0.061535   \n",
       "2019uev                                            0.174856   \n",
       "...                                                     ...   \n",
       "2021zcj                                            0.093615   \n",
       "2021zep                                            0.287601   \n",
       "2021zri                                            0.347882   \n",
       "2021ztz                                            0.165399   \n",
       "2021zvo                                            0.113324   \n",
       "\n",
       "               mag_bins_window1.0_offset0.0_minimum_time_interval_X  \\\n",
       "TransientName                                                         \n",
       "2019lbi                                                      3.0      \n",
       "2019pmd                                                      2.0      \n",
       "2019tvv                                                      1.0      \n",
       "2019ucc                                                      3.0      \n",
       "2019uev                                                      1.0      \n",
       "...                                                          ...      \n",
       "2021zcj                                                      1.0      \n",
       "2021zep                                                      2.0      \n",
       "2021zri                                                      2.0      \n",
       "2021ztz                                                      2.0      \n",
       "2021zvo                                                      2.0      \n",
       "\n",
       "               mag_bins_window1.0_offset0.0_observation_count_X  \\\n",
       "TransientName                                                     \n",
       "2019lbi                                                     9.0   \n",
       "2019pmd                                                    21.0   \n",
       "2019tvv                                                    45.0   \n",
       "2019ucc                                                     4.0   \n",
       "2019uev                                                    17.0   \n",
       "...                                                         ...   \n",
       "2021zcj                                                     7.0   \n",
       "2021zep                                                    11.0   \n",
       "2021zri                                                    14.0   \n",
       "2021ztz                                                     7.0   \n",
       "2021zvo                                                     9.0   \n",
       "\n",
       "               mag_bins_window1.0_offset0.0_skew_X  ...  yKronRad  yExtNSigma  \\\n",
       "TransientName                                       ...                         \n",
       "2019lbi                                  -1.286109  ...   8.03673   45.397099   \n",
       "2019pmd                                  -0.249814  ...  10.86290   31.184401   \n",
       "2019tvv                                  -1.953969  ...   7.87224   27.926201   \n",
       "2019ucc                                   0.191147  ...  10.28090   23.053499   \n",
       "2019uev                                  -0.629725  ...   6.07050   32.341202   \n",
       "...                                            ...  ...       ...         ...   \n",
       "2021zcj                                  -0.953949  ...   4.03488   19.229700   \n",
       "2021zep                                   0.150971  ...   5.89197   20.240700   \n",
       "2021zri                                  -0.203854  ...   7.89484   49.709301   \n",
       "2021ztz                                   0.930388  ...   3.12731   16.291100   \n",
       "2021zvo                                   0.173905  ...   2.74671    7.097710   \n",
       "\n",
       "                    i-z  gApMag_gKronMag  rApMag_rKronMag  iApMag_iKronMag  \\\n",
       "TransientName                                                                \n",
       "2019lbi       -0.034300         1.111500         1.045700         1.095100   \n",
       "2019pmd        0.204000         0.976000         1.221400         1.323200   \n",
       "2019tvv        0.226601         0.928600         1.125900         1.000999   \n",
       "2019ucc        0.320499         1.068901         1.143600         1.316299   \n",
       "2019uev       -0.049799         0.619699         0.749001         0.713200   \n",
       "...                 ...              ...              ...              ...   \n",
       "2021zcj        0.113899         0.235800         0.318800         0.279600   \n",
       "2021zep        0.351398         0.361198         0.466999         0.493700   \n",
       "2021zri        0.164801         0.693201         0.732700         0.931401   \n",
       "2021ztz        0.218899         0.176001         0.198000         0.186800   \n",
       "2021zvo       -0.073299         0.259600         0.320902         0.113699   \n",
       "\n",
       "               zApMag_zKronMag  yApMag_yKronMag       7DCD  dist/DLR  \n",
       "TransientName                                                         \n",
       "2019lbi               1.185299         1.364901  26.663832  1.456105  \n",
       "2019pmd               1.253700         1.546600  65.241111  0.420208  \n",
       "2019tvv               1.031599         0.950701  60.217580  1.163162  \n",
       "2019ucc               1.099200         1.152301  73.291380  0.379586  \n",
       "2019uev               0.764200         0.841801  27.599230  0.612023  \n",
       "...                        ...              ...        ...       ...  \n",
       "2021zcj               0.317801         0.263401  20.220405  0.338579  \n",
       "2021zep               0.393900         0.385300  55.104228  1.273129  \n",
       "2021zri               0.949600         1.013801  46.254684  0.129584  \n",
       "2021ztz               0.065802         0.041300   7.097819  0.125253  \n",
       "2021zvo               0.171299        -0.203400  19.367479  0.507676  \n",
       "\n",
       "[704 rows x 88 columns]"
      ]
     },
     "execution_count": 24,
     "metadata": {},
     "output_type": "execute_result"
    }
   ],
   "source": [
    "# YSE DR1 features and host\n",
    "dataset_bank_orig = pd.concat([lc_dataset_bank, host_dataset_bank], axis=1)\n",
    "dataset_bank_orig = dataset_bank_orig[~dataset_bank_orig.isnull().any(axis=1)]\n",
    "dataset_bank_orig"
   ]
  },
  {
   "cell_type": "code",
   "execution_count": 25,
   "id": "fece9235",
   "metadata": {},
   "outputs": [
    {
     "name": "stdout",
     "output_type": "stream",
     "text": [
      "pca\n",
      "[0.53503767 0.91740037 0.95378951 0.98019822 0.98741025 0.99122948]\n"
     ]
    }
   ],
   "source": [
    "# https://github.com/uiucsn/laiss/blob/main/LAISS/notebooks/LAISS_tests.ipynb\n",
    "idx_arr = np.hstack(np.array(dataset_bank_orig.index, dtype='object'))\n",
    "feat_arr = np.vstack(np.array(dataset_bank_orig, dtype='object'))\n",
    "\n",
    "#scaler = preprocessing.StandardScaler() # Create a scalar\n",
    "#scaler = preprocessing.MinMaxScaler() # Create a scalar\n",
    "#scaler = preprocessing.MaxAbsScaler() # Create a scalar\n",
    "#scaler = preprocessing.RobustScaler(quantile_range=(33.0, 67.0)) # quantile_range=(25.0, 75.0) good for outliers\n",
    "#scaler = preprocessing.Normalizer(norm='l2') #norm='max', norm='l1',\n",
    "#scaler = preprocessing.SplineTransformer(n_knots=5, degree=3, knots='uniform', \n",
    "#                                          extrapolation='constant', include_bias=True, order='C')\n",
    "#scaler = preprocessing.FunctionTransformer(np.cbrt, validate=True)\n",
    "#scaler = preprocessing.FunctionTransformer(np.conjugate, validate=True)\n",
    "#scaler = preprocessing.FunctionTransformer(np.rint, validate=True)\n",
    "#scaler = preprocessing.FunctionTransformer(np.rint, validate=True)\n",
    "\n",
    "# scaler.fit(feat_arr) # Fit only to training data\n",
    "# feat_arr_scaled = scaler.transform(feat_arr) # What your model learns on\n",
    "\n",
    "\n",
    "\n",
    "# #OR try PCA, then scalar\n",
    "# print(\"pca\")\n",
    "# # Initialize PCA with 15 principal components\n",
    "# n_components=6\n",
    "# pca = PCA(n_components=n_components)\n",
    "# feat_arr_scaled = np.array(pca.fit_transform(feat_arr))\n",
    "# scaler.fit(feat_arr_scaled) # Fit only to training data\n",
    "# feat_arr_scaled = scaler.transform(feat_arr_scaled) # What your model learns on\n",
    "\n",
    "# #OR try scalar then PCA\n",
    "# print(\"pca\")\n",
    "# # Initialize PCA with 15 principal components\n",
    "# n_components=25\n",
    "# pca = PCA(n_components=n_components)\n",
    "# feat_arr_scaled = scaler.fit_transform(feat_arr)\n",
    "# feat_arr_scaled = np.array(pca.fit_transform(feat_arr_scaled))\n",
    "\n",
    "# #OR try PCA only\n",
    "print(\"pca\")\n",
    "# Initialize PCA with 15 principal components\n",
    "n_components=6\n",
    "pca = PCA(n_components=n_components)\n",
    "feat_arr_scaled = np.array(pca.fit_transform(feat_arr))\n",
    "\n",
    "# Print the explained variance\n",
    "print(np.cumsum(pca.explained_variance_ratio_))\n",
    "\n",
    "# Build ANNOY index of scaled features of dataset_bank\n",
    "index = AnnoyIndex(feat_arr_scaled, idx_arr, metric='euclidean')\n",
    "index.build()\n"
   ]
  },
  {
   "cell_type": "code",
   "execution_count": 26,
   "id": "b39b3dde",
   "metadata": {},
   "outputs": [
    {
     "data": {
      "text/html": [
       "<div>\n",
       "<style scoped>\n",
       "    .dataframe tbody tr th:only-of-type {\n",
       "        vertical-align: middle;\n",
       "    }\n",
       "\n",
       "    .dataframe tbody tr th {\n",
       "        vertical-align: top;\n",
       "    }\n",
       "\n",
       "    .dataframe thead th {\n",
       "        text-align: right;\n",
       "    }\n",
       "</style>\n",
       "<table border=\"1\" class=\"dataframe\">\n",
       "  <thead>\n",
       "    <tr style=\"text-align: right;\">\n",
       "      <th></th>\n",
       "      <th>PC0</th>\n",
       "      <th>PC1</th>\n",
       "      <th>PC2</th>\n",
       "      <th>PC3</th>\n",
       "      <th>PC4</th>\n",
       "      <th>PC5</th>\n",
       "    </tr>\n",
       "    <tr>\n",
       "      <th>TransientName</th>\n",
       "      <th></th>\n",
       "      <th></th>\n",
       "      <th></th>\n",
       "      <th></th>\n",
       "      <th></th>\n",
       "      <th></th>\n",
       "    </tr>\n",
       "  </thead>\n",
       "  <tbody>\n",
       "    <tr>\n",
       "      <th>2019lbi</th>\n",
       "      <td>223.491737</td>\n",
       "      <td>243.160714</td>\n",
       "      <td>50.949314</td>\n",
       "      <td>-12.769627</td>\n",
       "      <td>-42.500070</td>\n",
       "      <td>-3.682574</td>\n",
       "    </tr>\n",
       "    <tr>\n",
       "      <th>2019pmd</th>\n",
       "      <td>115.022792</td>\n",
       "      <td>86.715003</td>\n",
       "      <td>-34.969493</td>\n",
       "      <td>-21.683120</td>\n",
       "      <td>-14.974663</td>\n",
       "      <td>-5.772014</td>\n",
       "    </tr>\n",
       "    <tr>\n",
       "      <th>2019tvv</th>\n",
       "      <td>120.305135</td>\n",
       "      <td>98.938289</td>\n",
       "      <td>-73.209958</td>\n",
       "      <td>-21.485271</td>\n",
       "      <td>7.366339</td>\n",
       "      <td>3.033459</td>\n",
       "    </tr>\n",
       "    <tr>\n",
       "      <th>2019ucc</th>\n",
       "      <td>17.340598</td>\n",
       "      <td>-15.756997</td>\n",
       "      <td>33.394568</td>\n",
       "      <td>-1.069360</td>\n",
       "      <td>-10.552883</td>\n",
       "      <td>9.132016</td>\n",
       "    </tr>\n",
       "    <tr>\n",
       "      <th>2019uev</th>\n",
       "      <td>37.256927</td>\n",
       "      <td>63.567483</td>\n",
       "      <td>0.663246</td>\n",
       "      <td>-29.518849</td>\n",
       "      <td>5.010364</td>\n",
       "      <td>-4.046090</td>\n",
       "    </tr>\n",
       "    <tr>\n",
       "      <th>...</th>\n",
       "      <td>...</td>\n",
       "      <td>...</td>\n",
       "      <td>...</td>\n",
       "      <td>...</td>\n",
       "      <td>...</td>\n",
       "      <td>...</td>\n",
       "    </tr>\n",
       "    <tr>\n",
       "      <th>2021zcj</th>\n",
       "      <td>-25.143461</td>\n",
       "      <td>19.302602</td>\n",
       "      <td>-10.189315</td>\n",
       "      <td>1.809266</td>\n",
       "      <td>-9.751779</td>\n",
       "      <td>-0.818628</td>\n",
       "    </tr>\n",
       "    <tr>\n",
       "      <th>2021zep</th>\n",
       "      <td>13.987060</td>\n",
       "      <td>8.448121</td>\n",
       "      <td>0.561359</td>\n",
       "      <td>7.305022</td>\n",
       "      <td>-7.631791</td>\n",
       "      <td>2.571270</td>\n",
       "    </tr>\n",
       "    <tr>\n",
       "      <th>2021zri</th>\n",
       "      <td>10.055780</td>\n",
       "      <td>12.697817</td>\n",
       "      <td>-7.792273</td>\n",
       "      <td>-22.551574</td>\n",
       "      <td>-9.020596</td>\n",
       "      <td>13.177058</td>\n",
       "    </tr>\n",
       "    <tr>\n",
       "      <th>2021ztz</th>\n",
       "      <td>-46.910061</td>\n",
       "      <td>17.899079</td>\n",
       "      <td>7.728714</td>\n",
       "      <td>12.286859</td>\n",
       "      <td>-5.149495</td>\n",
       "      <td>1.500725</td>\n",
       "    </tr>\n",
       "    <tr>\n",
       "      <th>2021zvo</th>\n",
       "      <td>-56.137621</td>\n",
       "      <td>-8.491002</td>\n",
       "      <td>-14.763083</td>\n",
       "      <td>3.627312</td>\n",
       "      <td>-0.687847</td>\n",
       "      <td>-5.995634</td>\n",
       "    </tr>\n",
       "  </tbody>\n",
       "</table>\n",
       "<p>704 rows × 6 columns</p>\n",
       "</div>"
      ],
      "text/plain": [
       "                      PC0         PC1        PC2        PC3        PC4  \\\n",
       "TransientName                                                            \n",
       "2019lbi        223.491737  243.160714  50.949314 -12.769627 -42.500070   \n",
       "2019pmd        115.022792   86.715003 -34.969493 -21.683120 -14.974663   \n",
       "2019tvv        120.305135   98.938289 -73.209958 -21.485271   7.366339   \n",
       "2019ucc         17.340598  -15.756997  33.394568  -1.069360 -10.552883   \n",
       "2019uev         37.256927   63.567483   0.663246 -29.518849   5.010364   \n",
       "...                   ...         ...        ...        ...        ...   \n",
       "2021zcj        -25.143461   19.302602 -10.189315   1.809266  -9.751779   \n",
       "2021zep         13.987060    8.448121   0.561359   7.305022  -7.631791   \n",
       "2021zri         10.055780   12.697817  -7.792273 -22.551574  -9.020596   \n",
       "2021ztz        -46.910061   17.899079   7.728714  12.286859  -5.149495   \n",
       "2021zvo        -56.137621   -8.491002 -14.763083   3.627312  -0.687847   \n",
       "\n",
       "                     PC5  \n",
       "TransientName             \n",
       "2019lbi        -3.682574  \n",
       "2019pmd        -5.772014  \n",
       "2019tvv         3.033459  \n",
       "2019ucc         9.132016  \n",
       "2019uev        -4.046090  \n",
       "...                  ...  \n",
       "2021zcj        -0.818628  \n",
       "2021zep         2.571270  \n",
       "2021zri        13.177058  \n",
       "2021ztz         1.500725  \n",
       "2021zvo        -5.995634  \n",
       "\n",
       "[704 rows x 6 columns]"
      ]
     },
     "execution_count": 26,
     "metadata": {},
     "output_type": "execute_result"
    }
   ],
   "source": [
    "# # Scalar then PCA\n",
    "# col_names = [f'PC'+str(i) for i in range(n_components)]\n",
    "# dataset_bank_pca = pd.DataFrame(pca.fit_transform(feat_arr_scaled), columns=col_names)\n",
    "# dataset_bank_pca = dataset_bank_pca.set_index(dataset_bank_orig.index)\n",
    "# dataset_bank_pca\n",
    "\n",
    "# Just PCA\n",
    "col_names = [f'PC'+str(i) for i in range(n_components)]\n",
    "dataset_bank_pca = pd.DataFrame(pca.fit_transform(dataset_bank_orig), columns=col_names)\n",
    "dataset_bank_pca = dataset_bank_pca.set_index(dataset_bank_orig.index)\n",
    "dataset_bank_pca\n",
    "\n",
    "\n",
    "# # Just PCA, then scalar\n",
    "# col_names = [f'PC'+str(i) for i in range(n_components)]\n",
    "# dataset_bank_pca = pd.DataFrame(pca.fit_transform(dataset_bank_orig), columns=col_names)\n",
    "# dataset_bank_pca = dataset_bank_pca.set_index(dataset_bank_orig.index)\n",
    "# dataset_bank_pca = scaler.transform(dataset_bank_pca)\n",
    "# dataset_bank_pca = pd.DataFrame(dataset_bank_pca, columns=col_names)\n",
    "# dataset_bank_pca = dataset_bank_pca.set_index(dataset_bank_orig.index)\n",
    "# dataset_bank_pca"
   ]
  },
  {
   "cell_type": "code",
   "execution_count": 27,
   "id": "3584cf12",
   "metadata": {},
   "outputs": [
    {
     "data": {
      "text/html": [
       "<div>\n",
       "<style scoped>\n",
       "    .dataframe tbody tr th:only-of-type {\n",
       "        vertical-align: middle;\n",
       "    }\n",
       "\n",
       "    .dataframe tbody tr th {\n",
       "        vertical-align: top;\n",
       "    }\n",
       "\n",
       "    .dataframe thead th {\n",
       "        text-align: right;\n",
       "    }\n",
       "</style>\n",
       "<table border=\"1\" class=\"dataframe\">\n",
       "  <thead>\n",
       "    <tr style=\"text-align: right;\">\n",
       "      <th></th>\n",
       "      <th>PC0</th>\n",
       "      <th>PC1</th>\n",
       "      <th>PC2</th>\n",
       "      <th>PC3</th>\n",
       "      <th>PC4</th>\n",
       "      <th>PC5</th>\n",
       "    </tr>\n",
       "    <tr>\n",
       "      <th>TransientName</th>\n",
       "      <th></th>\n",
       "      <th></th>\n",
       "      <th></th>\n",
       "      <th></th>\n",
       "      <th></th>\n",
       "      <th></th>\n",
       "    </tr>\n",
       "  </thead>\n",
       "  <tbody>\n",
       "    <tr>\n",
       "      <th>2019pmd</th>\n",
       "      <td>115.022792</td>\n",
       "      <td>86.715003</td>\n",
       "      <td>-34.969493</td>\n",
       "      <td>-21.68312</td>\n",
       "      <td>-14.974663</td>\n",
       "      <td>-5.772014</td>\n",
       "    </tr>\n",
       "  </tbody>\n",
       "</table>\n",
       "</div>"
      ],
      "text/plain": [
       "                      PC0        PC1        PC2       PC3        PC4       PC5\n",
       "TransientName                                                                 \n",
       "2019pmd        115.022792  86.715003 -34.969493 -21.68312 -14.974663 -5.772014"
      ]
     },
     "execution_count": 27,
     "metadata": {},
     "output_type": "execute_result"
    }
   ],
   "source": [
    "# Reference\n",
    "\n",
    "#with PCA\n",
    "dataset_bank = dataset_bank_pca.copy()\n",
    "\n",
    "\n",
    "# # No PCA\n",
    "# dataset_bank = dataset_bank_orig.copy()\n",
    "\n",
    "#dataset_ref = dataset_bank[dataset_bank.index == '2020awg'] # SN II, in spiral (medium size), matches all some II, some in Ia z=0.04 to z=0.06.\n",
    "#dataset_ref = dataset_bank[dataset_bank.index == '2021ihp'] # SN II, in spiral (medium size)\n",
    "#dataset_ref = dataset_bank[dataset_bank.index == '2020ulz'] # SN Ia, in spiral (medium size), matches all likely Ia. Most spiral\n",
    "dataset_ref = dataset_bank[dataset_bank.index == '2019pmd'] # SN Ia, in spiral (medium size), matches all Ia in z=0.02 to z=0.06. Most spiral\n",
    "#dataset_ref = dataset_bank[dataset_bank.index == '2021xbg'] # SN Ibc, spiral on edge pointing down, matches to spirals, some Ib some II\n",
    "#dataset_ref = dataset_bank[dataset_bank.index == '2020sdy'] # SN Ibc, spiral on edge pointing down, matches to spirals, some Ib some II\n",
    "\n",
    "#dataset_ref = dataset_bank[dataset_bank.index == '2021aadc'] # SLSN-II, small smudgy host. Even in its ANN matches are the missed SLSN candidate\n",
    "\n",
    "\n",
    "dataset_ref "
   ]
  },
  {
   "cell_type": "code",
   "execution_count": 28,
   "id": "319125fd",
   "metadata": {},
   "outputs": [],
   "source": [
    "#dataset_ref.columns.to_list()"
   ]
  },
  {
   "cell_type": "code",
   "execution_count": 29,
   "id": "609a87b0",
   "metadata": {},
   "outputs": [
    {
     "name": "stdout",
     "output_type": "stream",
     "text": [
      "[115.02279187299774 86.71500275418337 -34.96949314642503\n",
      " -21.68312007437093 -14.97466290670475 -5.772013795332963]\n",
      "ZTF ID name (ref) 2019pmd\n"
     ]
    },
    {
     "data": {
      "text/markdown": [
       "https://ziggy.ucolick.org/yse/transient_detail/2019pmd"
      ]
     },
     "metadata": {},
     "output_type": "display_data"
    },
    {
     "name": "stdout",
     "output_type": "stream",
     "text": [
      "None\n",
      "%%%%%%\n",
      "ANN\t\tIDX\t\t\t\tZTF_id\t\t\t\tDIST\n"
     ]
    },
    {
     "data": {
      "text/markdown": [
       "https://ziggy.ucolick.org/yse/transient_detail/2019pmd"
      ]
     },
     "metadata": {},
     "output_type": "display_data"
    },
    {
     "name": "stdout",
     "output_type": "stream",
     "text": [
      "0\t\t1\t\t\t\tNone\t\t\t0.0\n"
     ]
    },
    {
     "data": {
      "text/markdown": [
       "https://ziggy.ucolick.org/yse/transient_detail/2020zj"
      ]
     },
     "metadata": {},
     "output_type": "display_data"
    },
    {
     "name": "stdout",
     "output_type": "stream",
     "text": [
      "1\t\t382\t\t\t\tNone\t\t\t46.8773\n"
     ]
    },
    {
     "data": {
      "text/markdown": [
       "https://ziggy.ucolick.org/yse/transient_detail/2019tvv"
      ]
     },
     "metadata": {},
     "output_type": "display_data"
    },
    {
     "name": "stdout",
     "output_type": "stream",
     "text": [
      "2\t\t2\t\t\t\tNone\t\t\t47.078\n"
     ]
    },
    {
     "data": {
      "text/markdown": [
       "https://ziggy.ucolick.org/yse/transient_detail/2021aff"
      ]
     },
     "metadata": {},
     "output_type": "display_data"
    },
    {
     "name": "stdout",
     "output_type": "stream",
     "text": [
      "3\t\t422\t\t\t\tNone\t\t\t50.2809\n"
     ]
    },
    {
     "data": {
      "text/markdown": [
       "https://ziggy.ucolick.org/yse/transient_detail/2020dwg"
      ]
     },
     "metadata": {},
     "output_type": "display_data"
    },
    {
     "name": "stdout",
     "output_type": "stream",
     "text": [
      "4\t\t95\t\t\t\tNone\t\t\t51.9513\n"
     ]
    },
    {
     "data": {
      "text/markdown": [
       "https://ziggy.ucolick.org/yse/transient_detail/2021cdn"
      ]
     },
     "metadata": {},
     "output_type": "display_data"
    },
    {
     "name": "stdout",
     "output_type": "stream",
     "text": [
      "5\t\t448\t\t\t\tNone\t\t\t52.8316\n"
     ]
    },
    {
     "data": {
      "text/markdown": [
       "https://ziggy.ucolick.org/yse/transient_detail/2020duv"
      ]
     },
     "metadata": {},
     "output_type": "display_data"
    },
    {
     "name": "stdout",
     "output_type": "stream",
     "text": [
      "6\t\t94\t\t\t\tNone\t\t\t54.7282\n"
     ]
    },
    {
     "data": {
      "text/markdown": [
       "https://ziggy.ucolick.org/yse/transient_detail/2021bsf"
      ]
     },
     "metadata": {},
     "output_type": "display_data"
    },
    {
     "name": "stdout",
     "output_type": "stream",
     "text": [
      "7\t\t438\t\t\t\tNone\t\t\t55.2078\n"
     ]
    },
    {
     "data": {
      "text/markdown": [
       "https://ziggy.ucolick.org/yse/transient_detail/2020awg"
      ]
     },
     "metadata": {},
     "output_type": "display_data"
    },
    {
     "name": "stdout",
     "output_type": "stream",
     "text": [
      "8\t\t81\t\t\t\tNone\t\t\t59.3824\n"
     ]
    },
    {
     "data": {
      "text/markdown": [
       "https://ziggy.ucolick.org/yse/transient_detail/2020sjo"
      ]
     },
     "metadata": {},
     "output_type": "display_data"
    },
    {
     "name": "stdout",
     "output_type": "stream",
     "text": [
      "9\t\t303\t\t\t\tNone\t\t\t59.8162\n"
     ]
    }
   ],
   "source": [
    "# feat_arr_ref = np.vstack(np.array(dataset_ref, dtype='object'))\n",
    "# scaled_feat_arr_ref = scaler.transform(feat_arr_ref) #scaler.transform(feat_arr) # What your model learns on\n",
    "# #scaled_feat_arr_ref = scaler.fit_transform(feat_arr_ref) #scaler.transform(feat_arr) # What your model learns on\n",
    "\n",
    "# # Scalar then PCA\n",
    "# scaled_feat_arr_ref = np.array(dataset_ref)\n",
    "\n",
    "# PCA only\n",
    "feat_arr_ref = np.vstack(np.array(dataset_ref, dtype='object'))\n",
    "scaled_feat_arr_ref = feat_arr_ref\n",
    "\n",
    "# #PCA then scaler\n",
    "# feat_arr_ref = np.vstack(np.array(dataset_ref, dtype='object'))\n",
    "# scaled_feat_arr_ref = feat_arr_ref\n",
    "\n",
    "\n",
    "snid = dataset_ref.index.values[0]\n",
    "lcdata = {'name': snid, 'vector': scaled_feat_arr_ref[0]}\n",
    "#lcdata = {'name': ztf_id, 'vector': feat_arr_scaled[-5:-4][0]}\n",
    "print(lcdata['vector'])\n",
    "\n",
    "#result_id, result_dist = index.index.get_nns_by_item(, n=10, include_distances=True)\n",
    "result_id, result_dist = index.index.get_nns_by_vector(lcdata['vector'], n=10, include_distances=True)\n",
    "#result_name = index.query(lcdata['vector'])\n",
    "\n",
    "print(f\"ZTF ID name (ref) {snid}\") \n",
    "link_ref = display_markdown(f'https://ziggy.ucolick.org/yse/transient_detail/{snid}', raw=True)\n",
    "print(link_ref)\n",
    "print(\"%%%%%%\")\n",
    "print(\"ANN\\t\\tIDX\\t\\t\\t\\tZTF_id\\t\\t\\t\\tDIST\")#\\tFEAT\")\n",
    "for n, (i, d) in enumerate(zip(result_id, result_dist)):#, feat_arr):\n",
    "    print(f\"{n}\\t\\t{i}\\t\\t\\t\\t{display_markdown(f'https://ziggy.ucolick.org/yse/transient_detail/{idx_arr[i]}', raw=True)}\\t\\t\\t{round(d, 4)}\")#\\t{f}\")"
   ]
  },
  {
   "cell_type": "code",
   "execution_count": 30,
   "id": "c993deb7",
   "metadata": {},
   "outputs": [
    {
     "data": {
      "text/html": [
       "<div>\n",
       "<style scoped>\n",
       "    .dataframe tbody tr th:only-of-type {\n",
       "        vertical-align: middle;\n",
       "    }\n",
       "\n",
       "    .dataframe tbody tr th {\n",
       "        vertical-align: top;\n",
       "    }\n",
       "\n",
       "    .dataframe thead th {\n",
       "        text-align: right;\n",
       "    }\n",
       "</style>\n",
       "<table border=\"1\" class=\"dataframe\">\n",
       "  <thead>\n",
       "    <tr style=\"text-align: right;\">\n",
       "      <th></th>\n",
       "      <th>PC0</th>\n",
       "      <th>PC1</th>\n",
       "      <th>PC2</th>\n",
       "      <th>PC3</th>\n",
       "      <th>PC4</th>\n",
       "      <th>PC5</th>\n",
       "    </tr>\n",
       "    <tr>\n",
       "      <th>TransientName</th>\n",
       "      <th></th>\n",
       "      <th></th>\n",
       "      <th></th>\n",
       "      <th></th>\n",
       "      <th></th>\n",
       "      <th></th>\n",
       "    </tr>\n",
       "  </thead>\n",
       "  <tbody>\n",
       "    <tr>\n",
       "      <th>2019pmd</th>\n",
       "      <td>115.022792</td>\n",
       "      <td>86.715003</td>\n",
       "      <td>-34.969493</td>\n",
       "      <td>-21.683120</td>\n",
       "      <td>-14.974663</td>\n",
       "      <td>-5.772014</td>\n",
       "    </tr>\n",
       "    <tr>\n",
       "      <th>2020zj</th>\n",
       "      <td>117.372444</td>\n",
       "      <td>53.458214</td>\n",
       "      <td>-59.733261</td>\n",
       "      <td>-20.124711</td>\n",
       "      <td>-3.183126</td>\n",
       "      <td>12.427715</td>\n",
       "    </tr>\n",
       "    <tr>\n",
       "      <th>2019tvv</th>\n",
       "      <td>120.305135</td>\n",
       "      <td>98.938289</td>\n",
       "      <td>-73.209958</td>\n",
       "      <td>-21.485271</td>\n",
       "      <td>7.366339</td>\n",
       "      <td>3.033459</td>\n",
       "    </tr>\n",
       "    <tr>\n",
       "      <th>2021aff</th>\n",
       "      <td>76.871437</td>\n",
       "      <td>84.198896</td>\n",
       "      <td>-11.146297</td>\n",
       "      <td>-8.170643</td>\n",
       "      <td>1.661338</td>\n",
       "      <td>0.506540</td>\n",
       "    </tr>\n",
       "    <tr>\n",
       "      <th>2020dwg</th>\n",
       "      <td>100.726082</td>\n",
       "      <td>87.315239</td>\n",
       "      <td>-45.834152</td>\n",
       "      <td>-0.442447</td>\n",
       "      <td>26.852598</td>\n",
       "      <td>7.473978</td>\n",
       "    </tr>\n",
       "    <tr>\n",
       "      <th>2021cdn</th>\n",
       "      <td>71.795219</td>\n",
       "      <td>68.690948</td>\n",
       "      <td>-10.917854</td>\n",
       "      <td>-25.863888</td>\n",
       "      <td>-15.616509</td>\n",
       "      <td>-6.920140</td>\n",
       "    </tr>\n",
       "    <tr>\n",
       "      <th>2020duv</th>\n",
       "      <td>135.289844</td>\n",
       "      <td>96.543473</td>\n",
       "      <td>-28.232778</td>\n",
       "      <td>-1.266656</td>\n",
       "      <td>29.764606</td>\n",
       "      <td>-0.872033</td>\n",
       "    </tr>\n",
       "    <tr>\n",
       "      <th>2021bsf</th>\n",
       "      <td>83.654062</td>\n",
       "      <td>59.818877</td>\n",
       "      <td>-22.248493</td>\n",
       "      <td>-12.567249</td>\n",
       "      <td>18.027384</td>\n",
       "      <td>-3.234365</td>\n",
       "    </tr>\n",
       "    <tr>\n",
       "      <th>2020awg</th>\n",
       "      <td>81.128198</td>\n",
       "      <td>78.925955</td>\n",
       "      <td>4.398136</td>\n",
       "      <td>-12.337089</td>\n",
       "      <td>5.119793</td>\n",
       "      <td>10.835617</td>\n",
       "    </tr>\n",
       "    <tr>\n",
       "      <th>2020sjo</th>\n",
       "      <td>127.015499</td>\n",
       "      <td>41.271794</td>\n",
       "      <td>-55.701360</td>\n",
       "      <td>-40.179774</td>\n",
       "      <td>9.174767</td>\n",
       "      <td>-2.039747</td>\n",
       "    </tr>\n",
       "  </tbody>\n",
       "</table>\n",
       "</div>"
      ],
      "text/plain": [
       "                      PC0        PC1        PC2        PC3        PC4  \\\n",
       "TransientName                                                           \n",
       "2019pmd        115.022792  86.715003 -34.969493 -21.683120 -14.974663   \n",
       "2020zj         117.372444  53.458214 -59.733261 -20.124711  -3.183126   \n",
       "2019tvv        120.305135  98.938289 -73.209958 -21.485271   7.366339   \n",
       "2021aff         76.871437  84.198896 -11.146297  -8.170643   1.661338   \n",
       "2020dwg        100.726082  87.315239 -45.834152  -0.442447  26.852598   \n",
       "2021cdn         71.795219  68.690948 -10.917854 -25.863888 -15.616509   \n",
       "2020duv        135.289844  96.543473 -28.232778  -1.266656  29.764606   \n",
       "2021bsf         83.654062  59.818877 -22.248493 -12.567249  18.027384   \n",
       "2020awg         81.128198  78.925955   4.398136 -12.337089   5.119793   \n",
       "2020sjo        127.015499  41.271794 -55.701360 -40.179774   9.174767   \n",
       "\n",
       "                     PC5  \n",
       "TransientName             \n",
       "2019pmd        -5.772014  \n",
       "2020zj         12.427715  \n",
       "2019tvv         3.033459  \n",
       "2021aff         0.506540  \n",
       "2020dwg         7.473978  \n",
       "2021cdn        -6.920140  \n",
       "2020duv        -0.872033  \n",
       "2021bsf        -3.234365  \n",
       "2020awg        10.835617  \n",
       "2020sjo        -2.039747  "
      ]
     },
     "execution_count": 30,
     "metadata": {},
     "output_type": "execute_result"
    }
   ],
   "source": [
    "results_df = dataset_bank[dataset_bank.index.isin(idx_arr[result_id])]\n",
    "results_df = results_df.reindex(idx_arr[result_id])\n",
    "results_df"
   ]
  },
  {
   "cell_type": "code",
   "execution_count": 31,
   "id": "9833eeba",
   "metadata": {},
   "outputs": [
    {
     "data": {
      "image/png": "[encoded data removed]",
      "text/plain": [
       "<Figure size 432x288 with 1 Axes>"
      ]
     },
     "metadata": {
      "needs_background": "light"
     },
     "output_type": "display_data"
    },
    {
     "data": {
      "image/png": "[encoded data removed]",
      "text/plain": [
       "<Figure size 432x288 with 1 Axes>"
      ]
     },
     "metadata": {
      "needs_background": "light"
     },
     "output_type": "display_data"
    },
    {
     "data": {
      "image/png": "[encoded data removed]",
      "text/plain": [
       "<Figure size 432x288 with 1 Axes>"
      ]
     },
     "metadata": {
      "needs_background": "light"
     },
     "output_type": "display_data"
    },
    {
     "data": {
      "image/png": "[encoded data removed]",
      "text/plain": [
       "<Figure size 432x288 with 1 Axes>"
      ]
     },
     "metadata": {
      "needs_background": "light"
     },
     "output_type": "display_data"
    },
    {
     "data": {
      "image/png": "[encoded data removed]",
      "text/plain": [
       "<Figure size 432x288 with 1 Axes>"
      ]
     },
     "metadata": {
      "needs_background": "light"
     },
     "output_type": "display_data"
    },
    {
     "data": {
      "image/png": "[encoded data removed]",
      "text/plain": [
       "<Figure size 432x288 with 1 Axes>"
      ]
     },
     "metadata": {
      "needs_background": "light"
     },
     "output_type": "display_data"
    }
   ],
   "source": [
    "feat_scatter_l = []\n",
    "for feat in results_df.columns:\n",
    "    fig, ax = plt.subplots()\n",
    "    min_feat, max_feat = np.min(dataset_bank[feat]), np.max(dataset_bank[feat])\n",
    "    \n",
    "    ax.hist(results_df[feat], bins=np.linspace(min_feat, max_feat, 100))\n",
    "    ax.set_title(feat)\n",
    "    ax.set_xlim(min_feat, max_feat)\n",
    "    \n",
    "    plt.show()\n",
    "    \n",
    "    feat_scatter = np.std(results_df[feat])\n",
    "    feat_scatter_l.append(feat_scatter)   "
   ]
  },
  {
   "cell_type": "code",
   "execution_count": 32,
   "id": "68ce5249",
   "metadata": {},
   "outputs": [
    {
     "name": "stdout",
     "output_type": "stream",
     "text": [
      "Scatter mean: 16.007362667465554\n",
      "Scatter median: 16.433402406116304\n",
      "Scatter std: 5.912085043071995\n",
      "Scatter max: 23.47729182862289\n",
      "Scatter min: 6.402560467328089\n"
     ]
    }
   ],
   "source": [
    "print(\"Scatter mean:\", np.mean(feat_scatter_l))\n",
    "print(\"Scatter median:\", np.median(feat_scatter_l))\n",
    "print(\"Scatter std:\", np.std(feat_scatter_l))\n",
    "print(\"Scatter max:\", np.max(feat_scatter_l))\n",
    "print(\"Scatter min:\", np.min(feat_scatter_l))"
   ]
  },
  {
   "cell_type": "code",
   "execution_count": 33,
   "id": "9c7a30a9",
   "metadata": {},
   "outputs": [
    {
     "data": {
      "text/html": [
       "<div>\n",
       "<style scoped>\n",
       "    .dataframe tbody tr th:only-of-type {\n",
       "        vertical-align: middle;\n",
       "    }\n",
       "\n",
       "    .dataframe tbody tr th {\n",
       "        vertical-align: top;\n",
       "    }\n",
       "\n",
       "    .dataframe thead th {\n",
       "        text-align: right;\n",
       "    }\n",
       "</style>\n",
       "<table border=\"1\" class=\"dataframe\">\n",
       "  <thead>\n",
       "    <tr style=\"text-align: right;\">\n",
       "      <th></th>\n",
       "      <th>ann=0</th>\n",
       "      <th>ann=1</th>\n",
       "      <th>ann=2</th>\n",
       "      <th>ann=3</th>\n",
       "      <th>ann=4</th>\n",
       "      <th>ann=5</th>\n",
       "      <th>ann=6</th>\n",
       "      <th>ann=7</th>\n",
       "      <th>ann=8</th>\n",
       "      <th>ann=9</th>\n",
       "      <th>dist=0</th>\n",
       "      <th>dist=1</th>\n",
       "      <th>dist=2</th>\n",
       "      <th>dist=3</th>\n",
       "      <th>dist=4</th>\n",
       "      <th>dist=5</th>\n",
       "      <th>dist=6</th>\n",
       "      <th>dist=7</th>\n",
       "      <th>dist=8</th>\n",
       "      <th>dist=9</th>\n",
       "    </tr>\n",
       "    <tr>\n",
       "      <th>key_0</th>\n",
       "      <th></th>\n",
       "      <th></th>\n",
       "      <th></th>\n",
       "      <th></th>\n",
       "      <th></th>\n",
       "      <th></th>\n",
       "      <th></th>\n",
       "      <th></th>\n",
       "      <th></th>\n",
       "      <th></th>\n",
       "      <th></th>\n",
       "      <th></th>\n",
       "      <th></th>\n",
       "      <th></th>\n",
       "      <th></th>\n",
       "      <th></th>\n",
       "      <th></th>\n",
       "      <th></th>\n",
       "      <th></th>\n",
       "      <th></th>\n",
       "    </tr>\n",
       "  </thead>\n",
       "  <tbody>\n",
       "    <tr>\n",
       "      <th>2019lbi</th>\n",
       "      <td>0</td>\n",
       "      <td>96</td>\n",
       "      <td>240</td>\n",
       "      <td>465</td>\n",
       "      <td>296</td>\n",
       "      <td>326</td>\n",
       "      <td>70</td>\n",
       "      <td>90</td>\n",
       "      <td>337</td>\n",
       "      <td>486</td>\n",
       "      <td>0.0</td>\n",
       "      <td>80.216873</td>\n",
       "      <td>97.707169</td>\n",
       "      <td>106.133827</td>\n",
       "      <td>119.626030</td>\n",
       "      <td>126.489479</td>\n",
       "      <td>129.903946</td>\n",
       "      <td>134.355545</td>\n",
       "      <td>137.773575</td>\n",
       "      <td>144.417694</td>\n",
       "    </tr>\n",
       "    <tr>\n",
       "      <th>2019pmd</th>\n",
       "      <td>1</td>\n",
       "      <td>382</td>\n",
       "      <td>2</td>\n",
       "      <td>422</td>\n",
       "      <td>95</td>\n",
       "      <td>448</td>\n",
       "      <td>94</td>\n",
       "      <td>438</td>\n",
       "      <td>81</td>\n",
       "      <td>303</td>\n",
       "      <td>0.0</td>\n",
       "      <td>46.877266</td>\n",
       "      <td>47.078033</td>\n",
       "      <td>50.280861</td>\n",
       "      <td>51.951317</td>\n",
       "      <td>52.831615</td>\n",
       "      <td>54.728233</td>\n",
       "      <td>55.207756</td>\n",
       "      <td>59.382420</td>\n",
       "      <td>59.816151</td>\n",
       "    </tr>\n",
       "    <tr>\n",
       "      <th>2019tvv</th>\n",
       "      <td>2</td>\n",
       "      <td>95</td>\n",
       "      <td>1</td>\n",
       "      <td>382</td>\n",
       "      <td>94</td>\n",
       "      <td>303</td>\n",
       "      <td>9</td>\n",
       "      <td>438</td>\n",
       "      <td>260</td>\n",
       "      <td>422</td>\n",
       "      <td>0.0</td>\n",
       "      <td>45.935852</td>\n",
       "      <td>47.078033</td>\n",
       "      <td>49.598923</td>\n",
       "      <td>56.382187</td>\n",
       "      <td>63.682781</td>\n",
       "      <td>65.051483</td>\n",
       "      <td>75.519371</td>\n",
       "      <td>78.548714</td>\n",
       "      <td>78.561096</td>\n",
       "    </tr>\n",
       "    <tr>\n",
       "      <th>2019ucc</th>\n",
       "      <td>3</td>\n",
       "      <td>319</td>\n",
       "      <td>459</td>\n",
       "      <td>670</td>\n",
       "      <td>650</td>\n",
       "      <td>106</td>\n",
       "      <td>51</td>\n",
       "      <td>252</td>\n",
       "      <td>454</td>\n",
       "      <td>41</td>\n",
       "      <td>0.0</td>\n",
       "      <td>21.861115</td>\n",
       "      <td>24.618073</td>\n",
       "      <td>31.493504</td>\n",
       "      <td>31.562330</td>\n",
       "      <td>32.460991</td>\n",
       "      <td>33.850796</td>\n",
       "      <td>34.454754</td>\n",
       "      <td>34.988419</td>\n",
       "      <td>35.214859</td>\n",
       "    </tr>\n",
       "    <tr>\n",
       "      <th>2019uev</th>\n",
       "      <td>4</td>\n",
       "      <td>442</td>\n",
       "      <td>341</td>\n",
       "      <td>64</td>\n",
       "      <td>645</td>\n",
       "      <td>431</td>\n",
       "      <td>108</td>\n",
       "      <td>300</td>\n",
       "      <td>311</td>\n",
       "      <td>72</td>\n",
       "      <td>0.0</td>\n",
       "      <td>20.252827</td>\n",
       "      <td>26.982574</td>\n",
       "      <td>27.259682</td>\n",
       "      <td>27.833424</td>\n",
       "      <td>30.399303</td>\n",
       "      <td>30.535364</td>\n",
       "      <td>33.126656</td>\n",
       "      <td>33.331017</td>\n",
       "      <td>33.633099</td>\n",
       "    </tr>\n",
       "    <tr>\n",
       "      <th>...</th>\n",
       "      <td>...</td>\n",
       "      <td>...</td>\n",
       "      <td>...</td>\n",
       "      <td>...</td>\n",
       "      <td>...</td>\n",
       "      <td>...</td>\n",
       "      <td>...</td>\n",
       "      <td>...</td>\n",
       "      <td>...</td>\n",
       "      <td>...</td>\n",
       "      <td>...</td>\n",
       "      <td>...</td>\n",
       "      <td>...</td>\n",
       "      <td>...</td>\n",
       "      <td>...</td>\n",
       "      <td>...</td>\n",
       "      <td>...</td>\n",
       "      <td>...</td>\n",
       "      <td>...</td>\n",
       "      <td>...</td>\n",
       "    </tr>\n",
       "    <tr>\n",
       "      <th>2021zcj</th>\n",
       "      <td>699</td>\n",
       "      <td>163</td>\n",
       "      <td>570</td>\n",
       "      <td>52</td>\n",
       "      <td>159</td>\n",
       "      <td>428</td>\n",
       "      <td>161</td>\n",
       "      <td>471</td>\n",
       "      <td>390</td>\n",
       "      <td>154</td>\n",
       "      <td>0.0</td>\n",
       "      <td>10.286498</td>\n",
       "      <td>12.030469</td>\n",
       "      <td>14.800612</td>\n",
       "      <td>16.711849</td>\n",
       "      <td>17.292202</td>\n",
       "      <td>17.355383</td>\n",
       "      <td>18.070551</td>\n",
       "      <td>18.644028</td>\n",
       "      <td>18.834564</td>\n",
       "    </tr>\n",
       "    <tr>\n",
       "      <th>2021zep</th>\n",
       "      <td>700</td>\n",
       "      <td>457</td>\n",
       "      <td>594</td>\n",
       "      <td>497</td>\n",
       "      <td>583</td>\n",
       "      <td>63</td>\n",
       "      <td>684</td>\n",
       "      <td>592</td>\n",
       "      <td>446</td>\n",
       "      <td>622</td>\n",
       "      <td>0.0</td>\n",
       "      <td>11.043327</td>\n",
       "      <td>25.252851</td>\n",
       "      <td>26.419538</td>\n",
       "      <td>27.050306</td>\n",
       "      <td>27.815149</td>\n",
       "      <td>27.858988</td>\n",
       "      <td>28.645140</td>\n",
       "      <td>29.308002</td>\n",
       "      <td>29.776899</td>\n",
       "    </tr>\n",
       "    <tr>\n",
       "      <th>2021zri</th>\n",
       "      <td>701</td>\n",
       "      <td>63</td>\n",
       "      <td>644</td>\n",
       "      <td>592</td>\n",
       "      <td>252</td>\n",
       "      <td>327</td>\n",
       "      <td>266</td>\n",
       "      <td>549</td>\n",
       "      <td>136</td>\n",
       "      <td>394</td>\n",
       "      <td>0.0</td>\n",
       "      <td>20.109650</td>\n",
       "      <td>22.254036</td>\n",
       "      <td>24.598881</td>\n",
       "      <td>27.893303</td>\n",
       "      <td>28.919004</td>\n",
       "      <td>29.031876</td>\n",
       "      <td>31.016697</td>\n",
       "      <td>31.535299</td>\n",
       "      <td>31.648170</td>\n",
       "    </tr>\n",
       "    <tr>\n",
       "      <th>2021ztz</th>\n",
       "      <td>702</td>\n",
       "      <td>156</td>\n",
       "      <td>674</td>\n",
       "      <td>85</td>\n",
       "      <td>579</td>\n",
       "      <td>18</td>\n",
       "      <td>235</td>\n",
       "      <td>160</td>\n",
       "      <td>483</td>\n",
       "      <td>245</td>\n",
       "      <td>0.0</td>\n",
       "      <td>12.370176</td>\n",
       "      <td>12.683102</td>\n",
       "      <td>13.876703</td>\n",
       "      <td>13.977947</td>\n",
       "      <td>14.031883</td>\n",
       "      <td>14.089857</td>\n",
       "      <td>14.228761</td>\n",
       "      <td>14.799631</td>\n",
       "      <td>15.546217</td>\n",
       "    </tr>\n",
       "    <tr>\n",
       "      <th>2021zvo</th>\n",
       "      <td>703</td>\n",
       "      <td>461</td>\n",
       "      <td>259</td>\n",
       "      <td>277</td>\n",
       "      <td>104</td>\n",
       "      <td>631</td>\n",
       "      <td>696</td>\n",
       "      <td>671</td>\n",
       "      <td>652</td>\n",
       "      <td>413</td>\n",
       "      <td>0.0</td>\n",
       "      <td>8.111651</td>\n",
       "      <td>8.469309</td>\n",
       "      <td>8.750119</td>\n",
       "      <td>10.023809</td>\n",
       "      <td>11.523143</td>\n",
       "      <td>11.610323</td>\n",
       "      <td>12.587810</td>\n",
       "      <td>12.759316</td>\n",
       "      <td>13.050555</td>\n",
       "    </tr>\n",
       "  </tbody>\n",
       "</table>\n",
       "<p>704 rows × 20 columns</p>\n",
       "</div>"
      ],
      "text/plain": [
       "         ann=0  ann=1  ann=2  ann=3  ann=4  ann=5  ann=6  ann=7  ann=8  ann=9  \\\n",
       "key_0                                                                           \n",
       "2019lbi      0     96    240    465    296    326     70     90    337    486   \n",
       "2019pmd      1    382      2    422     95    448     94    438     81    303   \n",
       "2019tvv      2     95      1    382     94    303      9    438    260    422   \n",
       "2019ucc      3    319    459    670    650    106     51    252    454     41   \n",
       "2019uev      4    442    341     64    645    431    108    300    311     72   \n",
       "...        ...    ...    ...    ...    ...    ...    ...    ...    ...    ...   \n",
       "2021zcj    699    163    570     52    159    428    161    471    390    154   \n",
       "2021zep    700    457    594    497    583     63    684    592    446    622   \n",
       "2021zri    701     63    644    592    252    327    266    549    136    394   \n",
       "2021ztz    702    156    674     85    579     18    235    160    483    245   \n",
       "2021zvo    703    461    259    277    104    631    696    671    652    413   \n",
       "\n",
       "         dist=0     dist=1     dist=2      dist=3      dist=4      dist=5  \\\n",
       "key_0                                                                       \n",
       "2019lbi     0.0  80.216873  97.707169  106.133827  119.626030  126.489479   \n",
       "2019pmd     0.0  46.877266  47.078033   50.280861   51.951317   52.831615   \n",
       "2019tvv     0.0  45.935852  47.078033   49.598923   56.382187   63.682781   \n",
       "2019ucc     0.0  21.861115  24.618073   31.493504   31.562330   32.460991   \n",
       "2019uev     0.0  20.252827  26.982574   27.259682   27.833424   30.399303   \n",
       "...         ...        ...        ...         ...         ...         ...   \n",
       "2021zcj     0.0  10.286498  12.030469   14.800612   16.711849   17.292202   \n",
       "2021zep     0.0  11.043327  25.252851   26.419538   27.050306   27.815149   \n",
       "2021zri     0.0  20.109650  22.254036   24.598881   27.893303   28.919004   \n",
       "2021ztz     0.0  12.370176  12.683102   13.876703   13.977947   14.031883   \n",
       "2021zvo     0.0   8.111651   8.469309    8.750119   10.023809   11.523143   \n",
       "\n",
       "             dist=6      dist=7      dist=8      dist=9  \n",
       "key_0                                                    \n",
       "2019lbi  129.903946  134.355545  137.773575  144.417694  \n",
       "2019pmd   54.728233   55.207756   59.382420   59.816151  \n",
       "2019tvv   65.051483   75.519371   78.548714   78.561096  \n",
       "2019ucc   33.850796   34.454754   34.988419   35.214859  \n",
       "2019uev   30.535364   33.126656   33.331017   33.633099  \n",
       "...             ...         ...         ...         ...  \n",
       "2021zcj   17.355383   18.070551   18.644028   18.834564  \n",
       "2021zep   27.858988   28.645140   29.308002   29.776899  \n",
       "2021zri   29.031876   31.016697   31.535299   31.648170  \n",
       "2021ztz   14.089857   14.228761   14.799631   15.546217  \n",
       "2021zvo   11.610323   12.587810   12.759316   13.050555  \n",
       "\n",
       "[704 rows x 20 columns]"
      ]
     },
     "execution_count": 33,
     "metadata": {},
     "output_type": "execute_result"
    }
   ],
   "source": [
    "ref_name_l, id_l, dist_l = [], [], []\n",
    "for ref in list(dataset_bank.index):\n",
    "    dataset_ref = dataset_bank[dataset_bank.index == ref] \n",
    "\n",
    "    feat_arr_ref = np.vstack(np.array(dataset_ref, dtype='object'))\n",
    "    scaled_feat_arr_ref = feat_arr_ref # PCA, so already scaled\n",
    "\n",
    "    snid = dataset_ref.index.values[0]\n",
    "    lcdata = {'name': snid, 'vector': scaled_feat_arr_ref[0]}\n",
    "    #lcdata = {'name': ztf_id, 'vector': feat_arr_scaled[-5:-4][0]}\n",
    "\n",
    "    #result_id, result_dist = index.index.get_nns_by_item(, n=10, include_distances=True)\n",
    "    result_id, result_dist = index.index.get_nns_by_vector(lcdata['vector'], n=10, include_distances=True)\n",
    "    \n",
    "    ref_name_l.append(snid), id_l.append(result_id), dist_l.append(result_dist)\n",
    "    \n",
    "temp_df = pd.DataFrame(zip(ref_name_l, id_l, dist_l), columns=['Reference', 'ids', 'dists'])\n",
    "temp_df = temp_df.set_index('Reference')\n",
    "ann_split_df = temp_df.merge(pd.DataFrame(temp_df['ids'].values.tolist()).add_prefix('ann='), on=temp_df.index)\n",
    "ann_split_df = ann_split_df.set_index('key_0')\n",
    "ann_dist_all_df = ann_split_df.merge(pd.DataFrame(ann_split_df['dists'].values.tolist()).add_prefix('dist='), on=ann_split_df.index)\n",
    "ann_dist_all_df = ann_dist_all_df.drop(columns=['ids', 'dists'])\n",
    "ann_dist_all_df = ann_dist_all_df.set_index('key_0')\n",
    "ann_dist_all_df"
   ]
  },
  {
   "cell_type": "code",
   "execution_count": 34,
   "id": "12f01a64",
   "metadata": {},
   "outputs": [
    {
     "name": "stdout",
     "output_type": "stream",
     "text": [
      "summary stats\n",
      "Scatter mean: 18.48353607749397\n",
      "Scatter median: 12.832775592803955\n",
      "Scatter std: 23.38047910300999\n",
      "Scatter max: 399.7420959472656\n",
      "Scatter min: 3.568307876586914\n",
      "\n",
      "\n",
      "Most anomalous (max distance of ref to ANN=1): 2020nov\n"
     ]
    }
   ],
   "source": [
    "print(\"summary stats\")\n",
    "print(\"Scatter mean:\", np.mean(ann_dist_all_df['dist=1']))\n",
    "print(\"Scatter median:\", np.median(ann_dist_all_df['dist=1']))\n",
    "print(\"Scatter std:\", np.std(ann_dist_all_df['dist=1']))\n",
    "print(\"Scatter max:\", np.max(ann_dist_all_df['dist=1']))\n",
    "print(\"Scatter min:\", np.min(ann_dist_all_df['dist=1']))\n",
    "print(\"\\n\")\n",
    "\n",
    "\n",
    "# Returns index of max distance\n",
    "print(\"Most anomalous (max distance of ref to ANN=1):\", ann_dist_all_df[['dist=1']].idxmax().values[0])"
   ]
  },
  {
   "cell_type": "code",
   "execution_count": 36,
   "id": "4d41d843",
   "metadata": {},
   "outputs": [
    {
     "name": "stdout",
     "output_type": "stream",
     "text": [
      "Dist=1: 399.7420959472656\n"
     ]
    }
   ],
   "source": [
    "ref_obj = '2020nov'\n",
    "print(\"Dist=1:\", ann_dist_all_df.loc[ref_obj]['dist=1']) # Kron, Ap, and PSF fluxes are too high"
   ]
  },
  {
   "cell_type": "code",
   "execution_count": 37,
   "id": "a3a2ac31",
   "metadata": {},
   "outputs": [
    {
     "data": {
      "text/html": [
       "<div>\n",
       "<style scoped>\n",
       "    .dataframe tbody tr th:only-of-type {\n",
       "        vertical-align: middle;\n",
       "    }\n",
       "\n",
       "    .dataframe tbody tr th {\n",
       "        vertical-align: top;\n",
       "    }\n",
       "\n",
       "    .dataframe thead th {\n",
       "        text-align: right;\n",
       "    }\n",
       "</style>\n",
       "<table border=\"1\" class=\"dataframe\">\n",
       "  <thead>\n",
       "    <tr style=\"text-align: right;\">\n",
       "      <th></th>\n",
       "      <th>PC0</th>\n",
       "      <th>PC1</th>\n",
       "      <th>PC2</th>\n",
       "      <th>PC3</th>\n",
       "      <th>PC4</th>\n",
       "      <th>PC5</th>\n",
       "    </tr>\n",
       "    <tr>\n",
       "      <th>TransientName</th>\n",
       "      <th></th>\n",
       "      <th></th>\n",
       "      <th></th>\n",
       "      <th></th>\n",
       "      <th></th>\n",
       "      <th></th>\n",
       "    </tr>\n",
       "  </thead>\n",
       "  <tbody>\n",
       "    <tr>\n",
       "      <th>2020nov</th>\n",
       "      <td>714.711162</td>\n",
       "      <td>707.846931</td>\n",
       "      <td>-102.776069</td>\n",
       "      <td>42.257897</td>\n",
       "      <td>-27.828194</td>\n",
       "      <td>-23.371389</td>\n",
       "    </tr>\n",
       "  </tbody>\n",
       "</table>\n",
       "</div>"
      ],
      "text/plain": [
       "                      PC0         PC1         PC2        PC3        PC4  \\\n",
       "TransientName                                                             \n",
       "2020nov        714.711162  707.846931 -102.776069  42.257897 -27.828194   \n",
       "\n",
       "                     PC5  \n",
       "TransientName             \n",
       "2020nov       -23.371389  "
      ]
     },
     "execution_count": 37,
     "metadata": {},
     "output_type": "execute_result"
    }
   ],
   "source": [
    "dataset_bank[dataset_bank.index == ref_obj]"
   ]
  },
  {
   "cell_type": "code",
   "execution_count": 40,
   "id": "24ab3921",
   "metadata": {},
   "outputs": [
    {
     "data": {
      "image/png": "[encoded data removed]",
      "text/plain": [
       "<Figure size 432x288 with 1 Axes>"
      ]
     },
     "metadata": {
      "needs_background": "light"
     },
     "output_type": "display_data"
    },
    {
     "data": {
      "image/png": "[encoded data removed]",
      "text/plain": [
       "<Figure size 432x288 with 1 Axes>"
      ]
     },
     "metadata": {
      "needs_background": "light"
     },
     "output_type": "display_data"
    },
    {
     "data": {
      "image/png": "[encoded data removed]",
      "text/plain": [
       "<Figure size 432x288 with 1 Axes>"
      ]
     },
     "metadata": {
      "needs_background": "light"
     },
     "output_type": "display_data"
    },
    {
     "data": {
      "image/png": "[encoded data removed]",
      "text/plain": [
       "<Figure size 432x288 with 1 Axes>"
      ]
     },
     "metadata": {
      "needs_background": "light"
     },
     "output_type": "display_data"
    },
    {
     "data": {
      "image/png": "[encoded data removed]",
      "text/plain": [
       "<Figure size 432x288 with 1 Axes>"
      ]
     },
     "metadata": {
      "needs_background": "light"
     },
     "output_type": "display_data"
    },
    {
     "data": {
      "image/png": "[encoded data removed]",
      "text/plain": [
       "<Figure size 432x288 with 1 Axes>"
      ]
     },
     "metadata": {
      "needs_background": "light"
     },
     "output_type": "display_data"
    }
   ],
   "source": [
    "feat_scatter_l = []\n",
    "for feat in dataset_bank.columns:\n",
    "    fig, ax = plt.subplots()\n",
    "    min_feat, max_feat = np.min(dataset_bank[feat]), np.max(dataset_bank[feat])\n",
    "    \n",
    "    ax.hist(dataset_bank[feat], bins=np.linspace(min_feat, max_feat, 100))\n",
    "    \n",
    "    ref = dataset_bank[dataset_bank.index == ref_obj]\n",
    "    \n",
    "    ax.axvline(ref[feat].values[0], color='m', label=ref_obj)\n",
    "    ax.set_title(feat)\n",
    "    ax.set_xlim(min_feat, max_feat)\n",
    "    \n",
    "    plt.legend()\n",
    "    plt.show()\n",
    "    \n",
    "    feat_scatter = np.std(dataset_bank[feat])\n",
    "    feat_scatter_l.append(feat_scatter)   "
   ]
  },
  {
   "cell_type": "code",
   "execution_count": 42,
   "id": "e86f8c94",
   "metadata": {},
   "outputs": [
    {
     "name": "stdout",
     "output_type": "stream",
     "text": [
      "[714.7111618654613 707.8469314057106 -102.77606927063566\n",
      " 42.257897369389184 -27.828194297120376 -23.37138928693882]\n",
      "ZTF ID name (ref) 2020nov\n"
     ]
    },
    {
     "data": {
      "text/markdown": [
       "https://ziggy.ucolick.org/yse/transient_detail/2020nov"
      ]
     },
     "metadata": {},
     "output_type": "display_data"
    },
    {
     "name": "stdout",
     "output_type": "stream",
     "text": [
      "None\n",
      "%%%%%%\n",
      "ANN\t\tIDX\t\t\t\tZTF_id\t\t\t\tDIST\n"
     ]
    },
    {
     "data": {
      "text/markdown": [
       "https://ziggy.ucolick.org/yse/transient_detail/2020nov"
      ]
     },
     "metadata": {},
     "output_type": "display_data"
    },
    {
     "name": "stdout",
     "output_type": "stream",
     "text": [
      "0\t\t220\t\t\t\tNone\t\t\t0.0\n"
     ]
    },
    {
     "data": {
      "text/markdown": [
       "https://ziggy.ucolick.org/yse/transient_detail/2020ghq"
      ]
     },
     "metadata": {},
     "output_type": "display_data"
    },
    {
     "name": "stdout",
     "output_type": "stream",
     "text": [
      "1\t\t111\t\t\t\tNone\t\t\t399.7421\n"
     ]
    },
    {
     "data": {
      "text/markdown": [
       "https://ziggy.ucolick.org/yse/transient_detail/2020kre"
      ]
     },
     "metadata": {},
     "output_type": "display_data"
    },
    {
     "name": "stdout",
     "output_type": "stream",
     "text": [
      "2\t\t185\t\t\t\tNone\t\t\t547.8502\n"
     ]
    },
    {
     "data": {
      "text/markdown": [
       "https://ziggy.ucolick.org/yse/transient_detail/2020opy"
      ]
     },
     "metadata": {},
     "output_type": "display_data"
    },
    {
     "name": "stdout",
     "output_type": "stream",
     "text": [
      "3\t\t231\t\t\t\tNone\t\t\t548.3911\n"
     ]
    },
    {
     "data": {
      "text/markdown": [
       "https://ziggy.ucolick.org/yse/transient_detail/2020sgf"
      ]
     },
     "metadata": {},
     "output_type": "display_data"
    },
    {
     "name": "stdout",
     "output_type": "stream",
     "text": [
      "4\t\t299\t\t\t\tNone\t\t\t568.0322\n"
     ]
    },
    {
     "data": {
      "text/markdown": [
       "https://ziggy.ucolick.org/yse/transient_detail/2020ciu"
      ]
     },
     "metadata": {},
     "output_type": "display_data"
    },
    {
     "name": "stdout",
     "output_type": "stream",
     "text": [
      "5\t\t90\t\t\t\tNone\t\t\t600.8287\n"
     ]
    },
    {
     "data": {
      "text/markdown": [
       "https://ziggy.ucolick.org/yse/transient_detail/2020tlf"
      ]
     },
     "metadata": {},
     "output_type": "display_data"
    },
    {
     "name": "stdout",
     "output_type": "stream",
     "text": [
      "6\t\t326\t\t\t\tNone\t\t\t663.8442\n"
     ]
    },
    {
     "data": {
      "text/markdown": [
       "https://ziggy.ucolick.org/yse/transient_detail/2020eaf"
      ]
     },
     "metadata": {},
     "output_type": "display_data"
    },
    {
     "name": "stdout",
     "output_type": "stream",
     "text": [
      "7\t\t96\t\t\t\tNone\t\t\t672.1417\n"
     ]
    },
    {
     "data": {
      "text/markdown": [
       "https://ziggy.ucolick.org/yse/transient_detail/2020svn"
      ]
     },
     "metadata": {},
     "output_type": "display_data"
    },
    {
     "name": "stdout",
     "output_type": "stream",
     "text": [
      "8\t\t310\t\t\t\tNone\t\t\t685.856\n"
     ]
    },
    {
     "data": {
      "text/markdown": [
       "https://ziggy.ucolick.org/yse/transient_detail/2020sck"
      ]
     },
     "metadata": {},
     "output_type": "display_data"
    },
    {
     "name": "stdout",
     "output_type": "stream",
     "text": [
      "9\t\t296\t\t\t\tNone\t\t\t690.7039\n"
     ]
    }
   ],
   "source": [
    "dataset_ref = dataset_bank[dataset_bank.index == ref_obj]\n",
    "\n",
    "# feat_arr_ref = np.vstack(np.array(dataset_ref, dtype='object'))\n",
    "# scaled_feat_arr_ref = scaler.transform(feat_arr_ref) #scaler.transform(feat_arr) # What your model learns on\n",
    "# #scaled_feat_arr_ref = scaler.fit_transform(feat_arr_ref) #scaler.transform(feat_arr) # What your model learns on\n",
    "\n",
    "# # Scalar then PCA\n",
    "# scaled_feat_arr_ref = np.array(dataset_ref)\n",
    "\n",
    "# PCA only\n",
    "feat_arr_ref = np.vstack(np.array(dataset_ref, dtype='object'))\n",
    "scaled_feat_arr_ref = feat_arr_ref\n",
    "\n",
    "# #PCA then scaler\n",
    "# feat_arr_ref = np.vstack(np.array(dataset_ref, dtype='object'))\n",
    "# scaled_feat_arr_ref = feat_arr_ref\n",
    "\n",
    "\n",
    "snid = dataset_ref.index.values[0]\n",
    "lcdata = {'name': snid, 'vector': scaled_feat_arr_ref[0]}\n",
    "#lcdata = {'name': ztf_id, 'vector': feat_arr_scaled[-5:-4][0]}\n",
    "print(lcdata['vector'])\n",
    "\n",
    "#result_id, result_dist = index.index.get_nns_by_item(, n=10, include_distances=True)\n",
    "result_id, result_dist = index.index.get_nns_by_vector(lcdata['vector'], n=10, include_distances=True)\n",
    "#result_name = index.query(lcdata['vector'])\n",
    "\n",
    "print(f\"ZTF ID name (ref) {snid}\") \n",
    "link_ref = display_markdown(f'https://ziggy.ucolick.org/yse/transient_detail/{snid}', raw=True)\n",
    "print(link_ref)\n",
    "print(\"%%%%%%\")\n",
    "print(\"ANN\\t\\tIDX\\t\\t\\t\\tZTF_id\\t\\t\\t\\tDIST\")#\\tFEAT\")\n",
    "for n, (i, d) in enumerate(zip(result_id, result_dist)):#, feat_arr):\n",
    "    print(f\"{n}\\t\\t{i}\\t\\t\\t\\t{display_markdown(f'https://ziggy.ucolick.org/yse/transient_detail/{idx_arr[i]}', raw=True)}\\t\\t\\t{round(d, 4)}\")#\\t{f}\")"
   ]
  },
  {
   "cell_type": "code",
   "execution_count": 45,
   "id": "00c927c9",
   "metadata": {},
   "outputs": [
    {
     "data": {
      "text/plain": [
       "key_0\n",
       "2020nov     399.742096\n",
       "2020sgf     280.085510\n",
       "2020ghq     154.462234\n",
       "2021hiz     104.949631\n",
       "2021qzi     104.949631\n",
       "2020pni      93.347412\n",
       "2020abim     91.532478\n",
       "2019lbi      80.216873\n",
       "2021dov      77.172577\n",
       "2020ovk      74.233978\n",
       "Name: dist=1, dtype: float64"
      ]
     },
     "execution_count": 45,
     "metadata": {},
     "output_type": "execute_result"
    }
   ],
   "source": [
    "# 10 largest ANN=1 distances\n",
    "ann_dist_all_df['dist=1'].nlargest(10)"
   ]
  },
  {
   "cell_type": "markdown",
   "id": "d3f56b35",
   "metadata": {},
   "source": [
    "# all weird!"
   ]
  },
  {
   "cell_type": "markdown",
   "id": "97b0cb10",
   "metadata": {},
   "source": [
    "2020nov    399.742096 # TDE\n",
    "2020sgf    280.085510 # Very red Ic\n",
    "2020ghq    154.462234 # 2 SN in same position\n",
    "2021hiz    104.949631 # very bright Ia (app mag ~ 13), z=0.003319 in Virgo\n",
    "2021qzi    104.949631 # SN II in spiral, z=0.027365; looks kinda normal\n",
    "2020pni      93.347412 # Flash ionization, SN II, z=0.01687, bright (app mag ~ 16)\n",
    "2020abim     91.532478 # Ia on decline (only blue part of light curve), z=0.015\n",
    "2019lbi      80.216873 # gap of like 100d, SN II, z=0.013\n",
    "2021dov      77.172577 # SN Ia, z=0.012, bright (app mag ~ 15)\n",
    "2020ovk      74.233978 # Well sampled SN II, z=0.025"
   ]
  },
  {
   "cell_type": "code",
   "execution_count": 49,
   "id": "7a0e0194",
   "metadata": {},
   "outputs": [
    {
     "data": {
      "image/png": "[encoded data removed]",
      "text/plain": [
       "<Figure size 432x288 with 1 Axes>"
      ]
     },
     "metadata": {
      "needs_background": "light"
     },
     "output_type": "display_data"
    }
   ],
   "source": [
    "plt.hist(ann_dist_all_df['dist=1'], \n",
    "         bins=np.linspace(np.min(ann_dist_all_df['dist=1']), \n",
    "                          np.max(ann_dist_all_df['dist=1']), 31));"
   ]
  },
  {
   "cell_type": "code",
   "execution_count": 50,
   "id": "ce399a73",
   "metadata": {},
   "outputs": [
    {
     "data": {
      "text/plain": [
       "key_0\n",
       "2020rvg     3.568308\n",
       "2021lru     3.568308\n",
       "2020aahq    4.128008\n",
       "2021kpr     4.128008\n",
       "2020tzs     4.148623\n",
       "2021xbn     4.148623\n",
       "2021dpj     4.302462\n",
       "2021fom     4.302462\n",
       "2021adnv    4.340722\n",
       "2021pca     4.340722\n",
       "Name: dist=1, dtype: float64"
      ]
     },
     "execution_count": 50,
     "metadata": {},
     "output_type": "execute_result"
    }
   ],
   "source": [
    "# 10 smallest ANN=1 distances (most similar)\n",
    "ann_dist_all_df['dist=1'].nsmallest(10)"
   ]
  },
  {
   "cell_type": "markdown",
   "id": "d03778f3",
   "metadata": {},
   "source": [
    "2020rvg     3.568308 # Looks damn similar! LC and host and z\n",
    "2021lru     3.568308 # Looks damn similar^! LC and host and z\n",
    "2020aahq    4.128008 # Fairly similar\n",
    "2021kpr     4.128008 # Fairly similar\n",
    "2020tzs     4.148623 # Fairly similar\n",
    "2021xbn     4.148623 # Fairly similar\n",
    "2021dpj     4.302462 # Looks damn similar^! LC and host\n",
    "2021fom     4.302462 # Looks damn similar^! LC and host\n",
    "2021adnv    4.340722 # Looks damn similar^! LC and host and z\n",
    "2021pca     4.340722 # Looks damn similar^! LC and host and z"
   ]
  },
  {
   "cell_type": "code",
   "execution_count": 51,
   "id": "aa5e7f15",
   "metadata": {},
   "outputs": [
    {
     "name": "stdout",
     "output_type": "stream",
     "text": [
      "[-78.71864853857463 -5.587625667054511 -7.300062085286397\n",
      " 21.420488794652066 -0.39386277903311673 -0.1266393136864368]\n",
      "ZTF ID name (ref) 2020rvg\n"
     ]
    },
    {
     "data": {
      "text/markdown": [
       "https://ziggy.ucolick.org/yse/transient_detail/2020rvg"
      ]
     },
     "metadata": {},
     "output_type": "display_data"
    },
    {
     "name": "stdout",
     "output_type": "stream",
     "text": [
      "None\n",
      "%%%%%%\n",
      "ANN\t\tIDX\t\t\t\tZTF_id\t\t\t\tDIST\n"
     ]
    },
    {
     "data": {
      "text/markdown": [
       "https://ziggy.ucolick.org/yse/transient_detail/2020rvg"
      ]
     },
     "metadata": {},
     "output_type": "display_data"
    },
    {
     "name": "stdout",
     "output_type": "stream",
     "text": [
      "0\t\t291\t\t\t\tNone\t\t\t0.0\n"
     ]
    },
    {
     "data": {
      "text/markdown": [
       "https://ziggy.ucolick.org/yse/transient_detail/2021lru"
      ]
     },
     "metadata": {},
     "output_type": "display_data"
    },
    {
     "name": "stdout",
     "output_type": "stream",
     "text": [
      "1\t\t562\t\t\t\tNone\t\t\t3.5683\n"
     ]
    },
    {
     "data": {
      "text/markdown": [
       "https://ziggy.ucolick.org/yse/transient_detail/2021scq"
      ]
     },
     "metadata": {},
     "output_type": "display_data"
    },
    {
     "name": "stdout",
     "output_type": "stream",
     "text": [
      "2\t\t628\t\t\t\tNone\t\t\t8.7124\n"
     ]
    },
    {
     "data": {
      "text/markdown": [
       "https://ziggy.ucolick.org/yse/transient_detail/2020kns"
      ]
     },
     "metadata": {},
     "output_type": "display_data"
    },
    {
     "name": "stdout",
     "output_type": "stream",
     "text": [
      "3\t\t180\t\t\t\tNone\t\t\t9.3161\n"
     ]
    },
    {
     "data": {
      "text/markdown": [
       "https://ziggy.ucolick.org/yse/transient_detail/2020yiy"
      ]
     },
     "metadata": {},
     "output_type": "display_data"
    },
    {
     "name": "stdout",
     "output_type": "stream",
     "text": [
      "4\t\t374\t\t\t\tNone\t\t\t9.7146\n"
     ]
    },
    {
     "data": {
      "text/markdown": [
       "https://ziggy.ucolick.org/yse/transient_detail/2021iig"
      ]
     },
     "metadata": {},
     "output_type": "display_data"
    },
    {
     "name": "stdout",
     "output_type": "stream",
     "text": [
      "5\t\t511\t\t\t\tNone\t\t\t9.7198\n"
     ]
    },
    {
     "data": {
      "text/markdown": [
       "https://ziggy.ucolick.org/yse/transient_detail/2020tri"
      ]
     },
     "metadata": {},
     "output_type": "display_data"
    },
    {
     "name": "stdout",
     "output_type": "stream",
     "text": [
      "6\t\t329\t\t\t\tNone\t\t\t9.7382\n"
     ]
    },
    {
     "data": {
      "text/markdown": [
       "https://ziggy.ucolick.org/yse/transient_detail/2020rfx"
      ]
     },
     "metadata": {},
     "output_type": "display_data"
    },
    {
     "name": "stdout",
     "output_type": "stream",
     "text": [
      "7\t\t274\t\t\t\tNone\t\t\t10.8456\n"
     ]
    },
    {
     "data": {
      "text/markdown": [
       "https://ziggy.ucolick.org/yse/transient_detail/2020rok"
      ]
     },
     "metadata": {},
     "output_type": "display_data"
    },
    {
     "name": "stdout",
     "output_type": "stream",
     "text": [
      "8\t\t282\t\t\t\tNone\t\t\t11.6079\n"
     ]
    },
    {
     "data": {
      "text/markdown": [
       "https://ziggy.ucolick.org/yse/transient_detail/2020alx"
      ]
     },
     "metadata": {},
     "output_type": "display_data"
    },
    {
     "name": "stdout",
     "output_type": "stream",
     "text": [
      "9\t\t76\t\t\t\tNone\t\t\t12.4482\n"
     ]
    }
   ],
   "source": [
    "dataset_ref = dataset_bank[dataset_bank.index == '2020rvg']\n",
    "\n",
    "# feat_arr_ref = np.vstack(np.array(dataset_ref, dtype='object'))\n",
    "# scaled_feat_arr_ref = scaler.transform(feat_arr_ref) #scaler.transform(feat_arr) # What your model learns on\n",
    "# #scaled_feat_arr_ref = scaler.fit_transform(feat_arr_ref) #scaler.transform(feat_arr) # What your model learns on\n",
    "\n",
    "# # Scalar then PCA\n",
    "# scaled_feat_arr_ref = np.array(dataset_ref)\n",
    "\n",
    "# PCA only\n",
    "feat_arr_ref = np.vstack(np.array(dataset_ref, dtype='object'))\n",
    "scaled_feat_arr_ref = feat_arr_ref\n",
    "\n",
    "# #PCA then scaler\n",
    "# feat_arr_ref = np.vstack(np.array(dataset_ref, dtype='object'))\n",
    "# scaled_feat_arr_ref = feat_arr_ref\n",
    "\n",
    "\n",
    "snid = dataset_ref.index.values[0]\n",
    "lcdata = {'name': snid, 'vector': scaled_feat_arr_ref[0]}\n",
    "#lcdata = {'name': ztf_id, 'vector': feat_arr_scaled[-5:-4][0]}\n",
    "print(lcdata['vector'])\n",
    "\n",
    "#result_id, result_dist = index.index.get_nns_by_item(, n=10, include_distances=True)\n",
    "result_id, result_dist = index.index.get_nns_by_vector(lcdata['vector'], n=10, include_distances=True)\n",
    "#result_name = index.query(lcdata['vector'])\n",
    "\n",
    "print(f\"ZTF ID name (ref) {snid}\") \n",
    "link_ref = display_markdown(f'https://ziggy.ucolick.org/yse/transient_detail/{snid}', raw=True)\n",
    "print(link_ref)\n",
    "print(\"%%%%%%\")\n",
    "print(\"ANN\\t\\tIDX\\t\\t\\t\\tZTF_id\\t\\t\\t\\tDIST\")#\\tFEAT\")\n",
    "for n, (i, d) in enumerate(zip(result_id, result_dist)):#, feat_arr):\n",
    "    print(f\"{n}\\t\\t{i}\\t\\t\\t\\t{display_markdown(f'https://ziggy.ucolick.org/yse/transient_detail/{idx_arr[i]}', raw=True)}\\t\\t\\t{round(d, 4)}\")#\\t{f}\")"
   ]
  },
  {
   "cell_type": "markdown",
   "id": "ee2aa80b",
   "metadata": {},
   "source": [
    "# TODO: what about known weird ones? i.e. 2020acct\n",
    "\n"
   ]
  },
  {
   "cell_type": "code",
   "execution_count": 52,
   "id": "288b4412",
   "metadata": {},
   "outputs": [
    {
     "name": "stdout",
     "output_type": "stream",
     "text": [
      "[35.51486791122655 29.865931005866482 -9.166447509493851\n",
      " -37.41370148149368 -9.092349030503422 37.47896055512178]\n",
      "ZTF ID name (ref) 2020acct\n"
     ]
    },
    {
     "data": {
      "text/markdown": [
       "https://ziggy.ucolick.org/yse/transient_detail/2020acct"
      ]
     },
     "metadata": {},
     "output_type": "display_data"
    },
    {
     "name": "stdout",
     "output_type": "stream",
     "text": [
      "None\n",
      "%%%%%%\n",
      "ANN\t\tIDX\t\t\t\tZTF_id\t\t\t\tDIST\n"
     ]
    },
    {
     "data": {
      "text/markdown": [
       "https://ziggy.ucolick.org/yse/transient_detail/2020acct"
      ]
     },
     "metadata": {},
     "output_type": "display_data"
    },
    {
     "name": "stdout",
     "output_type": "stream",
     "text": [
      "0\t\t46\t\t\t\tNone\t\t\t0.0\n"
     ]
    },
    {
     "data": {
      "text/markdown": [
       "https://ziggy.ucolick.org/yse/transient_detail/2020zpi"
      ]
     },
     "metadata": {},
     "output_type": "display_data"
    },
    {
     "name": "stdout",
     "output_type": "stream",
     "text": [
      "1\t\t388\t\t\t\tNone\t\t\t30.2687\n"
     ]
    },
    {
     "data": {
      "text/markdown": [
       "https://ziggy.ucolick.org/yse/transient_detail/2021pj"
      ]
     },
     "metadata": {},
     "output_type": "display_data"
    },
    {
     "name": "stdout",
     "output_type": "stream",
     "text": [
      "2\t\t603\t\t\t\tNone\t\t\t30.9366\n"
     ]
    },
    {
     "data": {
      "text/markdown": [
       "https://ziggy.ucolick.org/yse/transient_detail/2021zri"
      ]
     },
     "metadata": {},
     "output_type": "display_data"
    },
    {
     "name": "stdout",
     "output_type": "stream",
     "text": [
      "3\t\t701\t\t\t\tNone\t\t\t41.9079\n"
     ]
    },
    {
     "data": {
      "text/markdown": [
       "https://ziggy.ucolick.org/yse/transient_detail/2020tly"
      ]
     },
     "metadata": {},
     "output_type": "display_data"
    },
    {
     "name": "stdout",
     "output_type": "stream",
     "text": [
      "4\t\t327\t\t\t\tNone\t\t\t47.2031\n"
     ]
    },
    {
     "data": {
      "text/markdown": [
       "https://ziggy.ucolick.org/yse/transient_detail/2021wue"
      ]
     },
     "metadata": {},
     "output_type": "display_data"
    },
    {
     "name": "stdout",
     "output_type": "stream",
     "text": [
      "5\t\t675\t\t\t\tNone\t\t\t48.7025\n"
     ]
    },
    {
     "data": {
      "text/markdown": [
       "https://ziggy.ucolick.org/yse/transient_detail/2021bwv"
      ]
     },
     "metadata": {},
     "output_type": "display_data"
    },
    {
     "name": "stdout",
     "output_type": "stream",
     "text": [
      "6\t\t442\t\t\t\tNone\t\t\t51.8237\n"
     ]
    },
    {
     "data": {
      "text/markdown": [
       "https://ziggy.ucolick.org/yse/transient_detail/2020mks"
      ]
     },
     "metadata": {},
     "output_type": "display_data"
    },
    {
     "name": "stdout",
     "output_type": "stream",
     "text": [
      "7\t\t203\t\t\t\tNone\t\t\t51.9237\n"
     ]
    },
    {
     "data": {
      "text/markdown": [
       "https://ziggy.ucolick.org/yse/transient_detail/2021pci"
      ]
     },
     "metadata": {},
     "output_type": "display_data"
    },
    {
     "name": "stdout",
     "output_type": "stream",
     "text": [
      "8\t\t597\t\t\t\tNone\t\t\t54.6357\n"
     ]
    },
    {
     "data": {
      "text/markdown": [
       "https://ziggy.ucolick.org/yse/transient_detail/2021tks"
      ]
     },
     "metadata": {},
     "output_type": "display_data"
    },
    {
     "name": "stdout",
     "output_type": "stream",
     "text": [
      "9\t\t644\t\t\t\tNone\t\t\t55.6554\n"
     ]
    }
   ],
   "source": [
    "dataset_ref = dataset_bank[dataset_bank.index == '2020acct']\n",
    "\n",
    "# feat_arr_ref = np.vstack(np.array(dataset_ref, dtype='object'))\n",
    "# scaled_feat_arr_ref = scaler.transform(feat_arr_ref) #scaler.transform(feat_arr) # What your model learns on\n",
    "# #scaled_feat_arr_ref = scaler.fit_transform(feat_arr_ref) #scaler.transform(feat_arr) # What your model learns on\n",
    "\n",
    "# # Scalar then PCA\n",
    "# scaled_feat_arr_ref = np.array(dataset_ref)\n",
    "\n",
    "# PCA only\n",
    "feat_arr_ref = np.vstack(np.array(dataset_ref, dtype='object'))\n",
    "scaled_feat_arr_ref = feat_arr_ref\n",
    "\n",
    "# #PCA then scaler\n",
    "# feat_arr_ref = np.vstack(np.array(dataset_ref, dtype='object'))\n",
    "# scaled_feat_arr_ref = feat_arr_ref\n",
    "\n",
    "\n",
    "snid = dataset_ref.index.values[0]\n",
    "lcdata = {'name': snid, 'vector': scaled_feat_arr_ref[0]}\n",
    "#lcdata = {'name': ztf_id, 'vector': feat_arr_scaled[-5:-4][0]}\n",
    "print(lcdata['vector'])\n",
    "\n",
    "#result_id, result_dist = index.index.get_nns_by_item(, n=10, include_distances=True)\n",
    "result_id, result_dist = index.index.get_nns_by_vector(lcdata['vector'], n=10, include_distances=True)\n",
    "#result_name = index.query(lcdata['vector'])\n",
    "\n",
    "print(f\"ZTF ID name (ref) {snid}\") \n",
    "link_ref = display_markdown(f'https://ziggy.ucolick.org/yse/transient_detail/{snid}', raw=True)\n",
    "print(link_ref)\n",
    "print(\"%%%%%%\")\n",
    "print(\"ANN\\t\\tIDX\\t\\t\\t\\tZTF_id\\t\\t\\t\\tDIST\")#\\tFEAT\")\n",
    "for n, (i, d) in enumerate(zip(result_id, result_dist)):#, feat_arr):\n",
    "    print(f\"{n}\\t\\t{i}\\t\\t\\t\\t{display_markdown(f'https://ziggy.ucolick.org/yse/transient_detail/{idx_arr[i]}', raw=True)}\\t\\t\\t{round(d, 4)}\")#\\t{f}\")"
   ]
  },
  {
   "cell_type": "markdown",
   "id": "a5d447ea",
   "metadata": {},
   "source": [
    "https://ziggy.ucolick.org/yse/transient_detail/2020acct/\n",
    "https://ziggy.ucolick.org/yse/transient_detail/2020zpi/\n",
    "\n",
    "#### Host environments v similar (spiral, z~0.035), kinda similar LCs (17-18 mag), similar timescales\n",
    "#### More host similarities than lc similarities (think about for weighting features and selection)"
   ]
  },
  {
   "cell_type": "code",
   "execution_count": 55,
   "id": "22c0e21a",
   "metadata": {},
   "outputs": [
    {
     "data": {
      "text/html": [
       "<div>\n",
       "<style scoped>\n",
       "    .dataframe tbody tr th:only-of-type {\n",
       "        vertical-align: middle;\n",
       "    }\n",
       "\n",
       "    .dataframe tbody tr th {\n",
       "        vertical-align: top;\n",
       "    }\n",
       "\n",
       "    .dataframe thead th {\n",
       "        text-align: right;\n",
       "    }\n",
       "</style>\n",
       "<table border=\"1\" class=\"dataframe\">\n",
       "  <thead>\n",
       "    <tr style=\"text-align: right;\">\n",
       "      <th></th>\n",
       "      <th>PC0</th>\n",
       "      <th>PC1</th>\n",
       "      <th>PC2</th>\n",
       "      <th>PC3</th>\n",
       "      <th>PC4</th>\n",
       "      <th>PC5</th>\n",
       "    </tr>\n",
       "    <tr>\n",
       "      <th>TransientName</th>\n",
       "      <th></th>\n",
       "      <th></th>\n",
       "      <th></th>\n",
       "      <th></th>\n",
       "      <th></th>\n",
       "      <th></th>\n",
       "    </tr>\n",
       "  </thead>\n",
       "  <tbody>\n",
       "    <tr>\n",
       "      <th>2020neh</th>\n",
       "      <td>-21.574346</td>\n",
       "      <td>42.783114</td>\n",
       "      <td>-13.635367</td>\n",
       "      <td>0.562073</td>\n",
       "      <td>20.145384</td>\n",
       "      <td>-0.889649</td>\n",
       "    </tr>\n",
       "  </tbody>\n",
       "</table>\n",
       "</div>"
      ],
      "text/plain": [
       "                     PC0        PC1        PC2       PC3        PC4       PC5\n",
       "TransientName                                                                \n",
       "2020neh       -21.574346  42.783114 -13.635367  0.562073  20.145384 -0.889649"
      ]
     },
     "execution_count": 55,
     "metadata": {},
     "output_type": "execute_result"
    }
   ],
   "source": [
    "dataset_ref = dataset_bank[dataset_bank.index == '2020neh']\n",
    "dataset_ref"
   ]
  },
  {
   "cell_type": "code",
   "execution_count": 56,
   "id": "5494e89f",
   "metadata": {},
   "outputs": [
    {
     "name": "stdout",
     "output_type": "stream",
     "text": [
      "[-21.574345957955412 42.78311370448059 -13.635367160978584\n",
      " 0.5620725235507439 20.145384133666813 -0.8896485147901398]\n",
      "ZTF ID name (ref) 2020neh\n"
     ]
    },
    {
     "data": {
      "text/markdown": [
       "https://ziggy.ucolick.org/yse/transient_detail/2020neh"
      ]
     },
     "metadata": {},
     "output_type": "display_data"
    },
    {
     "name": "stdout",
     "output_type": "stream",
     "text": [
      "None\n",
      "%%%%%%\n",
      "ANN\t\tIDX\t\t\t\tZTF_id\t\t\t\tDIST\n"
     ]
    },
    {
     "data": {
      "text/markdown": [
       "https://ziggy.ucolick.org/yse/transient_detail/2020neh"
      ]
     },
     "metadata": {},
     "output_type": "display_data"
    },
    {
     "name": "stdout",
     "output_type": "stream",
     "text": [
      "0\t\t214\t\t\t\tNone\t\t\t0.0\n"
     ]
    },
    {
     "data": {
      "text/markdown": [
       "https://ziggy.ucolick.org/yse/transient_detail/2019wmr"
      ]
     },
     "metadata": {},
     "output_type": "display_data"
    },
    {
     "name": "stdout",
     "output_type": "stream",
     "text": [
      "1\t\t8\t\t\t\tNone\t\t\t22.8742\n"
     ]
    },
    {
     "data": {
      "text/markdown": [
       "https://ziggy.ucolick.org/yse/transient_detail/2021lnv"
      ]
     },
     "metadata": {},
     "output_type": "display_data"
    },
    {
     "name": "stdout",
     "output_type": "stream",
     "text": [
      "2\t\t559\t\t\t\tNone\t\t\t23.5507\n"
     ]
    },
    {
     "data": {
      "text/markdown": [
       "https://ziggy.ucolick.org/yse/transient_detail/2021bpq"
      ]
     },
     "metadata": {},
     "output_type": "display_data"
    },
    {
     "name": "stdout",
     "output_type": "stream",
     "text": [
      "3\t\t437\t\t\t\tNone\t\t\t23.9482\n"
     ]
    },
    {
     "data": {
      "text/markdown": [
       "https://ziggy.ucolick.org/yse/transient_detail/2021fwm"
      ]
     },
     "metadata": {},
     "output_type": "display_data"
    },
    {
     "name": "stdout",
     "output_type": "stream",
     "text": [
      "4\t\t478\t\t\t\tNone\t\t\t24.0785\n"
     ]
    },
    {
     "data": {
      "text/markdown": [
       "https://ziggy.ucolick.org/yse/transient_detail/2021joz"
      ]
     },
     "metadata": {},
     "output_type": "display_data"
    },
    {
     "name": "stdout",
     "output_type": "stream",
     "text": [
      "5\t\t529\t\t\t\tNone\t\t\t24.6082\n"
     ]
    },
    {
     "data": {
      "text/markdown": [
       "https://ziggy.ucolick.org/yse/transient_detail/2020kmj"
      ]
     },
     "metadata": {},
     "output_type": "display_data"
    },
    {
     "name": "stdout",
     "output_type": "stream",
     "text": [
      "6\t\t178\t\t\t\tNone\t\t\t25.7702\n"
     ]
    },
    {
     "data": {
      "text/markdown": [
       "https://ziggy.ucolick.org/yse/transient_detail/2020lgy"
      ]
     },
     "metadata": {},
     "output_type": "display_data"
    },
    {
     "name": "stdout",
     "output_type": "stream",
     "text": [
      "7\t\t192\t\t\t\tNone\t\t\t27.3504\n"
     ]
    },
    {
     "data": {
      "text/markdown": [
       "https://ziggy.ucolick.org/yse/transient_detail/2021vaw"
      ]
     },
     "metadata": {},
     "output_type": "display_data"
    },
    {
     "name": "stdout",
     "output_type": "stream",
     "text": [
      "8\t\t663\t\t\t\tNone\t\t\t27.7838\n"
     ]
    },
    {
     "data": {
      "text/markdown": [
       "https://ziggy.ucolick.org/yse/transient_detail/2021arg"
      ]
     },
     "metadata": {},
     "output_type": "display_data"
    },
    {
     "name": "stdout",
     "output_type": "stream",
     "text": [
      "9\t\t428\t\t\t\tNone\t\t\t28.2652\n"
     ]
    }
   ],
   "source": [
    "dataset_ref = dataset_bank[dataset_bank.index == '2020neh']\n",
    "\n",
    "# feat_arr_ref = np.vstack(np.array(dataset_ref, dtype='object'))\n",
    "# scaled_feat_arr_ref = scaler.transform(feat_arr_ref) #scaler.transform(feat_arr) # What your model learns on\n",
    "# #scaled_feat_arr_ref = scaler.fit_transform(feat_arr_ref) #scaler.transform(feat_arr) # What your model learns on\n",
    "\n",
    "# # Scalar then PCA\n",
    "# scaled_feat_arr_ref = np.array(dataset_ref)\n",
    "\n",
    "# PCA only\n",
    "feat_arr_ref = np.vstack(np.array(dataset_ref, dtype='object'))\n",
    "scaled_feat_arr_ref = feat_arr_ref\n",
    "\n",
    "# #PCA then scaler\n",
    "# feat_arr_ref = np.vstack(np.array(dataset_ref, dtype='object'))\n",
    "# scaled_feat_arr_ref = feat_arr_ref\n",
    "\n",
    "\n",
    "snid = dataset_ref.index.values[0]\n",
    "lcdata = {'name': snid, 'vector': scaled_feat_arr_ref[0]}\n",
    "#lcdata = {'name': ztf_id, 'vector': feat_arr_scaled[-5:-4][0]}\n",
    "print(lcdata['vector'])\n",
    "\n",
    "#result_id, result_dist = index.index.get_nns_by_item(, n=10, include_distances=True)\n",
    "result_id, result_dist = index.index.get_nns_by_vector(lcdata['vector'], n=10, include_distances=True)\n",
    "#result_name = index.query(lcdata['vector'])\n",
    "\n",
    "print(f\"ZTF ID name (ref) {snid}\") \n",
    "link_ref = display_markdown(f'https://ziggy.ucolick.org/yse/transient_detail/{snid}', raw=True)\n",
    "print(link_ref)\n",
    "print(\"%%%%%%\")\n",
    "print(\"ANN\\t\\tIDX\\t\\t\\t\\tZTF_id\\t\\t\\t\\tDIST\")#\\tFEAT\")\n",
    "for n, (i, d) in enumerate(zip(result_id, result_dist)):#, feat_arr):\n",
    "    print(f\"{n}\\t\\t{i}\\t\\t\\t\\t{display_markdown(f'https://ziggy.ucolick.org/yse/transient_detail/{idx_arr[i]}', raw=True)}\\t\\t\\t{round(d, 4)}\")#\\t{f}\")"
   ]
  },
  {
   "cell_type": "code",
   "execution_count": null,
   "id": "a65fbb9c",
   "metadata": {},
   "outputs": [],
   "source": [
    "# kinda ish center on host (again, host is taking preference)\n"
   ]
  },
  {
   "cell_type": "markdown",
   "id": "d2b05cd9",
   "metadata": {},
   "source": [
    "# TODO: Need more balance of LC features with host?\n",
    "# More weight on lc features? Maybe vice versa?"
   ]
  },
  {
   "cell_type": "code",
   "execution_count": null,
   "id": "eec7cf48",
   "metadata": {},
   "outputs": [],
   "source": []
  }
 ],
 "metadata": {
  "kernelspec": {
   "display_name": "laiss",
   "language": "python",
   "name": "laiss"
  },
  "language_info": {
   "codemirror_mode": {
    "name": "ipython",
    "version": 3
   },
   "file_extension": ".py",
   "mimetype": "text/x-python",
   "name": "python",
   "nbconvert_exporter": "python",
   "pygments_lexer": "ipython3",
   "version": "3.8.8"
  }
 },
 "nbformat": 4,
 "nbformat_minor": 5
}
