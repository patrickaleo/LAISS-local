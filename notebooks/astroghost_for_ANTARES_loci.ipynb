{
 "cells": [
  {
   "cell_type": "code",
   "execution_count": 1,
   "id": "529a2f0f",
   "metadata": {},
   "outputs": [],
   "source": [
    "import os\n",
    "import sys\n",
    "import time\n",
    "import astro_ghost\n",
    "# from astro_ghost.PS1QueryFunctions import getAllPostageStamps\n",
    "# from astro_ghost.TNSQueryFunctions import getTNSSpectra\n",
    "# from astro_ghost.NEDQueryFunctions import getNEDSpectra\n",
    "from astro_ghost.ghostHelperFunctions import getTransientHosts, getGHOST\n",
    "from astropy.coordinates import SkyCoord\n",
    "from astropy import units as u\n",
    "import pandas as pd\n",
    "from datetime import datetime\n",
    "import numpy as np\n",
    "\n",
    "import tempfile"
   ]
  },
  {
   "cell_type": "code",
   "execution_count": 2,
   "id": "44b547d3",
   "metadata": {},
   "outputs": [],
   "source": [
    "# From 106 available features from Kostya's lc_feature_extractor, use the 82 from SNAD Miner paper \n",
    "# R and g bands\n",
    "feature_names_r_g = ['feature_amplitude_magn_r', \n",
    "                         'feature_anderson_darling_normal_magn_r',\n",
    "                         'feature_beyond_1_std_magn_r', \n",
    "                         'feature_beyond_2_std_magn_r',\n",
    "                         'feature_cusum_magn_r', \n",
    "                         #'feature_eta_e_magn_r',\n",
    "                         'feature_inter_percentile_range_2_magn_r',\n",
    "                         'feature_inter_percentile_range_10_magn_r',\n",
    "                         'feature_inter_percentile_range_25_magn_r', \n",
    "                         'feature_kurtosis_magn_r',\n",
    "                         'feature_linear_fit_slope_magn_r',\n",
    "                         'feature_linear_fit_slope_sigma_magn_r',\n",
    "                         #'feature_linear_fit_reduced_chi2_magn_r', \n",
    "                         'feature_linear_trend_magn_r',\n",
    "                         'feature_linear_trend_sigma_magn_r',\n",
    "                         'feature_magnitude_percentage_ratio_40_5_magn_r',\n",
    "                         'feature_magnitude_percentage_ratio_20_5_magn_r',\n",
    "                         #'feature_maximum_slope_magn_r',\n",
    "                         'feature_mean_magn_r',\n",
    "                         'feature_median_absolute_deviation_magn_r',\n",
    "                         'feature_percent_amplitude_magn_r',\n",
    "                         'feature_median_buffer_range_percentage_10_magn_r',\n",
    "                         'feature_median_buffer_range_percentage_20_magn_r',\n",
    "                         'feature_percent_difference_magnitude_percentile_5_magn_r',\n",
    "                         'feature_percent_difference_magnitude_percentile_10_magn_r',\n",
    "                         #'feature_period_0_magn_r',  # should be negated\n",
    "                         'feature_period_s_to_n_0_magn_r',\n",
    "                         #'feature_period_1_magn_r', \n",
    "                         'feature_period_s_to_n_1_magn_r',\n",
    "                         #'feature_period_2_magn_r', \n",
    "                         'feature_period_s_to_n_2_magn_r',\n",
    "                         #'feature_period_3_magn_r', \n",
    "                         'feature_period_s_to_n_3_magn_r',\n",
    "                         #'feature_period_4_magn_r', \n",
    "                         'feature_period_s_to_n_4_magn_r',\n",
    "                         #'feature_periodogram_amplitude_magn_r',\n",
    "                         'feature_periodogram_beyond_2_std_magn_r',\n",
    "                         'feature_periodogram_beyond_3_std_magn_r',\n",
    "                         'feature_periodogram_standard_deviation_magn_r', \n",
    "                         #'feature_chi2_magn_r',\n",
    "                         'feature_skew_magn_r', \n",
    "                         'feature_standard_deviation_magn_r',\n",
    "                         'feature_stetson_k_magn_r',\n",
    "                         'feature_weighted_mean_magn_r',\n",
    "                         'feature_anderson_darling_normal_flux_r', \n",
    "                         'feature_cusum_flux_r',\n",
    "                         #'feature_eta_e_flux_r', \n",
    "                         'feature_excess_variance_flux_r',\n",
    "                         'feature_kurtosis_flux_r', \n",
    "                         'feature_mean_variance_flux_r',\n",
    "                         #'feature_chi2_flux_r', \n",
    "                         'feature_skew_flux_r',\n",
    "                         'feature_stetson_k_flux_r',\n",
    "\n",
    "                         'feature_amplitude_magn_g', \n",
    "                         'feature_anderson_darling_normal_magn_g',\n",
    "                         'feature_beyond_1_std_magn_g', \n",
    "                         'feature_beyond_2_std_magn_g',\n",
    "                         'feature_cusum_magn_g', \n",
    "                         #'feature_eta_e_magn_g',\n",
    "                         'feature_inter_percentile_range_2_magn_g',\n",
    "                         'feature_inter_percentile_range_10_magn_g',\n",
    "                         'feature_inter_percentile_range_25_magn_g', \n",
    "                         'feature_kurtosis_magn_g',\n",
    "                         'feature_linear_fit_slope_magn_g',\n",
    "                         'feature_linear_fit_slope_sigma_magn_g',\n",
    "                         #'feature_linear_fit_reduced_chi2_magn_g', \n",
    "                         'feature_linear_trend_magn_g',\n",
    "                         'feature_linear_trend_sigma_magn_g',\n",
    "                         'feature_magnitude_percentage_ratio_40_5_magn_g',\n",
    "                         'feature_magnitude_percentage_ratio_20_5_magn_g',\n",
    "                         #'feature_maximum_slope_magn_g', \n",
    "                         'feature_mean_magn_g',\n",
    "                         'feature_median_absolute_deviation_magn_g',\n",
    "                         'feature_median_buffer_range_percentage_10_magn_g',\n",
    "                         'feature_median_buffer_range_percentage_20_magn_g',\n",
    "                         'feature_percent_amplitude_magn_g',\n",
    "                         'feature_percent_difference_magnitude_percentile_5_magn_g',\n",
    "                         'feature_percent_difference_magnitude_percentile_10_magn_g',\n",
    "                         #'feature_period_0_magn_g',  # should be negated\n",
    "                         'feature_period_s_to_n_0_magn_g',\n",
    "                         #'feature_period_1_magn_g', \n",
    "                         'feature_period_s_to_n_1_magn_g',\n",
    "                         #'feature_period_2_magn_g', \n",
    "                         'feature_period_s_to_n_2_magn_g',\n",
    "                         #'feature_period_3_magn_g', \n",
    "                         'feature_period_s_to_n_3_magn_g',\n",
    "                         #'feature_period_4_magn_g', \n",
    "                         'feature_period_s_to_n_4_magn_g',\n",
    "                         #'feature_periodogram_amplitude_magn_g',\n",
    "                         'feature_periodogram_beyond_2_std_magn_g',\n",
    "                         'feature_periodogram_beyond_3_std_magn_g',\n",
    "                         'feature_periodogram_standard_deviation_magn_g', \n",
    "                         #'feature_chi2_magn_g',\n",
    "                         'feature_skew_magn_g', \n",
    "                         'feature_standard_deviation_magn_g',\n",
    "                         'feature_stetson_k_magn_g', \n",
    "                         'feature_weighted_mean_magn_g',\n",
    "                         'feature_anderson_darling_normal_flux_g', \n",
    "                         'feature_cusum_flux_g',\n",
    "                         #'feature_eta_e_flux_g', \n",
    "                         'feature_excess_variance_flux_g',\n",
    "                         'feature_kurtosis_flux_g', \n",
    "                         'feature_mean_variance_flux_g',\n",
    "                         #'feature_chi2_flux_g', \n",
    "                         'feature_skew_flux_g',\n",
    "                         'feature_stetson_k_flux_g'] \n",
    "    \n",
    "ztf_id_and_features_r_g = ['Unnamed: 0'] + ['locus_id', 'ra', 'dec',\\\n",
    "                            'tags', 'catalogs', 'ztf_object_id', 'ztf_ssnamenr', 'num_alerts',\\\n",
    "                            'num_mag_values', 'oldest_alert_id', 'oldest_alert_magnitude',\\\n",
    "                            'oldest_alert_observation_time', 'newest_alert_id',\\\n",
    "                            'newest_alert_magnitude', 'newest_alert_observation_time',\\\n",
    "                            'brightest_alert_id', 'brightest_alert_magnitude', \\\n",
    "                            'brightest_alert_observation_time'] + feature_names_r_g +\\\n",
    "                        ['horizons_targetname', 'anomaly', 'anom_score', 'anomaly_score',\\\n",
    "                         'anomaly_mask', 'anomaly_type', 'is_corrected', 'vpdf_extreme_version',\\\n",
    "                         'vpdf_extreme_faint', 'vpdf_extreme_bright', 'locus_gal_l', 'locus_gal_b']"
   ]
  },
  {
   "cell_type": "code",
   "execution_count": 3,
   "id": "43591af9",
   "metadata": {},
   "outputs": [
    {
     "name": "stderr",
     "output_type": "stream",
     "text": [
      "/Users/patrickaleo/miniconda3/envs/laiss/lib/python3.8/site-packages/IPython/core/interactiveshell.py:3169: DtypeWarning: Columns (7,125,129,130,131,132,133,134) have mixed types.Specify dtype option on import or set low_memory=False.\n",
      "  has_raised = await self.run_ast_nodes(code_ast.body, cell_name,\n"
     ]
    },
    {
     "data": {
      "text/html": [
       "<div>\n",
       "<style scoped>\n",
       "    .dataframe tbody tr th:only-of-type {\n",
       "        vertical-align: middle;\n",
       "    }\n",
       "\n",
       "    .dataframe tbody tr th {\n",
       "        vertical-align: top;\n",
       "    }\n",
       "\n",
       "    .dataframe thead th {\n",
       "        text-align: right;\n",
       "    }\n",
       "</style>\n",
       "<table border=\"1\" class=\"dataframe\">\n",
       "  <thead>\n",
       "    <tr style=\"text-align: right;\">\n",
       "      <th></th>\n",
       "      <th>Unnamed: 0</th>\n",
       "      <th>locus_id</th>\n",
       "      <th>ra</th>\n",
       "      <th>dec</th>\n",
       "      <th>tags</th>\n",
       "      <th>catalogs</th>\n",
       "      <th>ztf_ssnamenr</th>\n",
       "      <th>num_alerts</th>\n",
       "      <th>num_mag_values</th>\n",
       "      <th>oldest_alert_id</th>\n",
       "      <th>...</th>\n",
       "      <th>anom_score</th>\n",
       "      <th>anomaly_score</th>\n",
       "      <th>anomaly_mask</th>\n",
       "      <th>anomaly_type</th>\n",
       "      <th>is_corrected</th>\n",
       "      <th>vpdf_extreme_version</th>\n",
       "      <th>vpdf_extreme_faint</th>\n",
       "      <th>vpdf_extreme_bright</th>\n",
       "      <th>locus_gal_l</th>\n",
       "      <th>locus_gal_b</th>\n",
       "    </tr>\n",
       "    <tr>\n",
       "      <th>ztf_object_id</th>\n",
       "      <th></th>\n",
       "      <th></th>\n",
       "      <th></th>\n",
       "      <th></th>\n",
       "      <th></th>\n",
       "      <th></th>\n",
       "      <th></th>\n",
       "      <th></th>\n",
       "      <th></th>\n",
       "      <th></th>\n",
       "      <th></th>\n",
       "      <th></th>\n",
       "      <th></th>\n",
       "      <th></th>\n",
       "      <th></th>\n",
       "      <th></th>\n",
       "      <th></th>\n",
       "      <th></th>\n",
       "      <th></th>\n",
       "      <th></th>\n",
       "      <th></th>\n",
       "    </tr>\n",
       "  </thead>\n",
       "  <tbody>\n",
       "    <tr>\n",
       "      <th>ZTF20acpdyyq</th>\n",
       "      <td>6</td>\n",
       "      <td>ANT2020rajqu</td>\n",
       "      <td>33.976088</td>\n",
       "      <td>-20.258905</td>\n",
       "      <td>['lc_feature_extractor']</td>\n",
       "      <td>['allwise', 'gaia_dr2', '2mass_psc', 'bright_g...</td>\n",
       "      <td>NaN</td>\n",
       "      <td>137</td>\n",
       "      <td>35</td>\n",
       "      <td>ztf_candidate:993481181415010007</td>\n",
       "      <td>...</td>\n",
       "      <td>NaN</td>\n",
       "      <td>NaN</td>\n",
       "      <td>NaN</td>\n",
       "      <td>NaN</td>\n",
       "      <td>NaN</td>\n",
       "      <td>NaN</td>\n",
       "      <td>NaN</td>\n",
       "      <td>NaN</td>\n",
       "      <td>197.881532</td>\n",
       "      <td>-69.513571</td>\n",
       "    </tr>\n",
       "    <tr>\n",
       "      <th>ZTF18acfvwwa</th>\n",
       "      <td>39</td>\n",
       "      <td>ANT2020pc6ko</td>\n",
       "      <td>35.639509</td>\n",
       "      <td>32.833982</td>\n",
       "      <td>['lc_feature_extractor']</td>\n",
       "      <td>['allwise', 'gaia_dr2', '2mass_psc', 'bright_g...</td>\n",
       "      <td>NaN</td>\n",
       "      <td>659</td>\n",
       "      <td>88</td>\n",
       "      <td>ztf_candidate:943483942915015010</td>\n",
       "      <td>...</td>\n",
       "      <td>NaN</td>\n",
       "      <td>NaN</td>\n",
       "      <td>NaN</td>\n",
       "      <td>NaN</td>\n",
       "      <td>NaN</td>\n",
       "      <td>NaN</td>\n",
       "      <td>NaN</td>\n",
       "      <td>NaN</td>\n",
       "      <td>144.200342</td>\n",
       "      <td>-26.246909</td>\n",
       "    </tr>\n",
       "    <tr>\n",
       "      <th>ZTF17aaaskvj</th>\n",
       "      <td>58</td>\n",
       "      <td>ANT2020rdpmm</td>\n",
       "      <td>28.015003</td>\n",
       "      <td>36.953217</td>\n",
       "      <td>['lc_feature_extractor']</td>\n",
       "      <td>['allwise', 'csdr2', 'gaia_dr2', '2mass_psc', ...</td>\n",
       "      <td>NaN</td>\n",
       "      <td>1497</td>\n",
       "      <td>579</td>\n",
       "      <td>ztf_candidate:598425334815010002</td>\n",
       "      <td>...</td>\n",
       "      <td>NaN</td>\n",
       "      <td>NaN</td>\n",
       "      <td>NaN</td>\n",
       "      <td>NaN</td>\n",
       "      <td>NaN</td>\n",
       "      <td>NaN</td>\n",
       "      <td>NaN</td>\n",
       "      <td>NaN</td>\n",
       "      <td>136.189482</td>\n",
       "      <td>-24.352953</td>\n",
       "    </tr>\n",
       "    <tr>\n",
       "      <th>ZTF17aaaskvj</th>\n",
       "      <td>59</td>\n",
       "      <td>ANT2018ftblk</td>\n",
       "      <td>28.015003</td>\n",
       "      <td>36.953216</td>\n",
       "      <td>['lc_feature_extractor', 'high_snr']</td>\n",
       "      <td>['allwise', 'csdr2', 'gaia_dr2', '2mass_psc', ...</td>\n",
       "      <td>NaN</td>\n",
       "      <td>1504</td>\n",
       "      <td>583</td>\n",
       "      <td>ztf_candidate:598425334815010002</td>\n",
       "      <td>...</td>\n",
       "      <td>NaN</td>\n",
       "      <td>NaN</td>\n",
       "      <td>NaN</td>\n",
       "      <td>NaN</td>\n",
       "      <td>NaN</td>\n",
       "      <td>NaN</td>\n",
       "      <td>NaN</td>\n",
       "      <td>NaN</td>\n",
       "      <td>136.189482</td>\n",
       "      <td>-24.352954</td>\n",
       "    </tr>\n",
       "    <tr>\n",
       "      <th>ZTF18aczbnhl</th>\n",
       "      <td>97</td>\n",
       "      <td>ANT2019dsk24</td>\n",
       "      <td>85.049145</td>\n",
       "      <td>-11.013302</td>\n",
       "      <td>['lc_feature_extractor']</td>\n",
       "      <td>['allwise', 'gaia_dr2', '2mass_psc', 'bright_g...</td>\n",
       "      <td>NaN</td>\n",
       "      <td>105</td>\n",
       "      <td>12</td>\n",
       "      <td>ztf_candidate:718232301815010005</td>\n",
       "      <td>...</td>\n",
       "      <td>NaN</td>\n",
       "      <td>NaN</td>\n",
       "      <td>NaN</td>\n",
       "      <td>NaN</td>\n",
       "      <td>NaN</td>\n",
       "      <td>NaN</td>\n",
       "      <td>NaN</td>\n",
       "      <td>NaN</td>\n",
       "      <td>214.961559</td>\n",
       "      <td>-20.751422</td>\n",
       "    </tr>\n",
       "    <tr>\n",
       "      <th>...</th>\n",
       "      <td>...</td>\n",
       "      <td>...</td>\n",
       "      <td>...</td>\n",
       "      <td>...</td>\n",
       "      <td>...</td>\n",
       "      <td>...</td>\n",
       "      <td>...</td>\n",
       "      <td>...</td>\n",
       "      <td>...</td>\n",
       "      <td>...</td>\n",
       "      <td>...</td>\n",
       "      <td>...</td>\n",
       "      <td>...</td>\n",
       "      <td>...</td>\n",
       "      <td>...</td>\n",
       "      <td>...</td>\n",
       "      <td>...</td>\n",
       "      <td>...</td>\n",
       "      <td>...</td>\n",
       "      <td>...</td>\n",
       "      <td>...</td>\n",
       "    </tr>\n",
       "    <tr>\n",
       "      <th>ZTF20aberawv</th>\n",
       "      <td>999927</td>\n",
       "      <td>ANT2020aebbk</td>\n",
       "      <td>292.910293</td>\n",
       "      <td>54.078978</td>\n",
       "      <td>['lc_feature_extractor', 'dimmers']</td>\n",
       "      <td>[]</td>\n",
       "      <td>NaN</td>\n",
       "      <td>235</td>\n",
       "      <td>96</td>\n",
       "      <td>ztf_candidate:1231482062015010023</td>\n",
       "      <td>...</td>\n",
       "      <td>NaN</td>\n",
       "      <td>0.417276</td>\n",
       "      <td>Fail</td>\n",
       "      <td>TBD</td>\n",
       "      <td>NaN</td>\n",
       "      <td>NaN</td>\n",
       "      <td>NaN</td>\n",
       "      <td>NaN</td>\n",
       "      <td>85.961850</td>\n",
       "      <td>16.149525</td>\n",
       "    </tr>\n",
       "    <tr>\n",
       "      <th>ZTF18acrvsjf</th>\n",
       "      <td>999938</td>\n",
       "      <td>ANT2019zf6fg</td>\n",
       "      <td>72.820139</td>\n",
       "      <td>1.073984</td>\n",
       "      <td>['lc_feature_extractor']</td>\n",
       "      <td>['allwise', 'bright_guide_star_cat', '2mass_ps...</td>\n",
       "      <td>NaN</td>\n",
       "      <td>40</td>\n",
       "      <td>14</td>\n",
       "      <td>ztf_candidate:696399341515010050</td>\n",
       "      <td>...</td>\n",
       "      <td>NaN</td>\n",
       "      <td>NaN</td>\n",
       "      <td>NaN</td>\n",
       "      <td>TBD</td>\n",
       "      <td>NaN</td>\n",
       "      <td>NaN</td>\n",
       "      <td>NaN</td>\n",
       "      <td>NaN</td>\n",
       "      <td>197.132900</td>\n",
       "      <td>-25.906137</td>\n",
       "    </tr>\n",
       "    <tr>\n",
       "      <th>ZTF18acdqrna</th>\n",
       "      <td>999957</td>\n",
       "      <td>ANT2020aefhrvi</td>\n",
       "      <td>53.476865</td>\n",
       "      <td>77.496741</td>\n",
       "      <td>['lc_feature_extractor']</td>\n",
       "      <td>['allwise', 'bright_guide_star_cat', '2mass_ps...</td>\n",
       "      <td>NaN</td>\n",
       "      <td>83</td>\n",
       "      <td>36</td>\n",
       "      <td>ztf_candidate:1353408024115015003</td>\n",
       "      <td>...</td>\n",
       "      <td>NaN</td>\n",
       "      <td>NaN</td>\n",
       "      <td>NaN</td>\n",
       "      <td>NaN</td>\n",
       "      <td>NaN</td>\n",
       "      <td>NaN</td>\n",
       "      <td>NaN</td>\n",
       "      <td>NaN</td>\n",
       "      <td>131.425108</td>\n",
       "      <td>17.392307</td>\n",
       "    </tr>\n",
       "    <tr>\n",
       "      <th>ZTF21abhjyor</th>\n",
       "      <td>999964</td>\n",
       "      <td>ANT2020aeedowi</td>\n",
       "      <td>323.724711</td>\n",
       "      <td>31.249401</td>\n",
       "      <td>['lc_feature_extractor']</td>\n",
       "      <td>[]</td>\n",
       "      <td>NaN</td>\n",
       "      <td>118</td>\n",
       "      <td>19</td>\n",
       "      <td>ztf_candidate:1358283950415015003</td>\n",
       "      <td>...</td>\n",
       "      <td>NaN</td>\n",
       "      <td>NaN</td>\n",
       "      <td>NaN</td>\n",
       "      <td>TBD</td>\n",
       "      <td>NaN</td>\n",
       "      <td>NaN</td>\n",
       "      <td>NaN</td>\n",
       "      <td>NaN</td>\n",
       "      <td>80.880513</td>\n",
       "      <td>-15.145608</td>\n",
       "    </tr>\n",
       "    <tr>\n",
       "      <th>ZTF18acfdttb</th>\n",
       "      <td>999987</td>\n",
       "      <td>ANT2020fc5ny</td>\n",
       "      <td>295.091491</td>\n",
       "      <td>55.660204</td>\n",
       "      <td>['lc_feature_extractor', 'dimmers']</td>\n",
       "      <td>['2mass_psc', 'allwise', 'gaia_dr2', 'bright_g...</td>\n",
       "      <td>NaN</td>\n",
       "      <td>290</td>\n",
       "      <td>14</td>\n",
       "      <td>ztf_candidate:966286933415010005</td>\n",
       "      <td>...</td>\n",
       "      <td>NaN</td>\n",
       "      <td>NaN</td>\n",
       "      <td>NaN</td>\n",
       "      <td>TBD</td>\n",
       "      <td>NaN</td>\n",
       "      <td>NaN</td>\n",
       "      <td>NaN</td>\n",
       "      <td>NaN</td>\n",
       "      <td>88.001492</td>\n",
       "      <td>15.672646</td>\n",
       "    </tr>\n",
       "  </tbody>\n",
       "</table>\n",
       "<p>90199 rows × 112 columns</p>\n",
       "</div>"
      ],
      "text/plain": [
       "               Unnamed: 0        locus_id          ra        dec  \\\n",
       "ztf_object_id                                                      \n",
       "ZTF20acpdyyq            6    ANT2020rajqu   33.976088 -20.258905   \n",
       "ZTF18acfvwwa           39    ANT2020pc6ko   35.639509  32.833982   \n",
       "ZTF17aaaskvj           58    ANT2020rdpmm   28.015003  36.953217   \n",
       "ZTF17aaaskvj           59    ANT2018ftblk   28.015003  36.953216   \n",
       "ZTF18aczbnhl           97    ANT2019dsk24   85.049145 -11.013302   \n",
       "...                   ...             ...         ...        ...   \n",
       "ZTF20aberawv       999927    ANT2020aebbk  292.910293  54.078978   \n",
       "ZTF18acrvsjf       999938    ANT2019zf6fg   72.820139   1.073984   \n",
       "ZTF18acdqrna       999957  ANT2020aefhrvi   53.476865  77.496741   \n",
       "ZTF21abhjyor       999964  ANT2020aeedowi  323.724711  31.249401   \n",
       "ZTF18acfdttb       999987    ANT2020fc5ny  295.091491  55.660204   \n",
       "\n",
       "                                               tags  \\\n",
       "ztf_object_id                                         \n",
       "ZTF20acpdyyq               ['lc_feature_extractor']   \n",
       "ZTF18acfvwwa               ['lc_feature_extractor']   \n",
       "ZTF17aaaskvj               ['lc_feature_extractor']   \n",
       "ZTF17aaaskvj   ['lc_feature_extractor', 'high_snr']   \n",
       "ZTF18aczbnhl               ['lc_feature_extractor']   \n",
       "...                                             ...   \n",
       "ZTF20aberawv    ['lc_feature_extractor', 'dimmers']   \n",
       "ZTF18acrvsjf               ['lc_feature_extractor']   \n",
       "ZTF18acdqrna               ['lc_feature_extractor']   \n",
       "ZTF21abhjyor               ['lc_feature_extractor']   \n",
       "ZTF18acfdttb    ['lc_feature_extractor', 'dimmers']   \n",
       "\n",
       "                                                        catalogs ztf_ssnamenr  \\\n",
       "ztf_object_id                                                                   \n",
       "ZTF20acpdyyq   ['allwise', 'gaia_dr2', '2mass_psc', 'bright_g...          NaN   \n",
       "ZTF18acfvwwa   ['allwise', 'gaia_dr2', '2mass_psc', 'bright_g...          NaN   \n",
       "ZTF17aaaskvj   ['allwise', 'csdr2', 'gaia_dr2', '2mass_psc', ...          NaN   \n",
       "ZTF17aaaskvj   ['allwise', 'csdr2', 'gaia_dr2', '2mass_psc', ...          NaN   \n",
       "ZTF18aczbnhl   ['allwise', 'gaia_dr2', '2mass_psc', 'bright_g...          NaN   \n",
       "...                                                          ...          ...   \n",
       "ZTF20aberawv                                                  []          NaN   \n",
       "ZTF18acrvsjf   ['allwise', 'bright_guide_star_cat', '2mass_ps...          NaN   \n",
       "ZTF18acdqrna   ['allwise', 'bright_guide_star_cat', '2mass_ps...          NaN   \n",
       "ZTF21abhjyor                                                  []          NaN   \n",
       "ZTF18acfdttb   ['2mass_psc', 'allwise', 'gaia_dr2', 'bright_g...          NaN   \n",
       "\n",
       "               num_alerts  num_mag_values                    oldest_alert_id  \\\n",
       "ztf_object_id                                                                  \n",
       "ZTF20acpdyyq          137              35   ztf_candidate:993481181415010007   \n",
       "ZTF18acfvwwa          659              88   ztf_candidate:943483942915015010   \n",
       "ZTF17aaaskvj         1497             579   ztf_candidate:598425334815010002   \n",
       "ZTF17aaaskvj         1504             583   ztf_candidate:598425334815010002   \n",
       "ZTF18aczbnhl          105              12   ztf_candidate:718232301815010005   \n",
       "...                   ...             ...                                ...   \n",
       "ZTF20aberawv          235              96  ztf_candidate:1231482062015010023   \n",
       "ZTF18acrvsjf           40              14   ztf_candidate:696399341515010050   \n",
       "ZTF18acdqrna           83              36  ztf_candidate:1353408024115015003   \n",
       "ZTF21abhjyor          118              19  ztf_candidate:1358283950415015003   \n",
       "ZTF18acfdttb          290              14   ztf_candidate:966286933415010005   \n",
       "\n",
       "               ...  anom_score  anomaly_score anomaly_mask  anomaly_type  \\\n",
       "ztf_object_id  ...                                                         \n",
       "ZTF20acpdyyq   ...         NaN            NaN          NaN           NaN   \n",
       "ZTF18acfvwwa   ...         NaN            NaN          NaN           NaN   \n",
       "ZTF17aaaskvj   ...         NaN            NaN          NaN           NaN   \n",
       "ZTF17aaaskvj   ...         NaN            NaN          NaN           NaN   \n",
       "ZTF18aczbnhl   ...         NaN            NaN          NaN           NaN   \n",
       "...            ...         ...            ...          ...           ...   \n",
       "ZTF20aberawv   ...         NaN       0.417276         Fail           TBD   \n",
       "ZTF18acrvsjf   ...         NaN            NaN          NaN           TBD   \n",
       "ZTF18acdqrna   ...         NaN            NaN          NaN           NaN   \n",
       "ZTF21abhjyor   ...         NaN            NaN          NaN           TBD   \n",
       "ZTF18acfdttb   ...         NaN            NaN          NaN           TBD   \n",
       "\n",
       "               is_corrected vpdf_extreme_version  vpdf_extreme_faint  \\\n",
       "ztf_object_id                                                          \n",
       "ZTF20acpdyyq            NaN                  NaN                 NaN   \n",
       "ZTF18acfvwwa            NaN                  NaN                 NaN   \n",
       "ZTF17aaaskvj            NaN                  NaN                 NaN   \n",
       "ZTF17aaaskvj            NaN                  NaN                 NaN   \n",
       "ZTF18aczbnhl            NaN                  NaN                 NaN   \n",
       "...                     ...                  ...                 ...   \n",
       "ZTF20aberawv            NaN                  NaN                 NaN   \n",
       "ZTF18acrvsjf            NaN                  NaN                 NaN   \n",
       "ZTF18acdqrna            NaN                  NaN                 NaN   \n",
       "ZTF21abhjyor            NaN                  NaN                 NaN   \n",
       "ZTF18acfdttb            NaN                  NaN                 NaN   \n",
       "\n",
       "               vpdf_extreme_bright  locus_gal_l  locus_gal_b  \n",
       "ztf_object_id                                                 \n",
       "ZTF20acpdyyq                   NaN   197.881532   -69.513571  \n",
       "ZTF18acfvwwa                   NaN   144.200342   -26.246909  \n",
       "ZTF17aaaskvj                   NaN   136.189482   -24.352953  \n",
       "ZTF17aaaskvj                   NaN   136.189482   -24.352954  \n",
       "ZTF18aczbnhl                   NaN   214.961559   -20.751422  \n",
       "...                            ...          ...          ...  \n",
       "ZTF20aberawv                   NaN    85.961850    16.149525  \n",
       "ZTF18acrvsjf                   NaN   197.132900   -25.906137  \n",
       "ZTF18acdqrna                   NaN   131.425108    17.392307  \n",
       "ZTF21abhjyor                   NaN    80.880513   -15.145608  \n",
       "ZTF18acfdttb                   NaN    88.001492    15.672646  \n",
       "\n",
       "[90199 rows x 112 columns]"
      ]
     },
     "execution_count": 3,
     "metadata": {},
     "output_type": "execute_result"
    }
   ],
   "source": [
    "dataset_bank = pd.read_csv('../loci_dbs/loci_df_271688objects_cut_stars_and_gal_plane_transf.csv', \n",
    "                                   compression='gzip',\n",
    "                                   usecols=lambda c: c in ztf_id_and_features_r_g,\n",
    "                                  index_col='ztf_object_id')\n",
    "        \n",
    "# drop row if any feature values are nan\n",
    "dataset_bank = dataset_bank[~dataset_bank[feature_names_r_g].isnull().any(axis=1)]\n",
    "\n",
    "#mask = (dataset_bank['num_mag_values'] >= 40) #& (dataset_bank['num_mag_values'] <= 40)\n",
    "#dataset_bank = dataset_bank[mask]\n",
    "#dataset_bank.to_csv('./for_alex.csv')\n",
    "dataset_bank"
   ]
  },
  {
   "cell_type": "code",
   "execution_count": 6,
   "id": "19247255",
   "metadata": {},
   "outputs": [
    {
     "name": "stdout",
     "output_type": "stream",
     "text": [
      "GHOST database already exists in the install path!\n",
      "\n",
      "START: 16500 END: 16600\n",
      "Finding northern sources with Pan-starrs...\n",
      "Processed 10 of 100 lines!\n",
      "Processed 20 of 100 lines!\n",
      "Processed 30 of 100 lines!\n",
      "Processed 40 of 100 lines!\n",
      "Processed 50 of 100 lines!\n",
      "Processed 60 of 100 lines!\n",
      "Processed 70 of 100 lines!\n",
      "Processed 80 of 100 lines!\n",
      "Processed 90 of 100 lines!\n",
      "Processed 100 of 100 lines!\n"
     ]
    },
    {
     "name": "stderr",
     "output_type": "stream",
     "text": [
      "/Users/patrickaleo/miniconda3/envs/laiss/lib/python3.8/site-packages/astro_ghost/stellarLocus.py:64: RuntimeWarning: All-NaN slice encountered\n",
      "  df.loc[i,\"7DCD\"] = np.nanmin(np.array(temp_7DCD_1val))\n"
     ]
    },
    {
     "name": "stdout",
     "output_type": "stream",
     "text": [
      "Found matches for 33.0% of events.\n",
      "Saved\n",
      "\n",
      "START: 16600 END: 16700\n",
      "Finding northern sources with Pan-starrs...\n",
      "Processed 10 of 100 lines!\n",
      "Processed 20 of 100 lines!\n",
      "Processed 30 of 100 lines!\n",
      "Processed 40 of 100 lines!\n",
      "Processed 50 of 100 lines!\n",
      "Processed 60 of 100 lines!\n",
      "Processed 70 of 100 lines!\n",
      "Processed 80 of 100 lines!\n",
      "Processed 90 of 100 lines!\n",
      "Processed 100 of 100 lines!\n"
     ]
    },
    {
     "name": "stderr",
     "output_type": "stream",
     "text": [
      "/Users/patrickaleo/miniconda3/envs/laiss/lib/python3.8/site-packages/astro_ghost/stellarLocus.py:64: RuntimeWarning: All-NaN slice encountered\n",
      "  df.loc[i,\"7DCD\"] = np.nanmin(np.array(temp_7DCD_1val))\n"
     ]
    },
    {
     "name": "stdout",
     "output_type": "stream",
     "text": [
      "Found matches for 26.0% of events.\n",
      "Saved\n",
      "\n",
      "START: 16700 END: 16800\n",
      "Finding northern sources with Pan-starrs...\n",
      "Processed 10 of 100 lines!\n",
      "Processed 20 of 100 lines!\n",
      "Processed 30 of 100 lines!\n",
      "Processed 40 of 100 lines!\n",
      "Processed 50 of 100 lines!\n",
      "Processed 60 of 100 lines!\n",
      "Processed 70 of 100 lines!\n",
      "Processed 80 of 100 lines!\n",
      "Processed 90 of 100 lines!\n",
      "Processed 100 of 100 lines!\n"
     ]
    },
    {
     "name": "stderr",
     "output_type": "stream",
     "text": [
      "/Users/patrickaleo/miniconda3/envs/laiss/lib/python3.8/site-packages/astro_ghost/stellarLocus.py:64: RuntimeWarning: All-NaN slice encountered\n",
      "  df.loc[i,\"7DCD\"] = np.nanmin(np.array(temp_7DCD_1val))\n"
     ]
    },
    {
     "name": "stdout",
     "output_type": "stream",
     "text": [
      "Found matches for 28.0% of events.\n",
      "Saved\n",
      "\n",
      "START: 16800 END: 16900\n",
      "Finding northern sources with Pan-starrs...\n",
      "Processed 10 of 100 lines!\n",
      "Processed 20 of 100 lines!\n",
      "Processed 30 of 100 lines!\n",
      "Processed 40 of 100 lines!\n",
      "Processed 50 of 100 lines!\n",
      "Processed 60 of 100 lines!\n",
      "Processed 70 of 100 lines!\n",
      "Processed 80 of 100 lines!\n",
      "Processed 90 of 100 lines!\n",
      "Processed 100 of 100 lines!\n"
     ]
    },
    {
     "name": "stderr",
     "output_type": "stream",
     "text": [
      "/Users/patrickaleo/miniconda3/envs/laiss/lib/python3.8/site-packages/astro_ghost/stellarLocus.py:64: RuntimeWarning: All-NaN slice encountered\n",
      "  df.loc[i,\"7DCD\"] = np.nanmin(np.array(temp_7DCD_1val))\n"
     ]
    },
    {
     "name": "stdout",
     "output_type": "stream",
     "text": [
      "Found matches for 33.0% of events.\n",
      "Saved\n",
      "\n",
      "START: 16900 END: 17000\n",
      "Finding northern sources with Pan-starrs...\n",
      "Processed 10 of 100 lines!\n",
      "Processed 20 of 100 lines!\n",
      "Processed 30 of 100 lines!\n",
      "Processed 40 of 100 lines!\n",
      "Processed 50 of 100 lines!\n",
      "Processed 60 of 100 lines!\n",
      "Processed 70 of 100 lines!\n",
      "Processed 80 of 100 lines!\n",
      "Processed 90 of 100 lines!\n",
      "Processed 100 of 100 lines!\n"
     ]
    },
    {
     "name": "stderr",
     "output_type": "stream",
     "text": [
      "/Users/patrickaleo/miniconda3/envs/laiss/lib/python3.8/site-packages/astro_ghost/stellarLocus.py:64: RuntimeWarning: All-NaN slice encountered\n",
      "  df.loc[i,\"7DCD\"] = np.nanmin(np.array(temp_7DCD_1val))\n"
     ]
    },
    {
     "name": "stdout",
     "output_type": "stream",
     "text": [
      "Found matches for 36.0% of events.\n",
      "Saved\n",
      "\n",
      "START: 17000 END: 17100\n",
      "Finding northern sources with Pan-starrs...\n",
      "Processed 10 of 100 lines!\n",
      "Processed 20 of 100 lines!\n",
      "Processed 30 of 100 lines!\n",
      "Processed 40 of 100 lines!\n",
      "Processed 50 of 100 lines!\n",
      "Processed 60 of 100 lines!\n",
      "Processed 70 of 100 lines!\n",
      "Processed 80 of 100 lines!\n",
      "Processed 90 of 100 lines!\n",
      "Processed 100 of 100 lines!\n"
     ]
    },
    {
     "name": "stderr",
     "output_type": "stream",
     "text": [
      "/Users/patrickaleo/miniconda3/envs/laiss/lib/python3.8/site-packages/astro_ghost/stellarLocus.py:64: RuntimeWarning: All-NaN slice encountered\n",
      "  df.loc[i,\"7DCD\"] = np.nanmin(np.array(temp_7DCD_1val))\n"
     ]
    },
    {
     "name": "stdout",
     "output_type": "stream",
     "text": [
      "Found matches for 38.0% of events.\n",
      "Saved\n",
      "\n",
      "START: 17100 END: 17200\n",
      "Finding northern sources with Pan-starrs...\n",
      "Processed 10 of 100 lines!\n",
      "Processed 20 of 100 lines!\n",
      "Processed 30 of 100 lines!\n",
      "Processed 40 of 100 lines!\n",
      "Processed 50 of 100 lines!\n",
      "Processed 60 of 100 lines!\n",
      "Processed 70 of 100 lines!\n",
      "Processed 80 of 100 lines!\n",
      "Processed 90 of 100 lines!\n",
      "Processed 100 of 100 lines!\n"
     ]
    },
    {
     "name": "stderr",
     "output_type": "stream",
     "text": [
      "/Users/patrickaleo/miniconda3/envs/laiss/lib/python3.8/site-packages/astro_ghost/stellarLocus.py:64: RuntimeWarning: All-NaN slice encountered\n",
      "  df.loc[i,\"7DCD\"] = np.nanmin(np.array(temp_7DCD_1val))\n"
     ]
    },
    {
     "name": "stdout",
     "output_type": "stream",
     "text": [
      "Found matches for 41.0% of events.\n",
      "Saved\n",
      "\n",
      "START: 17200 END: 17300\n",
      "Finding northern sources with Pan-starrs...\n",
      "Processed 10 of 100 lines!\n",
      "Processed 20 of 100 lines!\n",
      "Processed 30 of 100 lines!\n",
      "Processed 40 of 100 lines!\n",
      "Processed 50 of 100 lines!\n",
      "Processed 60 of 100 lines!\n",
      "Processed 70 of 100 lines!\n",
      "Processed 80 of 100 lines!\n",
      "Processed 90 of 100 lines!\n",
      "Processed 100 of 100 lines!\n"
     ]
    },
    {
     "name": "stderr",
     "output_type": "stream",
     "text": [
      "/Users/patrickaleo/miniconda3/envs/laiss/lib/python3.8/site-packages/astro_ghost/stellarLocus.py:64: RuntimeWarning: All-NaN slice encountered\n",
      "  df.loc[i,\"7DCD\"] = np.nanmin(np.array(temp_7DCD_1val))\n"
     ]
    },
    {
     "name": "stdout",
     "output_type": "stream",
     "text": [
      "Found matches for 43.0% of events.\n",
      "Saved\n",
      "\n",
      "START: 17300 END: 17400\n",
      "Finding northern sources with Pan-starrs...\n",
      "Processed 10 of 100 lines!\n",
      "Processed 20 of 100 lines!\n",
      "Processed 30 of 100 lines!\n",
      "Processed 40 of 100 lines!\n",
      "Processed 50 of 100 lines!\n",
      "Processed 60 of 100 lines!\n",
      "Processed 70 of 100 lines!\n",
      "Processed 80 of 100 lines!\n",
      "Processed 90 of 100 lines!\n",
      "Processed 100 of 100 lines!\n"
     ]
    },
    {
     "name": "stderr",
     "output_type": "stream",
     "text": [
      "/Users/patrickaleo/miniconda3/envs/laiss/lib/python3.8/site-packages/astro_ghost/stellarLocus.py:64: RuntimeWarning: All-NaN slice encountered\n",
      "  df.loc[i,\"7DCD\"] = np.nanmin(np.array(temp_7DCD_1val))\n"
     ]
    },
    {
     "name": "stdout",
     "output_type": "stream",
     "text": [
      "Found matches for 33.0% of events.\n",
      "Saved\n",
      "\n",
      "START: 17400 END: 17500\n",
      "Finding northern sources with Pan-starrs...\n",
      "Processed 10 of 100 lines!\n",
      "Processed 20 of 100 lines!\n",
      "Processed 30 of 100 lines!\n",
      "Processed 40 of 100 lines!\n",
      "Processed 50 of 100 lines!\n",
      "Processed 60 of 100 lines!\n",
      "Processed 70 of 100 lines!\n",
      "Processed 80 of 100 lines!\n",
      "Processed 90 of 100 lines!\n",
      "Processed 100 of 100 lines!\n"
     ]
    },
    {
     "name": "stderr",
     "output_type": "stream",
     "text": [
      "/Users/patrickaleo/miniconda3/envs/laiss/lib/python3.8/site-packages/astro_ghost/stellarLocus.py:64: RuntimeWarning: All-NaN slice encountered\n",
      "  df.loc[i,\"7DCD\"] = np.nanmin(np.array(temp_7DCD_1val))\n"
     ]
    },
    {
     "name": "stdout",
     "output_type": "stream",
     "text": [
      "Found matches for 21.0% of events.\n",
      "Saved\n",
      "\n",
      "START: 17500 END: 17600\n",
      "Finding northern sources with Pan-starrs...\n",
      "Processed 10 of 100 lines!\n",
      "Processed 20 of 100 lines!\n",
      "Processed 30 of 100 lines!\n",
      "Processed 40 of 100 lines!\n",
      "Processed 50 of 100 lines!\n",
      "Processed 60 of 100 lines!\n",
      "Processed 70 of 100 lines!\n",
      "Processed 80 of 100 lines!\n",
      "Processed 90 of 100 lines!\n",
      "Processed 100 of 100 lines!\n"
     ]
    },
    {
     "name": "stderr",
     "output_type": "stream",
     "text": [
      "/Users/patrickaleo/miniconda3/envs/laiss/lib/python3.8/site-packages/astro_ghost/stellarLocus.py:64: RuntimeWarning: All-NaN slice encountered\n",
      "  df.loc[i,\"7DCD\"] = np.nanmin(np.array(temp_7DCD_1val))\n"
     ]
    },
    {
     "name": "stdout",
     "output_type": "stream",
     "text": [
      "Found matches for 36.0% of events.\n",
      "Saved\n",
      "\n",
      "START: 17600 END: 17700\n",
      "Finding northern sources with Pan-starrs...\n",
      "Processed 10 of 100 lines!\n",
      "Processed 20 of 100 lines!\n",
      "Processed 30 of 100 lines!\n",
      "Processed 40 of 100 lines!\n",
      "Processed 50 of 100 lines!\n",
      "Processed 60 of 100 lines!\n",
      "Processed 70 of 100 lines!\n",
      "Processed 80 of 100 lines!\n",
      "Processed 90 of 100 lines!\n",
      "Processed 100 of 100 lines!\n",
      "Locked out of NED, will have to try again later...\n"
     ]
    },
    {
     "name": "stderr",
     "output_type": "stream",
     "text": [
      "/Users/patrickaleo/miniconda3/envs/laiss/lib/python3.8/site-packages/astro_ghost/stellarLocus.py:64: RuntimeWarning: All-NaN slice encountered\n",
      "  df.loc[i,\"7DCD\"] = np.nanmin(np.array(temp_7DCD_1val))\n"
     ]
    },
    {
     "name": "stdout",
     "output_type": "stream",
     "text": [
      "Found matches for 33.0% of events.\n",
      "Saved\n",
      "\n",
      "START: 17700 END: 17800\n",
      "Finding northern sources with Pan-starrs...\n",
      "Processed 10 of 100 lines!\n",
      "Processed 20 of 100 lines!\n",
      "Processed 30 of 100 lines!\n",
      "Processed 40 of 100 lines!\n",
      "Processed 50 of 100 lines!\n",
      "Processed 60 of 100 lines!\n",
      "Processed 70 of 100 lines!\n",
      "Processed 80 of 100 lines!\n",
      "Processed 90 of 100 lines!\n",
      "Processed 100 of 100 lines!\n"
     ]
    },
    {
     "name": "stderr",
     "output_type": "stream",
     "text": [
      "/Users/patrickaleo/miniconda3/envs/laiss/lib/python3.8/site-packages/astro_ghost/stellarLocus.py:64: RuntimeWarning: All-NaN slice encountered\n",
      "  df.loc[i,\"7DCD\"] = np.nanmin(np.array(temp_7DCD_1val))\n"
     ]
    },
    {
     "name": "stdout",
     "output_type": "stream",
     "text": [
      "Found matches for 36.0% of events.\n",
      "Saved\n",
      "\n",
      "START: 17800 END: 17900\n",
      "Finding northern sources with Pan-starrs...\n",
      "Processed 10 of 100 lines!\n",
      "Processed 20 of 100 lines!\n",
      "Processed 30 of 100 lines!\n",
      "Processed 40 of 100 lines!\n",
      "Processed 50 of 100 lines!\n",
      "Processed 60 of 100 lines!\n",
      "Processed 70 of 100 lines!\n",
      "Processed 80 of 100 lines!\n",
      "Processed 90 of 100 lines!\n",
      "Processed 100 of 100 lines!\n"
     ]
    },
    {
     "name": "stderr",
     "output_type": "stream",
     "text": [
      "/Users/patrickaleo/miniconda3/envs/laiss/lib/python3.8/site-packages/astro_ghost/stellarLocus.py:64: RuntimeWarning: All-NaN slice encountered\n",
      "  df.loc[i,\"7DCD\"] = np.nanmin(np.array(temp_7DCD_1val))\n"
     ]
    },
    {
     "name": "stdout",
     "output_type": "stream",
     "text": [
      "Found matches for 26.0% of events.\n",
      "Saved\n",
      "\n",
      "START: 17900 END: 18000\n",
      "Finding northern sources with Pan-starrs...\n",
      "Processed 10 of 100 lines!\n",
      "Processed 20 of 100 lines!\n",
      "Processed 30 of 100 lines!\n",
      "Processed 40 of 100 lines!\n",
      "Processed 50 of 100 lines!\n",
      "Processed 60 of 100 lines!\n",
      "Processed 70 of 100 lines!\n",
      "Processed 80 of 100 lines!\n",
      "Processed 90 of 100 lines!\n",
      "Processed 100 of 100 lines!\n"
     ]
    },
    {
     "name": "stderr",
     "output_type": "stream",
     "text": [
      "/Users/patrickaleo/miniconda3/envs/laiss/lib/python3.8/site-packages/astro_ghost/stellarLocus.py:64: RuntimeWarning: All-NaN slice encountered\n",
      "  df.loc[i,\"7DCD\"] = np.nanmin(np.array(temp_7DCD_1val))\n"
     ]
    },
    {
     "name": "stdout",
     "output_type": "stream",
     "text": [
      "Found matches for 45.0% of events.\n",
      "Saved\n",
      "\n",
      "START: 18000 END: 18100\n",
      "Finding northern sources with Pan-starrs...\n",
      "Processed 10 of 100 lines!\n",
      "Processed 20 of 100 lines!\n",
      "Processed 30 of 100 lines!\n",
      "Processed 40 of 100 lines!\n",
      "Processed 50 of 100 lines!\n",
      "Processed 60 of 100 lines!\n",
      "Processed 70 of 100 lines!\n",
      "Processed 80 of 100 lines!\n",
      "Processed 90 of 100 lines!\n",
      "Processed 100 of 100 lines!\n"
     ]
    },
    {
     "name": "stderr",
     "output_type": "stream",
     "text": [
      "/Users/patrickaleo/miniconda3/envs/laiss/lib/python3.8/site-packages/astro_ghost/stellarLocus.py:64: RuntimeWarning: All-NaN slice encountered\n",
      "  df.loc[i,\"7DCD\"] = np.nanmin(np.array(temp_7DCD_1val))\n"
     ]
    },
    {
     "name": "stdout",
     "output_type": "stream",
     "text": [
      "Found matches for 39.0% of events.\n",
      "Saved\n",
      "\n",
      "START: 18100 END: 18200\n",
      "Finding northern sources with Pan-starrs...\n",
      "Processed 10 of 100 lines!\n",
      "Processed 20 of 100 lines!\n",
      "Processed 30 of 100 lines!\n",
      "Processed 40 of 100 lines!\n",
      "Processed 50 of 100 lines!\n",
      "Processed 60 of 100 lines!\n",
      "Processed 70 of 100 lines!\n",
      "Processed 80 of 100 lines!\n",
      "Processed 90 of 100 lines!\n",
      "Processed 100 of 100 lines!\n"
     ]
    },
    {
     "name": "stderr",
     "output_type": "stream",
     "text": [
      "/Users/patrickaleo/miniconda3/envs/laiss/lib/python3.8/site-packages/astro_ghost/stellarLocus.py:64: RuntimeWarning: All-NaN slice encountered\n",
      "  df.loc[i,\"7DCD\"] = np.nanmin(np.array(temp_7DCD_1val))\n"
     ]
    },
    {
     "name": "stdout",
     "output_type": "stream",
     "text": [
      "Found matches for 27.0% of events.\n",
      "Saved\n",
      "\n",
      "START: 18200 END: 18300\n",
      "Finding northern sources with Pan-starrs...\n",
      "Processed 10 of 100 lines!\n",
      "Processed 20 of 100 lines!\n",
      "Processed 30 of 100 lines!\n",
      "Processed 40 of 100 lines!\n",
      "Processed 50 of 100 lines!\n",
      "Processed 60 of 100 lines!\n",
      "Processed 70 of 100 lines!\n",
      "Processed 80 of 100 lines!\n",
      "Processed 90 of 100 lines!\n",
      "Processed 100 of 100 lines!\n"
     ]
    },
    {
     "name": "stderr",
     "output_type": "stream",
     "text": [
      "/Users/patrickaleo/miniconda3/envs/laiss/lib/python3.8/site-packages/astro_ghost/stellarLocus.py:64: RuntimeWarning: All-NaN slice encountered\n",
      "  df.loc[i,\"7DCD\"] = np.nanmin(np.array(temp_7DCD_1val))\n"
     ]
    },
    {
     "name": "stdout",
     "output_type": "stream",
     "text": [
      "Found matches for 25.0% of events.\n",
      "Saved\n",
      "\n",
      "START: 18300 END: 18400\n",
      "Finding northern sources with Pan-starrs...\n",
      "Processed 10 of 100 lines!\n",
      "Processed 20 of 100 lines!\n",
      "Processed 30 of 100 lines!\n",
      "Processed 40 of 100 lines!\n",
      "Processed 50 of 100 lines!\n",
      "Processed 60 of 100 lines!\n",
      "Processed 70 of 100 lines!\n",
      "Processed 80 of 100 lines!\n",
      "Processed 90 of 100 lines!\n",
      "Processed 100 of 100 lines!\n"
     ]
    },
    {
     "name": "stderr",
     "output_type": "stream",
     "text": [
      "/Users/patrickaleo/miniconda3/envs/laiss/lib/python3.8/site-packages/astro_ghost/stellarLocus.py:64: RuntimeWarning: All-NaN slice encountered\n",
      "  df.loc[i,\"7DCD\"] = np.nanmin(np.array(temp_7DCD_1val))\n"
     ]
    },
    {
     "name": "stdout",
     "output_type": "stream",
     "text": [
      "Found matches for 28.0% of events.\n",
      "Saved\n",
      "\n",
      "START: 18400 END: 18500\n",
      "Finding northern sources with Pan-starrs...\n",
      "Processed 10 of 100 lines!\n",
      "Processed 20 of 100 lines!\n",
      "Processed 30 of 100 lines!\n",
      "Processed 40 of 100 lines!\n",
      "Processed 50 of 100 lines!\n",
      "Processed 60 of 100 lines!\n",
      "Processed 70 of 100 lines!\n",
      "Processed 80 of 100 lines!\n",
      "Processed 90 of 100 lines!\n",
      "Processed 100 of 100 lines!\n"
     ]
    },
    {
     "name": "stderr",
     "output_type": "stream",
     "text": [
      "/Users/patrickaleo/miniconda3/envs/laiss/lib/python3.8/site-packages/astro_ghost/stellarLocus.py:64: RuntimeWarning: All-NaN slice encountered\n",
      "  df.loc[i,\"7DCD\"] = np.nanmin(np.array(temp_7DCD_1val))\n"
     ]
    },
    {
     "name": "stdout",
     "output_type": "stream",
     "text": [
      "Found matches for 27.0% of events.\n",
      "Saved\n",
      "\n",
      "START: 18500 END: 18600\n",
      "Finding northern sources with Pan-starrs...\n",
      "Processed 10 of 100 lines!\n",
      "Processed 20 of 100 lines!\n",
      "Processed 30 of 100 lines!\n",
      "Processed 40 of 100 lines!\n",
      "Processed 50 of 100 lines!\n",
      "Processed 60 of 100 lines!\n",
      "Processed 70 of 100 lines!\n",
      "Processed 80 of 100 lines!\n",
      "Processed 90 of 100 lines!\n",
      "Processed 100 of 100 lines!\n"
     ]
    },
    {
     "name": "stderr",
     "output_type": "stream",
     "text": [
      "/Users/patrickaleo/miniconda3/envs/laiss/lib/python3.8/site-packages/astro_ghost/stellarLocus.py:64: RuntimeWarning: All-NaN slice encountered\n",
      "  df.loc[i,\"7DCD\"] = np.nanmin(np.array(temp_7DCD_1val))\n"
     ]
    },
    {
     "name": "stdout",
     "output_type": "stream",
     "text": [
      "Found matches for 30.0% of events.\n",
      "Saved\n",
      "\n",
      "START: 18600 END: 18700\n",
      "Finding northern sources with Pan-starrs...\n",
      "Processed 10 of 100 lines!\n",
      "Processed 20 of 100 lines!\n",
      "Processed 30 of 100 lines!\n",
      "Processed 40 of 100 lines!\n",
      "Processed 50 of 100 lines!\n",
      "Processed 60 of 100 lines!\n",
      "Processed 70 of 100 lines!\n",
      "Processed 80 of 100 lines!\n",
      "Processed 90 of 100 lines!\n",
      "Processed 100 of 100 lines!\n"
     ]
    },
    {
     "name": "stderr",
     "output_type": "stream",
     "text": [
      "/Users/patrickaleo/miniconda3/envs/laiss/lib/python3.8/site-packages/astro_ghost/stellarLocus.py:64: RuntimeWarning: All-NaN slice encountered\n",
      "  df.loc[i,\"7DCD\"] = np.nanmin(np.array(temp_7DCD_1val))\n"
     ]
    },
    {
     "name": "stdout",
     "output_type": "stream",
     "text": [
      "Found matches for 27.0% of events.\n",
      "Saved\n",
      "\n",
      "START: 18700 END: 18800\n",
      "Finding northern sources with Pan-starrs...\n",
      "Processed 10 of 100 lines!\n",
      "Processed 20 of 100 lines!\n",
      "Processed 30 of 100 lines!\n",
      "Processed 40 of 100 lines!\n",
      "Processed 50 of 100 lines!\n",
      "Processed 60 of 100 lines!\n",
      "Processed 70 of 100 lines!\n",
      "Processed 80 of 100 lines!\n",
      "Processed 90 of 100 lines!\n",
      "Processed 100 of 100 lines!\n"
     ]
    },
    {
     "name": "stderr",
     "output_type": "stream",
     "text": [
      "/Users/patrickaleo/miniconda3/envs/laiss/lib/python3.8/site-packages/astro_ghost/stellarLocus.py:64: RuntimeWarning: All-NaN slice encountered\n",
      "  df.loc[i,\"7DCD\"] = np.nanmin(np.array(temp_7DCD_1val))\n"
     ]
    },
    {
     "name": "stdout",
     "output_type": "stream",
     "text": [
      "Found matches for 25.0% of events.\n",
      "Saved\n",
      "\n",
      "START: 18800 END: 18900\n",
      "Finding northern sources with Pan-starrs...\n",
      "Processed 10 of 100 lines!\n",
      "Processed 20 of 100 lines!\n",
      "Processed 30 of 100 lines!\n",
      "Processed 40 of 100 lines!\n",
      "Processed 50 of 100 lines!\n",
      "Processed 60 of 100 lines!\n",
      "Processed 70 of 100 lines!\n",
      "Processed 80 of 100 lines!\n",
      "Processed 90 of 100 lines!\n",
      "Processed 100 of 100 lines!\n"
     ]
    },
    {
     "name": "stderr",
     "output_type": "stream",
     "text": [
      "/Users/patrickaleo/miniconda3/envs/laiss/lib/python3.8/site-packages/astro_ghost/stellarLocus.py:64: RuntimeWarning: All-NaN slice encountered\n",
      "  df.loc[i,\"7DCD\"] = np.nanmin(np.array(temp_7DCD_1val))\n"
     ]
    },
    {
     "name": "stdout",
     "output_type": "stream",
     "text": [
      "Found matches for 30.0% of events.\n",
      "Saved\n",
      "\n",
      "START: 18900 END: 19000\n",
      "Finding northern sources with Pan-starrs...\n",
      "Processed 10 of 100 lines!\n",
      "Processed 20 of 100 lines!\n",
      "Processed 30 of 100 lines!\n",
      "Processed 40 of 100 lines!\n",
      "Processed 50 of 100 lines!\n",
      "Processed 60 of 100 lines!\n",
      "Processed 70 of 100 lines!\n",
      "Processed 80 of 100 lines!\n",
      "Processed 90 of 100 lines!\n",
      "Processed 100 of 100 lines!\n"
     ]
    },
    {
     "name": "stderr",
     "output_type": "stream",
     "text": [
      "/Users/patrickaleo/miniconda3/envs/laiss/lib/python3.8/site-packages/astro_ghost/stellarLocus.py:64: RuntimeWarning: All-NaN slice encountered\n",
      "  df.loc[i,\"7DCD\"] = np.nanmin(np.array(temp_7DCD_1val))\n"
     ]
    },
    {
     "name": "stdout",
     "output_type": "stream",
     "text": [
      "Found matches for 29.0% of events.\n",
      "Saved\n",
      "\n",
      "START: 19000 END: 19100\n",
      "Finding northern sources with Pan-starrs...\n",
      "Processed 10 of 100 lines!\n",
      "Processed 20 of 100 lines!\n",
      "Processed 30 of 100 lines!\n",
      "Processed 40 of 100 lines!\n",
      "Processed 50 of 100 lines!\n",
      "Processed 60 of 100 lines!\n",
      "Processed 70 of 100 lines!\n",
      "Processed 80 of 100 lines!\n",
      "Processed 90 of 100 lines!\n",
      "Processed 100 of 100 lines!\n"
     ]
    },
    {
     "name": "stderr",
     "output_type": "stream",
     "text": [
      "/Users/patrickaleo/miniconda3/envs/laiss/lib/python3.8/site-packages/astro_ghost/stellarLocus.py:64: RuntimeWarning: All-NaN slice encountered\n",
      "  df.loc[i,\"7DCD\"] = np.nanmin(np.array(temp_7DCD_1val))\n"
     ]
    },
    {
     "name": "stdout",
     "output_type": "stream",
     "text": [
      "Found matches for 35.0% of events.\n",
      "Saved\n",
      "\n",
      "START: 19100 END: 19200\n",
      "Finding northern sources with Pan-starrs...\n",
      "Processed 10 of 100 lines!\n",
      "Processed 20 of 100 lines!\n",
      "Processed 30 of 100 lines!\n",
      "Processed 40 of 100 lines!\n",
      "Processed 50 of 100 lines!\n",
      "Processed 60 of 100 lines!\n",
      "Processed 70 of 100 lines!\n",
      "Processed 80 of 100 lines!\n",
      "Processed 90 of 100 lines!\n",
      "Processed 100 of 100 lines!\n"
     ]
    },
    {
     "name": "stderr",
     "output_type": "stream",
     "text": [
      "/Users/patrickaleo/miniconda3/envs/laiss/lib/python3.8/site-packages/astro_ghost/stellarLocus.py:64: RuntimeWarning: All-NaN slice encountered\n",
      "  df.loc[i,\"7DCD\"] = np.nanmin(np.array(temp_7DCD_1val))\n"
     ]
    },
    {
     "name": "stdout",
     "output_type": "stream",
     "text": [
      "Found matches for 31.0% of events.\n",
      "Saved\n",
      "\n",
      "START: 19200 END: 19300\n",
      "Finding northern sources with Pan-starrs...\n",
      "Processed 10 of 100 lines!\n",
      "Processed 20 of 100 lines!\n",
      "Processed 30 of 100 lines!\n",
      "Processed 40 of 100 lines!\n",
      "Processed 50 of 100 lines!\n",
      "Processed 60 of 100 lines!\n",
      "Processed 70 of 100 lines!\n",
      "Processed 80 of 100 lines!\n",
      "Processed 90 of 100 lines!\n",
      "Processed 100 of 100 lines!\n"
     ]
    },
    {
     "name": "stderr",
     "output_type": "stream",
     "text": [
      "/Users/patrickaleo/miniconda3/envs/laiss/lib/python3.8/site-packages/astro_ghost/stellarLocus.py:64: RuntimeWarning: All-NaN slice encountered\n",
      "  df.loc[i,\"7DCD\"] = np.nanmin(np.array(temp_7DCD_1val))\n"
     ]
    },
    {
     "name": "stdout",
     "output_type": "stream",
     "text": [
      "Found matches for 30.0% of events.\n",
      "Saved\n",
      "\n",
      "START: 19300 END: 19400\n",
      "Finding northern sources with Pan-starrs...\n",
      "Processed 10 of 100 lines!\n",
      "Processed 20 of 100 lines!\n",
      "Processed 30 of 100 lines!\n",
      "Processed 40 of 100 lines!\n",
      "Processed 50 of 100 lines!\n",
      "Processed 60 of 100 lines!\n",
      "Processed 70 of 100 lines!\n",
      "Processed 80 of 100 lines!\n",
      "Processed 90 of 100 lines!\n",
      "Processed 100 of 100 lines!\n"
     ]
    },
    {
     "name": "stderr",
     "output_type": "stream",
     "text": [
      "/Users/patrickaleo/miniconda3/envs/laiss/lib/python3.8/site-packages/astro_ghost/stellarLocus.py:64: RuntimeWarning: All-NaN slice encountered\n",
      "  df.loc[i,\"7DCD\"] = np.nanmin(np.array(temp_7DCD_1val))\n"
     ]
    },
    {
     "name": "stdout",
     "output_type": "stream",
     "text": [
      "Found matches for 16.0% of events.\n",
      "Saved\n",
      "\n",
      "START: 19400 END: 19500\n",
      "Finding northern sources with Pan-starrs...\n",
      "Processed 10 of 100 lines!\n",
      "Processed 20 of 100 lines!\n",
      "Processed 30 of 100 lines!\n",
      "Processed 40 of 100 lines!\n",
      "Processed 50 of 100 lines!\n",
      "Processed 60 of 100 lines!\n",
      "Processed 70 of 100 lines!\n",
      "Processed 80 of 100 lines!\n",
      "Processed 90 of 100 lines!\n",
      "Processed 100 of 100 lines!\n"
     ]
    },
    {
     "name": "stderr",
     "output_type": "stream",
     "text": [
      "/Users/patrickaleo/miniconda3/envs/laiss/lib/python3.8/site-packages/astro_ghost/stellarLocus.py:64: RuntimeWarning: All-NaN slice encountered\n",
      "  df.loc[i,\"7DCD\"] = np.nanmin(np.array(temp_7DCD_1val))\n"
     ]
    },
    {
     "name": "stdout",
     "output_type": "stream",
     "text": [
      "Found matches for 26.0% of events.\n",
      "Saved\n",
      "\n",
      "START: 19500 END: 19600\n",
      "Finding northern sources with Pan-starrs...\n",
      "Processed 10 of 99 lines!\n",
      "Processed 20 of 99 lines!\n",
      "Processed 30 of 99 lines!\n",
      "Processed 40 of 99 lines!\n",
      "Processed 50 of 99 lines!\n",
      "Processed 60 of 99 lines!\n",
      "Processed 70 of 99 lines!\n",
      "Processed 80 of 99 lines!\n",
      "Processed 90 of 99 lines!\n"
     ]
    },
    {
     "name": "stderr",
     "output_type": "stream",
     "text": [
      "/Users/patrickaleo/miniconda3/envs/laiss/lib/python3.8/site-packages/astro_ghost/stellarLocus.py:64: RuntimeWarning: All-NaN slice encountered\n",
      "  df.loc[i,\"7DCD\"] = np.nanmin(np.array(temp_7DCD_1val))\n"
     ]
    },
    {
     "name": "stdout",
     "output_type": "stream",
     "text": [
      "Found matches for 23.2% of events.\n",
      "Saved\n",
      "\n",
      "START: 19600 END: 19700\n",
      "Finding northern sources with Pan-starrs...\n",
      "Processed 10 of 100 lines!\n",
      "Processed 20 of 100 lines!\n",
      "Processed 30 of 100 lines!\n",
      "Processed 40 of 100 lines!\n",
      "Processed 50 of 100 lines!\n",
      "Processed 60 of 100 lines!\n",
      "Processed 70 of 100 lines!\n",
      "Processed 80 of 100 lines!\n",
      "Processed 90 of 100 lines!\n",
      "Processed 100 of 100 lines!\n"
     ]
    },
    {
     "name": "stderr",
     "output_type": "stream",
     "text": [
      "/Users/patrickaleo/miniconda3/envs/laiss/lib/python3.8/site-packages/astro_ghost/stellarLocus.py:64: RuntimeWarning: All-NaN slice encountered\n",
      "  df.loc[i,\"7DCD\"] = np.nanmin(np.array(temp_7DCD_1val))\n"
     ]
    },
    {
     "name": "stdout",
     "output_type": "stream",
     "text": [
      "Found matches for 31.0% of events.\n",
      "Saved\n",
      "\n",
      "START: 19700 END: 19800\n",
      "Finding northern sources with Pan-starrs...\n",
      "Processed 10 of 100 lines!\n",
      "Processed 20 of 100 lines!\n",
      "Processed 30 of 100 lines!\n",
      "Processed 40 of 100 lines!\n",
      "Processed 50 of 100 lines!\n",
      "Processed 60 of 100 lines!\n",
      "Processed 70 of 100 lines!\n",
      "Processed 80 of 100 lines!\n",
      "Processed 90 of 100 lines!\n",
      "Processed 100 of 100 lines!\n"
     ]
    },
    {
     "name": "stderr",
     "output_type": "stream",
     "text": [
      "/Users/patrickaleo/miniconda3/envs/laiss/lib/python3.8/site-packages/astro_ghost/stellarLocus.py:64: RuntimeWarning: All-NaN slice encountered\n",
      "  df.loc[i,\"7DCD\"] = np.nanmin(np.array(temp_7DCD_1val))\n"
     ]
    },
    {
     "name": "stdout",
     "output_type": "stream",
     "text": [
      "Found matches for 28.0% of events.\n",
      "Saved\n",
      "\n",
      "START: 19800 END: 19900\n",
      "Finding northern sources with Pan-starrs...\n",
      "Processed 10 of 100 lines!\n",
      "Processed 20 of 100 lines!\n",
      "Processed 30 of 100 lines!\n",
      "Processed 40 of 100 lines!\n",
      "Processed 50 of 100 lines!\n",
      "Processed 60 of 100 lines!\n",
      "Processed 70 of 100 lines!\n",
      "Processed 80 of 100 lines!\n",
      "Processed 90 of 100 lines!\n",
      "Processed 100 of 100 lines!\n"
     ]
    },
    {
     "name": "stderr",
     "output_type": "stream",
     "text": [
      "/Users/patrickaleo/miniconda3/envs/laiss/lib/python3.8/site-packages/astro_ghost/stellarLocus.py:64: RuntimeWarning: All-NaN slice encountered\n",
      "  df.loc[i,\"7DCD\"] = np.nanmin(np.array(temp_7DCD_1val))\n"
     ]
    },
    {
     "name": "stdout",
     "output_type": "stream",
     "text": [
      "Found matches for 27.0% of events.\n",
      "Saved\n",
      "\n",
      "START: 19900 END: 20000\n",
      "Finding northern sources with Pan-starrs...\n",
      "Processed 10 of 100 lines!\n",
      "Processed 20 of 100 lines!\n",
      "Processed 30 of 100 lines!\n",
      "Processed 40 of 100 lines!\n",
      "Processed 50 of 100 lines!\n",
      "Processed 60 of 100 lines!\n",
      "Processed 70 of 100 lines!\n",
      "Processed 80 of 100 lines!\n",
      "Processed 90 of 100 lines!\n",
      "Processed 100 of 100 lines!\n"
     ]
    },
    {
     "name": "stderr",
     "output_type": "stream",
     "text": [
      "/Users/patrickaleo/miniconda3/envs/laiss/lib/python3.8/site-packages/astro_ghost/stellarLocus.py:64: RuntimeWarning: All-NaN slice encountered\n",
      "  df.loc[i,\"7DCD\"] = np.nanmin(np.array(temp_7DCD_1val))\n"
     ]
    },
    {
     "name": "stdout",
     "output_type": "stream",
     "text": [
      "Found matches for 20.0% of events.\n",
      "Saved\n",
      "\n",
      "START: 20000 END: 20100\n",
      "Finding northern sources with Pan-starrs...\n",
      "Processed 10 of 100 lines!\n",
      "Processed 20 of 100 lines!\n",
      "Processed 30 of 100 lines!\n",
      "Processed 40 of 100 lines!\n",
      "Processed 50 of 100 lines!\n",
      "Processed 60 of 100 lines!\n",
      "Processed 70 of 100 lines!\n",
      "Processed 80 of 100 lines!\n",
      "Processed 90 of 100 lines!\n",
      "Processed 100 of 100 lines!\n"
     ]
    },
    {
     "name": "stderr",
     "output_type": "stream",
     "text": [
      "/Users/patrickaleo/miniconda3/envs/laiss/lib/python3.8/site-packages/astro_ghost/stellarLocus.py:64: RuntimeWarning: All-NaN slice encountered\n",
      "  df.loc[i,\"7DCD\"] = np.nanmin(np.array(temp_7DCD_1val))\n"
     ]
    },
    {
     "name": "stdout",
     "output_type": "stream",
     "text": [
      "Found matches for 27.0% of events.\n",
      "Saved\n",
      "\n",
      "START: 20100 END: 20200\n",
      "Finding northern sources with Pan-starrs...\n",
      "Processed 10 of 100 lines!\n",
      "Processed 20 of 100 lines!\n",
      "Processed 30 of 100 lines!\n",
      "Processed 40 of 100 lines!\n",
      "Processed 50 of 100 lines!\n",
      "Processed 60 of 100 lines!\n",
      "Processed 70 of 100 lines!\n",
      "Processed 80 of 100 lines!\n",
      "Processed 90 of 100 lines!\n",
      "Processed 100 of 100 lines!\n"
     ]
    },
    {
     "name": "stderr",
     "output_type": "stream",
     "text": [
      "/Users/patrickaleo/miniconda3/envs/laiss/lib/python3.8/site-packages/astro_ghost/stellarLocus.py:64: RuntimeWarning: All-NaN slice encountered\n",
      "  df.loc[i,\"7DCD\"] = np.nanmin(np.array(temp_7DCD_1val))\n"
     ]
    },
    {
     "name": "stdout",
     "output_type": "stream",
     "text": [
      "Found matches for 16.0% of events.\n",
      "Saved\n",
      "\n",
      "START: 20200 END: 20300\n",
      "Finding northern sources with Pan-starrs...\n",
      "Processed 10 of 100 lines!\n",
      "Processed 20 of 100 lines!\n",
      "Processed 30 of 100 lines!\n",
      "Processed 40 of 100 lines!\n",
      "Processed 50 of 100 lines!\n",
      "Processed 60 of 100 lines!\n",
      "Processed 70 of 100 lines!\n",
      "Processed 80 of 100 lines!\n",
      "Processed 90 of 100 lines!\n",
      "Processed 100 of 100 lines!\n"
     ]
    },
    {
     "name": "stderr",
     "output_type": "stream",
     "text": [
      "/Users/patrickaleo/miniconda3/envs/laiss/lib/python3.8/site-packages/astro_ghost/stellarLocus.py:64: RuntimeWarning: All-NaN slice encountered\n",
      "  df.loc[i,\"7DCD\"] = np.nanmin(np.array(temp_7DCD_1val))\n"
     ]
    },
    {
     "name": "stdout",
     "output_type": "stream",
     "text": [
      "Found matches for 22.0% of events.\n",
      "Saved\n",
      "\n",
      "START: 20300 END: 20400\n",
      "Finding northern sources with Pan-starrs...\n",
      "Processed 10 of 100 lines!\n",
      "Processed 20 of 100 lines!\n",
      "Processed 30 of 100 lines!\n",
      "Processed 40 of 100 lines!\n",
      "Processed 50 of 100 lines!\n",
      "Processed 60 of 100 lines!\n",
      "Processed 70 of 100 lines!\n",
      "Processed 80 of 100 lines!\n",
      "Processed 90 of 100 lines!\n",
      "Processed 100 of 100 lines!\n"
     ]
    },
    {
     "name": "stderr",
     "output_type": "stream",
     "text": [
      "/Users/patrickaleo/miniconda3/envs/laiss/lib/python3.8/site-packages/astro_ghost/stellarLocus.py:64: RuntimeWarning: All-NaN slice encountered\n",
      "  df.loc[i,\"7DCD\"] = np.nanmin(np.array(temp_7DCD_1val))\n"
     ]
    },
    {
     "name": "stdout",
     "output_type": "stream",
     "text": [
      "Found matches for 22.0% of events.\n",
      "Saved\n",
      "\n",
      "START: 20400 END: 20500\n",
      "Finding northern sources with Pan-starrs...\n",
      "Processed 10 of 99 lines!\n",
      "Processed 20 of 99 lines!\n",
      "Processed 30 of 99 lines!\n",
      "Processed 40 of 99 lines!\n",
      "Processed 50 of 99 lines!\n",
      "Processed 60 of 99 lines!\n",
      "Processed 70 of 99 lines!\n",
      "Processed 80 of 99 lines!\n",
      "Processed 90 of 99 lines!\n"
     ]
    },
    {
     "name": "stderr",
     "output_type": "stream",
     "text": [
      "/Users/patrickaleo/miniconda3/envs/laiss/lib/python3.8/site-packages/astro_ghost/stellarLocus.py:64: RuntimeWarning: All-NaN slice encountered\n",
      "  df.loc[i,\"7DCD\"] = np.nanmin(np.array(temp_7DCD_1val))\n"
     ]
    },
    {
     "name": "stdout",
     "output_type": "stream",
     "text": [
      "Found matches for 30.3% of events.\n",
      "Saved\n",
      "\n",
      "START: 20500 END: 20600\n",
      "Finding northern sources with Pan-starrs...\n",
      "Processed 10 of 100 lines!\n",
      "Processed 20 of 100 lines!\n",
      "Processed 30 of 100 lines!\n",
      "Processed 40 of 100 lines!\n",
      "Processed 50 of 100 lines!\n",
      "Processed 60 of 100 lines!\n",
      "Processed 70 of 100 lines!\n",
      "Processed 80 of 100 lines!\n",
      "Processed 90 of 100 lines!\n",
      "Processed 100 of 100 lines!\n"
     ]
    },
    {
     "name": "stderr",
     "output_type": "stream",
     "text": [
      "/Users/patrickaleo/miniconda3/envs/laiss/lib/python3.8/site-packages/astro_ghost/stellarLocus.py:64: RuntimeWarning: All-NaN slice encountered\n",
      "  df.loc[i,\"7DCD\"] = np.nanmin(np.array(temp_7DCD_1val))\n"
     ]
    },
    {
     "name": "stdout",
     "output_type": "stream",
     "text": [
      "Found matches for 28.0% of events.\n",
      "Saved\n",
      "\n",
      "START: 20600 END: 20700\n",
      "Finding northern sources with Pan-starrs...\n",
      "Processed 10 of 100 lines!\n",
      "Processed 20 of 100 lines!\n",
      "Processed 30 of 100 lines!\n",
      "Processed 40 of 100 lines!\n",
      "Processed 50 of 100 lines!\n",
      "Processed 60 of 100 lines!\n",
      "Processed 70 of 100 lines!\n",
      "Processed 80 of 100 lines!\n",
      "Processed 90 of 100 lines!\n",
      "Processed 100 of 100 lines!\n"
     ]
    },
    {
     "name": "stderr",
     "output_type": "stream",
     "text": [
      "/Users/patrickaleo/miniconda3/envs/laiss/lib/python3.8/site-packages/astro_ghost/stellarLocus.py:64: RuntimeWarning: All-NaN slice encountered\n",
      "  df.loc[i,\"7DCD\"] = np.nanmin(np.array(temp_7DCD_1val))\n"
     ]
    },
    {
     "name": "stdout",
     "output_type": "stream",
     "text": [
      "Found matches for 24.0% of events.\n",
      "Saved\n",
      "\n",
      "START: 20700 END: 20800\n",
      "Finding northern sources with Pan-starrs...\n",
      "Processed 10 of 100 lines!\n",
      "Processed 20 of 100 lines!\n",
      "Processed 30 of 100 lines!\n",
      "Processed 40 of 100 lines!\n",
      "Processed 50 of 100 lines!\n",
      "Processed 60 of 100 lines!\n",
      "Processed 70 of 100 lines!\n",
      "Processed 80 of 100 lines!\n",
      "Processed 90 of 100 lines!\n",
      "Processed 100 of 100 lines!\n"
     ]
    },
    {
     "name": "stderr",
     "output_type": "stream",
     "text": [
      "/Users/patrickaleo/miniconda3/envs/laiss/lib/python3.8/site-packages/astro_ghost/stellarLocus.py:64: RuntimeWarning: All-NaN slice encountered\n",
      "  df.loc[i,\"7DCD\"] = np.nanmin(np.array(temp_7DCD_1val))\n"
     ]
    },
    {
     "name": "stdout",
     "output_type": "stream",
     "text": [
      "Found matches for 32.0% of events.\n",
      "Saved\n",
      "\n",
      "START: 20800 END: 20900\n",
      "Finding northern sources with Pan-starrs...\n",
      "Processed 10 of 99 lines!\n",
      "Processed 20 of 99 lines!\n",
      "Processed 30 of 99 lines!\n",
      "Processed 40 of 99 lines!\n",
      "Processed 50 of 99 lines!\n",
      "Processed 60 of 99 lines!\n",
      "Processed 70 of 99 lines!\n",
      "Processed 80 of 99 lines!\n",
      "Processed 90 of 99 lines!\n"
     ]
    },
    {
     "name": "stderr",
     "output_type": "stream",
     "text": [
      "/Users/patrickaleo/miniconda3/envs/laiss/lib/python3.8/site-packages/astro_ghost/stellarLocus.py:64: RuntimeWarning: All-NaN slice encountered\n",
      "  df.loc[i,\"7DCD\"] = np.nanmin(np.array(temp_7DCD_1val))\n"
     ]
    },
    {
     "name": "stdout",
     "output_type": "stream",
     "text": [
      "Found matches for 36.4% of events.\n",
      "Saved\n",
      "\n",
      "START: 20900 END: 21000\n",
      "Finding northern sources with Pan-starrs...\n",
      "Processed 10 of 100 lines!\n",
      "Processed 20 of 100 lines!\n",
      "Processed 30 of 100 lines!\n",
      "Processed 40 of 100 lines!\n",
      "Processed 50 of 100 lines!\n",
      "Processed 60 of 100 lines!\n",
      "Processed 70 of 100 lines!\n",
      "Processed 80 of 100 lines!\n",
      "Processed 90 of 100 lines!\n",
      "Processed 100 of 100 lines!\n"
     ]
    },
    {
     "name": "stderr",
     "output_type": "stream",
     "text": [
      "/Users/patrickaleo/miniconda3/envs/laiss/lib/python3.8/site-packages/astro_ghost/stellarLocus.py:64: RuntimeWarning: All-NaN slice encountered\n",
      "  df.loc[i,\"7DCD\"] = np.nanmin(np.array(temp_7DCD_1val))\n"
     ]
    },
    {
     "name": "stdout",
     "output_type": "stream",
     "text": [
      "Found matches for 33.0% of events.\n",
      "Saved\n",
      "\n",
      "START: 21000 END: 21100\n",
      "Finding northern sources with Pan-starrs...\n",
      "Processed 10 of 100 lines!\n",
      "Processed 20 of 100 lines!\n",
      "Processed 30 of 100 lines!\n",
      "Processed 40 of 100 lines!\n",
      "Processed 50 of 100 lines!\n",
      "Processed 60 of 100 lines!\n",
      "Processed 70 of 100 lines!\n",
      "Processed 80 of 100 lines!\n",
      "Processed 90 of 100 lines!\n",
      "Processed 100 of 100 lines!\n"
     ]
    },
    {
     "name": "stderr",
     "output_type": "stream",
     "text": [
      "/Users/patrickaleo/miniconda3/envs/laiss/lib/python3.8/site-packages/astro_ghost/stellarLocus.py:64: RuntimeWarning: All-NaN slice encountered\n",
      "  df.loc[i,\"7DCD\"] = np.nanmin(np.array(temp_7DCD_1val))\n"
     ]
    },
    {
     "name": "stdout",
     "output_type": "stream",
     "text": [
      "Found matches for 34.0% of events.\n",
      "Saved\n",
      "\n",
      "START: 21100 END: 21200\n",
      "Finding northern sources with Pan-starrs...\n",
      "Processed 10 of 100 lines!\n",
      "Processed 20 of 100 lines!\n",
      "Processed 30 of 100 lines!\n",
      "Processed 40 of 100 lines!\n",
      "Processed 50 of 100 lines!\n",
      "Processed 60 of 100 lines!\n",
      "Processed 70 of 100 lines!\n",
      "Processed 80 of 100 lines!\n",
      "Processed 90 of 100 lines!\n",
      "Processed 100 of 100 lines!\n"
     ]
    },
    {
     "name": "stderr",
     "output_type": "stream",
     "text": [
      "/Users/patrickaleo/miniconda3/envs/laiss/lib/python3.8/site-packages/astro_ghost/stellarLocus.py:64: RuntimeWarning: All-NaN slice encountered\n",
      "  df.loc[i,\"7DCD\"] = np.nanmin(np.array(temp_7DCD_1val))\n"
     ]
    },
    {
     "name": "stdout",
     "output_type": "stream",
     "text": [
      "Found matches for 36.0% of events.\n",
      "Saved\n",
      "\n",
      "START: 21200 END: 21300\n",
      "Finding northern sources with Pan-starrs...\n",
      "Processed 10 of 100 lines!\n",
      "Processed 20 of 100 lines!\n",
      "Processed 30 of 100 lines!\n",
      "Processed 40 of 100 lines!\n",
      "Processed 50 of 100 lines!\n",
      "Processed 60 of 100 lines!\n",
      "Processed 70 of 100 lines!\n",
      "Processed 80 of 100 lines!\n",
      "Processed 90 of 100 lines!\n",
      "Processed 100 of 100 lines!\n"
     ]
    },
    {
     "name": "stderr",
     "output_type": "stream",
     "text": [
      "/Users/patrickaleo/miniconda3/envs/laiss/lib/python3.8/site-packages/astro_ghost/stellarLocus.py:64: RuntimeWarning: All-NaN slice encountered\n",
      "  df.loc[i,\"7DCD\"] = np.nanmin(np.array(temp_7DCD_1val))\n"
     ]
    },
    {
     "name": "stdout",
     "output_type": "stream",
     "text": [
      "Found matches for 40.0% of events.\n",
      "Saved\n",
      "\n",
      "START: 21300 END: 21400\n",
      "Finding northern sources with Pan-starrs...\n",
      "Processed 10 of 100 lines!\n",
      "Processed 20 of 100 lines!\n",
      "Processed 30 of 100 lines!\n",
      "Processed 40 of 100 lines!\n",
      "Processed 50 of 100 lines!\n",
      "Processed 60 of 100 lines!\n",
      "Processed 70 of 100 lines!\n",
      "Processed 80 of 100 lines!\n",
      "Processed 90 of 100 lines!\n",
      "Processed 100 of 100 lines!\n"
     ]
    },
    {
     "name": "stderr",
     "output_type": "stream",
     "text": [
      "/Users/patrickaleo/miniconda3/envs/laiss/lib/python3.8/site-packages/astro_ghost/stellarLocus.py:64: RuntimeWarning: All-NaN slice encountered\n",
      "  df.loc[i,\"7DCD\"] = np.nanmin(np.array(temp_7DCD_1val))\n"
     ]
    },
    {
     "name": "stdout",
     "output_type": "stream",
     "text": [
      "Found matches for 27.0% of events.\n",
      "Saved\n",
      "\n",
      "START: 21400 END: 21500\n",
      "Finding northern sources with Pan-starrs...\n",
      "Processed 10 of 100 lines!\n",
      "Processed 20 of 100 lines!\n",
      "Processed 30 of 100 lines!\n",
      "Processed 40 of 100 lines!\n",
      "Processed 50 of 100 lines!\n",
      "Processed 60 of 100 lines!\n",
      "Processed 70 of 100 lines!\n",
      "Processed 80 of 100 lines!\n",
      "Processed 90 of 100 lines!\n",
      "Processed 100 of 100 lines!\n"
     ]
    },
    {
     "name": "stderr",
     "output_type": "stream",
     "text": [
      "/Users/patrickaleo/miniconda3/envs/laiss/lib/python3.8/site-packages/astro_ghost/stellarLocus.py:64: RuntimeWarning: All-NaN slice encountered\n",
      "  df.loc[i,\"7DCD\"] = np.nanmin(np.array(temp_7DCD_1val))\n"
     ]
    },
    {
     "name": "stdout",
     "output_type": "stream",
     "text": [
      "Found matches for 31.0% of events.\n",
      "Saved\n",
      "\n",
      "START: 21500 END: 21600\n",
      "Finding northern sources with Pan-starrs...\n",
      "Processed 10 of 100 lines!\n",
      "Processed 20 of 100 lines!\n",
      "Processed 30 of 100 lines!\n",
      "Processed 40 of 100 lines!\n",
      "Processed 50 of 100 lines!\n",
      "Processed 60 of 100 lines!\n",
      "Processed 70 of 100 lines!\n",
      "Processed 80 of 100 lines!\n",
      "Processed 90 of 100 lines!\n",
      "Processed 100 of 100 lines!\n"
     ]
    },
    {
     "name": "stderr",
     "output_type": "stream",
     "text": [
      "/Users/patrickaleo/miniconda3/envs/laiss/lib/python3.8/site-packages/astro_ghost/stellarLocus.py:64: RuntimeWarning: All-NaN slice encountered\n",
      "  df.loc[i,\"7DCD\"] = np.nanmin(np.array(temp_7DCD_1val))\n"
     ]
    },
    {
     "name": "stdout",
     "output_type": "stream",
     "text": [
      "Found matches for 28.0% of events.\n",
      "Saved\n",
      "\n",
      "START: 21600 END: 21700\n",
      "Finding northern sources with Pan-starrs...\n",
      "Processed 10 of 100 lines!\n",
      "Processed 20 of 100 lines!\n",
      "Processed 30 of 100 lines!\n",
      "Processed 40 of 100 lines!\n",
      "Processed 50 of 100 lines!\n",
      "Processed 60 of 100 lines!\n",
      "Processed 70 of 100 lines!\n",
      "Processed 80 of 100 lines!\n",
      "Processed 90 of 100 lines!\n",
      "Processed 100 of 100 lines!\n"
     ]
    },
    {
     "name": "stderr",
     "output_type": "stream",
     "text": [
      "/Users/patrickaleo/miniconda3/envs/laiss/lib/python3.8/site-packages/astro_ghost/stellarLocus.py:64: RuntimeWarning: All-NaN slice encountered\n",
      "  df.loc[i,\"7DCD\"] = np.nanmin(np.array(temp_7DCD_1val))\n"
     ]
    },
    {
     "name": "stdout",
     "output_type": "stream",
     "text": [
      "Found matches for 27.0% of events.\n",
      "Saved\n",
      "\n",
      "START: 21700 END: 21800\n",
      "Finding northern sources with Pan-starrs...\n",
      "Processed 10 of 100 lines!\n",
      "Processed 20 of 100 lines!\n",
      "Processed 30 of 100 lines!\n",
      "Processed 40 of 100 lines!\n",
      "Processed 50 of 100 lines!\n",
      "Processed 60 of 100 lines!\n",
      "Processed 70 of 100 lines!\n",
      "Processed 80 of 100 lines!\n",
      "Processed 90 of 100 lines!\n",
      "Processed 100 of 100 lines!\n"
     ]
    },
    {
     "name": "stderr",
     "output_type": "stream",
     "text": [
      "/Users/patrickaleo/miniconda3/envs/laiss/lib/python3.8/site-packages/astro_ghost/stellarLocus.py:64: RuntimeWarning: All-NaN slice encountered\n",
      "  df.loc[i,\"7DCD\"] = np.nanmin(np.array(temp_7DCD_1val))\n"
     ]
    },
    {
     "name": "stdout",
     "output_type": "stream",
     "text": [
      "Found matches for 26.0% of events.\n",
      "Saved\n",
      "\n",
      "START: 21800 END: 21900\n",
      "Finding northern sources with Pan-starrs...\n",
      "Processed 10 of 100 lines!\n",
      "Processed 20 of 100 lines!\n",
      "Processed 30 of 100 lines!\n",
      "Processed 40 of 100 lines!\n",
      "Processed 50 of 100 lines!\n",
      "Processed 60 of 100 lines!\n",
      "Processed 70 of 100 lines!\n",
      "Processed 80 of 100 lines!\n",
      "Processed 90 of 100 lines!\n",
      "Processed 100 of 100 lines!\n"
     ]
    },
    {
     "name": "stderr",
     "output_type": "stream",
     "text": [
      "/Users/patrickaleo/miniconda3/envs/laiss/lib/python3.8/site-packages/astro_ghost/stellarLocus.py:64: RuntimeWarning: All-NaN slice encountered\n",
      "  df.loc[i,\"7DCD\"] = np.nanmin(np.array(temp_7DCD_1val))\n"
     ]
    },
    {
     "name": "stdout",
     "output_type": "stream",
     "text": [
      "Found matches for 19.0% of events.\n",
      "Saved\n",
      "\n",
      "START: 21900 END: 22000\n",
      "Finding northern sources with Pan-starrs...\n",
      "Processed 10 of 100 lines!\n",
      "Processed 20 of 100 lines!\n",
      "Processed 30 of 100 lines!\n",
      "Processed 40 of 100 lines!\n",
      "Processed 50 of 100 lines!\n",
      "Processed 60 of 100 lines!\n",
      "Processed 70 of 100 lines!\n",
      "Processed 80 of 100 lines!\n",
      "Processed 90 of 100 lines!\n",
      "Processed 100 of 100 lines!\n"
     ]
    },
    {
     "name": "stderr",
     "output_type": "stream",
     "text": [
      "/Users/patrickaleo/miniconda3/envs/laiss/lib/python3.8/site-packages/astro_ghost/stellarLocus.py:64: RuntimeWarning: All-NaN slice encountered\n",
      "  df.loc[i,\"7DCD\"] = np.nanmin(np.array(temp_7DCD_1val))\n"
     ]
    },
    {
     "name": "stdout",
     "output_type": "stream",
     "text": [
      "Found matches for 26.0% of events.\n",
      "Saved\n",
      "\n",
      "START: 22000 END: 22100\n",
      "Finding northern sources with Pan-starrs...\n",
      "Processed 10 of 100 lines!\n",
      "Processed 20 of 100 lines!\n",
      "Processed 30 of 100 lines!\n",
      "Processed 40 of 100 lines!\n",
      "Processed 50 of 100 lines!\n",
      "Processed 60 of 100 lines!\n",
      "Processed 70 of 100 lines!\n",
      "Processed 80 of 100 lines!\n",
      "Processed 90 of 100 lines!\n",
      "Processed 100 of 100 lines!\n"
     ]
    },
    {
     "name": "stderr",
     "output_type": "stream",
     "text": [
      "/Users/patrickaleo/miniconda3/envs/laiss/lib/python3.8/site-packages/astro_ghost/stellarLocus.py:64: RuntimeWarning: All-NaN slice encountered\n",
      "  df.loc[i,\"7DCD\"] = np.nanmin(np.array(temp_7DCD_1val))\n"
     ]
    },
    {
     "name": "stdout",
     "output_type": "stream",
     "text": [
      "Found matches for 37.0% of events.\n",
      "Saved\n",
      "\n",
      "START: 22100 END: 22200\n",
      "Finding northern sources with Pan-starrs...\n",
      "Processed 10 of 100 lines!\n",
      "Processed 20 of 100 lines!\n",
      "Processed 30 of 100 lines!\n",
      "Processed 40 of 100 lines!\n",
      "Processed 50 of 100 lines!\n",
      "Processed 60 of 100 lines!\n",
      "Processed 70 of 100 lines!\n",
      "Processed 80 of 100 lines!\n",
      "Processed 90 of 100 lines!\n",
      "Processed 100 of 100 lines!\n"
     ]
    },
    {
     "name": "stderr",
     "output_type": "stream",
     "text": [
      "/Users/patrickaleo/miniconda3/envs/laiss/lib/python3.8/site-packages/astro_ghost/stellarLocus.py:64: RuntimeWarning: All-NaN slice encountered\n",
      "  df.loc[i,\"7DCD\"] = np.nanmin(np.array(temp_7DCD_1val))\n"
     ]
    },
    {
     "name": "stdout",
     "output_type": "stream",
     "text": [
      "Found matches for 25.0% of events.\n",
      "Saved\n",
      "\n",
      "START: 22200 END: 22300\n",
      "Finding northern sources with Pan-starrs...\n",
      "Processed 10 of 100 lines!\n",
      "Processed 20 of 100 lines!\n",
      "Processed 30 of 100 lines!\n",
      "Processed 40 of 100 lines!\n",
      "Processed 50 of 100 lines!\n",
      "Processed 60 of 100 lines!\n",
      "Processed 70 of 100 lines!\n",
      "Processed 80 of 100 lines!\n",
      "Processed 90 of 100 lines!\n",
      "Processed 100 of 100 lines!\n"
     ]
    },
    {
     "name": "stderr",
     "output_type": "stream",
     "text": [
      "/Users/patrickaleo/miniconda3/envs/laiss/lib/python3.8/site-packages/astro_ghost/stellarLocus.py:64: RuntimeWarning: All-NaN slice encountered\n",
      "  df.loc[i,\"7DCD\"] = np.nanmin(np.array(temp_7DCD_1val))\n"
     ]
    },
    {
     "name": "stdout",
     "output_type": "stream",
     "text": [
      "Found matches for 14.0% of events.\n",
      "Saved\n",
      "\n",
      "START: 22300 END: 22400\n",
      "Finding northern sources with Pan-starrs...\n",
      "Processed 10 of 100 lines!\n",
      "Processed 20 of 100 lines!\n",
      "Processed 30 of 100 lines!\n",
      "Processed 40 of 100 lines!\n",
      "Processed 50 of 100 lines!\n",
      "Processed 60 of 100 lines!\n",
      "Processed 70 of 100 lines!\n",
      "Processed 80 of 100 lines!\n",
      "Processed 90 of 100 lines!\n",
      "Processed 100 of 100 lines!\n"
     ]
    },
    {
     "name": "stderr",
     "output_type": "stream",
     "text": [
      "/Users/patrickaleo/miniconda3/envs/laiss/lib/python3.8/site-packages/astro_ghost/stellarLocus.py:64: RuntimeWarning: All-NaN slice encountered\n",
      "  df.loc[i,\"7DCD\"] = np.nanmin(np.array(temp_7DCD_1val))\n"
     ]
    },
    {
     "name": "stdout",
     "output_type": "stream",
     "text": [
      "Found matches for 23.0% of events.\n",
      "Saved\n",
      "\n",
      "START: 22400 END: 22500\n",
      "Finding northern sources with Pan-starrs...\n",
      "Processed 10 of 100 lines!\n",
      "Processed 20 of 100 lines!\n",
      "Processed 30 of 100 lines!\n",
      "Processed 40 of 100 lines!\n",
      "Processed 50 of 100 lines!\n",
      "Processed 60 of 100 lines!\n",
      "Processed 70 of 100 lines!\n",
      "Processed 80 of 100 lines!\n",
      "Processed 90 of 100 lines!\n",
      "Processed 100 of 100 lines!\n"
     ]
    },
    {
     "name": "stderr",
     "output_type": "stream",
     "text": [
      "/Users/patrickaleo/miniconda3/envs/laiss/lib/python3.8/site-packages/astro_ghost/stellarLocus.py:64: RuntimeWarning: All-NaN slice encountered\n",
      "  df.loc[i,\"7DCD\"] = np.nanmin(np.array(temp_7DCD_1val))\n"
     ]
    },
    {
     "name": "stdout",
     "output_type": "stream",
     "text": [
      "Found matches for 24.0% of events.\n",
      "Saved\n",
      "\n",
      "START: 22500 END: 22600\n",
      "Finding northern sources with Pan-starrs...\n",
      "Processed 10 of 100 lines!\n",
      "Processed 20 of 100 lines!\n",
      "Processed 30 of 100 lines!\n",
      "Processed 40 of 100 lines!\n",
      "Processed 50 of 100 lines!\n",
      "Processed 60 of 100 lines!\n",
      "Processed 70 of 100 lines!\n",
      "Processed 80 of 100 lines!\n",
      "Processed 90 of 100 lines!\n",
      "Processed 100 of 100 lines!\n"
     ]
    },
    {
     "name": "stderr",
     "output_type": "stream",
     "text": [
      "/Users/patrickaleo/miniconda3/envs/laiss/lib/python3.8/site-packages/astro_ghost/stellarLocus.py:64: RuntimeWarning: All-NaN slice encountered\n",
      "  df.loc[i,\"7DCD\"] = np.nanmin(np.array(temp_7DCD_1val))\n"
     ]
    },
    {
     "name": "stdout",
     "output_type": "stream",
     "text": [
      "Found matches for 22.0% of events.\n",
      "Saved\n",
      "\n",
      "START: 22600 END: 22700\n",
      "Finding northern sources with Pan-starrs...\n",
      "Processed 10 of 100 lines!\n",
      "Processed 20 of 100 lines!\n",
      "Processed 30 of 100 lines!\n",
      "Processed 40 of 100 lines!\n",
      "Processed 50 of 100 lines!\n",
      "Processed 60 of 100 lines!\n",
      "Processed 70 of 100 lines!\n",
      "Processed 80 of 100 lines!\n",
      "Processed 90 of 100 lines!\n",
      "Processed 100 of 100 lines!\n"
     ]
    },
    {
     "name": "stderr",
     "output_type": "stream",
     "text": [
      "/Users/patrickaleo/miniconda3/envs/laiss/lib/python3.8/site-packages/astro_ghost/stellarLocus.py:64: RuntimeWarning: All-NaN slice encountered\n",
      "  df.loc[i,\"7DCD\"] = np.nanmin(np.array(temp_7DCD_1val))\n"
     ]
    },
    {
     "name": "stdout",
     "output_type": "stream",
     "text": [
      "Found matches for 26.0% of events.\n",
      "Saved\n",
      "\n",
      "START: 22700 END: 22800\n",
      "Finding northern sources with Pan-starrs...\n",
      "Processed 10 of 100 lines!\n",
      "Processed 20 of 100 lines!\n",
      "Processed 30 of 100 lines!\n",
      "Processed 40 of 100 lines!\n",
      "Processed 50 of 100 lines!\n",
      "Processed 60 of 100 lines!\n",
      "Processed 70 of 100 lines!\n",
      "Processed 80 of 100 lines!\n",
      "Processed 90 of 100 lines!\n",
      "Processed 100 of 100 lines!\n"
     ]
    },
    {
     "name": "stderr",
     "output_type": "stream",
     "text": [
      "/Users/patrickaleo/miniconda3/envs/laiss/lib/python3.8/site-packages/astro_ghost/stellarLocus.py:64: RuntimeWarning: All-NaN slice encountered\n",
      "  df.loc[i,\"7DCD\"] = np.nanmin(np.array(temp_7DCD_1val))\n"
     ]
    },
    {
     "name": "stdout",
     "output_type": "stream",
     "text": [
      "Found matches for 23.0% of events.\n",
      "Saved\n",
      "\n",
      "START: 22800 END: 22900\n",
      "Finding northern sources with Pan-starrs...\n",
      "Processed 10 of 100 lines!\n",
      "Processed 20 of 100 lines!\n",
      "Processed 30 of 100 lines!\n",
      "Processed 40 of 100 lines!\n",
      "Processed 50 of 100 lines!\n",
      "Processed 60 of 100 lines!\n",
      "Processed 70 of 100 lines!\n",
      "Processed 80 of 100 lines!\n",
      "Processed 90 of 100 lines!\n",
      "Processed 100 of 100 lines!\n"
     ]
    },
    {
     "name": "stderr",
     "output_type": "stream",
     "text": [
      "/Users/patrickaleo/miniconda3/envs/laiss/lib/python3.8/site-packages/astro_ghost/stellarLocus.py:64: RuntimeWarning: All-NaN slice encountered\n",
      "  df.loc[i,\"7DCD\"] = np.nanmin(np.array(temp_7DCD_1val))\n"
     ]
    },
    {
     "name": "stdout",
     "output_type": "stream",
     "text": [
      "Found matches for 19.0% of events.\n",
      "Saved\n",
      "\n",
      "START: 22900 END: 23000\n",
      "Finding northern sources with Pan-starrs...\n",
      "Processed 10 of 100 lines!\n",
      "Processed 20 of 100 lines!\n",
      "Processed 30 of 100 lines!\n",
      "Processed 40 of 100 lines!\n",
      "Processed 50 of 100 lines!\n",
      "Processed 60 of 100 lines!\n",
      "Processed 70 of 100 lines!\n",
      "Processed 80 of 100 lines!\n",
      "Processed 90 of 100 lines!\n",
      "Processed 100 of 100 lines!\n"
     ]
    },
    {
     "name": "stderr",
     "output_type": "stream",
     "text": [
      "/Users/patrickaleo/miniconda3/envs/laiss/lib/python3.8/site-packages/astro_ghost/stellarLocus.py:64: RuntimeWarning: All-NaN slice encountered\n",
      "  df.loc[i,\"7DCD\"] = np.nanmin(np.array(temp_7DCD_1val))\n"
     ]
    },
    {
     "name": "stdout",
     "output_type": "stream",
     "text": [
      "Found matches for 38.0% of events.\n",
      "Saved\n",
      "\n",
      "START: 23000 END: 23100\n",
      "Finding northern sources with Pan-starrs...\n",
      "Processed 10 of 100 lines!\n",
      "Processed 20 of 100 lines!\n",
      "Processed 30 of 100 lines!\n",
      "Processed 40 of 100 lines!\n",
      "Processed 50 of 100 lines!\n",
      "Processed 60 of 100 lines!\n",
      "Processed 70 of 100 lines!\n",
      "Processed 80 of 100 lines!\n",
      "Processed 90 of 100 lines!\n",
      "Processed 100 of 100 lines!\n"
     ]
    },
    {
     "name": "stderr",
     "output_type": "stream",
     "text": [
      "/Users/patrickaleo/miniconda3/envs/laiss/lib/python3.8/site-packages/astro_ghost/stellarLocus.py:64: RuntimeWarning: All-NaN slice encountered\n",
      "  df.loc[i,\"7DCD\"] = np.nanmin(np.array(temp_7DCD_1val))\n"
     ]
    },
    {
     "name": "stdout",
     "output_type": "stream",
     "text": [
      "Found matches for 25.0% of events.\n",
      "Saved\n",
      "\n",
      "START: 23100 END: 23200\n",
      "Finding northern sources with Pan-starrs...\n",
      "Processed 10 of 100 lines!\n",
      "Processed 20 of 100 lines!\n",
      "Processed 30 of 100 lines!\n",
      "Processed 40 of 100 lines!\n",
      "Processed 50 of 100 lines!\n",
      "Processed 60 of 100 lines!\n",
      "Processed 70 of 100 lines!\n",
      "Processed 80 of 100 lines!\n",
      "Processed 90 of 100 lines!\n",
      "Processed 100 of 100 lines!\n"
     ]
    },
    {
     "name": "stderr",
     "output_type": "stream",
     "text": [
      "/Users/patrickaleo/miniconda3/envs/laiss/lib/python3.8/site-packages/astro_ghost/stellarLocus.py:64: RuntimeWarning: All-NaN slice encountered\n",
      "  df.loc[i,\"7DCD\"] = np.nanmin(np.array(temp_7DCD_1val))\n"
     ]
    },
    {
     "name": "stdout",
     "output_type": "stream",
     "text": [
      "Found matches for 30.0% of events.\n",
      "Saved\n",
      "\n",
      "START: 23200 END: 23300\n",
      "Finding northern sources with Pan-starrs...\n",
      "Processed 10 of 100 lines!\n",
      "Processed 20 of 100 lines!\n",
      "Processed 30 of 100 lines!\n",
      "Processed 40 of 100 lines!\n",
      "Processed 50 of 100 lines!\n",
      "Processed 60 of 100 lines!\n",
      "Processed 70 of 100 lines!\n",
      "Processed 80 of 100 lines!\n",
      "Processed 90 of 100 lines!\n",
      "Processed 100 of 100 lines!\n"
     ]
    },
    {
     "name": "stderr",
     "output_type": "stream",
     "text": [
      "/Users/patrickaleo/miniconda3/envs/laiss/lib/python3.8/site-packages/astro_ghost/stellarLocus.py:64: RuntimeWarning: All-NaN slice encountered\n",
      "  df.loc[i,\"7DCD\"] = np.nanmin(np.array(temp_7DCD_1val))\n"
     ]
    },
    {
     "name": "stdout",
     "output_type": "stream",
     "text": [
      "Found matches for 31.0% of events.\n",
      "Saved\n",
      "\n",
      "START: 23300 END: 23400\n",
      "Finding northern sources with Pan-starrs...\n",
      "Processed 10 of 100 lines!\n",
      "Processed 20 of 100 lines!\n",
      "Processed 30 of 100 lines!\n",
      "Processed 40 of 100 lines!\n",
      "Processed 50 of 100 lines!\n",
      "Processed 60 of 100 lines!\n",
      "Processed 70 of 100 lines!\n",
      "Processed 80 of 100 lines!\n",
      "Processed 90 of 100 lines!\n",
      "Processed 100 of 100 lines!\n"
     ]
    },
    {
     "name": "stderr",
     "output_type": "stream",
     "text": [
      "/Users/patrickaleo/miniconda3/envs/laiss/lib/python3.8/site-packages/astro_ghost/stellarLocus.py:64: RuntimeWarning: All-NaN slice encountered\n",
      "  df.loc[i,\"7DCD\"] = np.nanmin(np.array(temp_7DCD_1val))\n"
     ]
    },
    {
     "name": "stdout",
     "output_type": "stream",
     "text": [
      "Found matches for 20.0% of events.\n",
      "Saved\n",
      "\n",
      "START: 23400 END: 23500\n",
      "Finding northern sources with Pan-starrs...\n",
      "Processed 10 of 100 lines!\n",
      "Processed 20 of 100 lines!\n",
      "Processed 30 of 100 lines!\n",
      "Processed 40 of 100 lines!\n",
      "Processed 50 of 100 lines!\n",
      "Processed 60 of 100 lines!\n",
      "Processed 70 of 100 lines!\n",
      "Processed 80 of 100 lines!\n",
      "Processed 90 of 100 lines!\n",
      "Processed 100 of 100 lines!\n"
     ]
    },
    {
     "name": "stderr",
     "output_type": "stream",
     "text": [
      "/Users/patrickaleo/miniconda3/envs/laiss/lib/python3.8/site-packages/astro_ghost/stellarLocus.py:64: RuntimeWarning: All-NaN slice encountered\n",
      "  df.loc[i,\"7DCD\"] = np.nanmin(np.array(temp_7DCD_1val))\n"
     ]
    },
    {
     "name": "stdout",
     "output_type": "stream",
     "text": [
      "Found matches for 22.0% of events.\n",
      "Saved\n",
      "\n",
      "START: 23500 END: 23600\n",
      "Finding northern sources with Pan-starrs...\n",
      "Processed 10 of 100 lines!\n",
      "Processed 20 of 100 lines!\n",
      "Processed 30 of 100 lines!\n",
      "Processed 40 of 100 lines!\n",
      "Processed 50 of 100 lines!\n",
      "Processed 60 of 100 lines!\n",
      "Processed 70 of 100 lines!\n",
      "Processed 80 of 100 lines!\n",
      "Processed 90 of 100 lines!\n",
      "Processed 100 of 100 lines!\n"
     ]
    },
    {
     "name": "stderr",
     "output_type": "stream",
     "text": [
      "/Users/patrickaleo/miniconda3/envs/laiss/lib/python3.8/site-packages/astro_ghost/stellarLocus.py:64: RuntimeWarning: All-NaN slice encountered\n",
      "  df.loc[i,\"7DCD\"] = np.nanmin(np.array(temp_7DCD_1val))\n"
     ]
    },
    {
     "name": "stdout",
     "output_type": "stream",
     "text": [
      "Found matches for 20.0% of events.\n",
      "Saved\n",
      "\n",
      "START: 23600 END: 23700\n",
      "Finding northern sources with Pan-starrs...\n",
      "Processed 10 of 100 lines!\n",
      "Processed 20 of 100 lines!\n",
      "Processed 30 of 100 lines!\n",
      "Processed 40 of 100 lines!\n",
      "Processed 50 of 100 lines!\n",
      "Processed 60 of 100 lines!\n",
      "Processed 70 of 100 lines!\n",
      "Processed 80 of 100 lines!\n",
      "Processed 90 of 100 lines!\n",
      "Processed 100 of 100 lines!\n"
     ]
    },
    {
     "name": "stderr",
     "output_type": "stream",
     "text": [
      "/Users/patrickaleo/miniconda3/envs/laiss/lib/python3.8/site-packages/astro_ghost/stellarLocus.py:64: RuntimeWarning: All-NaN slice encountered\n",
      "  df.loc[i,\"7DCD\"] = np.nanmin(np.array(temp_7DCD_1val))\n"
     ]
    },
    {
     "name": "stdout",
     "output_type": "stream",
     "text": [
      "Found matches for 33.0% of events.\n",
      "Saved\n",
      "\n",
      "START: 23700 END: 23800\n",
      "Finding northern sources with Pan-starrs...\n",
      "Processed 10 of 100 lines!\n",
      "Processed 20 of 100 lines!\n",
      "Processed 30 of 100 lines!\n",
      "Processed 40 of 100 lines!\n",
      "Processed 50 of 100 lines!\n",
      "Processed 60 of 100 lines!\n",
      "Processed 70 of 100 lines!\n",
      "Processed 80 of 100 lines!\n",
      "Processed 90 of 100 lines!\n",
      "Processed 100 of 100 lines!\n"
     ]
    },
    {
     "name": "stderr",
     "output_type": "stream",
     "text": [
      "/Users/patrickaleo/miniconda3/envs/laiss/lib/python3.8/site-packages/astro_ghost/stellarLocus.py:64: RuntimeWarning: All-NaN slice encountered\n",
      "  df.loc[i,\"7DCD\"] = np.nanmin(np.array(temp_7DCD_1val))\n"
     ]
    },
    {
     "name": "stdout",
     "output_type": "stream",
     "text": [
      "Found matches for 24.0% of events.\n",
      "Saved\n",
      "\n",
      "START: 23800 END: 23900\n",
      "Finding northern sources with Pan-starrs...\n",
      "Processed 10 of 100 lines!\n",
      "Processed 20 of 100 lines!\n",
      "Processed 30 of 100 lines!\n",
      "Processed 40 of 100 lines!\n",
      "Processed 50 of 100 lines!\n",
      "Processed 60 of 100 lines!\n",
      "Processed 70 of 100 lines!\n",
      "Processed 80 of 100 lines!\n",
      "Processed 90 of 100 lines!\n",
      "Processed 100 of 100 lines!\n"
     ]
    },
    {
     "name": "stderr",
     "output_type": "stream",
     "text": [
      "/Users/patrickaleo/miniconda3/envs/laiss/lib/python3.8/site-packages/astro_ghost/stellarLocus.py:64: RuntimeWarning: All-NaN slice encountered\n",
      "  df.loc[i,\"7DCD\"] = np.nanmin(np.array(temp_7DCD_1val))\n"
     ]
    },
    {
     "name": "stdout",
     "output_type": "stream",
     "text": [
      "Found matches for 22.0% of events.\n",
      "Saved\n",
      "\n",
      "START: 23900 END: 24000\n",
      "Finding northern sources with Pan-starrs...\n",
      "Processed 10 of 100 lines!\n",
      "Processed 20 of 100 lines!\n",
      "Processed 30 of 100 lines!\n",
      "Processed 40 of 100 lines!\n",
      "Processed 50 of 100 lines!\n",
      "Processed 60 of 100 lines!\n",
      "Processed 70 of 100 lines!\n",
      "Processed 80 of 100 lines!\n",
      "Processed 90 of 100 lines!\n",
      "Processed 100 of 100 lines!\n"
     ]
    },
    {
     "name": "stderr",
     "output_type": "stream",
     "text": [
      "/Users/patrickaleo/miniconda3/envs/laiss/lib/python3.8/site-packages/astro_ghost/stellarLocus.py:64: RuntimeWarning: All-NaN slice encountered\n",
      "  df.loc[i,\"7DCD\"] = np.nanmin(np.array(temp_7DCD_1val))\n"
     ]
    },
    {
     "name": "stdout",
     "output_type": "stream",
     "text": [
      "Found matches for 23.0% of events.\n",
      "Saved\n",
      "\n",
      "START: 24000 END: 24100\n",
      "Finding northern sources with Pan-starrs...\n",
      "Processed 10 of 100 lines!\n",
      "Processed 20 of 100 lines!\n",
      "Processed 30 of 100 lines!\n",
      "Processed 40 of 100 lines!\n",
      "Processed 50 of 100 lines!\n",
      "Processed 60 of 100 lines!\n",
      "Processed 70 of 100 lines!\n",
      "Processed 80 of 100 lines!\n",
      "Processed 90 of 100 lines!\n",
      "Processed 100 of 100 lines!\n"
     ]
    },
    {
     "name": "stderr",
     "output_type": "stream",
     "text": [
      "/Users/patrickaleo/miniconda3/envs/laiss/lib/python3.8/site-packages/astro_ghost/stellarLocus.py:64: RuntimeWarning: All-NaN slice encountered\n",
      "  df.loc[i,\"7DCD\"] = np.nanmin(np.array(temp_7DCD_1val))\n"
     ]
    },
    {
     "name": "stdout",
     "output_type": "stream",
     "text": [
      "Found a double!\n",
      "Found matches for 32.0% of events.\n",
      "Saved\n",
      "\n",
      "START: 24100 END: 24200\n",
      "Finding northern sources with Pan-starrs...\n",
      "Processed 10 of 100 lines!\n",
      "Processed 20 of 100 lines!\n",
      "Processed 30 of 100 lines!\n",
      "Processed 40 of 100 lines!\n",
      "Processed 50 of 100 lines!\n",
      "Processed 60 of 100 lines!\n",
      "Processed 70 of 100 lines!\n",
      "Processed 80 of 100 lines!\n",
      "Processed 90 of 100 lines!\n",
      "Processed 100 of 100 lines!\n"
     ]
    },
    {
     "name": "stderr",
     "output_type": "stream",
     "text": [
      "/Users/patrickaleo/miniconda3/envs/laiss/lib/python3.8/site-packages/astro_ghost/stellarLocus.py:64: RuntimeWarning: All-NaN slice encountered\n",
      "  df.loc[i,\"7DCD\"] = np.nanmin(np.array(temp_7DCD_1val))\n"
     ]
    },
    {
     "name": "stdout",
     "output_type": "stream",
     "text": [
      "Found matches for 21.0% of events.\n",
      "Saved\n",
      "\n",
      "START: 24200 END: 24300\n",
      "Finding northern sources with Pan-starrs...\n",
      "Processed 10 of 100 lines!\n",
      "Processed 20 of 100 lines!\n",
      "Processed 30 of 100 lines!\n",
      "Processed 40 of 100 lines!\n",
      "Processed 50 of 100 lines!\n",
      "Processed 60 of 100 lines!\n",
      "Processed 70 of 100 lines!\n",
      "Processed 80 of 100 lines!\n",
      "Processed 90 of 100 lines!\n",
      "Processed 100 of 100 lines!\n"
     ]
    },
    {
     "name": "stderr",
     "output_type": "stream",
     "text": [
      "/Users/patrickaleo/miniconda3/envs/laiss/lib/python3.8/site-packages/astro_ghost/stellarLocus.py:64: RuntimeWarning: All-NaN slice encountered\n",
      "  df.loc[i,\"7DCD\"] = np.nanmin(np.array(temp_7DCD_1val))\n"
     ]
    },
    {
     "name": "stdout",
     "output_type": "stream",
     "text": [
      "Found matches for 20.0% of events.\n",
      "Saved\n",
      "\n",
      "START: 24300 END: 24400\n",
      "Finding northern sources with Pan-starrs...\n",
      "Processed 10 of 100 lines!\n",
      "Processed 20 of 100 lines!\n",
      "Processed 30 of 100 lines!\n",
      "Processed 40 of 100 lines!\n",
      "Processed 50 of 100 lines!\n",
      "Processed 60 of 100 lines!\n",
      "Processed 70 of 100 lines!\n",
      "Processed 80 of 100 lines!\n",
      "Processed 90 of 100 lines!\n",
      "Processed 100 of 100 lines!\n"
     ]
    },
    {
     "name": "stderr",
     "output_type": "stream",
     "text": [
      "/Users/patrickaleo/miniconda3/envs/laiss/lib/python3.8/site-packages/astro_ghost/stellarLocus.py:64: RuntimeWarning: All-NaN slice encountered\n",
      "  df.loc[i,\"7DCD\"] = np.nanmin(np.array(temp_7DCD_1val))\n"
     ]
    },
    {
     "name": "stdout",
     "output_type": "stream",
     "text": [
      "Found matches for 20.0% of events.\n",
      "Saved\n",
      "\n",
      "START: 24400 END: 24500\n",
      "Finding northern sources with Pan-starrs...\n",
      "Processed 10 of 100 lines!\n",
      "Processed 20 of 100 lines!\n",
      "Processed 30 of 100 lines!\n",
      "Processed 40 of 100 lines!\n",
      "Processed 50 of 100 lines!\n",
      "Processed 60 of 100 lines!\n",
      "Processed 70 of 100 lines!\n",
      "Processed 80 of 100 lines!\n",
      "Processed 90 of 100 lines!\n",
      "Processed 100 of 100 lines!\n"
     ]
    },
    {
     "name": "stderr",
     "output_type": "stream",
     "text": [
      "/Users/patrickaleo/miniconda3/envs/laiss/lib/python3.8/site-packages/astro_ghost/stellarLocus.py:64: RuntimeWarning: All-NaN slice encountered\n",
      "  df.loc[i,\"7DCD\"] = np.nanmin(np.array(temp_7DCD_1val))\n"
     ]
    },
    {
     "name": "stdout",
     "output_type": "stream",
     "text": [
      "Found matches for 17.0% of events.\n",
      "Saved\n",
      "\n",
      "START: 24500 END: 24600\n",
      "Finding northern sources with Pan-starrs...\n",
      "Processed 10 of 100 lines!\n",
      "Processed 20 of 100 lines!\n",
      "Processed 30 of 100 lines!\n",
      "Processed 40 of 100 lines!\n",
      "Processed 50 of 100 lines!\n",
      "Processed 60 of 100 lines!\n",
      "Processed 70 of 100 lines!\n",
      "Processed 80 of 100 lines!\n",
      "Processed 90 of 100 lines!\n",
      "Processed 100 of 100 lines!\n"
     ]
    },
    {
     "name": "stderr",
     "output_type": "stream",
     "text": [
      "/Users/patrickaleo/miniconda3/envs/laiss/lib/python3.8/site-packages/astro_ghost/stellarLocus.py:64: RuntimeWarning: All-NaN slice encountered\n",
      "  df.loc[i,\"7DCD\"] = np.nanmin(np.array(temp_7DCD_1val))\n"
     ]
    },
    {
     "name": "stdout",
     "output_type": "stream",
     "text": [
      "Found matches for 12.0% of events.\n",
      "Saved\n",
      "\n",
      "START: 24600 END: 24700\n",
      "Finding northern sources with Pan-starrs...\n",
      "Processed 10 of 100 lines!\n",
      "Processed 20 of 100 lines!\n",
      "Processed 30 of 100 lines!\n",
      "Processed 40 of 100 lines!\n",
      "Processed 50 of 100 lines!\n",
      "Processed 60 of 100 lines!\n",
      "Processed 70 of 100 lines!\n",
      "Processed 80 of 100 lines!\n",
      "Processed 90 of 100 lines!\n",
      "Processed 100 of 100 lines!\n"
     ]
    },
    {
     "name": "stderr",
     "output_type": "stream",
     "text": [
      "/Users/patrickaleo/miniconda3/envs/laiss/lib/python3.8/site-packages/astro_ghost/stellarLocus.py:64: RuntimeWarning: All-NaN slice encountered\n",
      "  df.loc[i,\"7DCD\"] = np.nanmin(np.array(temp_7DCD_1val))\n"
     ]
    },
    {
     "name": "stdout",
     "output_type": "stream",
     "text": [
      "Found matches for 27.0% of events.\n",
      "Saved\n",
      "\n",
      "START: 24700 END: 24800\n",
      "Finding northern sources with Pan-starrs...\n",
      "Processed 10 of 100 lines!\n",
      "Processed 20 of 100 lines!\n",
      "Processed 30 of 100 lines!\n",
      "Processed 40 of 100 lines!\n",
      "Processed 50 of 100 lines!\n",
      "Processed 60 of 100 lines!\n",
      "Processed 70 of 100 lines!\n",
      "Processed 80 of 100 lines!\n",
      "Processed 90 of 100 lines!\n",
      "Processed 100 of 100 lines!\n"
     ]
    },
    {
     "name": "stderr",
     "output_type": "stream",
     "text": [
      "/Users/patrickaleo/miniconda3/envs/laiss/lib/python3.8/site-packages/astro_ghost/stellarLocus.py:64: RuntimeWarning: All-NaN slice encountered\n",
      "  df.loc[i,\"7DCD\"] = np.nanmin(np.array(temp_7DCD_1val))\n"
     ]
    },
    {
     "name": "stdout",
     "output_type": "stream",
     "text": [
      "Found matches for 24.0% of events.\n",
      "Saved\n",
      "\n",
      "START: 24800 END: 24900\n",
      "Finding northern sources with Pan-starrs...\n",
      "Processed 10 of 100 lines!\n",
      "Processed 20 of 100 lines!\n",
      "Processed 30 of 100 lines!\n",
      "Processed 40 of 100 lines!\n",
      "Processed 50 of 100 lines!\n",
      "Processed 60 of 100 lines!\n",
      "Processed 70 of 100 lines!\n",
      "Processed 80 of 100 lines!\n",
      "Processed 90 of 100 lines!\n",
      "Processed 100 of 100 lines!\n"
     ]
    },
    {
     "name": "stderr",
     "output_type": "stream",
     "text": [
      "/Users/patrickaleo/miniconda3/envs/laiss/lib/python3.8/site-packages/astro_ghost/stellarLocus.py:64: RuntimeWarning: All-NaN slice encountered\n",
      "  df.loc[i,\"7DCD\"] = np.nanmin(np.array(temp_7DCD_1val))\n"
     ]
    },
    {
     "name": "stdout",
     "output_type": "stream",
     "text": [
      "Found matches for 22.0% of events.\n",
      "Saved\n",
      "\n",
      "START: 24900 END: 25000\n",
      "Finding northern sources with Pan-starrs...\n",
      "Processed 10 of 100 lines!\n",
      "Processed 20 of 100 lines!\n",
      "Processed 30 of 100 lines!\n",
      "Processed 40 of 100 lines!\n",
      "Processed 50 of 100 lines!\n",
      "Processed 60 of 100 lines!\n",
      "Processed 70 of 100 lines!\n",
      "Processed 80 of 100 lines!\n",
      "Processed 90 of 100 lines!\n",
      "Processed 100 of 100 lines!\n"
     ]
    },
    {
     "name": "stderr",
     "output_type": "stream",
     "text": [
      "/Users/patrickaleo/miniconda3/envs/laiss/lib/python3.8/site-packages/astro_ghost/stellarLocus.py:64: RuntimeWarning: All-NaN slice encountered\n",
      "  df.loc[i,\"7DCD\"] = np.nanmin(np.array(temp_7DCD_1val))\n"
     ]
    },
    {
     "name": "stdout",
     "output_type": "stream",
     "text": [
      "Found matches for 11.0% of events.\n",
      "Saved\n",
      "\n",
      "START: 25000 END: 25100\n",
      "Finding northern sources with Pan-starrs...\n",
      "Processed 10 of 100 lines!\n",
      "Processed 20 of 100 lines!\n",
      "Processed 30 of 100 lines!\n",
      "Processed 40 of 100 lines!\n",
      "Processed 50 of 100 lines!\n",
      "Processed 60 of 100 lines!\n",
      "Processed 70 of 100 lines!\n",
      "Processed 80 of 100 lines!\n",
      "Processed 90 of 100 lines!\n",
      "Processed 100 of 100 lines!\n"
     ]
    },
    {
     "name": "stderr",
     "output_type": "stream",
     "text": [
      "/Users/patrickaleo/miniconda3/envs/laiss/lib/python3.8/site-packages/astro_ghost/stellarLocus.py:64: RuntimeWarning: All-NaN slice encountered\n",
      "  df.loc[i,\"7DCD\"] = np.nanmin(np.array(temp_7DCD_1val))\n"
     ]
    },
    {
     "name": "stdout",
     "output_type": "stream",
     "text": [
      "Found matches for 27.0% of events.\n",
      "Saved\n",
      "\n",
      "START: 25100 END: 25200\n",
      "Finding northern sources with Pan-starrs...\n",
      "Processed 10 of 100 lines!\n",
      "Processed 20 of 100 lines!\n",
      "Processed 30 of 100 lines!\n",
      "Processed 40 of 100 lines!\n",
      "Processed 50 of 100 lines!\n",
      "Processed 60 of 100 lines!\n",
      "Processed 70 of 100 lines!\n",
      "Processed 80 of 100 lines!\n",
      "Processed 90 of 100 lines!\n",
      "Processed 100 of 100 lines!\n"
     ]
    },
    {
     "name": "stderr",
     "output_type": "stream",
     "text": [
      "/Users/patrickaleo/miniconda3/envs/laiss/lib/python3.8/site-packages/astro_ghost/stellarLocus.py:64: RuntimeWarning: All-NaN slice encountered\n",
      "  df.loc[i,\"7DCD\"] = np.nanmin(np.array(temp_7DCD_1val))\n"
     ]
    },
    {
     "name": "stdout",
     "output_type": "stream",
     "text": [
      "Found matches for 31.0% of events.\n",
      "Saved\n",
      "\n",
      "START: 25200 END: 25300\n",
      "Finding northern sources with Pan-starrs...\n",
      "Processed 10 of 100 lines!\n",
      "Processed 20 of 100 lines!\n",
      "Processed 30 of 100 lines!\n",
      "Processed 40 of 100 lines!\n",
      "Processed 50 of 100 lines!\n",
      "Processed 60 of 100 lines!\n",
      "Processed 70 of 100 lines!\n",
      "Processed 80 of 100 lines!\n",
      "Processed 90 of 100 lines!\n",
      "Processed 100 of 100 lines!\n"
     ]
    },
    {
     "name": "stderr",
     "output_type": "stream",
     "text": [
      "/Users/patrickaleo/miniconda3/envs/laiss/lib/python3.8/site-packages/astro_ghost/stellarLocus.py:64: RuntimeWarning: All-NaN slice encountered\n",
      "  df.loc[i,\"7DCD\"] = np.nanmin(np.array(temp_7DCD_1val))\n"
     ]
    },
    {
     "name": "stdout",
     "output_type": "stream",
     "text": [
      "Found matches for 33.0% of events.\n",
      "Saved\n",
      "\n",
      "START: 25300 END: 25400\n",
      "Finding northern sources with Pan-starrs...\n",
      "Processed 10 of 100 lines!\n",
      "Processed 20 of 100 lines!\n",
      "Processed 30 of 100 lines!\n",
      "Processed 40 of 100 lines!\n",
      "Processed 50 of 100 lines!\n",
      "Processed 60 of 100 lines!\n",
      "Processed 70 of 100 lines!\n",
      "Processed 80 of 100 lines!\n",
      "Processed 90 of 100 lines!\n",
      "Processed 100 of 100 lines!\n"
     ]
    },
    {
     "name": "stderr",
     "output_type": "stream",
     "text": [
      "/Users/patrickaleo/miniconda3/envs/laiss/lib/python3.8/site-packages/astro_ghost/stellarLocus.py:64: RuntimeWarning: All-NaN slice encountered\n",
      "  df.loc[i,\"7DCD\"] = np.nanmin(np.array(temp_7DCD_1val))\n"
     ]
    },
    {
     "name": "stdout",
     "output_type": "stream",
     "text": [
      "Found matches for 33.0% of events.\n",
      "Saved\n",
      "\n",
      "START: 25400 END: 25500\n",
      "Finding northern sources with Pan-starrs...\n",
      "Processed 10 of 100 lines!\n",
      "Processed 20 of 100 lines!\n",
      "Processed 30 of 100 lines!\n",
      "Processed 40 of 100 lines!\n",
      "Processed 50 of 100 lines!\n",
      "Processed 60 of 100 lines!\n",
      "Processed 70 of 100 lines!\n",
      "Processed 80 of 100 lines!\n",
      "Processed 90 of 100 lines!\n",
      "Processed 100 of 100 lines!\n"
     ]
    },
    {
     "name": "stderr",
     "output_type": "stream",
     "text": [
      "/Users/patrickaleo/miniconda3/envs/laiss/lib/python3.8/site-packages/astro_ghost/stellarLocus.py:64: RuntimeWarning: All-NaN slice encountered\n",
      "  df.loc[i,\"7DCD\"] = np.nanmin(np.array(temp_7DCD_1val))\n"
     ]
    },
    {
     "name": "stdout",
     "output_type": "stream",
     "text": [
      "Found matches for 25.0% of events.\n",
      "Saved\n",
      "\n",
      "START: 25500 END: 25600\n",
      "Finding northern sources with Pan-starrs...\n",
      "Processed 10 of 100 lines!\n",
      "Processed 20 of 100 lines!\n",
      "Processed 30 of 100 lines!\n",
      "Processed 40 of 100 lines!\n",
      "Processed 50 of 100 lines!\n",
      "Processed 60 of 100 lines!\n",
      "Processed 70 of 100 lines!\n",
      "Processed 80 of 100 lines!\n",
      "Processed 90 of 100 lines!\n",
      "Processed 100 of 100 lines!\n"
     ]
    },
    {
     "name": "stderr",
     "output_type": "stream",
     "text": [
      "/Users/patrickaleo/miniconda3/envs/laiss/lib/python3.8/site-packages/astro_ghost/stellarLocus.py:64: RuntimeWarning: All-NaN slice encountered\n",
      "  df.loc[i,\"7DCD\"] = np.nanmin(np.array(temp_7DCD_1val))\n"
     ]
    },
    {
     "name": "stdout",
     "output_type": "stream",
     "text": [
      "Found matches for 23.0% of events.\n",
      "Saved\n",
      "\n",
      "START: 25600 END: 25700\n",
      "Finding northern sources with Pan-starrs...\n",
      "Processed 10 of 100 lines!\n",
      "Processed 20 of 100 lines!\n",
      "Processed 30 of 100 lines!\n",
      "Processed 40 of 100 lines!\n",
      "Processed 50 of 100 lines!\n",
      "Processed 60 of 100 lines!\n",
      "Processed 70 of 100 lines!\n",
      "Processed 80 of 100 lines!\n",
      "Processed 90 of 100 lines!\n",
      "Processed 100 of 100 lines!\n"
     ]
    },
    {
     "name": "stderr",
     "output_type": "stream",
     "text": [
      "/Users/patrickaleo/miniconda3/envs/laiss/lib/python3.8/site-packages/astro_ghost/stellarLocus.py:64: RuntimeWarning: All-NaN slice encountered\n",
      "  df.loc[i,\"7DCD\"] = np.nanmin(np.array(temp_7DCD_1val))\n"
     ]
    },
    {
     "name": "stdout",
     "output_type": "stream",
     "text": [
      "Found matches for 29.0% of events.\n",
      "Saved\n",
      "\n",
      "START: 25700 END: 25800\n",
      "Finding northern sources with Pan-starrs...\n",
      "Processed 10 of 100 lines!\n",
      "Processed 20 of 100 lines!\n",
      "Processed 30 of 100 lines!\n",
      "Processed 40 of 100 lines!\n",
      "Processed 50 of 100 lines!\n",
      "Processed 60 of 100 lines!\n",
      "Processed 70 of 100 lines!\n",
      "Processed 80 of 100 lines!\n",
      "Processed 90 of 100 lines!\n",
      "Processed 100 of 100 lines!\n"
     ]
    },
    {
     "name": "stderr",
     "output_type": "stream",
     "text": [
      "/Users/patrickaleo/miniconda3/envs/laiss/lib/python3.8/site-packages/astro_ghost/stellarLocus.py:64: RuntimeWarning: All-NaN slice encountered\n",
      "  df.loc[i,\"7DCD\"] = np.nanmin(np.array(temp_7DCD_1val))\n"
     ]
    },
    {
     "name": "stdout",
     "output_type": "stream",
     "text": [
      "Found matches for 21.0% of events.\n",
      "Saved\n",
      "\n",
      "START: 25800 END: 25900\n",
      "Finding northern sources with Pan-starrs...\n",
      "Processed 10 of 100 lines!\n",
      "Processed 20 of 100 lines!\n",
      "Processed 30 of 100 lines!\n",
      "Processed 40 of 100 lines!\n",
      "Processed 50 of 100 lines!\n",
      "Processed 60 of 100 lines!\n",
      "Processed 70 of 100 lines!\n",
      "Processed 80 of 100 lines!\n",
      "Processed 90 of 100 lines!\n",
      "Processed 100 of 100 lines!\n"
     ]
    },
    {
     "name": "stderr",
     "output_type": "stream",
     "text": [
      "/Users/patrickaleo/miniconda3/envs/laiss/lib/python3.8/site-packages/astro_ghost/stellarLocus.py:64: RuntimeWarning: All-NaN slice encountered\n",
      "  df.loc[i,\"7DCD\"] = np.nanmin(np.array(temp_7DCD_1val))\n"
     ]
    },
    {
     "name": "stdout",
     "output_type": "stream",
     "text": [
      "Found matches for 24.0% of events.\n",
      "Saved\n",
      "\n",
      "START: 25900 END: 26000\n",
      "Finding northern sources with Pan-starrs...\n",
      "Processed 10 of 100 lines!\n",
      "Processed 20 of 100 lines!\n",
      "Processed 30 of 100 lines!\n",
      "Processed 40 of 100 lines!\n",
      "Processed 50 of 100 lines!\n",
      "Processed 60 of 100 lines!\n",
      "Processed 70 of 100 lines!\n",
      "Processed 80 of 100 lines!\n",
      "Processed 90 of 100 lines!\n",
      "Processed 100 of 100 lines!\n"
     ]
    },
    {
     "name": "stderr",
     "output_type": "stream",
     "text": [
      "/Users/patrickaleo/miniconda3/envs/laiss/lib/python3.8/site-packages/astro_ghost/stellarLocus.py:64: RuntimeWarning: All-NaN slice encountered\n",
      "  df.loc[i,\"7DCD\"] = np.nanmin(np.array(temp_7DCD_1val))\n"
     ]
    },
    {
     "name": "stdout",
     "output_type": "stream",
     "text": [
      "Found matches for 17.0% of events.\n",
      "Saved\n",
      "\n",
      "START: 26000 END: 26100\n",
      "Finding northern sources with Pan-starrs...\n",
      "Processed 10 of 100 lines!\n",
      "Processed 20 of 100 lines!\n",
      "Processed 30 of 100 lines!\n",
      "Processed 40 of 100 lines!\n",
      "Processed 50 of 100 lines!\n",
      "Processed 60 of 100 lines!\n",
      "Processed 70 of 100 lines!\n",
      "Processed 80 of 100 lines!\n",
      "Processed 90 of 100 lines!\n",
      "Processed 100 of 100 lines!\n"
     ]
    },
    {
     "name": "stderr",
     "output_type": "stream",
     "text": [
      "/Users/patrickaleo/miniconda3/envs/laiss/lib/python3.8/site-packages/astro_ghost/stellarLocus.py:64: RuntimeWarning: All-NaN slice encountered\n",
      "  df.loc[i,\"7DCD\"] = np.nanmin(np.array(temp_7DCD_1val))\n"
     ]
    },
    {
     "name": "stdout",
     "output_type": "stream",
     "text": [
      "Found matches for 23.0% of events.\n",
      "Saved\n",
      "\n",
      "START: 26100 END: 26200\n",
      "Finding northern sources with Pan-starrs...\n",
      "Processed 10 of 100 lines!\n",
      "Processed 20 of 100 lines!\n",
      "Processed 30 of 100 lines!\n",
      "Processed 40 of 100 lines!\n",
      "Processed 50 of 100 lines!\n",
      "Processed 60 of 100 lines!\n",
      "Processed 70 of 100 lines!\n",
      "Processed 80 of 100 lines!\n",
      "Processed 90 of 100 lines!\n",
      "Processed 100 of 100 lines!\n"
     ]
    },
    {
     "name": "stderr",
     "output_type": "stream",
     "text": [
      "/Users/patrickaleo/miniconda3/envs/laiss/lib/python3.8/site-packages/astro_ghost/stellarLocus.py:64: RuntimeWarning: All-NaN slice encountered\n",
      "  df.loc[i,\"7DCD\"] = np.nanmin(np.array(temp_7DCD_1val))\n"
     ]
    },
    {
     "name": "stdout",
     "output_type": "stream",
     "text": [
      "Found matches for 27.0% of events.\n",
      "Saved\n",
      "\n",
      "START: 26200 END: 26300\n",
      "Finding northern sources with Pan-starrs...\n",
      "Processed 10 of 100 lines!\n",
      "Processed 20 of 100 lines!\n",
      "Processed 30 of 100 lines!\n",
      "Processed 40 of 100 lines!\n",
      "Processed 50 of 100 lines!\n",
      "Processed 60 of 100 lines!\n",
      "Processed 70 of 100 lines!\n",
      "Processed 80 of 100 lines!\n",
      "Processed 90 of 100 lines!\n",
      "Processed 100 of 100 lines!\n"
     ]
    },
    {
     "name": "stderr",
     "output_type": "stream",
     "text": [
      "/Users/patrickaleo/miniconda3/envs/laiss/lib/python3.8/site-packages/astro_ghost/stellarLocus.py:64: RuntimeWarning: All-NaN slice encountered\n",
      "  df.loc[i,\"7DCD\"] = np.nanmin(np.array(temp_7DCD_1val))\n"
     ]
    },
    {
     "name": "stdout",
     "output_type": "stream",
     "text": [
      "Found matches for 17.0% of events.\n",
      "Saved\n",
      "\n",
      "START: 26300 END: 26400\n",
      "Finding northern sources with Pan-starrs...\n",
      "Processed 10 of 100 lines!\n",
      "Processed 20 of 100 lines!\n",
      "Processed 30 of 100 lines!\n",
      "Processed 40 of 100 lines!\n",
      "Processed 50 of 100 lines!\n",
      "Processed 60 of 100 lines!\n",
      "Processed 70 of 100 lines!\n",
      "Processed 80 of 100 lines!\n",
      "Processed 90 of 100 lines!\n",
      "Processed 100 of 100 lines!\n"
     ]
    },
    {
     "name": "stderr",
     "output_type": "stream",
     "text": [
      "/Users/patrickaleo/miniconda3/envs/laiss/lib/python3.8/site-packages/astro_ghost/stellarLocus.py:64: RuntimeWarning: All-NaN slice encountered\n",
      "  df.loc[i,\"7DCD\"] = np.nanmin(np.array(temp_7DCD_1val))\n"
     ]
    },
    {
     "name": "stdout",
     "output_type": "stream",
     "text": [
      "Found matches for 20.0% of events.\n",
      "Saved\n",
      "\n",
      "START: 26400 END: 26500\n",
      "Finding northern sources with Pan-starrs...\n",
      "Processed 10 of 100 lines!\n",
      "Processed 20 of 100 lines!\n",
      "Processed 30 of 100 lines!\n",
      "Processed 40 of 100 lines!\n",
      "Processed 50 of 100 lines!\n",
      "Processed 60 of 100 lines!\n",
      "Processed 70 of 100 lines!\n",
      "Processed 80 of 100 lines!\n",
      "Processed 90 of 100 lines!\n",
      "Processed 100 of 100 lines!\n"
     ]
    },
    {
     "name": "stderr",
     "output_type": "stream",
     "text": [
      "/Users/patrickaleo/miniconda3/envs/laiss/lib/python3.8/site-packages/astro_ghost/stellarLocus.py:64: RuntimeWarning: All-NaN slice encountered\n",
      "  df.loc[i,\"7DCD\"] = np.nanmin(np.array(temp_7DCD_1val))\n"
     ]
    },
    {
     "name": "stdout",
     "output_type": "stream",
     "text": [
      "Found matches for 25.0% of events.\n",
      "Saved\n",
      "\n",
      "START: 26500 END: 26600\n",
      "Finding northern sources with Pan-starrs...\n",
      "Processed 10 of 100 lines!\n",
      "Processed 20 of 100 lines!\n",
      "Processed 30 of 100 lines!\n",
      "Processed 40 of 100 lines!\n",
      "Processed 50 of 100 lines!\n",
      "Processed 60 of 100 lines!\n",
      "Processed 70 of 100 lines!\n",
      "Processed 80 of 100 lines!\n",
      "Processed 90 of 100 lines!\n",
      "Processed 100 of 100 lines!\n"
     ]
    },
    {
     "name": "stderr",
     "output_type": "stream",
     "text": [
      "/Users/patrickaleo/miniconda3/envs/laiss/lib/python3.8/site-packages/astro_ghost/stellarLocus.py:64: RuntimeWarning: All-NaN slice encountered\n",
      "  df.loc[i,\"7DCD\"] = np.nanmin(np.array(temp_7DCD_1val))\n"
     ]
    },
    {
     "name": "stdout",
     "output_type": "stream",
     "text": [
      "Found matches for 30.0% of events.\n",
      "Saved\n",
      "\n",
      "START: 26600 END: 26700\n",
      "Finding northern sources with Pan-starrs...\n",
      "Processed 10 of 100 lines!\n",
      "Processed 20 of 100 lines!\n",
      "Processed 30 of 100 lines!\n",
      "Processed 40 of 100 lines!\n",
      "Processed 50 of 100 lines!\n",
      "Processed 60 of 100 lines!\n",
      "Processed 70 of 100 lines!\n",
      "Processed 80 of 100 lines!\n",
      "Processed 90 of 100 lines!\n",
      "Processed 100 of 100 lines!\n"
     ]
    },
    {
     "name": "stderr",
     "output_type": "stream",
     "text": [
      "/Users/patrickaleo/miniconda3/envs/laiss/lib/python3.8/site-packages/astro_ghost/stellarLocus.py:64: RuntimeWarning: All-NaN slice encountered\n",
      "  df.loc[i,\"7DCD\"] = np.nanmin(np.array(temp_7DCD_1val))\n"
     ]
    },
    {
     "name": "stdout",
     "output_type": "stream",
     "text": [
      "Found matches for 31.0% of events.\n",
      "Saved\n",
      "\n",
      "START: 26700 END: 26800\n",
      "Finding northern sources with Pan-starrs...\n",
      "Processed 10 of 100 lines!\n",
      "Processed 20 of 100 lines!\n",
      "Processed 30 of 100 lines!\n",
      "Processed 40 of 100 lines!\n",
      "Processed 50 of 100 lines!\n",
      "Processed 60 of 100 lines!\n",
      "Processed 70 of 100 lines!\n",
      "Processed 80 of 100 lines!\n",
      "Processed 90 of 100 lines!\n",
      "Processed 100 of 100 lines!\n"
     ]
    },
    {
     "name": "stderr",
     "output_type": "stream",
     "text": [
      "/Users/patrickaleo/miniconda3/envs/laiss/lib/python3.8/site-packages/astro_ghost/stellarLocus.py:64: RuntimeWarning: All-NaN slice encountered\n",
      "  df.loc[i,\"7DCD\"] = np.nanmin(np.array(temp_7DCD_1val))\n"
     ]
    },
    {
     "name": "stdout",
     "output_type": "stream",
     "text": [
      "Found matches for 19.0% of events.\n",
      "Saved\n",
      "\n",
      "START: 26800 END: 26900\n",
      "Finding northern sources with Pan-starrs...\n",
      "Processed 10 of 100 lines!\n",
      "Processed 20 of 100 lines!\n",
      "Processed 30 of 100 lines!\n",
      "Processed 40 of 100 lines!\n",
      "Processed 50 of 100 lines!\n",
      "Processed 60 of 100 lines!\n",
      "Processed 70 of 100 lines!\n",
      "Processed 80 of 100 lines!\n",
      "Processed 90 of 100 lines!\n",
      "Processed 100 of 100 lines!\n"
     ]
    },
    {
     "name": "stderr",
     "output_type": "stream",
     "text": [
      "/Users/patrickaleo/miniconda3/envs/laiss/lib/python3.8/site-packages/astro_ghost/stellarLocus.py:64: RuntimeWarning: All-NaN slice encountered\n",
      "  df.loc[i,\"7DCD\"] = np.nanmin(np.array(temp_7DCD_1val))\n"
     ]
    },
    {
     "name": "stdout",
     "output_type": "stream",
     "text": [
      "Found matches for 34.0% of events.\n",
      "Saved\n",
      "\n",
      "START: 26900 END: 27000\n",
      "Finding northern sources with Pan-starrs...\n",
      "Processed 10 of 100 lines!\n",
      "Processed 20 of 100 lines!\n",
      "Processed 30 of 100 lines!\n",
      "Processed 40 of 100 lines!\n",
      "Processed 50 of 100 lines!\n",
      "Processed 60 of 100 lines!\n",
      "Processed 70 of 100 lines!\n",
      "Processed 80 of 100 lines!\n",
      "Processed 90 of 100 lines!\n",
      "Processed 100 of 100 lines!\n"
     ]
    },
    {
     "name": "stderr",
     "output_type": "stream",
     "text": [
      "/Users/patrickaleo/miniconda3/envs/laiss/lib/python3.8/site-packages/astro_ghost/stellarLocus.py:64: RuntimeWarning: All-NaN slice encountered\n",
      "  df.loc[i,\"7DCD\"] = np.nanmin(np.array(temp_7DCD_1val))\n"
     ]
    },
    {
     "name": "stdout",
     "output_type": "stream",
     "text": [
      "Found matches for 34.0% of events.\n",
      "Saved\n",
      "\n",
      "START: 27000 END: 27100\n",
      "Finding northern sources with Pan-starrs...\n",
      "Processed 10 of 100 lines!\n",
      "Processed 20 of 100 lines!\n",
      "Processed 30 of 100 lines!\n",
      "Processed 40 of 100 lines!\n",
      "Processed 50 of 100 lines!\n",
      "Processed 60 of 100 lines!\n",
      "Processed 70 of 100 lines!\n",
      "Processed 80 of 100 lines!\n",
      "Processed 90 of 100 lines!\n",
      "Processed 100 of 100 lines!\n"
     ]
    },
    {
     "name": "stderr",
     "output_type": "stream",
     "text": [
      "/Users/patrickaleo/miniconda3/envs/laiss/lib/python3.8/site-packages/astro_ghost/stellarLocus.py:64: RuntimeWarning: All-NaN slice encountered\n",
      "  df.loc[i,\"7DCD\"] = np.nanmin(np.array(temp_7DCD_1val))\n"
     ]
    },
    {
     "name": "stdout",
     "output_type": "stream",
     "text": [
      "Found matches for 6.0% of events.\n",
      "Saved\n",
      "\n",
      "START: 27100 END: 27200\n",
      "Finding northern sources with Pan-starrs...\n",
      "Processed 10 of 100 lines!\n",
      "Processed 20 of 100 lines!\n",
      "Processed 30 of 100 lines!\n",
      "Processed 40 of 100 lines!\n",
      "Processed 50 of 100 lines!\n",
      "Processed 60 of 100 lines!\n",
      "Processed 70 of 100 lines!\n",
      "Processed 80 of 100 lines!\n",
      "Processed 90 of 100 lines!\n",
      "Processed 100 of 100 lines!\n"
     ]
    },
    {
     "name": "stderr",
     "output_type": "stream",
     "text": [
      "/Users/patrickaleo/miniconda3/envs/laiss/lib/python3.8/site-packages/astro_ghost/stellarLocus.py:64: RuntimeWarning: All-NaN slice encountered\n",
      "  df.loc[i,\"7DCD\"] = np.nanmin(np.array(temp_7DCD_1val))\n"
     ]
    },
    {
     "name": "stdout",
     "output_type": "stream",
     "text": [
      "Found matches for 23.0% of events.\n",
      "Saved\n",
      "\n",
      "START: 27200 END: 27300\n",
      "Finding northern sources with Pan-starrs...\n",
      "Processed 10 of 100 lines!\n",
      "Processed 20 of 100 lines!\n",
      "Processed 30 of 100 lines!\n",
      "Processed 40 of 100 lines!\n",
      "Processed 50 of 100 lines!\n",
      "Processed 60 of 100 lines!\n",
      "Processed 70 of 100 lines!\n",
      "Processed 80 of 100 lines!\n",
      "Processed 90 of 100 lines!\n",
      "Processed 100 of 100 lines!\n"
     ]
    },
    {
     "name": "stderr",
     "output_type": "stream",
     "text": [
      "/Users/patrickaleo/miniconda3/envs/laiss/lib/python3.8/site-packages/astro_ghost/stellarLocus.py:64: RuntimeWarning: All-NaN slice encountered\n",
      "  df.loc[i,\"7DCD\"] = np.nanmin(np.array(temp_7DCD_1val))\n"
     ]
    },
    {
     "name": "stdout",
     "output_type": "stream",
     "text": [
      "Found matches for 33.0% of events.\n",
      "Saved\n",
      "\n",
      "START: 27300 END: 27400\n",
      "Finding northern sources with Pan-starrs...\n",
      "Processed 10 of 100 lines!\n",
      "Processed 20 of 100 lines!\n",
      "Processed 30 of 100 lines!\n",
      "Processed 40 of 100 lines!\n",
      "Processed 50 of 100 lines!\n",
      "Processed 60 of 100 lines!\n",
      "Processed 70 of 100 lines!\n",
      "Processed 80 of 100 lines!\n",
      "Processed 90 of 100 lines!\n",
      "Processed 100 of 100 lines!\n"
     ]
    },
    {
     "name": "stderr",
     "output_type": "stream",
     "text": [
      "/Users/patrickaleo/miniconda3/envs/laiss/lib/python3.8/site-packages/astro_ghost/stellarLocus.py:64: RuntimeWarning: All-NaN slice encountered\n",
      "  df.loc[i,\"7DCD\"] = np.nanmin(np.array(temp_7DCD_1val))\n"
     ]
    },
    {
     "name": "stdout",
     "output_type": "stream",
     "text": [
      "Found matches for 35.0% of events.\n",
      "Saved\n",
      "\n",
      "START: 27400 END: 27500\n",
      "Finding northern sources with Pan-starrs...\n",
      "Processed 10 of 100 lines!\n",
      "Processed 20 of 100 lines!\n",
      "Processed 30 of 100 lines!\n",
      "Processed 40 of 100 lines!\n",
      "Processed 50 of 100 lines!\n",
      "Processed 60 of 100 lines!\n",
      "Processed 70 of 100 lines!\n",
      "Processed 80 of 100 lines!\n",
      "Processed 90 of 100 lines!\n",
      "Processed 100 of 100 lines!\n"
     ]
    },
    {
     "name": "stderr",
     "output_type": "stream",
     "text": [
      "/Users/patrickaleo/miniconda3/envs/laiss/lib/python3.8/site-packages/astro_ghost/stellarLocus.py:64: RuntimeWarning: All-NaN slice encountered\n",
      "  df.loc[i,\"7DCD\"] = np.nanmin(np.array(temp_7DCD_1val))\n"
     ]
    },
    {
     "name": "stdout",
     "output_type": "stream",
     "text": [
      "Found matches for 29.0% of events.\n",
      "Saved\n",
      "\n",
      "START: 27500 END: 27600\n",
      "Finding northern sources with Pan-starrs...\n",
      "Processed 10 of 100 lines!\n",
      "Processed 20 of 100 lines!\n",
      "Processed 30 of 100 lines!\n",
      "Processed 40 of 100 lines!\n",
      "Processed 50 of 100 lines!\n",
      "Processed 60 of 100 lines!\n",
      "Processed 70 of 100 lines!\n",
      "Processed 80 of 100 lines!\n",
      "Processed 90 of 100 lines!\n",
      "Processed 100 of 100 lines!\n"
     ]
    },
    {
     "name": "stderr",
     "output_type": "stream",
     "text": [
      "/Users/patrickaleo/miniconda3/envs/laiss/lib/python3.8/site-packages/astro_ghost/stellarLocus.py:64: RuntimeWarning: All-NaN slice encountered\n",
      "  df.loc[i,\"7DCD\"] = np.nanmin(np.array(temp_7DCD_1val))\n"
     ]
    },
    {
     "name": "stdout",
     "output_type": "stream",
     "text": [
      "Found matches for 41.0% of events.\n",
      "Saved\n",
      "\n",
      "START: 27600 END: 27700\n",
      "Finding northern sources with Pan-starrs...\n",
      "Processed 10 of 100 lines!\n",
      "Processed 20 of 100 lines!\n",
      "Processed 30 of 100 lines!\n",
      "Processed 40 of 100 lines!\n",
      "Processed 50 of 100 lines!\n",
      "Processed 60 of 100 lines!\n",
      "Processed 70 of 100 lines!\n",
      "Processed 80 of 100 lines!\n",
      "Processed 90 of 100 lines!\n",
      "Processed 100 of 100 lines!\n"
     ]
    },
    {
     "name": "stderr",
     "output_type": "stream",
     "text": [
      "/Users/patrickaleo/miniconda3/envs/laiss/lib/python3.8/site-packages/astro_ghost/stellarLocus.py:64: RuntimeWarning: All-NaN slice encountered\n",
      "  df.loc[i,\"7DCD\"] = np.nanmin(np.array(temp_7DCD_1val))\n"
     ]
    },
    {
     "name": "stdout",
     "output_type": "stream",
     "text": [
      "Found matches for 39.0% of events.\n",
      "Saved\n",
      "\n",
      "START: 27700 END: 27800\n",
      "Finding northern sources with Pan-starrs...\n",
      "Processed 10 of 100 lines!\n",
      "Processed 20 of 100 lines!\n",
      "Processed 30 of 100 lines!\n",
      "Processed 40 of 100 lines!\n",
      "Processed 50 of 100 lines!\n",
      "Processed 60 of 100 lines!\n",
      "Processed 70 of 100 lines!\n",
      "Processed 80 of 100 lines!\n",
      "Processed 90 of 100 lines!\n",
      "Processed 100 of 100 lines!\n"
     ]
    },
    {
     "name": "stderr",
     "output_type": "stream",
     "text": [
      "/Users/patrickaleo/miniconda3/envs/laiss/lib/python3.8/site-packages/astro_ghost/stellarLocus.py:64: RuntimeWarning: All-NaN slice encountered\n",
      "  df.loc[i,\"7DCD\"] = np.nanmin(np.array(temp_7DCD_1val))\n"
     ]
    },
    {
     "name": "stdout",
     "output_type": "stream",
     "text": [
      "Found matches for 35.0% of events.\n",
      "Saved\n",
      "\n",
      "START: 27800 END: 27900\n",
      "Finding northern sources with Pan-starrs...\n",
      "Processed 10 of 100 lines!\n",
      "Processed 20 of 100 lines!\n",
      "Processed 30 of 100 lines!\n",
      "Processed 40 of 100 lines!\n",
      "Processed 50 of 100 lines!\n",
      "Processed 60 of 100 lines!\n",
      "Processed 70 of 100 lines!\n",
      "Processed 80 of 100 lines!\n",
      "Processed 90 of 100 lines!\n",
      "Processed 100 of 100 lines!\n"
     ]
    },
    {
     "name": "stderr",
     "output_type": "stream",
     "text": [
      "/Users/patrickaleo/miniconda3/envs/laiss/lib/python3.8/site-packages/astro_ghost/stellarLocus.py:64: RuntimeWarning: All-NaN slice encountered\n",
      "  df.loc[i,\"7DCD\"] = np.nanmin(np.array(temp_7DCD_1val))\n"
     ]
    },
    {
     "name": "stdout",
     "output_type": "stream",
     "text": [
      "Found matches for 32.0% of events.\n",
      "Saved\n",
      "\n",
      "START: 27900 END: 28000\n",
      "Finding northern sources with Pan-starrs...\n",
      "Processed 10 of 100 lines!\n",
      "Processed 20 of 100 lines!\n",
      "Processed 30 of 100 lines!\n",
      "Processed 40 of 100 lines!\n",
      "Processed 50 of 100 lines!\n",
      "Processed 60 of 100 lines!\n",
      "Processed 70 of 100 lines!\n",
      "Processed 80 of 100 lines!\n",
      "Processed 90 of 100 lines!\n",
      "Processed 100 of 100 lines!\n"
     ]
    },
    {
     "name": "stderr",
     "output_type": "stream",
     "text": [
      "/Users/patrickaleo/miniconda3/envs/laiss/lib/python3.8/site-packages/astro_ghost/stellarLocus.py:64: RuntimeWarning: All-NaN slice encountered\n",
      "  df.loc[i,\"7DCD\"] = np.nanmin(np.array(temp_7DCD_1val))\n"
     ]
    },
    {
     "name": "stdout",
     "output_type": "stream",
     "text": [
      "Found matches for 27.0% of events.\n",
      "Saved\n",
      "\n",
      "START: 28000 END: 28100\n",
      "Finding northern sources with Pan-starrs...\n",
      "Processed 10 of 100 lines!\n",
      "Processed 20 of 100 lines!\n",
      "Processed 30 of 100 lines!\n",
      "Processed 40 of 100 lines!\n",
      "Processed 50 of 100 lines!\n",
      "Processed 60 of 100 lines!\n",
      "Processed 70 of 100 lines!\n",
      "Processed 80 of 100 lines!\n",
      "Processed 90 of 100 lines!\n",
      "Processed 100 of 100 lines!\n"
     ]
    },
    {
     "name": "stderr",
     "output_type": "stream",
     "text": [
      "/Users/patrickaleo/miniconda3/envs/laiss/lib/python3.8/site-packages/astro_ghost/stellarLocus.py:64: RuntimeWarning: All-NaN slice encountered\n",
      "  df.loc[i,\"7DCD\"] = np.nanmin(np.array(temp_7DCD_1val))\n"
     ]
    },
    {
     "name": "stdout",
     "output_type": "stream",
     "text": [
      "Found matches for 34.0% of events.\n",
      "Saved\n",
      "\n",
      "START: 28100 END: 28200\n",
      "Finding northern sources with Pan-starrs...\n",
      "Processed 10 of 100 lines!\n",
      "Processed 20 of 100 lines!\n",
      "Processed 30 of 100 lines!\n",
      "Processed 40 of 100 lines!\n",
      "Processed 50 of 100 lines!\n",
      "Processed 60 of 100 lines!\n",
      "Processed 70 of 100 lines!\n",
      "Processed 80 of 100 lines!\n",
      "Processed 90 of 100 lines!\n",
      "Processed 100 of 100 lines!\n"
     ]
    },
    {
     "name": "stderr",
     "output_type": "stream",
     "text": [
      "/Users/patrickaleo/miniconda3/envs/laiss/lib/python3.8/site-packages/astro_ghost/stellarLocus.py:64: RuntimeWarning: All-NaN slice encountered\n",
      "  df.loc[i,\"7DCD\"] = np.nanmin(np.array(temp_7DCD_1val))\n"
     ]
    },
    {
     "name": "stdout",
     "output_type": "stream",
     "text": [
      "Found matches for 35.0% of events.\n",
      "Saved\n",
      "\n",
      "START: 28200 END: 28300\n",
      "Finding northern sources with Pan-starrs...\n",
      "Processed 10 of 100 lines!\n",
      "Processed 20 of 100 lines!\n",
      "Processed 30 of 100 lines!\n",
      "Processed 40 of 100 lines!\n",
      "Processed 50 of 100 lines!\n",
      "Processed 60 of 100 lines!\n",
      "Processed 70 of 100 lines!\n",
      "Processed 80 of 100 lines!\n",
      "Processed 90 of 100 lines!\n",
      "Processed 100 of 100 lines!\n"
     ]
    },
    {
     "name": "stderr",
     "output_type": "stream",
     "text": [
      "/Users/patrickaleo/miniconda3/envs/laiss/lib/python3.8/site-packages/astro_ghost/stellarLocus.py:64: RuntimeWarning: All-NaN slice encountered\n",
      "  df.loc[i,\"7DCD\"] = np.nanmin(np.array(temp_7DCD_1val))\n"
     ]
    },
    {
     "name": "stdout",
     "output_type": "stream",
     "text": [
      "Found matches for 32.0% of events.\n",
      "Saved\n",
      "\n",
      "START: 28300 END: 28400\n",
      "Finding northern sources with Pan-starrs...\n",
      "Processed 10 of 99 lines!\n",
      "Processed 20 of 99 lines!\n",
      "Processed 30 of 99 lines!\n",
      "Processed 40 of 99 lines!\n",
      "Processed 50 of 99 lines!\n",
      "Processed 60 of 99 lines!\n",
      "Processed 70 of 99 lines!\n",
      "Processed 80 of 99 lines!\n",
      "Processed 90 of 99 lines!\n"
     ]
    },
    {
     "name": "stderr",
     "output_type": "stream",
     "text": [
      "/Users/patrickaleo/miniconda3/envs/laiss/lib/python3.8/site-packages/astro_ghost/stellarLocus.py:64: RuntimeWarning: All-NaN slice encountered\n",
      "  df.loc[i,\"7DCD\"] = np.nanmin(np.array(temp_7DCD_1val))\n"
     ]
    },
    {
     "name": "stdout",
     "output_type": "stream",
     "text": [
      "Found matches for 28.3% of events.\n",
      "Saved\n",
      "\n",
      "START: 28400 END: 28500\n",
      "Finding northern sources with Pan-starrs...\n",
      "Processed 10 of 100 lines!\n",
      "Processed 20 of 100 lines!\n",
      "Processed 30 of 100 lines!\n",
      "Processed 40 of 100 lines!\n",
      "Processed 50 of 100 lines!\n",
      "Processed 60 of 100 lines!\n",
      "Processed 70 of 100 lines!\n",
      "Processed 80 of 100 lines!\n",
      "Processed 90 of 100 lines!\n",
      "Processed 100 of 100 lines!\n"
     ]
    },
    {
     "name": "stderr",
     "output_type": "stream",
     "text": [
      "/Users/patrickaleo/miniconda3/envs/laiss/lib/python3.8/site-packages/astro_ghost/stellarLocus.py:64: RuntimeWarning: All-NaN slice encountered\n",
      "  df.loc[i,\"7DCD\"] = np.nanmin(np.array(temp_7DCD_1val))\n"
     ]
    },
    {
     "name": "stdout",
     "output_type": "stream",
     "text": [
      "Found matches for 24.0% of events.\n",
      "Saved\n",
      "\n",
      "START: 28500 END: 28600\n",
      "Finding northern sources with Pan-starrs...\n",
      "Processed 10 of 99 lines!\n",
      "Processed 20 of 99 lines!\n",
      "Processed 30 of 99 lines!\n",
      "Processed 40 of 99 lines!\n",
      "Processed 50 of 99 lines!\n",
      "Processed 60 of 99 lines!\n",
      "Processed 70 of 99 lines!\n",
      "Processed 80 of 99 lines!\n",
      "Processed 90 of 99 lines!\n"
     ]
    },
    {
     "name": "stderr",
     "output_type": "stream",
     "text": [
      "/Users/patrickaleo/miniconda3/envs/laiss/lib/python3.8/site-packages/astro_ghost/stellarLocus.py:64: RuntimeWarning: All-NaN slice encountered\n",
      "  df.loc[i,\"7DCD\"] = np.nanmin(np.array(temp_7DCD_1val))\n"
     ]
    },
    {
     "name": "stdout",
     "output_type": "stream",
     "text": [
      "Found matches for 28.3% of events.\n",
      "Saved\n",
      "\n",
      "START: 28600 END: 28700\n",
      "Finding northern sources with Pan-starrs...\n",
      "Processed 10 of 100 lines!\n",
      "Processed 20 of 100 lines!\n",
      "Processed 30 of 100 lines!\n",
      "Processed 40 of 100 lines!\n",
      "Processed 50 of 100 lines!\n",
      "Processed 60 of 100 lines!\n",
      "Processed 70 of 100 lines!\n",
      "Processed 80 of 100 lines!\n",
      "Processed 90 of 100 lines!\n",
      "Processed 100 of 100 lines!\n"
     ]
    },
    {
     "name": "stderr",
     "output_type": "stream",
     "text": [
      "/Users/patrickaleo/miniconda3/envs/laiss/lib/python3.8/site-packages/astro_ghost/stellarLocus.py:64: RuntimeWarning: All-NaN slice encountered\n",
      "  df.loc[i,\"7DCD\"] = np.nanmin(np.array(temp_7DCD_1val))\n"
     ]
    },
    {
     "name": "stdout",
     "output_type": "stream",
     "text": [
      "Found matches for 25.0% of events.\n",
      "Saved\n",
      "\n",
      "START: 28700 END: 28800\n",
      "Finding northern sources with Pan-starrs...\n",
      "Processed 10 of 100 lines!\n",
      "Processed 20 of 100 lines!\n",
      "Processed 30 of 100 lines!\n",
      "Processed 40 of 100 lines!\n",
      "Processed 50 of 100 lines!\n",
      "Processed 60 of 100 lines!\n",
      "Processed 70 of 100 lines!\n",
      "Processed 80 of 100 lines!\n",
      "Processed 90 of 100 lines!\n",
      "Processed 100 of 100 lines!\n"
     ]
    },
    {
     "name": "stderr",
     "output_type": "stream",
     "text": [
      "/Users/patrickaleo/miniconda3/envs/laiss/lib/python3.8/site-packages/astro_ghost/stellarLocus.py:64: RuntimeWarning: All-NaN slice encountered\n",
      "  df.loc[i,\"7DCD\"] = np.nanmin(np.array(temp_7DCD_1val))\n"
     ]
    },
    {
     "name": "stdout",
     "output_type": "stream",
     "text": [
      "Found matches for 32.0% of events.\n",
      "Saved\n",
      "\n",
      "START: 28800 END: 28900\n",
      "Finding northern sources with Pan-starrs...\n",
      "Processed 10 of 100 lines!\n",
      "Processed 20 of 100 lines!\n",
      "Processed 30 of 100 lines!\n",
      "Processed 40 of 100 lines!\n",
      "Processed 50 of 100 lines!\n",
      "Processed 60 of 100 lines!\n",
      "Processed 70 of 100 lines!\n",
      "Processed 80 of 100 lines!\n",
      "Processed 90 of 100 lines!\n",
      "Processed 100 of 100 lines!\n"
     ]
    },
    {
     "name": "stderr",
     "output_type": "stream",
     "text": [
      "/Users/patrickaleo/miniconda3/envs/laiss/lib/python3.8/site-packages/astro_ghost/stellarLocus.py:64: RuntimeWarning: All-NaN slice encountered\n",
      "  df.loc[i,\"7DCD\"] = np.nanmin(np.array(temp_7DCD_1val))\n"
     ]
    },
    {
     "name": "stdout",
     "output_type": "stream",
     "text": [
      "Found matches for 21.0% of events.\n",
      "Saved\n",
      "\n",
      "START: 28900 END: 29000\n",
      "Finding northern sources with Pan-starrs...\n",
      "Processed 10 of 100 lines!\n",
      "Processed 20 of 100 lines!\n",
      "Processed 30 of 100 lines!\n",
      "Processed 40 of 100 lines!\n",
      "Processed 50 of 100 lines!\n",
      "Processed 60 of 100 lines!\n",
      "Processed 70 of 100 lines!\n",
      "Processed 80 of 100 lines!\n",
      "Processed 90 of 100 lines!\n",
      "Processed 100 of 100 lines!\n"
     ]
    },
    {
     "name": "stderr",
     "output_type": "stream",
     "text": [
      "/Users/patrickaleo/miniconda3/envs/laiss/lib/python3.8/site-packages/astro_ghost/stellarLocus.py:64: RuntimeWarning: All-NaN slice encountered\n",
      "  df.loc[i,\"7DCD\"] = np.nanmin(np.array(temp_7DCD_1val))\n"
     ]
    },
    {
     "name": "stdout",
     "output_type": "stream",
     "text": [
      "Found matches for 22.0% of events.\n",
      "Saved\n",
      "\n",
      "START: 29000 END: 29100\n",
      "Finding northern sources with Pan-starrs...\n"
     ]
    },
    {
     "ename": "KeyboardInterrupt",
     "evalue": "",
     "output_type": "error",
     "traceback": [
      "\u001b[0;31m---------------------------------------------------------------------------\u001b[0m",
      "\u001b[0;31mKeyboardInterrupt\u001b[0m                         Traceback (most recent call last)",
      "\u001b[0;32m<timed exec>\u001b[0m in \u001b[0;36m<module>\u001b[0;34m\u001b[0m\n",
      "\u001b[0;32m~/miniconda3/envs/laiss/lib/python3.8/site-packages/astro_ghost/ghostHelperFunctions.py\u001b[0m in \u001b[0;36mgetTransientHosts\u001b[0;34m(snName, snCoord, snClass, verbose, starcut, ascentMatch, px, savepath, GHOSTpath)\u001b[0m\n\u001b[1;32m    521\u001b[0m             \u001b[0msnClass_remaining\u001b[0m \u001b[0;34m=\u001b[0m \u001b[0mdf_transients_remaining\u001b[0m\u001b[0;34m[\u001b[0m\u001b[0;34m'snClass'\u001b[0m\u001b[0;34m]\u001b[0m\u001b[0;34m.\u001b[0m\u001b[0mvalues\u001b[0m\u001b[0;34m\u001b[0m\u001b[0;34m\u001b[0m\u001b[0m\n\u001b[1;32m    522\u001b[0m \u001b[0;34m\u001b[0m\u001b[0m\n\u001b[0;32m--> 523\u001b[0;31m             \u001b[0mtempHost3\u001b[0m \u001b[0;34m=\u001b[0m \u001b[0mfindNewHosts\u001b[0m\u001b[0;34m(\u001b[0m\u001b[0msnName_remaining\u001b[0m\u001b[0;34m,\u001b[0m \u001b[0msnCoord_remaining\u001b[0m\u001b[0;34m,\u001b[0m \u001b[0msnClass_remaining\u001b[0m\u001b[0;34m,\u001b[0m \u001b[0mverbose\u001b[0m\u001b[0;34m,\u001b[0m \u001b[0mstarcut\u001b[0m\u001b[0;34m,\u001b[0m \u001b[0mascentMatch\u001b[0m\u001b[0;34m,\u001b[0m \u001b[0mpx\u001b[0m\u001b[0;34m,\u001b[0m \u001b[0msavepath\u001b[0m\u001b[0;34m)\u001b[0m\u001b[0;34m\u001b[0m\u001b[0;34m\u001b[0m\u001b[0m\n\u001b[0m\u001b[1;32m    524\u001b[0m \u001b[0;34m\u001b[0m\u001b[0m\n\u001b[1;32m    525\u001b[0m             \u001b[0;32mif\u001b[0m \u001b[0;34m(\u001b[0m\u001b[0mlen\u001b[0m\u001b[0;34m(\u001b[0m\u001b[0msnName_remaining\u001b[0m\u001b[0;34m)\u001b[0m \u001b[0;34m>\u001b[0m \u001b[0;36m0\u001b[0m\u001b[0;34m)\u001b[0m \u001b[0;32mand\u001b[0m \u001b[0;34m(\u001b[0m\u001b[0mlen\u001b[0m\u001b[0;34m(\u001b[0m\u001b[0mtempHost3\u001b[0m\u001b[0;34m)\u001b[0m\u001b[0;34m==\u001b[0m\u001b[0;36m0\u001b[0m\u001b[0;34m)\u001b[0m\u001b[0;34m:\u001b[0m\u001b[0;34m\u001b[0m\u001b[0;34m\u001b[0m\u001b[0m\n",
      "\u001b[0;32m~/miniconda3/envs/laiss/lib/python3.8/site-packages/astro_ghost/ghostHelperFunctions.py\u001b[0m in \u001b[0;36mfindNewHosts\u001b[0;34m(snName, snCoord, snClass, verbose, starcut, ascentMatch, px, savepath, rad)\u001b[0m\n\u001b[1;32m    578\u001b[0m \u001b[0;34m\u001b[0m\u001b[0m\n\u001b[1;32m    579\u001b[0m     \u001b[0;31m#begin doing the heavy lifting to associate transients with hosts\u001b[0m\u001b[0;34m\u001b[0m\u001b[0;34m\u001b[0m\u001b[0;34m\u001b[0m\u001b[0m\n\u001b[0;32m--> 580\u001b[0;31m     \u001b[0mhost_DF\u001b[0m \u001b[0;34m=\u001b[0m \u001b[0mget_hosts\u001b[0m\u001b[0;34m(\u001b[0m\u001b[0mpath\u001b[0m\u001b[0;34m,\u001b[0m \u001b[0mfn_SN\u001b[0m\u001b[0;34m,\u001b[0m \u001b[0mfn_Host\u001b[0m\u001b[0;34m,\u001b[0m \u001b[0mrad\u001b[0m\u001b[0;34m)\u001b[0m\u001b[0;34m\u001b[0m\u001b[0;34m\u001b[0m\u001b[0m\n\u001b[0m\u001b[1;32m    581\u001b[0m     \u001b[0;31m#halfLightSizes = getDR2_halfLightSizes(snRA_arr, snDEC_arr, rad)\u001b[0m\u001b[0;34m\u001b[0m\u001b[0;34m\u001b[0m\u001b[0;34m\u001b[0m\u001b[0m\n\u001b[1;32m    582\u001b[0m     \u001b[0mhalfLightSizes\u001b[0m \u001b[0;34m=\u001b[0m \u001b[0mgetDR2_petrosianSizes\u001b[0m\u001b[0;34m(\u001b[0m\u001b[0msnRA_arr\u001b[0m\u001b[0;34m,\u001b[0m \u001b[0msnDEC_arr\u001b[0m\u001b[0;34m,\u001b[0m \u001b[0mrad\u001b[0m\u001b[0;34m)\u001b[0m\u001b[0;34m\u001b[0m\u001b[0;34m\u001b[0m\u001b[0m\n",
      "\u001b[0;32m~/miniconda3/envs/laiss/lib/python3.8/site-packages/astro_ghost/PS1QueryFunctions.py\u001b[0m in \u001b[0;36mget_hosts\u001b[0;34m(path, transient_fn, fn_Host, rad)\u001b[0m\n\u001b[1;32m    100\u001b[0m     \u001b[0;32mif\u001b[0m \u001b[0mlen\u001b[0m\u001b[0;34m(\u001b[0m\u001b[0mdf_North\u001b[0m\u001b[0;34m)\u001b[0m \u001b[0;34m>\u001b[0m \u001b[0;36m0\u001b[0m\u001b[0;34m:\u001b[0m\u001b[0;34m\u001b[0m\u001b[0;34m\u001b[0m\u001b[0m\n\u001b[1;32m    101\u001b[0m         \u001b[0mprint\u001b[0m\u001b[0;34m(\u001b[0m\u001b[0;34m\"Finding northern sources with Pan-starrs...\"\u001b[0m\u001b[0;34m)\u001b[0m\u001b[0;34m\u001b[0m\u001b[0;34m\u001b[0m\u001b[0m\n\u001b[0;32m--> 102\u001b[0;31m         \u001b[0mfind_host_info_PS1\u001b[0m\u001b[0;34m(\u001b[0m\u001b[0mdf_North\u001b[0m\u001b[0;34m,\u001b[0m \u001b[0mfn_Host\u001b[0m\u001b[0;34m,\u001b[0m \u001b[0mdict_fn\u001b[0m\u001b[0;34m,\u001b[0m \u001b[0mpath\u001b[0m\u001b[0;34m,\u001b[0m \u001b[0mrad\u001b[0m\u001b[0;34m,\u001b[0m \u001b[0mappend\u001b[0m\u001b[0;34m=\u001b[0m\u001b[0mappend\u001b[0m\u001b[0;34m)\u001b[0m\u001b[0;34m\u001b[0m\u001b[0;34m\u001b[0m\u001b[0m\n\u001b[0m\u001b[1;32m    103\u001b[0m     \u001b[0mhost_df\u001b[0m \u001b[0;34m=\u001b[0m \u001b[0mpd\u001b[0m\u001b[0;34m.\u001b[0m\u001b[0mread_csv\u001b[0m\u001b[0;34m(\u001b[0m\u001b[0mpath\u001b[0m\u001b[0;34m+\u001b[0m\u001b[0;34m\"/\"\u001b[0m\u001b[0;34m+\u001b[0m\u001b[0mfn_Host\u001b[0m\u001b[0;34m)\u001b[0m\u001b[0;34m\u001b[0m\u001b[0;34m\u001b[0m\u001b[0m\n\u001b[1;32m    104\u001b[0m     \u001b[0mhost_df\u001b[0m \u001b[0;34m=\u001b[0m \u001b[0mhost_df\u001b[0m\u001b[0;34m.\u001b[0m\u001b[0mdrop_duplicates\u001b[0m\u001b[0;34m(\u001b[0m\u001b[0;34m)\u001b[0m\u001b[0;34m\u001b[0m\u001b[0;34m\u001b[0m\u001b[0m\n",
      "\u001b[0;32m~/miniconda3/envs/laiss/lib/python3.8/site-packages/astro_ghost/PS1QueryFunctions.py\u001b[0m in \u001b[0;36mfind_host_info_PS1\u001b[0;34m(df, fn, dict_fn, path, rad, append)\u001b[0m\n\u001b[1;32m    495\u001b[0m                 \u001b[0mtempRA\u001b[0m \u001b[0;34m=\u001b[0m \u001b[0mAngle\u001b[0m\u001b[0;34m(\u001b[0m\u001b[0mrow\u001b[0m\u001b[0;34m.\u001b[0m\u001b[0mRA\u001b[0m\u001b[0;34m,\u001b[0m \u001b[0munit\u001b[0m\u001b[0;34m=\u001b[0m\u001b[0mu\u001b[0m\u001b[0;34m.\u001b[0m\u001b[0mdeg\u001b[0m\u001b[0;34m)\u001b[0m\u001b[0;34m\u001b[0m\u001b[0;34m\u001b[0m\u001b[0m\n\u001b[1;32m    496\u001b[0m             \u001b[0mtempDEC\u001b[0m \u001b[0;34m=\u001b[0m \u001b[0mAngle\u001b[0m\u001b[0;34m(\u001b[0m\u001b[0mrow\u001b[0m\u001b[0;34m.\u001b[0m\u001b[0mDEC\u001b[0m\u001b[0;34m,\u001b[0m \u001b[0munit\u001b[0m\u001b[0;34m=\u001b[0m\u001b[0mu\u001b[0m\u001b[0;34m.\u001b[0m\u001b[0mdeg\u001b[0m\u001b[0;34m)\u001b[0m\u001b[0;34m\u001b[0m\u001b[0;34m\u001b[0m\u001b[0m\n\u001b[0;32m--> 497\u001b[0;31m             \u001b[0ma\u001b[0m \u001b[0;34m=\u001b[0m \u001b[0mquery_ps1_noname\u001b[0m\u001b[0;34m(\u001b[0m\u001b[0mtempRA\u001b[0m\u001b[0;34m.\u001b[0m\u001b[0mdegree\u001b[0m\u001b[0;34m,\u001b[0m\u001b[0mtempDEC\u001b[0m\u001b[0;34m.\u001b[0m\u001b[0mdegree\u001b[0m\u001b[0;34m,\u001b[0m \u001b[0mrad\u001b[0m\u001b[0;34m)\u001b[0m\u001b[0;34m\u001b[0m\u001b[0;34m\u001b[0m\u001b[0m\n\u001b[0m\u001b[1;32m    498\u001b[0m             \u001b[0;32mif\u001b[0m \u001b[0ma\u001b[0m\u001b[0;34m:\u001b[0m\u001b[0;34m\u001b[0m\u001b[0;34m\u001b[0m\u001b[0m\n\u001b[1;32m    499\u001b[0m                 \u001b[0ma\u001b[0m \u001b[0;34m=\u001b[0m \u001b[0mascii\u001b[0m\u001b[0;34m.\u001b[0m\u001b[0mread\u001b[0m\u001b[0;34m(\u001b[0m\u001b[0ma\u001b[0m\u001b[0;34m)\u001b[0m\u001b[0;34m\u001b[0m\u001b[0;34m\u001b[0m\u001b[0m\n",
      "\u001b[0;32m~/miniconda3/envs/laiss/lib/python3.8/site-packages/astro_ghost/PS1QueryFunctions.py\u001b[0m in \u001b[0;36mquery_ps1_noname\u001b[0;34m(RA, DEC, rad)\u001b[0m\n\u001b[1;32m    443\u001b[0m \u001b[0;32mdef\u001b[0m \u001b[0mquery_ps1_noname\u001b[0m\u001b[0;34m(\u001b[0m\u001b[0mRA\u001b[0m\u001b[0;34m,\u001b[0m \u001b[0mDEC\u001b[0m\u001b[0;34m,\u001b[0m \u001b[0mrad\u001b[0m\u001b[0;34m)\u001b[0m\u001b[0;34m:\u001b[0m\u001b[0;34m\u001b[0m\u001b[0;34m\u001b[0m\u001b[0m\n\u001b[1;32m    444\u001b[0m     \u001b[0;31m#print(\"Querying PS1 for nearest host...\")\u001b[0m\u001b[0;34m\u001b[0m\u001b[0;34m\u001b[0m\u001b[0;34m\u001b[0m\u001b[0m\n\u001b[0;32m--> 445\u001b[0;31m     \u001b[0;32mreturn\u001b[0m \u001b[0mps1cone\u001b[0m\u001b[0;34m(\u001b[0m\u001b[0mRA\u001b[0m\u001b[0;34m,\u001b[0m\u001b[0mDEC\u001b[0m\u001b[0;34m,\u001b[0m\u001b[0mrad\u001b[0m\u001b[0;34m/\u001b[0m\u001b[0;36m3600\u001b[0m\u001b[0;34m,\u001b[0m\u001b[0mtable\u001b[0m\u001b[0;34m=\u001b[0m\u001b[0;34m\"stack\"\u001b[0m\u001b[0;34m,\u001b[0m\u001b[0mrelease\u001b[0m\u001b[0;34m=\u001b[0m\u001b[0;34m\"dr1\"\u001b[0m\u001b[0;34m,\u001b[0m\u001b[0mformat\u001b[0m\u001b[0;34m=\u001b[0m\u001b[0;34m\"csv\"\u001b[0m\u001b[0;34m,\u001b[0m\u001b[0mcolumns\u001b[0m\u001b[0;34m=\u001b[0m\u001b[0;32mNone\u001b[0m\u001b[0;34m,\u001b[0m\u001b[0mbaseurl\u001b[0m\u001b[0;34m=\u001b[0m\u001b[0;34m\"https://catalogs.mast.stsci.edu/api/v0.1/panstarrs\"\u001b[0m\u001b[0;34m,\u001b[0m \u001b[0mverbose\u001b[0m\u001b[0;34m=\u001b[0m\u001b[0;32mFalse\u001b[0m\u001b[0;34m)\u001b[0m\u001b[0;34m\u001b[0m\u001b[0;34m\u001b[0m\u001b[0m\n\u001b[0m\u001b[1;32m    446\u001b[0m \u001b[0;34m\u001b[0m\u001b[0m\n\u001b[1;32m    447\u001b[0m \u001b[0;32mdef\u001b[0m \u001b[0mquery_ps1_name\u001b[0m\u001b[0;34m(\u001b[0m\u001b[0mname\u001b[0m\u001b[0;34m,\u001b[0m \u001b[0mrad\u001b[0m\u001b[0;34m)\u001b[0m\u001b[0;34m:\u001b[0m\u001b[0;34m\u001b[0m\u001b[0;34m\u001b[0m\u001b[0m\n",
      "\u001b[0;32m~/miniconda3/envs/laiss/lib/python3.8/site-packages/astro_ghost/PS1QueryFunctions.py\u001b[0m in \u001b[0;36mps1cone\u001b[0;34m(ra, dec, radius, table, release, format, columns, baseurl, verbose, **kw)\u001b[0m\n\u001b[1;32m    420\u001b[0m     \u001b[0mdata\u001b[0m\u001b[0;34m[\u001b[0m\u001b[0;34m'dec'\u001b[0m\u001b[0;34m]\u001b[0m \u001b[0;34m=\u001b[0m \u001b[0mdec\u001b[0m\u001b[0;34m\u001b[0m\u001b[0;34m\u001b[0m\u001b[0m\n\u001b[1;32m    421\u001b[0m     \u001b[0mdata\u001b[0m\u001b[0;34m[\u001b[0m\u001b[0;34m'radius'\u001b[0m\u001b[0;34m]\u001b[0m \u001b[0;34m=\u001b[0m \u001b[0mradius\u001b[0m\u001b[0;34m\u001b[0m\u001b[0;34m\u001b[0m\u001b[0m\n\u001b[0;32m--> 422\u001b[0;31m     return ps1search(table=table,release=release,format=format,columns=columns,\n\u001b[0m\u001b[1;32m    423\u001b[0m                     baseurl=baseurl, verbose=verbose, **data)\n\u001b[1;32m    424\u001b[0m \u001b[0;34m\u001b[0m\u001b[0m\n",
      "\u001b[0;32m~/miniconda3/envs/laiss/lib/python3.8/site-packages/astro_ghost/PS1QueryFunctions.py\u001b[0m in \u001b[0;36mps1search\u001b[0;34m(table, release, format, columns, baseurl, verbose, **kw)\u001b[0m\n\u001b[1;32m    388\u001b[0m \u001b[0;31m# either get or post works\u001b[0m\u001b[0;34m\u001b[0m\u001b[0;34m\u001b[0m\u001b[0;34m\u001b[0m\u001b[0m\n\u001b[1;32m    389\u001b[0m \u001b[0;31m#    r = requests.post(url, data=data)\u001b[0m\u001b[0;34m\u001b[0m\u001b[0;34m\u001b[0m\u001b[0;34m\u001b[0m\u001b[0m\n\u001b[0;32m--> 390\u001b[0;31m     \u001b[0mr\u001b[0m \u001b[0;34m=\u001b[0m \u001b[0mrequests\u001b[0m\u001b[0;34m.\u001b[0m\u001b[0mget\u001b[0m\u001b[0;34m(\u001b[0m\u001b[0murl\u001b[0m\u001b[0;34m,\u001b[0m \u001b[0mparams\u001b[0m\u001b[0;34m=\u001b[0m\u001b[0mdata\u001b[0m\u001b[0;34m)\u001b[0m\u001b[0;34m\u001b[0m\u001b[0;34m\u001b[0m\u001b[0m\n\u001b[0m\u001b[1;32m    391\u001b[0m \u001b[0;34m\u001b[0m\u001b[0m\n\u001b[1;32m    392\u001b[0m     \u001b[0;32mif\u001b[0m \u001b[0mverbose\u001b[0m\u001b[0;34m:\u001b[0m\u001b[0;34m\u001b[0m\u001b[0;34m\u001b[0m\u001b[0m\n",
      "\u001b[0;32m~/miniconda3/envs/laiss/lib/python3.8/site-packages/requests/api.py\u001b[0m in \u001b[0;36mget\u001b[0;34m(url, params, **kwargs)\u001b[0m\n\u001b[1;32m     74\u001b[0m \u001b[0;34m\u001b[0m\u001b[0m\n\u001b[1;32m     75\u001b[0m     \u001b[0mkwargs\u001b[0m\u001b[0;34m.\u001b[0m\u001b[0msetdefault\u001b[0m\u001b[0;34m(\u001b[0m\u001b[0;34m'allow_redirects'\u001b[0m\u001b[0;34m,\u001b[0m \u001b[0;32mTrue\u001b[0m\u001b[0;34m)\u001b[0m\u001b[0;34m\u001b[0m\u001b[0;34m\u001b[0m\u001b[0m\n\u001b[0;32m---> 76\u001b[0;31m     \u001b[0;32mreturn\u001b[0m \u001b[0mrequest\u001b[0m\u001b[0;34m(\u001b[0m\u001b[0;34m'get'\u001b[0m\u001b[0;34m,\u001b[0m \u001b[0murl\u001b[0m\u001b[0;34m,\u001b[0m \u001b[0mparams\u001b[0m\u001b[0;34m=\u001b[0m\u001b[0mparams\u001b[0m\u001b[0;34m,\u001b[0m \u001b[0;34m**\u001b[0m\u001b[0mkwargs\u001b[0m\u001b[0;34m)\u001b[0m\u001b[0;34m\u001b[0m\u001b[0;34m\u001b[0m\u001b[0m\n\u001b[0m\u001b[1;32m     77\u001b[0m \u001b[0;34m\u001b[0m\u001b[0m\n\u001b[1;32m     78\u001b[0m \u001b[0;34m\u001b[0m\u001b[0m\n",
      "\u001b[0;32m~/miniconda3/envs/laiss/lib/python3.8/site-packages/requests/api.py\u001b[0m in \u001b[0;36mrequest\u001b[0;34m(method, url, **kwargs)\u001b[0m\n\u001b[1;32m     59\u001b[0m     \u001b[0;31m# cases, and look like a memory leak in others.\u001b[0m\u001b[0;34m\u001b[0m\u001b[0;34m\u001b[0m\u001b[0;34m\u001b[0m\u001b[0m\n\u001b[1;32m     60\u001b[0m     \u001b[0;32mwith\u001b[0m \u001b[0msessions\u001b[0m\u001b[0;34m.\u001b[0m\u001b[0mSession\u001b[0m\u001b[0;34m(\u001b[0m\u001b[0;34m)\u001b[0m \u001b[0;32mas\u001b[0m \u001b[0msession\u001b[0m\u001b[0;34m:\u001b[0m\u001b[0;34m\u001b[0m\u001b[0;34m\u001b[0m\u001b[0m\n\u001b[0;32m---> 61\u001b[0;31m         \u001b[0;32mreturn\u001b[0m \u001b[0msession\u001b[0m\u001b[0;34m.\u001b[0m\u001b[0mrequest\u001b[0m\u001b[0;34m(\u001b[0m\u001b[0mmethod\u001b[0m\u001b[0;34m=\u001b[0m\u001b[0mmethod\u001b[0m\u001b[0;34m,\u001b[0m \u001b[0murl\u001b[0m\u001b[0;34m=\u001b[0m\u001b[0murl\u001b[0m\u001b[0;34m,\u001b[0m \u001b[0;34m**\u001b[0m\u001b[0mkwargs\u001b[0m\u001b[0;34m)\u001b[0m\u001b[0;34m\u001b[0m\u001b[0;34m\u001b[0m\u001b[0m\n\u001b[0m\u001b[1;32m     62\u001b[0m \u001b[0;34m\u001b[0m\u001b[0m\n\u001b[1;32m     63\u001b[0m \u001b[0;34m\u001b[0m\u001b[0m\n",
      "\u001b[0;32m~/miniconda3/envs/laiss/lib/python3.8/site-packages/requests/sessions.py\u001b[0m in \u001b[0;36mrequest\u001b[0;34m(self, method, url, params, data, headers, cookies, files, auth, timeout, allow_redirects, proxies, hooks, stream, verify, cert, json)\u001b[0m\n\u001b[1;32m    528\u001b[0m         }\n\u001b[1;32m    529\u001b[0m         \u001b[0msend_kwargs\u001b[0m\u001b[0;34m.\u001b[0m\u001b[0mupdate\u001b[0m\u001b[0;34m(\u001b[0m\u001b[0msettings\u001b[0m\u001b[0;34m)\u001b[0m\u001b[0;34m\u001b[0m\u001b[0;34m\u001b[0m\u001b[0m\n\u001b[0;32m--> 530\u001b[0;31m         \u001b[0mresp\u001b[0m \u001b[0;34m=\u001b[0m \u001b[0mself\u001b[0m\u001b[0;34m.\u001b[0m\u001b[0msend\u001b[0m\u001b[0;34m(\u001b[0m\u001b[0mprep\u001b[0m\u001b[0;34m,\u001b[0m \u001b[0;34m**\u001b[0m\u001b[0msend_kwargs\u001b[0m\u001b[0;34m)\u001b[0m\u001b[0;34m\u001b[0m\u001b[0;34m\u001b[0m\u001b[0m\n\u001b[0m\u001b[1;32m    531\u001b[0m \u001b[0;34m\u001b[0m\u001b[0m\n\u001b[1;32m    532\u001b[0m         \u001b[0;32mreturn\u001b[0m \u001b[0mresp\u001b[0m\u001b[0;34m\u001b[0m\u001b[0;34m\u001b[0m\u001b[0m\n",
      "\u001b[0;32m~/miniconda3/envs/laiss/lib/python3.8/site-packages/requests/sessions.py\u001b[0m in \u001b[0;36msend\u001b[0;34m(self, request, **kwargs)\u001b[0m\n\u001b[1;32m    641\u001b[0m \u001b[0;34m\u001b[0m\u001b[0m\n\u001b[1;32m    642\u001b[0m         \u001b[0;31m# Send the request\u001b[0m\u001b[0;34m\u001b[0m\u001b[0;34m\u001b[0m\u001b[0;34m\u001b[0m\u001b[0m\n\u001b[0;32m--> 643\u001b[0;31m         \u001b[0mr\u001b[0m \u001b[0;34m=\u001b[0m \u001b[0madapter\u001b[0m\u001b[0;34m.\u001b[0m\u001b[0msend\u001b[0m\u001b[0;34m(\u001b[0m\u001b[0mrequest\u001b[0m\u001b[0;34m,\u001b[0m \u001b[0;34m**\u001b[0m\u001b[0mkwargs\u001b[0m\u001b[0;34m)\u001b[0m\u001b[0;34m\u001b[0m\u001b[0;34m\u001b[0m\u001b[0m\n\u001b[0m\u001b[1;32m    644\u001b[0m \u001b[0;34m\u001b[0m\u001b[0m\n\u001b[1;32m    645\u001b[0m         \u001b[0;31m# Total elapsed time of the request (approximately)\u001b[0m\u001b[0;34m\u001b[0m\u001b[0;34m\u001b[0m\u001b[0;34m\u001b[0m\u001b[0m\n",
      "\u001b[0;32m~/miniconda3/envs/laiss/lib/python3.8/site-packages/requests/adapters.py\u001b[0m in \u001b[0;36msend\u001b[0;34m(self, request, stream, timeout, verify, cert, proxies)\u001b[0m\n\u001b[1;32m    437\u001b[0m         \u001b[0;32mtry\u001b[0m\u001b[0;34m:\u001b[0m\u001b[0;34m\u001b[0m\u001b[0;34m\u001b[0m\u001b[0m\n\u001b[1;32m    438\u001b[0m             \u001b[0;32mif\u001b[0m \u001b[0;32mnot\u001b[0m \u001b[0mchunked\u001b[0m\u001b[0;34m:\u001b[0m\u001b[0;34m\u001b[0m\u001b[0;34m\u001b[0m\u001b[0m\n\u001b[0;32m--> 439\u001b[0;31m                 resp = conn.urlopen(\n\u001b[0m\u001b[1;32m    440\u001b[0m                     \u001b[0mmethod\u001b[0m\u001b[0;34m=\u001b[0m\u001b[0mrequest\u001b[0m\u001b[0;34m.\u001b[0m\u001b[0mmethod\u001b[0m\u001b[0;34m,\u001b[0m\u001b[0;34m\u001b[0m\u001b[0;34m\u001b[0m\u001b[0m\n\u001b[1;32m    441\u001b[0m                     \u001b[0murl\u001b[0m\u001b[0;34m=\u001b[0m\u001b[0murl\u001b[0m\u001b[0;34m,\u001b[0m\u001b[0;34m\u001b[0m\u001b[0;34m\u001b[0m\u001b[0m\n",
      "\u001b[0;32m~/miniconda3/envs/laiss/lib/python3.8/site-packages/urllib3/connectionpool.py\u001b[0m in \u001b[0;36murlopen\u001b[0;34m(self, method, url, body, headers, retries, redirect, assert_same_host, timeout, pool_timeout, release_conn, chunked, body_pos, **response_kw)\u001b[0m\n\u001b[1;32m    668\u001b[0m \u001b[0;34m\u001b[0m\u001b[0m\n\u001b[1;32m    669\u001b[0m             \u001b[0;31m# Make the request on the httplib connection object.\u001b[0m\u001b[0;34m\u001b[0m\u001b[0;34m\u001b[0m\u001b[0;34m\u001b[0m\u001b[0m\n\u001b[0;32m--> 670\u001b[0;31m             httplib_response = self._make_request(\n\u001b[0m\u001b[1;32m    671\u001b[0m                 \u001b[0mconn\u001b[0m\u001b[0;34m,\u001b[0m\u001b[0;34m\u001b[0m\u001b[0;34m\u001b[0m\u001b[0m\n\u001b[1;32m    672\u001b[0m                 \u001b[0mmethod\u001b[0m\u001b[0;34m,\u001b[0m\u001b[0;34m\u001b[0m\u001b[0;34m\u001b[0m\u001b[0m\n",
      "\u001b[0;32m~/miniconda3/envs/laiss/lib/python3.8/site-packages/urllib3/connectionpool.py\u001b[0m in \u001b[0;36m_make_request\u001b[0;34m(self, conn, method, url, timeout, chunked, **httplib_request_kw)\u001b[0m\n\u001b[1;32m    424\u001b[0m                     \u001b[0;31m# Python 3 (including for exceptions like SystemExit).\u001b[0m\u001b[0;34m\u001b[0m\u001b[0;34m\u001b[0m\u001b[0;34m\u001b[0m\u001b[0m\n\u001b[1;32m    425\u001b[0m                     \u001b[0;31m# Otherwise it looks like a bug in the code.\u001b[0m\u001b[0;34m\u001b[0m\u001b[0;34m\u001b[0m\u001b[0;34m\u001b[0m\u001b[0m\n\u001b[0;32m--> 426\u001b[0;31m                     \u001b[0msix\u001b[0m\u001b[0;34m.\u001b[0m\u001b[0mraise_from\u001b[0m\u001b[0;34m(\u001b[0m\u001b[0me\u001b[0m\u001b[0;34m,\u001b[0m \u001b[0;32mNone\u001b[0m\u001b[0;34m)\u001b[0m\u001b[0;34m\u001b[0m\u001b[0;34m\u001b[0m\u001b[0m\n\u001b[0m\u001b[1;32m    427\u001b[0m         \u001b[0;32mexcept\u001b[0m \u001b[0;34m(\u001b[0m\u001b[0mSocketTimeout\u001b[0m\u001b[0;34m,\u001b[0m \u001b[0mBaseSSLError\u001b[0m\u001b[0;34m,\u001b[0m \u001b[0mSocketError\u001b[0m\u001b[0;34m)\u001b[0m \u001b[0;32mas\u001b[0m \u001b[0me\u001b[0m\u001b[0;34m:\u001b[0m\u001b[0;34m\u001b[0m\u001b[0;34m\u001b[0m\u001b[0m\n\u001b[1;32m    428\u001b[0m             \u001b[0mself\u001b[0m\u001b[0;34m.\u001b[0m\u001b[0m_raise_timeout\u001b[0m\u001b[0;34m(\u001b[0m\u001b[0merr\u001b[0m\u001b[0;34m=\u001b[0m\u001b[0me\u001b[0m\u001b[0;34m,\u001b[0m \u001b[0murl\u001b[0m\u001b[0;34m=\u001b[0m\u001b[0murl\u001b[0m\u001b[0;34m,\u001b[0m \u001b[0mtimeout_value\u001b[0m\u001b[0;34m=\u001b[0m\u001b[0mread_timeout\u001b[0m\u001b[0;34m)\u001b[0m\u001b[0;34m\u001b[0m\u001b[0;34m\u001b[0m\u001b[0m\n",
      "\u001b[0;32m~/miniconda3/envs/laiss/lib/python3.8/site-packages/urllib3/packages/six.py\u001b[0m in \u001b[0;36mraise_from\u001b[0;34m(value, from_value)\u001b[0m\n",
      "\u001b[0;32m~/miniconda3/envs/laiss/lib/python3.8/site-packages/urllib3/connectionpool.py\u001b[0m in \u001b[0;36m_make_request\u001b[0;34m(self, conn, method, url, timeout, chunked, **httplib_request_kw)\u001b[0m\n\u001b[1;32m    419\u001b[0m                 \u001b[0;31m# Python 3\u001b[0m\u001b[0;34m\u001b[0m\u001b[0;34m\u001b[0m\u001b[0;34m\u001b[0m\u001b[0m\n\u001b[1;32m    420\u001b[0m                 \u001b[0;32mtry\u001b[0m\u001b[0;34m:\u001b[0m\u001b[0;34m\u001b[0m\u001b[0;34m\u001b[0m\u001b[0m\n\u001b[0;32m--> 421\u001b[0;31m                     \u001b[0mhttplib_response\u001b[0m \u001b[0;34m=\u001b[0m \u001b[0mconn\u001b[0m\u001b[0;34m.\u001b[0m\u001b[0mgetresponse\u001b[0m\u001b[0;34m(\u001b[0m\u001b[0;34m)\u001b[0m\u001b[0;34m\u001b[0m\u001b[0;34m\u001b[0m\u001b[0m\n\u001b[0m\u001b[1;32m    422\u001b[0m                 \u001b[0;32mexcept\u001b[0m \u001b[0mBaseException\u001b[0m \u001b[0;32mas\u001b[0m \u001b[0me\u001b[0m\u001b[0;34m:\u001b[0m\u001b[0;34m\u001b[0m\u001b[0;34m\u001b[0m\u001b[0m\n\u001b[1;32m    423\u001b[0m                     \u001b[0;31m# Remove the TypeError from the exception chain in\u001b[0m\u001b[0;34m\u001b[0m\u001b[0;34m\u001b[0m\u001b[0;34m\u001b[0m\u001b[0m\n",
      "\u001b[0;32m~/miniconda3/envs/laiss/lib/python3.8/http/client.py\u001b[0m in \u001b[0;36mgetresponse\u001b[0;34m(self)\u001b[0m\n\u001b[1;32m   1345\u001b[0m         \u001b[0;32mtry\u001b[0m\u001b[0;34m:\u001b[0m\u001b[0;34m\u001b[0m\u001b[0;34m\u001b[0m\u001b[0m\n\u001b[1;32m   1346\u001b[0m             \u001b[0;32mtry\u001b[0m\u001b[0;34m:\u001b[0m\u001b[0;34m\u001b[0m\u001b[0;34m\u001b[0m\u001b[0m\n\u001b[0;32m-> 1347\u001b[0;31m                 \u001b[0mresponse\u001b[0m\u001b[0;34m.\u001b[0m\u001b[0mbegin\u001b[0m\u001b[0;34m(\u001b[0m\u001b[0;34m)\u001b[0m\u001b[0;34m\u001b[0m\u001b[0;34m\u001b[0m\u001b[0m\n\u001b[0m\u001b[1;32m   1348\u001b[0m             \u001b[0;32mexcept\u001b[0m \u001b[0mConnectionError\u001b[0m\u001b[0;34m:\u001b[0m\u001b[0;34m\u001b[0m\u001b[0;34m\u001b[0m\u001b[0m\n\u001b[1;32m   1349\u001b[0m                 \u001b[0mself\u001b[0m\u001b[0;34m.\u001b[0m\u001b[0mclose\u001b[0m\u001b[0;34m(\u001b[0m\u001b[0;34m)\u001b[0m\u001b[0;34m\u001b[0m\u001b[0;34m\u001b[0m\u001b[0m\n",
      "\u001b[0;32m~/miniconda3/envs/laiss/lib/python3.8/http/client.py\u001b[0m in \u001b[0;36mbegin\u001b[0;34m(self)\u001b[0m\n\u001b[1;32m    305\u001b[0m         \u001b[0;31m# read until we get a non-100 response\u001b[0m\u001b[0;34m\u001b[0m\u001b[0;34m\u001b[0m\u001b[0;34m\u001b[0m\u001b[0m\n\u001b[1;32m    306\u001b[0m         \u001b[0;32mwhile\u001b[0m \u001b[0;32mTrue\u001b[0m\u001b[0;34m:\u001b[0m\u001b[0;34m\u001b[0m\u001b[0;34m\u001b[0m\u001b[0m\n\u001b[0;32m--> 307\u001b[0;31m             \u001b[0mversion\u001b[0m\u001b[0;34m,\u001b[0m \u001b[0mstatus\u001b[0m\u001b[0;34m,\u001b[0m \u001b[0mreason\u001b[0m \u001b[0;34m=\u001b[0m \u001b[0mself\u001b[0m\u001b[0;34m.\u001b[0m\u001b[0m_read_status\u001b[0m\u001b[0;34m(\u001b[0m\u001b[0;34m)\u001b[0m\u001b[0;34m\u001b[0m\u001b[0;34m\u001b[0m\u001b[0m\n\u001b[0m\u001b[1;32m    308\u001b[0m             \u001b[0;32mif\u001b[0m \u001b[0mstatus\u001b[0m \u001b[0;34m!=\u001b[0m \u001b[0mCONTINUE\u001b[0m\u001b[0;34m:\u001b[0m\u001b[0;34m\u001b[0m\u001b[0;34m\u001b[0m\u001b[0m\n\u001b[1;32m    309\u001b[0m                 \u001b[0;32mbreak\u001b[0m\u001b[0;34m\u001b[0m\u001b[0;34m\u001b[0m\u001b[0m\n",
      "\u001b[0;32m~/miniconda3/envs/laiss/lib/python3.8/http/client.py\u001b[0m in \u001b[0;36m_read_status\u001b[0;34m(self)\u001b[0m\n\u001b[1;32m    266\u001b[0m \u001b[0;34m\u001b[0m\u001b[0m\n\u001b[1;32m    267\u001b[0m     \u001b[0;32mdef\u001b[0m \u001b[0m_read_status\u001b[0m\u001b[0;34m(\u001b[0m\u001b[0mself\u001b[0m\u001b[0;34m)\u001b[0m\u001b[0;34m:\u001b[0m\u001b[0;34m\u001b[0m\u001b[0;34m\u001b[0m\u001b[0m\n\u001b[0;32m--> 268\u001b[0;31m         \u001b[0mline\u001b[0m \u001b[0;34m=\u001b[0m \u001b[0mstr\u001b[0m\u001b[0;34m(\u001b[0m\u001b[0mself\u001b[0m\u001b[0;34m.\u001b[0m\u001b[0mfp\u001b[0m\u001b[0;34m.\u001b[0m\u001b[0mreadline\u001b[0m\u001b[0;34m(\u001b[0m\u001b[0m_MAXLINE\u001b[0m \u001b[0;34m+\u001b[0m \u001b[0;36m1\u001b[0m\u001b[0;34m)\u001b[0m\u001b[0;34m,\u001b[0m \u001b[0;34m\"iso-8859-1\"\u001b[0m\u001b[0;34m)\u001b[0m\u001b[0;34m\u001b[0m\u001b[0;34m\u001b[0m\u001b[0m\n\u001b[0m\u001b[1;32m    269\u001b[0m         \u001b[0;32mif\u001b[0m \u001b[0mlen\u001b[0m\u001b[0;34m(\u001b[0m\u001b[0mline\u001b[0m\u001b[0;34m)\u001b[0m \u001b[0;34m>\u001b[0m \u001b[0m_MAXLINE\u001b[0m\u001b[0;34m:\u001b[0m\u001b[0;34m\u001b[0m\u001b[0;34m\u001b[0m\u001b[0m\n\u001b[1;32m    270\u001b[0m             \u001b[0;32mraise\u001b[0m \u001b[0mLineTooLong\u001b[0m\u001b[0;34m(\u001b[0m\u001b[0;34m\"status line\"\u001b[0m\u001b[0;34m)\u001b[0m\u001b[0;34m\u001b[0m\u001b[0;34m\u001b[0m\u001b[0m\n",
      "\u001b[0;32m~/miniconda3/envs/laiss/lib/python3.8/socket.py\u001b[0m in \u001b[0;36mreadinto\u001b[0;34m(self, b)\u001b[0m\n\u001b[1;32m    667\u001b[0m         \u001b[0;32mwhile\u001b[0m \u001b[0;32mTrue\u001b[0m\u001b[0;34m:\u001b[0m\u001b[0;34m\u001b[0m\u001b[0;34m\u001b[0m\u001b[0m\n\u001b[1;32m    668\u001b[0m             \u001b[0;32mtry\u001b[0m\u001b[0;34m:\u001b[0m\u001b[0;34m\u001b[0m\u001b[0;34m\u001b[0m\u001b[0m\n\u001b[0;32m--> 669\u001b[0;31m                 \u001b[0;32mreturn\u001b[0m \u001b[0mself\u001b[0m\u001b[0;34m.\u001b[0m\u001b[0m_sock\u001b[0m\u001b[0;34m.\u001b[0m\u001b[0mrecv_into\u001b[0m\u001b[0;34m(\u001b[0m\u001b[0mb\u001b[0m\u001b[0;34m)\u001b[0m\u001b[0;34m\u001b[0m\u001b[0;34m\u001b[0m\u001b[0m\n\u001b[0m\u001b[1;32m    670\u001b[0m             \u001b[0;32mexcept\u001b[0m \u001b[0mtimeout\u001b[0m\u001b[0;34m:\u001b[0m\u001b[0;34m\u001b[0m\u001b[0;34m\u001b[0m\u001b[0m\n\u001b[1;32m    671\u001b[0m                 \u001b[0mself\u001b[0m\u001b[0;34m.\u001b[0m\u001b[0m_timeout_occurred\u001b[0m \u001b[0;34m=\u001b[0m \u001b[0;32mTrue\u001b[0m\u001b[0;34m\u001b[0m\u001b[0;34m\u001b[0m\u001b[0m\n",
      "\u001b[0;32m~/miniconda3/envs/laiss/lib/python3.8/ssl.py\u001b[0m in \u001b[0;36mrecv_into\u001b[0;34m(self, buffer, nbytes, flags)\u001b[0m\n\u001b[1;32m   1239\u001b[0m                   \u001b[0;34m\"non-zero flags not allowed in calls to recv_into() on %s\"\u001b[0m \u001b[0;34m%\u001b[0m\u001b[0;34m\u001b[0m\u001b[0;34m\u001b[0m\u001b[0m\n\u001b[1;32m   1240\u001b[0m                   self.__class__)\n\u001b[0;32m-> 1241\u001b[0;31m             \u001b[0;32mreturn\u001b[0m \u001b[0mself\u001b[0m\u001b[0;34m.\u001b[0m\u001b[0mread\u001b[0m\u001b[0;34m(\u001b[0m\u001b[0mnbytes\u001b[0m\u001b[0;34m,\u001b[0m \u001b[0mbuffer\u001b[0m\u001b[0;34m)\u001b[0m\u001b[0;34m\u001b[0m\u001b[0;34m\u001b[0m\u001b[0m\n\u001b[0m\u001b[1;32m   1242\u001b[0m         \u001b[0;32melse\u001b[0m\u001b[0;34m:\u001b[0m\u001b[0;34m\u001b[0m\u001b[0;34m\u001b[0m\u001b[0m\n\u001b[1;32m   1243\u001b[0m             \u001b[0;32mreturn\u001b[0m \u001b[0msuper\u001b[0m\u001b[0;34m(\u001b[0m\u001b[0;34m)\u001b[0m\u001b[0;34m.\u001b[0m\u001b[0mrecv_into\u001b[0m\u001b[0;34m(\u001b[0m\u001b[0mbuffer\u001b[0m\u001b[0;34m,\u001b[0m \u001b[0mnbytes\u001b[0m\u001b[0;34m,\u001b[0m \u001b[0mflags\u001b[0m\u001b[0;34m)\u001b[0m\u001b[0;34m\u001b[0m\u001b[0;34m\u001b[0m\u001b[0m\n",
      "\u001b[0;32m~/miniconda3/envs/laiss/lib/python3.8/ssl.py\u001b[0m in \u001b[0;36mread\u001b[0;34m(self, len, buffer)\u001b[0m\n\u001b[1;32m   1097\u001b[0m         \u001b[0;32mtry\u001b[0m\u001b[0;34m:\u001b[0m\u001b[0;34m\u001b[0m\u001b[0;34m\u001b[0m\u001b[0m\n\u001b[1;32m   1098\u001b[0m             \u001b[0;32mif\u001b[0m \u001b[0mbuffer\u001b[0m \u001b[0;32mis\u001b[0m \u001b[0;32mnot\u001b[0m \u001b[0;32mNone\u001b[0m\u001b[0;34m:\u001b[0m\u001b[0;34m\u001b[0m\u001b[0;34m\u001b[0m\u001b[0m\n\u001b[0;32m-> 1099\u001b[0;31m                 \u001b[0;32mreturn\u001b[0m \u001b[0mself\u001b[0m\u001b[0;34m.\u001b[0m\u001b[0m_sslobj\u001b[0m\u001b[0;34m.\u001b[0m\u001b[0mread\u001b[0m\u001b[0;34m(\u001b[0m\u001b[0mlen\u001b[0m\u001b[0;34m,\u001b[0m \u001b[0mbuffer\u001b[0m\u001b[0;34m)\u001b[0m\u001b[0;34m\u001b[0m\u001b[0;34m\u001b[0m\u001b[0m\n\u001b[0m\u001b[1;32m   1100\u001b[0m             \u001b[0;32melse\u001b[0m\u001b[0;34m:\u001b[0m\u001b[0;34m\u001b[0m\u001b[0;34m\u001b[0m\u001b[0m\n\u001b[1;32m   1101\u001b[0m                 \u001b[0;32mreturn\u001b[0m \u001b[0mself\u001b[0m\u001b[0;34m.\u001b[0m\u001b[0m_sslobj\u001b[0m\u001b[0;34m.\u001b[0m\u001b[0mread\u001b[0m\u001b[0;34m(\u001b[0m\u001b[0mlen\u001b[0m\u001b[0;34m)\u001b[0m\u001b[0;34m\u001b[0m\u001b[0;34m\u001b[0m\u001b[0m\n",
      "\u001b[0;31mKeyboardInterrupt\u001b[0m: "
     ]
    }
   ],
   "source": [
    "%%time\n",
    "\n",
    "# Throw RA/DEC into ghost with just DLR method, gentle starcut\n",
    "# Sets environ var to find ghost.csv\n",
    "os.environ['GHOST_PATH'] = './host_info'\n",
    "# Then don't use getGHOST(real=True, verbose=verbose)\n",
    "getGHOST(real=True,verbose=False)\n",
    "\n",
    "start_idx_l = list(np.arange(29000, len(dataset_bank), 100))\n",
    "end_idx_l = list(np.arange(29100, len(dataset_bank)+100, 100))\n",
    "\n",
    "for start, end in zip(start_idx_l, end_idx_l):\n",
    "    start_idx, end_idx = start, end\n",
    "    print(\"\\nSTART:\", start, \"END:\", end)\n",
    "\n",
    "    dataset_bank_mini = dataset_bank.iloc[start_idx:end_idx]\n",
    "    #print(dataset_bank_mini)\n",
    "\n",
    "    snCoord = [SkyCoord(ra*u.deg, dec*u.deg, frame='icrs') for ra, dec in zip(dataset_bank_mini.ra, dataset_bank_mini.dec)]\n",
    "    with tempfile.TemporaryDirectory() as tmp:\n",
    "#        try: \n",
    "        hosts = getTransientHosts(snName=list(dataset_bank_mini.index), snCoord=snCoord, verbose=0, starcut='gentle', ascentMatch=False, savepath=tmp)\n",
    "        # Save\n",
    "        hosts.to_csv(f'./host_info/dataset_bank_hosts_start_idx:end_idx={start_idx}:{end_idx}.csv', index=False)\n",
    "        print(\"Saved\")\n",
    "#        except: \n",
    "        #print(f\"Throws 500 error. Continue!\")\n",
    "        #continue\n",
    "        "
   ]
  },
  {
   "cell_type": "code",
   "execution_count": 5,
   "id": "1a5b1f9b",
   "metadata": {},
   "outputs": [
    {
     "data": {
      "text/plain": [
       "'0.2.1'"
      ]
     },
     "execution_count": 5,
     "metadata": {},
     "output_type": "execute_result"
    }
   ],
   "source": [
    "astro_ghost.__version__"
   ]
  },
  {
   "cell_type": "markdown",
   "id": "095b9927",
   "metadata": {},
   "source": [
    "hosts.to_csv(f'./host_info/dataset_bank_hosts_start_idx:end_idx={start_idx}:{end_idx}.csv', index=False)\n",
    "hosts"
   ]
  },
  {
   "cell_type": "code",
   "execution_count": null,
   "id": "0999b283",
   "metadata": {},
   "outputs": [],
   "source": [
    "# 100 objs -- 5 min (at 30% matches)"
   ]
  }
 ],
 "metadata": {
  "kernelspec": {
   "display_name": "laiss",
   "language": "python",
   "name": "laiss"
  },
  "language_info": {
   "codemirror_mode": {
    "name": "ipython",
    "version": 3
   },
   "file_extension": ".py",
   "mimetype": "text/x-python",
   "name": "python",
   "nbconvert_exporter": "python",
   "pygments_lexer": "ipython3",
   "version": "3.8.8"
  }
 },
 "nbformat": 4,
 "nbformat_minor": 5
}
