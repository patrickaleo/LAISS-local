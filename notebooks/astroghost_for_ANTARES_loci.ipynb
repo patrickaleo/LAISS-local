{
 "cells": [
  {
   "cell_type": "code",
   "execution_count": 1,
   "id": "4a91ecf0",
   "metadata": {},
   "outputs": [
    {
     "data": {
      "text/plain": [
       "'0.2.3'"
      ]
     },
     "execution_count": 1,
     "metadata": {},
     "output_type": "execute_result"
    }
   ],
   "source": [
    "import astro_ghost\n",
    "astro_ghost.__version__"
   ]
  },
  {
   "cell_type": "code",
   "execution_count": 2,
   "id": "529a2f0f",
   "metadata": {},
   "outputs": [],
   "source": [
    "import os\n",
    "import sys\n",
    "import time\n",
    "import astro_ghost\n",
    "# from astro_ghost.PS1QueryFunctions import getAllPostageStamps\n",
    "# from astro_ghost.TNSQueryFunctions import getTNSSpectra\n",
    "# from astro_ghost.NEDQueryFunctions import getNEDSpectra\n",
    "from astro_ghost.ghostHelperFunctions import getTransientHosts, getGHOST\n",
    "from astropy.coordinates import SkyCoord\n",
    "from astropy import units as u\n",
    "import pandas as pd\n",
    "from datetime import datetime\n",
    "import numpy as np\n",
    "\n",
    "import tempfile"
   ]
  },
  {
   "cell_type": "code",
   "execution_count": 3,
   "id": "43591af9",
   "metadata": {},
   "outputs": [
    {
     "name": "stderr",
     "output_type": "stream",
     "text": [
      "/Users/patrickaleo/miniconda3/envs/laiss/lib/python3.8/site-packages/IPython/core/interactiveshell.py:3169: DtypeWarning: Columns (125,133) have mixed types.Specify dtype option on import or set low_memory=False.\n",
      "  has_raised = await self.run_ast_nodes(code_ast.body, cell_name,\n"
     ]
    },
    {
     "data": {
      "text/html": [
       "<div>\n",
       "<style scoped>\n",
       "    .dataframe tbody tr th:only-of-type {\n",
       "        vertical-align: middle;\n",
       "    }\n",
       "\n",
       "    .dataframe tbody tr th {\n",
       "        vertical-align: top;\n",
       "    }\n",
       "\n",
       "    .dataframe thead th {\n",
       "        text-align: right;\n",
       "    }\n",
       "</style>\n",
       "<table border=\"1\" class=\"dataframe\">\n",
       "  <thead>\n",
       "    <tr style=\"text-align: right;\">\n",
       "      <th></th>\n",
       "      <th>Unnamed: 0</th>\n",
       "      <th>locus_id</th>\n",
       "      <th>ra</th>\n",
       "      <th>dec</th>\n",
       "      <th>tags</th>\n",
       "      <th>catalogs</th>\n",
       "      <th>ztf_ssnamenr</th>\n",
       "      <th>num_alerts</th>\n",
       "      <th>num_mag_values</th>\n",
       "      <th>oldest_alert_id</th>\n",
       "      <th>...</th>\n",
       "      <th>vpdf_extreme_version</th>\n",
       "      <th>vpdf_extreme_faint</th>\n",
       "      <th>vpdf_extreme_bright</th>\n",
       "      <th>locus_gal_l</th>\n",
       "      <th>locus_gal_b</th>\n",
       "      <th>stamp_cls</th>\n",
       "      <th>has_tns</th>\n",
       "      <th>tns_cls</th>\n",
       "      <th>spec_z</th>\n",
       "      <th>report_group</th>\n",
       "    </tr>\n",
       "    <tr>\n",
       "      <th>ztf_object_id</th>\n",
       "      <th></th>\n",
       "      <th></th>\n",
       "      <th></th>\n",
       "      <th></th>\n",
       "      <th></th>\n",
       "      <th></th>\n",
       "      <th></th>\n",
       "      <th></th>\n",
       "      <th></th>\n",
       "      <th></th>\n",
       "      <th></th>\n",
       "      <th></th>\n",
       "      <th></th>\n",
       "      <th></th>\n",
       "      <th></th>\n",
       "      <th></th>\n",
       "      <th></th>\n",
       "      <th></th>\n",
       "      <th></th>\n",
       "      <th></th>\n",
       "      <th></th>\n",
       "    </tr>\n",
       "  </thead>\n",
       "  <tbody>\n",
       "    <tr>\n",
       "      <th>ZTF17aaadars</th>\n",
       "      <td>858089</td>\n",
       "      <td>ANT2020setxa</td>\n",
       "      <td>74.008152</td>\n",
       "      <td>4.688007</td>\n",
       "      <td>['dwarf_nova_outburst', 'high_snr', 'high_ampl...</td>\n",
       "      <td>['bright_guide_star_cat']</td>\n",
       "      <td>NaN</td>\n",
       "      <td>176</td>\n",
       "      <td>50</td>\n",
       "      <td>ztf_candidate:726272534215015034</td>\n",
       "      <td>...</td>\n",
       "      <td>NaN</td>\n",
       "      <td>NaN</td>\n",
       "      <td>NaN</td>\n",
       "      <td>194.434930</td>\n",
       "      <td>-23.001128</td>\n",
       "      <td>SNIa</td>\n",
       "      <td>No_TNS</td>\n",
       "      <td>None</td>\n",
       "      <td>-99.0</td>\n",
       "      <td>None</td>\n",
       "    </tr>\n",
       "    <tr>\n",
       "      <th>ZTF17aaadvfh</th>\n",
       "      <td>845168</td>\n",
       "      <td>ANT2020jk2po</td>\n",
       "      <td>10.123141</td>\n",
       "      <td>40.602475</td>\n",
       "      <td>['in_m31', 'lc_feature_extractor', 'extragalac...</td>\n",
       "      <td>['RC3', '2mass_xsc', 'gaia_dr2']</td>\n",
       "      <td>NaN</td>\n",
       "      <td>345</td>\n",
       "      <td>25</td>\n",
       "      <td>ztf_candidate:1007342854215010039</td>\n",
       "      <td>...</td>\n",
       "      <td>NaN</td>\n",
       "      <td>NaN</td>\n",
       "      <td>NaN</td>\n",
       "      <td>120.687977</td>\n",
       "      <td>-22.221579</td>\n",
       "      <td>SLSN</td>\n",
       "      <td>No_TNS</td>\n",
       "      <td>None</td>\n",
       "      <td>-99.0</td>\n",
       "      <td>None</td>\n",
       "    </tr>\n",
       "    <tr>\n",
       "      <th>ZTF17aaahrni</th>\n",
       "      <td>896108</td>\n",
       "      <td>ANT2020aevgf7q</td>\n",
       "      <td>80.423285</td>\n",
       "      <td>-4.186247</td>\n",
       "      <td>['high_amplitude_transient_candidate', 'nova_t...</td>\n",
       "      <td>[]</td>\n",
       "      <td>NaN</td>\n",
       "      <td>63</td>\n",
       "      <td>16</td>\n",
       "      <td>ztf_candidate:1398444022315015011</td>\n",
       "      <td>...</td>\n",
       "      <td>NaN</td>\n",
       "      <td>NaN</td>\n",
       "      <td>NaN</td>\n",
       "      <td>206.213250</td>\n",
       "      <td>-21.841968</td>\n",
       "      <td>SNIa</td>\n",
       "      <td>Yes_TNS</td>\n",
       "      <td>None</td>\n",
       "      <td>-99.0</td>\n",
       "      <td>GaiaAlerts</td>\n",
       "    </tr>\n",
       "    <tr>\n",
       "      <th>ZTF17aaaivqs</th>\n",
       "      <td>985055</td>\n",
       "      <td>ANT2020jq7w6</td>\n",
       "      <td>127.370917</td>\n",
       "      <td>10.773342</td>\n",
       "      <td>['high_amplitude_variable_star_candidate', 'lc...</td>\n",
       "      <td>['asassn_variable_catalog_v2_20190802', 'allwi...</td>\n",
       "      <td>NaN</td>\n",
       "      <td>358</td>\n",
       "      <td>292</td>\n",
       "      <td>ztf_candidate:671461312615010000</td>\n",
       "      <td>...</td>\n",
       "      <td>NaN</td>\n",
       "      <td>NaN</td>\n",
       "      <td>NaN</td>\n",
       "      <td>214.180505</td>\n",
       "      <td>26.612885</td>\n",
       "      <td>SLSN</td>\n",
       "      <td>No_TNS</td>\n",
       "      <td>None</td>\n",
       "      <td>-99.0</td>\n",
       "      <td>None</td>\n",
       "    </tr>\n",
       "    <tr>\n",
       "      <th>ZTF17aaaizmo</th>\n",
       "      <td>998136</td>\n",
       "      <td>ANT2020pg5q4</td>\n",
       "      <td>132.155248</td>\n",
       "      <td>10.782338</td>\n",
       "      <td>['matheson_extreme_vpdf', 'lc_feature_extracto...</td>\n",
       "      <td>['2mass_psc', 'bright_guide_star_cat', 'gaia_d...</td>\n",
       "      <td>NaN</td>\n",
       "      <td>289</td>\n",
       "      <td>97</td>\n",
       "      <td>ztf_candidate:680499561915015002</td>\n",
       "      <td>...</td>\n",
       "      <td>0.1.0</td>\n",
       "      <td>pct_99.99999_outlier</td>\n",
       "      <td>NaN</td>\n",
       "      <td>216.450964</td>\n",
       "      <td>30.870773</td>\n",
       "      <td>SNII</td>\n",
       "      <td>No_TNS</td>\n",
       "      <td>None</td>\n",
       "      <td>-99.0</td>\n",
       "      <td>None</td>\n",
       "    </tr>\n",
       "    <tr>\n",
       "      <th>...</th>\n",
       "      <td>...</td>\n",
       "      <td>...</td>\n",
       "      <td>...</td>\n",
       "      <td>...</td>\n",
       "      <td>...</td>\n",
       "      <td>...</td>\n",
       "      <td>...</td>\n",
       "      <td>...</td>\n",
       "      <td>...</td>\n",
       "      <td>...</td>\n",
       "      <td>...</td>\n",
       "      <td>...</td>\n",
       "      <td>...</td>\n",
       "      <td>...</td>\n",
       "      <td>...</td>\n",
       "      <td>...</td>\n",
       "      <td>...</td>\n",
       "      <td>...</td>\n",
       "      <td>...</td>\n",
       "      <td>...</td>\n",
       "      <td>...</td>\n",
       "    </tr>\n",
       "    <tr>\n",
       "      <th>ZTF22aacjbmo</th>\n",
       "      <td>909153</td>\n",
       "      <td>ANT2020euljm</td>\n",
       "      <td>205.509960</td>\n",
       "      <td>-19.933047</td>\n",
       "      <td>['lc_feature_extractor']</td>\n",
       "      <td>['allwise', 'bright_guide_star_cat', '2mass_ps...</td>\n",
       "      <td>NaN</td>\n",
       "      <td>132</td>\n",
       "      <td>60</td>\n",
       "      <td>ztf_candidate:738499311115015008</td>\n",
       "      <td>...</td>\n",
       "      <td>NaN</td>\n",
       "      <td>NaN</td>\n",
       "      <td>NaN</td>\n",
       "      <td>318.854533</td>\n",
       "      <td>41.368904</td>\n",
       "      <td>SLSN</td>\n",
       "      <td>No_TNS</td>\n",
       "      <td>None</td>\n",
       "      <td>-99.0</td>\n",
       "      <td>None</td>\n",
       "    </tr>\n",
       "    <tr>\n",
       "      <th>ZTF22aackync</th>\n",
       "      <td>274345</td>\n",
       "      <td>ANT2020aeh34ei</td>\n",
       "      <td>302.025743</td>\n",
       "      <td>-2.811300</td>\n",
       "      <td>['lc_feature_extractor']</td>\n",
       "      <td>['bright_guide_star_cat', '2mass_psc', 'allwis...</td>\n",
       "      <td>NaN</td>\n",
       "      <td>273</td>\n",
       "      <td>88</td>\n",
       "      <td>ztf_candidate:1357212311615015001</td>\n",
       "      <td>...</td>\n",
       "      <td>NaN</td>\n",
       "      <td>NaN</td>\n",
       "      <td>NaN</td>\n",
       "      <td>39.334932</td>\n",
       "      <td>-18.312848</td>\n",
       "      <td>SNII</td>\n",
       "      <td>No_TNS</td>\n",
       "      <td>None</td>\n",
       "      <td>-99.0</td>\n",
       "      <td>None</td>\n",
       "    </tr>\n",
       "    <tr>\n",
       "      <th>ZTF22aacreno</th>\n",
       "      <td>281787</td>\n",
       "      <td>ANT2020edvwq</td>\n",
       "      <td>146.940490</td>\n",
       "      <td>-21.929953</td>\n",
       "      <td>['lc_feature_extractor']</td>\n",
       "      <td>['milliquas', 'bright_guide_star_cat', 'gaia_d...</td>\n",
       "      <td>NaN</td>\n",
       "      <td>129</td>\n",
       "      <td>95</td>\n",
       "      <td>ztf_candidate:828188395815015007</td>\n",
       "      <td>...</td>\n",
       "      <td>NaN</td>\n",
       "      <td>NaN</td>\n",
       "      <td>NaN</td>\n",
       "      <td>256.172074</td>\n",
       "      <td>23.831250</td>\n",
       "      <td>SLSN</td>\n",
       "      <td>No_TNS</td>\n",
       "      <td>None</td>\n",
       "      <td>-99.0</td>\n",
       "      <td>None</td>\n",
       "    </tr>\n",
       "    <tr>\n",
       "      <th>ZTF22aadadrh</th>\n",
       "      <td>379054</td>\n",
       "      <td>ANT2020ronzu</td>\n",
       "      <td>229.705716</td>\n",
       "      <td>-13.804744</td>\n",
       "      <td>['lc_feature_extractor']</td>\n",
       "      <td>['allwise', 'bright_guide_star_cat', 'gaia_dr2...</td>\n",
       "      <td>NaN</td>\n",
       "      <td>92</td>\n",
       "      <td>34</td>\n",
       "      <td>ztf_candidate:739546384915015018</td>\n",
       "      <td>...</td>\n",
       "      <td>NaN</td>\n",
       "      <td>NaN</td>\n",
       "      <td>NaN</td>\n",
       "      <td>348.710966</td>\n",
       "      <td>35.650140</td>\n",
       "      <td>SNIbc</td>\n",
       "      <td>No_TNS</td>\n",
       "      <td>None</td>\n",
       "      <td>-99.0</td>\n",
       "      <td>None</td>\n",
       "    </tr>\n",
       "    <tr>\n",
       "      <th>ZTF22aadbedd</th>\n",
       "      <td>90394</td>\n",
       "      <td>ANT2022bvzdq</td>\n",
       "      <td>267.441477</td>\n",
       "      <td>11.944210</td>\n",
       "      <td>['lc_feature_extractor']</td>\n",
       "      <td>[]</td>\n",
       "      <td>NaN</td>\n",
       "      <td>27</td>\n",
       "      <td>9</td>\n",
       "      <td>ztf_candidate:1876473404615015006</td>\n",
       "      <td>...</td>\n",
       "      <td>NaN</td>\n",
       "      <td>NaN</td>\n",
       "      <td>NaN</td>\n",
       "      <td>36.910015</td>\n",
       "      <td>19.017603</td>\n",
       "      <td>SN</td>\n",
       "      <td>No_TNS</td>\n",
       "      <td>None</td>\n",
       "      <td>-99.0</td>\n",
       "      <td>None</td>\n",
       "    </tr>\n",
       "  </tbody>\n",
       "</table>\n",
       "<p>9420 rows × 141 columns</p>\n",
       "</div>"
      ],
      "text/plain": [
       "               Unnamed: 0        locus_id          ra        dec  \\\n",
       "ztf_object_id                                                      \n",
       "ZTF17aaadars       858089    ANT2020setxa   74.008152   4.688007   \n",
       "ZTF17aaadvfh       845168    ANT2020jk2po   10.123141  40.602475   \n",
       "ZTF17aaahrni       896108  ANT2020aevgf7q   80.423285  -4.186247   \n",
       "ZTF17aaaivqs       985055    ANT2020jq7w6  127.370917  10.773342   \n",
       "ZTF17aaaizmo       998136    ANT2020pg5q4  132.155248  10.782338   \n",
       "...                   ...             ...         ...        ...   \n",
       "ZTF22aacjbmo       909153    ANT2020euljm  205.509960 -19.933047   \n",
       "ZTF22aackync       274345  ANT2020aeh34ei  302.025743  -2.811300   \n",
       "ZTF22aacreno       281787    ANT2020edvwq  146.940490 -21.929953   \n",
       "ZTF22aadadrh       379054    ANT2020ronzu  229.705716 -13.804744   \n",
       "ZTF22aadbedd        90394    ANT2022bvzdq  267.441477  11.944210   \n",
       "\n",
       "                                                            tags  \\\n",
       "ztf_object_id                                                      \n",
       "ZTF17aaadars   ['dwarf_nova_outburst', 'high_snr', 'high_ampl...   \n",
       "ZTF17aaadvfh   ['in_m31', 'lc_feature_extractor', 'extragalac...   \n",
       "ZTF17aaahrni   ['high_amplitude_transient_candidate', 'nova_t...   \n",
       "ZTF17aaaivqs   ['high_amplitude_variable_star_candidate', 'lc...   \n",
       "ZTF17aaaizmo   ['matheson_extreme_vpdf', 'lc_feature_extracto...   \n",
       "...                                                          ...   \n",
       "ZTF22aacjbmo                            ['lc_feature_extractor']   \n",
       "ZTF22aackync                            ['lc_feature_extractor']   \n",
       "ZTF22aacreno                            ['lc_feature_extractor']   \n",
       "ZTF22aadadrh                            ['lc_feature_extractor']   \n",
       "ZTF22aadbedd                            ['lc_feature_extractor']   \n",
       "\n",
       "                                                        catalogs ztf_ssnamenr  \\\n",
       "ztf_object_id                                                                   \n",
       "ZTF17aaadars                           ['bright_guide_star_cat']          NaN   \n",
       "ZTF17aaadvfh                    ['RC3', '2mass_xsc', 'gaia_dr2']          NaN   \n",
       "ZTF17aaahrni                                                  []          NaN   \n",
       "ZTF17aaaivqs   ['asassn_variable_catalog_v2_20190802', 'allwi...          NaN   \n",
       "ZTF17aaaizmo   ['2mass_psc', 'bright_guide_star_cat', 'gaia_d...          NaN   \n",
       "...                                                          ...          ...   \n",
       "ZTF22aacjbmo   ['allwise', 'bright_guide_star_cat', '2mass_ps...          NaN   \n",
       "ZTF22aackync   ['bright_guide_star_cat', '2mass_psc', 'allwis...          NaN   \n",
       "ZTF22aacreno   ['milliquas', 'bright_guide_star_cat', 'gaia_d...          NaN   \n",
       "ZTF22aadadrh   ['allwise', 'bright_guide_star_cat', 'gaia_dr2...          NaN   \n",
       "ZTF22aadbedd                                                  []          NaN   \n",
       "\n",
       "               num_alerts  num_mag_values                    oldest_alert_id  \\\n",
       "ztf_object_id                                                                  \n",
       "ZTF17aaadars          176              50   ztf_candidate:726272534215015034   \n",
       "ZTF17aaadvfh          345              25  ztf_candidate:1007342854215010039   \n",
       "ZTF17aaahrni           63              16  ztf_candidate:1398444022315015011   \n",
       "ZTF17aaaivqs          358             292   ztf_candidate:671461312615010000   \n",
       "ZTF17aaaizmo          289              97   ztf_candidate:680499561915015002   \n",
       "...                   ...             ...                                ...   \n",
       "ZTF22aacjbmo          132              60   ztf_candidate:738499311115015008   \n",
       "ZTF22aackync          273              88  ztf_candidate:1357212311615015001   \n",
       "ZTF22aacreno          129              95   ztf_candidate:828188395815015007   \n",
       "ZTF22aadadrh           92              34   ztf_candidate:739546384915015018   \n",
       "ZTF22aadbedd           27               9  ztf_candidate:1876473404615015006   \n",
       "\n",
       "               ...  vpdf_extreme_version    vpdf_extreme_faint  \\\n",
       "ztf_object_id  ...                                               \n",
       "ZTF17aaadars   ...                   NaN                   NaN   \n",
       "ZTF17aaadvfh   ...                   NaN                   NaN   \n",
       "ZTF17aaahrni   ...                   NaN                   NaN   \n",
       "ZTF17aaaivqs   ...                   NaN                   NaN   \n",
       "ZTF17aaaizmo   ...                 0.1.0  pct_99.99999_outlier   \n",
       "...            ...                   ...                   ...   \n",
       "ZTF22aacjbmo   ...                   NaN                   NaN   \n",
       "ZTF22aackync   ...                   NaN                   NaN   \n",
       "ZTF22aacreno   ...                   NaN                   NaN   \n",
       "ZTF22aadadrh   ...                   NaN                   NaN   \n",
       "ZTF22aadbedd   ...                   NaN                   NaN   \n",
       "\n",
       "              vpdf_extreme_bright  locus_gal_l  locus_gal_b stamp_cls  \\\n",
       "ztf_object_id                                                           \n",
       "ZTF17aaadars                  NaN   194.434930   -23.001128      SNIa   \n",
       "ZTF17aaadvfh                  NaN   120.687977   -22.221579      SLSN   \n",
       "ZTF17aaahrni                  NaN   206.213250   -21.841968      SNIa   \n",
       "ZTF17aaaivqs                  NaN   214.180505    26.612885      SLSN   \n",
       "ZTF17aaaizmo                  NaN   216.450964    30.870773      SNII   \n",
       "...                           ...          ...          ...       ...   \n",
       "ZTF22aacjbmo                  NaN   318.854533    41.368904      SLSN   \n",
       "ZTF22aackync                  NaN    39.334932   -18.312848      SNII   \n",
       "ZTF22aacreno                  NaN   256.172074    23.831250      SLSN   \n",
       "ZTF22aadadrh                  NaN   348.710966    35.650140     SNIbc   \n",
       "ZTF22aadbedd                  NaN    36.910015    19.017603        SN   \n",
       "\n",
       "               has_tns  tns_cls  spec_z  report_group  \n",
       "ztf_object_id                                          \n",
       "ZTF17aaadars    No_TNS     None   -99.0          None  \n",
       "ZTF17aaadvfh    No_TNS     None   -99.0          None  \n",
       "ZTF17aaahrni   Yes_TNS     None   -99.0    GaiaAlerts  \n",
       "ZTF17aaaivqs    No_TNS     None   -99.0          None  \n",
       "ZTF17aaaizmo    No_TNS     None   -99.0          None  \n",
       "...                ...      ...     ...           ...  \n",
       "ZTF22aacjbmo    No_TNS     None   -99.0          None  \n",
       "ZTF22aackync    No_TNS     None   -99.0          None  \n",
       "ZTF22aacreno    No_TNS     None   -99.0          None  \n",
       "ZTF22aadadrh    No_TNS     None   -99.0          None  \n",
       "ZTF22aadbedd    No_TNS     None   -99.0          None  \n",
       "\n",
       "[9420 rows x 141 columns]"
      ]
     },
     "execution_count": 3,
     "metadata": {},
     "output_type": "execute_result"
    }
   ],
   "source": [
    "dataset_bank = pd.read_csv(f'../loci_dbs/alerce_cut/dataset_bank_and_tns_df_9420objects.csv.gz', \n",
    "                           compression='gzip', index_col='ztf_object_id')\n",
    "dataset_bank"
   ]
  },
  {
   "cell_type": "code",
   "execution_count": 4,
   "id": "19247255",
   "metadata": {},
   "outputs": [
    {
     "name": "stdout",
     "output_type": "stream",
     "text": [
      "GHOST database already exists in the install path!\n",
      "\n",
      "START: 4500 END: 4600\n",
      "Finding northern sources with Pan-starrs...\n",
      "Processed 10 of 100 lines!\n",
      "Processed 20 of 100 lines!\n",
      "Processed 30 of 100 lines!\n",
      "Processed 40 of 100 lines!\n",
      "Processed 50 of 100 lines!\n",
      "Processed 60 of 100 lines!\n",
      "Processed 70 of 100 lines!\n",
      "Processed 80 of 100 lines!\n",
      "Processed 90 of 100 lines!\n",
      "Processed 100 of 100 lines!\n"
     ]
    },
    {
     "name": "stderr",
     "output_type": "stream",
     "text": [
      "/Users/patrickaleo/miniconda3/envs/laiss/lib/python3.8/site-packages/astro_ghost/stellarLocus.py:64: RuntimeWarning: All-NaN slice encountered\n",
      "  df.loc[i,\"7DCD\"] = np.nanmin(np.array(temp_7DCD_1val))\n"
     ]
    },
    {
     "name": "stdout",
     "output_type": "stream",
     "text": [
      "Found matches for 76.0% of events.\n",
      "Saved!\n",
      "#############\n",
      "\n",
      "START: 4600 END: 4700\n",
      "Finding northern sources with Pan-starrs...\n",
      "Processed 10 of 100 lines!\n",
      "Processed 20 of 100 lines!\n",
      "Processed 30 of 100 lines!\n",
      "Processed 40 of 100 lines!\n",
      "Processed 50 of 100 lines!\n",
      "Processed 60 of 100 lines!\n",
      "Processed 70 of 100 lines!\n",
      "Processed 80 of 100 lines!\n",
      "Processed 90 of 100 lines!\n",
      "Processed 100 of 100 lines!\n"
     ]
    },
    {
     "name": "stderr",
     "output_type": "stream",
     "text": [
      "/Users/patrickaleo/miniconda3/envs/laiss/lib/python3.8/site-packages/astro_ghost/stellarLocus.py:64: RuntimeWarning: All-NaN slice encountered\n",
      "  df.loc[i,\"7DCD\"] = np.nanmin(np.array(temp_7DCD_1val))\n"
     ]
    },
    {
     "name": "stdout",
     "output_type": "stream",
     "text": [
      "Found matches for 92.0% of events.\n",
      "Saved!\n",
      "#############\n",
      "\n",
      "START: 4700 END: 4800\n",
      "Finding northern sources with Pan-starrs...\n",
      "Processed 10 of 100 lines!\n",
      "Processed 20 of 100 lines!\n",
      "Processed 30 of 100 lines!\n",
      "Processed 40 of 100 lines!\n",
      "Processed 50 of 100 lines!\n",
      "Processed 60 of 100 lines!\n",
      "Processed 70 of 100 lines!\n",
      "Processed 80 of 100 lines!\n",
      "Processed 90 of 100 lines!\n",
      "Processed 100 of 100 lines!\n"
     ]
    },
    {
     "name": "stderr",
     "output_type": "stream",
     "text": [
      "/Users/patrickaleo/miniconda3/envs/laiss/lib/python3.8/site-packages/astro_ghost/stellarLocus.py:64: RuntimeWarning: All-NaN slice encountered\n",
      "  df.loc[i,\"7DCD\"] = np.nanmin(np.array(temp_7DCD_1val))\n"
     ]
    },
    {
     "name": "stdout",
     "output_type": "stream",
     "text": [
      "Found matches for 79.0% of events.\n",
      "Saved!\n",
      "#############\n",
      "\n",
      "START: 4800 END: 4900\n",
      "Finding northern sources with Pan-starrs...\n",
      "Processed 10 of 100 lines!\n",
      "Processed 20 of 100 lines!\n",
      "Processed 30 of 100 lines!\n",
      "Processed 40 of 100 lines!\n",
      "Processed 50 of 100 lines!\n",
      "Processed 60 of 100 lines!\n",
      "Processed 70 of 100 lines!\n",
      "Processed 80 of 100 lines!\n",
      "Processed 90 of 100 lines!\n",
      "Processed 100 of 100 lines!\n"
     ]
    },
    {
     "name": "stderr",
     "output_type": "stream",
     "text": [
      "/Users/patrickaleo/miniconda3/envs/laiss/lib/python3.8/site-packages/astro_ghost/stellarLocus.py:64: RuntimeWarning: All-NaN slice encountered\n",
      "  df.loc[i,\"7DCD\"] = np.nanmin(np.array(temp_7DCD_1val))\n"
     ]
    },
    {
     "name": "stdout",
     "output_type": "stream",
     "text": [
      "Found matches for 83.0% of events.\n",
      "Saved!\n",
      "#############\n",
      "\n",
      "START: 4900 END: 5000\n",
      "Finding northern sources with Pan-starrs...\n",
      "Processed 10 of 100 lines!\n",
      "Processed 20 of 100 lines!\n",
      "Processed 30 of 100 lines!\n",
      "Processed 40 of 100 lines!\n",
      "Processed 50 of 100 lines!\n",
      "Processed 60 of 100 lines!\n",
      "Processed 70 of 100 lines!\n",
      "Processed 80 of 100 lines!\n",
      "Processed 90 of 100 lines!\n",
      "Processed 100 of 100 lines!\n"
     ]
    },
    {
     "name": "stderr",
     "output_type": "stream",
     "text": [
      "/Users/patrickaleo/miniconda3/envs/laiss/lib/python3.8/site-packages/astro_ghost/stellarLocus.py:64: RuntimeWarning: All-NaN slice encountered\n",
      "  df.loc[i,\"7DCD\"] = np.nanmin(np.array(temp_7DCD_1val))\n"
     ]
    },
    {
     "name": "stdout",
     "output_type": "stream",
     "text": [
      "Found matches for 82.0% of events.\n",
      "Saved!\n",
      "#############\n",
      "\n",
      "START: 5000 END: 5100\n",
      "Finding northern sources with Pan-starrs...\n",
      "Processed 10 of 100 lines!\n",
      "Processed 20 of 100 lines!\n",
      "Processed 30 of 100 lines!\n",
      "Processed 40 of 100 lines!\n",
      "Processed 50 of 100 lines!\n",
      "Processed 60 of 100 lines!\n",
      "Processed 70 of 100 lines!\n",
      "Processed 80 of 100 lines!\n",
      "Processed 90 of 100 lines!\n",
      "Processed 100 of 100 lines!\n"
     ]
    },
    {
     "name": "stderr",
     "output_type": "stream",
     "text": [
      "/Users/patrickaleo/miniconda3/envs/laiss/lib/python3.8/site-packages/astro_ghost/stellarLocus.py:64: RuntimeWarning: All-NaN slice encountered\n",
      "  df.loc[i,\"7DCD\"] = np.nanmin(np.array(temp_7DCD_1val))\n"
     ]
    },
    {
     "name": "stdout",
     "output_type": "stream",
     "text": [
      "Found matches for 77.0% of events.\n",
      "Saved!\n",
      "#############\n",
      "\n",
      "START: 5100 END: 5200\n",
      "Finding northern sources with Pan-starrs...\n",
      "Processed 10 of 100 lines!\n",
      "Processed 20 of 100 lines!\n",
      "Processed 30 of 100 lines!\n",
      "Processed 40 of 100 lines!\n",
      "Processed 50 of 100 lines!\n",
      "Processed 60 of 100 lines!\n",
      "Processed 70 of 100 lines!\n",
      "Processed 80 of 100 lines!\n",
      "Processed 90 of 100 lines!\n",
      "Processed 100 of 100 lines!\n"
     ]
    },
    {
     "name": "stderr",
     "output_type": "stream",
     "text": [
      "/Users/patrickaleo/miniconda3/envs/laiss/lib/python3.8/site-packages/astro_ghost/stellarLocus.py:64: RuntimeWarning: All-NaN slice encountered\n",
      "  df.loc[i,\"7DCD\"] = np.nanmin(np.array(temp_7DCD_1val))\n"
     ]
    },
    {
     "name": "stdout",
     "output_type": "stream",
     "text": [
      "Found matches for 81.0% of events.\n",
      "Saved!\n",
      "#############\n",
      "\n",
      "START: 5200 END: 5300\n",
      "Finding northern sources with Pan-starrs...\n",
      "Processed 10 of 100 lines!\n",
      "Processed 20 of 100 lines!\n",
      "Processed 30 of 100 lines!\n",
      "Processed 40 of 100 lines!\n",
      "Processed 50 of 100 lines!\n",
      "Processed 60 of 100 lines!\n",
      "Processed 70 of 100 lines!\n",
      "Processed 80 of 100 lines!\n",
      "Processed 90 of 100 lines!\n",
      "Processed 100 of 100 lines!\n"
     ]
    },
    {
     "name": "stderr",
     "output_type": "stream",
     "text": [
      "/Users/patrickaleo/miniconda3/envs/laiss/lib/python3.8/site-packages/astro_ghost/stellarLocus.py:64: RuntimeWarning: All-NaN slice encountered\n",
      "  df.loc[i,\"7DCD\"] = np.nanmin(np.array(temp_7DCD_1val))\n"
     ]
    },
    {
     "name": "stdout",
     "output_type": "stream",
     "text": [
      "Found matches for 77.0% of events.\n",
      "Saved!\n",
      "#############\n",
      "\n",
      "START: 5300 END: 5400\n",
      "Finding northern sources with Pan-starrs...\n",
      "Processed 10 of 100 lines!\n",
      "Processed 20 of 100 lines!\n",
      "Processed 30 of 100 lines!\n",
      "Processed 40 of 100 lines!\n",
      "Processed 50 of 100 lines!\n",
      "Processed 60 of 100 lines!\n",
      "Processed 70 of 100 lines!\n",
      "Processed 80 of 100 lines!\n",
      "Processed 90 of 100 lines!\n",
      "Processed 100 of 100 lines!\n"
     ]
    },
    {
     "name": "stderr",
     "output_type": "stream",
     "text": [
      "/Users/patrickaleo/miniconda3/envs/laiss/lib/python3.8/site-packages/astro_ghost/stellarLocus.py:64: RuntimeWarning: All-NaN slice encountered\n",
      "  df.loc[i,\"7DCD\"] = np.nanmin(np.array(temp_7DCD_1val))\n"
     ]
    },
    {
     "name": "stdout",
     "output_type": "stream",
     "text": [
      "Found matches for 83.0% of events.\n",
      "Saved!\n",
      "#############\n",
      "\n",
      "START: 5400 END: 5500\n",
      "Finding northern sources with Pan-starrs...\n",
      "Processed 10 of 100 lines!\n",
      "Processed 20 of 100 lines!\n",
      "Processed 30 of 100 lines!\n",
      "Processed 40 of 100 lines!\n",
      "Processed 50 of 100 lines!\n",
      "Processed 60 of 100 lines!\n",
      "Processed 70 of 100 lines!\n",
      "Processed 80 of 100 lines!\n",
      "Processed 90 of 100 lines!\n",
      "Processed 100 of 100 lines!\n"
     ]
    },
    {
     "name": "stderr",
     "output_type": "stream",
     "text": [
      "/Users/patrickaleo/miniconda3/envs/laiss/lib/python3.8/site-packages/astro_ghost/stellarLocus.py:64: RuntimeWarning: All-NaN slice encountered\n",
      "  df.loc[i,\"7DCD\"] = np.nanmin(np.array(temp_7DCD_1val))\n"
     ]
    },
    {
     "name": "stdout",
     "output_type": "stream",
     "text": [
      "Found matches for 80.0% of events.\n",
      "Saved!\n",
      "#############\n",
      "\n",
      "START: 5500 END: 5600\n",
      "Finding northern sources with Pan-starrs...\n",
      "Processed 10 of 100 lines!\n",
      "Processed 20 of 100 lines!\n",
      "Processed 30 of 100 lines!\n",
      "Processed 40 of 100 lines!\n",
      "Processed 50 of 100 lines!\n",
      "Processed 60 of 100 lines!\n",
      "Processed 70 of 100 lines!\n",
      "Processed 80 of 100 lines!\n",
      "Processed 90 of 100 lines!\n",
      "Processed 100 of 100 lines!\n"
     ]
    },
    {
     "name": "stderr",
     "output_type": "stream",
     "text": [
      "/Users/patrickaleo/miniconda3/envs/laiss/lib/python3.8/site-packages/astro_ghost/stellarLocus.py:64: RuntimeWarning: All-NaN slice encountered\n",
      "  df.loc[i,\"7DCD\"] = np.nanmin(np.array(temp_7DCD_1val))\n"
     ]
    },
    {
     "name": "stdout",
     "output_type": "stream",
     "text": [
      "Found matches for 75.0% of events.\n",
      "Saved!\n",
      "#############\n",
      "\n",
      "START: 5600 END: 5700\n",
      "Finding northern sources with Pan-starrs...\n",
      "Processed 10 of 100 lines!\n",
      "Processed 20 of 100 lines!\n",
      "Processed 30 of 100 lines!\n",
      "Processed 40 of 100 lines!\n",
      "Processed 50 of 100 lines!\n",
      "Processed 60 of 100 lines!\n",
      "Processed 70 of 100 lines!\n",
      "Processed 80 of 100 lines!\n",
      "Processed 90 of 100 lines!\n",
      "Processed 100 of 100 lines!\n"
     ]
    },
    {
     "name": "stderr",
     "output_type": "stream",
     "text": [
      "/Users/patrickaleo/miniconda3/envs/laiss/lib/python3.8/site-packages/astro_ghost/stellarLocus.py:64: RuntimeWarning: All-NaN slice encountered\n",
      "  df.loc[i,\"7DCD\"] = np.nanmin(np.array(temp_7DCD_1val))\n"
     ]
    },
    {
     "name": "stdout",
     "output_type": "stream",
     "text": [
      "Found matches for 80.0% of events.\n",
      "Saved!\n",
      "#############\n",
      "\n",
      "START: 5700 END: 5800\n",
      "Finding northern sources with Pan-starrs...\n",
      "Processed 10 of 100 lines!\n",
      "Processed 20 of 100 lines!\n",
      "Processed 30 of 100 lines!\n",
      "Processed 40 of 100 lines!\n",
      "Processed 50 of 100 lines!\n",
      "Processed 60 of 100 lines!\n",
      "Processed 70 of 100 lines!\n",
      "Processed 80 of 100 lines!\n",
      "Processed 90 of 100 lines!\n",
      "Processed 100 of 100 lines!\n"
     ]
    },
    {
     "name": "stderr",
     "output_type": "stream",
     "text": [
      "/Users/patrickaleo/miniconda3/envs/laiss/lib/python3.8/site-packages/astro_ghost/stellarLocus.py:64: RuntimeWarning: All-NaN slice encountered\n",
      "  df.loc[i,\"7DCD\"] = np.nanmin(np.array(temp_7DCD_1val))\n"
     ]
    },
    {
     "name": "stdout",
     "output_type": "stream",
     "text": [
      "Found matches for 86.0% of events.\n",
      "Saved!\n",
      "#############\n",
      "\n",
      "START: 5800 END: 5900\n",
      "Finding northern sources with Pan-starrs...\n",
      "Processed 10 of 100 lines!\n",
      "Processed 20 of 100 lines!\n",
      "Processed 30 of 100 lines!\n",
      "Processed 40 of 100 lines!\n",
      "Processed 50 of 100 lines!\n",
      "Processed 60 of 100 lines!\n",
      "Processed 70 of 100 lines!\n",
      "Processed 80 of 100 lines!\n",
      "Processed 90 of 100 lines!\n",
      "Processed 100 of 100 lines!\n"
     ]
    },
    {
     "name": "stderr",
     "output_type": "stream",
     "text": [
      "/Users/patrickaleo/miniconda3/envs/laiss/lib/python3.8/site-packages/astro_ghost/stellarLocus.py:64: RuntimeWarning: All-NaN slice encountered\n",
      "  df.loc[i,\"7DCD\"] = np.nanmin(np.array(temp_7DCD_1val))\n"
     ]
    },
    {
     "name": "stdout",
     "output_type": "stream",
     "text": [
      "Found matches for 83.0% of events.\n",
      "Saved!\n",
      "#############\n",
      "\n",
      "START: 5900 END: 6000\n",
      "Finding northern sources with Pan-starrs...\n",
      "Processed 10 of 100 lines!\n",
      "Processed 20 of 100 lines!\n",
      "Processed 30 of 100 lines!\n",
      "Processed 40 of 100 lines!\n",
      "Processed 50 of 100 lines!\n",
      "Processed 60 of 100 lines!\n",
      "Processed 70 of 100 lines!\n",
      "Processed 80 of 100 lines!\n",
      "Processed 90 of 100 lines!\n",
      "Processed 100 of 100 lines!\n"
     ]
    },
    {
     "name": "stderr",
     "output_type": "stream",
     "text": [
      "/Users/patrickaleo/miniconda3/envs/laiss/lib/python3.8/site-packages/astro_ghost/stellarLocus.py:64: RuntimeWarning: All-NaN slice encountered\n",
      "  df.loc[i,\"7DCD\"] = np.nanmin(np.array(temp_7DCD_1val))\n"
     ]
    },
    {
     "name": "stdout",
     "output_type": "stream",
     "text": [
      "Found matches for 78.0% of events.\n",
      "Saved!\n",
      "#############\n",
      "\n",
      "START: 6000 END: 6100\n",
      "Finding northern sources with Pan-starrs...\n",
      "Processed 10 of 100 lines!\n",
      "Processed 20 of 100 lines!\n",
      "Processed 30 of 100 lines!\n",
      "Processed 40 of 100 lines!\n",
      "Processed 50 of 100 lines!\n",
      "Processed 60 of 100 lines!\n",
      "Processed 70 of 100 lines!\n",
      "Processed 80 of 100 lines!\n",
      "Processed 90 of 100 lines!\n",
      "Processed 100 of 100 lines!\n"
     ]
    },
    {
     "name": "stderr",
     "output_type": "stream",
     "text": [
      "/Users/patrickaleo/miniconda3/envs/laiss/lib/python3.8/site-packages/astro_ghost/stellarLocus.py:64: RuntimeWarning: All-NaN slice encountered\n",
      "  df.loc[i,\"7DCD\"] = np.nanmin(np.array(temp_7DCD_1val))\n"
     ]
    },
    {
     "name": "stdout",
     "output_type": "stream",
     "text": [
      "Found matches for 76.0% of events.\n",
      "Saved!\n",
      "#############\n",
      "\n",
      "START: 6100 END: 6200\n",
      "Finding northern sources with Pan-starrs...\n",
      "Processed 10 of 100 lines!\n",
      "Processed 20 of 100 lines!\n",
      "Processed 30 of 100 lines!\n",
      "Processed 40 of 100 lines!\n",
      "Processed 50 of 100 lines!\n",
      "Processed 60 of 100 lines!\n",
      "Processed 70 of 100 lines!\n",
      "Processed 80 of 100 lines!\n",
      "Processed 90 of 100 lines!\n",
      "Processed 100 of 100 lines!\n"
     ]
    },
    {
     "name": "stderr",
     "output_type": "stream",
     "text": [
      "/Users/patrickaleo/miniconda3/envs/laiss/lib/python3.8/site-packages/astro_ghost/stellarLocus.py:64: RuntimeWarning: All-NaN slice encountered\n",
      "  df.loc[i,\"7DCD\"] = np.nanmin(np.array(temp_7DCD_1val))\n"
     ]
    },
    {
     "name": "stdout",
     "output_type": "stream",
     "text": [
      "Found matches for 82.0% of events.\n",
      "Saved!\n",
      "#############\n",
      "\n",
      "START: 6200 END: 6300\n",
      "Finding northern sources with Pan-starrs...\n",
      "Processed 10 of 100 lines!\n",
      "Processed 20 of 100 lines!\n",
      "Processed 30 of 100 lines!\n",
      "Processed 40 of 100 lines!\n",
      "Processed 50 of 100 lines!\n",
      "Processed 60 of 100 lines!\n",
      "Processed 70 of 100 lines!\n",
      "Processed 80 of 100 lines!\n",
      "Processed 90 of 100 lines!\n",
      "Processed 100 of 100 lines!\n"
     ]
    },
    {
     "name": "stderr",
     "output_type": "stream",
     "text": [
      "/Users/patrickaleo/miniconda3/envs/laiss/lib/python3.8/site-packages/astro_ghost/stellarLocus.py:64: RuntimeWarning: All-NaN slice encountered\n",
      "  df.loc[i,\"7DCD\"] = np.nanmin(np.array(temp_7DCD_1val))\n"
     ]
    },
    {
     "name": "stdout",
     "output_type": "stream",
     "text": [
      "Found matches for 86.0% of events.\n",
      "Saved!\n",
      "#############\n",
      "\n",
      "START: 6300 END: 6400\n",
      "Finding northern sources with Pan-starrs...\n",
      "Processed 10 of 100 lines!\n",
      "Processed 20 of 100 lines!\n",
      "Processed 30 of 100 lines!\n",
      "Processed 40 of 100 lines!\n",
      "Processed 50 of 100 lines!\n",
      "Processed 60 of 100 lines!\n",
      "Processed 70 of 100 lines!\n",
      "Processed 80 of 100 lines!\n",
      "Processed 90 of 100 lines!\n",
      "Processed 100 of 100 lines!\n"
     ]
    },
    {
     "name": "stderr",
     "output_type": "stream",
     "text": [
      "/Users/patrickaleo/miniconda3/envs/laiss/lib/python3.8/site-packages/astro_ghost/stellarLocus.py:64: RuntimeWarning: All-NaN slice encountered\n",
      "  df.loc[i,\"7DCD\"] = np.nanmin(np.array(temp_7DCD_1val))\n"
     ]
    },
    {
     "name": "stdout",
     "output_type": "stream",
     "text": [
      "Found matches for 74.0% of events.\n",
      "Saved!\n",
      "#############\n",
      "\n",
      "START: 6400 END: 6500\n",
      "Finding northern sources with Pan-starrs...\n",
      "Processed 10 of 100 lines!\n",
      "Processed 20 of 100 lines!\n",
      "Processed 30 of 100 lines!\n",
      "Processed 40 of 100 lines!\n",
      "Processed 50 of 100 lines!\n",
      "Processed 60 of 100 lines!\n",
      "Processed 70 of 100 lines!\n",
      "Processed 80 of 100 lines!\n",
      "Processed 90 of 100 lines!\n",
      "Processed 100 of 100 lines!\n"
     ]
    },
    {
     "name": "stderr",
     "output_type": "stream",
     "text": [
      "/Users/patrickaleo/miniconda3/envs/laiss/lib/python3.8/site-packages/astro_ghost/stellarLocus.py:64: RuntimeWarning: All-NaN slice encountered\n",
      "  df.loc[i,\"7DCD\"] = np.nanmin(np.array(temp_7DCD_1val))\n"
     ]
    },
    {
     "name": "stdout",
     "output_type": "stream",
     "text": [
      "Found matches for 80.0% of events.\n",
      "Saved!\n",
      "#############\n",
      "\n",
      "START: 6500 END: 6600\n",
      "Finding northern sources with Pan-starrs...\n",
      "Processed 10 of 100 lines!\n",
      "Processed 20 of 100 lines!\n",
      "Processed 30 of 100 lines!\n",
      "Processed 40 of 100 lines!\n",
      "Processed 50 of 100 lines!\n",
      "Processed 60 of 100 lines!\n",
      "Processed 70 of 100 lines!\n",
      "Processed 80 of 100 lines!\n",
      "Processed 90 of 100 lines!\n",
      "Processed 100 of 100 lines!\n"
     ]
    },
    {
     "name": "stderr",
     "output_type": "stream",
     "text": [
      "/Users/patrickaleo/miniconda3/envs/laiss/lib/python3.8/site-packages/astro_ghost/stellarLocus.py:64: RuntimeWarning: All-NaN slice encountered\n",
      "  df.loc[i,\"7DCD\"] = np.nanmin(np.array(temp_7DCD_1val))\n"
     ]
    },
    {
     "name": "stdout",
     "output_type": "stream",
     "text": [
      "Found matches for 78.0% of events.\n",
      "Saved!\n",
      "#############\n",
      "\n",
      "START: 6600 END: 6700\n",
      "Finding northern sources with Pan-starrs...\n",
      "Processed 10 of 100 lines!\n",
      "Processed 20 of 100 lines!\n",
      "Processed 30 of 100 lines!\n",
      "Processed 40 of 100 lines!\n",
      "Processed 50 of 100 lines!\n",
      "Processed 60 of 100 lines!\n",
      "Processed 70 of 100 lines!\n",
      "Processed 80 of 100 lines!\n",
      "Processed 90 of 100 lines!\n",
      "Processed 100 of 100 lines!\n"
     ]
    },
    {
     "name": "stderr",
     "output_type": "stream",
     "text": [
      "/Users/patrickaleo/miniconda3/envs/laiss/lib/python3.8/site-packages/astro_ghost/stellarLocus.py:64: RuntimeWarning: All-NaN slice encountered\n",
      "  df.loc[i,\"7DCD\"] = np.nanmin(np.array(temp_7DCD_1val))\n"
     ]
    },
    {
     "name": "stdout",
     "output_type": "stream",
     "text": [
      "Found matches for 69.0% of events.\n",
      "Saved!\n",
      "#############\n",
      "\n",
      "START: 6700 END: 6800\n",
      "Finding northern sources with Pan-starrs...\n",
      "Processed 10 of 100 lines!\n",
      "Processed 20 of 100 lines!\n",
      "Processed 30 of 100 lines!\n",
      "Processed 40 of 100 lines!\n",
      "Processed 50 of 100 lines!\n",
      "Processed 60 of 100 lines!\n",
      "Processed 70 of 100 lines!\n",
      "Processed 80 of 100 lines!\n",
      "Processed 90 of 100 lines!\n",
      "Processed 100 of 100 lines!\n"
     ]
    },
    {
     "name": "stderr",
     "output_type": "stream",
     "text": [
      "/Users/patrickaleo/miniconda3/envs/laiss/lib/python3.8/site-packages/astro_ghost/stellarLocus.py:64: RuntimeWarning: All-NaN slice encountered\n",
      "  df.loc[i,\"7DCD\"] = np.nanmin(np.array(temp_7DCD_1val))\n"
     ]
    },
    {
     "name": "stdout",
     "output_type": "stream",
     "text": [
      "Found matches for 81.0% of events.\n",
      "Saved!\n",
      "#############\n",
      "\n",
      "START: 6800 END: 6900\n",
      "Finding northern sources with Pan-starrs...\n",
      "Processed 10 of 100 lines!\n",
      "Processed 20 of 100 lines!\n",
      "Processed 30 of 100 lines!\n",
      "Processed 40 of 100 lines!\n",
      "Processed 50 of 100 lines!\n",
      "Processed 60 of 100 lines!\n",
      "Processed 70 of 100 lines!\n",
      "Processed 80 of 100 lines!\n",
      "Processed 90 of 100 lines!\n",
      "Processed 100 of 100 lines!\n"
     ]
    },
    {
     "name": "stderr",
     "output_type": "stream",
     "text": [
      "/Users/patrickaleo/miniconda3/envs/laiss/lib/python3.8/site-packages/astro_ghost/stellarLocus.py:64: RuntimeWarning: All-NaN slice encountered\n",
      "  df.loc[i,\"7DCD\"] = np.nanmin(np.array(temp_7DCD_1val))\n"
     ]
    },
    {
     "name": "stdout",
     "output_type": "stream",
     "text": [
      "Found matches for 79.0% of events.\n",
      "Saved!\n",
      "#############\n",
      "\n",
      "START: 6900 END: 7000\n",
      "Finding northern sources with Pan-starrs...\n",
      "Processed 10 of 100 lines!\n",
      "Processed 20 of 100 lines!\n",
      "Processed 30 of 100 lines!\n",
      "Processed 40 of 100 lines!\n",
      "Processed 50 of 100 lines!\n",
      "Processed 60 of 100 lines!\n",
      "Processed 70 of 100 lines!\n",
      "Processed 80 of 100 lines!\n",
      "Processed 90 of 100 lines!\n",
      "Processed 100 of 100 lines!\n"
     ]
    },
    {
     "name": "stderr",
     "output_type": "stream",
     "text": [
      "/Users/patrickaleo/miniconda3/envs/laiss/lib/python3.8/site-packages/astro_ghost/stellarLocus.py:64: RuntimeWarning: All-NaN slice encountered\n",
      "  df.loc[i,\"7DCD\"] = np.nanmin(np.array(temp_7DCD_1val))\n"
     ]
    },
    {
     "name": "stdout",
     "output_type": "stream",
     "text": [
      "Found matches for 64.0% of events.\n",
      "Saved!\n",
      "#############\n",
      "\n",
      "START: 7000 END: 7100\n",
      "Finding northern sources with Pan-starrs...\n",
      "Processed 10 of 100 lines!\n",
      "Processed 20 of 100 lines!\n",
      "Processed 30 of 100 lines!\n",
      "Processed 40 of 100 lines!\n",
      "Processed 50 of 100 lines!\n",
      "Processed 60 of 100 lines!\n",
      "Processed 70 of 100 lines!\n",
      "Processed 80 of 100 lines!\n",
      "Processed 90 of 100 lines!\n",
      "Processed 100 of 100 lines!\n"
     ]
    },
    {
     "name": "stderr",
     "output_type": "stream",
     "text": [
      "/Users/patrickaleo/miniconda3/envs/laiss/lib/python3.8/site-packages/astro_ghost/stellarLocus.py:64: RuntimeWarning: All-NaN slice encountered\n",
      "  df.loc[i,\"7DCD\"] = np.nanmin(np.array(temp_7DCD_1val))\n"
     ]
    },
    {
     "name": "stdout",
     "output_type": "stream",
     "text": [
      "Found matches for 67.0% of events.\n",
      "Saved!\n",
      "#############\n",
      "\n",
      "START: 7100 END: 7200\n",
      "Finding northern sources with Pan-starrs...\n",
      "Processed 10 of 100 lines!\n",
      "Processed 20 of 100 lines!\n",
      "Processed 30 of 100 lines!\n",
      "Processed 40 of 100 lines!\n",
      "Processed 50 of 100 lines!\n",
      "Processed 60 of 100 lines!\n",
      "Processed 70 of 100 lines!\n",
      "Processed 80 of 100 lines!\n",
      "Processed 90 of 100 lines!\n",
      "Processed 100 of 100 lines!\n"
     ]
    },
    {
     "name": "stderr",
     "output_type": "stream",
     "text": [
      "/Users/patrickaleo/miniconda3/envs/laiss/lib/python3.8/site-packages/astro_ghost/stellarLocus.py:64: RuntimeWarning: All-NaN slice encountered\n",
      "  df.loc[i,\"7DCD\"] = np.nanmin(np.array(temp_7DCD_1val))\n"
     ]
    },
    {
     "name": "stdout",
     "output_type": "stream",
     "text": [
      "Found matches for 67.0% of events.\n",
      "Saved!\n",
      "#############\n",
      "\n",
      "START: 7200 END: 7300\n",
      "Finding northern sources with Pan-starrs...\n",
      "Processed 10 of 100 lines!\n",
      "Processed 20 of 100 lines!\n",
      "Processed 30 of 100 lines!\n",
      "Processed 40 of 100 lines!\n",
      "Processed 50 of 100 lines!\n",
      "Processed 60 of 100 lines!\n",
      "Processed 70 of 100 lines!\n",
      "Processed 80 of 100 lines!\n",
      "Processed 90 of 100 lines!\n",
      "Processed 100 of 100 lines!\n"
     ]
    },
    {
     "name": "stderr",
     "output_type": "stream",
     "text": [
      "/Users/patrickaleo/miniconda3/envs/laiss/lib/python3.8/site-packages/astro_ghost/stellarLocus.py:64: RuntimeWarning: All-NaN slice encountered\n",
      "  df.loc[i,\"7DCD\"] = np.nanmin(np.array(temp_7DCD_1val))\n"
     ]
    },
    {
     "name": "stdout",
     "output_type": "stream",
     "text": [
      "Found matches for 71.0% of events.\n",
      "Saved!\n",
      "#############\n",
      "\n",
      "START: 7300 END: 7400\n",
      "Finding northern sources with Pan-starrs...\n",
      "Processed 10 of 100 lines!\n",
      "Processed 20 of 100 lines!\n",
      "Processed 30 of 100 lines!\n",
      "Processed 40 of 100 lines!\n",
      "Processed 50 of 100 lines!\n",
      "Processed 60 of 100 lines!\n",
      "Processed 70 of 100 lines!\n",
      "Processed 80 of 100 lines!\n",
      "Processed 90 of 100 lines!\n",
      "Processed 100 of 100 lines!\n"
     ]
    },
    {
     "name": "stderr",
     "output_type": "stream",
     "text": [
      "/Users/patrickaleo/miniconda3/envs/laiss/lib/python3.8/site-packages/astro_ghost/stellarLocus.py:64: RuntimeWarning: All-NaN slice encountered\n",
      "  df.loc[i,\"7DCD\"] = np.nanmin(np.array(temp_7DCD_1val))\n"
     ]
    },
    {
     "name": "stdout",
     "output_type": "stream",
     "text": [
      "Found matches for 71.0% of events.\n",
      "Saved!\n",
      "#############\n",
      "\n",
      "START: 7400 END: 7500\n",
      "Finding northern sources with Pan-starrs...\n",
      "Processed 10 of 100 lines!\n",
      "Processed 20 of 100 lines!\n",
      "Processed 30 of 100 lines!\n",
      "Processed 40 of 100 lines!\n",
      "Processed 50 of 100 lines!\n",
      "Processed 60 of 100 lines!\n",
      "Processed 70 of 100 lines!\n",
      "Processed 80 of 100 lines!\n",
      "Processed 90 of 100 lines!\n",
      "Processed 100 of 100 lines!\n"
     ]
    },
    {
     "name": "stderr",
     "output_type": "stream",
     "text": [
      "/Users/patrickaleo/miniconda3/envs/laiss/lib/python3.8/site-packages/astro_ghost/stellarLocus.py:64: RuntimeWarning: All-NaN slice encountered\n",
      "  df.loc[i,\"7DCD\"] = np.nanmin(np.array(temp_7DCD_1val))\n"
     ]
    },
    {
     "name": "stdout",
     "output_type": "stream",
     "text": [
      "Found matches for 69.0% of events.\n",
      "Saved!\n",
      "#############\n",
      "\n",
      "START: 7500 END: 7600\n",
      "Finding northern sources with Pan-starrs...\n",
      "Processed 10 of 100 lines!\n",
      "Processed 20 of 100 lines!\n",
      "Processed 30 of 100 lines!\n",
      "Processed 40 of 100 lines!\n",
      "Processed 50 of 100 lines!\n",
      "Processed 60 of 100 lines!\n",
      "Processed 70 of 100 lines!\n",
      "Processed 80 of 100 lines!\n",
      "Processed 90 of 100 lines!\n",
      "Processed 100 of 100 lines!\n"
     ]
    },
    {
     "name": "stderr",
     "output_type": "stream",
     "text": [
      "/Users/patrickaleo/miniconda3/envs/laiss/lib/python3.8/site-packages/astro_ghost/stellarLocus.py:64: RuntimeWarning: All-NaN slice encountered\n",
      "  df.loc[i,\"7DCD\"] = np.nanmin(np.array(temp_7DCD_1val))\n"
     ]
    },
    {
     "name": "stdout",
     "output_type": "stream",
     "text": [
      "Found matches for 69.0% of events.\n",
      "Saved!\n",
      "#############\n",
      "\n",
      "START: 7600 END: 7700\n",
      "Finding northern sources with Pan-starrs...\n",
      "Processed 10 of 100 lines!\n",
      "Processed 20 of 100 lines!\n",
      "Processed 30 of 100 lines!\n",
      "Processed 40 of 100 lines!\n",
      "Processed 50 of 100 lines!\n",
      "Processed 60 of 100 lines!\n",
      "Processed 70 of 100 lines!\n",
      "Processed 80 of 100 lines!\n",
      "Processed 90 of 100 lines!\n",
      "Processed 100 of 100 lines!\n"
     ]
    },
    {
     "name": "stderr",
     "output_type": "stream",
     "text": [
      "/Users/patrickaleo/miniconda3/envs/laiss/lib/python3.8/site-packages/astro_ghost/stellarLocus.py:64: RuntimeWarning: All-NaN slice encountered\n",
      "  df.loc[i,\"7DCD\"] = np.nanmin(np.array(temp_7DCD_1val))\n"
     ]
    },
    {
     "name": "stdout",
     "output_type": "stream",
     "text": [
      "Found matches for 76.0% of events.\n",
      "Saved!\n",
      "#############\n",
      "\n",
      "START: 7700 END: 7800\n",
      "Finding northern sources with Pan-starrs...\n",
      "Processed 10 of 100 lines!\n",
      "Processed 20 of 100 lines!\n",
      "Processed 30 of 100 lines!\n",
      "Processed 40 of 100 lines!\n",
      "Processed 50 of 100 lines!\n",
      "Processed 60 of 100 lines!\n",
      "Processed 70 of 100 lines!\n",
      "Processed 80 of 100 lines!\n",
      "Processed 90 of 100 lines!\n",
      "Processed 100 of 100 lines!\n"
     ]
    },
    {
     "name": "stderr",
     "output_type": "stream",
     "text": [
      "/Users/patrickaleo/miniconda3/envs/laiss/lib/python3.8/site-packages/astro_ghost/stellarLocus.py:64: RuntimeWarning: All-NaN slice encountered\n",
      "  df.loc[i,\"7DCD\"] = np.nanmin(np.array(temp_7DCD_1val))\n"
     ]
    },
    {
     "name": "stdout",
     "output_type": "stream",
     "text": [
      "Found matches for 70.0% of events.\n",
      "Saved!\n",
      "#############\n",
      "\n",
      "START: 7800 END: 7900\n",
      "Finding northern sources with Pan-starrs...\n",
      "Processed 10 of 100 lines!\n",
      "Processed 20 of 100 lines!\n",
      "Processed 30 of 100 lines!\n",
      "Processed 40 of 100 lines!\n",
      "Processed 50 of 100 lines!\n",
      "Processed 60 of 100 lines!\n",
      "Processed 70 of 100 lines!\n",
      "Processed 80 of 100 lines!\n",
      "Processed 90 of 100 lines!\n",
      "Processed 100 of 100 lines!\n"
     ]
    },
    {
     "name": "stderr",
     "output_type": "stream",
     "text": [
      "/Users/patrickaleo/miniconda3/envs/laiss/lib/python3.8/site-packages/astro_ghost/stellarLocus.py:64: RuntimeWarning: All-NaN slice encountered\n",
      "  df.loc[i,\"7DCD\"] = np.nanmin(np.array(temp_7DCD_1val))\n"
     ]
    },
    {
     "name": "stdout",
     "output_type": "stream",
     "text": [
      "Found matches for 65.0% of events.\n",
      "Saved!\n",
      "#############\n",
      "\n",
      "START: 7900 END: 8000\n",
      "Finding northern sources with Pan-starrs...\n",
      "Processed 10 of 100 lines!\n",
      "Processed 20 of 100 lines!\n",
      "Processed 30 of 100 lines!\n",
      "Processed 40 of 100 lines!\n",
      "Processed 50 of 100 lines!\n",
      "Processed 60 of 100 lines!\n",
      "Processed 70 of 100 lines!\n",
      "Processed 80 of 100 lines!\n",
      "Processed 90 of 100 lines!\n",
      "Processed 100 of 100 lines!\n"
     ]
    },
    {
     "name": "stderr",
     "output_type": "stream",
     "text": [
      "/Users/patrickaleo/miniconda3/envs/laiss/lib/python3.8/site-packages/astro_ghost/stellarLocus.py:64: RuntimeWarning: All-NaN slice encountered\n",
      "  df.loc[i,\"7DCD\"] = np.nanmin(np.array(temp_7DCD_1val))\n"
     ]
    },
    {
     "name": "stdout",
     "output_type": "stream",
     "text": [
      "Found matches for 71.0% of events.\n",
      "Saved!\n",
      "#############\n",
      "\n",
      "START: 8000 END: 8100\n",
      "Finding northern sources with Pan-starrs...\n",
      "Processed 10 of 100 lines!\n",
      "Processed 20 of 100 lines!\n",
      "Processed 30 of 100 lines!\n",
      "Processed 40 of 100 lines!\n",
      "Processed 50 of 100 lines!\n",
      "Processed 60 of 100 lines!\n",
      "Processed 70 of 100 lines!\n",
      "Processed 80 of 100 lines!\n",
      "Processed 90 of 100 lines!\n",
      "Processed 100 of 100 lines!\n"
     ]
    },
    {
     "name": "stderr",
     "output_type": "stream",
     "text": [
      "/Users/patrickaleo/miniconda3/envs/laiss/lib/python3.8/site-packages/astro_ghost/stellarLocus.py:64: RuntimeWarning: All-NaN slice encountered\n",
      "  df.loc[i,\"7DCD\"] = np.nanmin(np.array(temp_7DCD_1val))\n"
     ]
    },
    {
     "name": "stdout",
     "output_type": "stream",
     "text": [
      "Found matches for 67.0% of events.\n",
      "Saved!\n",
      "#############\n",
      "\n",
      "START: 8100 END: 8200\n",
      "Finding northern sources with Pan-starrs...\n",
      "Processed 10 of 100 lines!\n",
      "Processed 20 of 100 lines!\n",
      "Processed 30 of 100 lines!\n",
      "Processed 40 of 100 lines!\n",
      "Processed 50 of 100 lines!\n",
      "Processed 60 of 100 lines!\n",
      "Processed 70 of 100 lines!\n",
      "Processed 80 of 100 lines!\n",
      "Processed 90 of 100 lines!\n",
      "Processed 100 of 100 lines!\n"
     ]
    },
    {
     "name": "stderr",
     "output_type": "stream",
     "text": [
      "/Users/patrickaleo/miniconda3/envs/laiss/lib/python3.8/site-packages/astro_ghost/stellarLocus.py:64: RuntimeWarning: All-NaN slice encountered\n",
      "  df.loc[i,\"7DCD\"] = np.nanmin(np.array(temp_7DCD_1val))\n"
     ]
    },
    {
     "name": "stdout",
     "output_type": "stream",
     "text": [
      "Found matches for 75.0% of events.\n",
      "Saved!\n",
      "#############\n",
      "\n",
      "START: 8200 END: 8300\n",
      "Finding northern sources with Pan-starrs...\n",
      "Processed 10 of 100 lines!\n",
      "Processed 20 of 100 lines!\n",
      "Processed 30 of 100 lines!\n",
      "Processed 40 of 100 lines!\n",
      "Processed 50 of 100 lines!\n",
      "Processed 60 of 100 lines!\n",
      "Processed 70 of 100 lines!\n",
      "Processed 80 of 100 lines!\n",
      "Processed 90 of 100 lines!\n",
      "Processed 100 of 100 lines!\n"
     ]
    },
    {
     "name": "stderr",
     "output_type": "stream",
     "text": [
      "/Users/patrickaleo/miniconda3/envs/laiss/lib/python3.8/site-packages/astro_ghost/stellarLocus.py:64: RuntimeWarning: All-NaN slice encountered\n",
      "  df.loc[i,\"7DCD\"] = np.nanmin(np.array(temp_7DCD_1val))\n"
     ]
    },
    {
     "name": "stdout",
     "output_type": "stream",
     "text": [
      "Found matches for 79.0% of events.\n",
      "Saved!\n",
      "#############\n",
      "\n",
      "START: 8300 END: 8400\n",
      "Finding northern sources with Pan-starrs...\n",
      "Processed 10 of 100 lines!\n",
      "Processed 20 of 100 lines!\n",
      "Processed 30 of 100 lines!\n",
      "Processed 40 of 100 lines!\n",
      "Processed 50 of 100 lines!\n",
      "Processed 60 of 100 lines!\n",
      "Processed 70 of 100 lines!\n",
      "Processed 80 of 100 lines!\n",
      "Processed 90 of 100 lines!\n",
      "Processed 100 of 100 lines!\n"
     ]
    },
    {
     "name": "stderr",
     "output_type": "stream",
     "text": [
      "/Users/patrickaleo/miniconda3/envs/laiss/lib/python3.8/site-packages/astro_ghost/stellarLocus.py:64: RuntimeWarning: All-NaN slice encountered\n",
      "  df.loc[i,\"7DCD\"] = np.nanmin(np.array(temp_7DCD_1val))\n"
     ]
    },
    {
     "name": "stdout",
     "output_type": "stream",
     "text": [
      "Found matches for 75.0% of events.\n",
      "Saved!\n",
      "#############\n",
      "\n",
      "START: 8400 END: 8500\n",
      "Finding northern sources with Pan-starrs...\n",
      "Processed 10 of 100 lines!\n",
      "Processed 20 of 100 lines!\n",
      "Processed 30 of 100 lines!\n",
      "Processed 40 of 100 lines!\n",
      "Processed 50 of 100 lines!\n",
      "Processed 60 of 100 lines!\n",
      "Processed 70 of 100 lines!\n",
      "Processed 80 of 100 lines!\n",
      "Processed 90 of 100 lines!\n",
      "Processed 100 of 100 lines!\n"
     ]
    },
    {
     "name": "stderr",
     "output_type": "stream",
     "text": [
      "/Users/patrickaleo/miniconda3/envs/laiss/lib/python3.8/site-packages/astro_ghost/stellarLocus.py:64: RuntimeWarning: All-NaN slice encountered\n",
      "  df.loc[i,\"7DCD\"] = np.nanmin(np.array(temp_7DCD_1val))\n"
     ]
    },
    {
     "name": "stdout",
     "output_type": "stream",
     "text": [
      "Found matches for 73.0% of events.\n",
      "Saved!\n",
      "#############\n",
      "\n",
      "START: 8500 END: 8600\n",
      "Finding northern sources with Pan-starrs...\n",
      "Processed 10 of 100 lines!\n",
      "Processed 20 of 100 lines!\n",
      "Processed 30 of 100 lines!\n",
      "Processed 40 of 100 lines!\n",
      "Processed 50 of 100 lines!\n",
      "Processed 60 of 100 lines!\n",
      "Processed 70 of 100 lines!\n",
      "Processed 80 of 100 lines!\n",
      "Processed 90 of 100 lines!\n",
      "Processed 100 of 100 lines!\n"
     ]
    },
    {
     "name": "stderr",
     "output_type": "stream",
     "text": [
      "/Users/patrickaleo/miniconda3/envs/laiss/lib/python3.8/site-packages/astro_ghost/stellarLocus.py:64: RuntimeWarning: All-NaN slice encountered\n",
      "  df.loc[i,\"7DCD\"] = np.nanmin(np.array(temp_7DCD_1val))\n"
     ]
    },
    {
     "name": "stdout",
     "output_type": "stream",
     "text": [
      "Found matches for 71.0% of events.\n",
      "Saved!\n",
      "#############\n",
      "\n",
      "START: 8600 END: 8700\n",
      "Finding northern sources with Pan-starrs...\n",
      "Processed 10 of 100 lines!\n",
      "Processed 20 of 100 lines!\n",
      "Processed 30 of 100 lines!\n",
      "Processed 40 of 100 lines!\n",
      "Processed 50 of 100 lines!\n",
      "Processed 60 of 100 lines!\n",
      "Processed 70 of 100 lines!\n",
      "Processed 80 of 100 lines!\n",
      "Processed 90 of 100 lines!\n",
      "Processed 100 of 100 lines!\n"
     ]
    },
    {
     "name": "stderr",
     "output_type": "stream",
     "text": [
      "/Users/patrickaleo/miniconda3/envs/laiss/lib/python3.8/site-packages/astro_ghost/stellarLocus.py:64: RuntimeWarning: All-NaN slice encountered\n",
      "  df.loc[i,\"7DCD\"] = np.nanmin(np.array(temp_7DCD_1val))\n"
     ]
    },
    {
     "name": "stdout",
     "output_type": "stream",
     "text": [
      "Found matches for 85.0% of events.\n",
      "Saved!\n",
      "#############\n",
      "\n",
      "START: 8700 END: 8800\n",
      "Finding northern sources with Pan-starrs...\n",
      "Processed 10 of 100 lines!\n",
      "Processed 20 of 100 lines!\n",
      "Processed 30 of 100 lines!\n",
      "Processed 40 of 100 lines!\n",
      "Processed 50 of 100 lines!\n",
      "Processed 60 of 100 lines!\n",
      "Processed 70 of 100 lines!\n",
      "Processed 80 of 100 lines!\n",
      "Processed 90 of 100 lines!\n",
      "Processed 100 of 100 lines!\n"
     ]
    },
    {
     "name": "stderr",
     "output_type": "stream",
     "text": [
      "/Users/patrickaleo/miniconda3/envs/laiss/lib/python3.8/site-packages/astro_ghost/stellarLocus.py:64: RuntimeWarning: All-NaN slice encountered\n",
      "  df.loc[i,\"7DCD\"] = np.nanmin(np.array(temp_7DCD_1val))\n"
     ]
    },
    {
     "name": "stdout",
     "output_type": "stream",
     "text": [
      "Found matches for 81.0% of events.\n",
      "Saved!\n",
      "#############\n",
      "\n",
      "START: 8800 END: 8900\n",
      "Finding northern sources with Pan-starrs...\n",
      "Processed 10 of 100 lines!\n",
      "Processed 20 of 100 lines!\n",
      "Processed 30 of 100 lines!\n",
      "Processed 40 of 100 lines!\n",
      "Processed 50 of 100 lines!\n",
      "Processed 60 of 100 lines!\n",
      "Processed 70 of 100 lines!\n",
      "Processed 80 of 100 lines!\n",
      "Processed 90 of 100 lines!\n",
      "Processed 100 of 100 lines!\n"
     ]
    },
    {
     "name": "stderr",
     "output_type": "stream",
     "text": [
      "/Users/patrickaleo/miniconda3/envs/laiss/lib/python3.8/site-packages/astro_ghost/stellarLocus.py:64: RuntimeWarning: All-NaN slice encountered\n",
      "  df.loc[i,\"7DCD\"] = np.nanmin(np.array(temp_7DCD_1val))\n"
     ]
    },
    {
     "name": "stdout",
     "output_type": "stream",
     "text": [
      "Found matches for 72.0% of events.\n",
      "Saved!\n",
      "#############\n",
      "\n",
      "START: 8900 END: 9000\n",
      "Finding northern sources with Pan-starrs...\n",
      "Processed 10 of 100 lines!\n",
      "Processed 20 of 100 lines!\n",
      "Processed 30 of 100 lines!\n",
      "Processed 40 of 100 lines!\n",
      "Processed 50 of 100 lines!\n",
      "Processed 60 of 100 lines!\n",
      "Processed 70 of 100 lines!\n",
      "Processed 80 of 100 lines!\n",
      "Processed 90 of 100 lines!\n",
      "Processed 100 of 100 lines!\n"
     ]
    },
    {
     "name": "stderr",
     "output_type": "stream",
     "text": [
      "/Users/patrickaleo/miniconda3/envs/laiss/lib/python3.8/site-packages/astro_ghost/stellarLocus.py:64: RuntimeWarning: All-NaN slice encountered\n",
      "  df.loc[i,\"7DCD\"] = np.nanmin(np.array(temp_7DCD_1val))\n"
     ]
    },
    {
     "name": "stdout",
     "output_type": "stream",
     "text": [
      "Found matches for 87.0% of events.\n",
      "Saved!\n",
      "#############\n",
      "\n",
      "START: 9000 END: 9100\n",
      "Finding northern sources with Pan-starrs...\n",
      "Processed 10 of 100 lines!\n",
      "Processed 20 of 100 lines!\n",
      "Processed 30 of 100 lines!\n",
      "Processed 40 of 100 lines!\n",
      "Processed 50 of 100 lines!\n",
      "Processed 60 of 100 lines!\n",
      "Processed 70 of 100 lines!\n",
      "Processed 80 of 100 lines!\n",
      "Processed 90 of 100 lines!\n",
      "Processed 100 of 100 lines!\n"
     ]
    },
    {
     "name": "stderr",
     "output_type": "stream",
     "text": [
      "/Users/patrickaleo/miniconda3/envs/laiss/lib/python3.8/site-packages/astro_ghost/stellarLocus.py:64: RuntimeWarning: All-NaN slice encountered\n",
      "  df.loc[i,\"7DCD\"] = np.nanmin(np.array(temp_7DCD_1val))\n"
     ]
    },
    {
     "name": "stdout",
     "output_type": "stream",
     "text": [
      "Found matches for 75.0% of events.\n",
      "Saved!\n",
      "#############\n",
      "\n",
      "START: 9100 END: 9200\n",
      "Finding northern sources with Pan-starrs...\n",
      "Processed 10 of 100 lines!\n",
      "Processed 20 of 100 lines!\n",
      "Processed 30 of 100 lines!\n",
      "Processed 40 of 100 lines!\n",
      "Processed 50 of 100 lines!\n",
      "Processed 60 of 100 lines!\n",
      "Processed 70 of 100 lines!\n",
      "Processed 80 of 100 lines!\n",
      "Processed 90 of 100 lines!\n",
      "Processed 100 of 100 lines!\n"
     ]
    },
    {
     "name": "stderr",
     "output_type": "stream",
     "text": [
      "/Users/patrickaleo/miniconda3/envs/laiss/lib/python3.8/site-packages/astro_ghost/stellarLocus.py:64: RuntimeWarning: All-NaN slice encountered\n",
      "  df.loc[i,\"7DCD\"] = np.nanmin(np.array(temp_7DCD_1val))\n"
     ]
    },
    {
     "name": "stdout",
     "output_type": "stream",
     "text": [
      "Found matches for 88.0% of events.\n",
      "Saved!\n",
      "#############\n",
      "\n",
      "START: 9200 END: 9300\n",
      "Finding northern sources with Pan-starrs...\n",
      "Processed 10 of 100 lines!\n",
      "Processed 20 of 100 lines!\n",
      "Processed 30 of 100 lines!\n",
      "Processed 40 of 100 lines!\n",
      "Processed 50 of 100 lines!\n",
      "Processed 60 of 100 lines!\n",
      "Processed 70 of 100 lines!\n",
      "Processed 80 of 100 lines!\n",
      "Processed 90 of 100 lines!\n",
      "Processed 100 of 100 lines!\n"
     ]
    },
    {
     "name": "stderr",
     "output_type": "stream",
     "text": [
      "/Users/patrickaleo/miniconda3/envs/laiss/lib/python3.8/site-packages/astro_ghost/stellarLocus.py:64: RuntimeWarning: All-NaN slice encountered\n",
      "  df.loc[i,\"7DCD\"] = np.nanmin(np.array(temp_7DCD_1val))\n"
     ]
    },
    {
     "name": "stdout",
     "output_type": "stream",
     "text": [
      "Found matches for 86.0% of events.\n",
      "Saved!\n",
      "#############\n",
      "\n",
      "START: 9300 END: 9400\n",
      "Finding northern sources with Pan-starrs...\n",
      "Processed 10 of 100 lines!\n",
      "Processed 20 of 100 lines!\n",
      "Processed 30 of 100 lines!\n",
      "Processed 40 of 100 lines!\n",
      "Processed 50 of 100 lines!\n",
      "Processed 60 of 100 lines!\n",
      "Processed 70 of 100 lines!\n",
      "Processed 80 of 100 lines!\n",
      "Processed 90 of 100 lines!\n",
      "Processed 100 of 100 lines!\n"
     ]
    },
    {
     "name": "stderr",
     "output_type": "stream",
     "text": [
      "/Users/patrickaleo/miniconda3/envs/laiss/lib/python3.8/site-packages/astro_ghost/stellarLocus.py:64: RuntimeWarning: All-NaN slice encountered\n",
      "  df.loc[i,\"7DCD\"] = np.nanmin(np.array(temp_7DCD_1val))\n"
     ]
    },
    {
     "name": "stdout",
     "output_type": "stream",
     "text": [
      "Found matches for 67.0% of events.\n",
      "Saved!\n",
      "#############\n",
      "\n",
      "START: 9400 END: 9500\n",
      "Finding northern sources with Pan-starrs...\n",
      "Processed 10 of 20 lines!\n",
      "Processed 20 of 20 lines!\n"
     ]
    },
    {
     "name": "stderr",
     "output_type": "stream",
     "text": [
      "/Users/patrickaleo/miniconda3/envs/laiss/lib/python3.8/site-packages/astro_ghost/stellarLocus.py:64: RuntimeWarning: All-NaN slice encountered\n",
      "  df.loc[i,\"7DCD\"] = np.nanmin(np.array(temp_7DCD_1val))\n"
     ]
    },
    {
     "name": "stdout",
     "output_type": "stream",
     "text": [
      "Found matches for 70.0% of events.\n",
      "Saved!\n",
      "#############\n",
      "CPU times: user 57min 20s, sys: 4min 15s, total: 1h 1min 36s\n",
      "Wall time: 6h 26min 13s\n"
     ]
    }
   ],
   "source": [
    "%%time\n",
    "\n",
    "# Throw RA/DEC into ghost with just DLR method, gentle starcut\n",
    "# Sets environ var to find ghost.csv\n",
    "os.environ['GHOST_PATH'] = './host_info'\n",
    "# Then don't use getGHOST(real=True, verbose=verbose)\n",
    "getGHOST(real=True,verbose=False)\n",
    "\n",
    "start_idx_l = list(np.arange(4500, len(dataset_bank), 100)) \n",
    "end_idx_l = list(np.arange(4600, len(dataset_bank)+100, 100))\n",
    "\n",
    "for start, end in zip(start_idx_l, end_idx_l):\n",
    "    start_idx, end_idx = start, end\n",
    "    print(\"\\nSTART:\", start, \"END:\", end)\n",
    "\n",
    "    dataset_bank_mini = dataset_bank.iloc[start_idx:end_idx]\n",
    "    #print(dataset_bank_mini)\n",
    "\n",
    "    snCoord = [SkyCoord(ra*u.deg, dec*u.deg, frame='icrs') for ra, dec in zip(dataset_bank_mini.ra, dataset_bank_mini.dec)]\n",
    "    with tempfile.TemporaryDirectory() as tmp:\n",
    "#        try: \n",
    "        hosts = getTransientHosts(snName=list(dataset_bank_mini.index), snCoord=snCoord, verbose=0, starcut='gentle', ascentMatch=False, savepath=tmp)\n",
    "        # Save\n",
    "        hosts.to_csv(f'../loci_dbs/alerce_cut/dataset_bank_hosts_start_idx-end_idx={start_idx}-{end_idx}.csv.gz', compression='gzip', index=False)\n",
    "        print(\"Saved!\\n#############\")\n",
    "#        except: \n",
    "        #print(f\"Throws 500 error. Continue!\")\n",
    "        #continue\n",
    "        "
   ]
  },
  {
   "cell_type": "code",
   "execution_count": null,
   "id": "c3c4ae3a",
   "metadata": {},
   "outputs": [],
   "source": []
  }
 ],
 "metadata": {
  "kernelspec": {
   "display_name": "laiss",
   "language": "python",
   "name": "laiss"
  },
  "language_info": {
   "codemirror_mode": {
    "name": "ipython",
    "version": 3
   },
   "file_extension": ".py",
   "mimetype": "text/x-python",
   "name": "python",
   "nbconvert_exporter": "python",
   "pygments_lexer": "ipython3",
   "version": "3.8.8"
  }
 },
 "nbformat": 4,
 "nbformat_minor": 5
}
