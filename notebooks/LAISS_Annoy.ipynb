{
 "cells": [
  {
   "cell_type": "code",
   "execution_count": 1,
   "id": "29728950",
   "metadata": {},
   "outputs": [],
   "source": [
    "import time\n",
    "import numpy as np\n",
    "import matplotlib.pyplot as plt\n",
    "import pandas as pd\n",
    "import pickle\n",
    "\n",
    "import os\n",
    "import sys\n",
    "import annoy\n",
    "from annoy import AnnoyIndex\n",
    "import random\n",
    "\n",
    "\n",
    "\n",
    "from IPython.display import display_markdown\n",
    "\n",
    "from collections import Counter\n",
    "\n",
    "from sklearn.metrics import confusion_matrix, ConfusionMatrixDisplay\n",
    "from sklearn.metrics import classification_report\n",
    "from sklearn.impute import SimpleImputer\n",
    "from sklearn.preprocessing import StandardScaler\n",
    "from sklearn.preprocessing import MinMaxScaler\n",
    "from scipy.spatial import cKDTree\n",
    "\n",
    "\n",
    "\n"
   ]
  },
  {
   "cell_type": "code",
   "execution_count": 2,
   "id": "37b800f4",
   "metadata": {},
   "outputs": [],
   "source": [
    "class AnnoyIndex():\n",
    "    def __init__(self, vectors, labels, metric):\n",
    "        self.dimension = vectors.shape[1]\n",
    "        self.vectors = vectors.astype('float32')\n",
    "        self.labels = labels    \n",
    "        self.metric= metric\n",
    "   \n",
    "    def build(self, number_of_trees=100):\n",
    "        self.index = annoy.AnnoyIndex(self.dimension, self.metric)\n",
    "        for i, vec in enumerate(self.vectors):\n",
    "            self.index.add_item(i, vec.tolist())\n",
    "        self.index.build(number_of_trees)\n",
    "        \n",
    "    def query(self, vector, k=1000):\n",
    "        indices = self.index.get_nns_by_vector(\n",
    "              vector.tolist(), \n",
    "              k, \n",
    "              search_k=-1)                                           \n",
    "        return [self.labels[i] for i in indices]\n",
    "    \n",
    "# From 106 available features from Kostya's lc_feature_extractor, use the 82 from SNAD Miner paper \n",
    "# R and g bands\n",
    "feature_names_r_g = ['feature_amplitude_magn_r', \n",
    "                         'feature_anderson_darling_normal_magn_r',\n",
    "                         'feature_beyond_1_std_magn_r', \n",
    "                         'feature_beyond_2_std_magn_r',\n",
    "                         'feature_cusum_magn_r', \n",
    "                         #'feature_eta_e_magn_r',\n",
    "                         'feature_inter_percentile_range_2_magn_r',\n",
    "                         'feature_inter_percentile_range_10_magn_r',\n",
    "                         'feature_inter_percentile_range_25_magn_r', \n",
    "                         'feature_kurtosis_magn_r',\n",
    "                         'feature_linear_fit_slope_magn_r',\n",
    "                         'feature_linear_fit_slope_sigma_magn_r',\n",
    "                         #'feature_linear_fit_reduced_chi2_magn_r', \n",
    "                         'feature_linear_trend_magn_r',\n",
    "                         'feature_linear_trend_sigma_magn_r',\n",
    "                         'feature_magnitude_percentage_ratio_40_5_magn_r',\n",
    "                         'feature_magnitude_percentage_ratio_20_5_magn_r',\n",
    "                         #'feature_maximum_slope_magn_r',\n",
    "                         'feature_mean_magn_r',\n",
    "                         'feature_median_absolute_deviation_magn_r',\n",
    "                         'feature_percent_amplitude_magn_r',\n",
    "                         'feature_median_buffer_range_percentage_10_magn_r',\n",
    "                         'feature_median_buffer_range_percentage_20_magn_r',\n",
    "                         'feature_percent_difference_magnitude_percentile_5_magn_r',\n",
    "                         'feature_percent_difference_magnitude_percentile_10_magn_r',\n",
    "                         #'feature_period_0_magn_r',  # should be negated\n",
    "                         'feature_period_s_to_n_0_magn_r',\n",
    "                         #'feature_period_1_magn_r', \n",
    "                         'feature_period_s_to_n_1_magn_r',\n",
    "                         #'feature_period_2_magn_r', \n",
    "                         'feature_period_s_to_n_2_magn_r',\n",
    "                         #'feature_period_3_magn_r', \n",
    "                         'feature_period_s_to_n_3_magn_r',\n",
    "                         #'feature_period_4_magn_r', \n",
    "                         'feature_period_s_to_n_4_magn_r',\n",
    "                         #'feature_periodogram_amplitude_magn_r',\n",
    "                         'feature_periodogram_beyond_2_std_magn_r',\n",
    "                         'feature_periodogram_beyond_3_std_magn_r',\n",
    "                         'feature_periodogram_standard_deviation_magn_r', \n",
    "                         #'feature_chi2_magn_r',\n",
    "                         'feature_skew_magn_r', \n",
    "                         'feature_standard_deviation_magn_r',\n",
    "                         'feature_stetson_k_magn_r',\n",
    "                         'feature_weighted_mean_magn_r',\n",
    "                         'feature_anderson_darling_normal_flux_r', \n",
    "                         'feature_cusum_flux_r',\n",
    "                         #'feature_eta_e_flux_r', \n",
    "                         'feature_excess_variance_flux_r',\n",
    "                         'feature_kurtosis_flux_r', \n",
    "                         'feature_mean_variance_flux_r',\n",
    "                         #'feature_chi2_flux_r', \n",
    "                         'feature_skew_flux_r',\n",
    "                         'feature_stetson_k_flux_r',\n",
    "\n",
    "                         'feature_amplitude_magn_g', \n",
    "                         'feature_anderson_darling_normal_magn_g',\n",
    "                         'feature_beyond_1_std_magn_g', \n",
    "                         'feature_beyond_2_std_magn_g',\n",
    "                         'feature_cusum_magn_g', \n",
    "                         #'feature_eta_e_magn_g',\n",
    "                         'feature_inter_percentile_range_2_magn_g',\n",
    "                         'feature_inter_percentile_range_10_magn_g',\n",
    "                         'feature_inter_percentile_range_25_magn_g', \n",
    "                         'feature_kurtosis_magn_g',\n",
    "                         'feature_linear_fit_slope_magn_g',\n",
    "                         'feature_linear_fit_slope_sigma_magn_g',\n",
    "                         #'feature_linear_fit_reduced_chi2_magn_g', \n",
    "                         'feature_linear_trend_magn_g',\n",
    "                         'feature_linear_trend_sigma_magn_g',\n",
    "                         'feature_magnitude_percentage_ratio_40_5_magn_g',\n",
    "                         'feature_magnitude_percentage_ratio_20_5_magn_g',\n",
    "                         #'feature_maximum_slope_magn_g', \n",
    "                         'feature_mean_magn_g',\n",
    "                         'feature_median_absolute_deviation_magn_g',\n",
    "                         'feature_median_buffer_range_percentage_10_magn_g',\n",
    "                         'feature_median_buffer_range_percentage_20_magn_g',\n",
    "                         'feature_percent_amplitude_magn_g',\n",
    "                         'feature_percent_difference_magnitude_percentile_5_magn_g',\n",
    "                         'feature_percent_difference_magnitude_percentile_10_magn_g',\n",
    "                         #'feature_period_0_magn_g',  # should be negated\n",
    "                         'feature_period_s_to_n_0_magn_g',\n",
    "                         #'feature_period_1_magn_g', \n",
    "                         'feature_period_s_to_n_1_magn_g',\n",
    "                         #'feature_period_2_magn_g', \n",
    "                         'feature_period_s_to_n_2_magn_g',\n",
    "                         #'feature_period_3_magn_g', \n",
    "                         'feature_period_s_to_n_3_magn_g',\n",
    "                         #'feature_period_4_magn_g', \n",
    "                         'feature_period_s_to_n_4_magn_g',\n",
    "                         #'feature_periodogram_amplitude_magn_g',\n",
    "                         'feature_periodogram_beyond_2_std_magn_g',\n",
    "                         'feature_periodogram_beyond_3_std_magn_g',\n",
    "                         'feature_periodogram_standard_deviation_magn_g', \n",
    "                         #'feature_chi2_magn_g',\n",
    "                         'feature_skew_magn_g', \n",
    "                         'feature_standard_deviation_magn_g',\n",
    "                         'feature_stetson_k_magn_g', \n",
    "                         'feature_weighted_mean_magn_g',\n",
    "                         'feature_anderson_darling_normal_flux_g', \n",
    "                         'feature_cusum_flux_g',\n",
    "                         #'feature_eta_e_flux_g', \n",
    "                         'feature_excess_variance_flux_g',\n",
    "                         'feature_kurtosis_flux_g', \n",
    "                         'feature_mean_variance_flux_g',\n",
    "                         #'feature_chi2_flux_g', \n",
    "                         'feature_skew_flux_g',\n",
    "                         'feature_stetson_k_flux_g'] \n",
    "    \n",
    "ztf_id_and_features_r_g = ['Unnamed: 0'] + ['locus_id', 'ra', 'dec',\\\n",
    "                            'tags', 'catalogs', 'ztf_object_id', 'ztf_ssnamenr', 'num_alerts',\\\n",
    "                            'num_mag_values', 'oldest_alert_id', 'oldest_alert_magnitude',\\\n",
    "                            'oldest_alert_observation_time', 'newest_alert_id',\\\n",
    "                            'newest_alert_magnitude', 'newest_alert_observation_time',\\\n",
    "                            'brightest_alert_id', 'brightest_alert_magnitude', \\\n",
    "                            'brightest_alert_observation_time'] + feature_names_r_g +\\\n",
    "                        ['horizons_targetname', 'anomaly', 'anom_score', 'anomaly_score',\\\n",
    "                         'anomaly_mask', 'anomaly_type', 'is_corrected', 'vpdf_extreme_version',\\\n",
    "                         'vpdf_extreme_faint', 'vpdf_extreme_bright', 'locus_gal_l', 'locus_gal_b']"
   ]
  },
  {
   "cell_type": "code",
   "execution_count": 3,
   "id": "039204c5",
   "metadata": {},
   "outputs": [
    {
     "name": "stderr",
     "output_type": "stream",
     "text": [
      "/Users/patrickaleo/miniconda3/envs/laiss/lib/python3.8/site-packages/IPython/core/interactiveshell.py:3169: DtypeWarning: Columns (7,125,129,130,131,132,133,134) have mixed types.Specify dtype option on import or set low_memory=False.\n",
      "  has_raised = await self.run_ast_nodes(code_ast.body, cell_name,\n"
     ]
    },
    {
     "data": {
      "text/html": [
       "<div>\n",
       "<style scoped>\n",
       "    .dataframe tbody tr th:only-of-type {\n",
       "        vertical-align: middle;\n",
       "    }\n",
       "\n",
       "    .dataframe tbody tr th {\n",
       "        vertical-align: top;\n",
       "    }\n",
       "\n",
       "    .dataframe thead th {\n",
       "        text-align: right;\n",
       "    }\n",
       "</style>\n",
       "<table border=\"1\" class=\"dataframe\">\n",
       "  <thead>\n",
       "    <tr style=\"text-align: right;\">\n",
       "      <th></th>\n",
       "      <th>Unnamed: 0</th>\n",
       "      <th>locus_id</th>\n",
       "      <th>ra</th>\n",
       "      <th>dec</th>\n",
       "      <th>tags</th>\n",
       "      <th>catalogs</th>\n",
       "      <th>ztf_ssnamenr</th>\n",
       "      <th>num_alerts</th>\n",
       "      <th>num_mag_values</th>\n",
       "      <th>oldest_alert_id</th>\n",
       "      <th>...</th>\n",
       "      <th>anom_score</th>\n",
       "      <th>anomaly_score</th>\n",
       "      <th>anomaly_mask</th>\n",
       "      <th>anomaly_type</th>\n",
       "      <th>is_corrected</th>\n",
       "      <th>vpdf_extreme_version</th>\n",
       "      <th>vpdf_extreme_faint</th>\n",
       "      <th>vpdf_extreme_bright</th>\n",
       "      <th>locus_gal_l</th>\n",
       "      <th>locus_gal_b</th>\n",
       "    </tr>\n",
       "    <tr>\n",
       "      <th>ztf_object_id</th>\n",
       "      <th></th>\n",
       "      <th></th>\n",
       "      <th></th>\n",
       "      <th></th>\n",
       "      <th></th>\n",
       "      <th></th>\n",
       "      <th></th>\n",
       "      <th></th>\n",
       "      <th></th>\n",
       "      <th></th>\n",
       "      <th></th>\n",
       "      <th></th>\n",
       "      <th></th>\n",
       "      <th></th>\n",
       "      <th></th>\n",
       "      <th></th>\n",
       "      <th></th>\n",
       "      <th></th>\n",
       "      <th></th>\n",
       "      <th></th>\n",
       "      <th></th>\n",
       "    </tr>\n",
       "  </thead>\n",
       "  <tbody>\n",
       "    <tr>\n",
       "      <th>ZTF20acpdyyq</th>\n",
       "      <td>6</td>\n",
       "      <td>ANT2020rajqu</td>\n",
       "      <td>33.976088</td>\n",
       "      <td>-20.258905</td>\n",
       "      <td>['lc_feature_extractor']</td>\n",
       "      <td>['allwise', 'gaia_dr2', '2mass_psc', 'bright_g...</td>\n",
       "      <td>NaN</td>\n",
       "      <td>137</td>\n",
       "      <td>35</td>\n",
       "      <td>ztf_candidate:993481181415010007</td>\n",
       "      <td>...</td>\n",
       "      <td>NaN</td>\n",
       "      <td>NaN</td>\n",
       "      <td>NaN</td>\n",
       "      <td>NaN</td>\n",
       "      <td>NaN</td>\n",
       "      <td>NaN</td>\n",
       "      <td>NaN</td>\n",
       "      <td>NaN</td>\n",
       "      <td>197.881532</td>\n",
       "      <td>-69.513571</td>\n",
       "    </tr>\n",
       "    <tr>\n",
       "      <th>ZTF18acfvwwa</th>\n",
       "      <td>39</td>\n",
       "      <td>ANT2020pc6ko</td>\n",
       "      <td>35.639509</td>\n",
       "      <td>32.833982</td>\n",
       "      <td>['lc_feature_extractor']</td>\n",
       "      <td>['allwise', 'gaia_dr2', '2mass_psc', 'bright_g...</td>\n",
       "      <td>NaN</td>\n",
       "      <td>659</td>\n",
       "      <td>88</td>\n",
       "      <td>ztf_candidate:943483942915015010</td>\n",
       "      <td>...</td>\n",
       "      <td>NaN</td>\n",
       "      <td>NaN</td>\n",
       "      <td>NaN</td>\n",
       "      <td>NaN</td>\n",
       "      <td>NaN</td>\n",
       "      <td>NaN</td>\n",
       "      <td>NaN</td>\n",
       "      <td>NaN</td>\n",
       "      <td>144.200342</td>\n",
       "      <td>-26.246909</td>\n",
       "    </tr>\n",
       "    <tr>\n",
       "      <th>ZTF17aaaskvj</th>\n",
       "      <td>58</td>\n",
       "      <td>ANT2020rdpmm</td>\n",
       "      <td>28.015003</td>\n",
       "      <td>36.953217</td>\n",
       "      <td>['lc_feature_extractor']</td>\n",
       "      <td>['allwise', 'csdr2', 'gaia_dr2', '2mass_psc', ...</td>\n",
       "      <td>NaN</td>\n",
       "      <td>1497</td>\n",
       "      <td>579</td>\n",
       "      <td>ztf_candidate:598425334815010002</td>\n",
       "      <td>...</td>\n",
       "      <td>NaN</td>\n",
       "      <td>NaN</td>\n",
       "      <td>NaN</td>\n",
       "      <td>NaN</td>\n",
       "      <td>NaN</td>\n",
       "      <td>NaN</td>\n",
       "      <td>NaN</td>\n",
       "      <td>NaN</td>\n",
       "      <td>136.189482</td>\n",
       "      <td>-24.352953</td>\n",
       "    </tr>\n",
       "    <tr>\n",
       "      <th>ZTF17aaaskvj</th>\n",
       "      <td>59</td>\n",
       "      <td>ANT2018ftblk</td>\n",
       "      <td>28.015003</td>\n",
       "      <td>36.953216</td>\n",
       "      <td>['lc_feature_extractor', 'high_snr']</td>\n",
       "      <td>['allwise', 'csdr2', 'gaia_dr2', '2mass_psc', ...</td>\n",
       "      <td>NaN</td>\n",
       "      <td>1504</td>\n",
       "      <td>583</td>\n",
       "      <td>ztf_candidate:598425334815010002</td>\n",
       "      <td>...</td>\n",
       "      <td>NaN</td>\n",
       "      <td>NaN</td>\n",
       "      <td>NaN</td>\n",
       "      <td>NaN</td>\n",
       "      <td>NaN</td>\n",
       "      <td>NaN</td>\n",
       "      <td>NaN</td>\n",
       "      <td>NaN</td>\n",
       "      <td>136.189482</td>\n",
       "      <td>-24.352954</td>\n",
       "    </tr>\n",
       "    <tr>\n",
       "      <th>ZTF18aczbnhl</th>\n",
       "      <td>97</td>\n",
       "      <td>ANT2019dsk24</td>\n",
       "      <td>85.049145</td>\n",
       "      <td>-11.013302</td>\n",
       "      <td>['lc_feature_extractor']</td>\n",
       "      <td>['allwise', 'gaia_dr2', '2mass_psc', 'bright_g...</td>\n",
       "      <td>NaN</td>\n",
       "      <td>105</td>\n",
       "      <td>12</td>\n",
       "      <td>ztf_candidate:718232301815010005</td>\n",
       "      <td>...</td>\n",
       "      <td>NaN</td>\n",
       "      <td>NaN</td>\n",
       "      <td>NaN</td>\n",
       "      <td>NaN</td>\n",
       "      <td>NaN</td>\n",
       "      <td>NaN</td>\n",
       "      <td>NaN</td>\n",
       "      <td>NaN</td>\n",
       "      <td>214.961559</td>\n",
       "      <td>-20.751422</td>\n",
       "    </tr>\n",
       "    <tr>\n",
       "      <th>...</th>\n",
       "      <td>...</td>\n",
       "      <td>...</td>\n",
       "      <td>...</td>\n",
       "      <td>...</td>\n",
       "      <td>...</td>\n",
       "      <td>...</td>\n",
       "      <td>...</td>\n",
       "      <td>...</td>\n",
       "      <td>...</td>\n",
       "      <td>...</td>\n",
       "      <td>...</td>\n",
       "      <td>...</td>\n",
       "      <td>...</td>\n",
       "      <td>...</td>\n",
       "      <td>...</td>\n",
       "      <td>...</td>\n",
       "      <td>...</td>\n",
       "      <td>...</td>\n",
       "      <td>...</td>\n",
       "      <td>...</td>\n",
       "      <td>...</td>\n",
       "    </tr>\n",
       "    <tr>\n",
       "      <th>ZTF20aberawv</th>\n",
       "      <td>999927</td>\n",
       "      <td>ANT2020aebbk</td>\n",
       "      <td>292.910293</td>\n",
       "      <td>54.078978</td>\n",
       "      <td>['lc_feature_extractor', 'dimmers']</td>\n",
       "      <td>[]</td>\n",
       "      <td>NaN</td>\n",
       "      <td>235</td>\n",
       "      <td>96</td>\n",
       "      <td>ztf_candidate:1231482062015010023</td>\n",
       "      <td>...</td>\n",
       "      <td>NaN</td>\n",
       "      <td>0.417276</td>\n",
       "      <td>Fail</td>\n",
       "      <td>TBD</td>\n",
       "      <td>NaN</td>\n",
       "      <td>NaN</td>\n",
       "      <td>NaN</td>\n",
       "      <td>NaN</td>\n",
       "      <td>85.961850</td>\n",
       "      <td>16.149525</td>\n",
       "    </tr>\n",
       "    <tr>\n",
       "      <th>ZTF18acrvsjf</th>\n",
       "      <td>999938</td>\n",
       "      <td>ANT2019zf6fg</td>\n",
       "      <td>72.820139</td>\n",
       "      <td>1.073984</td>\n",
       "      <td>['lc_feature_extractor']</td>\n",
       "      <td>['allwise', 'bright_guide_star_cat', '2mass_ps...</td>\n",
       "      <td>NaN</td>\n",
       "      <td>40</td>\n",
       "      <td>14</td>\n",
       "      <td>ztf_candidate:696399341515010050</td>\n",
       "      <td>...</td>\n",
       "      <td>NaN</td>\n",
       "      <td>NaN</td>\n",
       "      <td>NaN</td>\n",
       "      <td>TBD</td>\n",
       "      <td>NaN</td>\n",
       "      <td>NaN</td>\n",
       "      <td>NaN</td>\n",
       "      <td>NaN</td>\n",
       "      <td>197.132900</td>\n",
       "      <td>-25.906137</td>\n",
       "    </tr>\n",
       "    <tr>\n",
       "      <th>ZTF18acdqrna</th>\n",
       "      <td>999957</td>\n",
       "      <td>ANT2020aefhrvi</td>\n",
       "      <td>53.476865</td>\n",
       "      <td>77.496741</td>\n",
       "      <td>['lc_feature_extractor']</td>\n",
       "      <td>['allwise', 'bright_guide_star_cat', '2mass_ps...</td>\n",
       "      <td>NaN</td>\n",
       "      <td>83</td>\n",
       "      <td>36</td>\n",
       "      <td>ztf_candidate:1353408024115015003</td>\n",
       "      <td>...</td>\n",
       "      <td>NaN</td>\n",
       "      <td>NaN</td>\n",
       "      <td>NaN</td>\n",
       "      <td>NaN</td>\n",
       "      <td>NaN</td>\n",
       "      <td>NaN</td>\n",
       "      <td>NaN</td>\n",
       "      <td>NaN</td>\n",
       "      <td>131.425108</td>\n",
       "      <td>17.392307</td>\n",
       "    </tr>\n",
       "    <tr>\n",
       "      <th>ZTF21abhjyor</th>\n",
       "      <td>999964</td>\n",
       "      <td>ANT2020aeedowi</td>\n",
       "      <td>323.724711</td>\n",
       "      <td>31.249401</td>\n",
       "      <td>['lc_feature_extractor']</td>\n",
       "      <td>[]</td>\n",
       "      <td>NaN</td>\n",
       "      <td>118</td>\n",
       "      <td>19</td>\n",
       "      <td>ztf_candidate:1358283950415015003</td>\n",
       "      <td>...</td>\n",
       "      <td>NaN</td>\n",
       "      <td>NaN</td>\n",
       "      <td>NaN</td>\n",
       "      <td>TBD</td>\n",
       "      <td>NaN</td>\n",
       "      <td>NaN</td>\n",
       "      <td>NaN</td>\n",
       "      <td>NaN</td>\n",
       "      <td>80.880513</td>\n",
       "      <td>-15.145608</td>\n",
       "    </tr>\n",
       "    <tr>\n",
       "      <th>ZTF18acfdttb</th>\n",
       "      <td>999987</td>\n",
       "      <td>ANT2020fc5ny</td>\n",
       "      <td>295.091491</td>\n",
       "      <td>55.660204</td>\n",
       "      <td>['lc_feature_extractor', 'dimmers']</td>\n",
       "      <td>['2mass_psc', 'allwise', 'gaia_dr2', 'bright_g...</td>\n",
       "      <td>NaN</td>\n",
       "      <td>290</td>\n",
       "      <td>14</td>\n",
       "      <td>ztf_candidate:966286933415010005</td>\n",
       "      <td>...</td>\n",
       "      <td>NaN</td>\n",
       "      <td>NaN</td>\n",
       "      <td>NaN</td>\n",
       "      <td>TBD</td>\n",
       "      <td>NaN</td>\n",
       "      <td>NaN</td>\n",
       "      <td>NaN</td>\n",
       "      <td>NaN</td>\n",
       "      <td>88.001492</td>\n",
       "      <td>15.672646</td>\n",
       "    </tr>\n",
       "  </tbody>\n",
       "</table>\n",
       "<p>90199 rows × 112 columns</p>\n",
       "</div>"
      ],
      "text/plain": [
       "               Unnamed: 0        locus_id          ra        dec  \\\n",
       "ztf_object_id                                                      \n",
       "ZTF20acpdyyq            6    ANT2020rajqu   33.976088 -20.258905   \n",
       "ZTF18acfvwwa           39    ANT2020pc6ko   35.639509  32.833982   \n",
       "ZTF17aaaskvj           58    ANT2020rdpmm   28.015003  36.953217   \n",
       "ZTF17aaaskvj           59    ANT2018ftblk   28.015003  36.953216   \n",
       "ZTF18aczbnhl           97    ANT2019dsk24   85.049145 -11.013302   \n",
       "...                   ...             ...         ...        ...   \n",
       "ZTF20aberawv       999927    ANT2020aebbk  292.910293  54.078978   \n",
       "ZTF18acrvsjf       999938    ANT2019zf6fg   72.820139   1.073984   \n",
       "ZTF18acdqrna       999957  ANT2020aefhrvi   53.476865  77.496741   \n",
       "ZTF21abhjyor       999964  ANT2020aeedowi  323.724711  31.249401   \n",
       "ZTF18acfdttb       999987    ANT2020fc5ny  295.091491  55.660204   \n",
       "\n",
       "                                               tags  \\\n",
       "ztf_object_id                                         \n",
       "ZTF20acpdyyq               ['lc_feature_extractor']   \n",
       "ZTF18acfvwwa               ['lc_feature_extractor']   \n",
       "ZTF17aaaskvj               ['lc_feature_extractor']   \n",
       "ZTF17aaaskvj   ['lc_feature_extractor', 'high_snr']   \n",
       "ZTF18aczbnhl               ['lc_feature_extractor']   \n",
       "...                                             ...   \n",
       "ZTF20aberawv    ['lc_feature_extractor', 'dimmers']   \n",
       "ZTF18acrvsjf               ['lc_feature_extractor']   \n",
       "ZTF18acdqrna               ['lc_feature_extractor']   \n",
       "ZTF21abhjyor               ['lc_feature_extractor']   \n",
       "ZTF18acfdttb    ['lc_feature_extractor', 'dimmers']   \n",
       "\n",
       "                                                        catalogs ztf_ssnamenr  \\\n",
       "ztf_object_id                                                                   \n",
       "ZTF20acpdyyq   ['allwise', 'gaia_dr2', '2mass_psc', 'bright_g...          NaN   \n",
       "ZTF18acfvwwa   ['allwise', 'gaia_dr2', '2mass_psc', 'bright_g...          NaN   \n",
       "ZTF17aaaskvj   ['allwise', 'csdr2', 'gaia_dr2', '2mass_psc', ...          NaN   \n",
       "ZTF17aaaskvj   ['allwise', 'csdr2', 'gaia_dr2', '2mass_psc', ...          NaN   \n",
       "ZTF18aczbnhl   ['allwise', 'gaia_dr2', '2mass_psc', 'bright_g...          NaN   \n",
       "...                                                          ...          ...   \n",
       "ZTF20aberawv                                                  []          NaN   \n",
       "ZTF18acrvsjf   ['allwise', 'bright_guide_star_cat', '2mass_ps...          NaN   \n",
       "ZTF18acdqrna   ['allwise', 'bright_guide_star_cat', '2mass_ps...          NaN   \n",
       "ZTF21abhjyor                                                  []          NaN   \n",
       "ZTF18acfdttb   ['2mass_psc', 'allwise', 'gaia_dr2', 'bright_g...          NaN   \n",
       "\n",
       "               num_alerts  num_mag_values                    oldest_alert_id  \\\n",
       "ztf_object_id                                                                  \n",
       "ZTF20acpdyyq          137              35   ztf_candidate:993481181415010007   \n",
       "ZTF18acfvwwa          659              88   ztf_candidate:943483942915015010   \n",
       "ZTF17aaaskvj         1497             579   ztf_candidate:598425334815010002   \n",
       "ZTF17aaaskvj         1504             583   ztf_candidate:598425334815010002   \n",
       "ZTF18aczbnhl          105              12   ztf_candidate:718232301815010005   \n",
       "...                   ...             ...                                ...   \n",
       "ZTF20aberawv          235              96  ztf_candidate:1231482062015010023   \n",
       "ZTF18acrvsjf           40              14   ztf_candidate:696399341515010050   \n",
       "ZTF18acdqrna           83              36  ztf_candidate:1353408024115015003   \n",
       "ZTF21abhjyor          118              19  ztf_candidate:1358283950415015003   \n",
       "ZTF18acfdttb          290              14   ztf_candidate:966286933415010005   \n",
       "\n",
       "               ...  anom_score  anomaly_score anomaly_mask  anomaly_type  \\\n",
       "ztf_object_id  ...                                                         \n",
       "ZTF20acpdyyq   ...         NaN            NaN          NaN           NaN   \n",
       "ZTF18acfvwwa   ...         NaN            NaN          NaN           NaN   \n",
       "ZTF17aaaskvj   ...         NaN            NaN          NaN           NaN   \n",
       "ZTF17aaaskvj   ...         NaN            NaN          NaN           NaN   \n",
       "ZTF18aczbnhl   ...         NaN            NaN          NaN           NaN   \n",
       "...            ...         ...            ...          ...           ...   \n",
       "ZTF20aberawv   ...         NaN       0.417276         Fail           TBD   \n",
       "ZTF18acrvsjf   ...         NaN            NaN          NaN           TBD   \n",
       "ZTF18acdqrna   ...         NaN            NaN          NaN           NaN   \n",
       "ZTF21abhjyor   ...         NaN            NaN          NaN           TBD   \n",
       "ZTF18acfdttb   ...         NaN            NaN          NaN           TBD   \n",
       "\n",
       "               is_corrected vpdf_extreme_version  vpdf_extreme_faint  \\\n",
       "ztf_object_id                                                          \n",
       "ZTF20acpdyyq            NaN                  NaN                 NaN   \n",
       "ZTF18acfvwwa            NaN                  NaN                 NaN   \n",
       "ZTF17aaaskvj            NaN                  NaN                 NaN   \n",
       "ZTF17aaaskvj            NaN                  NaN                 NaN   \n",
       "ZTF18aczbnhl            NaN                  NaN                 NaN   \n",
       "...                     ...                  ...                 ...   \n",
       "ZTF20aberawv            NaN                  NaN                 NaN   \n",
       "ZTF18acrvsjf            NaN                  NaN                 NaN   \n",
       "ZTF18acdqrna            NaN                  NaN                 NaN   \n",
       "ZTF21abhjyor            NaN                  NaN                 NaN   \n",
       "ZTF18acfdttb            NaN                  NaN                 NaN   \n",
       "\n",
       "               vpdf_extreme_bright  locus_gal_l  locus_gal_b  \n",
       "ztf_object_id                                                 \n",
       "ZTF20acpdyyq                   NaN   197.881532   -69.513571  \n",
       "ZTF18acfvwwa                   NaN   144.200342   -26.246909  \n",
       "ZTF17aaaskvj                   NaN   136.189482   -24.352953  \n",
       "ZTF17aaaskvj                   NaN   136.189482   -24.352954  \n",
       "ZTF18aczbnhl                   NaN   214.961559   -20.751422  \n",
       "...                            ...          ...          ...  \n",
       "ZTF20aberawv                   NaN    85.961850    16.149525  \n",
       "ZTF18acrvsjf                   NaN   197.132900   -25.906137  \n",
       "ZTF18acdqrna                   NaN   131.425108    17.392307  \n",
       "ZTF21abhjyor                   NaN    80.880513   -15.145608  \n",
       "ZTF18acfdttb                   NaN    88.001492    15.672646  \n",
       "\n",
       "[90199 rows x 112 columns]"
      ]
     },
     "execution_count": 3,
     "metadata": {},
     "output_type": "execute_result"
    }
   ],
   "source": [
    "dataset_bank = pd.read_csv('./loci_df_271688objects_cut_stars_and_gal_plane_transf.csv', \n",
    "                                   compression='gzip',\n",
    "                                   usecols=lambda c: c in ztf_id_and_features_r_g,\n",
    "                                  index_col='ztf_object_id')\n",
    "        \n",
    "# drop row if any feature values are nan\n",
    "dataset_bank = dataset_bank[~dataset_bank[feature_names_r_g].isnull().any(axis=1)]\n",
    "\n",
    "#mask = (dataset_bank['num_mag_values'] >= 40) #& (dataset_bank['num_mag_values'] <= 40)\n",
    "#dataset_bank = dataset_bank[mask]\n",
    "dataset_bank"
   ]
  },
  {
   "cell_type": "code",
   "execution_count": 4,
   "id": "adadfa86",
   "metadata": {},
   "outputs": [
    {
     "data": {
      "text/html": [
       "<div>\n",
       "<style scoped>\n",
       "    .dataframe tbody tr th:only-of-type {\n",
       "        vertical-align: middle;\n",
       "    }\n",
       "\n",
       "    .dataframe tbody tr th {\n",
       "        vertical-align: top;\n",
       "    }\n",
       "\n",
       "    .dataframe thead th {\n",
       "        text-align: right;\n",
       "    }\n",
       "</style>\n",
       "<table border=\"1\" class=\"dataframe\">\n",
       "  <thead>\n",
       "    <tr style=\"text-align: right;\">\n",
       "      <th></th>\n",
       "      <th>feature_amplitude_magn_r</th>\n",
       "      <th>feature_anderson_darling_normal_magn_r</th>\n",
       "      <th>feature_beyond_1_std_magn_r</th>\n",
       "      <th>feature_beyond_2_std_magn_r</th>\n",
       "      <th>feature_cusum_magn_r</th>\n",
       "      <th>feature_inter_percentile_range_2_magn_r</th>\n",
       "      <th>feature_inter_percentile_range_10_magn_r</th>\n",
       "      <th>feature_inter_percentile_range_25_magn_r</th>\n",
       "      <th>feature_kurtosis_magn_r</th>\n",
       "      <th>feature_linear_fit_slope_magn_r</th>\n",
       "      <th>...</th>\n",
       "      <th>feature_standard_deviation_magn_g</th>\n",
       "      <th>feature_stetson_k_magn_g</th>\n",
       "      <th>feature_weighted_mean_magn_g</th>\n",
       "      <th>feature_anderson_darling_normal_flux_g</th>\n",
       "      <th>feature_cusum_flux_g</th>\n",
       "      <th>feature_excess_variance_flux_g</th>\n",
       "      <th>feature_kurtosis_flux_g</th>\n",
       "      <th>feature_mean_variance_flux_g</th>\n",
       "      <th>feature_skew_flux_g</th>\n",
       "      <th>feature_stetson_k_flux_g</th>\n",
       "    </tr>\n",
       "    <tr>\n",
       "      <th>ztf_object_id</th>\n",
       "      <th></th>\n",
       "      <th></th>\n",
       "      <th></th>\n",
       "      <th></th>\n",
       "      <th></th>\n",
       "      <th></th>\n",
       "      <th></th>\n",
       "      <th></th>\n",
       "      <th></th>\n",
       "      <th></th>\n",
       "      <th></th>\n",
       "      <th></th>\n",
       "      <th></th>\n",
       "      <th></th>\n",
       "      <th></th>\n",
       "      <th></th>\n",
       "      <th></th>\n",
       "      <th></th>\n",
       "      <th></th>\n",
       "      <th></th>\n",
       "      <th></th>\n",
       "    </tr>\n",
       "  </thead>\n",
       "  <tbody>\n",
       "    <tr>\n",
       "      <th>ZTF20acpdyyq</th>\n",
       "      <td>0.514069</td>\n",
       "      <td>-0.037026</td>\n",
       "      <td>0.230769</td>\n",
       "      <td>0.277350</td>\n",
       "      <td>0.210596</td>\n",
       "      <td>1.028137</td>\n",
       "      <td>0.606000</td>\n",
       "      <td>0.224944</td>\n",
       "      <td>2.176230</td>\n",
       "      <td>-0.001783</td>\n",
       "      <td>...</td>\n",
       "      <td>0.344664</td>\n",
       "      <td>0.833143</td>\n",
       "      <td>18.288298</td>\n",
       "      <td>-0.741267</td>\n",
       "      <td>0.244416</td>\n",
       "      <td>0.409971</td>\n",
       "      <td>-0.783581</td>\n",
       "      <td>-0.535533</td>\n",
       "      <td>-0.061333</td>\n",
       "      <td>0.815809</td>\n",
       "    </tr>\n",
       "    <tr>\n",
       "      <th>ZTF18acfvwwa</th>\n",
       "      <td>0.593122</td>\n",
       "      <td>-0.303523</td>\n",
       "      <td>0.303030</td>\n",
       "      <td>0.246183</td>\n",
       "      <td>0.272132</td>\n",
       "      <td>1.152622</td>\n",
       "      <td>0.729088</td>\n",
       "      <td>0.356500</td>\n",
       "      <td>0.552720</td>\n",
       "      <td>0.000145</td>\n",
       "      <td>...</td>\n",
       "      <td>0.255341</td>\n",
       "      <td>0.796845</td>\n",
       "      <td>17.025929</td>\n",
       "      <td>0.013852</td>\n",
       "      <td>0.276394</td>\n",
       "      <td>0.369215</td>\n",
       "      <td>0.319612</td>\n",
       "      <td>-0.616276</td>\n",
       "      <td>0.720649</td>\n",
       "      <td>0.746565</td>\n",
       "    </tr>\n",
       "    <tr>\n",
       "      <th>ZTF17aaaskvj</th>\n",
       "      <td>1.325100</td>\n",
       "      <td>0.305955</td>\n",
       "      <td>0.310345</td>\n",
       "      <td>0.194759</td>\n",
       "      <td>0.069613</td>\n",
       "      <td>1.452066</td>\n",
       "      <td>0.900613</td>\n",
       "      <td>0.490911</td>\n",
       "      <td>1.562089</td>\n",
       "      <td>-0.000205</td>\n",
       "      <td>...</td>\n",
       "      <td>0.384571</td>\n",
       "      <td>0.542215</td>\n",
       "      <td>16.768612</td>\n",
       "      <td>1.073154</td>\n",
       "      <td>0.119285</td>\n",
       "      <td>0.611570</td>\n",
       "      <td>4.490889</td>\n",
       "      <td>-0.309191</td>\n",
       "      <td>2.390988</td>\n",
       "      <td>0.613781</td>\n",
       "    </tr>\n",
       "    <tr>\n",
       "      <th>ZTF17aaaskvj</th>\n",
       "      <td>1.325100</td>\n",
       "      <td>0.300439</td>\n",
       "      <td>0.308219</td>\n",
       "      <td>0.194091</td>\n",
       "      <td>0.072355</td>\n",
       "      <td>1.448558</td>\n",
       "      <td>0.899251</td>\n",
       "      <td>0.491846</td>\n",
       "      <td>1.551687</td>\n",
       "      <td>-0.000213</td>\n",
       "      <td>...</td>\n",
       "      <td>0.386585</td>\n",
       "      <td>0.541809</td>\n",
       "      <td>16.773018</td>\n",
       "      <td>1.066396</td>\n",
       "      <td>0.119160</td>\n",
       "      <td>0.611631</td>\n",
       "      <td>4.488470</td>\n",
       "      <td>-0.309169</td>\n",
       "      <td>2.386820</td>\n",
       "      <td>0.613769</td>\n",
       "    </tr>\n",
       "    <tr>\n",
       "      <th>ZTF18aczbnhl</th>\n",
       "      <td>0.276431</td>\n",
       "      <td>-0.610376</td>\n",
       "      <td>0.250000</td>\n",
       "      <td>0.000000</td>\n",
       "      <td>0.370062</td>\n",
       "      <td>0.552862</td>\n",
       "      <td>0.552862</td>\n",
       "      <td>0.316462</td>\n",
       "      <td>1.948112</td>\n",
       "      <td>-0.000285</td>\n",
       "      <td>...</td>\n",
       "      <td>0.492342</td>\n",
       "      <td>0.871093</td>\n",
       "      <td>18.629537</td>\n",
       "      <td>-0.228569</td>\n",
       "      <td>0.247441</td>\n",
       "      <td>0.547583</td>\n",
       "      <td>-1.541604</td>\n",
       "      <td>-0.365630</td>\n",
       "      <td>0.163018</td>\n",
       "      <td>0.879632</td>\n",
       "    </tr>\n",
       "    <tr>\n",
       "      <th>...</th>\n",
       "      <td>...</td>\n",
       "      <td>...</td>\n",
       "      <td>...</td>\n",
       "      <td>...</td>\n",
       "      <td>...</td>\n",
       "      <td>...</td>\n",
       "      <td>...</td>\n",
       "      <td>...</td>\n",
       "      <td>...</td>\n",
       "      <td>...</td>\n",
       "      <td>...</td>\n",
       "      <td>...</td>\n",
       "      <td>...</td>\n",
       "      <td>...</td>\n",
       "      <td>...</td>\n",
       "      <td>...</td>\n",
       "      <td>...</td>\n",
       "      <td>...</td>\n",
       "      <td>...</td>\n",
       "      <td>...</td>\n",
       "      <td>...</td>\n",
       "    </tr>\n",
       "    <tr>\n",
       "      <th>ZTF20aberawv</th>\n",
       "      <td>0.300650</td>\n",
       "      <td>-0.429238</td>\n",
       "      <td>0.297297</td>\n",
       "      <td>0.232495</td>\n",
       "      <td>0.184334</td>\n",
       "      <td>0.595349</td>\n",
       "      <td>0.392779</td>\n",
       "      <td>0.242816</td>\n",
       "      <td>-0.351417</td>\n",
       "      <td>0.000136</td>\n",
       "      <td>...</td>\n",
       "      <td>0.155849</td>\n",
       "      <td>0.792311</td>\n",
       "      <td>19.806295</td>\n",
       "      <td>-0.593235</td>\n",
       "      <td>0.204807</td>\n",
       "      <td>-0.221537</td>\n",
       "      <td>-0.302184</td>\n",
       "      <td>-0.857277</td>\n",
       "      <td>-0.176622</td>\n",
       "      <td>0.787504</td>\n",
       "    </tr>\n",
       "    <tr>\n",
       "      <th>ZTF18acrvsjf</th>\n",
       "      <td>0.383450</td>\n",
       "      <td>-0.343338</td>\n",
       "      <td>0.166667</td>\n",
       "      <td>0.000000</td>\n",
       "      <td>0.422187</td>\n",
       "      <td>0.766899</td>\n",
       "      <td>0.732969</td>\n",
       "      <td>0.427601</td>\n",
       "      <td>-1.013720</td>\n",
       "      <td>0.013309</td>\n",
       "      <td>...</td>\n",
       "      <td>0.399852</td>\n",
       "      <td>0.863606</td>\n",
       "      <td>18.111818</td>\n",
       "      <td>-0.572841</td>\n",
       "      <td>0.379990</td>\n",
       "      <td>0.461553</td>\n",
       "      <td>-0.568062</td>\n",
       "      <td>-0.479605</td>\n",
       "      <td>-0.111461</td>\n",
       "      <td>0.810731</td>\n",
       "    </tr>\n",
       "    <tr>\n",
       "      <th>ZTF18acdqrna</th>\n",
       "      <td>0.371200</td>\n",
       "      <td>-0.664954</td>\n",
       "      <td>0.277778</td>\n",
       "      <td>0.000000</td>\n",
       "      <td>0.321254</td>\n",
       "      <td>0.742399</td>\n",
       "      <td>0.511758</td>\n",
       "      <td>0.323900</td>\n",
       "      <td>-0.753142</td>\n",
       "      <td>-0.001131</td>\n",
       "      <td>...</td>\n",
       "      <td>0.306282</td>\n",
       "      <td>0.747445</td>\n",
       "      <td>17.685317</td>\n",
       "      <td>-0.366746</td>\n",
       "      <td>0.267253</td>\n",
       "      <td>0.396504</td>\n",
       "      <td>1.539943</td>\n",
       "      <td>-0.555800</td>\n",
       "      <td>0.748662</td>\n",
       "      <td>0.795946</td>\n",
       "    </tr>\n",
       "    <tr>\n",
       "      <th>ZTF21abhjyor</th>\n",
       "      <td>0.227900</td>\n",
       "      <td>-1.021921</td>\n",
       "      <td>0.500000</td>\n",
       "      <td>0.000000</td>\n",
       "      <td>0.329992</td>\n",
       "      <td>0.455799</td>\n",
       "      <td>0.455799</td>\n",
       "      <td>0.246500</td>\n",
       "      <td>1.085048</td>\n",
       "      <td>-0.001023</td>\n",
       "      <td>...</td>\n",
       "      <td>0.151608</td>\n",
       "      <td>0.839523</td>\n",
       "      <td>17.388193</td>\n",
       "      <td>-0.296973</td>\n",
       "      <td>0.180238</td>\n",
       "      <td>0.148956</td>\n",
       "      <td>0.273701</td>\n",
       "      <td>-0.871107</td>\n",
       "      <td>-0.293902</td>\n",
       "      <td>0.848042</td>\n",
       "    </tr>\n",
       "    <tr>\n",
       "      <th>ZTF18acfdttb</th>\n",
       "      <td>0.555672</td>\n",
       "      <td>-0.389300</td>\n",
       "      <td>0.285714</td>\n",
       "      <td>0.000000</td>\n",
       "      <td>0.382172</td>\n",
       "      <td>1.111343</td>\n",
       "      <td>1.010869</td>\n",
       "      <td>0.517118</td>\n",
       "      <td>0.497496</td>\n",
       "      <td>0.000696</td>\n",
       "      <td>...</td>\n",
       "      <td>0.600190</td>\n",
       "      <td>0.834462</td>\n",
       "      <td>18.515752</td>\n",
       "      <td>-0.409298</td>\n",
       "      <td>0.257396</td>\n",
       "      <td>0.555034</td>\n",
       "      <td>-0.817007</td>\n",
       "      <td>-0.372240</td>\n",
       "      <td>-0.668849</td>\n",
       "      <td>0.902752</td>\n",
       "    </tr>\n",
       "  </tbody>\n",
       "</table>\n",
       "<p>90199 rows × 82 columns</p>\n",
       "</div>"
      ],
      "text/plain": [
       "               feature_amplitude_magn_r  \\\n",
       "ztf_object_id                             \n",
       "ZTF20acpdyyq                   0.514069   \n",
       "ZTF18acfvwwa                   0.593122   \n",
       "ZTF17aaaskvj                   1.325100   \n",
       "ZTF17aaaskvj                   1.325100   \n",
       "ZTF18aczbnhl                   0.276431   \n",
       "...                                 ...   \n",
       "ZTF20aberawv                   0.300650   \n",
       "ZTF18acrvsjf                   0.383450   \n",
       "ZTF18acdqrna                   0.371200   \n",
       "ZTF21abhjyor                   0.227900   \n",
       "ZTF18acfdttb                   0.555672   \n",
       "\n",
       "               feature_anderson_darling_normal_magn_r  \\\n",
       "ztf_object_id                                           \n",
       "ZTF20acpdyyq                                -0.037026   \n",
       "ZTF18acfvwwa                                -0.303523   \n",
       "ZTF17aaaskvj                                 0.305955   \n",
       "ZTF17aaaskvj                                 0.300439   \n",
       "ZTF18aczbnhl                                -0.610376   \n",
       "...                                               ...   \n",
       "ZTF20aberawv                                -0.429238   \n",
       "ZTF18acrvsjf                                -0.343338   \n",
       "ZTF18acdqrna                                -0.664954   \n",
       "ZTF21abhjyor                                -1.021921   \n",
       "ZTF18acfdttb                                -0.389300   \n",
       "\n",
       "               feature_beyond_1_std_magn_r  feature_beyond_2_std_magn_r  \\\n",
       "ztf_object_id                                                             \n",
       "ZTF20acpdyyq                      0.230769                     0.277350   \n",
       "ZTF18acfvwwa                      0.303030                     0.246183   \n",
       "ZTF17aaaskvj                      0.310345                     0.194759   \n",
       "ZTF17aaaskvj                      0.308219                     0.194091   \n",
       "ZTF18aczbnhl                      0.250000                     0.000000   \n",
       "...                                    ...                          ...   \n",
       "ZTF20aberawv                      0.297297                     0.232495   \n",
       "ZTF18acrvsjf                      0.166667                     0.000000   \n",
       "ZTF18acdqrna                      0.277778                     0.000000   \n",
       "ZTF21abhjyor                      0.500000                     0.000000   \n",
       "ZTF18acfdttb                      0.285714                     0.000000   \n",
       "\n",
       "               feature_cusum_magn_r  feature_inter_percentile_range_2_magn_r  \\\n",
       "ztf_object_id                                                                  \n",
       "ZTF20acpdyyq               0.210596                                 1.028137   \n",
       "ZTF18acfvwwa               0.272132                                 1.152622   \n",
       "ZTF17aaaskvj               0.069613                                 1.452066   \n",
       "ZTF17aaaskvj               0.072355                                 1.448558   \n",
       "ZTF18aczbnhl               0.370062                                 0.552862   \n",
       "...                             ...                                      ...   \n",
       "ZTF20aberawv               0.184334                                 0.595349   \n",
       "ZTF18acrvsjf               0.422187                                 0.766899   \n",
       "ZTF18acdqrna               0.321254                                 0.742399   \n",
       "ZTF21abhjyor               0.329992                                 0.455799   \n",
       "ZTF18acfdttb               0.382172                                 1.111343   \n",
       "\n",
       "               feature_inter_percentile_range_10_magn_r  \\\n",
       "ztf_object_id                                             \n",
       "ZTF20acpdyyq                                   0.606000   \n",
       "ZTF18acfvwwa                                   0.729088   \n",
       "ZTF17aaaskvj                                   0.900613   \n",
       "ZTF17aaaskvj                                   0.899251   \n",
       "ZTF18aczbnhl                                   0.552862   \n",
       "...                                                 ...   \n",
       "ZTF20aberawv                                   0.392779   \n",
       "ZTF18acrvsjf                                   0.732969   \n",
       "ZTF18acdqrna                                   0.511758   \n",
       "ZTF21abhjyor                                   0.455799   \n",
       "ZTF18acfdttb                                   1.010869   \n",
       "\n",
       "               feature_inter_percentile_range_25_magn_r  \\\n",
       "ztf_object_id                                             \n",
       "ZTF20acpdyyq                                   0.224944   \n",
       "ZTF18acfvwwa                                   0.356500   \n",
       "ZTF17aaaskvj                                   0.490911   \n",
       "ZTF17aaaskvj                                   0.491846   \n",
       "ZTF18aczbnhl                                   0.316462   \n",
       "...                                                 ...   \n",
       "ZTF20aberawv                                   0.242816   \n",
       "ZTF18acrvsjf                                   0.427601   \n",
       "ZTF18acdqrna                                   0.323900   \n",
       "ZTF21abhjyor                                   0.246500   \n",
       "ZTF18acfdttb                                   0.517118   \n",
       "\n",
       "               feature_kurtosis_magn_r  feature_linear_fit_slope_magn_r  ...  \\\n",
       "ztf_object_id                                                            ...   \n",
       "ZTF20acpdyyq                  2.176230                        -0.001783  ...   \n",
       "ZTF18acfvwwa                  0.552720                         0.000145  ...   \n",
       "ZTF17aaaskvj                  1.562089                        -0.000205  ...   \n",
       "ZTF17aaaskvj                  1.551687                        -0.000213  ...   \n",
       "ZTF18aczbnhl                  1.948112                        -0.000285  ...   \n",
       "...                                ...                              ...  ...   \n",
       "ZTF20aberawv                 -0.351417                         0.000136  ...   \n",
       "ZTF18acrvsjf                 -1.013720                         0.013309  ...   \n",
       "ZTF18acdqrna                 -0.753142                        -0.001131  ...   \n",
       "ZTF21abhjyor                  1.085048                        -0.001023  ...   \n",
       "ZTF18acfdttb                  0.497496                         0.000696  ...   \n",
       "\n",
       "               feature_standard_deviation_magn_g  feature_stetson_k_magn_g  \\\n",
       "ztf_object_id                                                                \n",
       "ZTF20acpdyyq                            0.344664                  0.833143   \n",
       "ZTF18acfvwwa                            0.255341                  0.796845   \n",
       "ZTF17aaaskvj                            0.384571                  0.542215   \n",
       "ZTF17aaaskvj                            0.386585                  0.541809   \n",
       "ZTF18aczbnhl                            0.492342                  0.871093   \n",
       "...                                          ...                       ...   \n",
       "ZTF20aberawv                            0.155849                  0.792311   \n",
       "ZTF18acrvsjf                            0.399852                  0.863606   \n",
       "ZTF18acdqrna                            0.306282                  0.747445   \n",
       "ZTF21abhjyor                            0.151608                  0.839523   \n",
       "ZTF18acfdttb                            0.600190                  0.834462   \n",
       "\n",
       "               feature_weighted_mean_magn_g  \\\n",
       "ztf_object_id                                 \n",
       "ZTF20acpdyyq                      18.288298   \n",
       "ZTF18acfvwwa                      17.025929   \n",
       "ZTF17aaaskvj                      16.768612   \n",
       "ZTF17aaaskvj                      16.773018   \n",
       "ZTF18aczbnhl                      18.629537   \n",
       "...                                     ...   \n",
       "ZTF20aberawv                      19.806295   \n",
       "ZTF18acrvsjf                      18.111818   \n",
       "ZTF18acdqrna                      17.685317   \n",
       "ZTF21abhjyor                      17.388193   \n",
       "ZTF18acfdttb                      18.515752   \n",
       "\n",
       "               feature_anderson_darling_normal_flux_g  feature_cusum_flux_g  \\\n",
       "ztf_object_id                                                                 \n",
       "ZTF20acpdyyq                                -0.741267              0.244416   \n",
       "ZTF18acfvwwa                                 0.013852              0.276394   \n",
       "ZTF17aaaskvj                                 1.073154              0.119285   \n",
       "ZTF17aaaskvj                                 1.066396              0.119160   \n",
       "ZTF18aczbnhl                                -0.228569              0.247441   \n",
       "...                                               ...                   ...   \n",
       "ZTF20aberawv                                -0.593235              0.204807   \n",
       "ZTF18acrvsjf                                -0.572841              0.379990   \n",
       "ZTF18acdqrna                                -0.366746              0.267253   \n",
       "ZTF21abhjyor                                -0.296973              0.180238   \n",
       "ZTF18acfdttb                                -0.409298              0.257396   \n",
       "\n",
       "               feature_excess_variance_flux_g  feature_kurtosis_flux_g  \\\n",
       "ztf_object_id                                                            \n",
       "ZTF20acpdyyq                         0.409971                -0.783581   \n",
       "ZTF18acfvwwa                         0.369215                 0.319612   \n",
       "ZTF17aaaskvj                         0.611570                 4.490889   \n",
       "ZTF17aaaskvj                         0.611631                 4.488470   \n",
       "ZTF18aczbnhl                         0.547583                -1.541604   \n",
       "...                                       ...                      ...   \n",
       "ZTF20aberawv                        -0.221537                -0.302184   \n",
       "ZTF18acrvsjf                         0.461553                -0.568062   \n",
       "ZTF18acdqrna                         0.396504                 1.539943   \n",
       "ZTF21abhjyor                         0.148956                 0.273701   \n",
       "ZTF18acfdttb                         0.555034                -0.817007   \n",
       "\n",
       "               feature_mean_variance_flux_g  feature_skew_flux_g  \\\n",
       "ztf_object_id                                                      \n",
       "ZTF20acpdyyq                      -0.535533            -0.061333   \n",
       "ZTF18acfvwwa                      -0.616276             0.720649   \n",
       "ZTF17aaaskvj                      -0.309191             2.390988   \n",
       "ZTF17aaaskvj                      -0.309169             2.386820   \n",
       "ZTF18aczbnhl                      -0.365630             0.163018   \n",
       "...                                     ...                  ...   \n",
       "ZTF20aberawv                      -0.857277            -0.176622   \n",
       "ZTF18acrvsjf                      -0.479605            -0.111461   \n",
       "ZTF18acdqrna                      -0.555800             0.748662   \n",
       "ZTF21abhjyor                      -0.871107            -0.293902   \n",
       "ZTF18acfdttb                      -0.372240            -0.668849   \n",
       "\n",
       "               feature_stetson_k_flux_g  \n",
       "ztf_object_id                            \n",
       "ZTF20acpdyyq                   0.815809  \n",
       "ZTF18acfvwwa                   0.746565  \n",
       "ZTF17aaaskvj                   0.613781  \n",
       "ZTF17aaaskvj                   0.613769  \n",
       "ZTF18aczbnhl                   0.879632  \n",
       "...                                 ...  \n",
       "ZTF20aberawv                   0.787504  \n",
       "ZTF18acrvsjf                   0.810731  \n",
       "ZTF18acdqrna                   0.795946  \n",
       "ZTF21abhjyor                   0.848042  \n",
       "ZTF18acfdttb                   0.902752  \n",
       "\n",
       "[90199 rows x 82 columns]"
      ]
     },
     "execution_count": 4,
     "metadata": {},
     "output_type": "execute_result"
    }
   ],
   "source": [
    "# only keep features of bank\n",
    "dataset_bank = dataset_bank[feature_names_r_g]\n",
    "dataset_bank"
   ]
  },
  {
   "cell_type": "code",
   "execution_count": 5,
   "id": "9126a59c",
   "metadata": {},
   "outputs": [],
   "source": [
    "\n",
    "# https://github.com/uiucsn/laiss/blob/main/LAISS/notebooks/LAISS_tests.ipynb\n",
    "idx_arr = np.hstack(np.array(dataset_bank.index, dtype='object'))\n",
    "feat_arr = np.vstack(np.array(dataset_bank, dtype='object'))\n",
    "\n",
    "#scaler = StandardScaler() # Create a scalar\n",
    "scaler = MinMaxScaler() # Create a scalar\n",
    "scaler.fit(feat_arr) # Fit only to training data\n",
    "feat_arr_scaled = scaler.transform(feat_arr) # What your model learns on\n",
    "\n",
    "# Build ANNOY index of scaled features of dataset_bank\n",
    "index = AnnoyIndex(feat_arr_scaled, idx_arr, metric='angular')\n",
    "index.build()\n",
    "# dist metrics: dot is not good, eucl and manhattan are more or less same, \n",
    "# hamming is good distance but matches aren't as similar\n",
    "# angular has best matches?"
   ]
  },
  {
   "cell_type": "markdown",
   "id": "3afb4b78",
   "metadata": {},
   "source": [
    "# TODO: get Tns classes, do distance distr per class (in diff metrics)"
   ]
  },
  {
   "cell_type": "code",
   "execution_count": 6,
   "id": "b7665a8b",
   "metadata": {},
   "outputs": [
    {
     "data": {
      "text/html": [
       "<div>\n",
       "<style scoped>\n",
       "    .dataframe tbody tr th:only-of-type {\n",
       "        vertical-align: middle;\n",
       "    }\n",
       "\n",
       "    .dataframe tbody tr th {\n",
       "        vertical-align: top;\n",
       "    }\n",
       "\n",
       "    .dataframe thead th {\n",
       "        text-align: right;\n",
       "    }\n",
       "</style>\n",
       "<table border=\"1\" class=\"dataframe\">\n",
       "  <thead>\n",
       "    <tr style=\"text-align: right;\">\n",
       "      <th></th>\n",
       "      <th>feature_amplitude_magn_r</th>\n",
       "      <th>feature_anderson_darling_normal_magn_r</th>\n",
       "      <th>feature_beyond_1_std_magn_r</th>\n",
       "      <th>feature_beyond_2_std_magn_r</th>\n",
       "      <th>feature_cusum_magn_r</th>\n",
       "      <th>feature_inter_percentile_range_2_magn_r</th>\n",
       "      <th>feature_inter_percentile_range_10_magn_r</th>\n",
       "      <th>feature_inter_percentile_range_25_magn_r</th>\n",
       "      <th>feature_kurtosis_magn_r</th>\n",
       "      <th>feature_linear_fit_slope_magn_r</th>\n",
       "      <th>...</th>\n",
       "      <th>feature_standard_deviation_magn_g</th>\n",
       "      <th>feature_stetson_k_magn_g</th>\n",
       "      <th>feature_weighted_mean_magn_g</th>\n",
       "      <th>feature_anderson_darling_normal_flux_g</th>\n",
       "      <th>feature_cusum_flux_g</th>\n",
       "      <th>feature_excess_variance_flux_g</th>\n",
       "      <th>feature_kurtosis_flux_g</th>\n",
       "      <th>feature_mean_variance_flux_g</th>\n",
       "      <th>feature_skew_flux_g</th>\n",
       "      <th>feature_stetson_k_flux_g</th>\n",
       "    </tr>\n",
       "    <tr>\n",
       "      <th>ztf_object_id</th>\n",
       "      <th></th>\n",
       "      <th></th>\n",
       "      <th></th>\n",
       "      <th></th>\n",
       "      <th></th>\n",
       "      <th></th>\n",
       "      <th></th>\n",
       "      <th></th>\n",
       "      <th></th>\n",
       "      <th></th>\n",
       "      <th></th>\n",
       "      <th></th>\n",
       "      <th></th>\n",
       "      <th></th>\n",
       "      <th></th>\n",
       "      <th></th>\n",
       "      <th></th>\n",
       "      <th></th>\n",
       "      <th></th>\n",
       "      <th></th>\n",
       "      <th></th>\n",
       "    </tr>\n",
       "  </thead>\n",
       "  <tbody>\n",
       "    <tr>\n",
       "      <th>ZTF21aassamj</th>\n",
       "      <td>1.189001</td>\n",
       "      <td>-0.413818</td>\n",
       "      <td>0.4</td>\n",
       "      <td>0.0</td>\n",
       "      <td>0.416693</td>\n",
       "      <td>2.378002</td>\n",
       "      <td>1.856905</td>\n",
       "      <td>1.196203</td>\n",
       "      <td>-0.903198</td>\n",
       "      <td>0.023784</td>\n",
       "      <td>...</td>\n",
       "      <td>0.979404</td>\n",
       "      <td>0.917967</td>\n",
       "      <td>18.575304</td>\n",
       "      <td>-0.048448</td>\n",
       "      <td>0.432879</td>\n",
       "      <td>0.800238</td>\n",
       "      <td>-1.105528</td>\n",
       "      <td>-0.141528</td>\n",
       "      <td>0.438731</td>\n",
       "      <td>0.832587</td>\n",
       "    </tr>\n",
       "  </tbody>\n",
       "</table>\n",
       "<p>1 rows × 82 columns</p>\n",
       "</div>"
      ],
      "text/plain": [
       "               feature_amplitude_magn_r  \\\n",
       "ztf_object_id                             \n",
       "ZTF21aassamj                   1.189001   \n",
       "\n",
       "               feature_anderson_darling_normal_magn_r  \\\n",
       "ztf_object_id                                           \n",
       "ZTF21aassamj                                -0.413818   \n",
       "\n",
       "               feature_beyond_1_std_magn_r  feature_beyond_2_std_magn_r  \\\n",
       "ztf_object_id                                                             \n",
       "ZTF21aassamj                           0.4                          0.0   \n",
       "\n",
       "               feature_cusum_magn_r  feature_inter_percentile_range_2_magn_r  \\\n",
       "ztf_object_id                                                                  \n",
       "ZTF21aassamj               0.416693                                 2.378002   \n",
       "\n",
       "               feature_inter_percentile_range_10_magn_r  \\\n",
       "ztf_object_id                                             \n",
       "ZTF21aassamj                                   1.856905   \n",
       "\n",
       "               feature_inter_percentile_range_25_magn_r  \\\n",
       "ztf_object_id                                             \n",
       "ZTF21aassamj                                   1.196203   \n",
       "\n",
       "               feature_kurtosis_magn_r  feature_linear_fit_slope_magn_r  ...  \\\n",
       "ztf_object_id                                                            ...   \n",
       "ZTF21aassamj                 -0.903198                         0.023784  ...   \n",
       "\n",
       "               feature_standard_deviation_magn_g  feature_stetson_k_magn_g  \\\n",
       "ztf_object_id                                                                \n",
       "ZTF21aassamj                            0.979404                  0.917967   \n",
       "\n",
       "               feature_weighted_mean_magn_g  \\\n",
       "ztf_object_id                                 \n",
       "ZTF21aassamj                      18.575304   \n",
       "\n",
       "               feature_anderson_darling_normal_flux_g  feature_cusum_flux_g  \\\n",
       "ztf_object_id                                                                 \n",
       "ZTF21aassamj                                -0.048448              0.432879   \n",
       "\n",
       "               feature_excess_variance_flux_g  feature_kurtosis_flux_g  \\\n",
       "ztf_object_id                                                            \n",
       "ZTF21aassamj                         0.800238                -1.105528   \n",
       "\n",
       "               feature_mean_variance_flux_g  feature_skew_flux_g  \\\n",
       "ztf_object_id                                                      \n",
       "ZTF21aassamj                      -0.141528             0.438731   \n",
       "\n",
       "               feature_stetson_k_flux_g  \n",
       "ztf_object_id                            \n",
       "ZTF21aassamj                   0.832587  \n",
       "\n",
       "[1 rows x 82 columns]"
      ]
     },
     "execution_count": 6,
     "metadata": {},
     "output_type": "execute_result"
    }
   ],
   "source": [
    "# Reference\n",
    "# ZTF21aassamj\tdataset_bank.iloc[-5:-4] is good Ia\n",
    "\n",
    "\n",
    "dataset_ref = dataset_bank[dataset_bank.index == 'ZTF21aassamj'] # SN ia (lower first ANN dist), 0.3478 [eucl.], 2.1561 [manhattan], 21.8293 [dot], 0 for first 3, then 1,2... [hamming], 0.077 [angular]\n",
    "#dataset_ref = dataset_bank[dataset_bank.index == 'ZTF20abwrcmq'] # SN iax ,  , 3.5786 [manhattan]\n",
    "#dataset_ref = dataset_bank[dataset_bank.index == 'ZTF18abuicad'] # SLSN , , 4.449 [manhattan]\n",
    "#dataset_ref = dataset_bank[dataset_bank.index == 'ZTF20abqkbfx'] # Ia-CSM , , 4.0267 [manhattan], 4 is first match, then 5 [hamming]\n",
    "#dataset_ref = dataset_bank[dataset_bank.index == 'ZTF20achncvv']  # SLSN-II\n",
    "#dataset_ref = dataset_bank[dataset_bank.index == 'ZTF20acpbdvm'] # SN II , , 2.3857 [manhattan], 0.088 [angular]\n",
    "#dataset_ref = dataset_bank[dataset_bank.index == 'ZTF20acveyyv'] # SN IIn\n",
    "#dataset_ref = dataset_bank[dataset_bank.index == 'ZTF18abktckv'] # Lensing (high first ANN dist), 0.7893, 4.5839 [manhattan], 21.5625 [dot], 8! for first one, then 9,10... [hamming], 0.1678 [angular]\n",
    "dataset_ref "
   ]
  },
  {
   "cell_type": "code",
   "execution_count": 7,
   "id": "0c97284d",
   "metadata": {
    "scrolled": false
   },
   "outputs": [
    {
     "name": "stdout",
     "output_type": "stream",
     "text": [
      "ZTF ID name (ref) ZTF21aassamj\n"
     ]
    },
    {
     "data": {
      "text/markdown": [
       "https://alerce.online/object/ZTF21aassamj"
      ]
     },
     "metadata": {},
     "output_type": "display_data"
    },
    {
     "name": "stdout",
     "output_type": "stream",
     "text": [
      "None\n",
      "%%%%%%\n",
      "ANN\t\tIDX\t\t\t\tZTF_id\t\t\t\tDIST\n"
     ]
    },
    {
     "data": {
      "text/markdown": [
       "https://alerce.online/object/ZTF21aassamj"
      ]
     },
     "metadata": {},
     "output_type": "display_data"
    },
    {
     "name": "stdout",
     "output_type": "stream",
     "text": [
      "0\t\t90181\t\t\t\tNone\t\t\t0.0\n"
     ]
    },
    {
     "data": {
      "text/markdown": [
       "https://alerce.online/object/ZTF20acwnrty"
      ]
     },
     "metadata": {},
     "output_type": "display_data"
    },
    {
     "name": "stdout",
     "output_type": "stream",
     "text": [
      "1\t\t17019\t\t\t\tNone\t\t\t0.077\n"
     ]
    },
    {
     "data": {
      "text/markdown": [
       "https://alerce.online/object/ZTF20acnvlgg"
      ]
     },
     "metadata": {},
     "output_type": "display_data"
    },
    {
     "name": "stdout",
     "output_type": "stream",
     "text": [
      "2\t\t5478\t\t\t\tNone\t\t\t0.0849\n"
     ]
    },
    {
     "data": {
      "text/markdown": [
       "https://alerce.online/object/ZTF21aanwfjk"
      ]
     },
     "metadata": {},
     "output_type": "display_data"
    },
    {
     "name": "stdout",
     "output_type": "stream",
     "text": [
      "3\t\t46111\t\t\t\tNone\t\t\t0.0862\n"
     ]
    },
    {
     "data": {
      "text/markdown": [
       "https://alerce.online/object/ZTF18acybdar"
      ]
     },
     "metadata": {},
     "output_type": "display_data"
    },
    {
     "name": "stdout",
     "output_type": "stream",
     "text": [
      "4\t\t4456\t\t\t\tNone\t\t\t0.0916\n"
     ]
    },
    {
     "data": {
      "text/markdown": [
       "https://alerce.online/object/ZTF21aavqwhh"
      ]
     },
     "metadata": {},
     "output_type": "display_data"
    },
    {
     "name": "stdout",
     "output_type": "stream",
     "text": [
      "5\t\t82995\t\t\t\tNone\t\t\t0.0959\n"
     ]
    },
    {
     "data": {
      "text/markdown": [
       "https://alerce.online/object/ZTF21abjeyoh"
      ]
     },
     "metadata": {},
     "output_type": "display_data"
    },
    {
     "name": "stdout",
     "output_type": "stream",
     "text": [
      "6\t\t62841\t\t\t\tNone\t\t\t0.0962\n"
     ]
    },
    {
     "data": {
      "text/markdown": [
       "https://alerce.online/object/ZTF21aaswvyc"
      ]
     },
     "metadata": {},
     "output_type": "display_data"
    },
    {
     "name": "stdout",
     "output_type": "stream",
     "text": [
      "7\t\t15214\t\t\t\tNone\t\t\t0.097\n"
     ]
    },
    {
     "data": {
      "text/markdown": [
       "https://alerce.online/object/ZTF21aaxylga"
      ]
     },
     "metadata": {},
     "output_type": "display_data"
    },
    {
     "name": "stdout",
     "output_type": "stream",
     "text": [
      "8\t\t41743\t\t\t\tNone\t\t\t0.1051\n"
     ]
    },
    {
     "data": {
      "text/markdown": [
       "https://alerce.online/object/ZTF21aawzsew"
      ]
     },
     "metadata": {},
     "output_type": "display_data"
    },
    {
     "name": "stdout",
     "output_type": "stream",
     "text": [
      "9\t\t70057\t\t\t\tNone\t\t\t0.1057\n"
     ]
    },
    {
     "data": {
      "text/markdown": [
       "https://alerce.online/object/ZTF20acizliy"
      ]
     },
     "metadata": {},
     "output_type": "display_data"
    },
    {
     "name": "stdout",
     "output_type": "stream",
     "text": [
      "10\t\t58254\t\t\t\tNone\t\t\t0.1058\n"
     ]
    },
    {
     "data": {
      "text/markdown": [
       "https://alerce.online/object/ZTF21aapkvrd"
      ]
     },
     "metadata": {},
     "output_type": "display_data"
    },
    {
     "name": "stdout",
     "output_type": "stream",
     "text": [
      "11\t\t8026\t\t\t\tNone\t\t\t0.1064\n"
     ]
    },
    {
     "data": {
      "text/markdown": [
       "https://alerce.online/object/ZTF21abnvsic"
      ]
     },
     "metadata": {},
     "output_type": "display_data"
    },
    {
     "name": "stdout",
     "output_type": "stream",
     "text": [
      "12\t\t84835\t\t\t\tNone\t\t\t0.1071\n"
     ]
    },
    {
     "data": {
      "text/markdown": [
       "https://alerce.online/object/ZTF21abmgxyu"
      ]
     },
     "metadata": {},
     "output_type": "display_data"
    },
    {
     "name": "stdout",
     "output_type": "stream",
     "text": [
      "13\t\t43429\t\t\t\tNone\t\t\t0.1076\n"
     ]
    },
    {
     "data": {
      "text/markdown": [
       "https://alerce.online/object/ZTF21abzadod"
      ]
     },
     "metadata": {},
     "output_type": "display_data"
    },
    {
     "name": "stdout",
     "output_type": "stream",
     "text": [
      "14\t\t33701\t\t\t\tNone\t\t\t0.1092\n"
     ]
    },
    {
     "data": {
      "text/markdown": [
       "https://alerce.online/object/ZTF20acgnenc"
      ]
     },
     "metadata": {},
     "output_type": "display_data"
    },
    {
     "name": "stdout",
     "output_type": "stream",
     "text": [
      "15\t\t16262\t\t\t\tNone\t\t\t0.1114\n"
     ]
    },
    {
     "data": {
      "text/markdown": [
       "https://alerce.online/object/ZTF21aaoexgy"
      ]
     },
     "metadata": {},
     "output_type": "display_data"
    },
    {
     "name": "stdout",
     "output_type": "stream",
     "text": [
      "16\t\t87305\t\t\t\tNone\t\t\t0.1117\n"
     ]
    },
    {
     "data": {
      "text/markdown": [
       "https://alerce.online/object/ZTF21aarwlht"
      ]
     },
     "metadata": {},
     "output_type": "display_data"
    },
    {
     "name": "stdout",
     "output_type": "stream",
     "text": [
      "17\t\t58488\t\t\t\tNone\t\t\t0.1121\n"
     ]
    },
    {
     "data": {
      "text/markdown": [
       "https://alerce.online/object/ZTF21aaodljj"
      ]
     },
     "metadata": {},
     "output_type": "display_data"
    },
    {
     "name": "stdout",
     "output_type": "stream",
     "text": [
      "18\t\t44098\t\t\t\tNone\t\t\t0.1122\n"
     ]
    },
    {
     "data": {
      "text/markdown": [
       "https://alerce.online/object/ZTF21aajtsba"
      ]
     },
     "metadata": {},
     "output_type": "display_data"
    },
    {
     "name": "stdout",
     "output_type": "stream",
     "text": [
      "19\t\t50312\t\t\t\tNone\t\t\t0.1137\n"
     ]
    },
    {
     "data": {
      "text/markdown": [
       "https://alerce.online/object/ZTF21abbkglo"
      ]
     },
     "metadata": {},
     "output_type": "display_data"
    },
    {
     "name": "stdout",
     "output_type": "stream",
     "text": [
      "20\t\t72775\t\t\t\tNone\t\t\t0.115\n"
     ]
    },
    {
     "data": {
      "text/markdown": [
       "https://alerce.online/object/ZTF21aavsbkt"
      ]
     },
     "metadata": {},
     "output_type": "display_data"
    },
    {
     "name": "stdout",
     "output_type": "stream",
     "text": [
      "21\t\t78991\t\t\t\tNone\t\t\t0.116\n"
     ]
    },
    {
     "data": {
      "text/markdown": [
       "https://alerce.online/object/ZTF20aciwrpn"
      ]
     },
     "metadata": {},
     "output_type": "display_data"
    },
    {
     "name": "stdout",
     "output_type": "stream",
     "text": [
      "22\t\t26745\t\t\t\tNone\t\t\t0.1161\n"
     ]
    },
    {
     "data": {
      "text/markdown": [
       "https://alerce.online/object/ZTF21aaswtok"
      ]
     },
     "metadata": {},
     "output_type": "display_data"
    },
    {
     "name": "stdout",
     "output_type": "stream",
     "text": [
      "23\t\t9885\t\t\t\tNone\t\t\t0.117\n"
     ]
    },
    {
     "data": {
      "text/markdown": [
       "https://alerce.online/object/ZTF21aafjjee"
      ]
     },
     "metadata": {},
     "output_type": "display_data"
    },
    {
     "name": "stdout",
     "output_type": "stream",
     "text": [
      "24\t\t3654\t\t\t\tNone\t\t\t0.1171\n"
     ]
    },
    {
     "data": {
      "text/markdown": [
       "https://alerce.online/object/ZTF20acxsxac"
      ]
     },
     "metadata": {},
     "output_type": "display_data"
    },
    {
     "name": "stdout",
     "output_type": "stream",
     "text": [
      "25\t\t30460\t\t\t\tNone\t\t\t0.1172\n"
     ]
    },
    {
     "data": {
      "text/markdown": [
       "https://alerce.online/object/ZTF21aannoix"
      ]
     },
     "metadata": {},
     "output_type": "display_data"
    },
    {
     "name": "stdout",
     "output_type": "stream",
     "text": [
      "26\t\t7937\t\t\t\tNone\t\t\t0.1172\n"
     ]
    },
    {
     "data": {
      "text/markdown": [
       "https://alerce.online/object/ZTF20acwxbyr"
      ]
     },
     "metadata": {},
     "output_type": "display_data"
    },
    {
     "name": "stdout",
     "output_type": "stream",
     "text": [
      "27\t\t18539\t\t\t\tNone\t\t\t0.1175\n"
     ]
    },
    {
     "data": {
      "text/markdown": [
       "https://alerce.online/object/ZTF21aarhzdh"
      ]
     },
     "metadata": {},
     "output_type": "display_data"
    },
    {
     "name": "stdout",
     "output_type": "stream",
     "text": [
      "28\t\t42418\t\t\t\tNone\t\t\t0.1187\n"
     ]
    },
    {
     "data": {
      "text/markdown": [
       "https://alerce.online/object/ZTF18abecbks"
      ]
     },
     "metadata": {},
     "output_type": "display_data"
    },
    {
     "name": "stdout",
     "output_type": "stream",
     "text": [
      "29\t\t5975\t\t\t\tNone\t\t\t0.1189\n"
     ]
    },
    {
     "data": {
      "text/markdown": [
       "https://alerce.online/object/ZTF21ablrhtk"
      ]
     },
     "metadata": {},
     "output_type": "display_data"
    },
    {
     "name": "stdout",
     "output_type": "stream",
     "text": [
      "30\t\t81617\t\t\t\tNone\t\t\t0.1194\n"
     ]
    },
    {
     "data": {
      "text/markdown": [
       "https://alerce.online/object/ZTF21aaflzqy"
      ]
     },
     "metadata": {},
     "output_type": "display_data"
    },
    {
     "name": "stdout",
     "output_type": "stream",
     "text": [
      "31\t\t32442\t\t\t\tNone\t\t\t0.12\n"
     ]
    },
    {
     "data": {
      "text/markdown": [
       "https://alerce.online/object/ZTF21aatdzmt"
      ]
     },
     "metadata": {},
     "output_type": "display_data"
    },
    {
     "name": "stdout",
     "output_type": "stream",
     "text": [
      "32\t\t58606\t\t\t\tNone\t\t\t0.1206\n"
     ]
    },
    {
     "data": {
      "text/markdown": [
       "https://alerce.online/object/ZTF21aalnyny"
      ]
     },
     "metadata": {},
     "output_type": "display_data"
    },
    {
     "name": "stdout",
     "output_type": "stream",
     "text": [
      "33\t\t16497\t\t\t\tNone\t\t\t0.1206\n"
     ]
    },
    {
     "data": {
      "text/markdown": [
       "https://alerce.online/object/ZTF20acpxvez"
      ]
     },
     "metadata": {},
     "output_type": "display_data"
    },
    {
     "name": "stdout",
     "output_type": "stream",
     "text": [
      "34\t\t22035\t\t\t\tNone\t\t\t0.1217\n"
     ]
    },
    {
     "data": {
      "text/markdown": [
       "https://alerce.online/object/ZTF20acitpfz"
      ]
     },
     "metadata": {},
     "output_type": "display_data"
    },
    {
     "name": "stdout",
     "output_type": "stream",
     "text": [
      "35\t\t31467\t\t\t\tNone\t\t\t0.1219\n"
     ]
    },
    {
     "data": {
      "text/markdown": [
       "https://alerce.online/object/ZTF21aavozbk"
      ]
     },
     "metadata": {},
     "output_type": "display_data"
    },
    {
     "name": "stdout",
     "output_type": "stream",
     "text": [
      "36\t\t52481\t\t\t\tNone\t\t\t0.1224\n"
     ]
    },
    {
     "data": {
      "text/markdown": [
       "https://alerce.online/object/ZTF20acvebcu"
      ]
     },
     "metadata": {},
     "output_type": "display_data"
    },
    {
     "name": "stdout",
     "output_type": "stream",
     "text": [
      "37\t\t71887\t\t\t\tNone\t\t\t0.1231\n"
     ]
    },
    {
     "data": {
      "text/markdown": [
       "https://alerce.online/object/ZTF21aapomdb"
      ]
     },
     "metadata": {},
     "output_type": "display_data"
    },
    {
     "name": "stdout",
     "output_type": "stream",
     "text": [
      "38\t\t44466\t\t\t\tNone\t\t\t0.1239\n"
     ]
    },
    {
     "data": {
      "text/markdown": [
       "https://alerce.online/object/ZTF20acwmpsj"
      ]
     },
     "metadata": {},
     "output_type": "display_data"
    },
    {
     "name": "stdout",
     "output_type": "stream",
     "text": [
      "39\t\t2097\t\t\t\tNone\t\t\t0.124\n"
     ]
    },
    {
     "data": {
      "text/markdown": [
       "https://alerce.online/object/ZTF21aalydkl"
      ]
     },
     "metadata": {},
     "output_type": "display_data"
    },
    {
     "name": "stdout",
     "output_type": "stream",
     "text": [
      "40\t\t8197\t\t\t\tNone\t\t\t0.124\n"
     ]
    },
    {
     "data": {
      "text/markdown": [
       "https://alerce.online/object/ZTF20acjbhhp"
      ]
     },
     "metadata": {},
     "output_type": "display_data"
    },
    {
     "name": "stdout",
     "output_type": "stream",
     "text": [
      "41\t\t7087\t\t\t\tNone\t\t\t0.125\n"
     ]
    },
    {
     "data": {
      "text/markdown": [
       "https://alerce.online/object/ZTF20acgbkji"
      ]
     },
     "metadata": {},
     "output_type": "display_data"
    },
    {
     "name": "stdout",
     "output_type": "stream",
     "text": [
      "42\t\t32016\t\t\t\tNone\t\t\t0.1255\n"
     ]
    },
    {
     "data": {
      "text/markdown": [
       "https://alerce.online/object/ZTF20actfeym"
      ]
     },
     "metadata": {},
     "output_type": "display_data"
    },
    {
     "name": "stdout",
     "output_type": "stream",
     "text": [
      "43\t\t68835\t\t\t\tNone\t\t\t0.126\n"
     ]
    },
    {
     "data": {
      "text/markdown": [
       "https://alerce.online/object/ZTF21aahdpvi"
      ]
     },
     "metadata": {},
     "output_type": "display_data"
    },
    {
     "name": "stdout",
     "output_type": "stream",
     "text": [
      "44\t\t48017\t\t\t\tNone\t\t\t0.1267\n"
     ]
    },
    {
     "data": {
      "text/markdown": [
       "https://alerce.online/object/ZTF21aawzkdr"
      ]
     },
     "metadata": {},
     "output_type": "display_data"
    },
    {
     "name": "stdout",
     "output_type": "stream",
     "text": [
      "45\t\t78548\t\t\t\tNone\t\t\t0.1268\n"
     ]
    },
    {
     "data": {
      "text/markdown": [
       "https://alerce.online/object/ZTF21aaloalc"
      ]
     },
     "metadata": {},
     "output_type": "display_data"
    },
    {
     "name": "stdout",
     "output_type": "stream",
     "text": [
      "46\t\t46734\t\t\t\tNone\t\t\t0.1275\n"
     ]
    },
    {
     "data": {
      "text/markdown": [
       "https://alerce.online/object/ZTF20acurtpj"
      ]
     },
     "metadata": {},
     "output_type": "display_data"
    },
    {
     "name": "stdout",
     "output_type": "stream",
     "text": [
      "47\t\t5664\t\t\t\tNone\t\t\t0.1292\n"
     ]
    },
    {
     "data": {
      "text/markdown": [
       "https://alerce.online/object/ZTF20achtxbi"
      ]
     },
     "metadata": {},
     "output_type": "display_data"
    },
    {
     "name": "stdout",
     "output_type": "stream",
     "text": [
      "48\t\t7839\t\t\t\tNone\t\t\t0.1293\n"
     ]
    },
    {
     "data": {
      "text/markdown": [
       "https://alerce.online/object/ZTF21aasbjgq"
      ]
     },
     "metadata": {},
     "output_type": "display_data"
    },
    {
     "name": "stdout",
     "output_type": "stream",
     "text": [
      "49\t\t37726\t\t\t\tNone\t\t\t0.1295\n"
     ]
    },
    {
     "data": {
      "text/markdown": [
       "https://alerce.online/object/ZTF20ackrqfi"
      ]
     },
     "metadata": {},
     "output_type": "display_data"
    },
    {
     "name": "stdout",
     "output_type": "stream",
     "text": [
      "50\t\t22986\t\t\t\tNone\t\t\t0.1297\n"
     ]
    },
    {
     "data": {
      "text/markdown": [
       "https://alerce.online/object/ZTF21aazcgof"
      ]
     },
     "metadata": {},
     "output_type": "display_data"
    },
    {
     "name": "stdout",
     "output_type": "stream",
     "text": [
      "51\t\t41352\t\t\t\tNone\t\t\t0.1313\n"
     ]
    },
    {
     "data": {
      "text/markdown": [
       "https://alerce.online/object/ZTF21aaxzdxd"
      ]
     },
     "metadata": {},
     "output_type": "display_data"
    },
    {
     "name": "stdout",
     "output_type": "stream",
     "text": [
      "52\t\t51328\t\t\t\tNone\t\t\t0.1316\n"
     ]
    },
    {
     "data": {
      "text/markdown": [
       "https://alerce.online/object/ZTF18abffyqp"
      ]
     },
     "metadata": {},
     "output_type": "display_data"
    },
    {
     "name": "stdout",
     "output_type": "stream",
     "text": [
      "53\t\t4920\t\t\t\tNone\t\t\t0.1317\n"
     ]
    },
    {
     "data": {
      "text/markdown": [
       "https://alerce.online/object/ZTF21abklcjq"
      ]
     },
     "metadata": {},
     "output_type": "display_data"
    },
    {
     "name": "stdout",
     "output_type": "stream",
     "text": [
      "54\t\t79276\t\t\t\tNone\t\t\t0.132\n"
     ]
    },
    {
     "data": {
      "text/markdown": [
       "https://alerce.online/object/ZTF21aamfcji"
      ]
     },
     "metadata": {},
     "output_type": "display_data"
    },
    {
     "name": "stdout",
     "output_type": "stream",
     "text": [
      "55\t\t8495\t\t\t\tNone\t\t\t0.132\n"
     ]
    },
    {
     "data": {
      "text/markdown": [
       "https://alerce.online/object/ZTF21aaxhzru"
      ]
     },
     "metadata": {},
     "output_type": "display_data"
    },
    {
     "name": "stdout",
     "output_type": "stream",
     "text": [
      "56\t\t61891\t\t\t\tNone\t\t\t0.1324\n"
     ]
    },
    {
     "data": {
      "text/markdown": [
       "https://alerce.online/object/ZTF20acgnzhj"
      ]
     },
     "metadata": {},
     "output_type": "display_data"
    },
    {
     "name": "stdout",
     "output_type": "stream",
     "text": [
      "57\t\t15935\t\t\t\tNone\t\t\t0.1328\n"
     ]
    },
    {
     "data": {
      "text/markdown": [
       "https://alerce.online/object/ZTF20acwoamm"
      ]
     },
     "metadata": {},
     "output_type": "display_data"
    },
    {
     "name": "stdout",
     "output_type": "stream",
     "text": [
      "58\t\t6208\t\t\t\tNone\t\t\t0.1329\n"
     ]
    },
    {
     "data": {
      "text/markdown": [
       "https://alerce.online/object/ZTF21abcrhpk"
      ]
     },
     "metadata": {},
     "output_type": "display_data"
    },
    {
     "name": "stdout",
     "output_type": "stream",
     "text": [
      "59\t\t72385\t\t\t\tNone\t\t\t0.1332\n"
     ]
    },
    {
     "data": {
      "text/markdown": [
       "https://alerce.online/object/ZTF20abwcnhm"
      ]
     },
     "metadata": {},
     "output_type": "display_data"
    },
    {
     "name": "stdout",
     "output_type": "stream",
     "text": [
      "60\t\t12939\t\t\t\tNone\t\t\t0.1335\n"
     ]
    },
    {
     "data": {
      "text/markdown": [
       "https://alerce.online/object/ZTF20actiymd"
      ]
     },
     "metadata": {},
     "output_type": "display_data"
    },
    {
     "name": "stdout",
     "output_type": "stream",
     "text": [
      "61\t\t39178\t\t\t\tNone\t\t\t0.1336\n"
     ]
    },
    {
     "data": {
      "text/markdown": [
       "https://alerce.online/object/ZTF20acbovrt"
      ]
     },
     "metadata": {},
     "output_type": "display_data"
    },
    {
     "name": "stdout",
     "output_type": "stream",
     "text": [
      "62\t\t30205\t\t\t\tNone\t\t\t0.1355\n"
     ]
    },
    {
     "data": {
      "text/markdown": [
       "https://alerce.online/object/ZTF20abzoeiw"
      ]
     },
     "metadata": {},
     "output_type": "display_data"
    },
    {
     "name": "stdout",
     "output_type": "stream",
     "text": [
      "63\t\t54045\t\t\t\tNone\t\t\t0.136\n"
     ]
    },
    {
     "data": {
      "text/markdown": [
       "https://alerce.online/object/ZTF21aaespww"
      ]
     },
     "metadata": {},
     "output_type": "display_data"
    },
    {
     "name": "stdout",
     "output_type": "stream",
     "text": [
      "64\t\t67975\t\t\t\tNone\t\t\t0.1362\n"
     ]
    },
    {
     "data": {
      "text/markdown": [
       "https://alerce.online/object/ZTF20achdwmq"
      ]
     },
     "metadata": {},
     "output_type": "display_data"
    },
    {
     "name": "stdout",
     "output_type": "stream",
     "text": [
      "65\t\t12293\t\t\t\tNone\t\t\t0.1362\n"
     ]
    },
    {
     "data": {
      "text/markdown": [
       "https://alerce.online/object/ZTF21aaqhhfu"
      ]
     },
     "metadata": {},
     "output_type": "display_data"
    },
    {
     "name": "stdout",
     "output_type": "stream",
     "text": [
      "66\t\t32301\t\t\t\tNone\t\t\t0.1363\n"
     ]
    },
    {
     "data": {
      "text/markdown": [
       "https://alerce.online/object/ZTF21aarcobt"
      ]
     },
     "metadata": {},
     "output_type": "display_data"
    },
    {
     "name": "stdout",
     "output_type": "stream",
     "text": [
      "67\t\t29955\t\t\t\tNone\t\t\t0.1363\n"
     ]
    },
    {
     "data": {
      "text/markdown": [
       "https://alerce.online/object/ZTF20actpqgc"
      ]
     },
     "metadata": {},
     "output_type": "display_data"
    },
    {
     "name": "stdout",
     "output_type": "stream",
     "text": [
      "68\t\t34839\t\t\t\tNone\t\t\t0.1377\n"
     ]
    },
    {
     "data": {
      "text/markdown": [
       "https://alerce.online/object/ZTF21aalezap"
      ]
     },
     "metadata": {},
     "output_type": "display_data"
    },
    {
     "name": "stdout",
     "output_type": "stream",
     "text": [
      "69\t\t49271\t\t\t\tNone\t\t\t0.138\n"
     ]
    },
    {
     "data": {
      "text/markdown": [
       "https://alerce.online/object/ZTF21acbxtir"
      ]
     },
     "metadata": {},
     "output_type": "display_data"
    },
    {
     "name": "stdout",
     "output_type": "stream",
     "text": [
      "70\t\t37770\t\t\t\tNone\t\t\t0.1382\n"
     ]
    },
    {
     "data": {
      "text/markdown": [
       "https://alerce.online/object/ZTF20acxvvnf"
      ]
     },
     "metadata": {},
     "output_type": "display_data"
    },
    {
     "name": "stdout",
     "output_type": "stream",
     "text": [
      "71\t\t46309\t\t\t\tNone\t\t\t0.1387\n"
     ]
    },
    {
     "data": {
      "text/markdown": [
       "https://alerce.online/object/ZTF20acuoxrx"
      ]
     },
     "metadata": {},
     "output_type": "display_data"
    },
    {
     "name": "stdout",
     "output_type": "stream",
     "text": [
      "72\t\t50584\t\t\t\tNone\t\t\t0.1388\n"
     ]
    },
    {
     "data": {
      "text/markdown": [
       "https://alerce.online/object/ZTF20acjlkpe"
      ]
     },
     "metadata": {},
     "output_type": "display_data"
    },
    {
     "name": "stdout",
     "output_type": "stream",
     "text": [
      "73\t\t13851\t\t\t\tNone\t\t\t0.1388\n"
     ]
    },
    {
     "data": {
      "text/markdown": [
       "https://alerce.online/object/ZTF21aarigsr"
      ]
     },
     "metadata": {},
     "output_type": "display_data"
    },
    {
     "name": "stdout",
     "output_type": "stream",
     "text": [
      "74\t\t32953\t\t\t\tNone\t\t\t0.139\n"
     ]
    },
    {
     "data": {
      "text/markdown": [
       "https://alerce.online/object/ZTF21aaxwpyv"
      ]
     },
     "metadata": {},
     "output_type": "display_data"
    },
    {
     "name": "stdout",
     "output_type": "stream",
     "text": [
      "75\t\t27088\t\t\t\tNone\t\t\t0.1391\n"
     ]
    },
    {
     "data": {
      "text/markdown": [
       "https://alerce.online/object/ZTF21aaxyecd"
      ]
     },
     "metadata": {},
     "output_type": "display_data"
    },
    {
     "name": "stdout",
     "output_type": "stream",
     "text": [
      "76\t\t60674\t\t\t\tNone\t\t\t0.1391\n"
     ]
    },
    {
     "data": {
      "text/markdown": [
       "https://alerce.online/object/ZTF21abczjhy"
      ]
     },
     "metadata": {},
     "output_type": "display_data"
    },
    {
     "name": "stdout",
     "output_type": "stream",
     "text": [
      "77\t\t26425\t\t\t\tNone\t\t\t0.1392\n"
     ]
    },
    {
     "data": {
      "text/markdown": [
       "https://alerce.online/object/ZTF21abtxnir"
      ]
     },
     "metadata": {},
     "output_type": "display_data"
    },
    {
     "name": "stdout",
     "output_type": "stream",
     "text": [
      "78\t\t89844\t\t\t\tNone\t\t\t0.1392\n"
     ]
    },
    {
     "data": {
      "text/markdown": [
       "https://alerce.online/object/ZTF21aanyyde"
      ]
     },
     "metadata": {},
     "output_type": "display_data"
    },
    {
     "name": "stdout",
     "output_type": "stream",
     "text": [
      "79\t\t45958\t\t\t\tNone\t\t\t0.1393\n"
     ]
    },
    {
     "data": {
      "text/markdown": [
       "https://alerce.online/object/ZTF20acjhhqx"
      ]
     },
     "metadata": {},
     "output_type": "display_data"
    },
    {
     "name": "stdout",
     "output_type": "stream",
     "text": [
      "80\t\t25017\t\t\t\tNone\t\t\t0.1396\n"
     ]
    },
    {
     "data": {
      "text/markdown": [
       "https://alerce.online/object/ZTF18abcptmt"
      ]
     },
     "metadata": {},
     "output_type": "display_data"
    },
    {
     "name": "stdout",
     "output_type": "stream",
     "text": [
      "81\t\t797\t\t\t\tNone\t\t\t0.1398\n"
     ]
    },
    {
     "data": {
      "text/markdown": [
       "https://alerce.online/object/ZTF20acisbek"
      ]
     },
     "metadata": {},
     "output_type": "display_data"
    },
    {
     "name": "stdout",
     "output_type": "stream",
     "text": [
      "82\t\t54112\t\t\t\tNone\t\t\t0.1399\n"
     ]
    },
    {
     "data": {
      "text/markdown": [
       "https://alerce.online/object/ZTF20acpujxl"
      ]
     },
     "metadata": {},
     "output_type": "display_data"
    },
    {
     "name": "stdout",
     "output_type": "stream",
     "text": [
      "83\t\t6511\t\t\t\tNone\t\t\t0.1402\n"
     ]
    },
    {
     "data": {
      "text/markdown": [
       "https://alerce.online/object/ZTF18acyxnyw"
      ]
     },
     "metadata": {},
     "output_type": "display_data"
    },
    {
     "name": "stdout",
     "output_type": "stream",
     "text": [
      "84\t\t11147\t\t\t\tNone\t\t\t0.1403\n"
     ]
    },
    {
     "data": {
      "text/markdown": [
       "https://alerce.online/object/ZTF21abhkeak"
      ]
     },
     "metadata": {},
     "output_type": "display_data"
    },
    {
     "name": "stdout",
     "output_type": "stream",
     "text": [
      "85\t\t60234\t\t\t\tNone\t\t\t0.1403\n"
     ]
    },
    {
     "data": {
      "text/markdown": [
       "https://alerce.online/object/ZTF21aaprddk"
      ]
     },
     "metadata": {},
     "output_type": "display_data"
    },
    {
     "name": "stdout",
     "output_type": "stream",
     "text": [
      "86\t\t45554\t\t\t\tNone\t\t\t0.1405\n"
     ]
    },
    {
     "data": {
      "text/markdown": [
       "https://alerce.online/object/ZTF18abmwnov"
      ]
     },
     "metadata": {},
     "output_type": "display_data"
    },
    {
     "name": "stdout",
     "output_type": "stream",
     "text": [
      "87\t\t10827\t\t\t\tNone\t\t\t0.1406\n"
     ]
    },
    {
     "data": {
      "text/markdown": [
       "https://alerce.online/object/ZTF18aavvnzu"
      ]
     },
     "metadata": {},
     "output_type": "display_data"
    },
    {
     "name": "stdout",
     "output_type": "stream",
     "text": [
      "88\t\t18285\t\t\t\tNone\t\t\t0.141\n"
     ]
    },
    {
     "data": {
      "text/markdown": [
       "https://alerce.online/object/ZTF20acgiglu"
      ]
     },
     "metadata": {},
     "output_type": "display_data"
    },
    {
     "name": "stdout",
     "output_type": "stream",
     "text": [
      "89\t\t18630\t\t\t\tNone\t\t\t0.1416\n"
     ]
    },
    {
     "data": {
      "text/markdown": [
       "https://alerce.online/object/ZTF18accndxn"
      ]
     },
     "metadata": {},
     "output_type": "display_data"
    },
    {
     "name": "stdout",
     "output_type": "stream",
     "text": [
      "90\t\t4225\t\t\t\tNone\t\t\t0.1417\n"
     ]
    },
    {
     "data": {
      "text/markdown": [
       "https://alerce.online/object/ZTF21aarmkuj"
      ]
     },
     "metadata": {},
     "output_type": "display_data"
    },
    {
     "name": "stdout",
     "output_type": "stream",
     "text": [
      "91\t\t19872\t\t\t\tNone\t\t\t0.1418\n"
     ]
    },
    {
     "data": {
      "text/markdown": [
       "https://alerce.online/object/ZTF20abvyauy"
      ]
     },
     "metadata": {},
     "output_type": "display_data"
    },
    {
     "name": "stdout",
     "output_type": "stream",
     "text": [
      "92\t\t11719\t\t\t\tNone\t\t\t0.142\n"
     ]
    },
    {
     "data": {
      "text/markdown": [
       "https://alerce.online/object/ZTF20acvagdq"
      ]
     },
     "metadata": {},
     "output_type": "display_data"
    },
    {
     "name": "stdout",
     "output_type": "stream",
     "text": [
      "93\t\t35953\t\t\t\tNone\t\t\t0.142\n"
     ]
    },
    {
     "data": {
      "text/markdown": [
       "https://alerce.online/object/ZTF21aanrvcq"
      ]
     },
     "metadata": {},
     "output_type": "display_data"
    },
    {
     "name": "stdout",
     "output_type": "stream",
     "text": [
      "94\t\t45243\t\t\t\tNone\t\t\t0.142\n"
     ]
    },
    {
     "data": {
      "text/markdown": [
       "https://alerce.online/object/ZTF21aaxsnvk"
      ]
     },
     "metadata": {},
     "output_type": "display_data"
    },
    {
     "name": "stdout",
     "output_type": "stream",
     "text": [
      "95\t\t53566\t\t\t\tNone\t\t\t0.1423\n"
     ]
    },
    {
     "data": {
      "text/markdown": [
       "https://alerce.online/object/ZTF21abowpnd"
      ]
     },
     "metadata": {},
     "output_type": "display_data"
    },
    {
     "name": "stdout",
     "output_type": "stream",
     "text": [
      "96\t\t46144\t\t\t\tNone\t\t\t0.1423\n"
     ]
    },
    {
     "data": {
      "text/markdown": [
       "https://alerce.online/object/ZTF21aaossxf"
      ]
     },
     "metadata": {},
     "output_type": "display_data"
    },
    {
     "name": "stdout",
     "output_type": "stream",
     "text": [
      "97\t\t8329\t\t\t\tNone\t\t\t0.1428\n"
     ]
    },
    {
     "data": {
      "text/markdown": [
       "https://alerce.online/object/ZTF20abwkqxd"
      ]
     },
     "metadata": {},
     "output_type": "display_data"
    },
    {
     "name": "stdout",
     "output_type": "stream",
     "text": [
      "98\t\t12491\t\t\t\tNone\t\t\t0.1428\n"
     ]
    },
    {
     "data": {
      "text/markdown": [
       "https://alerce.online/object/ZTF20acgkbjz"
      ]
     },
     "metadata": {},
     "output_type": "display_data"
    },
    {
     "name": "stdout",
     "output_type": "stream",
     "text": [
      "99\t\t30528\t\t\t\tNone\t\t\t0.1435\n"
     ]
    }
   ],
   "source": [
    "feat_arr_ref = np.vstack(np.array(dataset_ref, dtype='object'))\n",
    "\n",
    "#scaler.fit(feat_arr_ref) # Fit only to training data\n",
    "scaled_feat_arr_ref = scaler.transform(feat_arr_ref) #scaler.transform(feat_arr) # What your model learns on\n",
    "\n",
    "ztf_id = dataset_ref.index.values[0]\n",
    "lcdata = {'name': ztf_id, 'vector': scaled_feat_arr_ref[0]}\n",
    "#lcdata = {'name': ztf_id, 'vector': feat_arr_scaled[-5:-4][0]}\n",
    "\n",
    "#result_id, result_dist = index.index.get_nns_by_item(, n=10, include_distances=True)\n",
    "result_id, result_dist = index.index.get_nns_by_vector(lcdata['vector'], n=100, include_distances=True)\n",
    "#result_name = index.query(lcdata['vector'])\n",
    "\n",
    "print(f\"ZTF ID name (ref) {ztf_id}\") \n",
    "link_ref = display_markdown(f'https://alerce.online/object/{ztf_id}', raw=True)\n",
    "print(link_ref)\n",
    "print(\"%%%%%%\")\n",
    "print(\"ANN\\t\\tIDX\\t\\t\\t\\tZTF_id\\t\\t\\t\\tDIST\")#\\tFEAT\")\n",
    "for n, (i, d) in enumerate(zip(result_id, result_dist)):#, feat_arr):\n",
    "    print(f\"{n}\\t\\t{i}\\t\\t\\t\\t{display_markdown(f'https://alerce.online/object/{idx_arr[i]}', raw=True)}\\t\\t\\t{round(d, 4)}\")#\\t{f}\")"
   ]
  },
  {
   "cell_type": "code",
   "execution_count": null,
   "id": "334c566f",
   "metadata": {},
   "outputs": [],
   "source": []
  },
  {
   "cell_type": "code",
   "execution_count": null,
   "id": "53ebcd3e",
   "metadata": {},
   "outputs": [],
   "source": []
  },
  {
   "cell_type": "code",
   "execution_count": null,
   "id": "a77ea95c",
   "metadata": {},
   "outputs": [],
   "source": []
  }
 ],
 "metadata": {
  "kernelspec": {
   "display_name": "laiss",
   "language": "python",
   "name": "laiss"
  },
  "language_info": {
   "codemirror_mode": {
    "name": "ipython",
    "version": 3
   },
   "file_extension": ".py",
   "mimetype": "text/x-python",
   "name": "python",
   "nbconvert_exporter": "python",
   "pygments_lexer": "ipython3",
   "version": "3.8.8"
  }
 },
 "nbformat": 4,
 "nbformat_minor": 5
}
