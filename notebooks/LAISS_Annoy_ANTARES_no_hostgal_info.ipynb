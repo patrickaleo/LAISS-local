{
 "cells": [
  {
   "cell_type": "code",
   "execution_count": 193,
   "id": "5a7de19c",
   "metadata": {
    "scrolled": true
   },
   "outputs": [],
   "source": [
    "import astro_ghost"
   ]
  },
  {
   "cell_type": "code",
   "execution_count": 1,
   "id": "29728950",
   "metadata": {},
   "outputs": [],
   "source": [
    "import time\n",
    "import numpy as np\n",
    "import matplotlib.pyplot as plt\n",
    "import pandas as pd\n",
    "import pickle\n",
    "\n",
    "import os\n",
    "import sys\n",
    "import annoy\n",
    "from annoy import AnnoyIndex\n",
    "import random\n",
    "\n",
    "\n",
    "\n",
    "from IPython.display import display_markdown\n",
    "\n",
    "from collections import Counter\n",
    "\n",
    "from sklearn import preprocessing\n",
    "from sklearn.metrics import confusion_matrix, ConfusionMatrixDisplay\n",
    "from sklearn.metrics import classification_report\n",
    "from sklearn.impute import SimpleImputer\n",
    "from sklearn.preprocessing import StandardScaler\n",
    "from sklearn.preprocessing import MinMaxScaler\n",
    "from scipy.spatial import cKDTree\n",
    "from sklearn.decomposition import PCA\n",
    "\n",
    "\n",
    "\n"
   ]
  },
  {
   "cell_type": "code",
   "execution_count": 2,
   "id": "37b800f4",
   "metadata": {},
   "outputs": [],
   "source": [
    "class AnnoyIndex():\n",
    "    def __init__(self, vectors, labels, metric):\n",
    "        self.dimension = vectors.shape[1]\n",
    "        self.vectors = vectors.astype('float32')\n",
    "        self.labels = labels    \n",
    "        self.metric= metric\n",
    "   \n",
    "    def build(self, number_of_trees=100):\n",
    "        self.index = annoy.AnnoyIndex(self.dimension, self.metric)\n",
    "        for i, vec in enumerate(self.vectors):\n",
    "            self.index.add_item(i, vec.tolist())\n",
    "        self.index.build(number_of_trees)\n",
    "        \n",
    "    def query(self, vector, k=1000):\n",
    "        indices = self.index.get_nns_by_vector(\n",
    "              vector.tolist(), \n",
    "              k, \n",
    "              search_k=-1)                                           \n",
    "        return [self.labels[i] for i in indices]\n",
    "    \n",
    "# From 106 available features from Kostya's lc_feature_extractor, use the 82 from SNAD Miner paper \n",
    "# R and g bands\n",
    "feature_names_r_g = ['feature_amplitude_magn_r', \n",
    "                         'feature_anderson_darling_normal_magn_r',\n",
    "                         'feature_beyond_1_std_magn_r', \n",
    "                         'feature_beyond_2_std_magn_r',\n",
    "                         'feature_cusum_magn_r', \n",
    "                         #'feature_eta_e_magn_r',\n",
    "                         'feature_inter_percentile_range_2_magn_r',\n",
    "                         'feature_inter_percentile_range_10_magn_r',\n",
    "                         'feature_inter_percentile_range_25_magn_r', \n",
    "                         'feature_kurtosis_magn_r',\n",
    "                         'feature_linear_fit_slope_magn_r',\n",
    "                         'feature_linear_fit_slope_sigma_magn_r',\n",
    "                         #'feature_linear_fit_reduced_chi2_magn_r', \n",
    "                         'feature_linear_trend_magn_r',\n",
    "                         'feature_linear_trend_sigma_magn_r',\n",
    "                         'feature_magnitude_percentage_ratio_40_5_magn_r',\n",
    "                         'feature_magnitude_percentage_ratio_20_5_magn_r',\n",
    "                         #'feature_maximum_slope_magn_r',\n",
    "                         'feature_mean_magn_r',\n",
    "                         'feature_median_absolute_deviation_magn_r',\n",
    "                         'feature_percent_amplitude_magn_r',\n",
    "                         'feature_median_buffer_range_percentage_10_magn_r',\n",
    "                         'feature_median_buffer_range_percentage_20_magn_r',\n",
    "                         'feature_percent_difference_magnitude_percentile_5_magn_r',\n",
    "                         'feature_percent_difference_magnitude_percentile_10_magn_r',\n",
    "                         #'feature_period_0_magn_r',  # should be negated\n",
    "                         'feature_period_s_to_n_0_magn_r',\n",
    "                         #'feature_period_1_magn_r', \n",
    "                         'feature_period_s_to_n_1_magn_r',\n",
    "                         #'feature_period_2_magn_r', \n",
    "                         'feature_period_s_to_n_2_magn_r',\n",
    "                         #'feature_period_3_magn_r', \n",
    "                         'feature_period_s_to_n_3_magn_r',\n",
    "                         #'feature_period_4_magn_r', \n",
    "                         'feature_period_s_to_n_4_magn_r',\n",
    "                         #'feature_periodogram_amplitude_magn_r',\n",
    "                         'feature_periodogram_beyond_2_std_magn_r',\n",
    "                         'feature_periodogram_beyond_3_std_magn_r',\n",
    "                         'feature_periodogram_standard_deviation_magn_r', \n",
    "                         #'feature_chi2_magn_r',\n",
    "                         'feature_skew_magn_r', \n",
    "                         'feature_standard_deviation_magn_r',\n",
    "                         'feature_stetson_k_magn_r',\n",
    "                         'feature_weighted_mean_magn_r',\n",
    "                         'feature_anderson_darling_normal_flux_r', \n",
    "                         'feature_cusum_flux_r',\n",
    "                         #'feature_eta_e_flux_r', \n",
    "                         'feature_excess_variance_flux_r',\n",
    "                         'feature_kurtosis_flux_r', \n",
    "                         'feature_mean_variance_flux_r',\n",
    "                         #'feature_chi2_flux_r', \n",
    "                         'feature_skew_flux_r',\n",
    "                         'feature_stetson_k_flux_r',\n",
    "\n",
    "                         'feature_amplitude_magn_g', \n",
    "                         'feature_anderson_darling_normal_magn_g',\n",
    "                         'feature_beyond_1_std_magn_g', \n",
    "                         'feature_beyond_2_std_magn_g',\n",
    "                         'feature_cusum_magn_g', \n",
    "                         #'feature_eta_e_magn_g',\n",
    "                         'feature_inter_percentile_range_2_magn_g',\n",
    "                         'feature_inter_percentile_range_10_magn_g',\n",
    "                         'feature_inter_percentile_range_25_magn_g', \n",
    "                         'feature_kurtosis_magn_g',\n",
    "                         'feature_linear_fit_slope_magn_g',\n",
    "                         'feature_linear_fit_slope_sigma_magn_g',\n",
    "                         #'feature_linear_fit_reduced_chi2_magn_g', \n",
    "                         'feature_linear_trend_magn_g',\n",
    "                         'feature_linear_trend_sigma_magn_g',\n",
    "                         'feature_magnitude_percentage_ratio_40_5_magn_g',\n",
    "                         'feature_magnitude_percentage_ratio_20_5_magn_g',\n",
    "                         #'feature_maximum_slope_magn_g', \n",
    "                         'feature_mean_magn_g',\n",
    "                         'feature_median_absolute_deviation_magn_g',\n",
    "                         'feature_median_buffer_range_percentage_10_magn_g',\n",
    "                         'feature_median_buffer_range_percentage_20_magn_g',\n",
    "                         'feature_percent_amplitude_magn_g',\n",
    "                         'feature_percent_difference_magnitude_percentile_5_magn_g',\n",
    "                         'feature_percent_difference_magnitude_percentile_10_magn_g',\n",
    "                         #'feature_period_0_magn_g',  # should be negated\n",
    "                         'feature_period_s_to_n_0_magn_g',\n",
    "                         #'feature_period_1_magn_g', \n",
    "                         'feature_period_s_to_n_1_magn_g',\n",
    "                         #'feature_period_2_magn_g', \n",
    "                         'feature_period_s_to_n_2_magn_g',\n",
    "                         #'feature_period_3_magn_g', \n",
    "                         'feature_period_s_to_n_3_magn_g',\n",
    "                         #'feature_period_4_magn_g', \n",
    "                         'feature_period_s_to_n_4_magn_g',\n",
    "                         #'feature_periodogram_amplitude_magn_g',\n",
    "                         'feature_periodogram_beyond_2_std_magn_g',\n",
    "                         'feature_periodogram_beyond_3_std_magn_g',\n",
    "                         'feature_periodogram_standard_deviation_magn_g', \n",
    "                         #'feature_chi2_magn_g',\n",
    "                         'feature_skew_magn_g', \n",
    "                         'feature_standard_deviation_magn_g',\n",
    "                         'feature_stetson_k_magn_g', \n",
    "                         'feature_weighted_mean_magn_g',\n",
    "                         'feature_anderson_darling_normal_flux_g', \n",
    "                         'feature_cusum_flux_g',\n",
    "                         #'feature_eta_e_flux_g', \n",
    "                         'feature_excess_variance_flux_g',\n",
    "                         'feature_kurtosis_flux_g', \n",
    "                         'feature_mean_variance_flux_g',\n",
    "                         #'feature_chi2_flux_g', \n",
    "                         'feature_skew_flux_g',\n",
    "                         'feature_stetson_k_flux_g'] \n",
    "    \n",
    "ztf_id_and_features_r_g = ['Unnamed: 0'] + ['locus_id', 'ra', 'dec',\\\n",
    "                            'tags', 'catalogs', 'ztf_object_id', 'ztf_ssnamenr', 'num_alerts',\\\n",
    "                            'num_mag_values', 'oldest_alert_id', 'oldest_alert_magnitude',\\\n",
    "                            'oldest_alert_observation_time', 'newest_alert_id',\\\n",
    "                            'newest_alert_magnitude', 'newest_alert_observation_time',\\\n",
    "                            'brightest_alert_id', 'brightest_alert_magnitude', \\\n",
    "                            'brightest_alert_observation_time'] + feature_names_r_g +\\\n",
    "                        ['horizons_targetname', 'anomaly', 'anom_score', 'anomaly_score',\\\n",
    "                         'anomaly_mask', 'anomaly_type', 'is_corrected', 'vpdf_extreme_version',\\\n",
    "                         'vpdf_extreme_faint', 'vpdf_extreme_bright', 'locus_gal_l', 'locus_gal_b']"
   ]
  },
  {
   "cell_type": "code",
   "execution_count": 3,
   "id": "039204c5",
   "metadata": {},
   "outputs": [
    {
     "name": "stderr",
     "output_type": "stream",
     "text": [
      "/Users/patrickaleo/miniconda3/envs/laiss/lib/python3.8/site-packages/IPython/core/interactiveshell.py:3169: DtypeWarning: Columns (7,125,129,130,131,132,133,134) have mixed types.Specify dtype option on import or set low_memory=False.\n",
      "  has_raised = await self.run_ast_nodes(code_ast.body, cell_name,\n"
     ]
    },
    {
     "data": {
      "text/html": [
       "<div>\n",
       "<style scoped>\n",
       "    .dataframe tbody tr th:only-of-type {\n",
       "        vertical-align: middle;\n",
       "    }\n",
       "\n",
       "    .dataframe tbody tr th {\n",
       "        vertical-align: top;\n",
       "    }\n",
       "\n",
       "    .dataframe thead th {\n",
       "        text-align: right;\n",
       "    }\n",
       "</style>\n",
       "<table border=\"1\" class=\"dataframe\">\n",
       "  <thead>\n",
       "    <tr style=\"text-align: right;\">\n",
       "      <th></th>\n",
       "      <th>Unnamed: 0</th>\n",
       "      <th>locus_id</th>\n",
       "      <th>ra</th>\n",
       "      <th>dec</th>\n",
       "      <th>tags</th>\n",
       "      <th>catalogs</th>\n",
       "      <th>ztf_ssnamenr</th>\n",
       "      <th>num_alerts</th>\n",
       "      <th>num_mag_values</th>\n",
       "      <th>oldest_alert_id</th>\n",
       "      <th>...</th>\n",
       "      <th>anom_score</th>\n",
       "      <th>anomaly_score</th>\n",
       "      <th>anomaly_mask</th>\n",
       "      <th>anomaly_type</th>\n",
       "      <th>is_corrected</th>\n",
       "      <th>vpdf_extreme_version</th>\n",
       "      <th>vpdf_extreme_faint</th>\n",
       "      <th>vpdf_extreme_bright</th>\n",
       "      <th>locus_gal_l</th>\n",
       "      <th>locus_gal_b</th>\n",
       "    </tr>\n",
       "    <tr>\n",
       "      <th>ztf_object_id</th>\n",
       "      <th></th>\n",
       "      <th></th>\n",
       "      <th></th>\n",
       "      <th></th>\n",
       "      <th></th>\n",
       "      <th></th>\n",
       "      <th></th>\n",
       "      <th></th>\n",
       "      <th></th>\n",
       "      <th></th>\n",
       "      <th></th>\n",
       "      <th></th>\n",
       "      <th></th>\n",
       "      <th></th>\n",
       "      <th></th>\n",
       "      <th></th>\n",
       "      <th></th>\n",
       "      <th></th>\n",
       "      <th></th>\n",
       "      <th></th>\n",
       "      <th></th>\n",
       "    </tr>\n",
       "  </thead>\n",
       "  <tbody>\n",
       "    <tr>\n",
       "      <th>ZTF20acpdyyq</th>\n",
       "      <td>6</td>\n",
       "      <td>ANT2020rajqu</td>\n",
       "      <td>33.976088</td>\n",
       "      <td>-20.258905</td>\n",
       "      <td>['lc_feature_extractor']</td>\n",
       "      <td>['allwise', 'gaia_dr2', '2mass_psc', 'bright_g...</td>\n",
       "      <td>NaN</td>\n",
       "      <td>137</td>\n",
       "      <td>35</td>\n",
       "      <td>ztf_candidate:993481181415010007</td>\n",
       "      <td>...</td>\n",
       "      <td>NaN</td>\n",
       "      <td>NaN</td>\n",
       "      <td>NaN</td>\n",
       "      <td>NaN</td>\n",
       "      <td>NaN</td>\n",
       "      <td>NaN</td>\n",
       "      <td>NaN</td>\n",
       "      <td>NaN</td>\n",
       "      <td>197.881532</td>\n",
       "      <td>-69.513571</td>\n",
       "    </tr>\n",
       "    <tr>\n",
       "      <th>ZTF18acfvwwa</th>\n",
       "      <td>39</td>\n",
       "      <td>ANT2020pc6ko</td>\n",
       "      <td>35.639509</td>\n",
       "      <td>32.833982</td>\n",
       "      <td>['lc_feature_extractor']</td>\n",
       "      <td>['allwise', 'gaia_dr2', '2mass_psc', 'bright_g...</td>\n",
       "      <td>NaN</td>\n",
       "      <td>659</td>\n",
       "      <td>88</td>\n",
       "      <td>ztf_candidate:943483942915015010</td>\n",
       "      <td>...</td>\n",
       "      <td>NaN</td>\n",
       "      <td>NaN</td>\n",
       "      <td>NaN</td>\n",
       "      <td>NaN</td>\n",
       "      <td>NaN</td>\n",
       "      <td>NaN</td>\n",
       "      <td>NaN</td>\n",
       "      <td>NaN</td>\n",
       "      <td>144.200342</td>\n",
       "      <td>-26.246909</td>\n",
       "    </tr>\n",
       "    <tr>\n",
       "      <th>ZTF17aaaskvj</th>\n",
       "      <td>58</td>\n",
       "      <td>ANT2020rdpmm</td>\n",
       "      <td>28.015003</td>\n",
       "      <td>36.953217</td>\n",
       "      <td>['lc_feature_extractor']</td>\n",
       "      <td>['allwise', 'csdr2', 'gaia_dr2', '2mass_psc', ...</td>\n",
       "      <td>NaN</td>\n",
       "      <td>1497</td>\n",
       "      <td>579</td>\n",
       "      <td>ztf_candidate:598425334815010002</td>\n",
       "      <td>...</td>\n",
       "      <td>NaN</td>\n",
       "      <td>NaN</td>\n",
       "      <td>NaN</td>\n",
       "      <td>NaN</td>\n",
       "      <td>NaN</td>\n",
       "      <td>NaN</td>\n",
       "      <td>NaN</td>\n",
       "      <td>NaN</td>\n",
       "      <td>136.189482</td>\n",
       "      <td>-24.352953</td>\n",
       "    </tr>\n",
       "    <tr>\n",
       "      <th>ZTF17aaaskvj</th>\n",
       "      <td>59</td>\n",
       "      <td>ANT2018ftblk</td>\n",
       "      <td>28.015003</td>\n",
       "      <td>36.953216</td>\n",
       "      <td>['lc_feature_extractor', 'high_snr']</td>\n",
       "      <td>['allwise', 'csdr2', 'gaia_dr2', '2mass_psc', ...</td>\n",
       "      <td>NaN</td>\n",
       "      <td>1504</td>\n",
       "      <td>583</td>\n",
       "      <td>ztf_candidate:598425334815010002</td>\n",
       "      <td>...</td>\n",
       "      <td>NaN</td>\n",
       "      <td>NaN</td>\n",
       "      <td>NaN</td>\n",
       "      <td>NaN</td>\n",
       "      <td>NaN</td>\n",
       "      <td>NaN</td>\n",
       "      <td>NaN</td>\n",
       "      <td>NaN</td>\n",
       "      <td>136.189482</td>\n",
       "      <td>-24.352954</td>\n",
       "    </tr>\n",
       "    <tr>\n",
       "      <th>ZTF18aczbnhl</th>\n",
       "      <td>97</td>\n",
       "      <td>ANT2019dsk24</td>\n",
       "      <td>85.049145</td>\n",
       "      <td>-11.013302</td>\n",
       "      <td>['lc_feature_extractor']</td>\n",
       "      <td>['allwise', 'gaia_dr2', '2mass_psc', 'bright_g...</td>\n",
       "      <td>NaN</td>\n",
       "      <td>105</td>\n",
       "      <td>12</td>\n",
       "      <td>ztf_candidate:718232301815010005</td>\n",
       "      <td>...</td>\n",
       "      <td>NaN</td>\n",
       "      <td>NaN</td>\n",
       "      <td>NaN</td>\n",
       "      <td>NaN</td>\n",
       "      <td>NaN</td>\n",
       "      <td>NaN</td>\n",
       "      <td>NaN</td>\n",
       "      <td>NaN</td>\n",
       "      <td>214.961559</td>\n",
       "      <td>-20.751422</td>\n",
       "    </tr>\n",
       "    <tr>\n",
       "      <th>...</th>\n",
       "      <td>...</td>\n",
       "      <td>...</td>\n",
       "      <td>...</td>\n",
       "      <td>...</td>\n",
       "      <td>...</td>\n",
       "      <td>...</td>\n",
       "      <td>...</td>\n",
       "      <td>...</td>\n",
       "      <td>...</td>\n",
       "      <td>...</td>\n",
       "      <td>...</td>\n",
       "      <td>...</td>\n",
       "      <td>...</td>\n",
       "      <td>...</td>\n",
       "      <td>...</td>\n",
       "      <td>...</td>\n",
       "      <td>...</td>\n",
       "      <td>...</td>\n",
       "      <td>...</td>\n",
       "      <td>...</td>\n",
       "      <td>...</td>\n",
       "    </tr>\n",
       "    <tr>\n",
       "      <th>ZTF20aberawv</th>\n",
       "      <td>999927</td>\n",
       "      <td>ANT2020aebbk</td>\n",
       "      <td>292.910293</td>\n",
       "      <td>54.078978</td>\n",
       "      <td>['lc_feature_extractor', 'dimmers']</td>\n",
       "      <td>[]</td>\n",
       "      <td>NaN</td>\n",
       "      <td>235</td>\n",
       "      <td>96</td>\n",
       "      <td>ztf_candidate:1231482062015010023</td>\n",
       "      <td>...</td>\n",
       "      <td>NaN</td>\n",
       "      <td>0.417276</td>\n",
       "      <td>Fail</td>\n",
       "      <td>TBD</td>\n",
       "      <td>NaN</td>\n",
       "      <td>NaN</td>\n",
       "      <td>NaN</td>\n",
       "      <td>NaN</td>\n",
       "      <td>85.961850</td>\n",
       "      <td>16.149525</td>\n",
       "    </tr>\n",
       "    <tr>\n",
       "      <th>ZTF18acrvsjf</th>\n",
       "      <td>999938</td>\n",
       "      <td>ANT2019zf6fg</td>\n",
       "      <td>72.820139</td>\n",
       "      <td>1.073984</td>\n",
       "      <td>['lc_feature_extractor']</td>\n",
       "      <td>['allwise', 'bright_guide_star_cat', '2mass_ps...</td>\n",
       "      <td>NaN</td>\n",
       "      <td>40</td>\n",
       "      <td>14</td>\n",
       "      <td>ztf_candidate:696399341515010050</td>\n",
       "      <td>...</td>\n",
       "      <td>NaN</td>\n",
       "      <td>NaN</td>\n",
       "      <td>NaN</td>\n",
       "      <td>TBD</td>\n",
       "      <td>NaN</td>\n",
       "      <td>NaN</td>\n",
       "      <td>NaN</td>\n",
       "      <td>NaN</td>\n",
       "      <td>197.132900</td>\n",
       "      <td>-25.906137</td>\n",
       "    </tr>\n",
       "    <tr>\n",
       "      <th>ZTF18acdqrna</th>\n",
       "      <td>999957</td>\n",
       "      <td>ANT2020aefhrvi</td>\n",
       "      <td>53.476865</td>\n",
       "      <td>77.496741</td>\n",
       "      <td>['lc_feature_extractor']</td>\n",
       "      <td>['allwise', 'bright_guide_star_cat', '2mass_ps...</td>\n",
       "      <td>NaN</td>\n",
       "      <td>83</td>\n",
       "      <td>36</td>\n",
       "      <td>ztf_candidate:1353408024115015003</td>\n",
       "      <td>...</td>\n",
       "      <td>NaN</td>\n",
       "      <td>NaN</td>\n",
       "      <td>NaN</td>\n",
       "      <td>NaN</td>\n",
       "      <td>NaN</td>\n",
       "      <td>NaN</td>\n",
       "      <td>NaN</td>\n",
       "      <td>NaN</td>\n",
       "      <td>131.425108</td>\n",
       "      <td>17.392307</td>\n",
       "    </tr>\n",
       "    <tr>\n",
       "      <th>ZTF21abhjyor</th>\n",
       "      <td>999964</td>\n",
       "      <td>ANT2020aeedowi</td>\n",
       "      <td>323.724711</td>\n",
       "      <td>31.249401</td>\n",
       "      <td>['lc_feature_extractor']</td>\n",
       "      <td>[]</td>\n",
       "      <td>NaN</td>\n",
       "      <td>118</td>\n",
       "      <td>19</td>\n",
       "      <td>ztf_candidate:1358283950415015003</td>\n",
       "      <td>...</td>\n",
       "      <td>NaN</td>\n",
       "      <td>NaN</td>\n",
       "      <td>NaN</td>\n",
       "      <td>TBD</td>\n",
       "      <td>NaN</td>\n",
       "      <td>NaN</td>\n",
       "      <td>NaN</td>\n",
       "      <td>NaN</td>\n",
       "      <td>80.880513</td>\n",
       "      <td>-15.145608</td>\n",
       "    </tr>\n",
       "    <tr>\n",
       "      <th>ZTF18acfdttb</th>\n",
       "      <td>999987</td>\n",
       "      <td>ANT2020fc5ny</td>\n",
       "      <td>295.091491</td>\n",
       "      <td>55.660204</td>\n",
       "      <td>['lc_feature_extractor', 'dimmers']</td>\n",
       "      <td>['2mass_psc', 'allwise', 'gaia_dr2', 'bright_g...</td>\n",
       "      <td>NaN</td>\n",
       "      <td>290</td>\n",
       "      <td>14</td>\n",
       "      <td>ztf_candidate:966286933415010005</td>\n",
       "      <td>...</td>\n",
       "      <td>NaN</td>\n",
       "      <td>NaN</td>\n",
       "      <td>NaN</td>\n",
       "      <td>TBD</td>\n",
       "      <td>NaN</td>\n",
       "      <td>NaN</td>\n",
       "      <td>NaN</td>\n",
       "      <td>NaN</td>\n",
       "      <td>88.001492</td>\n",
       "      <td>15.672646</td>\n",
       "    </tr>\n",
       "  </tbody>\n",
       "</table>\n",
       "<p>90199 rows × 112 columns</p>\n",
       "</div>"
      ],
      "text/plain": [
       "               Unnamed: 0        locus_id          ra        dec  \\\n",
       "ztf_object_id                                                      \n",
       "ZTF20acpdyyq            6    ANT2020rajqu   33.976088 -20.258905   \n",
       "ZTF18acfvwwa           39    ANT2020pc6ko   35.639509  32.833982   \n",
       "ZTF17aaaskvj           58    ANT2020rdpmm   28.015003  36.953217   \n",
       "ZTF17aaaskvj           59    ANT2018ftblk   28.015003  36.953216   \n",
       "ZTF18aczbnhl           97    ANT2019dsk24   85.049145 -11.013302   \n",
       "...                   ...             ...         ...        ...   \n",
       "ZTF20aberawv       999927    ANT2020aebbk  292.910293  54.078978   \n",
       "ZTF18acrvsjf       999938    ANT2019zf6fg   72.820139   1.073984   \n",
       "ZTF18acdqrna       999957  ANT2020aefhrvi   53.476865  77.496741   \n",
       "ZTF21abhjyor       999964  ANT2020aeedowi  323.724711  31.249401   \n",
       "ZTF18acfdttb       999987    ANT2020fc5ny  295.091491  55.660204   \n",
       "\n",
       "                                               tags  \\\n",
       "ztf_object_id                                         \n",
       "ZTF20acpdyyq               ['lc_feature_extractor']   \n",
       "ZTF18acfvwwa               ['lc_feature_extractor']   \n",
       "ZTF17aaaskvj               ['lc_feature_extractor']   \n",
       "ZTF17aaaskvj   ['lc_feature_extractor', 'high_snr']   \n",
       "ZTF18aczbnhl               ['lc_feature_extractor']   \n",
       "...                                             ...   \n",
       "ZTF20aberawv    ['lc_feature_extractor', 'dimmers']   \n",
       "ZTF18acrvsjf               ['lc_feature_extractor']   \n",
       "ZTF18acdqrna               ['lc_feature_extractor']   \n",
       "ZTF21abhjyor               ['lc_feature_extractor']   \n",
       "ZTF18acfdttb    ['lc_feature_extractor', 'dimmers']   \n",
       "\n",
       "                                                        catalogs ztf_ssnamenr  \\\n",
       "ztf_object_id                                                                   \n",
       "ZTF20acpdyyq   ['allwise', 'gaia_dr2', '2mass_psc', 'bright_g...          NaN   \n",
       "ZTF18acfvwwa   ['allwise', 'gaia_dr2', '2mass_psc', 'bright_g...          NaN   \n",
       "ZTF17aaaskvj   ['allwise', 'csdr2', 'gaia_dr2', '2mass_psc', ...          NaN   \n",
       "ZTF17aaaskvj   ['allwise', 'csdr2', 'gaia_dr2', '2mass_psc', ...          NaN   \n",
       "ZTF18aczbnhl   ['allwise', 'gaia_dr2', '2mass_psc', 'bright_g...          NaN   \n",
       "...                                                          ...          ...   \n",
       "ZTF20aberawv                                                  []          NaN   \n",
       "ZTF18acrvsjf   ['allwise', 'bright_guide_star_cat', '2mass_ps...          NaN   \n",
       "ZTF18acdqrna   ['allwise', 'bright_guide_star_cat', '2mass_ps...          NaN   \n",
       "ZTF21abhjyor                                                  []          NaN   \n",
       "ZTF18acfdttb   ['2mass_psc', 'allwise', 'gaia_dr2', 'bright_g...          NaN   \n",
       "\n",
       "               num_alerts  num_mag_values                    oldest_alert_id  \\\n",
       "ztf_object_id                                                                  \n",
       "ZTF20acpdyyq          137              35   ztf_candidate:993481181415010007   \n",
       "ZTF18acfvwwa          659              88   ztf_candidate:943483942915015010   \n",
       "ZTF17aaaskvj         1497             579   ztf_candidate:598425334815010002   \n",
       "ZTF17aaaskvj         1504             583   ztf_candidate:598425334815010002   \n",
       "ZTF18aczbnhl          105              12   ztf_candidate:718232301815010005   \n",
       "...                   ...             ...                                ...   \n",
       "ZTF20aberawv          235              96  ztf_candidate:1231482062015010023   \n",
       "ZTF18acrvsjf           40              14   ztf_candidate:696399341515010050   \n",
       "ZTF18acdqrna           83              36  ztf_candidate:1353408024115015003   \n",
       "ZTF21abhjyor          118              19  ztf_candidate:1358283950415015003   \n",
       "ZTF18acfdttb          290              14   ztf_candidate:966286933415010005   \n",
       "\n",
       "               ...  anom_score  anomaly_score anomaly_mask  anomaly_type  \\\n",
       "ztf_object_id  ...                                                         \n",
       "ZTF20acpdyyq   ...         NaN            NaN          NaN           NaN   \n",
       "ZTF18acfvwwa   ...         NaN            NaN          NaN           NaN   \n",
       "ZTF17aaaskvj   ...         NaN            NaN          NaN           NaN   \n",
       "ZTF17aaaskvj   ...         NaN            NaN          NaN           NaN   \n",
       "ZTF18aczbnhl   ...         NaN            NaN          NaN           NaN   \n",
       "...            ...         ...            ...          ...           ...   \n",
       "ZTF20aberawv   ...         NaN       0.417276         Fail           TBD   \n",
       "ZTF18acrvsjf   ...         NaN            NaN          NaN           TBD   \n",
       "ZTF18acdqrna   ...         NaN            NaN          NaN           NaN   \n",
       "ZTF21abhjyor   ...         NaN            NaN          NaN           TBD   \n",
       "ZTF18acfdttb   ...         NaN            NaN          NaN           TBD   \n",
       "\n",
       "               is_corrected vpdf_extreme_version  vpdf_extreme_faint  \\\n",
       "ztf_object_id                                                          \n",
       "ZTF20acpdyyq            NaN                  NaN                 NaN   \n",
       "ZTF18acfvwwa            NaN                  NaN                 NaN   \n",
       "ZTF17aaaskvj            NaN                  NaN                 NaN   \n",
       "ZTF17aaaskvj            NaN                  NaN                 NaN   \n",
       "ZTF18aczbnhl            NaN                  NaN                 NaN   \n",
       "...                     ...                  ...                 ...   \n",
       "ZTF20aberawv            NaN                  NaN                 NaN   \n",
       "ZTF18acrvsjf            NaN                  NaN                 NaN   \n",
       "ZTF18acdqrna            NaN                  NaN                 NaN   \n",
       "ZTF21abhjyor            NaN                  NaN                 NaN   \n",
       "ZTF18acfdttb            NaN                  NaN                 NaN   \n",
       "\n",
       "               vpdf_extreme_bright  locus_gal_l  locus_gal_b  \n",
       "ztf_object_id                                                 \n",
       "ZTF20acpdyyq                   NaN   197.881532   -69.513571  \n",
       "ZTF18acfvwwa                   NaN   144.200342   -26.246909  \n",
       "ZTF17aaaskvj                   NaN   136.189482   -24.352953  \n",
       "ZTF17aaaskvj                   NaN   136.189482   -24.352954  \n",
       "ZTF18aczbnhl                   NaN   214.961559   -20.751422  \n",
       "...                            ...          ...          ...  \n",
       "ZTF20aberawv                   NaN    85.961850    16.149525  \n",
       "ZTF18acrvsjf                   NaN   197.132900   -25.906137  \n",
       "ZTF18acdqrna                   NaN   131.425108    17.392307  \n",
       "ZTF21abhjyor                   NaN    80.880513   -15.145608  \n",
       "ZTF18acfdttb                   NaN    88.001492    15.672646  \n",
       "\n",
       "[90199 rows x 112 columns]"
      ]
     },
     "execution_count": 3,
     "metadata": {},
     "output_type": "execute_result"
    }
   ],
   "source": [
    "dataset_bank = pd.read_csv('../loci_dbs/loci_df_271688objects_cut_stars_and_gal_plane_transf.csv', \n",
    "                                   compression='gzip',\n",
    "                                   usecols=lambda c: c in ztf_id_and_features_r_g,\n",
    "                                  index_col='ztf_object_id')\n",
    "        \n",
    "# drop row if any feature values are nan\n",
    "dataset_bank = dataset_bank[~dataset_bank[feature_names_r_g].isnull().any(axis=1)]\n",
    "\n",
    "#mask = (dataset_bank['num_mag_values'] >= 40) #& (dataset_bank['num_mag_values'] <= 40)\n",
    "#dataset_bank = dataset_bank[mask]\n",
    "dataset_bank"
   ]
  },
  {
   "cell_type": "code",
   "execution_count": 4,
   "id": "adadfa86",
   "metadata": {},
   "outputs": [
    {
     "data": {
      "text/html": [
       "<div>\n",
       "<style scoped>\n",
       "    .dataframe tbody tr th:only-of-type {\n",
       "        vertical-align: middle;\n",
       "    }\n",
       "\n",
       "    .dataframe tbody tr th {\n",
       "        vertical-align: top;\n",
       "    }\n",
       "\n",
       "    .dataframe thead th {\n",
       "        text-align: right;\n",
       "    }\n",
       "</style>\n",
       "<table border=\"1\" class=\"dataframe\">\n",
       "  <thead>\n",
       "    <tr style=\"text-align: right;\">\n",
       "      <th></th>\n",
       "      <th>feature_amplitude_magn_r</th>\n",
       "      <th>feature_anderson_darling_normal_magn_r</th>\n",
       "      <th>feature_beyond_1_std_magn_r</th>\n",
       "      <th>feature_beyond_2_std_magn_r</th>\n",
       "      <th>feature_cusum_magn_r</th>\n",
       "      <th>feature_inter_percentile_range_2_magn_r</th>\n",
       "      <th>feature_inter_percentile_range_10_magn_r</th>\n",
       "      <th>feature_inter_percentile_range_25_magn_r</th>\n",
       "      <th>feature_kurtosis_magn_r</th>\n",
       "      <th>feature_linear_fit_slope_magn_r</th>\n",
       "      <th>...</th>\n",
       "      <th>feature_standard_deviation_magn_g</th>\n",
       "      <th>feature_stetson_k_magn_g</th>\n",
       "      <th>feature_weighted_mean_magn_g</th>\n",
       "      <th>feature_anderson_darling_normal_flux_g</th>\n",
       "      <th>feature_cusum_flux_g</th>\n",
       "      <th>feature_excess_variance_flux_g</th>\n",
       "      <th>feature_kurtosis_flux_g</th>\n",
       "      <th>feature_mean_variance_flux_g</th>\n",
       "      <th>feature_skew_flux_g</th>\n",
       "      <th>feature_stetson_k_flux_g</th>\n",
       "    </tr>\n",
       "    <tr>\n",
       "      <th>ztf_object_id</th>\n",
       "      <th></th>\n",
       "      <th></th>\n",
       "      <th></th>\n",
       "      <th></th>\n",
       "      <th></th>\n",
       "      <th></th>\n",
       "      <th></th>\n",
       "      <th></th>\n",
       "      <th></th>\n",
       "      <th></th>\n",
       "      <th></th>\n",
       "      <th></th>\n",
       "      <th></th>\n",
       "      <th></th>\n",
       "      <th></th>\n",
       "      <th></th>\n",
       "      <th></th>\n",
       "      <th></th>\n",
       "      <th></th>\n",
       "      <th></th>\n",
       "      <th></th>\n",
       "    </tr>\n",
       "  </thead>\n",
       "  <tbody>\n",
       "    <tr>\n",
       "      <th>ZTF20acpdyyq</th>\n",
       "      <td>0.514069</td>\n",
       "      <td>-0.037026</td>\n",
       "      <td>0.230769</td>\n",
       "      <td>0.277350</td>\n",
       "      <td>0.210596</td>\n",
       "      <td>1.028137</td>\n",
       "      <td>0.606000</td>\n",
       "      <td>0.224944</td>\n",
       "      <td>2.176230</td>\n",
       "      <td>-0.001783</td>\n",
       "      <td>...</td>\n",
       "      <td>0.344664</td>\n",
       "      <td>0.833143</td>\n",
       "      <td>18.288298</td>\n",
       "      <td>-0.741267</td>\n",
       "      <td>0.244416</td>\n",
       "      <td>0.409971</td>\n",
       "      <td>-0.783581</td>\n",
       "      <td>-0.535533</td>\n",
       "      <td>-0.061333</td>\n",
       "      <td>0.815809</td>\n",
       "    </tr>\n",
       "    <tr>\n",
       "      <th>ZTF18acfvwwa</th>\n",
       "      <td>0.593122</td>\n",
       "      <td>-0.303523</td>\n",
       "      <td>0.303030</td>\n",
       "      <td>0.246183</td>\n",
       "      <td>0.272132</td>\n",
       "      <td>1.152622</td>\n",
       "      <td>0.729088</td>\n",
       "      <td>0.356500</td>\n",
       "      <td>0.552720</td>\n",
       "      <td>0.000145</td>\n",
       "      <td>...</td>\n",
       "      <td>0.255341</td>\n",
       "      <td>0.796845</td>\n",
       "      <td>17.025929</td>\n",
       "      <td>0.013852</td>\n",
       "      <td>0.276394</td>\n",
       "      <td>0.369215</td>\n",
       "      <td>0.319612</td>\n",
       "      <td>-0.616276</td>\n",
       "      <td>0.720649</td>\n",
       "      <td>0.746565</td>\n",
       "    </tr>\n",
       "    <tr>\n",
       "      <th>ZTF17aaaskvj</th>\n",
       "      <td>1.325100</td>\n",
       "      <td>0.305955</td>\n",
       "      <td>0.310345</td>\n",
       "      <td>0.194759</td>\n",
       "      <td>0.069613</td>\n",
       "      <td>1.452066</td>\n",
       "      <td>0.900613</td>\n",
       "      <td>0.490911</td>\n",
       "      <td>1.562089</td>\n",
       "      <td>-0.000205</td>\n",
       "      <td>...</td>\n",
       "      <td>0.384571</td>\n",
       "      <td>0.542215</td>\n",
       "      <td>16.768612</td>\n",
       "      <td>1.073154</td>\n",
       "      <td>0.119285</td>\n",
       "      <td>0.611570</td>\n",
       "      <td>4.490889</td>\n",
       "      <td>-0.309191</td>\n",
       "      <td>2.390988</td>\n",
       "      <td>0.613781</td>\n",
       "    </tr>\n",
       "    <tr>\n",
       "      <th>ZTF17aaaskvj</th>\n",
       "      <td>1.325100</td>\n",
       "      <td>0.300439</td>\n",
       "      <td>0.308219</td>\n",
       "      <td>0.194091</td>\n",
       "      <td>0.072355</td>\n",
       "      <td>1.448558</td>\n",
       "      <td>0.899251</td>\n",
       "      <td>0.491846</td>\n",
       "      <td>1.551687</td>\n",
       "      <td>-0.000213</td>\n",
       "      <td>...</td>\n",
       "      <td>0.386585</td>\n",
       "      <td>0.541809</td>\n",
       "      <td>16.773018</td>\n",
       "      <td>1.066396</td>\n",
       "      <td>0.119160</td>\n",
       "      <td>0.611631</td>\n",
       "      <td>4.488470</td>\n",
       "      <td>-0.309169</td>\n",
       "      <td>2.386820</td>\n",
       "      <td>0.613769</td>\n",
       "    </tr>\n",
       "    <tr>\n",
       "      <th>ZTF18aczbnhl</th>\n",
       "      <td>0.276431</td>\n",
       "      <td>-0.610376</td>\n",
       "      <td>0.250000</td>\n",
       "      <td>0.000000</td>\n",
       "      <td>0.370062</td>\n",
       "      <td>0.552862</td>\n",
       "      <td>0.552862</td>\n",
       "      <td>0.316462</td>\n",
       "      <td>1.948112</td>\n",
       "      <td>-0.000285</td>\n",
       "      <td>...</td>\n",
       "      <td>0.492342</td>\n",
       "      <td>0.871093</td>\n",
       "      <td>18.629537</td>\n",
       "      <td>-0.228569</td>\n",
       "      <td>0.247441</td>\n",
       "      <td>0.547583</td>\n",
       "      <td>-1.541604</td>\n",
       "      <td>-0.365630</td>\n",
       "      <td>0.163018</td>\n",
       "      <td>0.879632</td>\n",
       "    </tr>\n",
       "    <tr>\n",
       "      <th>...</th>\n",
       "      <td>...</td>\n",
       "      <td>...</td>\n",
       "      <td>...</td>\n",
       "      <td>...</td>\n",
       "      <td>...</td>\n",
       "      <td>...</td>\n",
       "      <td>...</td>\n",
       "      <td>...</td>\n",
       "      <td>...</td>\n",
       "      <td>...</td>\n",
       "      <td>...</td>\n",
       "      <td>...</td>\n",
       "      <td>...</td>\n",
       "      <td>...</td>\n",
       "      <td>...</td>\n",
       "      <td>...</td>\n",
       "      <td>...</td>\n",
       "      <td>...</td>\n",
       "      <td>...</td>\n",
       "      <td>...</td>\n",
       "      <td>...</td>\n",
       "    </tr>\n",
       "    <tr>\n",
       "      <th>ZTF20aberawv</th>\n",
       "      <td>0.300650</td>\n",
       "      <td>-0.429238</td>\n",
       "      <td>0.297297</td>\n",
       "      <td>0.232495</td>\n",
       "      <td>0.184334</td>\n",
       "      <td>0.595349</td>\n",
       "      <td>0.392779</td>\n",
       "      <td>0.242816</td>\n",
       "      <td>-0.351417</td>\n",
       "      <td>0.000136</td>\n",
       "      <td>...</td>\n",
       "      <td>0.155849</td>\n",
       "      <td>0.792311</td>\n",
       "      <td>19.806295</td>\n",
       "      <td>-0.593235</td>\n",
       "      <td>0.204807</td>\n",
       "      <td>-0.221537</td>\n",
       "      <td>-0.302184</td>\n",
       "      <td>-0.857277</td>\n",
       "      <td>-0.176622</td>\n",
       "      <td>0.787504</td>\n",
       "    </tr>\n",
       "    <tr>\n",
       "      <th>ZTF18acrvsjf</th>\n",
       "      <td>0.383450</td>\n",
       "      <td>-0.343338</td>\n",
       "      <td>0.166667</td>\n",
       "      <td>0.000000</td>\n",
       "      <td>0.422187</td>\n",
       "      <td>0.766899</td>\n",
       "      <td>0.732969</td>\n",
       "      <td>0.427601</td>\n",
       "      <td>-1.013720</td>\n",
       "      <td>0.013309</td>\n",
       "      <td>...</td>\n",
       "      <td>0.399852</td>\n",
       "      <td>0.863606</td>\n",
       "      <td>18.111818</td>\n",
       "      <td>-0.572841</td>\n",
       "      <td>0.379990</td>\n",
       "      <td>0.461553</td>\n",
       "      <td>-0.568062</td>\n",
       "      <td>-0.479605</td>\n",
       "      <td>-0.111461</td>\n",
       "      <td>0.810731</td>\n",
       "    </tr>\n",
       "    <tr>\n",
       "      <th>ZTF18acdqrna</th>\n",
       "      <td>0.371200</td>\n",
       "      <td>-0.664954</td>\n",
       "      <td>0.277778</td>\n",
       "      <td>0.000000</td>\n",
       "      <td>0.321254</td>\n",
       "      <td>0.742399</td>\n",
       "      <td>0.511758</td>\n",
       "      <td>0.323900</td>\n",
       "      <td>-0.753142</td>\n",
       "      <td>-0.001131</td>\n",
       "      <td>...</td>\n",
       "      <td>0.306282</td>\n",
       "      <td>0.747445</td>\n",
       "      <td>17.685317</td>\n",
       "      <td>-0.366746</td>\n",
       "      <td>0.267253</td>\n",
       "      <td>0.396504</td>\n",
       "      <td>1.539943</td>\n",
       "      <td>-0.555800</td>\n",
       "      <td>0.748662</td>\n",
       "      <td>0.795946</td>\n",
       "    </tr>\n",
       "    <tr>\n",
       "      <th>ZTF21abhjyor</th>\n",
       "      <td>0.227900</td>\n",
       "      <td>-1.021921</td>\n",
       "      <td>0.500000</td>\n",
       "      <td>0.000000</td>\n",
       "      <td>0.329992</td>\n",
       "      <td>0.455799</td>\n",
       "      <td>0.455799</td>\n",
       "      <td>0.246500</td>\n",
       "      <td>1.085048</td>\n",
       "      <td>-0.001023</td>\n",
       "      <td>...</td>\n",
       "      <td>0.151608</td>\n",
       "      <td>0.839523</td>\n",
       "      <td>17.388193</td>\n",
       "      <td>-0.296973</td>\n",
       "      <td>0.180238</td>\n",
       "      <td>0.148956</td>\n",
       "      <td>0.273701</td>\n",
       "      <td>-0.871107</td>\n",
       "      <td>-0.293902</td>\n",
       "      <td>0.848042</td>\n",
       "    </tr>\n",
       "    <tr>\n",
       "      <th>ZTF18acfdttb</th>\n",
       "      <td>0.555672</td>\n",
       "      <td>-0.389300</td>\n",
       "      <td>0.285714</td>\n",
       "      <td>0.000000</td>\n",
       "      <td>0.382172</td>\n",
       "      <td>1.111343</td>\n",
       "      <td>1.010869</td>\n",
       "      <td>0.517118</td>\n",
       "      <td>0.497496</td>\n",
       "      <td>0.000696</td>\n",
       "      <td>...</td>\n",
       "      <td>0.600190</td>\n",
       "      <td>0.834462</td>\n",
       "      <td>18.515752</td>\n",
       "      <td>-0.409298</td>\n",
       "      <td>0.257396</td>\n",
       "      <td>0.555034</td>\n",
       "      <td>-0.817007</td>\n",
       "      <td>-0.372240</td>\n",
       "      <td>-0.668849</td>\n",
       "      <td>0.902752</td>\n",
       "    </tr>\n",
       "  </tbody>\n",
       "</table>\n",
       "<p>90199 rows × 82 columns</p>\n",
       "</div>"
      ],
      "text/plain": [
       "               feature_amplitude_magn_r  \\\n",
       "ztf_object_id                             \n",
       "ZTF20acpdyyq                   0.514069   \n",
       "ZTF18acfvwwa                   0.593122   \n",
       "ZTF17aaaskvj                   1.325100   \n",
       "ZTF17aaaskvj                   1.325100   \n",
       "ZTF18aczbnhl                   0.276431   \n",
       "...                                 ...   \n",
       "ZTF20aberawv                   0.300650   \n",
       "ZTF18acrvsjf                   0.383450   \n",
       "ZTF18acdqrna                   0.371200   \n",
       "ZTF21abhjyor                   0.227900   \n",
       "ZTF18acfdttb                   0.555672   \n",
       "\n",
       "               feature_anderson_darling_normal_magn_r  \\\n",
       "ztf_object_id                                           \n",
       "ZTF20acpdyyq                                -0.037026   \n",
       "ZTF18acfvwwa                                -0.303523   \n",
       "ZTF17aaaskvj                                 0.305955   \n",
       "ZTF17aaaskvj                                 0.300439   \n",
       "ZTF18aczbnhl                                -0.610376   \n",
       "...                                               ...   \n",
       "ZTF20aberawv                                -0.429238   \n",
       "ZTF18acrvsjf                                -0.343338   \n",
       "ZTF18acdqrna                                -0.664954   \n",
       "ZTF21abhjyor                                -1.021921   \n",
       "ZTF18acfdttb                                -0.389300   \n",
       "\n",
       "               feature_beyond_1_std_magn_r  feature_beyond_2_std_magn_r  \\\n",
       "ztf_object_id                                                             \n",
       "ZTF20acpdyyq                      0.230769                     0.277350   \n",
       "ZTF18acfvwwa                      0.303030                     0.246183   \n",
       "ZTF17aaaskvj                      0.310345                     0.194759   \n",
       "ZTF17aaaskvj                      0.308219                     0.194091   \n",
       "ZTF18aczbnhl                      0.250000                     0.000000   \n",
       "...                                    ...                          ...   \n",
       "ZTF20aberawv                      0.297297                     0.232495   \n",
       "ZTF18acrvsjf                      0.166667                     0.000000   \n",
       "ZTF18acdqrna                      0.277778                     0.000000   \n",
       "ZTF21abhjyor                      0.500000                     0.000000   \n",
       "ZTF18acfdttb                      0.285714                     0.000000   \n",
       "\n",
       "               feature_cusum_magn_r  feature_inter_percentile_range_2_magn_r  \\\n",
       "ztf_object_id                                                                  \n",
       "ZTF20acpdyyq               0.210596                                 1.028137   \n",
       "ZTF18acfvwwa               0.272132                                 1.152622   \n",
       "ZTF17aaaskvj               0.069613                                 1.452066   \n",
       "ZTF17aaaskvj               0.072355                                 1.448558   \n",
       "ZTF18aczbnhl               0.370062                                 0.552862   \n",
       "...                             ...                                      ...   \n",
       "ZTF20aberawv               0.184334                                 0.595349   \n",
       "ZTF18acrvsjf               0.422187                                 0.766899   \n",
       "ZTF18acdqrna               0.321254                                 0.742399   \n",
       "ZTF21abhjyor               0.329992                                 0.455799   \n",
       "ZTF18acfdttb               0.382172                                 1.111343   \n",
       "\n",
       "               feature_inter_percentile_range_10_magn_r  \\\n",
       "ztf_object_id                                             \n",
       "ZTF20acpdyyq                                   0.606000   \n",
       "ZTF18acfvwwa                                   0.729088   \n",
       "ZTF17aaaskvj                                   0.900613   \n",
       "ZTF17aaaskvj                                   0.899251   \n",
       "ZTF18aczbnhl                                   0.552862   \n",
       "...                                                 ...   \n",
       "ZTF20aberawv                                   0.392779   \n",
       "ZTF18acrvsjf                                   0.732969   \n",
       "ZTF18acdqrna                                   0.511758   \n",
       "ZTF21abhjyor                                   0.455799   \n",
       "ZTF18acfdttb                                   1.010869   \n",
       "\n",
       "               feature_inter_percentile_range_25_magn_r  \\\n",
       "ztf_object_id                                             \n",
       "ZTF20acpdyyq                                   0.224944   \n",
       "ZTF18acfvwwa                                   0.356500   \n",
       "ZTF17aaaskvj                                   0.490911   \n",
       "ZTF17aaaskvj                                   0.491846   \n",
       "ZTF18aczbnhl                                   0.316462   \n",
       "...                                                 ...   \n",
       "ZTF20aberawv                                   0.242816   \n",
       "ZTF18acrvsjf                                   0.427601   \n",
       "ZTF18acdqrna                                   0.323900   \n",
       "ZTF21abhjyor                                   0.246500   \n",
       "ZTF18acfdttb                                   0.517118   \n",
       "\n",
       "               feature_kurtosis_magn_r  feature_linear_fit_slope_magn_r  ...  \\\n",
       "ztf_object_id                                                            ...   \n",
       "ZTF20acpdyyq                  2.176230                        -0.001783  ...   \n",
       "ZTF18acfvwwa                  0.552720                         0.000145  ...   \n",
       "ZTF17aaaskvj                  1.562089                        -0.000205  ...   \n",
       "ZTF17aaaskvj                  1.551687                        -0.000213  ...   \n",
       "ZTF18aczbnhl                  1.948112                        -0.000285  ...   \n",
       "...                                ...                              ...  ...   \n",
       "ZTF20aberawv                 -0.351417                         0.000136  ...   \n",
       "ZTF18acrvsjf                 -1.013720                         0.013309  ...   \n",
       "ZTF18acdqrna                 -0.753142                        -0.001131  ...   \n",
       "ZTF21abhjyor                  1.085048                        -0.001023  ...   \n",
       "ZTF18acfdttb                  0.497496                         0.000696  ...   \n",
       "\n",
       "               feature_standard_deviation_magn_g  feature_stetson_k_magn_g  \\\n",
       "ztf_object_id                                                                \n",
       "ZTF20acpdyyq                            0.344664                  0.833143   \n",
       "ZTF18acfvwwa                            0.255341                  0.796845   \n",
       "ZTF17aaaskvj                            0.384571                  0.542215   \n",
       "ZTF17aaaskvj                            0.386585                  0.541809   \n",
       "ZTF18aczbnhl                            0.492342                  0.871093   \n",
       "...                                          ...                       ...   \n",
       "ZTF20aberawv                            0.155849                  0.792311   \n",
       "ZTF18acrvsjf                            0.399852                  0.863606   \n",
       "ZTF18acdqrna                            0.306282                  0.747445   \n",
       "ZTF21abhjyor                            0.151608                  0.839523   \n",
       "ZTF18acfdttb                            0.600190                  0.834462   \n",
       "\n",
       "               feature_weighted_mean_magn_g  \\\n",
       "ztf_object_id                                 \n",
       "ZTF20acpdyyq                      18.288298   \n",
       "ZTF18acfvwwa                      17.025929   \n",
       "ZTF17aaaskvj                      16.768612   \n",
       "ZTF17aaaskvj                      16.773018   \n",
       "ZTF18aczbnhl                      18.629537   \n",
       "...                                     ...   \n",
       "ZTF20aberawv                      19.806295   \n",
       "ZTF18acrvsjf                      18.111818   \n",
       "ZTF18acdqrna                      17.685317   \n",
       "ZTF21abhjyor                      17.388193   \n",
       "ZTF18acfdttb                      18.515752   \n",
       "\n",
       "               feature_anderson_darling_normal_flux_g  feature_cusum_flux_g  \\\n",
       "ztf_object_id                                                                 \n",
       "ZTF20acpdyyq                                -0.741267              0.244416   \n",
       "ZTF18acfvwwa                                 0.013852              0.276394   \n",
       "ZTF17aaaskvj                                 1.073154              0.119285   \n",
       "ZTF17aaaskvj                                 1.066396              0.119160   \n",
       "ZTF18aczbnhl                                -0.228569              0.247441   \n",
       "...                                               ...                   ...   \n",
       "ZTF20aberawv                                -0.593235              0.204807   \n",
       "ZTF18acrvsjf                                -0.572841              0.379990   \n",
       "ZTF18acdqrna                                -0.366746              0.267253   \n",
       "ZTF21abhjyor                                -0.296973              0.180238   \n",
       "ZTF18acfdttb                                -0.409298              0.257396   \n",
       "\n",
       "               feature_excess_variance_flux_g  feature_kurtosis_flux_g  \\\n",
       "ztf_object_id                                                            \n",
       "ZTF20acpdyyq                         0.409971                -0.783581   \n",
       "ZTF18acfvwwa                         0.369215                 0.319612   \n",
       "ZTF17aaaskvj                         0.611570                 4.490889   \n",
       "ZTF17aaaskvj                         0.611631                 4.488470   \n",
       "ZTF18aczbnhl                         0.547583                -1.541604   \n",
       "...                                       ...                      ...   \n",
       "ZTF20aberawv                        -0.221537                -0.302184   \n",
       "ZTF18acrvsjf                         0.461553                -0.568062   \n",
       "ZTF18acdqrna                         0.396504                 1.539943   \n",
       "ZTF21abhjyor                         0.148956                 0.273701   \n",
       "ZTF18acfdttb                         0.555034                -0.817007   \n",
       "\n",
       "               feature_mean_variance_flux_g  feature_skew_flux_g  \\\n",
       "ztf_object_id                                                      \n",
       "ZTF20acpdyyq                      -0.535533            -0.061333   \n",
       "ZTF18acfvwwa                      -0.616276             0.720649   \n",
       "ZTF17aaaskvj                      -0.309191             2.390988   \n",
       "ZTF17aaaskvj                      -0.309169             2.386820   \n",
       "ZTF18aczbnhl                      -0.365630             0.163018   \n",
       "...                                     ...                  ...   \n",
       "ZTF20aberawv                      -0.857277            -0.176622   \n",
       "ZTF18acrvsjf                      -0.479605            -0.111461   \n",
       "ZTF18acdqrna                      -0.555800             0.748662   \n",
       "ZTF21abhjyor                      -0.871107            -0.293902   \n",
       "ZTF18acfdttb                      -0.372240            -0.668849   \n",
       "\n",
       "               feature_stetson_k_flux_g  \n",
       "ztf_object_id                            \n",
       "ZTF20acpdyyq                   0.815809  \n",
       "ZTF18acfvwwa                   0.746565  \n",
       "ZTF17aaaskvj                   0.613781  \n",
       "ZTF17aaaskvj                   0.613769  \n",
       "ZTF18aczbnhl                   0.879632  \n",
       "...                                 ...  \n",
       "ZTF20aberawv                   0.787504  \n",
       "ZTF18acrvsjf                   0.810731  \n",
       "ZTF18acdqrna                   0.795946  \n",
       "ZTF21abhjyor                   0.848042  \n",
       "ZTF18acfdttb                   0.902752  \n",
       "\n",
       "[90199 rows x 82 columns]"
      ]
     },
     "execution_count": 4,
     "metadata": {},
     "output_type": "execute_result"
    }
   ],
   "source": [
    "# only keep features of bank\n",
    "dataset_bank_orig = dataset_bank[feature_names_r_g]\n",
    "dataset_bank_orig"
   ]
  },
  {
   "cell_type": "code",
   "execution_count": 5,
   "id": "9126a59c",
   "metadata": {},
   "outputs": [
    {
     "name": "stdout",
     "output_type": "stream",
     "text": [
      "pca\n",
      "[0.23039056 0.39547268 0.49004163 0.56279701 0.60597478 0.64293407\n",
      " 0.6744957  0.70133184 0.72597255 0.74994114 0.7706908  0.79061063\n",
      " 0.80817714 0.8234333  0.83753344 0.85101642 0.86316356 0.87477586\n",
      " 0.88583139 0.89628417 0.9060682  0.91311195 0.91992921 0.92576442\n",
      " 0.93115947]\n"
     ]
    }
   ],
   "source": [
    "\n",
    "# https://github.com/uiucsn/laiss/blob/main/LAISS/notebooks/LAISS_tests.ipynb\n",
    "idx_arr = np.hstack(np.array(dataset_bank_orig.index, dtype='object'))\n",
    "feat_arr = np.vstack(np.array(dataset_bank_orig, dtype='object'))\n",
    "\n",
    "\n",
    "#scaler = preprocessing.StandardScaler() # Create a scalar\n",
    "scaler = preprocessing.MinMaxScaler() # Create a scalar\n",
    "#scaler = preprocessing.MaxAbsScaler() # Create a scalar\n",
    "#scaler = preprocessing.RobustScaler(quantile_range=(33.0, 67.0)) # quantile_range=(25.0, 75.0) good for outliers\n",
    "#scaler = preprocessing.Normalizer(norm='l2') #norm='max', norm='l1',\n",
    "#scaler = preprocessing.SplineTransformer(n_knots=5, degree=3, knots='uniform', \n",
    "#                                          extrapolation='constant', include_bias=True, order='C')\n",
    "#scaler = preprocessing.FunctionTransformer(np.cbrt, validate=True)\n",
    "#scaler = preprocessing.FunctionTransformer(np.conjugate, validate=True)\n",
    "#scaler = preprocessing.FunctionTransformer(np.rint, validate=True)\n",
    "#scaler = preprocessing.FunctionTransformer(np.rint, validate=True)\n",
    "\n",
    "#print(\"scaler\")\n",
    "#scaler.fit(feat_arr) # Fit only to training data\n",
    "#feat_arr_scaled = scaler.transform(feat_arr) # What your model learns on\n",
    "#print(np.shape(feat_arr_scaled))\n",
    "#print(feat_arr_scaled)\n",
    "\n",
    "\n",
    "\n",
    "# #OR try PCA, then scalar\n",
    "# print(\"pca\")\n",
    "# # Initialize PCA with 15 principal components\n",
    "# n_components=6\n",
    "# pca = PCA(n_components=n_components)\n",
    "# feat_arr_scaled = np.array(pca.fit_transform(feat_arr))\n",
    "# scaler.fit(feat_arr_scaled) # Fit only to training data\n",
    "# feat_arr_scaled = scaler.transform(feat_arr_scaled) # What your model learns on\n",
    "\n",
    "#OR try scalar then PCA\n",
    "print(\"pca\")\n",
    "# Initialize PCA with 15 principal components\n",
    "n_components=25\n",
    "pca = PCA(n_components=n_components)\n",
    "feat_arr_scaled = scaler.fit_transform(feat_arr)\n",
    "feat_arr_scaled = np.array(pca.fit_transform(feat_arr_scaled))\n",
    "\n",
    "# # #OR try PCA only\n",
    "# print(\"pca\")\n",
    "# # Initialize PCA with 15 principal components\n",
    "# n_components=6\n",
    "# pca = PCA(n_components=n_components)\n",
    "# feat_arr_scaled = np.array(pca.fit_transform(feat_arr))\n",
    "\n",
    "# Print the explained variance\n",
    "print(np.cumsum(pca.explained_variance_ratio_))\n",
    "\n",
    "# Build ANNOY index of scaled features of dataset_bank\n",
    "index = AnnoyIndex(feat_arr_scaled, idx_arr, metric='euclidean')\n",
    "index.build()\n",
    "# dist metrics: dot is not good, eucl and manhattan are more or less same, \n",
    "# hamming is good distance but matches aren't as similar\n",
    "# angular has best matches?"
   ]
  },
  {
   "cell_type": "markdown",
   "id": "3afb4b78",
   "metadata": {},
   "source": [
    "# TODO: get Tns classes, do distance distr per class (in diff metrics)"
   ]
  },
  {
   "cell_type": "code",
   "execution_count": 6,
   "id": "3abfc268",
   "metadata": {},
   "outputs": [
    {
     "data": {
      "text/html": [
       "<div>\n",
       "<style scoped>\n",
       "    .dataframe tbody tr th:only-of-type {\n",
       "        vertical-align: middle;\n",
       "    }\n",
       "\n",
       "    .dataframe tbody tr th {\n",
       "        vertical-align: top;\n",
       "    }\n",
       "\n",
       "    .dataframe thead th {\n",
       "        text-align: right;\n",
       "    }\n",
       "</style>\n",
       "<table border=\"1\" class=\"dataframe\">\n",
       "  <thead>\n",
       "    <tr style=\"text-align: right;\">\n",
       "      <th></th>\n",
       "      <th>PC0</th>\n",
       "      <th>PC1</th>\n",
       "      <th>PC2</th>\n",
       "      <th>PC3</th>\n",
       "      <th>PC4</th>\n",
       "      <th>PC5</th>\n",
       "      <th>PC6</th>\n",
       "      <th>PC7</th>\n",
       "      <th>PC8</th>\n",
       "      <th>PC9</th>\n",
       "      <th>...</th>\n",
       "      <th>PC15</th>\n",
       "      <th>PC16</th>\n",
       "      <th>PC17</th>\n",
       "      <th>PC18</th>\n",
       "      <th>PC19</th>\n",
       "      <th>PC20</th>\n",
       "      <th>PC21</th>\n",
       "      <th>PC22</th>\n",
       "      <th>PC23</th>\n",
       "      <th>PC24</th>\n",
       "    </tr>\n",
       "    <tr>\n",
       "      <th>ztf_object_id</th>\n",
       "      <th></th>\n",
       "      <th></th>\n",
       "      <th></th>\n",
       "      <th></th>\n",
       "      <th></th>\n",
       "      <th></th>\n",
       "      <th></th>\n",
       "      <th></th>\n",
       "      <th></th>\n",
       "      <th></th>\n",
       "      <th></th>\n",
       "      <th></th>\n",
       "      <th></th>\n",
       "      <th></th>\n",
       "      <th></th>\n",
       "      <th></th>\n",
       "      <th></th>\n",
       "      <th></th>\n",
       "      <th></th>\n",
       "      <th></th>\n",
       "      <th></th>\n",
       "    </tr>\n",
       "  </thead>\n",
       "  <tbody>\n",
       "    <tr>\n",
       "      <th>ZTF20acpdyyq</th>\n",
       "      <td>0.538141</td>\n",
       "      <td>0.148851</td>\n",
       "      <td>-0.438363</td>\n",
       "      <td>-0.093599</td>\n",
       "      <td>-0.261809</td>\n",
       "      <td>0.485150</td>\n",
       "      <td>0.035723</td>\n",
       "      <td>0.123459</td>\n",
       "      <td>0.049304</td>\n",
       "      <td>-0.180760</td>\n",
       "      <td>...</td>\n",
       "      <td>-0.061741</td>\n",
       "      <td>-0.099706</td>\n",
       "      <td>0.088888</td>\n",
       "      <td>0.110417</td>\n",
       "      <td>0.061632</td>\n",
       "      <td>-0.140906</td>\n",
       "      <td>-0.149454</td>\n",
       "      <td>0.053278</td>\n",
       "      <td>-0.050590</td>\n",
       "      <td>-0.020417</td>\n",
       "    </tr>\n",
       "    <tr>\n",
       "      <th>ZTF18acfvwwa</th>\n",
       "      <td>0.599408</td>\n",
       "      <td>0.223573</td>\n",
       "      <td>0.076394</td>\n",
       "      <td>0.240885</td>\n",
       "      <td>0.136615</td>\n",
       "      <td>0.360182</td>\n",
       "      <td>-0.023249</td>\n",
       "      <td>0.034717</td>\n",
       "      <td>-0.120691</td>\n",
       "      <td>-0.186074</td>\n",
       "      <td>...</td>\n",
       "      <td>-0.000541</td>\n",
       "      <td>-0.105709</td>\n",
       "      <td>0.111936</td>\n",
       "      <td>0.069446</td>\n",
       "      <td>0.045642</td>\n",
       "      <td>0.069960</td>\n",
       "      <td>-0.078071</td>\n",
       "      <td>-0.073879</td>\n",
       "      <td>0.122081</td>\n",
       "      <td>-0.019856</td>\n",
       "    </tr>\n",
       "    <tr>\n",
       "      <th>ZTF17aaaskvj</th>\n",
       "      <td>1.218188</td>\n",
       "      <td>0.855351</td>\n",
       "      <td>0.249786</td>\n",
       "      <td>0.255937</td>\n",
       "      <td>-0.267852</td>\n",
       "      <td>-0.225082</td>\n",
       "      <td>0.387865</td>\n",
       "      <td>0.401781</td>\n",
       "      <td>0.148523</td>\n",
       "      <td>0.136416</td>\n",
       "      <td>...</td>\n",
       "      <td>-0.105649</td>\n",
       "      <td>0.230644</td>\n",
       "      <td>-0.045422</td>\n",
       "      <td>-0.057812</td>\n",
       "      <td>-0.052772</td>\n",
       "      <td>-0.080976</td>\n",
       "      <td>0.008907</td>\n",
       "      <td>0.094828</td>\n",
       "      <td>0.257803</td>\n",
       "      <td>0.074800</td>\n",
       "    </tr>\n",
       "    <tr>\n",
       "      <th>ZTF17aaaskvj</th>\n",
       "      <td>1.200853</td>\n",
       "      <td>0.852557</td>\n",
       "      <td>0.249214</td>\n",
       "      <td>0.251377</td>\n",
       "      <td>-0.274088</td>\n",
       "      <td>-0.224367</td>\n",
       "      <td>0.391013</td>\n",
       "      <td>0.396215</td>\n",
       "      <td>0.156524</td>\n",
       "      <td>0.115361</td>\n",
       "      <td>...</td>\n",
       "      <td>-0.099176</td>\n",
       "      <td>0.219160</td>\n",
       "      <td>-0.045760</td>\n",
       "      <td>-0.057039</td>\n",
       "      <td>-0.046076</td>\n",
       "      <td>-0.089004</td>\n",
       "      <td>0.019541</td>\n",
       "      <td>0.099144</td>\n",
       "      <td>0.259824</td>\n",
       "      <td>0.077782</td>\n",
       "    </tr>\n",
       "    <tr>\n",
       "      <th>ZTF18aczbnhl</th>\n",
       "      <td>-0.348307</td>\n",
       "      <td>-0.194542</td>\n",
       "      <td>-0.443213</td>\n",
       "      <td>0.187053</td>\n",
       "      <td>-0.214084</td>\n",
       "      <td>-0.373077</td>\n",
       "      <td>-0.388558</td>\n",
       "      <td>0.205781</td>\n",
       "      <td>-0.165907</td>\n",
       "      <td>-0.141434</td>\n",
       "      <td>...</td>\n",
       "      <td>0.156824</td>\n",
       "      <td>-0.130717</td>\n",
       "      <td>-0.163214</td>\n",
       "      <td>0.147218</td>\n",
       "      <td>-0.053458</td>\n",
       "      <td>0.110482</td>\n",
       "      <td>0.096973</td>\n",
       "      <td>-0.077913</td>\n",
       "      <td>0.344238</td>\n",
       "      <td>-0.142102</td>\n",
       "    </tr>\n",
       "    <tr>\n",
       "      <th>...</th>\n",
       "      <td>...</td>\n",
       "      <td>...</td>\n",
       "      <td>...</td>\n",
       "      <td>...</td>\n",
       "      <td>...</td>\n",
       "      <td>...</td>\n",
       "      <td>...</td>\n",
       "      <td>...</td>\n",
       "      <td>...</td>\n",
       "      <td>...</td>\n",
       "      <td>...</td>\n",
       "      <td>...</td>\n",
       "      <td>...</td>\n",
       "      <td>...</td>\n",
       "      <td>...</td>\n",
       "      <td>...</td>\n",
       "      <td>...</td>\n",
       "      <td>...</td>\n",
       "      <td>...</td>\n",
       "      <td>...</td>\n",
       "      <td>...</td>\n",
       "    </tr>\n",
       "    <tr>\n",
       "      <th>ZTF20aberawv</th>\n",
       "      <td>0.930267</td>\n",
       "      <td>-0.456519</td>\n",
       "      <td>0.027062</td>\n",
       "      <td>0.396545</td>\n",
       "      <td>-0.143151</td>\n",
       "      <td>0.076985</td>\n",
       "      <td>0.033647</td>\n",
       "      <td>-0.058114</td>\n",
       "      <td>-0.045080</td>\n",
       "      <td>-0.005292</td>\n",
       "      <td>...</td>\n",
       "      <td>-0.171806</td>\n",
       "      <td>-0.062068</td>\n",
       "      <td>0.010930</td>\n",
       "      <td>-0.082148</td>\n",
       "      <td>-0.004437</td>\n",
       "      <td>0.036721</td>\n",
       "      <td>-0.001366</td>\n",
       "      <td>-0.092776</td>\n",
       "      <td>0.009555</td>\n",
       "      <td>0.033160</td>\n",
       "    </tr>\n",
       "    <tr>\n",
       "      <th>ZTF18acrvsjf</th>\n",
       "      <td>-0.731951</td>\n",
       "      <td>-0.304998</td>\n",
       "      <td>0.282716</td>\n",
       "      <td>0.094136</td>\n",
       "      <td>0.210098</td>\n",
       "      <td>0.207501</td>\n",
       "      <td>0.139914</td>\n",
       "      <td>-0.186067</td>\n",
       "      <td>0.060418</td>\n",
       "      <td>-0.152371</td>\n",
       "      <td>...</td>\n",
       "      <td>-0.154253</td>\n",
       "      <td>0.145256</td>\n",
       "      <td>-0.054041</td>\n",
       "      <td>0.158486</td>\n",
       "      <td>-0.245874</td>\n",
       "      <td>-0.186320</td>\n",
       "      <td>-0.017635</td>\n",
       "      <td>0.027911</td>\n",
       "      <td>-0.157447</td>\n",
       "      <td>-0.087322</td>\n",
       "    </tr>\n",
       "    <tr>\n",
       "      <th>ZTF18acdqrna</th>\n",
       "      <td>0.262027</td>\n",
       "      <td>0.080751</td>\n",
       "      <td>0.666251</td>\n",
       "      <td>0.078619</td>\n",
       "      <td>0.027661</td>\n",
       "      <td>0.234308</td>\n",
       "      <td>-0.247695</td>\n",
       "      <td>-0.080371</td>\n",
       "      <td>-0.048387</td>\n",
       "      <td>-0.075489</td>\n",
       "      <td>...</td>\n",
       "      <td>0.047797</td>\n",
       "      <td>-0.046788</td>\n",
       "      <td>-0.075095</td>\n",
       "      <td>0.038725</td>\n",
       "      <td>-0.154467</td>\n",
       "      <td>0.000432</td>\n",
       "      <td>-0.144395</td>\n",
       "      <td>-0.137729</td>\n",
       "      <td>0.024415</td>\n",
       "      <td>0.030596</td>\n",
       "    </tr>\n",
       "    <tr>\n",
       "      <th>ZTF21abhjyor</th>\n",
       "      <td>-0.086232</td>\n",
       "      <td>-0.070700</td>\n",
       "      <td>0.155350</td>\n",
       "      <td>-0.197716</td>\n",
       "      <td>-0.573494</td>\n",
       "      <td>0.175025</td>\n",
       "      <td>-0.286538</td>\n",
       "      <td>0.213061</td>\n",
       "      <td>0.220378</td>\n",
       "      <td>0.137435</td>\n",
       "      <td>...</td>\n",
       "      <td>0.125855</td>\n",
       "      <td>0.030488</td>\n",
       "      <td>0.026566</td>\n",
       "      <td>-0.278607</td>\n",
       "      <td>0.398439</td>\n",
       "      <td>0.124742</td>\n",
       "      <td>-0.077687</td>\n",
       "      <td>-0.073894</td>\n",
       "      <td>0.041664</td>\n",
       "      <td>0.017107</td>\n",
       "    </tr>\n",
       "    <tr>\n",
       "      <th>ZTF18acfdttb</th>\n",
       "      <td>-0.335317</td>\n",
       "      <td>-0.034333</td>\n",
       "      <td>0.062554</td>\n",
       "      <td>0.064222</td>\n",
       "      <td>-0.134630</td>\n",
       "      <td>0.278270</td>\n",
       "      <td>-0.025702</td>\n",
       "      <td>0.141362</td>\n",
       "      <td>0.021500</td>\n",
       "      <td>0.267613</td>\n",
       "      <td>...</td>\n",
       "      <td>0.264744</td>\n",
       "      <td>-0.055776</td>\n",
       "      <td>-0.344166</td>\n",
       "      <td>-0.032276</td>\n",
       "      <td>0.030953</td>\n",
       "      <td>0.096178</td>\n",
       "      <td>0.030994</td>\n",
       "      <td>-0.053462</td>\n",
       "      <td>-0.091800</td>\n",
       "      <td>0.033926</td>\n",
       "    </tr>\n",
       "  </tbody>\n",
       "</table>\n",
       "<p>90199 rows × 25 columns</p>\n",
       "</div>"
      ],
      "text/plain": [
       "                    PC0       PC1       PC2       PC3       PC4       PC5  \\\n",
       "ztf_object_id                                                               \n",
       "ZTF20acpdyyq   0.538141  0.148851 -0.438363 -0.093599 -0.261809  0.485150   \n",
       "ZTF18acfvwwa   0.599408  0.223573  0.076394  0.240885  0.136615  0.360182   \n",
       "ZTF17aaaskvj   1.218188  0.855351  0.249786  0.255937 -0.267852 -0.225082   \n",
       "ZTF17aaaskvj   1.200853  0.852557  0.249214  0.251377 -0.274088 -0.224367   \n",
       "ZTF18aczbnhl  -0.348307 -0.194542 -0.443213  0.187053 -0.214084 -0.373077   \n",
       "...                 ...       ...       ...       ...       ...       ...   \n",
       "ZTF20aberawv   0.930267 -0.456519  0.027062  0.396545 -0.143151  0.076985   \n",
       "ZTF18acrvsjf  -0.731951 -0.304998  0.282716  0.094136  0.210098  0.207501   \n",
       "ZTF18acdqrna   0.262027  0.080751  0.666251  0.078619  0.027661  0.234308   \n",
       "ZTF21abhjyor  -0.086232 -0.070700  0.155350 -0.197716 -0.573494  0.175025   \n",
       "ZTF18acfdttb  -0.335317 -0.034333  0.062554  0.064222 -0.134630  0.278270   \n",
       "\n",
       "                    PC6       PC7       PC8       PC9  ...      PC15  \\\n",
       "ztf_object_id                                          ...             \n",
       "ZTF20acpdyyq   0.035723  0.123459  0.049304 -0.180760  ... -0.061741   \n",
       "ZTF18acfvwwa  -0.023249  0.034717 -0.120691 -0.186074  ... -0.000541   \n",
       "ZTF17aaaskvj   0.387865  0.401781  0.148523  0.136416  ... -0.105649   \n",
       "ZTF17aaaskvj   0.391013  0.396215  0.156524  0.115361  ... -0.099176   \n",
       "ZTF18aczbnhl  -0.388558  0.205781 -0.165907 -0.141434  ...  0.156824   \n",
       "...                 ...       ...       ...       ...  ...       ...   \n",
       "ZTF20aberawv   0.033647 -0.058114 -0.045080 -0.005292  ... -0.171806   \n",
       "ZTF18acrvsjf   0.139914 -0.186067  0.060418 -0.152371  ... -0.154253   \n",
       "ZTF18acdqrna  -0.247695 -0.080371 -0.048387 -0.075489  ...  0.047797   \n",
       "ZTF21abhjyor  -0.286538  0.213061  0.220378  0.137435  ...  0.125855   \n",
       "ZTF18acfdttb  -0.025702  0.141362  0.021500  0.267613  ...  0.264744   \n",
       "\n",
       "                   PC16      PC17      PC18      PC19      PC20      PC21  \\\n",
       "ztf_object_id                                                               \n",
       "ZTF20acpdyyq  -0.099706  0.088888  0.110417  0.061632 -0.140906 -0.149454   \n",
       "ZTF18acfvwwa  -0.105709  0.111936  0.069446  0.045642  0.069960 -0.078071   \n",
       "ZTF17aaaskvj   0.230644 -0.045422 -0.057812 -0.052772 -0.080976  0.008907   \n",
       "ZTF17aaaskvj   0.219160 -0.045760 -0.057039 -0.046076 -0.089004  0.019541   \n",
       "ZTF18aczbnhl  -0.130717 -0.163214  0.147218 -0.053458  0.110482  0.096973   \n",
       "...                 ...       ...       ...       ...       ...       ...   \n",
       "ZTF20aberawv  -0.062068  0.010930 -0.082148 -0.004437  0.036721 -0.001366   \n",
       "ZTF18acrvsjf   0.145256 -0.054041  0.158486 -0.245874 -0.186320 -0.017635   \n",
       "ZTF18acdqrna  -0.046788 -0.075095  0.038725 -0.154467  0.000432 -0.144395   \n",
       "ZTF21abhjyor   0.030488  0.026566 -0.278607  0.398439  0.124742 -0.077687   \n",
       "ZTF18acfdttb  -0.055776 -0.344166 -0.032276  0.030953  0.096178  0.030994   \n",
       "\n",
       "                   PC22      PC23      PC24  \n",
       "ztf_object_id                                \n",
       "ZTF20acpdyyq   0.053278 -0.050590 -0.020417  \n",
       "ZTF18acfvwwa  -0.073879  0.122081 -0.019856  \n",
       "ZTF17aaaskvj   0.094828  0.257803  0.074800  \n",
       "ZTF17aaaskvj   0.099144  0.259824  0.077782  \n",
       "ZTF18aczbnhl  -0.077913  0.344238 -0.142102  \n",
       "...                 ...       ...       ...  \n",
       "ZTF20aberawv  -0.092776  0.009555  0.033160  \n",
       "ZTF18acrvsjf   0.027911 -0.157447 -0.087322  \n",
       "ZTF18acdqrna  -0.137729  0.024415  0.030596  \n",
       "ZTF21abhjyor  -0.073894  0.041664  0.017107  \n",
       "ZTF18acfdttb  -0.053462 -0.091800  0.033926  \n",
       "\n",
       "[90199 rows x 25 columns]"
      ]
     },
     "execution_count": 6,
     "metadata": {},
     "output_type": "execute_result"
    }
   ],
   "source": [
    "# Scalar then PCA\n",
    "col_names = [f'PC'+str(i) for i in range(n_components)]\n",
    "dataset_bank_pca = pd.DataFrame(pca.fit_transform(feat_arr_scaled), columns=col_names)\n",
    "dataset_bank_pca = dataset_bank_pca.set_index(dataset_bank_orig.index)\n",
    "dataset_bank_pca\n",
    "\n",
    "# # Just PCA\n",
    "# col_names = [f'PC'+str(i) for i in range(n_components)]\n",
    "# dataset_bank_pca = pd.DataFrame(pca.fit_transform(dataset_bank_orig), columns=col_names)\n",
    "# dataset_bank_pca = dataset_bank_pca.set_index(dataset_bank_orig.index)\n",
    "# dataset_bank_pca\n",
    "\n",
    "\n",
    "# # Just PCA, then scalar\n",
    "# col_names = [f'PC'+str(i) for i in range(n_components)]\n",
    "# dataset_bank_pca = pd.DataFrame(pca.fit_transform(dataset_bank_orig), columns=col_names)\n",
    "# dataset_bank_pca = dataset_bank_pca.set_index(dataset_bank_orig.index)\n",
    "# dataset_bank_pca = scaler.transform(dataset_bank_pca)\n",
    "# dataset_bank_pca = pd.DataFrame(dataset_bank_pca, columns=col_names)\n",
    "# dataset_bank_pca = dataset_bank_pca.set_index(dataset_bank_orig.index)\n",
    "# dataset_bank_pca"
   ]
  },
  {
   "cell_type": "code",
   "execution_count": 7,
   "id": "b7665a8b",
   "metadata": {},
   "outputs": [
    {
     "data": {
      "text/html": [
       "<div>\n",
       "<style scoped>\n",
       "    .dataframe tbody tr th:only-of-type {\n",
       "        vertical-align: middle;\n",
       "    }\n",
       "\n",
       "    .dataframe tbody tr th {\n",
       "        vertical-align: top;\n",
       "    }\n",
       "\n",
       "    .dataframe thead th {\n",
       "        text-align: right;\n",
       "    }\n",
       "</style>\n",
       "<table border=\"1\" class=\"dataframe\">\n",
       "  <thead>\n",
       "    <tr style=\"text-align: right;\">\n",
       "      <th></th>\n",
       "      <th>PC0</th>\n",
       "      <th>PC1</th>\n",
       "      <th>PC2</th>\n",
       "      <th>PC3</th>\n",
       "      <th>PC4</th>\n",
       "      <th>PC5</th>\n",
       "      <th>PC6</th>\n",
       "      <th>PC7</th>\n",
       "      <th>PC8</th>\n",
       "      <th>PC9</th>\n",
       "      <th>...</th>\n",
       "      <th>PC15</th>\n",
       "      <th>PC16</th>\n",
       "      <th>PC17</th>\n",
       "      <th>PC18</th>\n",
       "      <th>PC19</th>\n",
       "      <th>PC20</th>\n",
       "      <th>PC21</th>\n",
       "      <th>PC22</th>\n",
       "      <th>PC23</th>\n",
       "      <th>PC24</th>\n",
       "    </tr>\n",
       "    <tr>\n",
       "      <th>ztf_object_id</th>\n",
       "      <th></th>\n",
       "      <th></th>\n",
       "      <th></th>\n",
       "      <th></th>\n",
       "      <th></th>\n",
       "      <th></th>\n",
       "      <th></th>\n",
       "      <th></th>\n",
       "      <th></th>\n",
       "      <th></th>\n",
       "      <th></th>\n",
       "      <th></th>\n",
       "      <th></th>\n",
       "      <th></th>\n",
       "      <th></th>\n",
       "      <th></th>\n",
       "      <th></th>\n",
       "      <th></th>\n",
       "      <th></th>\n",
       "      <th></th>\n",
       "      <th></th>\n",
       "    </tr>\n",
       "  </thead>\n",
       "  <tbody>\n",
       "    <tr>\n",
       "      <th>ZTF21aassamj</th>\n",
       "      <td>-0.587521</td>\n",
       "      <td>0.070572</td>\n",
       "      <td>-0.126513</td>\n",
       "      <td>0.394259</td>\n",
       "      <td>0.943086</td>\n",
       "      <td>-0.21293</td>\n",
       "      <td>-0.178959</td>\n",
       "      <td>0.210465</td>\n",
       "      <td>0.176929</td>\n",
       "      <td>0.062475</td>\n",
       "      <td>...</td>\n",
       "      <td>-0.125544</td>\n",
       "      <td>-0.065491</td>\n",
       "      <td>0.023162</td>\n",
       "      <td>-0.075895</td>\n",
       "      <td>-0.003522</td>\n",
       "      <td>-0.107265</td>\n",
       "      <td>-0.13871</td>\n",
       "      <td>0.116586</td>\n",
       "      <td>-0.10981</td>\n",
       "      <td>-0.118314</td>\n",
       "    </tr>\n",
       "  </tbody>\n",
       "</table>\n",
       "<p>1 rows × 25 columns</p>\n",
       "</div>"
      ],
      "text/plain": [
       "                    PC0       PC1       PC2       PC3       PC4      PC5  \\\n",
       "ztf_object_id                                                              \n",
       "ZTF21aassamj  -0.587521  0.070572 -0.126513  0.394259  0.943086 -0.21293   \n",
       "\n",
       "                    PC6       PC7       PC8       PC9  ...      PC15  \\\n",
       "ztf_object_id                                          ...             \n",
       "ZTF21aassamj  -0.178959  0.210465  0.176929  0.062475  ... -0.125544   \n",
       "\n",
       "                   PC16      PC17      PC18      PC19      PC20     PC21  \\\n",
       "ztf_object_id                                                              \n",
       "ZTF21aassamj  -0.065491  0.023162 -0.075895 -0.003522 -0.107265 -0.13871   \n",
       "\n",
       "                   PC22     PC23      PC24  \n",
       "ztf_object_id                               \n",
       "ZTF21aassamj   0.116586 -0.10981 -0.118314  \n",
       "\n",
       "[1 rows x 25 columns]"
      ]
     },
     "execution_count": 7,
     "metadata": {},
     "output_type": "execute_result"
    }
   ],
   "source": [
    "# Reference\n",
    "# ZTF21aassamj\tdataset_bank.iloc[-5:-4] is good Ia\n",
    "\n",
    "#with PCA\n",
    "dataset_bank = dataset_bank_pca.copy()\n",
    "\n",
    "\n",
    "# # No PCA\n",
    "# dataset_bank = dataset_bank_orig.copy()\n",
    "\n",
    "\n",
    "dataset_ref = dataset_bank[dataset_bank.index == 'ZTF21aassamj'] # SN ia (lower first ANN dist), 0.3478 [eucl.], 2.1561 [manhattan], 21.8293 [dot], 0 for first 3, then 1,2... [hamming], 0.077 [angular]\n",
    "#dataset_ref = dataset_bank[dataset_bank.index == 'ZTF20abwrcmq'] # SN iax ,  , 3.5786 [manhattan]\n",
    "#dataset_ref = dataset_bank[dataset_bank.index == 'ZTF18abuicad'] # SLSN z=0.135, , 4.449 [manhattan]\n",
    "#dataset_ref = dataset_bank[dataset_bank.index == 'ZTF20abqkbfx'] # Ia-CSM , , 4.0267 [manhattan], 4 is first match, then 5 [hamming]\n",
    "#dataset_ref = dataset_bank[dataset_bank.index == 'ZTF20achncvv']  # SLSN-II\n",
    "#dataset_ref = dataset_bank[dataset_bank.index == 'ZTF20acpbdvm'] # SN II , , 2.3857 [manhattan], 0.088 [angular]\n",
    "#dataset_ref = dataset_bank[dataset_bank.index == 'ZTF20acveyyv'] # SN IIn\n",
    "#dataset_ref = dataset_bank[dataset_bank.index == 'ZTF18abktckv'] # Lensing (high first ANN dist), 0.7893, 4.5839 [manhattan], 21.5625 [dot], 8! for first one, then 9,10... [hamming], 0.1678 [angular]\n",
    "#dataset_ref = dataset_bank[dataset_bank.index == 'ZTF20achutoz'] # junk\n",
    "#dataset_ref = dataset_bank[dataset_bank.index == 'ZTF18abtkeaf'] # star #ZTF18acdqrna #ZTF19aapunrg #ZTF18abtkeaf\n",
    "dataset_ref "
   ]
  },
  {
   "cell_type": "code",
   "execution_count": 8,
   "id": "0c97284d",
   "metadata": {
    "scrolled": false
   },
   "outputs": [
    {
     "name": "stdout",
     "output_type": "stream",
     "text": [
      "ZTF ID name (ref) ZTF21aassamj\n"
     ]
    },
    {
     "data": {
      "text/markdown": [
       "https://alerce.online/object/ZTF21aassamj"
      ]
     },
     "metadata": {},
     "output_type": "display_data"
    },
    {
     "name": "stdout",
     "output_type": "stream",
     "text": [
      "None\n",
      "%%%%%%\n",
      "ANN\t\tIDX\t\t\t\tZTF_id\t\t\t\tDIST\n"
     ]
    },
    {
     "data": {
      "text/markdown": [
       "https://alerce.online/object/ZTF21aassamj"
      ]
     },
     "metadata": {},
     "output_type": "display_data"
    },
    {
     "name": "stdout",
     "output_type": "stream",
     "text": [
      "0\t\t90181\t\t\t\tNone\t\t\t0.0\n"
     ]
    },
    {
     "data": {
      "text/markdown": [
       "https://alerce.online/object/ZTF20acwnrty"
      ]
     },
     "metadata": {},
     "output_type": "display_data"
    },
    {
     "name": "stdout",
     "output_type": "stream",
     "text": [
      "1\t\t17019\t\t\t\tNone\t\t\t0.2339\n"
     ]
    },
    {
     "data": {
      "text/markdown": [
       "https://alerce.online/object/ZTF20acnvlgg"
      ]
     },
     "metadata": {},
     "output_type": "display_data"
    },
    {
     "name": "stdout",
     "output_type": "stream",
     "text": [
      "2\t\t5478\t\t\t\tNone\t\t\t0.2872\n"
     ]
    },
    {
     "data": {
      "text/markdown": [
       "https://alerce.online/object/ZTF21aanwfjk"
      ]
     },
     "metadata": {},
     "output_type": "display_data"
    },
    {
     "name": "stdout",
     "output_type": "stream",
     "text": [
      "3\t\t46111\t\t\t\tNone\t\t\t0.3016\n"
     ]
    },
    {
     "data": {
      "text/markdown": [
       "https://alerce.online/object/ZTF21aaswvyc"
      ]
     },
     "metadata": {},
     "output_type": "display_data"
    },
    {
     "name": "stdout",
     "output_type": "stream",
     "text": [
      "4\t\t15214\t\t\t\tNone\t\t\t0.3209\n"
     ]
    },
    {
     "data": {
      "text/markdown": [
       "https://alerce.online/object/ZTF18acybdar"
      ]
     },
     "metadata": {},
     "output_type": "display_data"
    },
    {
     "name": "stdout",
     "output_type": "stream",
     "text": [
      "5\t\t4456\t\t\t\tNone\t\t\t0.3412\n"
     ]
    },
    {
     "data": {
      "text/markdown": [
       "https://alerce.online/object/ZTF21aavqwhh"
      ]
     },
     "metadata": {},
     "output_type": "display_data"
    },
    {
     "name": "stdout",
     "output_type": "stream",
     "text": [
      "6\t\t82995\t\t\t\tNone\t\t\t0.3437\n"
     ]
    },
    {
     "data": {
      "text/markdown": [
       "https://alerce.online/object/ZTF21aawzsew"
      ]
     },
     "metadata": {},
     "output_type": "display_data"
    },
    {
     "name": "stdout",
     "output_type": "stream",
     "text": [
      "7\t\t70057\t\t\t\tNone\t\t\t0.3461\n"
     ]
    },
    {
     "data": {
      "text/markdown": [
       "https://alerce.online/object/ZTF21abjeyoh"
      ]
     },
     "metadata": {},
     "output_type": "display_data"
    },
    {
     "name": "stdout",
     "output_type": "stream",
     "text": [
      "8\t\t62841\t\t\t\tNone\t\t\t0.364\n"
     ]
    },
    {
     "data": {
      "text/markdown": [
       "https://alerce.online/object/ZTF21aapkvrd"
      ]
     },
     "metadata": {},
     "output_type": "display_data"
    },
    {
     "name": "stdout",
     "output_type": "stream",
     "text": [
      "9\t\t8026\t\t\t\tNone\t\t\t0.3879\n"
     ]
    }
   ],
   "source": [
    "# feat_arr_ref = np.vstack(np.array(dataset_ref, dtype='object'))\n",
    "# scaled_feat_arr_ref = scaler.transform(feat_arr_ref) #scaler.transform(feat_arr) # What your model learns on\n",
    "# #scaled_feat_arr_ref = scaler.fit_transform(feat_arr_ref) #scaler.transform(feat_arr) # What your model learns on\n",
    "\n",
    "# Scalar then PCA\n",
    "scaled_feat_arr_ref = np.array(dataset_ref)\n",
    "\n",
    "# # PCA only\n",
    "# feat_arr_ref = np.vstack(np.array(dataset_ref, dtype='object'))\n",
    "# scaled_feat_arr_ref = feat_arr_ref\n",
    "\n",
    "# #PCA then scaler\n",
    "# feat_arr_ref = np.vstack(np.array(dataset_ref, dtype='object'))\n",
    "# scaled_feat_arr_ref = feat_arr_ref\n",
    "\n",
    "ztf_id = dataset_ref.index.values[0]\n",
    "lcdata = {'name': ztf_id, 'vector': scaled_feat_arr_ref[0]}\n",
    "#lcdata = {'name': ztf_id, 'vector': feat_arr_scaled[-5:-4][0]}\n",
    "\n",
    "#result_id, result_dist = index.index.get_nns_by_item(, n=10, include_distances=True)\n",
    "result_id, result_dist = index.index.get_nns_by_vector(lcdata['vector'], n=10, include_distances=True)\n",
    "#result_name = index.query(lcdata['vector'])\n",
    "\n",
    "print(f\"ZTF ID name (ref) {ztf_id}\") \n",
    "link_ref = display_markdown(f'https://alerce.online/object/{ztf_id}', raw=True)\n",
    "print(link_ref)\n",
    "print(\"%%%%%%\")\n",
    "print(\"ANN\\t\\tIDX\\t\\t\\t\\tZTF_id\\t\\t\\t\\tDIST\")#\\tFEAT\")\n",
    "for n, (i, d) in enumerate(zip(result_id, result_dist)):#, feat_arr):\n",
    "    print(f\"{n}\\t\\t{i}\\t\\t\\t\\t{display_markdown(f'https://alerce.online/object/{idx_arr[i]}', raw=True)}\\t\\t\\t{round(d, 4)}\")#\\t{f}\")"
   ]
  },
  {
   "cell_type": "code",
   "execution_count": 9,
   "id": "334c566f",
   "metadata": {},
   "outputs": [
    {
     "data": {
      "text/html": [
       "<div>\n",
       "<style scoped>\n",
       "    .dataframe tbody tr th:only-of-type {\n",
       "        vertical-align: middle;\n",
       "    }\n",
       "\n",
       "    .dataframe tbody tr th {\n",
       "        vertical-align: top;\n",
       "    }\n",
       "\n",
       "    .dataframe thead th {\n",
       "        text-align: right;\n",
       "    }\n",
       "</style>\n",
       "<table border=\"1\" class=\"dataframe\">\n",
       "  <thead>\n",
       "    <tr style=\"text-align: right;\">\n",
       "      <th></th>\n",
       "      <th>PC0</th>\n",
       "      <th>PC1</th>\n",
       "      <th>PC2</th>\n",
       "      <th>PC3</th>\n",
       "      <th>PC4</th>\n",
       "      <th>PC5</th>\n",
       "      <th>PC6</th>\n",
       "      <th>PC7</th>\n",
       "      <th>PC8</th>\n",
       "      <th>PC9</th>\n",
       "      <th>...</th>\n",
       "      <th>PC15</th>\n",
       "      <th>PC16</th>\n",
       "      <th>PC17</th>\n",
       "      <th>PC18</th>\n",
       "      <th>PC19</th>\n",
       "      <th>PC20</th>\n",
       "      <th>PC21</th>\n",
       "      <th>PC22</th>\n",
       "      <th>PC23</th>\n",
       "      <th>PC24</th>\n",
       "    </tr>\n",
       "    <tr>\n",
       "      <th>ztf_object_id</th>\n",
       "      <th></th>\n",
       "      <th></th>\n",
       "      <th></th>\n",
       "      <th></th>\n",
       "      <th></th>\n",
       "      <th></th>\n",
       "      <th></th>\n",
       "      <th></th>\n",
       "      <th></th>\n",
       "      <th></th>\n",
       "      <th></th>\n",
       "      <th></th>\n",
       "      <th></th>\n",
       "      <th></th>\n",
       "      <th></th>\n",
       "      <th></th>\n",
       "      <th></th>\n",
       "      <th></th>\n",
       "      <th></th>\n",
       "      <th></th>\n",
       "      <th></th>\n",
       "    </tr>\n",
       "  </thead>\n",
       "  <tbody>\n",
       "    <tr>\n",
       "      <th>ZTF21aassamj</th>\n",
       "      <td>-0.587521</td>\n",
       "      <td>0.070572</td>\n",
       "      <td>-0.126513</td>\n",
       "      <td>0.394259</td>\n",
       "      <td>0.943086</td>\n",
       "      <td>-0.212930</td>\n",
       "      <td>-0.178959</td>\n",
       "      <td>0.210465</td>\n",
       "      <td>0.176929</td>\n",
       "      <td>0.062475</td>\n",
       "      <td>...</td>\n",
       "      <td>-0.125544</td>\n",
       "      <td>-0.065491</td>\n",
       "      <td>0.023162</td>\n",
       "      <td>-0.075895</td>\n",
       "      <td>-0.003522</td>\n",
       "      <td>-0.107265</td>\n",
       "      <td>-0.138710</td>\n",
       "      <td>0.116586</td>\n",
       "      <td>-0.109810</td>\n",
       "      <td>-0.118314</td>\n",
       "    </tr>\n",
       "    <tr>\n",
       "      <th>ZTF20acwnrty</th>\n",
       "      <td>-0.570213</td>\n",
       "      <td>0.034169</td>\n",
       "      <td>-0.065447</td>\n",
       "      <td>0.401728</td>\n",
       "      <td>0.934496</td>\n",
       "      <td>-0.195782</td>\n",
       "      <td>-0.091707</td>\n",
       "      <td>0.226873</td>\n",
       "      <td>0.166903</td>\n",
       "      <td>0.073626</td>\n",
       "      <td>...</td>\n",
       "      <td>-0.067060</td>\n",
       "      <td>-0.115091</td>\n",
       "      <td>0.005582</td>\n",
       "      <td>-0.009201</td>\n",
       "      <td>-0.047786</td>\n",
       "      <td>-0.123200</td>\n",
       "      <td>-0.115964</td>\n",
       "      <td>0.083710</td>\n",
       "      <td>-0.096265</td>\n",
       "      <td>0.019538</td>\n",
       "    </tr>\n",
       "    <tr>\n",
       "      <th>ZTF20acnvlgg</th>\n",
       "      <td>-0.589578</td>\n",
       "      <td>0.112118</td>\n",
       "      <td>-0.134781</td>\n",
       "      <td>0.467056</td>\n",
       "      <td>1.039584</td>\n",
       "      <td>-0.111479</td>\n",
       "      <td>-0.150210</td>\n",
       "      <td>0.232211</td>\n",
       "      <td>0.263105</td>\n",
       "      <td>0.044815</td>\n",
       "      <td>...</td>\n",
       "      <td>-0.106355</td>\n",
       "      <td>-0.033343</td>\n",
       "      <td>-0.031127</td>\n",
       "      <td>-0.086110</td>\n",
       "      <td>-0.011866</td>\n",
       "      <td>-0.039453</td>\n",
       "      <td>-0.026757</td>\n",
       "      <td>0.075698</td>\n",
       "      <td>-0.157482</td>\n",
       "      <td>-0.079921</td>\n",
       "    </tr>\n",
       "    <tr>\n",
       "      <th>ZTF21aanwfjk</th>\n",
       "      <td>-0.597311</td>\n",
       "      <td>-0.019940</td>\n",
       "      <td>-0.180887</td>\n",
       "      <td>0.303186</td>\n",
       "      <td>0.896591</td>\n",
       "      <td>-0.190956</td>\n",
       "      <td>-0.093992</td>\n",
       "      <td>0.159115</td>\n",
       "      <td>0.242351</td>\n",
       "      <td>0.021442</td>\n",
       "      <td>...</td>\n",
       "      <td>-0.148382</td>\n",
       "      <td>-0.066381</td>\n",
       "      <td>0.000180</td>\n",
       "      <td>0.039943</td>\n",
       "      <td>0.057662</td>\n",
       "      <td>-0.080680</td>\n",
       "      <td>-0.114610</td>\n",
       "      <td>0.144294</td>\n",
       "      <td>-0.137161</td>\n",
       "      <td>-0.065118</td>\n",
       "    </tr>\n",
       "    <tr>\n",
       "      <th>ZTF21aaswvyc</th>\n",
       "      <td>-0.676021</td>\n",
       "      <td>-0.087664</td>\n",
       "      <td>-0.021890</td>\n",
       "      <td>0.445203</td>\n",
       "      <td>0.906650</td>\n",
       "      <td>-0.232044</td>\n",
       "      <td>-0.078571</td>\n",
       "      <td>0.130160</td>\n",
       "      <td>0.138213</td>\n",
       "      <td>0.068095</td>\n",
       "      <td>...</td>\n",
       "      <td>-0.052797</td>\n",
       "      <td>-0.042542</td>\n",
       "      <td>0.042463</td>\n",
       "      <td>-0.039908</td>\n",
       "      <td>0.008036</td>\n",
       "      <td>-0.075868</td>\n",
       "      <td>-0.152628</td>\n",
       "      <td>0.132114</td>\n",
       "      <td>-0.032558</td>\n",
       "      <td>-0.022682</td>\n",
       "    </tr>\n",
       "    <tr>\n",
       "      <th>ZTF18acybdar</th>\n",
       "      <td>-0.549718</td>\n",
       "      <td>0.042921</td>\n",
       "      <td>-0.202282</td>\n",
       "      <td>0.430677</td>\n",
       "      <td>0.896244</td>\n",
       "      <td>-0.110288</td>\n",
       "      <td>-0.137779</td>\n",
       "      <td>0.208039</td>\n",
       "      <td>0.209296</td>\n",
       "      <td>0.053679</td>\n",
       "      <td>...</td>\n",
       "      <td>-0.057658</td>\n",
       "      <td>-0.023276</td>\n",
       "      <td>-0.055530</td>\n",
       "      <td>-0.041618</td>\n",
       "      <td>-0.049878</td>\n",
       "      <td>0.025804</td>\n",
       "      <td>-0.176749</td>\n",
       "      <td>0.075036</td>\n",
       "      <td>-0.027130</td>\n",
       "      <td>-0.199218</td>\n",
       "    </tr>\n",
       "    <tr>\n",
       "      <th>ZTF21aavqwhh</th>\n",
       "      <td>-0.613919</td>\n",
       "      <td>-0.113277</td>\n",
       "      <td>-0.055076</td>\n",
       "      <td>0.327895</td>\n",
       "      <td>0.904119</td>\n",
       "      <td>-0.112637</td>\n",
       "      <td>-0.115731</td>\n",
       "      <td>0.181163</td>\n",
       "      <td>0.270483</td>\n",
       "      <td>0.051429</td>\n",
       "      <td>...</td>\n",
       "      <td>-0.041757</td>\n",
       "      <td>-0.051719</td>\n",
       "      <td>0.063423</td>\n",
       "      <td>-0.071583</td>\n",
       "      <td>0.065967</td>\n",
       "      <td>-0.030456</td>\n",
       "      <td>-0.111697</td>\n",
       "      <td>0.069765</td>\n",
       "      <td>-0.083211</td>\n",
       "      <td>-0.049772</td>\n",
       "    </tr>\n",
       "    <tr>\n",
       "      <th>ZTF21aawzsew</th>\n",
       "      <td>-0.725151</td>\n",
       "      <td>0.042928</td>\n",
       "      <td>-0.192530</td>\n",
       "      <td>0.517175</td>\n",
       "      <td>0.974893</td>\n",
       "      <td>-0.103694</td>\n",
       "      <td>-0.156921</td>\n",
       "      <td>0.282620</td>\n",
       "      <td>0.160099</td>\n",
       "      <td>-0.030958</td>\n",
       "      <td>...</td>\n",
       "      <td>-0.099074</td>\n",
       "      <td>0.039474</td>\n",
       "      <td>0.054926</td>\n",
       "      <td>0.017550</td>\n",
       "      <td>0.080260</td>\n",
       "      <td>-0.040470</td>\n",
       "      <td>-0.159244</td>\n",
       "      <td>0.096470</td>\n",
       "      <td>-0.050289</td>\n",
       "      <td>-0.157567</td>\n",
       "    </tr>\n",
       "    <tr>\n",
       "      <th>ZTF21abjeyoh</th>\n",
       "      <td>-0.658946</td>\n",
       "      <td>0.083789</td>\n",
       "      <td>-0.241590</td>\n",
       "      <td>0.437300</td>\n",
       "      <td>0.944343</td>\n",
       "      <td>-0.219907</td>\n",
       "      <td>-0.120674</td>\n",
       "      <td>0.251285</td>\n",
       "      <td>0.169135</td>\n",
       "      <td>-0.039792</td>\n",
       "      <td>...</td>\n",
       "      <td>-0.082187</td>\n",
       "      <td>-0.082120</td>\n",
       "      <td>-0.026031</td>\n",
       "      <td>-0.015639</td>\n",
       "      <td>-0.052800</td>\n",
       "      <td>0.057746</td>\n",
       "      <td>-0.021844</td>\n",
       "      <td>0.187007</td>\n",
       "      <td>-0.004168</td>\n",
       "      <td>-0.087231</td>\n",
       "    </tr>\n",
       "    <tr>\n",
       "      <th>ZTF21aapkvrd</th>\n",
       "      <td>-0.730037</td>\n",
       "      <td>0.019770</td>\n",
       "      <td>-0.135842</td>\n",
       "      <td>0.565828</td>\n",
       "      <td>0.978372</td>\n",
       "      <td>-0.207775</td>\n",
       "      <td>-0.089809</td>\n",
       "      <td>0.122179</td>\n",
       "      <td>0.088609</td>\n",
       "      <td>-0.055182</td>\n",
       "      <td>...</td>\n",
       "      <td>-0.091469</td>\n",
       "      <td>-0.028057</td>\n",
       "      <td>-0.079978</td>\n",
       "      <td>0.041514</td>\n",
       "      <td>0.009236</td>\n",
       "      <td>-0.088307</td>\n",
       "      <td>-0.142596</td>\n",
       "      <td>0.085564</td>\n",
       "      <td>0.008112</td>\n",
       "      <td>-0.057547</td>\n",
       "    </tr>\n",
       "  </tbody>\n",
       "</table>\n",
       "<p>10 rows × 25 columns</p>\n",
       "</div>"
      ],
      "text/plain": [
       "                    PC0       PC1       PC2       PC3       PC4       PC5  \\\n",
       "ztf_object_id                                                               \n",
       "ZTF21aassamj  -0.587521  0.070572 -0.126513  0.394259  0.943086 -0.212930   \n",
       "ZTF20acwnrty  -0.570213  0.034169 -0.065447  0.401728  0.934496 -0.195782   \n",
       "ZTF20acnvlgg  -0.589578  0.112118 -0.134781  0.467056  1.039584 -0.111479   \n",
       "ZTF21aanwfjk  -0.597311 -0.019940 -0.180887  0.303186  0.896591 -0.190956   \n",
       "ZTF21aaswvyc  -0.676021 -0.087664 -0.021890  0.445203  0.906650 -0.232044   \n",
       "ZTF18acybdar  -0.549718  0.042921 -0.202282  0.430677  0.896244 -0.110288   \n",
       "ZTF21aavqwhh  -0.613919 -0.113277 -0.055076  0.327895  0.904119 -0.112637   \n",
       "ZTF21aawzsew  -0.725151  0.042928 -0.192530  0.517175  0.974893 -0.103694   \n",
       "ZTF21abjeyoh  -0.658946  0.083789 -0.241590  0.437300  0.944343 -0.219907   \n",
       "ZTF21aapkvrd  -0.730037  0.019770 -0.135842  0.565828  0.978372 -0.207775   \n",
       "\n",
       "                    PC6       PC7       PC8       PC9  ...      PC15  \\\n",
       "ztf_object_id                                          ...             \n",
       "ZTF21aassamj  -0.178959  0.210465  0.176929  0.062475  ... -0.125544   \n",
       "ZTF20acwnrty  -0.091707  0.226873  0.166903  0.073626  ... -0.067060   \n",
       "ZTF20acnvlgg  -0.150210  0.232211  0.263105  0.044815  ... -0.106355   \n",
       "ZTF21aanwfjk  -0.093992  0.159115  0.242351  0.021442  ... -0.148382   \n",
       "ZTF21aaswvyc  -0.078571  0.130160  0.138213  0.068095  ... -0.052797   \n",
       "ZTF18acybdar  -0.137779  0.208039  0.209296  0.053679  ... -0.057658   \n",
       "ZTF21aavqwhh  -0.115731  0.181163  0.270483  0.051429  ... -0.041757   \n",
       "ZTF21aawzsew  -0.156921  0.282620  0.160099 -0.030958  ... -0.099074   \n",
       "ZTF21abjeyoh  -0.120674  0.251285  0.169135 -0.039792  ... -0.082187   \n",
       "ZTF21aapkvrd  -0.089809  0.122179  0.088609 -0.055182  ... -0.091469   \n",
       "\n",
       "                   PC16      PC17      PC18      PC19      PC20      PC21  \\\n",
       "ztf_object_id                                                               \n",
       "ZTF21aassamj  -0.065491  0.023162 -0.075895 -0.003522 -0.107265 -0.138710   \n",
       "ZTF20acwnrty  -0.115091  0.005582 -0.009201 -0.047786 -0.123200 -0.115964   \n",
       "ZTF20acnvlgg  -0.033343 -0.031127 -0.086110 -0.011866 -0.039453 -0.026757   \n",
       "ZTF21aanwfjk  -0.066381  0.000180  0.039943  0.057662 -0.080680 -0.114610   \n",
       "ZTF21aaswvyc  -0.042542  0.042463 -0.039908  0.008036 -0.075868 -0.152628   \n",
       "ZTF18acybdar  -0.023276 -0.055530 -0.041618 -0.049878  0.025804 -0.176749   \n",
       "ZTF21aavqwhh  -0.051719  0.063423 -0.071583  0.065967 -0.030456 -0.111697   \n",
       "ZTF21aawzsew   0.039474  0.054926  0.017550  0.080260 -0.040470 -0.159244   \n",
       "ZTF21abjeyoh  -0.082120 -0.026031 -0.015639 -0.052800  0.057746 -0.021844   \n",
       "ZTF21aapkvrd  -0.028057 -0.079978  0.041514  0.009236 -0.088307 -0.142596   \n",
       "\n",
       "                   PC22      PC23      PC24  \n",
       "ztf_object_id                                \n",
       "ZTF21aassamj   0.116586 -0.109810 -0.118314  \n",
       "ZTF20acwnrty   0.083710 -0.096265  0.019538  \n",
       "ZTF20acnvlgg   0.075698 -0.157482 -0.079921  \n",
       "ZTF21aanwfjk   0.144294 -0.137161 -0.065118  \n",
       "ZTF21aaswvyc   0.132114 -0.032558 -0.022682  \n",
       "ZTF18acybdar   0.075036 -0.027130 -0.199218  \n",
       "ZTF21aavqwhh   0.069765 -0.083211 -0.049772  \n",
       "ZTF21aawzsew   0.096470 -0.050289 -0.157567  \n",
       "ZTF21abjeyoh   0.187007 -0.004168 -0.087231  \n",
       "ZTF21aapkvrd   0.085564  0.008112 -0.057547  \n",
       "\n",
       "[10 rows x 25 columns]"
      ]
     },
     "execution_count": 9,
     "metadata": {},
     "output_type": "execute_result"
    }
   ],
   "source": [
    "results_df = dataset_bank[dataset_bank.index.isin(idx_arr[result_id])]\n",
    "results_df = results_df.reindex(idx_arr[result_id])\n",
    "results_df"
   ]
  },
  {
   "cell_type": "code",
   "execution_count": 10,
   "id": "db9edd74",
   "metadata": {},
   "outputs": [
    {
     "data": {
      "image/png": "[encoded data removed]",
      "text/plain": [
       "<Figure size 432x288 with 1 Axes>"
      ]
     },
     "metadata": {
      "needs_background": "light"
     },
     "output_type": "display_data"
    },
    {
     "data": {
      "image/png": "[encoded data removed]",
      "text/plain": [
       "<Figure size 432x288 with 1 Axes>"
      ]
     },
     "metadata": {
      "needs_background": "light"
     },
     "output_type": "display_data"
    },
    {
     "data": {
      "image/png": "[encoded data removed]",
      "text/plain": [
       "<Figure size 432x288 with 1 Axes>"
      ]
     },
     "metadata": {
      "needs_background": "light"
     },
     "output_type": "display_data"
    },
    {
     "data": {
      "image/png": "[encoded data removed]",
      "text/plain": [
       "<Figure size 432x288 with 1 Axes>"
      ]
     },
     "metadata": {
      "needs_background": "light"
     },
     "output_type": "display_data"
    },
    {
     "data": {
      "image/png": "[encoded data removed]",
      "text/plain": [
       "<Figure size 432x288 with 1 Axes>"
      ]
     },
     "metadata": {
      "needs_background": "light"
     },
     "output_type": "display_data"
    },
    {
     "data": {
      "image/png": "[encoded data removed]",
      "text/plain": [
       "<Figure size 432x288 with 1 Axes>"
      ]
     },
     "metadata": {
      "needs_background": "light"
     },
     "output_type": "display_data"
    },
    {
     "data": {
      "image/png": "[encoded data removed]",
      "text/plain": [
       "<Figure size 432x288 with 1 Axes>"
      ]
     },
     "metadata": {
      "needs_background": "light"
     },
     "output_type": "display_data"
    },
    {
     "data": {
      "image/png": "[encoded data removed]",
      "text/plain": [
       "<Figure size 432x288 with 1 Axes>"
      ]
     },
     "metadata": {
      "needs_background": "light"
     },
     "output_type": "display_data"
    },
    {
     "data": {
      "image/png": "[encoded data removed]",
      "text/plain": [
       "<Figure size 432x288 with 1 Axes>"
      ]
     },
     "metadata": {
      "needs_background": "light"
     },
     "output_type": "display_data"
    },
    {
     "data": {
      "image/png": "[encoded data removed]",
      "text/plain": [
       "<Figure size 432x288 with 1 Axes>"
      ]
     },
     "metadata": {
      "needs_background": "light"
     },
     "output_type": "display_data"
    },
    {
     "data": {
      "image/png": "[encoded data removed]",
      "text/plain": [
       "<Figure size 432x288 with 1 Axes>"
      ]
     },
     "metadata": {
      "needs_background": "light"
     },
     "output_type": "display_data"
    },
    {
     "data": {
      "image/png": "[encoded data removed]",
      "text/plain": [
       "<Figure size 432x288 with 1 Axes>"
      ]
     },
     "metadata": {
      "needs_background": "light"
     },
     "output_type": "display_data"
    },
    {
     "data": {
      "image/png": "[encoded data removed]",
      "text/plain": [
       "<Figure size 432x288 with 1 Axes>"
      ]
     },
     "metadata": {
      "needs_background": "light"
     },
     "output_type": "display_data"
    },
    {
     "data": {
      "image/png": "[encoded data removed]",
      "text/plain": [
       "<Figure size 432x288 with 1 Axes>"
      ]
     },
     "metadata": {
      "needs_background": "light"
     },
     "output_type": "display_data"
    },
    {
     "data": {
      "image/png": "[encoded data removed]",
      "text/plain": [
       "<Figure size 432x288 with 1 Axes>"
      ]
     },
     "metadata": {
      "needs_background": "light"
     },
     "output_type": "display_data"
    },
    {
     "data": {
      "image/png": "[encoded data removed]",
      "text/plain": [
       "<Figure size 432x288 with 1 Axes>"
      ]
     },
     "metadata": {
      "needs_background": "light"
     },
     "output_type": "display_data"
    },
    {
     "data": {
      "image/png": "[encoded data removed]",
      "text/plain": [
       "<Figure size 432x288 with 1 Axes>"
      ]
     },
     "metadata": {
      "needs_background": "light"
     },
     "output_type": "display_data"
    },
    {
     "data": {
      "image/png": "[encoded data removed]",
      "text/plain": [
       "<Figure size 432x288 with 1 Axes>"
      ]
     },
     "metadata": {
      "needs_background": "light"
     },
     "output_type": "display_data"
    },
    {
     "data": {
      "image/png": "[encoded data removed]",
      "text/plain": [
       "<Figure size 432x288 with 1 Axes>"
      ]
     },
     "metadata": {
      "needs_background": "light"
     },
     "output_type": "display_data"
    },
    {
     "data": {
      "image/png": "[encoded data removed]",
      "text/plain": [
       "<Figure size 432x288 with 1 Axes>"
      ]
     },
     "metadata": {
      "needs_background": "light"
     },
     "output_type": "display_data"
    },
    {
     "data": {
      "image/png": "[encoded data removed]",
      "text/plain": [
       "<Figure size 432x288 with 1 Axes>"
      ]
     },
     "metadata": {
      "needs_background": "light"
     },
     "output_type": "display_data"
    },
    {
     "data": {
      "image/png": "[encoded data removed]",
      "text/plain": [
       "<Figure size 432x288 with 1 Axes>"
      ]
     },
     "metadata": {
      "needs_background": "light"
     },
     "output_type": "display_data"
    },
    {
     "data": {
      "image/png": "[encoded data removed]",
      "text/plain": [
       "<Figure size 432x288 with 1 Axes>"
      ]
     },
     "metadata": {
      "needs_background": "light"
     },
     "output_type": "display_data"
    },
    {
     "data": {
      "image/png": "[encoded data removed]",
      "text/plain": [
       "<Figure size 432x288 with 1 Axes>"
      ]
     },
     "metadata": {
      "needs_background": "light"
     },
     "output_type": "display_data"
    },
    {
     "data": {
      "image/png": "[encoded data removed]",
      "text/plain": [
       "<Figure size 432x288 with 1 Axes>"
      ]
     },
     "metadata": {
      "needs_background": "light"
     },
     "output_type": "display_data"
    }
   ],
   "source": [
    "feat_scatter_l = []\n",
    "for feat in results_df.columns:\n",
    "    fig, ax = plt.subplots()\n",
    "    min_feat, max_feat = np.min(dataset_bank[feat]), np.max(dataset_bank[feat])\n",
    "    \n",
    "    ax.hist(results_df[feat], bins=np.linspace(min_feat, max_feat, 50))\n",
    "    ax.set_title(feat)\n",
    "    ax.set_xlim(min_feat, max_feat)\n",
    "    \n",
    "    plt.show()\n",
    "    \n",
    "    feat_scatter = np.std(results_df[feat])\n",
    "    feat_scatter_l.append(feat_scatter)    "
   ]
  },
  {
   "cell_type": "code",
   "execution_count": 11,
   "id": "d64a6e8e",
   "metadata": {},
   "outputs": [
    {
     "name": "stdout",
     "output_type": "stream",
     "text": [
      "Scatter mean: 0.05074030092914212\n",
      "Scatter median: 0.049975244222419446\n",
      "Scatter std: 0.01086311232852437\n",
      "Scatter max: 0.07502083783490031\n",
      "Scatter min: 0.03189186960037152\n"
     ]
    }
   ],
   "source": [
    "print(\"Scatter mean:\", np.mean(feat_scatter_l))\n",
    "print(\"Scatter median:\", np.median(feat_scatter_l))\n",
    "print(\"Scatter std:\", np.std(feat_scatter_l))\n",
    "print(\"Scatter max:\", np.max(feat_scatter_l))\n",
    "print(\"Scatter min:\", np.min(feat_scatter_l))"
   ]
  },
  {
   "cell_type": "code",
   "execution_count": 82,
   "id": "6e0a12fc",
   "metadata": {},
   "outputs": [
    {
     "data": {
      "text/plain": [
       "['ZTF17aaaacoy',\n",
       " 'ZTF17aaaacsm',\n",
       " 'ZTF17aaaadml',\n",
       " 'ZTF17aaaaemx',\n",
       " 'ZTF17aaaaene',\n",
       " 'ZTF17aaaaenu',\n",
       " 'ZTF17aaaaess',\n",
       " 'ZTF17aaaaewv',\n",
       " 'ZTF17aaaankp',\n",
       " 'ZTF17aaaaxzi',\n",
       " 'ZTF17aaaayua',\n",
       " 'ZTF17aaaayzx',\n",
       " 'ZTF17aaaazhi',\n",
       " 'ZTF17aaaazkn',\n",
       " 'ZTF17aaaazmz',\n",
       " 'ZTF17aaabgbh',\n",
       " 'ZTF17aaabgbm',\n",
       " 'ZTF17aaabgby',\n",
       " 'ZTF17aaabgdz',\n",
       " 'ZTF17aaabgep',\n",
       " 'ZTF17aaabghb',\n",
       " 'ZTF17aaabgil',\n",
       " 'ZTF17aaabgpy',\n",
       " 'ZTF17aaabgsl',\n",
       " 'ZTF17aaabmmo',\n",
       " 'ZTF17aaabuab',\n",
       " 'ZTF17aaaccjr',\n",
       " 'ZTF17aaaccnn',\n",
       " 'ZTF17aaaceht',\n",
       " 'ZTF17aaaceyf',\n",
       " 'ZTF17aaaczhj',\n",
       " 'ZTF17aaadars',\n",
       " 'ZTF17aaadasl',\n",
       " 'ZTF17aaadlcq',\n",
       " 'ZTF17aaadlhe',\n",
       " 'ZTF17aaadndc',\n",
       " 'ZTF17aaadoqi',\n",
       " 'ZTF17aaadozl',\n",
       " 'ZTF17aaadpdd',\n",
       " 'ZTF17aaadpkb',\n",
       " 'ZTF17aaadpkl',\n",
       " 'ZTF17aaadpkz',\n",
       " 'ZTF17aaadqae',\n",
       " 'ZTF17aaadqdy',\n",
       " 'ZTF17aaadqyf',\n",
       " 'ZTF17aaadrbc',\n",
       " 'ZTF17aaadroa',\n",
       " 'ZTF17aaadrrq',\n",
       " 'ZTF17aaaduyi',\n",
       " 'ZTF17aaaduzw',\n",
       " 'ZTF17aaadvan',\n",
       " 'ZTF17aaadvbj',\n",
       " 'ZTF17aaadvbq',\n",
       " 'ZTF17aaadvfh',\n",
       " 'ZTF17aaadvfi',\n",
       " 'ZTF17aaadvmt',\n",
       " 'ZTF17aaaegxm',\n",
       " 'ZTF17aaaehfq',\n",
       " 'ZTF17aaaehps',\n",
       " 'ZTF17aaaehqn',\n",
       " 'ZTF17aaaehqx',\n",
       " 'ZTF17aaaehsl',\n",
       " 'ZTF17aaaehtk',\n",
       " 'ZTF17aaaehva',\n",
       " 'ZTF17aaaehvi',\n",
       " 'ZTF17aaaehvr',\n",
       " 'ZTF17aaaehwa',\n",
       " 'ZTF17aaaehyz',\n",
       " 'ZTF17aaaehzb',\n",
       " 'ZTF17aaaehzh',\n",
       " 'ZTF17aaaeikz',\n",
       " 'ZTF17aaaeila',\n",
       " 'ZTF17aaaeimi',\n",
       " 'ZTF17aaaeiun',\n",
       " 'ZTF17aaaeiwk',\n",
       " 'ZTF17aaaejcs',\n",
       " 'ZTF17aaaeljd',\n",
       " 'ZTF17aaaemzh',\n",
       " 'ZTF17aaaemzq',\n",
       " 'ZTF17aaaencm',\n",
       " 'ZTF17aaaenfb',\n",
       " 'ZTF17aaaenfc',\n",
       " 'ZTF17aaaenfh',\n",
       " 'ZTF17aaaenha',\n",
       " 'ZTF17aaaenih',\n",
       " 'ZTF17aaaeniu',\n",
       " 'ZTF17aaaenjl',\n",
       " 'ZTF17aaaenkh',\n",
       " 'ZTF17aaaenmm',\n",
       " 'ZTF17aaaenmn',\n",
       " 'ZTF17aaaennm',\n",
       " 'ZTF17aaaenoq',\n",
       " 'ZTF17aaaeokp',\n",
       " 'ZTF17aaaeqwm',\n",
       " 'ZTF17aaaesne',\n",
       " 'ZTF17aaaessf',\n",
       " 'ZTF17aaaesxl',\n",
       " 'ZTF17aaaeszu',\n",
       " 'ZTF17aaaeumd',\n",
       " 'ZTF17aaaeuns',\n",
       " 'ZTF17aaaeupj',\n",
       " 'ZTF17aaaeupz',\n",
       " 'ZTF17aaaeurj',\n",
       " 'ZTF17aaaevbo',\n",
       " 'ZTF17aaaevbp',\n",
       " 'ZTF17aaaexkz',\n",
       " 'ZTF17aaaexnm',\n",
       " 'ZTF17aaaexov',\n",
       " 'ZTF17aaafacs',\n",
       " 'ZTF17aaaffsa',\n",
       " 'ZTF17aaafgly',\n",
       " 'ZTF17aaafipo',\n",
       " 'ZTF17aaafiut',\n",
       " 'ZTF17aaafjaf',\n",
       " 'ZTF17aaafjyz',\n",
       " 'ZTF17aaafpbx',\n",
       " 'ZTF17aaafqwd',\n",
       " 'ZTF17aaafssi',\n",
       " 'ZTF17aaafstx',\n",
       " 'ZTF17aaaftok',\n",
       " 'ZTF17aaaftos',\n",
       " 'ZTF17aaafubf',\n",
       " 'ZTF17aaafuii',\n",
       " 'ZTF17aaafvft',\n",
       " 'ZTF17aaafvhu',\n",
       " 'ZTF17aaafvhz',\n",
       " 'ZTF17aaafvrg',\n",
       " 'ZTF17aaafvrz',\n",
       " 'ZTF17aaafvsw',\n",
       " 'ZTF17aaafvwm',\n",
       " 'ZTF17aaafvwp',\n",
       " 'ZTF17aaafwep',\n",
       " 'ZTF17aaagark',\n",
       " 'ZTF17aaagbgc',\n",
       " 'ZTF17aaagboj',\n",
       " 'ZTF17aaagbzv',\n",
       " 'ZTF17aaaggbu',\n",
       " 'ZTF17aaaggwo',\n",
       " 'ZTF17aaaglmx',\n",
       " 'ZTF17aaaglsh',\n",
       " 'ZTF17aaaglsm',\n",
       " 'ZTF17aaagmnf',\n",
       " 'ZTF17aaahalp',\n",
       " 'ZTF17aaahfef',\n",
       " 'ZTF17aaahfkz',\n",
       " 'ZTF17aaahfrf',\n",
       " 'ZTF17aaahgav',\n",
       " 'ZTF17aaahglc',\n",
       " 'ZTF17aaahgnd',\n",
       " 'ZTF17aaahgro',\n",
       " 'ZTF17aaahitl',\n",
       " 'ZTF17aaahjtt',\n",
       " 'ZTF17aaahkzp',\n",
       " 'ZTF17aaahkzs',\n",
       " 'ZTF17aaahlfg',\n",
       " 'ZTF17aaahlfk',\n",
       " 'ZTF17aaahmid',\n",
       " 'ZTF17aaahmje',\n",
       " 'ZTF17aaahmmi',\n",
       " 'ZTF17aaahmmk',\n",
       " 'ZTF17aaahmvb',\n",
       " 'ZTF17aaahrni',\n",
       " 'ZTF17aaahrqa',\n",
       " 'ZTF17aaahryh',\n",
       " 'ZTF17aaahsfa',\n",
       " 'ZTF17aaahyvc',\n",
       " 'ZTF17aaahzlr',\n",
       " 'ZTF17aaahzqu',\n",
       " 'ZTF17aaahzrf',\n",
       " 'ZTF17aaahzvs',\n",
       " 'ZTF17aaaiack',\n",
       " 'ZTF17aaaiapr',\n",
       " 'ZTF17aaaiaqx',\n",
       " 'ZTF17aaaiawc',\n",
       " 'ZTF17aaaiijj',\n",
       " 'ZTF17aaaikkq',\n",
       " 'ZTF17aaaiklx',\n",
       " 'ZTF17aaaikmr',\n",
       " 'ZTF17aaaikms',\n",
       " 'ZTF17aaaiknv',\n",
       " 'ZTF17aaaikpm',\n",
       " 'ZTF17aaaikqf',\n",
       " 'ZTF17aaaikuu',\n",
       " 'ZTF17aaaikxw',\n",
       " 'ZTF17aaailch',\n",
       " 'ZTF17aaainfh',\n",
       " 'ZTF17aaairbu',\n",
       " 'ZTF17aaairhl',\n",
       " 'ZTF17aaairjb',\n",
       " 'ZTF17aaairlf',\n",
       " 'ZTF17aaairrz',\n",
       " 'ZTF17aaairup',\n",
       " 'ZTF17aaaiujz',\n",
       " 'ZTF17aaajcks',\n",
       " 'ZTF17aaajdfe',\n",
       " 'ZTF17aaajfih',\n",
       " 'ZTF17aaajfil',\n",
       " 'ZTF17aaajigm',\n",
       " 'ZTF17aaajjhr',\n",
       " 'ZTF17aaajlkr',\n",
       " 'ZTF17aaajmhb',\n",
       " 'ZTF17aaajnsn',\n",
       " 'ZTF17aaajrqe',\n",
       " 'ZTF17aaajslg',\n",
       " 'ZTF17aaajsms',\n",
       " 'ZTF17aaajsnp',\n",
       " 'ZTF17aaajsph',\n",
       " 'ZTF17aaajspq',\n",
       " 'ZTF17aaajtkd',\n",
       " 'ZTF17aaajtkt',\n",
       " 'ZTF17aaajtpw',\n",
       " 'ZTF17aaajtqo',\n",
       " 'ZTF17aaakbfr',\n",
       " 'ZTF17aaakcqe',\n",
       " 'ZTF17aaakfme',\n",
       " 'ZTF17aaakfmf',\n",
       " 'ZTF17aaakhes',\n",
       " 'ZTF17aaakhja',\n",
       " 'ZTF17aaakiey',\n",
       " 'ZTF17aaaklqo',\n",
       " 'ZTF17aaakmlc',\n",
       " 'ZTF17aaakmvh',\n",
       " 'ZTF17aaakntu',\n",
       " 'ZTF17aaakpom',\n",
       " 'ZTF17aaakpsh',\n",
       " 'ZTF17aaakptb',\n",
       " 'ZTF17aaakptd',\n",
       " 'ZTF17aaalifq',\n",
       " 'ZTF17aaanjkj',\n",
       " 'ZTF17aaanjrz',\n",
       " 'ZTF17aaanygb',\n",
       " 'ZTF17aaanyjb',\n",
       " 'ZTF17aaanyol',\n",
       " 'ZTF17aaanysq',\n",
       " 'ZTF17aaaoars',\n",
       " 'ZTF17aaaodcz',\n",
       " 'ZTF17aaaofli',\n",
       " 'ZTF17aaaoksc',\n",
       " 'ZTF17aaaosws',\n",
       " 'ZTF17aaaosxn',\n",
       " 'ZTF17aaapiuh',\n",
       " 'ZTF17aaapjgh',\n",
       " 'ZTF17aaapmeu',\n",
       " 'ZTF17aaapoue',\n",
       " 'ZTF17aaappar',\n",
       " 'ZTF17aaaropn',\n",
       " 'ZTF17aaarsja',\n",
       " 'ZTF17aaarsoh',\n",
       " 'ZTF17aaarvkx',\n",
       " 'ZTF17aaarvtx',\n",
       " 'ZTF17aaarwum',\n",
       " 'ZTF17aaarwup',\n",
       " 'ZTF17aaarwwd',\n",
       " 'ZTF17aaarwxn',\n",
       " 'ZTF17aaarxah',\n",
       " 'ZTF17aaarxek',\n",
       " 'ZTF17aaarxfg',\n",
       " 'ZTF17aaarxhx',\n",
       " 'ZTF17aaarxjv',\n",
       " 'ZTF17aaarxkf',\n",
       " 'ZTF17aaaryao',\n",
       " 'ZTF17aaaryiv',\n",
       " 'ZTF17aaaryms',\n",
       " 'ZTF17aaasaet',\n",
       " 'ZTF17aaasavr',\n",
       " 'ZTF17aaasbhs',\n",
       " 'ZTF17aaasfyw',\n",
       " 'ZTF17aaasgan',\n",
       " 'ZTF17aaasinr',\n",
       " 'ZTF17aaasiyb',\n",
       " 'ZTF17aaaskut',\n",
       " 'ZTF17aaaskvj',\n",
       " 'ZTF17aaaskvk',\n",
       " 'ZTF17aaaskzj',\n",
       " 'ZTF17aaaslay',\n",
       " 'ZTF17aaaslcd',\n",
       " 'ZTF17aaaslzl',\n",
       " 'ZTF17aaasmeu',\n",
       " 'ZTF17aaasnuw',\n",
       " 'ZTF17aaasnvg',\n",
       " 'ZTF17aaasoaw',\n",
       " 'ZTF17aaasocp',\n",
       " 'ZTF17aaasopw',\n",
       " 'ZTF17aaasqaz',\n",
       " 'ZTF17aaasqpo',\n",
       " 'ZTF17aaasqth',\n",
       " 'ZTF17aaastat',\n",
       " 'ZTF17aaasuam',\n",
       " 'ZTF17aaasulp',\n",
       " 'ZTF17aaasvik',\n",
       " 'ZTF17aaaswgd',\n",
       " 'ZTF17aaasyxm',\n",
       " 'ZTF17aaaszpi',\n",
       " 'ZTF17aaategd',\n",
       " 'ZTF17aaatkcm',\n",
       " 'ZTF17aaatmza',\n",
       " 'ZTF17aaatmzx',\n",
       " 'ZTF17aaatonb',\n",
       " 'ZTF17aaatuhr',\n",
       " 'ZTF17aaatuhv',\n",
       " 'ZTF17aaatuja',\n",
       " 'ZTF17aaatuke',\n",
       " 'ZTF17aaatuki',\n",
       " 'ZTF17aaatukm',\n",
       " 'ZTF17aaatuld',\n",
       " 'ZTF17aaatunc',\n",
       " 'ZTF17aaatunl',\n",
       " 'ZTF17aaatupg',\n",
       " 'ZTF17aaatupi',\n",
       " 'ZTF17aaatups',\n",
       " 'ZTF17aaatupu',\n",
       " 'ZTF17aaatuqk',\n",
       " 'ZTF17aaaturc',\n",
       " 'ZTF17aaatuuc',\n",
       " 'ZTF17aaatuuf',\n",
       " 'ZTF17aaatuun',\n",
       " 'ZTF17aaatuup',\n",
       " 'ZTF17aaatuuv',\n",
       " 'ZTF17aaatuwo',\n",
       " 'ZTF17aaatuyr',\n",
       " 'ZTF17aaatuzg',\n",
       " 'ZTF17aaatvcr',\n",
       " 'ZTF17aaatvda',\n",
       " 'ZTF17aaatvdc',\n",
       " 'ZTF17aaatvfj',\n",
       " 'ZTF17aaatvjf',\n",
       " 'ZTF17aaatvjp',\n",
       " 'ZTF17aaatvjt',\n",
       " 'ZTF17aaatvkt',\n",
       " 'ZTF17aaatvqg',\n",
       " 'ZTF17aaatwbc',\n",
       " 'ZTF17aaatwil',\n",
       " 'ZTF17aaatwls',\n",
       " 'ZTF17aaatwlt',\n",
       " 'ZTF17aaatwlu',\n",
       " 'ZTF17aaatwlw',\n",
       " 'ZTF17aaatwmb',\n",
       " 'ZTF17aaatwmg',\n",
       " 'ZTF17aaatwmi',\n",
       " 'ZTF17aaatwmm',\n",
       " 'ZTF17aaatwmn',\n",
       " 'ZTF17aaatwqi',\n",
       " 'ZTF17aaatwra',\n",
       " 'ZTF17aaatwya',\n",
       " 'ZTF17aaatxgk',\n",
       " 'ZTF17aaatxik',\n",
       " 'ZTF17aaatxje',\n",
       " 'ZTF17aaatxjg',\n",
       " 'ZTF17aaatxqh',\n",
       " 'ZTF17aaatxql',\n",
       " 'ZTF17aaatxsy',\n",
       " 'ZTF17aaatxwn',\n",
       " 'ZTF17aaatypl',\n",
       " 'ZTF17aaatyyh',\n",
       " 'ZTF17aaatzdj',\n",
       " 'ZTF17aaaurji',\n",
       " 'ZTF17aaavjhn',\n",
       " 'ZTF17aaavqeh',\n",
       " 'ZTF17aaawdfs',\n",
       " 'ZTF17aaaweca',\n",
       " 'ZTF17aaawecm',\n",
       " 'ZTF17aaawell',\n",
       " 'ZTF17aaaweln',\n",
       " 'ZTF17aaawelr',\n",
       " 'ZTF17aaawelz',\n",
       " 'ZTF17aaawemh',\n",
       " 'ZTF17aaawemn',\n",
       " 'ZTF17aaawemz',\n",
       " 'ZTF17aaaweop',\n",
       " 'ZTF17aaawepo',\n",
       " 'ZTF17aaaweqt',\n",
       " 'ZTF17aaaweub',\n",
       " 'ZTF17aaaweyb',\n",
       " 'ZTF17aaawfah',\n",
       " 'ZTF17aaawfja',\n",
       " 'ZTF17aaawfrs',\n",
       " 'ZTF17aaawixm',\n",
       " 'ZTF17aaawjhk',\n",
       " 'ZTF17aaawjig',\n",
       " 'ZTF17aaawlbw',\n",
       " 'ZTF17aaawlfx',\n",
       " 'ZTF17aaawlxc',\n",
       " 'ZTF17aaawmfk',\n",
       " 'ZTF17aaawtoo',\n",
       " 'ZTF17aaawtsb',\n",
       " 'ZTF17aaaxbgi',\n",
       " 'ZTF17aaaxbmn',\n",
       " 'ZTF17aaaxbnb',\n",
       " 'ZTF17aaaxboe',\n",
       " 'ZTF17aaaxbpe',\n",
       " 'ZTF17aaaxbyw',\n",
       " 'ZTF17aaaxcau',\n",
       " 'ZTF17aaaxcgu',\n",
       " 'ZTF17aaaxcmp',\n",
       " 'ZTF17aaaxcru',\n",
       " 'ZTF17aaaxcsf',\n",
       " 'ZTF17aaaxcuq',\n",
       " 'ZTF17aaaxdch',\n",
       " 'ZTF17aaaxdcl',\n",
       " 'ZTF17aaaxddg',\n",
       " 'ZTF17aaaxdii',\n",
       " 'ZTF17aaaxdrt',\n",
       " 'ZTF17aaaxehr',\n",
       " 'ZTF17aaaxepf',\n",
       " 'ZTF17aaaxepp',\n",
       " 'ZTF17aaaxfec',\n",
       " 'ZTF17aaaxfsk',\n",
       " 'ZTF17aaaxfss',\n",
       " 'ZTF17aaaxfzw',\n",
       " 'ZTF17aaaxfzx',\n",
       " 'ZTF17aaaxgac',\n",
       " 'ZTF17aaaxgdf',\n",
       " 'ZTF17aaaxget',\n",
       " 'ZTF17aaaxgez',\n",
       " 'ZTF17aaaxgfi',\n",
       " 'ZTF17aaaxgng',\n",
       " 'ZTF17aaaxgny',\n",
       " 'ZTF17aaaxivu',\n",
       " 'ZTF17aaaxixq',\n",
       " 'ZTF17aaaxiye',\n",
       " 'ZTF17aaaxjpa',\n",
       " 'ZTF17aaaxjps',\n",
       " 'ZTF17aaaxjqh',\n",
       " 'ZTF17aaaxkjj',\n",
       " 'ZTF17aaaxklm',\n",
       " 'ZTF17aaaxknq',\n",
       " 'ZTF17aaaxpie',\n",
       " 'ZTF17aaaxvdv',\n",
       " 'ZTF17aaaxwpm',\n",
       " 'ZTF17aaaxxbn',\n",
       " 'ZTF17aaaxzbb',\n",
       " 'ZTF17aaaxzcz',\n",
       " 'ZTF17aaaycgj',\n",
       " 'ZTF17aaayciv',\n",
       " 'ZTF17aaayckz',\n",
       " 'ZTF17aaaycmi',\n",
       " 'ZTF17aaaycou',\n",
       " 'ZTF17aaaycui',\n",
       " 'ZTF17aaayhze',\n",
       " 'ZTF17aaayial',\n",
       " 'ZTF17aaayiby',\n",
       " 'ZTF17aaayjfs',\n",
       " 'ZTF17aaayjgh',\n",
       " 'ZTF17aaayjgl',\n",
       " 'ZTF17aaayjgr',\n",
       " 'ZTF17aaayjha',\n",
       " 'ZTF17aaayjif',\n",
       " 'ZTF17aaayjla',\n",
       " 'ZTF17aaayjlt',\n",
       " 'ZTF17aaaylac',\n",
       " 'ZTF17aaaylgr',\n",
       " 'ZTF17aaaylit',\n",
       " 'ZTF17aaaylji',\n",
       " 'ZTF17aaaymwb',\n",
       " 'ZTF17aaaynlr',\n",
       " 'ZTF17aaaypmy',\n",
       " 'ZTF17aaaypqn',\n",
       " 'ZTF17aaayqxe',\n",
       " 'ZTF17aaayrrw',\n",
       " 'ZTF17aaaytpc',\n",
       " 'ZTF17aaayxws',\n",
       " 'ZTF17aaazcrb',\n",
       " 'ZTF17aaazdba',\n",
       " 'ZTF17aaazjdz',\n",
       " 'ZTF17aaazjlr',\n",
       " 'ZTF17aaazjul',\n",
       " 'ZTF17aaazlke',\n",
       " 'ZTF17aaazmqi',\n",
       " 'ZTF17aaazmrh',\n",
       " 'ZTF17aaazmwv',\n",
       " 'ZTF17aaazmzr',\n",
       " 'ZTF17aaazmzt',\n",
       " 'ZTF17aaazmzw',\n",
       " 'ZTF17aaazneb',\n",
       " 'ZTF17aaazove',\n",
       " 'ZTF17aaazovf',\n",
       " 'ZTF17aaazovk',\n",
       " 'ZTF17aaazowp',\n",
       " 'ZTF17aaazoww',\n",
       " 'ZTF17aaazoxh',\n",
       " 'ZTF17aaazoyj',\n",
       " 'ZTF17aaazpaf',\n",
       " 'ZTF17aaazpcc',\n",
       " 'ZTF17aaazpep',\n",
       " 'ZTF17aaazpfe',\n",
       " 'ZTF17aaazqia',\n",
       " 'ZTF17aaazqpw',\n",
       " 'ZTF17aaazqqd',\n",
       " 'ZTF17aaazqqf',\n",
       " 'ZTF17aaazrnw',\n",
       " 'ZTF17aaazrqy',\n",
       " 'ZTF17aaazrrl',\n",
       " 'ZTF17aaazsvx',\n",
       " 'ZTF17aaazswp',\n",
       " 'ZTF17aaazszw',\n",
       " 'ZTF17aaaztae',\n",
       " 'ZTF17aaaztai',\n",
       " 'ZTF17aaaztal',\n",
       " 'ZTF17aaaztas',\n",
       " 'ZTF17aaaztba',\n",
       " 'ZTF17aaaztbp',\n",
       " 'ZTF17aaaztbr',\n",
       " 'ZTF17aaaztik',\n",
       " 'ZTF17aaaztiv',\n",
       " 'ZTF17aaaztoi',\n",
       " 'ZTF17aaazurl',\n",
       " 'ZTF17aaazuza',\n",
       " 'ZTF17aaazwbw',\n",
       " 'ZTF17aaazwdc',\n",
       " 'ZTF17aaazxth',\n",
       " 'ZTF17aaazxtm',\n",
       " 'ZTF17aaazxtr',\n",
       " 'ZTF17aaazxtv',\n",
       " 'ZTF17aaazypn',\n",
       " 'ZTF17aaazzhn',\n",
       " 'ZTF17aabaafa',\n",
       " 'ZTF17aababwf',\n",
       " 'ZTF17aababxm',\n",
       " 'ZTF17aabacly',\n",
       " 'ZTF17aabacpl',\n",
       " 'ZTF17aabacsl',\n",
       " 'ZTF17aabacvh',\n",
       " 'ZTF17aabadzk',\n",
       " 'ZTF17aabafur',\n",
       " 'ZTF17aabafza',\n",
       " 'ZTF17aabagax',\n",
       " 'ZTF17aabagbx',\n",
       " 'ZTF17aabaghc',\n",
       " 'ZTF17aabaghm',\n",
       " 'ZTF17aabagkf',\n",
       " 'ZTF17aabaidy',\n",
       " 'ZTF17aabaiel',\n",
       " 'ZTF17aabaifg',\n",
       " 'ZTF17aabaifl',\n",
       " 'ZTF17aabaihf',\n",
       " 'ZTF17aabakci',\n",
       " 'ZTF17aabakhw',\n",
       " 'ZTF17aabakly',\n",
       " 'ZTF17aabakre',\n",
       " 'ZTF17aabakya',\n",
       " 'ZTF17aabamjm',\n",
       " 'ZTF17aabanen',\n",
       " 'ZTF17aabanuw',\n",
       " 'ZTF17aabanwa',\n",
       " 'ZTF17aabanyg',\n",
       " 'ZTF17aabanyz',\n",
       " 'ZTF17aabanzg',\n",
       " 'ZTF17aabapjy',\n",
       " 'ZTF17aabaqrt',\n",
       " 'ZTF17aabaqsq',\n",
       " 'ZTF17aabaruy',\n",
       " 'ZTF17aabasjv',\n",
       " 'ZTF17aabaszq',\n",
       " 'ZTF17aabaszv',\n",
       " 'ZTF17aabatmu',\n",
       " 'ZTF17aabatnf',\n",
       " 'ZTF17aabatoh',\n",
       " 'ZTF17aabaujm',\n",
       " 'ZTF17aabauqo',\n",
       " 'ZTF17aabautb',\n",
       " 'ZTF17aabauyz',\n",
       " 'ZTF17aabavja',\n",
       " 'ZTF17aabavub',\n",
       " 'ZTF17aabavvz',\n",
       " 'ZTF17aabaxmb',\n",
       " 'ZTF17aabaxqi',\n",
       " 'ZTF17aabaxvh',\n",
       " 'ZTF17aabaxzm',\n",
       " 'ZTF17aabayap',\n",
       " 'ZTF17aabaycd',\n",
       " 'ZTF17aabaynv',\n",
       " 'ZTF17aabayoe',\n",
       " 'ZTF17aabazql',\n",
       " 'ZTF17aabazxz',\n",
       " 'ZTF17aabbbhd',\n",
       " 'ZTF17aabbbnd',\n",
       " 'ZTF17aabbdab',\n",
       " 'ZTF17aabbdae',\n",
       " 'ZTF17aabbeiw',\n",
       " 'ZTF17aabbekc',\n",
       " 'ZTF17aabbexb',\n",
       " 'ZTF17aabbfjd',\n",
       " 'ZTF17aabbfkw',\n",
       " 'ZTF17aabbfmz',\n",
       " 'ZTF17aabbfyi',\n",
       " 'ZTF17aabbggy',\n",
       " 'ZTF17aabbgww',\n",
       " 'ZTF17aabbhgm',\n",
       " 'ZTF17aabbicn',\n",
       " 'ZTF17aabbicy',\n",
       " 'ZTF17aabbicz',\n",
       " 'ZTF17aabbidg',\n",
       " 'ZTF17aabbieg',\n",
       " 'ZTF17aabbjqi',\n",
       " 'ZTF17aabbjqs',\n",
       " 'ZTF17aabbkcq',\n",
       " 'ZTF17aabbkjg',\n",
       " 'ZTF17aabbkow',\n",
       " 'ZTF17aabbkpz',\n",
       " 'ZTF17aabbksz',\n",
       " 'ZTF17aabbkti',\n",
       " 'ZTF17aabbkvx',\n",
       " 'ZTF17aabbkwt',\n",
       " 'ZTF17aabblpo',\n",
       " 'ZTF17aabbmet',\n",
       " 'ZTF17aabbncn',\n",
       " 'ZTF17aabbobj',\n",
       " 'ZTF17aabbppm',\n",
       " 'ZTF17aabbppx',\n",
       " 'ZTF17aabbrjg',\n",
       " 'ZTF17aabbrki',\n",
       " 'ZTF17aabbrsp',\n",
       " 'ZTF17aabbscn',\n",
       " 'ZTF17aabbsjh',\n",
       " 'ZTF17aabburx',\n",
       " 'ZTF17aabbvfc',\n",
       " 'ZTF17aabbvfe',\n",
       " 'ZTF17aabbvgl',\n",
       " 'ZTF17aabbvgr',\n",
       " 'ZTF17aabbvny',\n",
       " 'ZTF17aabbvoz',\n",
       " 'ZTF17aabbvrf',\n",
       " 'ZTF17aabbvzp',\n",
       " 'ZTF17aabbvzx',\n",
       " 'ZTF17aabbwdx',\n",
       " 'ZTF17aabbwzh',\n",
       " 'ZTF17aabbxpi',\n",
       " 'ZTF17aabbxtw',\n",
       " 'ZTF17aabbxxy',\n",
       " 'ZTF17aabbyme',\n",
       " 'ZTF17aabbyml',\n",
       " 'ZTF17aabbymx',\n",
       " 'ZTF17aabbyng',\n",
       " 'ZTF17aabbypf',\n",
       " 'ZTF17aabbzbf',\n",
       " 'ZTF17aabbzmm',\n",
       " 'ZTF17aabbzxw',\n",
       " 'ZTF17aabbzyd',\n",
       " 'ZTF17aabcabf',\n",
       " 'ZTF17aabcabx',\n",
       " 'ZTF17aabcaca',\n",
       " 'ZTF17aabcach',\n",
       " 'ZTF17aabcacq',\n",
       " 'ZTF17aabcadl',\n",
       " 'ZTF17aabcaiz',\n",
       " 'ZTF17aabcakz',\n",
       " 'ZTF17aabcaqr',\n",
       " 'ZTF17aabcbip',\n",
       " 'ZTF17aabcbkm',\n",
       " 'ZTF17aabcbva',\n",
       " 'ZTF17aabcbvn',\n",
       " 'ZTF17aabcbwl',\n",
       " 'ZTF17aabcbxq',\n",
       " 'ZTF17aabcbyu',\n",
       " 'ZTF17aabccdk',\n",
       " 'ZTF17aabccvo',\n",
       " 'ZTF17aabcdut',\n",
       " 'ZTF17aabcduv',\n",
       " 'ZTF17aabcdvi',\n",
       " 'ZTF17aabceah',\n",
       " 'ZTF17aabcekw',\n",
       " 'ZTF17aabceor',\n",
       " 'ZTF17aabcepa',\n",
       " 'ZTF17aabcepe',\n",
       " 'ZTF17aabcepq',\n",
       " 'ZTF17aabceps',\n",
       " 'ZTF17aabcfgr',\n",
       " 'ZTF17aabcfhs',\n",
       " 'ZTF17aabcfoh',\n",
       " 'ZTF17aabcfon',\n",
       " 'ZTF17aabcfpf',\n",
       " 'ZTF17aabcfps',\n",
       " 'ZTF17aabcfso',\n",
       " 'ZTF17aabchan',\n",
       " 'ZTF17aabchar',\n",
       " 'ZTF17aabchbp',\n",
       " 'ZTF17aabchcn',\n",
       " 'ZTF17aabchkv',\n",
       " 'ZTF17aabchmz',\n",
       " 'ZTF17aabchpy',\n",
       " 'ZTF17aabchsu',\n",
       " 'ZTF17aabchuq',\n",
       " 'ZTF17aabchvq',\n",
       " 'ZTF17aabciai',\n",
       " 'ZTF17aabcirl',\n",
       " 'ZTF17aabciyd',\n",
       " 'ZTF17aabcjsn',\n",
       " 'ZTF17aabckay',\n",
       " 'ZTF17aabckmd',\n",
       " 'ZTF17aabckmq',\n",
       " 'ZTF17aabcncr',\n",
       " 'ZTF17aabcnmv',\n",
       " 'ZTF17aabcpti',\n",
       " 'ZTF17aabcqtc',\n",
       " 'ZTF17aabcsbq',\n",
       " 'ZTF17aabcsbv',\n",
       " 'ZTF17aabctrp',\n",
       " 'ZTF17aabcvlp',\n",
       " 'ZTF17aabcvoz',\n",
       " 'ZTF17aabcvtj',\n",
       " 'ZTF17aabcwge',\n",
       " 'ZTF17aabcwod',\n",
       " 'ZTF17aabcwtk',\n",
       " 'ZTF17aabcxfd',\n",
       " 'ZTF17aabcztp',\n",
       " 'ZTF17aabdaev',\n",
       " 'ZTF17aabddht',\n",
       " 'ZTF17aabddma',\n",
       " 'ZTF17aabddmc',\n",
       " 'ZTF17aabddmf',\n",
       " 'ZTF17aabddmq',\n",
       " 'ZTF17aabddnm',\n",
       " 'ZTF17aabdfvr',\n",
       " 'ZTF17aabdgrx',\n",
       " 'ZTF17aabdgun',\n",
       " 'ZTF17aabdizv',\n",
       " 'ZTF17aabdlbm',\n",
       " 'ZTF17aabdost',\n",
       " 'ZTF17aabdoud',\n",
       " 'ZTF17aabdozg',\n",
       " 'ZTF17aabdrrw',\n",
       " 'ZTF17aabdwkg',\n",
       " 'ZTF17aabdwkt',\n",
       " 'ZTF17aabecee',\n",
       " 'ZTF17aabeghc',\n",
       " 'ZTF17aabegwc',\n",
       " 'ZTF17aabeijv',\n",
       " 'ZTF17aabejfn',\n",
       " 'ZTF17aabemks',\n",
       " 'ZTF17aabfalr',\n",
       " 'ZTF17aabfbze',\n",
       " 'ZTF17aabfbzh',\n",
       " 'ZTF17aabfbzn',\n",
       " 'ZTF17aabfday',\n",
       " 'ZTF17aabfdba',\n",
       " 'ZTF17aabfdbb',\n",
       " 'ZTF17aabfeii',\n",
       " 'ZTF17aabfeya',\n",
       " 'ZTF17aabfgmo',\n",
       " 'ZTF17aabfgmy',\n",
       " 'ZTF17aabfgng',\n",
       " 'ZTF17aabfgnk',\n",
       " 'ZTF17aabfgnx',\n",
       " 'ZTF17aabfhto',\n",
       " 'ZTF17aabfisy',\n",
       " 'ZTF17aabfjmg',\n",
       " 'ZTF17aabfjmi',\n",
       " 'ZTF17aabfjmm',\n",
       " 'ZTF17aabfjmx',\n",
       " 'ZTF17aabfjtf',\n",
       " 'ZTF17aabfkvd',\n",
       " 'ZTF17aabflyk',\n",
       " 'ZTF17aabfnbo',\n",
       " 'ZTF17aabfnhh',\n",
       " 'ZTF17aabfowd',\n",
       " 'ZTF17aabfqss',\n",
       " 'ZTF17aabfraa',\n",
       " 'ZTF17aabfrwo',\n",
       " 'ZTF17aabfrww',\n",
       " 'ZTF17aabfwgv',\n",
       " 'ZTF17aabfwuv',\n",
       " 'ZTF17aabgkfd',\n",
       " 'ZTF17aabhioj',\n",
       " 'ZTF17aabhkhb',\n",
       " 'ZTF17aabhkib',\n",
       " 'ZTF17aabhkur',\n",
       " 'ZTF17aabhpve',\n",
       " 'ZTF17aabirwp',\n",
       " 'ZTF17aabisyy',\n",
       " 'ZTF17aabjclw',\n",
       " 'ZTF17aabjpur',\n",
       " 'ZTF17aabjvry',\n",
       " 'ZTF17aabjyxl',\n",
       " 'ZTF17aabkddt',\n",
       " 'ZTF17aabmtez',\n",
       " 'ZTF17aabmxzj',\n",
       " 'ZTF17aabnwhd',\n",
       " 'ZTF17aabotau',\n",
       " 'ZTF17aabotju',\n",
       " 'ZTF17aabotqm',\n",
       " 'ZTF17aabotra',\n",
       " 'ZTF17aabotud',\n",
       " 'ZTF17aabotwe',\n",
       " 'ZTF17aabotzp',\n",
       " 'ZTF17aabowcs',\n",
       " 'ZTF17aabowcv',\n",
       " 'ZTF17aabowdw',\n",
       " 'ZTF17aabowdz',\n",
       " 'ZTF17aabowed',\n",
       " 'ZTF17aabowee',\n",
       " 'ZTF17aabowef',\n",
       " 'ZTF17aabowel',\n",
       " 'ZTF17aabowgj',\n",
       " 'ZTF17aabowqh',\n",
       " 'ZTF17aabowwt',\n",
       " 'ZTF17aabozjg',\n",
       " 'ZTF17aabozqw',\n",
       " 'ZTF17aabpabw',\n",
       " 'ZTF17aabpati',\n",
       " 'ZTF17aabpduz',\n",
       " 'ZTF17aabprpx',\n",
       " 'ZTF17aabptle',\n",
       " 'ZTF17aabpwta',\n",
       " 'ZTF17aabpxbc',\n",
       " 'ZTF17aabpxgy',\n",
       " 'ZTF17aabpxso',\n",
       " 'ZTF17aabqajc',\n",
       " 'ZTF17aabqpwo',\n",
       " 'ZTF17aabqtgj',\n",
       " 'ZTF17aabrahk',\n",
       " 'ZTF17aabrhrj',\n",
       " 'ZTF17aabrisn',\n",
       " 'ZTF17aabrzjo',\n",
       " 'ZTF17aabsagi',\n",
       " 'ZTF17aabsaks',\n",
       " 'ZTF17aabsamc',\n",
       " 'ZTF17aabsbnw',\n",
       " 'ZTF17aabsdft',\n",
       " 'ZTF17aabshvb',\n",
       " 'ZTF17aabsirf',\n",
       " 'ZTF17aabslfb',\n",
       " 'ZTF17aabslvx',\n",
       " 'ZTF17aabsmfl',\n",
       " 'ZTF17aabsmho',\n",
       " 'ZTF17aabstmf',\n",
       " 'ZTF17aabstpn',\n",
       " 'ZTF17aabsvus',\n",
       " 'ZTF17aabszhz',\n",
       " 'ZTF17aabszsk',\n",
       " 'ZTF17aabtjot',\n",
       " 'ZTF17aabtkpv',\n",
       " 'ZTF17aabttma',\n",
       " 'ZTF17aabukef',\n",
       " 'ZTF17aabukmy',\n",
       " 'ZTF17aabukoo',\n",
       " 'ZTF17aabuktn',\n",
       " 'ZTF17aabulak',\n",
       " 'ZTF17aabulal',\n",
       " 'ZTF17aabulam',\n",
       " 'ZTF17aabulat',\n",
       " 'ZTF17aabulcu',\n",
       " 'ZTF17aabuleq',\n",
       " 'ZTF17aabullk',\n",
       " 'ZTF17aabulml',\n",
       " 'ZTF17aabulmy',\n",
       " 'ZTF17aabulnh',\n",
       " 'ZTF17aabulof',\n",
       " 'ZTF17aabulpe',\n",
       " 'ZTF17aabulqp',\n",
       " 'ZTF17aabulqx',\n",
       " 'ZTF17aabulrt',\n",
       " 'ZTF17aabulrv',\n",
       " 'ZTF17aabultz',\n",
       " 'ZTF17aabulvi',\n",
       " 'ZTF17aabumcd',\n",
       " 'ZTF17aabumgz',\n",
       " 'ZTF17aabumhg',\n",
       " 'ZTF17aabumil',\n",
       " 'ZTF17aabumkf',\n",
       " 'ZTF17aabumnq',\n",
       " 'ZTF17aabumsb',\n",
       " 'ZTF17aabumtf',\n",
       " 'ZTF17aabunez',\n",
       " 'ZTF17aabunuu',\n",
       " 'ZTF17aabunuv',\n",
       " 'ZTF17aabuoea',\n",
       " 'ZTF17aabuoge',\n",
       " 'ZTF17aabuomw',\n",
       " 'ZTF17aabuovl',\n",
       " 'ZTF17aabuovr',\n",
       " 'ZTF17aabuozt',\n",
       " 'ZTF17aabupvu',\n",
       " 'ZTF17aabupyi',\n",
       " 'ZTF17aabupyj',\n",
       " 'ZTF17aabuqiz',\n",
       " 'ZTF17aabuqnr',\n",
       " 'ZTF17aabuqpk',\n",
       " 'ZTF17aabuqqy',\n",
       " 'ZTF17aabuqzg',\n",
       " 'ZTF17aaburpx',\n",
       " 'ZTF17aabursp',\n",
       " 'ZTF17aaburwy',\n",
       " 'ZTF17aabuseu',\n",
       " 'ZTF17aabusfj',\n",
       " 'ZTF17aabusld',\n",
       " 'ZTF17aabusvl',\n",
       " 'ZTF17aabusxy',\n",
       " 'ZTF17aabutcf',\n",
       " 'ZTF17aabutfw',\n",
       " 'ZTF17aabutgk',\n",
       " 'ZTF17aabuthh',\n",
       " 'ZTF17aabutig',\n",
       " 'ZTF17aabutlu',\n",
       " 'ZTF17aabutnh',\n",
       " 'ZTF17aabutox',\n",
       " 'ZTF17aabutoz',\n",
       " 'ZTF17aabutpn',\n",
       " 'ZTF17aabutxx',\n",
       " 'ZTF17aabuuat',\n",
       " 'ZTF17aabuuju',\n",
       " 'ZTF17aabuuog',\n",
       " 'ZTF17aabuutn',\n",
       " 'ZTF17aabuvab',\n",
       " 'ZTF17aabuvjp',\n",
       " 'ZTF17aabuvnr',\n",
       " 'ZTF17aabuvrl',\n",
       " 'ZTF17aabuvus',\n",
       " 'ZTF17aabuvwc',\n",
       " 'ZTF17aabuwsd',\n",
       " 'ZTF17aabuwys',\n",
       " 'ZTF17aabuxsz',\n",
       " 'ZTF17aabuxue',\n",
       " 'ZTF17aabuytd',\n",
       " 'ZTF17aabuzrt',\n",
       " 'ZTF17aabuztr',\n",
       " 'ZTF17aabuzul',\n",
       " 'ZTF17aabvaar',\n",
       " 'ZTF17aabvadg',\n",
       " 'ZTF17aabvajn',\n",
       " 'ZTF17aabvakf',\n",
       " 'ZTF17aabvauf',\n",
       " 'ZTF17aabvbpf',\n",
       " 'ZTF17aabvbro',\n",
       " 'ZTF17aabvbxh',\n",
       " 'ZTF17aabvckn',\n",
       " 'ZTF17aabvcqg',\n",
       " 'ZTF17aabvcyk',\n",
       " 'ZTF17aabvdbh',\n",
       " 'ZTF17aabvdgd',\n",
       " 'ZTF17aabvdio',\n",
       " 'ZTF17aabvdvz',\n",
       " 'ZTF17aabveic',\n",
       " 'ZTF17aabvflb',\n",
       " 'ZTF17aabvfuq',\n",
       " 'ZTF17aabvgbs',\n",
       " 'ZTF17aabvgff',\n",
       " 'ZTF17aabvgqx',\n",
       " 'ZTF17aabvgrn',\n",
       " 'ZTF17aabvhek',\n",
       " 'ZTF17aabvhms',\n",
       " 'ZTF17aabvhsb',\n",
       " 'ZTF17aabvhvh',\n",
       " 'ZTF17aabvipu',\n",
       " 'ZTF17aabvipw',\n",
       " 'ZTF17aabvisz',\n",
       " 'ZTF17aabvitf',\n",
       " 'ZTF17aabvmxv',\n",
       " 'ZTF17aabvoaw',\n",
       " 'ZTF17aabvoei',\n",
       " 'ZTF17aabvpjb',\n",
       " 'ZTF17aabvppe',\n",
       " 'ZTF17aabvqio',\n",
       " 'ZTF17aabvqqs',\n",
       " 'ZTF17aabvqwk',\n",
       " 'ZTF17aabvsex',\n",
       " 'ZTF17aabvsgc',\n",
       " 'ZTF17aabvshs',\n",
       " 'ZTF17aabvsih',\n",
       " 'ZTF17aabvskw',\n",
       " 'ZTF17aabvslj',\n",
       " 'ZTF17aabvsng',\n",
       " 'ZTF17aabvsqj',\n",
       " 'ZTF17aabvtnk',\n",
       " 'ZTF17aabvwbu',\n",
       " 'ZTF17aabvwec',\n",
       " 'ZTF17aabvwfc',\n",
       " 'ZTF17aabvwfx',\n",
       " 'ZTF17aabvwgd',\n",
       " 'ZTF17aabvwgs',\n",
       " 'ZTF17aabvwlq',\n",
       " 'ZTF17aabvwsz',\n",
       " 'ZTF17aabvzfd',\n",
       " 'ZTF17aabvzpm',\n",
       " 'ZTF17aabvzpw',\n",
       " 'ZTF17aabvzum',\n",
       " 'ZTF17aabwaaz',\n",
       " 'ZTF17aabwabt',\n",
       " 'ZTF17aabwagt',\n",
       " 'ZTF17aabwapz',\n",
       " 'ZTF17aabwaqh',\n",
       " 'ZTF17aabwcke',\n",
       " 'ZTF17aabwcqr',\n",
       " 'ZTF17aabwcry',\n",
       " 'ZTF17aabwcun',\n",
       " 'ZTF17aabwdgc',\n",
       " 'ZTF17aabwdpe',\n",
       " 'ZTF17aabwdvl',\n",
       " 'ZTF17aabwfng',\n",
       " 'ZTF17aabwfqc',\n",
       " 'ZTF17aabwfqn',\n",
       " 'ZTF17aabwfwe',\n",
       " 'ZTF17aabwgas',\n",
       " 'ZTF17aabwhvf',\n",
       " 'ZTF17aabwhys',\n",
       " 'ZTF17aabwial',\n",
       " 'ZTF17aabwikq',\n",
       " 'ZTF17aabwjbu',\n",
       " 'ZTF17aabwjrt',\n",
       " 'ZTF17aabwjvg',\n",
       " 'ZTF17aabwjvx',\n",
       " ...]"
      ]
     },
     "execution_count": 82,
     "metadata": {},
     "output_type": "execute_result"
    }
   ],
   "source": [
    "list(np.unique(dataset_bank.index))"
   ]
  },
  {
   "cell_type": "code",
   "execution_count": 177,
   "id": "5eb5ae8d",
   "metadata": {},
   "outputs": [
    {
     "name": "stdout",
     "output_type": "stream",
     "text": [
      "CPU times: user 1min 11s, sys: 333 ms, total: 1min 11s\n",
      "Wall time: 1min 11s\n"
     ]
    },
    {
     "data": {
      "text/html": [
       "<div>\n",
       "<style scoped>\n",
       "    .dataframe tbody tr th:only-of-type {\n",
       "        vertical-align: middle;\n",
       "    }\n",
       "\n",
       "    .dataframe tbody tr th {\n",
       "        vertical-align: top;\n",
       "    }\n",
       "\n",
       "    .dataframe thead th {\n",
       "        text-align: right;\n",
       "    }\n",
       "</style>\n",
       "<table border=\"1\" class=\"dataframe\">\n",
       "  <thead>\n",
       "    <tr style=\"text-align: right;\">\n",
       "      <th></th>\n",
       "      <th>ann=0</th>\n",
       "      <th>ann=1</th>\n",
       "      <th>ann=2</th>\n",
       "      <th>ann=3</th>\n",
       "      <th>ann=4</th>\n",
       "      <th>ann=5</th>\n",
       "      <th>ann=6</th>\n",
       "      <th>ann=7</th>\n",
       "      <th>ann=8</th>\n",
       "      <th>ann=9</th>\n",
       "      <th>...</th>\n",
       "      <th>dist=2</th>\n",
       "      <th>dist=3</th>\n",
       "      <th>dist=4</th>\n",
       "      <th>dist=5</th>\n",
       "      <th>dist=6</th>\n",
       "      <th>dist=7</th>\n",
       "      <th>dist=8</th>\n",
       "      <th>dist=9</th>\n",
       "      <th>Mean_9ANNs</th>\n",
       "      <th>WeightedMean_9ANNs</th>\n",
       "    </tr>\n",
       "    <tr>\n",
       "      <th>key_0</th>\n",
       "      <th></th>\n",
       "      <th></th>\n",
       "      <th></th>\n",
       "      <th></th>\n",
       "      <th></th>\n",
       "      <th></th>\n",
       "      <th></th>\n",
       "      <th></th>\n",
       "      <th></th>\n",
       "      <th></th>\n",
       "      <th></th>\n",
       "      <th></th>\n",
       "      <th></th>\n",
       "      <th></th>\n",
       "      <th></th>\n",
       "      <th></th>\n",
       "      <th></th>\n",
       "      <th></th>\n",
       "      <th></th>\n",
       "      <th></th>\n",
       "      <th></th>\n",
       "    </tr>\n",
       "  </thead>\n",
       "  <tbody>\n",
       "    <tr>\n",
       "      <th>ZTF17aaaacoy</th>\n",
       "      <td>86647</td>\n",
       "      <td>31494</td>\n",
       "      <td>44394</td>\n",
       "      <td>51539</td>\n",
       "      <td>18892</td>\n",
       "      <td>45597</td>\n",
       "      <td>36962</td>\n",
       "      <td>46621</td>\n",
       "      <td>56870</td>\n",
       "      <td>76025</td>\n",
       "      <td>...</td>\n",
       "      <td>0.427520</td>\n",
       "      <td>0.441686</td>\n",
       "      <td>0.499101</td>\n",
       "      <td>0.528973</td>\n",
       "      <td>0.564232</td>\n",
       "      <td>0.580511</td>\n",
       "      <td>0.582243</td>\n",
       "      <td>0.593148</td>\n",
       "      <td>0.513995</td>\n",
       "      <td>0.446330</td>\n",
       "    </tr>\n",
       "    <tr>\n",
       "      <th>ZTF17aaaacsm</th>\n",
       "      <td>6582</td>\n",
       "      <td>66800</td>\n",
       "      <td>37005</td>\n",
       "      <td>39025</td>\n",
       "      <td>70683</td>\n",
       "      <td>1379</td>\n",
       "      <td>16463</td>\n",
       "      <td>19048</td>\n",
       "      <td>89308</td>\n",
       "      <td>69265</td>\n",
       "      <td>...</td>\n",
       "      <td>0.482770</td>\n",
       "      <td>0.492930</td>\n",
       "      <td>0.523796</td>\n",
       "      <td>0.528795</td>\n",
       "      <td>0.529938</td>\n",
       "      <td>0.530892</td>\n",
       "      <td>0.542349</td>\n",
       "      <td>0.544470</td>\n",
       "      <td>0.514988</td>\n",
       "      <td>0.485493</td>\n",
       "    </tr>\n",
       "    <tr>\n",
       "      <th>ZTF17aaaadml</th>\n",
       "      <td>42918</td>\n",
       "      <td>76851</td>\n",
       "      <td>36232</td>\n",
       "      <td>27666</td>\n",
       "      <td>79407</td>\n",
       "      <td>32548</td>\n",
       "      <td>61038</td>\n",
       "      <td>65928</td>\n",
       "      <td>75879</td>\n",
       "      <td>45484</td>\n",
       "      <td>...</td>\n",
       "      <td>0.514876</td>\n",
       "      <td>0.520238</td>\n",
       "      <td>0.521422</td>\n",
       "      <td>0.521685</td>\n",
       "      <td>0.522198</td>\n",
       "      <td>0.550329</td>\n",
       "      <td>0.555622</td>\n",
       "      <td>0.576350</td>\n",
       "      <td>0.532069</td>\n",
       "      <td>0.515401</td>\n",
       "    </tr>\n",
       "    <tr>\n",
       "      <th>ZTF17aaaaemx</th>\n",
       "      <td>74875</td>\n",
       "      <td>60172</td>\n",
       "      <td>67314</td>\n",
       "      <td>27617</td>\n",
       "      <td>82926</td>\n",
       "      <td>40235</td>\n",
       "      <td>89847</td>\n",
       "      <td>74572</td>\n",
       "      <td>6329</td>\n",
       "      <td>25457</td>\n",
       "      <td>...</td>\n",
       "      <td>0.422978</td>\n",
       "      <td>0.443602</td>\n",
       "      <td>0.459196</td>\n",
       "      <td>0.460676</td>\n",
       "      <td>0.460821</td>\n",
       "      <td>0.467661</td>\n",
       "      <td>0.468161</td>\n",
       "      <td>0.471162</td>\n",
       "      <td>0.445193</td>\n",
       "      <td>0.407587</td>\n",
       "    </tr>\n",
       "    <tr>\n",
       "      <th>ZTF17aaaaene</th>\n",
       "      <td>64679</td>\n",
       "      <td>49491</td>\n",
       "      <td>41985</td>\n",
       "      <td>67406</td>\n",
       "      <td>41400</td>\n",
       "      <td>70317</td>\n",
       "      <td>78067</td>\n",
       "      <td>34202</td>\n",
       "      <td>42598</td>\n",
       "      <td>72274</td>\n",
       "      <td>...</td>\n",
       "      <td>0.443556</td>\n",
       "      <td>0.448340</td>\n",
       "      <td>0.449720</td>\n",
       "      <td>0.451494</td>\n",
       "      <td>0.453022</td>\n",
       "      <td>0.456409</td>\n",
       "      <td>0.456645</td>\n",
       "      <td>0.460210</td>\n",
       "      <td>0.449616</td>\n",
       "      <td>0.439886</td>\n",
       "    </tr>\n",
       "    <tr>\n",
       "      <th>...</th>\n",
       "      <td>...</td>\n",
       "      <td>...</td>\n",
       "      <td>...</td>\n",
       "      <td>...</td>\n",
       "      <td>...</td>\n",
       "      <td>...</td>\n",
       "      <td>...</td>\n",
       "      <td>...</td>\n",
       "      <td>...</td>\n",
       "      <td>...</td>\n",
       "      <td>...</td>\n",
       "      <td>...</td>\n",
       "      <td>...</td>\n",
       "      <td>...</td>\n",
       "      <td>...</td>\n",
       "      <td>...</td>\n",
       "      <td>...</td>\n",
       "      <td>...</td>\n",
       "      <td>...</td>\n",
       "      <td>...</td>\n",
       "      <td>...</td>\n",
       "    </tr>\n",
       "    <tr>\n",
       "      <th>ZTF18abcjjoz</th>\n",
       "      <td>54661</td>\n",
       "      <td>62192</td>\n",
       "      <td>26384</td>\n",
       "      <td>76422</td>\n",
       "      <td>37782</td>\n",
       "      <td>14154</td>\n",
       "      <td>47743</td>\n",
       "      <td>42877</td>\n",
       "      <td>69306</td>\n",
       "      <td>74870</td>\n",
       "      <td>...</td>\n",
       "      <td>0.523861</td>\n",
       "      <td>0.566138</td>\n",
       "      <td>0.569343</td>\n",
       "      <td>0.621141</td>\n",
       "      <td>0.632366</td>\n",
       "      <td>0.633917</td>\n",
       "      <td>0.634952</td>\n",
       "      <td>0.636624</td>\n",
       "      <td>0.593062</td>\n",
       "      <td>0.546718</td>\n",
       "    </tr>\n",
       "    <tr>\n",
       "      <th>ZTF18abcjjwe</th>\n",
       "      <td>71534</td>\n",
       "      <td>24562</td>\n",
       "      <td>87701</td>\n",
       "      <td>77897</td>\n",
       "      <td>45741</td>\n",
       "      <td>14166</td>\n",
       "      <td>5093</td>\n",
       "      <td>43902</td>\n",
       "      <td>53628</td>\n",
       "      <td>1294</td>\n",
       "      <td>...</td>\n",
       "      <td>0.640987</td>\n",
       "      <td>0.649310</td>\n",
       "      <td>0.661624</td>\n",
       "      <td>0.707190</td>\n",
       "      <td>0.711042</td>\n",
       "      <td>0.714804</td>\n",
       "      <td>0.728780</td>\n",
       "      <td>0.731650</td>\n",
       "      <td>0.670665</td>\n",
       "      <td>0.595842</td>\n",
       "    </tr>\n",
       "    <tr>\n",
       "      <th>ZTF18abcjlhs</th>\n",
       "      <td>40334</td>\n",
       "      <td>3210</td>\n",
       "      <td>2973</td>\n",
       "      <td>1656</td>\n",
       "      <td>76812</td>\n",
       "      <td>79214</td>\n",
       "      <td>88536</td>\n",
       "      <td>68443</td>\n",
       "      <td>75506</td>\n",
       "      <td>34733</td>\n",
       "      <td>...</td>\n",
       "      <td>0.515947</td>\n",
       "      <td>0.521909</td>\n",
       "      <td>0.529006</td>\n",
       "      <td>0.561579</td>\n",
       "      <td>0.568707</td>\n",
       "      <td>0.569207</td>\n",
       "      <td>0.571795</td>\n",
       "      <td>0.577382</td>\n",
       "      <td>0.545310</td>\n",
       "      <td>0.515798</td>\n",
       "    </tr>\n",
       "    <tr>\n",
       "      <th>ZTF18abcjljg</th>\n",
       "      <td>77539</td>\n",
       "      <td>32857</td>\n",
       "      <td>5041</td>\n",
       "      <td>66487</td>\n",
       "      <td>83034</td>\n",
       "      <td>82835</td>\n",
       "      <td>49014</td>\n",
       "      <td>16213</td>\n",
       "      <td>68944</td>\n",
       "      <td>19954</td>\n",
       "      <td>...</td>\n",
       "      <td>0.590865</td>\n",
       "      <td>0.598368</td>\n",
       "      <td>0.608122</td>\n",
       "      <td>0.616748</td>\n",
       "      <td>0.617605</td>\n",
       "      <td>0.621558</td>\n",
       "      <td>0.638365</td>\n",
       "      <td>0.644255</td>\n",
       "      <td>0.609230</td>\n",
       "      <td>0.580892</td>\n",
       "    </tr>\n",
       "    <tr>\n",
       "      <th>ZTF18abcjlwe</th>\n",
       "      <td>54591</td>\n",
       "      <td>19593</td>\n",
       "      <td>55346</td>\n",
       "      <td>14005</td>\n",
       "      <td>12334</td>\n",
       "      <td>69344</td>\n",
       "      <td>18410</td>\n",
       "      <td>11529</td>\n",
       "      <td>62263</td>\n",
       "      <td>80855</td>\n",
       "      <td>...</td>\n",
       "      <td>0.548072</td>\n",
       "      <td>0.579556</td>\n",
       "      <td>0.587722</td>\n",
       "      <td>0.594918</td>\n",
       "      <td>0.606238</td>\n",
       "      <td>0.607485</td>\n",
       "      <td>0.610499</td>\n",
       "      <td>0.612289</td>\n",
       "      <td>0.571334</td>\n",
       "      <td>0.504708</td>\n",
       "    </tr>\n",
       "  </tbody>\n",
       "</table>\n",
       "<p>10000 rows × 22 columns</p>\n",
       "</div>"
      ],
      "text/plain": [
       "              ann=0  ann=1  ann=2  ann=3  ann=4  ann=5  ann=6  ann=7  ann=8  \\\n",
       "key_0                                                                         \n",
       "ZTF17aaaacoy  86647  31494  44394  51539  18892  45597  36962  46621  56870   \n",
       "ZTF17aaaacsm   6582  66800  37005  39025  70683   1379  16463  19048  89308   \n",
       "ZTF17aaaadml  42918  76851  36232  27666  79407  32548  61038  65928  75879   \n",
       "ZTF17aaaaemx  74875  60172  67314  27617  82926  40235  89847  74572   6329   \n",
       "ZTF17aaaaene  64679  49491  41985  67406  41400  70317  78067  34202  42598   \n",
       "...             ...    ...    ...    ...    ...    ...    ...    ...    ...   \n",
       "ZTF18abcjjoz  54661  62192  26384  76422  37782  14154  47743  42877  69306   \n",
       "ZTF18abcjjwe  71534  24562  87701  77897  45741  14166   5093  43902  53628   \n",
       "ZTF18abcjlhs  40334   3210   2973   1656  76812  79214  88536  68443  75506   \n",
       "ZTF18abcjljg  77539  32857   5041  66487  83034  82835  49014  16213  68944   \n",
       "ZTF18abcjlwe  54591  19593  55346  14005  12334  69344  18410  11529  62263   \n",
       "\n",
       "              ann=9  ...    dist=2    dist=3    dist=4    dist=5    dist=6  \\\n",
       "key_0                ...                                                     \n",
       "ZTF17aaaacoy  76025  ...  0.427520  0.441686  0.499101  0.528973  0.564232   \n",
       "ZTF17aaaacsm  69265  ...  0.482770  0.492930  0.523796  0.528795  0.529938   \n",
       "ZTF17aaaadml  45484  ...  0.514876  0.520238  0.521422  0.521685  0.522198   \n",
       "ZTF17aaaaemx  25457  ...  0.422978  0.443602  0.459196  0.460676  0.460821   \n",
       "ZTF17aaaaene  72274  ...  0.443556  0.448340  0.449720  0.451494  0.453022   \n",
       "...             ...  ...       ...       ...       ...       ...       ...   \n",
       "ZTF18abcjjoz  74870  ...  0.523861  0.566138  0.569343  0.621141  0.632366   \n",
       "ZTF18abcjjwe   1294  ...  0.640987  0.649310  0.661624  0.707190  0.711042   \n",
       "ZTF18abcjlhs  34733  ...  0.515947  0.521909  0.529006  0.561579  0.568707   \n",
       "ZTF18abcjljg  19954  ...  0.590865  0.598368  0.608122  0.616748  0.617605   \n",
       "ZTF18abcjlwe  80855  ...  0.548072  0.579556  0.587722  0.594918  0.606238   \n",
       "\n",
       "                dist=7    dist=8    dist=9  Mean_9ANNs  WeightedMean_9ANNs  \n",
       "key_0                                                                       \n",
       "ZTF17aaaacoy  0.580511  0.582243  0.593148    0.513995            0.446330  \n",
       "ZTF17aaaacsm  0.530892  0.542349  0.544470    0.514988            0.485493  \n",
       "ZTF17aaaadml  0.550329  0.555622  0.576350    0.532069            0.515401  \n",
       "ZTF17aaaaemx  0.467661  0.468161  0.471162    0.445193            0.407587  \n",
       "ZTF17aaaaene  0.456409  0.456645  0.460210    0.449616            0.439886  \n",
       "...                ...       ...       ...         ...                 ...  \n",
       "ZTF18abcjjoz  0.633917  0.634952  0.636624    0.593062            0.546718  \n",
       "ZTF18abcjjwe  0.714804  0.728780  0.731650    0.670665            0.595842  \n",
       "ZTF18abcjlhs  0.569207  0.571795  0.577382    0.545310            0.515798  \n",
       "ZTF18abcjljg  0.621558  0.638365  0.644255    0.609230            0.580892  \n",
       "ZTF18abcjlwe  0.607485  0.610499  0.612289    0.571334            0.504708  \n",
       "\n",
       "[10000 rows x 22 columns]"
      ]
     },
     "execution_count": 177,
     "metadata": {},
     "output_type": "execute_result"
    }
   ],
   "source": [
    "%%time\n",
    "\n",
    "ref_name_l, id_l, dist_l = [], [], []\n",
    "for ref in list(np.unique(dataset_bank.index))[0:10000]:\n",
    "    dataset_ref = dataset_bank[dataset_bank.index == ref] \n",
    "\n",
    "    feat_arr_ref = np.vstack(np.array(dataset_ref, dtype='object'))\n",
    "    scaled_feat_arr_ref = feat_arr_ref # PCA, so already scaled\n",
    "\n",
    "    snid = dataset_ref.index.values[0]\n",
    "    lcdata = {'name': snid, 'vector': scaled_feat_arr_ref[0]}\n",
    "    #lcdata = {'name': ztf_id, 'vector': feat_arr_scaled[-5:-4][0]}\n",
    "\n",
    "    #result_id, result_dist = index.index.get_nns_by_item(, n=10, include_distances=True)\n",
    "    result_id, result_dist = index.index.get_nns_by_vector(lcdata['vector'], n=10, include_distances=True)\n",
    "    \n",
    "    ref_name_l.append(snid), id_l.append(result_id), dist_l.append(result_dist)\n",
    "    \n",
    "temp_df = pd.DataFrame(zip(ref_name_l, id_l, dist_l), columns=['Reference', 'ids', 'dists'])\n",
    "temp_df = temp_df.set_index('Reference')\n",
    "ann_split_df = temp_df.merge(pd.DataFrame(temp_df['ids'].values.tolist()).add_prefix('ann='), on=temp_df.index)\n",
    "ann_split_df = ann_split_df.set_index('key_0')\n",
    "ann_dist_all_df = ann_split_df.merge(pd.DataFrame(ann_split_df['dists'].values.tolist()).add_prefix('dist='), on=ann_split_df.index)\n",
    "ann_dist_all_df = ann_dist_all_df.drop(columns=['ids', 'dists'])\n",
    "ann_dist_all_df = ann_dist_all_df.set_index('key_0')\n",
    "\n",
    "# find average (mean) distance of first 9 ANNs.\n",
    "col_list= [f'dist={col}' for col in range(1, 10)]\n",
    "# sum specific columns\n",
    "ann_dist_all_df[f'Mean_{len(col_list)}ANNs'] = (ann_dist_all_df[col_list].sum(axis=1))/(len(col_list))\n",
    "\n",
    "# weighted distance of first 9 ANNs\n",
    "weight_l = [34, 21, 13, 8, 5, 3, 2, 1, 1] # Fibonacci seq.\n",
    "ann_dist_all_df[f'WeightedMean_{len(col_list)}ANNs'] = np.average(ann_dist_all_df[col_list], weights=weight_l, axis=1)\n",
    "ann_dist_all_df"
   ]
  },
  {
   "cell_type": "code",
   "execution_count": 178,
   "id": "2b2710a3",
   "metadata": {},
   "outputs": [
    {
     "name": "stdout",
     "output_type": "stream",
     "text": [
      "summary stats\n",
      "Scatter mean: 0.5417224160828206\n",
      "Scatter median: 0.5388960994102738\n",
      "Scatter std: 0.09927460268772428\n",
      "Scatter max: 1.4100519093600186\n",
      "Scatter min: 0.17514450822702862\n",
      "\n",
      "\n",
      "Most anomalous: ZTF18abcfcoo\n"
     ]
    }
   ],
   "source": [
    "# Pick distance metric. \n",
    "# Weighted mean of first 9 ANNs (Fibonacci), OR Mean of first 9 ANNs, OR distance to first ANN. \n",
    "# TODO: EXPLORE DIFFERENT METRICS!\n",
    "dist_col = f'WeightedMean_{len(col_list)}ANNs'  # f'Mean_{len(col_list)}ANNs' # 'dist=1'\n",
    "\n",
    "print(\"summary stats\")\n",
    "print(\"Scatter mean:\", np.mean(ann_dist_all_df[dist_col]))\n",
    "print(\"Scatter median:\", np.median(ann_dist_all_df[dist_col]))\n",
    "print(\"Scatter std:\", np.std(ann_dist_all_df[dist_col]))\n",
    "print(\"Scatter max:\", np.max(ann_dist_all_df[dist_col]))\n",
    "print(\"Scatter min:\", np.min(ann_dist_all_df[dist_col]))\n",
    "print(\"\\n\")\n",
    "\n",
    "#Returns index of mean distance of 9 ANNs\n",
    "print(\"Most anomalous:\", ann_dist_all_df[[dist_col]].idxmax().values[0])"
   ]
  },
  {
   "cell_type": "markdown",
   "id": "a92813e1",
   "metadata": {},
   "source": [
    "# Largest distance"
   ]
  },
  {
   "cell_type": "code",
   "execution_count": 179,
   "id": "9bd4cb53",
   "metadata": {},
   "outputs": [
    {
     "name": "stdout",
     "output_type": "stream",
     "text": [
      "Max dist 1.4100519093600186\n"
     ]
    }
   ],
   "source": [
    "ref_obj = ann_dist_all_df[[dist_col]].idxmax().values[0] #'ZTF18acbwaxk'\n",
    "print(\"Max dist\", ann_dist_all_df.loc[ref_obj][dist_col]) "
   ]
  },
  {
   "cell_type": "code",
   "execution_count": 180,
   "id": "8e3bf384",
   "metadata": {},
   "outputs": [
    {
     "data": {
      "text/html": [
       "<div>\n",
       "<style scoped>\n",
       "    .dataframe tbody tr th:only-of-type {\n",
       "        vertical-align: middle;\n",
       "    }\n",
       "\n",
       "    .dataframe tbody tr th {\n",
       "        vertical-align: top;\n",
       "    }\n",
       "\n",
       "    .dataframe thead th {\n",
       "        text-align: right;\n",
       "    }\n",
       "</style>\n",
       "<table border=\"1\" class=\"dataframe\">\n",
       "  <thead>\n",
       "    <tr style=\"text-align: right;\">\n",
       "      <th></th>\n",
       "      <th>PC0</th>\n",
       "      <th>PC1</th>\n",
       "      <th>PC2</th>\n",
       "      <th>PC3</th>\n",
       "      <th>PC4</th>\n",
       "      <th>PC5</th>\n",
       "      <th>PC6</th>\n",
       "      <th>PC7</th>\n",
       "      <th>PC8</th>\n",
       "      <th>PC9</th>\n",
       "      <th>...</th>\n",
       "      <th>PC15</th>\n",
       "      <th>PC16</th>\n",
       "      <th>PC17</th>\n",
       "      <th>PC18</th>\n",
       "      <th>PC19</th>\n",
       "      <th>PC20</th>\n",
       "      <th>PC21</th>\n",
       "      <th>PC22</th>\n",
       "      <th>PC23</th>\n",
       "      <th>PC24</th>\n",
       "    </tr>\n",
       "    <tr>\n",
       "      <th>ztf_object_id</th>\n",
       "      <th></th>\n",
       "      <th></th>\n",
       "      <th></th>\n",
       "      <th></th>\n",
       "      <th></th>\n",
       "      <th></th>\n",
       "      <th></th>\n",
       "      <th></th>\n",
       "      <th></th>\n",
       "      <th></th>\n",
       "      <th></th>\n",
       "      <th></th>\n",
       "      <th></th>\n",
       "      <th></th>\n",
       "      <th></th>\n",
       "      <th></th>\n",
       "      <th></th>\n",
       "      <th></th>\n",
       "      <th></th>\n",
       "      <th></th>\n",
       "      <th></th>\n",
       "    </tr>\n",
       "  </thead>\n",
       "  <tbody>\n",
       "    <tr>\n",
       "      <th>ZTF18abcfcoo</th>\n",
       "      <td>0.606933</td>\n",
       "      <td>1.018831</td>\n",
       "      <td>1.120599</td>\n",
       "      <td>-0.31076</td>\n",
       "      <td>0.468529</td>\n",
       "      <td>-0.841392</td>\n",
       "      <td>0.042706</td>\n",
       "      <td>-0.357962</td>\n",
       "      <td>0.412538</td>\n",
       "      <td>0.326444</td>\n",
       "      <td>...</td>\n",
       "      <td>-0.465859</td>\n",
       "      <td>0.362053</td>\n",
       "      <td>-0.248571</td>\n",
       "      <td>0.064425</td>\n",
       "      <td>0.533324</td>\n",
       "      <td>0.400111</td>\n",
       "      <td>-0.09366</td>\n",
       "      <td>0.064697</td>\n",
       "      <td>0.092615</td>\n",
       "      <td>0.172554</td>\n",
       "    </tr>\n",
       "  </tbody>\n",
       "</table>\n",
       "<p>1 rows × 25 columns</p>\n",
       "</div>"
      ],
      "text/plain": [
       "                    PC0       PC1       PC2      PC3       PC4       PC5  \\\n",
       "ztf_object_id                                                              \n",
       "ZTF18abcfcoo   0.606933  1.018831  1.120599 -0.31076  0.468529 -0.841392   \n",
       "\n",
       "                    PC6       PC7       PC8       PC9  ...      PC15  \\\n",
       "ztf_object_id                                          ...             \n",
       "ZTF18abcfcoo   0.042706 -0.357962  0.412538  0.326444  ... -0.465859   \n",
       "\n",
       "                   PC16      PC17      PC18      PC19      PC20     PC21  \\\n",
       "ztf_object_id                                                              \n",
       "ZTF18abcfcoo   0.362053 -0.248571  0.064425  0.533324  0.400111 -0.09366   \n",
       "\n",
       "                   PC22      PC23      PC24  \n",
       "ztf_object_id                                \n",
       "ZTF18abcfcoo   0.064697  0.092615  0.172554  \n",
       "\n",
       "[1 rows x 25 columns]"
      ]
     },
     "execution_count": 180,
     "metadata": {},
     "output_type": "execute_result"
    }
   ],
   "source": [
    "dataset_bank[dataset_bank.index == ref_obj]"
   ]
  },
  {
   "cell_type": "code",
   "execution_count": 181,
   "id": "8a694fc4",
   "metadata": {},
   "outputs": [
    {
     "data": {
      "image/png": "[encoded data removed]",
      "text/plain": [
       "<Figure size 432x288 with 1 Axes>"
      ]
     },
     "metadata": {
      "needs_background": "light"
     },
     "output_type": "display_data"
    },
    {
     "data": {
      "image/png": "[encoded data removed]",
      "text/plain": [
       "<Figure size 432x288 with 1 Axes>"
      ]
     },
     "metadata": {
      "needs_background": "light"
     },
     "output_type": "display_data"
    },
    {
     "data": {
      "image/png": "[encoded data removed]",
      "text/plain": [
       "<Figure size 432x288 with 1 Axes>"
      ]
     },
     "metadata": {
      "needs_background": "light"
     },
     "output_type": "display_data"
    },
    {
     "data": {
      "image/png": "[encoded data removed]",
      "text/plain": [
       "<Figure size 432x288 with 1 Axes>"
      ]
     },
     "metadata": {
      "needs_background": "light"
     },
     "output_type": "display_data"
    },
    {
     "data": {
      "image/png": "[encoded data removed]",
      "text/plain": [
       "<Figure size 432x288 with 1 Axes>"
      ]
     },
     "metadata": {
      "needs_background": "light"
     },
     "output_type": "display_data"
    },
    {
     "data": {
      "image/png": "[encoded data removed]",
      "text/plain": [
       "<Figure size 432x288 with 1 Axes>"
      ]
     },
     "metadata": {
      "needs_background": "light"
     },
     "output_type": "display_data"
    },
    {
     "data": {
      "image/png": "[encoded data removed]",
      "text/plain": [
       "<Figure size 432x288 with 1 Axes>"
      ]
     },
     "metadata": {
      "needs_background": "light"
     },
     "output_type": "display_data"
    },
    {
     "data": {
      "image/png": "[encoded data removed]",
      "text/plain": [
       "<Figure size 432x288 with 1 Axes>"
      ]
     },
     "metadata": {
      "needs_background": "light"
     },
     "output_type": "display_data"
    },
    {
     "data": {
      "image/png": "[encoded data removed]",
      "text/plain": [
       "<Figure size 432x288 with 1 Axes>"
      ]
     },
     "metadata": {
      "needs_background": "light"
     },
     "output_type": "display_data"
    },
    {
     "data": {
      "image/png": "[encoded data removed]",
      "text/plain": [
       "<Figure size 432x288 with 1 Axes>"
      ]
     },
     "metadata": {
      "needs_background": "light"
     },
     "output_type": "display_data"
    },
    {
     "data": {
      "image/png": "[encoded data removed]",
      "text/plain": [
       "<Figure size 432x288 with 1 Axes>"
      ]
     },
     "metadata": {
      "needs_background": "light"
     },
     "output_type": "display_data"
    },
    {
     "data": {
      "image/png": "[encoded data removed]",
      "text/plain": [
       "<Figure size 432x288 with 1 Axes>"
      ]
     },
     "metadata": {
      "needs_background": "light"
     },
     "output_type": "display_data"
    },
    {
     "data": {
      "image/png": "[encoded data removed]",
      "text/plain": [
       "<Figure size 432x288 with 1 Axes>"
      ]
     },
     "metadata": {
      "needs_background": "light"
     },
     "output_type": "display_data"
    },
    {
     "data": {
      "image/png": "[encoded data removed]",
      "text/plain": [
       "<Figure size 432x288 with 1 Axes>"
      ]
     },
     "metadata": {
      "needs_background": "light"
     },
     "output_type": "display_data"
    },
    {
     "data": {
      "image/png": "[encoded data removed]",
      "text/plain": [
       "<Figure size 432x288 with 1 Axes>"
      ]
     },
     "metadata": {
      "needs_background": "light"
     },
     "output_type": "display_data"
    },
    {
     "data": {
      "image/png": "[encoded data removed]",
      "text/plain": [
       "<Figure size 432x288 with 1 Axes>"
      ]
     },
     "metadata": {
      "needs_background": "light"
     },
     "output_type": "display_data"
    },
    {
     "data": {
      "image/png": "[encoded data removed]",
      "text/plain": [
       "<Figure size 432x288 with 1 Axes>"
      ]
     },
     "metadata": {
      "needs_background": "light"
     },
     "output_type": "display_data"
    },
    {
     "data": {
      "image/png": "[encoded data removed]",
      "text/plain": [
       "<Figure size 432x288 with 1 Axes>"
      ]
     },
     "metadata": {
      "needs_background": "light"
     },
     "output_type": "display_data"
    },
    {
     "data": {
      "image/png": "[encoded data removed]",
      "text/plain": [
       "<Figure size 432x288 with 1 Axes>"
      ]
     },
     "metadata": {
      "needs_background": "light"
     },
     "output_type": "display_data"
    },
    {
     "data": {
      "image/png": "[encoded data removed]",
      "text/plain": [
       "<Figure size 432x288 with 1 Axes>"
      ]
     },
     "metadata": {
      "needs_background": "light"
     },
     "output_type": "display_data"
    },
    {
     "data": {
      "image/png": "[encoded data removed]",
      "text/plain": [
       "<Figure size 432x288 with 1 Axes>"
      ]
     },
     "metadata": {
      "needs_background": "light"
     },
     "output_type": "display_data"
    },
    {
     "data": {
      "image/png": "[encoded data removed]",
      "text/plain": [
       "<Figure size 432x288 with 1 Axes>"
      ]
     },
     "metadata": {
      "needs_background": "light"
     },
     "output_type": "display_data"
    },
    {
     "data": {
      "image/png": "[encoded data removed]",
      "text/plain": [
       "<Figure size 432x288 with 1 Axes>"
      ]
     },
     "metadata": {
      "needs_background": "light"
     },
     "output_type": "display_data"
    },
    {
     "data": {
      "image/png": "[encoded data removed]",
      "text/plain": [
       "<Figure size 432x288 with 1 Axes>"
      ]
     },
     "metadata": {
      "needs_background": "light"
     },
     "output_type": "display_data"
    },
    {
     "data": {
      "image/png": "[encoded data removed]",
      "text/plain": [
       "<Figure size 432x288 with 1 Axes>"
      ]
     },
     "metadata": {
      "needs_background": "light"
     },
     "output_type": "display_data"
    }
   ],
   "source": [
    "feat_scatter_l = []\n",
    "for feat in dataset_bank.columns:\n",
    "    fig, ax = plt.subplots()\n",
    "    min_feat, max_feat = np.min(dataset_bank[feat]), np.max(dataset_bank[feat])\n",
    "    \n",
    "    ax.hist(dataset_bank[feat], bins=np.linspace(min_feat, max_feat, 100))\n",
    "    \n",
    "    ref = dataset_bank[dataset_bank.index == ref_obj]\n",
    "    \n",
    "    ax.axvline(ref[feat].values[0], color='m', label=ref_obj)\n",
    "    ax.set_title(feat)\n",
    "    ax.set_xlim(min_feat, max_feat)\n",
    "    \n",
    "    plt.legend()\n",
    "    plt.show()\n",
    "    \n",
    "    feat_scatter = np.std(dataset_bank[feat])\n",
    "    feat_scatter_l.append(feat_scatter)   "
   ]
  },
  {
   "cell_type": "code",
   "execution_count": 189,
   "id": "a90af7a7",
   "metadata": {},
   "outputs": [
    {
     "name": "stdout",
     "output_type": "stream",
     "text": [
      "[0.6069325751554592 1.0188306697006937 1.120598546678515\n",
      " -0.31076037714091675 0.46852900196956554 -0.8413921283038358\n",
      " 0.042705809535899586 -0.35796158839284586 0.41253834386348487\n",
      " 0.3264444053599188 0.5090310069008187 -0.6564600545260704\n",
      " -0.7975784097049513 -0.38598762245263174 0.2205260603274108\n",
      " -0.4658588352252766 0.36205265612792936 -0.2485708765983756\n",
      " 0.06442528125942203 0.533324241023802 0.4001112176276529\n",
      " -0.0936599359893522 0.06469744635667238 0.09261543578207962\n",
      " 0.172554323649387]\n",
      "ZTF ID name (ref) ZTF18abcfcoo\n"
     ]
    },
    {
     "data": {
      "text/markdown": [
       "https://alerce.online/object/ZTF18abcfcoo"
      ]
     },
     "metadata": {},
     "output_type": "display_data"
    },
    {
     "name": "stdout",
     "output_type": "stream",
     "text": [
      "None\n",
      "%%%%%%\n",
      "ANN\t\tIDX\t\t\t\tZTF_id\t\t\t\tDIST\n"
     ]
    },
    {
     "data": {
      "text/markdown": [
       "https://alerce.online/object/ZTF18abcfcoo"
      ]
     },
     "metadata": {},
     "output_type": "display_data"
    },
    {
     "name": "stdout",
     "output_type": "stream",
     "text": [
      "0\t\t68288\t\t\t\tNone\t\t\t0.0\n"
     ]
    },
    {
     "data": {
      "text/markdown": [
       "https://alerce.online/object/ZTF18abdcpmd"
      ]
     },
     "metadata": {},
     "output_type": "display_data"
    },
    {
     "name": "stdout",
     "output_type": "stream",
     "text": [
      "1\t\t40715\t\t\t\tNone\t\t\t1.3136\n"
     ]
    },
    {
     "data": {
      "text/markdown": [
       "https://alerce.online/object/ZTF18aaniglz"
      ]
     },
     "metadata": {},
     "output_type": "display_data"
    },
    {
     "name": "stdout",
     "output_type": "stream",
     "text": [
      "2\t\t54430\t\t\t\tNone\t\t\t1.4458\n"
     ]
    },
    {
     "data": {
      "text/markdown": [
       "https://alerce.online/object/ZTF19abotnhf"
      ]
     },
     "metadata": {},
     "output_type": "display_data"
    },
    {
     "name": "stdout",
     "output_type": "stream",
     "text": [
      "3\t\t33764\t\t\t\tNone\t\t\t1.457\n"
     ]
    },
    {
     "data": {
      "text/markdown": [
       "https://alerce.online/object/ZTF18aarjqda"
      ]
     },
     "metadata": {},
     "output_type": "display_data"
    },
    {
     "name": "stdout",
     "output_type": "stream",
     "text": [
      "4\t\t74949\t\t\t\tNone\t\t\t1.4621\n"
     ]
    },
    {
     "data": {
      "text/markdown": [
       "https://alerce.online/object/ZTF18abnjsqz"
      ]
     },
     "metadata": {},
     "output_type": "display_data"
    },
    {
     "name": "stdout",
     "output_type": "stream",
     "text": [
      "5\t\t76935\t\t\t\tNone\t\t\t1.5166\n"
     ]
    },
    {
     "data": {
      "text/markdown": [
       "https://alerce.online/object/ZTF18aaufckh"
      ]
     },
     "metadata": {},
     "output_type": "display_data"
    },
    {
     "name": "stdout",
     "output_type": "stream",
     "text": [
      "6\t\t48682\t\t\t\tNone\t\t\t1.5257\n"
     ]
    },
    {
     "data": {
      "text/markdown": [
       "https://alerce.online/object/ZTF18abhzofh"
      ]
     },
     "metadata": {},
     "output_type": "display_data"
    },
    {
     "name": "stdout",
     "output_type": "stream",
     "text": [
      "7\t\t72548\t\t\t\tNone\t\t\t1.563\n"
     ]
    },
    {
     "data": {
      "text/markdown": [
       "https://alerce.online/object/ZTF20acwrpxr"
      ]
     },
     "metadata": {},
     "output_type": "display_data"
    },
    {
     "name": "stdout",
     "output_type": "stream",
     "text": [
      "8\t\t73016\t\t\t\tNone\t\t\t1.5681\n"
     ]
    },
    {
     "data": {
      "text/markdown": [
       "https://alerce.online/object/ZTF18abeqqzu"
      ]
     },
     "metadata": {},
     "output_type": "display_data"
    },
    {
     "name": "stdout",
     "output_type": "stream",
     "text": [
      "9\t\t76620\t\t\t\tNone\t\t\t1.5696\n"
     ]
    }
   ],
   "source": [
    "dataset_ref = dataset_bank[dataset_bank.index == ref_obj] #  ref_obj\n",
    "\n",
    "# feat_arr_ref = np.vstack(np.array(dataset_ref, dtype='object'))\n",
    "# scaled_feat_arr_ref = scaler.transform(feat_arr_ref) #scaler.transform(feat_arr) # What your model learns on\n",
    "# #scaled_feat_arr_ref = scaler.fit_transform(feat_arr_ref) #scaler.transform(feat_arr) # What your model learns on\n",
    "\n",
    "# # Scalar then PCA\n",
    "# scaled_feat_arr_ref = np.array(dataset_ref)\n",
    "\n",
    "# PCA only\n",
    "feat_arr_ref = np.vstack(np.array(dataset_ref, dtype='object'))\n",
    "scaled_feat_arr_ref = feat_arr_ref\n",
    "\n",
    "# #PCA then scaler\n",
    "# feat_arr_ref = np.vstack(np.array(dataset_ref, dtype='object'))\n",
    "# scaled_feat_arr_ref = feat_arr_ref\n",
    "\n",
    "\n",
    "snid = dataset_ref.index.values[0]\n",
    "lcdata = {'name': snid, 'vector': scaled_feat_arr_ref[0]}\n",
    "#lcdata = {'name': ztf_id, 'vector': feat_arr_scaled[-5:-4][0]}\n",
    "print(lcdata['vector'])\n",
    "\n",
    "#result_id, result_dist = index.index.get_nns_by_item(, n=10, include_distances=True)\n",
    "result_id, result_dist = index.index.get_nns_by_vector(lcdata['vector'], n=10, include_distances=True)\n",
    "#result_name = index.query(lcdata['vector'])\n",
    "\n",
    "print(f\"ZTF ID name (ref) {snid}\") \n",
    "link_ref = display_markdown(f'https://alerce.online/object/{snid}', raw=True)\n",
    "print(link_ref)\n",
    "print(\"%%%%%%\")\n",
    "print(\"ANN\\t\\tIDX\\t\\t\\t\\tZTF_id\\t\\t\\t\\tDIST\")#\\tFEAT\")\n",
    "for n, (i, d) in enumerate(zip(result_id, result_dist)):#, feat_arr):\n",
    "    print(f\"{n}\\t\\t{i}\\t\\t\\t\\t{display_markdown(f'https://alerce.online/object/{idx_arr[i]}', raw=True)}\\t\\t\\t{round(d, 4)}\")#\\t{f}\")"
   ]
  },
  {
   "cell_type": "code",
   "execution_count": 183,
   "id": "dfe46b02",
   "metadata": {},
   "outputs": [
    {
     "data": {
      "text/plain": [
       "ann=0                 68288.000000\n",
       "ann=1                 40715.000000\n",
       "ann=2                 54430.000000\n",
       "ann=3                 33764.000000\n",
       "ann=4                 74949.000000\n",
       "ann=5                 76935.000000\n",
       "ann=6                 48682.000000\n",
       "ann=7                 72548.000000\n",
       "ann=8                 73016.000000\n",
       "ann=9                 76620.000000\n",
       "dist=0                    0.000000\n",
       "dist=1                    1.313559\n",
       "dist=2                    1.445812\n",
       "dist=3                    1.456996\n",
       "dist=4                    1.462139\n",
       "dist=5                    1.516577\n",
       "dist=6                    1.525657\n",
       "dist=7                    1.562958\n",
       "dist=8                    1.568068\n",
       "dist=9                    1.569595\n",
       "Mean_9ANNs                1.491262\n",
       "WeightedMean_9ANNs        1.410052\n",
       "Name: ZTF18abcfcoo, dtype: float64"
      ]
     },
     "execution_count": 183,
     "metadata": {},
     "output_type": "execute_result"
    }
   ],
   "source": [
    "ann_dist_all_df.loc[ref_obj]"
   ]
  },
  {
   "cell_type": "code",
   "execution_count": 184,
   "id": "50185b32",
   "metadata": {},
   "outputs": [
    {
     "data": {
      "text/plain": [
       "key_0\n",
       "ZTF18abcfcoo    1.410052\n",
       "ZTF18aaslagi    1.260550\n",
       "ZTF18aarwyww    1.128370\n",
       "ZTF18aabrxof    1.116732\n",
       "ZTF18abaphqf    1.088122\n",
       "                  ...   \n",
       "ZTF18aaachlc    0.798663\n",
       "ZTF18aabhkro    0.797845\n",
       "ZTF18abbhiqo    0.796803\n",
       "ZTF18aamycpv    0.796395\n",
       "ZTF18abcjfjq    0.796083\n",
       "Name: WeightedMean_9ANNs, Length: 100, dtype: float64"
      ]
     },
     "execution_count": 184,
     "metadata": {},
     "output_type": "execute_result"
    }
   ],
   "source": [
    "# 10 largest distances\n",
    "ann_dist_all_df[dist_col].nlargest(100)"
   ]
  },
  {
   "cell_type": "code",
   "execution_count": 188,
   "id": "5cf67374",
   "metadata": {},
   "outputs": [
    {
     "data": {
      "text/markdown": [
       "https://alerce.online/object/ZTF18abcfcoo"
      ]
     },
     "metadata": {},
     "output_type": "display_data"
    },
    {
     "name": "stdout",
     "output_type": "stream",
     "text": [
      "None\n"
     ]
    },
    {
     "data": {
      "text/markdown": [
       "https://alerce.online/object/ZTF18aaslagi"
      ]
     },
     "metadata": {},
     "output_type": "display_data"
    },
    {
     "name": "stdout",
     "output_type": "stream",
     "text": [
      "None\n"
     ]
    },
    {
     "data": {
      "text/markdown": [
       "https://alerce.online/object/ZTF18aarwyww"
      ]
     },
     "metadata": {},
     "output_type": "display_data"
    },
    {
     "name": "stdout",
     "output_type": "stream",
     "text": [
      "None\n"
     ]
    },
    {
     "data": {
      "text/markdown": [
       "https://alerce.online/object/ZTF18aabrxof"
      ]
     },
     "metadata": {},
     "output_type": "display_data"
    },
    {
     "name": "stdout",
     "output_type": "stream",
     "text": [
      "None\n"
     ]
    },
    {
     "data": {
      "text/markdown": [
       "https://alerce.online/object/ZTF18abaphqf"
      ]
     },
     "metadata": {},
     "output_type": "display_data"
    },
    {
     "name": "stdout",
     "output_type": "stream",
     "text": [
      "None\n"
     ]
    },
    {
     "data": {
      "text/markdown": [
       "https://alerce.online/object/ZTF18aaoscbs"
      ]
     },
     "metadata": {},
     "output_type": "display_data"
    },
    {
     "name": "stdout",
     "output_type": "stream",
     "text": [
      "None\n"
     ]
    },
    {
     "data": {
      "text/markdown": [
       "https://alerce.online/object/ZTF18aabjkap"
      ]
     },
     "metadata": {},
     "output_type": "display_data"
    },
    {
     "name": "stdout",
     "output_type": "stream",
     "text": [
      "None\n"
     ]
    },
    {
     "data": {
      "text/markdown": [
       "https://alerce.online/object/ZTF18aanoyin"
      ]
     },
     "metadata": {},
     "output_type": "display_data"
    },
    {
     "name": "stdout",
     "output_type": "stream",
     "text": [
      "None\n"
     ]
    },
    {
     "data": {
      "text/markdown": [
       "https://alerce.online/object/ZTF18aaxuusk"
      ]
     },
     "metadata": {},
     "output_type": "display_data"
    },
    {
     "name": "stdout",
     "output_type": "stream",
     "text": [
      "None\n"
     ]
    },
    {
     "data": {
      "text/markdown": [
       "https://alerce.online/object/ZTF18aabfadv"
      ]
     },
     "metadata": {},
     "output_type": "display_data"
    },
    {
     "name": "stdout",
     "output_type": "stream",
     "text": [
      "None\n"
     ]
    },
    {
     "data": {
      "text/markdown": [
       "https://alerce.online/object/ZTF18abbuguo"
      ]
     },
     "metadata": {},
     "output_type": "display_data"
    },
    {
     "name": "stdout",
     "output_type": "stream",
     "text": [
      "None\n"
     ]
    },
    {
     "data": {
      "text/markdown": [
       "https://alerce.online/object/ZTF18aavskan"
      ]
     },
     "metadata": {},
     "output_type": "display_data"
    },
    {
     "name": "stdout",
     "output_type": "stream",
     "text": [
      "None\n"
     ]
    },
    {
     "data": {
      "text/markdown": [
       "https://alerce.online/object/ZTF18aamnlze"
      ]
     },
     "metadata": {},
     "output_type": "display_data"
    },
    {
     "name": "stdout",
     "output_type": "stream",
     "text": [
      "None\n"
     ]
    },
    {
     "data": {
      "text/markdown": [
       "https://alerce.online/object/ZTF18aaarzgv"
      ]
     },
     "metadata": {},
     "output_type": "display_data"
    },
    {
     "name": "stdout",
     "output_type": "stream",
     "text": [
      "None\n"
     ]
    },
    {
     "data": {
      "text/markdown": [
       "https://alerce.online/object/ZTF17aabowel"
      ]
     },
     "metadata": {},
     "output_type": "display_data"
    },
    {
     "name": "stdout",
     "output_type": "stream",
     "text": [
      "None\n"
     ]
    },
    {
     "data": {
      "text/markdown": [
       "https://alerce.online/object/ZTF18abaebfk"
      ]
     },
     "metadata": {},
     "output_type": "display_data"
    },
    {
     "name": "stdout",
     "output_type": "stream",
     "text": [
      "None\n"
     ]
    },
    {
     "data": {
      "text/markdown": [
       "https://alerce.online/object/ZTF18abaeawz"
      ]
     },
     "metadata": {},
     "output_type": "display_data"
    },
    {
     "name": "stdout",
     "output_type": "stream",
     "text": [
      "None\n"
     ]
    },
    {
     "data": {
      "text/markdown": [
       "https://alerce.online/object/ZTF18aabtugl"
      ]
     },
     "metadata": {},
     "output_type": "display_data"
    },
    {
     "name": "stdout",
     "output_type": "stream",
     "text": [
      "None\n"
     ]
    },
    {
     "data": {
      "text/markdown": [
       "https://alerce.online/object/ZTF17aaazrnw"
      ]
     },
     "metadata": {},
     "output_type": "display_data"
    },
    {
     "name": "stdout",
     "output_type": "stream",
     "text": [
      "None\n"
     ]
    },
    {
     "data": {
      "text/markdown": [
       "https://alerce.online/object/ZTF18aabgpcg"
      ]
     },
     "metadata": {},
     "output_type": "display_data"
    },
    {
     "name": "stdout",
     "output_type": "stream",
     "text": [
      "None\n"
     ]
    },
    {
     "data": {
      "text/markdown": [
       "https://alerce.online/object/ZTF18aajcnnr"
      ]
     },
     "metadata": {},
     "output_type": "display_data"
    },
    {
     "name": "stdout",
     "output_type": "stream",
     "text": [
      "None\n"
     ]
    },
    {
     "data": {
      "text/markdown": [
       "https://alerce.online/object/ZTF18aaoritn"
      ]
     },
     "metadata": {},
     "output_type": "display_data"
    },
    {
     "name": "stdout",
     "output_type": "stream",
     "text": [
      "None\n"
     ]
    },
    {
     "data": {
      "text/markdown": [
       "https://alerce.online/object/ZTF18abbcdhn"
      ]
     },
     "metadata": {},
     "output_type": "display_data"
    },
    {
     "name": "stdout",
     "output_type": "stream",
     "text": [
      "None\n"
     ]
    },
    {
     "data": {
      "text/markdown": [
       "https://alerce.online/object/ZTF17aacufux"
      ]
     },
     "metadata": {},
     "output_type": "display_data"
    },
    {
     "name": "stdout",
     "output_type": "stream",
     "text": [
      "None\n"
     ]
    },
    {
     "data": {
      "text/markdown": [
       "https://alerce.online/object/ZTF18aasuwtt"
      ]
     },
     "metadata": {},
     "output_type": "display_data"
    },
    {
     "name": "stdout",
     "output_type": "stream",
     "text": [
      "None\n"
     ]
    },
    {
     "data": {
      "text/markdown": [
       "https://alerce.online/object/ZTF18aamvgmq"
      ]
     },
     "metadata": {},
     "output_type": "display_data"
    },
    {
     "name": "stdout",
     "output_type": "stream",
     "text": [
      "None\n"
     ]
    },
    {
     "data": {
      "text/markdown": [
       "https://alerce.online/object/ZTF18aabeyaq"
      ]
     },
     "metadata": {},
     "output_type": "display_data"
    },
    {
     "name": "stdout",
     "output_type": "stream",
     "text": [
      "None\n"
     ]
    },
    {
     "data": {
      "text/markdown": [
       "https://alerce.online/object/ZTF18aaqbjuo"
      ]
     },
     "metadata": {},
     "output_type": "display_data"
    },
    {
     "name": "stdout",
     "output_type": "stream",
     "text": [
      "None\n"
     ]
    },
    {
     "data": {
      "text/markdown": [
       "https://alerce.online/object/ZTF18abcgrvs"
      ]
     },
     "metadata": {},
     "output_type": "display_data"
    },
    {
     "name": "stdout",
     "output_type": "stream",
     "text": [
      "None\n"
     ]
    },
    {
     "data": {
      "text/markdown": [
       "https://alerce.online/object/ZTF18abcjfhf"
      ]
     },
     "metadata": {},
     "output_type": "display_data"
    },
    {
     "name": "stdout",
     "output_type": "stream",
     "text": [
      "None\n"
     ]
    },
    {
     "data": {
      "text/markdown": [
       "https://alerce.online/object/ZTF18aaakiea"
      ]
     },
     "metadata": {},
     "output_type": "display_data"
    },
    {
     "name": "stdout",
     "output_type": "stream",
     "text": [
      "None\n"
     ]
    },
    {
     "data": {
      "text/markdown": [
       "https://alerce.online/object/ZTF18aapnjqb"
      ]
     },
     "metadata": {},
     "output_type": "display_data"
    },
    {
     "name": "stdout",
     "output_type": "stream",
     "text": [
      "None\n"
     ]
    },
    {
     "data": {
      "text/markdown": [
       "https://alerce.online/object/ZTF18aazflnx"
      ]
     },
     "metadata": {},
     "output_type": "display_data"
    },
    {
     "name": "stdout",
     "output_type": "stream",
     "text": [
      "None\n"
     ]
    },
    {
     "data": {
      "text/markdown": [
       "https://alerce.online/object/ZTF18aajqcue"
      ]
     },
     "metadata": {},
     "output_type": "display_data"
    },
    {
     "name": "stdout",
     "output_type": "stream",
     "text": [
      "None\n"
     ]
    },
    {
     "data": {
      "text/markdown": [
       "https://alerce.online/object/ZTF17aaawelz"
      ]
     },
     "metadata": {},
     "output_type": "display_data"
    },
    {
     "name": "stdout",
     "output_type": "stream",
     "text": [
      "None\n"
     ]
    },
    {
     "data": {
      "text/markdown": [
       "https://alerce.online/object/ZTF18abccmnl"
      ]
     },
     "metadata": {},
     "output_type": "display_data"
    },
    {
     "name": "stdout",
     "output_type": "stream",
     "text": [
      "None\n"
     ]
    },
    {
     "data": {
      "text/markdown": [
       "https://alerce.online/object/ZTF18abbvabu"
      ]
     },
     "metadata": {},
     "output_type": "display_data"
    },
    {
     "name": "stdout",
     "output_type": "stream",
     "text": [
      "None\n"
     ]
    },
    {
     "data": {
      "text/markdown": [
       "https://alerce.online/object/ZTF18abbfwzv"
      ]
     },
     "metadata": {},
     "output_type": "display_data"
    },
    {
     "name": "stdout",
     "output_type": "stream",
     "text": [
      "None\n"
     ]
    },
    {
     "data": {
      "text/markdown": [
       "https://alerce.online/object/ZTF18aaabjgd"
      ]
     },
     "metadata": {},
     "output_type": "display_data"
    },
    {
     "name": "stdout",
     "output_type": "stream",
     "text": [
      "None\n"
     ]
    },
    {
     "data": {
      "text/markdown": [
       "https://alerce.online/object/ZTF18aakuood"
      ]
     },
     "metadata": {},
     "output_type": "display_data"
    },
    {
     "name": "stdout",
     "output_type": "stream",
     "text": [
      "None\n"
     ]
    },
    {
     "data": {
      "text/markdown": [
       "https://alerce.online/object/ZTF18aaahuqh"
      ]
     },
     "metadata": {},
     "output_type": "display_data"
    },
    {
     "name": "stdout",
     "output_type": "stream",
     "text": [
      "None\n"
     ]
    },
    {
     "data": {
      "text/markdown": [
       "https://alerce.online/object/ZTF18aaqcuba"
      ]
     },
     "metadata": {},
     "output_type": "display_data"
    },
    {
     "name": "stdout",
     "output_type": "stream",
     "text": [
      "None\n"
     ]
    },
    {
     "data": {
      "text/markdown": [
       "https://alerce.online/object/ZTF18aaorymm"
      ]
     },
     "metadata": {},
     "output_type": "display_data"
    },
    {
     "name": "stdout",
     "output_type": "stream",
     "text": [
      "None\n"
     ]
    },
    {
     "data": {
      "text/markdown": [
       "https://alerce.online/object/ZTF17aaahmid"
      ]
     },
     "metadata": {},
     "output_type": "display_data"
    },
    {
     "name": "stdout",
     "output_type": "stream",
     "text": [
      "None\n"
     ]
    },
    {
     "data": {
      "text/markdown": [
       "https://alerce.online/object/ZTF18aanwveg"
      ]
     },
     "metadata": {},
     "output_type": "display_data"
    },
    {
     "name": "stdout",
     "output_type": "stream",
     "text": [
      "None\n"
     ]
    },
    {
     "data": {
      "text/markdown": [
       "https://alerce.online/object/ZTF18aabhmmj"
      ]
     },
     "metadata": {},
     "output_type": "display_data"
    },
    {
     "name": "stdout",
     "output_type": "stream",
     "text": [
      "None\n"
     ]
    },
    {
     "data": {
      "text/markdown": [
       "https://alerce.online/object/ZTF18abccckv"
      ]
     },
     "metadata": {},
     "output_type": "display_data"
    },
    {
     "name": "stdout",
     "output_type": "stream",
     "text": [
      "None\n"
     ]
    },
    {
     "data": {
      "text/markdown": [
       "https://alerce.online/object/ZTF18aajtyio"
      ]
     },
     "metadata": {},
     "output_type": "display_data"
    },
    {
     "name": "stdout",
     "output_type": "stream",
     "text": [
      "None\n"
     ]
    },
    {
     "data": {
      "text/markdown": [
       "https://alerce.online/object/ZTF18aakfnru"
      ]
     },
     "metadata": {},
     "output_type": "display_data"
    },
    {
     "name": "stdout",
     "output_type": "stream",
     "text": [
      "None\n"
     ]
    },
    {
     "data": {
      "text/markdown": [
       "https://alerce.online/object/ZTF18aarsokt"
      ]
     },
     "metadata": {},
     "output_type": "display_data"
    },
    {
     "name": "stdout",
     "output_type": "stream",
     "text": [
      "None\n"
     ]
    },
    {
     "data": {
      "text/markdown": [
       "https://alerce.online/object/ZTF18aaimlad"
      ]
     },
     "metadata": {},
     "output_type": "display_data"
    },
    {
     "name": "stdout",
     "output_type": "stream",
     "text": [
      "None\n"
     ]
    },
    {
     "data": {
      "text/markdown": [
       "https://alerce.online/object/ZTF18aabjlqa"
      ]
     },
     "metadata": {},
     "output_type": "display_data"
    },
    {
     "name": "stdout",
     "output_type": "stream",
     "text": [
      "None\n"
     ]
    },
    {
     "data": {
      "text/markdown": [
       "https://alerce.online/object/ZTF17aabdfvr"
      ]
     },
     "metadata": {},
     "output_type": "display_data"
    },
    {
     "name": "stdout",
     "output_type": "stream",
     "text": [
      "None\n"
     ]
    },
    {
     "data": {
      "text/markdown": [
       "https://alerce.online/object/ZTF18aaeduxh"
      ]
     },
     "metadata": {},
     "output_type": "display_data"
    },
    {
     "name": "stdout",
     "output_type": "stream",
     "text": [
      "None\n"
     ]
    },
    {
     "data": {
      "text/markdown": [
       "https://alerce.online/object/ZTF17aabwwfn"
      ]
     },
     "metadata": {},
     "output_type": "display_data"
    },
    {
     "name": "stdout",
     "output_type": "stream",
     "text": [
      "None\n"
     ]
    },
    {
     "data": {
      "text/markdown": [
       "https://alerce.online/object/ZTF18aamynjn"
      ]
     },
     "metadata": {},
     "output_type": "display_data"
    },
    {
     "name": "stdout",
     "output_type": "stream",
     "text": [
      "None\n"
     ]
    },
    {
     "data": {
      "text/markdown": [
       "https://alerce.online/object/ZTF18abazbzi"
      ]
     },
     "metadata": {},
     "output_type": "display_data"
    },
    {
     "name": "stdout",
     "output_type": "stream",
     "text": [
      "None\n"
     ]
    },
    {
     "data": {
      "text/markdown": [
       "https://alerce.online/object/ZTF18aahheaj"
      ]
     },
     "metadata": {},
     "output_type": "display_data"
    },
    {
     "name": "stdout",
     "output_type": "stream",
     "text": [
      "None\n"
     ]
    },
    {
     "data": {
      "text/markdown": [
       "https://alerce.online/object/ZTF17aabhioj"
      ]
     },
     "metadata": {},
     "output_type": "display_data"
    },
    {
     "name": "stdout",
     "output_type": "stream",
     "text": [
      "None\n"
     ]
    },
    {
     "data": {
      "text/markdown": [
       "https://alerce.online/object/ZTF18aairvdw"
      ]
     },
     "metadata": {},
     "output_type": "display_data"
    },
    {
     "name": "stdout",
     "output_type": "stream",
     "text": [
      "None\n"
     ]
    },
    {
     "data": {
      "text/markdown": [
       "https://alerce.online/object/ZTF18abbrbzw"
      ]
     },
     "metadata": {},
     "output_type": "display_data"
    },
    {
     "name": "stdout",
     "output_type": "stream",
     "text": [
      "None\n"
     ]
    },
    {
     "data": {
      "text/markdown": [
       "https://alerce.online/object/ZTF18aatzloy"
      ]
     },
     "metadata": {},
     "output_type": "display_data"
    },
    {
     "name": "stdout",
     "output_type": "stream",
     "text": [
      "None\n"
     ]
    },
    {
     "data": {
      "text/markdown": [
       "https://alerce.online/object/ZTF18abbeynz"
      ]
     },
     "metadata": {},
     "output_type": "display_data"
    },
    {
     "name": "stdout",
     "output_type": "stream",
     "text": [
      "None\n"
     ]
    },
    {
     "data": {
      "text/markdown": [
       "https://alerce.online/object/ZTF18aamtznx"
      ]
     },
     "metadata": {},
     "output_type": "display_data"
    },
    {
     "name": "stdout",
     "output_type": "stream",
     "text": [
      "None\n"
     ]
    },
    {
     "data": {
      "text/markdown": [
       "https://alerce.online/object/ZTF18aapelal"
      ]
     },
     "metadata": {},
     "output_type": "display_data"
    },
    {
     "name": "stdout",
     "output_type": "stream",
     "text": [
      "None\n"
     ]
    },
    {
     "data": {
      "text/markdown": [
       "https://alerce.online/object/ZTF18aaxlalb"
      ]
     },
     "metadata": {},
     "output_type": "display_data"
    },
    {
     "name": "stdout",
     "output_type": "stream",
     "text": [
      "None\n"
     ]
    },
    {
     "data": {
      "text/markdown": [
       "https://alerce.online/object/ZTF18abbdfpf"
      ]
     },
     "metadata": {},
     "output_type": "display_data"
    },
    {
     "name": "stdout",
     "output_type": "stream",
     "text": [
      "None\n"
     ]
    },
    {
     "data": {
      "text/markdown": [
       "https://alerce.online/object/ZTF18aanhiop"
      ]
     },
     "metadata": {},
     "output_type": "display_data"
    },
    {
     "name": "stdout",
     "output_type": "stream",
     "text": [
      "None\n"
     ]
    },
    {
     "data": {
      "text/markdown": [
       "https://alerce.online/object/ZTF17aaatzdj"
      ]
     },
     "metadata": {},
     "output_type": "display_data"
    },
    {
     "name": "stdout",
     "output_type": "stream",
     "text": [
      "None\n"
     ]
    },
    {
     "data": {
      "text/markdown": [
       "https://alerce.online/object/ZTF18aabukgo"
      ]
     },
     "metadata": {},
     "output_type": "display_data"
    },
    {
     "name": "stdout",
     "output_type": "stream",
     "text": [
      "None\n"
     ]
    },
    {
     "data": {
      "text/markdown": [
       "https://alerce.online/object/ZTF18abccneq"
      ]
     },
     "metadata": {},
     "output_type": "display_data"
    },
    {
     "name": "stdout",
     "output_type": "stream",
     "text": [
      "None\n"
     ]
    },
    {
     "data": {
      "text/markdown": [
       "https://alerce.online/object/ZTF18aarjsot"
      ]
     },
     "metadata": {},
     "output_type": "display_data"
    },
    {
     "name": "stdout",
     "output_type": "stream",
     "text": [
      "None\n"
     ]
    },
    {
     "data": {
      "text/markdown": [
       "https://alerce.online/object/ZTF18abayusp"
      ]
     },
     "metadata": {},
     "output_type": "display_data"
    },
    {
     "name": "stdout",
     "output_type": "stream",
     "text": [
      "None\n"
     ]
    },
    {
     "data": {
      "text/markdown": [
       "https://alerce.online/object/ZTF18aaqvdhr"
      ]
     },
     "metadata": {},
     "output_type": "display_data"
    },
    {
     "name": "stdout",
     "output_type": "stream",
     "text": [
      "None\n"
     ]
    },
    {
     "data": {
      "text/markdown": [
       "https://alerce.online/object/ZTF18aaappvn"
      ]
     },
     "metadata": {},
     "output_type": "display_data"
    },
    {
     "name": "stdout",
     "output_type": "stream",
     "text": [
      "None\n"
     ]
    },
    {
     "data": {
      "text/markdown": [
       "https://alerce.online/object/ZTF18aabibdk"
      ]
     },
     "metadata": {},
     "output_type": "display_data"
    },
    {
     "name": "stdout",
     "output_type": "stream",
     "text": [
      "None\n"
     ]
    },
    {
     "data": {
      "text/markdown": [
       "https://alerce.online/object/ZTF17aabulcu"
      ]
     },
     "metadata": {},
     "output_type": "display_data"
    },
    {
     "name": "stdout",
     "output_type": "stream",
     "text": [
      "None\n"
     ]
    },
    {
     "data": {
      "text/markdown": [
       "https://alerce.online/object/ZTF18aatxtlm"
      ]
     },
     "metadata": {},
     "output_type": "display_data"
    },
    {
     "name": "stdout",
     "output_type": "stream",
     "text": [
      "None\n"
     ]
    },
    {
     "data": {
      "text/markdown": [
       "https://alerce.online/object/ZTF18aamxznr"
      ]
     },
     "metadata": {},
     "output_type": "display_data"
    },
    {
     "name": "stdout",
     "output_type": "stream",
     "text": [
      "None\n"
     ]
    },
    {
     "data": {
      "text/markdown": [
       "https://alerce.online/object/ZTF18aaotqou"
      ]
     },
     "metadata": {},
     "output_type": "display_data"
    },
    {
     "name": "stdout",
     "output_type": "stream",
     "text": [
      "None\n"
     ]
    },
    {
     "data": {
      "text/markdown": [
       "https://alerce.online/object/ZTF18aanuvrz"
      ]
     },
     "metadata": {},
     "output_type": "display_data"
    },
    {
     "name": "stdout",
     "output_type": "stream",
     "text": [
      "None\n"
     ]
    },
    {
     "data": {
      "text/markdown": [
       "https://alerce.online/object/ZTF18aawlezq"
      ]
     },
     "metadata": {},
     "output_type": "display_data"
    },
    {
     "name": "stdout",
     "output_type": "stream",
     "text": [
      "None\n"
     ]
    },
    {
     "data": {
      "text/markdown": [
       "https://alerce.online/object/ZTF18aaxlaxv"
      ]
     },
     "metadata": {},
     "output_type": "display_data"
    },
    {
     "name": "stdout",
     "output_type": "stream",
     "text": [
      "None\n"
     ]
    },
    {
     "data": {
      "text/markdown": [
       "https://alerce.online/object/ZTF18aarwlyx"
      ]
     },
     "metadata": {},
     "output_type": "display_data"
    },
    {
     "name": "stdout",
     "output_type": "stream",
     "text": [
      "None\n"
     ]
    },
    {
     "data": {
      "text/markdown": [
       "https://alerce.online/object/ZTF18aayfoyq"
      ]
     },
     "metadata": {},
     "output_type": "display_data"
    },
    {
     "name": "stdout",
     "output_type": "stream",
     "text": [
      "None\n"
     ]
    },
    {
     "data": {
      "text/markdown": [
       "https://alerce.online/object/ZTF18aamxcmz"
      ]
     },
     "metadata": {},
     "output_type": "display_data"
    },
    {
     "name": "stdout",
     "output_type": "stream",
     "text": [
      "None\n"
     ]
    },
    {
     "data": {
      "text/markdown": [
       "https://alerce.online/object/ZTF17aabaszq"
      ]
     },
     "metadata": {},
     "output_type": "display_data"
    },
    {
     "name": "stdout",
     "output_type": "stream",
     "text": [
      "None\n"
     ]
    },
    {
     "data": {
      "text/markdown": [
       "https://alerce.online/object/ZTF18aajsuwc"
      ]
     },
     "metadata": {},
     "output_type": "display_data"
    },
    {
     "name": "stdout",
     "output_type": "stream",
     "text": [
      "None\n"
     ]
    },
    {
     "data": {
      "text/markdown": [
       "https://alerce.online/object/ZTF18aavckhz"
      ]
     },
     "metadata": {},
     "output_type": "display_data"
    },
    {
     "name": "stdout",
     "output_type": "stream",
     "text": [
      "None\n"
     ]
    },
    {
     "data": {
      "text/markdown": [
       "https://alerce.online/object/ZTF17aaafvrg"
      ]
     },
     "metadata": {},
     "output_type": "display_data"
    },
    {
     "name": "stdout",
     "output_type": "stream",
     "text": [
      "None\n"
     ]
    },
    {
     "data": {
      "text/markdown": [
       "https://alerce.online/object/ZTF18aarjsfh"
      ]
     },
     "metadata": {},
     "output_type": "display_data"
    },
    {
     "name": "stdout",
     "output_type": "stream",
     "text": [
      "None\n"
     ]
    },
    {
     "data": {
      "text/markdown": [
       "https://alerce.online/object/ZTF17aadmzyr"
      ]
     },
     "metadata": {},
     "output_type": "display_data"
    },
    {
     "name": "stdout",
     "output_type": "stream",
     "text": [
      "None\n"
     ]
    },
    {
     "data": {
      "text/markdown": [
       "https://alerce.online/object/ZTF17aaafgly"
      ]
     },
     "metadata": {},
     "output_type": "display_data"
    },
    {
     "name": "stdout",
     "output_type": "stream",
     "text": [
      "None\n"
     ]
    },
    {
     "data": {
      "text/markdown": [
       "https://alerce.online/object/ZTF18aaztwws"
      ]
     },
     "metadata": {},
     "output_type": "display_data"
    },
    {
     "name": "stdout",
     "output_type": "stream",
     "text": [
      "None\n"
     ]
    },
    {
     "data": {
      "text/markdown": [
       "https://alerce.online/object/ZTF18aainzhi"
      ]
     },
     "metadata": {},
     "output_type": "display_data"
    },
    {
     "name": "stdout",
     "output_type": "stream",
     "text": [
      "None\n"
     ]
    },
    {
     "data": {
      "text/markdown": [
       "https://alerce.online/object/ZTF18aaachlc"
      ]
     },
     "metadata": {},
     "output_type": "display_data"
    },
    {
     "name": "stdout",
     "output_type": "stream",
     "text": [
      "None\n"
     ]
    },
    {
     "data": {
      "text/markdown": [
       "https://alerce.online/object/ZTF18aabhkro"
      ]
     },
     "metadata": {},
     "output_type": "display_data"
    },
    {
     "name": "stdout",
     "output_type": "stream",
     "text": [
      "None\n"
     ]
    },
    {
     "data": {
      "text/markdown": [
       "https://alerce.online/object/ZTF18abbhiqo"
      ]
     },
     "metadata": {},
     "output_type": "display_data"
    },
    {
     "name": "stdout",
     "output_type": "stream",
     "text": [
      "None\n"
     ]
    },
    {
     "data": {
      "text/markdown": [
       "https://alerce.online/object/ZTF18aamycpv"
      ]
     },
     "metadata": {},
     "output_type": "display_data"
    },
    {
     "name": "stdout",
     "output_type": "stream",
     "text": [
      "None\n"
     ]
    },
    {
     "data": {
      "text/markdown": [
       "https://alerce.online/object/ZTF18abcjfjq"
      ]
     },
     "metadata": {},
     "output_type": "display_data"
    },
    {
     "name": "stdout",
     "output_type": "stream",
     "text": [
      "None\n"
     ]
    }
   ],
   "source": [
    "# 10 largest distances objs \n",
    "for ztfid in list(ann_dist_all_df[dist_col].nlargest(100).index):\n",
    "    alerce_link = display_markdown(f'https://alerce.online/object/{ztfid}', raw=True)\n",
    "    print(alerce_link)"
   ]
  },
  {
   "cell_type": "code",
   "execution_count": 186,
   "id": "d736599e",
   "metadata": {},
   "outputs": [
    {
     "data": {
      "image/png": "[encoded data removed]",
      "text/plain": [
       "<Figure size 432x288 with 1 Axes>"
      ]
     },
     "metadata": {
      "needs_background": "light"
     },
     "output_type": "display_data"
    }
   ],
   "source": [
    "# 10 largest mean 9 ANN distances distances (most different)\n",
    "plt.hist(ann_dist_all_df[dist_col], \n",
    "         bins=np.linspace(np.min(ann_dist_all_df[dist_col]), \n",
    "                          np.max(ann_dist_all_df[dist_col]), 31), density=False);\n",
    "plt.xlabel(dist_col+' Distance');\n",
    "#plt.yscale('log')\n",
    "plt.title(f'{len(ann_dist_all_df)} Unique ZTF Object Ids');"
   ]
  },
  {
   "cell_type": "code",
   "execution_count": 187,
   "id": "a166549b",
   "metadata": {},
   "outputs": [
    {
     "name": "stdout",
     "output_type": "stream",
     "text": [
      "summary stats\n",
      "Scatter mean: 0.5417224160828206\n",
      "Scatter median: 0.5388960994102738\n",
      "Scatter std: 0.09927460268772428\n",
      "Scatter max: 1.4100519093600186\n",
      "Scatter min: 0.17514450822702862\n",
      "\n",
      "\n",
      "Most anomalous: ZTF18abcfcoo\n"
     ]
    }
   ],
   "source": [
    "print(\"summary stats\")\n",
    "print(\"Scatter mean:\", np.mean(ann_dist_all_df[dist_col]))\n",
    "print(\"Scatter median:\", np.median(ann_dist_all_df[dist_col]))\n",
    "print(\"Scatter std:\", np.std(ann_dist_all_df[dist_col]))\n",
    "print(\"Scatter max:\", np.max(ann_dist_all_df[dist_col]))\n",
    "print(\"Scatter min:\", np.min(ann_dist_all_df[dist_col]))\n",
    "print(\"\\n\")\n",
    "\n",
    "#Returns index of distance\n",
    "print(\"Most anomalous:\", ann_dist_all_df[[dist_col]].idxmax().values[0])"
   ]
  },
  {
   "cell_type": "code",
   "execution_count": null,
   "id": "7efe03ed",
   "metadata": {},
   "outputs": [],
   "source": []
  },
  {
   "cell_type": "code",
   "execution_count": null,
   "id": "f80a60f9",
   "metadata": {},
   "outputs": [],
   "source": []
  },
  {
   "cell_type": "markdown",
   "id": "2cfdb715",
   "metadata": {},
   "source": [
    "# Smallest"
   ]
  },
  {
   "cell_type": "code",
   "execution_count": 168,
   "id": "24243e51",
   "metadata": {},
   "outputs": [
    {
     "data": {
      "text/plain": [
       "key_0\n",
       "ZTF18aajbkjd    0.255398\n",
       "ZTF20acaicfc    0.272783\n",
       "ZTF18abxezzd    0.275732\n",
       "ZTF18aaxuyls    0.282576\n",
       "ZTF21aaabasz    0.283287\n",
       "ZTF21aawgwmr    0.284263\n",
       "ZTF17aaawell    0.286641\n",
       "ZTF17aaawfrs    0.289914\n",
       "ZTF18aaabcdb    0.293375\n",
       "ZTF18aaabbiy    0.293789\n",
       "Name: Mean_9ANNs, dtype: float64"
      ]
     },
     "execution_count": 168,
     "metadata": {},
     "output_type": "execute_result"
    }
   ],
   "source": [
    "ann_dist_all_df[dist_col].nsmallest(10)"
   ]
  },
  {
   "cell_type": "code",
   "execution_count": 170,
   "id": "ed987904",
   "metadata": {},
   "outputs": [
    {
     "data": {
      "text/markdown": [
       "https://alerce.online/object/ZTF18aajbkjd"
      ]
     },
     "metadata": {},
     "output_type": "display_data"
    },
    {
     "name": "stdout",
     "output_type": "stream",
     "text": [
      "None\n"
     ]
    },
    {
     "data": {
      "text/markdown": [
       "https://alerce.online/object/ZTF20acaicfc"
      ]
     },
     "metadata": {},
     "output_type": "display_data"
    },
    {
     "name": "stdout",
     "output_type": "stream",
     "text": [
      "None\n"
     ]
    },
    {
     "data": {
      "text/markdown": [
       "https://alerce.online/object/ZTF18abxezzd"
      ]
     },
     "metadata": {},
     "output_type": "display_data"
    },
    {
     "name": "stdout",
     "output_type": "stream",
     "text": [
      "None\n"
     ]
    },
    {
     "data": {
      "text/markdown": [
       "https://alerce.online/object/ZTF18aaxuyls"
      ]
     },
     "metadata": {},
     "output_type": "display_data"
    },
    {
     "name": "stdout",
     "output_type": "stream",
     "text": [
      "None\n"
     ]
    },
    {
     "data": {
      "text/markdown": [
       "https://alerce.online/object/ZTF21aaabasz"
      ]
     },
     "metadata": {},
     "output_type": "display_data"
    },
    {
     "name": "stdout",
     "output_type": "stream",
     "text": [
      "None\n"
     ]
    },
    {
     "data": {
      "text/markdown": [
       "https://alerce.online/object/ZTF21aawgwmr"
      ]
     },
     "metadata": {},
     "output_type": "display_data"
    },
    {
     "name": "stdout",
     "output_type": "stream",
     "text": [
      "None\n"
     ]
    },
    {
     "data": {
      "text/markdown": [
       "https://alerce.online/object/ZTF17aaawell"
      ]
     },
     "metadata": {},
     "output_type": "display_data"
    },
    {
     "name": "stdout",
     "output_type": "stream",
     "text": [
      "None\n"
     ]
    },
    {
     "data": {
      "text/markdown": [
       "https://alerce.online/object/ZTF17aaawfrs"
      ]
     },
     "metadata": {},
     "output_type": "display_data"
    },
    {
     "name": "stdout",
     "output_type": "stream",
     "text": [
      "None\n"
     ]
    },
    {
     "data": {
      "text/markdown": [
       "https://alerce.online/object/ZTF18aaabcdb"
      ]
     },
     "metadata": {},
     "output_type": "display_data"
    },
    {
     "name": "stdout",
     "output_type": "stream",
     "text": [
      "None\n"
     ]
    },
    {
     "data": {
      "text/markdown": [
       "https://alerce.online/object/ZTF18aaabbiy"
      ]
     },
     "metadata": {},
     "output_type": "display_data"
    },
    {
     "name": "stdout",
     "output_type": "stream",
     "text": [
      "None\n"
     ]
    }
   ],
   "source": [
    "# 10 smallest  distances (most similar)\n",
    "for ztfid in list(ann_dist_all_df[dist_col].nsmallest(10).index):\n",
    "    alerce_link = display_markdown(f'https://alerce.online/object/{ztfid}', raw=True)\n",
    "    print(alerce_link)"
   ]
  },
  {
   "cell_type": "code",
   "execution_count": 172,
   "id": "3975ffec",
   "metadata": {},
   "outputs": [
    {
     "name": "stdout",
     "output_type": "stream",
     "text": [
      "[1.1118625672404274 0.12331166271588095 0.10570747358964822\n",
      " 0.6402489946117335 -0.3555800032511217 -0.16107825063069509\n",
      " 0.15185003703067132 0.043900058528993265 0.16590757193213537\n",
      " 0.061716284520621736 -0.06970753364443993 -0.1451497199683248\n",
      " 0.09723107688392761 -0.024367541835719892 0.05910217065850591\n",
      " -0.041157975540847005 0.021209639718001393 0.0353191877766076\n",
      " -0.0290879850304357 -0.08542805521397168 -0.030455518360769894\n",
      " 0.09514606675270045 -0.010053459752590765 0.08068756155415371\n",
      " 0.04559110398794003]\n",
      "ZTF ID name (ref) ZTF18aajbkjd\n"
     ]
    },
    {
     "data": {
      "text/markdown": [
       "https://alerce.online/object/ZTF18aajbkjd"
      ]
     },
     "metadata": {},
     "output_type": "display_data"
    },
    {
     "name": "stdout",
     "output_type": "stream",
     "text": [
      "None\n",
      "%%%%%%\n",
      "ANN\t\tIDX\t\t\t\tZTF_id\t\t\t\tDIST\n"
     ]
    },
    {
     "data": {
      "text/markdown": [
       "https://alerce.online/object/ZTF18aajbkjd"
      ]
     },
     "metadata": {},
     "output_type": "display_data"
    },
    {
     "name": "stdout",
     "output_type": "stream",
     "text": [
      "0\t\t9673\t\t\t\tNone\t\t\t0.0\n"
     ]
    },
    {
     "data": {
      "text/markdown": [
       "https://alerce.online/object/ZTF18aajbkjd"
      ]
     },
     "metadata": {},
     "output_type": "display_data"
    },
    {
     "name": "stdout",
     "output_type": "stream",
     "text": [
      "1\t\t56487\t\t\t\tNone\t\t\t0.0352\n"
     ]
    },
    {
     "data": {
      "text/markdown": [
       "https://alerce.online/object/ZTF18aaxuyls"
      ]
     },
     "metadata": {},
     "output_type": "display_data"
    },
    {
     "name": "stdout",
     "output_type": "stream",
     "text": [
      "2\t\t2220\t\t\t\tNone\t\t\t0.2419\n"
     ]
    },
    {
     "data": {
      "text/markdown": [
       "https://alerce.online/object/ZTF18aavqrxt"
      ]
     },
     "metadata": {},
     "output_type": "display_data"
    },
    {
     "name": "stdout",
     "output_type": "stream",
     "text": [
      "3\t\t2423\t\t\t\tNone\t\t\t0.2599\n"
     ]
    },
    {
     "data": {
      "text/markdown": [
       "https://alerce.online/object/ZTF17aaawfrs"
      ]
     },
     "metadata": {},
     "output_type": "display_data"
    },
    {
     "name": "stdout",
     "output_type": "stream",
     "text": [
      "4\t\t42025\t\t\t\tNone\t\t\t0.2799\n"
     ]
    },
    {
     "data": {
      "text/markdown": [
       "https://alerce.online/object/ZTF18abedbto"
      ]
     },
     "metadata": {},
     "output_type": "display_data"
    },
    {
     "name": "stdout",
     "output_type": "stream",
     "text": [
      "5\t\t72638\t\t\t\tNone\t\t\t0.2883\n"
     ]
    },
    {
     "data": {
      "text/markdown": [
       "https://alerce.online/object/ZTF18abedbto"
      ]
     },
     "metadata": {},
     "output_type": "display_data"
    },
    {
     "name": "stdout",
     "output_type": "stream",
     "text": [
      "6\t\t89221\t\t\t\tNone\t\t\t0.2932\n"
     ]
    },
    {
     "data": {
      "text/markdown": [
       "https://alerce.online/object/ZTF18aaiojpk"
      ]
     },
     "metadata": {},
     "output_type": "display_data"
    },
    {
     "name": "stdout",
     "output_type": "stream",
     "text": [
      "7\t\t34187\t\t\t\tNone\t\t\t0.2976\n"
     ]
    },
    {
     "data": {
      "text/markdown": [
       "https://alerce.online/object/ZTF18aaoebtu"
      ]
     },
     "metadata": {},
     "output_type": "display_data"
    },
    {
     "name": "stdout",
     "output_type": "stream",
     "text": [
      "8\t\t49198\t\t\t\tNone\t\t\t0.3008\n"
     ]
    },
    {
     "data": {
      "text/markdown": [
       "https://alerce.online/object/ZTF18aaxuyew"
      ]
     },
     "metadata": {},
     "output_type": "display_data"
    },
    {
     "name": "stdout",
     "output_type": "stream",
     "text": [
      "9\t\t54959\t\t\t\tNone\t\t\t0.3019\n"
     ]
    }
   ],
   "source": [
    "dataset_ref = dataset_bank[dataset_bank.index == list(ann_dist_all_df[dist_col].nsmallest(10).index)[0]]\n",
    "\n",
    "# feat_arr_ref = np.vstack(np.array(dataset_ref, dtype='object'))\n",
    "# scaled_feat_arr_ref = scaler.transform(feat_arr_ref) #scaler.transform(feat_arr) # What your model learns on\n",
    "# #scaled_feat_arr_ref = scaler.fit_transform(feat_arr_ref) #scaler.transform(feat_arr) # What your model learns on\n",
    "\n",
    "# # Scalar then PCA\n",
    "# scaled_feat_arr_ref = np.array(dataset_ref)\n",
    "\n",
    "# PCA only\n",
    "feat_arr_ref = np.vstack(np.array(dataset_ref, dtype='object'))\n",
    "scaled_feat_arr_ref = feat_arr_ref\n",
    "\n",
    "# #PCA then scaler\n",
    "# feat_arr_ref = np.vstack(np.array(dataset_ref, dtype='object'))\n",
    "# scaled_feat_arr_ref = feat_arr_ref\n",
    "\n",
    "\n",
    "snid = dataset_ref.index.values[0]\n",
    "lcdata = {'name': snid, 'vector': scaled_feat_arr_ref[0]}\n",
    "#lcdata = {'name': ztf_id, 'vector': feat_arr_scaled[-5:-4][0]}\n",
    "print(lcdata['vector'])\n",
    "\n",
    "#result_id, result_dist = index.index.get_nns_by_item(, n=10, include_distances=True)\n",
    "result_id, result_dist = index.index.get_nns_by_vector(lcdata['vector'], n=10, include_distances=True)\n",
    "#result_name = index.query(lcdata['vector'])\n",
    "\n",
    "print(f\"ZTF ID name (ref) {snid}\") \n",
    "link_ref = display_markdown(f'https://alerce.online/object/{snid}', raw=True)\n",
    "print(link_ref)\n",
    "print(\"%%%%%%\")\n",
    "print(\"ANN\\t\\tIDX\\t\\t\\t\\tZTF_id\\t\\t\\t\\tDIST\")#\\tFEAT\")\n",
    "for n, (i, d) in enumerate(zip(result_id, result_dist)):#, feat_arr):\n",
    "    print(f\"{n}\\t\\t{i}\\t\\t\\t\\t{display_markdown(f'https://alerce.online/object/{idx_arr[i]}', raw=True)}\\t\\t\\t{round(d, 4)}\")#\\t{f}\")"
   ]
  },
  {
   "cell_type": "code",
   "execution_count": null,
   "id": "d765b6a3",
   "metadata": {},
   "outputs": [],
   "source": []
  },
  {
   "cell_type": "code",
   "execution_count": 173,
   "id": "17b88f59",
   "metadata": {},
   "outputs": [],
   "source": [
    "# dist ANN=1 and mean of first 9 ANN are roughly same (SN, CV, Mira, etc). \n",
    "# Not as many SN (but otherwise similar as above) in weighted (fibonacci) average of first 9 ANN.\n",
    "# Separation will come down to host gal info"
   ]
  },
  {
   "cell_type": "markdown",
   "id": "51d21e85",
   "metadata": {},
   "source": [
    "MaxAbsScaler, Euclidean, Ia\n",
    "\n",
    "NON PCA\n",
    "Scatter mean: 0.10822062189269697\n",
    "Scatter median: 0.08390001702324312\n",
    "Scatter std: 0.09273033952967297\n",
    "Scatter max: 0.3615067063860504\n",
    "Scatter min: 0.0\n",
    "\n",
    "PCA\n",
    "Scatter mean: 0.22748059656595504\n",
    "Scatter median: 0.23485067052158148\n",
    "Scatter std: 0.08590310140277316\n",
    "Scatter max: 0.3552833440373228\n",
    "Scatter min: 0.013447031738069838"
   ]
  },
  {
   "cell_type": "markdown",
   "id": "60f4fb5b",
   "metadata": {},
   "source": [
    "MaxAbsScaler, Euclidean, SLSN\n",
    "\n",
    "Scatter mean: 0.1882023265906344\n",
    "Scatter median: 0.14632144856515017\n",
    "Scatter std: 0.1839875260098897\n",
    "Scatter max: 1.046586348913336\n",
    "Scatter min: 0.006225538066605167"
   ]
  },
  {
   "cell_type": "markdown",
   "id": "19a21ecd",
   "metadata": {},
   "source": [
    "MaxAbsScaler, Euclidean, junk\n",
    "\n",
    "Scatter mean: 0.18480675721201786\n",
    "Scatter median: 0.14364864210180578\n",
    "Scatter std: 0.208412667064402\n",
    "Scatter max: 1.2017613918543555\n",
    "Scatter min: 0.002740342445819787"
   ]
  },
  {
   "cell_type": "code",
   "execution_count": null,
   "id": "ac80119c",
   "metadata": {},
   "outputs": [],
   "source": []
  }
 ],
 "metadata": {
  "kernelspec": {
   "display_name": "laiss",
   "language": "python",
   "name": "laiss"
  },
  "language_info": {
   "codemirror_mode": {
    "name": "ipython",
    "version": 3
   },
   "file_extension": ".py",
   "mimetype": "text/x-python",
   "name": "python",
   "nbconvert_exporter": "python",
   "pygments_lexer": "ipython3",
   "version": "3.8.8"
  }
 },
 "nbformat": 4,
 "nbformat_minor": 5
}
