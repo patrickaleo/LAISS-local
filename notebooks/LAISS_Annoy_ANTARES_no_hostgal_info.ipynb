{
 "cells": [
  {
   "cell_type": "code",
   "execution_count": 1,
   "id": "5a7de19c",
   "metadata": {
    "scrolled": true
   },
   "outputs": [],
   "source": [
    "import astro_ghost"
   ]
  },
  {
   "cell_type": "code",
   "execution_count": 2,
   "id": "29728950",
   "metadata": {},
   "outputs": [],
   "source": [
    "import time\n",
    "import numpy as np\n",
    "import matplotlib.pyplot as plt\n",
    "import pandas as pd\n",
    "import pickle\n",
    "\n",
    "import os\n",
    "import sys\n",
    "import annoy\n",
    "from annoy import AnnoyIndex\n",
    "import random\n",
    "\n",
    "\n",
    "\n",
    "from IPython.display import display_markdown\n",
    "\n",
    "from collections import Counter\n",
    "\n",
    "from sklearn import preprocessing\n",
    "from sklearn.metrics import confusion_matrix, ConfusionMatrixDisplay\n",
    "from sklearn.metrics import classification_report\n",
    "from sklearn.impute import SimpleImputer\n",
    "from sklearn.preprocessing import StandardScaler\n",
    "from sklearn.preprocessing import MinMaxScaler\n",
    "from scipy.spatial import cKDTree\n",
    "from sklearn.decomposition import PCA\n",
    "\n",
    "\n",
    "\n"
   ]
  },
  {
   "cell_type": "code",
   "execution_count": 3,
   "id": "37b800f4",
   "metadata": {},
   "outputs": [],
   "source": [
    "class AnnoyIndex():\n",
    "    def __init__(self, vectors, labels, metric):\n",
    "        self.dimension = vectors.shape[1]\n",
    "        self.vectors = vectors.astype('float32')\n",
    "        self.labels = labels    \n",
    "        self.metric= metric\n",
    "   \n",
    "    def build(self, number_of_trees=100):\n",
    "        self.index = annoy.AnnoyIndex(self.dimension, self.metric)\n",
    "        for i, vec in enumerate(self.vectors):\n",
    "            self.index.add_item(i, vec.tolist())\n",
    "        self.index.build(number_of_trees)\n",
    "        \n",
    "    def query(self, vector, k=1000):\n",
    "        indices = self.index.get_nns_by_vector(\n",
    "              vector.tolist(), \n",
    "              k, \n",
    "              search_k=-1)                                           \n",
    "        return [self.labels[i] for i in indices]\n",
    "    \n",
    "# From 106 available features from Kostya's lc_feature_extractor, use the 82 from SNAD Miner paper \n",
    "# R and g bands\n",
    "feature_names_r_g = ['feature_amplitude_magn_r', \n",
    "                         'feature_anderson_darling_normal_magn_r',\n",
    "                         'feature_beyond_1_std_magn_r', \n",
    "                         'feature_beyond_2_std_magn_r',\n",
    "                         'feature_cusum_magn_r', \n",
    "                         #'feature_eta_e_magn_r',\n",
    "                         'feature_inter_percentile_range_2_magn_r',\n",
    "                         'feature_inter_percentile_range_10_magn_r',\n",
    "                         'feature_inter_percentile_range_25_magn_r', \n",
    "                         'feature_kurtosis_magn_r',\n",
    "                         'feature_linear_fit_slope_magn_r',\n",
    "                         'feature_linear_fit_slope_sigma_magn_r',\n",
    "                         #'feature_linear_fit_reduced_chi2_magn_r', \n",
    "                         'feature_linear_trend_magn_r',\n",
    "                         'feature_linear_trend_sigma_magn_r',\n",
    "                         'feature_magnitude_percentage_ratio_40_5_magn_r',\n",
    "                         'feature_magnitude_percentage_ratio_20_5_magn_r',\n",
    "                         #'feature_maximum_slope_magn_r',\n",
    "                         'feature_mean_magn_r',\n",
    "                         'feature_median_absolute_deviation_magn_r',\n",
    "                         'feature_percent_amplitude_magn_r',\n",
    "                         'feature_median_buffer_range_percentage_10_magn_r',\n",
    "                         'feature_median_buffer_range_percentage_20_magn_r',\n",
    "                         'feature_percent_difference_magnitude_percentile_5_magn_r',\n",
    "                         'feature_percent_difference_magnitude_percentile_10_magn_r',\n",
    "                         #'feature_period_0_magn_r',  # should be negated\n",
    "                         'feature_period_s_to_n_0_magn_r',\n",
    "                         #'feature_period_1_magn_r', \n",
    "                         'feature_period_s_to_n_1_magn_r',\n",
    "                         #'feature_period_2_magn_r', \n",
    "                         'feature_period_s_to_n_2_magn_r',\n",
    "                         #'feature_period_3_magn_r', \n",
    "                         'feature_period_s_to_n_3_magn_r',\n",
    "                         #'feature_period_4_magn_r', \n",
    "                         'feature_period_s_to_n_4_magn_r',\n",
    "                         #'feature_periodogram_amplitude_magn_r',\n",
    "                         'feature_periodogram_beyond_2_std_magn_r',\n",
    "                         'feature_periodogram_beyond_3_std_magn_r',\n",
    "                         'feature_periodogram_standard_deviation_magn_r', \n",
    "                         #'feature_chi2_magn_r',\n",
    "                         'feature_skew_magn_r', \n",
    "                         'feature_standard_deviation_magn_r',\n",
    "                         'feature_stetson_k_magn_r',\n",
    "                         'feature_weighted_mean_magn_r',\n",
    "                         'feature_anderson_darling_normal_flux_r', \n",
    "                         'feature_cusum_flux_r',\n",
    "                         #'feature_eta_e_flux_r', \n",
    "                         'feature_excess_variance_flux_r',\n",
    "                         'feature_kurtosis_flux_r', \n",
    "                         'feature_mean_variance_flux_r',\n",
    "                         #'feature_chi2_flux_r', \n",
    "                         'feature_skew_flux_r',\n",
    "                         'feature_stetson_k_flux_r',\n",
    "\n",
    "                         'feature_amplitude_magn_g', \n",
    "                         'feature_anderson_darling_normal_magn_g',\n",
    "                         'feature_beyond_1_std_magn_g', \n",
    "                         'feature_beyond_2_std_magn_g',\n",
    "                         'feature_cusum_magn_g', \n",
    "                         #'feature_eta_e_magn_g',\n",
    "                         'feature_inter_percentile_range_2_magn_g',\n",
    "                         'feature_inter_percentile_range_10_magn_g',\n",
    "                         'feature_inter_percentile_range_25_magn_g', \n",
    "                         'feature_kurtosis_magn_g',\n",
    "                         'feature_linear_fit_slope_magn_g',\n",
    "                         'feature_linear_fit_slope_sigma_magn_g',\n",
    "                         #'feature_linear_fit_reduced_chi2_magn_g', \n",
    "                         'feature_linear_trend_magn_g',\n",
    "                         'feature_linear_trend_sigma_magn_g',\n",
    "                         'feature_magnitude_percentage_ratio_40_5_magn_g',\n",
    "                         'feature_magnitude_percentage_ratio_20_5_magn_g',\n",
    "                         #'feature_maximum_slope_magn_g', \n",
    "                         'feature_mean_magn_g',\n",
    "                         'feature_median_absolute_deviation_magn_g',\n",
    "                         'feature_median_buffer_range_percentage_10_magn_g',\n",
    "                         'feature_median_buffer_range_percentage_20_magn_g',\n",
    "                         'feature_percent_amplitude_magn_g',\n",
    "                         'feature_percent_difference_magnitude_percentile_5_magn_g',\n",
    "                         'feature_percent_difference_magnitude_percentile_10_magn_g',\n",
    "                         #'feature_period_0_magn_g',  # should be negated\n",
    "                         'feature_period_s_to_n_0_magn_g',\n",
    "                         #'feature_period_1_magn_g', \n",
    "                         'feature_period_s_to_n_1_magn_g',\n",
    "                         #'feature_period_2_magn_g', \n",
    "                         'feature_period_s_to_n_2_magn_g',\n",
    "                         #'feature_period_3_magn_g', \n",
    "                         'feature_period_s_to_n_3_magn_g',\n",
    "                         #'feature_period_4_magn_g', \n",
    "                         'feature_period_s_to_n_4_magn_g',\n",
    "                         #'feature_periodogram_amplitude_magn_g',\n",
    "                         'feature_periodogram_beyond_2_std_magn_g',\n",
    "                         'feature_periodogram_beyond_3_std_magn_g',\n",
    "                         'feature_periodogram_standard_deviation_magn_g', \n",
    "                         #'feature_chi2_magn_g',\n",
    "                         'feature_skew_magn_g', \n",
    "                         'feature_standard_deviation_magn_g',\n",
    "                         'feature_stetson_k_magn_g', \n",
    "                         'feature_weighted_mean_magn_g',\n",
    "                         'feature_anderson_darling_normal_flux_g', \n",
    "                         'feature_cusum_flux_g',\n",
    "                         #'feature_eta_e_flux_g', \n",
    "                         'feature_excess_variance_flux_g',\n",
    "                         'feature_kurtosis_flux_g', \n",
    "                         'feature_mean_variance_flux_g',\n",
    "                         #'feature_chi2_flux_g', \n",
    "                         'feature_skew_flux_g',\n",
    "                         'feature_stetson_k_flux_g'] \n",
    "    \n",
    "ztf_id_and_features_r_g = ['Unnamed: 0'] + ['locus_id', 'ra', 'dec',\\\n",
    "                            'tags', 'catalogs', 'ztf_object_id', 'ztf_ssnamenr', 'num_alerts',\\\n",
    "                            'num_mag_values', 'oldest_alert_id', 'oldest_alert_magnitude',\\\n",
    "                            'oldest_alert_observation_time', 'newest_alert_id',\\\n",
    "                            'newest_alert_magnitude', 'newest_alert_observation_time',\\\n",
    "                            'brightest_alert_id', 'brightest_alert_magnitude', \\\n",
    "                            'brightest_alert_observation_time'] + feature_names_r_g +\\\n",
    "                        ['horizons_targetname', 'anomaly', 'anom_score', 'anomaly_score',\\\n",
    "                         'anomaly_mask', 'anomaly_type', 'is_corrected', 'vpdf_extreme_version',\\\n",
    "                         'vpdf_extreme_faint', 'vpdf_extreme_bright', 'locus_gal_l', 'locus_gal_b']"
   ]
  },
  {
   "cell_type": "code",
   "execution_count": 4,
   "id": "039204c5",
   "metadata": {},
   "outputs": [
    {
     "name": "stderr",
     "output_type": "stream",
     "text": [
      "/Users/patrickaleo/miniconda3/envs/laiss/lib/python3.8/site-packages/IPython/core/interactiveshell.py:3169: DtypeWarning: Columns (7,125,129,130,131,132,133,134) have mixed types.Specify dtype option on import or set low_memory=False.\n",
      "  has_raised = await self.run_ast_nodes(code_ast.body, cell_name,\n"
     ]
    },
    {
     "data": {
      "text/html": [
       "<div>\n",
       "<style scoped>\n",
       "    .dataframe tbody tr th:only-of-type {\n",
       "        vertical-align: middle;\n",
       "    }\n",
       "\n",
       "    .dataframe tbody tr th {\n",
       "        vertical-align: top;\n",
       "    }\n",
       "\n",
       "    .dataframe thead th {\n",
       "        text-align: right;\n",
       "    }\n",
       "</style>\n",
       "<table border=\"1\" class=\"dataframe\">\n",
       "  <thead>\n",
       "    <tr style=\"text-align: right;\">\n",
       "      <th></th>\n",
       "      <th>Unnamed: 0</th>\n",
       "      <th>locus_id</th>\n",
       "      <th>ra</th>\n",
       "      <th>dec</th>\n",
       "      <th>tags</th>\n",
       "      <th>catalogs</th>\n",
       "      <th>ztf_ssnamenr</th>\n",
       "      <th>num_alerts</th>\n",
       "      <th>num_mag_values</th>\n",
       "      <th>oldest_alert_id</th>\n",
       "      <th>...</th>\n",
       "      <th>anom_score</th>\n",
       "      <th>anomaly_score</th>\n",
       "      <th>anomaly_mask</th>\n",
       "      <th>anomaly_type</th>\n",
       "      <th>is_corrected</th>\n",
       "      <th>vpdf_extreme_version</th>\n",
       "      <th>vpdf_extreme_faint</th>\n",
       "      <th>vpdf_extreme_bright</th>\n",
       "      <th>locus_gal_l</th>\n",
       "      <th>locus_gal_b</th>\n",
       "    </tr>\n",
       "    <tr>\n",
       "      <th>ztf_object_id</th>\n",
       "      <th></th>\n",
       "      <th></th>\n",
       "      <th></th>\n",
       "      <th></th>\n",
       "      <th></th>\n",
       "      <th></th>\n",
       "      <th></th>\n",
       "      <th></th>\n",
       "      <th></th>\n",
       "      <th></th>\n",
       "      <th></th>\n",
       "      <th></th>\n",
       "      <th></th>\n",
       "      <th></th>\n",
       "      <th></th>\n",
       "      <th></th>\n",
       "      <th></th>\n",
       "      <th></th>\n",
       "      <th></th>\n",
       "      <th></th>\n",
       "      <th></th>\n",
       "    </tr>\n",
       "  </thead>\n",
       "  <tbody>\n",
       "    <tr>\n",
       "      <th>ZTF20acpdyyq</th>\n",
       "      <td>6</td>\n",
       "      <td>ANT2020rajqu</td>\n",
       "      <td>33.976088</td>\n",
       "      <td>-20.258905</td>\n",
       "      <td>['lc_feature_extractor']</td>\n",
       "      <td>['allwise', 'gaia_dr2', '2mass_psc', 'bright_g...</td>\n",
       "      <td>NaN</td>\n",
       "      <td>137</td>\n",
       "      <td>35</td>\n",
       "      <td>ztf_candidate:993481181415010007</td>\n",
       "      <td>...</td>\n",
       "      <td>NaN</td>\n",
       "      <td>NaN</td>\n",
       "      <td>NaN</td>\n",
       "      <td>NaN</td>\n",
       "      <td>NaN</td>\n",
       "      <td>NaN</td>\n",
       "      <td>NaN</td>\n",
       "      <td>NaN</td>\n",
       "      <td>197.881532</td>\n",
       "      <td>-69.513571</td>\n",
       "    </tr>\n",
       "    <tr>\n",
       "      <th>ZTF18acfvwwa</th>\n",
       "      <td>39</td>\n",
       "      <td>ANT2020pc6ko</td>\n",
       "      <td>35.639509</td>\n",
       "      <td>32.833982</td>\n",
       "      <td>['lc_feature_extractor']</td>\n",
       "      <td>['allwise', 'gaia_dr2', '2mass_psc', 'bright_g...</td>\n",
       "      <td>NaN</td>\n",
       "      <td>659</td>\n",
       "      <td>88</td>\n",
       "      <td>ztf_candidate:943483942915015010</td>\n",
       "      <td>...</td>\n",
       "      <td>NaN</td>\n",
       "      <td>NaN</td>\n",
       "      <td>NaN</td>\n",
       "      <td>NaN</td>\n",
       "      <td>NaN</td>\n",
       "      <td>NaN</td>\n",
       "      <td>NaN</td>\n",
       "      <td>NaN</td>\n",
       "      <td>144.200342</td>\n",
       "      <td>-26.246909</td>\n",
       "    </tr>\n",
       "    <tr>\n",
       "      <th>ZTF17aaaskvj</th>\n",
       "      <td>58</td>\n",
       "      <td>ANT2020rdpmm</td>\n",
       "      <td>28.015003</td>\n",
       "      <td>36.953217</td>\n",
       "      <td>['lc_feature_extractor']</td>\n",
       "      <td>['allwise', 'csdr2', 'gaia_dr2', '2mass_psc', ...</td>\n",
       "      <td>NaN</td>\n",
       "      <td>1497</td>\n",
       "      <td>579</td>\n",
       "      <td>ztf_candidate:598425334815010002</td>\n",
       "      <td>...</td>\n",
       "      <td>NaN</td>\n",
       "      <td>NaN</td>\n",
       "      <td>NaN</td>\n",
       "      <td>NaN</td>\n",
       "      <td>NaN</td>\n",
       "      <td>NaN</td>\n",
       "      <td>NaN</td>\n",
       "      <td>NaN</td>\n",
       "      <td>136.189482</td>\n",
       "      <td>-24.352953</td>\n",
       "    </tr>\n",
       "    <tr>\n",
       "      <th>ZTF17aaaskvj</th>\n",
       "      <td>59</td>\n",
       "      <td>ANT2018ftblk</td>\n",
       "      <td>28.015003</td>\n",
       "      <td>36.953216</td>\n",
       "      <td>['lc_feature_extractor', 'high_snr']</td>\n",
       "      <td>['allwise', 'csdr2', 'gaia_dr2', '2mass_psc', ...</td>\n",
       "      <td>NaN</td>\n",
       "      <td>1504</td>\n",
       "      <td>583</td>\n",
       "      <td>ztf_candidate:598425334815010002</td>\n",
       "      <td>...</td>\n",
       "      <td>NaN</td>\n",
       "      <td>NaN</td>\n",
       "      <td>NaN</td>\n",
       "      <td>NaN</td>\n",
       "      <td>NaN</td>\n",
       "      <td>NaN</td>\n",
       "      <td>NaN</td>\n",
       "      <td>NaN</td>\n",
       "      <td>136.189482</td>\n",
       "      <td>-24.352954</td>\n",
       "    </tr>\n",
       "    <tr>\n",
       "      <th>ZTF18aczbnhl</th>\n",
       "      <td>97</td>\n",
       "      <td>ANT2019dsk24</td>\n",
       "      <td>85.049145</td>\n",
       "      <td>-11.013302</td>\n",
       "      <td>['lc_feature_extractor']</td>\n",
       "      <td>['allwise', 'gaia_dr2', '2mass_psc', 'bright_g...</td>\n",
       "      <td>NaN</td>\n",
       "      <td>105</td>\n",
       "      <td>12</td>\n",
       "      <td>ztf_candidate:718232301815010005</td>\n",
       "      <td>...</td>\n",
       "      <td>NaN</td>\n",
       "      <td>NaN</td>\n",
       "      <td>NaN</td>\n",
       "      <td>NaN</td>\n",
       "      <td>NaN</td>\n",
       "      <td>NaN</td>\n",
       "      <td>NaN</td>\n",
       "      <td>NaN</td>\n",
       "      <td>214.961559</td>\n",
       "      <td>-20.751422</td>\n",
       "    </tr>\n",
       "    <tr>\n",
       "      <th>...</th>\n",
       "      <td>...</td>\n",
       "      <td>...</td>\n",
       "      <td>...</td>\n",
       "      <td>...</td>\n",
       "      <td>...</td>\n",
       "      <td>...</td>\n",
       "      <td>...</td>\n",
       "      <td>...</td>\n",
       "      <td>...</td>\n",
       "      <td>...</td>\n",
       "      <td>...</td>\n",
       "      <td>...</td>\n",
       "      <td>...</td>\n",
       "      <td>...</td>\n",
       "      <td>...</td>\n",
       "      <td>...</td>\n",
       "      <td>...</td>\n",
       "      <td>...</td>\n",
       "      <td>...</td>\n",
       "      <td>...</td>\n",
       "      <td>...</td>\n",
       "    </tr>\n",
       "    <tr>\n",
       "      <th>ZTF20aberawv</th>\n",
       "      <td>999927</td>\n",
       "      <td>ANT2020aebbk</td>\n",
       "      <td>292.910293</td>\n",
       "      <td>54.078978</td>\n",
       "      <td>['lc_feature_extractor', 'dimmers']</td>\n",
       "      <td>[]</td>\n",
       "      <td>NaN</td>\n",
       "      <td>235</td>\n",
       "      <td>96</td>\n",
       "      <td>ztf_candidate:1231482062015010023</td>\n",
       "      <td>...</td>\n",
       "      <td>NaN</td>\n",
       "      <td>0.417276</td>\n",
       "      <td>Fail</td>\n",
       "      <td>TBD</td>\n",
       "      <td>NaN</td>\n",
       "      <td>NaN</td>\n",
       "      <td>NaN</td>\n",
       "      <td>NaN</td>\n",
       "      <td>85.961850</td>\n",
       "      <td>16.149525</td>\n",
       "    </tr>\n",
       "    <tr>\n",
       "      <th>ZTF18acrvsjf</th>\n",
       "      <td>999938</td>\n",
       "      <td>ANT2019zf6fg</td>\n",
       "      <td>72.820139</td>\n",
       "      <td>1.073984</td>\n",
       "      <td>['lc_feature_extractor']</td>\n",
       "      <td>['allwise', 'bright_guide_star_cat', '2mass_ps...</td>\n",
       "      <td>NaN</td>\n",
       "      <td>40</td>\n",
       "      <td>14</td>\n",
       "      <td>ztf_candidate:696399341515010050</td>\n",
       "      <td>...</td>\n",
       "      <td>NaN</td>\n",
       "      <td>NaN</td>\n",
       "      <td>NaN</td>\n",
       "      <td>TBD</td>\n",
       "      <td>NaN</td>\n",
       "      <td>NaN</td>\n",
       "      <td>NaN</td>\n",
       "      <td>NaN</td>\n",
       "      <td>197.132900</td>\n",
       "      <td>-25.906137</td>\n",
       "    </tr>\n",
       "    <tr>\n",
       "      <th>ZTF18acdqrna</th>\n",
       "      <td>999957</td>\n",
       "      <td>ANT2020aefhrvi</td>\n",
       "      <td>53.476865</td>\n",
       "      <td>77.496741</td>\n",
       "      <td>['lc_feature_extractor']</td>\n",
       "      <td>['allwise', 'bright_guide_star_cat', '2mass_ps...</td>\n",
       "      <td>NaN</td>\n",
       "      <td>83</td>\n",
       "      <td>36</td>\n",
       "      <td>ztf_candidate:1353408024115015003</td>\n",
       "      <td>...</td>\n",
       "      <td>NaN</td>\n",
       "      <td>NaN</td>\n",
       "      <td>NaN</td>\n",
       "      <td>NaN</td>\n",
       "      <td>NaN</td>\n",
       "      <td>NaN</td>\n",
       "      <td>NaN</td>\n",
       "      <td>NaN</td>\n",
       "      <td>131.425108</td>\n",
       "      <td>17.392307</td>\n",
       "    </tr>\n",
       "    <tr>\n",
       "      <th>ZTF21abhjyor</th>\n",
       "      <td>999964</td>\n",
       "      <td>ANT2020aeedowi</td>\n",
       "      <td>323.724711</td>\n",
       "      <td>31.249401</td>\n",
       "      <td>['lc_feature_extractor']</td>\n",
       "      <td>[]</td>\n",
       "      <td>NaN</td>\n",
       "      <td>118</td>\n",
       "      <td>19</td>\n",
       "      <td>ztf_candidate:1358283950415015003</td>\n",
       "      <td>...</td>\n",
       "      <td>NaN</td>\n",
       "      <td>NaN</td>\n",
       "      <td>NaN</td>\n",
       "      <td>TBD</td>\n",
       "      <td>NaN</td>\n",
       "      <td>NaN</td>\n",
       "      <td>NaN</td>\n",
       "      <td>NaN</td>\n",
       "      <td>80.880513</td>\n",
       "      <td>-15.145608</td>\n",
       "    </tr>\n",
       "    <tr>\n",
       "      <th>ZTF18acfdttb</th>\n",
       "      <td>999987</td>\n",
       "      <td>ANT2020fc5ny</td>\n",
       "      <td>295.091491</td>\n",
       "      <td>55.660204</td>\n",
       "      <td>['lc_feature_extractor', 'dimmers']</td>\n",
       "      <td>['2mass_psc', 'allwise', 'gaia_dr2', 'bright_g...</td>\n",
       "      <td>NaN</td>\n",
       "      <td>290</td>\n",
       "      <td>14</td>\n",
       "      <td>ztf_candidate:966286933415010005</td>\n",
       "      <td>...</td>\n",
       "      <td>NaN</td>\n",
       "      <td>NaN</td>\n",
       "      <td>NaN</td>\n",
       "      <td>TBD</td>\n",
       "      <td>NaN</td>\n",
       "      <td>NaN</td>\n",
       "      <td>NaN</td>\n",
       "      <td>NaN</td>\n",
       "      <td>88.001492</td>\n",
       "      <td>15.672646</td>\n",
       "    </tr>\n",
       "  </tbody>\n",
       "</table>\n",
       "<p>90199 rows × 112 columns</p>\n",
       "</div>"
      ],
      "text/plain": [
       "               Unnamed: 0        locus_id          ra        dec  \\\n",
       "ztf_object_id                                                      \n",
       "ZTF20acpdyyq            6    ANT2020rajqu   33.976088 -20.258905   \n",
       "ZTF18acfvwwa           39    ANT2020pc6ko   35.639509  32.833982   \n",
       "ZTF17aaaskvj           58    ANT2020rdpmm   28.015003  36.953217   \n",
       "ZTF17aaaskvj           59    ANT2018ftblk   28.015003  36.953216   \n",
       "ZTF18aczbnhl           97    ANT2019dsk24   85.049145 -11.013302   \n",
       "...                   ...             ...         ...        ...   \n",
       "ZTF20aberawv       999927    ANT2020aebbk  292.910293  54.078978   \n",
       "ZTF18acrvsjf       999938    ANT2019zf6fg   72.820139   1.073984   \n",
       "ZTF18acdqrna       999957  ANT2020aefhrvi   53.476865  77.496741   \n",
       "ZTF21abhjyor       999964  ANT2020aeedowi  323.724711  31.249401   \n",
       "ZTF18acfdttb       999987    ANT2020fc5ny  295.091491  55.660204   \n",
       "\n",
       "                                               tags  \\\n",
       "ztf_object_id                                         \n",
       "ZTF20acpdyyq               ['lc_feature_extractor']   \n",
       "ZTF18acfvwwa               ['lc_feature_extractor']   \n",
       "ZTF17aaaskvj               ['lc_feature_extractor']   \n",
       "ZTF17aaaskvj   ['lc_feature_extractor', 'high_snr']   \n",
       "ZTF18aczbnhl               ['lc_feature_extractor']   \n",
       "...                                             ...   \n",
       "ZTF20aberawv    ['lc_feature_extractor', 'dimmers']   \n",
       "ZTF18acrvsjf               ['lc_feature_extractor']   \n",
       "ZTF18acdqrna               ['lc_feature_extractor']   \n",
       "ZTF21abhjyor               ['lc_feature_extractor']   \n",
       "ZTF18acfdttb    ['lc_feature_extractor', 'dimmers']   \n",
       "\n",
       "                                                        catalogs ztf_ssnamenr  \\\n",
       "ztf_object_id                                                                   \n",
       "ZTF20acpdyyq   ['allwise', 'gaia_dr2', '2mass_psc', 'bright_g...          NaN   \n",
       "ZTF18acfvwwa   ['allwise', 'gaia_dr2', '2mass_psc', 'bright_g...          NaN   \n",
       "ZTF17aaaskvj   ['allwise', 'csdr2', 'gaia_dr2', '2mass_psc', ...          NaN   \n",
       "ZTF17aaaskvj   ['allwise', 'csdr2', 'gaia_dr2', '2mass_psc', ...          NaN   \n",
       "ZTF18aczbnhl   ['allwise', 'gaia_dr2', '2mass_psc', 'bright_g...          NaN   \n",
       "...                                                          ...          ...   \n",
       "ZTF20aberawv                                                  []          NaN   \n",
       "ZTF18acrvsjf   ['allwise', 'bright_guide_star_cat', '2mass_ps...          NaN   \n",
       "ZTF18acdqrna   ['allwise', 'bright_guide_star_cat', '2mass_ps...          NaN   \n",
       "ZTF21abhjyor                                                  []          NaN   \n",
       "ZTF18acfdttb   ['2mass_psc', 'allwise', 'gaia_dr2', 'bright_g...          NaN   \n",
       "\n",
       "               num_alerts  num_mag_values                    oldest_alert_id  \\\n",
       "ztf_object_id                                                                  \n",
       "ZTF20acpdyyq          137              35   ztf_candidate:993481181415010007   \n",
       "ZTF18acfvwwa          659              88   ztf_candidate:943483942915015010   \n",
       "ZTF17aaaskvj         1497             579   ztf_candidate:598425334815010002   \n",
       "ZTF17aaaskvj         1504             583   ztf_candidate:598425334815010002   \n",
       "ZTF18aczbnhl          105              12   ztf_candidate:718232301815010005   \n",
       "...                   ...             ...                                ...   \n",
       "ZTF20aberawv          235              96  ztf_candidate:1231482062015010023   \n",
       "ZTF18acrvsjf           40              14   ztf_candidate:696399341515010050   \n",
       "ZTF18acdqrna           83              36  ztf_candidate:1353408024115015003   \n",
       "ZTF21abhjyor          118              19  ztf_candidate:1358283950415015003   \n",
       "ZTF18acfdttb          290              14   ztf_candidate:966286933415010005   \n",
       "\n",
       "               ...  anom_score  anomaly_score anomaly_mask  anomaly_type  \\\n",
       "ztf_object_id  ...                                                         \n",
       "ZTF20acpdyyq   ...         NaN            NaN          NaN           NaN   \n",
       "ZTF18acfvwwa   ...         NaN            NaN          NaN           NaN   \n",
       "ZTF17aaaskvj   ...         NaN            NaN          NaN           NaN   \n",
       "ZTF17aaaskvj   ...         NaN            NaN          NaN           NaN   \n",
       "ZTF18aczbnhl   ...         NaN            NaN          NaN           NaN   \n",
       "...            ...         ...            ...          ...           ...   \n",
       "ZTF20aberawv   ...         NaN       0.417276         Fail           TBD   \n",
       "ZTF18acrvsjf   ...         NaN            NaN          NaN           TBD   \n",
       "ZTF18acdqrna   ...         NaN            NaN          NaN           NaN   \n",
       "ZTF21abhjyor   ...         NaN            NaN          NaN           TBD   \n",
       "ZTF18acfdttb   ...         NaN            NaN          NaN           TBD   \n",
       "\n",
       "               is_corrected vpdf_extreme_version  vpdf_extreme_faint  \\\n",
       "ztf_object_id                                                          \n",
       "ZTF20acpdyyq            NaN                  NaN                 NaN   \n",
       "ZTF18acfvwwa            NaN                  NaN                 NaN   \n",
       "ZTF17aaaskvj            NaN                  NaN                 NaN   \n",
       "ZTF17aaaskvj            NaN                  NaN                 NaN   \n",
       "ZTF18aczbnhl            NaN                  NaN                 NaN   \n",
       "...                     ...                  ...                 ...   \n",
       "ZTF20aberawv            NaN                  NaN                 NaN   \n",
       "ZTF18acrvsjf            NaN                  NaN                 NaN   \n",
       "ZTF18acdqrna            NaN                  NaN                 NaN   \n",
       "ZTF21abhjyor            NaN                  NaN                 NaN   \n",
       "ZTF18acfdttb            NaN                  NaN                 NaN   \n",
       "\n",
       "               vpdf_extreme_bright  locus_gal_l  locus_gal_b  \n",
       "ztf_object_id                                                 \n",
       "ZTF20acpdyyq                   NaN   197.881532   -69.513571  \n",
       "ZTF18acfvwwa                   NaN   144.200342   -26.246909  \n",
       "ZTF17aaaskvj                   NaN   136.189482   -24.352953  \n",
       "ZTF17aaaskvj                   NaN   136.189482   -24.352954  \n",
       "ZTF18aczbnhl                   NaN   214.961559   -20.751422  \n",
       "...                            ...          ...          ...  \n",
       "ZTF20aberawv                   NaN    85.961850    16.149525  \n",
       "ZTF18acrvsjf                   NaN   197.132900   -25.906137  \n",
       "ZTF18acdqrna                   NaN   131.425108    17.392307  \n",
       "ZTF21abhjyor                   NaN    80.880513   -15.145608  \n",
       "ZTF18acfdttb                   NaN    88.001492    15.672646  \n",
       "\n",
       "[90199 rows x 112 columns]"
      ]
     },
     "execution_count": 4,
     "metadata": {},
     "output_type": "execute_result"
    }
   ],
   "source": [
    "dataset_bank = pd.read_csv('../loci_dbs/loci_df_271688objects_cut_stars_and_gal_plane_transf.csv', \n",
    "                                   compression='gzip',\n",
    "                                   usecols=lambda c: c in ztf_id_and_features_r_g,\n",
    "                                  index_col='ztf_object_id')\n",
    "        \n",
    "# drop row if any feature values are nan\n",
    "dataset_bank = dataset_bank[~dataset_bank[feature_names_r_g].isnull().any(axis=1)]\n",
    "\n",
    "#mask = (dataset_bank['num_mag_values'] >= 40) #& (dataset_bank['num_mag_values'] <= 40)\n",
    "#dataset_bank = dataset_bank[mask]\n",
    "dataset_bank"
   ]
  },
  {
   "cell_type": "code",
   "execution_count": 5,
   "id": "adadfa86",
   "metadata": {},
   "outputs": [
    {
     "data": {
      "text/html": [
       "<div>\n",
       "<style scoped>\n",
       "    .dataframe tbody tr th:only-of-type {\n",
       "        vertical-align: middle;\n",
       "    }\n",
       "\n",
       "    .dataframe tbody tr th {\n",
       "        vertical-align: top;\n",
       "    }\n",
       "\n",
       "    .dataframe thead th {\n",
       "        text-align: right;\n",
       "    }\n",
       "</style>\n",
       "<table border=\"1\" class=\"dataframe\">\n",
       "  <thead>\n",
       "    <tr style=\"text-align: right;\">\n",
       "      <th></th>\n",
       "      <th>feature_amplitude_magn_r</th>\n",
       "      <th>feature_anderson_darling_normal_magn_r</th>\n",
       "      <th>feature_beyond_1_std_magn_r</th>\n",
       "      <th>feature_beyond_2_std_magn_r</th>\n",
       "      <th>feature_cusum_magn_r</th>\n",
       "      <th>feature_inter_percentile_range_2_magn_r</th>\n",
       "      <th>feature_inter_percentile_range_10_magn_r</th>\n",
       "      <th>feature_inter_percentile_range_25_magn_r</th>\n",
       "      <th>feature_kurtosis_magn_r</th>\n",
       "      <th>feature_linear_fit_slope_magn_r</th>\n",
       "      <th>...</th>\n",
       "      <th>feature_standard_deviation_magn_g</th>\n",
       "      <th>feature_stetson_k_magn_g</th>\n",
       "      <th>feature_weighted_mean_magn_g</th>\n",
       "      <th>feature_anderson_darling_normal_flux_g</th>\n",
       "      <th>feature_cusum_flux_g</th>\n",
       "      <th>feature_excess_variance_flux_g</th>\n",
       "      <th>feature_kurtosis_flux_g</th>\n",
       "      <th>feature_mean_variance_flux_g</th>\n",
       "      <th>feature_skew_flux_g</th>\n",
       "      <th>feature_stetson_k_flux_g</th>\n",
       "    </tr>\n",
       "    <tr>\n",
       "      <th>ztf_object_id</th>\n",
       "      <th></th>\n",
       "      <th></th>\n",
       "      <th></th>\n",
       "      <th></th>\n",
       "      <th></th>\n",
       "      <th></th>\n",
       "      <th></th>\n",
       "      <th></th>\n",
       "      <th></th>\n",
       "      <th></th>\n",
       "      <th></th>\n",
       "      <th></th>\n",
       "      <th></th>\n",
       "      <th></th>\n",
       "      <th></th>\n",
       "      <th></th>\n",
       "      <th></th>\n",
       "      <th></th>\n",
       "      <th></th>\n",
       "      <th></th>\n",
       "      <th></th>\n",
       "    </tr>\n",
       "  </thead>\n",
       "  <tbody>\n",
       "    <tr>\n",
       "      <th>ZTF20acpdyyq</th>\n",
       "      <td>0.514069</td>\n",
       "      <td>-0.037026</td>\n",
       "      <td>0.230769</td>\n",
       "      <td>0.277350</td>\n",
       "      <td>0.210596</td>\n",
       "      <td>1.028137</td>\n",
       "      <td>0.606000</td>\n",
       "      <td>0.224944</td>\n",
       "      <td>2.176230</td>\n",
       "      <td>-0.001783</td>\n",
       "      <td>...</td>\n",
       "      <td>0.344664</td>\n",
       "      <td>0.833143</td>\n",
       "      <td>18.288298</td>\n",
       "      <td>-0.741267</td>\n",
       "      <td>0.244416</td>\n",
       "      <td>0.409971</td>\n",
       "      <td>-0.783581</td>\n",
       "      <td>-0.535533</td>\n",
       "      <td>-0.061333</td>\n",
       "      <td>0.815809</td>\n",
       "    </tr>\n",
       "    <tr>\n",
       "      <th>ZTF18acfvwwa</th>\n",
       "      <td>0.593122</td>\n",
       "      <td>-0.303523</td>\n",
       "      <td>0.303030</td>\n",
       "      <td>0.246183</td>\n",
       "      <td>0.272132</td>\n",
       "      <td>1.152622</td>\n",
       "      <td>0.729088</td>\n",
       "      <td>0.356500</td>\n",
       "      <td>0.552720</td>\n",
       "      <td>0.000145</td>\n",
       "      <td>...</td>\n",
       "      <td>0.255341</td>\n",
       "      <td>0.796845</td>\n",
       "      <td>17.025929</td>\n",
       "      <td>0.013852</td>\n",
       "      <td>0.276394</td>\n",
       "      <td>0.369215</td>\n",
       "      <td>0.319612</td>\n",
       "      <td>-0.616276</td>\n",
       "      <td>0.720649</td>\n",
       "      <td>0.746565</td>\n",
       "    </tr>\n",
       "    <tr>\n",
       "      <th>ZTF17aaaskvj</th>\n",
       "      <td>1.325100</td>\n",
       "      <td>0.305955</td>\n",
       "      <td>0.310345</td>\n",
       "      <td>0.194759</td>\n",
       "      <td>0.069613</td>\n",
       "      <td>1.452066</td>\n",
       "      <td>0.900613</td>\n",
       "      <td>0.490911</td>\n",
       "      <td>1.562089</td>\n",
       "      <td>-0.000205</td>\n",
       "      <td>...</td>\n",
       "      <td>0.384571</td>\n",
       "      <td>0.542215</td>\n",
       "      <td>16.768612</td>\n",
       "      <td>1.073154</td>\n",
       "      <td>0.119285</td>\n",
       "      <td>0.611570</td>\n",
       "      <td>4.490889</td>\n",
       "      <td>-0.309191</td>\n",
       "      <td>2.390988</td>\n",
       "      <td>0.613781</td>\n",
       "    </tr>\n",
       "    <tr>\n",
       "      <th>ZTF17aaaskvj</th>\n",
       "      <td>1.325100</td>\n",
       "      <td>0.300439</td>\n",
       "      <td>0.308219</td>\n",
       "      <td>0.194091</td>\n",
       "      <td>0.072355</td>\n",
       "      <td>1.448558</td>\n",
       "      <td>0.899251</td>\n",
       "      <td>0.491846</td>\n",
       "      <td>1.551687</td>\n",
       "      <td>-0.000213</td>\n",
       "      <td>...</td>\n",
       "      <td>0.386585</td>\n",
       "      <td>0.541809</td>\n",
       "      <td>16.773018</td>\n",
       "      <td>1.066396</td>\n",
       "      <td>0.119160</td>\n",
       "      <td>0.611631</td>\n",
       "      <td>4.488470</td>\n",
       "      <td>-0.309169</td>\n",
       "      <td>2.386820</td>\n",
       "      <td>0.613769</td>\n",
       "    </tr>\n",
       "    <tr>\n",
       "      <th>ZTF18aczbnhl</th>\n",
       "      <td>0.276431</td>\n",
       "      <td>-0.610376</td>\n",
       "      <td>0.250000</td>\n",
       "      <td>0.000000</td>\n",
       "      <td>0.370062</td>\n",
       "      <td>0.552862</td>\n",
       "      <td>0.552862</td>\n",
       "      <td>0.316462</td>\n",
       "      <td>1.948112</td>\n",
       "      <td>-0.000285</td>\n",
       "      <td>...</td>\n",
       "      <td>0.492342</td>\n",
       "      <td>0.871093</td>\n",
       "      <td>18.629537</td>\n",
       "      <td>-0.228569</td>\n",
       "      <td>0.247441</td>\n",
       "      <td>0.547583</td>\n",
       "      <td>-1.541604</td>\n",
       "      <td>-0.365630</td>\n",
       "      <td>0.163018</td>\n",
       "      <td>0.879632</td>\n",
       "    </tr>\n",
       "    <tr>\n",
       "      <th>...</th>\n",
       "      <td>...</td>\n",
       "      <td>...</td>\n",
       "      <td>...</td>\n",
       "      <td>...</td>\n",
       "      <td>...</td>\n",
       "      <td>...</td>\n",
       "      <td>...</td>\n",
       "      <td>...</td>\n",
       "      <td>...</td>\n",
       "      <td>...</td>\n",
       "      <td>...</td>\n",
       "      <td>...</td>\n",
       "      <td>...</td>\n",
       "      <td>...</td>\n",
       "      <td>...</td>\n",
       "      <td>...</td>\n",
       "      <td>...</td>\n",
       "      <td>...</td>\n",
       "      <td>...</td>\n",
       "      <td>...</td>\n",
       "      <td>...</td>\n",
       "    </tr>\n",
       "    <tr>\n",
       "      <th>ZTF20aberawv</th>\n",
       "      <td>0.300650</td>\n",
       "      <td>-0.429238</td>\n",
       "      <td>0.297297</td>\n",
       "      <td>0.232495</td>\n",
       "      <td>0.184334</td>\n",
       "      <td>0.595349</td>\n",
       "      <td>0.392779</td>\n",
       "      <td>0.242816</td>\n",
       "      <td>-0.351417</td>\n",
       "      <td>0.000136</td>\n",
       "      <td>...</td>\n",
       "      <td>0.155849</td>\n",
       "      <td>0.792311</td>\n",
       "      <td>19.806295</td>\n",
       "      <td>-0.593235</td>\n",
       "      <td>0.204807</td>\n",
       "      <td>-0.221537</td>\n",
       "      <td>-0.302184</td>\n",
       "      <td>-0.857277</td>\n",
       "      <td>-0.176622</td>\n",
       "      <td>0.787504</td>\n",
       "    </tr>\n",
       "    <tr>\n",
       "      <th>ZTF18acrvsjf</th>\n",
       "      <td>0.383450</td>\n",
       "      <td>-0.343338</td>\n",
       "      <td>0.166667</td>\n",
       "      <td>0.000000</td>\n",
       "      <td>0.422187</td>\n",
       "      <td>0.766899</td>\n",
       "      <td>0.732969</td>\n",
       "      <td>0.427601</td>\n",
       "      <td>-1.013720</td>\n",
       "      <td>0.013309</td>\n",
       "      <td>...</td>\n",
       "      <td>0.399852</td>\n",
       "      <td>0.863606</td>\n",
       "      <td>18.111818</td>\n",
       "      <td>-0.572841</td>\n",
       "      <td>0.379990</td>\n",
       "      <td>0.461553</td>\n",
       "      <td>-0.568062</td>\n",
       "      <td>-0.479605</td>\n",
       "      <td>-0.111461</td>\n",
       "      <td>0.810731</td>\n",
       "    </tr>\n",
       "    <tr>\n",
       "      <th>ZTF18acdqrna</th>\n",
       "      <td>0.371200</td>\n",
       "      <td>-0.664954</td>\n",
       "      <td>0.277778</td>\n",
       "      <td>0.000000</td>\n",
       "      <td>0.321254</td>\n",
       "      <td>0.742399</td>\n",
       "      <td>0.511758</td>\n",
       "      <td>0.323900</td>\n",
       "      <td>-0.753142</td>\n",
       "      <td>-0.001131</td>\n",
       "      <td>...</td>\n",
       "      <td>0.306282</td>\n",
       "      <td>0.747445</td>\n",
       "      <td>17.685317</td>\n",
       "      <td>-0.366746</td>\n",
       "      <td>0.267253</td>\n",
       "      <td>0.396504</td>\n",
       "      <td>1.539943</td>\n",
       "      <td>-0.555800</td>\n",
       "      <td>0.748662</td>\n",
       "      <td>0.795946</td>\n",
       "    </tr>\n",
       "    <tr>\n",
       "      <th>ZTF21abhjyor</th>\n",
       "      <td>0.227900</td>\n",
       "      <td>-1.021921</td>\n",
       "      <td>0.500000</td>\n",
       "      <td>0.000000</td>\n",
       "      <td>0.329992</td>\n",
       "      <td>0.455799</td>\n",
       "      <td>0.455799</td>\n",
       "      <td>0.246500</td>\n",
       "      <td>1.085048</td>\n",
       "      <td>-0.001023</td>\n",
       "      <td>...</td>\n",
       "      <td>0.151608</td>\n",
       "      <td>0.839523</td>\n",
       "      <td>17.388193</td>\n",
       "      <td>-0.296973</td>\n",
       "      <td>0.180238</td>\n",
       "      <td>0.148956</td>\n",
       "      <td>0.273701</td>\n",
       "      <td>-0.871107</td>\n",
       "      <td>-0.293902</td>\n",
       "      <td>0.848042</td>\n",
       "    </tr>\n",
       "    <tr>\n",
       "      <th>ZTF18acfdttb</th>\n",
       "      <td>0.555672</td>\n",
       "      <td>-0.389300</td>\n",
       "      <td>0.285714</td>\n",
       "      <td>0.000000</td>\n",
       "      <td>0.382172</td>\n",
       "      <td>1.111343</td>\n",
       "      <td>1.010869</td>\n",
       "      <td>0.517118</td>\n",
       "      <td>0.497496</td>\n",
       "      <td>0.000696</td>\n",
       "      <td>...</td>\n",
       "      <td>0.600190</td>\n",
       "      <td>0.834462</td>\n",
       "      <td>18.515752</td>\n",
       "      <td>-0.409298</td>\n",
       "      <td>0.257396</td>\n",
       "      <td>0.555034</td>\n",
       "      <td>-0.817007</td>\n",
       "      <td>-0.372240</td>\n",
       "      <td>-0.668849</td>\n",
       "      <td>0.902752</td>\n",
       "    </tr>\n",
       "  </tbody>\n",
       "</table>\n",
       "<p>90199 rows × 82 columns</p>\n",
       "</div>"
      ],
      "text/plain": [
       "               feature_amplitude_magn_r  \\\n",
       "ztf_object_id                             \n",
       "ZTF20acpdyyq                   0.514069   \n",
       "ZTF18acfvwwa                   0.593122   \n",
       "ZTF17aaaskvj                   1.325100   \n",
       "ZTF17aaaskvj                   1.325100   \n",
       "ZTF18aczbnhl                   0.276431   \n",
       "...                                 ...   \n",
       "ZTF20aberawv                   0.300650   \n",
       "ZTF18acrvsjf                   0.383450   \n",
       "ZTF18acdqrna                   0.371200   \n",
       "ZTF21abhjyor                   0.227900   \n",
       "ZTF18acfdttb                   0.555672   \n",
       "\n",
       "               feature_anderson_darling_normal_magn_r  \\\n",
       "ztf_object_id                                           \n",
       "ZTF20acpdyyq                                -0.037026   \n",
       "ZTF18acfvwwa                                -0.303523   \n",
       "ZTF17aaaskvj                                 0.305955   \n",
       "ZTF17aaaskvj                                 0.300439   \n",
       "ZTF18aczbnhl                                -0.610376   \n",
       "...                                               ...   \n",
       "ZTF20aberawv                                -0.429238   \n",
       "ZTF18acrvsjf                                -0.343338   \n",
       "ZTF18acdqrna                                -0.664954   \n",
       "ZTF21abhjyor                                -1.021921   \n",
       "ZTF18acfdttb                                -0.389300   \n",
       "\n",
       "               feature_beyond_1_std_magn_r  feature_beyond_2_std_magn_r  \\\n",
       "ztf_object_id                                                             \n",
       "ZTF20acpdyyq                      0.230769                     0.277350   \n",
       "ZTF18acfvwwa                      0.303030                     0.246183   \n",
       "ZTF17aaaskvj                      0.310345                     0.194759   \n",
       "ZTF17aaaskvj                      0.308219                     0.194091   \n",
       "ZTF18aczbnhl                      0.250000                     0.000000   \n",
       "...                                    ...                          ...   \n",
       "ZTF20aberawv                      0.297297                     0.232495   \n",
       "ZTF18acrvsjf                      0.166667                     0.000000   \n",
       "ZTF18acdqrna                      0.277778                     0.000000   \n",
       "ZTF21abhjyor                      0.500000                     0.000000   \n",
       "ZTF18acfdttb                      0.285714                     0.000000   \n",
       "\n",
       "               feature_cusum_magn_r  feature_inter_percentile_range_2_magn_r  \\\n",
       "ztf_object_id                                                                  \n",
       "ZTF20acpdyyq               0.210596                                 1.028137   \n",
       "ZTF18acfvwwa               0.272132                                 1.152622   \n",
       "ZTF17aaaskvj               0.069613                                 1.452066   \n",
       "ZTF17aaaskvj               0.072355                                 1.448558   \n",
       "ZTF18aczbnhl               0.370062                                 0.552862   \n",
       "...                             ...                                      ...   \n",
       "ZTF20aberawv               0.184334                                 0.595349   \n",
       "ZTF18acrvsjf               0.422187                                 0.766899   \n",
       "ZTF18acdqrna               0.321254                                 0.742399   \n",
       "ZTF21abhjyor               0.329992                                 0.455799   \n",
       "ZTF18acfdttb               0.382172                                 1.111343   \n",
       "\n",
       "               feature_inter_percentile_range_10_magn_r  \\\n",
       "ztf_object_id                                             \n",
       "ZTF20acpdyyq                                   0.606000   \n",
       "ZTF18acfvwwa                                   0.729088   \n",
       "ZTF17aaaskvj                                   0.900613   \n",
       "ZTF17aaaskvj                                   0.899251   \n",
       "ZTF18aczbnhl                                   0.552862   \n",
       "...                                                 ...   \n",
       "ZTF20aberawv                                   0.392779   \n",
       "ZTF18acrvsjf                                   0.732969   \n",
       "ZTF18acdqrna                                   0.511758   \n",
       "ZTF21abhjyor                                   0.455799   \n",
       "ZTF18acfdttb                                   1.010869   \n",
       "\n",
       "               feature_inter_percentile_range_25_magn_r  \\\n",
       "ztf_object_id                                             \n",
       "ZTF20acpdyyq                                   0.224944   \n",
       "ZTF18acfvwwa                                   0.356500   \n",
       "ZTF17aaaskvj                                   0.490911   \n",
       "ZTF17aaaskvj                                   0.491846   \n",
       "ZTF18aczbnhl                                   0.316462   \n",
       "...                                                 ...   \n",
       "ZTF20aberawv                                   0.242816   \n",
       "ZTF18acrvsjf                                   0.427601   \n",
       "ZTF18acdqrna                                   0.323900   \n",
       "ZTF21abhjyor                                   0.246500   \n",
       "ZTF18acfdttb                                   0.517118   \n",
       "\n",
       "               feature_kurtosis_magn_r  feature_linear_fit_slope_magn_r  ...  \\\n",
       "ztf_object_id                                                            ...   \n",
       "ZTF20acpdyyq                  2.176230                        -0.001783  ...   \n",
       "ZTF18acfvwwa                  0.552720                         0.000145  ...   \n",
       "ZTF17aaaskvj                  1.562089                        -0.000205  ...   \n",
       "ZTF17aaaskvj                  1.551687                        -0.000213  ...   \n",
       "ZTF18aczbnhl                  1.948112                        -0.000285  ...   \n",
       "...                                ...                              ...  ...   \n",
       "ZTF20aberawv                 -0.351417                         0.000136  ...   \n",
       "ZTF18acrvsjf                 -1.013720                         0.013309  ...   \n",
       "ZTF18acdqrna                 -0.753142                        -0.001131  ...   \n",
       "ZTF21abhjyor                  1.085048                        -0.001023  ...   \n",
       "ZTF18acfdttb                  0.497496                         0.000696  ...   \n",
       "\n",
       "               feature_standard_deviation_magn_g  feature_stetson_k_magn_g  \\\n",
       "ztf_object_id                                                                \n",
       "ZTF20acpdyyq                            0.344664                  0.833143   \n",
       "ZTF18acfvwwa                            0.255341                  0.796845   \n",
       "ZTF17aaaskvj                            0.384571                  0.542215   \n",
       "ZTF17aaaskvj                            0.386585                  0.541809   \n",
       "ZTF18aczbnhl                            0.492342                  0.871093   \n",
       "...                                          ...                       ...   \n",
       "ZTF20aberawv                            0.155849                  0.792311   \n",
       "ZTF18acrvsjf                            0.399852                  0.863606   \n",
       "ZTF18acdqrna                            0.306282                  0.747445   \n",
       "ZTF21abhjyor                            0.151608                  0.839523   \n",
       "ZTF18acfdttb                            0.600190                  0.834462   \n",
       "\n",
       "               feature_weighted_mean_magn_g  \\\n",
       "ztf_object_id                                 \n",
       "ZTF20acpdyyq                      18.288298   \n",
       "ZTF18acfvwwa                      17.025929   \n",
       "ZTF17aaaskvj                      16.768612   \n",
       "ZTF17aaaskvj                      16.773018   \n",
       "ZTF18aczbnhl                      18.629537   \n",
       "...                                     ...   \n",
       "ZTF20aberawv                      19.806295   \n",
       "ZTF18acrvsjf                      18.111818   \n",
       "ZTF18acdqrna                      17.685317   \n",
       "ZTF21abhjyor                      17.388193   \n",
       "ZTF18acfdttb                      18.515752   \n",
       "\n",
       "               feature_anderson_darling_normal_flux_g  feature_cusum_flux_g  \\\n",
       "ztf_object_id                                                                 \n",
       "ZTF20acpdyyq                                -0.741267              0.244416   \n",
       "ZTF18acfvwwa                                 0.013852              0.276394   \n",
       "ZTF17aaaskvj                                 1.073154              0.119285   \n",
       "ZTF17aaaskvj                                 1.066396              0.119160   \n",
       "ZTF18aczbnhl                                -0.228569              0.247441   \n",
       "...                                               ...                   ...   \n",
       "ZTF20aberawv                                -0.593235              0.204807   \n",
       "ZTF18acrvsjf                                -0.572841              0.379990   \n",
       "ZTF18acdqrna                                -0.366746              0.267253   \n",
       "ZTF21abhjyor                                -0.296973              0.180238   \n",
       "ZTF18acfdttb                                -0.409298              0.257396   \n",
       "\n",
       "               feature_excess_variance_flux_g  feature_kurtosis_flux_g  \\\n",
       "ztf_object_id                                                            \n",
       "ZTF20acpdyyq                         0.409971                -0.783581   \n",
       "ZTF18acfvwwa                         0.369215                 0.319612   \n",
       "ZTF17aaaskvj                         0.611570                 4.490889   \n",
       "ZTF17aaaskvj                         0.611631                 4.488470   \n",
       "ZTF18aczbnhl                         0.547583                -1.541604   \n",
       "...                                       ...                      ...   \n",
       "ZTF20aberawv                        -0.221537                -0.302184   \n",
       "ZTF18acrvsjf                         0.461553                -0.568062   \n",
       "ZTF18acdqrna                         0.396504                 1.539943   \n",
       "ZTF21abhjyor                         0.148956                 0.273701   \n",
       "ZTF18acfdttb                         0.555034                -0.817007   \n",
       "\n",
       "               feature_mean_variance_flux_g  feature_skew_flux_g  \\\n",
       "ztf_object_id                                                      \n",
       "ZTF20acpdyyq                      -0.535533            -0.061333   \n",
       "ZTF18acfvwwa                      -0.616276             0.720649   \n",
       "ZTF17aaaskvj                      -0.309191             2.390988   \n",
       "ZTF17aaaskvj                      -0.309169             2.386820   \n",
       "ZTF18aczbnhl                      -0.365630             0.163018   \n",
       "...                                     ...                  ...   \n",
       "ZTF20aberawv                      -0.857277            -0.176622   \n",
       "ZTF18acrvsjf                      -0.479605            -0.111461   \n",
       "ZTF18acdqrna                      -0.555800             0.748662   \n",
       "ZTF21abhjyor                      -0.871107            -0.293902   \n",
       "ZTF18acfdttb                      -0.372240            -0.668849   \n",
       "\n",
       "               feature_stetson_k_flux_g  \n",
       "ztf_object_id                            \n",
       "ZTF20acpdyyq                   0.815809  \n",
       "ZTF18acfvwwa                   0.746565  \n",
       "ZTF17aaaskvj                   0.613781  \n",
       "ZTF17aaaskvj                   0.613769  \n",
       "ZTF18aczbnhl                   0.879632  \n",
       "...                                 ...  \n",
       "ZTF20aberawv                   0.787504  \n",
       "ZTF18acrvsjf                   0.810731  \n",
       "ZTF18acdqrna                   0.795946  \n",
       "ZTF21abhjyor                   0.848042  \n",
       "ZTF18acfdttb                   0.902752  \n",
       "\n",
       "[90199 rows x 82 columns]"
      ]
     },
     "execution_count": 5,
     "metadata": {},
     "output_type": "execute_result"
    }
   ],
   "source": [
    "# only keep features of bank\n",
    "dataset_bank_orig = dataset_bank[feature_names_r_g]\n",
    "dataset_bank_orig"
   ]
  },
  {
   "cell_type": "code",
   "execution_count": 6,
   "id": "9126a59c",
   "metadata": {},
   "outputs": [
    {
     "name": "stdout",
     "output_type": "stream",
     "text": [
      "pca\n",
      "[0.23039056 0.39547268 0.49004163 0.56279701 0.60597478 0.64293407\n",
      " 0.6744957  0.70133184 0.72597255 0.74994114 0.7706908  0.79061063\n",
      " 0.80817714 0.8234333  0.83753345 0.85101643 0.8631636  0.87477589\n",
      " 0.88583142 0.89628427 0.9060682  0.91311192 0.91992786 0.92576346\n",
      " 0.93116594]\n"
     ]
    }
   ],
   "source": [
    "\n",
    "# https://github.com/uiucsn/laiss/blob/main/LAISS/notebooks/LAISS_tests.ipynb\n",
    "idx_arr = np.hstack(np.array(dataset_bank_orig.index, dtype='object'))\n",
    "feat_arr = np.vstack(np.array(dataset_bank_orig, dtype='object'))\n",
    "\n",
    "\n",
    "#scaler = preprocessing.StandardScaler() # Create a scalar\n",
    "scaler = preprocessing.MinMaxScaler() # Create a scalar\n",
    "#scaler = preprocessing.MaxAbsScaler() # Create a scalar\n",
    "#scaler = preprocessing.RobustScaler(quantile_range=(33.0, 67.0)) # quantile_range=(25.0, 75.0) good for outliers\n",
    "#scaler = preprocessing.Normalizer(norm='l2') #norm='max', norm='l1',\n",
    "#scaler = preprocessing.SplineTransformer(n_knots=5, degree=3, knots='uniform', \n",
    "#                                          extrapolation='constant', include_bias=True, order='C')\n",
    "#scaler = preprocessing.FunctionTransformer(np.cbrt, validate=True)\n",
    "#scaler = preprocessing.FunctionTransformer(np.conjugate, validate=True)\n",
    "#scaler = preprocessing.FunctionTransformer(np.rint, validate=True)\n",
    "#scaler = preprocessing.FunctionTransformer(np.rint, validate=True)\n",
    "\n",
    "#print(\"scaler\")\n",
    "#scaler.fit(feat_arr) # Fit only to training data\n",
    "#feat_arr_scaled = scaler.transform(feat_arr) # What your model learns on\n",
    "#print(np.shape(feat_arr_scaled))\n",
    "#print(feat_arr_scaled)\n",
    "\n",
    "\n",
    "\n",
    "# #OR try PCA, then scalar\n",
    "# print(\"pca\")\n",
    "# # Initialize PCA with 15 principal components\n",
    "# n_components=6\n",
    "# pca = PCA(n_components=n_components)\n",
    "# feat_arr_scaled = np.array(pca.fit_transform(feat_arr))\n",
    "# scaler.fit(feat_arr_scaled) # Fit only to training data\n",
    "# feat_arr_scaled = scaler.transform(feat_arr_scaled) # What your model learns on\n",
    "\n",
    "#OR try scalar then PCA\n",
    "print(\"pca\")\n",
    "# Initialize PCA with 15 principal components\n",
    "n_components=25\n",
    "pca = PCA(n_components=n_components)\n",
    "feat_arr_scaled = scaler.fit_transform(feat_arr)\n",
    "feat_arr_scaled = np.array(pca.fit_transform(feat_arr_scaled))\n",
    "\n",
    "# # #OR try PCA only\n",
    "# print(\"pca\")\n",
    "# # Initialize PCA with 15 principal components\n",
    "# n_components=6\n",
    "# pca = PCA(n_components=n_components)\n",
    "# feat_arr_scaled = np.array(pca.fit_transform(feat_arr))\n",
    "\n",
    "# Print the explained variance\n",
    "print(np.cumsum(pca.explained_variance_ratio_))\n",
    "\n",
    "# Build ANNOY index of scaled features of dataset_bank\n",
    "index = AnnoyIndex(feat_arr_scaled, idx_arr, metric='euclidean')\n",
    "index.build()\n",
    "# dist metrics: dot is not good, eucl and manhattan are more or less same, \n",
    "# hamming is good distance but matches aren't as similar\n",
    "# angular has best matches?"
   ]
  },
  {
   "cell_type": "markdown",
   "id": "3afb4b78",
   "metadata": {},
   "source": [
    "# TODO: get Tns classes, do distance distr per class (in diff metrics)"
   ]
  },
  {
   "cell_type": "code",
   "execution_count": 7,
   "id": "3abfc268",
   "metadata": {},
   "outputs": [
    {
     "data": {
      "text/html": [
       "<div>\n",
       "<style scoped>\n",
       "    .dataframe tbody tr th:only-of-type {\n",
       "        vertical-align: middle;\n",
       "    }\n",
       "\n",
       "    .dataframe tbody tr th {\n",
       "        vertical-align: top;\n",
       "    }\n",
       "\n",
       "    .dataframe thead th {\n",
       "        text-align: right;\n",
       "    }\n",
       "</style>\n",
       "<table border=\"1\" class=\"dataframe\">\n",
       "  <thead>\n",
       "    <tr style=\"text-align: right;\">\n",
       "      <th></th>\n",
       "      <th>PC0</th>\n",
       "      <th>PC1</th>\n",
       "      <th>PC2</th>\n",
       "      <th>PC3</th>\n",
       "      <th>PC4</th>\n",
       "      <th>PC5</th>\n",
       "      <th>PC6</th>\n",
       "      <th>PC7</th>\n",
       "      <th>PC8</th>\n",
       "      <th>PC9</th>\n",
       "      <th>...</th>\n",
       "      <th>PC15</th>\n",
       "      <th>PC16</th>\n",
       "      <th>PC17</th>\n",
       "      <th>PC18</th>\n",
       "      <th>PC19</th>\n",
       "      <th>PC20</th>\n",
       "      <th>PC21</th>\n",
       "      <th>PC22</th>\n",
       "      <th>PC23</th>\n",
       "      <th>PC24</th>\n",
       "    </tr>\n",
       "    <tr>\n",
       "      <th>ztf_object_id</th>\n",
       "      <th></th>\n",
       "      <th></th>\n",
       "      <th></th>\n",
       "      <th></th>\n",
       "      <th></th>\n",
       "      <th></th>\n",
       "      <th></th>\n",
       "      <th></th>\n",
       "      <th></th>\n",
       "      <th></th>\n",
       "      <th></th>\n",
       "      <th></th>\n",
       "      <th></th>\n",
       "      <th></th>\n",
       "      <th></th>\n",
       "      <th></th>\n",
       "      <th></th>\n",
       "      <th></th>\n",
       "      <th></th>\n",
       "      <th></th>\n",
       "      <th></th>\n",
       "    </tr>\n",
       "  </thead>\n",
       "  <tbody>\n",
       "    <tr>\n",
       "      <th>ZTF20acpdyyq</th>\n",
       "      <td>0.538141</td>\n",
       "      <td>0.148851</td>\n",
       "      <td>-0.438363</td>\n",
       "      <td>-0.093599</td>\n",
       "      <td>-0.261809</td>\n",
       "      <td>0.485151</td>\n",
       "      <td>0.035720</td>\n",
       "      <td>0.123461</td>\n",
       "      <td>0.049311</td>\n",
       "      <td>-0.180764</td>\n",
       "      <td>...</td>\n",
       "      <td>-0.061751</td>\n",
       "      <td>-0.099524</td>\n",
       "      <td>0.088973</td>\n",
       "      <td>0.110382</td>\n",
       "      <td>0.062188</td>\n",
       "      <td>-0.140989</td>\n",
       "      <td>-0.149980</td>\n",
       "      <td>0.055306</td>\n",
       "      <td>-0.050241</td>\n",
       "      <td>-0.023479</td>\n",
       "    </tr>\n",
       "    <tr>\n",
       "      <th>ZTF18acfvwwa</th>\n",
       "      <td>0.599408</td>\n",
       "      <td>0.223573</td>\n",
       "      <td>0.076394</td>\n",
       "      <td>0.240885</td>\n",
       "      <td>0.136615</td>\n",
       "      <td>0.360183</td>\n",
       "      <td>-0.023252</td>\n",
       "      <td>0.034719</td>\n",
       "      <td>-0.120681</td>\n",
       "      <td>-0.186083</td>\n",
       "      <td>...</td>\n",
       "      <td>-0.000537</td>\n",
       "      <td>-0.105582</td>\n",
       "      <td>0.112025</td>\n",
       "      <td>0.069404</td>\n",
       "      <td>0.045920</td>\n",
       "      <td>0.070087</td>\n",
       "      <td>-0.079057</td>\n",
       "      <td>-0.073166</td>\n",
       "      <td>0.121929</td>\n",
       "      <td>-0.024814</td>\n",
       "    </tr>\n",
       "    <tr>\n",
       "      <th>ZTF17aaaskvj</th>\n",
       "      <td>1.218187</td>\n",
       "      <td>0.855351</td>\n",
       "      <td>0.249786</td>\n",
       "      <td>0.255937</td>\n",
       "      <td>-0.267851</td>\n",
       "      <td>-0.225081</td>\n",
       "      <td>0.387857</td>\n",
       "      <td>0.401776</td>\n",
       "      <td>0.148533</td>\n",
       "      <td>0.136406</td>\n",
       "      <td>...</td>\n",
       "      <td>-0.105628</td>\n",
       "      <td>0.231111</td>\n",
       "      <td>-0.045395</td>\n",
       "      <td>-0.057771</td>\n",
       "      <td>-0.052225</td>\n",
       "      <td>-0.080173</td>\n",
       "      <td>0.008753</td>\n",
       "      <td>0.095288</td>\n",
       "      <td>0.257357</td>\n",
       "      <td>0.066682</td>\n",
       "    </tr>\n",
       "    <tr>\n",
       "      <th>ZTF17aaaskvj</th>\n",
       "      <td>1.200853</td>\n",
       "      <td>0.852557</td>\n",
       "      <td>0.249214</td>\n",
       "      <td>0.251377</td>\n",
       "      <td>-0.274087</td>\n",
       "      <td>-0.224366</td>\n",
       "      <td>0.391003</td>\n",
       "      <td>0.396212</td>\n",
       "      <td>0.156539</td>\n",
       "      <td>0.115348</td>\n",
       "      <td>...</td>\n",
       "      <td>-0.099111</td>\n",
       "      <td>0.219734</td>\n",
       "      <td>-0.045674</td>\n",
       "      <td>-0.056979</td>\n",
       "      <td>-0.045309</td>\n",
       "      <td>-0.088318</td>\n",
       "      <td>0.019035</td>\n",
       "      <td>0.100420</td>\n",
       "      <td>0.259479</td>\n",
       "      <td>0.066788</td>\n",
       "    </tr>\n",
       "    <tr>\n",
       "      <th>ZTF18aczbnhl</th>\n",
       "      <td>-0.348307</td>\n",
       "      <td>-0.194542</td>\n",
       "      <td>-0.443213</td>\n",
       "      <td>0.187053</td>\n",
       "      <td>-0.214085</td>\n",
       "      <td>-0.373076</td>\n",
       "      <td>-0.388555</td>\n",
       "      <td>0.205777</td>\n",
       "      <td>-0.165918</td>\n",
       "      <td>-0.141421</td>\n",
       "      <td>...</td>\n",
       "      <td>0.156806</td>\n",
       "      <td>-0.130872</td>\n",
       "      <td>-0.163331</td>\n",
       "      <td>0.147192</td>\n",
       "      <td>-0.053988</td>\n",
       "      <td>0.110677</td>\n",
       "      <td>0.097636</td>\n",
       "      <td>-0.078884</td>\n",
       "      <td>0.344785</td>\n",
       "      <td>-0.126864</td>\n",
       "    </tr>\n",
       "    <tr>\n",
       "      <th>...</th>\n",
       "      <td>...</td>\n",
       "      <td>...</td>\n",
       "      <td>...</td>\n",
       "      <td>...</td>\n",
       "      <td>...</td>\n",
       "      <td>...</td>\n",
       "      <td>...</td>\n",
       "      <td>...</td>\n",
       "      <td>...</td>\n",
       "      <td>...</td>\n",
       "      <td>...</td>\n",
       "      <td>...</td>\n",
       "      <td>...</td>\n",
       "      <td>...</td>\n",
       "      <td>...</td>\n",
       "      <td>...</td>\n",
       "      <td>...</td>\n",
       "      <td>...</td>\n",
       "      <td>...</td>\n",
       "      <td>...</td>\n",
       "      <td>...</td>\n",
       "    </tr>\n",
       "    <tr>\n",
       "      <th>ZTF20aberawv</th>\n",
       "      <td>0.930267</td>\n",
       "      <td>-0.456519</td>\n",
       "      <td>0.027062</td>\n",
       "      <td>0.396545</td>\n",
       "      <td>-0.143150</td>\n",
       "      <td>0.076984</td>\n",
       "      <td>0.033642</td>\n",
       "      <td>-0.058115</td>\n",
       "      <td>-0.045070</td>\n",
       "      <td>-0.005305</td>\n",
       "      <td>...</td>\n",
       "      <td>-0.171656</td>\n",
       "      <td>-0.061910</td>\n",
       "      <td>0.011045</td>\n",
       "      <td>-0.082059</td>\n",
       "      <td>-0.004178</td>\n",
       "      <td>0.036654</td>\n",
       "      <td>-0.002704</td>\n",
       "      <td>-0.091379</td>\n",
       "      <td>0.008936</td>\n",
       "      <td>0.024019</td>\n",
       "    </tr>\n",
       "    <tr>\n",
       "      <th>ZTF18acrvsjf</th>\n",
       "      <td>-0.731951</td>\n",
       "      <td>-0.304998</td>\n",
       "      <td>0.282717</td>\n",
       "      <td>0.094136</td>\n",
       "      <td>0.210098</td>\n",
       "      <td>0.207504</td>\n",
       "      <td>0.139907</td>\n",
       "      <td>-0.186065</td>\n",
       "      <td>0.060431</td>\n",
       "      <td>-0.152374</td>\n",
       "      <td>...</td>\n",
       "      <td>-0.154251</td>\n",
       "      <td>0.145554</td>\n",
       "      <td>-0.053806</td>\n",
       "      <td>0.158317</td>\n",
       "      <td>-0.245304</td>\n",
       "      <td>-0.186048</td>\n",
       "      <td>-0.018727</td>\n",
       "      <td>0.032064</td>\n",
       "      <td>-0.155988</td>\n",
       "      <td>-0.082906</td>\n",
       "    </tr>\n",
       "    <tr>\n",
       "      <th>ZTF18acdqrna</th>\n",
       "      <td>0.262027</td>\n",
       "      <td>0.080751</td>\n",
       "      <td>0.666251</td>\n",
       "      <td>0.078619</td>\n",
       "      <td>0.027660</td>\n",
       "      <td>0.234308</td>\n",
       "      <td>-0.247691</td>\n",
       "      <td>-0.080370</td>\n",
       "      <td>-0.048394</td>\n",
       "      <td>-0.075482</td>\n",
       "      <td>...</td>\n",
       "      <td>0.047750</td>\n",
       "      <td>-0.046950</td>\n",
       "      <td>-0.075222</td>\n",
       "      <td>0.038727</td>\n",
       "      <td>-0.154667</td>\n",
       "      <td>0.000265</td>\n",
       "      <td>-0.144271</td>\n",
       "      <td>-0.138765</td>\n",
       "      <td>0.025208</td>\n",
       "      <td>0.035579</td>\n",
       "    </tr>\n",
       "    <tr>\n",
       "      <th>ZTF21abhjyor</th>\n",
       "      <td>-0.086232</td>\n",
       "      <td>-0.070700</td>\n",
       "      <td>0.155350</td>\n",
       "      <td>-0.197716</td>\n",
       "      <td>-0.573494</td>\n",
       "      <td>0.175025</td>\n",
       "      <td>-0.286536</td>\n",
       "      <td>0.213059</td>\n",
       "      <td>0.220367</td>\n",
       "      <td>0.137446</td>\n",
       "      <td>...</td>\n",
       "      <td>0.125656</td>\n",
       "      <td>0.030388</td>\n",
       "      <td>0.026414</td>\n",
       "      <td>-0.278671</td>\n",
       "      <td>0.398174</td>\n",
       "      <td>0.125319</td>\n",
       "      <td>-0.076219</td>\n",
       "      <td>-0.076333</td>\n",
       "      <td>0.039461</td>\n",
       "      <td>0.018377</td>\n",
       "    </tr>\n",
       "    <tr>\n",
       "      <th>ZTF18acfdttb</th>\n",
       "      <td>-0.335317</td>\n",
       "      <td>-0.034333</td>\n",
       "      <td>0.062554</td>\n",
       "      <td>0.064222</td>\n",
       "      <td>-0.134630</td>\n",
       "      <td>0.278270</td>\n",
       "      <td>-0.025704</td>\n",
       "      <td>0.141368</td>\n",
       "      <td>0.021515</td>\n",
       "      <td>0.267602</td>\n",
       "      <td>...</td>\n",
       "      <td>0.264875</td>\n",
       "      <td>-0.055856</td>\n",
       "      <td>-0.343888</td>\n",
       "      <td>-0.032233</td>\n",
       "      <td>0.031138</td>\n",
       "      <td>0.095469</td>\n",
       "      <td>0.028971</td>\n",
       "      <td>-0.051359</td>\n",
       "      <td>-0.090236</td>\n",
       "      <td>0.030573</td>\n",
       "    </tr>\n",
       "  </tbody>\n",
       "</table>\n",
       "<p>90199 rows × 25 columns</p>\n",
       "</div>"
      ],
      "text/plain": [
       "                    PC0       PC1       PC2       PC3       PC4       PC5  \\\n",
       "ztf_object_id                                                               \n",
       "ZTF20acpdyyq   0.538141  0.148851 -0.438363 -0.093599 -0.261809  0.485151   \n",
       "ZTF18acfvwwa   0.599408  0.223573  0.076394  0.240885  0.136615  0.360183   \n",
       "ZTF17aaaskvj   1.218187  0.855351  0.249786  0.255937 -0.267851 -0.225081   \n",
       "ZTF17aaaskvj   1.200853  0.852557  0.249214  0.251377 -0.274087 -0.224366   \n",
       "ZTF18aczbnhl  -0.348307 -0.194542 -0.443213  0.187053 -0.214085 -0.373076   \n",
       "...                 ...       ...       ...       ...       ...       ...   \n",
       "ZTF20aberawv   0.930267 -0.456519  0.027062  0.396545 -0.143150  0.076984   \n",
       "ZTF18acrvsjf  -0.731951 -0.304998  0.282717  0.094136  0.210098  0.207504   \n",
       "ZTF18acdqrna   0.262027  0.080751  0.666251  0.078619  0.027660  0.234308   \n",
       "ZTF21abhjyor  -0.086232 -0.070700  0.155350 -0.197716 -0.573494  0.175025   \n",
       "ZTF18acfdttb  -0.335317 -0.034333  0.062554  0.064222 -0.134630  0.278270   \n",
       "\n",
       "                    PC6       PC7       PC8       PC9  ...      PC15  \\\n",
       "ztf_object_id                                          ...             \n",
       "ZTF20acpdyyq   0.035720  0.123461  0.049311 -0.180764  ... -0.061751   \n",
       "ZTF18acfvwwa  -0.023252  0.034719 -0.120681 -0.186083  ... -0.000537   \n",
       "ZTF17aaaskvj   0.387857  0.401776  0.148533  0.136406  ... -0.105628   \n",
       "ZTF17aaaskvj   0.391003  0.396212  0.156539  0.115348  ... -0.099111   \n",
       "ZTF18aczbnhl  -0.388555  0.205777 -0.165918 -0.141421  ...  0.156806   \n",
       "...                 ...       ...       ...       ...  ...       ...   \n",
       "ZTF20aberawv   0.033642 -0.058115 -0.045070 -0.005305  ... -0.171656   \n",
       "ZTF18acrvsjf   0.139907 -0.186065  0.060431 -0.152374  ... -0.154251   \n",
       "ZTF18acdqrna  -0.247691 -0.080370 -0.048394 -0.075482  ...  0.047750   \n",
       "ZTF21abhjyor  -0.286536  0.213059  0.220367  0.137446  ...  0.125656   \n",
       "ZTF18acfdttb  -0.025704  0.141368  0.021515  0.267602  ...  0.264875   \n",
       "\n",
       "                   PC16      PC17      PC18      PC19      PC20      PC21  \\\n",
       "ztf_object_id                                                               \n",
       "ZTF20acpdyyq  -0.099524  0.088973  0.110382  0.062188 -0.140989 -0.149980   \n",
       "ZTF18acfvwwa  -0.105582  0.112025  0.069404  0.045920  0.070087 -0.079057   \n",
       "ZTF17aaaskvj   0.231111 -0.045395 -0.057771 -0.052225 -0.080173  0.008753   \n",
       "ZTF17aaaskvj   0.219734 -0.045674 -0.056979 -0.045309 -0.088318  0.019035   \n",
       "ZTF18aczbnhl  -0.130872 -0.163331  0.147192 -0.053988  0.110677  0.097636   \n",
       "...                 ...       ...       ...       ...       ...       ...   \n",
       "ZTF20aberawv  -0.061910  0.011045 -0.082059 -0.004178  0.036654 -0.002704   \n",
       "ZTF18acrvsjf   0.145554 -0.053806  0.158317 -0.245304 -0.186048 -0.018727   \n",
       "ZTF18acdqrna  -0.046950 -0.075222  0.038727 -0.154667  0.000265 -0.144271   \n",
       "ZTF21abhjyor   0.030388  0.026414 -0.278671  0.398174  0.125319 -0.076219   \n",
       "ZTF18acfdttb  -0.055856 -0.343888 -0.032233  0.031138  0.095469  0.028971   \n",
       "\n",
       "                   PC22      PC23      PC24  \n",
       "ztf_object_id                                \n",
       "ZTF20acpdyyq   0.055306 -0.050241 -0.023479  \n",
       "ZTF18acfvwwa  -0.073166  0.121929 -0.024814  \n",
       "ZTF17aaaskvj   0.095288  0.257357  0.066682  \n",
       "ZTF17aaaskvj   0.100420  0.259479  0.066788  \n",
       "ZTF18aczbnhl  -0.078884  0.344785 -0.126864  \n",
       "...                 ...       ...       ...  \n",
       "ZTF20aberawv  -0.091379  0.008936  0.024019  \n",
       "ZTF18acrvsjf   0.032064 -0.155988 -0.082906  \n",
       "ZTF18acdqrna  -0.138765  0.025208  0.035579  \n",
       "ZTF21abhjyor  -0.076333  0.039461  0.018377  \n",
       "ZTF18acfdttb  -0.051359 -0.090236  0.030573  \n",
       "\n",
       "[90199 rows x 25 columns]"
      ]
     },
     "execution_count": 7,
     "metadata": {},
     "output_type": "execute_result"
    }
   ],
   "source": [
    "# Scalar then PCA\n",
    "col_names = [f'PC'+str(i) for i in range(n_components)]\n",
    "dataset_bank_pca = pd.DataFrame(pca.fit_transform(feat_arr_scaled), columns=col_names)\n",
    "dataset_bank_pca = dataset_bank_pca.set_index(dataset_bank_orig.index)\n",
    "dataset_bank_pca\n",
    "\n",
    "# # Just PCA\n",
    "# col_names = [f'PC'+str(i) for i in range(n_components)]\n",
    "# dataset_bank_pca = pd.DataFrame(pca.fit_transform(dataset_bank_orig), columns=col_names)\n",
    "# dataset_bank_pca = dataset_bank_pca.set_index(dataset_bank_orig.index)\n",
    "# dataset_bank_pca\n",
    "\n",
    "\n",
    "# # Just PCA, then scalar\n",
    "# col_names = [f'PC'+str(i) for i in range(n_components)]\n",
    "# dataset_bank_pca = pd.DataFrame(pca.fit_transform(dataset_bank_orig), columns=col_names)\n",
    "# dataset_bank_pca = dataset_bank_pca.set_index(dataset_bank_orig.index)\n",
    "# dataset_bank_pca = scaler.transform(dataset_bank_pca)\n",
    "# dataset_bank_pca = pd.DataFrame(dataset_bank_pca, columns=col_names)\n",
    "# dataset_bank_pca = dataset_bank_pca.set_index(dataset_bank_orig.index)\n",
    "# dataset_bank_pca"
   ]
  },
  {
   "cell_type": "code",
   "execution_count": 8,
   "id": "b7665a8b",
   "metadata": {},
   "outputs": [
    {
     "data": {
      "text/html": [
       "<div>\n",
       "<style scoped>\n",
       "    .dataframe tbody tr th:only-of-type {\n",
       "        vertical-align: middle;\n",
       "    }\n",
       "\n",
       "    .dataframe tbody tr th {\n",
       "        vertical-align: top;\n",
       "    }\n",
       "\n",
       "    .dataframe thead th {\n",
       "        text-align: right;\n",
       "    }\n",
       "</style>\n",
       "<table border=\"1\" class=\"dataframe\">\n",
       "  <thead>\n",
       "    <tr style=\"text-align: right;\">\n",
       "      <th></th>\n",
       "      <th>PC0</th>\n",
       "      <th>PC1</th>\n",
       "      <th>PC2</th>\n",
       "      <th>PC3</th>\n",
       "      <th>PC4</th>\n",
       "      <th>PC5</th>\n",
       "      <th>PC6</th>\n",
       "      <th>PC7</th>\n",
       "      <th>PC8</th>\n",
       "      <th>PC9</th>\n",
       "      <th>...</th>\n",
       "      <th>PC15</th>\n",
       "      <th>PC16</th>\n",
       "      <th>PC17</th>\n",
       "      <th>PC18</th>\n",
       "      <th>PC19</th>\n",
       "      <th>PC20</th>\n",
       "      <th>PC21</th>\n",
       "      <th>PC22</th>\n",
       "      <th>PC23</th>\n",
       "      <th>PC24</th>\n",
       "    </tr>\n",
       "    <tr>\n",
       "      <th>ztf_object_id</th>\n",
       "      <th></th>\n",
       "      <th></th>\n",
       "      <th></th>\n",
       "      <th></th>\n",
       "      <th></th>\n",
       "      <th></th>\n",
       "      <th></th>\n",
       "      <th></th>\n",
       "      <th></th>\n",
       "      <th></th>\n",
       "      <th></th>\n",
       "      <th></th>\n",
       "      <th></th>\n",
       "      <th></th>\n",
       "      <th></th>\n",
       "      <th></th>\n",
       "      <th></th>\n",
       "      <th></th>\n",
       "      <th></th>\n",
       "      <th></th>\n",
       "      <th></th>\n",
       "    </tr>\n",
       "  </thead>\n",
       "  <tbody>\n",
       "    <tr>\n",
       "      <th>ZTF21aassamj</th>\n",
       "      <td>-0.587521</td>\n",
       "      <td>0.070572</td>\n",
       "      <td>-0.126513</td>\n",
       "      <td>0.394258</td>\n",
       "      <td>0.943086</td>\n",
       "      <td>-0.212929</td>\n",
       "      <td>-0.178961</td>\n",
       "      <td>0.210464</td>\n",
       "      <td>0.176937</td>\n",
       "      <td>0.062474</td>\n",
       "      <td>...</td>\n",
       "      <td>-0.125484</td>\n",
       "      <td>-0.065499</td>\n",
       "      <td>0.023352</td>\n",
       "      <td>-0.075921</td>\n",
       "      <td>-0.003673</td>\n",
       "      <td>-0.107222</td>\n",
       "      <td>-0.139145</td>\n",
       "      <td>0.117514</td>\n",
       "      <td>-0.108141</td>\n",
       "      <td>-0.114377</td>\n",
       "    </tr>\n",
       "  </tbody>\n",
       "</table>\n",
       "<p>1 rows × 25 columns</p>\n",
       "</div>"
      ],
      "text/plain": [
       "                    PC0       PC1       PC2       PC3       PC4       PC5  \\\n",
       "ztf_object_id                                                               \n",
       "ZTF21aassamj  -0.587521  0.070572 -0.126513  0.394258  0.943086 -0.212929   \n",
       "\n",
       "                    PC6       PC7       PC8       PC9  ...      PC15  \\\n",
       "ztf_object_id                                          ...             \n",
       "ZTF21aassamj  -0.178961  0.210464  0.176937  0.062474  ... -0.125484   \n",
       "\n",
       "                   PC16      PC17      PC18      PC19      PC20      PC21  \\\n",
       "ztf_object_id                                                               \n",
       "ZTF21aassamj  -0.065499  0.023352 -0.075921 -0.003673 -0.107222 -0.139145   \n",
       "\n",
       "                   PC22      PC23      PC24  \n",
       "ztf_object_id                                \n",
       "ZTF21aassamj   0.117514 -0.108141 -0.114377  \n",
       "\n",
       "[1 rows x 25 columns]"
      ]
     },
     "execution_count": 8,
     "metadata": {},
     "output_type": "execute_result"
    }
   ],
   "source": [
    "# Reference\n",
    "# ZTF21aassamj\tdataset_bank.iloc[-5:-4] is good Ia\n",
    "\n",
    "#with PCA\n",
    "dataset_bank = dataset_bank_pca.copy()\n",
    "\n",
    "\n",
    "# # No PCA\n",
    "# dataset_bank = dataset_bank_orig.copy()\n",
    "\n",
    "\n",
    "dataset_ref = dataset_bank[dataset_bank.index == 'ZTF21aassamj'] # SN ia (lower first ANN dist), 0.3478 [eucl.], 2.1561 [manhattan], 21.8293 [dot], 0 for first 3, then 1,2... [hamming], 0.077 [angular]\n",
    "#dataset_ref = dataset_bank[dataset_bank.index == 'ZTF20abwrcmq'] # SN iax ,  , 3.5786 [manhattan]\n",
    "#dataset_ref = dataset_bank[dataset_bank.index == 'ZTF18abuicad'] # SLSN z=0.135, , 4.449 [manhattan]\n",
    "#dataset_ref = dataset_bank[dataset_bank.index == 'ZTF20abqkbfx'] # Ia-CSM , , 4.0267 [manhattan], 4 is first match, then 5 [hamming]\n",
    "#dataset_ref = dataset_bank[dataset_bank.index == 'ZTF20achncvv']  # SLSN-II\n",
    "#dataset_ref = dataset_bank[dataset_bank.index == 'ZTF20acpbdvm'] # SN II , , 2.3857 [manhattan], 0.088 [angular]\n",
    "#dataset_ref = dataset_bank[dataset_bank.index == 'ZTF20acveyyv'] # SN IIn\n",
    "#dataset_ref = dataset_bank[dataset_bank.index == 'ZTF18abktckv'] # Lensing (high first ANN dist), 0.7893, 4.5839 [manhattan], 21.5625 [dot], 8! for first one, then 9,10... [hamming], 0.1678 [angular]\n",
    "#dataset_ref = dataset_bank[dataset_bank.index == 'ZTF20achutoz'] # junk\n",
    "#dataset_ref = dataset_bank[dataset_bank.index == 'ZTF18abtkeaf'] # star #ZTF18acdqrna #ZTF19aapunrg #ZTF18abtkeaf\n",
    "dataset_ref "
   ]
  },
  {
   "cell_type": "code",
   "execution_count": 9,
   "id": "0c97284d",
   "metadata": {
    "scrolled": false
   },
   "outputs": [
    {
     "name": "stdout",
     "output_type": "stream",
     "text": [
      "ZTF ID name (ref) ZTF21aassamj\n"
     ]
    },
    {
     "data": {
      "text/markdown": [
       "https://alerce.online/object/ZTF21aassamj"
      ]
     },
     "metadata": {},
     "output_type": "display_data"
    },
    {
     "name": "stdout",
     "output_type": "stream",
     "text": [
      "None\n",
      "%%%%%%\n",
      "ANN\t\tIDX\t\t\t\tZTF_id\t\t\t\tDIST\n"
     ]
    },
    {
     "data": {
      "text/markdown": [
       "https://alerce.online/object/ZTF21aassamj"
      ]
     },
     "metadata": {},
     "output_type": "display_data"
    },
    {
     "name": "stdout",
     "output_type": "stream",
     "text": [
      "0\t\t90181\t\t\t\tNone\t\t\t0.0\n"
     ]
    },
    {
     "data": {
      "text/markdown": [
       "https://alerce.online/object/ZTF20acwnrty"
      ]
     },
     "metadata": {},
     "output_type": "display_data"
    },
    {
     "name": "stdout",
     "output_type": "stream",
     "text": [
      "1\t\t17019\t\t\t\tNone\t\t\t0.228\n"
     ]
    },
    {
     "data": {
      "text/markdown": [
       "https://alerce.online/object/ZTF20acnvlgg"
      ]
     },
     "metadata": {},
     "output_type": "display_data"
    },
    {
     "name": "stdout",
     "output_type": "stream",
     "text": [
      "2\t\t5478\t\t\t\tNone\t\t\t0.2855\n"
     ]
    },
    {
     "data": {
      "text/markdown": [
       "https://alerce.online/object/ZTF21aanwfjk"
      ]
     },
     "metadata": {},
     "output_type": "display_data"
    },
    {
     "name": "stdout",
     "output_type": "stream",
     "text": [
      "3\t\t46111\t\t\t\tNone\t\t\t0.3017\n"
     ]
    },
    {
     "data": {
      "text/markdown": [
       "https://alerce.online/object/ZTF21aaswvyc"
      ]
     },
     "metadata": {},
     "output_type": "display_data"
    },
    {
     "name": "stdout",
     "output_type": "stream",
     "text": [
      "4\t\t15214\t\t\t\tNone\t\t\t0.3221\n"
     ]
    },
    {
     "data": {
      "text/markdown": [
       "https://alerce.online/object/ZTF18acybdar"
      ]
     },
     "metadata": {},
     "output_type": "display_data"
    },
    {
     "name": "stdout",
     "output_type": "stream",
     "text": [
      "5\t\t4456\t\t\t\tNone\t\t\t0.3403\n"
     ]
    },
    {
     "data": {
      "text/markdown": [
       "https://alerce.online/object/ZTF21aavqwhh"
      ]
     },
     "metadata": {},
     "output_type": "display_data"
    },
    {
     "name": "stdout",
     "output_type": "stream",
     "text": [
      "6\t\t82995\t\t\t\tNone\t\t\t0.344\n"
     ]
    },
    {
     "data": {
      "text/markdown": [
       "https://alerce.online/object/ZTF21aawzsew"
      ]
     },
     "metadata": {},
     "output_type": "display_data"
    },
    {
     "name": "stdout",
     "output_type": "stream",
     "text": [
      "7\t\t70057\t\t\t\tNone\t\t\t0.3474\n"
     ]
    },
    {
     "data": {
      "text/markdown": [
       "https://alerce.online/object/ZTF21abjeyoh"
      ]
     },
     "metadata": {},
     "output_type": "display_data"
    },
    {
     "name": "stdout",
     "output_type": "stream",
     "text": [
      "8\t\t62841\t\t\t\tNone\t\t\t0.3634\n"
     ]
    },
    {
     "data": {
      "text/markdown": [
       "https://alerce.online/object/ZTF21aapkvrd"
      ]
     },
     "metadata": {},
     "output_type": "display_data"
    },
    {
     "name": "stdout",
     "output_type": "stream",
     "text": [
      "9\t\t8026\t\t\t\tNone\t\t\t0.3868\n"
     ]
    }
   ],
   "source": [
    "# feat_arr_ref = np.vstack(np.array(dataset_ref, dtype='object'))\n",
    "# scaled_feat_arr_ref = scaler.transform(feat_arr_ref) #scaler.transform(feat_arr) # What your model learns on\n",
    "# #scaled_feat_arr_ref = scaler.fit_transform(feat_arr_ref) #scaler.transform(feat_arr) # What your model learns on\n",
    "\n",
    "# Scalar then PCA\n",
    "scaled_feat_arr_ref = np.array(dataset_ref)\n",
    "\n",
    "# # PCA only\n",
    "# feat_arr_ref = np.vstack(np.array(dataset_ref, dtype='object'))\n",
    "# scaled_feat_arr_ref = feat_arr_ref\n",
    "\n",
    "# #PCA then scaler\n",
    "# feat_arr_ref = np.vstack(np.array(dataset_ref, dtype='object'))\n",
    "# scaled_feat_arr_ref = feat_arr_ref\n",
    "\n",
    "ztf_id = dataset_ref.index.values[0]\n",
    "lcdata = {'name': ztf_id, 'vector': scaled_feat_arr_ref[0]}\n",
    "#lcdata = {'name': ztf_id, 'vector': feat_arr_scaled[-5:-4][0]}\n",
    "\n",
    "#result_id, result_dist = index.index.get_nns_by_item(, n=10, include_distances=True)\n",
    "result_id, result_dist = index.index.get_nns_by_vector(lcdata['vector'], n=10, include_distances=True)\n",
    "#result_name = index.query(lcdata['vector'])\n",
    "\n",
    "print(f\"ZTF ID name (ref) {ztf_id}\") \n",
    "link_ref = display_markdown(f'https://alerce.online/object/{ztf_id}', raw=True)\n",
    "print(link_ref)\n",
    "print(\"%%%%%%\")\n",
    "print(\"ANN\\t\\tIDX\\t\\t\\t\\tZTF_id\\t\\t\\t\\tDIST\")#\\tFEAT\")\n",
    "for n, (i, d) in enumerate(zip(result_id, result_dist)):#, feat_arr):\n",
    "    print(f\"{n}\\t\\t{i}\\t\\t\\t\\t{display_markdown(f'https://alerce.online/object/{idx_arr[i]}', raw=True)}\\t\\t\\t{round(d, 4)}\")#\\t{f}\")"
   ]
  },
  {
   "cell_type": "code",
   "execution_count": 10,
   "id": "334c566f",
   "metadata": {},
   "outputs": [
    {
     "data": {
      "text/html": [
       "<div>\n",
       "<style scoped>\n",
       "    .dataframe tbody tr th:only-of-type {\n",
       "        vertical-align: middle;\n",
       "    }\n",
       "\n",
       "    .dataframe tbody tr th {\n",
       "        vertical-align: top;\n",
       "    }\n",
       "\n",
       "    .dataframe thead th {\n",
       "        text-align: right;\n",
       "    }\n",
       "</style>\n",
       "<table border=\"1\" class=\"dataframe\">\n",
       "  <thead>\n",
       "    <tr style=\"text-align: right;\">\n",
       "      <th></th>\n",
       "      <th>PC0</th>\n",
       "      <th>PC1</th>\n",
       "      <th>PC2</th>\n",
       "      <th>PC3</th>\n",
       "      <th>PC4</th>\n",
       "      <th>PC5</th>\n",
       "      <th>PC6</th>\n",
       "      <th>PC7</th>\n",
       "      <th>PC8</th>\n",
       "      <th>PC9</th>\n",
       "      <th>...</th>\n",
       "      <th>PC15</th>\n",
       "      <th>PC16</th>\n",
       "      <th>PC17</th>\n",
       "      <th>PC18</th>\n",
       "      <th>PC19</th>\n",
       "      <th>PC20</th>\n",
       "      <th>PC21</th>\n",
       "      <th>PC22</th>\n",
       "      <th>PC23</th>\n",
       "      <th>PC24</th>\n",
       "    </tr>\n",
       "    <tr>\n",
       "      <th>ztf_object_id</th>\n",
       "      <th></th>\n",
       "      <th></th>\n",
       "      <th></th>\n",
       "      <th></th>\n",
       "      <th></th>\n",
       "      <th></th>\n",
       "      <th></th>\n",
       "      <th></th>\n",
       "      <th></th>\n",
       "      <th></th>\n",
       "      <th></th>\n",
       "      <th></th>\n",
       "      <th></th>\n",
       "      <th></th>\n",
       "      <th></th>\n",
       "      <th></th>\n",
       "      <th></th>\n",
       "      <th></th>\n",
       "      <th></th>\n",
       "      <th></th>\n",
       "      <th></th>\n",
       "    </tr>\n",
       "  </thead>\n",
       "  <tbody>\n",
       "    <tr>\n",
       "      <th>ZTF21aassamj</th>\n",
       "      <td>-0.587521</td>\n",
       "      <td>0.070572</td>\n",
       "      <td>-0.126513</td>\n",
       "      <td>0.394258</td>\n",
       "      <td>0.943086</td>\n",
       "      <td>-0.212929</td>\n",
       "      <td>-0.178961</td>\n",
       "      <td>0.210464</td>\n",
       "      <td>0.176937</td>\n",
       "      <td>0.062474</td>\n",
       "      <td>...</td>\n",
       "      <td>-0.125484</td>\n",
       "      <td>-0.065499</td>\n",
       "      <td>0.023352</td>\n",
       "      <td>-0.075921</td>\n",
       "      <td>-0.003673</td>\n",
       "      <td>-0.107222</td>\n",
       "      <td>-0.139145</td>\n",
       "      <td>0.117514</td>\n",
       "      <td>-0.108141</td>\n",
       "      <td>-0.114377</td>\n",
       "    </tr>\n",
       "    <tr>\n",
       "      <th>ZTF20acwnrty</th>\n",
       "      <td>-0.570213</td>\n",
       "      <td>0.034169</td>\n",
       "      <td>-0.065447</td>\n",
       "      <td>0.401727</td>\n",
       "      <td>0.934497</td>\n",
       "      <td>-0.195782</td>\n",
       "      <td>-0.091714</td>\n",
       "      <td>0.226877</td>\n",
       "      <td>0.166923</td>\n",
       "      <td>0.073613</td>\n",
       "      <td>...</td>\n",
       "      <td>-0.066929</td>\n",
       "      <td>-0.114892</td>\n",
       "      <td>0.005890</td>\n",
       "      <td>-0.009168</td>\n",
       "      <td>-0.047276</td>\n",
       "      <td>-0.123617</td>\n",
       "      <td>-0.117552</td>\n",
       "      <td>0.086512</td>\n",
       "      <td>-0.094454</td>\n",
       "      <td>0.014096</td>\n",
       "    </tr>\n",
       "    <tr>\n",
       "      <th>ZTF20acnvlgg</th>\n",
       "      <td>-0.589578</td>\n",
       "      <td>0.112118</td>\n",
       "      <td>-0.134781</td>\n",
       "      <td>0.467056</td>\n",
       "      <td>1.039585</td>\n",
       "      <td>-0.111480</td>\n",
       "      <td>-0.150214</td>\n",
       "      <td>0.232215</td>\n",
       "      <td>0.263124</td>\n",
       "      <td>0.044803</td>\n",
       "      <td>...</td>\n",
       "      <td>-0.106205</td>\n",
       "      <td>-0.033307</td>\n",
       "      <td>-0.030797</td>\n",
       "      <td>-0.086035</td>\n",
       "      <td>-0.011773</td>\n",
       "      <td>-0.039981</td>\n",
       "      <td>-0.028241</td>\n",
       "      <td>0.076991</td>\n",
       "      <td>-0.155864</td>\n",
       "      <td>-0.085997</td>\n",
       "    </tr>\n",
       "    <tr>\n",
       "      <th>ZTF21aanwfjk</th>\n",
       "      <td>-0.597311</td>\n",
       "      <td>-0.019940</td>\n",
       "      <td>-0.180888</td>\n",
       "      <td>0.303186</td>\n",
       "      <td>0.896590</td>\n",
       "      <td>-0.190956</td>\n",
       "      <td>-0.093994</td>\n",
       "      <td>0.159117</td>\n",
       "      <td>0.242367</td>\n",
       "      <td>0.021437</td>\n",
       "      <td>...</td>\n",
       "      <td>-0.148276</td>\n",
       "      <td>-0.066565</td>\n",
       "      <td>0.000487</td>\n",
       "      <td>0.039924</td>\n",
       "      <td>0.057321</td>\n",
       "      <td>-0.080921</td>\n",
       "      <td>-0.115840</td>\n",
       "      <td>0.145491</td>\n",
       "      <td>-0.134280</td>\n",
       "      <td>-0.059219</td>\n",
       "    </tr>\n",
       "    <tr>\n",
       "      <th>ZTF21aaswvyc</th>\n",
       "      <td>-0.676021</td>\n",
       "      <td>-0.087664</td>\n",
       "      <td>-0.021890</td>\n",
       "      <td>0.445203</td>\n",
       "      <td>0.906649</td>\n",
       "      <td>-0.232043</td>\n",
       "      <td>-0.078568</td>\n",
       "      <td>0.130160</td>\n",
       "      <td>0.138216</td>\n",
       "      <td>0.068097</td>\n",
       "      <td>...</td>\n",
       "      <td>-0.052793</td>\n",
       "      <td>-0.042876</td>\n",
       "      <td>0.042521</td>\n",
       "      <td>-0.039943</td>\n",
       "      <td>0.007478</td>\n",
       "      <td>-0.075862</td>\n",
       "      <td>-0.153032</td>\n",
       "      <td>0.131876</td>\n",
       "      <td>-0.030820</td>\n",
       "      <td>-0.014542</td>\n",
       "    </tr>\n",
       "    <tr>\n",
       "      <th>ZTF18acybdar</th>\n",
       "      <td>-0.549718</td>\n",
       "      <td>0.042921</td>\n",
       "      <td>-0.202282</td>\n",
       "      <td>0.430677</td>\n",
       "      <td>0.896244</td>\n",
       "      <td>-0.110288</td>\n",
       "      <td>-0.137778</td>\n",
       "      <td>0.208033</td>\n",
       "      <td>0.209291</td>\n",
       "      <td>0.053685</td>\n",
       "      <td>...</td>\n",
       "      <td>-0.057688</td>\n",
       "      <td>-0.023391</td>\n",
       "      <td>-0.055528</td>\n",
       "      <td>-0.041648</td>\n",
       "      <td>-0.050468</td>\n",
       "      <td>0.026349</td>\n",
       "      <td>-0.175935</td>\n",
       "      <td>0.073679</td>\n",
       "      <td>-0.026925</td>\n",
       "      <td>-0.190903</td>\n",
       "    </tr>\n",
       "    <tr>\n",
       "      <th>ZTF21aavqwhh</th>\n",
       "      <td>-0.613919</td>\n",
       "      <td>-0.113277</td>\n",
       "      <td>-0.055076</td>\n",
       "      <td>0.327895</td>\n",
       "      <td>0.904119</td>\n",
       "      <td>-0.112636</td>\n",
       "      <td>-0.115735</td>\n",
       "      <td>0.181161</td>\n",
       "      <td>0.270499</td>\n",
       "      <td>0.051422</td>\n",
       "      <td>...</td>\n",
       "      <td>-0.041625</td>\n",
       "      <td>-0.051695</td>\n",
       "      <td>0.063663</td>\n",
       "      <td>-0.071595</td>\n",
       "      <td>0.065783</td>\n",
       "      <td>-0.030319</td>\n",
       "      <td>-0.113022</td>\n",
       "      <td>0.070904</td>\n",
       "      <td>-0.080772</td>\n",
       "      <td>-0.044289</td>\n",
       "    </tr>\n",
       "    <tr>\n",
       "      <th>ZTF21aawzsew</th>\n",
       "      <td>-0.725151</td>\n",
       "      <td>0.042928</td>\n",
       "      <td>-0.192530</td>\n",
       "      <td>0.517175</td>\n",
       "      <td>0.974894</td>\n",
       "      <td>-0.103694</td>\n",
       "      <td>-0.156930</td>\n",
       "      <td>0.282616</td>\n",
       "      <td>0.160117</td>\n",
       "      <td>-0.030969</td>\n",
       "      <td>...</td>\n",
       "      <td>-0.098932</td>\n",
       "      <td>0.039892</td>\n",
       "      <td>0.055245</td>\n",
       "      <td>0.017625</td>\n",
       "      <td>0.080624</td>\n",
       "      <td>-0.040188</td>\n",
       "      <td>-0.159862</td>\n",
       "      <td>0.098130</td>\n",
       "      <td>-0.049451</td>\n",
       "      <td>-0.162142</td>\n",
       "    </tr>\n",
       "    <tr>\n",
       "      <th>ZTF21abjeyoh</th>\n",
       "      <td>-0.658946</td>\n",
       "      <td>0.083789</td>\n",
       "      <td>-0.241590</td>\n",
       "      <td>0.437300</td>\n",
       "      <td>0.944343</td>\n",
       "      <td>-0.219906</td>\n",
       "      <td>-0.120675</td>\n",
       "      <td>0.251285</td>\n",
       "      <td>0.169143</td>\n",
       "      <td>-0.039797</td>\n",
       "      <td>...</td>\n",
       "      <td>-0.082117</td>\n",
       "      <td>-0.082153</td>\n",
       "      <td>-0.025905</td>\n",
       "      <td>-0.015640</td>\n",
       "      <td>-0.052854</td>\n",
       "      <td>0.057746</td>\n",
       "      <td>-0.022274</td>\n",
       "      <td>0.187338</td>\n",
       "      <td>-0.002911</td>\n",
       "      <td>-0.087245</td>\n",
       "    </tr>\n",
       "    <tr>\n",
       "      <th>ZTF21aapkvrd</th>\n",
       "      <td>-0.730037</td>\n",
       "      <td>0.019770</td>\n",
       "      <td>-0.135842</td>\n",
       "      <td>0.565828</td>\n",
       "      <td>0.978372</td>\n",
       "      <td>-0.207775</td>\n",
       "      <td>-0.089814</td>\n",
       "      <td>0.122182</td>\n",
       "      <td>0.088623</td>\n",
       "      <td>-0.055191</td>\n",
       "      <td>...</td>\n",
       "      <td>-0.091377</td>\n",
       "      <td>-0.027871</td>\n",
       "      <td>-0.079705</td>\n",
       "      <td>0.041583</td>\n",
       "      <td>0.009560</td>\n",
       "      <td>-0.088570</td>\n",
       "      <td>-0.143286</td>\n",
       "      <td>0.087070</td>\n",
       "      <td>0.009397</td>\n",
       "      <td>-0.059914</td>\n",
       "    </tr>\n",
       "  </tbody>\n",
       "</table>\n",
       "<p>10 rows × 25 columns</p>\n",
       "</div>"
      ],
      "text/plain": [
       "                    PC0       PC1       PC2       PC3       PC4       PC5  \\\n",
       "ztf_object_id                                                               \n",
       "ZTF21aassamj  -0.587521  0.070572 -0.126513  0.394258  0.943086 -0.212929   \n",
       "ZTF20acwnrty  -0.570213  0.034169 -0.065447  0.401727  0.934497 -0.195782   \n",
       "ZTF20acnvlgg  -0.589578  0.112118 -0.134781  0.467056  1.039585 -0.111480   \n",
       "ZTF21aanwfjk  -0.597311 -0.019940 -0.180888  0.303186  0.896590 -0.190956   \n",
       "ZTF21aaswvyc  -0.676021 -0.087664 -0.021890  0.445203  0.906649 -0.232043   \n",
       "ZTF18acybdar  -0.549718  0.042921 -0.202282  0.430677  0.896244 -0.110288   \n",
       "ZTF21aavqwhh  -0.613919 -0.113277 -0.055076  0.327895  0.904119 -0.112636   \n",
       "ZTF21aawzsew  -0.725151  0.042928 -0.192530  0.517175  0.974894 -0.103694   \n",
       "ZTF21abjeyoh  -0.658946  0.083789 -0.241590  0.437300  0.944343 -0.219906   \n",
       "ZTF21aapkvrd  -0.730037  0.019770 -0.135842  0.565828  0.978372 -0.207775   \n",
       "\n",
       "                    PC6       PC7       PC8       PC9  ...      PC15  \\\n",
       "ztf_object_id                                          ...             \n",
       "ZTF21aassamj  -0.178961  0.210464  0.176937  0.062474  ... -0.125484   \n",
       "ZTF20acwnrty  -0.091714  0.226877  0.166923  0.073613  ... -0.066929   \n",
       "ZTF20acnvlgg  -0.150214  0.232215  0.263124  0.044803  ... -0.106205   \n",
       "ZTF21aanwfjk  -0.093994  0.159117  0.242367  0.021437  ... -0.148276   \n",
       "ZTF21aaswvyc  -0.078568  0.130160  0.138216  0.068097  ... -0.052793   \n",
       "ZTF18acybdar  -0.137778  0.208033  0.209291  0.053685  ... -0.057688   \n",
       "ZTF21aavqwhh  -0.115735  0.181161  0.270499  0.051422  ... -0.041625   \n",
       "ZTF21aawzsew  -0.156930  0.282616  0.160117 -0.030969  ... -0.098932   \n",
       "ZTF21abjeyoh  -0.120675  0.251285  0.169143 -0.039797  ... -0.082117   \n",
       "ZTF21aapkvrd  -0.089814  0.122182  0.088623 -0.055191  ... -0.091377   \n",
       "\n",
       "                   PC16      PC17      PC18      PC19      PC20      PC21  \\\n",
       "ztf_object_id                                                               \n",
       "ZTF21aassamj  -0.065499  0.023352 -0.075921 -0.003673 -0.107222 -0.139145   \n",
       "ZTF20acwnrty  -0.114892  0.005890 -0.009168 -0.047276 -0.123617 -0.117552   \n",
       "ZTF20acnvlgg  -0.033307 -0.030797 -0.086035 -0.011773 -0.039981 -0.028241   \n",
       "ZTF21aanwfjk  -0.066565  0.000487  0.039924  0.057321 -0.080921 -0.115840   \n",
       "ZTF21aaswvyc  -0.042876  0.042521 -0.039943  0.007478 -0.075862 -0.153032   \n",
       "ZTF18acybdar  -0.023391 -0.055528 -0.041648 -0.050468  0.026349 -0.175935   \n",
       "ZTF21aavqwhh  -0.051695  0.063663 -0.071595  0.065783 -0.030319 -0.113022   \n",
       "ZTF21aawzsew   0.039892  0.055245  0.017625  0.080624 -0.040188 -0.159862   \n",
       "ZTF21abjeyoh  -0.082153 -0.025905 -0.015640 -0.052854  0.057746 -0.022274   \n",
       "ZTF21aapkvrd  -0.027871 -0.079705  0.041583  0.009560 -0.088570 -0.143286   \n",
       "\n",
       "                   PC22      PC23      PC24  \n",
       "ztf_object_id                                \n",
       "ZTF21aassamj   0.117514 -0.108141 -0.114377  \n",
       "ZTF20acwnrty   0.086512 -0.094454  0.014096  \n",
       "ZTF20acnvlgg   0.076991 -0.155864 -0.085997  \n",
       "ZTF21aanwfjk   0.145491 -0.134280 -0.059219  \n",
       "ZTF21aaswvyc   0.131876 -0.030820 -0.014542  \n",
       "ZTF18acybdar   0.073679 -0.026925 -0.190903  \n",
       "ZTF21aavqwhh   0.070904 -0.080772 -0.044289  \n",
       "ZTF21aawzsew   0.098130 -0.049451 -0.162142  \n",
       "ZTF21abjeyoh   0.187338 -0.002911 -0.087245  \n",
       "ZTF21aapkvrd   0.087070  0.009397 -0.059914  \n",
       "\n",
       "[10 rows x 25 columns]"
      ]
     },
     "execution_count": 10,
     "metadata": {},
     "output_type": "execute_result"
    }
   ],
   "source": [
    "results_df = dataset_bank[dataset_bank.index.isin(idx_arr[result_id])]\n",
    "results_df = results_df.reindex(idx_arr[result_id])\n",
    "results_df"
   ]
  },
  {
   "cell_type": "code",
   "execution_count": 11,
   "id": "db9edd74",
   "metadata": {},
   "outputs": [
    {
     "data": {
      "image/png": "[encoded data removed]",
      "text/plain": [
       "<Figure size 432x288 with 1 Axes>"
      ]
     },
     "metadata": {
      "needs_background": "light"
     },
     "output_type": "display_data"
    },
    {
     "data": {
      "image/png": "[encoded data removed]",
      "text/plain": [
       "<Figure size 432x288 with 1 Axes>"
      ]
     },
     "metadata": {
      "needs_background": "light"
     },
     "output_type": "display_data"
    },
    {
     "data": {
      "image/png": "[encoded data removed]",
      "text/plain": [
       "<Figure size 432x288 with 1 Axes>"
      ]
     },
     "metadata": {
      "needs_background": "light"
     },
     "output_type": "display_data"
    },
    {
     "data": {
      "image/png": "[encoded data removed]",
      "text/plain": [
       "<Figure size 432x288 with 1 Axes>"
      ]
     },
     "metadata": {
      "needs_background": "light"
     },
     "output_type": "display_data"
    },
    {
     "data": {
      "image/png": "[encoded data removed]",
      "text/plain": [
       "<Figure size 432x288 with 1 Axes>"
      ]
     },
     "metadata": {
      "needs_background": "light"
     },
     "output_type": "display_data"
    },
    {
     "data": {
      "image/png": "[encoded data removed]",
      "text/plain": [
       "<Figure size 432x288 with 1 Axes>"
      ]
     },
     "metadata": {
      "needs_background": "light"
     },
     "output_type": "display_data"
    },
    {
     "data": {
      "image/png": "[encoded data removed]",
      "text/plain": [
       "<Figure size 432x288 with 1 Axes>"
      ]
     },
     "metadata": {
      "needs_background": "light"
     },
     "output_type": "display_data"
    },
    {
     "data": {
      "image/png": "[encoded data removed]",
      "text/plain": [
       "<Figure size 432x288 with 1 Axes>"
      ]
     },
     "metadata": {
      "needs_background": "light"
     },
     "output_type": "display_data"
    },
    {
     "data": {
      "image/png": "[encoded data removed]",
      "text/plain": [
       "<Figure size 432x288 with 1 Axes>"
      ]
     },
     "metadata": {
      "needs_background": "light"
     },
     "output_type": "display_data"
    },
    {
     "data": {
      "image/png": "[encoded data removed]",
      "text/plain": [
       "<Figure size 432x288 with 1 Axes>"
      ]
     },
     "metadata": {
      "needs_background": "light"
     },
     "output_type": "display_data"
    },
    {
     "data": {
      "image/png": "[encoded data removed]",
      "text/plain": [
       "<Figure size 432x288 with 1 Axes>"
      ]
     },
     "metadata": {
      "needs_background": "light"
     },
     "output_type": "display_data"
    },
    {
     "data": {
      "image/png": "[encoded data removed]",
      "text/plain": [
       "<Figure size 432x288 with 1 Axes>"
      ]
     },
     "metadata": {
      "needs_background": "light"
     },
     "output_type": "display_data"
    },
    {
     "data": {
      "image/png": "[encoded data removed]",
      "text/plain": [
       "<Figure size 432x288 with 1 Axes>"
      ]
     },
     "metadata": {
      "needs_background": "light"
     },
     "output_type": "display_data"
    },
    {
     "data": {
      "image/png": "[encoded data removed]",
      "text/plain": [
       "<Figure size 432x288 with 1 Axes>"
      ]
     },
     "metadata": {
      "needs_background": "light"
     },
     "output_type": "display_data"
    },
    {
     "data": {
      "image/png": "[encoded data removed]",
      "text/plain": [
       "<Figure size 432x288 with 1 Axes>"
      ]
     },
     "metadata": {
      "needs_background": "light"
     },
     "output_type": "display_data"
    },
    {
     "data": {
      "image/png": "[encoded data removed]",
      "text/plain": [
       "<Figure size 432x288 with 1 Axes>"
      ]
     },
     "metadata": {
      "needs_background": "light"
     },
     "output_type": "display_data"
    },
    {
     "data": {
      "image/png": "[encoded data removed]",
      "text/plain": [
       "<Figure size 432x288 with 1 Axes>"
      ]
     },
     "metadata": {
      "needs_background": "light"
     },
     "output_type": "display_data"
    },
    {
     "data": {
      "image/png": "[encoded data removed]",
      "text/plain": [
       "<Figure size 432x288 with 1 Axes>"
      ]
     },
     "metadata": {
      "needs_background": "light"
     },
     "output_type": "display_data"
    },
    {
     "data": {
      "image/png": "[encoded data removed]",
      "text/plain": [
       "<Figure size 432x288 with 1 Axes>"
      ]
     },
     "metadata": {
      "needs_background": "light"
     },
     "output_type": "display_data"
    },
    {
     "data": {
      "image/png": "[encoded data removed]",
      "text/plain": [
       "<Figure size 432x288 with 1 Axes>"
      ]
     },
     "metadata": {
      "needs_background": "light"
     },
     "output_type": "display_data"
    },
    {
     "data": {
      "image/png": "[encoded data removed]",
      "text/plain": [
       "<Figure size 432x288 with 1 Axes>"
      ]
     },
     "metadata": {
      "needs_background": "light"
     },
     "output_type": "display_data"
    },
    {
     "data": {
      "image/png": "[encoded data removed]",
      "text/plain": [
       "<Figure size 432x288 with 1 Axes>"
      ]
     },
     "metadata": {
      "needs_background": "light"
     },
     "output_type": "display_data"
    },
    {
     "data": {
      "image/png": "[encoded data removed]",
      "text/plain": [
       "<Figure size 432x288 with 1 Axes>"
      ]
     },
     "metadata": {
      "needs_background": "light"
     },
     "output_type": "display_data"
    },
    {
     "data": {
      "image/png": "[encoded data removed]",
      "text/plain": [
       "<Figure size 432x288 with 1 Axes>"
      ]
     },
     "metadata": {
      "needs_background": "light"
     },
     "output_type": "display_data"
    },
    {
     "data": {
      "image/png": "[encoded data removed]",
      "text/plain": [
       "<Figure size 432x288 with 1 Axes>"
      ]
     },
     "metadata": {
      "needs_background": "light"
     },
     "output_type": "display_data"
    }
   ],
   "source": [
    "feat_scatter_l = []\n",
    "for feat in results_df.columns:\n",
    "    fig, ax = plt.subplots()\n",
    "    min_feat, max_feat = np.min(dataset_bank[feat]), np.max(dataset_bank[feat])\n",
    "    \n",
    "    ax.hist(results_df[feat], bins=np.linspace(min_feat, max_feat, 50))\n",
    "    ax.set_title(feat)\n",
    "    ax.set_xlim(min_feat, max_feat)\n",
    "    \n",
    "    plt.show()\n",
    "    \n",
    "    feat_scatter = np.std(results_df[feat])\n",
    "    feat_scatter_l.append(feat_scatter)    "
   ]
  },
  {
   "cell_type": "code",
   "execution_count": 12,
   "id": "d64a6e8e",
   "metadata": {},
   "outputs": [
    {
     "name": "stdout",
     "output_type": "stream",
     "text": [
      "Scatter mean: 0.05068279501340909\n",
      "Scatter median: 0.04965714653334314\n",
      "Scatter std: 0.010843959320651117\n",
      "Scatter max: 0.0750208583477649\n",
      "Scatter min: 0.03189250403766801\n"
     ]
    }
   ],
   "source": [
    "print(\"Scatter mean:\", np.mean(feat_scatter_l))\n",
    "print(\"Scatter median:\", np.median(feat_scatter_l))\n",
    "print(\"Scatter std:\", np.std(feat_scatter_l))\n",
    "print(\"Scatter max:\", np.max(feat_scatter_l))\n",
    "print(\"Scatter min:\", np.min(feat_scatter_l))"
   ]
  },
  {
   "cell_type": "code",
   "execution_count": 13,
   "id": "6e0a12fc",
   "metadata": {},
   "outputs": [
    {
     "data": {
      "text/plain": [
       "['ZTF17aaaacoy',\n",
       " 'ZTF17aaaacsm',\n",
       " 'ZTF17aaaadml',\n",
       " 'ZTF17aaaaemx',\n",
       " 'ZTF17aaaaene',\n",
       " 'ZTF17aaaaenu',\n",
       " 'ZTF17aaaaess',\n",
       " 'ZTF17aaaaewv',\n",
       " 'ZTF17aaaankp',\n",
       " 'ZTF17aaaaxzi',\n",
       " 'ZTF17aaaayua',\n",
       " 'ZTF17aaaayzx',\n",
       " 'ZTF17aaaazhi',\n",
       " 'ZTF17aaaazkn',\n",
       " 'ZTF17aaaazmz',\n",
       " 'ZTF17aaabgbh',\n",
       " 'ZTF17aaabgbm',\n",
       " 'ZTF17aaabgby',\n",
       " 'ZTF17aaabgdz',\n",
       " 'ZTF17aaabgep',\n",
       " 'ZTF17aaabghb',\n",
       " 'ZTF17aaabgil',\n",
       " 'ZTF17aaabgpy',\n",
       " 'ZTF17aaabgsl',\n",
       " 'ZTF17aaabmmo',\n",
       " 'ZTF17aaabuab',\n",
       " 'ZTF17aaaccjr',\n",
       " 'ZTF17aaaccnn',\n",
       " 'ZTF17aaaceht',\n",
       " 'ZTF17aaaceyf',\n",
       " 'ZTF17aaaczhj',\n",
       " 'ZTF17aaadars',\n",
       " 'ZTF17aaadasl',\n",
       " 'ZTF17aaadlcq',\n",
       " 'ZTF17aaadlhe',\n",
       " 'ZTF17aaadndc',\n",
       " 'ZTF17aaadoqi',\n",
       " 'ZTF17aaadozl',\n",
       " 'ZTF17aaadpdd',\n",
       " 'ZTF17aaadpkb',\n",
       " 'ZTF17aaadpkl',\n",
       " 'ZTF17aaadpkz',\n",
       " 'ZTF17aaadqae',\n",
       " 'ZTF17aaadqdy',\n",
       " 'ZTF17aaadqyf',\n",
       " 'ZTF17aaadrbc',\n",
       " 'ZTF17aaadroa',\n",
       " 'ZTF17aaadrrq',\n",
       " 'ZTF17aaaduyi',\n",
       " 'ZTF17aaaduzw',\n",
       " 'ZTF17aaadvan',\n",
       " 'ZTF17aaadvbj',\n",
       " 'ZTF17aaadvbq',\n",
       " 'ZTF17aaadvfh',\n",
       " 'ZTF17aaadvfi',\n",
       " 'ZTF17aaadvmt',\n",
       " 'ZTF17aaaegxm',\n",
       " 'ZTF17aaaehfq',\n",
       " 'ZTF17aaaehps',\n",
       " 'ZTF17aaaehqn',\n",
       " 'ZTF17aaaehqx',\n",
       " 'ZTF17aaaehsl',\n",
       " 'ZTF17aaaehtk',\n",
       " 'ZTF17aaaehva',\n",
       " 'ZTF17aaaehvi',\n",
       " 'ZTF17aaaehvr',\n",
       " 'ZTF17aaaehwa',\n",
       " 'ZTF17aaaehyz',\n",
       " 'ZTF17aaaehzb',\n",
       " 'ZTF17aaaehzh',\n",
       " 'ZTF17aaaeikz',\n",
       " 'ZTF17aaaeila',\n",
       " 'ZTF17aaaeimi',\n",
       " 'ZTF17aaaeiun',\n",
       " 'ZTF17aaaeiwk',\n",
       " 'ZTF17aaaejcs',\n",
       " 'ZTF17aaaeljd',\n",
       " 'ZTF17aaaemzh',\n",
       " 'ZTF17aaaemzq',\n",
       " 'ZTF17aaaencm',\n",
       " 'ZTF17aaaenfb',\n",
       " 'ZTF17aaaenfc',\n",
       " 'ZTF17aaaenfh',\n",
       " 'ZTF17aaaenha',\n",
       " 'ZTF17aaaenih',\n",
       " 'ZTF17aaaeniu',\n",
       " 'ZTF17aaaenjl',\n",
       " 'ZTF17aaaenkh',\n",
       " 'ZTF17aaaenmm',\n",
       " 'ZTF17aaaenmn',\n",
       " 'ZTF17aaaennm',\n",
       " 'ZTF17aaaenoq',\n",
       " 'ZTF17aaaeokp',\n",
       " 'ZTF17aaaeqwm',\n",
       " 'ZTF17aaaesne',\n",
       " 'ZTF17aaaessf',\n",
       " 'ZTF17aaaesxl',\n",
       " 'ZTF17aaaeszu',\n",
       " 'ZTF17aaaeumd',\n",
       " 'ZTF17aaaeuns',\n",
       " 'ZTF17aaaeupj',\n",
       " 'ZTF17aaaeupz',\n",
       " 'ZTF17aaaeurj',\n",
       " 'ZTF17aaaevbo',\n",
       " 'ZTF17aaaevbp',\n",
       " 'ZTF17aaaexkz',\n",
       " 'ZTF17aaaexnm',\n",
       " 'ZTF17aaaexov',\n",
       " 'ZTF17aaafacs',\n",
       " 'ZTF17aaaffsa',\n",
       " 'ZTF17aaafgly',\n",
       " 'ZTF17aaafipo',\n",
       " 'ZTF17aaafiut',\n",
       " 'ZTF17aaafjaf',\n",
       " 'ZTF17aaafjyz',\n",
       " 'ZTF17aaafpbx',\n",
       " 'ZTF17aaafqwd',\n",
       " 'ZTF17aaafssi',\n",
       " 'ZTF17aaafstx',\n",
       " 'ZTF17aaaftok',\n",
       " 'ZTF17aaaftos',\n",
       " 'ZTF17aaafubf',\n",
       " 'ZTF17aaafuii',\n",
       " 'ZTF17aaafvft',\n",
       " 'ZTF17aaafvhu',\n",
       " 'ZTF17aaafvhz',\n",
       " 'ZTF17aaafvrg',\n",
       " 'ZTF17aaafvrz',\n",
       " 'ZTF17aaafvsw',\n",
       " 'ZTF17aaafvwm',\n",
       " 'ZTF17aaafvwp',\n",
       " 'ZTF17aaafwep',\n",
       " 'ZTF17aaagark',\n",
       " 'ZTF17aaagbgc',\n",
       " 'ZTF17aaagboj',\n",
       " 'ZTF17aaagbzv',\n",
       " 'ZTF17aaaggbu',\n",
       " 'ZTF17aaaggwo',\n",
       " 'ZTF17aaaglmx',\n",
       " 'ZTF17aaaglsh',\n",
       " 'ZTF17aaaglsm',\n",
       " 'ZTF17aaagmnf',\n",
       " 'ZTF17aaahalp',\n",
       " 'ZTF17aaahfef',\n",
       " 'ZTF17aaahfkz',\n",
       " 'ZTF17aaahfrf',\n",
       " 'ZTF17aaahgav',\n",
       " 'ZTF17aaahglc',\n",
       " 'ZTF17aaahgnd',\n",
       " 'ZTF17aaahgro',\n",
       " 'ZTF17aaahitl',\n",
       " 'ZTF17aaahjtt',\n",
       " 'ZTF17aaahkzp',\n",
       " 'ZTF17aaahkzs',\n",
       " 'ZTF17aaahlfg',\n",
       " 'ZTF17aaahlfk',\n",
       " 'ZTF17aaahmid',\n",
       " 'ZTF17aaahmje',\n",
       " 'ZTF17aaahmmi',\n",
       " 'ZTF17aaahmmk',\n",
       " 'ZTF17aaahmvb',\n",
       " 'ZTF17aaahrni',\n",
       " 'ZTF17aaahrqa',\n",
       " 'ZTF17aaahryh',\n",
       " 'ZTF17aaahsfa',\n",
       " 'ZTF17aaahyvc',\n",
       " 'ZTF17aaahzlr',\n",
       " 'ZTF17aaahzqu',\n",
       " 'ZTF17aaahzrf',\n",
       " 'ZTF17aaahzvs',\n",
       " 'ZTF17aaaiack',\n",
       " 'ZTF17aaaiapr',\n",
       " 'ZTF17aaaiaqx',\n",
       " 'ZTF17aaaiawc',\n",
       " 'ZTF17aaaiijj',\n",
       " 'ZTF17aaaikkq',\n",
       " 'ZTF17aaaiklx',\n",
       " 'ZTF17aaaikmr',\n",
       " 'ZTF17aaaikms',\n",
       " 'ZTF17aaaiknv',\n",
       " 'ZTF17aaaikpm',\n",
       " 'ZTF17aaaikqf',\n",
       " 'ZTF17aaaikuu',\n",
       " 'ZTF17aaaikxw',\n",
       " 'ZTF17aaailch',\n",
       " 'ZTF17aaainfh',\n",
       " 'ZTF17aaairbu',\n",
       " 'ZTF17aaairhl',\n",
       " 'ZTF17aaairjb',\n",
       " 'ZTF17aaairlf',\n",
       " 'ZTF17aaairrz',\n",
       " 'ZTF17aaairup',\n",
       " 'ZTF17aaaiujz',\n",
       " 'ZTF17aaajcks',\n",
       " 'ZTF17aaajdfe',\n",
       " 'ZTF17aaajfih',\n",
       " 'ZTF17aaajfil',\n",
       " 'ZTF17aaajigm',\n",
       " 'ZTF17aaajjhr',\n",
       " 'ZTF17aaajlkr',\n",
       " 'ZTF17aaajmhb',\n",
       " 'ZTF17aaajnsn',\n",
       " 'ZTF17aaajrqe',\n",
       " 'ZTF17aaajslg',\n",
       " 'ZTF17aaajsms',\n",
       " 'ZTF17aaajsnp',\n",
       " 'ZTF17aaajsph',\n",
       " 'ZTF17aaajspq',\n",
       " 'ZTF17aaajtkd',\n",
       " 'ZTF17aaajtkt',\n",
       " 'ZTF17aaajtpw',\n",
       " 'ZTF17aaajtqo',\n",
       " 'ZTF17aaakbfr',\n",
       " 'ZTF17aaakcqe',\n",
       " 'ZTF17aaakfme',\n",
       " 'ZTF17aaakfmf',\n",
       " 'ZTF17aaakhes',\n",
       " 'ZTF17aaakhja',\n",
       " 'ZTF17aaakiey',\n",
       " 'ZTF17aaaklqo',\n",
       " 'ZTF17aaakmlc',\n",
       " 'ZTF17aaakmvh',\n",
       " 'ZTF17aaakntu',\n",
       " 'ZTF17aaakpom',\n",
       " 'ZTF17aaakpsh',\n",
       " 'ZTF17aaakptb',\n",
       " 'ZTF17aaakptd',\n",
       " 'ZTF17aaalifq',\n",
       " 'ZTF17aaanjkj',\n",
       " 'ZTF17aaanjrz',\n",
       " 'ZTF17aaanygb',\n",
       " 'ZTF17aaanyjb',\n",
       " 'ZTF17aaanyol',\n",
       " 'ZTF17aaanysq',\n",
       " 'ZTF17aaaoars',\n",
       " 'ZTF17aaaodcz',\n",
       " 'ZTF17aaaofli',\n",
       " 'ZTF17aaaoksc',\n",
       " 'ZTF17aaaosws',\n",
       " 'ZTF17aaaosxn',\n",
       " 'ZTF17aaapiuh',\n",
       " 'ZTF17aaapjgh',\n",
       " 'ZTF17aaapmeu',\n",
       " 'ZTF17aaapoue',\n",
       " 'ZTF17aaappar',\n",
       " 'ZTF17aaaropn',\n",
       " 'ZTF17aaarsja',\n",
       " 'ZTF17aaarsoh',\n",
       " 'ZTF17aaarvkx',\n",
       " 'ZTF17aaarvtx',\n",
       " 'ZTF17aaarwum',\n",
       " 'ZTF17aaarwup',\n",
       " 'ZTF17aaarwwd',\n",
       " 'ZTF17aaarwxn',\n",
       " 'ZTF17aaarxah',\n",
       " 'ZTF17aaarxek',\n",
       " 'ZTF17aaarxfg',\n",
       " 'ZTF17aaarxhx',\n",
       " 'ZTF17aaarxjv',\n",
       " 'ZTF17aaarxkf',\n",
       " 'ZTF17aaaryao',\n",
       " 'ZTF17aaaryiv',\n",
       " 'ZTF17aaaryms',\n",
       " 'ZTF17aaasaet',\n",
       " 'ZTF17aaasavr',\n",
       " 'ZTF17aaasbhs',\n",
       " 'ZTF17aaasfyw',\n",
       " 'ZTF17aaasgan',\n",
       " 'ZTF17aaasinr',\n",
       " 'ZTF17aaasiyb',\n",
       " 'ZTF17aaaskut',\n",
       " 'ZTF17aaaskvj',\n",
       " 'ZTF17aaaskvk',\n",
       " 'ZTF17aaaskzj',\n",
       " 'ZTF17aaaslay',\n",
       " 'ZTF17aaaslcd',\n",
       " 'ZTF17aaaslzl',\n",
       " 'ZTF17aaasmeu',\n",
       " 'ZTF17aaasnuw',\n",
       " 'ZTF17aaasnvg',\n",
       " 'ZTF17aaasoaw',\n",
       " 'ZTF17aaasocp',\n",
       " 'ZTF17aaasopw',\n",
       " 'ZTF17aaasqaz',\n",
       " 'ZTF17aaasqpo',\n",
       " 'ZTF17aaasqth',\n",
       " 'ZTF17aaastat',\n",
       " 'ZTF17aaasuam',\n",
       " 'ZTF17aaasulp',\n",
       " 'ZTF17aaasvik',\n",
       " 'ZTF17aaaswgd',\n",
       " 'ZTF17aaasyxm',\n",
       " 'ZTF17aaaszpi',\n",
       " 'ZTF17aaategd',\n",
       " 'ZTF17aaatkcm',\n",
       " 'ZTF17aaatmza',\n",
       " 'ZTF17aaatmzx',\n",
       " 'ZTF17aaatonb',\n",
       " 'ZTF17aaatuhr',\n",
       " 'ZTF17aaatuhv',\n",
       " 'ZTF17aaatuja',\n",
       " 'ZTF17aaatuke',\n",
       " 'ZTF17aaatuki',\n",
       " 'ZTF17aaatukm',\n",
       " 'ZTF17aaatuld',\n",
       " 'ZTF17aaatunc',\n",
       " 'ZTF17aaatunl',\n",
       " 'ZTF17aaatupg',\n",
       " 'ZTF17aaatupi',\n",
       " 'ZTF17aaatups',\n",
       " 'ZTF17aaatupu',\n",
       " 'ZTF17aaatuqk',\n",
       " 'ZTF17aaaturc',\n",
       " 'ZTF17aaatuuc',\n",
       " 'ZTF17aaatuuf',\n",
       " 'ZTF17aaatuun',\n",
       " 'ZTF17aaatuup',\n",
       " 'ZTF17aaatuuv',\n",
       " 'ZTF17aaatuwo',\n",
       " 'ZTF17aaatuyr',\n",
       " 'ZTF17aaatuzg',\n",
       " 'ZTF17aaatvcr',\n",
       " 'ZTF17aaatvda',\n",
       " 'ZTF17aaatvdc',\n",
       " 'ZTF17aaatvfj',\n",
       " 'ZTF17aaatvjf',\n",
       " 'ZTF17aaatvjp',\n",
       " 'ZTF17aaatvjt',\n",
       " 'ZTF17aaatvkt',\n",
       " 'ZTF17aaatvqg',\n",
       " 'ZTF17aaatwbc',\n",
       " 'ZTF17aaatwil',\n",
       " 'ZTF17aaatwls',\n",
       " 'ZTF17aaatwlt',\n",
       " 'ZTF17aaatwlu',\n",
       " 'ZTF17aaatwlw',\n",
       " 'ZTF17aaatwmb',\n",
       " 'ZTF17aaatwmg',\n",
       " 'ZTF17aaatwmi',\n",
       " 'ZTF17aaatwmm',\n",
       " 'ZTF17aaatwmn',\n",
       " 'ZTF17aaatwqi',\n",
       " 'ZTF17aaatwra',\n",
       " 'ZTF17aaatwya',\n",
       " 'ZTF17aaatxgk',\n",
       " 'ZTF17aaatxik',\n",
       " 'ZTF17aaatxje',\n",
       " 'ZTF17aaatxjg',\n",
       " 'ZTF17aaatxqh',\n",
       " 'ZTF17aaatxql',\n",
       " 'ZTF17aaatxsy',\n",
       " 'ZTF17aaatxwn',\n",
       " 'ZTF17aaatypl',\n",
       " 'ZTF17aaatyyh',\n",
       " 'ZTF17aaatzdj',\n",
       " 'ZTF17aaaurji',\n",
       " 'ZTF17aaavjhn',\n",
       " 'ZTF17aaavqeh',\n",
       " 'ZTF17aaawdfs',\n",
       " 'ZTF17aaaweca',\n",
       " 'ZTF17aaawecm',\n",
       " 'ZTF17aaawell',\n",
       " 'ZTF17aaaweln',\n",
       " 'ZTF17aaawelr',\n",
       " 'ZTF17aaawelz',\n",
       " 'ZTF17aaawemh',\n",
       " 'ZTF17aaawemn',\n",
       " 'ZTF17aaawemz',\n",
       " 'ZTF17aaaweop',\n",
       " 'ZTF17aaawepo',\n",
       " 'ZTF17aaaweqt',\n",
       " 'ZTF17aaaweub',\n",
       " 'ZTF17aaaweyb',\n",
       " 'ZTF17aaawfah',\n",
       " 'ZTF17aaawfja',\n",
       " 'ZTF17aaawfrs',\n",
       " 'ZTF17aaawixm',\n",
       " 'ZTF17aaawjhk',\n",
       " 'ZTF17aaawjig',\n",
       " 'ZTF17aaawlbw',\n",
       " 'ZTF17aaawlfx',\n",
       " 'ZTF17aaawlxc',\n",
       " 'ZTF17aaawmfk',\n",
       " 'ZTF17aaawtoo',\n",
       " 'ZTF17aaawtsb',\n",
       " 'ZTF17aaaxbgi',\n",
       " 'ZTF17aaaxbmn',\n",
       " 'ZTF17aaaxbnb',\n",
       " 'ZTF17aaaxboe',\n",
       " 'ZTF17aaaxbpe',\n",
       " 'ZTF17aaaxbyw',\n",
       " 'ZTF17aaaxcau',\n",
       " 'ZTF17aaaxcgu',\n",
       " 'ZTF17aaaxcmp',\n",
       " 'ZTF17aaaxcru',\n",
       " 'ZTF17aaaxcsf',\n",
       " 'ZTF17aaaxcuq',\n",
       " 'ZTF17aaaxdch',\n",
       " 'ZTF17aaaxdcl',\n",
       " 'ZTF17aaaxddg',\n",
       " 'ZTF17aaaxdii',\n",
       " 'ZTF17aaaxdrt',\n",
       " 'ZTF17aaaxehr',\n",
       " 'ZTF17aaaxepf',\n",
       " 'ZTF17aaaxepp',\n",
       " 'ZTF17aaaxfec',\n",
       " 'ZTF17aaaxfsk',\n",
       " 'ZTF17aaaxfss',\n",
       " 'ZTF17aaaxfzw',\n",
       " 'ZTF17aaaxfzx',\n",
       " 'ZTF17aaaxgac',\n",
       " 'ZTF17aaaxgdf',\n",
       " 'ZTF17aaaxget',\n",
       " 'ZTF17aaaxgez',\n",
       " 'ZTF17aaaxgfi',\n",
       " 'ZTF17aaaxgng',\n",
       " 'ZTF17aaaxgny',\n",
       " 'ZTF17aaaxivu',\n",
       " 'ZTF17aaaxixq',\n",
       " 'ZTF17aaaxiye',\n",
       " 'ZTF17aaaxjpa',\n",
       " 'ZTF17aaaxjps',\n",
       " 'ZTF17aaaxjqh',\n",
       " 'ZTF17aaaxkjj',\n",
       " 'ZTF17aaaxklm',\n",
       " 'ZTF17aaaxknq',\n",
       " 'ZTF17aaaxpie',\n",
       " 'ZTF17aaaxvdv',\n",
       " 'ZTF17aaaxwpm',\n",
       " 'ZTF17aaaxxbn',\n",
       " 'ZTF17aaaxzbb',\n",
       " 'ZTF17aaaxzcz',\n",
       " 'ZTF17aaaycgj',\n",
       " 'ZTF17aaayciv',\n",
       " 'ZTF17aaayckz',\n",
       " 'ZTF17aaaycmi',\n",
       " 'ZTF17aaaycou',\n",
       " 'ZTF17aaaycui',\n",
       " 'ZTF17aaayhze',\n",
       " 'ZTF17aaayial',\n",
       " 'ZTF17aaayiby',\n",
       " 'ZTF17aaayjfs',\n",
       " 'ZTF17aaayjgh',\n",
       " 'ZTF17aaayjgl',\n",
       " 'ZTF17aaayjgr',\n",
       " 'ZTF17aaayjha',\n",
       " 'ZTF17aaayjif',\n",
       " 'ZTF17aaayjla',\n",
       " 'ZTF17aaayjlt',\n",
       " 'ZTF17aaaylac',\n",
       " 'ZTF17aaaylgr',\n",
       " 'ZTF17aaaylit',\n",
       " 'ZTF17aaaylji',\n",
       " 'ZTF17aaaymwb',\n",
       " 'ZTF17aaaynlr',\n",
       " 'ZTF17aaaypmy',\n",
       " 'ZTF17aaaypqn',\n",
       " 'ZTF17aaayqxe',\n",
       " 'ZTF17aaayrrw',\n",
       " 'ZTF17aaaytpc',\n",
       " 'ZTF17aaayxws',\n",
       " 'ZTF17aaazcrb',\n",
       " 'ZTF17aaazdba',\n",
       " 'ZTF17aaazjdz',\n",
       " 'ZTF17aaazjlr',\n",
       " 'ZTF17aaazjul',\n",
       " 'ZTF17aaazlke',\n",
       " 'ZTF17aaazmqi',\n",
       " 'ZTF17aaazmrh',\n",
       " 'ZTF17aaazmwv',\n",
       " 'ZTF17aaazmzr',\n",
       " 'ZTF17aaazmzt',\n",
       " 'ZTF17aaazmzw',\n",
       " 'ZTF17aaazneb',\n",
       " 'ZTF17aaazove',\n",
       " 'ZTF17aaazovf',\n",
       " 'ZTF17aaazovk',\n",
       " 'ZTF17aaazowp',\n",
       " 'ZTF17aaazoww',\n",
       " 'ZTF17aaazoxh',\n",
       " 'ZTF17aaazoyj',\n",
       " 'ZTF17aaazpaf',\n",
       " 'ZTF17aaazpcc',\n",
       " 'ZTF17aaazpep',\n",
       " 'ZTF17aaazpfe',\n",
       " 'ZTF17aaazqia',\n",
       " 'ZTF17aaazqpw',\n",
       " 'ZTF17aaazqqd',\n",
       " 'ZTF17aaazqqf',\n",
       " 'ZTF17aaazrnw',\n",
       " 'ZTF17aaazrqy',\n",
       " 'ZTF17aaazrrl',\n",
       " 'ZTF17aaazsvx',\n",
       " 'ZTF17aaazswp',\n",
       " 'ZTF17aaazszw',\n",
       " 'ZTF17aaaztae',\n",
       " 'ZTF17aaaztai',\n",
       " 'ZTF17aaaztal',\n",
       " 'ZTF17aaaztas',\n",
       " 'ZTF17aaaztba',\n",
       " 'ZTF17aaaztbp',\n",
       " 'ZTF17aaaztbr',\n",
       " 'ZTF17aaaztik',\n",
       " 'ZTF17aaaztiv',\n",
       " 'ZTF17aaaztoi',\n",
       " 'ZTF17aaazurl',\n",
       " 'ZTF17aaazuza',\n",
       " 'ZTF17aaazwbw',\n",
       " 'ZTF17aaazwdc',\n",
       " 'ZTF17aaazxth',\n",
       " 'ZTF17aaazxtm',\n",
       " 'ZTF17aaazxtr',\n",
       " 'ZTF17aaazxtv',\n",
       " 'ZTF17aaazypn',\n",
       " 'ZTF17aaazzhn',\n",
       " 'ZTF17aabaafa',\n",
       " 'ZTF17aababwf',\n",
       " 'ZTF17aababxm',\n",
       " 'ZTF17aabacly',\n",
       " 'ZTF17aabacpl',\n",
       " 'ZTF17aabacsl',\n",
       " 'ZTF17aabacvh',\n",
       " 'ZTF17aabadzk',\n",
       " 'ZTF17aabafur',\n",
       " 'ZTF17aabafza',\n",
       " 'ZTF17aabagax',\n",
       " 'ZTF17aabagbx',\n",
       " 'ZTF17aabaghc',\n",
       " 'ZTF17aabaghm',\n",
       " 'ZTF17aabagkf',\n",
       " 'ZTF17aabaidy',\n",
       " 'ZTF17aabaiel',\n",
       " 'ZTF17aabaifg',\n",
       " 'ZTF17aabaifl',\n",
       " 'ZTF17aabaihf',\n",
       " 'ZTF17aabakci',\n",
       " 'ZTF17aabakhw',\n",
       " 'ZTF17aabakly',\n",
       " 'ZTF17aabakre',\n",
       " 'ZTF17aabakya',\n",
       " 'ZTF17aabamjm',\n",
       " 'ZTF17aabanen',\n",
       " 'ZTF17aabanuw',\n",
       " 'ZTF17aabanwa',\n",
       " 'ZTF17aabanyg',\n",
       " 'ZTF17aabanyz',\n",
       " 'ZTF17aabanzg',\n",
       " 'ZTF17aabapjy',\n",
       " 'ZTF17aabaqrt',\n",
       " 'ZTF17aabaqsq',\n",
       " 'ZTF17aabaruy',\n",
       " 'ZTF17aabasjv',\n",
       " 'ZTF17aabaszq',\n",
       " 'ZTF17aabaszv',\n",
       " 'ZTF17aabatmu',\n",
       " 'ZTF17aabatnf',\n",
       " 'ZTF17aabatoh',\n",
       " 'ZTF17aabaujm',\n",
       " 'ZTF17aabauqo',\n",
       " 'ZTF17aabautb',\n",
       " 'ZTF17aabauyz',\n",
       " 'ZTF17aabavja',\n",
       " 'ZTF17aabavub',\n",
       " 'ZTF17aabavvz',\n",
       " 'ZTF17aabaxmb',\n",
       " 'ZTF17aabaxqi',\n",
       " 'ZTF17aabaxvh',\n",
       " 'ZTF17aabaxzm',\n",
       " 'ZTF17aabayap',\n",
       " 'ZTF17aabaycd',\n",
       " 'ZTF17aabaynv',\n",
       " 'ZTF17aabayoe',\n",
       " 'ZTF17aabazql',\n",
       " 'ZTF17aabazxz',\n",
       " 'ZTF17aabbbhd',\n",
       " 'ZTF17aabbbnd',\n",
       " 'ZTF17aabbdab',\n",
       " 'ZTF17aabbdae',\n",
       " 'ZTF17aabbeiw',\n",
       " 'ZTF17aabbekc',\n",
       " 'ZTF17aabbexb',\n",
       " 'ZTF17aabbfjd',\n",
       " 'ZTF17aabbfkw',\n",
       " 'ZTF17aabbfmz',\n",
       " 'ZTF17aabbfyi',\n",
       " 'ZTF17aabbggy',\n",
       " 'ZTF17aabbgww',\n",
       " 'ZTF17aabbhgm',\n",
       " 'ZTF17aabbicn',\n",
       " 'ZTF17aabbicy',\n",
       " 'ZTF17aabbicz',\n",
       " 'ZTF17aabbidg',\n",
       " 'ZTF17aabbieg',\n",
       " 'ZTF17aabbjqi',\n",
       " 'ZTF17aabbjqs',\n",
       " 'ZTF17aabbkcq',\n",
       " 'ZTF17aabbkjg',\n",
       " 'ZTF17aabbkow',\n",
       " 'ZTF17aabbkpz',\n",
       " 'ZTF17aabbksz',\n",
       " 'ZTF17aabbkti',\n",
       " 'ZTF17aabbkvx',\n",
       " 'ZTF17aabbkwt',\n",
       " 'ZTF17aabblpo',\n",
       " 'ZTF17aabbmet',\n",
       " 'ZTF17aabbncn',\n",
       " 'ZTF17aabbobj',\n",
       " 'ZTF17aabbppm',\n",
       " 'ZTF17aabbppx',\n",
       " 'ZTF17aabbrjg',\n",
       " 'ZTF17aabbrki',\n",
       " 'ZTF17aabbrsp',\n",
       " 'ZTF17aabbscn',\n",
       " 'ZTF17aabbsjh',\n",
       " 'ZTF17aabburx',\n",
       " 'ZTF17aabbvfc',\n",
       " 'ZTF17aabbvfe',\n",
       " 'ZTF17aabbvgl',\n",
       " 'ZTF17aabbvgr',\n",
       " 'ZTF17aabbvny',\n",
       " 'ZTF17aabbvoz',\n",
       " 'ZTF17aabbvrf',\n",
       " 'ZTF17aabbvzp',\n",
       " 'ZTF17aabbvzx',\n",
       " 'ZTF17aabbwdx',\n",
       " 'ZTF17aabbwzh',\n",
       " 'ZTF17aabbxpi',\n",
       " 'ZTF17aabbxtw',\n",
       " 'ZTF17aabbxxy',\n",
       " 'ZTF17aabbyme',\n",
       " 'ZTF17aabbyml',\n",
       " 'ZTF17aabbymx',\n",
       " 'ZTF17aabbyng',\n",
       " 'ZTF17aabbypf',\n",
       " 'ZTF17aabbzbf',\n",
       " 'ZTF17aabbzmm',\n",
       " 'ZTF17aabbzxw',\n",
       " 'ZTF17aabbzyd',\n",
       " 'ZTF17aabcabf',\n",
       " 'ZTF17aabcabx',\n",
       " 'ZTF17aabcaca',\n",
       " 'ZTF17aabcach',\n",
       " 'ZTF17aabcacq',\n",
       " 'ZTF17aabcadl',\n",
       " 'ZTF17aabcaiz',\n",
       " 'ZTF17aabcakz',\n",
       " 'ZTF17aabcaqr',\n",
       " 'ZTF17aabcbip',\n",
       " 'ZTF17aabcbkm',\n",
       " 'ZTF17aabcbva',\n",
       " 'ZTF17aabcbvn',\n",
       " 'ZTF17aabcbwl',\n",
       " 'ZTF17aabcbxq',\n",
       " 'ZTF17aabcbyu',\n",
       " 'ZTF17aabccdk',\n",
       " 'ZTF17aabccvo',\n",
       " 'ZTF17aabcdut',\n",
       " 'ZTF17aabcduv',\n",
       " 'ZTF17aabcdvi',\n",
       " 'ZTF17aabceah',\n",
       " 'ZTF17aabcekw',\n",
       " 'ZTF17aabceor',\n",
       " 'ZTF17aabcepa',\n",
       " 'ZTF17aabcepe',\n",
       " 'ZTF17aabcepq',\n",
       " 'ZTF17aabceps',\n",
       " 'ZTF17aabcfgr',\n",
       " 'ZTF17aabcfhs',\n",
       " 'ZTF17aabcfoh',\n",
       " 'ZTF17aabcfon',\n",
       " 'ZTF17aabcfpf',\n",
       " 'ZTF17aabcfps',\n",
       " 'ZTF17aabcfso',\n",
       " 'ZTF17aabchan',\n",
       " 'ZTF17aabchar',\n",
       " 'ZTF17aabchbp',\n",
       " 'ZTF17aabchcn',\n",
       " 'ZTF17aabchkv',\n",
       " 'ZTF17aabchmz',\n",
       " 'ZTF17aabchpy',\n",
       " 'ZTF17aabchsu',\n",
       " 'ZTF17aabchuq',\n",
       " 'ZTF17aabchvq',\n",
       " 'ZTF17aabciai',\n",
       " 'ZTF17aabcirl',\n",
       " 'ZTF17aabciyd',\n",
       " 'ZTF17aabcjsn',\n",
       " 'ZTF17aabckay',\n",
       " 'ZTF17aabckmd',\n",
       " 'ZTF17aabckmq',\n",
       " 'ZTF17aabcncr',\n",
       " 'ZTF17aabcnmv',\n",
       " 'ZTF17aabcpti',\n",
       " 'ZTF17aabcqtc',\n",
       " 'ZTF17aabcsbq',\n",
       " 'ZTF17aabcsbv',\n",
       " 'ZTF17aabctrp',\n",
       " 'ZTF17aabcvlp',\n",
       " 'ZTF17aabcvoz',\n",
       " 'ZTF17aabcvtj',\n",
       " 'ZTF17aabcwge',\n",
       " 'ZTF17aabcwod',\n",
       " 'ZTF17aabcwtk',\n",
       " 'ZTF17aabcxfd',\n",
       " 'ZTF17aabcztp',\n",
       " 'ZTF17aabdaev',\n",
       " 'ZTF17aabddht',\n",
       " 'ZTF17aabddma',\n",
       " 'ZTF17aabddmc',\n",
       " 'ZTF17aabddmf',\n",
       " 'ZTF17aabddmq',\n",
       " 'ZTF17aabddnm',\n",
       " 'ZTF17aabdfvr',\n",
       " 'ZTF17aabdgrx',\n",
       " 'ZTF17aabdgun',\n",
       " 'ZTF17aabdizv',\n",
       " 'ZTF17aabdlbm',\n",
       " 'ZTF17aabdost',\n",
       " 'ZTF17aabdoud',\n",
       " 'ZTF17aabdozg',\n",
       " 'ZTF17aabdrrw',\n",
       " 'ZTF17aabdwkg',\n",
       " 'ZTF17aabdwkt',\n",
       " 'ZTF17aabecee',\n",
       " 'ZTF17aabeghc',\n",
       " 'ZTF17aabegwc',\n",
       " 'ZTF17aabeijv',\n",
       " 'ZTF17aabejfn',\n",
       " 'ZTF17aabemks',\n",
       " 'ZTF17aabfalr',\n",
       " 'ZTF17aabfbze',\n",
       " 'ZTF17aabfbzh',\n",
       " 'ZTF17aabfbzn',\n",
       " 'ZTF17aabfday',\n",
       " 'ZTF17aabfdba',\n",
       " 'ZTF17aabfdbb',\n",
       " 'ZTF17aabfeii',\n",
       " 'ZTF17aabfeya',\n",
       " 'ZTF17aabfgmo',\n",
       " 'ZTF17aabfgmy',\n",
       " 'ZTF17aabfgng',\n",
       " 'ZTF17aabfgnk',\n",
       " 'ZTF17aabfgnx',\n",
       " 'ZTF17aabfhto',\n",
       " 'ZTF17aabfisy',\n",
       " 'ZTF17aabfjmg',\n",
       " 'ZTF17aabfjmi',\n",
       " 'ZTF17aabfjmm',\n",
       " 'ZTF17aabfjmx',\n",
       " 'ZTF17aabfjtf',\n",
       " 'ZTF17aabfkvd',\n",
       " 'ZTF17aabflyk',\n",
       " 'ZTF17aabfnbo',\n",
       " 'ZTF17aabfnhh',\n",
       " 'ZTF17aabfowd',\n",
       " 'ZTF17aabfqss',\n",
       " 'ZTF17aabfraa',\n",
       " 'ZTF17aabfrwo',\n",
       " 'ZTF17aabfrww',\n",
       " 'ZTF17aabfwgv',\n",
       " 'ZTF17aabfwuv',\n",
       " 'ZTF17aabgkfd',\n",
       " 'ZTF17aabhioj',\n",
       " 'ZTF17aabhkhb',\n",
       " 'ZTF17aabhkib',\n",
       " 'ZTF17aabhkur',\n",
       " 'ZTF17aabhpve',\n",
       " 'ZTF17aabirwp',\n",
       " 'ZTF17aabisyy',\n",
       " 'ZTF17aabjclw',\n",
       " 'ZTF17aabjpur',\n",
       " 'ZTF17aabjvry',\n",
       " 'ZTF17aabjyxl',\n",
       " 'ZTF17aabkddt',\n",
       " 'ZTF17aabmtez',\n",
       " 'ZTF17aabmxzj',\n",
       " 'ZTF17aabnwhd',\n",
       " 'ZTF17aabotau',\n",
       " 'ZTF17aabotju',\n",
       " 'ZTF17aabotqm',\n",
       " 'ZTF17aabotra',\n",
       " 'ZTF17aabotud',\n",
       " 'ZTF17aabotwe',\n",
       " 'ZTF17aabotzp',\n",
       " 'ZTF17aabowcs',\n",
       " 'ZTF17aabowcv',\n",
       " 'ZTF17aabowdw',\n",
       " 'ZTF17aabowdz',\n",
       " 'ZTF17aabowed',\n",
       " 'ZTF17aabowee',\n",
       " 'ZTF17aabowef',\n",
       " 'ZTF17aabowel',\n",
       " 'ZTF17aabowgj',\n",
       " 'ZTF17aabowqh',\n",
       " 'ZTF17aabowwt',\n",
       " 'ZTF17aabozjg',\n",
       " 'ZTF17aabozqw',\n",
       " 'ZTF17aabpabw',\n",
       " 'ZTF17aabpati',\n",
       " 'ZTF17aabpduz',\n",
       " 'ZTF17aabprpx',\n",
       " 'ZTF17aabptle',\n",
       " 'ZTF17aabpwta',\n",
       " 'ZTF17aabpxbc',\n",
       " 'ZTF17aabpxgy',\n",
       " 'ZTF17aabpxso',\n",
       " 'ZTF17aabqajc',\n",
       " 'ZTF17aabqpwo',\n",
       " 'ZTF17aabqtgj',\n",
       " 'ZTF17aabrahk',\n",
       " 'ZTF17aabrhrj',\n",
       " 'ZTF17aabrisn',\n",
       " 'ZTF17aabrzjo',\n",
       " 'ZTF17aabsagi',\n",
       " 'ZTF17aabsaks',\n",
       " 'ZTF17aabsamc',\n",
       " 'ZTF17aabsbnw',\n",
       " 'ZTF17aabsdft',\n",
       " 'ZTF17aabshvb',\n",
       " 'ZTF17aabsirf',\n",
       " 'ZTF17aabslfb',\n",
       " 'ZTF17aabslvx',\n",
       " 'ZTF17aabsmfl',\n",
       " 'ZTF17aabsmho',\n",
       " 'ZTF17aabstmf',\n",
       " 'ZTF17aabstpn',\n",
       " 'ZTF17aabsvus',\n",
       " 'ZTF17aabszhz',\n",
       " 'ZTF17aabszsk',\n",
       " 'ZTF17aabtjot',\n",
       " 'ZTF17aabtkpv',\n",
       " 'ZTF17aabttma',\n",
       " 'ZTF17aabukef',\n",
       " 'ZTF17aabukmy',\n",
       " 'ZTF17aabukoo',\n",
       " 'ZTF17aabuktn',\n",
       " 'ZTF17aabulak',\n",
       " 'ZTF17aabulal',\n",
       " 'ZTF17aabulam',\n",
       " 'ZTF17aabulat',\n",
       " 'ZTF17aabulcu',\n",
       " 'ZTF17aabuleq',\n",
       " 'ZTF17aabullk',\n",
       " 'ZTF17aabulml',\n",
       " 'ZTF17aabulmy',\n",
       " 'ZTF17aabulnh',\n",
       " 'ZTF17aabulof',\n",
       " 'ZTF17aabulpe',\n",
       " 'ZTF17aabulqp',\n",
       " 'ZTF17aabulqx',\n",
       " 'ZTF17aabulrt',\n",
       " 'ZTF17aabulrv',\n",
       " 'ZTF17aabultz',\n",
       " 'ZTF17aabulvi',\n",
       " 'ZTF17aabumcd',\n",
       " 'ZTF17aabumgz',\n",
       " 'ZTF17aabumhg',\n",
       " 'ZTF17aabumil',\n",
       " 'ZTF17aabumkf',\n",
       " 'ZTF17aabumnq',\n",
       " 'ZTF17aabumsb',\n",
       " 'ZTF17aabumtf',\n",
       " 'ZTF17aabunez',\n",
       " 'ZTF17aabunuu',\n",
       " 'ZTF17aabunuv',\n",
       " 'ZTF17aabuoea',\n",
       " 'ZTF17aabuoge',\n",
       " 'ZTF17aabuomw',\n",
       " 'ZTF17aabuovl',\n",
       " 'ZTF17aabuovr',\n",
       " 'ZTF17aabuozt',\n",
       " 'ZTF17aabupvu',\n",
       " 'ZTF17aabupyi',\n",
       " 'ZTF17aabupyj',\n",
       " 'ZTF17aabuqiz',\n",
       " 'ZTF17aabuqnr',\n",
       " 'ZTF17aabuqpk',\n",
       " 'ZTF17aabuqqy',\n",
       " 'ZTF17aabuqzg',\n",
       " 'ZTF17aaburpx',\n",
       " 'ZTF17aabursp',\n",
       " 'ZTF17aaburwy',\n",
       " 'ZTF17aabuseu',\n",
       " 'ZTF17aabusfj',\n",
       " 'ZTF17aabusld',\n",
       " 'ZTF17aabusvl',\n",
       " 'ZTF17aabusxy',\n",
       " 'ZTF17aabutcf',\n",
       " 'ZTF17aabutfw',\n",
       " 'ZTF17aabutgk',\n",
       " 'ZTF17aabuthh',\n",
       " 'ZTF17aabutig',\n",
       " 'ZTF17aabutlu',\n",
       " 'ZTF17aabutnh',\n",
       " 'ZTF17aabutox',\n",
       " 'ZTF17aabutoz',\n",
       " 'ZTF17aabutpn',\n",
       " 'ZTF17aabutxx',\n",
       " 'ZTF17aabuuat',\n",
       " 'ZTF17aabuuju',\n",
       " 'ZTF17aabuuog',\n",
       " 'ZTF17aabuutn',\n",
       " 'ZTF17aabuvab',\n",
       " 'ZTF17aabuvjp',\n",
       " 'ZTF17aabuvnr',\n",
       " 'ZTF17aabuvrl',\n",
       " 'ZTF17aabuvus',\n",
       " 'ZTF17aabuvwc',\n",
       " 'ZTF17aabuwsd',\n",
       " 'ZTF17aabuwys',\n",
       " 'ZTF17aabuxsz',\n",
       " 'ZTF17aabuxue',\n",
       " 'ZTF17aabuytd',\n",
       " 'ZTF17aabuzrt',\n",
       " 'ZTF17aabuztr',\n",
       " 'ZTF17aabuzul',\n",
       " 'ZTF17aabvaar',\n",
       " 'ZTF17aabvadg',\n",
       " 'ZTF17aabvajn',\n",
       " 'ZTF17aabvakf',\n",
       " 'ZTF17aabvauf',\n",
       " 'ZTF17aabvbpf',\n",
       " 'ZTF17aabvbro',\n",
       " 'ZTF17aabvbxh',\n",
       " 'ZTF17aabvckn',\n",
       " 'ZTF17aabvcqg',\n",
       " 'ZTF17aabvcyk',\n",
       " 'ZTF17aabvdbh',\n",
       " 'ZTF17aabvdgd',\n",
       " 'ZTF17aabvdio',\n",
       " 'ZTF17aabvdvz',\n",
       " 'ZTF17aabveic',\n",
       " 'ZTF17aabvflb',\n",
       " 'ZTF17aabvfuq',\n",
       " 'ZTF17aabvgbs',\n",
       " 'ZTF17aabvgff',\n",
       " 'ZTF17aabvgqx',\n",
       " 'ZTF17aabvgrn',\n",
       " 'ZTF17aabvhek',\n",
       " 'ZTF17aabvhms',\n",
       " 'ZTF17aabvhsb',\n",
       " 'ZTF17aabvhvh',\n",
       " 'ZTF17aabvipu',\n",
       " 'ZTF17aabvipw',\n",
       " 'ZTF17aabvisz',\n",
       " 'ZTF17aabvitf',\n",
       " 'ZTF17aabvmxv',\n",
       " 'ZTF17aabvoaw',\n",
       " 'ZTF17aabvoei',\n",
       " 'ZTF17aabvpjb',\n",
       " 'ZTF17aabvppe',\n",
       " 'ZTF17aabvqio',\n",
       " 'ZTF17aabvqqs',\n",
       " 'ZTF17aabvqwk',\n",
       " 'ZTF17aabvsex',\n",
       " 'ZTF17aabvsgc',\n",
       " 'ZTF17aabvshs',\n",
       " 'ZTF17aabvsih',\n",
       " 'ZTF17aabvskw',\n",
       " 'ZTF17aabvslj',\n",
       " 'ZTF17aabvsng',\n",
       " 'ZTF17aabvsqj',\n",
       " 'ZTF17aabvtnk',\n",
       " 'ZTF17aabvwbu',\n",
       " 'ZTF17aabvwec',\n",
       " 'ZTF17aabvwfc',\n",
       " 'ZTF17aabvwfx',\n",
       " 'ZTF17aabvwgd',\n",
       " 'ZTF17aabvwgs',\n",
       " 'ZTF17aabvwlq',\n",
       " 'ZTF17aabvwsz',\n",
       " 'ZTF17aabvzfd',\n",
       " 'ZTF17aabvzpm',\n",
       " 'ZTF17aabvzpw',\n",
       " 'ZTF17aabvzum',\n",
       " 'ZTF17aabwaaz',\n",
       " 'ZTF17aabwabt',\n",
       " 'ZTF17aabwagt',\n",
       " 'ZTF17aabwapz',\n",
       " 'ZTF17aabwaqh',\n",
       " 'ZTF17aabwcke',\n",
       " 'ZTF17aabwcqr',\n",
       " 'ZTF17aabwcry',\n",
       " 'ZTF17aabwcun',\n",
       " 'ZTF17aabwdgc',\n",
       " 'ZTF17aabwdpe',\n",
       " 'ZTF17aabwdvl',\n",
       " 'ZTF17aabwfng',\n",
       " 'ZTF17aabwfqc',\n",
       " 'ZTF17aabwfqn',\n",
       " 'ZTF17aabwfwe',\n",
       " 'ZTF17aabwgas',\n",
       " 'ZTF17aabwhvf',\n",
       " 'ZTF17aabwhys',\n",
       " 'ZTF17aabwial',\n",
       " 'ZTF17aabwikq',\n",
       " 'ZTF17aabwjbu',\n",
       " 'ZTF17aabwjrt',\n",
       " 'ZTF17aabwjvg',\n",
       " 'ZTF17aabwjvx',\n",
       " ...]"
      ]
     },
     "execution_count": 13,
     "metadata": {},
     "output_type": "execute_result"
    }
   ],
   "source": [
    "list(np.unique(dataset_bank.index))"
   ]
  },
  {
   "cell_type": "code",
   "execution_count": 14,
   "id": "5eb5ae8d",
   "metadata": {},
   "outputs": [
    {
     "name": "stdout",
     "output_type": "stream",
     "text": [
      "CPU times: user 1min 17s, sys: 735 ms, total: 1min 18s\n",
      "Wall time: 1min 23s\n"
     ]
    },
    {
     "data": {
      "text/html": [
       "<div>\n",
       "<style scoped>\n",
       "    .dataframe tbody tr th:only-of-type {\n",
       "        vertical-align: middle;\n",
       "    }\n",
       "\n",
       "    .dataframe tbody tr th {\n",
       "        vertical-align: top;\n",
       "    }\n",
       "\n",
       "    .dataframe thead th {\n",
       "        text-align: right;\n",
       "    }\n",
       "</style>\n",
       "<table border=\"1\" class=\"dataframe\">\n",
       "  <thead>\n",
       "    <tr style=\"text-align: right;\">\n",
       "      <th></th>\n",
       "      <th>ann=0</th>\n",
       "      <th>ann=1</th>\n",
       "      <th>ann=2</th>\n",
       "      <th>ann=3</th>\n",
       "      <th>ann=4</th>\n",
       "      <th>ann=5</th>\n",
       "      <th>ann=6</th>\n",
       "      <th>ann=7</th>\n",
       "      <th>ann=8</th>\n",
       "      <th>ann=9</th>\n",
       "      <th>...</th>\n",
       "      <th>dist=2</th>\n",
       "      <th>dist=3</th>\n",
       "      <th>dist=4</th>\n",
       "      <th>dist=5</th>\n",
       "      <th>dist=6</th>\n",
       "      <th>dist=7</th>\n",
       "      <th>dist=8</th>\n",
       "      <th>dist=9</th>\n",
       "      <th>Mean_9ANNs</th>\n",
       "      <th>WeightedMean_9ANNs</th>\n",
       "    </tr>\n",
       "    <tr>\n",
       "      <th>key_0</th>\n",
       "      <th></th>\n",
       "      <th></th>\n",
       "      <th></th>\n",
       "      <th></th>\n",
       "      <th></th>\n",
       "      <th></th>\n",
       "      <th></th>\n",
       "      <th></th>\n",
       "      <th></th>\n",
       "      <th></th>\n",
       "      <th></th>\n",
       "      <th></th>\n",
       "      <th></th>\n",
       "      <th></th>\n",
       "      <th></th>\n",
       "      <th></th>\n",
       "      <th></th>\n",
       "      <th></th>\n",
       "      <th></th>\n",
       "      <th></th>\n",
       "      <th></th>\n",
       "    </tr>\n",
       "  </thead>\n",
       "  <tbody>\n",
       "    <tr>\n",
       "      <th>ZTF17aaaacoy</th>\n",
       "      <td>86647</td>\n",
       "      <td>31494</td>\n",
       "      <td>44394</td>\n",
       "      <td>51539</td>\n",
       "      <td>18892</td>\n",
       "      <td>45597</td>\n",
       "      <td>36962</td>\n",
       "      <td>46621</td>\n",
       "      <td>56870</td>\n",
       "      <td>76025</td>\n",
       "      <td>...</td>\n",
       "      <td>0.427658</td>\n",
       "      <td>0.442079</td>\n",
       "      <td>0.498564</td>\n",
       "      <td>0.530291</td>\n",
       "      <td>0.564710</td>\n",
       "      <td>0.581858</td>\n",
       "      <td>0.582568</td>\n",
       "      <td>0.593832</td>\n",
       "      <td>0.514308</td>\n",
       "      <td>0.445992</td>\n",
       "    </tr>\n",
       "    <tr>\n",
       "      <th>ZTF17aaaacsm</th>\n",
       "      <td>6582</td>\n",
       "      <td>66800</td>\n",
       "      <td>37005</td>\n",
       "      <td>39025</td>\n",
       "      <td>70683</td>\n",
       "      <td>1379</td>\n",
       "      <td>16463</td>\n",
       "      <td>19048</td>\n",
       "      <td>89308</td>\n",
       "      <td>69265</td>\n",
       "      <td>...</td>\n",
       "      <td>0.482488</td>\n",
       "      <td>0.493567</td>\n",
       "      <td>0.520505</td>\n",
       "      <td>0.528186</td>\n",
       "      <td>0.530658</td>\n",
       "      <td>0.531452</td>\n",
       "      <td>0.542162</td>\n",
       "      <td>0.544793</td>\n",
       "      <td>0.514541</td>\n",
       "      <td>0.484492</td>\n",
       "    </tr>\n",
       "    <tr>\n",
       "      <th>ZTF17aaaadml</th>\n",
       "      <td>42918</td>\n",
       "      <td>76851</td>\n",
       "      <td>36232</td>\n",
       "      <td>79407</td>\n",
       "      <td>61038</td>\n",
       "      <td>32548</td>\n",
       "      <td>27666</td>\n",
       "      <td>65928</td>\n",
       "      <td>75879</td>\n",
       "      <td>45484</td>\n",
       "      <td>...</td>\n",
       "      <td>0.515271</td>\n",
       "      <td>0.521539</td>\n",
       "      <td>0.521670</td>\n",
       "      <td>0.522459</td>\n",
       "      <td>0.522530</td>\n",
       "      <td>0.550171</td>\n",
       "      <td>0.557452</td>\n",
       "      <td>0.576171</td>\n",
       "      <td>0.532558</td>\n",
       "      <td>0.515724</td>\n",
       "    </tr>\n",
       "    <tr>\n",
       "      <th>ZTF17aaaaemx</th>\n",
       "      <td>74875</td>\n",
       "      <td>60172</td>\n",
       "      <td>67314</td>\n",
       "      <td>27617</td>\n",
       "      <td>82926</td>\n",
       "      <td>89847</td>\n",
       "      <td>40235</td>\n",
       "      <td>74572</td>\n",
       "      <td>6329</td>\n",
       "      <td>25457</td>\n",
       "      <td>...</td>\n",
       "      <td>0.421718</td>\n",
       "      <td>0.443983</td>\n",
       "      <td>0.458726</td>\n",
       "      <td>0.460156</td>\n",
       "      <td>0.460441</td>\n",
       "      <td>0.466945</td>\n",
       "      <td>0.467990</td>\n",
       "      <td>0.471170</td>\n",
       "      <td>0.444849</td>\n",
       "      <td>0.407251</td>\n",
       "    </tr>\n",
       "    <tr>\n",
       "      <th>ZTF17aaaaene</th>\n",
       "      <td>64679</td>\n",
       "      <td>49491</td>\n",
       "      <td>41985</td>\n",
       "      <td>67406</td>\n",
       "      <td>41400</td>\n",
       "      <td>70317</td>\n",
       "      <td>78067</td>\n",
       "      <td>42598</td>\n",
       "      <td>34202</td>\n",
       "      <td>72274</td>\n",
       "      <td>...</td>\n",
       "      <td>0.443197</td>\n",
       "      <td>0.448371</td>\n",
       "      <td>0.449315</td>\n",
       "      <td>0.451262</td>\n",
       "      <td>0.452770</td>\n",
       "      <td>0.456556</td>\n",
       "      <td>0.457136</td>\n",
       "      <td>0.460401</td>\n",
       "      <td>0.449614</td>\n",
       "      <td>0.439900</td>\n",
       "    </tr>\n",
       "    <tr>\n",
       "      <th>...</th>\n",
       "      <td>...</td>\n",
       "      <td>...</td>\n",
       "      <td>...</td>\n",
       "      <td>...</td>\n",
       "      <td>...</td>\n",
       "      <td>...</td>\n",
       "      <td>...</td>\n",
       "      <td>...</td>\n",
       "      <td>...</td>\n",
       "      <td>...</td>\n",
       "      <td>...</td>\n",
       "      <td>...</td>\n",
       "      <td>...</td>\n",
       "      <td>...</td>\n",
       "      <td>...</td>\n",
       "      <td>...</td>\n",
       "      <td>...</td>\n",
       "      <td>...</td>\n",
       "      <td>...</td>\n",
       "      <td>...</td>\n",
       "      <td>...</td>\n",
       "    </tr>\n",
       "    <tr>\n",
       "      <th>ZTF18abcjjoz</th>\n",
       "      <td>54661</td>\n",
       "      <td>62192</td>\n",
       "      <td>26384</td>\n",
       "      <td>76422</td>\n",
       "      <td>37782</td>\n",
       "      <td>57672</td>\n",
       "      <td>14154</td>\n",
       "      <td>47743</td>\n",
       "      <td>42877</td>\n",
       "      <td>69306</td>\n",
       "      <td>...</td>\n",
       "      <td>0.522753</td>\n",
       "      <td>0.566372</td>\n",
       "      <td>0.567957</td>\n",
       "      <td>0.609686</td>\n",
       "      <td>0.620454</td>\n",
       "      <td>0.631299</td>\n",
       "      <td>0.633269</td>\n",
       "      <td>0.634582</td>\n",
       "      <td>0.589543</td>\n",
       "      <td>0.545317</td>\n",
       "    </tr>\n",
       "    <tr>\n",
       "      <th>ZTF18abcjjwe</th>\n",
       "      <td>71534</td>\n",
       "      <td>24562</td>\n",
       "      <td>87701</td>\n",
       "      <td>77897</td>\n",
       "      <td>45741</td>\n",
       "      <td>14166</td>\n",
       "      <td>5093</td>\n",
       "      <td>43902</td>\n",
       "      <td>53628</td>\n",
       "      <td>1294</td>\n",
       "      <td>...</td>\n",
       "      <td>0.644028</td>\n",
       "      <td>0.649600</td>\n",
       "      <td>0.660281</td>\n",
       "      <td>0.707816</td>\n",
       "      <td>0.710502</td>\n",
       "      <td>0.714858</td>\n",
       "      <td>0.727292</td>\n",
       "      <td>0.732826</td>\n",
       "      <td>0.671364</td>\n",
       "      <td>0.598234</td>\n",
       "    </tr>\n",
       "    <tr>\n",
       "      <th>ZTF18abcjlhs</th>\n",
       "      <td>40334</td>\n",
       "      <td>3210</td>\n",
       "      <td>2973</td>\n",
       "      <td>1656</td>\n",
       "      <td>76812</td>\n",
       "      <td>79214</td>\n",
       "      <td>88536</td>\n",
       "      <td>68443</td>\n",
       "      <td>75506</td>\n",
       "      <td>34733</td>\n",
       "      <td>...</td>\n",
       "      <td>0.514692</td>\n",
       "      <td>0.521429</td>\n",
       "      <td>0.528870</td>\n",
       "      <td>0.561850</td>\n",
       "      <td>0.569542</td>\n",
       "      <td>0.570743</td>\n",
       "      <td>0.571802</td>\n",
       "      <td>0.576022</td>\n",
       "      <td>0.545332</td>\n",
       "      <td>0.515778</td>\n",
       "    </tr>\n",
       "    <tr>\n",
       "      <th>ZTF18abcjljg</th>\n",
       "      <td>77539</td>\n",
       "      <td>32857</td>\n",
       "      <td>5041</td>\n",
       "      <td>66487</td>\n",
       "      <td>83034</td>\n",
       "      <td>82835</td>\n",
       "      <td>49014</td>\n",
       "      <td>16213</td>\n",
       "      <td>68944</td>\n",
       "      <td>7427</td>\n",
       "      <td>...</td>\n",
       "      <td>0.588291</td>\n",
       "      <td>0.597692</td>\n",
       "      <td>0.603505</td>\n",
       "      <td>0.614567</td>\n",
       "      <td>0.617802</td>\n",
       "      <td>0.618786</td>\n",
       "      <td>0.636865</td>\n",
       "      <td>0.644300</td>\n",
       "      <td>0.607508</td>\n",
       "      <td>0.579012</td>\n",
       "    </tr>\n",
       "    <tr>\n",
       "      <th>ZTF18abcjlwe</th>\n",
       "      <td>54591</td>\n",
       "      <td>19593</td>\n",
       "      <td>55346</td>\n",
       "      <td>14005</td>\n",
       "      <td>69344</td>\n",
       "      <td>18410</td>\n",
       "      <td>11529</td>\n",
       "      <td>62263</td>\n",
       "      <td>15122</td>\n",
       "      <td>8553</td>\n",
       "      <td>...</td>\n",
       "      <td>0.547407</td>\n",
       "      <td>0.582737</td>\n",
       "      <td>0.599486</td>\n",
       "      <td>0.606822</td>\n",
       "      <td>0.610492</td>\n",
       "      <td>0.613208</td>\n",
       "      <td>0.614026</td>\n",
       "      <td>0.614224</td>\n",
       "      <td>0.576381</td>\n",
       "      <td>0.508570</td>\n",
       "    </tr>\n",
       "  </tbody>\n",
       "</table>\n",
       "<p>10000 rows × 22 columns</p>\n",
       "</div>"
      ],
      "text/plain": [
       "              ann=0  ann=1  ann=2  ann=3  ann=4  ann=5  ann=6  ann=7  ann=8  \\\n",
       "key_0                                                                         \n",
       "ZTF17aaaacoy  86647  31494  44394  51539  18892  45597  36962  46621  56870   \n",
       "ZTF17aaaacsm   6582  66800  37005  39025  70683   1379  16463  19048  89308   \n",
       "ZTF17aaaadml  42918  76851  36232  79407  61038  32548  27666  65928  75879   \n",
       "ZTF17aaaaemx  74875  60172  67314  27617  82926  89847  40235  74572   6329   \n",
       "ZTF17aaaaene  64679  49491  41985  67406  41400  70317  78067  42598  34202   \n",
       "...             ...    ...    ...    ...    ...    ...    ...    ...    ...   \n",
       "ZTF18abcjjoz  54661  62192  26384  76422  37782  57672  14154  47743  42877   \n",
       "ZTF18abcjjwe  71534  24562  87701  77897  45741  14166   5093  43902  53628   \n",
       "ZTF18abcjlhs  40334   3210   2973   1656  76812  79214  88536  68443  75506   \n",
       "ZTF18abcjljg  77539  32857   5041  66487  83034  82835  49014  16213  68944   \n",
       "ZTF18abcjlwe  54591  19593  55346  14005  69344  18410  11529  62263  15122   \n",
       "\n",
       "              ann=9  ...    dist=2    dist=3    dist=4    dist=5    dist=6  \\\n",
       "key_0                ...                                                     \n",
       "ZTF17aaaacoy  76025  ...  0.427658  0.442079  0.498564  0.530291  0.564710   \n",
       "ZTF17aaaacsm  69265  ...  0.482488  0.493567  0.520505  0.528186  0.530658   \n",
       "ZTF17aaaadml  45484  ...  0.515271  0.521539  0.521670  0.522459  0.522530   \n",
       "ZTF17aaaaemx  25457  ...  0.421718  0.443983  0.458726  0.460156  0.460441   \n",
       "ZTF17aaaaene  72274  ...  0.443197  0.448371  0.449315  0.451262  0.452770   \n",
       "...             ...  ...       ...       ...       ...       ...       ...   \n",
       "ZTF18abcjjoz  69306  ...  0.522753  0.566372  0.567957  0.609686  0.620454   \n",
       "ZTF18abcjjwe   1294  ...  0.644028  0.649600  0.660281  0.707816  0.710502   \n",
       "ZTF18abcjlhs  34733  ...  0.514692  0.521429  0.528870  0.561850  0.569542   \n",
       "ZTF18abcjljg   7427  ...  0.588291  0.597692  0.603505  0.614567  0.617802   \n",
       "ZTF18abcjlwe   8553  ...  0.547407  0.582737  0.599486  0.606822  0.610492   \n",
       "\n",
       "                dist=7    dist=8    dist=9  Mean_9ANNs  WeightedMean_9ANNs  \n",
       "key_0                                                                       \n",
       "ZTF17aaaacoy  0.581858  0.582568  0.593832    0.514308            0.445992  \n",
       "ZTF17aaaacsm  0.531452  0.542162  0.544793    0.514541            0.484492  \n",
       "ZTF17aaaadml  0.550171  0.557452  0.576171    0.532558            0.515724  \n",
       "ZTF17aaaaemx  0.466945  0.467990  0.471170    0.444849            0.407251  \n",
       "ZTF17aaaaene  0.456556  0.457136  0.460401    0.449614            0.439900  \n",
       "...                ...       ...       ...         ...                 ...  \n",
       "ZTF18abcjjoz  0.631299  0.633269  0.634582    0.589543            0.545317  \n",
       "ZTF18abcjjwe  0.714858  0.727292  0.732826    0.671364            0.598234  \n",
       "ZTF18abcjlhs  0.570743  0.571802  0.576022    0.545332            0.515778  \n",
       "ZTF18abcjljg  0.618786  0.636865  0.644300    0.607508            0.579012  \n",
       "ZTF18abcjlwe  0.613208  0.614026  0.614224    0.576381            0.508570  \n",
       "\n",
       "[10000 rows x 22 columns]"
      ]
     },
     "execution_count": 14,
     "metadata": {},
     "output_type": "execute_result"
    }
   ],
   "source": [
    "%%time\n",
    "\n",
    "ref_name_l, id_l, dist_l = [], [], []\n",
    "for ref in list(np.unique(dataset_bank.index))[0:10000]:\n",
    "    dataset_ref = dataset_bank[dataset_bank.index == ref] \n",
    "\n",
    "    feat_arr_ref = np.vstack(np.array(dataset_ref, dtype='object'))\n",
    "    scaled_feat_arr_ref = feat_arr_ref # PCA, so already scaled\n",
    "\n",
    "    snid = dataset_ref.index.values[0]\n",
    "    lcdata = {'name': snid, 'vector': scaled_feat_arr_ref[0]}\n",
    "    #lcdata = {'name': ztf_id, 'vector': feat_arr_scaled[-5:-4][0]}\n",
    "\n",
    "    #result_id, result_dist = index.index.get_nns_by_item(, n=10, include_distances=True)\n",
    "    result_id, result_dist = index.index.get_nns_by_vector(lcdata['vector'], n=10, include_distances=True)\n",
    "    \n",
    "    ref_name_l.append(snid), id_l.append(result_id), dist_l.append(result_dist)\n",
    "    \n",
    "temp_df = pd.DataFrame(zip(ref_name_l, id_l, dist_l), columns=['Reference', 'ids', 'dists'])\n",
    "temp_df = temp_df.set_index('Reference')\n",
    "ann_split_df = temp_df.merge(pd.DataFrame(temp_df['ids'].values.tolist()).add_prefix('ann='), on=temp_df.index)\n",
    "ann_split_df = ann_split_df.set_index('key_0')\n",
    "ann_dist_all_df = ann_split_df.merge(pd.DataFrame(ann_split_df['dists'].values.tolist()).add_prefix('dist='), on=ann_split_df.index)\n",
    "ann_dist_all_df = ann_dist_all_df.drop(columns=['ids', 'dists'])\n",
    "ann_dist_all_df = ann_dist_all_df.set_index('key_0')\n",
    "\n",
    "# find average (mean) distance of first 9 ANNs.\n",
    "col_list= [f'dist={col}' for col in range(1, 10)]\n",
    "# sum specific columns\n",
    "ann_dist_all_df[f'Mean_{len(col_list)}ANNs'] = (ann_dist_all_df[col_list].sum(axis=1))/(len(col_list))\n",
    "\n",
    "# weighted distance of first 9 ANNs\n",
    "weight_l = [34, 21, 13, 8, 5, 3, 2, 1, 1] # Fibonacci seq.\n",
    "ann_dist_all_df[f'WeightedMean_{len(col_list)}ANNs'] = np.average(ann_dist_all_df[col_list], weights=weight_l, axis=1)\n",
    "ann_dist_all_df"
   ]
  },
  {
   "cell_type": "code",
   "execution_count": 15,
   "id": "2b2710a3",
   "metadata": {},
   "outputs": [
    {
     "name": "stdout",
     "output_type": "stream",
     "text": [
      "summary stats\n",
      "Scatter mean: 0.5418698271629958\n",
      "Scatter median: 0.5390155156227675\n",
      "Scatter std: 0.09932815654257622\n",
      "Scatter max: 1.409423047846014\n",
      "Scatter min: 0.17502835858613253\n",
      "\n",
      "\n",
      "Most anomalous: ZTF18abcfcoo\n"
     ]
    }
   ],
   "source": [
    "# Pick distance metric. \n",
    "# Weighted mean of first 9 ANNs (Fibonacci), OR Mean of first 9 ANNs, OR distance to first ANN. \n",
    "# TODO: EXPLORE DIFFERENT METRICS!\n",
    "dist_col = f'WeightedMean_{len(col_list)}ANNs'  # f'Mean_{len(col_list)}ANNs' # 'dist=1'\n",
    "\n",
    "print(\"summary stats\")\n",
    "print(\"Scatter mean:\", np.mean(ann_dist_all_df[dist_col]))\n",
    "print(\"Scatter median:\", np.median(ann_dist_all_df[dist_col]))\n",
    "print(\"Scatter std:\", np.std(ann_dist_all_df[dist_col]))\n",
    "print(\"Scatter max:\", np.max(ann_dist_all_df[dist_col]))\n",
    "print(\"Scatter min:\", np.min(ann_dist_all_df[dist_col]))\n",
    "print(\"\\n\")\n",
    "\n",
    "#Returns index of mean distance of 9 ANNs\n",
    "print(\"Most anomalous:\", ann_dist_all_df[[dist_col]].idxmax().values[0])"
   ]
  },
  {
   "cell_type": "markdown",
   "id": "a92813e1",
   "metadata": {},
   "source": [
    "# Largest distance"
   ]
  },
  {
   "cell_type": "code",
   "execution_count": 16,
   "id": "9bd4cb53",
   "metadata": {},
   "outputs": [
    {
     "name": "stdout",
     "output_type": "stream",
     "text": [
      "Max dist 1.409423047846014\n"
     ]
    }
   ],
   "source": [
    "ref_obj = ann_dist_all_df[[dist_col]].idxmax().values[0] #'ZTF18acbwaxk'\n",
    "print(\"Max dist\", ann_dist_all_df.loc[ref_obj][dist_col]) "
   ]
  },
  {
   "cell_type": "code",
   "execution_count": 17,
   "id": "8e3bf384",
   "metadata": {},
   "outputs": [
    {
     "data": {
      "text/html": [
       "<div>\n",
       "<style scoped>\n",
       "    .dataframe tbody tr th:only-of-type {\n",
       "        vertical-align: middle;\n",
       "    }\n",
       "\n",
       "    .dataframe tbody tr th {\n",
       "        vertical-align: top;\n",
       "    }\n",
       "\n",
       "    .dataframe thead th {\n",
       "        text-align: right;\n",
       "    }\n",
       "</style>\n",
       "<table border=\"1\" class=\"dataframe\">\n",
       "  <thead>\n",
       "    <tr style=\"text-align: right;\">\n",
       "      <th></th>\n",
       "      <th>PC0</th>\n",
       "      <th>PC1</th>\n",
       "      <th>PC2</th>\n",
       "      <th>PC3</th>\n",
       "      <th>PC4</th>\n",
       "      <th>PC5</th>\n",
       "      <th>PC6</th>\n",
       "      <th>PC7</th>\n",
       "      <th>PC8</th>\n",
       "      <th>PC9</th>\n",
       "      <th>...</th>\n",
       "      <th>PC15</th>\n",
       "      <th>PC16</th>\n",
       "      <th>PC17</th>\n",
       "      <th>PC18</th>\n",
       "      <th>PC19</th>\n",
       "      <th>PC20</th>\n",
       "      <th>PC21</th>\n",
       "      <th>PC22</th>\n",
       "      <th>PC23</th>\n",
       "      <th>PC24</th>\n",
       "    </tr>\n",
       "    <tr>\n",
       "      <th>ztf_object_id</th>\n",
       "      <th></th>\n",
       "      <th></th>\n",
       "      <th></th>\n",
       "      <th></th>\n",
       "      <th></th>\n",
       "      <th></th>\n",
       "      <th></th>\n",
       "      <th></th>\n",
       "      <th></th>\n",
       "      <th></th>\n",
       "      <th></th>\n",
       "      <th></th>\n",
       "      <th></th>\n",
       "      <th></th>\n",
       "      <th></th>\n",
       "      <th></th>\n",
       "      <th></th>\n",
       "      <th></th>\n",
       "      <th></th>\n",
       "      <th></th>\n",
       "      <th></th>\n",
       "    </tr>\n",
       "  </thead>\n",
       "  <tbody>\n",
       "    <tr>\n",
       "      <th>ZTF18abcfcoo</th>\n",
       "      <td>0.606933</td>\n",
       "      <td>1.018831</td>\n",
       "      <td>1.120599</td>\n",
       "      <td>-0.31076</td>\n",
       "      <td>0.468531</td>\n",
       "      <td>-0.841395</td>\n",
       "      <td>0.042692</td>\n",
       "      <td>-0.357963</td>\n",
       "      <td>0.412558</td>\n",
       "      <td>0.326416</td>\n",
       "      <td>...</td>\n",
       "      <td>-0.465541</td>\n",
       "      <td>0.362916</td>\n",
       "      <td>-0.248098</td>\n",
       "      <td>0.064764</td>\n",
       "      <td>0.534872</td>\n",
       "      <td>0.399266</td>\n",
       "      <td>-0.094798</td>\n",
       "      <td>0.067829</td>\n",
       "      <td>0.092608</td>\n",
       "      <td>0.141877</td>\n",
       "    </tr>\n",
       "  </tbody>\n",
       "</table>\n",
       "<p>1 rows × 25 columns</p>\n",
       "</div>"
      ],
      "text/plain": [
       "                    PC0       PC1       PC2      PC3       PC4       PC5  \\\n",
       "ztf_object_id                                                              \n",
       "ZTF18abcfcoo   0.606933  1.018831  1.120599 -0.31076  0.468531 -0.841395   \n",
       "\n",
       "                    PC6       PC7       PC8       PC9  ...      PC15  \\\n",
       "ztf_object_id                                          ...             \n",
       "ZTF18abcfcoo   0.042692 -0.357963  0.412558  0.326416  ... -0.465541   \n",
       "\n",
       "                   PC16      PC17      PC18      PC19      PC20      PC21  \\\n",
       "ztf_object_id                                                               \n",
       "ZTF18abcfcoo   0.362916 -0.248098  0.064764  0.534872  0.399266 -0.094798   \n",
       "\n",
       "                   PC22      PC23      PC24  \n",
       "ztf_object_id                                \n",
       "ZTF18abcfcoo   0.067829  0.092608  0.141877  \n",
       "\n",
       "[1 rows x 25 columns]"
      ]
     },
     "execution_count": 17,
     "metadata": {},
     "output_type": "execute_result"
    }
   ],
   "source": [
    "dataset_bank[dataset_bank.index == ref_obj]"
   ]
  },
  {
   "cell_type": "code",
   "execution_count": 18,
   "id": "8a694fc4",
   "metadata": {},
   "outputs": [
    {
     "data": {
      "image/png": "[encoded data removed]",
      "text/plain": [
       "<Figure size 432x288 with 1 Axes>"
      ]
     },
     "metadata": {
      "needs_background": "light"
     },
     "output_type": "display_data"
    },
    {
     "data": {
      "image/png": "[encoded data removed]",
      "text/plain": [
       "<Figure size 432x288 with 1 Axes>"
      ]
     },
     "metadata": {
      "needs_background": "light"
     },
     "output_type": "display_data"
    },
    {
     "data": {
      "image/png": "[encoded data removed]",
      "text/plain": [
       "<Figure size 432x288 with 1 Axes>"
      ]
     },
     "metadata": {
      "needs_background": "light"
     },
     "output_type": "display_data"
    },
    {
     "data": {
      "image/png": "[encoded data removed]",
      "text/plain": [
       "<Figure size 432x288 with 1 Axes>"
      ]
     },
     "metadata": {
      "needs_background": "light"
     },
     "output_type": "display_data"
    },
    {
     "data": {
      "image/png": "[encoded data removed]",
      "text/plain": [
       "<Figure size 432x288 with 1 Axes>"
      ]
     },
     "metadata": {
      "needs_background": "light"
     },
     "output_type": "display_data"
    },
    {
     "data": {
      "image/png": "[encoded data removed]",
      "text/plain": [
       "<Figure size 432x288 with 1 Axes>"
      ]
     },
     "metadata": {
      "needs_background": "light"
     },
     "output_type": "display_data"
    },
    {
     "data": {
      "image/png": "[encoded data removed]",
      "text/plain": [
       "<Figure size 432x288 with 1 Axes>"
      ]
     },
     "metadata": {
      "needs_background": "light"
     },
     "output_type": "display_data"
    },
    {
     "data": {
      "image/png": "[encoded data removed]",
      "text/plain": [
       "<Figure size 432x288 with 1 Axes>"
      ]
     },
     "metadata": {
      "needs_background": "light"
     },
     "output_type": "display_data"
    },
    {
     "data": {
      "image/png": "[encoded data removed]",
      "text/plain": [
       "<Figure size 432x288 with 1 Axes>"
      ]
     },
     "metadata": {
      "needs_background": "light"
     },
     "output_type": "display_data"
    },
    {
     "data": {
      "image/png": "[encoded data removed]",
      "text/plain": [
       "<Figure size 432x288 with 1 Axes>"
      ]
     },
     "metadata": {
      "needs_background": "light"
     },
     "output_type": "display_data"
    },
    {
     "data": {
      "image/png": "[encoded data removed]",
      "text/plain": [
       "<Figure size 432x288 with 1 Axes>"
      ]
     },
     "metadata": {
      "needs_background": "light"
     },
     "output_type": "display_data"
    },
    {
     "data": {
      "image/png": "[encoded data removed]",
      "text/plain": [
       "<Figure size 432x288 with 1 Axes>"
      ]
     },
     "metadata": {
      "needs_background": "light"
     },
     "output_type": "display_data"
    },
    {
     "data": {
      "image/png": "[encoded data removed]",
      "text/plain": [
       "<Figure size 432x288 with 1 Axes>"
      ]
     },
     "metadata": {
      "needs_background": "light"
     },
     "output_type": "display_data"
    },
    {
     "data": {
      "image/png": "[encoded data removed]",
      "text/plain": [
       "<Figure size 432x288 with 1 Axes>"
      ]
     },
     "metadata": {
      "needs_background": "light"
     },
     "output_type": "display_data"
    },
    {
     "data": {
      "image/png": "[encoded data removed]",
      "text/plain": [
       "<Figure size 432x288 with 1 Axes>"
      ]
     },
     "metadata": {
      "needs_background": "light"
     },
     "output_type": "display_data"
    },
    {
     "data": {
      "image/png": "[encoded data removed]",
      "text/plain": [
       "<Figure size 432x288 with 1 Axes>"
      ]
     },
     "metadata": {
      "needs_background": "light"
     },
     "output_type": "display_data"
    },
    {
     "data": {
      "image/png": "[encoded data removed]",
      "text/plain": [
       "<Figure size 432x288 with 1 Axes>"
      ]
     },
     "metadata": {
      "needs_background": "light"
     },
     "output_type": "display_data"
    },
    {
     "data": {
      "image/png": "[encoded data removed]",
      "text/plain": [
       "<Figure size 432x288 with 1 Axes>"
      ]
     },
     "metadata": {
      "needs_background": "light"
     },
     "output_type": "display_data"
    },
    {
     "data": {
      "image/png": "[encoded data removed]",
      "text/plain": [
       "<Figure size 432x288 with 1 Axes>"
      ]
     },
     "metadata": {
      "needs_background": "light"
     },
     "output_type": "display_data"
    },
    {
     "data": {
      "image/png": "[encoded data removed]",
      "text/plain": [
       "<Figure size 432x288 with 1 Axes>"
      ]
     },
     "metadata": {
      "needs_background": "light"
     },
     "output_type": "display_data"
    },
    {
     "data": {
      "image/png": "[encoded data removed]",
      "text/plain": [
       "<Figure size 432x288 with 1 Axes>"
      ]
     },
     "metadata": {
      "needs_background": "light"
     },
     "output_type": "display_data"
    },
    {
     "data": {
      "image/png": "[encoded data removed]",
      "text/plain": [
       "<Figure size 432x288 with 1 Axes>"
      ]
     },
     "metadata": {
      "needs_background": "light"
     },
     "output_type": "display_data"
    },
    {
     "data": {
      "image/png": "[encoded data removed]",
      "text/plain": [
       "<Figure size 432x288 with 1 Axes>"
      ]
     },
     "metadata": {
      "needs_background": "light"
     },
     "output_type": "display_data"
    },
    {
     "data": {
      "image/png": "[encoded data removed]",
      "text/plain": [
       "<Figure size 432x288 with 1 Axes>"
      ]
     },
     "metadata": {
      "needs_background": "light"
     },
     "output_type": "display_data"
    },
    {
     "data": {
      "image/png": "[encoded data removed]",
      "text/plain": [
       "<Figure size 432x288 with 1 Axes>"
      ]
     },
     "metadata": {
      "needs_background": "light"
     },
     "output_type": "display_data"
    }
   ],
   "source": [
    "feat_scatter_l = []\n",
    "for feat in dataset_bank.columns:\n",
    "    fig, ax = plt.subplots()\n",
    "    min_feat, max_feat = np.min(dataset_bank[feat]), np.max(dataset_bank[feat])\n",
    "    \n",
    "    ax.hist(dataset_bank[feat], bins=np.linspace(min_feat, max_feat, 100))\n",
    "    \n",
    "    ref = dataset_bank[dataset_bank.index == ref_obj]\n",
    "    \n",
    "    ax.axvline(ref[feat].values[0], color='m', label=ref_obj)\n",
    "    ax.set_title(feat)\n",
    "    ax.set_xlim(min_feat, max_feat)\n",
    "    \n",
    "    plt.legend()\n",
    "    plt.show()\n",
    "    \n",
    "    feat_scatter = np.std(dataset_bank[feat])\n",
    "    feat_scatter_l.append(feat_scatter)   "
   ]
  },
  {
   "cell_type": "code",
   "execution_count": 19,
   "id": "a90af7a7",
   "metadata": {},
   "outputs": [
    {
     "name": "stdout",
     "output_type": "stream",
     "text": [
      "[0.6069325710640676 1.0188306835862677 1.1205986517355864\n",
      " -0.3107603138007243 0.4685314675321593 -0.8413953505761563\n",
      " 0.04269245866730799 -0.3579631964116531 0.41255829891269163\n",
      " 0.3264157673389379 0.5091076972157637 -0.6563501231268432\n",
      " -0.7973468033154926 -0.3864894977233664 0.22110484206401665\n",
      " -0.46554080019258326 0.3629159548921745 -0.24809777545487346\n",
      " 0.06476409160926372 0.5348723061571851 0.3992660995699857\n",
      " -0.09479800674352865 0.0678291946212023 0.0926081118282235\n",
      " 0.14187672390134184]\n",
      "ZTF ID name (ref) ZTF18abcfcoo\n"
     ]
    },
    {
     "data": {
      "text/markdown": [
       "https://alerce.online/object/ZTF18abcfcoo"
      ]
     },
     "metadata": {},
     "output_type": "display_data"
    },
    {
     "name": "stdout",
     "output_type": "stream",
     "text": [
      "None\n",
      "%%%%%%\n",
      "ANN\t\tIDX\t\t\t\tZTF_id\t\t\t\tDIST\n"
     ]
    },
    {
     "data": {
      "text/markdown": [
       "https://alerce.online/object/ZTF18abcfcoo"
      ]
     },
     "metadata": {},
     "output_type": "display_data"
    },
    {
     "name": "stdout",
     "output_type": "stream",
     "text": [
      "0\t\t68288\t\t\t\tNone\t\t\t0.0\n"
     ]
    },
    {
     "data": {
      "text/markdown": [
       "https://alerce.online/object/ZTF18abdcpmd"
      ]
     },
     "metadata": {},
     "output_type": "display_data"
    },
    {
     "name": "stdout",
     "output_type": "stream",
     "text": [
      "1\t\t40715\t\t\t\tNone\t\t\t1.3141\n"
     ]
    },
    {
     "data": {
      "text/markdown": [
       "https://alerce.online/object/ZTF18aaniglz"
      ]
     },
     "metadata": {},
     "output_type": "display_data"
    },
    {
     "name": "stdout",
     "output_type": "stream",
     "text": [
      "2\t\t54430\t\t\t\tNone\t\t\t1.445\n"
     ]
    },
    {
     "data": {
      "text/markdown": [
       "https://alerce.online/object/ZTF19abotnhf"
      ]
     },
     "metadata": {},
     "output_type": "display_data"
    },
    {
     "name": "stdout",
     "output_type": "stream",
     "text": [
      "3\t\t33764\t\t\t\tNone\t\t\t1.455\n"
     ]
    },
    {
     "data": {
      "text/markdown": [
       "https://alerce.online/object/ZTF18aarjqda"
      ]
     },
     "metadata": {},
     "output_type": "display_data"
    },
    {
     "name": "stdout",
     "output_type": "stream",
     "text": [
      "4\t\t74949\t\t\t\tNone\t\t\t1.4604\n"
     ]
    },
    {
     "data": {
      "text/markdown": [
       "https://alerce.online/object/ZTF18abnjsqz"
      ]
     },
     "metadata": {},
     "output_type": "display_data"
    },
    {
     "name": "stdout",
     "output_type": "stream",
     "text": [
      "5\t\t76935\t\t\t\tNone\t\t\t1.5138\n"
     ]
    },
    {
     "data": {
      "text/markdown": [
       "https://alerce.online/object/ZTF18aaufckh"
      ]
     },
     "metadata": {},
     "output_type": "display_data"
    },
    {
     "name": "stdout",
     "output_type": "stream",
     "text": [
      "6\t\t48682\t\t\t\tNone\t\t\t1.5252\n"
     ]
    },
    {
     "data": {
      "text/markdown": [
       "https://alerce.online/object/ZTF18abhzofh"
      ]
     },
     "metadata": {},
     "output_type": "display_data"
    },
    {
     "name": "stdout",
     "output_type": "stream",
     "text": [
      "7\t\t72548\t\t\t\tNone\t\t\t1.5624\n"
     ]
    },
    {
     "data": {
      "text/markdown": [
       "https://alerce.online/object/ZTF20acwrpxr"
      ]
     },
     "metadata": {},
     "output_type": "display_data"
    },
    {
     "name": "stdout",
     "output_type": "stream",
     "text": [
      "8\t\t73016\t\t\t\tNone\t\t\t1.5675\n"
     ]
    },
    {
     "data": {
      "text/markdown": [
       "https://alerce.online/object/ZTF18abeqqzu"
      ]
     },
     "metadata": {},
     "output_type": "display_data"
    },
    {
     "name": "stdout",
     "output_type": "stream",
     "text": [
      "9\t\t76620\t\t\t\tNone\t\t\t1.5686\n"
     ]
    }
   ],
   "source": [
    "dataset_ref = dataset_bank[dataset_bank.index == ref_obj] #  ref_obj\n",
    "\n",
    "# feat_arr_ref = np.vstack(np.array(dataset_ref, dtype='object'))\n",
    "# scaled_feat_arr_ref = scaler.transform(feat_arr_ref) #scaler.transform(feat_arr) # What your model learns on\n",
    "# #scaled_feat_arr_ref = scaler.fit_transform(feat_arr_ref) #scaler.transform(feat_arr) # What your model learns on\n",
    "\n",
    "# # Scalar then PCA\n",
    "# scaled_feat_arr_ref = np.array(dataset_ref)\n",
    "\n",
    "# PCA only\n",
    "feat_arr_ref = np.vstack(np.array(dataset_ref, dtype='object'))\n",
    "scaled_feat_arr_ref = feat_arr_ref\n",
    "\n",
    "# #PCA then scaler\n",
    "# feat_arr_ref = np.vstack(np.array(dataset_ref, dtype='object'))\n",
    "# scaled_feat_arr_ref = feat_arr_ref\n",
    "\n",
    "\n",
    "snid = dataset_ref.index.values[0]\n",
    "lcdata = {'name': snid, 'vector': scaled_feat_arr_ref[0]}\n",
    "#lcdata = {'name': ztf_id, 'vector': feat_arr_scaled[-5:-4][0]}\n",
    "print(lcdata['vector'])\n",
    "\n",
    "#result_id, result_dist = index.index.get_nns_by_item(, n=10, include_distances=True)\n",
    "result_id, result_dist = index.index.get_nns_by_vector(lcdata['vector'], n=10, include_distances=True)\n",
    "#result_name = index.query(lcdata['vector'])\n",
    "\n",
    "print(f\"ZTF ID name (ref) {snid}\") \n",
    "link_ref = display_markdown(f'https://alerce.online/object/{snid}', raw=True)\n",
    "print(link_ref)\n",
    "print(\"%%%%%%\")\n",
    "print(\"ANN\\t\\tIDX\\t\\t\\t\\tZTF_id\\t\\t\\t\\tDIST\")#\\tFEAT\")\n",
    "for n, (i, d) in enumerate(zip(result_id, result_dist)):#, feat_arr):\n",
    "    print(f\"{n}\\t\\t{i}\\t\\t\\t\\t{display_markdown(f'https://alerce.online/object/{idx_arr[i]}', raw=True)}\\t\\t\\t{round(d, 4)}\")#\\t{f}\")"
   ]
  },
  {
   "cell_type": "code",
   "execution_count": 20,
   "id": "dfe46b02",
   "metadata": {},
   "outputs": [
    {
     "data": {
      "text/plain": [
       "ann=0                 68288.000000\n",
       "ann=1                 40715.000000\n",
       "ann=2                 54430.000000\n",
       "ann=3                 33764.000000\n",
       "ann=4                 74949.000000\n",
       "ann=5                 76935.000000\n",
       "ann=6                 48682.000000\n",
       "ann=7                 72548.000000\n",
       "ann=8                 73016.000000\n",
       "ann=9                 76620.000000\n",
       "dist=0                    0.000000\n",
       "dist=1                    1.314144\n",
       "dist=2                    1.444988\n",
       "dist=3                    1.454998\n",
       "dist=4                    1.460385\n",
       "dist=5                    1.513840\n",
       "dist=6                    1.525179\n",
       "dist=7                    1.562352\n",
       "dist=8                    1.567488\n",
       "dist=9                    1.568609\n",
       "Mean_9ANNs                1.490220\n",
       "WeightedMean_9ANNs        1.409423\n",
       "Name: ZTF18abcfcoo, dtype: float64"
      ]
     },
     "execution_count": 20,
     "metadata": {},
     "output_type": "execute_result"
    }
   ],
   "source": [
    "ann_dist_all_df.loc[ref_obj]"
   ]
  },
  {
   "cell_type": "code",
   "execution_count": 21,
   "id": "50185b32",
   "metadata": {},
   "outputs": [
    {
     "data": {
      "text/plain": [
       "key_0\n",
       "ZTF18abcfcoo    1.409423\n",
       "ZTF18aaslagi    1.262629\n",
       "ZTF18aarwyww    1.127964\n",
       "ZTF18aabrxof    1.115813\n",
       "ZTF18aaoscbs    1.104755\n",
       "                  ...   \n",
       "ZTF18aainzhi    0.798969\n",
       "ZTF18aabhkro    0.798304\n",
       "ZTF18aaztwws    0.797891\n",
       "ZTF18aaptaus    0.796815\n",
       "ZTF18abcigqi    0.796524\n",
       "Name: WeightedMean_9ANNs, Length: 100, dtype: float64"
      ]
     },
     "execution_count": 21,
     "metadata": {},
     "output_type": "execute_result"
    }
   ],
   "source": [
    "# 10 largest distances\n",
    "ann_dist_all_df[dist_col].nlargest(100)"
   ]
  },
  {
   "cell_type": "code",
   "execution_count": 22,
   "id": "5cf67374",
   "metadata": {},
   "outputs": [
    {
     "data": {
      "text/markdown": [
       "https://alerce.online/object/ZTF18abcfcoo"
      ]
     },
     "metadata": {},
     "output_type": "display_data"
    },
    {
     "name": "stdout",
     "output_type": "stream",
     "text": [
      "None\n"
     ]
    },
    {
     "data": {
      "text/markdown": [
       "https://alerce.online/object/ZTF18aaslagi"
      ]
     },
     "metadata": {},
     "output_type": "display_data"
    },
    {
     "name": "stdout",
     "output_type": "stream",
     "text": [
      "None\n"
     ]
    },
    {
     "data": {
      "text/markdown": [
       "https://alerce.online/object/ZTF18aarwyww"
      ]
     },
     "metadata": {},
     "output_type": "display_data"
    },
    {
     "name": "stdout",
     "output_type": "stream",
     "text": [
      "None\n"
     ]
    },
    {
     "data": {
      "text/markdown": [
       "https://alerce.online/object/ZTF18aabrxof"
      ]
     },
     "metadata": {},
     "output_type": "display_data"
    },
    {
     "name": "stdout",
     "output_type": "stream",
     "text": [
      "None\n"
     ]
    },
    {
     "data": {
      "text/markdown": [
       "https://alerce.online/object/ZTF18aaoscbs"
      ]
     },
     "metadata": {},
     "output_type": "display_data"
    },
    {
     "name": "stdout",
     "output_type": "stream",
     "text": [
      "None\n"
     ]
    },
    {
     "data": {
      "text/markdown": [
       "https://alerce.online/object/ZTF18abaphqf"
      ]
     },
     "metadata": {},
     "output_type": "display_data"
    },
    {
     "name": "stdout",
     "output_type": "stream",
     "text": [
      "None\n"
     ]
    },
    {
     "data": {
      "text/markdown": [
       "https://alerce.online/object/ZTF18aabjkap"
      ]
     },
     "metadata": {},
     "output_type": "display_data"
    },
    {
     "name": "stdout",
     "output_type": "stream",
     "text": [
      "None\n"
     ]
    },
    {
     "data": {
      "text/markdown": [
       "https://alerce.online/object/ZTF18aanoyin"
      ]
     },
     "metadata": {},
     "output_type": "display_data"
    },
    {
     "name": "stdout",
     "output_type": "stream",
     "text": [
      "None\n"
     ]
    },
    {
     "data": {
      "text/markdown": [
       "https://alerce.online/object/ZTF18aaxuusk"
      ]
     },
     "metadata": {},
     "output_type": "display_data"
    },
    {
     "name": "stdout",
     "output_type": "stream",
     "text": [
      "None\n"
     ]
    },
    {
     "data": {
      "text/markdown": [
       "https://alerce.online/object/ZTF18aabfadv"
      ]
     },
     "metadata": {},
     "output_type": "display_data"
    },
    {
     "name": "stdout",
     "output_type": "stream",
     "text": [
      "None\n"
     ]
    },
    {
     "data": {
      "text/markdown": [
       "https://alerce.online/object/ZTF18abbuguo"
      ]
     },
     "metadata": {},
     "output_type": "display_data"
    },
    {
     "name": "stdout",
     "output_type": "stream",
     "text": [
      "None\n"
     ]
    },
    {
     "data": {
      "text/markdown": [
       "https://alerce.online/object/ZTF18aavskan"
      ]
     },
     "metadata": {},
     "output_type": "display_data"
    },
    {
     "name": "stdout",
     "output_type": "stream",
     "text": [
      "None\n"
     ]
    },
    {
     "data": {
      "text/markdown": [
       "https://alerce.online/object/ZTF18aamnlze"
      ]
     },
     "metadata": {},
     "output_type": "display_data"
    },
    {
     "name": "stdout",
     "output_type": "stream",
     "text": [
      "None\n"
     ]
    },
    {
     "data": {
      "text/markdown": [
       "https://alerce.online/object/ZTF18aaarzgv"
      ]
     },
     "metadata": {},
     "output_type": "display_data"
    },
    {
     "name": "stdout",
     "output_type": "stream",
     "text": [
      "None\n"
     ]
    },
    {
     "data": {
      "text/markdown": [
       "https://alerce.online/object/ZTF17aabowel"
      ]
     },
     "metadata": {},
     "output_type": "display_data"
    },
    {
     "name": "stdout",
     "output_type": "stream",
     "text": [
      "None\n"
     ]
    },
    {
     "data": {
      "text/markdown": [
       "https://alerce.online/object/ZTF18abaebfk"
      ]
     },
     "metadata": {},
     "output_type": "display_data"
    },
    {
     "name": "stdout",
     "output_type": "stream",
     "text": [
      "None\n"
     ]
    },
    {
     "data": {
      "text/markdown": [
       "https://alerce.online/object/ZTF18abaeawz"
      ]
     },
     "metadata": {},
     "output_type": "display_data"
    },
    {
     "name": "stdout",
     "output_type": "stream",
     "text": [
      "None\n"
     ]
    },
    {
     "data": {
      "text/markdown": [
       "https://alerce.online/object/ZTF18aabtugl"
      ]
     },
     "metadata": {},
     "output_type": "display_data"
    },
    {
     "name": "stdout",
     "output_type": "stream",
     "text": [
      "None\n"
     ]
    },
    {
     "data": {
      "text/markdown": [
       "https://alerce.online/object/ZTF17aaazrnw"
      ]
     },
     "metadata": {},
     "output_type": "display_data"
    },
    {
     "name": "stdout",
     "output_type": "stream",
     "text": [
      "None\n"
     ]
    },
    {
     "data": {
      "text/markdown": [
       "https://alerce.online/object/ZTF18aabgpcg"
      ]
     },
     "metadata": {},
     "output_type": "display_data"
    },
    {
     "name": "stdout",
     "output_type": "stream",
     "text": [
      "None\n"
     ]
    },
    {
     "data": {
      "text/markdown": [
       "https://alerce.online/object/ZTF18aajcnnr"
      ]
     },
     "metadata": {},
     "output_type": "display_data"
    },
    {
     "name": "stdout",
     "output_type": "stream",
     "text": [
      "None\n"
     ]
    },
    {
     "data": {
      "text/markdown": [
       "https://alerce.online/object/ZTF18aaoritn"
      ]
     },
     "metadata": {},
     "output_type": "display_data"
    },
    {
     "name": "stdout",
     "output_type": "stream",
     "text": [
      "None\n"
     ]
    },
    {
     "data": {
      "text/markdown": [
       "https://alerce.online/object/ZTF18abbcdhn"
      ]
     },
     "metadata": {},
     "output_type": "display_data"
    },
    {
     "name": "stdout",
     "output_type": "stream",
     "text": [
      "None\n"
     ]
    },
    {
     "data": {
      "text/markdown": [
       "https://alerce.online/object/ZTF17aacufux"
      ]
     },
     "metadata": {},
     "output_type": "display_data"
    },
    {
     "name": "stdout",
     "output_type": "stream",
     "text": [
      "None\n"
     ]
    },
    {
     "data": {
      "text/markdown": [
       "https://alerce.online/object/ZTF18aasuwtt"
      ]
     },
     "metadata": {},
     "output_type": "display_data"
    },
    {
     "name": "stdout",
     "output_type": "stream",
     "text": [
      "None\n"
     ]
    },
    {
     "data": {
      "text/markdown": [
       "https://alerce.online/object/ZTF18aamvgmq"
      ]
     },
     "metadata": {},
     "output_type": "display_data"
    },
    {
     "name": "stdout",
     "output_type": "stream",
     "text": [
      "None\n"
     ]
    },
    {
     "data": {
      "text/markdown": [
       "https://alerce.online/object/ZTF18aabeyaq"
      ]
     },
     "metadata": {},
     "output_type": "display_data"
    },
    {
     "name": "stdout",
     "output_type": "stream",
     "text": [
      "None\n"
     ]
    },
    {
     "data": {
      "text/markdown": [
       "https://alerce.online/object/ZTF18aaqbjuo"
      ]
     },
     "metadata": {},
     "output_type": "display_data"
    },
    {
     "name": "stdout",
     "output_type": "stream",
     "text": [
      "None\n"
     ]
    },
    {
     "data": {
      "text/markdown": [
       "https://alerce.online/object/ZTF18abcgrvs"
      ]
     },
     "metadata": {},
     "output_type": "display_data"
    },
    {
     "name": "stdout",
     "output_type": "stream",
     "text": [
      "None\n"
     ]
    },
    {
     "data": {
      "text/markdown": [
       "https://alerce.online/object/ZTF18aapnjqb"
      ]
     },
     "metadata": {},
     "output_type": "display_data"
    },
    {
     "name": "stdout",
     "output_type": "stream",
     "text": [
      "None\n"
     ]
    },
    {
     "data": {
      "text/markdown": [
       "https://alerce.online/object/ZTF18abcjfhf"
      ]
     },
     "metadata": {},
     "output_type": "display_data"
    },
    {
     "name": "stdout",
     "output_type": "stream",
     "text": [
      "None\n"
     ]
    },
    {
     "data": {
      "text/markdown": [
       "https://alerce.online/object/ZTF18aaakiea"
      ]
     },
     "metadata": {},
     "output_type": "display_data"
    },
    {
     "name": "stdout",
     "output_type": "stream",
     "text": [
      "None\n"
     ]
    },
    {
     "data": {
      "text/markdown": [
       "https://alerce.online/object/ZTF18aazflnx"
      ]
     },
     "metadata": {},
     "output_type": "display_data"
    },
    {
     "name": "stdout",
     "output_type": "stream",
     "text": [
      "None\n"
     ]
    },
    {
     "data": {
      "text/markdown": [
       "https://alerce.online/object/ZTF18abbfwzv"
      ]
     },
     "metadata": {},
     "output_type": "display_data"
    },
    {
     "name": "stdout",
     "output_type": "stream",
     "text": [
      "None\n"
     ]
    },
    {
     "data": {
      "text/markdown": [
       "https://alerce.online/object/ZTF18abbdfpf"
      ]
     },
     "metadata": {},
     "output_type": "display_data"
    },
    {
     "name": "stdout",
     "output_type": "stream",
     "text": [
      "None\n"
     ]
    },
    {
     "data": {
      "text/markdown": [
       "https://alerce.online/object/ZTF18aajqcue"
      ]
     },
     "metadata": {},
     "output_type": "display_data"
    },
    {
     "name": "stdout",
     "output_type": "stream",
     "text": [
      "None\n"
     ]
    },
    {
     "data": {
      "text/markdown": [
       "https://alerce.online/object/ZTF17aaawelz"
      ]
     },
     "metadata": {},
     "output_type": "display_data"
    },
    {
     "name": "stdout",
     "output_type": "stream",
     "text": [
      "None\n"
     ]
    },
    {
     "data": {
      "text/markdown": [
       "https://alerce.online/object/ZTF18abccmnl"
      ]
     },
     "metadata": {},
     "output_type": "display_data"
    },
    {
     "name": "stdout",
     "output_type": "stream",
     "text": [
      "None\n"
     ]
    },
    {
     "data": {
      "text/markdown": [
       "https://alerce.online/object/ZTF18abbvabu"
      ]
     },
     "metadata": {},
     "output_type": "display_data"
    },
    {
     "name": "stdout",
     "output_type": "stream",
     "text": [
      "None\n"
     ]
    },
    {
     "data": {
      "text/markdown": [
       "https://alerce.online/object/ZTF18aaabjgd"
      ]
     },
     "metadata": {},
     "output_type": "display_data"
    },
    {
     "name": "stdout",
     "output_type": "stream",
     "text": [
      "None\n"
     ]
    },
    {
     "data": {
      "text/markdown": [
       "https://alerce.online/object/ZTF18aakuood"
      ]
     },
     "metadata": {},
     "output_type": "display_data"
    },
    {
     "name": "stdout",
     "output_type": "stream",
     "text": [
      "None\n"
     ]
    },
    {
     "data": {
      "text/markdown": [
       "https://alerce.online/object/ZTF18aaahuqh"
      ]
     },
     "metadata": {},
     "output_type": "display_data"
    },
    {
     "name": "stdout",
     "output_type": "stream",
     "text": [
      "None\n"
     ]
    },
    {
     "data": {
      "text/markdown": [
       "https://alerce.online/object/ZTF18aaorymm"
      ]
     },
     "metadata": {},
     "output_type": "display_data"
    },
    {
     "name": "stdout",
     "output_type": "stream",
     "text": [
      "None\n"
     ]
    },
    {
     "data": {
      "text/markdown": [
       "https://alerce.online/object/ZTF18aaqcuba"
      ]
     },
     "metadata": {},
     "output_type": "display_data"
    },
    {
     "name": "stdout",
     "output_type": "stream",
     "text": [
      "None\n"
     ]
    },
    {
     "data": {
      "text/markdown": [
       "https://alerce.online/object/ZTF18aanwveg"
      ]
     },
     "metadata": {},
     "output_type": "display_data"
    },
    {
     "name": "stdout",
     "output_type": "stream",
     "text": [
      "None\n"
     ]
    },
    {
     "data": {
      "text/markdown": [
       "https://alerce.online/object/ZTF18aakfnru"
      ]
     },
     "metadata": {},
     "output_type": "display_data"
    },
    {
     "name": "stdout",
     "output_type": "stream",
     "text": [
      "None\n"
     ]
    },
    {
     "data": {
      "text/markdown": [
       "https://alerce.online/object/ZTF17aaahmid"
      ]
     },
     "metadata": {},
     "output_type": "display_data"
    },
    {
     "name": "stdout",
     "output_type": "stream",
     "text": [
      "None\n"
     ]
    },
    {
     "data": {
      "text/markdown": [
       "https://alerce.online/object/ZTF18aabhmmj"
      ]
     },
     "metadata": {},
     "output_type": "display_data"
    },
    {
     "name": "stdout",
     "output_type": "stream",
     "text": [
      "None\n"
     ]
    },
    {
     "data": {
      "text/markdown": [
       "https://alerce.online/object/ZTF18aarsokt"
      ]
     },
     "metadata": {},
     "output_type": "display_data"
    },
    {
     "name": "stdout",
     "output_type": "stream",
     "text": [
      "None\n"
     ]
    },
    {
     "data": {
      "text/markdown": [
       "https://alerce.online/object/ZTF18aajtyio"
      ]
     },
     "metadata": {},
     "output_type": "display_data"
    },
    {
     "name": "stdout",
     "output_type": "stream",
     "text": [
      "None\n"
     ]
    },
    {
     "data": {
      "text/markdown": [
       "https://alerce.online/object/ZTF18abccckv"
      ]
     },
     "metadata": {},
     "output_type": "display_data"
    },
    {
     "name": "stdout",
     "output_type": "stream",
     "text": [
      "None\n"
     ]
    },
    {
     "data": {
      "text/markdown": [
       "https://alerce.online/object/ZTF18aaimlad"
      ]
     },
     "metadata": {},
     "output_type": "display_data"
    },
    {
     "name": "stdout",
     "output_type": "stream",
     "text": [
      "None\n"
     ]
    },
    {
     "data": {
      "text/markdown": [
       "https://alerce.online/object/ZTF18aabjlqa"
      ]
     },
     "metadata": {},
     "output_type": "display_data"
    },
    {
     "name": "stdout",
     "output_type": "stream",
     "text": [
      "None\n"
     ]
    },
    {
     "data": {
      "text/markdown": [
       "https://alerce.online/object/ZTF17aabwwfn"
      ]
     },
     "metadata": {},
     "output_type": "display_data"
    },
    {
     "name": "stdout",
     "output_type": "stream",
     "text": [
      "None\n"
     ]
    },
    {
     "data": {
      "text/markdown": [
       "https://alerce.online/object/ZTF18abazbzi"
      ]
     },
     "metadata": {},
     "output_type": "display_data"
    },
    {
     "name": "stdout",
     "output_type": "stream",
     "text": [
      "None\n"
     ]
    },
    {
     "data": {
      "text/markdown": [
       "https://alerce.online/object/ZTF18aaeduxh"
      ]
     },
     "metadata": {},
     "output_type": "display_data"
    },
    {
     "name": "stdout",
     "output_type": "stream",
     "text": [
      "None\n"
     ]
    },
    {
     "data": {
      "text/markdown": [
       "https://alerce.online/object/ZTF17aabdfvr"
      ]
     },
     "metadata": {},
     "output_type": "display_data"
    },
    {
     "name": "stdout",
     "output_type": "stream",
     "text": [
      "None\n"
     ]
    },
    {
     "data": {
      "text/markdown": [
       "https://alerce.online/object/ZTF18aamynjn"
      ]
     },
     "metadata": {},
     "output_type": "display_data"
    },
    {
     "name": "stdout",
     "output_type": "stream",
     "text": [
      "None\n"
     ]
    },
    {
     "data": {
      "text/markdown": [
       "https://alerce.online/object/ZTF18aanuvrz"
      ]
     },
     "metadata": {},
     "output_type": "display_data"
    },
    {
     "name": "stdout",
     "output_type": "stream",
     "text": [
      "None\n"
     ]
    },
    {
     "data": {
      "text/markdown": [
       "https://alerce.online/object/ZTF18aahheaj"
      ]
     },
     "metadata": {},
     "output_type": "display_data"
    },
    {
     "name": "stdout",
     "output_type": "stream",
     "text": [
      "None\n"
     ]
    },
    {
     "data": {
      "text/markdown": [
       "https://alerce.online/object/ZTF18aairvdw"
      ]
     },
     "metadata": {},
     "output_type": "display_data"
    },
    {
     "name": "stdout",
     "output_type": "stream",
     "text": [
      "None\n"
     ]
    },
    {
     "data": {
      "text/markdown": [
       "https://alerce.online/object/ZTF18abbrbzw"
      ]
     },
     "metadata": {},
     "output_type": "display_data"
    },
    {
     "name": "stdout",
     "output_type": "stream",
     "text": [
      "None\n"
     ]
    },
    {
     "data": {
      "text/markdown": [
       "https://alerce.online/object/ZTF17aabhioj"
      ]
     },
     "metadata": {},
     "output_type": "display_data"
    },
    {
     "name": "stdout",
     "output_type": "stream",
     "text": [
      "None\n"
     ]
    },
    {
     "data": {
      "text/markdown": [
       "https://alerce.online/object/ZTF18aatzloy"
      ]
     },
     "metadata": {},
     "output_type": "display_data"
    },
    {
     "name": "stdout",
     "output_type": "stream",
     "text": [
      "None\n"
     ]
    },
    {
     "data": {
      "text/markdown": [
       "https://alerce.online/object/ZTF18aapelal"
      ]
     },
     "metadata": {},
     "output_type": "display_data"
    },
    {
     "name": "stdout",
     "output_type": "stream",
     "text": [
      "None\n"
     ]
    },
    {
     "data": {
      "text/markdown": [
       "https://alerce.online/object/ZTF18abbeynz"
      ]
     },
     "metadata": {},
     "output_type": "display_data"
    },
    {
     "name": "stdout",
     "output_type": "stream",
     "text": [
      "None\n"
     ]
    },
    {
     "data": {
      "text/markdown": [
       "https://alerce.online/object/ZTF18aamtznx"
      ]
     },
     "metadata": {},
     "output_type": "display_data"
    },
    {
     "name": "stdout",
     "output_type": "stream",
     "text": [
      "None\n"
     ]
    },
    {
     "data": {
      "text/markdown": [
       "https://alerce.online/object/ZTF18aaxlalb"
      ]
     },
     "metadata": {},
     "output_type": "display_data"
    },
    {
     "name": "stdout",
     "output_type": "stream",
     "text": [
      "None\n"
     ]
    },
    {
     "data": {
      "text/markdown": [
       "https://alerce.online/object/ZTF18aanhiop"
      ]
     },
     "metadata": {},
     "output_type": "display_data"
    },
    {
     "name": "stdout",
     "output_type": "stream",
     "text": [
      "None\n"
     ]
    },
    {
     "data": {
      "text/markdown": [
       "https://alerce.online/object/ZTF18aabukgo"
      ]
     },
     "metadata": {},
     "output_type": "display_data"
    },
    {
     "name": "stdout",
     "output_type": "stream",
     "text": [
      "None\n"
     ]
    },
    {
     "data": {
      "text/markdown": [
       "https://alerce.online/object/ZTF18abccneq"
      ]
     },
     "metadata": {},
     "output_type": "display_data"
    },
    {
     "name": "stdout",
     "output_type": "stream",
     "text": [
      "None\n"
     ]
    },
    {
     "data": {
      "text/markdown": [
       "https://alerce.online/object/ZTF18aamxznr"
      ]
     },
     "metadata": {},
     "output_type": "display_data"
    },
    {
     "name": "stdout",
     "output_type": "stream",
     "text": [
      "None\n"
     ]
    },
    {
     "data": {
      "text/markdown": [
       "https://alerce.online/object/ZTF18aabibdk"
      ]
     },
     "metadata": {},
     "output_type": "display_data"
    },
    {
     "name": "stdout",
     "output_type": "stream",
     "text": [
      "None\n"
     ]
    },
    {
     "data": {
      "text/markdown": [
       "https://alerce.online/object/ZTF18aarjsot"
      ]
     },
     "metadata": {},
     "output_type": "display_data"
    },
    {
     "name": "stdout",
     "output_type": "stream",
     "text": [
      "None\n"
     ]
    },
    {
     "data": {
      "text/markdown": [
       "https://alerce.online/object/ZTF17aaatzdj"
      ]
     },
     "metadata": {},
     "output_type": "display_data"
    },
    {
     "name": "stdout",
     "output_type": "stream",
     "text": [
      "None\n"
     ]
    },
    {
     "data": {
      "text/markdown": [
       "https://alerce.online/object/ZTF18abayusp"
      ]
     },
     "metadata": {},
     "output_type": "display_data"
    },
    {
     "name": "stdout",
     "output_type": "stream",
     "text": [
      "None\n"
     ]
    },
    {
     "data": {
      "text/markdown": [
       "https://alerce.online/object/ZTF18aaqvdhr"
      ]
     },
     "metadata": {},
     "output_type": "display_data"
    },
    {
     "name": "stdout",
     "output_type": "stream",
     "text": [
      "None\n"
     ]
    },
    {
     "data": {
      "text/markdown": [
       "https://alerce.online/object/ZTF17aabulcu"
      ]
     },
     "metadata": {},
     "output_type": "display_data"
    },
    {
     "name": "stdout",
     "output_type": "stream",
     "text": [
      "None\n"
     ]
    },
    {
     "data": {
      "text/markdown": [
       "https://alerce.online/object/ZTF18aaappvn"
      ]
     },
     "metadata": {},
     "output_type": "display_data"
    },
    {
     "name": "stdout",
     "output_type": "stream",
     "text": [
      "None\n"
     ]
    },
    {
     "data": {
      "text/markdown": [
       "https://alerce.online/object/ZTF18aaotqou"
      ]
     },
     "metadata": {},
     "output_type": "display_data"
    },
    {
     "name": "stdout",
     "output_type": "stream",
     "text": [
      "None\n"
     ]
    },
    {
     "data": {
      "text/markdown": [
       "https://alerce.online/object/ZTF18aatxtlm"
      ]
     },
     "metadata": {},
     "output_type": "display_data"
    },
    {
     "name": "stdout",
     "output_type": "stream",
     "text": [
      "None\n"
     ]
    },
    {
     "data": {
      "text/markdown": [
       "https://alerce.online/object/ZTF18aayfoyq"
      ]
     },
     "metadata": {},
     "output_type": "display_data"
    },
    {
     "name": "stdout",
     "output_type": "stream",
     "text": [
      "None\n"
     ]
    },
    {
     "data": {
      "text/markdown": [
       "https://alerce.online/object/ZTF18aawlezq"
      ]
     },
     "metadata": {},
     "output_type": "display_data"
    },
    {
     "name": "stdout",
     "output_type": "stream",
     "text": [
      "None\n"
     ]
    },
    {
     "data": {
      "text/markdown": [
       "https://alerce.online/object/ZTF18aarwlyx"
      ]
     },
     "metadata": {},
     "output_type": "display_data"
    },
    {
     "name": "stdout",
     "output_type": "stream",
     "text": [
      "None\n"
     ]
    },
    {
     "data": {
      "text/markdown": [
       "https://alerce.online/object/ZTF18aaxlaxv"
      ]
     },
     "metadata": {},
     "output_type": "display_data"
    },
    {
     "name": "stdout",
     "output_type": "stream",
     "text": [
      "None\n"
     ]
    },
    {
     "data": {
      "text/markdown": [
       "https://alerce.online/object/ZTF18aavckhz"
      ]
     },
     "metadata": {},
     "output_type": "display_data"
    },
    {
     "name": "stdout",
     "output_type": "stream",
     "text": [
      "None\n"
     ]
    },
    {
     "data": {
      "text/markdown": [
       "https://alerce.online/object/ZTF17aadmzyr"
      ]
     },
     "metadata": {},
     "output_type": "display_data"
    },
    {
     "name": "stdout",
     "output_type": "stream",
     "text": [
      "None\n"
     ]
    },
    {
     "data": {
      "text/markdown": [
       "https://alerce.online/object/ZTF17aabaszq"
      ]
     },
     "metadata": {},
     "output_type": "display_data"
    },
    {
     "name": "stdout",
     "output_type": "stream",
     "text": [
      "None\n"
     ]
    },
    {
     "data": {
      "text/markdown": [
       "https://alerce.online/object/ZTF18aajsuwc"
      ]
     },
     "metadata": {},
     "output_type": "display_data"
    },
    {
     "name": "stdout",
     "output_type": "stream",
     "text": [
      "None\n"
     ]
    },
    {
     "data": {
      "text/markdown": [
       "https://alerce.online/object/ZTF17aaafvrg"
      ]
     },
     "metadata": {},
     "output_type": "display_data"
    },
    {
     "name": "stdout",
     "output_type": "stream",
     "text": [
      "None\n"
     ]
    },
    {
     "data": {
      "text/markdown": [
       "https://alerce.online/object/ZTF18aamxcmz"
      ]
     },
     "metadata": {},
     "output_type": "display_data"
    },
    {
     "name": "stdout",
     "output_type": "stream",
     "text": [
      "None\n"
     ]
    },
    {
     "data": {
      "text/markdown": [
       "https://alerce.online/object/ZTF17aaafgly"
      ]
     },
     "metadata": {},
     "output_type": "display_data"
    },
    {
     "name": "stdout",
     "output_type": "stream",
     "text": [
      "None\n"
     ]
    },
    {
     "data": {
      "text/markdown": [
       "https://alerce.online/object/ZTF18aarjsfh"
      ]
     },
     "metadata": {},
     "output_type": "display_data"
    },
    {
     "name": "stdout",
     "output_type": "stream",
     "text": [
      "None\n"
     ]
    },
    {
     "data": {
      "text/markdown": [
       "https://alerce.online/object/ZTF18aazkbyp"
      ]
     },
     "metadata": {},
     "output_type": "display_data"
    },
    {
     "name": "stdout",
     "output_type": "stream",
     "text": [
      "None\n"
     ]
    },
    {
     "data": {
      "text/markdown": [
       "https://alerce.online/object/ZTF18aaachlc"
      ]
     },
     "metadata": {},
     "output_type": "display_data"
    },
    {
     "name": "stdout",
     "output_type": "stream",
     "text": [
      "None\n"
     ]
    },
    {
     "data": {
      "text/markdown": [
       "https://alerce.online/object/ZTF18aainzhi"
      ]
     },
     "metadata": {},
     "output_type": "display_data"
    },
    {
     "name": "stdout",
     "output_type": "stream",
     "text": [
      "None\n"
     ]
    },
    {
     "data": {
      "text/markdown": [
       "https://alerce.online/object/ZTF18aabhkro"
      ]
     },
     "metadata": {},
     "output_type": "display_data"
    },
    {
     "name": "stdout",
     "output_type": "stream",
     "text": [
      "None\n"
     ]
    },
    {
     "data": {
      "text/markdown": [
       "https://alerce.online/object/ZTF18aaztwws"
      ]
     },
     "metadata": {},
     "output_type": "display_data"
    },
    {
     "name": "stdout",
     "output_type": "stream",
     "text": [
      "None\n"
     ]
    },
    {
     "data": {
      "text/markdown": [
       "https://alerce.online/object/ZTF18aaptaus"
      ]
     },
     "metadata": {},
     "output_type": "display_data"
    },
    {
     "name": "stdout",
     "output_type": "stream",
     "text": [
      "None\n"
     ]
    },
    {
     "data": {
      "text/markdown": [
       "https://alerce.online/object/ZTF18abcigqi"
      ]
     },
     "metadata": {},
     "output_type": "display_data"
    },
    {
     "name": "stdout",
     "output_type": "stream",
     "text": [
      "None\n"
     ]
    }
   ],
   "source": [
    "# 10 largest distances objs \n",
    "for ztfid in list(ann_dist_all_df[dist_col].nlargest(100).index):\n",
    "    alerce_link = display_markdown(f'https://alerce.online/object/{ztfid}', raw=True)\n",
    "    print(alerce_link)"
   ]
  },
  {
   "cell_type": "code",
   "execution_count": 23,
   "id": "d736599e",
   "metadata": {},
   "outputs": [
    {
     "data": {
      "image/png": "[encoded data removed]",
      "text/plain": [
       "<Figure size 432x288 with 1 Axes>"
      ]
     },
     "metadata": {
      "needs_background": "light"
     },
     "output_type": "display_data"
    }
   ],
   "source": [
    "# 10 largest mean 9 ANN distances distances (most different)\n",
    "plt.hist(ann_dist_all_df[dist_col], \n",
    "         bins=np.linspace(np.min(ann_dist_all_df[dist_col]), \n",
    "                          np.max(ann_dist_all_df[dist_col]), 31), density=False);\n",
    "plt.xlabel(dist_col+' Distance');\n",
    "#plt.yscale('log')\n",
    "plt.title(f'{len(ann_dist_all_df)} Unique ZTF Object Ids');"
   ]
  },
  {
   "cell_type": "code",
   "execution_count": 24,
   "id": "a166549b",
   "metadata": {},
   "outputs": [
    {
     "name": "stdout",
     "output_type": "stream",
     "text": [
      "summary stats\n",
      "Scatter mean: 0.5418698271629958\n",
      "Scatter median: 0.5390155156227675\n",
      "Scatter std: 0.09932815654257622\n",
      "Scatter max: 1.409423047846014\n",
      "Scatter min: 0.17502835858613253\n",
      "\n",
      "\n",
      "Most anomalous: ZTF18abcfcoo\n"
     ]
    }
   ],
   "source": [
    "print(\"summary stats\")\n",
    "print(\"Scatter mean:\", np.mean(ann_dist_all_df[dist_col]))\n",
    "print(\"Scatter median:\", np.median(ann_dist_all_df[dist_col]))\n",
    "print(\"Scatter std:\", np.std(ann_dist_all_df[dist_col]))\n",
    "print(\"Scatter max:\", np.max(ann_dist_all_df[dist_col]))\n",
    "print(\"Scatter min:\", np.min(ann_dist_all_df[dist_col]))\n",
    "print(\"\\n\")\n",
    "\n",
    "#Returns index of distance\n",
    "print(\"Most anomalous:\", ann_dist_all_df[[dist_col]].idxmax().values[0])"
   ]
  },
  {
   "cell_type": "code",
   "execution_count": null,
   "id": "7efe03ed",
   "metadata": {},
   "outputs": [],
   "source": []
  },
  {
   "cell_type": "code",
   "execution_count": null,
   "id": "f80a60f9",
   "metadata": {},
   "outputs": [],
   "source": []
  },
  {
   "cell_type": "markdown",
   "id": "2cfdb715",
   "metadata": {},
   "source": [
    "# Smallest"
   ]
  },
  {
   "cell_type": "code",
   "execution_count": 25,
   "id": "24243e51",
   "metadata": {},
   "outputs": [
    {
     "data": {
      "text/plain": [
       "key_0\n",
       "ZTF18aajbkjd    0.175028\n",
       "ZTF18aazfgwg    0.198585\n",
       "ZTF18abbxiyp    0.214409\n",
       "ZTF17aaakpsh    0.214845\n",
       "ZTF18aammdpz    0.214893\n",
       "ZTF18aaabbiy    0.216387\n",
       "ZTF17aaawell    0.217589\n",
       "ZTF18aaocogj    0.217695\n",
       "ZTF18aanylcu    0.233051\n",
       "ZTF18aabgzpz    0.240805\n",
       "Name: WeightedMean_9ANNs, dtype: float64"
      ]
     },
     "execution_count": 25,
     "metadata": {},
     "output_type": "execute_result"
    }
   ],
   "source": [
    "ann_dist_all_df[dist_col].nsmallest(10)"
   ]
  },
  {
   "cell_type": "code",
   "execution_count": 26,
   "id": "ed987904",
   "metadata": {},
   "outputs": [
    {
     "data": {
      "text/markdown": [
       "https://alerce.online/object/ZTF18aajbkjd"
      ]
     },
     "metadata": {},
     "output_type": "display_data"
    },
    {
     "name": "stdout",
     "output_type": "stream",
     "text": [
      "None\n"
     ]
    },
    {
     "data": {
      "text/markdown": [
       "https://alerce.online/object/ZTF18aazfgwg"
      ]
     },
     "metadata": {},
     "output_type": "display_data"
    },
    {
     "name": "stdout",
     "output_type": "stream",
     "text": [
      "None\n"
     ]
    },
    {
     "data": {
      "text/markdown": [
       "https://alerce.online/object/ZTF18abbxiyp"
      ]
     },
     "metadata": {},
     "output_type": "display_data"
    },
    {
     "name": "stdout",
     "output_type": "stream",
     "text": [
      "None\n"
     ]
    },
    {
     "data": {
      "text/markdown": [
       "https://alerce.online/object/ZTF17aaakpsh"
      ]
     },
     "metadata": {},
     "output_type": "display_data"
    },
    {
     "name": "stdout",
     "output_type": "stream",
     "text": [
      "None\n"
     ]
    },
    {
     "data": {
      "text/markdown": [
       "https://alerce.online/object/ZTF18aammdpz"
      ]
     },
     "metadata": {},
     "output_type": "display_data"
    },
    {
     "name": "stdout",
     "output_type": "stream",
     "text": [
      "None\n"
     ]
    },
    {
     "data": {
      "text/markdown": [
       "https://alerce.online/object/ZTF18aaabbiy"
      ]
     },
     "metadata": {},
     "output_type": "display_data"
    },
    {
     "name": "stdout",
     "output_type": "stream",
     "text": [
      "None\n"
     ]
    },
    {
     "data": {
      "text/markdown": [
       "https://alerce.online/object/ZTF17aaawell"
      ]
     },
     "metadata": {},
     "output_type": "display_data"
    },
    {
     "name": "stdout",
     "output_type": "stream",
     "text": [
      "None\n"
     ]
    },
    {
     "data": {
      "text/markdown": [
       "https://alerce.online/object/ZTF18aaocogj"
      ]
     },
     "metadata": {},
     "output_type": "display_data"
    },
    {
     "name": "stdout",
     "output_type": "stream",
     "text": [
      "None\n"
     ]
    },
    {
     "data": {
      "text/markdown": [
       "https://alerce.online/object/ZTF18aanylcu"
      ]
     },
     "metadata": {},
     "output_type": "display_data"
    },
    {
     "name": "stdout",
     "output_type": "stream",
     "text": [
      "None\n"
     ]
    },
    {
     "data": {
      "text/markdown": [
       "https://alerce.online/object/ZTF18aabgzpz"
      ]
     },
     "metadata": {},
     "output_type": "display_data"
    },
    {
     "name": "stdout",
     "output_type": "stream",
     "text": [
      "None\n"
     ]
    }
   ],
   "source": [
    "# 10 smallest  distances (most similar)\n",
    "for ztfid in list(ann_dist_all_df[dist_col].nsmallest(10).index):\n",
    "    alerce_link = display_markdown(f'https://alerce.online/object/{ztfid}', raw=True)\n",
    "    print(alerce_link)"
   ]
  },
  {
   "cell_type": "code",
   "execution_count": 27,
   "id": "3975ffec",
   "metadata": {},
   "outputs": [
    {
     "name": "stdout",
     "output_type": "stream",
     "text": [
      "[1.1118625653029304 0.12331166720092647 0.10570753651886555\n",
      " 0.6402488779149158 -0.35557959818478063 -0.16107721243456172\n",
      " 0.15184382852038836 0.043895148420201216 0.16591806528415\n",
      " 0.061709937280242405 -0.06970626507748322 -0.14513182380372283\n",
      " 0.09721903590152826 -0.02447349043846434 0.059234863904678865\n",
      " -0.041097730556227605 0.021433951460325232 0.03547606554172384\n",
      " -0.029114927807384203 -0.08524534764875627 -0.029834146839599594\n",
      " 0.09438887607187782 -0.009030806494299323 0.08039103730652616\n",
      " 0.04529645833351538]\n",
      "ZTF ID name (ref) ZTF18aajbkjd\n"
     ]
    },
    {
     "data": {
      "text/markdown": [
       "https://alerce.online/object/ZTF18aajbkjd"
      ]
     },
     "metadata": {},
     "output_type": "display_data"
    },
    {
     "name": "stdout",
     "output_type": "stream",
     "text": [
      "None\n",
      "%%%%%%\n",
      "ANN\t\tIDX\t\t\t\tZTF_id\t\t\t\tDIST\n"
     ]
    },
    {
     "data": {
      "text/markdown": [
       "https://alerce.online/object/ZTF18aajbkjd"
      ]
     },
     "metadata": {},
     "output_type": "display_data"
    },
    {
     "name": "stdout",
     "output_type": "stream",
     "text": [
      "0\t\t9673\t\t\t\tNone\t\t\t0.0\n"
     ]
    },
    {
     "data": {
      "text/markdown": [
       "https://alerce.online/object/ZTF18aajbkjd"
      ]
     },
     "metadata": {},
     "output_type": "display_data"
    },
    {
     "name": "stdout",
     "output_type": "stream",
     "text": [
      "1\t\t56487\t\t\t\tNone\t\t\t0.0352\n"
     ]
    },
    {
     "data": {
      "text/markdown": [
       "https://alerce.online/object/ZTF18aaxuyls"
      ]
     },
     "metadata": {},
     "output_type": "display_data"
    },
    {
     "name": "stdout",
     "output_type": "stream",
     "text": [
      "2\t\t2220\t\t\t\tNone\t\t\t0.2417\n"
     ]
    },
    {
     "data": {
      "text/markdown": [
       "https://alerce.online/object/ZTF18aavqrxt"
      ]
     },
     "metadata": {},
     "output_type": "display_data"
    },
    {
     "name": "stdout",
     "output_type": "stream",
     "text": [
      "3\t\t2423\t\t\t\tNone\t\t\t0.26\n"
     ]
    },
    {
     "data": {
      "text/markdown": [
       "https://alerce.online/object/ZTF17aaawfrs"
      ]
     },
     "metadata": {},
     "output_type": "display_data"
    },
    {
     "name": "stdout",
     "output_type": "stream",
     "text": [
      "4\t\t42025\t\t\t\tNone\t\t\t0.2788\n"
     ]
    },
    {
     "data": {
      "text/markdown": [
       "https://alerce.online/object/ZTF18abedbto"
      ]
     },
     "metadata": {},
     "output_type": "display_data"
    },
    {
     "name": "stdout",
     "output_type": "stream",
     "text": [
      "5\t\t72638\t\t\t\tNone\t\t\t0.2883\n"
     ]
    },
    {
     "data": {
      "text/markdown": [
       "https://alerce.online/object/ZTF18abedbto"
      ]
     },
     "metadata": {},
     "output_type": "display_data"
    },
    {
     "name": "stdout",
     "output_type": "stream",
     "text": [
      "6\t\t89221\t\t\t\tNone\t\t\t0.2932\n"
     ]
    },
    {
     "data": {
      "text/markdown": [
       "https://alerce.online/object/ZTF18aaiojpk"
      ]
     },
     "metadata": {},
     "output_type": "display_data"
    },
    {
     "name": "stdout",
     "output_type": "stream",
     "text": [
      "7\t\t34187\t\t\t\tNone\t\t\t0.2978\n"
     ]
    },
    {
     "data": {
      "text/markdown": [
       "https://alerce.online/object/ZTF18aaoebtu"
      ]
     },
     "metadata": {},
     "output_type": "display_data"
    },
    {
     "name": "stdout",
     "output_type": "stream",
     "text": [
      "8\t\t49198\t\t\t\tNone\t\t\t0.3\n"
     ]
    },
    {
     "data": {
      "text/markdown": [
       "https://alerce.online/object/ZTF18aaxuyew"
      ]
     },
     "metadata": {},
     "output_type": "display_data"
    },
    {
     "name": "stdout",
     "output_type": "stream",
     "text": [
      "9\t\t54959\t\t\t\tNone\t\t\t0.3016\n"
     ]
    }
   ],
   "source": [
    "dataset_ref = dataset_bank[dataset_bank.index == list(ann_dist_all_df[dist_col].nsmallest(10).index)[0]]\n",
    "\n",
    "# feat_arr_ref = np.vstack(np.array(dataset_ref, dtype='object'))\n",
    "# scaled_feat_arr_ref = scaler.transform(feat_arr_ref) #scaler.transform(feat_arr) # What your model learns on\n",
    "# #scaled_feat_arr_ref = scaler.fit_transform(feat_arr_ref) #scaler.transform(feat_arr) # What your model learns on\n",
    "\n",
    "# # Scalar then PCA\n",
    "# scaled_feat_arr_ref = np.array(dataset_ref)\n",
    "\n",
    "# PCA only\n",
    "feat_arr_ref = np.vstack(np.array(dataset_ref, dtype='object'))\n",
    "scaled_feat_arr_ref = feat_arr_ref\n",
    "\n",
    "# #PCA then scaler\n",
    "# feat_arr_ref = np.vstack(np.array(dataset_ref, dtype='object'))\n",
    "# scaled_feat_arr_ref = feat_arr_ref\n",
    "\n",
    "\n",
    "snid = dataset_ref.index.values[0]\n",
    "lcdata = {'name': snid, 'vector': scaled_feat_arr_ref[0]}\n",
    "#lcdata = {'name': ztf_id, 'vector': feat_arr_scaled[-5:-4][0]}\n",
    "print(lcdata['vector'])\n",
    "\n",
    "#result_id, result_dist = index.index.get_nns_by_item(, n=10, include_distances=True)\n",
    "result_id, result_dist = index.index.get_nns_by_vector(lcdata['vector'], n=10, include_distances=True)\n",
    "#result_name = index.query(lcdata['vector'])\n",
    "\n",
    "print(f\"ZTF ID name (ref) {snid}\") \n",
    "link_ref = display_markdown(f'https://alerce.online/object/{snid}', raw=True)\n",
    "print(link_ref)\n",
    "print(\"%%%%%%\")\n",
    "print(\"ANN\\t\\tIDX\\t\\t\\t\\tZTF_id\\t\\t\\t\\tDIST\")#\\tFEAT\")\n",
    "for n, (i, d) in enumerate(zip(result_id, result_dist)):#, feat_arr):\n",
    "    print(f\"{n}\\t\\t{i}\\t\\t\\t\\t{display_markdown(f'https://alerce.online/object/{idx_arr[i]}', raw=True)}\\t\\t\\t{round(d, 4)}\")#\\t{f}\")"
   ]
  },
  {
   "cell_type": "code",
   "execution_count": null,
   "id": "d765b6a3",
   "metadata": {},
   "outputs": [],
   "source": []
  },
  {
   "cell_type": "code",
   "execution_count": 28,
   "id": "17b88f59",
   "metadata": {},
   "outputs": [],
   "source": [
    "# dist ANN=1 and mean of first 9 ANN are roughly same (SN, CV, Mira, etc). \n",
    "# Not as many SN (but otherwise similar as above) in weighted (fibonacci) average of first 9 ANN.\n",
    "# Separation will come down to host gal info"
   ]
  },
  {
   "cell_type": "markdown",
   "id": "51d21e85",
   "metadata": {},
   "source": [
    "MaxAbsScaler, Euclidean, Ia\n",
    "\n",
    "NON PCA\n",
    "Scatter mean: 0.10822062189269697\n",
    "Scatter median: 0.08390001702324312\n",
    "Scatter std: 0.09273033952967297\n",
    "Scatter max: 0.3615067063860504\n",
    "Scatter min: 0.0\n",
    "\n",
    "PCA\n",
    "Scatter mean: 0.22748059656595504\n",
    "Scatter median: 0.23485067052158148\n",
    "Scatter std: 0.08590310140277316\n",
    "Scatter max: 0.3552833440373228\n",
    "Scatter min: 0.013447031738069838"
   ]
  },
  {
   "cell_type": "markdown",
   "id": "60f4fb5b",
   "metadata": {},
   "source": [
    "MaxAbsScaler, Euclidean, SLSN\n",
    "\n",
    "Scatter mean: 0.1882023265906344\n",
    "Scatter median: 0.14632144856515017\n",
    "Scatter std: 0.1839875260098897\n",
    "Scatter max: 1.046586348913336\n",
    "Scatter min: 0.006225538066605167"
   ]
  },
  {
   "cell_type": "markdown",
   "id": "19a21ecd",
   "metadata": {},
   "source": [
    "MaxAbsScaler, Euclidean, junk\n",
    "\n",
    "Scatter mean: 0.18480675721201786\n",
    "Scatter median: 0.14364864210180578\n",
    "Scatter std: 0.208412667064402\n",
    "Scatter max: 1.2017613918543555\n",
    "Scatter min: 0.002740342445819787"
   ]
  },
  {
   "cell_type": "code",
   "execution_count": null,
   "id": "ac80119c",
   "metadata": {},
   "outputs": [],
   "source": []
  }
 ],
 "metadata": {
  "kernelspec": {
   "display_name": "laiss",
   "language": "python",
   "name": "laiss"
  },
  "language_info": {
   "codemirror_mode": {
    "name": "ipython",
    "version": 3
   },
   "file_extension": ".py",
   "mimetype": "text/x-python",
   "name": "python",
   "nbconvert_exporter": "python",
   "pygments_lexer": "ipython3",
   "version": "3.8.8"
  }
 },
 "nbformat": 4,
 "nbformat_minor": 5
}
