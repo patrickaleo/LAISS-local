{
 "cells": [
  {
   "cell_type": "code",
   "execution_count": 8,
   "id": "29728950",
   "metadata": {},
   "outputs": [],
   "source": [
    "import time\n",
    "import numpy as np\n",
    "import matplotlib.pyplot as plt\n",
    "import pandas as pd\n",
    "import pickle\n",
    "\n",
    "import os\n",
    "import sys\n",
    "import annoy\n",
    "from annoy import AnnoyIndex\n",
    "import random\n",
    "\n",
    "\n",
    "\n",
    "from IPython.display import display_markdown\n",
    "\n",
    "from collections import Counter\n",
    "\n",
    "from sklearn import preprocessing\n",
    "from sklearn.metrics import confusion_matrix, ConfusionMatrixDisplay\n",
    "from sklearn.metrics import classification_report\n",
    "from sklearn.impute import SimpleImputer\n",
    "from sklearn.preprocessing import StandardScaler\n",
    "from sklearn.preprocessing import MinMaxScaler\n",
    "from scipy.spatial import cKDTree\n",
    "from sklearn.decomposition import PCA\n",
    "\n",
    "\n",
    "\n"
   ]
  },
  {
   "cell_type": "code",
   "execution_count": 85,
   "id": "37b800f4",
   "metadata": {},
   "outputs": [],
   "source": [
    "class AnnoyIndex():\n",
    "    def __init__(self, vectors, labels, metric):\n",
    "        self.dimension = vectors.shape[1]\n",
    "        self.vectors = vectors.astype('float32')\n",
    "        self.labels = labels    \n",
    "        self.metric= metric\n",
    "   \n",
    "    def build(self, number_of_trees=100):\n",
    "        self.index = annoy.AnnoyIndex(self.dimension, self.metric)\n",
    "        for i, vec in enumerate(self.vectors):\n",
    "            self.index.add_item(i, vec.tolist())\n",
    "        self.index.build(number_of_trees)\n",
    "        \n",
    "    def query(self, vector, k=1000):\n",
    "        indices = self.index.get_nns_by_vector(\n",
    "              vector.tolist(), \n",
    "              k, \n",
    "              search_k=-1)                                           \n",
    "        return [self.labels[i] for i in indices]\n",
    "    \n",
    "# From 106 available features from Kostya's lc_feature_extractor, use the 82 from SNAD Miner paper \n",
    "# R and g bands\n",
    "feature_names_r_g = ['feature_amplitude_magn_r', \n",
    "                         'feature_anderson_darling_normal_magn_r',\n",
    "                         'feature_beyond_1_std_magn_r', \n",
    "                         'feature_beyond_2_std_magn_r',\n",
    "                         'feature_cusum_magn_r', \n",
    "                         #'feature_eta_e_magn_r',\n",
    "                         'feature_inter_percentile_range_2_magn_r',\n",
    "                         'feature_inter_percentile_range_10_magn_r',\n",
    "                         'feature_inter_percentile_range_25_magn_r', \n",
    "                         'feature_kurtosis_magn_r',\n",
    "                         'feature_linear_fit_slope_magn_r',\n",
    "                         'feature_linear_fit_slope_sigma_magn_r',\n",
    "                         #'feature_linear_fit_reduced_chi2_magn_r', \n",
    "                         'feature_linear_trend_magn_r',\n",
    "                         'feature_linear_trend_sigma_magn_r',\n",
    "                         'feature_magnitude_percentage_ratio_40_5_magn_r',\n",
    "                         'feature_magnitude_percentage_ratio_20_5_magn_r',\n",
    "                         #'feature_maximum_slope_magn_r',\n",
    "                         'feature_mean_magn_r',\n",
    "                         'feature_median_absolute_deviation_magn_r',\n",
    "                         'feature_percent_amplitude_magn_r',\n",
    "                         'feature_median_buffer_range_percentage_10_magn_r',\n",
    "                         'feature_median_buffer_range_percentage_20_magn_r',\n",
    "                         'feature_percent_difference_magnitude_percentile_5_magn_r',\n",
    "                         'feature_percent_difference_magnitude_percentile_10_magn_r',\n",
    "                         #'feature_period_0_magn_r',  # should be negated\n",
    "                         'feature_period_s_to_n_0_magn_r',\n",
    "                         #'feature_period_1_magn_r', \n",
    "                         'feature_period_s_to_n_1_magn_r',\n",
    "                         #'feature_period_2_magn_r', \n",
    "                         'feature_period_s_to_n_2_magn_r',\n",
    "                         #'feature_period_3_magn_r', \n",
    "                         'feature_period_s_to_n_3_magn_r',\n",
    "                         #'feature_period_4_magn_r', \n",
    "                         'feature_period_s_to_n_4_magn_r',\n",
    "                         #'feature_periodogram_amplitude_magn_r',\n",
    "                         'feature_periodogram_beyond_2_std_magn_r',\n",
    "                         'feature_periodogram_beyond_3_std_magn_r',\n",
    "                         'feature_periodogram_standard_deviation_magn_r', \n",
    "                         #'feature_chi2_magn_r',\n",
    "                         'feature_skew_magn_r', \n",
    "                         'feature_standard_deviation_magn_r',\n",
    "                         'feature_stetson_k_magn_r',\n",
    "                         'feature_weighted_mean_magn_r',\n",
    "                         'feature_anderson_darling_normal_flux_r', \n",
    "                         'feature_cusum_flux_r',\n",
    "                         #'feature_eta_e_flux_r', \n",
    "                         'feature_excess_variance_flux_r',\n",
    "                         'feature_kurtosis_flux_r', \n",
    "                         'feature_mean_variance_flux_r',\n",
    "                         #'feature_chi2_flux_r', \n",
    "                         'feature_skew_flux_r',\n",
    "                         'feature_stetson_k_flux_r',\n",
    "\n",
    "                         'feature_amplitude_magn_g', \n",
    "                         'feature_anderson_darling_normal_magn_g',\n",
    "                         'feature_beyond_1_std_magn_g', \n",
    "                         'feature_beyond_2_std_magn_g',\n",
    "                         'feature_cusum_magn_g', \n",
    "                         #'feature_eta_e_magn_g',\n",
    "                         'feature_inter_percentile_range_2_magn_g',\n",
    "                         'feature_inter_percentile_range_10_magn_g',\n",
    "                         'feature_inter_percentile_range_25_magn_g', \n",
    "                         'feature_kurtosis_magn_g',\n",
    "                         'feature_linear_fit_slope_magn_g',\n",
    "                         'feature_linear_fit_slope_sigma_magn_g',\n",
    "                         #'feature_linear_fit_reduced_chi2_magn_g', \n",
    "                         'feature_linear_trend_magn_g',\n",
    "                         'feature_linear_trend_sigma_magn_g',\n",
    "                         'feature_magnitude_percentage_ratio_40_5_magn_g',\n",
    "                         'feature_magnitude_percentage_ratio_20_5_magn_g',\n",
    "                         #'feature_maximum_slope_magn_g', \n",
    "                         'feature_mean_magn_g',\n",
    "                         'feature_median_absolute_deviation_magn_g',\n",
    "                         'feature_median_buffer_range_percentage_10_magn_g',\n",
    "                         'feature_median_buffer_range_percentage_20_magn_g',\n",
    "                         'feature_percent_amplitude_magn_g',\n",
    "                         'feature_percent_difference_magnitude_percentile_5_magn_g',\n",
    "                         'feature_percent_difference_magnitude_percentile_10_magn_g',\n",
    "                         #'feature_period_0_magn_g',  # should be negated\n",
    "                         'feature_period_s_to_n_0_magn_g',\n",
    "                         #'feature_period_1_magn_g', \n",
    "                         'feature_period_s_to_n_1_magn_g',\n",
    "                         #'feature_period_2_magn_g', \n",
    "                         'feature_period_s_to_n_2_magn_g',\n",
    "                         #'feature_period_3_magn_g', \n",
    "                         'feature_period_s_to_n_3_magn_g',\n",
    "                         #'feature_period_4_magn_g', \n",
    "                         'feature_period_s_to_n_4_magn_g',\n",
    "                         #'feature_periodogram_amplitude_magn_g',\n",
    "                         'feature_periodogram_beyond_2_std_magn_g',\n",
    "                         'feature_periodogram_beyond_3_std_magn_g',\n",
    "                         'feature_periodogram_standard_deviation_magn_g', \n",
    "                         #'feature_chi2_magn_g',\n",
    "                         'feature_skew_magn_g', \n",
    "                         'feature_standard_deviation_magn_g',\n",
    "                         'feature_stetson_k_magn_g', \n",
    "                         'feature_weighted_mean_magn_g',\n",
    "                         'feature_anderson_darling_normal_flux_g', \n",
    "                         'feature_cusum_flux_g',\n",
    "                         #'feature_eta_e_flux_g', \n",
    "                         'feature_excess_variance_flux_g',\n",
    "                         'feature_kurtosis_flux_g', \n",
    "                         'feature_mean_variance_flux_g',\n",
    "                         #'feature_chi2_flux_g', \n",
    "                         'feature_skew_flux_g',\n",
    "                         'feature_stetson_k_flux_g'] \n",
    "    \n",
    "ztf_id_and_features_r_g = ['Unnamed: 0'] + ['locus_id', 'ra', 'dec',\\\n",
    "                            'tags', 'catalogs', 'ztf_object_id', 'ztf_ssnamenr', 'num_alerts',\\\n",
    "                            'num_mag_values', 'oldest_alert_id', 'oldest_alert_magnitude',\\\n",
    "                            'oldest_alert_observation_time', 'newest_alert_id',\\\n",
    "                            'newest_alert_magnitude', 'newest_alert_observation_time',\\\n",
    "                            'brightest_alert_id', 'brightest_alert_magnitude', \\\n",
    "                            'brightest_alert_observation_time'] + feature_names_r_g +\\\n",
    "                        ['horizons_targetname', 'anomaly', 'anom_score', 'anomaly_score',\\\n",
    "                         'anomaly_mask', 'anomaly_type', 'is_corrected', 'vpdf_extreme_version',\\\n",
    "                         'vpdf_extreme_faint', 'vpdf_extreme_bright', 'locus_gal_l', 'locus_gal_b']\n",
    "\n",
    "\n",
    "feature_names_hostgal = [\n",
    "#  'Unnamed: 0',\n",
    "#  'level_0',\n",
    "#  'index',\n",
    "#  'objName',\n",
    "#  'objAltName1',\n",
    "#  'objAltName2',\n",
    "#  'objAltName3',\n",
    "#  'objID',\n",
    "#  'uniquePspsOBid',\n",
    "#  'ippObjID',\n",
    "#  'surveyID',\n",
    "#  'htmID',\n",
    "#  'zoneID',\n",
    "#  'tessID',\n",
    "#  'projectionID',\n",
    "#  'skyCellID',\n",
    "#  'randomID',\n",
    "#  'batchID',\n",
    "#  'dvoRegionID',\n",
    "#  'processingVersion',\n",
    "#  'objInfoFlag',\n",
    "#  'qualityFlag',\n",
    "#  'raStack',\n",
    "#  'decStack',\n",
    "#  'raStackErr',\n",
    "#  'decStackErr',\n",
    "#  'raMean',\n",
    "#  'decMean',\n",
    "#  'raMeanErr',\n",
    "#  'decMeanErr',\n",
    "#  'epochMean',\n",
    "#  'posMeanChisq',\n",
    "#  'cx',\n",
    "#  'cy',\n",
    "#  'cz',\n",
    "#  'lambda',\n",
    "#  'beta',\n",
    "#  'l',\n",
    "#  'b',\n",
    "#  'nStackObjectRows',\n",
    "#  'nStackDetections',\n",
    "#  'nDetections',\n",
    "#  'ng',\n",
    "#  'nr',\n",
    "#  'ni',\n",
    "#  'nz',\n",
    "#  'ny',\n",
    "#  'uniquePspsSTid',\n",
    "#  'primaryDetection',\n",
    "#  'bestDetection',\n",
    "#  'gippDetectID',\n",
    "#  'gstackDetectID',\n",
    "#  'gstackImageID',\n",
    "#  'gra',\n",
    "#  'gdec',\n",
    "#  'graErr',\n",
    "#  'gdecErr',\n",
    "#  'gEpoch',\n",
    "#  'gPSFMag',\n",
    "#  'gPSFMagErr',\n",
    "#  'gApMag',\n",
    "#  'gApMagErr',\n",
    "#  'gKronMag',\n",
    "#  'gKronMagErr',\n",
    "#  'ginfoFlag',\n",
    "#  'ginfoFlag2',\n",
    "#  'ginfoFlag3',\n",
    "#  'gnFrames',\n",
    "#  'gxPos',\n",
    "#  'gyPos',\n",
    "#  'gxPosErr',\n",
    "#  'gyPosErr',\n",
    "#  'gpsfMajorFWHM',\n",
    "#  'gpsfMinorFWHM',\n",
    "#  'gpsfTheta',\n",
    "#  'gpsfCore',\n",
    "#  'gpsfLikelihood',\n",
    "#  'gpsfQf',\n",
    "#  'gpsfQfPerfect',\n",
    "#  'gpsfChiSq',\n",
    " 'gmomentXX',\n",
    " 'gmomentXY',\n",
    " 'gmomentYY',\n",
    " 'gmomentR1',\n",
    " 'gmomentRH',\n",
    " 'gPSFFlux',\n",
    "#  'gPSFFluxErr',\n",
    " 'gApFlux',\n",
    "#  'gApFluxErr',\n",
    "#  'gApFillFac',\n",
    "#  'gApRadius',\n",
    " 'gKronFlux',\n",
    "#  'gKronFluxErr',\n",
    " 'gKronRad',\n",
    "#  'gexpTime',\n",
    " 'gExtNSigma',\n",
    "#  'gsky',\n",
    "#  'gskyErr',\n",
    "#  'gzp',\n",
    "#  'gPlateScale',\n",
    "#  'rippDetectID',\n",
    "#  'rstackDetectID',\n",
    "#  'rstackImageID',\n",
    "#  'rra',\n",
    "#  'rdec',\n",
    "#  'rraErr',\n",
    "#  'rdecErr',\n",
    "#  'rEpoch',\n",
    "# 'rPSFMag',\n",
    "#  'rPSFMagErr',\n",
    "# 'rApMag',\n",
    "#  'rApMagErr',\n",
    "# 'rKronMag',\n",
    "#  'rKronMagErr',\n",
    "#  'rinfoFlag',\n",
    "#  'rinfoFlag2',\n",
    "#  'rinfoFlag3',\n",
    "#  'rnFrames',\n",
    "#  'rxPos',\n",
    "#  'ryPos',\n",
    "#  'rxPosErr',\n",
    "#  'ryPosErr',\n",
    "#  'rpsfMajorFWHM',\n",
    "#  'rpsfMinorFWHM',\n",
    "#  'rpsfTheta',\n",
    "#  'rpsfCore',\n",
    "#  'rpsfLikelihood',\n",
    "#  'rpsfQf',\n",
    "#  'rpsfQfPerfect',\n",
    "#  'rpsfChiSq',\n",
    " 'rmomentXX',\n",
    " 'rmomentXY',\n",
    " 'rmomentYY',\n",
    " 'rmomentR1',\n",
    " 'rmomentRH',\n",
    "'rPSFFlux',\n",
    "#  'rPSFFluxErr',\n",
    "'rApFlux',\n",
    "#  'rApFluxErr',\n",
    "#  'rApFillFac',\n",
    "# 'rApRadius',\n",
    "'rKronFlux',\n",
    "#  'rKronFluxErr',\n",
    "'rKronRad',\n",
    "#  'rexpTime',\n",
    " 'rExtNSigma',\n",
    "#  'rsky',\n",
    "#  'rskyErr',\n",
    "#  'rzp',\n",
    "#  'rPlateScale',\n",
    "#  'iippDetectID',\n",
    "#  'istackDetectID',\n",
    "#  'istackImageID',\n",
    "#  'ira',\n",
    "#  'idec',\n",
    "#  'iraErr',\n",
    "#  'idecErr',\n",
    "#  'iEpoch',\n",
    "#  'iPSFMag',\n",
    "#  'iPSFMagErr',\n",
    "#  'iApMag',\n",
    "#  'iApMagErr',\n",
    "#  'iKronMag',\n",
    "#  'iKronMagErr',\n",
    "#  'iinfoFlag',\n",
    "#  'iinfoFlag2',\n",
    "#  'iinfoFlag3',\n",
    "#  'inFrames',\n",
    "#  'ixPos',\n",
    "#  'iyPos',\n",
    "#  'ixPosErr',\n",
    "#  'iyPosErr',\n",
    "#  'ipsfMajorFWHM',\n",
    "#  'ipsfMinorFWHM',\n",
    "#  'ipsfTheta',\n",
    "#  'ipsfCore',\n",
    "#  'ipsfLikelihood',\n",
    "#  'ipsfQf',\n",
    "#  'ipsfQfPerfect',\n",
    "#  'ipsfChiSq',\n",
    "  'imomentXX',\n",
    " 'imomentXY',\n",
    " 'imomentYY',\n",
    " 'imomentR1',\n",
    " 'imomentRH',\n",
    " 'iPSFFlux',\n",
    "#  'iPSFFluxErr',\n",
    " 'iApFlux',\n",
    "#  'iApFluxErr',\n",
    "#  'iApFillFac',\n",
    "#  'iApRadius',\n",
    " 'iKronFlux',\n",
    "#  'iKronFluxErr',\n",
    " 'iKronRad',\n",
    "#  'iexpTime',\n",
    "  'iExtNSigma',\n",
    "#  'isky',\n",
    "#  'iskyErr',\n",
    "#  'izp',\n",
    "#  'iPlateScale',\n",
    "#  'zippDetectID',\n",
    "#  'zstackDetectID',\n",
    "#  'zstackImageID',\n",
    "#  'zra',\n",
    "#  'zdec',\n",
    "#  'zraErr',\n",
    "#  'zdecErr',\n",
    "#  'zEpoch',\n",
    "#  'zPSFMag',\n",
    "#  'zPSFMagErr',\n",
    "#  'zApMag',\n",
    "#  'zApMagErr',\n",
    "#  'zKronMag',\n",
    "#  'zKronMagErr',\n",
    "#  'zinfoFlag',\n",
    "#  'zinfoFlag2',\n",
    "#  'zinfoFlag3',\n",
    "#  'znFrames',\n",
    "#  'zxPos',\n",
    "#  'zyPos',\n",
    "#  'zxPosErr',\n",
    "#  'zyPosErr',\n",
    "#  'zpsfMajorFWHM',\n",
    "#  'zpsfMinorFWHM',\n",
    "#  'zpsfTheta',\n",
    "#  'zpsfCore',\n",
    "#  'zpsfLikelihood',\n",
    "#  'zpsfQf',\n",
    "#  'zpsfQfPerfect',\n",
    "#  'zpsfChiSq',\n",
    "  'zmomentXX',\n",
    " 'zmomentXY',\n",
    " 'zmomentYY',\n",
    " 'zmomentR1',\n",
    " 'zmomentRH',\n",
    " 'zPSFFlux',\n",
    "#  'zPSFFluxErr',\n",
    " 'zApFlux',\n",
    "#  'zApFluxErr',\n",
    "#  'zApFillFac',\n",
    "#  'zApRadius',\n",
    " 'zKronFlux',\n",
    "#  'zKronFluxErr',\n",
    " 'zKronRad',\n",
    "#  'zexpTime',\n",
    "  'zExtNSigma',\n",
    "#  'zsky',\n",
    "#  'zskyErr',\n",
    "#  'zzp',\n",
    "#  'zPlateScale',\n",
    "#  'yippDetectID',\n",
    "#  'ystackDetectID',\n",
    "#  'ystackImageID',\n",
    "#  'yra',\n",
    "#  'ydec',\n",
    "#  'yraErr',\n",
    "#  'ydecErr',\n",
    "#  'yEpoch',\n",
    "#  'yPSFMag',\n",
    "#  'yPSFMagErr',\n",
    "#  'yApMag',\n",
    "#  'yApMagErr',\n",
    "#  'yKronMag',\n",
    "#  'yKronMagErr',\n",
    "#  'yinfoFlag',\n",
    "#  'yinfoFlag2',\n",
    "#  'yinfoFlag3',\n",
    "#  'ynFrames',\n",
    "#  'yxPos',\n",
    "#  'yyPos',\n",
    "#  'yxPosErr',\n",
    "#  'yyPosErr',\n",
    "#  'ypsfMajorFWHM',\n",
    "#  'ypsfMinorFWHM',\n",
    "#  'ypsfTheta',\n",
    "#  'ypsfCore',\n",
    "#  'ypsfLikelihood',\n",
    "#  'ypsfQf',\n",
    "#  'ypsfQfPerfect',\n",
    "#  'ypsfChiSq',\n",
    "  'ymomentXX',\n",
    "  'ymomentXY',\n",
    "  'ymomentYY',\n",
    "  'ymomentR1',\n",
    "  'ymomentRH',\n",
    "  'yPSFFlux',\n",
    "#   'yPSFFluxErr',\n",
    "  'yApFlux',\n",
    "#   'yApFluxErr',\n",
    "#   'yApFillFac',\n",
    "#  'yApRadius',\n",
    " 'yKronFlux',\n",
    "#  'yKronFluxErr',\n",
    " 'yKronRad',\n",
    "#  'yexpTime',\n",
    "  'yExtNSigma',\n",
    "#  'ysky',\n",
    "#  'yskyErr',\n",
    "#  'yzp',\n",
    "#  'yPlateScale',\n",
    "#  'distance',\n",
    "#  'SkyMapper_StarClass',\n",
    "#  'gelong',\n",
    "#  'g_a',\n",
    "#  'g_b',\n",
    "#  'g_pa',\n",
    "#  'relong',\n",
    "#  'r_a',\n",
    "#  'r_b',\n",
    "#  'r_pa',\n",
    "#  'ielong',\n",
    "#  'i_a',\n",
    "#  'i_b',\n",
    "#  'i_pa',\n",
    "#  'zelong',\n",
    "#  'z_a',\n",
    "#  'z_b',\n",
    "#  'z_pa',\n",
    "   'i-z', # try throwing in\n",
    "#    'g-r',\n",
    "#    'r-i',\n",
    "#    'g-i',\n",
    "#    'z-y',\n",
    "#   'g-rErr',\n",
    "#   'r-iErr',\n",
    "#   'i-zErr',\n",
    "#   'z-yErr',\n",
    " 'gApMag_gKronMag',\n",
    " 'rApMag_rKronMag',\n",
    " 'iApMag_iKronMag',\n",
    " 'zApMag_zKronMag',\n",
    " 'yApMag_yKronMag',\n",
    " '7DCD', \n",
    "#  'NED_name',\n",
    "#  'NED_type',\n",
    "#  'NED_vel',\n",
    "#  'NED_redshift',\n",
    "#  'NED_mag',\n",
    "#  'class',\n",
    "   'dist/DLR',\n",
    "#   'dist',\n",
    "#  'TransientClass',\n",
    "#  'TransientRA',\n",
    "#  'TransientDEC'\n",
    "   ]\n",
    "\n",
    "lc_and_host_features = feature_names_r_g+feature_names_hostgal"
   ]
  },
  {
   "cell_type": "code",
   "execution_count": 92,
   "id": "039204c5",
   "metadata": {},
   "outputs": [
    {
     "name": "stderr",
     "output_type": "stream",
     "text": [
      "/Users/patrickaleo/miniconda3/envs/laiss/lib/python3.8/site-packages/IPython/core/interactiveshell.py:3169: DtypeWarning: Columns (7,125,129,130,131,132,133,134) have mixed types.Specify dtype option on import or set low_memory=False.\n",
      "  has_raised = await self.run_ast_nodes(code_ast.body, cell_name,\n"
     ]
    },
    {
     "data": {
      "text/html": [
       "<div>\n",
       "<style scoped>\n",
       "    .dataframe tbody tr th:only-of-type {\n",
       "        vertical-align: middle;\n",
       "    }\n",
       "\n",
       "    .dataframe tbody tr th {\n",
       "        vertical-align: top;\n",
       "    }\n",
       "\n",
       "    .dataframe thead th {\n",
       "        text-align: right;\n",
       "    }\n",
       "</style>\n",
       "<table border=\"1\" class=\"dataframe\">\n",
       "  <thead>\n",
       "    <tr style=\"text-align: right;\">\n",
       "      <th></th>\n",
       "      <th>Unnamed: 0</th>\n",
       "      <th>locus_id</th>\n",
       "      <th>ra</th>\n",
       "      <th>dec</th>\n",
       "      <th>tags</th>\n",
       "      <th>catalogs</th>\n",
       "      <th>ztf_ssnamenr</th>\n",
       "      <th>num_alerts</th>\n",
       "      <th>num_mag_values</th>\n",
       "      <th>oldest_alert_id</th>\n",
       "      <th>...</th>\n",
       "      <th>anom_score</th>\n",
       "      <th>anomaly_score</th>\n",
       "      <th>anomaly_mask</th>\n",
       "      <th>anomaly_type</th>\n",
       "      <th>is_corrected</th>\n",
       "      <th>vpdf_extreme_version</th>\n",
       "      <th>vpdf_extreme_faint</th>\n",
       "      <th>vpdf_extreme_bright</th>\n",
       "      <th>locus_gal_l</th>\n",
       "      <th>locus_gal_b</th>\n",
       "    </tr>\n",
       "    <tr>\n",
       "      <th>TransientName</th>\n",
       "      <th></th>\n",
       "      <th></th>\n",
       "      <th></th>\n",
       "      <th></th>\n",
       "      <th></th>\n",
       "      <th></th>\n",
       "      <th></th>\n",
       "      <th></th>\n",
       "      <th></th>\n",
       "      <th></th>\n",
       "      <th></th>\n",
       "      <th></th>\n",
       "      <th></th>\n",
       "      <th></th>\n",
       "      <th></th>\n",
       "      <th></th>\n",
       "      <th></th>\n",
       "      <th></th>\n",
       "      <th></th>\n",
       "      <th></th>\n",
       "      <th></th>\n",
       "    </tr>\n",
       "  </thead>\n",
       "  <tbody>\n",
       "    <tr>\n",
       "      <th>ZTF20acpdyyq</th>\n",
       "      <td>6</td>\n",
       "      <td>ANT2020rajqu</td>\n",
       "      <td>33.976088</td>\n",
       "      <td>-20.258905</td>\n",
       "      <td>['lc_feature_extractor']</td>\n",
       "      <td>['allwise', 'gaia_dr2', '2mass_psc', 'bright_g...</td>\n",
       "      <td>NaN</td>\n",
       "      <td>137</td>\n",
       "      <td>35</td>\n",
       "      <td>ztf_candidate:993481181415010007</td>\n",
       "      <td>...</td>\n",
       "      <td>NaN</td>\n",
       "      <td>NaN</td>\n",
       "      <td>NaN</td>\n",
       "      <td>NaN</td>\n",
       "      <td>NaN</td>\n",
       "      <td>NaN</td>\n",
       "      <td>NaN</td>\n",
       "      <td>NaN</td>\n",
       "      <td>197.881532</td>\n",
       "      <td>-69.513571</td>\n",
       "    </tr>\n",
       "    <tr>\n",
       "      <th>ZTF18acfvwwa</th>\n",
       "      <td>39</td>\n",
       "      <td>ANT2020pc6ko</td>\n",
       "      <td>35.639509</td>\n",
       "      <td>32.833982</td>\n",
       "      <td>['lc_feature_extractor']</td>\n",
       "      <td>['allwise', 'gaia_dr2', '2mass_psc', 'bright_g...</td>\n",
       "      <td>NaN</td>\n",
       "      <td>659</td>\n",
       "      <td>88</td>\n",
       "      <td>ztf_candidate:943483942915015010</td>\n",
       "      <td>...</td>\n",
       "      <td>NaN</td>\n",
       "      <td>NaN</td>\n",
       "      <td>NaN</td>\n",
       "      <td>NaN</td>\n",
       "      <td>NaN</td>\n",
       "      <td>NaN</td>\n",
       "      <td>NaN</td>\n",
       "      <td>NaN</td>\n",
       "      <td>144.200342</td>\n",
       "      <td>-26.246909</td>\n",
       "    </tr>\n",
       "    <tr>\n",
       "      <th>ZTF17aaaskvj</th>\n",
       "      <td>58</td>\n",
       "      <td>ANT2020rdpmm</td>\n",
       "      <td>28.015003</td>\n",
       "      <td>36.953217</td>\n",
       "      <td>['lc_feature_extractor']</td>\n",
       "      <td>['allwise', 'csdr2', 'gaia_dr2', '2mass_psc', ...</td>\n",
       "      <td>NaN</td>\n",
       "      <td>1497</td>\n",
       "      <td>579</td>\n",
       "      <td>ztf_candidate:598425334815010002</td>\n",
       "      <td>...</td>\n",
       "      <td>NaN</td>\n",
       "      <td>NaN</td>\n",
       "      <td>NaN</td>\n",
       "      <td>NaN</td>\n",
       "      <td>NaN</td>\n",
       "      <td>NaN</td>\n",
       "      <td>NaN</td>\n",
       "      <td>NaN</td>\n",
       "      <td>136.189482</td>\n",
       "      <td>-24.352953</td>\n",
       "    </tr>\n",
       "    <tr>\n",
       "      <th>ZTF18aczbnhl</th>\n",
       "      <td>97</td>\n",
       "      <td>ANT2019dsk24</td>\n",
       "      <td>85.049145</td>\n",
       "      <td>-11.013302</td>\n",
       "      <td>['lc_feature_extractor']</td>\n",
       "      <td>['allwise', 'gaia_dr2', '2mass_psc', 'bright_g...</td>\n",
       "      <td>NaN</td>\n",
       "      <td>105</td>\n",
       "      <td>12</td>\n",
       "      <td>ztf_candidate:718232301815010005</td>\n",
       "      <td>...</td>\n",
       "      <td>NaN</td>\n",
       "      <td>NaN</td>\n",
       "      <td>NaN</td>\n",
       "      <td>NaN</td>\n",
       "      <td>NaN</td>\n",
       "      <td>NaN</td>\n",
       "      <td>NaN</td>\n",
       "      <td>NaN</td>\n",
       "      <td>214.961559</td>\n",
       "      <td>-20.751422</td>\n",
       "    </tr>\n",
       "    <tr>\n",
       "      <th>ZTF18actbhqt</th>\n",
       "      <td>98</td>\n",
       "      <td>ANT202066j3s</td>\n",
       "      <td>75.082443</td>\n",
       "      <td>-11.302676</td>\n",
       "      <td>['lc_feature_extractor']</td>\n",
       "      <td>['allwise', 'gaia_dr2', '2mass_psc', 'bright_g...</td>\n",
       "      <td>NaN</td>\n",
       "      <td>89</td>\n",
       "      <td>14</td>\n",
       "      <td>ztf_candidate:702289832715010026</td>\n",
       "      <td>...</td>\n",
       "      <td>NaN</td>\n",
       "      <td>NaN</td>\n",
       "      <td>NaN</td>\n",
       "      <td>NaN</td>\n",
       "      <td>NaN</td>\n",
       "      <td>NaN</td>\n",
       "      <td>NaN</td>\n",
       "      <td>NaN</td>\n",
       "      <td>210.690974</td>\n",
       "      <td>-29.741520</td>\n",
       "    </tr>\n",
       "    <tr>\n",
       "      <th>...</th>\n",
       "      <td>...</td>\n",
       "      <td>...</td>\n",
       "      <td>...</td>\n",
       "      <td>...</td>\n",
       "      <td>...</td>\n",
       "      <td>...</td>\n",
       "      <td>...</td>\n",
       "      <td>...</td>\n",
       "      <td>...</td>\n",
       "      <td>...</td>\n",
       "      <td>...</td>\n",
       "      <td>...</td>\n",
       "      <td>...</td>\n",
       "      <td>...</td>\n",
       "      <td>...</td>\n",
       "      <td>...</td>\n",
       "      <td>...</td>\n",
       "      <td>...</td>\n",
       "      <td>...</td>\n",
       "      <td>...</td>\n",
       "      <td>...</td>\n",
       "    </tr>\n",
       "    <tr>\n",
       "      <th>ZTF18adairvu</th>\n",
       "      <td>999924</td>\n",
       "      <td>ANT2020ro626</td>\n",
       "      <td>84.348727</td>\n",
       "      <td>-2.927551</td>\n",
       "      <td>['lc_feature_extractor']</td>\n",
       "      <td>['allwise', 'gaia_dr2', '2mass_psc', 'bright_g...</td>\n",
       "      <td>NaN</td>\n",
       "      <td>96</td>\n",
       "      <td>10</td>\n",
       "      <td>ztf_candidate:722282332515010003</td>\n",
       "      <td>...</td>\n",
       "      <td>NaN</td>\n",
       "      <td>NaN</td>\n",
       "      <td>NaN</td>\n",
       "      <td>NaN</td>\n",
       "      <td>NaN</td>\n",
       "      <td>NaN</td>\n",
       "      <td>NaN</td>\n",
       "      <td>NaN</td>\n",
       "      <td>206.956641</td>\n",
       "      <td>-17.786773</td>\n",
       "    </tr>\n",
       "    <tr>\n",
       "      <th>ZTF20aaiwhct</th>\n",
       "      <td>999926</td>\n",
       "      <td>ANT2020pxghw</td>\n",
       "      <td>64.146691</td>\n",
       "      <td>-1.656598</td>\n",
       "      <td>['dimmers', 'lc_feature_extractor']</td>\n",
       "      <td>['gaia_dr2', 'bright_guide_star_cat', 'allwise']</td>\n",
       "      <td>NaN</td>\n",
       "      <td>86</td>\n",
       "      <td>35</td>\n",
       "      <td>ztf_candidate:1113204944015010026</td>\n",
       "      <td>...</td>\n",
       "      <td>NaN</td>\n",
       "      <td>NaN</td>\n",
       "      <td>NaN</td>\n",
       "      <td>TBD</td>\n",
       "      <td>NaN</td>\n",
       "      <td>NaN</td>\n",
       "      <td>NaN</td>\n",
       "      <td>NaN</td>\n",
       "      <td>194.540371</td>\n",
       "      <td>-34.719753</td>\n",
       "    </tr>\n",
       "    <tr>\n",
       "      <th>ZTF20aberawv</th>\n",
       "      <td>999927</td>\n",
       "      <td>ANT2020aebbk</td>\n",
       "      <td>292.910293</td>\n",
       "      <td>54.078978</td>\n",
       "      <td>['lc_feature_extractor', 'dimmers']</td>\n",
       "      <td>[]</td>\n",
       "      <td>NaN</td>\n",
       "      <td>235</td>\n",
       "      <td>96</td>\n",
       "      <td>ztf_candidate:1231482062015010023</td>\n",
       "      <td>...</td>\n",
       "      <td>NaN</td>\n",
       "      <td>0.417276</td>\n",
       "      <td>Fail</td>\n",
       "      <td>TBD</td>\n",
       "      <td>NaN</td>\n",
       "      <td>NaN</td>\n",
       "      <td>NaN</td>\n",
       "      <td>NaN</td>\n",
       "      <td>85.961850</td>\n",
       "      <td>16.149525</td>\n",
       "    </tr>\n",
       "    <tr>\n",
       "      <th>ZTF21abhjyor</th>\n",
       "      <td>999964</td>\n",
       "      <td>ANT2020aeedowi</td>\n",
       "      <td>323.724711</td>\n",
       "      <td>31.249401</td>\n",
       "      <td>['lc_feature_extractor']</td>\n",
       "      <td>[]</td>\n",
       "      <td>NaN</td>\n",
       "      <td>118</td>\n",
       "      <td>19</td>\n",
       "      <td>ztf_candidate:1358283950415015003</td>\n",
       "      <td>...</td>\n",
       "      <td>NaN</td>\n",
       "      <td>NaN</td>\n",
       "      <td>NaN</td>\n",
       "      <td>TBD</td>\n",
       "      <td>NaN</td>\n",
       "      <td>NaN</td>\n",
       "      <td>NaN</td>\n",
       "      <td>NaN</td>\n",
       "      <td>80.880513</td>\n",
       "      <td>-15.145608</td>\n",
       "    </tr>\n",
       "    <tr>\n",
       "      <th>ZTF18acfdttb</th>\n",
       "      <td>999987</td>\n",
       "      <td>ANT2020fc5ny</td>\n",
       "      <td>295.091491</td>\n",
       "      <td>55.660204</td>\n",
       "      <td>['lc_feature_extractor', 'dimmers']</td>\n",
       "      <td>['2mass_psc', 'allwise', 'gaia_dr2', 'bright_g...</td>\n",
       "      <td>NaN</td>\n",
       "      <td>290</td>\n",
       "      <td>14</td>\n",
       "      <td>ztf_candidate:966286933415010005</td>\n",
       "      <td>...</td>\n",
       "      <td>NaN</td>\n",
       "      <td>NaN</td>\n",
       "      <td>NaN</td>\n",
       "      <td>TBD</td>\n",
       "      <td>NaN</td>\n",
       "      <td>NaN</td>\n",
       "      <td>NaN</td>\n",
       "      <td>NaN</td>\n",
       "      <td>88.001492</td>\n",
       "      <td>15.672646</td>\n",
       "    </tr>\n",
       "  </tbody>\n",
       "</table>\n",
       "<p>85355 rows × 112 columns</p>\n",
       "</div>"
      ],
      "text/plain": [
       "               Unnamed: 0        locus_id          ra        dec  \\\n",
       "TransientName                                                      \n",
       "ZTF20acpdyyq            6    ANT2020rajqu   33.976088 -20.258905   \n",
       "ZTF18acfvwwa           39    ANT2020pc6ko   35.639509  32.833982   \n",
       "ZTF17aaaskvj           58    ANT2020rdpmm   28.015003  36.953217   \n",
       "ZTF18aczbnhl           97    ANT2019dsk24   85.049145 -11.013302   \n",
       "ZTF18actbhqt           98    ANT202066j3s   75.082443 -11.302676   \n",
       "...                   ...             ...         ...        ...   \n",
       "ZTF18adairvu       999924    ANT2020ro626   84.348727  -2.927551   \n",
       "ZTF20aaiwhct       999926    ANT2020pxghw   64.146691  -1.656598   \n",
       "ZTF20aberawv       999927    ANT2020aebbk  292.910293  54.078978   \n",
       "ZTF21abhjyor       999964  ANT2020aeedowi  323.724711  31.249401   \n",
       "ZTF18acfdttb       999987    ANT2020fc5ny  295.091491  55.660204   \n",
       "\n",
       "                                              tags  \\\n",
       "TransientName                                        \n",
       "ZTF20acpdyyq              ['lc_feature_extractor']   \n",
       "ZTF18acfvwwa              ['lc_feature_extractor']   \n",
       "ZTF17aaaskvj              ['lc_feature_extractor']   \n",
       "ZTF18aczbnhl              ['lc_feature_extractor']   \n",
       "ZTF18actbhqt              ['lc_feature_extractor']   \n",
       "...                                            ...   \n",
       "ZTF18adairvu              ['lc_feature_extractor']   \n",
       "ZTF20aaiwhct   ['dimmers', 'lc_feature_extractor']   \n",
       "ZTF20aberawv   ['lc_feature_extractor', 'dimmers']   \n",
       "ZTF21abhjyor              ['lc_feature_extractor']   \n",
       "ZTF18acfdttb   ['lc_feature_extractor', 'dimmers']   \n",
       "\n",
       "                                                        catalogs ztf_ssnamenr  \\\n",
       "TransientName                                                                   \n",
       "ZTF20acpdyyq   ['allwise', 'gaia_dr2', '2mass_psc', 'bright_g...          NaN   \n",
       "ZTF18acfvwwa   ['allwise', 'gaia_dr2', '2mass_psc', 'bright_g...          NaN   \n",
       "ZTF17aaaskvj   ['allwise', 'csdr2', 'gaia_dr2', '2mass_psc', ...          NaN   \n",
       "ZTF18aczbnhl   ['allwise', 'gaia_dr2', '2mass_psc', 'bright_g...          NaN   \n",
       "ZTF18actbhqt   ['allwise', 'gaia_dr2', '2mass_psc', 'bright_g...          NaN   \n",
       "...                                                          ...          ...   \n",
       "ZTF18adairvu   ['allwise', 'gaia_dr2', '2mass_psc', 'bright_g...          NaN   \n",
       "ZTF20aaiwhct    ['gaia_dr2', 'bright_guide_star_cat', 'allwise']          NaN   \n",
       "ZTF20aberawv                                                  []          NaN   \n",
       "ZTF21abhjyor                                                  []          NaN   \n",
       "ZTF18acfdttb   ['2mass_psc', 'allwise', 'gaia_dr2', 'bright_g...          NaN   \n",
       "\n",
       "               num_alerts  num_mag_values                    oldest_alert_id  \\\n",
       "TransientName                                                                  \n",
       "ZTF20acpdyyq          137              35   ztf_candidate:993481181415010007   \n",
       "ZTF18acfvwwa          659              88   ztf_candidate:943483942915015010   \n",
       "ZTF17aaaskvj         1497             579   ztf_candidate:598425334815010002   \n",
       "ZTF18aczbnhl          105              12   ztf_candidate:718232301815010005   \n",
       "ZTF18actbhqt           89              14   ztf_candidate:702289832715010026   \n",
       "...                   ...             ...                                ...   \n",
       "ZTF18adairvu           96              10   ztf_candidate:722282332515010003   \n",
       "ZTF20aaiwhct           86              35  ztf_candidate:1113204944015010026   \n",
       "ZTF20aberawv          235              96  ztf_candidate:1231482062015010023   \n",
       "ZTF21abhjyor          118              19  ztf_candidate:1358283950415015003   \n",
       "ZTF18acfdttb          290              14   ztf_candidate:966286933415010005   \n",
       "\n",
       "               ...  anom_score  anomaly_score anomaly_mask  anomaly_type  \\\n",
       "TransientName  ...                                                         \n",
       "ZTF20acpdyyq   ...         NaN            NaN          NaN           NaN   \n",
       "ZTF18acfvwwa   ...         NaN            NaN          NaN           NaN   \n",
       "ZTF17aaaskvj   ...         NaN            NaN          NaN           NaN   \n",
       "ZTF18aczbnhl   ...         NaN            NaN          NaN           NaN   \n",
       "ZTF18actbhqt   ...         NaN            NaN          NaN           NaN   \n",
       "...            ...         ...            ...          ...           ...   \n",
       "ZTF18adairvu   ...         NaN            NaN          NaN           NaN   \n",
       "ZTF20aaiwhct   ...         NaN            NaN          NaN           TBD   \n",
       "ZTF20aberawv   ...         NaN       0.417276         Fail           TBD   \n",
       "ZTF21abhjyor   ...         NaN            NaN          NaN           TBD   \n",
       "ZTF18acfdttb   ...         NaN            NaN          NaN           TBD   \n",
       "\n",
       "               is_corrected vpdf_extreme_version  vpdf_extreme_faint  \\\n",
       "TransientName                                                          \n",
       "ZTF20acpdyyq            NaN                  NaN                 NaN   \n",
       "ZTF18acfvwwa            NaN                  NaN                 NaN   \n",
       "ZTF17aaaskvj            NaN                  NaN                 NaN   \n",
       "ZTF18aczbnhl            NaN                  NaN                 NaN   \n",
       "ZTF18actbhqt            NaN                  NaN                 NaN   \n",
       "...                     ...                  ...                 ...   \n",
       "ZTF18adairvu            NaN                  NaN                 NaN   \n",
       "ZTF20aaiwhct            NaN                  NaN                 NaN   \n",
       "ZTF20aberawv            NaN                  NaN                 NaN   \n",
       "ZTF21abhjyor            NaN                  NaN                 NaN   \n",
       "ZTF18acfdttb            NaN                  NaN                 NaN   \n",
       "\n",
       "               vpdf_extreme_bright  locus_gal_l  locus_gal_b  \n",
       "TransientName                                                 \n",
       "ZTF20acpdyyq                   NaN   197.881532   -69.513571  \n",
       "ZTF18acfvwwa                   NaN   144.200342   -26.246909  \n",
       "ZTF17aaaskvj                   NaN   136.189482   -24.352953  \n",
       "ZTF18aczbnhl                   NaN   214.961559   -20.751422  \n",
       "ZTF18actbhqt                   NaN   210.690974   -29.741520  \n",
       "...                            ...          ...          ...  \n",
       "ZTF18adairvu                   NaN   206.956641   -17.786773  \n",
       "ZTF20aaiwhct                   NaN   194.540371   -34.719753  \n",
       "ZTF20aberawv                   NaN    85.961850    16.149525  \n",
       "ZTF21abhjyor                   NaN    80.880513   -15.145608  \n",
       "ZTF18acfdttb                   NaN    88.001492    15.672646  \n",
       "\n",
       "[85355 rows x 112 columns]"
      ]
     },
     "execution_count": 92,
     "metadata": {},
     "output_type": "execute_result"
    }
   ],
   "source": [
    "dataset_bank_90k = pd.read_csv('../loci_dbs/loci_df_271688objects_cut_stars_and_gal_plane_transf.csv', \n",
    "                                   compression='gzip',\n",
    "                                   usecols=lambda c: c in ztf_id_and_features_r_g,)\n",
    "                                  #)\n",
    "        \n",
    "# drop row if any feature values are nan\n",
    "dataset_bank_90k = dataset_bank_90k[~dataset_bank_90k[feature_names_r_g].isnull().any(axis=1)]\n",
    "\n",
    "#mask = (dataset_bank['num_mag_values'] >= 40) #& (dataset_bank['num_mag_values'] <= 40)\n",
    "#dataset_bank = dataset_bank[mask]\n",
    "dataset_bank_90k.drop_duplicates(subset=\"ztf_object_id\", keep='first', inplace=True)\n",
    "dataset_bank_90k = dataset_bank_90k.set_index('ztf_object_id')\n",
    "dataset_bank_90k.index.rename(\"TransientName\", inplace=True)\n",
    "dataset_bank_90k"
   ]
  },
  {
   "cell_type": "code",
   "execution_count": 129,
   "id": "58f8db28",
   "metadata": {},
   "outputs": [
    {
     "data": {
      "text/html": [
       "<div>\n",
       "<style scoped>\n",
       "    .dataframe tbody tr th:only-of-type {\n",
       "        vertical-align: middle;\n",
       "    }\n",
       "\n",
       "    .dataframe tbody tr th {\n",
       "        vertical-align: top;\n",
       "    }\n",
       "\n",
       "    .dataframe thead th {\n",
       "        text-align: right;\n",
       "    }\n",
       "</style>\n",
       "<table border=\"1\" class=\"dataframe\">\n",
       "  <thead>\n",
       "    <tr style=\"text-align: right;\">\n",
       "      <th></th>\n",
       "      <th>objName</th>\n",
       "      <th>objAltName1</th>\n",
       "      <th>objAltName2</th>\n",
       "      <th>objAltName3</th>\n",
       "      <th>objID</th>\n",
       "      <th>uniquePspsOBid</th>\n",
       "      <th>ippObjID</th>\n",
       "      <th>surveyID</th>\n",
       "      <th>htmID</th>\n",
       "      <th>zoneID</th>\n",
       "      <th>...</th>\n",
       "      <th>primaryDetection_y</th>\n",
       "      <th>gpetR90</th>\n",
       "      <th>rpetR90</th>\n",
       "      <th>ipetR90</th>\n",
       "      <th>zpetR90</th>\n",
       "      <th>ypetR90</th>\n",
       "      <th>NED_redshift_flag</th>\n",
       "      <th>hasSimbad</th>\n",
       "      <th>class</th>\n",
       "      <th>level_0</th>\n",
       "    </tr>\n",
       "    <tr>\n",
       "      <th>TransientName</th>\n",
       "      <th></th>\n",
       "      <th></th>\n",
       "      <th></th>\n",
       "      <th></th>\n",
       "      <th></th>\n",
       "      <th></th>\n",
       "      <th></th>\n",
       "      <th></th>\n",
       "      <th></th>\n",
       "      <th></th>\n",
       "      <th></th>\n",
       "      <th></th>\n",
       "      <th></th>\n",
       "      <th></th>\n",
       "      <th></th>\n",
       "      <th></th>\n",
       "      <th></th>\n",
       "      <th></th>\n",
       "      <th></th>\n",
       "      <th></th>\n",
       "      <th></th>\n",
       "    </tr>\n",
       "  </thead>\n",
       "  <tbody>\n",
       "    <tr>\n",
       "      <th>AT2019ye</th>\n",
       "      <td>PSO J135804.487+203809.056</td>\n",
       "      <td>NaN</td>\n",
       "      <td>NaN</td>\n",
       "      <td>NaN</td>\n",
       "      <td>132762095186853570</td>\n",
       "      <td>916270000024592</td>\n",
       "      <td>143378893266959</td>\n",
       "      <td>0</td>\n",
       "      <td>14931762990582</td>\n",
       "      <td>13276</td>\n",
       "      <td>...</td>\n",
       "      <td>NaN</td>\n",
       "      <td>NaN</td>\n",
       "      <td>NaN</td>\n",
       "      <td>NaN</td>\n",
       "      <td>NaN</td>\n",
       "      <td>NaN</td>\n",
       "      <td>NaN</td>\n",
       "      <td>NaN</td>\n",
       "      <td>NaN</td>\n",
       "      <td>NaN</td>\n",
       "    </tr>\n",
       "    <tr>\n",
       "      <th>SN2018ajl</th>\n",
       "      <td>PSO J190429.931+465408.150</td>\n",
       "      <td>NaN</td>\n",
       "      <td>NaN</td>\n",
       "      <td>NaN</td>\n",
       "      <td>164282861247243384</td>\n",
       "      <td>980181000018761</td>\n",
       "      <td>286229505526092</td>\n",
       "      <td>0</td>\n",
       "      <td>14030330328091</td>\n",
       "      <td>16428</td>\n",
       "      <td>...</td>\n",
       "      <td>NaN</td>\n",
       "      <td>NaN</td>\n",
       "      <td>NaN</td>\n",
       "      <td>NaN</td>\n",
       "      <td>NaN</td>\n",
       "      <td>NaN</td>\n",
       "      <td>NaN</td>\n",
       "      <td>NaN</td>\n",
       "      <td>NaN</td>\n",
       "      <td>NaN</td>\n",
       "    </tr>\n",
       "    <tr>\n",
       "      <th>SN2018avp</th>\n",
       "      <td>PSO J130026.839+183711.266</td>\n",
       "      <td>NaN</td>\n",
       "      <td>NaN</td>\n",
       "      <td>NaN</td>\n",
       "      <td>130341951118084283</td>\n",
       "      <td>908497000031128</td>\n",
       "      <td>142408230664599</td>\n",
       "      <td>0</td>\n",
       "      <td>15113135908185</td>\n",
       "      <td>13034</td>\n",
       "      <td>...</td>\n",
       "      <td>NaN</td>\n",
       "      <td>NaN</td>\n",
       "      <td>NaN</td>\n",
       "      <td>NaN</td>\n",
       "      <td>NaN</td>\n",
       "      <td>NaN</td>\n",
       "      <td>NaN</td>\n",
       "      <td>NaN</td>\n",
       "      <td>NaN</td>\n",
       "      <td>NaN</td>\n",
       "    </tr>\n",
       "    <tr>\n",
       "      <th>SN2018big</th>\n",
       "      <td>PSO J172538.410+592648.115</td>\n",
       "      <td>NaN</td>\n",
       "      <td>NaN</td>\n",
       "      <td>NaN</td>\n",
       "      <td>179332614100166803</td>\n",
       "      <td>964525000048937</td>\n",
       "      <td>310173948231464</td>\n",
       "      <td>0</td>\n",
       "      <td>14734825883801</td>\n",
       "      <td>17933</td>\n",
       "      <td>...</td>\n",
       "      <td>NaN</td>\n",
       "      <td>NaN</td>\n",
       "      <td>NaN</td>\n",
       "      <td>NaN</td>\n",
       "      <td>NaN</td>\n",
       "      <td>NaN</td>\n",
       "      <td>NaN</td>\n",
       "      <td>NaN</td>\n",
       "      <td>NaN</td>\n",
       "      <td>NaN</td>\n",
       "    </tr>\n",
       "    <tr>\n",
       "      <th>SN2018ccp</th>\n",
       "      <td>PSO J173213.761+360428.339</td>\n",
       "      <td>NaN</td>\n",
       "      <td>NaN</td>\n",
       "      <td>NaN</td>\n",
       "      <td>151292630573220037</td>\n",
       "      <td>966054000051498</td>\n",
       "      <td>221568772917547</td>\n",
       "      <td>0</td>\n",
       "      <td>14375430020535</td>\n",
       "      <td>15129</td>\n",
       "      <td>...</td>\n",
       "      <td>NaN</td>\n",
       "      <td>NaN</td>\n",
       "      <td>NaN</td>\n",
       "      <td>NaN</td>\n",
       "      <td>NaN</td>\n",
       "      <td>NaN</td>\n",
       "      <td>NaN</td>\n",
       "      <td>NaN</td>\n",
       "      <td>NaN</td>\n",
       "      <td>NaN</td>\n",
       "    </tr>\n",
       "    <tr>\n",
       "      <th>...</th>\n",
       "      <td>...</td>\n",
       "      <td>...</td>\n",
       "      <td>...</td>\n",
       "      <td>...</td>\n",
       "      <td>...</td>\n",
       "      <td>...</td>\n",
       "      <td>...</td>\n",
       "      <td>...</td>\n",
       "      <td>...</td>\n",
       "      <td>...</td>\n",
       "      <td>...</td>\n",
       "      <td>...</td>\n",
       "      <td>...</td>\n",
       "      <td>...</td>\n",
       "      <td>...</td>\n",
       "      <td>...</td>\n",
       "      <td>...</td>\n",
       "      <td>...</td>\n",
       "      <td>...</td>\n",
       "      <td>...</td>\n",
       "      <td>...</td>\n",
       "    </tr>\n",
       "    <tr>\n",
       "      <th>ZTF21abrpphg</th>\n",
       "      <td>PSO J012315.346-020430.584</td>\n",
       "      <td>NaN</td>\n",
       "      <td>NaN</td>\n",
       "      <td>NaN</td>\n",
       "      <td>105510208138990094</td>\n",
       "      <td>923091000058397</td>\n",
       "      <td>363143779902493</td>\n",
       "      <td>0</td>\n",
       "      <td>9019856366630</td>\n",
       "      <td>10551</td>\n",
       "      <td>...</td>\n",
       "      <td>1.0</td>\n",
       "      <td>0.868907</td>\n",
       "      <td>1.93800</td>\n",
       "      <td>1.76842</td>\n",
       "      <td>2.27497</td>\n",
       "      <td>0.787416</td>\n",
       "      <td>NaN</td>\n",
       "      <td>1.0</td>\n",
       "      <td>False</td>\n",
       "      <td>NaN</td>\n",
       "    </tr>\n",
       "    <tr>\n",
       "      <th>ZTF21abzbiom</th>\n",
       "      <td>PSO J014950.174-051225.692</td>\n",
       "      <td>NaN</td>\n",
       "      <td>NaN</td>\n",
       "      <td>NaN</td>\n",
       "      <td>101750274590611830</td>\n",
       "      <td>928992000080203</td>\n",
       "      <td>363362823256394</td>\n",
       "      <td>0</td>\n",
       "      <td>8964315401283</td>\n",
       "      <td>10175</td>\n",
       "      <td>...</td>\n",
       "      <td>1.0</td>\n",
       "      <td>2.089700</td>\n",
       "      <td>1.93471</td>\n",
       "      <td>2.04145</td>\n",
       "      <td>1.70214</td>\n",
       "      <td>0.940182</td>\n",
       "      <td>NaN</td>\n",
       "      <td>0.0</td>\n",
       "      <td>False</td>\n",
       "      <td>NaN</td>\n",
       "    </tr>\n",
       "    <tr>\n",
       "      <th>ZTF21abzkgvc</th>\n",
       "      <td>PSO J040504.611-015727.759</td>\n",
       "      <td>NaN</td>\n",
       "      <td>NaN</td>\n",
       "      <td>NaN</td>\n",
       "      <td>105650612692451172</td>\n",
       "      <td>955206000000321</td>\n",
       "      <td>365944098521408</td>\n",
       "      <td>0</td>\n",
       "      <td>9456016936636</td>\n",
       "      <td>10565</td>\n",
       "      <td>...</td>\n",
       "      <td>1.0</td>\n",
       "      <td>4.595920</td>\n",
       "      <td>5.12260</td>\n",
       "      <td>4.62076</td>\n",
       "      <td>4.90688</td>\n",
       "      <td>4.652400</td>\n",
       "      <td>NaN</td>\n",
       "      <td>0.0</td>\n",
       "      <td>False</td>\n",
       "      <td>NaN</td>\n",
       "    </tr>\n",
       "    <tr>\n",
       "      <th>ZTF21acblxjr</th>\n",
       "      <td>PSO J020305.771+345224.941</td>\n",
       "      <td>NaN</td>\n",
       "      <td>NaN</td>\n",
       "      <td>NaN</td>\n",
       "      <td>149840307740118875</td>\n",
       "      <td>931940000011052</td>\n",
       "      <td>201464030964526</td>\n",
       "      <td>0</td>\n",
       "      <td>17341427114450</td>\n",
       "      <td>14984</td>\n",
       "      <td>...</td>\n",
       "      <td>1.0</td>\n",
       "      <td>4.292070</td>\n",
       "      <td>2.68642</td>\n",
       "      <td>2.83173</td>\n",
       "      <td>3.21635</td>\n",
       "      <td>3.318690</td>\n",
       "      <td>NaN</td>\n",
       "      <td>0.0</td>\n",
       "      <td>False</td>\n",
       "      <td>NaN</td>\n",
       "    </tr>\n",
       "    <tr>\n",
       "      <th>ZTF21acculro</th>\n",
       "      <td>PSO J015334.161+075541.823</td>\n",
       "      <td>NaN</td>\n",
       "      <td>NaN</td>\n",
       "      <td>NaN</td>\n",
       "      <td>117510283923604368</td>\n",
       "      <td>925571000051945</td>\n",
       "      <td>85697482509032</td>\n",
       "      <td>0</td>\n",
       "      <td>17164685900010</td>\n",
       "      <td>11751</td>\n",
       "      <td>...</td>\n",
       "      <td>1.0</td>\n",
       "      <td>6.755620</td>\n",
       "      <td>7.28997</td>\n",
       "      <td>6.89399</td>\n",
       "      <td>6.93990</td>\n",
       "      <td>8.187350</td>\n",
       "      <td>NaN</td>\n",
       "      <td>1.0</td>\n",
       "      <td>False</td>\n",
       "      <td>NaN</td>\n",
       "    </tr>\n",
       "  </tbody>\n",
       "</table>\n",
       "<p>7652 rows × 360 columns</p>\n",
       "</div>"
      ],
      "text/plain": [
       "                                  objName  objAltName1  objAltName2  \\\n",
       "TransientName                                                         \n",
       "AT2019ye       PSO J135804.487+203809.056          NaN          NaN   \n",
       "SN2018ajl      PSO J190429.931+465408.150          NaN          NaN   \n",
       "SN2018avp      PSO J130026.839+183711.266          NaN          NaN   \n",
       "SN2018big      PSO J172538.410+592648.115          NaN          NaN   \n",
       "SN2018ccp      PSO J173213.761+360428.339          NaN          NaN   \n",
       "...                                   ...          ...          ...   \n",
       "ZTF21abrpphg   PSO J012315.346-020430.584          NaN          NaN   \n",
       "ZTF21abzbiom   PSO J014950.174-051225.692          NaN          NaN   \n",
       "ZTF21abzkgvc   PSO J040504.611-015727.759          NaN          NaN   \n",
       "ZTF21acblxjr   PSO J020305.771+345224.941          NaN          NaN   \n",
       "ZTF21acculro   PSO J015334.161+075541.823          NaN          NaN   \n",
       "\n",
       "               objAltName3               objID   uniquePspsOBid  \\\n",
       "TransientName                                                     \n",
       "AT2019ye               NaN  132762095186853570  916270000024592   \n",
       "SN2018ajl              NaN  164282861247243384  980181000018761   \n",
       "SN2018avp              NaN  130341951118084283  908497000031128   \n",
       "SN2018big              NaN  179332614100166803  964525000048937   \n",
       "SN2018ccp              NaN  151292630573220037  966054000051498   \n",
       "...                    ...                 ...              ...   \n",
       "ZTF21abrpphg           NaN  105510208138990094  923091000058397   \n",
       "ZTF21abzbiom           NaN  101750274590611830  928992000080203   \n",
       "ZTF21abzkgvc           NaN  105650612692451172  955206000000321   \n",
       "ZTF21acblxjr           NaN  149840307740118875  931940000011052   \n",
       "ZTF21acculro           NaN  117510283923604368  925571000051945   \n",
       "\n",
       "                      ippObjID  surveyID           htmID  zoneID  ...  \\\n",
       "TransientName                                                     ...   \n",
       "AT2019ye       143378893266959         0  14931762990582   13276  ...   \n",
       "SN2018ajl      286229505526092         0  14030330328091   16428  ...   \n",
       "SN2018avp      142408230664599         0  15113135908185   13034  ...   \n",
       "SN2018big      310173948231464         0  14734825883801   17933  ...   \n",
       "SN2018ccp      221568772917547         0  14375430020535   15129  ...   \n",
       "...                        ...       ...             ...     ...  ...   \n",
       "ZTF21abrpphg   363143779902493         0   9019856366630   10551  ...   \n",
       "ZTF21abzbiom   363362823256394         0   8964315401283   10175  ...   \n",
       "ZTF21abzkgvc   365944098521408         0   9456016936636   10565  ...   \n",
       "ZTF21acblxjr   201464030964526         0  17341427114450   14984  ...   \n",
       "ZTF21acculro    85697482509032         0  17164685900010   11751  ...   \n",
       "\n",
       "               primaryDetection_y   gpetR90  rpetR90  ipetR90  zpetR90  \\\n",
       "TransientName                                                            \n",
       "AT2019ye                      NaN       NaN      NaN      NaN      NaN   \n",
       "SN2018ajl                     NaN       NaN      NaN      NaN      NaN   \n",
       "SN2018avp                     NaN       NaN      NaN      NaN      NaN   \n",
       "SN2018big                     NaN       NaN      NaN      NaN      NaN   \n",
       "SN2018ccp                     NaN       NaN      NaN      NaN      NaN   \n",
       "...                           ...       ...      ...      ...      ...   \n",
       "ZTF21abrpphg                  1.0  0.868907  1.93800  1.76842  2.27497   \n",
       "ZTF21abzbiom                  1.0  2.089700  1.93471  2.04145  1.70214   \n",
       "ZTF21abzkgvc                  1.0  4.595920  5.12260  4.62076  4.90688   \n",
       "ZTF21acblxjr                  1.0  4.292070  2.68642  2.83173  3.21635   \n",
       "ZTF21acculro                  1.0  6.755620  7.28997  6.89399  6.93990   \n",
       "\n",
       "                ypetR90  NED_redshift_flag  hasSimbad  class  level_0  \n",
       "TransientName                                                          \n",
       "AT2019ye            NaN                NaN        NaN    NaN      NaN  \n",
       "SN2018ajl           NaN                NaN        NaN    NaN      NaN  \n",
       "SN2018avp           NaN                NaN        NaN    NaN      NaN  \n",
       "SN2018big           NaN                NaN        NaN    NaN      NaN  \n",
       "SN2018ccp           NaN                NaN        NaN    NaN      NaN  \n",
       "...                 ...                ...        ...    ...      ...  \n",
       "ZTF21abrpphg   0.787416                NaN        1.0  False      NaN  \n",
       "ZTF21abzbiom   0.940182                NaN        0.0  False      NaN  \n",
       "ZTF21abzkgvc   4.652400                NaN        0.0  False      NaN  \n",
       "ZTF21acblxjr   3.318690                NaN        0.0  False      NaN  \n",
       "ZTF21acculro   8.187350                NaN        1.0  False      NaN  \n",
       "\n",
       "[7652 rows x 360 columns]"
      ]
     },
     "execution_count": 129,
     "metadata": {},
     "output_type": "execute_result"
    }
   ],
   "source": [
    "# Instead of above, read in from csv files with host gal info!\n",
    "# Visually vetted GHOST results split up over XXX files\n",
    "# So merge them\n",
    "\n",
    "dfs = []\n",
    "for start_idx, end_idx in zip(range(0, 25300, 100), range(100, 25400, 100)): #90199, 90299\n",
    "    df = pd.read_csv(f'./host_info/dataset_bank_hosts_start_idx:end_idx={start_idx}:{end_idx}.csv')\n",
    "    dfs.append(df)\n",
    "    \n",
    "g_hosts_df = pd.concat(dfs, axis=0).reset_index(drop=True)\n",
    "g_hosts_df.drop_duplicates(subset=\"TransientName\", keep='first', inplace=True)\n",
    "g_hosts_df = g_hosts_df.set_index('TransientName')\n",
    "g_hosts_df.sort_values('TransientName', inplace=True)\n",
    "#g_hosts_df.reset_index(inplace=True, drop=True)\n",
    "g_hosts_df"
   ]
  },
  {
   "cell_type": "code",
   "execution_count": 130,
   "id": "decd4754",
   "metadata": {},
   "outputs": [
    {
     "data": {
      "text/plain": [
       "7652"
      ]
     },
     "execution_count": 130,
     "metadata": {},
     "output_type": "execute_result"
    }
   ],
   "source": [
    "len(np.unique(g_hosts_df.index))"
   ]
  },
  {
   "cell_type": "code",
   "execution_count": 131,
   "id": "ae10d3a8",
   "metadata": {},
   "outputs": [
    {
     "data": {
      "text/html": [
       "<div>\n",
       "<style scoped>\n",
       "    .dataframe tbody tr th:only-of-type {\n",
       "        vertical-align: middle;\n",
       "    }\n",
       "\n",
       "    .dataframe tbody tr th {\n",
       "        vertical-align: top;\n",
       "    }\n",
       "\n",
       "    .dataframe thead th {\n",
       "        text-align: right;\n",
       "    }\n",
       "</style>\n",
       "<table border=\"1\" class=\"dataframe\">\n",
       "  <thead>\n",
       "    <tr style=\"text-align: right;\">\n",
       "      <th></th>\n",
       "      <th>Unnamed: 0</th>\n",
       "      <th>locus_id</th>\n",
       "      <th>ra</th>\n",
       "      <th>dec</th>\n",
       "      <th>tags</th>\n",
       "      <th>catalogs</th>\n",
       "      <th>ztf_ssnamenr</th>\n",
       "      <th>num_alerts</th>\n",
       "      <th>num_mag_values</th>\n",
       "      <th>oldest_alert_id</th>\n",
       "      <th>...</th>\n",
       "      <th>primaryDetection_y</th>\n",
       "      <th>gpetR90</th>\n",
       "      <th>rpetR90</th>\n",
       "      <th>ipetR90</th>\n",
       "      <th>zpetR90</th>\n",
       "      <th>ypetR90</th>\n",
       "      <th>NED_redshift_flag</th>\n",
       "      <th>hasSimbad</th>\n",
       "      <th>class</th>\n",
       "      <th>level_0</th>\n",
       "    </tr>\n",
       "    <tr>\n",
       "      <th>ztf_object_id</th>\n",
       "      <th></th>\n",
       "      <th></th>\n",
       "      <th></th>\n",
       "      <th></th>\n",
       "      <th></th>\n",
       "      <th></th>\n",
       "      <th></th>\n",
       "      <th></th>\n",
       "      <th></th>\n",
       "      <th></th>\n",
       "      <th></th>\n",
       "      <th></th>\n",
       "      <th></th>\n",
       "      <th></th>\n",
       "      <th></th>\n",
       "      <th></th>\n",
       "      <th></th>\n",
       "      <th></th>\n",
       "      <th></th>\n",
       "      <th></th>\n",
       "      <th></th>\n",
       "    </tr>\n",
       "  </thead>\n",
       "  <tbody>\n",
       "    <tr>\n",
       "      <th>ZTF20acpdyyq</th>\n",
       "      <td>6</td>\n",
       "      <td>ANT2020rajqu</td>\n",
       "      <td>33.976088</td>\n",
       "      <td>-20.258905</td>\n",
       "      <td>['lc_feature_extractor']</td>\n",
       "      <td>['allwise', 'gaia_dr2', '2mass_psc', 'bright_g...</td>\n",
       "      <td>NaN</td>\n",
       "      <td>137</td>\n",
       "      <td>35</td>\n",
       "      <td>ztf_candidate:993481181415010007</td>\n",
       "      <td>...</td>\n",
       "      <td>1.0</td>\n",
       "      <td>6.10360</td>\n",
       "      <td>4.04109</td>\n",
       "      <td>1.675730</td>\n",
       "      <td>3.49369</td>\n",
       "      <td>29.58050</td>\n",
       "      <td>NaN</td>\n",
       "      <td>0.0</td>\n",
       "      <td>False</td>\n",
       "      <td>NaN</td>\n",
       "    </tr>\n",
       "    <tr>\n",
       "      <th>ZTF18acfvwwa</th>\n",
       "      <td>39</td>\n",
       "      <td>ANT2020pc6ko</td>\n",
       "      <td>35.639509</td>\n",
       "      <td>32.833982</td>\n",
       "      <td>['lc_feature_extractor']</td>\n",
       "      <td>['allwise', 'gaia_dr2', '2mass_psc', 'bright_g...</td>\n",
       "      <td>NaN</td>\n",
       "      <td>659</td>\n",
       "      <td>88</td>\n",
       "      <td>ztf_candidate:943483942915015010</td>\n",
       "      <td>...</td>\n",
       "      <td>1.0</td>\n",
       "      <td>7.05256</td>\n",
       "      <td>1.08888</td>\n",
       "      <td>1.214940</td>\n",
       "      <td>3.95098</td>\n",
       "      <td>1.72927</td>\n",
       "      <td>NaN</td>\n",
       "      <td>0.0</td>\n",
       "      <td>False</td>\n",
       "      <td>NaN</td>\n",
       "    </tr>\n",
       "    <tr>\n",
       "      <th>ZTF17aaaskvj</th>\n",
       "      <td>58</td>\n",
       "      <td>ANT2020rdpmm</td>\n",
       "      <td>28.015003</td>\n",
       "      <td>36.953217</td>\n",
       "      <td>['lc_feature_extractor']</td>\n",
       "      <td>['allwise', 'csdr2', 'gaia_dr2', '2mass_psc', ...</td>\n",
       "      <td>NaN</td>\n",
       "      <td>1497</td>\n",
       "      <td>579</td>\n",
       "      <td>ztf_candidate:598425334815010002</td>\n",
       "      <td>...</td>\n",
       "      <td>1.0</td>\n",
       "      <td>3.99288</td>\n",
       "      <td>1.86034</td>\n",
       "      <td>0.730485</td>\n",
       "      <td>1.92726</td>\n",
       "      <td>1.96452</td>\n",
       "      <td>NaN</td>\n",
       "      <td>0.0</td>\n",
       "      <td>NaN</td>\n",
       "      <td>NaN</td>\n",
       "    </tr>\n",
       "    <tr>\n",
       "      <th>ZTF18actbhqt</th>\n",
       "      <td>98</td>\n",
       "      <td>ANT202066j3s</td>\n",
       "      <td>75.082443</td>\n",
       "      <td>-11.302676</td>\n",
       "      <td>['lc_feature_extractor']</td>\n",
       "      <td>['allwise', 'gaia_dr2', '2mass_psc', 'bright_g...</td>\n",
       "      <td>NaN</td>\n",
       "      <td>89</td>\n",
       "      <td>14</td>\n",
       "      <td>ztf_candidate:702289832715010026</td>\n",
       "      <td>...</td>\n",
       "      <td>1.0</td>\n",
       "      <td>NaN</td>\n",
       "      <td>NaN</td>\n",
       "      <td>2.092530</td>\n",
       "      <td>NaN</td>\n",
       "      <td>NaN</td>\n",
       "      <td>NaN</td>\n",
       "      <td>1.0</td>\n",
       "      <td>NaN</td>\n",
       "      <td>NaN</td>\n",
       "    </tr>\n",
       "    <tr>\n",
       "      <th>ZTF20aciscxz</th>\n",
       "      <td>100</td>\n",
       "      <td>ANT2020aegc7vi</td>\n",
       "      <td>83.973369</td>\n",
       "      <td>-9.123083</td>\n",
       "      <td>['lc_feature_extractor', 'high_flux_ratio_wrt_...</td>\n",
       "      <td>['allwise', 'bright_guide_star_cat']</td>\n",
       "      <td>NaN</td>\n",
       "      <td>48</td>\n",
       "      <td>18</td>\n",
       "      <td>ztf_candidate:1356481843915015002</td>\n",
       "      <td>...</td>\n",
       "      <td>1.0</td>\n",
       "      <td>1.05484</td>\n",
       "      <td>1.57786</td>\n",
       "      <td>1.876240</td>\n",
       "      <td>0.98579</td>\n",
       "      <td>1.65329</td>\n",
       "      <td>NaN</td>\n",
       "      <td>0.0</td>\n",
       "      <td>False</td>\n",
       "      <td>NaN</td>\n",
       "    </tr>\n",
       "    <tr>\n",
       "      <th>...</th>\n",
       "      <td>...</td>\n",
       "      <td>...</td>\n",
       "      <td>...</td>\n",
       "      <td>...</td>\n",
       "      <td>...</td>\n",
       "      <td>...</td>\n",
       "      <td>...</td>\n",
       "      <td>...</td>\n",
       "      <td>...</td>\n",
       "      <td>...</td>\n",
       "      <td>...</td>\n",
       "      <td>...</td>\n",
       "      <td>...</td>\n",
       "      <td>...</td>\n",
       "      <td>...</td>\n",
       "      <td>...</td>\n",
       "      <td>...</td>\n",
       "      <td>...</td>\n",
       "      <td>...</td>\n",
       "      <td>...</td>\n",
       "      <td>...</td>\n",
       "    </tr>\n",
       "    <tr>\n",
       "      <th>ZTF20acxfccu</th>\n",
       "      <td>326223</td>\n",
       "      <td>ANT2020afji4oq</td>\n",
       "      <td>191.351767</td>\n",
       "      <td>26.925617</td>\n",
       "      <td>['desi_target', 'nova_test', 'refitt_newsource...</td>\n",
       "      <td>['2mass_xsc']</td>\n",
       "      <td>NaN</td>\n",
       "      <td>43</td>\n",
       "      <td>21</td>\n",
       "      <td>ztf_candidate:1441508173415015002</td>\n",
       "      <td>...</td>\n",
       "      <td>1.0</td>\n",
       "      <td>6.01739</td>\n",
       "      <td>5.81578</td>\n",
       "      <td>6.103540</td>\n",
       "      <td>5.79434</td>\n",
       "      <td>5.62845</td>\n",
       "      <td>NaN</td>\n",
       "      <td>1.0</td>\n",
       "      <td>False</td>\n",
       "      <td>NaN</td>\n",
       "    </tr>\n",
       "    <tr>\n",
       "      <th>ZTF20acpjcoe</th>\n",
       "      <td>326232</td>\n",
       "      <td>ANT2020aexbg6a</td>\n",
       "      <td>330.256572</td>\n",
       "      <td>-1.151345</td>\n",
       "      <td>['high_flux_ratio_wrt_nn', 'nuclear_transient'...</td>\n",
       "      <td>['bright_guide_star_cat', 'sdss_gals']</td>\n",
       "      <td>NaN</td>\n",
       "      <td>53</td>\n",
       "      <td>33</td>\n",
       "      <td>ztf_candidate:1410128004515015003</td>\n",
       "      <td>...</td>\n",
       "      <td>1.0</td>\n",
       "      <td>2.65810</td>\n",
       "      <td>2.58869</td>\n",
       "      <td>2.343160</td>\n",
       "      <td>-2.41460</td>\n",
       "      <td>2.89477</td>\n",
       "      <td>NaN</td>\n",
       "      <td>0.0</td>\n",
       "      <td>False</td>\n",
       "      <td>NaN</td>\n",
       "    </tr>\n",
       "    <tr>\n",
       "      <th>ZTF18acpivjt</th>\n",
       "      <td>326255</td>\n",
       "      <td>ANT2020rrroe</td>\n",
       "      <td>168.085849</td>\n",
       "      <td>60.629421</td>\n",
       "      <td>['siena_mag_coord_cut', 'lc_feature_extractor']</td>\n",
       "      <td>[]</td>\n",
       "      <td>NaN</td>\n",
       "      <td>85</td>\n",
       "      <td>8</td>\n",
       "      <td>ztf_candidate:686448812215015114</td>\n",
       "      <td>...</td>\n",
       "      <td>1.0</td>\n",
       "      <td>1.96559</td>\n",
       "      <td>2.27053</td>\n",
       "      <td>2.308530</td>\n",
       "      <td>NaN</td>\n",
       "      <td>2.47489</td>\n",
       "      <td>NaN</td>\n",
       "      <td>0.0</td>\n",
       "      <td>NaN</td>\n",
       "      <td>NaN</td>\n",
       "    </tr>\n",
       "    <tr>\n",
       "      <th>ZTF20ablmwje</th>\n",
       "      <td>326289</td>\n",
       "      <td>ANT2020lwvxa</td>\n",
       "      <td>18.180390</td>\n",
       "      <td>33.540263</td>\n",
       "      <td>['dimmers', 'lc_feature_extractor']</td>\n",
       "      <td>['bright_guide_star_cat', 'allwise', 'milliqua...</td>\n",
       "      <td>NaN</td>\n",
       "      <td>113</td>\n",
       "      <td>33</td>\n",
       "      <td>ztf_candidate:1270470823915010011</td>\n",
       "      <td>...</td>\n",
       "      <td>1.0</td>\n",
       "      <td>1.79150</td>\n",
       "      <td>1.67004</td>\n",
       "      <td>1.617140</td>\n",
       "      <td>1.12724</td>\n",
       "      <td>1.26894</td>\n",
       "      <td>NaN</td>\n",
       "      <td>1.0</td>\n",
       "      <td>False</td>\n",
       "      <td>NaN</td>\n",
       "    </tr>\n",
       "    <tr>\n",
       "      <th>ZTF19aabykzt</th>\n",
       "      <td>326340</td>\n",
       "      <td>ANT2020kjy3e</td>\n",
       "      <td>159.401645</td>\n",
       "      <td>-11.527829</td>\n",
       "      <td>['lc_feature_extractor']</td>\n",
       "      <td>['allwise', 'gaia_dr2', '2mass_psc', 'bright_g...</td>\n",
       "      <td>NaN</td>\n",
       "      <td>56</td>\n",
       "      <td>9</td>\n",
       "      <td>ztf_candidate:737458792615010010</td>\n",
       "      <td>...</td>\n",
       "      <td>1.0</td>\n",
       "      <td>24.49280</td>\n",
       "      <td>NaN</td>\n",
       "      <td>2.363480</td>\n",
       "      <td>3.54609</td>\n",
       "      <td>1.26213</td>\n",
       "      <td>NaN</td>\n",
       "      <td>0.0</td>\n",
       "      <td>False</td>\n",
       "      <td>NaN</td>\n",
       "    </tr>\n",
       "  </tbody>\n",
       "</table>\n",
       "<p>7317 rows × 472 columns</p>\n",
       "</div>"
      ],
      "text/plain": [
       "               Unnamed: 0        locus_id          ra        dec  \\\n",
       "ztf_object_id                                                      \n",
       "ZTF20acpdyyq            6    ANT2020rajqu   33.976088 -20.258905   \n",
       "ZTF18acfvwwa           39    ANT2020pc6ko   35.639509  32.833982   \n",
       "ZTF17aaaskvj           58    ANT2020rdpmm   28.015003  36.953217   \n",
       "ZTF18actbhqt           98    ANT202066j3s   75.082443 -11.302676   \n",
       "ZTF20aciscxz          100  ANT2020aegc7vi   83.973369  -9.123083   \n",
       "...                   ...             ...         ...        ...   \n",
       "ZTF20acxfccu       326223  ANT2020afji4oq  191.351767  26.925617   \n",
       "ZTF20acpjcoe       326232  ANT2020aexbg6a  330.256572  -1.151345   \n",
       "ZTF18acpivjt       326255    ANT2020rrroe  168.085849  60.629421   \n",
       "ZTF20ablmwje       326289    ANT2020lwvxa   18.180390  33.540263   \n",
       "ZTF19aabykzt       326340    ANT2020kjy3e  159.401645 -11.527829   \n",
       "\n",
       "                                                            tags  \\\n",
       "ztf_object_id                                                      \n",
       "ZTF20acpdyyq                            ['lc_feature_extractor']   \n",
       "ZTF18acfvwwa                            ['lc_feature_extractor']   \n",
       "ZTF17aaaskvj                            ['lc_feature_extractor']   \n",
       "ZTF18actbhqt                            ['lc_feature_extractor']   \n",
       "ZTF20aciscxz   ['lc_feature_extractor', 'high_flux_ratio_wrt_...   \n",
       "...                                                          ...   \n",
       "ZTF20acxfccu   ['desi_target', 'nova_test', 'refitt_newsource...   \n",
       "ZTF20acpjcoe   ['high_flux_ratio_wrt_nn', 'nuclear_transient'...   \n",
       "ZTF18acpivjt     ['siena_mag_coord_cut', 'lc_feature_extractor']   \n",
       "ZTF20ablmwje                 ['dimmers', 'lc_feature_extractor']   \n",
       "ZTF19aabykzt                            ['lc_feature_extractor']   \n",
       "\n",
       "                                                        catalogs ztf_ssnamenr  \\\n",
       "ztf_object_id                                                                   \n",
       "ZTF20acpdyyq   ['allwise', 'gaia_dr2', '2mass_psc', 'bright_g...          NaN   \n",
       "ZTF18acfvwwa   ['allwise', 'gaia_dr2', '2mass_psc', 'bright_g...          NaN   \n",
       "ZTF17aaaskvj   ['allwise', 'csdr2', 'gaia_dr2', '2mass_psc', ...          NaN   \n",
       "ZTF18actbhqt   ['allwise', 'gaia_dr2', '2mass_psc', 'bright_g...          NaN   \n",
       "ZTF20aciscxz                ['allwise', 'bright_guide_star_cat']          NaN   \n",
       "...                                                          ...          ...   \n",
       "ZTF20acxfccu                                       ['2mass_xsc']          NaN   \n",
       "ZTF20acpjcoe              ['bright_guide_star_cat', 'sdss_gals']          NaN   \n",
       "ZTF18acpivjt                                                  []          NaN   \n",
       "ZTF20ablmwje   ['bright_guide_star_cat', 'allwise', 'milliqua...          NaN   \n",
       "ZTF19aabykzt   ['allwise', 'gaia_dr2', '2mass_psc', 'bright_g...          NaN   \n",
       "\n",
       "               num_alerts  num_mag_values                    oldest_alert_id  \\\n",
       "ztf_object_id                                                                  \n",
       "ZTF20acpdyyq          137              35   ztf_candidate:993481181415010007   \n",
       "ZTF18acfvwwa          659              88   ztf_candidate:943483942915015010   \n",
       "ZTF17aaaskvj         1497             579   ztf_candidate:598425334815010002   \n",
       "ZTF18actbhqt           89              14   ztf_candidate:702289832715010026   \n",
       "ZTF20aciscxz           48              18  ztf_candidate:1356481843915015002   \n",
       "...                   ...             ...                                ...   \n",
       "ZTF20acxfccu           43              21  ztf_candidate:1441508173415015002   \n",
       "ZTF20acpjcoe           53              33  ztf_candidate:1410128004515015003   \n",
       "ZTF18acpivjt           85               8   ztf_candidate:686448812215015114   \n",
       "ZTF20ablmwje          113              33  ztf_candidate:1270470823915010011   \n",
       "ZTF19aabykzt           56               9   ztf_candidate:737458792615010010   \n",
       "\n",
       "               ...  primaryDetection_y   gpetR90  rpetR90   ipetR90  zpetR90  \\\n",
       "ztf_object_id  ...                                                             \n",
       "ZTF20acpdyyq   ...                 1.0   6.10360  4.04109  1.675730  3.49369   \n",
       "ZTF18acfvwwa   ...                 1.0   7.05256  1.08888  1.214940  3.95098   \n",
       "ZTF17aaaskvj   ...                 1.0   3.99288  1.86034  0.730485  1.92726   \n",
       "ZTF18actbhqt   ...                 1.0       NaN      NaN  2.092530      NaN   \n",
       "ZTF20aciscxz   ...                 1.0   1.05484  1.57786  1.876240  0.98579   \n",
       "...            ...                 ...       ...      ...       ...      ...   \n",
       "ZTF20acxfccu   ...                 1.0   6.01739  5.81578  6.103540  5.79434   \n",
       "ZTF20acpjcoe   ...                 1.0   2.65810  2.58869  2.343160 -2.41460   \n",
       "ZTF18acpivjt   ...                 1.0   1.96559  2.27053  2.308530      NaN   \n",
       "ZTF20ablmwje   ...                 1.0   1.79150  1.67004  1.617140  1.12724   \n",
       "ZTF19aabykzt   ...                 1.0  24.49280      NaN  2.363480  3.54609   \n",
       "\n",
       "                ypetR90  NED_redshift_flag  hasSimbad  class  level_0  \n",
       "ztf_object_id                                                          \n",
       "ZTF20acpdyyq   29.58050                NaN        0.0  False      NaN  \n",
       "ZTF18acfvwwa    1.72927                NaN        0.0  False      NaN  \n",
       "ZTF17aaaskvj    1.96452                NaN        0.0    NaN      NaN  \n",
       "ZTF18actbhqt        NaN                NaN        1.0    NaN      NaN  \n",
       "ZTF20aciscxz    1.65329                NaN        0.0  False      NaN  \n",
       "...                 ...                ...        ...    ...      ...  \n",
       "ZTF20acxfccu    5.62845                NaN        1.0  False      NaN  \n",
       "ZTF20acpjcoe    2.89477                NaN        0.0  False      NaN  \n",
       "ZTF18acpivjt    2.47489                NaN        0.0    NaN      NaN  \n",
       "ZTF20ablmwje    1.26894                NaN        1.0  False      NaN  \n",
       "ZTF19aabykzt    1.26213                NaN        0.0  False      NaN  \n",
       "\n",
       "[7317 rows x 472 columns]"
      ]
     },
     "execution_count": 131,
     "metadata": {},
     "output_type": "execute_result"
    }
   ],
   "source": [
    "# merge ghost info and databank info\n",
    "\n",
    "# rename as dataset_bank\n",
    "dataset_bank = pd.merge(dataset_bank_90k, g_hosts_df, left_index=True, right_index=True, how='inner')\n",
    "dataset_bank.index.rename(\"ztf_object_id\", inplace=True)\n",
    "dataset_bank"
   ]
  },
  {
   "cell_type": "code",
   "execution_count": null,
   "id": "0fb46166",
   "metadata": {},
   "outputs": [],
   "source": []
  },
  {
   "cell_type": "code",
   "execution_count": 132,
   "id": "adadfa86",
   "metadata": {},
   "outputs": [
    {
     "data": {
      "text/html": [
       "<div>\n",
       "<style scoped>\n",
       "    .dataframe tbody tr th:only-of-type {\n",
       "        vertical-align: middle;\n",
       "    }\n",
       "\n",
       "    .dataframe tbody tr th {\n",
       "        vertical-align: top;\n",
       "    }\n",
       "\n",
       "    .dataframe thead th {\n",
       "        text-align: right;\n",
       "    }\n",
       "</style>\n",
       "<table border=\"1\" class=\"dataframe\">\n",
       "  <thead>\n",
       "    <tr style=\"text-align: right;\">\n",
       "      <th></th>\n",
       "      <th>feature_amplitude_magn_r</th>\n",
       "      <th>feature_anderson_darling_normal_magn_r</th>\n",
       "      <th>feature_beyond_1_std_magn_r</th>\n",
       "      <th>feature_beyond_2_std_magn_r</th>\n",
       "      <th>feature_cusum_magn_r</th>\n",
       "      <th>feature_inter_percentile_range_2_magn_r</th>\n",
       "      <th>feature_inter_percentile_range_10_magn_r</th>\n",
       "      <th>feature_inter_percentile_range_25_magn_r</th>\n",
       "      <th>feature_kurtosis_magn_r</th>\n",
       "      <th>feature_linear_fit_slope_magn_r</th>\n",
       "      <th>...</th>\n",
       "      <th>yKronRad</th>\n",
       "      <th>yExtNSigma</th>\n",
       "      <th>i-z</th>\n",
       "      <th>gApMag_gKronMag</th>\n",
       "      <th>rApMag_rKronMag</th>\n",
       "      <th>iApMag_iKronMag</th>\n",
       "      <th>zApMag_zKronMag</th>\n",
       "      <th>yApMag_yKronMag</th>\n",
       "      <th>7DCD</th>\n",
       "      <th>dist/DLR</th>\n",
       "    </tr>\n",
       "    <tr>\n",
       "      <th>ztf_object_id</th>\n",
       "      <th></th>\n",
       "      <th></th>\n",
       "      <th></th>\n",
       "      <th></th>\n",
       "      <th></th>\n",
       "      <th></th>\n",
       "      <th></th>\n",
       "      <th></th>\n",
       "      <th></th>\n",
       "      <th></th>\n",
       "      <th></th>\n",
       "      <th></th>\n",
       "      <th></th>\n",
       "      <th></th>\n",
       "      <th></th>\n",
       "      <th></th>\n",
       "      <th></th>\n",
       "      <th></th>\n",
       "      <th></th>\n",
       "      <th></th>\n",
       "      <th></th>\n",
       "    </tr>\n",
       "  </thead>\n",
       "  <tbody>\n",
       "    <tr>\n",
       "      <th>ZTF20acpdyyq</th>\n",
       "      <td>0.514069</td>\n",
       "      <td>-0.037026</td>\n",
       "      <td>0.230769</td>\n",
       "      <td>0.277350</td>\n",
       "      <td>0.210596</td>\n",
       "      <td>1.028137</td>\n",
       "      <td>0.606000</td>\n",
       "      <td>0.224944</td>\n",
       "      <td>2.176230</td>\n",
       "      <td>-0.001783</td>\n",
       "      <td>...</td>\n",
       "      <td>2.61862</td>\n",
       "      <td>4.821850</td>\n",
       "      <td>0.133400</td>\n",
       "      <td>-0.122499</td>\n",
       "      <td>-0.208099</td>\n",
       "      <td>-0.147800</td>\n",
       "      <td>-0.076401</td>\n",
       "      <td>-0.254801</td>\n",
       "      <td>66.227214</td>\n",
       "      <td>3.921571</td>\n",
       "    </tr>\n",
       "    <tr>\n",
       "      <th>ZTF18acfvwwa</th>\n",
       "      <td>0.593122</td>\n",
       "      <td>-0.303523</td>\n",
       "      <td>0.303030</td>\n",
       "      <td>0.246183</td>\n",
       "      <td>0.272132</td>\n",
       "      <td>1.152622</td>\n",
       "      <td>0.729088</td>\n",
       "      <td>0.356500</td>\n",
       "      <td>0.552720</td>\n",
       "      <td>0.000145</td>\n",
       "      <td>...</td>\n",
       "      <td>2.22918</td>\n",
       "      <td>1.668850</td>\n",
       "      <td>0.746799</td>\n",
       "      <td>-0.022400</td>\n",
       "      <td>-0.078699</td>\n",
       "      <td>-0.078100</td>\n",
       "      <td>-0.126400</td>\n",
       "      <td>-0.128500</td>\n",
       "      <td>10.879219</td>\n",
       "      <td>4.737505</td>\n",
       "    </tr>\n",
       "    <tr>\n",
       "      <th>ZTF20aciscxz</th>\n",
       "      <td>0.285049</td>\n",
       "      <td>-0.425467</td>\n",
       "      <td>0.384615</td>\n",
       "      <td>0.000000</td>\n",
       "      <td>0.375905</td>\n",
       "      <td>0.570099</td>\n",
       "      <td>0.455701</td>\n",
       "      <td>0.273037</td>\n",
       "      <td>-0.871550</td>\n",
       "      <td>0.001117</td>\n",
       "      <td>...</td>\n",
       "      <td>2.04419</td>\n",
       "      <td>0.370268</td>\n",
       "      <td>0.239000</td>\n",
       "      <td>-0.117100</td>\n",
       "      <td>-0.058001</td>\n",
       "      <td>-0.122601</td>\n",
       "      <td>-0.058800</td>\n",
       "      <td>-0.289900</td>\n",
       "      <td>31.205722</td>\n",
       "      <td>0.113062</td>\n",
       "    </tr>\n",
       "    <tr>\n",
       "      <th>ZTF18abdkosj</th>\n",
       "      <td>1.776150</td>\n",
       "      <td>-0.175299</td>\n",
       "      <td>0.200000</td>\n",
       "      <td>0.000000</td>\n",
       "      <td>0.353906</td>\n",
       "      <td>3.552299</td>\n",
       "      <td>3.552299</td>\n",
       "      <td>1.268549</td>\n",
       "      <td>2.222622</td>\n",
       "      <td>0.005808</td>\n",
       "      <td>...</td>\n",
       "      <td>7.00214</td>\n",
       "      <td>34.046101</td>\n",
       "      <td>0.083700</td>\n",
       "      <td>0.687300</td>\n",
       "      <td>0.689600</td>\n",
       "      <td>0.746500</td>\n",
       "      <td>0.728600</td>\n",
       "      <td>0.830700</td>\n",
       "      <td>15.107083</td>\n",
       "      <td>4.124426</td>\n",
       "    </tr>\n",
       "    <tr>\n",
       "      <th>ZTF18abrcoty</th>\n",
       "      <td>0.072900</td>\n",
       "      <td>-0.738972</td>\n",
       "      <td>0.250000</td>\n",
       "      <td>0.000000</td>\n",
       "      <td>0.358274</td>\n",
       "      <td>0.145800</td>\n",
       "      <td>0.145800</td>\n",
       "      <td>0.092799</td>\n",
       "      <td>1.468299</td>\n",
       "      <td>0.004197</td>\n",
       "      <td>...</td>\n",
       "      <td>8.49324</td>\n",
       "      <td>25.945101</td>\n",
       "      <td>0.101501</td>\n",
       "      <td>1.296299</td>\n",
       "      <td>1.073200</td>\n",
       "      <td>1.217402</td>\n",
       "      <td>1.265799</td>\n",
       "      <td>1.170100</td>\n",
       "      <td>20.028593</td>\n",
       "      <td>0.130795</td>\n",
       "    </tr>\n",
       "    <tr>\n",
       "      <th>...</th>\n",
       "      <td>...</td>\n",
       "      <td>...</td>\n",
       "      <td>...</td>\n",
       "      <td>...</td>\n",
       "      <td>...</td>\n",
       "      <td>...</td>\n",
       "      <td>...</td>\n",
       "      <td>...</td>\n",
       "      <td>...</td>\n",
       "      <td>...</td>\n",
       "      <td>...</td>\n",
       "      <td>...</td>\n",
       "      <td>...</td>\n",
       "      <td>...</td>\n",
       "      <td>...</td>\n",
       "      <td>...</td>\n",
       "      <td>...</td>\n",
       "      <td>...</td>\n",
       "      <td>...</td>\n",
       "      <td>...</td>\n",
       "      <td>...</td>\n",
       "    </tr>\n",
       "    <tr>\n",
       "      <th>ZTF18aaqujbu</th>\n",
       "      <td>0.782113</td>\n",
       "      <td>-0.787636</td>\n",
       "      <td>0.250000</td>\n",
       "      <td>0.000000</td>\n",
       "      <td>0.357005</td>\n",
       "      <td>1.564226</td>\n",
       "      <td>1.564226</td>\n",
       "      <td>1.033506</td>\n",
       "      <td>1.071701</td>\n",
       "      <td>-0.000771</td>\n",
       "      <td>...</td>\n",
       "      <td>2.56129</td>\n",
       "      <td>0.072383</td>\n",
       "      <td>0.283600</td>\n",
       "      <td>-0.146400</td>\n",
       "      <td>-0.021099</td>\n",
       "      <td>-0.135199</td>\n",
       "      <td>-0.031099</td>\n",
       "      <td>-0.087000</td>\n",
       "      <td>120.801682</td>\n",
       "      <td>2.383159</td>\n",
       "    </tr>\n",
       "    <tr>\n",
       "      <th>ZTF20acxfccu</th>\n",
       "      <td>0.369985</td>\n",
       "      <td>-0.210291</td>\n",
       "      <td>0.333333</td>\n",
       "      <td>0.000000</td>\n",
       "      <td>0.418449</td>\n",
       "      <td>0.739969</td>\n",
       "      <td>0.700308</td>\n",
       "      <td>0.511403</td>\n",
       "      <td>-1.046592</td>\n",
       "      <td>0.015968</td>\n",
       "      <td>...</td>\n",
       "      <td>7.76271</td>\n",
       "      <td>28.694201</td>\n",
       "      <td>0.172899</td>\n",
       "      <td>0.870899</td>\n",
       "      <td>1.020100</td>\n",
       "      <td>0.990299</td>\n",
       "      <td>0.916300</td>\n",
       "      <td>0.777100</td>\n",
       "      <td>99.725303</td>\n",
       "      <td>0.347883</td>\n",
       "    </tr>\n",
       "    <tr>\n",
       "      <th>ZTF20acpjcoe</th>\n",
       "      <td>1.110643</td>\n",
       "      <td>0.194630</td>\n",
       "      <td>0.142857</td>\n",
       "      <td>0.267261</td>\n",
       "      <td>0.364282</td>\n",
       "      <td>2.221287</td>\n",
       "      <td>1.381418</td>\n",
       "      <td>0.596590</td>\n",
       "      <td>2.009210</td>\n",
       "      <td>-0.003174</td>\n",
       "      <td>...</td>\n",
       "      <td>2.87378</td>\n",
       "      <td>7.623930</td>\n",
       "      <td>0.061300</td>\n",
       "      <td>-0.043600</td>\n",
       "      <td>-0.005100</td>\n",
       "      <td>0.001801</td>\n",
       "      <td>0.027700</td>\n",
       "      <td>-0.034901</td>\n",
       "      <td>24.803882</td>\n",
       "      <td>0.154291</td>\n",
       "    </tr>\n",
       "    <tr>\n",
       "      <th>ZTF20ablmwje</th>\n",
       "      <td>0.294749</td>\n",
       "      <td>-0.573999</td>\n",
       "      <td>0.217391</td>\n",
       "      <td>0.294884</td>\n",
       "      <td>0.265824</td>\n",
       "      <td>0.589499</td>\n",
       "      <td>0.278199</td>\n",
       "      <td>0.198005</td>\n",
       "      <td>0.379132</td>\n",
       "      <td>0.000025</td>\n",
       "      <td>...</td>\n",
       "      <td>1.99568</td>\n",
       "      <td>-0.124557</td>\n",
       "      <td>0.127600</td>\n",
       "      <td>-0.074202</td>\n",
       "      <td>-0.067400</td>\n",
       "      <td>-0.094601</td>\n",
       "      <td>-0.108900</td>\n",
       "      <td>-0.166000</td>\n",
       "      <td>27.844423</td>\n",
       "      <td>0.121666</td>\n",
       "    </tr>\n",
       "    <tr>\n",
       "      <th>ZTF19aabykzt</th>\n",
       "      <td>1.012969</td>\n",
       "      <td>-1.045485</td>\n",
       "      <td>0.500000</td>\n",
       "      <td>0.000000</td>\n",
       "      <td>0.403552</td>\n",
       "      <td>2.025937</td>\n",
       "      <td>2.025937</td>\n",
       "      <td>1.469874</td>\n",
       "      <td>-1.665038</td>\n",
       "      <td>0.001586</td>\n",
       "      <td>...</td>\n",
       "      <td>2.30752</td>\n",
       "      <td>1.848260</td>\n",
       "      <td>0.312399</td>\n",
       "      <td>0.041901</td>\n",
       "      <td>0.056999</td>\n",
       "      <td>-0.082100</td>\n",
       "      <td>-0.047400</td>\n",
       "      <td>-0.121700</td>\n",
       "      <td>48.992851</td>\n",
       "      <td>1.780851</td>\n",
       "    </tr>\n",
       "  </tbody>\n",
       "</table>\n",
       "<p>5553 rows × 140 columns</p>\n",
       "</div>"
      ],
      "text/plain": [
       "               feature_amplitude_magn_r  \\\n",
       "ztf_object_id                             \n",
       "ZTF20acpdyyq                   0.514069   \n",
       "ZTF18acfvwwa                   0.593122   \n",
       "ZTF20aciscxz                   0.285049   \n",
       "ZTF18abdkosj                   1.776150   \n",
       "ZTF18abrcoty                   0.072900   \n",
       "...                                 ...   \n",
       "ZTF18aaqujbu                   0.782113   \n",
       "ZTF20acxfccu                   0.369985   \n",
       "ZTF20acpjcoe                   1.110643   \n",
       "ZTF20ablmwje                   0.294749   \n",
       "ZTF19aabykzt                   1.012969   \n",
       "\n",
       "               feature_anderson_darling_normal_magn_r  \\\n",
       "ztf_object_id                                           \n",
       "ZTF20acpdyyq                                -0.037026   \n",
       "ZTF18acfvwwa                                -0.303523   \n",
       "ZTF20aciscxz                                -0.425467   \n",
       "ZTF18abdkosj                                -0.175299   \n",
       "ZTF18abrcoty                                -0.738972   \n",
       "...                                               ...   \n",
       "ZTF18aaqujbu                                -0.787636   \n",
       "ZTF20acxfccu                                -0.210291   \n",
       "ZTF20acpjcoe                                 0.194630   \n",
       "ZTF20ablmwje                                -0.573999   \n",
       "ZTF19aabykzt                                -1.045485   \n",
       "\n",
       "               feature_beyond_1_std_magn_r  feature_beyond_2_std_magn_r  \\\n",
       "ztf_object_id                                                             \n",
       "ZTF20acpdyyq                      0.230769                     0.277350   \n",
       "ZTF18acfvwwa                      0.303030                     0.246183   \n",
       "ZTF20aciscxz                      0.384615                     0.000000   \n",
       "ZTF18abdkosj                      0.200000                     0.000000   \n",
       "ZTF18abrcoty                      0.250000                     0.000000   \n",
       "...                                    ...                          ...   \n",
       "ZTF18aaqujbu                      0.250000                     0.000000   \n",
       "ZTF20acxfccu                      0.333333                     0.000000   \n",
       "ZTF20acpjcoe                      0.142857                     0.267261   \n",
       "ZTF20ablmwje                      0.217391                     0.294884   \n",
       "ZTF19aabykzt                      0.500000                     0.000000   \n",
       "\n",
       "               feature_cusum_magn_r  feature_inter_percentile_range_2_magn_r  \\\n",
       "ztf_object_id                                                                  \n",
       "ZTF20acpdyyq               0.210596                                 1.028137   \n",
       "ZTF18acfvwwa               0.272132                                 1.152622   \n",
       "ZTF20aciscxz               0.375905                                 0.570099   \n",
       "ZTF18abdkosj               0.353906                                 3.552299   \n",
       "ZTF18abrcoty               0.358274                                 0.145800   \n",
       "...                             ...                                      ...   \n",
       "ZTF18aaqujbu               0.357005                                 1.564226   \n",
       "ZTF20acxfccu               0.418449                                 0.739969   \n",
       "ZTF20acpjcoe               0.364282                                 2.221287   \n",
       "ZTF20ablmwje               0.265824                                 0.589499   \n",
       "ZTF19aabykzt               0.403552                                 2.025937   \n",
       "\n",
       "               feature_inter_percentile_range_10_magn_r  \\\n",
       "ztf_object_id                                             \n",
       "ZTF20acpdyyq                                   0.606000   \n",
       "ZTF18acfvwwa                                   0.729088   \n",
       "ZTF20aciscxz                                   0.455701   \n",
       "ZTF18abdkosj                                   3.552299   \n",
       "ZTF18abrcoty                                   0.145800   \n",
       "...                                                 ...   \n",
       "ZTF18aaqujbu                                   1.564226   \n",
       "ZTF20acxfccu                                   0.700308   \n",
       "ZTF20acpjcoe                                   1.381418   \n",
       "ZTF20ablmwje                                   0.278199   \n",
       "ZTF19aabykzt                                   2.025937   \n",
       "\n",
       "               feature_inter_percentile_range_25_magn_r  \\\n",
       "ztf_object_id                                             \n",
       "ZTF20acpdyyq                                   0.224944   \n",
       "ZTF18acfvwwa                                   0.356500   \n",
       "ZTF20aciscxz                                   0.273037   \n",
       "ZTF18abdkosj                                   1.268549   \n",
       "ZTF18abrcoty                                   0.092799   \n",
       "...                                                 ...   \n",
       "ZTF18aaqujbu                                   1.033506   \n",
       "ZTF20acxfccu                                   0.511403   \n",
       "ZTF20acpjcoe                                   0.596590   \n",
       "ZTF20ablmwje                                   0.198005   \n",
       "ZTF19aabykzt                                   1.469874   \n",
       "\n",
       "               feature_kurtosis_magn_r  feature_linear_fit_slope_magn_r  ...  \\\n",
       "ztf_object_id                                                            ...   \n",
       "ZTF20acpdyyq                  2.176230                        -0.001783  ...   \n",
       "ZTF18acfvwwa                  0.552720                         0.000145  ...   \n",
       "ZTF20aciscxz                 -0.871550                         0.001117  ...   \n",
       "ZTF18abdkosj                  2.222622                         0.005808  ...   \n",
       "ZTF18abrcoty                  1.468299                         0.004197  ...   \n",
       "...                                ...                              ...  ...   \n",
       "ZTF18aaqujbu                  1.071701                        -0.000771  ...   \n",
       "ZTF20acxfccu                 -1.046592                         0.015968  ...   \n",
       "ZTF20acpjcoe                  2.009210                        -0.003174  ...   \n",
       "ZTF20ablmwje                  0.379132                         0.000025  ...   \n",
       "ZTF19aabykzt                 -1.665038                         0.001586  ...   \n",
       "\n",
       "               yKronRad  yExtNSigma       i-z  gApMag_gKronMag  \\\n",
       "ztf_object_id                                                    \n",
       "ZTF20acpdyyq    2.61862    4.821850  0.133400        -0.122499   \n",
       "ZTF18acfvwwa    2.22918    1.668850  0.746799        -0.022400   \n",
       "ZTF20aciscxz    2.04419    0.370268  0.239000        -0.117100   \n",
       "ZTF18abdkosj    7.00214   34.046101  0.083700         0.687300   \n",
       "ZTF18abrcoty    8.49324   25.945101  0.101501         1.296299   \n",
       "...                 ...         ...       ...              ...   \n",
       "ZTF18aaqujbu    2.56129    0.072383  0.283600        -0.146400   \n",
       "ZTF20acxfccu    7.76271   28.694201  0.172899         0.870899   \n",
       "ZTF20acpjcoe    2.87378    7.623930  0.061300        -0.043600   \n",
       "ZTF20ablmwje    1.99568   -0.124557  0.127600        -0.074202   \n",
       "ZTF19aabykzt    2.30752    1.848260  0.312399         0.041901   \n",
       "\n",
       "               rApMag_rKronMag  iApMag_iKronMag  zApMag_zKronMag  \\\n",
       "ztf_object_id                                                      \n",
       "ZTF20acpdyyq         -0.208099        -0.147800        -0.076401   \n",
       "ZTF18acfvwwa         -0.078699        -0.078100        -0.126400   \n",
       "ZTF20aciscxz         -0.058001        -0.122601        -0.058800   \n",
       "ZTF18abdkosj          0.689600         0.746500         0.728600   \n",
       "ZTF18abrcoty          1.073200         1.217402         1.265799   \n",
       "...                        ...              ...              ...   \n",
       "ZTF18aaqujbu         -0.021099        -0.135199        -0.031099   \n",
       "ZTF20acxfccu          1.020100         0.990299         0.916300   \n",
       "ZTF20acpjcoe         -0.005100         0.001801         0.027700   \n",
       "ZTF20ablmwje         -0.067400        -0.094601        -0.108900   \n",
       "ZTF19aabykzt          0.056999        -0.082100        -0.047400   \n",
       "\n",
       "               yApMag_yKronMag        7DCD  dist/DLR  \n",
       "ztf_object_id                                         \n",
       "ZTF20acpdyyq         -0.254801   66.227214  3.921571  \n",
       "ZTF18acfvwwa         -0.128500   10.879219  4.737505  \n",
       "ZTF20aciscxz         -0.289900   31.205722  0.113062  \n",
       "ZTF18abdkosj          0.830700   15.107083  4.124426  \n",
       "ZTF18abrcoty          1.170100   20.028593  0.130795  \n",
       "...                        ...         ...       ...  \n",
       "ZTF18aaqujbu         -0.087000  120.801682  2.383159  \n",
       "ZTF20acxfccu          0.777100   99.725303  0.347883  \n",
       "ZTF20acpjcoe         -0.034901   24.803882  0.154291  \n",
       "ZTF20ablmwje         -0.166000   27.844423  0.121666  \n",
       "ZTF19aabykzt         -0.121700   48.992851  1.780851  \n",
       "\n",
       "[5553 rows x 140 columns]"
      ]
     },
     "execution_count": 132,
     "metadata": {},
     "output_type": "execute_result"
    }
   ],
   "source": [
    "# only keep features of bank\n",
    "dataset_bank_orig = dataset_bank[lc_and_host_features] #dataset_bank[feature_names_r_g]\n",
    "# drop row if any feature values are nan\n",
    "dataset_bank_orig = dataset_bank_orig[~dataset_bank_orig[lc_and_host_features].isnull().any(axis=1)]\n",
    "\n",
    "dataset_bank_orig"
   ]
  },
  {
   "cell_type": "code",
   "execution_count": null,
   "id": "f712e59b",
   "metadata": {},
   "outputs": [],
   "source": []
  },
  {
   "cell_type": "code",
   "execution_count": 133,
   "id": "9126a59c",
   "metadata": {},
   "outputs": [
    {
     "name": "stdout",
     "output_type": "stream",
     "text": [
      "pca\n",
      "[0.18878132 0.32430551 0.43207877 0.50179375 0.5651873  0.61183164\n",
      " 0.64406545 0.66741321 0.69038313 0.71151866 0.72988819 0.74757133\n",
      " 0.76361109 0.77745722 0.79045885 0.80249451 0.81434546 0.8246542\n",
      " 0.83473753 0.84420741 0.85355806 0.86230905 0.87077453 0.87859878\n",
      " 0.8858066 ]\n"
     ]
    }
   ],
   "source": [
    "\n",
    "# https://github.com/uiucsn/laiss/blob/main/LAISS/notebooks/LAISS_tests.ipynb\n",
    "idx_arr = np.hstack(np.array(dataset_bank_orig.index, dtype='object'))\n",
    "feat_arr = np.vstack(np.array(dataset_bank_orig, dtype='object'))\n",
    "\n",
    "\n",
    "#scaler = preprocessing.StandardScaler() # Create a scalar\n",
    "scaler = preprocessing.MinMaxScaler() # Create a scalar\n",
    "#scaler = preprocessing.MaxAbsScaler() # Create a scalar\n",
    "#scaler = preprocessing.RobustScaler(quantile_range=(33.0, 67.0)) # quantile_range=(25.0, 75.0) good for outliers\n",
    "#scaler = preprocessing.Normalizer(norm='l2') #norm='max', norm='l1',\n",
    "#scaler = preprocessing.SplineTransformer(n_knots=5, degree=3, knots='uniform', \n",
    "#                                          extrapolation='constant', include_bias=True, order='C')\n",
    "#scaler = preprocessing.FunctionTransformer(np.cbrt, validate=True)\n",
    "#scaler = preprocessing.FunctionTransformer(np.conjugate, validate=True)\n",
    "#scaler = preprocessing.FunctionTransformer(np.rint, validate=True)\n",
    "#scaler = preprocessing.FunctionTransformer(np.rint, validate=True)\n",
    "\n",
    "#print(\"scaler\")\n",
    "#scaler.fit(feat_arr) # Fit only to training data\n",
    "#feat_arr_scaled = scaler.transform(feat_arr) # What your model learns on\n",
    "#print(np.shape(feat_arr_scaled))\n",
    "#print(feat_arr_scaled)\n",
    "\n",
    "\n",
    "\n",
    "# #OR try PCA, then scalar\n",
    "# print(\"pca\")\n",
    "# # Initialize PCA with 15 principal components\n",
    "# n_components=6\n",
    "# pca = PCA(n_components=n_components)\n",
    "# feat_arr_scaled = np.array(pca.fit_transform(feat_arr))\n",
    "# scaler.fit(feat_arr_scaled) # Fit only to training data\n",
    "# feat_arr_scaled = scaler.transform(feat_arr_scaled) # What your model learns on\n",
    "\n",
    "#OR try scalar then PCA\n",
    "print(\"pca\")\n",
    "# Initialize PCA with 15 principal components\n",
    "n_components=25\n",
    "pca = PCA(n_components=n_components)\n",
    "feat_arr_scaled = scaler.fit_transform(feat_arr)\n",
    "feat_arr_scaled = np.array(pca.fit_transform(feat_arr_scaled))\n",
    "\n",
    "# # #OR try PCA only\n",
    "# print(\"pca\")\n",
    "# # Initialize PCA with 15 principal components\n",
    "# n_components=6\n",
    "# pca = PCA(n_components=n_components)\n",
    "# feat_arr_scaled = np.array(pca.fit_transform(feat_arr))\n",
    "\n",
    "# Print the explained variance\n",
    "print(np.cumsum(pca.explained_variance_ratio_))\n",
    "\n",
    "# Build ANNOY index of scaled features of dataset_bank\n",
    "index = AnnoyIndex(feat_arr_scaled, idx_arr, metric='euclidean')\n",
    "index.build()\n",
    "# dist metrics: dot is not good, eucl and manhattan are more or less same, \n",
    "# hamming is good distance but matches aren't as similar\n",
    "# angular has best matches?"
   ]
  },
  {
   "cell_type": "markdown",
   "id": "3afb4b78",
   "metadata": {},
   "source": [
    "# TODO: get Tns classes, do distance distr per class (in diff metrics)"
   ]
  },
  {
   "cell_type": "code",
   "execution_count": 134,
   "id": "3abfc268",
   "metadata": {},
   "outputs": [
    {
     "data": {
      "text/html": [
       "<div>\n",
       "<style scoped>\n",
       "    .dataframe tbody tr th:only-of-type {\n",
       "        vertical-align: middle;\n",
       "    }\n",
       "\n",
       "    .dataframe tbody tr th {\n",
       "        vertical-align: top;\n",
       "    }\n",
       "\n",
       "    .dataframe thead th {\n",
       "        text-align: right;\n",
       "    }\n",
       "</style>\n",
       "<table border=\"1\" class=\"dataframe\">\n",
       "  <thead>\n",
       "    <tr style=\"text-align: right;\">\n",
       "      <th></th>\n",
       "      <th>PC0</th>\n",
       "      <th>PC1</th>\n",
       "      <th>PC2</th>\n",
       "      <th>PC3</th>\n",
       "      <th>PC4</th>\n",
       "      <th>PC5</th>\n",
       "      <th>PC6</th>\n",
       "      <th>PC7</th>\n",
       "      <th>PC8</th>\n",
       "      <th>PC9</th>\n",
       "      <th>...</th>\n",
       "      <th>PC15</th>\n",
       "      <th>PC16</th>\n",
       "      <th>PC17</th>\n",
       "      <th>PC18</th>\n",
       "      <th>PC19</th>\n",
       "      <th>PC20</th>\n",
       "      <th>PC21</th>\n",
       "      <th>PC22</th>\n",
       "      <th>PC23</th>\n",
       "      <th>PC24</th>\n",
       "    </tr>\n",
       "    <tr>\n",
       "      <th>ztf_object_id</th>\n",
       "      <th></th>\n",
       "      <th></th>\n",
       "      <th></th>\n",
       "      <th></th>\n",
       "      <th></th>\n",
       "      <th></th>\n",
       "      <th></th>\n",
       "      <th></th>\n",
       "      <th></th>\n",
       "      <th></th>\n",
       "      <th></th>\n",
       "      <th></th>\n",
       "      <th></th>\n",
       "      <th></th>\n",
       "      <th></th>\n",
       "      <th></th>\n",
       "      <th></th>\n",
       "      <th></th>\n",
       "      <th></th>\n",
       "      <th></th>\n",
       "      <th></th>\n",
       "    </tr>\n",
       "  </thead>\n",
       "  <tbody>\n",
       "    <tr>\n",
       "      <th>ZTF20acpdyyq</th>\n",
       "      <td>-0.740876</td>\n",
       "      <td>0.327463</td>\n",
       "      <td>0.093585</td>\n",
       "      <td>0.530449</td>\n",
       "      <td>-0.256234</td>\n",
       "      <td>0.232915</td>\n",
       "      <td>-0.623253</td>\n",
       "      <td>-0.166695</td>\n",
       "      <td>-0.236554</td>\n",
       "      <td>-0.307001</td>\n",
       "      <td>...</td>\n",
       "      <td>-0.162461</td>\n",
       "      <td>-0.099282</td>\n",
       "      <td>0.076956</td>\n",
       "      <td>0.061536</td>\n",
       "      <td>0.118566</td>\n",
       "      <td>-0.165056</td>\n",
       "      <td>-0.118792</td>\n",
       "      <td>0.011117</td>\n",
       "      <td>0.241731</td>\n",
       "      <td>-0.134966</td>\n",
       "    </tr>\n",
       "    <tr>\n",
       "      <th>ZTF18acfvwwa</th>\n",
       "      <td>-1.009465</td>\n",
       "      <td>0.483343</td>\n",
       "      <td>-0.091841</td>\n",
       "      <td>-0.047224</td>\n",
       "      <td>0.308276</td>\n",
       "      <td>0.266342</td>\n",
       "      <td>-0.270570</td>\n",
       "      <td>-0.157739</td>\n",
       "      <td>-0.166764</td>\n",
       "      <td>-0.307726</td>\n",
       "      <td>...</td>\n",
       "      <td>-0.026842</td>\n",
       "      <td>0.162825</td>\n",
       "      <td>-0.003783</td>\n",
       "      <td>0.232018</td>\n",
       "      <td>-0.141472</td>\n",
       "      <td>-0.160099</td>\n",
       "      <td>-0.101088</td>\n",
       "      <td>0.241140</td>\n",
       "      <td>0.017308</td>\n",
       "      <td>-0.038038</td>\n",
       "    </tr>\n",
       "    <tr>\n",
       "      <th>ZTF20aciscxz</th>\n",
       "      <td>-0.017361</td>\n",
       "      <td>-0.685588</td>\n",
       "      <td>-0.670049</td>\n",
       "      <td>0.157348</td>\n",
       "      <td>0.226343</td>\n",
       "      <td>0.100455</td>\n",
       "      <td>0.115739</td>\n",
       "      <td>-0.119346</td>\n",
       "      <td>0.435864</td>\n",
       "      <td>0.337444</td>\n",
       "      <td>...</td>\n",
       "      <td>0.106838</td>\n",
       "      <td>0.033598</td>\n",
       "      <td>-0.044141</td>\n",
       "      <td>0.292700</td>\n",
       "      <td>0.045342</td>\n",
       "      <td>-0.069082</td>\n",
       "      <td>-0.170820</td>\n",
       "      <td>-0.045557</td>\n",
       "      <td>-0.003166</td>\n",
       "      <td>0.189726</td>\n",
       "    </tr>\n",
       "    <tr>\n",
       "      <th>ZTF18abdkosj</th>\n",
       "      <td>-0.061421</td>\n",
       "      <td>1.320940</td>\n",
       "      <td>0.550628</td>\n",
       "      <td>-0.211640</td>\n",
       "      <td>-1.040916</td>\n",
       "      <td>-0.143873</td>\n",
       "      <td>0.427948</td>\n",
       "      <td>0.501807</td>\n",
       "      <td>-0.059357</td>\n",
       "      <td>0.231840</td>\n",
       "      <td>...</td>\n",
       "      <td>-0.183969</td>\n",
       "      <td>0.259620</td>\n",
       "      <td>-0.251668</td>\n",
       "      <td>0.291740</td>\n",
       "      <td>0.070171</td>\n",
       "      <td>0.034689</td>\n",
       "      <td>-0.060737</td>\n",
       "      <td>-0.058413</td>\n",
       "      <td>-0.316372</td>\n",
       "      <td>-0.006297</td>\n",
       "    </tr>\n",
       "    <tr>\n",
       "      <th>ZTF18abrcoty</th>\n",
       "      <td>0.770735</td>\n",
       "      <td>-0.645791</td>\n",
       "      <td>0.341429</td>\n",
       "      <td>-0.421324</td>\n",
       "      <td>-0.814975</td>\n",
       "      <td>-0.329319</td>\n",
       "      <td>0.094102</td>\n",
       "      <td>-0.627922</td>\n",
       "      <td>-0.136354</td>\n",
       "      <td>0.194735</td>\n",
       "      <td>...</td>\n",
       "      <td>-0.328912</td>\n",
       "      <td>-0.288205</td>\n",
       "      <td>-0.194450</td>\n",
       "      <td>0.099696</td>\n",
       "      <td>0.132917</td>\n",
       "      <td>0.073406</td>\n",
       "      <td>-0.283018</td>\n",
       "      <td>0.272803</td>\n",
       "      <td>-0.097284</td>\n",
       "      <td>-0.060154</td>\n",
       "    </tr>\n",
       "    <tr>\n",
       "      <th>...</th>\n",
       "      <td>...</td>\n",
       "      <td>...</td>\n",
       "      <td>...</td>\n",
       "      <td>...</td>\n",
       "      <td>...</td>\n",
       "      <td>...</td>\n",
       "      <td>...</td>\n",
       "      <td>...</td>\n",
       "      <td>...</td>\n",
       "      <td>...</td>\n",
       "      <td>...</td>\n",
       "      <td>...</td>\n",
       "      <td>...</td>\n",
       "      <td>...</td>\n",
       "      <td>...</td>\n",
       "      <td>...</td>\n",
       "      <td>...</td>\n",
       "      <td>...</td>\n",
       "      <td>...</td>\n",
       "      <td>...</td>\n",
       "      <td>...</td>\n",
       "    </tr>\n",
       "    <tr>\n",
       "      <th>ZTF18aaqujbu</th>\n",
       "      <td>0.284788</td>\n",
       "      <td>1.003430</td>\n",
       "      <td>-0.985703</td>\n",
       "      <td>-0.320762</td>\n",
       "      <td>-0.044550</td>\n",
       "      <td>0.252116</td>\n",
       "      <td>-0.030890</td>\n",
       "      <td>-0.577123</td>\n",
       "      <td>-0.179849</td>\n",
       "      <td>-0.060159</td>\n",
       "      <td>...</td>\n",
       "      <td>0.110075</td>\n",
       "      <td>-0.274038</td>\n",
       "      <td>-0.209469</td>\n",
       "      <td>-0.109640</td>\n",
       "      <td>-0.113971</td>\n",
       "      <td>0.237414</td>\n",
       "      <td>0.015706</td>\n",
       "      <td>-0.068186</td>\n",
       "      <td>0.044968</td>\n",
       "      <td>0.061490</td>\n",
       "    </tr>\n",
       "    <tr>\n",
       "      <th>ZTF20acxfccu</th>\n",
       "      <td>1.163744</td>\n",
       "      <td>0.057910</td>\n",
       "      <td>0.751615</td>\n",
       "      <td>0.076237</td>\n",
       "      <td>0.537662</td>\n",
       "      <td>0.129579</td>\n",
       "      <td>0.386170</td>\n",
       "      <td>0.326000</td>\n",
       "      <td>-0.072738</td>\n",
       "      <td>-0.206703</td>\n",
       "      <td>...</td>\n",
       "      <td>-0.052167</td>\n",
       "      <td>-0.016208</td>\n",
       "      <td>0.213481</td>\n",
       "      <td>-0.118850</td>\n",
       "      <td>0.024957</td>\n",
       "      <td>0.132453</td>\n",
       "      <td>-0.044554</td>\n",
       "      <td>-0.074160</td>\n",
       "      <td>0.020471</td>\n",
       "      <td>0.067533</td>\n",
       "    </tr>\n",
       "    <tr>\n",
       "      <th>ZTF20acpjcoe</th>\n",
       "      <td>0.224535</td>\n",
       "      <td>0.566490</td>\n",
       "      <td>0.242256</td>\n",
       "      <td>0.775567</td>\n",
       "      <td>0.326212</td>\n",
       "      <td>0.853905</td>\n",
       "      <td>-0.173623</td>\n",
       "      <td>-0.263680</td>\n",
       "      <td>-0.274480</td>\n",
       "      <td>0.035241</td>\n",
       "      <td>...</td>\n",
       "      <td>-0.165939</td>\n",
       "      <td>-0.069985</td>\n",
       "      <td>0.157781</td>\n",
       "      <td>0.103398</td>\n",
       "      <td>-0.061902</td>\n",
       "      <td>0.081462</td>\n",
       "      <td>-0.148421</td>\n",
       "      <td>0.034548</td>\n",
       "      <td>0.092817</td>\n",
       "      <td>-0.123910</td>\n",
       "    </tr>\n",
       "    <tr>\n",
       "      <th>ZTF20ablmwje</th>\n",
       "      <td>-0.604875</td>\n",
       "      <td>-0.643429</td>\n",
       "      <td>-0.388855</td>\n",
       "      <td>0.398965</td>\n",
       "      <td>0.054155</td>\n",
       "      <td>0.018860</td>\n",
       "      <td>0.064731</td>\n",
       "      <td>-0.465595</td>\n",
       "      <td>0.239145</td>\n",
       "      <td>-0.158940</td>\n",
       "      <td>...</td>\n",
       "      <td>0.104201</td>\n",
       "      <td>0.041801</td>\n",
       "      <td>0.007744</td>\n",
       "      <td>-0.124515</td>\n",
       "      <td>-0.258932</td>\n",
       "      <td>0.060436</td>\n",
       "      <td>-0.011530</td>\n",
       "      <td>-0.026420</td>\n",
       "      <td>-0.048776</td>\n",
       "      <td>0.139362</td>\n",
       "    </tr>\n",
       "    <tr>\n",
       "      <th>ZTF19aabykzt</th>\n",
       "      <td>0.566169</td>\n",
       "      <td>1.315935</td>\n",
       "      <td>-1.059763</td>\n",
       "      <td>-0.264947</td>\n",
       "      <td>0.132183</td>\n",
       "      <td>-0.074483</td>\n",
       "      <td>0.232696</td>\n",
       "      <td>-0.201957</td>\n",
       "      <td>0.018189</td>\n",
       "      <td>0.000002</td>\n",
       "      <td>...</td>\n",
       "      <td>-0.138467</td>\n",
       "      <td>-0.148342</td>\n",
       "      <td>-0.041749</td>\n",
       "      <td>-0.122962</td>\n",
       "      <td>-0.012190</td>\n",
       "      <td>-0.279989</td>\n",
       "      <td>0.065784</td>\n",
       "      <td>-0.163188</td>\n",
       "      <td>0.078447</td>\n",
       "      <td>0.073549</td>\n",
       "    </tr>\n",
       "  </tbody>\n",
       "</table>\n",
       "<p>5553 rows × 25 columns</p>\n",
       "</div>"
      ],
      "text/plain": [
       "                    PC0       PC1       PC2       PC3       PC4       PC5  \\\n",
       "ztf_object_id                                                               \n",
       "ZTF20acpdyyq  -0.740876  0.327463  0.093585  0.530449 -0.256234  0.232915   \n",
       "ZTF18acfvwwa  -1.009465  0.483343 -0.091841 -0.047224  0.308276  0.266342   \n",
       "ZTF20aciscxz  -0.017361 -0.685588 -0.670049  0.157348  0.226343  0.100455   \n",
       "ZTF18abdkosj  -0.061421  1.320940  0.550628 -0.211640 -1.040916 -0.143873   \n",
       "ZTF18abrcoty   0.770735 -0.645791  0.341429 -0.421324 -0.814975 -0.329319   \n",
       "...                 ...       ...       ...       ...       ...       ...   \n",
       "ZTF18aaqujbu   0.284788  1.003430 -0.985703 -0.320762 -0.044550  0.252116   \n",
       "ZTF20acxfccu   1.163744  0.057910  0.751615  0.076237  0.537662  0.129579   \n",
       "ZTF20acpjcoe   0.224535  0.566490  0.242256  0.775567  0.326212  0.853905   \n",
       "ZTF20ablmwje  -0.604875 -0.643429 -0.388855  0.398965  0.054155  0.018860   \n",
       "ZTF19aabykzt   0.566169  1.315935 -1.059763 -0.264947  0.132183 -0.074483   \n",
       "\n",
       "                    PC6       PC7       PC8       PC9  ...      PC15  \\\n",
       "ztf_object_id                                          ...             \n",
       "ZTF20acpdyyq  -0.623253 -0.166695 -0.236554 -0.307001  ... -0.162461   \n",
       "ZTF18acfvwwa  -0.270570 -0.157739 -0.166764 -0.307726  ... -0.026842   \n",
       "ZTF20aciscxz   0.115739 -0.119346  0.435864  0.337444  ...  0.106838   \n",
       "ZTF18abdkosj   0.427948  0.501807 -0.059357  0.231840  ... -0.183969   \n",
       "ZTF18abrcoty   0.094102 -0.627922 -0.136354  0.194735  ... -0.328912   \n",
       "...                 ...       ...       ...       ...  ...       ...   \n",
       "ZTF18aaqujbu  -0.030890 -0.577123 -0.179849 -0.060159  ...  0.110075   \n",
       "ZTF20acxfccu   0.386170  0.326000 -0.072738 -0.206703  ... -0.052167   \n",
       "ZTF20acpjcoe  -0.173623 -0.263680 -0.274480  0.035241  ... -0.165939   \n",
       "ZTF20ablmwje   0.064731 -0.465595  0.239145 -0.158940  ...  0.104201   \n",
       "ZTF19aabykzt   0.232696 -0.201957  0.018189  0.000002  ... -0.138467   \n",
       "\n",
       "                   PC16      PC17      PC18      PC19      PC20      PC21  \\\n",
       "ztf_object_id                                                               \n",
       "ZTF20acpdyyq  -0.099282  0.076956  0.061536  0.118566 -0.165056 -0.118792   \n",
       "ZTF18acfvwwa   0.162825 -0.003783  0.232018 -0.141472 -0.160099 -0.101088   \n",
       "ZTF20aciscxz   0.033598 -0.044141  0.292700  0.045342 -0.069082 -0.170820   \n",
       "ZTF18abdkosj   0.259620 -0.251668  0.291740  0.070171  0.034689 -0.060737   \n",
       "ZTF18abrcoty  -0.288205 -0.194450  0.099696  0.132917  0.073406 -0.283018   \n",
       "...                 ...       ...       ...       ...       ...       ...   \n",
       "ZTF18aaqujbu  -0.274038 -0.209469 -0.109640 -0.113971  0.237414  0.015706   \n",
       "ZTF20acxfccu  -0.016208  0.213481 -0.118850  0.024957  0.132453 -0.044554   \n",
       "ZTF20acpjcoe  -0.069985  0.157781  0.103398 -0.061902  0.081462 -0.148421   \n",
       "ZTF20ablmwje   0.041801  0.007744 -0.124515 -0.258932  0.060436 -0.011530   \n",
       "ZTF19aabykzt  -0.148342 -0.041749 -0.122962 -0.012190 -0.279989  0.065784   \n",
       "\n",
       "                   PC22      PC23      PC24  \n",
       "ztf_object_id                                \n",
       "ZTF20acpdyyq   0.011117  0.241731 -0.134966  \n",
       "ZTF18acfvwwa   0.241140  0.017308 -0.038038  \n",
       "ZTF20aciscxz  -0.045557 -0.003166  0.189726  \n",
       "ZTF18abdkosj  -0.058413 -0.316372 -0.006297  \n",
       "ZTF18abrcoty   0.272803 -0.097284 -0.060154  \n",
       "...                 ...       ...       ...  \n",
       "ZTF18aaqujbu  -0.068186  0.044968  0.061490  \n",
       "ZTF20acxfccu  -0.074160  0.020471  0.067533  \n",
       "ZTF20acpjcoe   0.034548  0.092817 -0.123910  \n",
       "ZTF20ablmwje  -0.026420 -0.048776  0.139362  \n",
       "ZTF19aabykzt  -0.163188  0.078447  0.073549  \n",
       "\n",
       "[5553 rows x 25 columns]"
      ]
     },
     "execution_count": 134,
     "metadata": {},
     "output_type": "execute_result"
    }
   ],
   "source": [
    "# Scalar then PCA\n",
    "col_names = [f'PC'+str(i) for i in range(n_components)]\n",
    "dataset_bank_pca = pd.DataFrame(pca.fit_transform(feat_arr_scaled), columns=col_names)\n",
    "dataset_bank_pca = dataset_bank_pca.set_index(dataset_bank_orig.index)\n",
    "dataset_bank_pca\n",
    "\n",
    "# # Just PCA\n",
    "# col_names = [f'PC'+str(i) for i in range(n_components)]\n",
    "# dataset_bank_pca = pd.DataFrame(pca.fit_transform(dataset_bank_orig), columns=col_names)\n",
    "# dataset_bank_pca = dataset_bank_pca.set_index(dataset_bank_orig.index)\n",
    "# dataset_bank_pca\n",
    "\n",
    "\n",
    "# # Just PCA, then scalar\n",
    "# col_names = [f'PC'+str(i) for i in range(n_components)]\n",
    "# dataset_bank_pca = pd.DataFrame(pca.fit_transform(dataset_bank_orig), columns=col_names)\n",
    "# dataset_bank_pca = dataset_bank_pca.set_index(dataset_bank_orig.index)\n",
    "# dataset_bank_pca = scaler.transform(dataset_bank_pca)\n",
    "# dataset_bank_pca = pd.DataFrame(dataset_bank_pca, columns=col_names)\n",
    "# dataset_bank_pca = dataset_bank_pca.set_index(dataset_bank_orig.index)\n",
    "# dataset_bank_pca"
   ]
  },
  {
   "cell_type": "code",
   "execution_count": 204,
   "id": "b7665a8b",
   "metadata": {},
   "outputs": [
    {
     "data": {
      "text/html": [
       "<div>\n",
       "<style scoped>\n",
       "    .dataframe tbody tr th:only-of-type {\n",
       "        vertical-align: middle;\n",
       "    }\n",
       "\n",
       "    .dataframe tbody tr th {\n",
       "        vertical-align: top;\n",
       "    }\n",
       "\n",
       "    .dataframe thead th {\n",
       "        text-align: right;\n",
       "    }\n",
       "</style>\n",
       "<table border=\"1\" class=\"dataframe\">\n",
       "  <thead>\n",
       "    <tr style=\"text-align: right;\">\n",
       "      <th></th>\n",
       "      <th>PC0</th>\n",
       "      <th>PC1</th>\n",
       "      <th>PC2</th>\n",
       "      <th>PC3</th>\n",
       "      <th>PC4</th>\n",
       "      <th>PC5</th>\n",
       "      <th>PC6</th>\n",
       "      <th>PC7</th>\n",
       "      <th>PC8</th>\n",
       "      <th>PC9</th>\n",
       "      <th>...</th>\n",
       "      <th>PC15</th>\n",
       "      <th>PC16</th>\n",
       "      <th>PC17</th>\n",
       "      <th>PC18</th>\n",
       "      <th>PC19</th>\n",
       "      <th>PC20</th>\n",
       "      <th>PC21</th>\n",
       "      <th>PC22</th>\n",
       "      <th>PC23</th>\n",
       "      <th>PC24</th>\n",
       "    </tr>\n",
       "    <tr>\n",
       "      <th>ztf_object_id</th>\n",
       "      <th></th>\n",
       "      <th></th>\n",
       "      <th></th>\n",
       "      <th></th>\n",
       "      <th></th>\n",
       "      <th></th>\n",
       "      <th></th>\n",
       "      <th></th>\n",
       "      <th></th>\n",
       "      <th></th>\n",
       "      <th></th>\n",
       "      <th></th>\n",
       "      <th></th>\n",
       "      <th></th>\n",
       "      <th></th>\n",
       "      <th></th>\n",
       "      <th></th>\n",
       "      <th></th>\n",
       "      <th></th>\n",
       "      <th></th>\n",
       "      <th></th>\n",
       "    </tr>\n",
       "  </thead>\n",
       "  <tbody>\n",
       "    <tr>\n",
       "      <th>ZTF18acrjydf</th>\n",
       "      <td>0.210314</td>\n",
       "      <td>1.046649</td>\n",
       "      <td>-0.262731</td>\n",
       "      <td>-0.063274</td>\n",
       "      <td>-0.148707</td>\n",
       "      <td>0.934065</td>\n",
       "      <td>1.03712</td>\n",
       "      <td>-0.101492</td>\n",
       "      <td>0.142617</td>\n",
       "      <td>-0.170727</td>\n",
       "      <td>...</td>\n",
       "      <td>0.182007</td>\n",
       "      <td>-0.113389</td>\n",
       "      <td>-0.196484</td>\n",
       "      <td>-0.360507</td>\n",
       "      <td>0.301896</td>\n",
       "      <td>-0.024859</td>\n",
       "      <td>0.057112</td>\n",
       "      <td>0.076414</td>\n",
       "      <td>0.005037</td>\n",
       "      <td>-0.185554</td>\n",
       "    </tr>\n",
       "  </tbody>\n",
       "</table>\n",
       "<p>1 rows × 25 columns</p>\n",
       "</div>"
      ],
      "text/plain": [
       "                    PC0       PC1       PC2       PC3       PC4       PC5  \\\n",
       "ztf_object_id                                                               \n",
       "ZTF18acrjydf   0.210314  1.046649 -0.262731 -0.063274 -0.148707  0.934065   \n",
       "\n",
       "                   PC6       PC7       PC8       PC9  ...      PC15      PC16  \\\n",
       "ztf_object_id                                         ...                       \n",
       "ZTF18acrjydf   1.03712 -0.101492  0.142617 -0.170727  ...  0.182007 -0.113389   \n",
       "\n",
       "                   PC17      PC18      PC19      PC20      PC21      PC22  \\\n",
       "ztf_object_id                                                               \n",
       "ZTF18acrjydf  -0.196484 -0.360507  0.301896 -0.024859  0.057112  0.076414   \n",
       "\n",
       "                   PC23      PC24  \n",
       "ztf_object_id                      \n",
       "ZTF18acrjydf   0.005037 -0.185554  \n",
       "\n",
       "[1 rows x 25 columns]"
      ]
     },
     "execution_count": 204,
     "metadata": {},
     "output_type": "execute_result"
    }
   ],
   "source": [
    "# Reference\n",
    "# ZTF21aassamj\tdataset_bank.iloc[-5:-4] is good Ia\n",
    "\n",
    "#with PCA\n",
    "dataset_bank = dataset_bank_pca.copy()\n",
    "\n",
    "\n",
    "# # No PCA\n",
    "# dataset_bank = dataset_bank_orig.copy()\n",
    "\n",
    "# for Lc + host features\n",
    "#dataset_ref = dataset_bank[dataset_bank.index == 'ZTF20aciwhcb'] # Ia\n",
    "#dataset_ref = dataset_bank[dataset_bank.index == 'ZTF20acpdyyq'] # star - weird that it has host info (CHECK INTO THIS)\n",
    "#dataset_ref = dataset_bank[dataset_bank.index == 'ZTF18abuyayk'] # RRyl kinda star behavior \n",
    "#dataset_ref = dataset_bank[dataset_bank.index == 'ZTF18abvmlow'] # close SN (curious if host is HII region or actual host)\n",
    "#dataset_ref = dataset_bank[dataset_bank.index == 'ZTF18abvbbvs'] # variable - check host info\n",
    "#dataset_ref = dataset_bank[dataset_bank.index == 'ZTF20actvmqi'] #SN Ia w/ small ANN=1 dist\n",
    "#dataset_ref = dataset_bank[dataset_bank.index == 'ZTF20acpjcoe'] # SN Ia, z=0.04\n",
    "#dataset_ref = dataset_bank[dataset_bank.index == 'ZTF19aadoota'] # IIn, z=0.058\n",
    "#dataset_ref = dataset_bank[dataset_bank.index == 'ZTF20abywydb'] #II, z=0.04 no apparent host\n",
    "#dataset_ref = dataset_bank[dataset_bank.index == 'ZTF20acwobku'] #2020acct (matches to a couple IIb)\n",
    "#dataset_ref = dataset_bank[dataset_bank.index == 'ZTF21aabxjqr'] # IIb, z=0.03\n",
    "#dataset_ref = dataset_bank[dataset_bank.index == 'ZTF19ackwoak'] # star (check host) (finds other stars)\n",
    "#dataset_ref = dataset_bank[dataset_bank.index == 'ZTF18abvlumw'] # central bogus obs in bright gal core (check host) (finds more bogus)\n",
    "#dataset_ref = dataset_bank[dataset_bank.index == 'ZTF18aacoati'] # star (check host)\n",
    "#dataset_ref = dataset_bank[dataset_bank.index == 'ZTF21aagtqna'] # long lived IIP, closeby (finds more IIs)\n",
    "dataset_ref = dataset_bank[dataset_bank.index == 'ZTF18acrjydf'] #CV/nova in M31 (check host in GHOST)\n",
    "\n",
    "# for host features only\n",
    "#dataset_ref = dataset_bank[dataset_bank.index == 'ZTF21aassamj'] # SN ia (lower first ANN dist), 0.3478 [eucl.], 2.1561 [manhattan], 21.8293 [dot], 0 for first 3, then 1,2... [hamming], 0.077 [angular]\n",
    "#dataset_ref = dataset_bank[dataset_bank.index == 'ZTF20abwrcmq'] # SN iax ,  , 3.5786 [manhattan]\n",
    "#dataset_ref = dataset_bank[dataset_bank.index == 'ZTF18abuicad'] # SLSN z=0.135, , 4.449 [manhattan]\n",
    "#dataset_ref = dataset_bank[dataset_bank.index == 'ZTF20abqkbfx'] # Ia-CSM , , 4.0267 [manhattan], 4 is first match, then 5 [hamming]\n",
    "#dataset_ref = dataset_bank[dataset_bank.index == 'ZTF20achncvv']  # SLSN-II\n",
    "#dataset_ref = dataset_bank[dataset_bank.index == 'ZTF20acpbdvm'] # SN II , , 2.3857 [manhattan], 0.088 [angular]\n",
    "#dataset_ref = dataset_bank[dataset_bank.index == 'ZTF20acveyyv'] # SN IIn\n",
    "#dataset_ref = dataset_bank[dataset_bank.index == 'ZTF18abktckv'] # Lensing (high first ANN dist), 0.7893, 4.5839 [manhattan], 21.5625 [dot], 8! for first one, then 9,10... [hamming], 0.1678 [angular]\n",
    "#dataset_ref = dataset_bank[dataset_bank.index == 'ZTF20achutoz'] # junk\n",
    "#dataset_ref = dataset_bank[dataset_bank.index == 'ZTF18abtkeaf'] # star #ZTF18acdqrna #ZTF19aapunrg #ZTF18abtkeaf\n",
    "dataset_ref "
   ]
  },
  {
   "cell_type": "code",
   "execution_count": 205,
   "id": "0c97284d",
   "metadata": {
    "scrolled": false
   },
   "outputs": [
    {
     "name": "stdout",
     "output_type": "stream",
     "text": [
      "ZTF ID name (ref) ZTF18acrjydf\n"
     ]
    },
    {
     "data": {
      "text/markdown": [
       "https://alerce.online/object/ZTF18acrjydf"
      ]
     },
     "metadata": {},
     "output_type": "display_data"
    },
    {
     "name": "stdout",
     "output_type": "stream",
     "text": [
      "None\n",
      "%%%%%%\n",
      "ANN\t\tIDX\t\t\t\tZTF_id\t\t\t\tDIST\n"
     ]
    },
    {
     "data": {
      "text/markdown": [
       "https://alerce.online/object/ZTF18acrjydf"
      ]
     },
     "metadata": {},
     "output_type": "display_data"
    },
    {
     "name": "stdout",
     "output_type": "stream",
     "text": [
      "0\t\t1133\t\t\t\tNone\t\t\t0.0\n"
     ]
    },
    {
     "data": {
      "text/markdown": [
       "https://alerce.online/object/ZTF18abnxdlr"
      ]
     },
     "metadata": {},
     "output_type": "display_data"
    },
    {
     "name": "stdout",
     "output_type": "stream",
     "text": [
      "1\t\t657\t\t\t\tNone\t\t\t1.0837\n"
     ]
    },
    {
     "data": {
      "text/markdown": [
       "https://alerce.online/object/ZTF19aaortys"
      ]
     },
     "metadata": {},
     "output_type": "display_data"
    },
    {
     "name": "stdout",
     "output_type": "stream",
     "text": [
      "2\t\t4953\t\t\t\tNone\t\t\t1.2855\n"
     ]
    },
    {
     "data": {
      "text/markdown": [
       "https://alerce.online/object/ZTF18accqoid"
      ]
     },
     "metadata": {},
     "output_type": "display_data"
    },
    {
     "name": "stdout",
     "output_type": "stream",
     "text": [
      "3\t\t4317\t\t\t\tNone\t\t\t1.294\n"
     ]
    },
    {
     "data": {
      "text/markdown": [
       "https://alerce.online/object/ZTF17aadhojj"
      ]
     },
     "metadata": {},
     "output_type": "display_data"
    },
    {
     "name": "stdout",
     "output_type": "stream",
     "text": [
      "4\t\t3524\t\t\t\tNone\t\t\t1.3946\n"
     ]
    },
    {
     "data": {
      "text/markdown": [
       "https://alerce.online/object/ZTF19aaawcck"
      ]
     },
     "metadata": {},
     "output_type": "display_data"
    },
    {
     "name": "stdout",
     "output_type": "stream",
     "text": [
      "5\t\t4717\t\t\t\tNone\t\t\t1.4024\n"
     ]
    },
    {
     "data": {
      "text/markdown": [
       "https://alerce.online/object/ZTF18acfvdps"
      ]
     },
     "metadata": {},
     "output_type": "display_data"
    },
    {
     "name": "stdout",
     "output_type": "stream",
     "text": [
      "6\t\t3111\t\t\t\tNone\t\t\t1.4093\n"
     ]
    },
    {
     "data": {
      "text/markdown": [
       "https://alerce.online/object/ZTF19abxpoxx"
      ]
     },
     "metadata": {},
     "output_type": "display_data"
    },
    {
     "name": "stdout",
     "output_type": "stream",
     "text": [
      "7\t\t3212\t\t\t\tNone\t\t\t1.4148\n"
     ]
    },
    {
     "data": {
      "text/markdown": [
       "https://alerce.online/object/ZTF18abbalsj"
      ]
     },
     "metadata": {},
     "output_type": "display_data"
    },
    {
     "name": "stdout",
     "output_type": "stream",
     "text": [
      "8\t\t1047\t\t\t\tNone\t\t\t1.433\n"
     ]
    },
    {
     "data": {
      "text/markdown": [
       "https://alerce.online/object/ZTF18adbmjun"
      ]
     },
     "metadata": {},
     "output_type": "display_data"
    },
    {
     "name": "stdout",
     "output_type": "stream",
     "text": [
      "9\t\t5436\t\t\t\tNone\t\t\t1.4341\n"
     ]
    }
   ],
   "source": [
    "# feat_arr_ref = np.vstack(np.array(dataset_ref, dtype='object'))\n",
    "# scaled_feat_arr_ref = scaler.transform(feat_arr_ref) #scaler.transform(feat_arr) # What your model learns on\n",
    "# #scaled_feat_arr_ref = scaler.fit_transform(feat_arr_ref) #scaler.transform(feat_arr) # What your model learns on\n",
    "\n",
    "# Scalar then PCA\n",
    "scaled_feat_arr_ref = np.array(dataset_ref)\n",
    "\n",
    "# # PCA only\n",
    "# feat_arr_ref = np.vstack(np.array(dataset_ref, dtype='object'))\n",
    "# scaled_feat_arr_ref = feat_arr_ref\n",
    "\n",
    "# #PCA then scaler\n",
    "# feat_arr_ref = np.vstack(np.array(dataset_ref, dtype='object'))\n",
    "# scaled_feat_arr_ref = feat_arr_ref\n",
    "\n",
    "ztf_id = dataset_ref.index.values[0]\n",
    "lcdata = {'name': ztf_id, 'vector': scaled_feat_arr_ref[0]}\n",
    "#lcdata = {'name': ztf_id, 'vector': feat_arr_scaled[-5:-4][0]}\n",
    "\n",
    "#result_id, result_dist = index.index.get_nns_by_item(, n=10, include_distances=True)\n",
    "result_id, result_dist = index.index.get_nns_by_vector(lcdata['vector'], n=10, include_distances=True)\n",
    "#result_name = index.query(lcdata['vector'])\n",
    "\n",
    "print(f\"ZTF ID name (ref) {ztf_id}\") \n",
    "link_ref = display_markdown(f'https://alerce.online/object/{ztf_id}', raw=True)\n",
    "print(link_ref)\n",
    "print(\"%%%%%%\")\n",
    "print(\"ANN\\t\\tIDX\\t\\t\\t\\tZTF_id\\t\\t\\t\\tDIST\")#\\tFEAT\")\n",
    "for n, (i, d) in enumerate(zip(result_id, result_dist)):#, feat_arr):\n",
    "    print(f\"{n}\\t\\t{i}\\t\\t\\t\\t{display_markdown(f'https://alerce.online/object/{idx_arr[i]}', raw=True)}\\t\\t\\t{round(d, 4)}\")#\\t{f}\")"
   ]
  },
  {
   "cell_type": "code",
   "execution_count": 179,
   "id": "334c566f",
   "metadata": {},
   "outputs": [
    {
     "data": {
      "text/html": [
       "<div>\n",
       "<style scoped>\n",
       "    .dataframe tbody tr th:only-of-type {\n",
       "        vertical-align: middle;\n",
       "    }\n",
       "\n",
       "    .dataframe tbody tr th {\n",
       "        vertical-align: top;\n",
       "    }\n",
       "\n",
       "    .dataframe thead th {\n",
       "        text-align: right;\n",
       "    }\n",
       "</style>\n",
       "<table border=\"1\" class=\"dataframe\">\n",
       "  <thead>\n",
       "    <tr style=\"text-align: right;\">\n",
       "      <th></th>\n",
       "      <th>PC0</th>\n",
       "      <th>PC1</th>\n",
       "      <th>PC2</th>\n",
       "      <th>PC3</th>\n",
       "      <th>PC4</th>\n",
       "      <th>PC5</th>\n",
       "      <th>PC6</th>\n",
       "      <th>PC7</th>\n",
       "      <th>PC8</th>\n",
       "      <th>PC9</th>\n",
       "      <th>...</th>\n",
       "      <th>PC15</th>\n",
       "      <th>PC16</th>\n",
       "      <th>PC17</th>\n",
       "      <th>PC18</th>\n",
       "      <th>PC19</th>\n",
       "      <th>PC20</th>\n",
       "      <th>PC21</th>\n",
       "      <th>PC22</th>\n",
       "      <th>PC23</th>\n",
       "      <th>PC24</th>\n",
       "    </tr>\n",
       "    <tr>\n",
       "      <th>ztf_object_id</th>\n",
       "      <th></th>\n",
       "      <th></th>\n",
       "      <th></th>\n",
       "      <th></th>\n",
       "      <th></th>\n",
       "      <th></th>\n",
       "      <th></th>\n",
       "      <th></th>\n",
       "      <th></th>\n",
       "      <th></th>\n",
       "      <th></th>\n",
       "      <th></th>\n",
       "      <th></th>\n",
       "      <th></th>\n",
       "      <th></th>\n",
       "      <th></th>\n",
       "      <th></th>\n",
       "      <th></th>\n",
       "      <th></th>\n",
       "      <th></th>\n",
       "      <th></th>\n",
       "    </tr>\n",
       "  </thead>\n",
       "  <tbody>\n",
       "    <tr>\n",
       "      <th>ZTF20acpjcoe</th>\n",
       "      <td>0.224535</td>\n",
       "      <td>0.566490</td>\n",
       "      <td>0.242256</td>\n",
       "      <td>0.775567</td>\n",
       "      <td>0.326212</td>\n",
       "      <td>0.853905</td>\n",
       "      <td>-0.173623</td>\n",
       "      <td>-0.263680</td>\n",
       "      <td>-0.274480</td>\n",
       "      <td>0.035241</td>\n",
       "      <td>...</td>\n",
       "      <td>-0.165939</td>\n",
       "      <td>-0.069985</td>\n",
       "      <td>0.157781</td>\n",
       "      <td>0.103398</td>\n",
       "      <td>-0.061902</td>\n",
       "      <td>0.081462</td>\n",
       "      <td>-0.148421</td>\n",
       "      <td>0.034548</td>\n",
       "      <td>0.092817</td>\n",
       "      <td>-0.123910</td>\n",
       "    </tr>\n",
       "    <tr>\n",
       "      <th>ZTF21aaphlty</th>\n",
       "      <td>0.406718</td>\n",
       "      <td>0.588532</td>\n",
       "      <td>0.227268</td>\n",
       "      <td>0.445513</td>\n",
       "      <td>0.738978</td>\n",
       "      <td>0.721315</td>\n",
       "      <td>-0.035245</td>\n",
       "      <td>-0.315780</td>\n",
       "      <td>-0.064052</td>\n",
       "      <td>-0.100828</td>\n",
       "      <td>...</td>\n",
       "      <td>-0.183692</td>\n",
       "      <td>-0.186780</td>\n",
       "      <td>0.200088</td>\n",
       "      <td>-0.072723</td>\n",
       "      <td>0.052464</td>\n",
       "      <td>-0.126119</td>\n",
       "      <td>0.122489</td>\n",
       "      <td>-0.084576</td>\n",
       "      <td>-0.067653</td>\n",
       "      <td>0.011282</td>\n",
       "    </tr>\n",
       "    <tr>\n",
       "      <th>ZTF20abvowvw</th>\n",
       "      <td>0.067413</td>\n",
       "      <td>0.776745</td>\n",
       "      <td>-0.001059</td>\n",
       "      <td>0.515824</td>\n",
       "      <td>0.612684</td>\n",
       "      <td>0.708358</td>\n",
       "      <td>0.298317</td>\n",
       "      <td>-0.184456</td>\n",
       "      <td>-0.127795</td>\n",
       "      <td>0.238591</td>\n",
       "      <td>...</td>\n",
       "      <td>-0.083730</td>\n",
       "      <td>-0.124317</td>\n",
       "      <td>0.170197</td>\n",
       "      <td>-0.006322</td>\n",
       "      <td>0.023984</td>\n",
       "      <td>-0.187800</td>\n",
       "      <td>0.064759</td>\n",
       "      <td>-0.063446</td>\n",
       "      <td>0.021706</td>\n",
       "      <td>-0.147334</td>\n",
       "    </tr>\n",
       "    <tr>\n",
       "      <th>ZTF19aadoota</th>\n",
       "      <td>-0.056919</td>\n",
       "      <td>0.196331</td>\n",
       "      <td>0.191289</td>\n",
       "      <td>0.412090</td>\n",
       "      <td>0.444049</td>\n",
       "      <td>0.719631</td>\n",
       "      <td>-0.065765</td>\n",
       "      <td>-0.284738</td>\n",
       "      <td>-0.034154</td>\n",
       "      <td>0.134905</td>\n",
       "      <td>...</td>\n",
       "      <td>-0.051208</td>\n",
       "      <td>-0.099738</td>\n",
       "      <td>-0.058770</td>\n",
       "      <td>-0.246198</td>\n",
       "      <td>-0.012071</td>\n",
       "      <td>-0.015647</td>\n",
       "      <td>-0.009683</td>\n",
       "      <td>0.003243</td>\n",
       "      <td>-0.014203</td>\n",
       "      <td>0.053404</td>\n",
       "    </tr>\n",
       "    <tr>\n",
       "      <th>ZTF19aaluacc</th>\n",
       "      <td>0.372949</td>\n",
       "      <td>0.223254</td>\n",
       "      <td>0.184414</td>\n",
       "      <td>0.679922</td>\n",
       "      <td>0.420685</td>\n",
       "      <td>0.789952</td>\n",
       "      <td>0.205168</td>\n",
       "      <td>-0.288276</td>\n",
       "      <td>-0.044720</td>\n",
       "      <td>-0.287261</td>\n",
       "      <td>...</td>\n",
       "      <td>-0.196574</td>\n",
       "      <td>-0.112468</td>\n",
       "      <td>0.032500</td>\n",
       "      <td>-0.072035</td>\n",
       "      <td>-0.177958</td>\n",
       "      <td>-0.287701</td>\n",
       "      <td>0.010352</td>\n",
       "      <td>-0.255483</td>\n",
       "      <td>0.090885</td>\n",
       "      <td>0.034967</td>\n",
       "    </tr>\n",
       "    <tr>\n",
       "      <th>ZTF20abywydb</th>\n",
       "      <td>0.428686</td>\n",
       "      <td>0.307549</td>\n",
       "      <td>0.493391</td>\n",
       "      <td>0.279515</td>\n",
       "      <td>0.560400</td>\n",
       "      <td>0.522277</td>\n",
       "      <td>0.071725</td>\n",
       "      <td>-0.262748</td>\n",
       "      <td>-0.029899</td>\n",
       "      <td>0.054425</td>\n",
       "      <td>...</td>\n",
       "      <td>-0.193148</td>\n",
       "      <td>0.007863</td>\n",
       "      <td>0.140674</td>\n",
       "      <td>-0.112031</td>\n",
       "      <td>0.095084</td>\n",
       "      <td>-0.061999</td>\n",
       "      <td>-0.128462</td>\n",
       "      <td>-0.225592</td>\n",
       "      <td>-0.127762</td>\n",
       "      <td>-0.120298</td>\n",
       "    </tr>\n",
       "    <tr>\n",
       "      <th>ZTF21aamiukc</th>\n",
       "      <td>0.258648</td>\n",
       "      <td>0.385504</td>\n",
       "      <td>0.110195</td>\n",
       "      <td>0.414644</td>\n",
       "      <td>0.587817</td>\n",
       "      <td>0.759155</td>\n",
       "      <td>0.319276</td>\n",
       "      <td>-0.187737</td>\n",
       "      <td>0.086711</td>\n",
       "      <td>-0.246093</td>\n",
       "      <td>...</td>\n",
       "      <td>-0.142547</td>\n",
       "      <td>-0.118671</td>\n",
       "      <td>-0.054412</td>\n",
       "      <td>-0.199626</td>\n",
       "      <td>-0.152480</td>\n",
       "      <td>-0.107907</td>\n",
       "      <td>-0.081791</td>\n",
       "      <td>-0.064342</td>\n",
       "      <td>0.045053</td>\n",
       "      <td>-0.015065</td>\n",
       "    </tr>\n",
       "    <tr>\n",
       "      <th>ZTF20acggxac</th>\n",
       "      <td>0.157185</td>\n",
       "      <td>0.036184</td>\n",
       "      <td>0.344125</td>\n",
       "      <td>0.407427</td>\n",
       "      <td>0.249108</td>\n",
       "      <td>0.807223</td>\n",
       "      <td>-0.211627</td>\n",
       "      <td>-0.207803</td>\n",
       "      <td>-0.002088</td>\n",
       "      <td>0.143276</td>\n",
       "      <td>...</td>\n",
       "      <td>-0.261472</td>\n",
       "      <td>0.050268</td>\n",
       "      <td>0.017663</td>\n",
       "      <td>-0.100755</td>\n",
       "      <td>0.025363</td>\n",
       "      <td>0.272668</td>\n",
       "      <td>0.011465</td>\n",
       "      <td>0.132192</td>\n",
       "      <td>-0.126066</td>\n",
       "      <td>0.154299</td>\n",
       "    </tr>\n",
       "    <tr>\n",
       "      <th>ZTF20acvezvs</th>\n",
       "      <td>-0.088187</td>\n",
       "      <td>-0.069083</td>\n",
       "      <td>0.019650</td>\n",
       "      <td>0.549539</td>\n",
       "      <td>0.548172</td>\n",
       "      <td>0.901192</td>\n",
       "      <td>-0.047968</td>\n",
       "      <td>-0.320738</td>\n",
       "      <td>-0.016380</td>\n",
       "      <td>0.237838</td>\n",
       "      <td>...</td>\n",
       "      <td>-0.050727</td>\n",
       "      <td>0.067044</td>\n",
       "      <td>0.288041</td>\n",
       "      <td>0.009743</td>\n",
       "      <td>0.094507</td>\n",
       "      <td>0.104020</td>\n",
       "      <td>0.070973</td>\n",
       "      <td>-0.080306</td>\n",
       "      <td>0.096016</td>\n",
       "      <td>0.017690</td>\n",
       "    </tr>\n",
       "    <tr>\n",
       "      <th>ZTF18abrfccm</th>\n",
       "      <td>0.193761</td>\n",
       "      <td>0.072604</td>\n",
       "      <td>0.720655</td>\n",
       "      <td>0.559943</td>\n",
       "      <td>0.210739</td>\n",
       "      <td>0.458349</td>\n",
       "      <td>-0.228374</td>\n",
       "      <td>-0.268462</td>\n",
       "      <td>-0.013767</td>\n",
       "      <td>0.160056</td>\n",
       "      <td>...</td>\n",
       "      <td>-0.030360</td>\n",
       "      <td>-0.001158</td>\n",
       "      <td>0.044639</td>\n",
       "      <td>-0.106063</td>\n",
       "      <td>-0.021390</td>\n",
       "      <td>0.102276</td>\n",
       "      <td>0.058486</td>\n",
       "      <td>0.286010</td>\n",
       "      <td>0.012305</td>\n",
       "      <td>-0.140369</td>\n",
       "    </tr>\n",
       "  </tbody>\n",
       "</table>\n",
       "<p>10 rows × 25 columns</p>\n",
       "</div>"
      ],
      "text/plain": [
       "                    PC0       PC1       PC2       PC3       PC4       PC5  \\\n",
       "ztf_object_id                                                               \n",
       "ZTF20acpjcoe   0.224535  0.566490  0.242256  0.775567  0.326212  0.853905   \n",
       "ZTF21aaphlty   0.406718  0.588532  0.227268  0.445513  0.738978  0.721315   \n",
       "ZTF20abvowvw   0.067413  0.776745 -0.001059  0.515824  0.612684  0.708358   \n",
       "ZTF19aadoota  -0.056919  0.196331  0.191289  0.412090  0.444049  0.719631   \n",
       "ZTF19aaluacc   0.372949  0.223254  0.184414  0.679922  0.420685  0.789952   \n",
       "ZTF20abywydb   0.428686  0.307549  0.493391  0.279515  0.560400  0.522277   \n",
       "ZTF21aamiukc   0.258648  0.385504  0.110195  0.414644  0.587817  0.759155   \n",
       "ZTF20acggxac   0.157185  0.036184  0.344125  0.407427  0.249108  0.807223   \n",
       "ZTF20acvezvs  -0.088187 -0.069083  0.019650  0.549539  0.548172  0.901192   \n",
       "ZTF18abrfccm   0.193761  0.072604  0.720655  0.559943  0.210739  0.458349   \n",
       "\n",
       "                    PC6       PC7       PC8       PC9  ...      PC15  \\\n",
       "ztf_object_id                                          ...             \n",
       "ZTF20acpjcoe  -0.173623 -0.263680 -0.274480  0.035241  ... -0.165939   \n",
       "ZTF21aaphlty  -0.035245 -0.315780 -0.064052 -0.100828  ... -0.183692   \n",
       "ZTF20abvowvw   0.298317 -0.184456 -0.127795  0.238591  ... -0.083730   \n",
       "ZTF19aadoota  -0.065765 -0.284738 -0.034154  0.134905  ... -0.051208   \n",
       "ZTF19aaluacc   0.205168 -0.288276 -0.044720 -0.287261  ... -0.196574   \n",
       "ZTF20abywydb   0.071725 -0.262748 -0.029899  0.054425  ... -0.193148   \n",
       "ZTF21aamiukc   0.319276 -0.187737  0.086711 -0.246093  ... -0.142547   \n",
       "ZTF20acggxac  -0.211627 -0.207803 -0.002088  0.143276  ... -0.261472   \n",
       "ZTF20acvezvs  -0.047968 -0.320738 -0.016380  0.237838  ... -0.050727   \n",
       "ZTF18abrfccm  -0.228374 -0.268462 -0.013767  0.160056  ... -0.030360   \n",
       "\n",
       "                   PC16      PC17      PC18      PC19      PC20      PC21  \\\n",
       "ztf_object_id                                                               \n",
       "ZTF20acpjcoe  -0.069985  0.157781  0.103398 -0.061902  0.081462 -0.148421   \n",
       "ZTF21aaphlty  -0.186780  0.200088 -0.072723  0.052464 -0.126119  0.122489   \n",
       "ZTF20abvowvw  -0.124317  0.170197 -0.006322  0.023984 -0.187800  0.064759   \n",
       "ZTF19aadoota  -0.099738 -0.058770 -0.246198 -0.012071 -0.015647 -0.009683   \n",
       "ZTF19aaluacc  -0.112468  0.032500 -0.072035 -0.177958 -0.287701  0.010352   \n",
       "ZTF20abywydb   0.007863  0.140674 -0.112031  0.095084 -0.061999 -0.128462   \n",
       "ZTF21aamiukc  -0.118671 -0.054412 -0.199626 -0.152480 -0.107907 -0.081791   \n",
       "ZTF20acggxac   0.050268  0.017663 -0.100755  0.025363  0.272668  0.011465   \n",
       "ZTF20acvezvs   0.067044  0.288041  0.009743  0.094507  0.104020  0.070973   \n",
       "ZTF18abrfccm  -0.001158  0.044639 -0.106063 -0.021390  0.102276  0.058486   \n",
       "\n",
       "                   PC22      PC23      PC24  \n",
       "ztf_object_id                                \n",
       "ZTF20acpjcoe   0.034548  0.092817 -0.123910  \n",
       "ZTF21aaphlty  -0.084576 -0.067653  0.011282  \n",
       "ZTF20abvowvw  -0.063446  0.021706 -0.147334  \n",
       "ZTF19aadoota   0.003243 -0.014203  0.053404  \n",
       "ZTF19aaluacc  -0.255483  0.090885  0.034967  \n",
       "ZTF20abywydb  -0.225592 -0.127762 -0.120298  \n",
       "ZTF21aamiukc  -0.064342  0.045053 -0.015065  \n",
       "ZTF20acggxac   0.132192 -0.126066  0.154299  \n",
       "ZTF20acvezvs  -0.080306  0.096016  0.017690  \n",
       "ZTF18abrfccm   0.286010  0.012305 -0.140369  \n",
       "\n",
       "[10 rows x 25 columns]"
      ]
     },
     "execution_count": 179,
     "metadata": {},
     "output_type": "execute_result"
    }
   ],
   "source": [
    "results_df = dataset_bank[dataset_bank.index.isin(idx_arr[result_id])]\n",
    "results_df = results_df.reindex(idx_arr[result_id])\n",
    "results_df"
   ]
  },
  {
   "cell_type": "code",
   "execution_count": 180,
   "id": "db9edd74",
   "metadata": {},
   "outputs": [
    {
     "data": {
      "image/png": "[encoded data removed]",
      "text/plain": [
       "<Figure size 432x288 with 1 Axes>"
      ]
     },
     "metadata": {
      "needs_background": "light"
     },
     "output_type": "display_data"
    },
    {
     "data": {
      "image/png": "[encoded data removed]",
      "text/plain": [
       "<Figure size 432x288 with 1 Axes>"
      ]
     },
     "metadata": {
      "needs_background": "light"
     },
     "output_type": "display_data"
    },
    {
     "data": {
      "image/png": "[encoded data removed]",
      "text/plain": [
       "<Figure size 432x288 with 1 Axes>"
      ]
     },
     "metadata": {
      "needs_background": "light"
     },
     "output_type": "display_data"
    },
    {
     "data": {
      "image/png": "[encoded data removed]",
      "text/plain": [
       "<Figure size 432x288 with 1 Axes>"
      ]
     },
     "metadata": {
      "needs_background": "light"
     },
     "output_type": "display_data"
    },
    {
     "data": {
      "image/png": "[encoded data removed]",
      "text/plain": [
       "<Figure size 432x288 with 1 Axes>"
      ]
     },
     "metadata": {
      "needs_background": "light"
     },
     "output_type": "display_data"
    },
    {
     "data": {
      "image/png": "[encoded data removed]",
      "text/plain": [
       "<Figure size 432x288 with 1 Axes>"
      ]
     },
     "metadata": {
      "needs_background": "light"
     },
     "output_type": "display_data"
    },
    {
     "data": {
      "image/png": "[encoded data removed]",
      "text/plain": [
       "<Figure size 432x288 with 1 Axes>"
      ]
     },
     "metadata": {
      "needs_background": "light"
     },
     "output_type": "display_data"
    },
    {
     "data": {
      "image/png": "[encoded data removed]",
      "text/plain": [
       "<Figure size 432x288 with 1 Axes>"
      ]
     },
     "metadata": {
      "needs_background": "light"
     },
     "output_type": "display_data"
    },
    {
     "data": {
      "image/png": "[encoded data removed]",
      "text/plain": [
       "<Figure size 432x288 with 1 Axes>"
      ]
     },
     "metadata": {
      "needs_background": "light"
     },
     "output_type": "display_data"
    },
    {
     "data": {
      "image/png": "[encoded data removed]",
      "text/plain": [
       "<Figure size 432x288 with 1 Axes>"
      ]
     },
     "metadata": {
      "needs_background": "light"
     },
     "output_type": "display_data"
    },
    {
     "data": {
      "image/png": "[encoded data removed]",
      "text/plain": [
       "<Figure size 432x288 with 1 Axes>"
      ]
     },
     "metadata": {
      "needs_background": "light"
     },
     "output_type": "display_data"
    },
    {
     "data": {
      "image/png": "[encoded data removed]",
      "text/plain": [
       "<Figure size 432x288 with 1 Axes>"
      ]
     },
     "metadata": {
      "needs_background": "light"
     },
     "output_type": "display_data"
    },
    {
     "data": {
      "image/png": "[encoded data removed]",
      "text/plain": [
       "<Figure size 432x288 with 1 Axes>"
      ]
     },
     "metadata": {
      "needs_background": "light"
     },
     "output_type": "display_data"
    },
    {
     "data": {
      "image/png": "[encoded data removed]",
      "text/plain": [
       "<Figure size 432x288 with 1 Axes>"
      ]
     },
     "metadata": {
      "needs_background": "light"
     },
     "output_type": "display_data"
    },
    {
     "data": {
      "image/png": "[encoded data removed]",
      "text/plain": [
       "<Figure size 432x288 with 1 Axes>"
      ]
     },
     "metadata": {
      "needs_background": "light"
     },
     "output_type": "display_data"
    },
    {
     "data": {
      "image/png": "[encoded data removed]",
      "text/plain": [
       "<Figure size 432x288 with 1 Axes>"
      ]
     },
     "metadata": {
      "needs_background": "light"
     },
     "output_type": "display_data"
    },
    {
     "data": {
      "image/png": "[encoded data removed]",
      "text/plain": [
       "<Figure size 432x288 with 1 Axes>"
      ]
     },
     "metadata": {
      "needs_background": "light"
     },
     "output_type": "display_data"
    },
    {
     "data": {
      "image/png": "[encoded data removed]",
      "text/plain": [
       "<Figure size 432x288 with 1 Axes>"
      ]
     },
     "metadata": {
      "needs_background": "light"
     },
     "output_type": "display_data"
    },
    {
     "data": {
      "image/png": "[encoded data removed]",
      "text/plain": [
       "<Figure size 432x288 with 1 Axes>"
      ]
     },
     "metadata": {
      "needs_background": "light"
     },
     "output_type": "display_data"
    },
    {
     "data": {
      "image/png": "[encoded data removed]",
      "text/plain": [
       "<Figure size 432x288 with 1 Axes>"
      ]
     },
     "metadata": {
      "needs_background": "light"
     },
     "output_type": "display_data"
    },
    {
     "data": {
      "image/png": "[encoded data removed]",
      "text/plain": [
       "<Figure size 432x288 with 1 Axes>"
      ]
     },
     "metadata": {
      "needs_background": "light"
     },
     "output_type": "display_data"
    },
    {
     "data": {
      "image/png": "[encoded data removed]",
      "text/plain": [
       "<Figure size 432x288 with 1 Axes>"
      ]
     },
     "metadata": {
      "needs_background": "light"
     },
     "output_type": "display_data"
    },
    {
     "data": {
      "image/png": "[encoded data removed]",
      "text/plain": [
       "<Figure size 432x288 with 1 Axes>"
      ]
     },
     "metadata": {
      "needs_background": "light"
     },
     "output_type": "display_data"
    },
    {
     "data": {
      "image/png": "[encoded data removed]",
      "text/plain": [
       "<Figure size 432x288 with 1 Axes>"
      ]
     },
     "metadata": {
      "needs_background": "light"
     },
     "output_type": "display_data"
    },
    {
     "data": {
      "image/png": "[encoded data removed]",
      "text/plain": [
       "<Figure size 432x288 with 1 Axes>"
      ]
     },
     "metadata": {
      "needs_background": "light"
     },
     "output_type": "display_data"
    }
   ],
   "source": [
    "feat_scatter_l = []\n",
    "for feat in results_df.columns:\n",
    "    fig, ax = plt.subplots()\n",
    "    min_feat, max_feat = np.min(dataset_bank[feat]), np.max(dataset_bank[feat])\n",
    "    \n",
    "    ax.hist(results_df[feat], bins=np.linspace(min_feat, max_feat, 50))\n",
    "    ax.set_title(feat)\n",
    "    ax.set_xlim(min_feat, max_feat)\n",
    "    \n",
    "    plt.show()\n",
    "    \n",
    "    feat_scatter = np.std(results_df[feat])\n",
    "    feat_scatter_l.append(feat_scatter)    "
   ]
  },
  {
   "cell_type": "code",
   "execution_count": 181,
   "id": "d64a6e8e",
   "metadata": {},
   "outputs": [
    {
     "name": "stdout",
     "output_type": "stream",
     "text": [
      "Scatter mean: 0.12426773682292841\n",
      "Scatter median: 0.1087977693381017\n",
      "Scatter std: 0.04906726674442312\n",
      "Scatter max: 0.2573677265060483\n",
      "Scatter min: 0.04683367486501401\n"
     ]
    }
   ],
   "source": [
    "print(\"Scatter mean:\", np.mean(feat_scatter_l))\n",
    "print(\"Scatter median:\", np.median(feat_scatter_l))\n",
    "print(\"Scatter std:\", np.std(feat_scatter_l))\n",
    "print(\"Scatter max:\", np.max(feat_scatter_l))\n",
    "print(\"Scatter min:\", np.min(feat_scatter_l))"
   ]
  },
  {
   "cell_type": "code",
   "execution_count": 182,
   "id": "6e0a12fc",
   "metadata": {},
   "outputs": [
    {
     "data": {
      "text/plain": [
       "['ZTF17aaaceht',\n",
       " 'ZTF17aaadqdy',\n",
       " 'ZTF17aaadqyf',\n",
       " 'ZTF17aaadvbq',\n",
       " 'ZTF17aaaeqwm',\n",
       " 'ZTF17aaaessf',\n",
       " 'ZTF17aaaeszu',\n",
       " 'ZTF17aaafvwp',\n",
       " 'ZTF17aaaiujz',\n",
       " 'ZTF17aaajigm',\n",
       " 'ZTF17aaaosws',\n",
       " 'ZTF17aaaszpi',\n",
       " 'ZTF17aaawfja',\n",
       " 'ZTF17aaaxbpe',\n",
       " 'ZTF17aaaxepf',\n",
       " 'ZTF17aaaylgr',\n",
       " 'ZTF17aaaylji',\n",
       " 'ZTF17aaayqxe',\n",
       " 'ZTF17aaazdba',\n",
       " 'ZTF17aaazswp',\n",
       " 'ZTF17aabatnf',\n",
       " 'ZTF17aabayoe',\n",
       " 'ZTF17aabbekc',\n",
       " 'ZTF17aabbyml',\n",
       " 'ZTF17aabcdvi',\n",
       " 'ZTF17aabfalr',\n",
       " 'ZTF17aabfisy',\n",
       " 'ZTF17aabrisn',\n",
       " 'ZTF17aabtjot',\n",
       " 'ZTF17aabvadg',\n",
       " 'ZTF17aabvbro',\n",
       " 'ZTF17aabvbxh',\n",
       " 'ZTF17aabvdvz',\n",
       " 'ZTF17aabvgff',\n",
       " 'ZTF17aabvhms',\n",
       " 'ZTF17aabvsex',\n",
       " 'ZTF17aabvslj',\n",
       " 'ZTF17aabwfng',\n",
       " 'ZTF17aabwial',\n",
       " 'ZTF17aabwnil',\n",
       " 'ZTF17aabyjvg',\n",
       " 'ZTF17aacdedh',\n",
       " 'ZTF17aacerqo',\n",
       " 'ZTF17aacgbkd',\n",
       " 'ZTF17aacgbnb',\n",
       " 'ZTF17aacovpb',\n",
       " 'ZTF17aacqbsh',\n",
       " 'ZTF17aacrdcz',\n",
       " 'ZTF17aacsrdl',\n",
       " 'ZTF17aacwthb',\n",
       " 'ZTF17aacwvlz',\n",
       " 'ZTF17aacxlmj',\n",
       " 'ZTF17aacxngg',\n",
       " 'ZTF17aacxqcb',\n",
       " 'ZTF17aadcxky',\n",
       " 'ZTF17aadecfa',\n",
       " 'ZTF17aadgjxx',\n",
       " 'ZTF17aadhojj',\n",
       " 'ZTF17aadijjx',\n",
       " 'ZTF17aadksem',\n",
       " 'ZTF17aadldpl',\n",
       " 'ZTF17aadmavx',\n",
       " 'ZTF17aadnibx',\n",
       " 'ZTF17aadnnqu',\n",
       " 'ZTF17aadorld',\n",
       " 'ZTF17aadpiic',\n",
       " 'ZTF17aadsokz',\n",
       " 'ZTF18aaaakzb',\n",
       " 'ZTF18aaaalav',\n",
       " 'ZTF18aaabjrg',\n",
       " 'ZTF18aaabpjz',\n",
       " 'ZTF18aaabyej',\n",
       " 'ZTF18aaacnaf',\n",
       " 'ZTF18aaadcnj',\n",
       " 'ZTF18aaadkqq',\n",
       " 'ZTF18aaadlbr',\n",
       " 'ZTF18aaadqxn',\n",
       " 'ZTF18aaaexrn',\n",
       " 'ZTF18aaafcir',\n",
       " 'ZTF18aaafciz',\n",
       " 'ZTF18aaaglix',\n",
       " 'ZTF18aaahnxc',\n",
       " 'ZTF18aaahuou',\n",
       " 'ZTF18aaahyks',\n",
       " 'ZTF18aaaltza',\n",
       " 'ZTF18aaaluao',\n",
       " 'ZTF18aaamggc',\n",
       " 'ZTF18aaamyys',\n",
       " 'ZTF18aaanmtv',\n",
       " 'ZTF18aaaogip',\n",
       " 'ZTF18aaavrep',\n",
       " 'ZTF18aaawltr',\n",
       " 'ZTF18aaawoza',\n",
       " 'ZTF18aabfezo',\n",
       " 'ZTF18aabgccu',\n",
       " 'ZTF18aabhkge',\n",
       " 'ZTF18aabikcf',\n",
       " 'ZTF18aabixno',\n",
       " 'ZTF18aabjfew',\n",
       " 'ZTF18aabjliz',\n",
       " 'ZTF18aabjmhh',\n",
       " 'ZTF18aabjusm',\n",
       " 'ZTF18aabldzj',\n",
       " 'ZTF18aabnboa',\n",
       " 'ZTF18aabpmmq',\n",
       " 'ZTF18aabtsqv',\n",
       " 'ZTF18aabvmws',\n",
       " 'ZTF18aabxqsf',\n",
       " 'ZTF18aabxquq',\n",
       " 'ZTF18aabxrxc',\n",
       " 'ZTF18aabzreg',\n",
       " 'ZTF18aacbuof',\n",
       " 'ZTF18aacendi',\n",
       " 'ZTF18aacetnj',\n",
       " 'ZTF18aackurs',\n",
       " 'ZTF18aacoati',\n",
       " 'ZTF18aacpgok',\n",
       " 'ZTF18aacqksn',\n",
       " 'ZTF18aacybto',\n",
       " 'ZTF18aacyrfm',\n",
       " 'ZTF18aacytjm',\n",
       " 'ZTF18aadsuxd',\n",
       " 'ZTF18aaemfad',\n",
       " 'ZTF18aaerwtj',\n",
       " 'ZTF18aafkisa',\n",
       " 'ZTF18aaflcyp',\n",
       " 'ZTF18aafmzfx',\n",
       " 'ZTF18aafzers',\n",
       " 'ZTF18aagazmu',\n",
       " 'ZTF18aagrkka',\n",
       " 'ZTF18aagslba',\n",
       " 'ZTF18aagtgio',\n",
       " 'ZTF18aagvosz',\n",
       " 'ZTF18aagxqqo',\n",
       " 'ZTF18aagymbb',\n",
       " 'ZTF18aahfaex',\n",
       " 'ZTF18aahfbqp',\n",
       " 'ZTF18aahizxp',\n",
       " 'ZTF18aahrtcx',\n",
       " 'ZTF18aahvkih',\n",
       " 'ZTF18aahxwwm',\n",
       " 'ZTF18aahyuqr',\n",
       " 'ZTF18aahzodv',\n",
       " 'ZTF18aaikcbb',\n",
       " 'ZTF18aaillhd',\n",
       " 'ZTF18aaimlad',\n",
       " 'ZTF18aaimvvd',\n",
       " 'ZTF18aaimyhb',\n",
       " 'ZTF18aaiojnp',\n",
       " 'ZTF18aairzfe',\n",
       " 'ZTF18aaisede',\n",
       " 'ZTF18aaisqmw',\n",
       " 'ZTF18aaisuxd',\n",
       " 'ZTF18aaiuram',\n",
       " 'ZTF18aaiuynw',\n",
       " 'ZTF18aaixeun',\n",
       " 'ZTF18aaiywtb',\n",
       " 'ZTF18aajarpg',\n",
       " 'ZTF18aajcvol',\n",
       " 'ZTF18aajgowk',\n",
       " 'ZTF18aajhfdm',\n",
       " 'ZTF18aajhixn',\n",
       " 'ZTF18aajhjty',\n",
       " 'ZTF18aajiirj',\n",
       " 'ZTF18aajimzr',\n",
       " 'ZTF18aajjeon',\n",
       " 'ZTF18aajkgtr',\n",
       " 'ZTF18aajlmvj',\n",
       " 'ZTF18aajmlnp',\n",
       " 'ZTF18aajnqcz',\n",
       " 'ZTF18aajojlg',\n",
       " 'ZTF18aajosvs',\n",
       " 'ZTF18aajqkmc',\n",
       " 'ZTF18aajsfmi',\n",
       " 'ZTF18aajspec',\n",
       " 'ZTF18aajsslo',\n",
       " 'ZTF18aajucax',\n",
       " 'ZTF18aajupnt',\n",
       " 'ZTF18aajywbu',\n",
       " 'ZTF18aakbuks',\n",
       " 'ZTF18aakdxwu',\n",
       " 'ZTF18aakeanj',\n",
       " 'ZTF18aakfmga',\n",
       " 'ZTF18aakgfls',\n",
       " 'ZTF18aakgwjz',\n",
       " 'ZTF18aakjrdj',\n",
       " 'ZTF18aakjslm',\n",
       " 'ZTF18aakjslv',\n",
       " 'ZTF18aakjwoc',\n",
       " 'ZTF18aakmfzw',\n",
       " 'ZTF18aakqnui',\n",
       " 'ZTF18aakqtob',\n",
       " 'ZTF18aakroxr',\n",
       " 'ZTF18aakwtnx',\n",
       " 'ZTF18aakyols',\n",
       " 'ZTF18aalbuug',\n",
       " 'ZTF18aaldkeo',\n",
       " 'ZTF18aalfgzi',\n",
       " 'ZTF18aalfxxh',\n",
       " 'ZTF18aalnhwx',\n",
       " 'ZTF18aalrqbo',\n",
       " 'ZTF18aalujjg',\n",
       " 'ZTF18aalurvg',\n",
       " 'ZTF18aambplw',\n",
       " 'ZTF18aamggvs',\n",
       " 'ZTF18aamhodq',\n",
       " 'ZTF18aamjezd',\n",
       " 'ZTF18aamnjnf',\n",
       " 'ZTF18aamoyxp',\n",
       " 'ZTF18aamrnds',\n",
       " 'ZTF18aamsdqe',\n",
       " 'ZTF18aamsjnk',\n",
       " 'ZTF18aamsloi',\n",
       " 'ZTF18aamsonx',\n",
       " 'ZTF18aamspfr',\n",
       " 'ZTF18aamuyxs',\n",
       " 'ZTF18aamveez',\n",
       " 'ZTF18aamvgyc',\n",
       " 'ZTF18aamwgec',\n",
       " 'ZTF18aamwhcr',\n",
       " 'ZTF18aamwkdj',\n",
       " 'ZTF18aamwmzm',\n",
       " 'ZTF18aamwsog',\n",
       " 'ZTF18aamxgji',\n",
       " 'ZTF18aamyjmv',\n",
       " 'ZTF18aamzaez',\n",
       " 'ZTF18aamzgzi',\n",
       " 'ZTF18aanbqsx',\n",
       " 'ZTF18aangniu',\n",
       " 'ZTF18aangnse',\n",
       " 'ZTF18aanlksp',\n",
       " 'ZTF18aanlyrr',\n",
       " 'ZTF18aanorqm',\n",
       " 'ZTF18aanqoxh',\n",
       " 'ZTF18aanqsdl',\n",
       " 'ZTF18aanttsq',\n",
       " 'ZTF18aaobdmp',\n",
       " 'ZTF18aaohzxs',\n",
       " 'ZTF18aaoifol',\n",
       " 'ZTF18aaojnbl',\n",
       " 'ZTF18aaoscmr',\n",
       " 'ZTF18aaoscng',\n",
       " 'ZTF18aaosxqj',\n",
       " 'ZTF18aaotqdd',\n",
       " 'ZTF18aaotrbz',\n",
       " 'ZTF18aaouezy',\n",
       " 'ZTF18aaoxrup',\n",
       " 'ZTF18aapdhva',\n",
       " 'ZTF18aapvnse',\n",
       " 'ZTF18aaqbknn',\n",
       " 'ZTF18aaqctvg',\n",
       " 'ZTF18aaqdozs',\n",
       " 'ZTF18aaqdpei',\n",
       " 'ZTF18aaqdtaz',\n",
       " 'ZTF18aaqeygf',\n",
       " 'ZTF18aaqkyak',\n",
       " 'ZTF18aaqrazi',\n",
       " 'ZTF18aaqrkdd',\n",
       " 'ZTF18aaqtcaj',\n",
       " 'ZTF18aaqtfvb',\n",
       " 'ZTF18aaqtvhx',\n",
       " 'ZTF18aaqujbu',\n",
       " 'ZTF18aaqvatw',\n",
       " 'ZTF18aaqxsoq',\n",
       " 'ZTF18aaqzdge',\n",
       " 'ZTF18aaqzupy',\n",
       " 'ZTF18aarcfhq',\n",
       " 'ZTF18aarcfoj',\n",
       " 'ZTF18aardhrz',\n",
       " 'ZTF18aardhvg',\n",
       " 'ZTF18aardhvh',\n",
       " 'ZTF18aardsim',\n",
       " 'ZTF18aarindm',\n",
       " 'ZTF18aarkxiq',\n",
       " 'ZTF18aarlnan',\n",
       " 'ZTF18aarltmo',\n",
       " 'ZTF18aarmerf',\n",
       " 'ZTF18aarmrqu',\n",
       " 'ZTF18aarnakb',\n",
       " 'ZTF18aarnjei',\n",
       " 'ZTF18aarnrsg',\n",
       " 'ZTF18aarpasu',\n",
       " 'ZTF18aarpwgw',\n",
       " 'ZTF18aarszsc',\n",
       " 'ZTF18aarvozv',\n",
       " 'ZTF18aarwmbx',\n",
       " 'ZTF18aarybes',\n",
       " 'ZTF18aasaemj',\n",
       " 'ZTF18aasdbcz',\n",
       " 'ZTF18aasdwcj',\n",
       " 'ZTF18aasgsbp',\n",
       " 'ZTF18aaspomf',\n",
       " 'ZTF18aassmll',\n",
       " 'ZTF18aasuvvw',\n",
       " 'ZTF18aaswkjp',\n",
       " 'ZTF18aasxguy',\n",
       " 'ZTF18aasxopo',\n",
       " 'ZTF18aasxshs',\n",
       " 'ZTF18aaszzet',\n",
       " 'ZTF18aatckag',\n",
       " 'ZTF18aatgeou',\n",
       " 'ZTF18aatgwzp',\n",
       " 'ZTF18aathofv',\n",
       " 'ZTF18aaticrz',\n",
       " 'ZTF18aatrkga',\n",
       " 'ZTF18aaudcvx',\n",
       " 'ZTF18aaudhst',\n",
       " 'ZTF18aaudlsu',\n",
       " 'ZTF18aaudpep',\n",
       " 'ZTF18aaudvjl',\n",
       " 'ZTF18aaufneh',\n",
       " 'ZTF18aaunwvg',\n",
       " 'ZTF18aaupkfe',\n",
       " 'ZTF18aauplfk',\n",
       " 'ZTF18aauppcc',\n",
       " 'ZTF18aautopz',\n",
       " 'ZTF18aauyioj',\n",
       " 'ZTF18aauzldt',\n",
       " 'ZTF18aavbdtl',\n",
       " 'ZTF18aavbjpl',\n",
       " 'ZTF18aavcjxt',\n",
       " 'ZTF18aavikwc',\n",
       " 'ZTF18aavirzt',\n",
       " 'ZTF18aavixvy',\n",
       " 'ZTF18aavlwac',\n",
       " 'ZTF18aavnewb',\n",
       " 'ZTF18aavsboy',\n",
       " 'ZTF18aavsbzk',\n",
       " 'ZTF18aavslaf',\n",
       " 'ZTF18aavtfaw',\n",
       " 'ZTF18aavvbzo',\n",
       " 'ZTF18aawaxwh',\n",
       " 'ZTF18aawdtcp',\n",
       " 'ZTF18aawewas',\n",
       " 'ZTF18aawfxuz',\n",
       " 'ZTF18aawjhmu',\n",
       " 'ZTF18aawkikh',\n",
       " 'ZTF18aawoeuq',\n",
       " 'ZTF18aawohdr',\n",
       " 'ZTF18aawonvg',\n",
       " 'ZTF18aawqich',\n",
       " 'ZTF18aawwauk',\n",
       " 'ZTF18aawxxvy',\n",
       " 'ZTF18aaxcnzq',\n",
       " 'ZTF18aaxfmkt',\n",
       " 'ZTF18aaxfqpw',\n",
       " 'ZTF18aaxftdm',\n",
       " 'ZTF18aaxgkrd',\n",
       " 'ZTF18aaxgsld',\n",
       " 'ZTF18aaxkznd',\n",
       " 'ZTF18aaxlbza',\n",
       " 'ZTF18aaxmrno',\n",
       " 'ZTF18aaxsiek',\n",
       " 'ZTF18aaxsntq',\n",
       " 'ZTF18aaxuniq',\n",
       " 'ZTF18aaxvbon',\n",
       " 'ZTF18aaxvddj',\n",
       " 'ZTF18aaxvvve',\n",
       " 'ZTF18aaxwzcl',\n",
       " 'ZTF18aaxxesu',\n",
       " 'ZTF18aayblma',\n",
       " 'ZTF18aaygxfb',\n",
       " 'ZTF18aayiwrn',\n",
       " 'ZTF18aayjflv',\n",
       " 'ZTF18aayldhk',\n",
       " 'ZTF18aaymimc',\n",
       " 'ZTF18aaymqbw',\n",
       " 'ZTF18aayrjuu',\n",
       " 'ZTF18aayxwiy',\n",
       " 'ZTF18aayyqia',\n",
       " 'ZTF18aazcpuo',\n",
       " 'ZTF18aazdsmo',\n",
       " 'ZTF18aazdsts',\n",
       " 'ZTF18aazhdtd',\n",
       " 'ZTF18aazijkx',\n",
       " 'ZTF18aaznohv',\n",
       " 'ZTF18aazwbob',\n",
       " 'ZTF18aazwtfj',\n",
       " 'ZTF18aazydub',\n",
       " 'ZTF18aazyefz',\n",
       " 'ZTF18aazyesm',\n",
       " 'ZTF18aazyflv',\n",
       " 'ZTF18aazyqfa',\n",
       " 'ZTF18abaaehe',\n",
       " 'ZTF18abacdrk',\n",
       " 'ZTF18abadost',\n",
       " 'ZTF18abaeapi',\n",
       " 'ZTF18abaebdt',\n",
       " 'ZTF18abafeps',\n",
       " 'ZTF18abafkmb',\n",
       " 'ZTF18abajcwg',\n",
       " 'ZTF18abajonw',\n",
       " 'ZTF18abajytm',\n",
       " 'ZTF18abakpye',\n",
       " 'ZTF18abaktue',\n",
       " 'ZTF18abaloxo',\n",
       " 'ZTF18abamoiy',\n",
       " 'ZTF18abamwxi',\n",
       " 'ZTF18abaognh',\n",
       " 'ZTF18abatajq',\n",
       " 'ZTF18abavhtq',\n",
       " 'ZTF18abaximg',\n",
       " 'ZTF18abaxira',\n",
       " 'ZTF18abaxirl',\n",
       " 'ZTF18abaxirr',\n",
       " 'ZTF18abbalsj',\n",
       " 'ZTF18abbaoxt',\n",
       " 'ZTF18abbaqjz',\n",
       " 'ZTF18abbasxr',\n",
       " 'ZTF18abbatfv',\n",
       " 'ZTF18abbathn',\n",
       " 'ZTF18abbbbfh',\n",
       " 'ZTF18abbcdgf',\n",
       " 'ZTF18abbfnyk',\n",
       " 'ZTF18abbgtca',\n",
       " 'ZTF18abbgtrt',\n",
       " 'ZTF18abbjkma',\n",
       " 'ZTF18abbpatw',\n",
       " 'ZTF18abbphww',\n",
       " 'ZTF18abbpxum',\n",
       " 'ZTF18abbvolg',\n",
       " 'ZTF18abccnnu',\n",
       " 'ZTF18abccocr',\n",
       " 'ZTF18abcefug',\n",
       " 'ZTF18abceigh',\n",
       " 'ZTF18abcejms',\n",
       " 'ZTF18abcfhwe',\n",
       " 'ZTF18abchgzn',\n",
       " 'ZTF18abcitrn',\n",
       " 'ZTF18abcixsd',\n",
       " 'ZTF18abcopwv',\n",
       " 'ZTF18abcopzi',\n",
       " 'ZTF18abcoyyp',\n",
       " 'ZTF18abcpptp',\n",
       " 'ZTF18abcqhpj',\n",
       " 'ZTF18abcragc',\n",
       " 'ZTF18abcrakt',\n",
       " 'ZTF18abcrjaj',\n",
       " 'ZTF18abcsbfc',\n",
       " 'ZTF18abctzem',\n",
       " 'ZTF18abcuptj',\n",
       " 'ZTF18abcvjwg',\n",
       " 'ZTF18abcvlze',\n",
       " 'ZTF18abcxiwb',\n",
       " 'ZTF18abcyewb',\n",
       " 'ZTF18abdbmxo',\n",
       " 'ZTF18abdeilz',\n",
       " 'ZTF18abdeyqm',\n",
       " 'ZTF18abdgzhy',\n",
       " 'ZTF18abdikfo',\n",
       " 'ZTF18abdiqbm',\n",
       " 'ZTF18abdkcdd',\n",
       " 'ZTF18abdkfhl',\n",
       " 'ZTF18abdkosj',\n",
       " 'ZTF18abdmejr',\n",
       " 'ZTF18abdqsaa',\n",
       " 'ZTF18abdquxk',\n",
       " 'ZTF18abdqwzs',\n",
       " 'ZTF18abdrgmk',\n",
       " 'ZTF18abdrjak',\n",
       " 'ZTF18abeassi',\n",
       " 'ZTF18abebfor',\n",
       " 'ZTF18abebfpp',\n",
       " 'ZTF18abedjzp',\n",
       " 'ZTF18abedvgv',\n",
       " 'ZTF18abeidyj',\n",
       " 'ZTF18abeincb',\n",
       " 'ZTF18abeysxb',\n",
       " 'ZTF18abfbldv',\n",
       " 'ZTF18abfbqje',\n",
       " 'ZTF18abfcbwz',\n",
       " 'ZTF18abfcyrs',\n",
       " 'ZTF18abfdhyu',\n",
       " 'ZTF18abfdjlf',\n",
       " 'ZTF18abfdlao',\n",
       " 'ZTF18abfdmhq',\n",
       " 'ZTF18abffirs',\n",
       " 'ZTF18abfgrnw',\n",
       " 'ZTF18abfhxwa',\n",
       " 'ZTF18abfrtwl',\n",
       " 'ZTF18abftjfd',\n",
       " 'ZTF18abftpeo',\n",
       " 'ZTF18abfunob',\n",
       " 'ZTF18abgjfxs',\n",
       " 'ZTF18abglspd',\n",
       " 'ZTF18abgmhmr',\n",
       " 'ZTF18abgnzei',\n",
       " 'ZTF18abgoslk',\n",
       " 'ZTF18abgpyxp',\n",
       " 'ZTF18abgrcvk',\n",
       " 'ZTF18abgtfeh',\n",
       " 'ZTF18abgudds',\n",
       " 'ZTF18abgutvi',\n",
       " 'ZTF18abgyujv',\n",
       " 'ZTF18abhaogi',\n",
       " 'ZTF18abhazhc',\n",
       " 'ZTF18abhbckp',\n",
       " 'ZTF18abhbcly',\n",
       " 'ZTF18abhbfng',\n",
       " 'ZTF18abhbgsb',\n",
       " 'ZTF18abhgvly',\n",
       " 'ZTF18abhgzvb',\n",
       " 'ZTF18abhhbpd',\n",
       " 'ZTF18abhhkwr',\n",
       " 'ZTF18abhpdpk',\n",
       " 'ZTF18abhpqxt',\n",
       " 'ZTF18abhprrt',\n",
       " 'ZTF18abhprrz',\n",
       " 'ZTF18abhpuat',\n",
       " 'ZTF18abhpwjs',\n",
       " 'ZTF18abhpxmi',\n",
       " 'ZTF18abhqdbt',\n",
       " 'ZTF18abhqhxq',\n",
       " 'ZTF18abhrfqy',\n",
       " 'ZTF18abhrhjx',\n",
       " 'ZTF18abhrinh',\n",
       " 'ZTF18abhvtlu',\n",
       " 'ZTF18abhxyyr',\n",
       " 'ZTF18abhyeak',\n",
       " 'ZTF18abhyeww',\n",
       " 'ZTF18abhyixg',\n",
       " 'ZTF18abidfrg',\n",
       " 'ZTF18abidsfi',\n",
       " 'ZTF18abidshg',\n",
       " 'ZTF18abidshu',\n",
       " 'ZTF18abidsia',\n",
       " 'ZTF18abidsjb',\n",
       " 'ZTF18abidtbp',\n",
       " 'ZTF18abidwfm',\n",
       " 'ZTF18abidwxm',\n",
       " 'ZTF18abidzga',\n",
       " 'ZTF18abieats',\n",
       " 'ZTF18abieaur',\n",
       " 'ZTF18abiebtk',\n",
       " 'ZTF18abiebxp',\n",
       " 'ZTF18abiebxx',\n",
       " 'ZTF18abigzfx',\n",
       " 'ZTF18abihjwv',\n",
       " 'ZTF18abiisgk',\n",
       " 'ZTF18abiitmq',\n",
       " 'ZTF18abiivzb',\n",
       " 'ZTF18abilamx',\n",
       " 'ZTF18abilrsi',\n",
       " 'ZTF18abilvuu',\n",
       " 'ZTF18abimrqx',\n",
       " 'ZTF18abitwua',\n",
       " 'ZTF18abiwpqb',\n",
       " 'ZTF18abixqaz',\n",
       " 'ZTF18abjdkye',\n",
       " 'ZTF18abjfjqc',\n",
       " 'ZTF18abjhnhv',\n",
       " 'ZTF18abjiaea',\n",
       " 'ZTF18abjicev',\n",
       " 'ZTF18abjihpp',\n",
       " 'ZTF18abjiiwy',\n",
       " 'ZTF18abjingz',\n",
       " 'ZTF18abjivjn',\n",
       " 'ZTF18abjjggr',\n",
       " 'ZTF18abjjhij',\n",
       " 'ZTF18abjjhqc',\n",
       " 'ZTF18abjjszq',\n",
       " 'ZTF18abjjzhy',\n",
       " 'ZTF18abjkagy',\n",
       " 'ZTF18abjnszt',\n",
       " 'ZTF18abjntsc',\n",
       " 'ZTF18abjrjzo',\n",
       " 'ZTF18abjstia',\n",
       " 'ZTF18abjsuqf',\n",
       " 'ZTF18abjttli',\n",
       " 'ZTF18abjulqq',\n",
       " 'ZTF18abjzmwc',\n",
       " 'ZTF18abjzual',\n",
       " 'ZTF18abkaoyw',\n",
       " 'ZTF18abkbyfj',\n",
       " 'ZTF18abkebyf',\n",
       " 'ZTF18abkhqww',\n",
       " 'ZTF18abkmfaj',\n",
       " 'ZTF18abkrwin',\n",
       " 'ZTF18abkryib',\n",
       " 'ZTF18abkstyt',\n",
       " 'ZTF18abkudoc',\n",
       " 'ZTF18abkuguc',\n",
       " 'ZTF18abkvguy',\n",
       " 'ZTF18abkvski',\n",
       " 'ZTF18abkvwte',\n",
       " 'ZTF18abkwclj',\n",
       " 'ZTF18abkyfht',\n",
       " 'ZTF18ablcwde',\n",
       " 'ZTF18ablenpn',\n",
       " 'ZTF18ablhtzm',\n",
       " 'ZTF18ablmduj',\n",
       " 'ZTF18ablpujj',\n",
       " 'ZTF18ablqjws',\n",
       " 'ZTF18ablsesv',\n",
       " 'ZTF18ablsftj',\n",
       " 'ZTF18ablvjlv',\n",
       " 'ZTF18ablwagw',\n",
       " 'ZTF18ablwatx',\n",
       " 'ZTF18ablwbmx',\n",
       " 'ZTF18ablwbrz',\n",
       " 'ZTF18ablwbyx',\n",
       " 'ZTF18abmdsqd',\n",
       " 'ZTF18abmdvem',\n",
       " 'ZTF18abmdvvm',\n",
       " 'ZTF18abmjgxz',\n",
       " 'ZTF18abmjokp',\n",
       " 'ZTF18abmjokz',\n",
       " 'ZTF18abmjprg',\n",
       " 'ZTF18abmjzjq',\n",
       " 'ZTF18abmmqhi',\n",
       " 'ZTF18abmnwoe',\n",
       " 'ZTF18abmnxmm',\n",
       " 'ZTF18abmoegl',\n",
       " 'ZTF18abmofew',\n",
       " 'ZTF18abmofyq',\n",
       " 'ZTF18abmrfle',\n",
       " 'ZTF18abmrrmn',\n",
       " 'ZTF18abmrrqe',\n",
       " 'ZTF18abmwqee',\n",
       " 'ZTF18abmwqjl',\n",
       " 'ZTF18abmwqqd',\n",
       " 'ZTF18abmwqrm',\n",
       " 'ZTF18abncstl',\n",
       " 'ZTF18abnnclx',\n",
       " 'ZTF18abnodhk',\n",
       " 'ZTF18abntxid',\n",
       " 'ZTF18abnuffd',\n",
       " 'ZTF18abnurpy',\n",
       " 'ZTF18abnvkuw',\n",
       " 'ZTF18abnvnqb',\n",
       " 'ZTF18abnxdlr',\n",
       " 'ZTF18abnxhcp',\n",
       " 'ZTF18abnxtci',\n",
       " 'ZTF18abnxthi',\n",
       " 'ZTF18abnyewn',\n",
       " 'ZTF18abnygdc',\n",
       " 'ZTF18abnygsu',\n",
       " 'ZTF18abnyhnb',\n",
       " 'ZTF18abnysyy',\n",
       " 'ZTF18abnyvgv',\n",
       " 'ZTF18abnzafq',\n",
       " 'ZTF18abnzang',\n",
       " 'ZTF18abnzanh',\n",
       " 'ZTF18abnzlaf',\n",
       " 'ZTF18abnzljw',\n",
       " 'ZTF18abnznca',\n",
       " 'ZTF18aboaqfu',\n",
       " 'ZTF18aboaqmt',\n",
       " 'ZTF18aboboyu',\n",
       " 'ZTF18abocrdj',\n",
       " 'ZTF18abodptl',\n",
       " 'ZTF18abodsby',\n",
       " 'ZTF18abodsjx',\n",
       " 'ZTF18abokvkt',\n",
       " 'ZTF18abolrnr',\n",
       " 'ZTF18abolvsx',\n",
       " 'ZTF18abolwbb',\n",
       " 'ZTF18abolxht',\n",
       " 'ZTF18abomkdr',\n",
       " 'ZTF18abomlis',\n",
       " 'ZTF18abomqgm',\n",
       " 'ZTF18abomxtr',\n",
       " 'ZTF18abomxwz',\n",
       " 'ZTF18aborsfx',\n",
       " 'ZTF18aboryas',\n",
       " 'ZTF18aboseqx',\n",
       " 'ZTF18abosfti',\n",
       " 'ZTF18abosocu',\n",
       " 'ZTF18abosrdl',\n",
       " 'ZTF18abosvuq',\n",
       " 'ZTF18abotdgb',\n",
       " 'ZTF18abotdrt',\n",
       " 'ZTF18abotthu',\n",
       " 'ZTF18abpnyzv',\n",
       " 'ZTF18abpovmh',\n",
       " 'ZTF18abpucqe',\n",
       " 'ZTF18abpuqnj',\n",
       " 'ZTF18abpurdz',\n",
       " 'ZTF18abpvkbn',\n",
       " 'ZTF18abpvkeq',\n",
       " 'ZTF18abpvlkb',\n",
       " 'ZTF18abpvodb',\n",
       " 'ZTF18abpvvnc',\n",
       " 'ZTF18abpvxoe',\n",
       " 'ZTF18abpvycf',\n",
       " 'ZTF18abpwocs',\n",
       " 'ZTF18abpxhcy',\n",
       " 'ZTF18abpxwfe',\n",
       " 'ZTF18abqdnri',\n",
       " 'ZTF18abqkkmc',\n",
       " 'ZTF18abqlptn',\n",
       " 'ZTF18abqmhgu',\n",
       " 'ZTF18abqmlbf',\n",
       " 'ZTF18abqmohy',\n",
       " 'ZTF18abqnhqs',\n",
       " 'ZTF18abqovck',\n",
       " 'ZTF18abqoyzy',\n",
       " 'ZTF18abqozkb',\n",
       " 'ZTF18abqqwrv',\n",
       " 'ZTF18abqrcpd',\n",
       " 'ZTF18abqrgyt',\n",
       " 'ZTF18abqrlbv',\n",
       " 'ZTF18abqrqie',\n",
       " 'ZTF18abqsqer',\n",
       " 'ZTF18abqszue',\n",
       " 'ZTF18abqtbeo',\n",
       " 'ZTF18abqtjyg',\n",
       " 'ZTF18abqtmfl',\n",
       " 'ZTF18abqvoxq',\n",
       " 'ZTF18abqwlfl',\n",
       " 'ZTF18abqwlth',\n",
       " 'ZTF18abqxgjb',\n",
       " 'ZTF18abqxlym',\n",
       " 'ZTF18abqytqh',\n",
       " 'ZTF18abqyvzy',\n",
       " 'ZTF18abqyxra',\n",
       " 'ZTF18abqzozb',\n",
       " 'ZTF18abqzssj',\n",
       " 'ZTF18abqzyxd',\n",
       " 'ZTF18abqzzgc',\n",
       " 'ZTF18abraeee',\n",
       " 'ZTF18abrafcb',\n",
       " 'ZTF18abraycf',\n",
       " 'ZTF18abrbbhn',\n",
       " 'ZTF18abrbsjx',\n",
       " 'ZTF18abrbxjy',\n",
       " 'ZTF18abrbywo',\n",
       " 'ZTF18abrchli',\n",
       " 'ZTF18abrclmq',\n",
       " 'ZTF18abrcnqv',\n",
       " 'ZTF18abrcntr',\n",
       " 'ZTF18abrcoty',\n",
       " 'ZTF18abrdfnp',\n",
       " 'ZTF18abrdsmw',\n",
       " 'ZTF18abrebst',\n",
       " 'ZTF18abreidf',\n",
       " 'ZTF18abrerpa',\n",
       " 'ZTF18abrfccm',\n",
       " 'ZTF18abrflmh',\n",
       " 'ZTF18abrfojp',\n",
       " 'ZTF18abrfpgi',\n",
       " 'ZTF18abrjrtk',\n",
       " 'ZTF18abrjsbd',\n",
       " 'ZTF18abrjwgw',\n",
       " 'ZTF18abrjyix',\n",
       " 'ZTF18abrlhnm',\n",
       " 'ZTF18abrlupd',\n",
       " 'ZTF18abrlurr',\n",
       " 'ZTF18abrpkdw',\n",
       " 'ZTF18abrqfne',\n",
       " 'ZTF18abrwqti',\n",
       " 'ZTF18abrwqze',\n",
       " 'ZTF18abrxvpd',\n",
       " 'ZTF18abrxwft',\n",
       " 'ZTF18abrypts',\n",
       " 'ZTF18abrznzn',\n",
       " 'ZTF18absabho',\n",
       " 'ZTF18absbnno',\n",
       " 'ZTF18abscaqd',\n",
       " 'ZTF18abscarg',\n",
       " 'ZTF18absccph',\n",
       " 'ZTF18abscetq',\n",
       " 'ZTF18abscghc',\n",
       " 'ZTF18absdgly',\n",
       " 'ZTF18abseier',\n",
       " 'ZTF18absgmgq',\n",
       " 'ZTF18abshgbq',\n",
       " 'ZTF18abshjvi',\n",
       " 'ZTF18abshpvd',\n",
       " 'ZTF18abshxig',\n",
       " 'ZTF18abshzzh',\n",
       " 'ZTF18absibtq',\n",
       " 'ZTF18absjbhi',\n",
       " 'ZTF18abskrcm',\n",
       " 'ZTF18abskrdj',\n",
       " 'ZTF18abskuxt',\n",
       " 'ZTF18abskynw',\n",
       " 'ZTF18abslcdf',\n",
       " 'ZTF18abslilb',\n",
       " 'ZTF18absljlb',\n",
       " 'ZTF18absllcn',\n",
       " 'ZTF18abslmvn',\n",
       " 'ZTF18absloog',\n",
       " 'ZTF18absmsbm',\n",
       " 'ZTF18absnppg',\n",
       " 'ZTF18absogsh',\n",
       " 'ZTF18absoiaw',\n",
       " 'ZTF18absoikn',\n",
       " 'ZTF18absoonn',\n",
       " 'ZTF18absopgb',\n",
       " 'ZTF18absopva',\n",
       " 'ZTF18absoseb',\n",
       " 'ZTF18abspnfw',\n",
       " 'ZTF18absqeyn',\n",
       " 'ZTF18absqfcr',\n",
       " 'ZTF18absqioy',\n",
       " 'ZTF18absqoha',\n",
       " 'ZTF18absqohp',\n",
       " 'ZTF18absquza',\n",
       " 'ZTF18absrljp',\n",
       " 'ZTF18absrnwg',\n",
       " 'ZTF18absuyaw',\n",
       " 'ZTF18abswseo',\n",
       " 'ZTF18absyldt',\n",
       " 'ZTF18abszdtn',\n",
       " 'ZTF18abtcryi',\n",
       " 'ZTF18abtczbw',\n",
       " 'ZTF18abtdsnp',\n",
       " 'ZTF18abtdyuj',\n",
       " 'ZTF18abtefhg',\n",
       " 'ZTF18abtfpxc',\n",
       " 'ZTF18abtfywo',\n",
       " 'ZTF18abtgidf',\n",
       " 'ZTF18abtgkwr',\n",
       " 'ZTF18abtgmuw',\n",
       " 'ZTF18abtgmvi',\n",
       " 'ZTF18abtgmyy',\n",
       " 'ZTF18abtgxcg',\n",
       " 'ZTF18abthaii',\n",
       " 'ZTF18abtibmv',\n",
       " 'ZTF18abtigie',\n",
       " 'ZTF18abtjaxz',\n",
       " 'ZTF18abtjpmw',\n",
       " 'ZTF18abtjrbt',\n",
       " 'ZTF18abtkctg',\n",
       " 'ZTF18abtlpqu',\n",
       " 'ZTF18abtlxae',\n",
       " 'ZTF18abtlxdk',\n",
       " 'ZTF18abtmguc',\n",
       " 'ZTF18abtmnha',\n",
       " 'ZTF18abtmpsu',\n",
       " 'ZTF18abtmtop',\n",
       " 'ZTF18abtnfkm',\n",
       " 'ZTF18abtnwpa',\n",
       " 'ZTF18abtoswj',\n",
       " 'ZTF18abtotsq',\n",
       " 'ZTF18abtpcqy',\n",
       " 'ZTF18abtpgms',\n",
       " 'ZTF18abtpsfq',\n",
       " 'ZTF18abtptey',\n",
       " 'ZTF18abtqceg',\n",
       " 'ZTF18abtqidt',\n",
       " 'ZTF18abtrhsu',\n",
       " 'ZTF18abtrugt',\n",
       " 'ZTF18abtruyi',\n",
       " 'ZTF18abtrwhw',\n",
       " 'ZTF18abtsmcc',\n",
       " 'ZTF18abtssiy',\n",
       " 'ZTF18abtstfa',\n",
       " 'ZTF18abtswin',\n",
       " 'ZTF18abtswjb',\n",
       " 'ZTF18abttamx',\n",
       " 'ZTF18abttbxr',\n",
       " 'ZTF18abttmvw',\n",
       " 'ZTF18abtubdj',\n",
       " 'ZTF18abtvgxt',\n",
       " 'ZTF18abtvtlr',\n",
       " 'ZTF18abtwqub',\n",
       " 'ZTF18abtxmwz',\n",
       " 'ZTF18abtxolm',\n",
       " 'ZTF18abtxonb',\n",
       " 'ZTF18abtxvzd',\n",
       " 'ZTF18abtyoco',\n",
       " 'ZTF18abtyrbe',\n",
       " 'ZTF18abtyzfd',\n",
       " 'ZTF18abtzbiw',\n",
       " 'ZTF18abtzpwt',\n",
       " 'ZTF18abuahio',\n",
       " 'ZTF18abuamfx',\n",
       " 'ZTF18abuamik',\n",
       " 'ZTF18abubjqi',\n",
       " 'ZTF18abudtvm',\n",
       " 'ZTF18abudwhx',\n",
       " 'ZTF18abudxdz',\n",
       " 'ZTF18abudxus',\n",
       " 'ZTF18abueihq',\n",
       " 'ZTF18abueiia',\n",
       " 'ZTF18abueqkm',\n",
       " 'ZTF18abufaej',\n",
       " 'ZTF18abufdtb',\n",
       " 'ZTF18abufimm',\n",
       " 'ZTF18abufwxs',\n",
       " 'ZTF18abuglgw',\n",
       " 'ZTF18abugmrg',\n",
       " 'ZTF18abugsun',\n",
       " 'ZTF18abuhrdj',\n",
       " 'ZTF18abuioue',\n",
       " 'ZTF18abuiqaq',\n",
       " 'ZTF18abuiqbc',\n",
       " 'ZTF18abuiqng',\n",
       " 'ZTF18abuluko',\n",
       " 'ZTF18abumbdx',\n",
       " 'ZTF18abumbir',\n",
       " 'ZTF18abumhwl',\n",
       " 'ZTF18abumqzr',\n",
       " 'ZTF18abumuge',\n",
       " 'ZTF18abumzbf',\n",
       " 'ZTF18abunerr',\n",
       " 'ZTF18abungyy',\n",
       " 'ZTF18abunpfb',\n",
       " 'ZTF18abuodpq',\n",
       " 'ZTF18abuoilc',\n",
       " 'ZTF18abuoupy',\n",
       " 'ZTF18abupgfe',\n",
       " 'ZTF18abuphwk',\n",
       " 'ZTF18abupjkc',\n",
       " 'ZTF18abupzmf',\n",
       " 'ZTF18abuqeyf',\n",
       " 'ZTF18abuqtio',\n",
       " 'ZTF18abusbig',\n",
       " 'ZTF18abusmrh',\n",
       " 'ZTF18abuufhd',\n",
       " 'ZTF18abuvcfy',\n",
       " 'ZTF18abuvkop',\n",
       " 'ZTF18abuvqgo',\n",
       " 'ZTF18abuvrhf',\n",
       " 'ZTF18abuvvvi',\n",
       " 'ZTF18abuvwbn',\n",
       " 'ZTF18abuvzad',\n",
       " 'ZTF18abuwqwh',\n",
       " 'ZTF18abuwwep',\n",
       " 'ZTF18abuxbuy',\n",
       " 'ZTF18abuxcom',\n",
       " 'ZTF18abuxgmk',\n",
       " 'ZTF18abuxjrd',\n",
       " 'ZTF18abuxzbi',\n",
       " 'ZTF18abuyadc',\n",
       " 'ZTF18abuyayk',\n",
       " 'ZTF18abuyoil',\n",
       " 'ZTF18abuyomg',\n",
       " 'ZTF18abuyqos',\n",
       " 'ZTF18abuzcfn',\n",
       " 'ZTF18abuzfuy',\n",
       " 'ZTF18abvbbvs',\n",
       " 'ZTF18abvctat',\n",
       " 'ZTF18abvculm',\n",
       " 'ZTF18abvdnfx',\n",
       " 'ZTF18abvebli',\n",
       " 'ZTF18abvegny',\n",
       " 'ZTF18abventv',\n",
       " 'ZTF18abvetit',\n",
       " 'ZTF18abvexiz',\n",
       " 'ZTF18abvfbfu',\n",
       " 'ZTF18abvfegl',\n",
       " 'ZTF18abvffbs',\n",
       " 'ZTF18abvftne',\n",
       " 'ZTF18abviwam',\n",
       " 'ZTF18abvizhr',\n",
       " 'ZTF18abvjzco',\n",
       " 'ZTF18abvkhmi',\n",
       " 'ZTF18abvkmgw',\n",
       " 'ZTF18abvkugj',\n",
       " 'ZTF18abvkuvt',\n",
       " 'ZTF18abvlent',\n",
       " 'ZTF18abvlkmi',\n",
       " 'ZTF18abvlljw',\n",
       " 'ZTF18abvllym',\n",
       " 'ZTF18abvloec',\n",
       " 'ZTF18abvlumw',\n",
       " 'ZTF18abvlwwh',\n",
       " 'ZTF18abvmlow',\n",
       " 'ZTF18abvmtpk',\n",
       " 'ZTF18abvndet',\n",
       " 'ZTF18abvrgjc',\n",
       " 'ZTF18abvrvdk',\n",
       " 'ZTF18abvsuho',\n",
       " 'ZTF18abvtbur',\n",
       " 'ZTF18abvtdwi',\n",
       " 'ZTF18abvtfjg',\n",
       " 'ZTF18abvtjgy',\n",
       " 'ZTF18abvtjlp',\n",
       " 'ZTF18abvxirx',\n",
       " 'ZTF18abvywcl',\n",
       " 'ZTF18abvywkc',\n",
       " 'ZTF18abvyxki',\n",
       " 'ZTF18abvyzns',\n",
       " 'ZTF18abvziip',\n",
       " 'ZTF18abvzknw',\n",
       " 'ZTF18abvzmll',\n",
       " 'ZTF18abvztkh',\n",
       " 'ZTF18abvztlm',\n",
       " 'ZTF18abvztmc',\n",
       " 'ZTF18abvztrd',\n",
       " 'ZTF18abvzuda',\n",
       " 'ZTF18abwasjv',\n",
       " 'ZTF18abwbagr',\n",
       " 'ZTF18abwbaka',\n",
       " 'ZTF18abwbigm',\n",
       " 'ZTF18abwblyl',\n",
       " 'ZTF18abwchop',\n",
       " 'ZTF18abweufn',\n",
       " 'ZTF18abwevqt',\n",
       " 'ZTF18abwfhqb',\n",
       " 'ZTF18abwgjjd',\n",
       " 'ZTF18abwgoho',\n",
       " 'ZTF18abwhowd',\n",
       " 'ZTF18abwhsnx',\n",
       " 'ZTF18abwjsrw',\n",
       " 'ZTF18abwjxop',\n",
       " 'ZTF18abwjypf',\n",
       " ...]"
      ]
     },
     "execution_count": 182,
     "metadata": {},
     "output_type": "execute_result"
    }
   ],
   "source": [
    "list(np.unique(dataset_bank.index))"
   ]
  },
  {
   "cell_type": "code",
   "execution_count": 183,
   "id": "5eb5ae8d",
   "metadata": {},
   "outputs": [
    {
     "name": "stdout",
     "output_type": "stream",
     "text": [
      "CPU times: user 4.79 s, sys: 105 ms, total: 4.9 s\n",
      "Wall time: 5 s\n"
     ]
    },
    {
     "data": {
      "text/html": [
       "<div>\n",
       "<style scoped>\n",
       "    .dataframe tbody tr th:only-of-type {\n",
       "        vertical-align: middle;\n",
       "    }\n",
       "\n",
       "    .dataframe tbody tr th {\n",
       "        vertical-align: top;\n",
       "    }\n",
       "\n",
       "    .dataframe thead th {\n",
       "        text-align: right;\n",
       "    }\n",
       "</style>\n",
       "<table border=\"1\" class=\"dataframe\">\n",
       "  <thead>\n",
       "    <tr style=\"text-align: right;\">\n",
       "      <th></th>\n",
       "      <th>ann=0</th>\n",
       "      <th>ann=1</th>\n",
       "      <th>ann=2</th>\n",
       "      <th>ann=3</th>\n",
       "      <th>ann=4</th>\n",
       "      <th>ann=5</th>\n",
       "      <th>ann=6</th>\n",
       "      <th>ann=7</th>\n",
       "      <th>ann=8</th>\n",
       "      <th>ann=9</th>\n",
       "      <th>...</th>\n",
       "      <th>dist=2</th>\n",
       "      <th>dist=3</th>\n",
       "      <th>dist=4</th>\n",
       "      <th>dist=5</th>\n",
       "      <th>dist=6</th>\n",
       "      <th>dist=7</th>\n",
       "      <th>dist=8</th>\n",
       "      <th>dist=9</th>\n",
       "      <th>Mean_9ANNs</th>\n",
       "      <th>WeightedMean_9ANNs</th>\n",
       "    </tr>\n",
       "    <tr>\n",
       "      <th>key_0</th>\n",
       "      <th></th>\n",
       "      <th></th>\n",
       "      <th></th>\n",
       "      <th></th>\n",
       "      <th></th>\n",
       "      <th></th>\n",
       "      <th></th>\n",
       "      <th></th>\n",
       "      <th></th>\n",
       "      <th></th>\n",
       "      <th></th>\n",
       "      <th></th>\n",
       "      <th></th>\n",
       "      <th></th>\n",
       "      <th></th>\n",
       "      <th></th>\n",
       "      <th></th>\n",
       "      <th></th>\n",
       "      <th></th>\n",
       "      <th></th>\n",
       "      <th></th>\n",
       "    </tr>\n",
       "  </thead>\n",
       "  <tbody>\n",
       "    <tr>\n",
       "      <th>ZTF17aaaceht</th>\n",
       "      <td>2367</td>\n",
       "      <td>241</td>\n",
       "      <td>2346</td>\n",
       "      <td>5456</td>\n",
       "      <td>4957</td>\n",
       "      <td>2659</td>\n",
       "      <td>534</td>\n",
       "      <td>3540</td>\n",
       "      <td>5019</td>\n",
       "      <td>3917</td>\n",
       "      <td>...</td>\n",
       "      <td>0.996831</td>\n",
       "      <td>1.000567</td>\n",
       "      <td>1.022764</td>\n",
       "      <td>1.037713</td>\n",
       "      <td>1.056064</td>\n",
       "      <td>1.056234</td>\n",
       "      <td>1.057521</td>\n",
       "      <td>1.059003</td>\n",
       "      <td>1.022167</td>\n",
       "      <td>0.974364</td>\n",
       "    </tr>\n",
       "    <tr>\n",
       "      <th>ZTF17aaadqdy</th>\n",
       "      <td>4793</td>\n",
       "      <td>818</td>\n",
       "      <td>2561</td>\n",
       "      <td>3678</td>\n",
       "      <td>5129</td>\n",
       "      <td>4193</td>\n",
       "      <td>1125</td>\n",
       "      <td>4404</td>\n",
       "      <td>1404</td>\n",
       "      <td>5442</td>\n",
       "      <td>...</td>\n",
       "      <td>0.966972</td>\n",
       "      <td>1.039653</td>\n",
       "      <td>1.062896</td>\n",
       "      <td>1.082271</td>\n",
       "      <td>1.112104</td>\n",
       "      <td>1.118097</td>\n",
       "      <td>1.120462</td>\n",
       "      <td>1.124447</td>\n",
       "      <td>1.064389</td>\n",
       "      <td>0.999342</td>\n",
       "    </tr>\n",
       "    <tr>\n",
       "      <th>ZTF17aaadqyf</th>\n",
       "      <td>819</td>\n",
       "      <td>1219</td>\n",
       "      <td>3895</td>\n",
       "      <td>4508</td>\n",
       "      <td>1082</td>\n",
       "      <td>2379</td>\n",
       "      <td>4094</td>\n",
       "      <td>3248</td>\n",
       "      <td>324</td>\n",
       "      <td>921</td>\n",
       "      <td>...</td>\n",
       "      <td>0.776775</td>\n",
       "      <td>0.950473</td>\n",
       "      <td>0.961202</td>\n",
       "      <td>0.963167</td>\n",
       "      <td>0.990270</td>\n",
       "      <td>0.990302</td>\n",
       "      <td>1.022079</td>\n",
       "      <td>1.056498</td>\n",
       "      <td>0.937436</td>\n",
       "      <td>0.828333</td>\n",
       "    </tr>\n",
       "    <tr>\n",
       "      <th>ZTF17aaadvbq</th>\n",
       "      <td>818</td>\n",
       "      <td>4793</td>\n",
       "      <td>5508</td>\n",
       "      <td>4425</td>\n",
       "      <td>5129</td>\n",
       "      <td>1154</td>\n",
       "      <td>4015</td>\n",
       "      <td>4404</td>\n",
       "      <td>226</td>\n",
       "      <td>504</td>\n",
       "      <td>...</td>\n",
       "      <td>0.958881</td>\n",
       "      <td>0.969016</td>\n",
       "      <td>0.988413</td>\n",
       "      <td>0.989635</td>\n",
       "      <td>1.001441</td>\n",
       "      <td>1.035004</td>\n",
       "      <td>1.059868</td>\n",
       "      <td>1.070791</td>\n",
       "      <td>1.002849</td>\n",
       "      <td>0.967982</td>\n",
       "    </tr>\n",
       "    <tr>\n",
       "      <th>ZTF17aaaeqwm</th>\n",
       "      <td>3977</td>\n",
       "      <td>4266</td>\n",
       "      <td>5348</td>\n",
       "      <td>809</td>\n",
       "      <td>2364</td>\n",
       "      <td>4068</td>\n",
       "      <td>1405</td>\n",
       "      <td>5313</td>\n",
       "      <td>817</td>\n",
       "      <td>1030</td>\n",
       "      <td>...</td>\n",
       "      <td>1.083866</td>\n",
       "      <td>1.143607</td>\n",
       "      <td>1.144229</td>\n",
       "      <td>1.163700</td>\n",
       "      <td>1.181839</td>\n",
       "      <td>1.191178</td>\n",
       "      <td>1.217174</td>\n",
       "      <td>1.272430</td>\n",
       "      <td>1.163876</td>\n",
       "      <td>1.109447</td>\n",
       "    </tr>\n",
       "    <tr>\n",
       "      <th>...</th>\n",
       "      <td>...</td>\n",
       "      <td>...</td>\n",
       "      <td>...</td>\n",
       "      <td>...</td>\n",
       "      <td>...</td>\n",
       "      <td>...</td>\n",
       "      <td>...</td>\n",
       "      <td>...</td>\n",
       "      <td>...</td>\n",
       "      <td>...</td>\n",
       "      <td>...</td>\n",
       "      <td>...</td>\n",
       "      <td>...</td>\n",
       "      <td>...</td>\n",
       "      <td>...</td>\n",
       "      <td>...</td>\n",
       "      <td>...</td>\n",
       "      <td>...</td>\n",
       "      <td>...</td>\n",
       "      <td>...</td>\n",
       "      <td>...</td>\n",
       "    </tr>\n",
       "    <tr>\n",
       "      <th>ZTF21abrpphg</th>\n",
       "      <td>5396</td>\n",
       "      <td>4417</td>\n",
       "      <td>4003</td>\n",
       "      <td>2660</td>\n",
       "      <td>4334</td>\n",
       "      <td>4034</td>\n",
       "      <td>5335</td>\n",
       "      <td>4010</td>\n",
       "      <td>74</td>\n",
       "      <td>2907</td>\n",
       "      <td>...</td>\n",
       "      <td>0.706000</td>\n",
       "      <td>0.707625</td>\n",
       "      <td>0.721057</td>\n",
       "      <td>0.731263</td>\n",
       "      <td>0.740092</td>\n",
       "      <td>0.753212</td>\n",
       "      <td>0.761812</td>\n",
       "      <td>0.764370</td>\n",
       "      <td>0.730740</td>\n",
       "      <td>0.706871</td>\n",
       "    </tr>\n",
       "    <tr>\n",
       "      <th>ZTF21abzbiom</th>\n",
       "      <td>5411</td>\n",
       "      <td>4823</td>\n",
       "      <td>1453</td>\n",
       "      <td>3846</td>\n",
       "      <td>2782</td>\n",
       "      <td>1979</td>\n",
       "      <td>3008</td>\n",
       "      <td>1470</td>\n",
       "      <td>689</td>\n",
       "      <td>403</td>\n",
       "      <td>...</td>\n",
       "      <td>0.840607</td>\n",
       "      <td>0.852942</td>\n",
       "      <td>0.898447</td>\n",
       "      <td>0.905074</td>\n",
       "      <td>0.913475</td>\n",
       "      <td>0.942050</td>\n",
       "      <td>0.946891</td>\n",
       "      <td>0.971400</td>\n",
       "      <td>0.899590</td>\n",
       "      <td>0.852967</td>\n",
       "    </tr>\n",
       "    <tr>\n",
       "      <th>ZTF21abzkgvc</th>\n",
       "      <td>5418</td>\n",
       "      <td>4033</td>\n",
       "      <td>4721</td>\n",
       "      <td>3786</td>\n",
       "      <td>121</td>\n",
       "      <td>731</td>\n",
       "      <td>1502</td>\n",
       "      <td>639</td>\n",
       "      <td>4963</td>\n",
       "      <td>2998</td>\n",
       "      <td>...</td>\n",
       "      <td>0.760228</td>\n",
       "      <td>0.760887</td>\n",
       "      <td>0.764045</td>\n",
       "      <td>0.771010</td>\n",
       "      <td>0.793535</td>\n",
       "      <td>0.807325</td>\n",
       "      <td>0.816460</td>\n",
       "      <td>0.831817</td>\n",
       "      <td>0.784464</td>\n",
       "      <td>0.762872</td>\n",
       "    </tr>\n",
       "    <tr>\n",
       "      <th>ZTF21acblxjr</th>\n",
       "      <td>5235</td>\n",
       "      <td>1340</td>\n",
       "      <td>3476</td>\n",
       "      <td>2353</td>\n",
       "      <td>47</td>\n",
       "      <td>2807</td>\n",
       "      <td>2246</td>\n",
       "      <td>5022</td>\n",
       "      <td>2545</td>\n",
       "      <td>5084</td>\n",
       "      <td>...</td>\n",
       "      <td>0.668757</td>\n",
       "      <td>0.706547</td>\n",
       "      <td>0.750958</td>\n",
       "      <td>0.771911</td>\n",
       "      <td>0.816595</td>\n",
       "      <td>0.835471</td>\n",
       "      <td>0.843287</td>\n",
       "      <td>0.844531</td>\n",
       "      <td>0.766011</td>\n",
       "      <td>0.695571</td>\n",
       "    </tr>\n",
       "    <tr>\n",
       "      <th>ZTF21acculro</th>\n",
       "      <td>5267</td>\n",
       "      <td>824</td>\n",
       "      <td>1140</td>\n",
       "      <td>973</td>\n",
       "      <td>4272</td>\n",
       "      <td>693</td>\n",
       "      <td>1855</td>\n",
       "      <td>2846</td>\n",
       "      <td>2236</td>\n",
       "      <td>5214</td>\n",
       "      <td>...</td>\n",
       "      <td>0.765867</td>\n",
       "      <td>0.774400</td>\n",
       "      <td>0.808605</td>\n",
       "      <td>0.823859</td>\n",
       "      <td>0.824741</td>\n",
       "      <td>0.839910</td>\n",
       "      <td>0.844565</td>\n",
       "      <td>0.875306</td>\n",
       "      <td>0.812029</td>\n",
       "      <td>0.774395</td>\n",
       "    </tr>\n",
       "  </tbody>\n",
       "</table>\n",
       "<p>5553 rows × 22 columns</p>\n",
       "</div>"
      ],
      "text/plain": [
       "              ann=0  ann=1  ann=2  ann=3  ann=4  ann=5  ann=6  ann=7  ann=8  \\\n",
       "key_0                                                                         \n",
       "ZTF17aaaceht   2367    241   2346   5456   4957   2659    534   3540   5019   \n",
       "ZTF17aaadqdy   4793    818   2561   3678   5129   4193   1125   4404   1404   \n",
       "ZTF17aaadqyf    819   1219   3895   4508   1082   2379   4094   3248    324   \n",
       "ZTF17aaadvbq    818   4793   5508   4425   5129   1154   4015   4404    226   \n",
       "ZTF17aaaeqwm   3977   4266   5348    809   2364   4068   1405   5313    817   \n",
       "...             ...    ...    ...    ...    ...    ...    ...    ...    ...   \n",
       "ZTF21abrpphg   5396   4417   4003   2660   4334   4034   5335   4010     74   \n",
       "ZTF21abzbiom   5411   4823   1453   3846   2782   1979   3008   1470    689   \n",
       "ZTF21abzkgvc   5418   4033   4721   3786    121    731   1502    639   4963   \n",
       "ZTF21acblxjr   5235   1340   3476   2353     47   2807   2246   5022   2545   \n",
       "ZTF21acculro   5267    824   1140    973   4272    693   1855   2846   2236   \n",
       "\n",
       "              ann=9  ...    dist=2    dist=3    dist=4    dist=5    dist=6  \\\n",
       "key_0                ...                                                     \n",
       "ZTF17aaaceht   3917  ...  0.996831  1.000567  1.022764  1.037713  1.056064   \n",
       "ZTF17aaadqdy   5442  ...  0.966972  1.039653  1.062896  1.082271  1.112104   \n",
       "ZTF17aaadqyf    921  ...  0.776775  0.950473  0.961202  0.963167  0.990270   \n",
       "ZTF17aaadvbq    504  ...  0.958881  0.969016  0.988413  0.989635  1.001441   \n",
       "ZTF17aaaeqwm   1030  ...  1.083866  1.143607  1.144229  1.163700  1.181839   \n",
       "...             ...  ...       ...       ...       ...       ...       ...   \n",
       "ZTF21abrpphg   2907  ...  0.706000  0.707625  0.721057  0.731263  0.740092   \n",
       "ZTF21abzbiom    403  ...  0.840607  0.852942  0.898447  0.905074  0.913475   \n",
       "ZTF21abzkgvc   2998  ...  0.760228  0.760887  0.764045  0.771010  0.793535   \n",
       "ZTF21acblxjr   5084  ...  0.668757  0.706547  0.750958  0.771911  0.816595   \n",
       "ZTF21acculro   5214  ...  0.765867  0.774400  0.808605  0.823859  0.824741   \n",
       "\n",
       "                dist=7    dist=8    dist=9  Mean_9ANNs  WeightedMean_9ANNs  \n",
       "key_0                                                                       \n",
       "ZTF17aaaceht  1.056234  1.057521  1.059003    1.022167            0.974364  \n",
       "ZTF17aaadqdy  1.118097  1.120462  1.124447    1.064389            0.999342  \n",
       "ZTF17aaadqyf  0.990302  1.022079  1.056498    0.937436            0.828333  \n",
       "ZTF17aaadvbq  1.035004  1.059868  1.070791    1.002849            0.967982  \n",
       "ZTF17aaaeqwm  1.191178  1.217174  1.272430    1.163876            1.109447  \n",
       "...                ...       ...       ...         ...                 ...  \n",
       "ZTF21abrpphg  0.753212  0.761812  0.764370    0.730740            0.706871  \n",
       "ZTF21abzbiom  0.942050  0.946891  0.971400    0.899590            0.852967  \n",
       "ZTF21abzkgvc  0.807325  0.816460  0.831817    0.784464            0.762872  \n",
       "ZTF21acblxjr  0.835471  0.843287  0.844531    0.766011            0.695571  \n",
       "ZTF21acculro  0.839910  0.844565  0.875306    0.812029            0.774395  \n",
       "\n",
       "[5553 rows x 22 columns]"
      ]
     },
     "execution_count": 183,
     "metadata": {},
     "output_type": "execute_result"
    }
   ],
   "source": [
    "%%time\n",
    "\n",
    "ref_name_l, id_l, dist_l = [], [], []\n",
    "for ref in list(np.unique(dataset_bank.index))[0:10000]:\n",
    "    dataset_ref = dataset_bank[dataset_bank.index == ref] \n",
    "\n",
    "    feat_arr_ref = np.vstack(np.array(dataset_ref, dtype='object'))\n",
    "    scaled_feat_arr_ref = feat_arr_ref # PCA, so already scaled\n",
    "\n",
    "    snid = dataset_ref.index.values[0]\n",
    "    lcdata = {'name': snid, 'vector': scaled_feat_arr_ref[0]}\n",
    "    #lcdata = {'name': ztf_id, 'vector': feat_arr_scaled[-5:-4][0]}\n",
    "\n",
    "    #result_id, result_dist = index.index.get_nns_by_item(, n=10, include_distances=True)\n",
    "    result_id, result_dist = index.index.get_nns_by_vector(lcdata['vector'], n=10, include_distances=True)\n",
    "    \n",
    "    ref_name_l.append(snid), id_l.append(result_id), dist_l.append(result_dist)\n",
    "    \n",
    "temp_df = pd.DataFrame(zip(ref_name_l, id_l, dist_l), columns=['Reference', 'ids', 'dists'])\n",
    "temp_df = temp_df.set_index('Reference')\n",
    "ann_split_df = temp_df.merge(pd.DataFrame(temp_df['ids'].values.tolist()).add_prefix('ann='), on=temp_df.index)\n",
    "ann_split_df = ann_split_df.set_index('key_0')\n",
    "ann_dist_all_df = ann_split_df.merge(pd.DataFrame(ann_split_df['dists'].values.tolist()).add_prefix('dist='), on=ann_split_df.index)\n",
    "ann_dist_all_df = ann_dist_all_df.drop(columns=['ids', 'dists'])\n",
    "ann_dist_all_df = ann_dist_all_df.set_index('key_0')\n",
    "\n",
    "# find average (mean) distance of first 9 ANNs.\n",
    "col_list= [f'dist={col}' for col in range(1, 10)]\n",
    "# sum specific columns\n",
    "ann_dist_all_df[f'Mean_{len(col_list)}ANNs'] = (ann_dist_all_df[col_list].sum(axis=1))/(len(col_list))\n",
    "\n",
    "# weighted distance of first 9 ANNs\n",
    "weight_l = [34, 21, 13, 8, 5, 3, 2, 1, 1] # Fibonacci seq.\n",
    "ann_dist_all_df[f'WeightedMean_{len(col_list)}ANNs'] = np.average(ann_dist_all_df[col_list], weights=weight_l, axis=1)\n",
    "ann_dist_all_df"
   ]
  },
  {
   "cell_type": "code",
   "execution_count": 184,
   "id": "2b2710a3",
   "metadata": {},
   "outputs": [
    {
     "name": "stdout",
     "output_type": "stream",
     "text": [
      "summary stats\n",
      "Scatter mean: 0.8194198384036919\n",
      "Scatter median: 0.8093058026649735\n",
      "Scatter std: 0.15645165233397254\n",
      "Scatter max: 2.1790918572382494\n",
      "Scatter min: 0.44726135751063173\n",
      "\n",
      "\n",
      "Most anomalous: ZTF18abvbbvs\n"
     ]
    }
   ],
   "source": [
    "# Pick distance metric. \n",
    "# Weighted mean of first 9 ANNs (Fibonacci), OR Mean of first 9 ANNs, OR distance to first ANN. \n",
    "# TODO: EXPLORE DIFFERENT METRICS!\n",
    "dist_col = f'WeightedMean_{len(col_list)}ANNs'  # f'Mean_{len(col_list)}ANNs' # 'dist=1'\n",
    "\n",
    "print(\"summary stats\")\n",
    "print(\"Scatter mean:\", np.mean(ann_dist_all_df[dist_col]))\n",
    "print(\"Scatter median:\", np.median(ann_dist_all_df[dist_col]))\n",
    "print(\"Scatter std:\", np.std(ann_dist_all_df[dist_col]))\n",
    "print(\"Scatter max:\", np.max(ann_dist_all_df[dist_col]))\n",
    "print(\"Scatter min:\", np.min(ann_dist_all_df[dist_col]))\n",
    "print(\"\\n\")\n",
    "\n",
    "#Returns index of mean distance of 9 ANNs\n",
    "print(\"Most anomalous:\", ann_dist_all_df[[dist_col]].idxmax().values[0])"
   ]
  },
  {
   "cell_type": "markdown",
   "id": "a92813e1",
   "metadata": {},
   "source": [
    "# Largest distance\n",
    "\n",
    "\n",
    "### either bogus (bright \"obs\" at core which aren't real)\n",
    "### intense variable star\n",
    "### bright/ nearby SN\n",
    "### some truly weird ones (20acct)"
   ]
  },
  {
   "cell_type": "code",
   "execution_count": 185,
   "id": "9bd4cb53",
   "metadata": {},
   "outputs": [
    {
     "name": "stdout",
     "output_type": "stream",
     "text": [
      "Max dist 2.1790918572382494\n"
     ]
    }
   ],
   "source": [
    "ref_obj = ann_dist_all_df[[dist_col]].idxmax().values[0] #'ZTF18acbwaxk'\n",
    "print(\"Max dist\", ann_dist_all_df.loc[ref_obj][dist_col]) "
   ]
  },
  {
   "cell_type": "code",
   "execution_count": 186,
   "id": "8e3bf384",
   "metadata": {},
   "outputs": [
    {
     "data": {
      "text/html": [
       "<div>\n",
       "<style scoped>\n",
       "    .dataframe tbody tr th:only-of-type {\n",
       "        vertical-align: middle;\n",
       "    }\n",
       "\n",
       "    .dataframe tbody tr th {\n",
       "        vertical-align: top;\n",
       "    }\n",
       "\n",
       "    .dataframe thead th {\n",
       "        text-align: right;\n",
       "    }\n",
       "</style>\n",
       "<table border=\"1\" class=\"dataframe\">\n",
       "  <thead>\n",
       "    <tr style=\"text-align: right;\">\n",
       "      <th></th>\n",
       "      <th>PC0</th>\n",
       "      <th>PC1</th>\n",
       "      <th>PC2</th>\n",
       "      <th>PC3</th>\n",
       "      <th>PC4</th>\n",
       "      <th>PC5</th>\n",
       "      <th>PC6</th>\n",
       "      <th>PC7</th>\n",
       "      <th>PC8</th>\n",
       "      <th>PC9</th>\n",
       "      <th>...</th>\n",
       "      <th>PC15</th>\n",
       "      <th>PC16</th>\n",
       "      <th>PC17</th>\n",
       "      <th>PC18</th>\n",
       "      <th>PC19</th>\n",
       "      <th>PC20</th>\n",
       "      <th>PC21</th>\n",
       "      <th>PC22</th>\n",
       "      <th>PC23</th>\n",
       "      <th>PC24</th>\n",
       "    </tr>\n",
       "    <tr>\n",
       "      <th>ztf_object_id</th>\n",
       "      <th></th>\n",
       "      <th></th>\n",
       "      <th></th>\n",
       "      <th></th>\n",
       "      <th></th>\n",
       "      <th></th>\n",
       "      <th></th>\n",
       "      <th></th>\n",
       "      <th></th>\n",
       "      <th></th>\n",
       "      <th></th>\n",
       "      <th></th>\n",
       "      <th></th>\n",
       "      <th></th>\n",
       "      <th></th>\n",
       "      <th></th>\n",
       "      <th></th>\n",
       "      <th></th>\n",
       "      <th></th>\n",
       "      <th></th>\n",
       "      <th></th>\n",
       "    </tr>\n",
       "  </thead>\n",
       "  <tbody>\n",
       "    <tr>\n",
       "      <th>ZTF18abvbbvs</th>\n",
       "      <td>-0.101891</td>\n",
       "      <td>2.836767</td>\n",
       "      <td>0.208917</td>\n",
       "      <td>0.198537</td>\n",
       "      <td>0.837816</td>\n",
       "      <td>0.561171</td>\n",
       "      <td>0.62694</td>\n",
       "      <td>0.233525</td>\n",
       "      <td>-0.012496</td>\n",
       "      <td>0.104879</td>\n",
       "      <td>...</td>\n",
       "      <td>-0.041475</td>\n",
       "      <td>0.04954</td>\n",
       "      <td>-0.002979</td>\n",
       "      <td>0.298856</td>\n",
       "      <td>0.215709</td>\n",
       "      <td>0.197964</td>\n",
       "      <td>0.42767</td>\n",
       "      <td>-0.325915</td>\n",
       "      <td>0.132709</td>\n",
       "      <td>-0.05478</td>\n",
       "    </tr>\n",
       "  </tbody>\n",
       "</table>\n",
       "<p>1 rows × 25 columns</p>\n",
       "</div>"
      ],
      "text/plain": [
       "                    PC0       PC1       PC2       PC3       PC4       PC5  \\\n",
       "ztf_object_id                                                               \n",
       "ZTF18abvbbvs  -0.101891  2.836767  0.208917  0.198537  0.837816  0.561171   \n",
       "\n",
       "                   PC6       PC7       PC8       PC9  ...      PC15     PC16  \\\n",
       "ztf_object_id                                         ...                      \n",
       "ZTF18abvbbvs   0.62694  0.233525 -0.012496  0.104879  ... -0.041475  0.04954   \n",
       "\n",
       "                   PC17      PC18      PC19      PC20     PC21      PC22  \\\n",
       "ztf_object_id                                                              \n",
       "ZTF18abvbbvs  -0.002979  0.298856  0.215709  0.197964  0.42767 -0.325915   \n",
       "\n",
       "                   PC23     PC24  \n",
       "ztf_object_id                     \n",
       "ZTF18abvbbvs   0.132709 -0.05478  \n",
       "\n",
       "[1 rows x 25 columns]"
      ]
     },
     "execution_count": 186,
     "metadata": {},
     "output_type": "execute_result"
    }
   ],
   "source": [
    "dataset_bank[dataset_bank.index == ref_obj]"
   ]
  },
  {
   "cell_type": "code",
   "execution_count": 187,
   "id": "8a694fc4",
   "metadata": {},
   "outputs": [
    {
     "data": {
      "image/png": "[encoded data removed]",
      "text/plain": [
       "<Figure size 432x288 with 1 Axes>"
      ]
     },
     "metadata": {
      "needs_background": "light"
     },
     "output_type": "display_data"
    },
    {
     "data": {
      "image/png": "[encoded data removed]",
      "text/plain": [
       "<Figure size 432x288 with 1 Axes>"
      ]
     },
     "metadata": {
      "needs_background": "light"
     },
     "output_type": "display_data"
    },
    {
     "data": {
      "image/png": "[encoded data removed]",
      "text/plain": [
       "<Figure size 432x288 with 1 Axes>"
      ]
     },
     "metadata": {
      "needs_background": "light"
     },
     "output_type": "display_data"
    },
    {
     "data": {
      "image/png": "[encoded data removed]",
      "text/plain": [
       "<Figure size 432x288 with 1 Axes>"
      ]
     },
     "metadata": {
      "needs_background": "light"
     },
     "output_type": "display_data"
    },
    {
     "data": {
      "image/png": "[encoded data removed]",
      "text/plain": [
       "<Figure size 432x288 with 1 Axes>"
      ]
     },
     "metadata": {
      "needs_background": "light"
     },
     "output_type": "display_data"
    },
    {
     "data": {
      "image/png": "[encoded data removed]",
      "text/plain": [
       "<Figure size 432x288 with 1 Axes>"
      ]
     },
     "metadata": {
      "needs_background": "light"
     },
     "output_type": "display_data"
    },
    {
     "data": {
      "image/png": "[encoded data removed]",
      "text/plain": [
       "<Figure size 432x288 with 1 Axes>"
      ]
     },
     "metadata": {
      "needs_background": "light"
     },
     "output_type": "display_data"
    },
    {
     "data": {
      "image/png": "[encoded data removed]",
      "text/plain": [
       "<Figure size 432x288 with 1 Axes>"
      ]
     },
     "metadata": {
      "needs_background": "light"
     },
     "output_type": "display_data"
    },
    {
     "data": {
      "image/png": "[encoded data removed]",
      "text/plain": [
       "<Figure size 432x288 with 1 Axes>"
      ]
     },
     "metadata": {
      "needs_background": "light"
     },
     "output_type": "display_data"
    },
    {
     "data": {
      "image/png": "[encoded data removed]",
      "text/plain": [
       "<Figure size 432x288 with 1 Axes>"
      ]
     },
     "metadata": {
      "needs_background": "light"
     },
     "output_type": "display_data"
    },
    {
     "data": {
      "image/png": "[encoded data removed]",
      "text/plain": [
       "<Figure size 432x288 with 1 Axes>"
      ]
     },
     "metadata": {
      "needs_background": "light"
     },
     "output_type": "display_data"
    },
    {
     "data": {
      "image/png": "[encoded data removed]",
      "text/plain": [
       "<Figure size 432x288 with 1 Axes>"
      ]
     },
     "metadata": {
      "needs_background": "light"
     },
     "output_type": "display_data"
    },
    {
     "data": {
      "image/png": "[encoded data removed]",
      "text/plain": [
       "<Figure size 432x288 with 1 Axes>"
      ]
     },
     "metadata": {
      "needs_background": "light"
     },
     "output_type": "display_data"
    },
    {
     "data": {
      "image/png": "[encoded data removed]",
      "text/plain": [
       "<Figure size 432x288 with 1 Axes>"
      ]
     },
     "metadata": {
      "needs_background": "light"
     },
     "output_type": "display_data"
    },
    {
     "data": {
      "image/png": "[encoded data removed]",
      "text/plain": [
       "<Figure size 432x288 with 1 Axes>"
      ]
     },
     "metadata": {
      "needs_background": "light"
     },
     "output_type": "display_data"
    },
    {
     "data": {
      "image/png": "[encoded data removed]",
      "text/plain": [
       "<Figure size 432x288 with 1 Axes>"
      ]
     },
     "metadata": {
      "needs_background": "light"
     },
     "output_type": "display_data"
    },
    {
     "data": {
      "image/png": "[encoded data removed]",
      "text/plain": [
       "<Figure size 432x288 with 1 Axes>"
      ]
     },
     "metadata": {
      "needs_background": "light"
     },
     "output_type": "display_data"
    },
    {
     "data": {
      "image/png": "[encoded data removed]",
      "text/plain": [
       "<Figure size 432x288 with 1 Axes>"
      ]
     },
     "metadata": {
      "needs_background": "light"
     },
     "output_type": "display_data"
    },
    {
     "data": {
      "image/png": "[encoded data removed]",
      "text/plain": [
       "<Figure size 432x288 with 1 Axes>"
      ]
     },
     "metadata": {
      "needs_background": "light"
     },
     "output_type": "display_data"
    },
    {
     "data": {
      "image/png": "[encoded data removed]",
      "text/plain": [
       "<Figure size 432x288 with 1 Axes>"
      ]
     },
     "metadata": {
      "needs_background": "light"
     },
     "output_type": "display_data"
    },
    {
     "data": {
      "image/png": "[encoded data removed]",
      "text/plain": [
       "<Figure size 432x288 with 1 Axes>"
      ]
     },
     "metadata": {
      "needs_background": "light"
     },
     "output_type": "display_data"
    },
    {
     "data": {
      "image/png": "[encoded data removed]",
      "text/plain": [
       "<Figure size 432x288 with 1 Axes>"
      ]
     },
     "metadata": {
      "needs_background": "light"
     },
     "output_type": "display_data"
    },
    {
     "data": {
      "image/png": "[encoded data removed]",
      "text/plain": [
       "<Figure size 432x288 with 1 Axes>"
      ]
     },
     "metadata": {
      "needs_background": "light"
     },
     "output_type": "display_data"
    },
    {
     "data": {
      "image/png": "[encoded data removed]",
      "text/plain": [
       "<Figure size 432x288 with 1 Axes>"
      ]
     },
     "metadata": {
      "needs_background": "light"
     },
     "output_type": "display_data"
    },
    {
     "data": {
      "image/png": "[encoded data removed]",
      "text/plain": [
       "<Figure size 432x288 with 1 Axes>"
      ]
     },
     "metadata": {
      "needs_background": "light"
     },
     "output_type": "display_data"
    }
   ],
   "source": [
    "feat_scatter_l = []\n",
    "for feat in dataset_bank.columns:\n",
    "    fig, ax = plt.subplots()\n",
    "    min_feat, max_feat = np.min(dataset_bank[feat]), np.max(dataset_bank[feat])\n",
    "    \n",
    "    ax.hist(dataset_bank[feat], bins=np.linspace(min_feat, max_feat, 100))\n",
    "    \n",
    "    ref = dataset_bank[dataset_bank.index == ref_obj]\n",
    "    \n",
    "    ax.axvline(ref[feat].values[0], color='m', label=ref_obj)\n",
    "    ax.set_title(feat)\n",
    "    ax.set_xlim(min_feat, max_feat)\n",
    "    \n",
    "    plt.legend()\n",
    "    plt.show()\n",
    "    \n",
    "    feat_scatter = np.std(dataset_bank[feat])\n",
    "    feat_scatter_l.append(feat_scatter)   "
   ]
  },
  {
   "cell_type": "code",
   "execution_count": 188,
   "id": "a90af7a7",
   "metadata": {},
   "outputs": [
    {
     "name": "stdout",
     "output_type": "stream",
     "text": [
      "[-0.10189086003048947 2.8367665102071293 0.20891734218923289\n",
      " 0.19853678733285274 0.8378158168738749 0.5611713798562651\n",
      " 0.6269399822228056 0.2335249142190573 -0.012495526019412345\n",
      " 0.10487874032056377 0.7843094524172025 -0.19936315764140033\n",
      " 0.04966623484389735 0.2934770716224626 1.0161377826979523\n",
      " -0.041475333559153456 0.04953991500764785 -0.0029790786640673176\n",
      " 0.29885575369508144 0.2157091377483472 0.1979638919032499\n",
      " 0.4276701353828153 -0.3259146001446067 0.13270936579763382\n",
      " -0.05477965768269626]\n",
      "ZTF ID name (ref) ZTF18abvbbvs\n"
     ]
    },
    {
     "data": {
      "text/markdown": [
       "https://alerce.online/object/ZTF18abvbbvs"
      ]
     },
     "metadata": {},
     "output_type": "display_data"
    },
    {
     "name": "stdout",
     "output_type": "stream",
     "text": [
      "None\n",
      "%%%%%%\n",
      "ANN\t\tIDX\t\t\t\tZTF_id\t\t\t\tDIST\n"
     ]
    },
    {
     "data": {
      "text/markdown": [
       "https://alerce.online/object/ZTF18abvbbvs"
      ]
     },
     "metadata": {},
     "output_type": "display_data"
    },
    {
     "name": "stdout",
     "output_type": "stream",
     "text": [
      "0\t\t5472\t\t\t\tNone\t\t\t0.0\n"
     ]
    },
    {
     "data": {
      "text/markdown": [
       "https://alerce.online/object/ZTF20acxzqyp"
      ]
     },
     "metadata": {},
     "output_type": "display_data"
    },
    {
     "name": "stdout",
     "output_type": "stream",
     "text": [
      "1\t\t1798\t\t\t\tNone\t\t\t2.0983\n"
     ]
    },
    {
     "data": {
      "text/markdown": [
       "https://alerce.online/object/ZTF20actawpa"
      ]
     },
     "metadata": {},
     "output_type": "display_data"
    },
    {
     "name": "stdout",
     "output_type": "stream",
     "text": [
      "2\t\t1667\t\t\t\tNone\t\t\t2.1585\n"
     ]
    },
    {
     "data": {
      "text/markdown": [
       "https://alerce.online/object/ZTF17aaazdba"
      ]
     },
     "metadata": {},
     "output_type": "display_data"
    },
    {
     "name": "stdout",
     "output_type": "stream",
     "text": [
      "3\t\t5183\t\t\t\tNone\t\t\t2.2556\n"
     ]
    },
    {
     "data": {
      "text/markdown": [
       "https://alerce.online/object/ZTF18achnuzm"
      ]
     },
     "metadata": {},
     "output_type": "display_data"
    },
    {
     "name": "stdout",
     "output_type": "stream",
     "text": [
      "4\t\t1373\t\t\t\tNone\t\t\t2.272\n"
     ]
    },
    {
     "data": {
      "text/markdown": [
       "https://alerce.online/object/ZTF18abnznca"
      ]
     },
     "metadata": {},
     "output_type": "display_data"
    },
    {
     "name": "stdout",
     "output_type": "stream",
     "text": [
      "5\t\t1281\t\t\t\tNone\t\t\t2.2761\n"
     ]
    },
    {
     "data": {
      "text/markdown": [
       "https://alerce.online/object/ZTF20acjpvyd"
      ]
     },
     "metadata": {},
     "output_type": "display_data"
    },
    {
     "name": "stdout",
     "output_type": "stream",
     "text": [
      "6\t\t3313\t\t\t\tNone\t\t\t2.2974\n"
     ]
    },
    {
     "data": {
      "text/markdown": [
       "https://alerce.online/object/ZTF18aavsboy"
      ]
     },
     "metadata": {},
     "output_type": "display_data"
    },
    {
     "name": "stdout",
     "output_type": "stream",
     "text": [
      "7\t\t5306\t\t\t\tNone\t\t\t2.3245\n"
     ]
    },
    {
     "data": {
      "text/markdown": [
       "https://alerce.online/object/ZTF20acqucpz"
      ]
     },
     "metadata": {},
     "output_type": "display_data"
    },
    {
     "name": "stdout",
     "output_type": "stream",
     "text": [
      "8\t\t1830\t\t\t\tNone\t\t\t2.3338\n"
     ]
    },
    {
     "data": {
      "text/markdown": [
       "https://alerce.online/object/ZTF18acsovsw"
      ]
     },
     "metadata": {},
     "output_type": "display_data"
    },
    {
     "name": "stdout",
     "output_type": "stream",
     "text": [
      "9\t\t1138\t\t\t\tNone\t\t\t2.334\n"
     ]
    }
   ],
   "source": [
    "dataset_ref = dataset_bank[dataset_bank.index == ref_obj] #  ref_obj\n",
    "\n",
    "# feat_arr_ref = np.vstack(np.array(dataset_ref, dtype='object'))\n",
    "# scaled_feat_arr_ref = scaler.transform(feat_arr_ref) #scaler.transform(feat_arr) # What your model learns on\n",
    "# #scaled_feat_arr_ref = scaler.fit_transform(feat_arr_ref) #scaler.transform(feat_arr) # What your model learns on\n",
    "\n",
    "# # Scalar then PCA\n",
    "# scaled_feat_arr_ref = np.array(dataset_ref)\n",
    "\n",
    "# PCA only\n",
    "feat_arr_ref = np.vstack(np.array(dataset_ref, dtype='object'))\n",
    "scaled_feat_arr_ref = feat_arr_ref\n",
    "\n",
    "# #PCA then scaler\n",
    "# feat_arr_ref = np.vstack(np.array(dataset_ref, dtype='object'))\n",
    "# scaled_feat_arr_ref = feat_arr_ref\n",
    "\n",
    "\n",
    "snid = dataset_ref.index.values[0]\n",
    "lcdata = {'name': snid, 'vector': scaled_feat_arr_ref[0]}\n",
    "#lcdata = {'name': ztf_id, 'vector': feat_arr_scaled[-5:-4][0]}\n",
    "print(lcdata['vector'])\n",
    "\n",
    "#result_id, result_dist = index.index.get_nns_by_item(, n=10, include_distances=True)\n",
    "result_id, result_dist = index.index.get_nns_by_vector(lcdata['vector'], n=10, include_distances=True)\n",
    "#result_name = index.query(lcdata['vector'])\n",
    "\n",
    "print(f\"ZTF ID name (ref) {snid}\") \n",
    "link_ref = display_markdown(f'https://alerce.online/object/{snid}', raw=True)\n",
    "print(link_ref)\n",
    "print(\"%%%%%%\")\n",
    "print(\"ANN\\t\\tIDX\\t\\t\\t\\tZTF_id\\t\\t\\t\\tDIST\")#\\tFEAT\")\n",
    "for n, (i, d) in enumerate(zip(result_id, result_dist)):#, feat_arr):\n",
    "    print(f\"{n}\\t\\t{i}\\t\\t\\t\\t{display_markdown(f'https://alerce.online/object/{idx_arr[i]}', raw=True)}\\t\\t\\t{round(d, 4)}\")#\\t{f}\")"
   ]
  },
  {
   "cell_type": "code",
   "execution_count": 189,
   "id": "dfe46b02",
   "metadata": {},
   "outputs": [
    {
     "data": {
      "text/plain": [
       "ann=0                 5472.000000\n",
       "ann=1                 1798.000000\n",
       "ann=2                 1667.000000\n",
       "ann=3                 5183.000000\n",
       "ann=4                 1373.000000\n",
       "ann=5                 1281.000000\n",
       "ann=6                 3313.000000\n",
       "ann=7                 5306.000000\n",
       "ann=8                 1830.000000\n",
       "ann=9                 1138.000000\n",
       "dist=0                   0.000000\n",
       "dist=1                   2.098318\n",
       "dist=2                   2.158521\n",
       "dist=3                   2.255602\n",
       "dist=4                   2.271993\n",
       "dist=5                   2.276087\n",
       "dist=6                   2.297429\n",
       "dist=7                   2.324497\n",
       "dist=8                   2.333823\n",
       "dist=9                   2.334013\n",
       "Mean_9ANNs               2.261143\n",
       "WeightedMean_9ANNs       2.179092\n",
       "Name: ZTF18abvbbvs, dtype: float64"
      ]
     },
     "execution_count": 189,
     "metadata": {},
     "output_type": "execute_result"
    }
   ],
   "source": [
    "ann_dist_all_df.loc[ref_obj]"
   ]
  },
  {
   "cell_type": "code",
   "execution_count": 190,
   "id": "50185b32",
   "metadata": {},
   "outputs": [
    {
     "data": {
      "text/plain": [
       "key_0\n",
       "ZTF18abvbbvs    2.179092\n",
       "ZTF19aaeyltm    1.954658\n",
       "ZTF18aabjliz    1.903706\n",
       "ZTF21aaaodzf    1.852180\n",
       "ZTF18abvmlow    1.704556\n",
       "                  ...   \n",
       "ZTF18abynxzs    1.211909\n",
       "ZTF21aasfdps    1.210211\n",
       "ZTF18adbcnfi    1.209497\n",
       "ZTF20aaudvyx    1.208283\n",
       "ZTF18abiebxx    1.208180\n",
       "Name: WeightedMean_9ANNs, Length: 100, dtype: float64"
      ]
     },
     "execution_count": 190,
     "metadata": {},
     "output_type": "execute_result"
    }
   ],
   "source": [
    "# 10 largest distances\n",
    "ann_dist_all_df[dist_col].nlargest(100)"
   ]
  },
  {
   "cell_type": "code",
   "execution_count": 191,
   "id": "5cf67374",
   "metadata": {},
   "outputs": [
    {
     "data": {
      "text/markdown": [
       "https://alerce.online/object/ZTF18abvbbvs"
      ]
     },
     "metadata": {},
     "output_type": "display_data"
    },
    {
     "name": "stdout",
     "output_type": "stream",
     "text": [
      "None\n"
     ]
    },
    {
     "data": {
      "text/markdown": [
       "https://alerce.online/object/ZTF19aaeyltm"
      ]
     },
     "metadata": {},
     "output_type": "display_data"
    },
    {
     "name": "stdout",
     "output_type": "stream",
     "text": [
      "None\n"
     ]
    },
    {
     "data": {
      "text/markdown": [
       "https://alerce.online/object/ZTF18aabjliz"
      ]
     },
     "metadata": {},
     "output_type": "display_data"
    },
    {
     "name": "stdout",
     "output_type": "stream",
     "text": [
      "None\n"
     ]
    },
    {
     "data": {
      "text/markdown": [
       "https://alerce.online/object/ZTF21aaaodzf"
      ]
     },
     "metadata": {},
     "output_type": "display_data"
    },
    {
     "name": "stdout",
     "output_type": "stream",
     "text": [
      "None\n"
     ]
    },
    {
     "data": {
      "text/markdown": [
       "https://alerce.online/object/ZTF18abvmlow"
      ]
     },
     "metadata": {},
     "output_type": "display_data"
    },
    {
     "name": "stdout",
     "output_type": "stream",
     "text": [
      "None\n"
     ]
    },
    {
     "data": {
      "text/markdown": [
       "https://alerce.online/object/ZTF18aaqvatw"
      ]
     },
     "metadata": {},
     "output_type": "display_data"
    },
    {
     "name": "stdout",
     "output_type": "stream",
     "text": [
      "None\n"
     ]
    },
    {
     "data": {
      "text/markdown": [
       "https://alerce.online/object/ZTF20abfehpe"
      ]
     },
     "metadata": {},
     "output_type": "display_data"
    },
    {
     "name": "stdout",
     "output_type": "stream",
     "text": [
      "None\n"
     ]
    },
    {
     "data": {
      "text/markdown": [
       "https://alerce.online/object/ZTF18abwxrhi"
      ]
     },
     "metadata": {},
     "output_type": "display_data"
    },
    {
     "name": "stdout",
     "output_type": "stream",
     "text": [
      "None\n"
     ]
    },
    {
     "data": {
      "text/markdown": [
       "https://alerce.online/object/ZTF18acjfdlx"
      ]
     },
     "metadata": {},
     "output_type": "display_data"
    },
    {
     "name": "stdout",
     "output_type": "stream",
     "text": [
      "None\n"
     ]
    },
    {
     "data": {
      "text/markdown": [
       "https://alerce.online/object/ZTF20ablygyy"
      ]
     },
     "metadata": {},
     "output_type": "display_data"
    },
    {
     "name": "stdout",
     "output_type": "stream",
     "text": [
      "None\n"
     ]
    },
    {
     "data": {
      "text/markdown": [
       "https://alerce.online/object/ZTF20abxyajd"
      ]
     },
     "metadata": {},
     "output_type": "display_data"
    },
    {
     "name": "stdout",
     "output_type": "stream",
     "text": [
      "None\n"
     ]
    },
    {
     "data": {
      "text/markdown": [
       "https://alerce.online/object/ZTF21aahpzqi"
      ]
     },
     "metadata": {},
     "output_type": "display_data"
    },
    {
     "name": "stdout",
     "output_type": "stream",
     "text": [
      "None\n"
     ]
    },
    {
     "data": {
      "text/markdown": [
       "https://alerce.online/object/ZTF20acqucpz"
      ]
     },
     "metadata": {},
     "output_type": "display_data"
    },
    {
     "name": "stdout",
     "output_type": "stream",
     "text": [
      "None\n"
     ]
    },
    {
     "data": {
      "text/markdown": [
       "https://alerce.online/object/ZTF18aaimlad"
      ]
     },
     "metadata": {},
     "output_type": "display_data"
    },
    {
     "name": "stdout",
     "output_type": "stream",
     "text": [
      "None\n"
     ]
    },
    {
     "data": {
      "text/markdown": [
       "https://alerce.online/object/ZTF18acslknd"
      ]
     },
     "metadata": {},
     "output_type": "display_data"
    },
    {
     "name": "stdout",
     "output_type": "stream",
     "text": [
      "None\n"
     ]
    },
    {
     "data": {
      "text/markdown": [
       "https://alerce.online/object/ZTF21aajxkfu"
      ]
     },
     "metadata": {},
     "output_type": "display_data"
    },
    {
     "name": "stdout",
     "output_type": "stream",
     "text": [
      "None\n"
     ]
    },
    {
     "data": {
      "text/markdown": [
       "https://alerce.online/object/ZTF18abxepqq"
      ]
     },
     "metadata": {},
     "output_type": "display_data"
    },
    {
     "name": "stdout",
     "output_type": "stream",
     "text": [
      "None\n"
     ]
    },
    {
     "data": {
      "text/markdown": [
       "https://alerce.online/object/ZTF20aammgir"
      ]
     },
     "metadata": {},
     "output_type": "display_data"
    },
    {
     "name": "stdout",
     "output_type": "stream",
     "text": [
      "None\n"
     ]
    },
    {
     "data": {
      "text/markdown": [
       "https://alerce.online/object/ZTF20acbeokd"
      ]
     },
     "metadata": {},
     "output_type": "display_data"
    },
    {
     "name": "stdout",
     "output_type": "stream",
     "text": [
      "None\n"
     ]
    },
    {
     "data": {
      "text/markdown": [
       "https://alerce.online/object/ZTF18aapdhva"
      ]
     },
     "metadata": {},
     "output_type": "display_data"
    },
    {
     "name": "stdout",
     "output_type": "stream",
     "text": [
      "None\n"
     ]
    },
    {
     "data": {
      "text/markdown": [
       "https://alerce.online/object/ZTF19aalwbnj"
      ]
     },
     "metadata": {},
     "output_type": "display_data"
    },
    {
     "name": "stdout",
     "output_type": "stream",
     "text": [
      "None\n"
     ]
    },
    {
     "data": {
      "text/markdown": [
       "https://alerce.online/object/ZTF20adadrhw"
      ]
     },
     "metadata": {},
     "output_type": "display_data"
    },
    {
     "name": "stdout",
     "output_type": "stream",
     "text": [
      "None\n"
     ]
    },
    {
     "data": {
      "text/markdown": [
       "https://alerce.online/object/ZTF18abyquqo"
      ]
     },
     "metadata": {},
     "output_type": "display_data"
    },
    {
     "name": "stdout",
     "output_type": "stream",
     "text": [
      "None\n"
     ]
    },
    {
     "data": {
      "text/markdown": [
       "https://alerce.online/object/ZTF18achruvb"
      ]
     },
     "metadata": {},
     "output_type": "display_data"
    },
    {
     "name": "stdout",
     "output_type": "stream",
     "text": [
      "None\n"
     ]
    },
    {
     "data": {
      "text/markdown": [
       "https://alerce.online/object/ZTF19abpassc"
      ]
     },
     "metadata": {},
     "output_type": "display_data"
    },
    {
     "name": "stdout",
     "output_type": "stream",
     "text": [
      "None\n"
     ]
    },
    {
     "data": {
      "text/markdown": [
       "https://alerce.online/object/ZTF20acwobku"
      ]
     },
     "metadata": {},
     "output_type": "display_data"
    },
    {
     "name": "stdout",
     "output_type": "stream",
     "text": [
      "None\n"
     ]
    },
    {
     "data": {
      "text/markdown": [
       "https://alerce.online/object/ZTF18abvlumw"
      ]
     },
     "metadata": {},
     "output_type": "display_data"
    },
    {
     "name": "stdout",
     "output_type": "stream",
     "text": [
      "None\n"
     ]
    },
    {
     "data": {
      "text/markdown": [
       "https://alerce.online/object/ZTF18abvdnfx"
      ]
     },
     "metadata": {},
     "output_type": "display_data"
    },
    {
     "name": "stdout",
     "output_type": "stream",
     "text": [
      "None\n"
     ]
    },
    {
     "data": {
      "text/markdown": [
       "https://alerce.online/object/ZTF20aczgvrr"
      ]
     },
     "metadata": {},
     "output_type": "display_data"
    },
    {
     "name": "stdout",
     "output_type": "stream",
     "text": [
      "None\n"
     ]
    },
    {
     "data": {
      "text/markdown": [
       "https://alerce.online/object/ZTF19ackwoak"
      ]
     },
     "metadata": {},
     "output_type": "display_data"
    },
    {
     "name": "stdout",
     "output_type": "stream",
     "text": [
      "None\n"
     ]
    },
    {
     "data": {
      "text/markdown": [
       "https://alerce.online/object/ZTF19acxfjcy"
      ]
     },
     "metadata": {},
     "output_type": "display_data"
    },
    {
     "name": "stdout",
     "output_type": "stream",
     "text": [
      "None\n"
     ]
    },
    {
     "data": {
      "text/markdown": [
       "https://alerce.online/object/ZTF19aabymti"
      ]
     },
     "metadata": {},
     "output_type": "display_data"
    },
    {
     "name": "stdout",
     "output_type": "stream",
     "text": [
      "None\n"
     ]
    },
    {
     "data": {
      "text/markdown": [
       "https://alerce.online/object/ZTF19acvuann"
      ]
     },
     "metadata": {},
     "output_type": "display_data"
    },
    {
     "name": "stdout",
     "output_type": "stream",
     "text": [
      "None\n"
     ]
    },
    {
     "data": {
      "text/markdown": [
       "https://alerce.online/object/ZTF19aastxmm"
      ]
     },
     "metadata": {},
     "output_type": "display_data"
    },
    {
     "name": "stdout",
     "output_type": "stream",
     "text": [
      "None\n"
     ]
    },
    {
     "data": {
      "text/markdown": [
       "https://alerce.online/object/ZTF19aaczlfy"
      ]
     },
     "metadata": {},
     "output_type": "display_data"
    },
    {
     "name": "stdout",
     "output_type": "stream",
     "text": [
      "None\n"
     ]
    },
    {
     "data": {
      "text/markdown": [
       "https://alerce.online/object/ZTF18abosrdl"
      ]
     },
     "metadata": {},
     "output_type": "display_data"
    },
    {
     "name": "stdout",
     "output_type": "stream",
     "text": [
      "None\n"
     ]
    },
    {
     "data": {
      "text/markdown": [
       "https://alerce.online/object/ZTF18aacoati"
      ]
     },
     "metadata": {},
     "output_type": "display_data"
    },
    {
     "name": "stdout",
     "output_type": "stream",
     "text": [
      "None\n"
     ]
    },
    {
     "data": {
      "text/markdown": [
       "https://alerce.online/object/ZTF18aanlksp"
      ]
     },
     "metadata": {},
     "output_type": "display_data"
    },
    {
     "name": "stdout",
     "output_type": "stream",
     "text": [
      "None\n"
     ]
    },
    {
     "data": {
      "text/markdown": [
       "https://alerce.online/object/ZTF18abolvsx"
      ]
     },
     "metadata": {},
     "output_type": "display_data"
    },
    {
     "name": "stdout",
     "output_type": "stream",
     "text": [
      "None\n"
     ]
    },
    {
     "data": {
      "text/markdown": [
       "https://alerce.online/object/ZTF20acohmzr"
      ]
     },
     "metadata": {},
     "output_type": "display_data"
    },
    {
     "name": "stdout",
     "output_type": "stream",
     "text": [
      "None\n"
     ]
    },
    {
     "data": {
      "text/markdown": [
       "https://alerce.online/object/ZTF19acekpoy"
      ]
     },
     "metadata": {},
     "output_type": "display_data"
    },
    {
     "name": "stdout",
     "output_type": "stream",
     "text": [
      "None\n"
     ]
    },
    {
     "data": {
      "text/markdown": [
       "https://alerce.online/object/ZTF18actuhrs"
      ]
     },
     "metadata": {},
     "output_type": "display_data"
    },
    {
     "name": "stdout",
     "output_type": "stream",
     "text": [
      "None\n"
     ]
    },
    {
     "data": {
      "text/markdown": [
       "https://alerce.online/object/ZTF18actaimp"
      ]
     },
     "metadata": {},
     "output_type": "display_data"
    },
    {
     "name": "stdout",
     "output_type": "stream",
     "text": [
      "None\n"
     ]
    },
    {
     "data": {
      "text/markdown": [
       "https://alerce.online/object/ZTF18acdpool"
      ]
     },
     "metadata": {},
     "output_type": "display_data"
    },
    {
     "name": "stdout",
     "output_type": "stream",
     "text": [
      "None\n"
     ]
    },
    {
     "data": {
      "text/markdown": [
       "https://alerce.online/object/ZTF21aatqpqa"
      ]
     },
     "metadata": {},
     "output_type": "display_data"
    },
    {
     "name": "stdout",
     "output_type": "stream",
     "text": [
      "None\n"
     ]
    },
    {
     "data": {
      "text/markdown": [
       "https://alerce.online/object/ZTF19abnpcuc"
      ]
     },
     "metadata": {},
     "output_type": "display_data"
    },
    {
     "name": "stdout",
     "output_type": "stream",
     "text": [
      "None\n"
     ]
    },
    {
     "data": {
      "text/markdown": [
       "https://alerce.online/object/ZTF21aapzgos"
      ]
     },
     "metadata": {},
     "output_type": "display_data"
    },
    {
     "name": "stdout",
     "output_type": "stream",
     "text": [
      "None\n"
     ]
    },
    {
     "data": {
      "text/markdown": [
       "https://alerce.online/object/ZTF19abfitee"
      ]
     },
     "metadata": {},
     "output_type": "display_data"
    },
    {
     "name": "stdout",
     "output_type": "stream",
     "text": [
      "None\n"
     ]
    },
    {
     "data": {
      "text/markdown": [
       "https://alerce.online/object/ZTF18abgyujv"
      ]
     },
     "metadata": {},
     "output_type": "display_data"
    },
    {
     "name": "stdout",
     "output_type": "stream",
     "text": [
      "None\n"
     ]
    },
    {
     "data": {
      "text/markdown": [
       "https://alerce.online/object/ZTF19aamoiui"
      ]
     },
     "metadata": {},
     "output_type": "display_data"
    },
    {
     "name": "stdout",
     "output_type": "stream",
     "text": [
      "None\n"
     ]
    },
    {
     "data": {
      "text/markdown": [
       "https://alerce.online/object/ZTF20acwwsiv"
      ]
     },
     "metadata": {},
     "output_type": "display_data"
    },
    {
     "name": "stdout",
     "output_type": "stream",
     "text": [
      "None\n"
     ]
    },
    {
     "data": {
      "text/markdown": [
       "https://alerce.online/object/ZTF18abcrjaj"
      ]
     },
     "metadata": {},
     "output_type": "display_data"
    },
    {
     "name": "stdout",
     "output_type": "stream",
     "text": [
      "None\n"
     ]
    },
    {
     "data": {
      "text/markdown": [
       "https://alerce.online/object/ZTF19aamfxft"
      ]
     },
     "metadata": {},
     "output_type": "display_data"
    },
    {
     "name": "stdout",
     "output_type": "stream",
     "text": [
      "None\n"
     ]
    },
    {
     "data": {
      "text/markdown": [
       "https://alerce.online/object/ZTF18abmjprg"
      ]
     },
     "metadata": {},
     "output_type": "display_data"
    },
    {
     "name": "stdout",
     "output_type": "stream",
     "text": [
      "None\n"
     ]
    },
    {
     "data": {
      "text/markdown": [
       "https://alerce.online/object/ZTF21aaabvrz"
      ]
     },
     "metadata": {},
     "output_type": "display_data"
    },
    {
     "name": "stdout",
     "output_type": "stream",
     "text": [
      "None\n"
     ]
    },
    {
     "data": {
      "text/markdown": [
       "https://alerce.online/object/ZTF20acwezdy"
      ]
     },
     "metadata": {},
     "output_type": "display_data"
    },
    {
     "name": "stdout",
     "output_type": "stream",
     "text": [
      "None\n"
     ]
    },
    {
     "data": {
      "text/markdown": [
       "https://alerce.online/object/ZTF19aakltkm"
      ]
     },
     "metadata": {},
     "output_type": "display_data"
    },
    {
     "name": "stdout",
     "output_type": "stream",
     "text": [
      "None\n"
     ]
    },
    {
     "data": {
      "text/markdown": [
       "https://alerce.online/object/ZTF18adaivlw"
      ]
     },
     "metadata": {},
     "output_type": "display_data"
    },
    {
     "name": "stdout",
     "output_type": "stream",
     "text": [
      "None\n"
     ]
    },
    {
     "data": {
      "text/markdown": [
       "https://alerce.online/object/ZTF20abyosmd"
      ]
     },
     "metadata": {},
     "output_type": "display_data"
    },
    {
     "name": "stdout",
     "output_type": "stream",
     "text": [
      "None\n"
     ]
    },
    {
     "data": {
      "text/markdown": [
       "https://alerce.online/object/ZTF18aajcvol"
      ]
     },
     "metadata": {},
     "output_type": "display_data"
    },
    {
     "name": "stdout",
     "output_type": "stream",
     "text": [
      "None\n"
     ]
    },
    {
     "data": {
      "text/markdown": [
       "https://alerce.online/object/ZTF18acujsfl"
      ]
     },
     "metadata": {},
     "output_type": "display_data"
    },
    {
     "name": "stdout",
     "output_type": "stream",
     "text": [
      "None\n"
     ]
    },
    {
     "data": {
      "text/markdown": [
       "https://alerce.online/object/ZTF21aaqwfad"
      ]
     },
     "metadata": {},
     "output_type": "display_data"
    },
    {
     "name": "stdout",
     "output_type": "stream",
     "text": [
      "None\n"
     ]
    },
    {
     "data": {
      "text/markdown": [
       "https://alerce.online/object/ZTF18aarcfoj"
      ]
     },
     "metadata": {},
     "output_type": "display_data"
    },
    {
     "name": "stdout",
     "output_type": "stream",
     "text": [
      "None\n"
     ]
    },
    {
     "data": {
      "text/markdown": [
       "https://alerce.online/object/ZTF21aagtqna"
      ]
     },
     "metadata": {},
     "output_type": "display_data"
    },
    {
     "name": "stdout",
     "output_type": "stream",
     "text": [
      "None\n"
     ]
    },
    {
     "data": {
      "text/markdown": [
       "https://alerce.online/object/ZTF18acszayr"
      ]
     },
     "metadata": {},
     "output_type": "display_data"
    },
    {
     "name": "stdout",
     "output_type": "stream",
     "text": [
      "None\n"
     ]
    },
    {
     "data": {
      "text/markdown": [
       "https://alerce.online/object/ZTF18aamzgzi"
      ]
     },
     "metadata": {},
     "output_type": "display_data"
    },
    {
     "name": "stdout",
     "output_type": "stream",
     "text": [
      "None\n"
     ]
    },
    {
     "data": {
      "text/markdown": [
       "https://alerce.online/object/ZTF17aaazdba"
      ]
     },
     "metadata": {},
     "output_type": "display_data"
    },
    {
     "name": "stdout",
     "output_type": "stream",
     "text": [
      "None\n"
     ]
    },
    {
     "data": {
      "text/markdown": [
       "https://alerce.online/object/ZTF20acohgvg"
      ]
     },
     "metadata": {},
     "output_type": "display_data"
    },
    {
     "name": "stdout",
     "output_type": "stream",
     "text": [
      "None\n"
     ]
    },
    {
     "data": {
      "text/markdown": [
       "https://alerce.online/object/ZTF18abnzlaf"
      ]
     },
     "metadata": {},
     "output_type": "display_data"
    },
    {
     "name": "stdout",
     "output_type": "stream",
     "text": [
      "None\n"
     ]
    },
    {
     "data": {
      "text/markdown": [
       "https://alerce.online/object/ZTF17aabvsex"
      ]
     },
     "metadata": {},
     "output_type": "display_data"
    },
    {
     "name": "stdout",
     "output_type": "stream",
     "text": [
      "None\n"
     ]
    },
    {
     "data": {
      "text/markdown": [
       "https://alerce.online/object/ZTF18abuyayk"
      ]
     },
     "metadata": {},
     "output_type": "display_data"
    },
    {
     "name": "stdout",
     "output_type": "stream",
     "text": [
      "None\n"
     ]
    },
    {
     "data": {
      "text/markdown": [
       "https://alerce.online/object/ZTF18aakroxr"
      ]
     },
     "metadata": {},
     "output_type": "display_data"
    },
    {
     "name": "stdout",
     "output_type": "stream",
     "text": [
      "None\n"
     ]
    },
    {
     "data": {
      "text/markdown": [
       "https://alerce.online/object/ZTF18acrjydf"
      ]
     },
     "metadata": {},
     "output_type": "display_data"
    },
    {
     "name": "stdout",
     "output_type": "stream",
     "text": [
      "None\n"
     ]
    },
    {
     "data": {
      "text/markdown": [
       "https://alerce.online/object/ZTF19aadgjvv"
      ]
     },
     "metadata": {},
     "output_type": "display_data"
    },
    {
     "name": "stdout",
     "output_type": "stream",
     "text": [
      "None\n"
     ]
    },
    {
     "data": {
      "text/markdown": [
       "https://alerce.online/object/ZTF20acpbbqf"
      ]
     },
     "metadata": {},
     "output_type": "display_data"
    },
    {
     "name": "stdout",
     "output_type": "stream",
     "text": [
      "None\n"
     ]
    },
    {
     "data": {
      "text/markdown": [
       "https://alerce.online/object/ZTF18abkbyfj"
      ]
     },
     "metadata": {},
     "output_type": "display_data"
    },
    {
     "name": "stdout",
     "output_type": "stream",
     "text": [
      "None\n"
     ]
    },
    {
     "data": {
      "text/markdown": [
       "https://alerce.online/object/ZTF17aadijjx"
      ]
     },
     "metadata": {},
     "output_type": "display_data"
    },
    {
     "name": "stdout",
     "output_type": "stream",
     "text": [
      "None\n"
     ]
    },
    {
     "data": {
      "text/markdown": [
       "https://alerce.online/object/ZTF18acsxvso"
      ]
     },
     "metadata": {},
     "output_type": "display_data"
    },
    {
     "name": "stdout",
     "output_type": "stream",
     "text": [
      "None\n"
     ]
    },
    {
     "data": {
      "text/markdown": [
       "https://alerce.online/object/ZTF18adianie"
      ]
     },
     "metadata": {},
     "output_type": "display_data"
    },
    {
     "name": "stdout",
     "output_type": "stream",
     "text": [
      "None\n"
     ]
    },
    {
     "data": {
      "text/markdown": [
       "https://alerce.online/object/ZTF18accnimo"
      ]
     },
     "metadata": {},
     "output_type": "display_data"
    },
    {
     "name": "stdout",
     "output_type": "stream",
     "text": [
      "None\n"
     ]
    },
    {
     "data": {
      "text/markdown": [
       "https://alerce.online/object/ZTF20abjonjs"
      ]
     },
     "metadata": {},
     "output_type": "display_data"
    },
    {
     "name": "stdout",
     "output_type": "stream",
     "text": [
      "None\n"
     ]
    },
    {
     "data": {
      "text/markdown": [
       "https://alerce.online/object/ZTF18abuvvvi"
      ]
     },
     "metadata": {},
     "output_type": "display_data"
    },
    {
     "name": "stdout",
     "output_type": "stream",
     "text": [
      "None\n"
     ]
    },
    {
     "data": {
      "text/markdown": [
       "https://alerce.online/object/ZTF18abidsia"
      ]
     },
     "metadata": {},
     "output_type": "display_data"
    },
    {
     "name": "stdout",
     "output_type": "stream",
     "text": [
      "None\n"
     ]
    },
    {
     "data": {
      "text/markdown": [
       "https://alerce.online/object/ZTF20acfvqjl"
      ]
     },
     "metadata": {},
     "output_type": "display_data"
    },
    {
     "name": "stdout",
     "output_type": "stream",
     "text": [
      "None\n"
     ]
    },
    {
     "data": {
      "text/markdown": [
       "https://alerce.online/object/ZTF18acauaah"
      ]
     },
     "metadata": {},
     "output_type": "display_data"
    },
    {
     "name": "stdout",
     "output_type": "stream",
     "text": [
      "None\n"
     ]
    },
    {
     "data": {
      "text/markdown": [
       "https://alerce.online/object/ZTF18acgipnc"
      ]
     },
     "metadata": {},
     "output_type": "display_data"
    },
    {
     "name": "stdout",
     "output_type": "stream",
     "text": [
      "None\n"
     ]
    },
    {
     "data": {
      "text/markdown": [
       "https://alerce.online/object/ZTF20aabbyef"
      ]
     },
     "metadata": {},
     "output_type": "display_data"
    },
    {
     "name": "stdout",
     "output_type": "stream",
     "text": [
      "None\n"
     ]
    },
    {
     "data": {
      "text/markdown": [
       "https://alerce.online/object/ZTF18aaqdozs"
      ]
     },
     "metadata": {},
     "output_type": "display_data"
    },
    {
     "name": "stdout",
     "output_type": "stream",
     "text": [
      "None\n"
     ]
    },
    {
     "data": {
      "text/markdown": [
       "https://alerce.online/object/ZTF21abdrzvg"
      ]
     },
     "metadata": {},
     "output_type": "display_data"
    },
    {
     "name": "stdout",
     "output_type": "stream",
     "text": [
      "None\n"
     ]
    },
    {
     "data": {
      "text/markdown": [
       "https://alerce.online/object/ZTF21aaaollj"
      ]
     },
     "metadata": {},
     "output_type": "display_data"
    },
    {
     "name": "stdout",
     "output_type": "stream",
     "text": [
      "None\n"
     ]
    },
    {
     "data": {
      "text/markdown": [
       "https://alerce.online/object/ZTF18abdkosj"
      ]
     },
     "metadata": {},
     "output_type": "display_data"
    },
    {
     "name": "stdout",
     "output_type": "stream",
     "text": [
      "None\n"
     ]
    },
    {
     "data": {
      "text/markdown": [
       "https://alerce.online/object/ZTF21aabgpfy"
      ]
     },
     "metadata": {},
     "output_type": "display_data"
    },
    {
     "name": "stdout",
     "output_type": "stream",
     "text": [
      "None\n"
     ]
    },
    {
     "data": {
      "text/markdown": [
       "https://alerce.online/object/ZTF19aanjvpi"
      ]
     },
     "metadata": {},
     "output_type": "display_data"
    },
    {
     "name": "stdout",
     "output_type": "stream",
     "text": [
      "None\n"
     ]
    },
    {
     "data": {
      "text/markdown": [
       "https://alerce.online/object/ZTF18abtxonb"
      ]
     },
     "metadata": {},
     "output_type": "display_data"
    },
    {
     "name": "stdout",
     "output_type": "stream",
     "text": [
      "None\n"
     ]
    },
    {
     "data": {
      "text/markdown": [
       "https://alerce.online/object/ZTF18acbvnfp"
      ]
     },
     "metadata": {},
     "output_type": "display_data"
    },
    {
     "name": "stdout",
     "output_type": "stream",
     "text": [
      "None\n"
     ]
    },
    {
     "data": {
      "text/markdown": [
       "https://alerce.online/object/ZTF18abynxzs"
      ]
     },
     "metadata": {},
     "output_type": "display_data"
    },
    {
     "name": "stdout",
     "output_type": "stream",
     "text": [
      "None\n"
     ]
    },
    {
     "data": {
      "text/markdown": [
       "https://alerce.online/object/ZTF21aasfdps"
      ]
     },
     "metadata": {},
     "output_type": "display_data"
    },
    {
     "name": "stdout",
     "output_type": "stream",
     "text": [
      "None\n"
     ]
    },
    {
     "data": {
      "text/markdown": [
       "https://alerce.online/object/ZTF18adbcnfi"
      ]
     },
     "metadata": {},
     "output_type": "display_data"
    },
    {
     "name": "stdout",
     "output_type": "stream",
     "text": [
      "None\n"
     ]
    },
    {
     "data": {
      "text/markdown": [
       "https://alerce.online/object/ZTF20aaudvyx"
      ]
     },
     "metadata": {},
     "output_type": "display_data"
    },
    {
     "name": "stdout",
     "output_type": "stream",
     "text": [
      "None\n"
     ]
    },
    {
     "data": {
      "text/markdown": [
       "https://alerce.online/object/ZTF18abiebxx"
      ]
     },
     "metadata": {},
     "output_type": "display_data"
    },
    {
     "name": "stdout",
     "output_type": "stream",
     "text": [
      "None\n"
     ]
    }
   ],
   "source": [
    "# 10 largest distances objs \n",
    "for ztfid in list(ann_dist_all_df[dist_col].nlargest(100).index):\n",
    "    alerce_link = display_markdown(f'https://alerce.online/object/{ztfid}', raw=True)\n",
    "    print(alerce_link)"
   ]
  },
  {
   "cell_type": "code",
   "execution_count": 192,
   "id": "d736599e",
   "metadata": {},
   "outputs": [
    {
     "data": {
      "image/png": "[encoded data removed]",
      "text/plain": [
       "<Figure size 432x288 with 1 Axes>"
      ]
     },
     "metadata": {
      "needs_background": "light"
     },
     "output_type": "display_data"
    }
   ],
   "source": [
    "# 10 largest mean 9 ANN distances distances (most different)\n",
    "plt.hist(ann_dist_all_df[dist_col], \n",
    "         bins=np.linspace(np.min(ann_dist_all_df[dist_col]), \n",
    "                          np.max(ann_dist_all_df[dist_col]), 31), density=False);\n",
    "plt.xlabel(dist_col+' Distance');\n",
    "#plt.yscale('log')\n",
    "plt.title(f'{len(ann_dist_all_df)} Unique ZTF Object Ids');"
   ]
  },
  {
   "cell_type": "code",
   "execution_count": 193,
   "id": "a166549b",
   "metadata": {},
   "outputs": [
    {
     "name": "stdout",
     "output_type": "stream",
     "text": [
      "summary stats\n",
      "Scatter mean: 0.8194198384036919\n",
      "Scatter median: 0.8093058026649735\n",
      "Scatter std: 0.15645165233397254\n",
      "Scatter max: 2.1790918572382494\n",
      "Scatter min: 0.44726135751063173\n",
      "\n",
      "\n",
      "Most anomalous: ZTF18abvbbvs\n"
     ]
    }
   ],
   "source": [
    "print(\"summary stats\")\n",
    "print(\"Scatter mean:\", np.mean(ann_dist_all_df[dist_col]))\n",
    "print(\"Scatter median:\", np.median(ann_dist_all_df[dist_col]))\n",
    "print(\"Scatter std:\", np.std(ann_dist_all_df[dist_col]))\n",
    "print(\"Scatter max:\", np.max(ann_dist_all_df[dist_col]))\n",
    "print(\"Scatter min:\", np.min(ann_dist_all_df[dist_col]))\n",
    "print(\"\\n\")\n",
    "\n",
    "#Returns index of distance\n",
    "print(\"Most anomalous:\", ann_dist_all_df[[dist_col]].idxmax().values[0])"
   ]
  },
  {
   "cell_type": "code",
   "execution_count": null,
   "id": "7efe03ed",
   "metadata": {},
   "outputs": [],
   "source": []
  },
  {
   "cell_type": "code",
   "execution_count": null,
   "id": "f80a60f9",
   "metadata": {},
   "outputs": [],
   "source": []
  },
  {
   "cell_type": "markdown",
   "id": "2cfdb715",
   "metadata": {},
   "source": [
    "# Smallest\n",
    "\n",
    "### AGN/QSOs have smallest dist"
   ]
  },
  {
   "cell_type": "code",
   "execution_count": 156,
   "id": "24243e51",
   "metadata": {},
   "outputs": [
    {
     "data": {
      "text/plain": [
       "key_0\n",
       "ZTF18aaxsntq    0.447261\n",
       "ZTF20abgtxja    0.464481\n",
       "ZTF20ablklbb    0.477008\n",
       "ZTF20actvmqi    0.483384\n",
       "ZTF20aavxwwm    0.487119\n",
       "ZTF19acihiav    0.489048\n",
       "ZTF20aaozxfk    0.492042\n",
       "ZTF18aafkisa    0.493099\n",
       "ZTF19acthktz    0.493422\n",
       "ZTF19aaapksi    0.495531\n",
       "Name: WeightedMean_9ANNs, dtype: float64"
      ]
     },
     "execution_count": 156,
     "metadata": {},
     "output_type": "execute_result"
    }
   ],
   "source": [
    "ann_dist_all_df[dist_col].nsmallest(10)"
   ]
  },
  {
   "cell_type": "code",
   "execution_count": 157,
   "id": "ed987904",
   "metadata": {},
   "outputs": [
    {
     "data": {
      "text/markdown": [
       "https://alerce.online/object/ZTF18aaxsntq"
      ]
     },
     "metadata": {},
     "output_type": "display_data"
    },
    {
     "name": "stdout",
     "output_type": "stream",
     "text": [
      "None\n"
     ]
    },
    {
     "data": {
      "text/markdown": [
       "https://alerce.online/object/ZTF20abgtxja"
      ]
     },
     "metadata": {},
     "output_type": "display_data"
    },
    {
     "name": "stdout",
     "output_type": "stream",
     "text": [
      "None\n"
     ]
    },
    {
     "data": {
      "text/markdown": [
       "https://alerce.online/object/ZTF20ablklbb"
      ]
     },
     "metadata": {},
     "output_type": "display_data"
    },
    {
     "name": "stdout",
     "output_type": "stream",
     "text": [
      "None\n"
     ]
    },
    {
     "data": {
      "text/markdown": [
       "https://alerce.online/object/ZTF20actvmqi"
      ]
     },
     "metadata": {},
     "output_type": "display_data"
    },
    {
     "name": "stdout",
     "output_type": "stream",
     "text": [
      "None\n"
     ]
    },
    {
     "data": {
      "text/markdown": [
       "https://alerce.online/object/ZTF20aavxwwm"
      ]
     },
     "metadata": {},
     "output_type": "display_data"
    },
    {
     "name": "stdout",
     "output_type": "stream",
     "text": [
      "None\n"
     ]
    },
    {
     "data": {
      "text/markdown": [
       "https://alerce.online/object/ZTF19acihiav"
      ]
     },
     "metadata": {},
     "output_type": "display_data"
    },
    {
     "name": "stdout",
     "output_type": "stream",
     "text": [
      "None\n"
     ]
    },
    {
     "data": {
      "text/markdown": [
       "https://alerce.online/object/ZTF20aaozxfk"
      ]
     },
     "metadata": {},
     "output_type": "display_data"
    },
    {
     "name": "stdout",
     "output_type": "stream",
     "text": [
      "None\n"
     ]
    },
    {
     "data": {
      "text/markdown": [
       "https://alerce.online/object/ZTF18aafkisa"
      ]
     },
     "metadata": {},
     "output_type": "display_data"
    },
    {
     "name": "stdout",
     "output_type": "stream",
     "text": [
      "None\n"
     ]
    },
    {
     "data": {
      "text/markdown": [
       "https://alerce.online/object/ZTF19acthktz"
      ]
     },
     "metadata": {},
     "output_type": "display_data"
    },
    {
     "name": "stdout",
     "output_type": "stream",
     "text": [
      "None\n"
     ]
    },
    {
     "data": {
      "text/markdown": [
       "https://alerce.online/object/ZTF19aaapksi"
      ]
     },
     "metadata": {},
     "output_type": "display_data"
    },
    {
     "name": "stdout",
     "output_type": "stream",
     "text": [
      "None\n"
     ]
    }
   ],
   "source": [
    "# 10 smallest  distances (most similar)\n",
    "for ztfid in list(ann_dist_all_df[dist_col].nsmallest(10).index):\n",
    "    alerce_link = display_markdown(f'https://alerce.online/object/{ztfid}', raw=True)\n",
    "    print(alerce_link)"
   ]
  },
  {
   "cell_type": "code",
   "execution_count": 158,
   "id": "3975ffec",
   "metadata": {},
   "outputs": [
    {
     "name": "stdout",
     "output_type": "stream",
     "text": [
      "[-0.28191099449885043 0.1997781528483442 0.3301173049244767\n",
      " -0.03589630535302615 0.8530689595363097 -0.06568300323676796\n",
      " 0.23802059745752255 0.0455919105565597 -0.07871161793944403\n",
      " 0.5377488211670385 -0.14115895686208588 -0.2807128826390712\n",
      " 0.05874433335528011 -0.05599270086406793 -0.034948406078795013\n",
      " 0.1572489016317714 0.01436131870810548 0.0818222600177367\n",
      " 0.026601489725767632 0.15949566700305534 -0.0524796421878041\n",
      " 0.06316953291367658 -0.006280134941097688 -0.1546435988568619\n",
      " -0.03533373014706932]\n",
      "ZTF ID name (ref) ZTF18aaxsntq\n"
     ]
    },
    {
     "data": {
      "text/markdown": [
       "https://alerce.online/object/ZTF18aaxsntq"
      ]
     },
     "metadata": {},
     "output_type": "display_data"
    },
    {
     "name": "stdout",
     "output_type": "stream",
     "text": [
      "None\n",
      "%%%%%%\n",
      "ANN\t\tIDX\t\t\t\tZTF_id\t\t\t\tDIST\n"
     ]
    },
    {
     "data": {
      "text/markdown": [
       "https://alerce.online/object/ZTF18aaxsntq"
      ]
     },
     "metadata": {},
     "output_type": "display_data"
    },
    {
     "name": "stdout",
     "output_type": "stream",
     "text": [
      "0\t\t4421\t\t\t\tNone\t\t\t0.0\n"
     ]
    },
    {
     "data": {
      "text/markdown": [
       "https://alerce.online/object/ZTF18acbzwmk"
      ]
     },
     "metadata": {},
     "output_type": "display_data"
    },
    {
     "name": "stdout",
     "output_type": "stream",
     "text": [
      "1\t\t737\t\t\t\tNone\t\t\t0.3513\n"
     ]
    },
    {
     "data": {
      "text/markdown": [
       "https://alerce.online/object/ZTF19abegsmi"
      ]
     },
     "metadata": {},
     "output_type": "display_data"
    },
    {
     "name": "stdout",
     "output_type": "stream",
     "text": [
      "2\t\t1474\t\t\t\tNone\t\t\t0.4204\n"
     ]
    },
    {
     "data": {
      "text/markdown": [
       "https://alerce.online/object/ZTF19aalfali"
      ]
     },
     "metadata": {},
     "output_type": "display_data"
    },
    {
     "name": "stdout",
     "output_type": "stream",
     "text": [
      "3\t\t2793\t\t\t\tNone\t\t\t0.4894\n"
     ]
    },
    {
     "data": {
      "text/markdown": [
       "https://alerce.online/object/ZTF19acokqnb"
      ]
     },
     "metadata": {},
     "output_type": "display_data"
    },
    {
     "name": "stdout",
     "output_type": "stream",
     "text": [
      "4\t\t4196\t\t\t\tNone\t\t\t0.5367\n"
     ]
    },
    {
     "data": {
      "text/markdown": [
       "https://alerce.online/object/ZTF20aadxsro"
      ]
     },
     "metadata": {},
     "output_type": "display_data"
    },
    {
     "name": "stdout",
     "output_type": "stream",
     "text": [
      "5\t\t478\t\t\t\tNone\t\t\t0.6501\n"
     ]
    },
    {
     "data": {
      "text/markdown": [
       "https://alerce.online/object/ZTF19abjaeae"
      ]
     },
     "metadata": {},
     "output_type": "display_data"
    },
    {
     "name": "stdout",
     "output_type": "stream",
     "text": [
      "6\t\t4512\t\t\t\tNone\t\t\t0.6593\n"
     ]
    },
    {
     "data": {
      "text/markdown": [
       "https://alerce.online/object/ZTF19abhendr"
      ]
     },
     "metadata": {},
     "output_type": "display_data"
    },
    {
     "name": "stdout",
     "output_type": "stream",
     "text": [
      "7\t\t507\t\t\t\tNone\t\t\t0.6675\n"
     ]
    },
    {
     "data": {
      "text/markdown": [
       "https://alerce.online/object/ZTF18abuoilc"
      ]
     },
     "metadata": {},
     "output_type": "display_data"
    },
    {
     "name": "stdout",
     "output_type": "stream",
     "text": [
      "8\t\t2577\t\t\t\tNone\t\t\t0.6825\n"
     ]
    },
    {
     "data": {
      "text/markdown": [
       "https://alerce.online/object/ZTF18aaudlsu"
      ]
     },
     "metadata": {},
     "output_type": "display_data"
    },
    {
     "name": "stdout",
     "output_type": "stream",
     "text": [
      "9\t\t576\t\t\t\tNone\t\t\t0.6839\n"
     ]
    }
   ],
   "source": [
    "dataset_ref = dataset_bank[dataset_bank.index == list(ann_dist_all_df[dist_col].nsmallest(10).index)[0]]\n",
    "\n",
    "# feat_arr_ref = np.vstack(np.array(dataset_ref, dtype='object'))\n",
    "# scaled_feat_arr_ref = scaler.transform(feat_arr_ref) #scaler.transform(feat_arr) # What your model learns on\n",
    "# #scaled_feat_arr_ref = scaler.fit_transform(feat_arr_ref) #scaler.transform(feat_arr) # What your model learns on\n",
    "\n",
    "# # Scalar then PCA\n",
    "# scaled_feat_arr_ref = np.array(dataset_ref)\n",
    "\n",
    "# PCA only\n",
    "feat_arr_ref = np.vstack(np.array(dataset_ref, dtype='object'))\n",
    "scaled_feat_arr_ref = feat_arr_ref\n",
    "\n",
    "# #PCA then scaler\n",
    "# feat_arr_ref = np.vstack(np.array(dataset_ref, dtype='object'))\n",
    "# scaled_feat_arr_ref = feat_arr_ref\n",
    "\n",
    "\n",
    "snid = dataset_ref.index.values[0]\n",
    "lcdata = {'name': snid, 'vector': scaled_feat_arr_ref[0]}\n",
    "#lcdata = {'name': ztf_id, 'vector': feat_arr_scaled[-5:-4][0]}\n",
    "print(lcdata['vector'])\n",
    "\n",
    "#result_id, result_dist = index.index.get_nns_by_item(, n=10, include_distances=True)\n",
    "result_id, result_dist = index.index.get_nns_by_vector(lcdata['vector'], n=10, include_distances=True)\n",
    "#result_name = index.query(lcdata['vector'])\n",
    "\n",
    "print(f\"ZTF ID name (ref) {snid}\") \n",
    "link_ref = display_markdown(f'https://alerce.online/object/{snid}', raw=True)\n",
    "print(link_ref)\n",
    "print(\"%%%%%%\")\n",
    "print(\"ANN\\t\\tIDX\\t\\t\\t\\tZTF_id\\t\\t\\t\\tDIST\")#\\tFEAT\")\n",
    "for n, (i, d) in enumerate(zip(result_id, result_dist)):#, feat_arr):\n",
    "    print(f\"{n}\\t\\t{i}\\t\\t\\t\\t{display_markdown(f'https://alerce.online/object/{idx_arr[i]}', raw=True)}\\t\\t\\t{round(d, 4)}\")#\\t{f}\")"
   ]
  },
  {
   "cell_type": "code",
   "execution_count": null,
   "id": "d765b6a3",
   "metadata": {},
   "outputs": [],
   "source": []
  },
  {
   "cell_type": "code",
   "execution_count": 28,
   "id": "17b88f59",
   "metadata": {},
   "outputs": [],
   "source": [
    "# dist ANN=1 and mean of first 9 ANN are roughly same (SN, CV, Mira, etc). \n",
    "# Not as many SN (but otherwise similar as above) in weighted (fibonacci) average of first 9 ANN.\n",
    "# Separation will come down to host gal info"
   ]
  },
  {
   "cell_type": "markdown",
   "id": "51d21e85",
   "metadata": {},
   "source": [
    "MaxAbsScaler, Euclidean, Ia\n",
    "\n",
    "NON PCA\n",
    "Scatter mean: 0.10822062189269697\n",
    "Scatter median: 0.08390001702324312\n",
    "Scatter std: 0.09273033952967297\n",
    "Scatter max: 0.3615067063860504\n",
    "Scatter min: 0.0\n",
    "\n",
    "PCA\n",
    "Scatter mean: 0.22748059656595504\n",
    "Scatter median: 0.23485067052158148\n",
    "Scatter std: 0.08590310140277316\n",
    "Scatter max: 0.3552833440373228\n",
    "Scatter min: 0.013447031738069838"
   ]
  },
  {
   "cell_type": "markdown",
   "id": "60f4fb5b",
   "metadata": {},
   "source": [
    "MaxAbsScaler, Euclidean, SLSN\n",
    "\n",
    "Scatter mean: 0.1882023265906344\n",
    "Scatter median: 0.14632144856515017\n",
    "Scatter std: 0.1839875260098897\n",
    "Scatter max: 1.046586348913336\n",
    "Scatter min: 0.006225538066605167"
   ]
  },
  {
   "cell_type": "markdown",
   "id": "19a21ecd",
   "metadata": {},
   "source": [
    "MaxAbsScaler, Euclidean, junk\n",
    "\n",
    "Scatter mean: 0.18480675721201786\n",
    "Scatter median: 0.14364864210180578\n",
    "Scatter std: 0.208412667064402\n",
    "Scatter max: 1.2017613918543555\n",
    "Scatter min: 0.002740342445819787"
   ]
  },
  {
   "cell_type": "code",
   "execution_count": null,
   "id": "ac80119c",
   "metadata": {},
   "outputs": [],
   "source": []
  }
 ],
 "metadata": {
  "kernelspec": {
   "display_name": "laiss",
   "language": "python",
   "name": "laiss"
  },
  "language_info": {
   "codemirror_mode": {
    "name": "ipython",
    "version": 3
   },
   "file_extension": ".py",
   "mimetype": "text/x-python",
   "name": "python",
   "nbconvert_exporter": "python",
   "pygments_lexer": "ipython3",
   "version": "3.8.8"
  }
 },
 "nbformat": 4,
 "nbformat_minor": 5
}
