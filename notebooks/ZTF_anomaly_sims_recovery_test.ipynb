{
 "cells": [
  {
   "cell_type": "code",
   "execution_count": 1,
   "id": "4b8dcaa6",
   "metadata": {},
   "outputs": [],
   "source": [
    "# import necessary packages\n",
    "import time\n",
    "import datetime\n",
    "\n",
    "import math\n",
    "import numpy as np\n",
    "import pandas as pd\n",
    "import pickle\n",
    "\n",
    "from sklearn import preprocessing\n",
    "from sklearn.preprocessing import StandardScaler\n",
    "from sklearn.decomposition import PCA\n",
    "from sklearn.metrics import confusion_matrix, ConfusionMatrixDisplay\n",
    "\n",
    "import matplotlib\n",
    "from matplotlib.transforms import Bbox\n",
    "import matplotlib.pyplot as plt\n",
    "from matplotlib.backends.backend_pdf import PdfPages\n",
    "\n",
    "\n",
    "import light_curve as lc\n",
    "from itertools import chain\n",
    "\n",
    "import os\n",
    "import sys\n",
    "import shutil\n",
    "import glob\n",
    "import json\n",
    "\n",
    "import warnings\n",
    "warnings.filterwarnings(\"ignore\")\n",
    "\n",
    "plt.style.use('fig_publication.mplstyle')"
   ]
  },
  {
   "cell_type": "code",
   "execution_count": 2,
   "id": "1f77ca5c",
   "metadata": {},
   "outputs": [],
   "source": [
    "\n",
    "\n",
    "# Specify the path to your JSON file\n",
    "json_file_path = 'ZTF_sims_from_Alex/ZTFAnomalies_FORPALEO.json'\n",
    "\n",
    "# Open the JSON file for reading\n",
    "with open(json_file_path, 'r', encoding='utf-8') as json_file:\n",
    "    # Initialize an empty list to store parsed data\n",
    "    data_list = []\n",
    "\n",
    "    # Iterate over the lines in the file to read and parse each JSON object\n",
    "    for line in json_file:\n",
    "        try:\n",
    "            # Load and parse the JSON object from the current line\n",
    "            data = json.loads(line)\n",
    "            \n",
    "            # Append the parsed data to the list\n",
    "            data_list.append(data)\n",
    "        except json.JSONDecodeError as e:\n",
    "            print(f\"Error parsing JSON: {str(e)}\")\n",
    "            continue\n",
    "\n",
    "# Now, 'data_list' contains all the parsed data from the JSON file\n"
   ]
  },
  {
   "cell_type": "code",
   "execution_count": 3,
   "id": "99fe62e6",
   "metadata": {},
   "outputs": [
    {
     "name": "stdout",
     "output_type": "stream",
     "text": [
      "{'MJD', 'HOSTGAL_MAGERR_i', 'HOSTGAL_MAG_z', 'MAGERR', 'HOSTGAL_PHOTOZ', 'SIM_HOSTLIB_GALID', 'HOSTGAL_MAG_i', 'Filter', 'HOSTGAL_MAGERR_r', 'MJD_TRIGGER', 'Type', 'MWEBV', 'HOSTGAL_MAG_r', 'REDSHIFT_HELIO', 'Flux_Err', 'HOSTGAL_MAGERR_g', 'MAG', 'HOSTGAL_PHOTOZ_ERR', 'HOSTGAL_MAGERR_z', 'HOSTGAL_MAG_g', 'HOSTGAL_DDLR', 'Flux'}\n"
     ]
    }
   ],
   "source": [
    "# Assuming 'data_list' contains your parsed JSON data\n",
    "\n",
    "# Initialize an empty set to store unique keys\n",
    "all_keys = set()\n",
    "\n",
    "# Iterate through the parsed data\n",
    "for item in data_list:\n",
    "    # Check if the item is a dictionary (JSON object)\n",
    "    if isinstance(item, dict):\n",
    "        # Update the set of keys with the keys from this dictionary\n",
    "        all_keys.update(item.keys())\n",
    "\n",
    "# Now, 'all_keys' contains all the unique keys present in your JSON data\n",
    "print(all_keys)\n"
   ]
  },
  {
   "cell_type": "markdown",
   "id": "5d737963",
   "metadata": {},
   "source": [
    "Counter({'PISN-STELLA_HYDROGENIC': 978,\n",
    "         'TDE': 985,\n",
    "         'KN_B19': 2,\n",
    "         'SNIIn-MOSFIT': 242,\n",
    "         'SNIa-91bg': 1023,\n",
    "         'SNIax': 239,\n",
    "         'SNIIn+HostXT': 1774,\n",
    "         'SNII': 2330,\n",
    "         'CART': 90,\n",
    "         'PISN-STELLA_HECORE': 595,\n",
    "         'SLSNI': 4166,\n",
    "         'PISN-MOSFIT': 4152,\n",
    "         'SNIb': 989,\n",
    "         'SNIa': 3530,\n",
    "         'SNIcBL+HostXT_V19': 1145,\n",
    "         'SNIc': 2532,\n",
    "         'ILOT': 1})"
   ]
  },
  {
   "cell_type": "code",
   "execution_count": 4,
   "id": "4f788b26",
   "metadata": {},
   "outputs": [
    {
     "data": {
      "text/plain": [
       "array(['CART', 'ILOT', 'KN_B19', 'PISN-MOSFIT', 'PISN-STELLA_HECORE',\n",
       "       'PISN-STELLA_HYDROGENIC', 'SLSNI', 'SNII', 'SNIIn+HostXT',\n",
       "       'SNIIn-MOSFIT', 'SNIa', 'SNIa-91bg', 'SNIax', 'SNIb', 'SNIc',\n",
       "       'SNIcBL+HostXT_V19', 'TDE'], dtype='<U22')"
      ]
     },
     "execution_count": 4,
     "metadata": {},
     "output_type": "execute_result"
    }
   ],
   "source": [
    "uniq_cls_l = np.unique(list(data['Type'].values()))\n",
    "uniq_cls_l"
   ]
  },
  {
   "cell_type": "code",
   "execution_count": 6,
   "id": "e141667c",
   "metadata": {},
   "outputs": [
    {
     "name": "stdout",
     "output_type": "stream",
     "text": [
      "HOSTGAL_MAGERR_g 0.0386699997\n",
      "Filter ['R', 'R', 'R', 'R', 'R', 'R', 'R']\n",
      "MAGERR [0.2223860174, 0.2174099684, 0.2562327981, 0.2394263595, 0.1758701801, 0.2411061674, 0.2392552644]\n",
      "HOSTGAL_MAG_i 18.8571529388\n",
      "Flux_Err [67.3087234497, 59.2400436401, 64.4442520142, 56.8590278625, 56.1659088135, 54.0352592468, 54.3738861084]\n",
      "HOSTGAL_MAG_g 20.0341472626\n",
      "MJD [59113.279, 59116.363, 59118.286, 59134.299, 59136.198, 59140.249, 59143.215]\n",
      "MAG [21.2083148956, 21.322385788, 21.4093513489, 21.4716567993, 21.1500244141, 21.5345535278, 21.5194034576]\n",
      "HOSTGAL_PHOTOZ 0.0960194245\n",
      "MWEBV 0.0252612364\n",
      "REDSHIFT_HELIO 0.0524141677\n",
      "HOSTGAL_PHOTOZ_ERR 0.3023099899\n",
      "HOSTGAL_MAGERR_z 0.0304799993\n",
      "Flux [328.6046447754, 295.8324279785, 273.060760498, 257.8323059082, 346.7292175293, 243.3205413818, 246.7395172119]\n",
      "HOSTGAL_DDLR 1.7982153893\n",
      "MJD_TRIGGER 59113.27734375\n",
      "Type ILOT\n",
      "SIM_HOSTLIB_GALID 8000041670\n",
      "HOSTGAL_MAG_r 19.1736793518\n",
      "HOSTGAL_MAG_z 18.7136802673\n",
      "HOSTGAL_MAGERR_i 0.0225699991\n",
      "HOSTGAL_MAGERR_r 0.0217700005\n"
     ]
    }
   ],
   "source": [
    "uniq_cls_l = ['CART', 'ILOT', 'KN_B19', 'PISN-MOSFIT', 'PISN-STELLA_HECORE',\n",
    "       'PISN-STELLA_HYDROGENIC', 'SLSNI', 'SNII', 'SNIIn+HostXT',\n",
    "       'SNIIn-MOSFIT', 'SNIa', 'SNIa-91bg', 'SNIax', 'SNIb', 'SNIc',\n",
    "       'SNIcBL+HostXT_V19', 'TDE']\n",
    "uniq_key_l = ['HOSTGAL_MAGERR_g', 'Filter', 'MAGERR', 'HOSTGAL_MAG_i', 'Flux_Err', \n",
    "'HOSTGAL_MAG_g', 'MJD', 'MAG', 'HOSTGAL_PHOTOZ', 'MWEBV', 'REDSHIFT_HELIO', \n",
    "'HOSTGAL_PHOTOZ_ERR', 'HOSTGAL_MAGERR_z', 'Flux', 'HOSTGAL_DDLR', 'MJD_TRIGGER', \n",
    "'Type', 'SIM_HOSTLIB_GALID', 'HOSTGAL_MAG_r', 'HOSTGAL_MAG_z', 'HOSTGAL_MAGERR_i', 'HOSTGAL_MAGERR_r']\n",
    "\n",
    "for k, v in data.items():\n",
    "    if k == 'Type':\n",
    "        for k2, v2 in v.items():\n",
    "            for cls in uniq_cls_l[1:2]:\n",
    "                if v2 == cls:\n",
    "                    for key in uniq_key_l:\n",
    "                        print(key, data[key].get(k2))"
   ]
  },
  {
   "cell_type": "code",
   "execution_count": null,
   "id": "1462b84c",
   "metadata": {},
   "outputs": [],
   "source": []
  },
  {
   "cell_type": "code",
   "execution_count": null,
   "id": "3ad8d229",
   "metadata": {},
   "outputs": [],
   "source": []
  },
  {
   "cell_type": "code",
   "execution_count": null,
   "id": "0968778e",
   "metadata": {},
   "outputs": [],
   "source": []
  }
 ],
 "metadata": {
  "kernelspec": {
   "display_name": "laiss",
   "language": "python",
   "name": "laiss"
  },
  "language_info": {
   "codemirror_mode": {
    "name": "ipython",
    "version": 3
   },
   "file_extension": ".py",
   "mimetype": "text/x-python",
   "name": "python",
   "nbconvert_exporter": "python",
   "pygments_lexer": "ipython3",
   "version": "3.8.8"
  }
 },
 "nbformat": 4,
 "nbformat_minor": 5
}
